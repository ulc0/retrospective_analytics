{
 "cells": [
  {
   "cell_type": "code",
   "execution_count": 0,
   "metadata": {
    "application/vnd.databricks.v1+cell": {
     "cellMetadata": {
      "byteLimit": 10485760,
      "rowLimit": 1000
     },
     "inputWidgets": {},
     "nuid": "e98ae092-2424-4165-95d0-45e7a81f42f2",
     "showTitle": false,
     "tableResultSettingsMap": {},
     "title": ""
    }
   },
   "outputs": [],
   "source": [
    "select * from edav_prd_cdh.information_schema.columns s left anti join edav_prd_cdh.cdh_engineering_etl.product_analytics_cube u \n",
    "on s.table_schema=u.table_schema and s.table_name=u.table_name and s.column_name=u.column_name\n",
    "where table_schema in ('cdh_truveta','cdh_premier_v2')\n",
    "order by s.table_schema,s.table_name,s.ordinal_position"
   ]
  }
 ],
 "metadata": {
  "application/vnd.databricks.v1+notebook": {
   "computePreferences": null,
   "dashboards": [],
   "environmentMetadata": null,
   "inputWidgetPreferences": null,
   "language": "sql",
   "notebookMetadata": {
    "pythonIndentUnit": 4,
    "sqlQueryOptions": {
     "applyAutoLimit": true,
     "catalog": "edav_prd_cdh",
     "schema": "cdh_engineering_etl"
    }
   },
   "notebookName": "unused_columns_in_scope.dbquery.ipynb",
   "widgets": {}
  },
  "language_info": {
   "name": "sql"
  }
 },
 "nbformat": 4,
 "nbformat_minor": 0
}
