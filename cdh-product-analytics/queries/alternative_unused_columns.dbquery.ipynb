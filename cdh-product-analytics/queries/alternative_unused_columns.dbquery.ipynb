{
 "cells": [
  {
   "cell_type": "code",
   "execution_count": 0,
   "metadata": {
    "application/vnd.databricks.v1+cell": {
     "cellMetadata": {},
     "inputWidgets": {},
     "nuid": "e719ce74-8cc5-4cc9-9eb6-1436e80fb03c",
     "showTitle": false,
     "tableResultSettingsMap": {},
     "title": ""
    }
   },
   "outputs": [],
   "source": [
    "select\n",
    "  u.notebookid,\n",
    "  u.service_name,\n",
    "  u.clusterid,\n",
    "  u.email,\n",
    "--  concat(s.table_schema,'.',s.table_name) as datatable,\n",
    "  max(u.event_time) as most_recent_use,\n",
    "  count(distinct s.column_name) as column_count,\n",
    "  column_count - count(distinct s.column_name) as count_unused,\n",
    "  if(column_count=count_unused,True,False) as table_unused,\n",
    "  round(count_unused/column_count*100,1) as percent_unused,\n",
    "  array_intersect(u.columns, collect_set(column_name) ) as unused_columns,\n",
    "  collect_set(s.column_full_name) as all_columns\n",
    "from\n",
    " edav_prd_cdh.cdh_engineering_etl.product_analytics_cube_collected_columns u\n",
    " left join edav_prd_cdh.cdh_engineering_etl.product_analytics_schemas_lineage s\n",
    " on s.notebookid=u.notebookid --and\n",
    "-- s.table_name=u.table_name\n",
    "--where table_schema in\n",
    "--  ('cdh_truveta','cdh_truveta_lava',\n",
    "--  'cdh_premier_lava_dev', 'cdh_premier_v2',\n",
    "--  'cdh_premier_lava','cdh_premier_lava_dev')\n",
    "group by\n",
    "  u.notebookid,\n",
    "  u.service_name,\n",
    "  u.clusterid,\n",
    "  u.email,\n",
    "  u.columns,\n",
    "  column_count\n",
    "--  s.table_schema,\n",
    "--  s.table_name\n",
    "order by\n",
    "  count_unused desc --  ) x"
   ]
  }
 ],
 "metadata": {
  "application/vnd.databricks.v1+notebook": {
   "computePreferences": null,
   "dashboards": [],
   "environmentMetadata": null,
   "inputWidgetPreferences": null,
   "language": "sql",
   "notebookMetadata": {
    "sqlQueryOptions": {
     "applyAutoLimit": true,
     "catalog": "hive_metastore",
     "schema": "default"
    }
   },
   "notebookName": "alternative_unused_columns.dbquery.ipynb",
   "widgets": {}
  },
  "language_info": {
   "name": "sql"
  }
 },
 "nbformat": 4,
 "nbformat_minor": 0
}
