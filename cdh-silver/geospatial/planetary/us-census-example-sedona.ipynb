{
 "cells": [
  {
   "cell_type": "markdown",
   "metadata": {
    "application/vnd.databricks.v1+cell": {
     "cellMetadata": {
      "byteLimit": 2048000,
      "rowLimit": 10000
     },
     "inputWidgets": {},
     "nuid": "08752b25-3960-4d6f-b1f1-3653707fa78d",
     "showTitle": false,
     "title": ""
    }
   },
   "source": [
    "https://raw.githubusercontent.com/microsoft/PlanetaryComputerExamples/main/datasets/us-census/us-census-example.ipynb"
   ]
  },
  {
   "cell_type": "code",
   "execution_count": 0,
   "metadata": {
    "application/vnd.databricks.v1+cell": {
     "cellMetadata": {
      "byteLimit": 2048000,
      "rowLimit": 10000
     },
     "inputWidgets": {},
     "nuid": "dc892908-7069-45a8-975a-8a34bb0896ff",
     "showTitle": false,
     "title": ""
    }
   },
   "outputs": [],
   "source": [
    "%pip install adlfs \n",
    "%pip install planetary_computer\n",
    "%pip install pystac_client\n",
    "\n"
   ]
  },
  {
   "cell_type": "code",
   "execution_count": 0,
   "metadata": {
    "application/vnd.databricks.v1+cell": {
     "cellMetadata": {
      "byteLimit": 2048000,
      "rowLimit": 10000
     },
     "inputWidgets": {},
     "nuid": "5e946473-8c73-4fb3-8369-6a1aea8a7e58",
     "showTitle": false,
     "title": ""
    }
   },
   "outputs": [],
   "source": [
    "%pip freeze"
   ]
  },
  {
   "cell_type": "code",
   "execution_count": 0,
   "metadata": {
    "application/vnd.databricks.v1+cell": {
     "cellMetadata": {
      "byteLimit": 2048000,
      "rowLimit": 10000
     },
     "inputWidgets": {},
     "nuid": "0d3e51c5-b6cd-4ddb-a9ac-c5fbe8866225",
     "showTitle": false,
     "title": ""
    }
   },
   "outputs": [],
   "source": [
    "#%pip install databricks-mosaic\n",
    "%pip install geopandas\n",
    "%pip install dask_geopandas\n",
    "#%pip install sedona \n",
    "%pip install contextily\n",
    "%pip install seaborn\n"
   ]
  },
  {
   "cell_type": "code",
   "execution_count": 0,
   "metadata": {
    "application/vnd.databricks.v1+cell": {
     "cellMetadata": {
      "byteLimit": 2048000,
      "rowLimit": 10000
     },
     "inputWidgets": {},
     "nuid": "ee6ec2e2-6a4d-409e-84c0-e406b42ff97b",
     "showTitle": false,
     "title": ""
    }
   },
   "outputs": [],
   "source": [
    "%pip freeze"
   ]
  },
  {
   "cell_type": "markdown",
   "metadata": {
    "application/vnd.databricks.v1+cell": {
     "cellMetadata": {
      "byteLimit": 2048000,
      "rowLimit": 10000
     },
     "inputWidgets": {},
     "nuid": "5c2cafb4-e10f-45ce-baac-037694e48e10",
     "showTitle": false,
     "title": ""
    }
   },
   "source": [
    "## Accessing US Census data with the Planetary Computer STAC API\n",
    "\n",
    "The [US Census](https://planetarycomputer.microsoft.com/dataset/us-census) concept_set provides information on population, demographics, and administrative boundaries at various levels of cartographic aggregation for the United States. It consists of many tabular datasets, one for each level of cartographic aggregation, each stored in [Apache Parquet](https://parquet.apache.org/) format. In this notebook, we'll use [geopandas](https://geopandas.org/) and dask-geopandas to read the files, which will preserve the `geometry` column with administrative boundaries."
   ]
  },
  {
   "cell_type": "code",
   "execution_count": 0,
   "metadata": {
    "application/vnd.databricks.v1+cell": {
     "cellMetadata": {
      "byteLimit": 2048000,
      "rowLimit": 10000
     },
     "inputWidgets": {},
     "nuid": "d0c35efd-a059-4356-8a86-a0283aacdf5c",
     "showTitle": false,
     "title": ""
    }
   },
   "outputs": [],
   "source": [
    "import geopandas\n",
    "import dask_geopandas\n",
    "#import mosaic as mos\n",
    "#mos.enable_mosaic(spark, dbutils)\n",
    "\n",
    "from sedona import *\n",
    "\n",
    "import contextily as ctx\n",
    "import seaborn as sns\n",
    "import planetary_computer\n",
    "import pystac_client"
   ]
  },
  {
   "cell_type": "markdown",
   "metadata": {
    "application/vnd.databricks.v1+cell": {
     "cellMetadata": {
      "byteLimit": 2048000,
      "rowLimit": 10000
     },
     "inputWidgets": {},
     "nuid": "8f1d333e-788e-4209-bc07-3060a1f1088a",
     "showTitle": false,
     "title": ""
    }
   },
   "source": [
    "### Data access\n",
    "\n",
    "The datasets hosted by the Planetary Computer are available from [Azure Blob Storage](https://docs.microsoft.com/en-us/azure/storage/blobs/). We'll use [pystac-client](https://pystac-client.readthedocs.io/) to search the Planetary Computer's [STAC API](https://planetarycomputer.microsoft.com/api/stac/v1/docs) for the subset of the data that we care about, and then we'll load the data directly from Azure Blob Storage. We'll specify a `modifier` so that we can access the data stored in the Planetary Computer's private Blob Storage Containers. See [Reading from the STAC API](https://planetarycomputer.microsoft.com/docs/quickstarts/reading-stac/) and [Using tokens for data access](https://planetarycomputer.microsoft.com/docs/concepts/sas/) for more."
   ]
  },
  {
   "cell_type": "code",
   "execution_count": 0,
   "metadata": {
    "application/vnd.databricks.v1+cell": {
     "cellMetadata": {
      "byteLimit": 2048000,
      "rowLimit": 10000
     },
     "inputWidgets": {},
     "nuid": "32b14178-5d82-4155-aced-428fd2de374a",
     "showTitle": false,
     "title": ""
    }
   },
   "outputs": [],
   "source": [
    "catalog = pystac_client.Client.open(\n",
    "    \"https://planetarycomputer.microsoft.com/api/stac/v1\",\n",
    "    modifier=planetary_computer.sign_inplace,\n",
    ")"
   ]
  },
  {
   "cell_type": "markdown",
   "metadata": {
    "application/vnd.databricks.v1+cell": {
     "cellMetadata": {
      "byteLimit": 2048000,
      "rowLimit": 10000
     },
     "inputWidgets": {},
     "nuid": "95f314a8-6f59-47d3-8aef-d7ea61732e21",
     "showTitle": false,
     "title": ""
    }
   },
   "source": [
    "Each item in the `us-census` concept_set represents a single table, aggregating the census data a some level (Congressional district, state, etc.)."
   ]
  },
  {
   "cell_type": "code",
   "execution_count": 0,
   "metadata": {
    "application/vnd.databricks.v1+cell": {
     "cellMetadata": {
      "byteLimit": 2048000,
      "rowLimit": 10000
     },
     "inputWidgets": {},
     "nuid": "0bfcec75-a720-4ca9-ad62-9322d5580ba5",
     "showTitle": false,
     "title": ""
    }
   },
   "outputs": [],
   "source": [
    "search = catalog.search(concept_set=[\"us-census\"])\n",
    "items = {item.id: item for item in search.items()}\n",
    "list(items)"
   ]
  },
  {
   "cell_type": "markdown",
   "metadata": {
    "application/vnd.databricks.v1+cell": {
     "cellMetadata": {
      "byteLimit": 2048000,
      "rowLimit": 10000
     },
     "inputWidgets": {},
     "nuid": "c03193e9-56a1-4499-aa65-110b544e85f5",
     "showTitle": false,
     "title": ""
    }
   },
   "source": [
    "### Read Congressional districts\n",
    "\n",
    "The `2020-cb_2020_us_cd116_500k` dataset contains geometries for Congressional Districts for the 166th Congress."
   ]
  },
  {
   "cell_type": "code",
   "execution_count": 0,
   "metadata": {
    "application/vnd.databricks.v1+cell": {
     "cellMetadata": {
      "byteLimit": 2048000,
      "rowLimit": 10000
     },
     "inputWidgets": {},
     "nuid": "0bb0e5b5-3bd1-4863-8278-57c269f9604d",
     "showTitle": false,
     "title": ""
    }
   },
   "outputs": [],
   "source": [
    "item = items[\"2020-cb_2020_us_cd116_500k\"]\n",
    "item"
   ]
  },
  {
   "cell_type": "markdown",
   "metadata": {
    "application/vnd.databricks.v1+cell": {
     "cellMetadata": {
      "byteLimit": 2048000,
      "rowLimit": 10000
     },
     "inputWidgets": {},
     "nuid": "115a2708-2f23-4ad3-b2ae-7072b0a79038",
     "showTitle": false,
     "title": ""
    }
   },
   "source": [
    "Each of the items contains a single asset, `data`, that has all the URL to the Parquet dataset and all the information necessary to load it."
   ]
  },
  {
   "cell_type": "code",
   "execution_count": 0,
   "metadata": {
    "application/vnd.databricks.v1+cell": {
     "cellMetadata": {
      "byteLimit": 2048000,
      "rowLimit": 10000
     },
     "inputWidgets": {},
     "nuid": "0ce0fd18-5418-4ba4-aab1-f05f0a4e990c",
     "showTitle": false,
     "title": ""
    }
   },
   "outputs": [],
   "source": [
    "asset = item.assets[\"data\"]\n",
    "asset"
   ]
  },
  {
   "cell_type": "markdown",
   "metadata": {
    "application/vnd.databricks.v1+cell": {
     "cellMetadata": {
      "byteLimit": 2048000,
      "rowLimit": 10000
     },
     "inputWidgets": {},
     "nuid": "07056504-02d9-4854-8696-5caffe4ef5c4",
     "showTitle": false,
     "title": ""
    }
   },
   "source": [
    "This is an [fsspec](https://filesystem-spec.readthedocs.io/en/latest/) URL, which is used by libraries like pandas, geopandas, and Dask to work with files from remote storage like Azure Blob Storage. We already signed this asset to include a `credential`. If you use an unsigned asset you'll see a `ClientAuthenticationError` error when trying to open the dataset"
   ]
  },
  {
   "cell_type": "code",
   "execution_count": 0,
   "metadata": {
    "application/vnd.databricks.v1+cell": {
     "cellMetadata": {
      "byteLimit": 2048000,
      "rowLimit": 10000
     },
     "inputWidgets": {},
     "nuid": "601b9fbb-74ce-4716-aacf-4aee83a90896",
     "showTitle": false,
     "title": ""
    }
   },
   "outputs": [],
   "source": [
    "gdf = geopandas.read_parquet(\n",
    "    asset.href,\n",
    "    storage_options=asset.extra_fields[\"table:storage_options\"],\n",
    ")\n",
    "display(gdf)"
   ]
  },
  {
   "cell_type": "markdown",
   "metadata": {
    "application/vnd.databricks.v1+cell": {
     "cellMetadata": {
      "byteLimit": 2048000,
      "rowLimit": 10000
     },
     "inputWidgets": {},
     "nuid": "3b9ee227-5498-4e12-aa43-1130ae1dceeb",
     "showTitle": false,
     "title": ""
    }
   },
   "source": [
    "We'll select a single district (Maryland's 2nd) and plot it."
   ]
  },
  {
   "cell_type": "code",
   "execution_count": 0,
   "metadata": {
    "application/vnd.databricks.v1+cell": {
     "cellMetadata": {
      "byteLimit": 2048000,
      "rowLimit": 10000
     },
     "inputWidgets": {},
     "nuid": "62b54909-e265-4b87-8765-cbddadf38221",
     "showTitle": false,
     "title": ""
    }
   },
   "outputs": [],
   "source": [
    "ax = (\n",
    "    gdf[gdf.GEOID == \"3301\"]\n",
    "    .to_crs(epsg=3857)\n",
    "    .plot(figsize=(10, 10), alpha=0.5, edgecolor=\"k\")\n",
    ")\n",
    "ax.set_title(\n",
    "    \"2nd Congressional District: New Hampshire\",\n",
    "    fontdict={\"fontsize\": \"20\", \"fontweight\": \"2\"},\n",
    ")\n",
    "ctx.add_basemap(ax, source=ctx.providers.Esri.NatGeoWorldMap)\n",
    "ax.set_axis_off()"
   ]
  },
  {
   "cell_type": "markdown",
   "metadata": {
    "application/vnd.databricks.v1+cell": {
     "cellMetadata": {
      "byteLimit": 2048000,
      "rowLimit": 10000
     },
     "inputWidgets": {},
     "nuid": "5ef2eb12-29c2-4eca-bfb8-682e93d22d80",
     "showTitle": false,
     "title": ""
    },
    "tags": []
   },
   "source": [
    "### Read Census Block data\n",
    "\n",
    "Census blocks are the smallest cartographic unit available from the Census Bureau. There are over 8 million census blocks."
   ]
  },
  {
   "cell_type": "code",
   "execution_count": 0,
   "metadata": {
    "application/vnd.databricks.v1+cell": {
     "cellMetadata": {
      "byteLimit": 2048000,
      "rowLimit": 10000
     },
     "inputWidgets": {},
     "nuid": "3510fb7d-696e-4bd9-9a5b-0dd7b437fd13",
     "showTitle": false,
     "title": ""
    }
   },
   "outputs": [],
   "source": [
    "geo = dask_geopandas.read_parquet(\n",
    "    \"abfs://us-census/2020/census_blocks_geo.parquet\",\n",
    "    storage_options=asset.extra_fields[\"table:storage_options\"],\n",
    "    calculate_divisions=True,\n",
    ")\n",
    "geo"
   ]
  },
  {
   "cell_type": "code",
   "execution_count": 0,
   "metadata": {
    "application/vnd.databricks.v1+cell": {
     "cellMetadata": {
      "byteLimit": 2048000,
      "rowLimit": 10000
     },
     "inputWidgets": {},
     "nuid": "d2cd2b71-35d3-4ab3-8965-3d4022c06e09",
     "showTitle": false,
     "title": ""
    }
   },
   "outputs": [],
   "source": [
    "import pyspark\n",
    "blocks=spark.read.format(\"parquet\").load( \"abfs://us-census/2020/census_blocks_population.parquet/\")\n",
    "#,\n",
    "#    storage_options=asset.extra_fields[\"table:storage_options\"],\n",
    "#    calculate_divisions=True,    \n",
    "#)\n",
    "blocks"
   ]
  },
  {
   "cell_type": "code",
   "execution_count": 0,
   "metadata": {
    "application/vnd.databricks.v1+cell": {
     "cellMetadata": {
      "byteLimit": 2048000,
      "rowLimit": 10000
     },
     "inputWidgets": {},
     "nuid": "0abac802-b22d-43e8-85a8-680f9b919025",
     "showTitle": false,
     "title": ""
    }
   },
   "outputs": [],
   "source": [
    "import dask.dataframe\n",
    "\n",
    "pop = dask.dataframe.read_parquet(\n",
    "    \"abfs://us-census/2020/census_blocks_population.parquet\",\n",
    "    storage_options=asset.extra_fields[\"table:storage_options\"],\n",
    "    calculate_divisions=True,\n",
    ")\n",
    "pop"
   ]
  },
  {
   "cell_type": "code",
   "execution_count": 0,
   "metadata": {
    "application/vnd.databricks.v1+cell": {
     "cellMetadata": {
      "byteLimit": 2048000,
      "rowLimit": 10000
     },
     "inputWidgets": {},
     "nuid": "eb377660-841c-4b46-8360-5be5dffd9104",
     "showTitle": false,
     "title": ""
    }
   },
   "outputs": [],
   "source": [
    "number=29\n",
    "\n",
    "ri = (\n",
    "    geo.get_partition(number)\n",
    "    .compute()\n",
    "    .join(pop[[\"P0010001\"]].get_partition(number).compute(), how=\"inner\")\n",
    ")\n"
   ]
  },
  {
   "cell_type": "code",
   "execution_count": 0,
   "metadata": {
    "application/vnd.databricks.v1+cell": {
     "cellMetadata": {
      "byteLimit": 2048000,
      "rowLimit": 10000
     },
     "inputWidgets": {},
     "nuid": "1071ce92-9aae-433f-8da8-28ac358cdddc",
     "showTitle": false,
     "title": ""
    }
   },
   "outputs": [],
   "source": [
    "limit=100\n",
    "rix = ri[ri.P0010001 > limit]\n",
    "ax = rix.to_crs(epsg=3857).plot(figsize=(10, 10), alpha=0.5, edgecolor=\"k\")\n",
    "ax.set_title(\n",
    "    f\"Census Blocks with Population Greater than {limit}: Providence County, RI\",\n",
    "    fontdict={\"fontsize\": \"20\", \"fontweight\": \"2\"},\n",
    ")\n",
    "ctx.add_basemap(ax, source=ctx.providers.Esri.NatGeoWorldMap)\n",
    "ax.set_axis_off()"
   ]
  },
  {
   "cell_type": "markdown",
   "metadata": {
    "application/vnd.databricks.v1+cell": {
     "cellMetadata": {
      "byteLimit": 2048000,
      "rowLimit": 10000
     },
     "inputWidgets": {},
     "nuid": "81ed1e07-2786-4522-9327-8ecfe195fda7",
     "showTitle": false,
     "title": ""
    }
   },
   "source": [
    "Let's filter out the blocks with 0 reported population and plot the distribution of people per census block."
   ]
  },
  {
   "cell_type": "code",
   "execution_count": 0,
   "metadata": {
    "application/vnd.databricks.v1+cell": {
     "cellMetadata": {
      "byteLimit": 2048000,
      "rowLimit": 10000
     },
     "inputWidgets": {},
     "nuid": "3d8673fc-0d64-4765-8767-e5678af697d4",
     "showTitle": false,
     "title": ""
    }
   },
   "outputs": [],
   "source": [
    "sns.displot(ri.P0010001, log_scale=True);"
   ]
  },
  {
   "cell_type": "markdown",
   "metadata": {
    "application/vnd.databricks.v1+cell": {
     "cellMetadata": {
      "byteLimit": 2048000,
      "rowLimit": 10000
     },
     "inputWidgets": {},
     "nuid": "e3a329af-1e92-4cc9-ae34-f2bf3e344ca0",
     "showTitle": false,
     "title": ""
    }
   },
   "source": [
    "Or we can plot the relationship between the population and the size of the census block."
   ]
  },
  {
   "cell_type": "code",
   "execution_count": 0,
   "metadata": {
    "application/vnd.databricks.v1+cell": {
     "cellMetadata": {
      "byteLimit": 2048000,
      "rowLimit": 10000
     },
     "inputWidgets": {},
     "nuid": "ac97f374-6ecf-4cbe-9a4d-0c8843f43944",
     "showTitle": false,
     "title": ""
    }
   },
   "outputs": [],
   "source": [
    "import numpy as np\n",
    "\n",
    "sns.jointplot(x=ri.ALAND, y=np.log(ri.P0010001), marker=\".\");"
   ]
  },
  {
   "cell_type": "markdown",
   "metadata": {
    "application/vnd.databricks.v1+cell": {
     "cellMetadata": {
      "byteLimit": 2048000,
      "rowLimit": 10000
     },
     "inputWidgets": {},
     "nuid": "4b46107c-09a4-402f-9baf-bdad97f20769",
     "showTitle": false,
     "title": ""
    }
   },
   "source": [
    "### Next Steps\n",
    "\n",
    "Now that you've seen an introduction to working with US Census data from the Planetary Computer, learn more with\n",
    "\n",
    "* The [US Census data tutorial](https://raw.githubusercontent.com/microsoft/PlanetaryComputerExamples/main/tutorials/census-data.ipynb), which includes examples for accessing data at each level of cartographic aggregation available\n",
    "* The [Reading tabular data quickstart](https://raw.githubusercontent.com/microsoft/PlanetaryComputerExamples/main/quickstarts/reading-tabular-data.ipynb), which introduces how to use tabular data with the Planetary Computer"
   ]
  }
 ],
 "metadata": {
  "application/vnd.databricks.v1+notebook": {
   "dashboards": [],
   "language": "python",
   "notebookMetadata": {
    "pythonIndentUnit": 4
   },
   "notebookName": "us-census-example-sedona",
   "widgets": {}
  },
  "kernelspec": {
   "display_name": "Python 3 (ipykernel)",
   "language": "python",
   "name": "python3"
  },
  "language_info": {
   "codemirror_mode": {
    "name": "ipython",
    "version": 3
   },
   "file_extension": ".py",
   "mimetype": "text/x-python",
   "name": "python",
   "nbconvert_exporter": "python",
   "pygments_lexer": "ipython3",
   "version": "3.11.8"
  },
  "widgets": {
   "application/vnd.jupyter.widget-state+json": {
    "state": {},
    "version_major": 2,
    "version_minor": 0
   }
  }
 },
 "nbformat": 4,
 "nbformat_minor": 0
}
