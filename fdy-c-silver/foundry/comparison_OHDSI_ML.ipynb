{
 "cells": [
  {
   "cell_type": "markdown",
   "metadata": {
    "application/vnd.databricks.v1+cell": {
     "cellMetadata": {
      "byteLimit": 2048000,
      "rowLimit": 10000
     },
     "inputWidgets": {},
     "nuid": "91d36506-4309-4358-bdc0-4cdf7ecbe786",
     "showTitle": false,
     "tableResultSettingsMap": {},
     "title": ""
    }
   },
   "source": [
    "**Comparing OHDSI intermediate _temp files to ML Silver for Premier\n",
    "**  \n",
    "#### 5_write_procedures.py\n",
    "person_source_value==medrec_key\n",
    "visit_source_value==pat_key\n",
    "```mermaid\n",
    "graph\n",
    "   procedure_occurrence_temp\n",
    "   subgraph stage\n",
    "      stage_procedures_temp-->procedure_occurrence_temp\n",
    "      person--person_source_value-->procedure_occurrence_temp\n",
    "      visit_occurrence--visit_source_value-->procedure_occurrence_temp\n",
    "      concept_procedure--procedure_source_value procedure_source_code_type-->procedure_occurrence_temp\n",
    "      concept_modifier--code_modifier-->procedure_occurrence_temp\n",
    "   end\n",
    "\n",
    "\n",
    "```\n",
    "* ODHSI Domains  \n",
    " - Procedure:   ML Fact_Person where domain_id=='Procedure' to cdh_premier_omop.procedure_occurrence_temp  \n",
    " - Condition:   ML Fact_Person where domain_id=='Condition' to cdh_premier_omop.condition_occurrence_temp  \n",
    " - Measurement: ML Fact_Person where domain_id=='Measurement' to cdh_premier_omop.measurement_temp  \n",
    " - Observation: ML Fact_Person where domain_id=='Observation' to cdh_premier_omop.observation_temp  \n"
   ]
  },
  {
   "cell_type": "code",
   "execution_count": 0,
   "metadata": {
    "application/vnd.databricks.v1+cell": {
     "cellMetadata": {
      "byteLimit": 2048000,
      "rowLimit": 10000
     },
     "inputWidgets": {},
     "nuid": "25274a68-8b6a-4ebe-82bb-4a0b6c6575a7",
     "showTitle": false,
     "tableResultSettingsMap": {},
     "title": ""
    }
   },
   "outputs": [],
   "source": [
    "import pyspark.sql.functions as F\n",
    "from pyspark.sql.types import *"
   ]
  },
  {
   "cell_type": "code",
   "execution_count": 0,
   "metadata": {
    "application/vnd.databricks.v1+cell": {
     "cellMetadata": {
      "byteLimit": 2048000,
      "rowLimit": 10000
     },
     "inputWidgets": {},
     "nuid": "e795d0c3-9669-43d1-9d43-d424eac5fdd2",
     "showTitle": false,
     "tableResultSettingsMap": {},
     "title": ""
    }
   },
   "outputs": [],
   "source": [
    "CATALOG=\"edav_prd_cdh\"\n",
    "SCHEMA=\"cdh_premier\""
   ]
  },
  {
   "cell_type": "code",
   "execution_count": 0,
   "metadata": {
    "application/vnd.databricks.v1+cell": {
     "cellMetadata": {
      "byteLimit": 2048000,
      "rowLimit": 10000
     },
     "inputWidgets": {},
     "nuid": "30593e88-b034-4df0-b095-a7a333c82931",
     "showTitle": false,
     "tableResultSettingsMap": {},
     "title": ""
    }
   },
   "outputs": [],
   "source": [
    "#edav_prd_cdh.cdh_premier_omop_etl.stage_visit\n",
    "vo_df=spark.sql(f\"select id as occurrence_id,CAST(person_source_value as LONG) as person_id,CAST(visit_source_value as LONG) as observation_period_id from {CATALOG}.{SCHEMA}_omop_etl.stage_visit \" )\n",
    "display(vo_df)"
   ]
  },
  {
   "cell_type": "code",
   "execution_count": 0,
   "metadata": {
    "application/vnd.databricks.v1+cell": {
     "cellMetadata": {
      "byteLimit": 2048000,
      "rowLimit": 10000
     },
     "inputWidgets": {},
     "nuid": "eb6e25ba-bacd-40fa-ad16-921b4dfb7296",
     "showTitle": false,
     "tableResultSettingsMap": {},
     "title": ""
    }
   },
   "outputs": [],
   "source": [
    "\"\"\" map fact_person.domain_id to _OMOP.{table} \"\"\"\n",
    "DOMAIN_TABLE_DICT={\"Procedure\":\"procedure_occurrence_temp\",\n",
    "                   \"Condition\":\"condition_occurrence_temp\",\n",
    "                   \"Observation\":\"observation_temp\",\n",
    "                   \"Measurement\":\"measurement_temp\",\n",
    "                   }\n",
    "#                    \"Procedure\":\"stage_procedure_temp\",\n",
    "#                   \"Condition\":\"stage_condition_temp\",\n",
    "#                   \"Measurement\":\"stage_measurement_temp\",\n",
    "#                   \"Observation\":\"stage_observation_temp\",\n",
    "\n",
    "\n",
    "\"\"\"\n",
    "OMOP:Premier:FACT\n",
    "visit_source_value:patkey:observation_period_id\n",
    "--visit_detail_source_value:\n",
    "person_source_value:medrec_key:person_id\n",
    "FACT_KEYS_DICT={\"observation_period_id\":\"visit_source_value\",\n",
    "                \"person_id\":\"person_source_value\",\n",
    "}\n",
    "\"\"\""
   ]
  },
  {
   "cell_type": "code",
   "execution_count": 0,
   "metadata": {
    "application/vnd.databricks.v1+cell": {
     "cellMetadata": {
      "byteLimit": 2048000,
      "rowLimit": 10000
     },
     "inputWidgets": {},
     "nuid": "79a18f36-a68a-4e62-8764-14c1a6b5db44",
     "showTitle": false,
     "tableResultSettingsMap": {},
     "title": ""
    }
   },
   "outputs": [],
   "source": [
    "domain_list=list(DOMAIN_TABLE_DICT.keys())\n",
    "print(domain_list)\n"
   ]
  },
  {
   "cell_type": "markdown",
   "metadata": {
    "application/vnd.databricks.v1+cell": {
     "cellMetadata": {
      "byteLimit": 2048000,
      "rowLimit": 10000
     },
     "inputWidgets": {},
     "nuid": "36dc347b-5f95-4ee1-a6c9-ef89bace09f1",
     "showTitle": false,
     "tableResultSettingsMap": {},
     "title": ""
    }
   },
   "source": [
    "```python\n",
    "TABLE_DATE_DICT={\"Procedure\":\"procedure_datetime\",\n",
    "                   \"Condition\":\"condition_start_datetime\",\n",
    "                   \"Measurement\":\"measurement_datetime\",\n",
    "                   \"Observation\":\"observation_datetime\",\n",
    "#                    \"Procedure\":\"stage_procedure_temp\",\n",
    "#                   \"Condition\":\"stage_condition_temp\",\n",
    "#                   \"Measurement\":\"stage_measurement_temp\",\n",
    "#                   \"Observation\":\"stage_observation_temp\",\n",
    "```                   }"
   ]
  },
  {
   "cell_type": "code",
   "execution_count": 0,
   "metadata": {
    "application/vnd.databricks.v1+cell": {
     "cellMetadata": {
      "byteLimit": 2048000,
      "rowLimit": 10000
     },
     "inputWidgets": {},
     "nuid": "4649287f-bbe5-406a-837e-9a2cc6539dad",
     "showTitle": false,
     "tableResultSettingsMap": {},
     "title": ""
    }
   },
   "outputs": [],
   "source": [
    "from pyspark.sql.types import *\n",
    "\n",
    "#['observation_period_id', 'person_id', 'observation_datetime', 'type_concept_id', 'concept_code', 'source_concept_id']\n",
    "factSchema = StructType([ \n",
    "\tStructField('observation_period_id', \n",
    "\t\t\t\tIntegerType(), False), \n",
    "\tStructField('person_id', \n",
    "\t\t\t\tIntegerType(), False), \n",
    "\tStructField('observation_datetime', \n",
    "\t\t\t\tDateType(), True), \n",
    "\tStructField('type_concept_id', \n",
    "\t\t\t\tIntegerType(), False), \n",
    "\tStructField('concept_code', \n",
    "\t\t\t\tStringType(), True), \n",
    "\tStructField('source_concept_id', \n",
    "\t\t\t\tIntegerType(), False), \n",
    "\tStructField('source_tbl', \n",
    "\t\t\t\tStringType(), True), \n",
    "]) \n",
    "silver_df=spark.createDataFrame([], factSchema)"
   ]
  },
  {
   "cell_type": "code",
   "execution_count": 0,
   "metadata": {
    "application/vnd.databricks.v1+cell": {
     "cellMetadata": {
      "byteLimit": 2048000,
      "rowLimit": 10000
     },
     "inputWidgets": {},
     "nuid": "5da14743-9657-415b-bd14-df6b73fd66b1",
     "showTitle": false,
     "tableResultSettingsMap": {},
     "title": ""
    }
   },
   "outputs": [],
   "source": [
    "suffix_list=[\"type_concept_id\",\"source_value\",\"source_concept_id\"]\n",
    "for domain in domain_list:\n",
    "    print(domain)\n",
    "    fact_df=spark.table(f\"{CATALOG}.{SCHEMA}_ra.fact_person\").withColumn(\"has_fact\",F.lit(1))\n",
    "    #display(fact_df)\n",
    "#keeps\n",
    "    lower_domain=domain.lower()\n",
    "    #date_var\n",
    "    if lower_domain=='condition':\n",
    "        date_var='condition_start_datetime'\n",
    "    elif lower_domain=='observation':\n",
    "        date_var=f\"{lower_domain}_datetime\"\n",
    "    else: \n",
    "        date_var=f\"{lower_domain}_date\"\n",
    "        \n",
    "    print(date_var)\n",
    "    #occurrence_var\n",
    "    if lower_domain in ('measurement','observation'):\n",
    "        occurrence_var=f\"{lower_domain}_id\"\n",
    "    else:\n",
    "        occurrence_var=f\"{lower_domain}_occurrence_id\"\n",
    "    print(occurrence_var)\n",
    "    suffixed=[f\"{lower_domain}_{suffix}\" for suffix in suffix_list]\n",
    "    keep_list=['observation_period_id','person_id',date_var]+suffixed\n",
    "    print(keep_list)\n",
    "#renames\n",
    "    renamed_dict={f\"{lower_domain}_{suffix}\":suffix for suffix in suffix_list}\n",
    "    renamed_dict[f\"{lower_domain}_source_value\"]=\"concept_code\"\n",
    "    renamed_dict[date_var]=\"observation_datetime\"\n",
    "    print(renamed_dict)\n",
    "\n",
    "# table processing\n",
    "    omop_tbl=DOMAIN_TABLE_DICT[domain]\n",
    "    omop_df=spark.table(f\"{CATALOG}.{SCHEMA}_omop.{omop_tbl}\").distinct().withColumnRenamed(occurrence_var,\"occurrence_id\").join(vo_df,[\"occurrence_id\",\"person_id\"],'inner').select(*keep_list).withColumnsRenamed(renamed_dict).withColumn(\"source_tbl\",F.lit(domain))\n",
    "    #.withColumnRenamed(f\"{lower_domain}_source_value\",\"concept_code\")\n",
    "    #.withColumnRenamed('occurrence_id',f\"{lower_domain}_occurrence_id\")\n",
    "    #.select(join_list).withColumn(\"visit_source_value\", F.col(\"visit_source_value\").cast(LongType())).withColumn(\"has_OMOP\",F.lit(1))\n",
    "    display(omop_tbl)\n",
    "    #print(omop_df.columns)\n",
    "\n",
    "    #jlist=join_list+[omop_concept]\n",
    "    #print(jlist)\n",
    "    #outer_df=fact_df.withColumnsRenamed(FACT_KEYS_DICT).join(omop_df,on=[join_list],how=\"left\")\n",
    "    #display(outer_df)\n",
    "    silver_df=silver_df.union(omop_df)"
   ]
  },
  {
   "cell_type": "code",
   "execution_count": 0,
   "metadata": {
    "application/vnd.databricks.v1+cell": {
     "cellMetadata": {
      "byteLimit": 2048000,
      "rowLimit": 10000
     },
     "inputWidgets": {},
     "nuid": "5d4f4f08-f9aa-4040-b6af-8de86b6ca072",
     "showTitle": false,
     "tableResultSettingsMap": {},
     "title": ""
    }
   },
   "outputs": [],
   "source": [
    "silver_df.write.mode(\"overwrite\").format(\"delta\").saveAsTable(f\"{CATALOG}.{SCHEMA}_ra.fact_ohdsi\")"
   ]
  }
 ],
 "metadata": {
  "application/vnd.databricks.v1+notebook": {
   "computePreferences": null,
   "dashboards": [],
   "environmentMetadata": {
    "base_environment": "",
    "client": "1"
   },
   "language": "python",
   "notebookMetadata": {
    "pythonIndentUnit": 4
   },
   "notebookName": "comparison_OHDSI_ML",
   "widgets": {}
  },
  "language_info": {
   "name": "python"
  }
 },
 "nbformat": 4,
 "nbformat_minor": 0
}
