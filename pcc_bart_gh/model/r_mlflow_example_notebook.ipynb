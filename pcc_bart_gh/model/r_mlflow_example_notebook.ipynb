{
 "cells": [
  {
   "cell_type": "code",
   "execution_count": 0,
   "metadata": {
    "application/vnd.databricks.v1+cell": {
     "cellMetadata": {
      "byteLimit": 2048000,
      "rowLimit": 10000
     },
     "inputWidgets": {},
     "nuid": "c6adbb52-a897-4e1b-bef6-b58c4bc28175",
     "showTitle": false,
     "title": ""
    }
   },
   "outputs": [],
   "source": [
    "%r\n",
    "install.packages(\"BART\")\n",
    "install.packages(\"ggfortify\")"
   ]
  },
  {
   "cell_type": "code",
   "execution_count": 0,
   "metadata": {
    "application/vnd.databricks.v1+cell": {
     "cellMetadata": {
      "byteLimit": 2048000,
      "rowLimit": 10000
     },
     "inputWidgets": {},
     "nuid": "95bbf1b8-71de-4bfd-8e5d-b74240181bce",
     "showTitle": false,
     "title": ""
    }
   },
   "outputs": [],
   "source": [
    "install.packages(\"mlflow\")"
   ]
  },
  {
   "cell_type": "code",
   "execution_count": 0,
   "metadata": {
    "application/vnd.databricks.v1+cell": {
     "cellMetadata": {
      "byteLimit": 2048000,
      "rowLimit": 10000
     },
     "inputWidgets": {},
     "nuid": "a7c749b2-06d4-4070-a40b-22c0bf6dc875",
     "showTitle": false,
     "title": ""
    }
   },
   "outputs": [],
   "source": [
    "library(SparkR)\n",
    "library(BART)\n",
    "library(tidyverse)\n",
    "library(ggfortify)\n",
    "library(mlflow)"
   ]
  },
  {
   "cell_type": "code",
   "execution_count": 0,
   "metadata": {
    "application/vnd.databricks.v1+cell": {
     "cellMetadata": {
      "byteLimit": 2048000,
      "rowLimit": 10000
     },
     "inputWidgets": {},
     "nuid": "55bdf317-e0bf-4629-99e9-4c7a93d816ef",
     "showTitle": false,
     "title": ""
    }
   },
   "outputs": [],
   "source": [
    "# mlflow_create_experiment(\"/Users/twj8@cdc.gov/test1\")"
   ]
  },
  {
   "cell_type": "code",
   "execution_count": 0,
   "metadata": {
    "application/vnd.databricks.v1+cell": {
     "cellMetadata": {
      "byteLimit": 2048000,
      "rowLimit": 10000
     },
     "inputWidgets": {},
     "nuid": "c5b15211-b73e-453b-bf42-bf577f512215",
     "showTitle": false,
     "title": ""
    }
   },
   "outputs": [],
   "source": [
    "mlflow_create_experiment(\"/Repos/twj8@cdc.gov/test1k\")"
   ]
  },
  {
   "cell_type": "code",
   "execution_count": 0,
   "metadata": {
    "application/vnd.databricks.v1+cell": {
     "cellMetadata": {
      "byteLimit": 2048000,
      "rowLimit": 10000
     },
     "inputWidgets": {},
     "nuid": "8edbfb94-4089-449f-a980-c845d1c1e513",
     "showTitle": false,
     "title": ""
    }
   },
   "outputs": [],
   "source": [
    "mlflow_set_experiment(\"/Users/twj8@cdc.gov/test1\")"
   ]
  },
  {
   "cell_type": "code",
   "execution_count": 0,
   "metadata": {
    "application/vnd.databricks.v1+cell": {
     "cellMetadata": {
      "byteLimit": 2048000,
      "rowLimit": 10000
     },
     "inputWidgets": {},
     "nuid": "1a60d958-43a8-43d3-aaad-2a43c5ca7b85",
     "showTitle": false,
     "title": ""
    }
   },
   "outputs": [],
   "source": [
    "# get the experiement\n",
    "\n",
    "mlflow_get_experiment() %>% glimpse"
   ]
  },
  {
   "cell_type": "code",
   "execution_count": 0,
   "metadata": {
    "application/vnd.databricks.v1+cell": {
     "cellMetadata": {
      "byteLimit": 2048000,
      "rowLimit": 10000
     },
     "inputWidgets": {},
     "nuid": "4d89aa36-01de-464f-ab0b-bcae44a491e5",
     "showTitle": false,
     "title": ""
    }
   },
   "outputs": [],
   "source": [
    "getwd()"
   ]
  },
  {
   "cell_type": "code",
   "execution_count": 0,
   "metadata": {
    "application/vnd.databricks.v1+cell": {
     "cellMetadata": {
      "byteLimit": 2048000,
      "rowLimit": 10000
     },
     "inputWidgets": {},
     "nuid": "b677ce63-c8d1-40f1-ac9f-836cc28bbfe1",
     "showTitle": false,
     "title": ""
    }
   },
   "outputs": [],
   "source": [
    "mlflow_set_experiment(658440265379845)"
   ]
  },
  {
   "cell_type": "code",
   "execution_count": 0,
   "metadata": {
    "application/vnd.databricks.v1+cell": {
     "cellMetadata": {
      "byteLimit": 2048000,
      "rowLimit": 10000
     },
     "inputWidgets": {},
     "nuid": "08eb8bac-8011-4da2-a44c-f85994d2d1ad",
     "showTitle": false,
     "title": ""
    }
   },
   "outputs": [],
   "source": [
    "exp = mlflow_search_experiments()"
   ]
  },
  {
   "cell_type": "code",
   "execution_count": 0,
   "metadata": {
    "application/vnd.databricks.v1+cell": {
     "cellMetadata": {
      "byteLimit": 2048000,
      "rowLimit": 10000
     },
     "inputWidgets": {},
     "nuid": "f8a75dce-2fe1-453c-82a0-0f782c80aeda",
     "showTitle": false,
     "title": ""
    }
   },
   "outputs": [],
   "source": [
    "exp$experiments$name "
   ]
  },
  {
   "cell_type": "code",
   "execution_count": 0,
   "metadata": {
    "application/vnd.databricks.v1+cell": {
     "cellMetadata": {
      "byteLimit": 2048000,
      "rowLimit": 10000
     },
     "inputWidgets": {},
     "nuid": "d77e0fd9-bb2f-4479-b9f2-ace6ebe6d86c",
     "showTitle": false,
     "title": ""
    }
   },
   "outputs": [],
   "source": [
    "mlflow_create_experiment(\"/Users/twj8@cdc.gov/test1\")"
   ]
  },
  {
   "cell_type": "code",
   "execution_count": 0,
   "metadata": {
    "application/vnd.databricks.v1+cell": {
     "cellMetadata": {
      "byteLimit": 2048000,
      "rowLimit": 10000
     },
     "inputWidgets": {},
     "nuid": "cfdd9c88-b8c8-4d5f-89c6-5548f05bcac5",
     "showTitle": false,
     "title": ""
    }
   },
   "outputs": [],
   "source": [
    "e = rnorm(10, 0, 1)\n",
    "x1 = rnorm(10, 1, 1)\n",
    "x2 = rnorm(10, 1, 1)\n",
    "y = 2*x + x2^2 + e\n",
    "\n",
    "m = lm(y~x+x2)\n",
    "sum = summary(m)"
   ]
  },
  {
   "cell_type": "code",
   "execution_count": 0,
   "metadata": {
    "application/vnd.databricks.v1+cell": {
     "cellMetadata": {
      "byteLimit": 2048000,
      "rowLimit": 10000
     },
     "inputWidgets": {},
     "nuid": "94b7c952-8e41-43ae-85d9-18d2c65ce628",
     "showTitle": false,
     "title": ""
    }
   },
   "outputs": [],
   "source": [
    "sum"
   ]
  },
  {
   "cell_type": "code",
   "execution_count": 0,
   "metadata": {
    "application/vnd.databricks.v1+cell": {
     "cellMetadata": {
      "byteLimit": 2048000,
      "rowLimit": 10000
     },
     "inputWidgets": {},
     "nuid": "cc68703f-bae4-4a97-a9a4-00072244bf0b",
     "showTitle": false,
     "title": ""
    }
   },
   "outputs": [],
   "source": [
    "with"
   ]
  },
  {
   "cell_type": "code",
   "execution_count": 0,
   "metadata": {
    "application/vnd.databricks.v1+cell": {
     "cellMetadata": {
      "byteLimit": 2048000,
      "rowLimit": 10000
     },
     "inputWidgets": {},
     "nuid": "e0ae477d-874f-4203-a2d8-866fc0ff8d77",
     "showTitle": false,
     "title": ""
    }
   },
   "outputs": [],
   "source": [
    "plot(m)"
   ]
  }
 ],
 "metadata": {
  "application/vnd.databricks.v1+notebook": {
   "dashboards": [],
   "language": "r",
   "notebookMetadata": {
    "pythonIndentUnit": 4
   },
   "notebookName": "r_mlflow_example_notebook",
   "widgets": {}
  }
 },
 "nbformat": 4,
 "nbformat_minor": 0
}
