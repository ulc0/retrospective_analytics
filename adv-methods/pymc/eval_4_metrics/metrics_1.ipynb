{
 "cells": [
  {
   "cell_type": "code",
   "execution_count": 0,
   "metadata": {
    "application/vnd.databricks.v1+cell": {
     "cellMetadata": {},
     "inputWidgets": {},
     "nuid": "979c0fa2-800c-4310-be12-e875e69a891f",
     "showTitle": false,
     "title": ""
    }
   },
   "outputs": [],
   "source": [
    "import sksurv as sks\n",
    "import sksurv.preprocessing\n",
    "import sksurv.metrics\n",
    "import sksurv.datasets\n",
    "import sksurv.linear_model\n",
    "import sksurv.ensemble\n",
    "\n",
    "from pathlib import Path\n",
    "import arviz as az\n",
    "import matplotlib.pyplot as plt\n",
    "import numpy as np\n",
    "import pandas as pd\n",
    "import numpy as np\n",
    "import sklearn as skl\n",
    "import scipy.stats as sp\n",
    "\n",
    "import pymc as pm\n",
    "import pymc_bart as pmb\n",
    "import pandas as pd\n",
    "\n",
    "import importlib\n",
    "import mlflow as ml\n",
    "import simsurv_func as ssf\n",
    "import subprocess\n",
    "import lifelines\n",
    "import pytensor.tensor as tt\n",
    "import subprocess"
   ]
  },
  {
   "cell_type": "code",
   "execution_count": 0,
   "metadata": {
    "application/vnd.databricks.v1+cell": {
     "cellMetadata": {},
     "inputWidgets": {},
     "nuid": "50419ddc-e6bd-4c12-b361-d99a4f444dcf",
     "showTitle": false,
     "title": ""
    }
   },
   "outputs": [],
   "source": [
    "OUTPUTS = \"outputs\"\n",
    "ALPHA = 2\n",
    "LAMBDA = \"np.exp(-1.8 + 2*x_mat[:,0])\"\n",
    "N = 100\n",
    "# T = 30\n",
    "X_VARS = 1\n",
    "CENS_SCALE = 5# 40\n",
    "CENS_IND = False\n",
    "\n",
    "sv_mat, hz_mat, x_mat, lmbda, a, cens, t_event, status, T = ssf.sim_surv2(\n",
    "                N=N, \n",
    "                x_vars=X_VARS,\n",
    "                a = ALPHA,\n",
    "                lambda_f = LAMBDA,\n",
    "                cens_scale=CENS_SCALE,\n",
    "                cens_ind = CENS_IND,\n",
    "                err_ind = False)\n",
    "\n",
    "\n",
    "# Get information of X vars\n",
    "x_out, x_idx, x_cnt = ssf.get_x_info(x_mat)\n",
    "# calculate censored components\n",
    "event_calc, cens_calc = ssf.get_status_perc(status) \n",
    "# Get the t mean and max\n",
    "t_mean, t_max = ssf.get_event_time_metric(t_event)\n",
    "# Get the training matrix\n",
    "train = ssf.get_train_matrix(x_mat, t_event, status)\n",
    "title = \"actual_survival\"\n",
    "ssf.plot_sv(x_mat, sv_mat, T, title=title, save = False, show=True, dir=OUTPUTS)\n",
    "\n",
    "print(f\"cens_calc: {cens_calc} \\\n",
    "    \\nt_mean: {t_mean} \\\n",
    "    \\nt_max: {t_max}\")\n",
    "\n",
    "# get unique x_mat\n",
    "x_unique = np.unique(x_mat, return_index=True)\n",
    "sv_unique = sv_mat[x_unique[1],:]\n",
    "hz_unique = np.round(hz_mat[x_unique[1],:],5) \n",
    "\n",
    "HR_unique = hz_unique[1]/hz_unique[0]\n",
    "# HR_times = np.arange(0,T,np.floor(T/4), dtype=\"int\")\n",
    "HR_times = np.array((np.ceil(T.shape[0]/4) * np.array([1,2,3])), dtype=\"int\")\n",
    "print(f\"hazard rate 1 {hz_unique[1][HR_times]}\")\n",
    "print(f\"hazard rate 0 {hz_unique[0][HR_times]}\")\n",
    "print(f\"HR t-series = {HR_unique[HR_times]}\")"
   ]
  },
  {
   "cell_type": "code",
   "execution_count": 0,
   "metadata": {
    "application/vnd.databricks.v1+cell": {
     "cellMetadata": {},
     "inputWidgets": {},
     "nuid": "a19951dd-840d-45b8-8367-b7da545f5b2b",
     "showTitle": false,
     "title": ""
    }
   },
   "outputs": [],
   "source": [
    "# BART\n",
    "M = 200 # number of trees\n",
    "DRAWS = 200\n",
    "TUNE = 200\n",
    "CORES = 4\n",
    "\n",
    "y_sk = ssf.get_y_sklearn(status, t_event)\n",
    "x_sk = train.iloc[:,2:]\n",
    "\n",
    "\n",
    "# tranform data long-form\n",
    "b_tr_t, b_tr_delta, b_tr_x = ssf.surv_pre_train2(x_sk, y_sk)\n",
    "# b_te_t, b_te_x = surv_pre_test(x_sk, y_sk)\n",
    "b_te_x = ssf.get_bart_test(x_out, np.unique(b_tr_t))\n",
    "off = sp.norm.ppf(np.mean(b_tr_delta))"
   ]
  },
  {
   "cell_type": "code",
   "execution_count": 0,
   "metadata": {
    "application/vnd.databricks.v1+cell": {
     "cellMetadata": {},
     "inputWidgets": {},
     "nuid": "344a1711-943a-45f6-91fb-1b281aaca0ed",
     "showTitle": false,
     "title": ""
    }
   },
   "outputs": [],
   "source": [
    "with pm.Model() as bart:    \n",
    "    x_data = pm.MutableData(\"x\", b_tr_x)\n",
    "    f = pmb.BART(\"f\", X=x_data, Y=b_tr_delta, m=M, split_rules = [pmb.ContinuousSplitRule(), pmb.OneHotSplitRule()])\n",
    "    z = pm.Deterministic(\"z\", f + off)\n",
    "    mu = pm.Deterministic(\"mu\", pm.math.invprobit(z))\n",
    "    y_pred = pm.Bernoulli(\"y_pred\", p=mu, observed=b_tr_delta, shape=x_data.shape[0])\n",
    "    bdata = pm.sample(random_seed=2, draws=200, tune = 200, cores=4)\n",
    "\n",
    "with bart:\n",
    "    pm.set_data({\"x\":pd.DataFrame(b_te_x)}, coords= {\"obs\":np.arange(0,b_te_x.shape[0],1)})\n",
    "    pp = pm.sample_posterior_predictive(bdata, var_names = [\"y_pred\", \"f\", \"z\", \"mu\"])\n",
    "\n",
    "# transform to survival\n",
    "bart_sv_fx = ssf.get_sv_fx(pp, x_out)\n",
    "# bart_svt\n",
    "bart_sv_t = np.unique(b_tr_t)\n",
    "\n",
    "# add a time 0 with prob 1 \n",
    "bart_sv_t = np.concatenate([np.array([0]), bart_sv_t])\n",
    "bart_sv_val = [np.concatenate([np.array([1]), sv]) for sv in bart_sv_fx]\n",
    "\n",
    "\n",
    "plt.plot(T, sv_unique[0], color= \"lightblue\", label=\"true 0\")\n",
    "plt.plot(T, sv_unique[1], color = \"blue\", label=\"true 1\")\n",
    "plt.plot(bart_sv_t, bart_sv_val[0], color = \"lightgreen\", label=\"bart 0\")\n",
    "plt.plot(bart_sv_t, bart_sv_val[1], color = \"green\", label=\"bart 1\")\n",
    "plt.legend()"
   ]
  },
  {
   "cell_type": "code",
   "execution_count": 0,
   "metadata": {
    "application/vnd.databricks.v1+cell": {
     "cellMetadata": {},
     "inputWidgets": {},
     "nuid": "d9f91a84-af16-4b47-9033-8d2c46afb42e",
     "showTitle": false,
     "title": ""
    }
   },
   "outputs": [],
   "source": [
    "# det the posterior predictive on all obs, no counterfactuals\n",
    "post_pred = ssf.get_bart_test(x_mat,np.unique(b_tr_t))"
   ]
  },
  {
   "cell_type": "code",
   "execution_count": 0,
   "metadata": {
    "application/vnd.databricks.v1+cell": {
     "cellMetadata": {},
     "inputWidgets": {},
     "nuid": "dcb0b782-a4bf-4cce-957e-1d1a5191de3f",
     "showTitle": false,
     "title": ""
    }
   },
   "outputs": [],
   "source": [
    "# get the sv time predictions for metrics\n",
    "with bart:\n",
    "    pm.set_data({\"x\":pd.DataFrame(post_pred)}, coords= {\"obs\":np.arange(0,b_te_x.shape[0],1)})\n",
    "    pp_m = pm.sample_posterior_predictive(bdata, var_names = [\"y_pred\", \"f\", \"z\", \"mu\"])\n"
   ]
  },
  {
   "cell_type": "code",
   "execution_count": 0,
   "metadata": {
    "application/vnd.databricks.v1+cell": {
     "cellMetadata": {},
     "inputWidgets": {},
     "nuid": "872b8ce9-b692-4edb-a9e5-eaee0df09f1f",
     "showTitle": false,
     "title": ""
    }
   },
   "outputs": [],
   "source": [
    "# pp_m\n",
    "# transform to survival\n",
    "bart_sv_fx_m = ssf.get_sv_fx(pp_m, x_mat)\n",
    "bart_sv_t_m = np.unique(b_tr_t)"
   ]
  },
  {
   "cell_type": "code",
   "execution_count": 0,
   "metadata": {
    "application/vnd.databricks.v1+cell": {
     "cellMetadata": {},
     "inputWidgets": {},
     "nuid": "4a6e6607-3ee3-4161-8f1d-2ebb5d02bb59",
     "showTitle": false,
     "title": ""
    }
   },
   "outputs": [],
   "source": [
    "TRAIN_CSV = \"tmp_input.csv\"\n",
    "RBART_CSV = \"tmp_output.csv\""
   ]
  },
  {
   "cell_type": "code",
   "execution_count": 0,
   "metadata": {
    "application/vnd.databricks.v1+cell": {
     "cellMetadata": {},
     "inputWidgets": {},
     "nuid": "32368d44-fff7-448d-8e24-ebc3f1bed5fd",
     "showTitle": false,
     "title": ""
    }
   },
   "outputs": [],
   "source": [
    "# write csv\n",
    "train.to_csv(TRAIN_CSV)"
   ]
  },
  {
   "cell_type": "code",
   "execution_count": 0,
   "metadata": {
    "application/vnd.databricks.v1+cell": {
     "cellMetadata": {},
     "inputWidgets": {},
     "nuid": "b9a71283-c1a4-4c22-ad17-86c8ca3b770a",
     "showTitle": false,
     "title": ""
    }
   },
   "outputs": [],
   "source": [
    "p1 = subprocess.Popen([\n",
    "        \"Rscript\",\n",
    "        \"metrics_1_run.r\",\n",
    "        TRAIN_CSV,\n",
    "        RBART_CSV\n",
    "        ])\n",
    "p1.wait()"
   ]
  },
  {
   "cell_type": "code",
   "execution_count": 0,
   "metadata": {
    "application/vnd.databricks.v1+cell": {
     "cellMetadata": {},
     "inputWidgets": {},
     "nuid": "503e034c-841b-4d64-a7b2-f99d80534f5f",
     "showTitle": false,
     "title": ""
    }
   },
   "outputs": [],
   "source": [
    "rbart = pd.read_csv(RBART_CSV)"
   ]
  },
  {
   "cell_type": "code",
   "execution_count": 0,
   "metadata": {
    "application/vnd.databricks.v1+cell": {
     "cellMetadata": {},
     "inputWidgets": {},
     "nuid": "9631fb3b-fa8b-426e-b1b9-a593fc21e0bc",
     "showTitle": false,
     "title": ""
    }
   },
   "outputs": [],
   "source": [
    "tshape = np.unique(train[\"time\"]).shape[0]\n",
    "N = train.shape[0]\n",
    "rb_surv_val = rbart[\"surv\"].to_numpy().reshape((N,tshape))\n",
    "rb_prob_val = rbart[\"prob\"].to_numpy().reshape((N,tshape))\n",
    "rb_mat = rbart[\"x1\"][rbart[\"t\"] == 1].to_numpy()\n",
    "rb_time = train[\"time\"].to_numpy()\n",
    "rb_delta = train[\"status\"].to_numpy()"
   ]
  },
  {
   "cell_type": "markdown",
   "metadata": {
    "application/vnd.databricks.v1+cell": {
     "cellMetadata": {},
     "inputWidgets": {},
     "nuid": "6d27f9c7-862d-412a-ac4f-a6ebf5bf6761",
     "showTitle": false,
     "title": ""
    }
   },
   "source": [
    "C-INDEX"
   ]
  },
  {
   "cell_type": "code",
   "execution_count": 0,
   "metadata": {
    "application/vnd.databricks.v1+cell": {
     "cellMetadata": {},
     "inputWidgets": {},
     "nuid": "cb0bebab-d73d-4ad7-b8b7-097574e7286e",
     "showTitle": false,
     "title": ""
    }
   },
   "outputs": [],
   "source": [
    "from sksurv.metrics import (\n",
    "    concordance_index_censored,\n",
    "    concordance_index_ipcw,\n",
    "    cumulative_dynamic_auc,\n",
    "    integrated_brier_score,\n",
    ")"
   ]
  },
  {
   "cell_type": "code",
   "execution_count": 0,
   "metadata": {
    "application/vnd.databricks.v1+cell": {
     "cellMetadata": {},
     "inputWidgets": {},
     "nuid": "c4cfa4d1-b93b-469b-ac39-471f0e9cf648",
     "showTitle": false,
     "title": ""
    }
   },
   "outputs": [],
   "source": [
    "def prep_sv_curv(sv):\n",
    "    sh1 = sv.shape[0]\n",
    "    add = np.repeat(1, sh1, axis=0).reshape(sh1, 1)\n",
    "    sv2 = np.hstack([add, sv])\n",
    "    return sv2\n",
    "\n",
    "def prep_uniq_times(times):\n",
    "    t = np.unique(times)\n",
    "    out = np.concatenate([[0],t])\n",
    "    return out\n",
    "\n",
    "def restr_mean_sv_t(sv, time, restr_t):\n",
    "    if restr_t not in time:\n",
    "        print(\"Restircted time not in set of unique times\")\n",
    "        return None\n",
    "    sh1 = sv.shape[0]\n",
    "    idx = np.where(time == restr_t)[0][0]\n",
    "    # print(idx)\n",
    "    time = time[0:idx]\n",
    "    sv = sv[:,0:idx]\n",
    "    out = np.trapz(sv, time, axis=1)\n",
    "\n",
    "    return out.reshape(sh1,)\n",
    "    "
   ]
  },
  {
   "cell_type": "code",
   "execution_count": 0,
   "metadata": {
    "application/vnd.databricks.v1+cell": {
     "cellMetadata": {},
     "inputWidgets": {},
     "nuid": "c43c3f54-bac4-476f-82ed-030e07788858",
     "showTitle": false,
     "title": ""
    }
   },
   "outputs": [],
   "source": [
    "rb_sv1 = prep_sv_curv(rb_surv_val)\n",
    "rb_t_unq = prep_uniq_times(rb_time)\n",
    "rb_rmsvt = restr_mean_sv_t(rb_sv1, rb_t_unq, 12)"
   ]
  },
  {
   "cell_type": "code",
   "execution_count": 0,
   "metadata": {
    "application/vnd.databricks.v1+cell": {
     "cellMetadata": {},
     "inputWidgets": {},
     "nuid": "7dd45474-5713-4631-b5de-0c4398d4b73d",
     "showTitle": false,
     "title": ""
    }
   },
   "outputs": [],
   "source": [
    "p_sv1 = prep_sv_curv(bart_sv_fx_m)\n",
    "p_t_unq = bart_sv_t\n",
    "p_rmsvt = restr_mean_sv_t(p_sv1, p_t_unq, 12)"
   ]
  },
  {
   "cell_type": "code",
   "execution_count": 0,
   "metadata": {
    "application/vnd.databricks.v1+cell": {
     "cellMetadata": {},
     "inputWidgets": {},
     "nuid": "18f18d2c-11ff-4214-9f63-bf591f6e277a",
     "showTitle": false,
     "title": ""
    }
   },
   "outputs": [],
   "source": [
    "concordance_index_censored(\n",
    "    np.array(rb_delta, dtype=\"bool\"), \n",
    "    rb_time, \n",
    "    -rb_rmsvt\n",
    "    )"
   ]
  },
  {
   "cell_type": "code",
   "execution_count": 0,
   "metadata": {
    "application/vnd.databricks.v1+cell": {
     "cellMetadata": {},
     "inputWidgets": {},
     "nuid": "beb6d355-31a2-4b21-8234-48dbeceaafe2",
     "showTitle": false,
     "title": ""
    }
   },
   "outputs": [],
   "source": [
    "prob1 = pp_m.posterior_predictive[\"mu\"].mean((\"draw\", \"chain\")).values.reshape(100,11)\n",
    "concordance_index_censored(\n",
    "    np.array(rb_delta, dtype=\"bool\"),\n",
    "    rb_time,\n",
    "    # -p_rmsvt\n",
    "    prob1[:,0]\n",
    ")"
   ]
  },
  {
   "cell_type": "markdown",
   "metadata": {
    "application/vnd.databricks.v1+cell": {
     "cellMetadata": {},
     "inputWidgets": {},
     "nuid": "ab648e98-3b68-492f-8aa5-c7c1e64e77b9",
     "showTitle": false,
     "title": ""
    }
   },
   "source": [
    "Looks like the c-index is fine"
   ]
  },
  {
   "cell_type": "markdown",
   "metadata": {
    "application/vnd.databricks.v1+cell": {
     "cellMetadata": {},
     "inputWidgets": {},
     "nuid": "a90e7a2b-43ad-4d13-bb02-7e113b6ed1f1",
     "showTitle": false,
     "title": ""
    }
   },
   "source": [
    "# time-auc"
   ]
  },
  {
   "cell_type": "code",
   "execution_count": 0,
   "metadata": {
    "application/vnd.databricks.v1+cell": {
     "cellMetadata": {},
     "inputWidgets": {},
     "nuid": "cb5ffb1e-a692-4e10-8b64-2537b2b731df",
     "showTitle": false,
     "title": ""
    }
   },
   "outputs": [],
   "source": [
    "# prob1\n",
    "bart_sv_t"
   ]
  },
  {
   "cell_type": "code",
   "execution_count": 0,
   "metadata": {
    "application/vnd.databricks.v1+cell": {
     "cellMetadata": {},
     "inputWidgets": {},
     "nuid": "5e4dd747-2773-4004-a844-9d0395d19e6d",
     "showTitle": false,
     "title": ""
    }
   },
   "outputs": [],
   "source": [
    "rb_prob_val[0]"
   ]
  },
  {
   "cell_type": "code",
   "execution_count": 0,
   "metadata": {
    "application/vnd.databricks.v1+cell": {
     "cellMetadata": {},
     "inputWidgets": {},
     "nuid": "fe6fce37-6d0f-44ed-afb6-572a21af9c8d",
     "showTitle": false,
     "title": ""
    }
   },
   "outputs": [],
   "source": [
    "\n",
    "# y_sk \n",
    "# prob1\n",
    "# r\n",
    "p_cda = cumulative_dynamic_auc(survival_train=y_sk, survival_test=y_sk, estimate=prob1[:,1:], times=bart_sv_t[1:11])\n",
    "r_cda = cumulative_dynamic_auc(survival_train=y_sk, survival_test=y_sk, estimate=rb_prob_val[:,:10], times=bart_sv_t[1:11])\n",
    "# bart_sv_t[1:12]"
   ]
  },
  {
   "cell_type": "code",
   "execution_count": 0,
   "metadata": {
    "application/vnd.databricks.v1+cell": {
     "cellMetadata": {},
     "inputWidgets": {},
     "nuid": "44596738-8345-4320-a799-691a42a1a48b",
     "showTitle": false,
     "title": ""
    }
   },
   "outputs": [],
   "source": [
    "plt.plot(bart_sv_t[1:11], p_cda[0], marker=\"o\", alpha=0.2)\n",
    "plt.plot(bart_sv_t[1:11], r_cda[0], marker = \"o\", alpha=0.2)\n"
   ]
  },
  {
   "cell_type": "markdown",
   "metadata": {
    "application/vnd.databricks.v1+cell": {
     "cellMetadata": {},
     "inputWidgets": {},
     "nuid": "da129fc2-46d7-4d4c-9452-5a71ee88accd",
     "showTitle": false,
     "title": ""
    }
   },
   "source": [
    "# Integrated Brier score"
   ]
  },
  {
   "cell_type": "code",
   "execution_count": 0,
   "metadata": {
    "application/vnd.databricks.v1+cell": {
     "cellMetadata": {},
     "inputWidgets": {},
     "nuid": "fb8ae623-be8a-4c7a-b1cb-67e2883e609f",
     "showTitle": false,
     "title": ""
    }
   },
   "outputs": [],
   "source": [
    "p_ibs = integrated_brier_score(y_sk, y_sk, bart_sv_fx_m[:, 1:], bart_sv_t[1:11])\n",
    "r_ibs = integrated_brier_score(y_sk, y_sk, rb_surv_val[:, 1:], bart_sv_t[1:11])\n",
    "print(p_ibs, r_ibs)\n",
    "# p_cda = cumulative_dynamic_auc(survival_train=y_sk, survival_test=y_sk, estimate=prob1[:,1:], times=bart_sv_t[1:11])"
   ]
  }
 ],
 "metadata": {
  "application/vnd.databricks.v1+notebook": {
   "dashboards": [],
   "environmentMetadata": null,
   "language": "python",
   "notebookMetadata": {},
   "notebookName": "metrics_1",
   "widgets": {}
  },
  "kernelspec": {
   "display_name": "Python 3.10.6 64-bit",
   "language": "python",
   "name": "python3"
  },
  "language_info": {
   "codemirror_mode": {
    "name": "ipython",
    "version": 3
   },
   "file_extension": ".py",
   "mimetype": "text/x-python",
   "name": "python",
   "nbconvert_exporter": "python",
   "pygments_lexer": "ipython3",
   "version": "3.10.6"
  },
  "orig_nbformat": 4,
  "vscode": {
   "interpreter": {
    "hash": "31f2aee4e71d21fbe5cf8b01ff0e069b9275f58929596ceb00d14d90e3e16cd6"
   }
  }
 },
 "nbformat": 4,
 "nbformat_minor": 0
}
