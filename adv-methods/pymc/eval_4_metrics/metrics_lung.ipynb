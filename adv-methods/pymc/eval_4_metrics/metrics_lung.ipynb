{
 "cells": [
  {
   "cell_type": "code",
   "execution_count": 0,
   "metadata": {
    "application/vnd.databricks.v1+cell": {
     "cellMetadata": {},
     "inputWidgets": {},
     "nuid": "ea7dbb4d-2f2c-4832-9f57-8cfbbbc71beb",
     "showTitle": false,
     "title": ""
    }
   },
   "outputs": [],
   "source": [
    "import sksurv as sks\n",
    "import sksurv.preprocessing\n",
    "import sksurv.metrics\n",
    "import sksurv.datasets\n",
    "import sksurv.linear_model\n",
    "import sksurv.ensemble\n",
    "\n",
    "from pathlib import Path\n",
    "import arviz as az\n",
    "import matplotlib.pyplot as plt\n",
    "import numpy as np\n",
    "import pandas as pd\n",
    "import numpy as np\n",
    "import sklearn as skl\n",
    "import scipy.stats as sp\n",
    "\n",
    "import pymc as pm\n",
    "import pymc_bart as pmb\n",
    "import pandas as pd\n",
    "\n",
    "import importlib\n",
    "import mlflow as ml\n",
    "import simsurv_func as ssf\n",
    "import subprocess\n",
    "import lifelines\n",
    "import pytensor.tensor as tt\n",
    "import subprocess"
   ]
  },
  {
   "cell_type": "code",
   "execution_count": 0,
   "metadata": {
    "application/vnd.databricks.v1+cell": {
     "cellMetadata": {},
     "inputWidgets": {},
     "nuid": "c5a01c85-3285-40d4-b035-280549d38bbd",
     "showTitle": false,
     "title": ""
    }
   },
   "outputs": [],
   "source": [
    "lung = pd.read_csv(\"lung.csv\")\n",
    "lung[\"ph.karno\"] = lung[\"ph.karno\"].fillna(lung[\"pat.karno\"])\n",
    "lung[\"status\"] = lung[\"status\"] - 1\n",
    "lung[\"time\"] = np.ceil(lung[\"time\"]/30)\n",
    "train = lung[[\"time\", \"status\", \"sex\", \"age\", \"ph.karno\"]]"
   ]
  },
  {
   "cell_type": "code",
   "execution_count": 0,
   "metadata": {
    "application/vnd.databricks.v1+cell": {
     "cellMetadata": {},
     "inputWidgets": {},
     "nuid": "a4ecd645-284b-405a-992e-24f6fc744551",
     "showTitle": false,
     "title": ""
    }
   },
   "outputs": [],
   "source": [
    "train"
   ]
  },
  {
   "cell_type": "code",
   "execution_count": 0,
   "metadata": {
    "application/vnd.databricks.v1+cell": {
     "cellMetadata": {},
     "inputWidgets": {},
     "nuid": "8909baea-e8c7-4f13-a9b4-ad64a187356f",
     "showTitle": false,
     "title": ""
    }
   },
   "outputs": [],
   "source": [
    "TRAIN_CSV = \"lung_train.csv\"\n",
    "RBART_CSV = \"lung_result.csv\"\n",
    "train.to_csv(TRAIN_CSV)"
   ]
  },
  {
   "cell_type": "markdown",
   "metadata": {
    "application/vnd.databricks.v1+cell": {
     "cellMetadata": {},
     "inputWidgets": {},
     "nuid": "7ace966f-81a5-464e-a592-36163c198874",
     "showTitle": false,
     "title": ""
    }
   },
   "source": [
    "# Set up pymc-bart"
   ]
  },
  {
   "cell_type": "code",
   "execution_count": 0,
   "metadata": {
    "application/vnd.databricks.v1+cell": {
     "cellMetadata": {},
     "inputWidgets": {},
     "nuid": "2a65c153-f552-49bb-a187-98fe4ca9f1de",
     "showTitle": false,
     "title": ""
    }
   },
   "outputs": [],
   "source": [
    "# get x,y in sklearn format\n",
    "y_sk = ssf.get_y_sklearn(lung[\"status\"], lung[\"time\"])\n",
    "x_sk = train.iloc[:,2:]"
   ]
  },
  {
   "cell_type": "code",
   "execution_count": 0,
   "metadata": {
    "application/vnd.databricks.v1+cell": {
     "cellMetadata": {},
     "inputWidgets": {},
     "nuid": "595de26a-65c5-4a75-a538-4c2b7d8f31d0",
     "showTitle": false,
     "title": ""
    }
   },
   "outputs": [],
   "source": [
    "# get long format\n",
    "# tranform data long-form\n",
    "b_tr_t, b_tr_delta, b_tr_x = ssf.surv_pre_train2(x_sk, y_sk)\n",
    "# b_te_t, b_te_x = surv_pre_test(x_sk, y_sk)\n",
    "b_te_x = ssf.get_bart_test(x_sk, np.unique(b_tr_t))\n",
    "off = sp.norm.ppf(np.mean(b_tr_delta))"
   ]
  },
  {
   "cell_type": "code",
   "execution_count": 0,
   "metadata": {
    "application/vnd.databricks.v1+cell": {
     "cellMetadata": {},
     "inputWidgets": {},
     "nuid": "cc80aa4b-d991-4c99-b832-cf2deb8c4f3b",
     "showTitle": false,
     "title": ""
    }
   },
   "outputs": [],
   "source": [
    "with pm.Model() as bart:    \n",
    "    x_data = pm.MutableData(\"x\", b_tr_x)\n",
    "    f = pmb.BART(\"f\", \n",
    "            X=x_data, \n",
    "            Y=b_tr_delta,\n",
    "            m=200, \n",
    "            split_rules = [pmb.ContinuousSplitRule(), \n",
    "                            pmb.OneHotSplitRule(),\n",
    "                            pmb.ContinuousSplitRule(),\n",
    "                            pmb.ContinuousSplitRule()])\n",
    "    z = pm.Deterministic(\"z\", f + off)\n",
    "    mu = pm.Deterministic(\"mu\", pm.math.invprobit(z))\n",
    "    y_pred = pm.Bernoulli(\"y_pred\", p=mu, observed=b_tr_delta, shape=x_data.shape[0])\n",
    "    bdata = pm.sample(random_seed=2, draws=200, tune = 200, cores=4)\n",
    "\n",
    "with bart:\n",
    "    pm.set_data({\"x\":pd.DataFrame(b_te_x)}, coords= {\"obs\":np.arange(0,b_te_x.shape[0],1)})\n",
    "    pp = pm.sample_posterior_predictive(bdata, var_names = [\"y_pred\", \"f\", \"z\", \"mu\"])\n",
    "\n"
   ]
  },
  {
   "cell_type": "code",
   "execution_count": 0,
   "metadata": {
    "application/vnd.databricks.v1+cell": {
     "cellMetadata": {},
     "inputWidgets": {},
     "nuid": "78b0f922-8b43-4794-9bad-b9b5f1811791",
     "showTitle": false,
     "title": ""
    }
   },
   "outputs": [],
   "source": [
    "# transform to survival\n",
    "bart_sv_fx = ssf.get_sv_fx(pp, x_sk)\n",
    "# bart_svt\n",
    "bart_sv_t = np.unique(b_tr_t)\n",
    "\n",
    "# add a time 0 with prob 1 \n",
    "bart_sv_t = np.concatenate([np.array([0]), bart_sv_t])\n",
    "bart_sv_val = [np.concatenate([np.array([1]), sv]) for sv in bart_sv_fx]\n"
   ]
  },
  {
   "cell_type": "code",
   "execution_count": 0,
   "metadata": {
    "application/vnd.databricks.v1+cell": {
     "cellMetadata": {},
     "inputWidgets": {},
     "nuid": "cc65f912-239b-464d-b130-f8a480677c29",
     "showTitle": false,
     "title": ""
    }
   },
   "outputs": [],
   "source": [
    "# get raw probs\n",
    "n_t = np.unique(b_tr_t).shape[0]\n",
    "n = x_sk.shape[0]\n",
    "bart_prob_val = pp.posterior_predictive[\"mu\"].mean((\"chain\",\"draw\")).values.reshape(n, n_t)"
   ]
  },
  {
   "cell_type": "markdown",
   "metadata": {
    "application/vnd.databricks.v1+cell": {
     "cellMetadata": {},
     "inputWidgets": {},
     "nuid": "5d5b72f1-ee48-4c80-9d74-f62e92075e1c",
     "showTitle": false,
     "title": ""
    }
   },
   "source": [
    "# Run RBART"
   ]
  },
  {
   "cell_type": "code",
   "execution_count": 0,
   "metadata": {
    "application/vnd.databricks.v1+cell": {
     "cellMetadata": {},
     "inputWidgets": {},
     "nuid": "fb4ae913-cfab-4652-9090-aabdf8b154a0",
     "showTitle": false,
     "title": ""
    }
   },
   "outputs": [],
   "source": [
    "p1 = subprocess.Popen([\n",
    "        \"Rscript\",\n",
    "        \"lung_run.r\",\n",
    "        TRAIN_CSV,\n",
    "        RBART_CSV\n",
    "        ])\n",
    "p1.wait()"
   ]
  },
  {
   "cell_type": "code",
   "execution_count": 0,
   "metadata": {
    "application/vnd.databricks.v1+cell": {
     "cellMetadata": {},
     "inputWidgets": {},
     "nuid": "0df85444-27dd-4984-a395-82354346ff82",
     "showTitle": false,
     "title": ""
    }
   },
   "outputs": [],
   "source": [
    "rbart = pd.read_csv(RBART_CSV)\n",
    "rbart"
   ]
  },
  {
   "cell_type": "code",
   "execution_count": 0,
   "metadata": {
    "application/vnd.databricks.v1+cell": {
     "cellMetadata": {},
     "inputWidgets": {},
     "nuid": "704c7d98-f792-4648-9226-f2c72fa08fa8",
     "showTitle": false,
     "title": ""
    }
   },
   "outputs": [],
   "source": [
    "# get rbart components\n",
    "tshape = np.unique(train[\"time\"]).shape[0]\n",
    "N = train.shape[0]\n",
    "rb_surv_val = rbart[\"surv\"].to_numpy().reshape((N,tshape))\n",
    "rb_prob_val = rbart[\"prob\"].to_numpy().reshape((N,tshape))\n",
    "rb_mat = rbart[[\"sex\",\"age\",\"ph.karno\"]][rbart[\"t\"] == 1].to_numpy()\n",
    "rb_time = train[\"time\"].to_numpy()\n",
    "rb_delta = train[\"status\"].to_numpy()"
   ]
  },
  {
   "cell_type": "markdown",
   "metadata": {
    "application/vnd.databricks.v1+cell": {
     "cellMetadata": {},
     "inputWidgets": {},
     "nuid": "06fd0413-0abb-4529-8c78-cb398706723e",
     "showTitle": false,
     "title": ""
    }
   },
   "source": [
    "# Metrics"
   ]
  },
  {
   "cell_type": "code",
   "execution_count": 0,
   "metadata": {
    "application/vnd.databricks.v1+cell": {
     "cellMetadata": {},
     "inputWidgets": {},
     "nuid": "9c96779a-bcda-49a6-bc6d-415106b82515",
     "showTitle": false,
     "title": ""
    }
   },
   "outputs": [],
   "source": [
    "from sksurv.metrics import (\n",
    "    concordance_index_censored,\n",
    "    concordance_index_ipcw,\n",
    "    cumulative_dynamic_auc,\n",
    "    integrated_brier_score,\n",
    ")"
   ]
  },
  {
   "cell_type": "markdown",
   "metadata": {
    "application/vnd.databricks.v1+cell": {
     "cellMetadata": {},
     "inputWidgets": {},
     "nuid": "f7debd36-9107-4c08-946f-bdb766edf7ef",
     "showTitle": false,
     "title": ""
    }
   },
   "source": [
    "## C-index"
   ]
  },
  {
   "cell_type": "code",
   "execution_count": 0,
   "metadata": {
    "application/vnd.databricks.v1+cell": {
     "cellMetadata": {},
     "inputWidgets": {},
     "nuid": "e9020d86-51b7-4f21-bea4-49c406e1560a",
     "showTitle": false,
     "title": ""
    }
   },
   "outputs": [],
   "source": [
    "# get the quantiles to evaluate on 0.25, 0.5,0.75\n",
    "idx_quant = [np.array(np.round(x),dtype=\"int\") for x in (tshape*.25, tshape*.5, tshape*.75)]\n",
    "\n",
    "# empy array\n",
    "rb_cindx = np.zeros(shape=(len(idx_quant)))\n",
    "pb_cindx = np.zeros(shape=(len(idx_quant)))\n",
    "\n",
    "# get c-index\n",
    "for idx, i in enumerate(idx_quant):\n",
    "    rb_cindx[idx] = concordance_index_censored(\n",
    "                event_indicator=y_sk[\"Status\"],\n",
    "                event_time=y_sk[\"Survival_in_days\"],\n",
    "                estimate=rb_prob_val[:,i]\n",
    "            )[0]\n",
    "    pb_cindx[idx] = concordance_index_censored(\n",
    "                event_indicator=y_sk[\"Status\"],\n",
    "                event_time=y_sk[\"Survival_in_days\"],\n",
    "                estimate=bart_prob_val[:,i]\n",
    "            )[0]"
   ]
  },
  {
   "cell_type": "code",
   "execution_count": 0,
   "metadata": {
    "application/vnd.databricks.v1+cell": {
     "cellMetadata": {},
     "inputWidgets": {},
     "nuid": "4c830e38-70cb-43c8-b08e-dcb05d3a4694",
     "showTitle": false,
     "title": ""
    }
   },
   "outputs": [],
   "source": [
    "print(f\"CINDEX at .25, .5, .75 quantile times using probability values\")\n",
    "print(f\"RBART CINDEX: {rb_cindx}\")\n",
    "print(f\"PYMC-BART CINDEX: {pb_cindx}\")"
   ]
  },
  {
   "cell_type": "markdown",
   "metadata": {
    "application/vnd.databricks.v1+cell": {
     "cellMetadata": {},
     "inputWidgets": {},
     "nuid": "d86965e7-b7b7-4767-b069-a1f1fb67929a",
     "showTitle": false,
     "title": ""
    }
   },
   "source": [
    "## TIME-AUC\n"
   ]
  },
  {
   "cell_type": "code",
   "execution_count": 0,
   "metadata": {
    "application/vnd.databricks.v1+cell": {
     "cellMetadata": {},
     "inputWidgets": {},
     "nuid": "89b4bf41-d090-4d17-9258-7620c0162121",
     "showTitle": false,
     "title": ""
    }
   },
   "outputs": [],
   "source": [
    "# get the quantiles to evaluate on 0.25, 0.5,0.75\n",
    "idx_quant = [np.array(np.round(x),dtype=\"int\") for x in (tshape*.1, tshape*.25, tshape*.5, tshape*.75, tshape*.9)]\n",
    "rb_uniq_t = np.unique(rb_time)\n",
    "\n",
    "r_cda = cumulative_dynamic_auc(survival_train=y_sk, survival_test=y_sk, estimate=rb_prob_val[:, idx_quant], times=rb_uniq_t[idx_quant])\n",
    "p_cda = cumulative_dynamic_auc(survival_train=y_sk, survival_test=y_sk, estimate=bart_prob_val[:,idx_quant], times=rb_uniq_t[idx_quant])"
   ]
  },
  {
   "cell_type": "code",
   "execution_count": 0,
   "metadata": {
    "application/vnd.databricks.v1+cell": {
     "cellMetadata": {},
     "inputWidgets": {},
     "nuid": "ce4f30f7-728a-4820-a1cf-686c9f499171",
     "showTitle": false,
     "title": ""
    }
   },
   "outputs": [],
   "source": [
    "print(f\"PYMC Cumul Dynamic AUC {p_cda[0]} \\n AVE {p_cda[1]}\")\n",
    "print(f\"RBART Cumul Dynamic AUC {r_cda[0]} \\n AVE {r_cda[1]}\")"
   ]
  },
  {
   "cell_type": "code",
   "execution_count": 0,
   "metadata": {
    "application/vnd.databricks.v1+cell": {
     "cellMetadata": {},
     "inputWidgets": {},
     "nuid": "6623e803-8c31-43b1-81d4-335b5cbac3da",
     "showTitle": false,
     "title": ""
    }
   },
   "outputs": [],
   "source": [
    "plt.plot(rb_uniq_t[idx_quant], r_cda[0], marker=\"o\", label=\"rbart\")\n",
    "plt.plot(rb_uniq_t[idx_quant], p_cda[0], marker=\"o\", label=\"pymc\")\n",
    "plt.legend()"
   ]
  },
  {
   "cell_type": "markdown",
   "metadata": {
    "application/vnd.databricks.v1+cell": {
     "cellMetadata": {},
     "inputWidgets": {},
     "nuid": "7bc8b91b-25ed-4643-a3d7-fc090f9c41f2",
     "showTitle": false,
     "title": ""
    }
   },
   "source": [
    "## BRIER SCORE"
   ]
  },
  {
   "cell_type": "code",
   "execution_count": 0,
   "metadata": {
    "application/vnd.databricks.v1+cell": {
     "cellMetadata": {},
     "inputWidgets": {},
     "nuid": "0323aee8-12ad-46ad-b7a9-087f995d7df3",
     "showTitle": false,
     "title": ""
    }
   },
   "outputs": [],
   "source": [
    "p_ibs = integrated_brier_score(y_sk, y_sk, bart_sv_fx[:, 1:-1], rb_uniq_t[1:-1])\n",
    "r_ibs = integrated_brier_score(y_sk, y_sk, rb_surv_val[:, 1:-1], rb_uniq_t[1:-1])\n",
    "\n",
    "print(f\"PYMC BRIER SCORE: {p_ibs}\")\n",
    "print(f\"RBART BRIER SCORE: {r_ibs}\")"
   ]
  },
  {
   "cell_type": "code",
   "execution_count": 0,
   "metadata": {
    "application/vnd.databricks.v1+cell": {
     "cellMetadata": {},
     "inputWidgets": {},
     "nuid": "3613f31d-1a57-4f37-b22c-a92eaed2dce6",
     "showTitle": false,
     "title": ""
    }
   },
   "outputs": [],
   "source": [
    "# bart_sv_t[idx_quant]\n",
    "# rb_prob_val[0].shape\n",
    "# rb_time[idx_quant]\n",
    "# np.unique(rb_time)[idx_quant]\n",
    "rb_uniq_t[idx_quant]\n",
    "rb_prob_val[:,idx_quant]"
   ]
  },
  {
   "cell_type": "markdown",
   "metadata": {
    "application/vnd.databricks.v1+cell": {
     "cellMetadata": {},
     "inputWidgets": {},
     "nuid": "46904322-1d52-43ca-9a8a-ff5531e83fd0",
     "showTitle": false,
     "title": ""
    }
   },
   "source": [
    "# Plot Posterior Predictive on sex (NOT A FPD)"
   ]
  },
  {
   "cell_type": "code",
   "execution_count": 0,
   "metadata": {
    "application/vnd.databricks.v1+cell": {
     "cellMetadata": {},
     "inputWidgets": {},
     "nuid": "5d2e0049-43ac-4433-be30-48d05eef1bcb",
     "showTitle": false,
     "title": ""
    }
   },
   "outputs": [],
   "source": [
    "# add the 0 time sv val\n",
    "rb_surv_adj = np.hstack([np.repeat(1, rb_surv_val.shape[0]).reshape(rb_surv_val.shape[0],1), rb_surv_val])\n",
    "rb_t_adj = np.hstack([0, rb_uniq_t])\n",
    "\n",
    "rb_ml = rb_surv_adj[rb_mat[:,0] == 1,:]\n",
    "rb_fl = rb_surv_adj[rb_mat[:,0] == 2,:]\n"
   ]
  },
  {
   "cell_type": "code",
   "execution_count": 0,
   "metadata": {
    "application/vnd.databricks.v1+cell": {
     "cellMetadata": {},
     "inputWidgets": {},
     "nuid": "ccb7e0a5-0182-4af7-ad98-10d4c213ace0",
     "showTitle": false,
     "title": ""
    }
   },
   "outputs": [],
   "source": [
    "p_ml = np.array(bart_sv_val)[rb_mat[:,0]==1,:]\n",
    "p_fl = np.array(bart_sv_val)[rb_mat[:,0]==2,:]"
   ]
  },
  {
   "cell_type": "code",
   "execution_count": 0,
   "metadata": {
    "application/vnd.databricks.v1+cell": {
     "cellMetadata": {},
     "inputWidgets": {},
     "nuid": "cca3493f-f5cf-4f48-8482-22fc5e5f36b4",
     "showTitle": false,
     "title": ""
    }
   },
   "outputs": [],
   "source": [
    "plt.plot(rb_t_adj.T, rb_fl.T, color=\"red\", alpha=0.2)\n",
    "plt.plot(bart_sv_t.T, p_fl.T, color = \"purple\", alpha=0.1)\n",
    "plt.legend()"
   ]
  },
  {
   "cell_type": "code",
   "execution_count": 0,
   "metadata": {
    "application/vnd.databricks.v1+cell": {
     "cellMetadata": {},
     "inputWidgets": {},
     "nuid": "684fedde-fa69-4072-b6a2-7898a51e3ca4",
     "showTitle": false,
     "title": ""
    }
   },
   "outputs": [],
   "source": [
    "plt.plot(rb_t_adj.T, rb_ml.T, color=\"lightgreen\", alpha=0.2)\n",
    "plt.plot(bart_sv_t.T, p_ml.T, color = \"lightblue\", alpha=0.2)\n",
    "plt.legend()"
   ]
  },
  {
   "cell_type": "markdown",
   "metadata": {
    "application/vnd.databricks.v1+cell": {
     "cellMetadata": {},
     "inputWidgets": {},
     "nuid": "6a5bd729-2874-4aa7-9eb8-858c8306b5a5",
     "showTitle": false,
     "title": ""
    }
   },
   "source": [
    "## pat level difference"
   ]
  },
  {
   "cell_type": "code",
   "execution_count": 0,
   "metadata": {
    "application/vnd.databricks.v1+cell": {
     "cellMetadata": {},
     "inputWidgets": {},
     "nuid": "ef67eebd-8112-4525-8137-29c8580d23c5",
     "showTitle": false,
     "title": ""
    }
   },
   "outputs": [],
   "source": [
    "diff_mean = np.zeros_like(rb_t_adj)\n",
    "diff_95 = np.zeros_like(rb_t_adj)\n",
    "diff_05 = np.zeros_like(rb_t_adj)\n",
    "diff_25 = np.zeros_like(rb_t_adj)\n",
    "diff_50 = np.zeros_like(rb_t_adj)\n",
    "diff_75 = np.zeros_like(rb_t_adj)\n",
    "for idx, i in enumerate(rb_t_adj):\n",
    "    diff = rb_surv_adj[:,idx] - np.array(bart_sv_val)[:,idx]\n",
    "    diff_mean[idx] = diff.mean()\n",
    "    # print(diff)\n",
    "    \n",
    "    diff_pc = np.quantile(diff, [0.05, .25, .5, .75, 0.95])\n",
    "    # print(diff_pc)\n",
    "    \n",
    "    diff_05[idx] = diff_pc[0]\n",
    "    diff_25[idx] = diff_pc[1]\n",
    "    diff_50[idx] = diff_pc[2]\n",
    "    diff_75[idx] = diff_pc[3]\n",
    "    diff_95[idx] = diff_pc[4]\n",
    "\n",
    "    # print(diff_pc)\n",
    "    # print(i)\n"
   ]
  },
  {
   "cell_type": "code",
   "execution_count": 0,
   "metadata": {
    "application/vnd.databricks.v1+cell": {
     "cellMetadata": {},
     "inputWidgets": {},
     "nuid": "45c9a662-9163-4e2e-86f1-82770cebd05c",
     "showTitle": false,
     "title": ""
    }
   },
   "outputs": [],
   "source": [
    "plt.plot(rb_t_adj, diff_mean, label = \"mean diff\", marker=\"1\")\n",
    "plt.plot(rb_t_adj, diff_05, label = \".05 diff\")\n",
    "plt.plot(rb_t_adj, diff_25, label = \".25 diff\")\n",
    "plt.plot(rb_t_adj, diff_50, label = \".50 diff\")\n",
    "plt.plot(rb_t_adj, diff_75, label = \".75 diff\")\n",
    "plt.plot(rb_t_adj, diff_95, label = \".95 diff\")\n",
    "plt.legend()"
   ]
  },
  {
   "cell_type": "markdown",
   "metadata": {
    "application/vnd.databricks.v1+cell": {
     "cellMetadata": {},
     "inputWidgets": {},
     "nuid": "f59d58ba-e388-42c4-9159-9f78de2eb4ca",
     "showTitle": false,
     "title": ""
    }
   },
   "source": [
    "Mean abs difference hangs around 0.01\n",
    "The increasing trend with time indicates the PYMC bart approaches 0% survival slightly more quickly than the RBART. However as the mean and 50% interval indicates that the difference is fairly insiginificant across most of the matched patient values."
   ]
  }
 ],
 "metadata": {
  "application/vnd.databricks.v1+notebook": {
   "dashboards": [],
   "environmentMetadata": null,
   "language": "python",
   "notebookMetadata": {},
   "notebookName": "metrics_lung",
   "widgets": {}
  },
  "kernelspec": {
   "display_name": "Python 3.10.6 64-bit",
   "language": "python",
   "name": "python3"
  },
  "language_info": {
   "codemirror_mode": {
    "name": "ipython",
    "version": 3
   },
   "file_extension": ".py",
   "mimetype": "text/x-python",
   "name": "python",
   "nbconvert_exporter": "python",
   "pygments_lexer": "ipython3",
   "version": "3.10.6"
  },
  "orig_nbformat": 4,
  "vscode": {
   "interpreter": {
    "hash": "31f2aee4e71d21fbe5cf8b01ff0e069b9275f58929596ceb00d14d90e3e16cd6"
   }
  }
 },
 "nbformat": 4,
 "nbformat_minor": 0
}
