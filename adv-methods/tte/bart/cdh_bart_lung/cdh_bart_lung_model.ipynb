{
 "cells": [
  {
   "cell_type": "code",
   "execution_count": 0,
   "metadata": {
    "application/vnd.databricks.v1+cell": {
     "cellMetadata": {
      "byteLimit": 2048000,
      "rowLimit": 10000
     },
     "inputWidgets": {},
     "nuid": "42378546-995d-4b55-840f-4863491b3ae7",
     "showTitle": false,
     "title": ""
    }
   },
   "outputs": [],
   "source": [
    "import pymc as pm\n",
    "import pymc_bart as pmb\n",
    "#import matplotlib.pyplot as plt\n",
    "\n",
    "#import sklearn as skl\n",
    "#import scipy.stats as sp\n",
    "#import shared.simsurv_func as ssf\n",
    "import mlflow\n",
    "# import pyspark\n",
    "# M = 200 # number of trees\n",
    "# DRAWS = 200\n",
    "# TUNE = 100\n",
    "# CORES = 4\n",
    "# SPLIT_RULES = \"[pmb.ContinuousSplitRule(), pmb.ContinuousSplitRule(), pmb.OneHotSplitRule(), pmb.OneHotSplitRule()]\"\n",
    "\n",
    "experiment_id=dbutils.jobs.taskValues.get(\"cdh-ml-model\",\n",
    "                                          \"experiment_id\",\n",
    "                                          debugValue=2221480985583347)\n",
    "\n",
    "#run_name = dbutils.jobs.taskValues.get(\"cdh-ml-init\", \n",
    "#                                         \"run_name\", \n",
    "#                                         debugValue=\"test2\")\n",
    "\n",
    "#run_id = dbutils.jobs.taskValues.get(\"cdh-ml-run\",\n",
    "#                                    \"run_id_main\",\n",
    "#                                    debugValue = \"5c4b0bab2668466ea9ac022e482adc35\")\n",
    "ptask=\"cdh-ml-bart-data\"\n",
    "training = dbutils.jobs.taskValues.get(ptask, \"training\")\n",
    "ptask=\"cdh-ml-bart-init\"\n",
    "M = dbutils.jobs.taskValues.get(ptask, \"M\", debugValue=200)\n",
    "DRAWS = dbutils.jobs.taskValues.get(ptask, \"DRAWS\", debugValue=200)\n",
    "TUNE = dbutils.jobs.taskValues.get(ptask, \"TUNE\", debugValue=200)\n",
    "CORES = dbutils.jobs.taskValues.get(ptask, \"CORES\", debugValue=4)\n",
    "SPLIT_RULES = eval(dbutils.jobs.taskValues.get(ptask, \"SPLIT_RULES\", debugValue=\"[pmb.ContinuousSplitRule(), pmb.ContinuousSplitRule(), pmb.OneHotSplitRule(), pmb.OneHotSplitRule()]\"))\n",
    "\n",
    "SEED=2\n",
    "ALPHA=0.95\n",
    "\n",
    "mlflow.set_experiment(experiment_id=experiment_id)\n",
    "print(training.keys())\n",
    "# BART\n",
    "# M = 200 # number of trees\n",
    "# DRAWS = 2000\n",
    "# TUNE = 1000\n",
    "# CORES = 4\n",
    "# SPLIT_RULES = \"[pmb.ContinuousSplitRule(), pmb.ContinuousSplitRule(), pmb.OneHotSplitRule(), pmb.OneHotSplitRule()]\"\n",
    "\n",
    "    # run pymc\n",
    "offset = sp.norm.ppf(np.mean(b_tr_delta))\n",
    "with pm.Model() as bart:\n",
    "    x_data = pm.MutableData(\"x\", b_tr_x)\n",
    "    f = pmb.BART(\"f\", X=x_data, Y=b_tr_delta, m=M, alpha = ALPHA, split_rules=SPLIT_RULES)\n",
    "    z = pm.Deterministic(\"z\", f + offset)\n",
    "    mu = pm.Deterministic(\"mu\", pm.math.invprobit(z))\n",
    "    y_pred = pm.Bernoulli(\"y_pred\", p=mu, observed=b_tr_delta, shape=x_data.shape[0])\n",
    "    bdata = pm.sample(random_seed=SEED, draws=DRAWS, tune = TUNE, cores=CORES)\n",
    "\n",
    "#akb add\n",
    "pm.model_to_graphviz(bart)\n",
    "with bart:\n",
    "# pm.set_data({\"x\":pd.DataFrame(test_x), \"off\":off_test})\n",
    "    pm.set_data({\"x\":spark.DataFrame(b_te_x3)})\n",
    "    pp = pm.sample_posterior_predictive(bdata, var_names = [\"y_pred\", \"f\", \"z\", \"mu\"])\n",
    "\n",
    "with mlflow.start_run(experiment_id=experiment_id, run_id=run_id) as run:\n",
    "\n",
    "    # get survival\n",
    "    x_out = np.concatenate([x_sk.to_numpy(), x_sk.to_numpy()], axis=0)\n",
    "    bart_sv_fx = ssf.get_sv_fx(pp, x_out)\n",
    "\n",
    "    # get the original and counterfactual\n",
    "    og_shp = x_sk.shape[0]\n",
    "    or_bart_sv_fx = bart_sv_fx[0:og_shp,:]\n",
    "    cf_bart_sv_fx = bart_sv_fx[og_shp:, :]\n",
    "\n",
    "    # get mean and quantile\n",
    "    or1 = or_bart_sv_fx.mean(axis=0)\n",
    "    orp = np.quantile(or_bart_sv_fx, q=[0.05,0.95], axis=0)\n",
    "    cf1 = cf_bart_sv_fx.mean(axis=0)\n",
    "    cfp = np.quantile(cf_bart_sv_fx, q=[0.05,0.95], axis=0)\n",
    "\n",
    "\n",
    "    plt_time = np.unique(b_tr_t)\n",
    "\n",
    "    # plot\n",
    "    fig = plt.figure()\n",
    "    plt.step(plt_time, or1, label = \"male\", color=\"darkblue\")\n",
    "    plt.step(plt_time, orp[0], color=\"darkblue\", alpha=.4)\n",
    "    plt.step(plt_time, orp[1], color=\"darkblue\", alpha=.4)\n",
    "    plt.step(plt_time, cf1, label = \"female\", color=\"darkorange\")\n",
    "    plt.step(plt_time, cfp[0], color=\"darkorange\", alpha=.4)\n",
    "    plt.step(plt_time, cfp[1], color=\"darkorange\", alpha=.4)\n",
    "    plt.legend()\n",
    "    mlflow.log_figure(fig, \"male_female.png\")"
   ]
  }
 ],
 "metadata": {
  "application/vnd.databricks.v1+notebook": {
   "dashboards": [],
   "environmentMetadata": null,
   "language": "python",
   "notebookMetadata": {
    "pythonIndentUnit": 4
   },
   "notebookName": "cdh_bart_lung_model",
   "widgets": {}
  },
  "kernelspec": {
   "display_name": "Python 3.10.6 64-bit",
   "language": "python",
   "name": "python3"
  },
  "language_info": {
   "codemirror_mode": {
    "name": "ipython",
    "version": 3
   },
   "file_extension": ".py",
   "mimetype": "text/x-python",
   "name": "python",
   "nbconvert_exporter": "python",
   "pygments_lexer": "ipython3",
   "version": "3.10.6"
  },
  "orig_nbformat": 4,
  "vscode": {
   "interpreter": {
    "hash": "916dbcbb3f70747c44a77c7bcd40155683ae19c65e1c03b4aa3499c5328201f1"
   }
  }
 },
 "nbformat": 4,
 "nbformat_minor": 0
}
