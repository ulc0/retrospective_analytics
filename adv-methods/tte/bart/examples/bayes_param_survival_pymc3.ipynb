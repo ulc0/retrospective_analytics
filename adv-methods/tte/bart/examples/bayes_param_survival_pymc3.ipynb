{
 "cells": [
  {
   "cell_type": "markdown",
   "metadata": {
    "application/vnd.databricks.v1+cell": {
     "cellMetadata": {},
     "inputWidgets": {},
     "nuid": "4554b23d-28c7-45e7-995a-57b2f4180d4d",
     "showTitle": false,
     "title": ""
    }
   },
   "source": [
    "# Bayesian Parametric Survival Analysis with PyMC3"
   ]
  },
  {
   "cell_type": "code",
   "execution_count": 0,
   "metadata": {
    "application/vnd.databricks.v1+cell": {
     "cellMetadata": {
      "byteLimit": 2048000,
      "rowLimit": 10000
     },
     "inputWidgets": {},
     "nuid": "ff4cfb3f-2bed-4e34-97ff-b36eba696d05",
     "showTitle": false,
     "title": ""
    }
   },
   "outputs": [],
   "source": [
    "import warnings\n",
    "\n",
    "import arviz as az\n",
    "import numpy as np\n",
    "import pymc as pm\n",
    "import scipy as sp\n",
    "import seaborn as sns\n",
    "\n",
    "from matplotlib import pyplot as plt\n",
    "from matplotlib.ticker import StrMethodFormatter\n",
    "from statsmodels import datasets\n",
    "from pytensor import shared\n",
    "from pytensor import tensor as tt\n",
    "\n",
    "print(f\"Running on PyMC3 v{pm.__version__}\")"
   ]
  },
  {
   "cell_type": "code",
   "execution_count": 0,
   "metadata": {
    "application/vnd.databricks.v1+cell": {
     "cellMetadata": {
      "byteLimit": 2048000,
      "rowLimit": 10000
     },
     "inputWidgets": {},
     "nuid": "efbdb726-8e0c-4567-9eca-b0a5079e6a73",
     "showTitle": false,
     "title": ""
    }
   },
   "outputs": [],
   "source": [
    "warnings.filterwarnings(\"ignore\")"
   ]
  },
  {
   "cell_type": "code",
   "execution_count": 0,
   "metadata": {
    "application/vnd.databricks.v1+cell": {
     "cellMetadata": {
      "byteLimit": 2048000,
      "rowLimit": 10000
     },
     "inputWidgets": {},
     "nuid": "dce8b4cb-5bd9-4a5e-a18d-ec41fa1a20bf",
     "showTitle": false,
     "title": ""
    }
   },
   "outputs": [],
   "source": [
    "%config InlineBackend.figure_format = 'retina'\n",
    "az.style.use(\"arviz-darkgrid\")"
   ]
  },
  {
   "cell_type": "markdown",
   "metadata": {
    "application/vnd.databricks.v1+cell": {
     "cellMetadata": {},
     "inputWidgets": {},
     "nuid": "e527777a-7ac2-45f4-8471-b8a5d57741d6",
     "showTitle": false,
     "title": ""
    }
   },
   "source": [
    "[Survival analysis](https://en.wikipedia.org/wiki/Survival_analysis) studies the distribution of the time between when a subject comes under observation and when that subject experiences an event of interest.  One of the fundamental challenges of survival analysis (which also makes is mathematically interesting) is that, in general, not every subject will experience the event of interest before we conduct our analysis.  In more concrete terms, if we are studying the time between cancer treatment and death (as we will in this post), we will often want to analyze our data before every subject has died.  This phenomenon is called <a href=\"https://en.wikipedia.org/wiki/Censoring_(statistics)\">censoring</a> and is fundamental to survival analysis.\n",
    "\n",
    "I have previously [written](http://austinrochford.com/posts/2015-10-05-bayes-survival.html) about Bayesian survival analysis using the [semiparametric](https://en.wikipedia.org/wiki/Semiparametric_model) [Cox proportional hazards model](https://en.wikipedia.org/wiki/Proportional_hazards_model#The_Cox_model).  Implementing that semiparametric model in PyMC3 involved some fairly complex `numpy` code and nonobvious probability theory equivalences.  This post illustrates a parametric approach to Bayesian survival analysis in PyMC3.  Parametric models of survival are simpler to both implement and understand than semiparametric models; statistically, they are also more [powerful](https://en.wikipedia.org/wiki/Statistical_power) than non- or semiparametric methods _when they are correctly specified_. This post will not further cover the differences between parametric and nonparametric models or the various methods for chosing between them.\n",
    "\n",
    "As in the previous post, we will analyze [mastectomy data](https://vincentarelbundock.github.io/Rdatasets/doc/HSAUR/mastectomy.html) from `R`'s [`HSAUR`](https://cran.r-project.org/web/packages/HSAUR/index.html) package.  First, we load the data."
   ]
  },
  {
   "cell_type": "code",
   "execution_count": 0,
   "metadata": {
    "application/vnd.databricks.v1+cell": {
     "cellMetadata": {
      "byteLimit": 2048000,
      "rowLimit": 10000
     },
     "inputWidgets": {},
     "nuid": "cae90c19-172f-456b-ab16-a64fdb8ab64a",
     "showTitle": false,
     "title": ""
    }
   },
   "outputs": [],
   "source": [
    "sns.set()\n",
    "blue, green, red, purple, gold, teal = sns.color_palette(n_colors=6)\n",
    "\n",
    "pct_formatter = StrMethodFormatter(\"{x:.1%}\")"
   ]
  },
  {
   "cell_type": "code",
   "execution_count": 0,
   "metadata": {
    "application/vnd.databricks.v1+cell": {
     "cellMetadata": {
      "byteLimit": 2048000,
      "rowLimit": 10000
     },
     "inputWidgets": {},
     "nuid": "c82a8032-e570-4b6e-96a6-dff7d3385dd5",
     "showTitle": false,
     "title": ""
    }
   },
   "outputs": [],
   "source": [
    "df = datasets.get_rdataset(\"mastectomy\", \"HSAUR\", cache=True).data.assign(\n",
    "    metastized=lambda df: 1.0 * (df.metastized == \"yes\"), event=lambda df: 1.0 * df.event\n",
    ")"
   ]
  },
  {
   "cell_type": "code",
   "execution_count": 0,
   "metadata": {
    "application/vnd.databricks.v1+cell": {
     "cellMetadata": {
      "byteLimit": 2048000,
      "rowLimit": 10000
     },
     "inputWidgets": {},
     "nuid": "b0ff81f6-bb2d-4efe-8edb-0dea18ba9a9a",
     "showTitle": false,
     "title": ""
    }
   },
   "outputs": [],
   "source": [
    "df.head()"
   ]
  },
  {
   "cell_type": "markdown",
   "metadata": {
    "application/vnd.databricks.v1+cell": {
     "cellMetadata": {},
     "inputWidgets": {},
     "nuid": "377121f3-f277-40e6-a146-c65ecad13ed1",
     "showTitle": false,
     "title": ""
    }
   },
   "source": [
    "The column `time` represents the survival time for a breast cancer patient after a mastectomy, measured in months.  The column `event` indicates whether or not the observation is censored.  If `event` is one, the patient's death was observed during the study; if `event` is zero,  the patient lived past the end of the study and their survival time is censored.  The column `metastized` indicates whether the cancer had [metastized](https://en.wikipedia.org/wiki/Metastasis) prior to the mastectomy.  In this post, we will use Bayesian parametric survival regression to quantify the difference in survival times for patients whose cancer had and had not metastized."
   ]
  },
  {
   "cell_type": "markdown",
   "metadata": {
    "application/vnd.databricks.v1+cell": {
     "cellMetadata": {},
     "inputWidgets": {},
     "nuid": "b11826a0-e2fb-4e10-b565-4dbba1858dd7",
     "showTitle": false,
     "title": ""
    }
   },
   "source": [
    "## Accelerated failure time models\n",
    "\n",
    "[Accelerated failure time models](https://en.wikipedia.org/wiki/Accelerated_failure_time_model) are the most common type of parametric survival regression models.  The fundamental quantity of survival analysis is the [survival function](https://en.wikipedia.org/wiki/Survival_function); if $T$ is the random variable representing the time to the event in question, the survival function is $S(t) = P(T > t)$.  Accelerated failure time models incorporate covariates $\\mathbf{x}$ into the survival function as\n",
    "\n",
    "$$S(t\\ |\\ \\beta, \\mathbf{x}) = S_0\\left(\\exp\\left(\\beta^{\\top} \\mathbf{x}\\right) \\cdot t\\right),$$\n",
    "\n",
    "where $S_0(t)$ is a fixed baseline survival function.  These models are called \"accelerated failure time\" because, when $\\beta^{\\top} \\mathbf{x} > 0$, $\\exp\\left(\\beta^{\\top} \\mathbf{x}\\right) \\cdot t > t$, so the effect of the covariates is to accelerate the _effective_ passage of time for the individual in question.  The following plot illustrates this phenomenon using an exponential survival function."
   ]
  },
  {
   "cell_type": "code",
   "execution_count": 0,
   "metadata": {
    "application/vnd.databricks.v1+cell": {
     "cellMetadata": {
      "byteLimit": 2048000,
      "rowLimit": 10000
     },
     "inputWidgets": {},
     "nuid": "2622b518-d185-4ee5-9e2a-27aa43563ede",
     "showTitle": false,
     "title": ""
    }
   },
   "outputs": [],
   "source": [
    "S0 = sp.stats.expon.sf"
   ]
  },
  {
   "cell_type": "code",
   "execution_count": 0,
   "metadata": {
    "application/vnd.databricks.v1+cell": {
     "cellMetadata": {
      "byteLimit": 2048000,
      "rowLimit": 10000
     },
     "inputWidgets": {},
     "nuid": "3cab5483-6acc-483e-9395-18e7a02d7cbc",
     "showTitle": false,
     "title": ""
    }
   },
   "outputs": [],
   "source": [
    "fig, ax = plt.subplots(figsize=(8, 6))\n",
    "\n",
    "t = np.linspace(0, 10, 100)\n",
    "\n",
    "ax.plot(t, S0(5 * t), label=r\"$\\beta^{\\top} \\mathbf{x} = \\log\\ 5$\")\n",
    "ax.plot(t, S0(2 * t), label=r\"$\\beta^{\\top} \\mathbf{x} = \\log\\ 2$\")\n",
    "ax.plot(t, S0(t), label=r\"$\\beta^{\\top} \\mathbf{x} = 0$ ($S_0$)\")\n",
    "ax.plot(t, S0(0.5 * t), label=r\"$\\beta^{\\top} \\mathbf{x} = -\\log\\ 2$\")\n",
    "ax.plot(t, S0(0.2 * t), label=r\"$\\beta^{\\top} \\mathbf{x} = -\\log\\ 5$\")\n",
    "\n",
    "ax.set_xlim(0, 10)\n",
    "ax.set_xlabel(r\"$t$\")\n",
    "\n",
    "ax.yaxis.set_major_formatter(pct_formatter)\n",
    "ax.set_ylim(-0.025, 1)\n",
    "ax.set_ylabel(r\"Survival probability, $S(t\\ |\\ \\beta, \\mathbf{x})$\")\n",
    "\n",
    "ax.legend(loc=1)\n",
    "ax.set_title(\"Accelerated failure times\");"
   ]
  },
  {
   "cell_type": "markdown",
   "metadata": {
    "application/vnd.databricks.v1+cell": {
     "cellMetadata": {},
     "inputWidgets": {},
     "nuid": "49d03af6-5084-453c-80d5-d050a7d0e1c3",
     "showTitle": false,
     "title": ""
    }
   },
   "source": [
    "Accelerated failure time models are equivalent to log-linear models for $T$,\n",
    "\n",
    "$$Y = \\log T = \\beta^{\\top} \\mathbf{x} + \\varepsilon.$$\n",
    "\n",
    "A choice of distribution for the error term $\\varepsilon$ determines baseline survival function, $S_0$, of the accelerated failure time model.  The following table shows the correspondence between the distribution of $\\varepsilon$ and $S_0$ for several common accelerated failure time models.\n",
    "\n",
    "<center>\n",
    "<table border=\"1\">\n",
    "    <tr>\n",
    "        <th>Log-linear error distribution ($\\varepsilon$)</th>\n",
    "        <th>Baseline survival function ($S_0$)</th>\n",
    "    </tr>\n",
    "    <tr>\n",
    "        <td>[Normal](https://en.wikipedia.org/wiki/Normal_distribution)</td>\n",
    "        <td>[Log-normal](https://en.wikipedia.org/wiki/Log-normal_distribution)</td>\n",
    "    </tr>\n",
    "    <tr>\n",
    "        <td>Extreme value ([Gumbel](https://en.wikipedia.org/wiki/Gumbel_distribution))</td>\n",
    "        <td>[Weibull](https://en.wikipedia.org/wiki/Weibull_distribution)</td>\n",
    "    </tr>\n",
    "    <tr>\n",
    "        <td>[Logistic](https://en.wikipedia.org/wiki/Logistic_distribution)</td>\n",
    "        <td>[Log-logistic](https://en.wikipedia.org/wiki/Log-logistic_distribution)</td>\n",
    "    </tr>\n",
    "</table>\n",
    "</center>\n",
    "\n",
    "Accelerated failure time models are conventionally named after their baseline survival function, $S_0$.  The rest of this post will show how to implement Weibull and log-logistic survival regression models in PyMC3 using the mastectomy data."
   ]
  },
  {
   "cell_type": "markdown",
   "metadata": {
    "application/vnd.databricks.v1+cell": {
     "cellMetadata": {},
     "inputWidgets": {},
     "nuid": "b99042ca-b5de-46d0-a47a-aa502bd6dfb4",
     "showTitle": false,
     "title": ""
    }
   },
   "source": [
    "### Weibull survival regression\n",
    "\n",
    "In this example, the covariates are $\\mathbf{x}_i = \\left(1\\ x^{\\textrm{met}}_i\\right)^{\\top}$, where\n",
    "\n",
    "$$\n",
    "\\begin{align*}\n",
    "x^{\\textrm{met}}_i\n",
    "    & = \\begin{cases}\n",
    "        0 & \\textrm{if the } i\\textrm{-th patient's cancer had not metastized} \\\\\n",
    "        1 & \\textrm{if the } i\\textrm{-th patient's cancer had metastized}\n",
    "    \\end{cases}.\n",
    "\\end{align*}\n",
    "$$\n",
    "\n",
    "We construct the matrix of covariates $\\mathbf{X}$."
   ]
  },
  {
   "cell_type": "code",
   "execution_count": 0,
   "metadata": {
    "application/vnd.databricks.v1+cell": {
     "cellMetadata": {
      "byteLimit": 2048000,
      "rowLimit": 10000
     },
     "inputWidgets": {},
     "nuid": "42af75b8-f089-42c1-a443-ead25a9873d2",
     "showTitle": false,
     "title": ""
    }
   },
   "outputs": [],
   "source": [
    "n_patient, _ = df.shape\n",
    "\n",
    "X = np.empty((n_patient, 2))\n",
    "X[:, 0] = 1.0\n",
    "X[:, 1] = df.metastized"
   ]
  },
  {
   "cell_type": "markdown",
   "metadata": {
    "application/vnd.databricks.v1+cell": {
     "cellMetadata": {},
     "inputWidgets": {},
     "nuid": "949d4bad-b053-44bd-b26d-82a90e5494dd",
     "showTitle": false,
     "title": ""
    }
   },
   "source": [
    "We place independent, vague normal prior distributions on the regression coefficients,\n",
    "\n",
    "$$\\beta \\sim N(0, 5^2 I_2).$$"
   ]
  },
  {
   "cell_type": "code",
   "execution_count": 0,
   "metadata": {
    "application/vnd.databricks.v1+cell": {
     "cellMetadata": {
      "byteLimit": 2048000,
      "rowLimit": 10000
     },
     "inputWidgets": {},
     "nuid": "b837380e-11fe-470d-ac27-935ef4b618d2",
     "showTitle": false,
     "title": ""
    }
   },
   "outputs": [],
   "source": [
    "VAGUE_PRIOR_SD = 5.0"
   ]
  },
  {
   "cell_type": "code",
   "execution_count": 0,
   "metadata": {
    "application/vnd.databricks.v1+cell": {
     "cellMetadata": {
      "byteLimit": 2048000,
      "rowLimit": 10000
     },
     "inputWidgets": {},
     "nuid": "1a2c915f-9e37-45a9-bb01-1740c1e47d6c",
     "showTitle": false,
     "title": ""
    }
   },
   "outputs": [],
   "source": [
    "with pm.Model() as weibull_model:\n",
    "    β = pm.Normal(\"β\", 0.0, VAGUE_PRIOR_SD, shape=2)"
   ]
  },
  {
   "cell_type": "markdown",
   "metadata": {
    "application/vnd.databricks.v1+cell": {
     "cellMetadata": {},
     "inputWidgets": {},
     "nuid": "716f83ba-8a70-417c-bf09-295f44186296",
     "showTitle": false,
     "title": ""
    }
   },
   "source": [
    "The covariates, $\\mathbf{x}$, affect value of $Y = \\log T$ through $\\eta = \\beta^{\\top} \\mathbf{x}$."
   ]
  },
  {
   "cell_type": "code",
   "execution_count": 0,
   "metadata": {
    "application/vnd.databricks.v1+cell": {
     "cellMetadata": {
      "byteLimit": 2048000,
      "rowLimit": 10000
     },
     "inputWidgets": {},
     "nuid": "73001b29-3ebb-42b1-b4f4-c06088560ecf",
     "showTitle": false,
     "title": ""
    }
   },
   "outputs": [],
   "source": [
    "X_ = shared(X)\n",
    "\n",
    "with weibull_model:\n",
    "    η = β.dot(X_.T)"
   ]
  },
  {
   "cell_type": "markdown",
   "metadata": {
    "application/vnd.databricks.v1+cell": {
     "cellMetadata": {},
     "inputWidgets": {},
     "nuid": "ab9e9f82-579c-4e13-b99b-6e7e6d619c93",
     "showTitle": false,
     "title": ""
    }
   },
   "source": [
    "For Weibull regression, we use\n",
    "\n",
    "$$\n",
    "\\begin{align*}\n",
    "    \\varepsilon\n",
    "        & \\sim \\textrm{Gumbel}(0, s) \\\\\n",
    "    s\n",
    "        & \\sim \\textrm{HalfNormal(5)}.\n",
    "\\end{align*}\n",
    "$$"
   ]
  },
  {
   "cell_type": "code",
   "execution_count": 0,
   "metadata": {
    "application/vnd.databricks.v1+cell": {
     "cellMetadata": {
      "byteLimit": 2048000,
      "rowLimit": 10000
     },
     "inputWidgets": {},
     "nuid": "8cb175f9-1e6e-46f9-9f46-31068e2ee960",
     "showTitle": false,
     "title": ""
    }
   },
   "outputs": [],
   "source": [
    "with weibull_model:\n",
    "    s = pm.HalfNormal(\"s\", 5.0)"
   ]
  },
  {
   "cell_type": "markdown",
   "metadata": {
    "application/vnd.databricks.v1+cell": {
     "cellMetadata": {},
     "inputWidgets": {},
     "nuid": "35b6a3d3-6311-4799-aabb-689500a10e62",
     "showTitle": false,
     "title": ""
    }
   },
   "source": [
    "We are nearly ready to specify the likelihood of the observations given these priors.  Before doing so, we transform the observed times to the log scale and standardize them."
   ]
  },
  {
   "cell_type": "code",
   "execution_count": 0,
   "metadata": {
    "application/vnd.databricks.v1+cell": {
     "cellMetadata": {
      "byteLimit": 2048000,
      "rowLimit": 10000
     },
     "inputWidgets": {},
     "nuid": "4ee2e566-5e6d-4e87-a7ef-fda47b384966",
     "showTitle": false,
     "title": ""
    }
   },
   "outputs": [],
   "source": [
    "y = np.log(df.time.values)\n",
    "y_std = (y - y.mean()) / y.std()"
   ]
  },
  {
   "cell_type": "markdown",
   "metadata": {
    "application/vnd.databricks.v1+cell": {
     "cellMetadata": {},
     "inputWidgets": {},
     "nuid": "ae6dce72-d2b0-4d25-8dc6-e7d0ed7f22b8",
     "showTitle": false,
     "title": ""
    }
   },
   "source": [
    "The likelihood of the data is specified in two parts, one for uncensored samples, and one for censored samples.  Since $Y = \\eta + \\varepsilon$, and $\\varepsilon \\sim \\textrm{Gumbel}(0, s)$, $Y \\sim \\textrm{Gumbel}(\\eta, s)$.  For the uncensored survival times, the likelihood is implemented as"
   ]
  },
  {
   "cell_type": "code",
   "execution_count": 0,
   "metadata": {
    "application/vnd.databricks.v1+cell": {
     "cellMetadata": {
      "byteLimit": 2048000,
      "rowLimit": 10000
     },
     "inputWidgets": {},
     "nuid": "5d061f66-2f4e-4b65-8eff-4588d3cb59ef",
     "showTitle": false,
     "title": ""
    }
   },
   "outputs": [],
   "source": [
    "cens = df.event.values == 0.0"
   ]
  },
  {
   "cell_type": "code",
   "execution_count": 0,
   "metadata": {
    "application/vnd.databricks.v1+cell": {
     "cellMetadata": {
      "byteLimit": 2048000,
      "rowLimit": 10000
     },
     "inputWidgets": {},
     "nuid": "33f5cfda-f20f-47d0-b729-d80098ae90b2",
     "showTitle": false,
     "title": ""
    }
   },
   "outputs": [],
   "source": [
    "cens_ = shared(cens)\n",
    "\n",
    "with weibull_model:\n",
    "    y_obs = pm.Gumbel(\"y_obs\", η[~cens_], s, observed=y_std[~cens])"
   ]
  },
  {
   "cell_type": "markdown",
   "metadata": {
    "application/vnd.databricks.v1+cell": {
     "cellMetadata": {},
     "inputWidgets": {},
     "nuid": "0531dd92-3fdd-4bf4-8f15-c885ae52e27d",
     "showTitle": false,
     "title": ""
    }
   },
   "source": [
    "For censored observations, we only know that their true survival time exceeded the total time that they were under observation.  This probability is given by the survival function of the Gumbel distribution,\n",
    "\n",
    "$$P(Y \\geq y) = 1 - \\exp\\left(-\\exp\\left(-\\frac{y - \\mu}{s}\\right)\\right).$$\n",
    "\n",
    "This survival function is implemented below."
   ]
  },
  {
   "cell_type": "code",
   "execution_count": 0,
   "metadata": {
    "application/vnd.databricks.v1+cell": {
     "cellMetadata": {
      "byteLimit": 2048000,
      "rowLimit": 10000
     },
     "inputWidgets": {},
     "nuid": "4d033505-69d3-4b21-adfa-ae97b29f05ad",
     "showTitle": false,
     "title": ""
    }
   },
   "outputs": [],
   "source": [
    "def gumbel_sf(y, μ, σ):\n",
    "    return 1.0 - tt.exp(-tt.exp(-(y - μ) / σ))"
   ]
  },
  {
   "cell_type": "markdown",
   "metadata": {
    "application/vnd.databricks.v1+cell": {
     "cellMetadata": {},
     "inputWidgets": {},
     "nuid": "3edcdb61-8619-4c6c-89a5-f5e8b7c15b9b",
     "showTitle": false,
     "title": ""
    }
   },
   "source": [
    "We now specify the likelihood for the censored observations."
   ]
  },
  {
   "cell_type": "code",
   "execution_count": 0,
   "metadata": {
    "application/vnd.databricks.v1+cell": {
     "cellMetadata": {
      "byteLimit": 2048000,
      "rowLimit": 10000
     },
     "inputWidgets": {},
     "nuid": "a9b7435e-e5fe-4c5b-bdc4-d603f8bdb6e4",
     "showTitle": false,
     "title": ""
    }
   },
   "outputs": [],
   "source": [
    "with weibull_model:\n",
    "    y_cens = pm.Potential(\"y_cens\", gumbel_sf(y_std[cens], η[cens_], s))"
   ]
  },
  {
   "cell_type": "markdown",
   "metadata": {
    "application/vnd.databricks.v1+cell": {
     "cellMetadata": {},
     "inputWidgets": {},
     "nuid": "aa8b527a-4b25-4c82-b1ae-8cd2cf63db21",
     "showTitle": false,
     "title": ""
    }
   },
   "source": [
    "We now sample from the model."
   ]
  },
  {
   "cell_type": "code",
   "execution_count": 0,
   "metadata": {
    "application/vnd.databricks.v1+cell": {
     "cellMetadata": {
      "byteLimit": 2048000,
      "rowLimit": 10000
     },
     "inputWidgets": {},
     "nuid": "e6815dfd-9ca2-4689-8ae1-d71e0ebf30a3",
     "showTitle": false,
     "title": ""
    }
   },
   "outputs": [],
   "source": [
    "SEED = 845199  # from random.org, for reproducibility\n",
    "\n",
    "SAMPLE_KWARGS = {\"chains\": 3, \"tune\": 1000, \"random_seed\": [SEED, SEED + 1, SEED + 2]}"
   ]
  },
  {
   "cell_type": "code",
   "execution_count": 0,
   "metadata": {
    "application/vnd.databricks.v1+cell": {
     "cellMetadata": {
      "byteLimit": 2048000,
      "rowLimit": 10000
     },
     "inputWidgets": {},
     "nuid": "a519e8e2-e097-4d5a-9337-95d78bcc2336",
     "showTitle": false,
     "title": ""
    }
   },
   "outputs": [],
   "source": [
    "with weibull_model:\n",
    "    weibull_trace = pm.sample(**SAMPLE_KWARGS)"
   ]
  },
  {
   "cell_type": "markdown",
   "metadata": {
    "application/vnd.databricks.v1+cell": {
     "cellMetadata": {},
     "inputWidgets": {},
     "nuid": "a00783d2-8c92-4bb1-95d5-f9dd772d032d",
     "showTitle": false,
     "title": ""
    }
   },
   "source": [
    "The energy plot and Bayesian fraction of missing information give no cause for concern about poor mixing in NUTS."
   ]
  },
  {
   "cell_type": "code",
   "execution_count": 0,
   "metadata": {
    "application/vnd.databricks.v1+cell": {
     "cellMetadata": {
      "byteLimit": 2048000,
      "rowLimit": 10000
     },
     "inputWidgets": {},
     "nuid": "a27ec341-fb66-4a5d-901a-17f936cd63c2",
     "showTitle": false,
     "title": ""
    }
   },
   "outputs": [],
   "source": [
    "az.plot_energy(weibull_trace);"
   ]
  },
  {
   "cell_type": "code",
   "execution_count": 0,
   "metadata": {
    "application/vnd.databricks.v1+cell": {
     "cellMetadata": {
      "byteLimit": 2048000,
      "rowLimit": 10000
     },
     "inputWidgets": {},
     "nuid": "01302e18-e893-492d-9142-e7586b22013c",
     "showTitle": false,
     "title": ""
    }
   },
   "outputs": [],
   "source": [
    "az.bfmi(weibull_trace)"
   ]
  },
  {
   "cell_type": "markdown",
   "metadata": {
    "application/vnd.databricks.v1+cell": {
     "cellMetadata": {},
     "inputWidgets": {},
     "nuid": "49755bf9-bb91-4d02-af82-9e34a149f9d6",
     "showTitle": false,
     "title": ""
    }
   },
   "source": [
    "The Gelman-Rubin statistics also indicate convergence."
   ]
  },
  {
   "cell_type": "code",
   "execution_count": 0,
   "metadata": {
    "application/vnd.databricks.v1+cell": {
     "cellMetadata": {
      "byteLimit": 2048000,
      "rowLimit": 10000
     },
     "inputWidgets": {},
     "nuid": "3b0f2b13-7a34-4831-8b8a-186032be9a40",
     "showTitle": false,
     "title": ""
    }
   },
   "outputs": [],
   "source": [
    "max(np.max(gr_stats) for gr_stats in az.rhat(weibull_trace).values())"
   ]
  },
  {
   "cell_type": "markdown",
   "metadata": {
    "application/vnd.databricks.v1+cell": {
     "cellMetadata": {},
     "inputWidgets": {},
     "nuid": "b3838c5a-5018-449c-81e4-80460c9d4339",
     "showTitle": false,
     "title": ""
    }
   },
   "source": [
    "Below we plot posterior distributions of the parameters."
   ]
  },
  {
   "cell_type": "code",
   "execution_count": 0,
   "metadata": {
    "application/vnd.databricks.v1+cell": {
     "cellMetadata": {
      "byteLimit": 2048000,
      "rowLimit": 10000
     },
     "inputWidgets": {},
     "nuid": "4ea5c917-c6f0-4311-b426-bd71a64be520",
     "showTitle": false,
     "title": ""
    }
   },
   "outputs": [],
   "source": [
    "az.plot_posterior(weibull_trace, lw=0, alpha=0.5);"
   ]
  },
  {
   "cell_type": "markdown",
   "metadata": {
    "application/vnd.databricks.v1+cell": {
     "cellMetadata": {},
     "inputWidgets": {},
     "nuid": "f145d224-6916-4576-8f74-9067653ee159",
     "showTitle": false,
     "title": ""
    }
   },
   "source": [
    "These are somewhat interesting (espescially the fact that the posterior of $\\beta_1$ is fairly well-separated from zero), but the posterior predictive survival curves will be much more interpretable.\n",
    "\n",
    "The advantage of using [`theano.shared`](http://deeplearning.net/software/theano_versions/dev/library/compile/shared.html) variables is that we can now change their values to perform posterior predictive sampling.  For posterior prediction, we set $X$ to have two rows, one for a subject whose cancer had not metastized and one for a subject whose cancer had metastized.  Since we want to predict actual survival times, none of the posterior predictive rows are censored."
   ]
  },
  {
   "cell_type": "code",
   "execution_count": 0,
   "metadata": {
    "application/vnd.databricks.v1+cell": {
     "cellMetadata": {
      "byteLimit": 2048000,
      "rowLimit": 10000
     },
     "inputWidgets": {},
     "nuid": "a90c1a19-2920-44d2-804c-2e04f3e866d0",
     "showTitle": false,
     "title": ""
    }
   },
   "outputs": [],
   "source": [
    "X_pp = np.empty((2, 2))\n",
    "X_pp[:, 0] = 1.0\n",
    "X_pp[:, 1] = [0, 1]\n",
    "X_.set_value(X_pp)\n",
    "\n",
    "cens_pp = np.repeat(False, 2)\n",
    "cens_.set_value(cens_pp)"
   ]
  },
  {
   "cell_type": "code",
   "execution_count": 0,
   "metadata": {
    "application/vnd.databricks.v1+cell": {
     "cellMetadata": {
      "byteLimit": 2048000,
      "rowLimit": 10000
     },
     "inputWidgets": {},
     "nuid": "f34e76be-a135-4877-8f13-1238a666ed27",
     "showTitle": false,
     "title": ""
    }
   },
   "outputs": [],
   "source": [
    "with weibull_model:\n",
    "    pp_weibull_trace = pm.sample_posterior_predictive(weibull_trace, samples=1500)"
   ]
  },
  {
   "cell_type": "markdown",
   "metadata": {
    "application/vnd.databricks.v1+cell": {
     "cellMetadata": {},
     "inputWidgets": {},
     "nuid": "93b81c5a-4ff0-4516-8067-deee9e2b8455",
     "showTitle": false,
     "title": ""
    }
   },
   "source": [
    "The posterior predictive survival times show that, on average, patients whose cancer had not metastized survived longer than those whose cancer had metastized."
   ]
  },
  {
   "cell_type": "code",
   "execution_count": 0,
   "metadata": {
    "application/vnd.databricks.v1+cell": {
     "cellMetadata": {
      "byteLimit": 2048000,
      "rowLimit": 10000
     },
     "inputWidgets": {},
     "nuid": "bb4863bb-b880-4bb3-a061-97b78e9eff68",
     "showTitle": false,
     "title": ""
    }
   },
   "outputs": [],
   "source": [
    "t_plot = np.linspace(0, 230, 100)\n",
    "\n",
    "weibull_pp_surv = np.greater_equal.outer(\n",
    "    np.exp(y.mean() + y.std() * pp_weibull_trace[\"y_obs\"]), t_plot\n",
    ")\n",
    "weibull_pp_surv_mean = weibull_pp_surv.mean(axis=0)"
   ]
  },
  {
   "cell_type": "code",
   "execution_count": 0,
   "metadata": {
    "application/vnd.databricks.v1+cell": {
     "cellMetadata": {
      "byteLimit": 2048000,
      "rowLimit": 10000
     },
     "inputWidgets": {},
     "nuid": "a69f3ac3-7516-4ff6-9e81-22a1a1fd046c",
     "showTitle": false,
     "title": ""
    }
   },
   "outputs": [],
   "source": [
    "fig, ax = plt.subplots(figsize=(8, 6))\n",
    "\n",
    "\n",
    "ax.plot(t_plot, weibull_pp_surv_mean[0], c=blue, label=\"Not metastized\")\n",
    "ax.plot(t_plot, weibull_pp_surv_mean[1], c=red, label=\"Metastized\")\n",
    "\n",
    "ax.set_xlim(0, 230)\n",
    "ax.set_xlabel(\"Weeks since mastectomy\")\n",
    "\n",
    "ax.set_ylim(top=1)\n",
    "ax.yaxis.set_major_formatter(pct_formatter)\n",
    "ax.set_ylabel(\"Survival probability\")\n",
    "\n",
    "ax.legend(loc=1)\n",
    "ax.set_title(\"Weibull survival regression model\");"
   ]
  },
  {
   "cell_type": "markdown",
   "metadata": {
    "application/vnd.databricks.v1+cell": {
     "cellMetadata": {},
     "inputWidgets": {},
     "nuid": "b50e6e67-5d1d-44bc-a7db-2317e361fbbc",
     "showTitle": false,
     "title": ""
    }
   },
   "source": [
    "### Log-logistic survival regression\n",
    "\n",
    "Other accelerated failure time models can be specificed in a modular way by changing the prior distribution on $\\varepsilon$.  A log-logistic model corresponds to a [logistic](https://en.wikipedia.org/wiki/Logistic_distribution) prior on $\\varepsilon$.  Most of the model specification is the same as for the Weibull model above."
   ]
  },
  {
   "cell_type": "code",
   "execution_count": 0,
   "metadata": {
    "application/vnd.databricks.v1+cell": {
     "cellMetadata": {
      "byteLimit": 2048000,
      "rowLimit": 10000
     },
     "inputWidgets": {},
     "nuid": "0b66604a-a9be-4070-952e-1e5902125ed8",
     "showTitle": false,
     "title": ""
    }
   },
   "outputs": [],
   "source": [
    "X_.set_value(X)\n",
    "cens_.set_value(cens)\n",
    "\n",
    "with pm.Model() as log_logistic_model:\n",
    "    β = pm.Normal(\"β\", 0.0, VAGUE_PRIOR_SD, shape=2)\n",
    "    η = β.dot(X_.T)\n",
    "\n",
    "    s = pm.HalfNormal(\"s\", 5.0)"
   ]
  },
  {
   "cell_type": "markdown",
   "metadata": {
    "application/vnd.databricks.v1+cell": {
     "cellMetadata": {},
     "inputWidgets": {},
     "nuid": "c400e30e-7d13-424f-8201-464113544de8",
     "showTitle": false,
     "title": ""
    }
   },
   "source": [
    "We use the prior $\\varepsilon \\sim \\textrm{Logistic}(0, s)$.  The survival function of the logistic distribution is\n",
    "\n",
    "$$P(Y \\geq y) = 1 - \\frac{1}{1 + \\exp\\left(-\\left(\\frac{y - \\mu}{s}\\right)\\right)},$$\n",
    "\n",
    "so we get the likelihood"
   ]
  },
  {
   "cell_type": "code",
   "execution_count": 0,
   "metadata": {
    "application/vnd.databricks.v1+cell": {
     "cellMetadata": {
      "byteLimit": 2048000,
      "rowLimit": 10000
     },
     "inputWidgets": {},
     "nuid": "f32cbc0c-44f3-4b9f-909a-2053ecaa3f0a",
     "showTitle": false,
     "title": ""
    }
   },
   "outputs": [],
   "source": [
    "def logistic_sf(y, μ, s):\n",
    "    return 1.0 - pm.math.sigmoid((y - μ) / s)"
   ]
  },
  {
   "cell_type": "code",
   "execution_count": 0,
   "metadata": {
    "application/vnd.databricks.v1+cell": {
     "cellMetadata": {
      "byteLimit": 2048000,
      "rowLimit": 10000
     },
     "inputWidgets": {},
     "nuid": "6bd02309-5537-4bf2-9148-105e61f19466",
     "showTitle": false,
     "title": ""
    }
   },
   "outputs": [],
   "source": [
    "with log_logistic_model:\n",
    "    y_obs = pm.Logistic(\"y_obs\", η[~cens_], s, observed=y_std[~cens])\n",
    "    y_cens = pm.Potential(\"y_cens\", logistic_sf(y_std[cens], η[cens_], s))"
   ]
  },
  {
   "cell_type": "markdown",
   "metadata": {
    "application/vnd.databricks.v1+cell": {
     "cellMetadata": {},
     "inputWidgets": {},
     "nuid": "516467f7-ec8d-40c6-b8ba-6f4ae9006b62",
     "showTitle": false,
     "title": ""
    }
   },
   "source": [
    "We now sample from the log-logistic model."
   ]
  },
  {
   "cell_type": "code",
   "execution_count": 0,
   "metadata": {
    "application/vnd.databricks.v1+cell": {
     "cellMetadata": {
      "byteLimit": 2048000,
      "rowLimit": 10000
     },
     "inputWidgets": {},
     "nuid": "3c71a7f5-dcf6-418b-9e63-6a6f9dd17b58",
     "showTitle": false,
     "title": ""
    }
   },
   "outputs": [],
   "source": [
    "with log_logistic_model:\n",
    "    log_logistic_trace = pm.sample(**SAMPLE_KWARGS)"
   ]
  },
  {
   "cell_type": "markdown",
   "metadata": {
    "application/vnd.databricks.v1+cell": {
     "cellMetadata": {},
     "inputWidgets": {},
     "nuid": "1b9294f4-e6dd-42d0-97ff-c2a5b3e76ed3",
     "showTitle": false,
     "title": ""
    }
   },
   "source": [
    "All of the sampling diagnostics look good for this model."
   ]
  },
  {
   "cell_type": "code",
   "execution_count": 0,
   "metadata": {
    "application/vnd.databricks.v1+cell": {
     "cellMetadata": {
      "byteLimit": 2048000,
      "rowLimit": 10000
     },
     "inputWidgets": {},
     "nuid": "4ab7449b-9a9d-48ff-8dad-883c12840fa3",
     "showTitle": false,
     "title": ""
    }
   },
   "outputs": [],
   "source": [
    "az.plot_energy(log_logistic_trace);"
   ]
  },
  {
   "cell_type": "code",
   "execution_count": 0,
   "metadata": {
    "application/vnd.databricks.v1+cell": {
     "cellMetadata": {
      "byteLimit": 2048000,
      "rowLimit": 10000
     },
     "inputWidgets": {},
     "nuid": "4912156e-f9cc-4829-b19b-dedab5a2407d",
     "showTitle": false,
     "title": ""
    }
   },
   "outputs": [],
   "source": [
    "az.bfmi(log_logistic_trace)"
   ]
  },
  {
   "cell_type": "code",
   "execution_count": 0,
   "metadata": {
    "application/vnd.databricks.v1+cell": {
     "cellMetadata": {
      "byteLimit": 2048000,
      "rowLimit": 10000
     },
     "inputWidgets": {},
     "nuid": "6c76ad76-b27d-432c-828a-17cd30f4e0a3",
     "showTitle": false,
     "title": ""
    }
   },
   "outputs": [],
   "source": [
    "max(np.max(gr_stats) for gr_stats in az.rhat(log_logistic_trace).values())"
   ]
  },
  {
   "cell_type": "markdown",
   "metadata": {
    "application/vnd.databricks.v1+cell": {
     "cellMetadata": {},
     "inputWidgets": {},
     "nuid": "fcbd3516-f814-4a51-ab3d-f5b7b1cede62",
     "showTitle": false,
     "title": ""
    }
   },
   "source": [
    "Again, we calculate the posterior expected survival functions for this model."
   ]
  },
  {
   "cell_type": "code",
   "execution_count": 0,
   "metadata": {
    "application/vnd.databricks.v1+cell": {
     "cellMetadata": {
      "byteLimit": 2048000,
      "rowLimit": 10000
     },
     "inputWidgets": {},
     "nuid": "e8dcb2f2-ec3f-4de0-a554-f105b84ec622",
     "showTitle": false,
     "title": ""
    }
   },
   "outputs": [],
   "source": [
    "X_.set_value(X_pp)\n",
    "cens_.set_value(cens_pp)\n",
    "\n",
    "with log_logistic_model:\n",
    "    pp_log_logistic_trace = pm.sample_posterior_predictive(log_logistic_trace, samples=1500)"
   ]
  },
  {
   "cell_type": "code",
   "execution_count": 0,
   "metadata": {
    "application/vnd.databricks.v1+cell": {
     "cellMetadata": {
      "byteLimit": 2048000,
      "rowLimit": 10000
     },
     "inputWidgets": {},
     "nuid": "970fabc0-cf62-4a6c-b28c-9b8c22f32f4a",
     "showTitle": false,
     "title": ""
    }
   },
   "outputs": [],
   "source": [
    "log_logistic_pp_surv = np.greater_equal.outer(\n",
    "    np.exp(y.mean() + y.std() * pp_log_logistic_trace[\"y_obs\"]), t_plot\n",
    ")\n",
    "log_logistic_pp_surv_mean = log_logistic_pp_surv.mean(axis=0)"
   ]
  },
  {
   "cell_type": "code",
   "execution_count": 0,
   "metadata": {
    "application/vnd.databricks.v1+cell": {
     "cellMetadata": {
      "byteLimit": 2048000,
      "rowLimit": 10000
     },
     "inputWidgets": {},
     "nuid": "a4348090-7074-4eba-af1b-4eaff0659cf5",
     "showTitle": false,
     "title": ""
    }
   },
   "outputs": [],
   "source": [
    "fig, ax = plt.subplots(figsize=(8, 6))\n",
    "\n",
    "ax.plot(t_plot, weibull_pp_surv_mean[0], c=blue, label=\"Weibull, not metastized\")\n",
    "ax.plot(t_plot, weibull_pp_surv_mean[1], c=red, label=\"Weibull, metastized\")\n",
    "\n",
    "ax.plot(t_plot, log_logistic_pp_surv_mean[0], \"--\", c=blue, label=\"Log-logistic, not metastized\")\n",
    "ax.plot(t_plot, log_logistic_pp_surv_mean[1], \"--\", c=red, label=\"Log-logistic, metastized\")\n",
    "\n",
    "ax.set_xlim(0, 230)\n",
    "ax.set_xlabel(\"Weeks since mastectomy\")\n",
    "\n",
    "ax.set_ylim(top=1)\n",
    "ax.yaxis.set_major_formatter(pct_formatter)\n",
    "ax.set_ylabel(\"Survival probability\")\n",
    "\n",
    "ax.legend(loc=1)\n",
    "ax.set_title(\"Weibull and log-logistic\\nsurvival regression models\");"
   ]
  },
  {
   "cell_type": "markdown",
   "metadata": {
    "application/vnd.databricks.v1+cell": {
     "cellMetadata": {},
     "inputWidgets": {},
     "nuid": "3c4a23f8-3754-4df8-9005-c2a9c816f774",
     "showTitle": false,
     "title": ""
    }
   },
   "source": [
    "This post has been a short introduction to implementing parametric survival regression models in PyMC3 with a fairly simple data set.  The modular nature of probabilistic programming with PyMC3 should make it straightforward to generalize these techniques to more complex and interesting data set."
   ]
  },
  {
   "cell_type": "markdown",
   "metadata": {
    "application/vnd.databricks.v1+cell": {
     "cellMetadata": {},
     "inputWidgets": {},
     "nuid": "db00d6cd-65c6-43dd-a303-c3f0988999bd",
     "showTitle": false,
     "title": ""
    }
   },
   "source": [
    "## Authors\n",
    "\n",
    "- Originally authored as a blog post by [Austin Rochford](https://austinrochford.com/posts/2017-10-02-bayes-param-survival.html) on October 2, 2017.\n",
    "- Updated by [George Ho](https://eigenfoo.xyz/) on July 18, 2018."
   ]
  },
  {
   "cell_type": "code",
   "execution_count": 0,
   "metadata": {
    "application/vnd.databricks.v1+cell": {
     "cellMetadata": {
      "byteLimit": 2048000,
      "rowLimit": 10000
     },
     "inputWidgets": {},
     "nuid": "f5915de6-34a7-4f46-a7e9-a01c0ee17e7a",
     "showTitle": false,
     "title": ""
    }
   },
   "outputs": [],
   "source": [
    "%load_ext watermark\n",
    "%watermark -n -u -v -iv -w"
   ]
  }
 ],
 "metadata": {
  "application/vnd.databricks.v1+notebook": {
   "dashboards": [],
   "environmentMetadata": null,
   "language": "python",
   "notebookMetadata": {
    "pythonIndentUnit": 4
   },
   "notebookName": "bayes_param_survival_pymc3",
   "widgets": {}
  },
  "kernelspec": {
   "display_name": "Python (PyMC3 Dev)",
   "language": "python",
   "name": "pymc3-dev"
  },
  "language_info": {
   "codemirror_mode": {
    "name": "ipython",
    "version": 3
   },
   "file_extension": ".py",
   "mimetype": "text/x-python",
   "name": "python",
   "nbconvert_exporter": "python",
   "pygments_lexer": "ipython3",
   "version": "3.8.5"
  }
 },
 "nbformat": 4,
 "nbformat_minor": 0
}
