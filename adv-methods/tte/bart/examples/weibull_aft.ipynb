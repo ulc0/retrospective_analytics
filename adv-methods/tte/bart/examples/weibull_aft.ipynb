{
 "cells": [
  {
   "cell_type": "markdown",
   "metadata": {
    "application/vnd.databricks.v1+cell": {
     "cellMetadata": {},
     "inputWidgets": {},
     "nuid": "11359c85-58b3-43fe-9042-7c7808db218d",
     "showTitle": false,
     "title": ""
    }
   },
   "source": [
    "# Reparameterizing the Weibull Accelerated Failure Time Model"
   ]
  },
  {
   "cell_type": "code",
   "execution_count": 0,
   "metadata": {
    "application/vnd.databricks.v1+cell": {
     "cellMetadata": {
      "byteLimit": 2048000,
      "rowLimit": 10000
     },
     "inputWidgets": {},
     "nuid": "1ea2b2b1-ab5a-49ef-92d4-932e9aa7fdff",
     "showTitle": false,
     "title": ""
    }
   },
   "outputs": [],
   "source": [
    "import arviz as az\n",
    "import numpy as np\n",
    "import pymc3 as pm\n",
    "import statsmodels.api as sm\n",
    "import theano.tensor as tt\n",
    "\n",
    "print(f\"Running on PyMC3 v{pm.__version__}\")"
   ]
  },
  {
   "cell_type": "code",
   "execution_count": 0,
   "metadata": {
    "application/vnd.databricks.v1+cell": {
     "cellMetadata": {
      "byteLimit": 2048000,
      "rowLimit": 10000
     },
     "inputWidgets": {},
     "nuid": "701c47c6-74d3-43ad-9da1-c602643b7a0b",
     "showTitle": false,
     "title": ""
    }
   },
   "outputs": [],
   "source": [
    "%config InlineBackend.figure_format = 'retina'\n",
    "RANDOM_SEED = 8927\n",
    "np.random.seed(RANDOM_SEED)\n",
    "az.style.use(\"arviz-darkgrid\")"
   ]
  },
  {
   "cell_type": "markdown",
   "metadata": {
    "application/vnd.databricks.v1+cell": {
     "cellMetadata": {},
     "inputWidgets": {},
     "nuid": "5e765a59-b354-45a1-979f-db8e21a37ff1",
     "showTitle": false,
     "title": ""
    }
   },
   "source": [
    "## Dataset\n",
    "\n",
    "The [previous example notebook on Bayesian parametric survival analysis](https://docs.pymc.io/notebooks/bayes_param_survival.html) introduced two different accelerated failure time (AFT) models: Weibull and log-linear. In this notebook, we present three different parameterizations of the Weibull AFT model.\n",
    "\n",
    "The data set we'll use is the `flchain` R data set, which comes from a medical study investigating the effect of serum free light chain (FLC) on lifespan. Read the full documentation of the data by running:\n",
    "\n",
    "`print(sm.datasets.get_rdataset(package='survival', dataname='flchain').__doc__)`."
   ]
  },
  {
   "cell_type": "code",
   "execution_count": 0,
   "metadata": {
    "application/vnd.databricks.v1+cell": {
     "cellMetadata": {
      "byteLimit": 2048000,
      "rowLimit": 10000
     },
     "inputWidgets": {},
     "nuid": "9c1d37a7-a90e-4046-ae89-39efed329709",
     "showTitle": false,
     "title": ""
    }
   },
   "outputs": [],
   "source": [
    "# Fetch and clean data\n",
    "data = (\n",
    "    sm.datasets.get_rdataset(package=\"survival\", dataname=\"flchain\")\n",
    "    .data.sample(500)  # Limit ourselves to 500 observations\n",
    "    .reset_index(drop=True)\n",
    ")"
   ]
  },
  {
   "cell_type": "code",
   "execution_count": 0,
   "metadata": {
    "application/vnd.databricks.v1+cell": {
     "cellMetadata": {
      "byteLimit": 2048000,
      "rowLimit": 10000
     },
     "inputWidgets": {},
     "nuid": "dd2f79f8-661d-45e7-bdea-06aeb5a49d2e",
     "showTitle": false,
     "title": ""
    }
   },
   "outputs": [],
   "source": [
    "y = data.futime.values\n",
    "censored = ~data[\"death\"].values.astype(bool)"
   ]
  },
  {
   "cell_type": "code",
   "execution_count": 0,
   "metadata": {
    "application/vnd.databricks.v1+cell": {
     "cellMetadata": {
      "byteLimit": 2048000,
      "rowLimit": 10000
     },
     "inputWidgets": {},
     "nuid": "d1762828-593d-493e-ba26-1e4fe84fb358",
     "showTitle": false,
     "title": ""
    }
   },
   "outputs": [],
   "source": [
    "y[:5]"
   ]
  },
  {
   "cell_type": "code",
   "execution_count": 0,
   "metadata": {
    "application/vnd.databricks.v1+cell": {
     "cellMetadata": {
      "byteLimit": 2048000,
      "rowLimit": 10000
     },
     "inputWidgets": {},
     "nuid": "6edd25cc-a1e7-4895-8e4b-0641d9f4dc47",
     "showTitle": false,
     "title": ""
    }
   },
   "outputs": [],
   "source": [
    "censored[:5]"
   ]
  },
  {
   "cell_type": "markdown",
   "metadata": {
    "application/vnd.databricks.v1+cell": {
     "cellMetadata": {},
     "inputWidgets": {},
     "nuid": "edee5676-9754-4e01-8d00-ebabc46e4de1",
     "showTitle": false,
     "title": ""
    }
   },
   "source": [
    "## Using `pm.Potential`\n",
    "\n",
    "We have an unique problem when modelling censored data. Strictly speaking, we don't have any _data_ for censored values: we only know the _number_ of values that were censored. How can we include this information in our model?\n",
    "\n",
    "One way do this is by making use of `pm.Potential`. The [PyMC2 docs](https://pymc-devs.github.io/pymc/modelbuilding.html#the-potential-class) explain its usage very well. Essentially, declaring `pm.Potential('x', logp)` will add `logp` to the log-likelihood of the model."
   ]
  },
  {
   "cell_type": "markdown",
   "metadata": {
    "application/vnd.databricks.v1+cell": {
     "cellMetadata": {},
     "inputWidgets": {},
     "nuid": "45e3cb28-37a6-4096-8cb8-8c450be4f16a",
     "showTitle": false,
     "title": ""
    }
   },
   "source": [
    "## Parameterization 1\n",
    "\n",
    "This parameterization is an intuitive, straightforward parameterization of the Weibull survival function. This is probably the first parameterization to come to one's mind."
   ]
  },
  {
   "cell_type": "code",
   "execution_count": 0,
   "metadata": {
    "application/vnd.databricks.v1+cell": {
     "cellMetadata": {
      "byteLimit": 2048000,
      "rowLimit": 10000
     },
     "inputWidgets": {},
     "nuid": "4bc0195f-a440-427c-a8ec-91c023975cdd",
     "showTitle": false,
     "title": ""
    }
   },
   "outputs": [],
   "source": [
    "def weibull_lccdf(x, alpha, beta):\n",
    "    \"\"\" Log complementary cdf of Weibull distribution. \"\"\"\n",
    "    return -((x / beta) ** alpha)"
   ]
  },
  {
   "cell_type": "code",
   "execution_count": 0,
   "metadata": {
    "application/vnd.databricks.v1+cell": {
     "cellMetadata": {
      "byteLimit": 2048000,
      "rowLimit": 10000
     },
     "inputWidgets": {},
     "nuid": "9451ba44-028a-4af8-9d9b-a6d3e87205f4",
     "showTitle": false,
     "title": ""
    }
   },
   "outputs": [],
   "source": [
    "with pm.Model() as model_1:\n",
    "    alpha_sd = 10.0\n",
    "\n",
    "    mu = pm.Normal(\"mu\", mu=0, sigma=100)\n",
    "    alpha_raw = pm.Normal(\"a0\", mu=0, sigma=0.1)\n",
    "    alpha = pm.Deterministic(\"alpha\", tt.exp(alpha_sd * alpha_raw))\n",
    "    beta = pm.Deterministic(\"beta\", tt.exp(mu / alpha))\n",
    "\n",
    "    y_obs = pm.Weibull(\"y_obs\", alpha=alpha, beta=beta, observed=y[~censored])\n",
    "    y_cens = pm.Potential(\"y_cens\", weibull_lccdf(y[censored], alpha, beta))"
   ]
  },
  {
   "cell_type": "code",
   "execution_count": 0,
   "metadata": {
    "application/vnd.databricks.v1+cell": {
     "cellMetadata": {
      "byteLimit": 2048000,
      "rowLimit": 10000
     },
     "inputWidgets": {},
     "nuid": "7df9fd2e-48bc-4a62-9695-d9ffc521c8de",
     "showTitle": false,
     "title": ""
    },
    "scrolled": false
   },
   "outputs": [],
   "source": [
    "with model_1:\n",
    "    # Change init to avoid divergences\n",
    "    data_1 = pm.sample(target_accept=0.9, init=\"adapt_diag\", return_inferencedata=True)"
   ]
  },
  {
   "cell_type": "code",
   "execution_count": 0,
   "metadata": {
    "application/vnd.databricks.v1+cell": {
     "cellMetadata": {
      "byteLimit": 2048000,
      "rowLimit": 10000
     },
     "inputWidgets": {},
     "nuid": "92d6ad96-351a-4c69-b013-823f15b383ab",
     "showTitle": false,
     "title": ""
    }
   },
   "outputs": [],
   "source": [
    "az.plot_trace(data_1, var_names=[\"alpha\", \"beta\"])"
   ]
  },
  {
   "cell_type": "code",
   "execution_count": 0,
   "metadata": {
    "application/vnd.databricks.v1+cell": {
     "cellMetadata": {
      "byteLimit": 2048000,
      "rowLimit": 10000
     },
     "inputWidgets": {},
     "nuid": "9c18de1c-084e-498f-ae5c-573584789d7a",
     "showTitle": false,
     "title": ""
    },
    "scrolled": true
   },
   "outputs": [],
   "source": [
    "az.summary(data_1, var_names=[\"alpha\", \"beta\"], round_to=2)"
   ]
  },
  {
   "cell_type": "markdown",
   "metadata": {
    "application/vnd.databricks.v1+cell": {
     "cellMetadata": {},
     "inputWidgets": {},
     "nuid": "9169c22e-cb0a-4644-b784-ecf5c3599037",
     "showTitle": false,
     "title": ""
    }
   },
   "source": [
    "## Parameterization 2\n",
    "\n",
    "Note that, confusingly, `alpha` is now called `r`, and `alpha` denotes a prior; we maintain this notation to stay faithful to the original implementation in Stan. In this parameterization, we still model the same parameters `alpha` (now `r`) and `beta`.\n",
    "\n",
    "For more information, see [this Stan example model](https://github.com/stan-dev/example-models/blob/5e9c5055dcea78ad756a6fb9b3ff9a77a0a4c22b/bugs_examples/vol1/kidney/kidney.stan) and [the corresponding documentation](https://www.mrc-bsu.cam.ac.uk/wp-content/uploads/WinBUGS_Vol1.pdf)."
   ]
  },
  {
   "cell_type": "code",
   "execution_count": 0,
   "metadata": {
    "application/vnd.databricks.v1+cell": {
     "cellMetadata": {
      "byteLimit": 2048000,
      "rowLimit": 10000
     },
     "inputWidgets": {},
     "nuid": "c3b789fa-63df-4f6e-b269-27743417d86e",
     "showTitle": false,
     "title": ""
    }
   },
   "outputs": [],
   "source": [
    "with pm.Model() as model_2:\n",
    "    alpha = pm.Normal(\"alpha\", mu=0, sigma=10)\n",
    "    r = pm.Gamma(\"r\", alpha=1, beta=0.001, testval=0.25)\n",
    "    beta = pm.Deterministic(\"beta\", tt.exp(-alpha / r))\n",
    "\n",
    "    y_obs = pm.Weibull(\"y_obs\", alpha=r, beta=beta, observed=y[~censored])\n",
    "    y_cens = pm.Potential(\"y_cens\", weibull_lccdf(y[censored], r, beta))"
   ]
  },
  {
   "cell_type": "code",
   "execution_count": 0,
   "metadata": {
    "application/vnd.databricks.v1+cell": {
     "cellMetadata": {
      "byteLimit": 2048000,
      "rowLimit": 10000
     },
     "inputWidgets": {},
     "nuid": "977229ef-a8bb-4152-83c7-d53af33cc4f0",
     "showTitle": false,
     "title": ""
    }
   },
   "outputs": [],
   "source": [
    "with model_2:\n",
    "    # Increase target_accept to avoid divergences\n",
    "    data_2 = pm.sample(target_accept=0.9, return_inferencedata=True)"
   ]
  },
  {
   "cell_type": "code",
   "execution_count": 0,
   "metadata": {
    "application/vnd.databricks.v1+cell": {
     "cellMetadata": {
      "byteLimit": 2048000,
      "rowLimit": 10000
     },
     "inputWidgets": {},
     "nuid": "d47771dc-0d53-4531-84d7-d07df08e4e95",
     "showTitle": false,
     "title": ""
    }
   },
   "outputs": [],
   "source": [
    "az.plot_trace(data_2, var_names=[\"r\", \"beta\"])"
   ]
  },
  {
   "cell_type": "code",
   "execution_count": 0,
   "metadata": {
    "application/vnd.databricks.v1+cell": {
     "cellMetadata": {
      "byteLimit": 2048000,
      "rowLimit": 10000
     },
     "inputWidgets": {},
     "nuid": "1146e182-b70a-437c-8113-6f1c7a8a4967",
     "showTitle": false,
     "title": ""
    }
   },
   "outputs": [],
   "source": [
    "az.summary(data_2, var_names=[\"r\", \"beta\"], round_to=2)"
   ]
  },
  {
   "cell_type": "markdown",
   "metadata": {
    "application/vnd.databricks.v1+cell": {
     "cellMetadata": {},
     "inputWidgets": {},
     "nuid": "60519892-d21a-495c-b6bc-96b68e721921",
     "showTitle": false,
     "title": ""
    }
   },
   "source": [
    "## Parameterization 3\n",
    "\n",
    "In this parameterization, we model the log-linear error distribution with a Gumbel distribution instead of modelling the survival function directly. For more information, see [this blog post](http://austinrochford.com/posts/2017-10-02-bayes-param-survival.html)."
   ]
  },
  {
   "cell_type": "code",
   "execution_count": 0,
   "metadata": {
    "application/vnd.databricks.v1+cell": {
     "cellMetadata": {
      "byteLimit": 2048000,
      "rowLimit": 10000
     },
     "inputWidgets": {},
     "nuid": "83f29394-13b9-46ab-99a1-68e5accbede6",
     "showTitle": false,
     "title": ""
    }
   },
   "outputs": [],
   "source": [
    "logtime = np.log(y)\n",
    "\n",
    "\n",
    "def gumbel_sf(y, mu, sigma):\n",
    "    \"\"\" Gumbel survival function. \"\"\"\n",
    "    return 1.0 - tt.exp(-tt.exp(-(y - mu) / sigma))"
   ]
  },
  {
   "cell_type": "code",
   "execution_count": 0,
   "metadata": {
    "application/vnd.databricks.v1+cell": {
     "cellMetadata": {
      "byteLimit": 2048000,
      "rowLimit": 10000
     },
     "inputWidgets": {},
     "nuid": "8bfb1a99-6962-4e62-a327-4096751c4bfe",
     "showTitle": false,
     "title": ""
    }
   },
   "outputs": [],
   "source": [
    "with pm.Model() as model_3:\n",
    "    s = pm.HalfNormal(\"s\", tau=5.0)\n",
    "    gamma = pm.Normal(\"gamma\", mu=0, sigma=5)\n",
    "\n",
    "    y_obs = pm.Gumbel(\"y_obs\", mu=gamma, beta=s, observed=logtime[~censored])\n",
    "    y_cens = pm.Potential(\"y_cens\", gumbel_sf(y=logtime[censored], mu=gamma, sigma=s))"
   ]
  },
  {
   "cell_type": "code",
   "execution_count": 0,
   "metadata": {
    "application/vnd.databricks.v1+cell": {
     "cellMetadata": {
      "byteLimit": 2048000,
      "rowLimit": 10000
     },
     "inputWidgets": {},
     "nuid": "cd6c7705-a841-485b-b30a-ff31c8b0ad09",
     "showTitle": false,
     "title": ""
    },
    "scrolled": false
   },
   "outputs": [],
   "source": [
    "with model_3:\n",
    "    # Change init to avoid divergences\n",
    "    data_3 = pm.sample(init=\"adapt_diag\", return_inferencedata=True)"
   ]
  },
  {
   "cell_type": "code",
   "execution_count": 0,
   "metadata": {
    "application/vnd.databricks.v1+cell": {
     "cellMetadata": {
      "byteLimit": 2048000,
      "rowLimit": 10000
     },
     "inputWidgets": {},
     "nuid": "2264c85e-7d1b-494f-b896-d7977bec6296",
     "showTitle": false,
     "title": ""
    }
   },
   "outputs": [],
   "source": [
    "az.plot_trace(data_3)"
   ]
  },
  {
   "cell_type": "code",
   "execution_count": 0,
   "metadata": {
    "application/vnd.databricks.v1+cell": {
     "cellMetadata": {
      "byteLimit": 2048000,
      "rowLimit": 10000
     },
     "inputWidgets": {},
     "nuid": "03776ada-4f31-4c2d-bf2c-d18e55b1840c",
     "showTitle": false,
     "title": ""
    }
   },
   "outputs": [],
   "source": [
    "az.summary(data_3, round_to=2)"
   ]
  },
  {
   "cell_type": "markdown",
   "metadata": {
    "application/vnd.databricks.v1+cell": {
     "cellMetadata": {},
     "inputWidgets": {},
     "nuid": "d4d31403-3c78-43e3-83d2-901ad9ae6c92",
     "showTitle": false,
     "title": ""
    }
   },
   "source": [
    "## Authors\n",
    "\n",
    "- Originally collated by [Junpeng Lao](https://junpenglao.xyz/) on Apr 21, 2018. See original code [here](https://github.com/junpenglao/Planet_Sakaar_Data_Science/blob/65447fdb431c78b15fbeaef51b8c059f46c9e8d6/PyMC3QnA/discourse_1107.ipynb).\n",
    "- Authored and ported to Jupyter notebook by [George Ho](https://eigenfoo.xyz/) on Jul 15, 2018."
   ]
  },
  {
   "cell_type": "code",
   "execution_count": 0,
   "metadata": {
    "application/vnd.databricks.v1+cell": {
     "cellMetadata": {
      "byteLimit": 2048000,
      "rowLimit": 10000
     },
     "inputWidgets": {},
     "nuid": "b16ba708-93dd-44b7-a447-e950c7fe6b31",
     "showTitle": false,
     "title": ""
    }
   },
   "outputs": [],
   "source": [
    "%load_ext watermark\n",
    "%watermark -n -u -v -iv -w"
   ]
  }
 ],
 "metadata": {
  "application/vnd.databricks.v1+notebook": {
   "dashboards": [],
   "environmentMetadata": null,
   "language": "python",
   "notebookMetadata": {
    "pythonIndentUnit": 4
   },
   "notebookName": "weibull_aft",
   "widgets": {}
  },
  "kernelspec": {
   "display_name": "Python 3",
   "language": "python",
   "name": "python3"
  },
  "language_info": {
   "codemirror_mode": {
    "name": "ipython",
    "version": 3
   },
   "file_extension": ".py",
   "mimetype": "text/x-python",
   "name": "python",
   "nbconvert_exporter": "python",
   "pygments_lexer": "ipython3",
   "version": "3.8.3"
  },
  "toc": {
   "base_numbering": 1,
   "nav_menu": {},
   "number_sections": true,
   "sideBar": true,
   "skip_h1_title": false,
   "title_cell": "Table of Contents",
   "title_sidebar": "Contents",
   "toc_cell": false,
   "toc_position": {},
   "toc_section_display": true,
   "toc_window_display": false
  },
  "varInspector": {
   "cols": {
    "lenName": 16,
    "lenType": 16,
    "lenVar": 40
   },
   "kernels_config": {
    "python": {
     "delete_cmd_postfix": "",
     "delete_cmd_prefix": "del ",
     "library": "var_list.py",
     "varRefreshCmd": "print(var_dic_list())"
    },
    "r": {
     "delete_cmd_postfix": ") ",
     "delete_cmd_prefix": "rm(",
     "library": "var_list.r",
     "varRefreshCmd": "cat(var_dic_list()) "
    }
   },
   "types_to_exclude": [
    "module",
    "function",
    "builtin_function_or_method",
    "instance",
    "_Feature"
   ],
   "window_display": false
  }
 },
 "nbformat": 4,
 "nbformat_minor": 0
}
