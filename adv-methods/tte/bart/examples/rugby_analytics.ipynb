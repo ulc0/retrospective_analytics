{
 "cells": [
  {
   "cell_type": "markdown",
   "metadata": {
    "application/vnd.databricks.v1+cell": {
     "cellMetadata": {},
     "inputWidgets": {},
     "nuid": "08e3f322-b8cd-4a3d-ae64-18ccce89a301",
     "showTitle": false,
     "title": ""
    }
   },
   "source": [
    "# A Hierarchical model for Rugby prediction\n",
    "\n",
    ":::{post} 19 Mar, 2022\n",
    ":tags: hierarchical, sports \n",
    ":category: intermediate, how-to\n",
    ":author: Peadar Coyle, Meenal Jhajharia, Oriol Abril-Pla\n",
    ":::"
   ]
  },
  {
   "cell_type": "markdown",
   "metadata": {
    "application/vnd.databricks.v1+cell": {
     "cellMetadata": {},
     "inputWidgets": {},
     "nuid": "ba3dd862-5ab5-4cc5-a824-8b6aeec3cc66",
     "showTitle": false,
     "title": ""
    }
   },
   "source": [
    "In this example, we're going to reproduce the first model described in {cite:t}`baio2010bayesian` using PyMC. Then show how to sample from the posterior predictive to simulate championship outcomes from the scored goals which are the modeled quantities.\n",
    "\n",
    "We apply the results of the paper to the Six Nations Championship, which is a competition between Italy, Ireland, Scotland, England, France and Wales."
   ]
  },
  {
   "cell_type": "markdown",
   "metadata": {
    "application/vnd.databricks.v1+cell": {
     "cellMetadata": {},
     "inputWidgets": {},
     "nuid": "c834d019-dd0a-4cf6-9a43-974f0f588246",
     "showTitle": false,
     "title": ""
    }
   },
   "source": [
    "## Motivation\n",
    "Your estimate of the strength of a team depends on your estimates of the other strengths\n",
    "\n",
    "Ireland are a stronger team than Italy for example - but by how much?\n",
    "\n",
    "Source for Results 2014 are Wikipedia. I've added the subsequent years, 2015, 2016, 2017. Manually pulled from Wikipedia.\n",
    "\n",
    "* We want to infer a latent parameter - that is the 'strength' of a team based only on their **scoring intensity**, and all we have are their scores and results, we can't accurately measure the 'strength' of a team.\n",
    "* Probabilistic Programming is a brilliant paradigm for modeling these **latent** parameters\n",
    "* Aim is to build a model for the upcoming Six Nations in 2018."
   ]
  },
  {
   "cell_type": "markdown",
   "metadata": {
    "application/vnd.databricks.v1+cell": {
     "cellMetadata": {},
     "inputWidgets": {},
     "nuid": "6cb7b6d8-1f42-47e9-94aa-11608dee3bed",
     "showTitle": false,
     "title": ""
    }
   },
   "source": [
    ":::{include} ../extra_installs.md\n",
    ":::"
   ]
  },
  {
   "cell_type": "code",
   "execution_count": 0,
   "metadata": {
    "application/vnd.databricks.v1+cell": {
     "cellMetadata": {
      "byteLimit": 2048000,
      "rowLimit": 10000
     },
     "inputWidgets": {},
     "nuid": "e9f1589e-b603-4d88-b7b4-f6c57578d75c",
     "showTitle": false,
     "title": ""
    }
   },
   "outputs": [],
   "source": [
    "import os\n",
    "os.environ[\"CUDA_ROOT\"]='/usr/local/cuda'\n",
    "os.environ[\"PYTENSOR_FLAGS\"]='allow_gc=False' #,floatX=float64'\n",
    "from pytensor.configdefaults import config"
   ]
  },
  {
   "cell_type": "code",
   "execution_count": 0,
   "metadata": {
    "application/vnd.databricks.v1+cell": {
     "cellMetadata": {
      "byteLimit": 2048000,
      "rowLimit": 10000
     },
     "inputWidgets": {},
     "nuid": "53bdd61d-7351-404d-88c1-1ada9a8af504",
     "showTitle": false,
     "title": ""
    }
   },
   "outputs": [],
   "source": [
    "!date\n",
    "\n",
    "import pytensor.tensor as at\n",
    "import arviz as az\n",
    "import matplotlib.pyplot as plt\n",
    "import numpy as np\n",
    "import pandas as pd\n",
    "import pymc as pm\n",
    "import seaborn as sns\n",
    "\n",
    "from matplotlib.ticker import StrMethodFormatter\n",
    "\n",
    "%matplotlib inline"
   ]
  },
  {
   "cell_type": "code",
   "execution_count": 0,
   "metadata": {
    "application/vnd.databricks.v1+cell": {
     "cellMetadata": {
      "byteLimit": 2048000,
      "rowLimit": 10000
     },
     "inputWidgets": {},
     "nuid": "81786ebb-48eb-4691-aab1-0d5255d176a0",
     "showTitle": false,
     "title": ""
    }
   },
   "outputs": [],
   "source": [
    "az.style.use(\"arviz-darkgrid\")\n",
    "plt.rcParams[\"figure.constrained_layout.use\"] = False"
   ]
  },
  {
   "cell_type": "markdown",
   "metadata": {
    "application/vnd.databricks.v1+cell": {
     "cellMetadata": {},
     "inputWidgets": {},
     "nuid": "5019436a-a54e-47c9-b27c-e1bdc4b9f7bf",
     "showTitle": false,
     "title": ""
    }
   },
   "source": [
    "This is a Rugby prediction exercise. So we'll input some data. We've taken this from Wikipedia and BBC sports."
   ]
  },
  {
   "cell_type": "code",
   "execution_count": 0,
   "metadata": {
    "application/vnd.databricks.v1+cell": {
     "cellMetadata": {
      "byteLimit": 2048000,
      "rowLimit": 10000
     },
     "inputWidgets": {},
     "nuid": "4147b358-153d-4c30-815a-d1e111b80151",
     "showTitle": false,
     "title": ""
    }
   },
   "outputs": [],
   "source": [
    "try:\n",
    "    df_all = pd.read_csv(\"../data/rugby.csv\", index_col=0)\n",
    "except:\n",
    "    df_all = pd.read_csv(pm.get_data(\"rugby.csv\"), index_col=0)"
   ]
  },
  {
   "cell_type": "markdown",
   "metadata": {
    "application/vnd.databricks.v1+cell": {
     "cellMetadata": {},
     "inputWidgets": {},
     "nuid": "9b28096f-bec0-42be-acd9-b193f6fac6ef",
     "showTitle": false,
     "title": ""
    }
   },
   "source": [
    "## What do we want to infer?\n",
    "\n",
    "* We want to infer the latent parameters (every team's strength) that are generating the data we observe (the scorelines).\n",
    "* Moreover, we know that the scorelines are a noisy measurement of team strength, so ideally, we want a model that makes it easy to quantify our uncertainty about the underlying strengths.\n",
    "* Often we don't know what the Bayesian Model is explicitly, so we have to 'estimate' the Bayesian Model'\n",
    "* If we can't solve something, approximate it.\n",
    "* Markov-Chain Monte Carlo (MCMC) instead draws samples from the posterior.\n",
    "* Fortunately, this algorithm can be applied to almost any model.\n",
    "\n",
    "## What do we want?\n",
    "\n",
    "* We want to quantify our uncertainty\n",
    "* We want to also use this to generate a model\n",
    "* We want the answers as distributions not point estimates"
   ]
  },
  {
   "cell_type": "markdown",
   "metadata": {
    "application/vnd.databricks.v1+cell": {
     "cellMetadata": {},
     "inputWidgets": {},
     "nuid": "cf0bfe76-f604-4d06-bde5-1e3c853b199b",
     "showTitle": false,
     "title": ""
    }
   },
   "source": [
    "### Visualization/EDA\n",
    "We should do some some exploratory data analysis of this dataset.\n",
    "\n",
    "The plots should be fairly self-explantory, we'll look at things like difference between teams in terms of their scores."
   ]
  },
  {
   "cell_type": "code",
   "execution_count": 0,
   "metadata": {
    "application/vnd.databricks.v1+cell": {
     "cellMetadata": {
      "byteLimit": 2048000,
      "rowLimit": 10000
     },
     "inputWidgets": {},
     "nuid": "f02fcda1-ec8e-4146-ad6d-ee62261255ef",
     "showTitle": false,
     "title": ""
    }
   },
   "outputs": [],
   "source": [
    "df_all.describe()"
   ]
  },
  {
   "cell_type": "code",
   "execution_count": 0,
   "metadata": {
    "application/vnd.databricks.v1+cell": {
     "cellMetadata": {
      "byteLimit": 2048000,
      "rowLimit": 10000
     },
     "inputWidgets": {},
     "nuid": "38eaba56-466f-4a8d-b562-790d0404822b",
     "showTitle": false,
     "title": ""
    }
   },
   "outputs": [],
   "source": [
    "# Let's look at the tail end of this dataframe\n",
    "df_all.tail()"
   ]
  },
  {
   "cell_type": "markdown",
   "metadata": {
    "application/vnd.databricks.v1+cell": {
     "cellMetadata": {},
     "inputWidgets": {},
     "nuid": "dae1a833-83f6-4d08-8591-92b6bfcb2f83",
     "showTitle": false,
     "title": ""
    }
   },
   "source": [
    "There are a few things here that we don't need. We don't need the year for our model.\n",
    "But that is something that could improve a future model.\n",
    "\n",
    "Firstly let us look at differences in scores by year."
   ]
  },
  {
   "cell_type": "code",
   "execution_count": 0,
   "metadata": {
    "application/vnd.databricks.v1+cell": {
     "cellMetadata": {
      "byteLimit": 2048000,
      "rowLimit": 10000
     },
     "inputWidgets": {},
     "nuid": "998b055e-ed3e-4fe0-b476-aae8852da200",
     "showTitle": false,
     "title": ""
    }
   },
   "outputs": [],
   "source": [
    "df_all[\"difference\"] = np.abs(df_all[\"home_score\"] - df_all[\"away_score\"])"
   ]
  },
  {
   "cell_type": "code",
   "execution_count": 0,
   "metadata": {
    "application/vnd.databricks.v1+cell": {
     "cellMetadata": {
      "byteLimit": 2048000,
      "rowLimit": 10000
     },
     "inputWidgets": {},
     "nuid": "1c219d43-d93f-4ddb-bbd0-7bd3dc497ac0",
     "showTitle": false,
     "title": ""
    }
   },
   "outputs": [],
   "source": [
    "(\n",
    "    df_all.groupby(\"year\")[\"difference\"]\n",
    "    .mean()\n",
    "    .plot(\n",
    "        kind=\"bar\",\n",
    "        title=\"Average magnitude of scores difference Six Nations\",\n",
    "        yerr=df_all.groupby(\"year\")[\"difference\"].std(),\n",
    "    )\n",
    "    .set_ylabel(\"Average (abs) point difference\")\n",
    ");"
   ]
  },
  {
   "cell_type": "markdown",
   "metadata": {
    "application/vnd.databricks.v1+cell": {
     "cellMetadata": {},
     "inputWidgets": {},
     "nuid": "c1922951-fb2a-431c-bfcd-c014141ea44a",
     "showTitle": false,
     "title": ""
    }
   },
   "source": [
    "We can see that the standard error is large. So we can't say anything about the differences.\n",
    "Let's look country by country."
   ]
  },
  {
   "cell_type": "code",
   "execution_count": 0,
   "metadata": {
    "application/vnd.databricks.v1+cell": {
     "cellMetadata": {
      "byteLimit": 2048000,
      "rowLimit": 10000
     },
     "inputWidgets": {},
     "nuid": "d32c267f-1020-480b-963d-60b0339e4969",
     "showTitle": false,
     "title": ""
    }
   },
   "outputs": [],
   "source": [
    "df_all[\"difference_non_abs\"] = df_all[\"home_score\"] - df_all[\"away_score\"]"
   ]
  },
  {
   "cell_type": "markdown",
   "metadata": {
    "application/vnd.databricks.v1+cell": {
     "cellMetadata": {},
     "inputWidgets": {},
     "nuid": "25b16e25-be5a-40b0-8d77-e682adaae08f",
     "showTitle": false,
     "title": ""
    }
   },
   "source": [
    "Let us first loook at a Pivot table with a sum of this, broken down by year."
   ]
  },
  {
   "cell_type": "code",
   "execution_count": 0,
   "metadata": {
    "application/vnd.databricks.v1+cell": {
     "cellMetadata": {
      "byteLimit": 2048000,
      "rowLimit": 10000
     },
     "inputWidgets": {},
     "nuid": "b3d3790b-826b-41a7-937c-b8cf64b42ece",
     "showTitle": false,
     "title": ""
    }
   },
   "outputs": [],
   "source": [
    "df_all.pivot_table(\"difference_non_abs\", \"home_team\", \"year\")"
   ]
  },
  {
   "cell_type": "markdown",
   "metadata": {
    "application/vnd.databricks.v1+cell": {
     "cellMetadata": {},
     "inputWidgets": {},
     "nuid": "e1911861-1e0a-46b1-8872-a3b875683843",
     "showTitle": false,
     "title": ""
    }
   },
   "source": [
    "Now let's first plot this by home team without year."
   ]
  },
  {
   "cell_type": "code",
   "execution_count": 0,
   "metadata": {
    "application/vnd.databricks.v1+cell": {
     "cellMetadata": {
      "byteLimit": 2048000,
      "rowLimit": 10000
     },
     "inputWidgets": {},
     "nuid": "647e5b6e-172d-4521-a2af-34367c867400",
     "showTitle": false,
     "title": ""
    }
   },
   "outputs": [],
   "source": [
    "(\n",
    "    df_all.pivot_table(\"difference_non_abs\", \"home_team\")\n",
    "    .rename_axis(\"Home_Team\")\n",
    "    .plot(kind=\"bar\", rot=0, legend=False)\n",
    "    .set_ylabel(\"Score difference Home team and away team\")\n",
    ");"
   ]
  },
  {
   "cell_type": "markdown",
   "metadata": {
    "application/vnd.databricks.v1+cell": {
     "cellMetadata": {},
     "inputWidgets": {},
     "nuid": "eeae6da6-e15e-45c4-b6de-9299b18a44f4",
     "showTitle": false,
     "title": ""
    }
   },
   "source": [
    "You can see that Italy and Scotland have negative scores on average. You can also see that England, Ireland and Wales have been the strongest teams lately at home."
   ]
  },
  {
   "cell_type": "code",
   "execution_count": 0,
   "metadata": {
    "application/vnd.databricks.v1+cell": {
     "cellMetadata": {
      "byteLimit": 2048000,
      "rowLimit": 10000
     },
     "inputWidgets": {},
     "nuid": "afc9f816-2f0d-4545-a07a-134dd84f011a",
     "showTitle": false,
     "title": ""
    }
   },
   "outputs": [],
   "source": [
    "(\n",
    "    df_all.pivot_table(\"difference_non_abs\", \"away_team\")\n",
    "    .rename_axis(\"Away_Team\")\n",
    "    .plot(kind=\"bar\", rot=0, legend=False)\n",
    "    .set_ylabel(\"Score difference Home team and away team\")\n",
    ");"
   ]
  },
  {
   "cell_type": "markdown",
   "metadata": {
    "application/vnd.databricks.v1+cell": {
     "cellMetadata": {},
     "inputWidgets": {},
     "nuid": "6fb46da4-90d5-4918-80dd-c0ec6fad7c9b",
     "showTitle": false,
     "title": ""
    }
   },
   "source": [
    "This indicates that Italy, Scotland and France all have poor away from home form.\n",
    "England suffers the least when playing away from home. This aggregate view doesn't take into account the strength of the teams."
   ]
  },
  {
   "cell_type": "markdown",
   "metadata": {
    "application/vnd.databricks.v1+cell": {
     "cellMetadata": {},
     "inputWidgets": {},
     "nuid": "26ed597c-f95a-455f-90d4-ba0f729ea0aa",
     "showTitle": false,
     "title": ""
    }
   },
   "source": [
    "Let us look a bit more at a timeseries plot of the average of the score difference over the year.\n",
    "\n",
    "We see some changes in team behaviour, and we also see that Italy is a poor team."
   ]
  },
  {
   "cell_type": "code",
   "execution_count": 0,
   "metadata": {
    "application/vnd.databricks.v1+cell": {
     "cellMetadata": {
      "byteLimit": 2048000,
      "rowLimit": 10000
     },
     "inputWidgets": {},
     "nuid": "b04a8043-3ce8-41d7-a71c-c00983424da7",
     "showTitle": false,
     "title": ""
    }
   },
   "outputs": [],
   "source": [
    "g = sns.FacetGrid(df_all, col=\"home_team\", col_wrap=2, height=5)\n",
    "g.map(sns.scatterplot, \"year\", \"difference_non_abs\")\n",
    "g.fig.autofmt_xdate()"
   ]
  },
  {
   "cell_type": "code",
   "execution_count": 0,
   "metadata": {
    "application/vnd.databricks.v1+cell": {
     "cellMetadata": {
      "byteLimit": 2048000,
      "rowLimit": 10000
     },
     "inputWidgets": {},
     "nuid": "e5307527-0074-4bb1-96c7-675640151678",
     "showTitle": false,
     "title": ""
    }
   },
   "outputs": [],
   "source": [
    "g = sns.FacetGrid(df_all, col=\"away_team\", col_wrap=2, height=5)\n",
    "g = g.map(plt.scatter, \"year\", \"difference_non_abs\").set_axis_labels(\"Year\", \"Score Difference\")\n",
    "g.fig.autofmt_xdate()"
   ]
  },
  {
   "cell_type": "markdown",
   "metadata": {
    "application/vnd.databricks.v1+cell": {
     "cellMetadata": {},
     "inputWidgets": {},
     "nuid": "04beb03a-d988-4120-a5d5-7ddd376a428b",
     "showTitle": false,
     "title": ""
    }
   },
   "source": [
    "You can see some interesting things here like Wales were good away from home in 2015.\n",
    "In that year they won three games away from home and won by 40 points or so away from home to Italy.\n",
    "\n",
    "So now we've got a feel for the data, we can proceed on with describing the model."
   ]
  },
  {
   "cell_type": "markdown",
   "metadata": {
    "application/vnd.databricks.v1+cell": {
     "cellMetadata": {},
     "inputWidgets": {},
     "nuid": "65315fd5-4efe-4cfd-b54c-0d4e44e4ceb1",
     "showTitle": false,
     "title": ""
    }
   },
   "source": [
    "### What assumptions do we know for our 'generative story'?\n",
    "\n",
    "* We know that the Six Nations in Rugby only has 6 teams - they each play each other once\n",
    "* We have data from the last few years\n",
    "* We also know that in sports scoring is modelled as a Poisson distribution\n",
    "* We consider home advantage to be a strong effect in sports"
   ]
  },
  {
   "cell_type": "markdown",
   "metadata": {
    "application/vnd.databricks.v1+cell": {
     "cellMetadata": {},
     "inputWidgets": {},
     "nuid": "2fee38ee-f524-4096-beff-876b606f2f28",
     "showTitle": false,
     "title": ""
    }
   },
   "source": [
    "## The model.\n",
    "\n",
    "The league is made up by a total of T= 6 teams, playing each other once\n",
    "in a season. We indicate the number of points scored by the home and the away team in the g-th game of the season (15 games) as $y_{g1}$ and $y_{g2}$ respectively. </p>\n",
    "The vector of observed counts $\\mathbb{y} = (y_{g1}, y_{g2})$ is modelled as independent Poisson:\n",
    "$y_{gi}| \\theta_{gj} \\tilde\\;\\;  Poisson(\\theta_{gj})$\n",
    "where the theta parameters represent the scoring intensity in the g-th game for the team playing at home (j=1) and away (j=2), respectively.</p>"
   ]
  },
  {
   "cell_type": "markdown",
   "metadata": {
    "application/vnd.databricks.v1+cell": {
     "cellMetadata": {},
     "inputWidgets": {},
     "nuid": "816b953c-ba41-44b5-bdc2-7c340c2ea491",
     "showTitle": false,
     "title": ""
    }
   },
   "source": [
    "We model these parameters according to a formulation that has been used widely in the statistical literature, assuming a log-linear random effect model:\n",
    "$$log \\theta_{g1} = home + att_{h(g)} + def_{a(g)} $$\n",
    "$$log \\theta_{g2} = att_{a(g)} + def_{h(g)}$$\n",
    "\n",
    "\n",
    "* The parameter home represents the advantage for the team hosting the game and we assume that this effect is constant for all the teams and throughout the season\n",
    "* The scoring intensity is determined jointly by the attack and defense ability of the two teams involved, represented by the parameters att and def, respectively\n",
    "\n",
    "* Conversely, for each t = 1, ..., T, the team-specific effects are modelled as exchangeable from a common distribution:\n",
    "\n",
    "* $att_{t} \\; \\tilde\\;\\; Normal(\\mu_{att},\\tau_{att})$ and $def_{t} \\; \\tilde\\;\\;Normal(\\mu_{def},\\tau_{def})$\n",
    "\n",
    "* We did some munging above and adjustments of the data to make it **tidier** for our model.\n",
    "* The log function to away scores and home scores is a standard trick in the sports analytics literature"
   ]
  },
  {
   "cell_type": "markdown",
   "metadata": {
    "application/vnd.databricks.v1+cell": {
     "cellMetadata": {},
     "inputWidgets": {},
     "nuid": "f6a9d2ec-b458-40f0-94fa-67b429068cd1",
     "showTitle": false,
     "title": ""
    }
   },
   "source": [
    "## Building of the model\n",
    "We now build the model in PyMC, specifying the global parameters, the team-specific parameters and the likelihood function"
   ]
  },
  {
   "cell_type": "code",
   "execution_count": 0,
   "metadata": {
    "application/vnd.databricks.v1+cell": {
     "cellMetadata": {
      "byteLimit": 2048000,
      "rowLimit": 10000
     },
     "inputWidgets": {},
     "nuid": "998b2ad8-55f7-4c3a-bf45-aed696a5a6c0",
     "showTitle": false,
     "title": ""
    }
   },
   "outputs": [],
   "source": [
    "plt.rcParams[\"figure.constrained_layout.use\"] = True\n",
    "home_idx, teams = pd.factorize(df_all[\"home_team\"], sort=True)\n",
    "away_idx, _ = pd.factorize(df_all[\"away_team\"], sort=True)\n",
    "coords = {\"team\": teams}"
   ]
  },
  {
   "cell_type": "code",
   "execution_count": 0,
   "metadata": {
    "application/vnd.databricks.v1+cell": {
     "cellMetadata": {
      "byteLimit": 2048000,
      "rowLimit": 10000
     },
     "inputWidgets": {},
     "nuid": "3679b6f9-ebbd-4161-9b63-ff6b20b4e150",
     "showTitle": false,
     "title": ""
    }
   },
   "outputs": [],
   "source": [
    "with pm.Model(coords=coords) as model:\n",
    "    # constant data\n",
    "    home_team = pm.ConstantData(\"home_team\", home_idx, dims=\"match\")\n",
    "    away_team = pm.ConstantData(\"away_team\", away_idx, dims=\"match\")\n",
    "\n",
    "    # global model parameters\n",
    "    home = pm.Normal(\"home\", mu=0, sigma=1)\n",
    "    sd_att = pm.HalfNormal(\"sd_att\", sigma=2)\n",
    "    sd_def = pm.HalfNormal(\"sd_def\", sigma=2)\n",
    "    intercept = pm.Normal(\"intercept\", mu=3, sigma=1)\n",
    "\n",
    "    # team-specific model parameters\n",
    "    atts_star = pm.Normal(\"atts_star\", mu=0, sigma=sd_att, dims=\"team\")\n",
    "    defs_star = pm.Normal(\"defs_star\", mu=0, sigma=sd_def, dims=\"team\")\n",
    "\n",
    "    atts = pm.Deterministic(\"atts\", atts_star - at.mean(atts_star), dims=\"team\")\n",
    "    defs = pm.Deterministic(\"defs\", defs_star - at.mean(defs_star), dims=\"team\")\n",
    "    home_theta = at.exp(intercept + home + atts[home_idx] + defs[away_idx])\n",
    "    away_theta = at.exp(intercept + atts[away_idx] + defs[home_idx])\n",
    "\n",
    "    # likelihood of observed data\n",
    "    home_points = pm.Poisson(\n",
    "        \"home_points\",\n",
    "        mu=home_theta,\n",
    "        observed=df_all[\"home_score\"],\n",
    "        dims=(\"match\"),\n",
    "    )\n",
    "    away_points = pm.Poisson(\n",
    "        \"away_points\",\n",
    "        mu=away_theta,\n",
    "        observed=df_all[\"away_score\"],\n",
    "        dims=(\"match\"),\n",
    "    )\n",
    "    trace = pm.sample(1000, tune=1500, cores=4)"
   ]
  },
  {
   "cell_type": "markdown",
   "metadata": {
    "application/vnd.databricks.v1+cell": {
     "cellMetadata": {},
     "inputWidgets": {},
     "nuid": "e05e36cf-05bc-49d9-b048-b697b1abfc1b",
     "showTitle": false,
     "title": ""
    }
   },
   "source": [
    "* We specified the model and the likelihood function\n",
    "\n",
    "* All this runs on an Aesara graph under the hood"
   ]
  },
  {
   "cell_type": "code",
   "execution_count": 0,
   "metadata": {
    "application/vnd.databricks.v1+cell": {
     "cellMetadata": {
      "byteLimit": 2048000,
      "rowLimit": 10000
     },
     "inputWidgets": {},
     "nuid": "9bece137-7005-456f-bc6f-3b3da7f7f1f7",
     "showTitle": false,
     "title": ""
    }
   },
   "outputs": [],
   "source": [
    "az.plot_trace(trace, var_names=[\"intercept\", \"home\", \"sd_att\", \"sd_def\"], compact=False);"
   ]
  },
  {
   "cell_type": "markdown",
   "metadata": {
    "application/vnd.databricks.v1+cell": {
     "cellMetadata": {},
     "inputWidgets": {},
     "nuid": "2c98194a-539e-428a-8dd0-3859c647836f",
     "showTitle": false,
     "title": ""
    }
   },
   "source": [
    "Let us apply good *statistical workflow* practices and look at the various evaluation metrics to see if our NUTS sampler converged."
   ]
  },
  {
   "cell_type": "code",
   "execution_count": 0,
   "metadata": {
    "application/vnd.databricks.v1+cell": {
     "cellMetadata": {
      "byteLimit": 2048000,
      "rowLimit": 10000
     },
     "inputWidgets": {},
     "nuid": "917e2691-1855-4e93-a662-5b675214ccd1",
     "showTitle": false,
     "title": ""
    }
   },
   "outputs": [],
   "source": [
    "az.plot_energy(trace, figsize=(6, 4));"
   ]
  },
  {
   "cell_type": "code",
   "execution_count": 0,
   "metadata": {
    "application/vnd.databricks.v1+cell": {
     "cellMetadata": {
      "byteLimit": 2048000,
      "rowLimit": 10000
     },
     "inputWidgets": {},
     "nuid": "8ca88849-fa46-4581-8b77-cfc095042828",
     "showTitle": false,
     "title": ""
    }
   },
   "outputs": [],
   "source": [
    "az.summary(trace, kind=\"diagnostics\")"
   ]
  },
  {
   "cell_type": "markdown",
   "metadata": {
    "application/vnd.databricks.v1+cell": {
     "cellMetadata": {},
     "inputWidgets": {},
     "nuid": "ae162677-62fb-4e9d-871b-d446be84e5eb",
     "showTitle": false,
     "title": ""
    }
   },
   "source": [
    "Our model has converged well and $\\hat{R}$ looks good."
   ]
  },
  {
   "cell_type": "markdown",
   "metadata": {
    "application/vnd.databricks.v1+cell": {
     "cellMetadata": {},
     "inputWidgets": {},
     "nuid": "edbfb84a-4d57-48df-8f73-2bbe8ec3acf9",
     "showTitle": false,
     "title": ""
    }
   },
   "source": [
    "Let us look at some of the stats, just to verify that our model has returned the correct attributes. We can see that some teams are stronger than others. This is what we would expect with attack"
   ]
  },
  {
   "cell_type": "code",
   "execution_count": 0,
   "metadata": {
    "application/vnd.databricks.v1+cell": {
     "cellMetadata": {
      "byteLimit": 2048000,
      "rowLimit": 10000
     },
     "inputWidgets": {},
     "nuid": "00228c00-516c-483b-92b7-1842e02f7b1b",
     "showTitle": false,
     "title": ""
    }
   },
   "outputs": [],
   "source": [
    "trace_hdi = az.hdi(trace)\n",
    "trace_hdi[\"atts\"]"
   ]
  },
  {
   "cell_type": "code",
   "execution_count": 0,
   "metadata": {
    "application/vnd.databricks.v1+cell": {
     "cellMetadata": {
      "byteLimit": 2048000,
      "rowLimit": 10000
     },
     "inputWidgets": {},
     "nuid": "a0503496-4ec8-45c1-bc48-13ee0f92cc8a",
     "showTitle": false,
     "title": ""
    }
   },
   "outputs": [],
   "source": [
    "trace.posterior[\"atts\"].median((\"chain\", \"draw\"))"
   ]
  },
  {
   "cell_type": "markdown",
   "metadata": {
    "application/vnd.databricks.v1+cell": {
     "cellMetadata": {},
     "inputWidgets": {},
     "nuid": "6bc65450-7372-4c25-90ac-148c1a327458",
     "showTitle": false,
     "title": ""
    }
   },
   "source": [
    "## Results\n",
    "From the above we can start to understand the different distributions of attacking strength and defensive strength.\n",
    "These are probabilistic estimates and help us better understand the uncertainty in sports analytics"
   ]
  },
  {
   "cell_type": "code",
   "execution_count": 0,
   "metadata": {
    "application/vnd.databricks.v1+cell": {
     "cellMetadata": {
      "byteLimit": 2048000,
      "rowLimit": 10000
     },
     "inputWidgets": {},
     "nuid": "8d5b2caf-e99a-495e-aa6e-9e7dc9bf88ee",
     "showTitle": false,
     "title": ""
    }
   },
   "outputs": [],
   "source": [
    "_, ax = plt.subplots(figsize=(12, 6))\n",
    "\n",
    "ax.scatter(teams, trace.posterior[\"atts\"].median(dim=(\"chain\", \"draw\")), color=\"C0\", alpha=1, s=100)\n",
    "ax.vlines(\n",
    "    teams,\n",
    "    trace_hdi[\"atts\"].sel({\"hdi\": \"lower\"}),\n",
    "    trace_hdi[\"atts\"].sel({\"hdi\": \"higher\"}),\n",
    "    alpha=0.6,\n",
    "    lw=5,\n",
    "    color=\"C0\",\n",
    ")\n",
    "ax.set_xlabel(\"Teams\")\n",
    "ax.set_ylabel(\"Posterior Attack Strength\")\n",
    "ax.set_title(\"HDI of Team-wise Attack Strength\");"
   ]
  },
  {
   "cell_type": "markdown",
   "metadata": {
    "application/vnd.databricks.v1+cell": {
     "cellMetadata": {},
     "inputWidgets": {},
     "nuid": "42e46bdb-f806-4dfd-9bb8-f36680ae8dd9",
     "showTitle": false,
     "title": ""
    }
   },
   "source": [
    "This is one of the powerful things about Bayesian modelling, we can have *uncertainty quantification* of some of our estimates.\n",
    "We've got a Bayesian credible interval for the attack strength of different countries.\n",
    "\n",
    "We can see an overlap between Ireland, Wales and England which is what you'd expect since these teams have won in recent years.\n",
    "\n",
    "Italy is well behind everyone else - which is what we'd expect and there's an overlap between Scotland and France which seems about right.\n",
    "\n",
    "There are probably some effects we'd like to add in here, like weighting more recent results more strongly.\n",
    "However that'd be a much more complicated model."
   ]
  },
  {
   "cell_type": "code",
   "execution_count": 0,
   "metadata": {
    "application/vnd.databricks.v1+cell": {
     "cellMetadata": {
      "byteLimit": 2048000,
      "rowLimit": 10000
     },
     "inputWidgets": {},
     "nuid": "88b16e44-2b96-4a12-8dd2-481dd3a6920a",
     "showTitle": false,
     "title": ""
    }
   },
   "outputs": [],
   "source": [
    "# subclass arviz labeller to omit the variable name\n",
    "class TeamLabeller(az.labels.BaseLabeller):\n",
    "    def make_label_flat(self, var_name, sel, isel):\n",
    "        sel_str = self.sel_to_str(sel, isel)\n",
    "        return sel_str"
   ]
  },
  {
   "cell_type": "code",
   "execution_count": 0,
   "metadata": {
    "application/vnd.databricks.v1+cell": {
     "cellMetadata": {
      "byteLimit": 2048000,
      "rowLimit": 10000
     },
     "inputWidgets": {},
     "nuid": "95823fb8-86c2-4aaf-b261-e975893ac9f1",
     "showTitle": false,
     "title": ""
    }
   },
   "outputs": [],
   "source": [
    "ax = az.plot_forest(trace, var_names=[\"atts\"], labeller=TeamLabeller())\n",
    "ax[0].set_title(\"Team Offense\");"
   ]
  },
  {
   "cell_type": "code",
   "execution_count": 0,
   "metadata": {
    "application/vnd.databricks.v1+cell": {
     "cellMetadata": {
      "byteLimit": 2048000,
      "rowLimit": 10000
     },
     "inputWidgets": {},
     "nuid": "94046140-90e2-42d9-a037-234440f3f2f1",
     "showTitle": false,
     "title": ""
    }
   },
   "outputs": [],
   "source": [
    "ax = az.plot_forest(trace, var_names=[\"defs\"], labeller=TeamLabeller())\n",
    "ax[0].set_title(\"Team Defense\");"
   ]
  },
  {
   "cell_type": "markdown",
   "metadata": {
    "application/vnd.databricks.v1+cell": {
     "cellMetadata": {},
     "inputWidgets": {},
     "nuid": "92c5732f-3e30-4251-8820-d5cc59f58fb3",
     "showTitle": false,
     "title": ""
    }
   },
   "source": [
    "Good teams like Ireland and England have a strong negative effect defense. Which is what we expect. We expect our strong teams to have strong positive effects in attack and strong negative effects in defense."
   ]
  },
  {
   "cell_type": "markdown",
   "metadata": {
    "application/vnd.databricks.v1+cell": {
     "cellMetadata": {},
     "inputWidgets": {},
     "nuid": "e48b4ccb-057b-4306-9f5e-0c1505503e0b",
     "showTitle": false,
     "title": ""
    }
   },
   "source": [
    "This approach that we're using of looking at parameters and examining them is part of a good statistical workflow.\n",
    "We also think that perhaps our priors could be better specified. However this is beyond the scope of this article.\n",
    "We recommend for a good discussion of 'statistical workflow' you visit [Robust Statistical Workflow with RStan](http://mc-stan.org/users/documentation/case-studies/rstan_workflow.html)"
   ]
  },
  {
   "cell_type": "markdown",
   "metadata": {
    "application/vnd.databricks.v1+cell": {
     "cellMetadata": {},
     "inputWidgets": {},
     "nuid": "53fd64be-dfcf-4a24-af40-3b1e46e7abfc",
     "showTitle": false,
     "title": ""
    }
   },
   "source": [
    "Let's do some other plots. So we can see our range for our defensive effect.\n",
    "I'll print the teams below too just for reference"
   ]
  },
  {
   "cell_type": "code",
   "execution_count": 0,
   "metadata": {
    "application/vnd.databricks.v1+cell": {
     "cellMetadata": {
      "byteLimit": 2048000,
      "rowLimit": 10000
     },
     "inputWidgets": {},
     "nuid": "dd648cd2-29df-49e3-9d0f-dd689401c442",
     "showTitle": false,
     "title": ""
    }
   },
   "outputs": [],
   "source": [
    "az.plot_posterior(trace, var_names=[\"defs\"]);"
   ]
  },
  {
   "cell_type": "markdown",
   "metadata": {
    "application/vnd.databricks.v1+cell": {
     "cellMetadata": {},
     "inputWidgets": {},
     "nuid": "f93042cb-1207-4c4f-a234-cc3ce3c9dcc0",
     "showTitle": false,
     "title": ""
    }
   },
   "source": [
    "We can see that Ireland's mean is -0.39  which means we expect Ireland to have a strong defense.\n",
    "Which is what we'd expect, Ireland generally even in games it loses doesn't lose by say 50 points.\n",
    "And we can see that the 94% HDI is between -0.491, and -0.28\n",
    "\n",
    "In comparison with Italy, we see a strong positive effect 0.58 mean and a HDI of 0.51 and 0.65. This means that we'd expect Italy to concede a lot of points, compared to what it scores.\n",
    "Given that Italy often loses by 30 - 60 points, this seems correct.\n",
    "\n",
    "We see here also that this informs what other priors we could bring into this. We could bring some sort of world ranking as a prior.\n",
    "\n",
    "As of December 2017 the [rugby rankings](https://www.worldrugby.org/rankings/mru) indicate that England is 2nd in the world, Ireland 3rd, Scotland 5th, Wales 7th, France 9th and Italy 14th. We could bring that into a model and it can explain some of the fact that Italy is apart from a lot of the other teams."
   ]
  },
  {
   "cell_type": "markdown",
   "metadata": {
    "application/vnd.databricks.v1+cell": {
     "cellMetadata": {},
     "inputWidgets": {},
     "nuid": "1dfe5681-c2b0-49b8-8a1d-abd84a8211b5",
     "showTitle": false,
     "title": ""
    }
   },
   "source": [
    "Now let's simulate who wins over a total of 4000 simulations, one per sample in the posterior."
   ]
  },
  {
   "cell_type": "code",
   "execution_count": 0,
   "metadata": {
    "application/vnd.databricks.v1+cell": {
     "cellMetadata": {
      "byteLimit": 2048000,
      "rowLimit": 10000
     },
     "inputWidgets": {},
     "nuid": "90811b92-1c6c-4f0c-8b32-fdb4098fbb4c",
     "showTitle": false,
     "title": ""
    }
   },
   "outputs": [],
   "source": [
    "with model:\n",
    "    pm.sample_posterior_predictive(trace, extend_inferencedata=True)\n",
    "pp = trace.posterior_predictive\n",
    "const = trace.constant_data\n",
    "team_da = trace.posterior.team"
   ]
  },
  {
   "cell_type": "markdown",
   "metadata": {
    "application/vnd.databricks.v1+cell": {
     "cellMetadata": {},
     "inputWidgets": {},
     "nuid": "72873e1e-6cb0-4c50-a398-9a6e8f34e837",
     "showTitle": false,
     "title": ""
    }
   },
   "source": [
    "The posterior predictive samples contain the goals scored by each team in each match. We modeled and therefore simulated according to scoring and devensive powers using goals as observed variable.\n",
    "\n",
    "Our goal now is to see who wins the competition, so we can estimate the probability each team has of winning the whole competition. From that we need to convert the scored goals to points:"
   ]
  },
  {
   "cell_type": "code",
   "execution_count": 0,
   "metadata": {
    "application/vnd.databricks.v1+cell": {
     "cellMetadata": {
      "byteLimit": 2048000,
      "rowLimit": 10000
     },
     "inputWidgets": {},
     "nuid": "fd816d4f-7d5c-48ea-9829-8ab21c9f1dfd",
     "showTitle": false,
     "title": ""
    }
   },
   "outputs": [],
   "source": [
    "# fmt: off\n",
    "pp[\"home_win\"] = (\n",
    "    (pp[\"home_points\"] > pp[\"away_points\"]) * 3     # home team wins and gets 3 points\n",
    "    + (pp[\"home_points\"] == pp[\"away_points\"]) * 2  # tie -> home team gets 2 points\n",
    ")\n",
    "pp[\"away_win\"] = (\n",
    "    (pp[\"home_points\"] < pp[\"away_points\"]) * 3\n",
    "    + (pp[\"home_points\"] == pp[\"away_points\"]) * 2\n",
    ")\n",
    "# fmt: on"
   ]
  },
  {
   "cell_type": "markdown",
   "metadata": {
    "application/vnd.databricks.v1+cell": {
     "cellMetadata": {},
     "inputWidgets": {},
     "nuid": "cb18621a-2e01-4771-b59e-5bc19043f9dd",
     "showTitle": false,
     "title": ""
    }
   },
   "source": [
    "Then add the points each team has collected throughout all matches:"
   ]
  },
  {
   "cell_type": "code",
   "execution_count": 0,
   "metadata": {
    "application/vnd.databricks.v1+cell": {
     "cellMetadata": {
      "byteLimit": 2048000,
      "rowLimit": 10000
     },
     "inputWidgets": {},
     "nuid": "766fce44-18b1-4810-b285-251eb9f7f88a",
     "showTitle": false,
     "title": ""
    }
   },
   "outputs": [],
   "source": [
    "groupby_sum_home = pp.home_win.groupby(team_da[const.home_team]).sum()\n",
    "groupby_sum_away = pp.away_win.groupby(team_da[const.away_team]).sum()\n",
    "\n",
    "pp[\"teamscores\"] = groupby_sum_home + groupby_sum_away"
   ]
  },
  {
   "cell_type": "markdown",
   "metadata": {
    "application/vnd.databricks.v1+cell": {
     "cellMetadata": {},
     "inputWidgets": {},
     "nuid": "018a489e-d9d7-46b7-be56-2c96aa9d1237",
     "showTitle": false,
     "title": ""
    }
   },
   "source": [
    "And eventually generate the ranks of all teams for each of the 4000 simulations. As our data is stored in xarray objects inside the InferenceData class, we will use {doc}`einstats:index`:"
   ]
  },
  {
   "cell_type": "code",
   "execution_count": 0,
   "metadata": {
    "application/vnd.databricks.v1+cell": {
     "cellMetadata": {
      "byteLimit": 2048000,
      "rowLimit": 10000
     },
     "inputWidgets": {},
     "nuid": "d3411e53-7e96-47e4-beb7-f5fcf577bc4e",
     "showTitle": false,
     "title": ""
    }
   },
   "outputs": [],
   "source": [
    "from xarray_einstats.stats import rankdata\n",
    "\n",
    "pp[\"rank\"] = rankdata(-pp[\"teamscores\"], dims=\"team\", method=\"min\")\n",
    "pp[[\"rank\"]].sel(team=\"England\")"
   ]
  },
  {
   "cell_type": "markdown",
   "metadata": {
    "application/vnd.databricks.v1+cell": {
     "cellMetadata": {},
     "inputWidgets": {},
     "nuid": "a8c050f5-8b5c-4884-a559-719484371465",
     "showTitle": false,
     "title": ""
    }
   },
   "source": [
    "As you can see, we now have a collection of 4000 integers between 1 and 6 for each team, 1 meaning they win the competition. We can use a histogram with bin edges at half integers to count and normalize how many times each team\n",
    "finishes in each position:"
   ]
  },
  {
   "cell_type": "code",
   "execution_count": 0,
   "metadata": {
    "application/vnd.databricks.v1+cell": {
     "cellMetadata": {
      "byteLimit": 2048000,
      "rowLimit": 10000
     },
     "inputWidgets": {},
     "nuid": "87dfccff-5917-4193-904a-51024fbc5467",
     "showTitle": false,
     "title": ""
    }
   },
   "outputs": [],
   "source": [
    "from xarray_einstats.numba import histogram\n",
    "\n",
    "bin_edges = np.arange(7) + 0.5\n",
    "data_sim = (\n",
    "    histogram(pp[\"rank\"], dims=(\"chain\", \"draw\"), bins=bin_edges, density=True)\n",
    "    .rename({\"bin\": \"rank\"})\n",
    "    .assign_coords(rank=np.arange(6) + 1)\n",
    ")"
   ]
  },
  {
   "cell_type": "markdown",
   "metadata": {
    "application/vnd.databricks.v1+cell": {
     "cellMetadata": {},
     "inputWidgets": {},
     "nuid": "6d6be163-9def-4ac1-8fcd-b98350b6a178",
     "showTitle": false,
     "title": ""
    }
   },
   "source": [
    "Now that we have reduced the data to a 2 dimensional array, we will convert it to a pandas DataFrame\n",
    "which is now a more adequate choice to work with our data:"
   ]
  },
  {
   "cell_type": "code",
   "execution_count": 0,
   "metadata": {
    "application/vnd.databricks.v1+cell": {
     "cellMetadata": {
      "byteLimit": 2048000,
      "rowLimit": 10000
     },
     "inputWidgets": {},
     "nuid": "ce2b0ac0-5690-4f78-bed0-d357da92dbaf",
     "showTitle": false,
     "title": ""
    }
   },
   "outputs": [],
   "source": [
    "idx_dim, col_dim = data_sim.dims\n",
    "sim_table = pd.DataFrame(data_sim, index=data_sim[idx_dim], columns=data_sim[col_dim])"
   ]
  },
  {
   "cell_type": "code",
   "execution_count": 0,
   "metadata": {
    "application/vnd.databricks.v1+cell": {
     "cellMetadata": {
      "byteLimit": 2048000,
      "rowLimit": 10000
     },
     "inputWidgets": {},
     "nuid": "3e5d2e24-7880-47e5-8df3-dfd17b1a57f4",
     "showTitle": false,
     "title": ""
    }
   },
   "outputs": [],
   "source": [
    "fig, ax = plt.subplots(figsize=(8, 4))\n",
    "ax = sim_table.T.plot(kind=\"barh\", ax=ax)\n",
    "ax.xaxis.set_major_formatter(StrMethodFormatter(\"{x:.1%}\"))\n",
    "ax.set_xlabel(\"Rank-wise Probability of results for all six teams\")\n",
    "ax.set_yticklabels(np.arange(1, 7))\n",
    "ax.set_ylabel(\"Ranks\")\n",
    "ax.invert_yaxis()\n",
    "ax.legend(loc=\"best\", fontsize=\"medium\");"
   ]
  },
  {
   "cell_type": "markdown",
   "metadata": {
    "application/vnd.databricks.v1+cell": {
     "cellMetadata": {},
     "inputWidgets": {},
     "nuid": "f8e71626-daa1-45ee-942d-3db8456ed306",
     "showTitle": false,
     "title": ""
    }
   },
   "source": [
    "We see according to this model that Ireland finishes with the most points about 60% of the time, and England finishes with the most points 45% of the time and Wales finishes with the most points about 10% of the time.  (Note that these probabilities do not sum to 100% since there is a non-zero chance of a tie atop the table.)\n",
    "\n",
    "> As an Irish rugby fan - I like this model. However it indicates some problems with shrinkage, and bias. Since recent form suggests England will win.\n",
    "\n",
    "Nevertheless the point of this model was to illustrate how a Hierarchical model could be applied to a sports analytics problem, and illustrate the power of PyMC."
   ]
  },
  {
   "cell_type": "markdown",
   "metadata": {
    "application/vnd.databricks.v1+cell": {
     "cellMetadata": {},
     "inputWidgets": {},
     "nuid": "72b6672c-a4a0-42e4-bacc-64bd6019c238",
     "showTitle": false,
     "title": ""
    }
   },
   "source": [
    "## Covariates\n",
    "We should do some exploration of the variables"
   ]
  },
  {
   "cell_type": "code",
   "execution_count": 0,
   "metadata": {
    "application/vnd.databricks.v1+cell": {
     "cellMetadata": {
      "byteLimit": 2048000,
      "rowLimit": 10000
     },
     "inputWidgets": {},
     "nuid": "b148ac34-3913-4e45-8120-a982b0c66b97",
     "showTitle": false,
     "title": ""
    }
   },
   "outputs": [],
   "source": [
    "az.plot_pair(\n",
    "    trace,\n",
    "    var_names=[\"atts\"],\n",
    "    kind=\"scatter\",\n",
    "    divergences=True,\n",
    "    textsize=25,\n",
    "    marginals=True,\n",
    "),\n",
    "figsize = (10, 10)"
   ]
  },
  {
   "cell_type": "markdown",
   "metadata": {
    "application/vnd.databricks.v1+cell": {
     "cellMetadata": {},
     "inputWidgets": {},
     "nuid": "a8cca02d-366a-4e0e-a805-c9932f0ec5d7",
     "showTitle": false,
     "title": ""
    }
   },
   "source": [
    "We observe that there isn't a lot of correlation between these covariates, other than the weaker teams like Italy have a more negative distribution of these variables.\n",
    "Nevertheless this is a good method to get some insight into how the variables are behaving."
   ]
  },
  {
   "cell_type": "markdown",
   "metadata": {
    "application/vnd.databricks.v1+cell": {
     "cellMetadata": {},
     "inputWidgets": {},
     "nuid": "51e02505-87e6-4001-88dd-2ec372a71faa",
     "showTitle": false,
     "title": ""
    }
   },
   "source": [
    "## Authors\n",
    "\n",
    "* Adapted [Daniel Weitzenfeld's](http://danielweitzenfeld.github.io/passtheroc/blog/2014/10/28/bayes-premier-league/) blog post by [Peadar Coyle](). The original blog post was based on the work of {cite:p}`baio2010bayesian`\n",
    "* Updated by Meenal Jhajharia to use ArviZ and xarray\n",
    "* Updated by Oriol Abril-Pla to use PyMC v4 and xarray-einstats"
   ]
  },
  {
   "cell_type": "markdown",
   "metadata": {
    "application/vnd.databricks.v1+cell": {
     "cellMetadata": {},
     "inputWidgets": {},
     "nuid": "17b6f301-104d-4225-83c3-2182aba2b949",
     "showTitle": false,
     "title": ""
    }
   },
   "source": [
    "## References\n",
    "\n",
    ":::{bibliography}\n",
    ":filter: docname in docnames\n",
    ":::"
   ]
  },
  {
   "cell_type": "markdown",
   "metadata": {
    "application/vnd.databricks.v1+cell": {
     "cellMetadata": {},
     "inputWidgets": {},
     "nuid": "6935debc-1970-40aa-9730-b8ea7050efaa",
     "showTitle": false,
     "title": ""
    }
   },
   "source": [
    "## Watermark"
   ]
  },
  {
   "cell_type": "markdown",
   "metadata": {
    "application/vnd.databricks.v1+cell": {
     "cellMetadata": {},
     "inputWidgets": {},
     "nuid": "f447a72a-50e7-48c1-b4f2-be2996d35204",
     "showTitle": false,
     "title": ""
    }
   },
   "source": [
    "watermark\n",
    "%watermark -n -u -v -iv -w -p xarray,aeppl,numba,xarray_einstats"
   ]
  },
  {
   "cell_type": "markdown",
   "metadata": {
    "application/vnd.databricks.v1+cell": {
     "cellMetadata": {},
     "inputWidgets": {},
     "nuid": "57c761f1-1a94-488a-be2c-21155e0d686e",
     "showTitle": false,
     "title": ""
    }
   },
   "source": [
    ":::{include} ../page_footer.md\n",
    ":::"
   ]
  },
  {
   "cell_type": "code",
   "execution_count": 0,
   "metadata": {
    "application/vnd.databricks.v1+cell": {
     "cellMetadata": {
      "byteLimit": 2048000,
      "rowLimit": 10000
     },
     "inputWidgets": {},
     "nuid": "6473fb93-228b-400b-9fea-22c688f2df1c",
     "showTitle": false,
     "title": ""
    }
   },
   "outputs": [],
   "source": []
  }
 ],
 "metadata": {
  "anaconda-cloud": {},
  "application/vnd.databricks.v1+notebook": {
   "dashboards": [],
   "environmentMetadata": null,
   "language": "python",
   "notebookMetadata": {
    "pythonIndentUnit": 4
   },
   "notebookName": "rugby_analytics",
   "widgets": {}
  },
  "kernelspec": {
   "display_name": "Python 3 (ipykernel)",
   "language": "python",
   "name": "python3"
  },
  "language_info": {
   "codemirror_mode": {
    "name": "ipython",
    "version": 3
   },
   "file_extension": ".py",
   "mimetype": "text/x-python",
   "name": "python",
   "nbconvert_exporter": "python",
   "pygments_lexer": "ipython3",
   "version": "3.9.10"
  },
  "substitutions": {
   "extra_dependencies": "seaborn numba xarray-einstats"
  }
 },
 "nbformat": 4,
 "nbformat_minor": 0
}
