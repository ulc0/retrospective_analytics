{
 "cells": [
  {
   "cell_type": "markdown",
   "metadata": {
    "application/vnd.databricks.v1+cell": {
     "cellMetadata": {},
     "inputWidgets": {},
     "nuid": "dc29a8e6-67a7-4cdf-a444-ca2b7e2dd224",
     "showTitle": false,
     "title": ""
    }
   },
   "source": [
    "### Load libraries"
   ]
  },
  {
   "cell_type": "code",
   "execution_count": 0,
   "metadata": {
    "ExecuteTime": {
     "end_time": "2021-10-15T19:01:17.269505Z",
     "start_time": "2021-10-15T19:01:17.264518Z"
    },
    "application/vnd.databricks.v1+cell": {
     "cellMetadata": {},
     "inputWidgets": {},
     "nuid": "0b4ad8f9-070c-47e6-a55b-5f7c04493174",
     "showTitle": false,
     "title": ""
    }
   },
   "outputs": [],
   "source": [
    "import numpy as np\n",
    "import pandas as pd\n",
    "from lifelines import KaplanMeierFitter\n",
    "from lifelines import CoxPHFitter\n",
    "import matplotlib.pyplot as plt"
   ]
  },
  {
   "cell_type": "markdown",
   "metadata": {
    "application/vnd.databricks.v1+cell": {
     "cellMetadata": {},
     "inputWidgets": {},
     "nuid": "c410ddea-3243-40a4-81c6-5a4f42673778",
     "showTitle": false,
     "title": ""
    }
   },
   "source": [
    "### Data Source\n",
    "\n",
    "Loprinzi CL. Laurie JA. Wieand HS. Krook JE. Novotny PJ. Kugler JW. Bartel J. Law M. Bateman M. Klatt NE. et al. Prospective evaluation of prognostic variables from patient-completed questionnaires. North Central Cancer Treatment Group. Journal of Clinical Oncology. 12(3):601-7, 1994."
   ]
  },
  {
   "cell_type": "code",
   "execution_count": 0,
   "metadata": {
    "ExecuteTime": {
     "end_time": "2021-10-15T19:01:17.832632Z",
     "start_time": "2021-10-15T19:01:17.810702Z"
    },
    "application/vnd.databricks.v1+cell": {
     "cellMetadata": {},
     "inputWidgets": {},
     "nuid": "fc1edd6c-af5e-43ff-9a8c-7d1a7ccf61b2",
     "showTitle": false,
     "title": ""
    }
   },
   "outputs": [],
   "source": [
    "data = pd.read_csv(\"lung.csv\", index_col = 0)\n",
    "data.head()"
   ]
  },
  {
   "cell_type": "code",
   "execution_count": 0,
   "metadata": {
    "ExecuteTime": {
     "end_time": "2021-10-15T19:01:17.998880Z",
     "start_time": "2021-10-15T19:01:17.991931Z"
    },
    "application/vnd.databricks.v1+cell": {
     "cellMetadata": {},
     "inputWidgets": {},
     "nuid": "9732cf0b-f1a8-49f3-aae2-6bcc789b8ede",
     "showTitle": false,
     "title": ""
    }
   },
   "outputs": [],
   "source": [
    "data.shape"
   ]
  },
  {
   "cell_type": "markdown",
   "metadata": {
    "application/vnd.databricks.v1+cell": {
     "cellMetadata": {},
     "inputWidgets": {},
     "nuid": "561e19b4-daad-44bc-803f-c68f5a422cd6",
     "showTitle": false,
     "title": ""
    }
   },
   "source": [
    "### Variable description\n",
    "* inst: Institution code\n",
    "* time: Survival time in days\n",
    "* status: censoring status 0 = censored, 1 = dead\n",
    "* age: Age in years\n",
    "* sex: Male = 0 Female = 1\n",
    "* ph.ecog: ECOG performance score as rated by the physician. 0 = asymptomatic, 1 = symptomatic but completely ambulatory, 2 = in bed <50% of the day, 3 = in bed > 50% of the day but not bedbound, 4 = bedbound\n",
    "* ph.karno: Karnofsky performance score (bad=0-good=100) rated by physician\n",
    "* pat.karno: Karnofsky performance score as rated by patient\n",
    "* meal.cal = Calories consumed at meals\n",
    "* wt.loss = Weight loss in last six months"
   ]
  },
  {
   "cell_type": "code",
   "execution_count": 0,
   "metadata": {
    "ExecuteTime": {
     "end_time": "2021-10-15T19:01:21.170332Z",
     "start_time": "2021-10-15T19:01:21.151385Z"
    },
    "application/vnd.databricks.v1+cell": {
     "cellMetadata": {},
     "inputWidgets": {},
     "nuid": "a5081867-fa33-48fd-bc80-f6378c846b28",
     "showTitle": false,
     "title": ""
    }
   },
   "outputs": [],
   "source": [
    "data = data[['time', 'status', 'age', 'sex', 'ph.ecog', 'ph.karno','pat.karno', 'meal.cal', 'wt.loss']]\n",
    "data[\"status\"] = data[\"status\"] - 1\n",
    "data[\"sex\"] = data[\"sex\"] - 1\n",
    "data.head()"
   ]
  },
  {
   "cell_type": "code",
   "execution_count": 0,
   "metadata": {
    "ExecuteTime": {
     "end_time": "2021-10-15T19:02:09.363045Z",
     "start_time": "2021-10-15T19:02:09.355065Z"
    },
    "application/vnd.databricks.v1+cell": {
     "cellMetadata": {},
     "inputWidgets": {},
     "nuid": "4c2126ee-d741-4c90-b6c3-f6df7ddae5e4",
     "showTitle": false,
     "title": ""
    }
   },
   "outputs": [],
   "source": [
    "data.dtypes"
   ]
  },
  {
   "cell_type": "code",
   "execution_count": 0,
   "metadata": {
    "ExecuteTime": {
     "end_time": "2021-10-15T19:02:27.113571Z",
     "start_time": "2021-10-15T19:02:27.103598Z"
    },
    "application/vnd.databricks.v1+cell": {
     "cellMetadata": {},
     "inputWidgets": {},
     "nuid": "c617265a-f24e-448a-a015-6c171b4acb13",
     "showTitle": false,
     "title": ""
    }
   },
   "outputs": [],
   "source": [
    "data.isnull().sum()"
   ]
  },
  {
   "cell_type": "code",
   "execution_count": 0,
   "metadata": {
    "ExecuteTime": {
     "end_time": "2021-10-15T19:02:43.044544Z",
     "start_time": "2021-10-15T19:02:43.039545Z"
    },
    "application/vnd.databricks.v1+cell": {
     "cellMetadata": {},
     "inputWidgets": {},
     "nuid": "fb2e6477-4922-43c4-bc2d-5e2576046383",
     "showTitle": false,
     "title": ""
    }
   },
   "outputs": [],
   "source": [
    "data.columns"
   ]
  },
  {
   "cell_type": "code",
   "execution_count": 0,
   "metadata": {
    "ExecuteTime": {
     "end_time": "2021-10-15T19:04:04.771183Z",
     "start_time": "2021-10-15T19:04:04.760212Z"
    },
    "application/vnd.databricks.v1+cell": {
     "cellMetadata": {},
     "inputWidgets": {},
     "nuid": "7d1e16e9-38a6-4539-81e7-7adb91a39a55",
     "showTitle": false,
     "title": ""
    }
   },
   "outputs": [],
   "source": [
    "data[\"ph.karno\"].fillna(data[\"ph.karno\"].mean(), inplace = True)\n",
    "data[\"pat.karno\"].fillna(data[\"pat.karno\"].mean(), inplace = True)\n",
    "data[\"meal.cal\"].fillna(data[\"meal.cal\"].mean(), inplace = True)\n",
    "data[\"wt.loss\"].fillna(data[\"wt.loss\"].mean(), inplace = True)\n",
    "data.dropna(inplace=True)\n",
    "data[\"ph.ecog\"] = data[\"ph.ecog\"].astype(\"int64\")"
   ]
  },
  {
   "cell_type": "code",
   "execution_count": 0,
   "metadata": {
    "ExecuteTime": {
     "end_time": "2021-10-15T19:04:07.930880Z",
     "start_time": "2021-10-15T19:04:07.920903Z"
    },
    "application/vnd.databricks.v1+cell": {
     "cellMetadata": {},
     "inputWidgets": {},
     "nuid": "ee64aab8-de84-4fcf-b8bb-e2990c50c67e",
     "showTitle": false,
     "title": ""
    }
   },
   "outputs": [],
   "source": [
    "data.isnull().sum()"
   ]
  },
  {
   "cell_type": "code",
   "execution_count": 0,
   "metadata": {
    "ExecuteTime": {
     "end_time": "2021-10-15T19:04:21.981683Z",
     "start_time": "2021-10-15T19:04:21.975696Z"
    },
    "application/vnd.databricks.v1+cell": {
     "cellMetadata": {},
     "inputWidgets": {},
     "nuid": "0e25a413-3574-4ad3-8192-cb04a329266b",
     "showTitle": false,
     "title": ""
    }
   },
   "outputs": [],
   "source": [
    "data.shape"
   ]
  },
  {
   "cell_type": "code",
   "execution_count": 0,
   "metadata": {
    "ExecuteTime": {
     "end_time": "2021-10-15T19:04:52.117273Z",
     "start_time": "2021-10-15T19:04:51.888484Z"
    },
    "application/vnd.databricks.v1+cell": {
     "cellMetadata": {},
     "inputWidgets": {},
     "nuid": "c5fd78c8-51c4-4a14-8ecc-a951e66e06ab",
     "showTitle": false,
     "title": ""
    }
   },
   "outputs": [],
   "source": [
    "T = data[\"time\"]\n",
    "E = data[\"status\"]\n",
    "plt.hist(T, bins = 50)\n",
    "plt.show()"
   ]
  },
  {
   "cell_type": "markdown",
   "metadata": {
    "application/vnd.databricks.v1+cell": {
     "cellMetadata": {},
     "inputWidgets": {},
     "nuid": "25e8b4c6-f226-4ce9-97f8-8fbe060bb238",
     "showTitle": false,
     "title": ""
    }
   },
   "source": [
    "## Fitting a non-parametric model [Kaplan Meier Curve]"
   ]
  },
  {
   "cell_type": "code",
   "execution_count": 0,
   "metadata": {
    "ExecuteTime": {
     "end_time": "2021-10-15T19:06:05.869779Z",
     "start_time": "2021-10-15T19:06:05.671803Z"
    },
    "application/vnd.databricks.v1+cell": {
     "cellMetadata": {},
     "inputWidgets": {},
     "nuid": "e4597a8a-1fcc-492a-a4cc-e25fee218a3d",
     "showTitle": false,
     "title": ""
    }
   },
   "outputs": [],
   "source": [
    "kmf = KaplanMeierFitter()\n",
    "kmf.fit(durations = T, event_observed = E)\n",
    "kmf.plot_survival_function()"
   ]
  },
  {
   "cell_type": "code",
   "execution_count": 0,
   "metadata": {
    "ExecuteTime": {
     "end_time": "2021-10-15T19:06:56.825511Z",
     "start_time": "2021-10-15T19:06:56.647962Z"
    },
    "application/vnd.databricks.v1+cell": {
     "cellMetadata": {},
     "inputWidgets": {},
     "nuid": "efd34a06-7ffd-4e2d-9eb1-ea47fcb1859b",
     "showTitle": false,
     "title": ""
    }
   },
   "outputs": [],
   "source": [
    "kmf.survival_function_.plot()\n",
    "plt.title('Survival function')"
   ]
  },
  {
   "cell_type": "code",
   "execution_count": 0,
   "metadata": {
    "ExecuteTime": {
     "end_time": "2021-10-15T19:07:05.859075Z",
     "start_time": "2021-10-15T19:07:05.678081Z"
    },
    "application/vnd.databricks.v1+cell": {
     "cellMetadata": {},
     "inputWidgets": {},
     "nuid": "de79e26a-9f2f-4145-8dcc-0dd532edbc30",
     "showTitle": false,
     "title": ""
    }
   },
   "outputs": [],
   "source": [
    "kmf.plot_cumulative_density()"
   ]
  },
  {
   "cell_type": "code",
   "execution_count": 0,
   "metadata": {
    "ExecuteTime": {
     "end_time": "2021-10-15T19:07:48.877318Z",
     "start_time": "2021-10-15T19:07:48.871329Z"
    },
    "application/vnd.databricks.v1+cell": {
     "cellMetadata": {},
     "inputWidgets": {},
     "nuid": "97328262-4119-46f3-86cb-7439f44662f0",
     "showTitle": false,
     "title": ""
    }
   },
   "outputs": [],
   "source": [
    "kmf.median_survival_time_"
   ]
  },
  {
   "cell_type": "code",
   "execution_count": 0,
   "metadata": {
    "ExecuteTime": {
     "end_time": "2021-10-15T19:08:19.209757Z",
     "start_time": "2021-10-15T19:08:19.198728Z"
    },
    "application/vnd.databricks.v1+cell": {
     "cellMetadata": {},
     "inputWidgets": {},
     "nuid": "3f6c4ac6-14b6-423f-b878-a50b5336ea48",
     "showTitle": false,
     "title": ""
    }
   },
   "outputs": [],
   "source": [
    "from lifelines.utils import median_survival_times\n",
    "\n",
    "median_ = kmf.median_survival_time_\n",
    "median_confidence_interval_ = median_survival_times(kmf.confidence_interval_)\n",
    "print(median_)\n",
    "print(median_confidence_interval_)"
   ]
  },
  {
   "cell_type": "code",
   "execution_count": 0,
   "metadata": {
    "ExecuteTime": {
     "end_time": "2021-10-15T19:11:16.330765Z",
     "start_time": "2021-10-15T19:11:15.942799Z"
    },
    "application/vnd.databricks.v1+cell": {
     "cellMetadata": {},
     "inputWidgets": {},
     "nuid": "93984036-d3cb-4b4a-8f04-a6685359460f",
     "showTitle": false,
     "title": ""
    }
   },
   "outputs": [],
   "source": [
    "ax = plt.subplot(111)\n",
    "\n",
    "m = (data[\"sex\"] == 0)\n",
    "\n",
    "kmf.fit(durations = T[m], event_observed = E[m], label = \"Male\")\n",
    "kmf.plot_survival_function(ax = ax)\n",
    "\n",
    "kmf.fit(T[~m], event_observed = E[~m], label = \"Female\")\n",
    "kmf.plot_survival_function(ax = ax, at_risk_counts = True)\n",
    "\n",
    "plt.title(\"Survival of different gender group\")"
   ]
  },
  {
   "cell_type": "code",
   "execution_count": 0,
   "metadata": {
    "ExecuteTime": {
     "end_time": "2021-10-15T19:13:07.610963Z",
     "start_time": "2021-10-15T19:13:07.136655Z"
    },
    "application/vnd.databricks.v1+cell": {
     "cellMetadata": {},
     "inputWidgets": {},
     "nuid": "c8fcc8c1-331b-4b85-ab33-05c427c53d95",
     "showTitle": false,
     "title": ""
    }
   },
   "outputs": [],
   "source": [
    "ecog_types = data.sort_values(by = ['ph.ecog'])[\"ph.ecog\"].unique()\n",
    "\n",
    "for i, ecog_types in enumerate(ecog_types):\n",
    "    ax = plt.subplot(2, 2, i + 1)\n",
    "    ix = data['ph.ecog'] == ecog_types\n",
    "    kmf.fit(T[ix], E[ix], label = ecog_types)\n",
    "    kmf.plot_survival_function(ax = ax, legend = False)\n",
    "    plt.title(ecog_types)\n",
    "    plt.xlim(0, 1200)\n",
    "\n",
    "plt.tight_layout()"
   ]
  },
  {
   "cell_type": "code",
   "execution_count": 0,
   "metadata": {
    "ExecuteTime": {
     "end_time": "2021-10-15T19:13:24.686356Z",
     "start_time": "2021-10-15T19:13:24.678199Z"
    },
    "application/vnd.databricks.v1+cell": {
     "cellMetadata": {},
     "inputWidgets": {},
     "nuid": "f6746cba-0356-4e2b-96eb-0c551da45c16",
     "showTitle": false,
     "title": ""
    }
   },
   "outputs": [],
   "source": [
    "data['ph.ecog'].value_counts()"
   ]
  },
  {
   "cell_type": "code",
   "execution_count": 0,
   "metadata": {
    "ExecuteTime": {
     "end_time": "2021-10-15T19:13:33.887898Z",
     "start_time": "2021-10-15T19:13:33.879923Z"
    },
    "application/vnd.databricks.v1+cell": {
     "cellMetadata": {},
     "inputWidgets": {},
     "nuid": "4c53bae6-ced4-43ef-b60d-c1b167300887",
     "showTitle": false,
     "title": ""
    }
   },
   "outputs": [],
   "source": [
    "data = data[data[\"ph.ecog\"] != 3]\n",
    "data.shape"
   ]
  },
  {
   "cell_type": "code",
   "execution_count": 0,
   "metadata": {
    "ExecuteTime": {
     "end_time": "2021-10-15T19:13:36.904836Z",
     "start_time": "2021-10-15T19:13:36.894862Z"
    },
    "application/vnd.databricks.v1+cell": {
     "cellMetadata": {},
     "inputWidgets": {},
     "nuid": "a887d72a-9860-45a6-a471-5341b8e79d00",
     "showTitle": false,
     "title": ""
    }
   },
   "outputs": [],
   "source": [
    "data['ph.ecog'].value_counts()"
   ]
  },
  {
   "cell_type": "markdown",
   "metadata": {
    "application/vnd.databricks.v1+cell": {
     "cellMetadata": {},
     "inputWidgets": {},
     "nuid": "959a7e5b-f49f-4988-ac11-5246e029e85b",
     "showTitle": false,
     "title": ""
    }
   },
   "source": [
    "## Fitting Cox Proportional Hazard Model"
   ]
  },
  {
   "cell_type": "markdown",
   "metadata": {
    "application/vnd.databricks.v1+cell": {
     "cellMetadata": {},
     "inputWidgets": {},
     "nuid": "ad0e9b8e-24bd-48bb-b5f7-afe971e64fad",
     "showTitle": false,
     "title": ""
    }
   },
   "source": [
    "The Cox proportional hazards model, by contrast, is not a fully parametric model. Rather it is a semi-parametric model because even if the regression parameters (the betas) are known, the distribution of the outcome remains unknown."
   ]
  },
  {
   "cell_type": "markdown",
   "metadata": {
    "application/vnd.databricks.v1+cell": {
     "cellMetadata": {},
     "inputWidgets": {},
     "nuid": "8c2da9be-e1bf-4104-bd69-bb230d8b0688",
     "showTitle": false,
     "title": ""
    }
   },
   "source": [
    "[Cox Proportional Hazard Model (lifelines webpage)](https://lifelines.readthedocs.io/en/latest/Survival%20Regression.html)"
   ]
  },
  {
   "cell_type": "markdown",
   "metadata": {
    "application/vnd.databricks.v1+cell": {
     "cellMetadata": {},
     "inputWidgets": {},
     "nuid": "cd17507a-aff6-4a49-a884-74bb458023f9",
     "showTitle": false,
     "title": ""
    }
   },
   "source": [
    "Cox proportional hazards regression model assumptions includes:\n",
    "\n",
    "* Independence of survival times between distinct individuals in the sample,\n",
    "* A multiplicative relationship between the predictors and the hazard, and\n",
    "* A constant hazard ratio over time. This assumption implies that, the hazard curves for the groups should be proportional and cannot cross."
   ]
  },
  {
   "cell_type": "markdown",
   "metadata": {
    "application/vnd.databricks.v1+cell": {
     "cellMetadata": {},
     "inputWidgets": {},
     "nuid": "38a5df36-ff09-40c5-a332-13508a54595c",
     "showTitle": false,
     "title": ""
    }
   },
   "source": [
    "### Hazard and Hazard Ratio"
   ]
  },
  {
   "cell_type": "markdown",
   "metadata": {
    "ExecuteTime": {
     "end_time": "2021-10-15T12:38:06.591881Z",
     "start_time": "2021-10-15T12:38:06.582859Z"
    },
    "application/vnd.databricks.v1+cell": {
     "cellMetadata": {},
     "inputWidgets": {},
     "nuid": "38489079-50b0-4795-89b3-72b360c60d9b",
     "showTitle": false,
     "title": ""
    }
   },
   "source": [
    "* Hazard is defined as the slope of the survival curve — a measure of how rapidly subjects are dying.\n",
    "* The hazard ratio compares two treatments. If the hazard ratio is 2.0, then the rate of deaths in one treatment group is twice the rate in the other group."
   ]
  },
  {
   "cell_type": "code",
   "execution_count": 0,
   "metadata": {
    "ExecuteTime": {
     "end_time": "2021-10-15T19:17:18.206030Z",
     "start_time": "2021-10-15T19:17:18.190764Z"
    },
    "application/vnd.databricks.v1+cell": {
     "cellMetadata": {},
     "inputWidgets": {},
     "nuid": "1714187f-78fa-4790-ae96-121bc12a6617",
     "showTitle": false,
     "title": ""
    }
   },
   "outputs": [],
   "source": [
    "data.head()"
   ]
  },
  {
   "cell_type": "code",
   "execution_count": 0,
   "metadata": {
    "ExecuteTime": {
     "end_time": "2021-10-15T19:18:42.213121Z",
     "start_time": "2021-10-15T19:18:42.198643Z"
    },
    "application/vnd.databricks.v1+cell": {
     "cellMetadata": {},
     "inputWidgets": {},
     "nuid": "72ab91dc-7969-400e-83c3-3b8fdc223aed",
     "showTitle": false,
     "title": ""
    }
   },
   "outputs": [],
   "source": [
    "dummies_ecog = pd.get_dummies(data[\"ph.ecog\"],\n",
    "                         prefix = 'ecog')\n",
    "dummies_ecog.head(4)"
   ]
  },
  {
   "cell_type": "code",
   "execution_count": 0,
   "metadata": {
    "ExecuteTime": {
     "end_time": "2021-10-15T19:19:30.136819Z",
     "start_time": "2021-10-15T19:19:30.118891Z"
    },
    "application/vnd.databricks.v1+cell": {
     "cellMetadata": {},
     "inputWidgets": {},
     "nuid": "23ba98c5-0e20-4603-9a5c-4ee7ec78a727",
     "showTitle": false,
     "title": ""
    }
   },
   "outputs": [],
   "source": [
    "dummies_ecog = dummies_ecog[[\"ecog_1\", \"ecog_2\"]]\n",
    "data = pd.concat([data, dummies_ecog], \n",
    "                  axis = 1)\n",
    "data.head()"
   ]
  },
  {
   "cell_type": "code",
   "execution_count": 0,
   "metadata": {
    "ExecuteTime": {
     "end_time": "2021-10-15T19:19:37.845721Z",
     "start_time": "2021-10-15T19:19:37.828916Z"
    },
    "application/vnd.databricks.v1+cell": {
     "cellMetadata": {},
     "inputWidgets": {},
     "nuid": "de6d5d26-c4c3-401e-8fc0-0ecee20cb652",
     "showTitle": false,
     "title": ""
    }
   },
   "outputs": [],
   "source": [
    "data = data.drop(\"ph.ecog\", axis = 1)\n",
    "data.head()"
   ]
  },
  {
   "cell_type": "code",
   "execution_count": 0,
   "metadata": {
    "ExecuteTime": {
     "end_time": "2021-10-15T19:20:05.735075Z",
     "start_time": "2021-10-15T19:20:05.566150Z"
    },
    "application/vnd.databricks.v1+cell": {
     "cellMetadata": {},
     "inputWidgets": {},
     "nuid": "1d43f505-5544-4e27-9a17-7692f5911f67",
     "showTitle": false,
     "title": ""
    },
    "scrolled": false
   },
   "outputs": [],
   "source": [
    "cph = CoxPHFitter()\n",
    "cph.fit(data, duration_col = 'time', event_col = 'status')\n",
    "\n",
    "cph.print_summary() "
   ]
  },
  {
   "cell_type": "markdown",
   "metadata": {
    "application/vnd.databricks.v1+cell": {
     "cellMetadata": {},
     "inputWidgets": {},
     "nuid": "bee70e59-58b3-471e-aa5d-f743752e20d1",
     "showTitle": false,
     "title": ""
    }
   },
   "source": [
    "### Interpretation"
   ]
  },
  {
   "cell_type": "markdown",
   "metadata": {
    "application/vnd.databricks.v1+cell": {
     "cellMetadata": {},
     "inputWidgets": {},
     "nuid": "7f831308-f89d-4b3d-9c39-853546a9df85",
     "showTitle": false,
     "title": ""
    }
   },
   "source": [
    "* Wt.loss has a coefficient of about -0.01.\n",
    "\n",
    "* We can recall that in the Cox proportional hazard model, a higher hazard means more at risk of the event occurring.\n",
    "The value $exp(-0.01)$ is called the hazard ratio.\n",
    "\n",
    "* Here, a one unit increase in wt loss means the baseline hazard will increase by a factor \n",
    "of $exp(-0.01)$ = 0.99 -> about a 1% decrease. \n",
    "\n",
    "* Similarly, the values in the ecog column are: \\[0 = asymptomatic, 1 = symptomatic but completely ambulatory, 2 = in bed $<$50\\% of the day\\]. The value of the coefficient associated with ecog2, $exp(1.20)$, is the value of ratio of hazards associated with being \"in bed $<$50% of the day (coded as 2)\" compared to asymptomatic (coded as 0, base category)."
   ]
  },
  {
   "cell_type": "code",
   "execution_count": 0,
   "metadata": {
    "ExecuteTime": {
     "end_time": "2021-10-15T19:23:53.317001Z",
     "start_time": "2021-10-15T19:23:53.150418Z"
    },
    "application/vnd.databricks.v1+cell": {
     "cellMetadata": {},
     "inputWidgets": {},
     "nuid": "62d6731f-104c-423b-a5be-c2bd308fc49c",
     "showTitle": false,
     "title": ""
    }
   },
   "outputs": [],
   "source": [
    "plt.subplots(figsize=(10, 6))\n",
    "cph.plot()"
   ]
  },
  {
   "cell_type": "code",
   "execution_count": 0,
   "metadata": {
    "ExecuteTime": {
     "end_time": "2021-10-15T19:24:28.690946Z",
     "start_time": "2021-10-15T19:24:28.471523Z"
    },
    "application/vnd.databricks.v1+cell": {
     "cellMetadata": {},
     "inputWidgets": {},
     "nuid": "251870e9-78c7-4b2b-8771-8577b55ac1a7",
     "showTitle": false,
     "title": ""
    }
   },
   "outputs": [],
   "source": [
    "cph.plot_partial_effects_on_outcome(covariates = 'age',\n",
    "                                    values = [50, 60, 70, 80],\n",
    "                                    cmap = 'coolwarm')"
   ]
  },
  {
   "cell_type": "code",
   "execution_count": 0,
   "metadata": {
    "ExecuteTime": {
     "end_time": "2021-10-15T19:25:32.889132Z",
     "start_time": "2021-10-15T19:25:32.773374Z"
    },
    "application/vnd.databricks.v1+cell": {
     "cellMetadata": {},
     "inputWidgets": {},
     "nuid": "fdfd6366-c466-45ad-adeb-68242b272f5d",
     "showTitle": false,
     "title": ""
    }
   },
   "outputs": [],
   "source": [
    "cph.check_assumptions(data, p_value_threshold = 0.05)"
   ]
  },
  {
   "cell_type": "code",
   "execution_count": 0,
   "metadata": {
    "ExecuteTime": {
     "end_time": "2021-10-15T19:26:49.253297Z",
     "start_time": "2021-10-15T19:26:49.205403Z"
    },
    "application/vnd.databricks.v1+cell": {
     "cellMetadata": {},
     "inputWidgets": {},
     "nuid": "e507e6ab-bca4-4e6b-bfc5-94372733c163",
     "showTitle": false,
     "title": ""
    }
   },
   "outputs": [],
   "source": [
    "from lifelines.statistics import proportional_hazard_test\n",
    "\n",
    "results = proportional_hazard_test(cph, data, time_transform='rank')\n",
    "results.print_summary(decimals=3, model=\"untransformed variables\")"
   ]
  },
  {
   "cell_type": "markdown",
   "metadata": {
    "application/vnd.databricks.v1+cell": {
     "cellMetadata": {},
     "inputWidgets": {},
     "nuid": "2c030518-fa57-4a5a-b70f-cdb1337e12fe",
     "showTitle": false,
     "title": ""
    }
   },
   "source": [
    "## Parametric [Accelerated Failure Time Model (AFT)]"
   ]
  },
  {
   "cell_type": "markdown",
   "metadata": {
    "application/vnd.databricks.v1+cell": {
     "cellMetadata": {},
     "inputWidgets": {},
     "nuid": "62f2905a-9c6e-4932-91bc-54513926fef3",
     "showTitle": false,
     "title": ""
    }
   },
   "source": [
    "[AFT Lifelines package webpage](https://lifelines.readthedocs.io/en/latest/Survival%20Regression.html#accelerated-failure-time-models)"
   ]
  },
  {
   "cell_type": "code",
   "execution_count": 0,
   "metadata": {
    "ExecuteTime": {
     "end_time": "2021-10-15T19:31:21.581683Z",
     "start_time": "2021-10-15T19:31:20.996764Z"
    },
    "application/vnd.databricks.v1+cell": {
     "cellMetadata": {},
     "inputWidgets": {},
     "nuid": "553e937d-05bc-4290-b86d-bf10c3325635",
     "showTitle": false,
     "title": ""
    }
   },
   "outputs": [],
   "source": [
    "from lifelines import WeibullFitter,\\\n",
    "                      ExponentialFitter,\\\n",
    "                      LogNormalFitter,\\\n",
    "                      LogLogisticFitter\n",
    "\n",
    "\n",
    "# Instantiate each fitter\n",
    "wb = WeibullFitter()\n",
    "ex = ExponentialFitter()\n",
    "log = LogNormalFitter()\n",
    "loglogis = LogLogisticFitter()\n",
    "\n",
    "# Fit to data\n",
    "for model in [wb, ex, log, loglogis]:\n",
    "  model.fit(durations = data[\"time\"],\n",
    "            event_observed = data[\"status\"])\n",
    "  # Print AIC\n",
    "  print(\"The AIC value for\", model.__class__.__name__, \"is\",  model.AIC_)"
   ]
  },
  {
   "cell_type": "markdown",
   "metadata": {
    "application/vnd.databricks.v1+cell": {
     "cellMetadata": {},
     "inputWidgets": {},
     "nuid": "22aecc60-0bd5-484f-8be9-086c6264d74e",
     "showTitle": false,
     "title": ""
    }
   },
   "source": [
    "### Fit the weibull fitter and print summary"
   ]
  },
  {
   "cell_type": "code",
   "execution_count": 0,
   "metadata": {
    "ExecuteTime": {
     "end_time": "2021-10-15T19:31:42.902854Z",
     "start_time": "2021-10-15T19:31:42.492853Z"
    },
    "application/vnd.databricks.v1+cell": {
     "cellMetadata": {},
     "inputWidgets": {},
     "nuid": "c3bfe9a2-2e93-4d99-8e10-ee51d8844c66",
     "showTitle": false,
     "title": ""
    }
   },
   "outputs": [],
   "source": [
    "from lifelines import WeibullAFTFitter\n",
    "weibull_aft = WeibullAFTFitter()\n",
    "weibull_aft.fit(data, duration_col='time', event_col='status')\n",
    "\n",
    "weibull_aft.print_summary(3)"
   ]
  },
  {
   "cell_type": "markdown",
   "metadata": {
    "application/vnd.databricks.v1+cell": {
     "cellMetadata": {},
     "inputWidgets": {},
     "nuid": "865a55ba-10b1-4d93-ad43-9f1bc317abb4",
     "showTitle": false,
     "title": ""
    }
   },
   "source": [
    "## Interpretation of the coefficients"
   ]
  },
  {
   "cell_type": "markdown",
   "metadata": {
    "application/vnd.databricks.v1+cell": {
     "cellMetadata": {},
     "inputWidgets": {},
     "nuid": "2fa12545-63df-49c8-9792-0ec8fa502996",
     "showTitle": false,
     "title": ""
    }
   },
   "source": [
    "* A unit increase in $x_i$ means the average/median survival time changes by a factor of $exp(b_i)$.\n",
    "* Suppose $b_i$ was positive, then the factor $exp(b_i)$ is greater than 1, which will decelerate the event time since we divide time by the factor ⇿ increase mean/median survival. Hence, it will be a protective effect.\n",
    "* Likewise, a negative $b_i$ will hasten the event time ⇿ reduce the mean/median survival time.\n",
    "* This interpretation is opposite of how the sign influences event times in the Cox model!"
   ]
  },
  {
   "cell_type": "markdown",
   "metadata": {
    "application/vnd.databricks.v1+cell": {
     "cellMetadata": {},
     "inputWidgets": {},
     "nuid": "a8e1d74a-ed9c-426d-8ec5-616c5acf372c",
     "showTitle": false,
     "title": ""
    }
   },
   "source": [
    "## Example \n",
    "\n",
    "* Sex, which contains [0: Male and 1: Female], has a positive coefficient. \n",
    "* This means being a female subject compared to male changes mean/median survival time by exp(0.416) = 1.516,  approximately a 52% increase in mean/median survival time."
   ]
  },
  {
   "cell_type": "code",
   "execution_count": 0,
   "metadata": {
    "ExecuteTime": {
     "end_time": "2021-10-15T19:33:11.342799Z",
     "start_time": "2021-10-15T19:33:11.316867Z"
    },
    "application/vnd.databricks.v1+cell": {
     "cellMetadata": {},
     "inputWidgets": {},
     "nuid": "53578a96-f42f-403a-b813-bb2088de621f",
     "showTitle": false,
     "title": ""
    }
   },
   "outputs": [],
   "source": [
    "print(weibull_aft.median_survival_time_)\n",
    "print(weibull_aft.mean_survival_time_)"
   ]
  },
  {
   "cell_type": "code",
   "execution_count": 0,
   "metadata": {
    "ExecuteTime": {
     "end_time": "2021-10-15T19:33:21.201719Z",
     "start_time": "2021-10-15T19:33:20.998264Z"
    },
    "application/vnd.databricks.v1+cell": {
     "cellMetadata": {},
     "inputWidgets": {},
     "nuid": "8267d172-28a6-461e-ad5f-79313c9da1b7",
     "showTitle": false,
     "title": ""
    }
   },
   "outputs": [],
   "source": [
    "plt.subplots(figsize=(10, 6))\n",
    "weibull_aft.plot()"
   ]
  },
  {
   "cell_type": "code",
   "execution_count": 0,
   "metadata": {
    "ExecuteTime": {
     "end_time": "2021-10-15T19:33:45.876341Z",
     "start_time": "2021-10-15T19:33:45.652833Z"
    },
    "application/vnd.databricks.v1+cell": {
     "cellMetadata": {},
     "inputWidgets": {},
     "nuid": "2b301b25-634c-4282-afba-253134fa06cf",
     "showTitle": false,
     "title": ""
    }
   },
   "outputs": [],
   "source": [
    "plt.subplots(figsize=(10, 6))\n",
    "weibull_aft.plot_partial_effects_on_outcome('age', range(50, 80, 10), cmap='coolwarm')"
   ]
  },
  {
   "cell_type": "code",
   "execution_count": 0,
   "metadata": {
    "application/vnd.databricks.v1+cell": {
     "cellMetadata": {},
     "inputWidgets": {},
     "nuid": "bdb718e2-aa54-4215-b0fa-f806ae98f922",
     "showTitle": false,
     "title": ""
    }
   },
   "outputs": [],
   "source": []
  },
  {
   "cell_type": "code",
   "execution_count": 0,
   "metadata": {
    "application/vnd.databricks.v1+cell": {
     "cellMetadata": {},
     "inputWidgets": {},
     "nuid": "06a9fdbd-f532-4cfd-8c20-2c2bd53b09d0",
     "showTitle": false,
     "title": ""
    }
   },
   "outputs": [],
   "source": []
  },
  {
   "cell_type": "code",
   "execution_count": 0,
   "metadata": {
    "application/vnd.databricks.v1+cell": {
     "cellMetadata": {},
     "inputWidgets": {},
     "nuid": "1cee90ef-1009-47b4-aa4d-77dfe5be1080",
     "showTitle": false,
     "title": ""
    }
   },
   "outputs": [],
   "source": []
  }
 ],
 "metadata": {
  "application/vnd.databricks.v1+notebook": {
   "dashboards": [],
   "environmentMetadata": null,
   "language": "python",
   "notebookMetadata": {},
   "notebookName": "Python_Survival_analysis",
   "widgets": {}
  },
  "interpreter": {
   "hash": "e4577f84b0cc49b377bbdd3aebc762ca13cae746c03033f4382fe532931f9c94"
  },
  "kernelspec": {
   "display_name": "Python 3.8.11 64-bit ('datascience': conda)",
   "name": "python3"
  },
  "language_info": {
   "codemirror_mode": {
    "name": "ipython",
    "version": 3
   },
   "file_extension": ".py",
   "mimetype": "text/x-python",
   "name": "python",
   "nbconvert_exporter": "python",
   "pygments_lexer": "ipython3",
   "version": "3.8.11"
  },
  "varInspector": {
   "cols": {
    "lenName": 16,
    "lenType": 16,
    "lenVar": 40
   },
   "kernels_config": {
    "python": {
     "delete_cmd_postfix": "",
     "delete_cmd_prefix": "del ",
     "library": "var_list.py",
     "varRefreshCmd": "print(var_dic_list())"
    },
    "r": {
     "delete_cmd_postfix": ") ",
     "delete_cmd_prefix": "rm(",
     "library": "var_list.r",
     "varRefreshCmd": "cat(var_dic_list()) "
    }
   },
   "types_to_exclude": [
    "module",
    "function",
    "builtin_function_or_method",
    "instance",
    "_Feature"
   ],
   "window_display": false
  }
 },
 "nbformat": 4,
 "nbformat_minor": 0
}
