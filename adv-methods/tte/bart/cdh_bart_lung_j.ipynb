{
 "cells": [
  {
   "cell_type": "code",
   "execution_count": 0,
   "metadata": {
    "application/vnd.databricks.v1+cell": {
     "cellMetadata": {
      "byteLimit": 2048000,
      "rowLimit": 10000
     },
     "inputWidgets": {},
     "nuid": "36725fb4-b686-4326-97f8-6aac13bfed51",
     "showTitle": false,
     "title": ""
    }
   },
   "outputs": [],
   "source": [
    "spark.conf.set(\"fs.azure.account.auth.type\", \"OAuth\")\n",
    "spark.conf.set(\"fs.azure.account.oauth.provider.type\",\n",
    "            \"org.apache.hadoop.fs.azurebfs.oauth2.ClientCredsTokenProvider\")\n",
    "spark.conf.set(\"fs.azure.account.oauth2.client.id\",  dbutils.secrets.get(scope=\"dbs-scope-prod-kv-CDH\", key=\"cdh-adb-client-id\"))\n",
    "spark.conf.set(\"fs.azure.account.oauth2.client.secret\", dbutils.secrets.get(scope=\"dbs-scope-prod-kv-CDH\", key=\"cdh-adb-client-secret\"))\n",
    "spark.conf.set(\"fs.azure.account.oauth2.client.endpoint\", dbutils.secrets.get(scope=\"dbs-scope-prod-kv-CDH\", key=\"cdh-adb-tenant-id-endpoint\"))\n",
    "\n"
   ]
  },
  {
   "cell_type": "code",
   "execution_count": 0,
   "metadata": {
    "application/vnd.databricks.v1+cell": {
     "cellMetadata": {
      "byteLimit": 2048000,
      "rowLimit": 10000
     },
     "inputWidgets": {},
     "nuid": "42378546-995d-4b55-840f-4863491b3ae7",
     "showTitle": false,
     "title": ""
    }
   },
   "outputs": [],
   "source": [
    "import os\n",
    "os.environ[\"CUDA_ROOT\"]='/usr/local/cuda'\n",
    "os.environ[\"PYTENSOR_FLAGS\"]='allow_gc=False' #,floatX=float64'\n",
    "from pytensor.configdefaults import config\n",
    "import pymc as pm\n",
    "import pymc_bart as pmb\n",
    "import pyspark.pandas as pd\n",
    "import mlflow\n",
    "import pyspark"
   ]
  },
  {
   "cell_type": "code",
   "execution_count": 0,
   "metadata": {
    "application/vnd.databricks.v1+cell": {
     "cellMetadata": {
      "byteLimit": 2048000,
      "rowLimit": 10000
     },
     "inputWidgets": {},
     "nuid": "3cb379ab-446a-41f8-811a-3aafc943f154",
     "showTitle": false,
     "title": ""
    }
   },
   "outputs": [],
   "source": [
    "# M = 200 # number of trees\n",
    "# DRAWS = 200\n",
    "# TUNE = 100\n",
    "# CORES = 4\n",
    "# SPLIT_RULES = \"[pmb.ContinuousSplitRule(), pmb.ContinuousSplitRule(), pmb.OneHotSplitRule(), pmb.OneHotSplitRule()]\"\n",
    "\n",
    "experiment_id=dbutils.jobs.taskValues.get(\"cdh-ml-init\",\n",
    "                                          \"experiment_id\",\n",
    "                                          debugValue='ccb9d87b45ca41f286e3c33cc5f40b68')\n",
    "\n",
    "run_name = dbutils.jobs.taskValues.get(\"cdh-ml-init\", \n",
    "                                         \"run_name\", \n",
    "                                         debugValue=\"test2\")\n",
    "\n",
    "run_id = dbutils.jobs.taskValues.get(\"cdh-ml-run\",\n",
    "                                    \"run_id_main\",\n",
    "                                    debugValue = \"5c4b0bab2668466ea9ac022e482adc35\")\n",
    "\n",
    "M = dbutils.jobs.taskValues.get(\"cdh-ml-init\", \"M\", debugValue=200)\n",
    "DRAWS = dbutils.jobs.taskValues.get(\"cdh-ml-init\", \"DRAWS\", debugValue=1000)\n",
    "TUNE = dbutils.jobs.taskValues.get(\"cdh-ml-init\", \"TUNE\", debugValue=1000)\n",
    "#CORES = dbutils.jobs.taskValues.get(\"cdh-ml-init\", \"CORES\", debugValue=4)\n",
    "SPLIT_RULES = dbutils.jobs.taskValues.get(\"cdh-ml-init\", \"SPLIT_RULES\", debugValue=\"[pmb.ContinuousSplitRule(), pmb.ContinuousSplitRule(), pmb.OneHotSplitRule(), pmb.OneHotSplitRule()]\")\n",
    "ALPHA=0.95"
   ]
  },
  {
   "cell_type": "code",
   "execution_count": 0,
   "metadata": {
    "application/vnd.databricks.v1+cell": {
     "cellMetadata": {
      "byteLimit": 2048000,
      "rowLimit": 10000
     },
     "inputWidgets": {},
     "nuid": "e66a5915-cacf-44e7-8c38-e7981fd0ae57",
     "showTitle": false,
     "title": ""
    }
   },
   "outputs": [],
   "source": [
    "mlflow.set_experiment(experiment_id=experiment_id)"
   ]
  },
  {
   "cell_type": "code",
   "execution_count": 0,
   "metadata": {
    "application/vnd.databricks.v1+cell": {
     "cellMetadata": {
      "byteLimit": 2048000,
      "rowLimit": 10000
     },
     "inputWidgets": {},
     "nuid": "4bea72cb-d09c-4213-a8fe-65de5d044f2f",
     "showTitle": false,
     "title": ""
    }
   },
   "outputs": [],
   "source": [
    "from pyspark.sql.functions import coalesce\n",
    "time=\"days\"\n",
    "event=\"event\"\n",
    "lung = spark.table(\"cdh_reference_data.ml_lung_cancer\") #.withColumn('karno', coalesce('ph_karno', 'pat_karno'))\n",
    "\n",
    "print(lung)"
   ]
  },
  {
   "cell_type": "markdown",
   "metadata": {
    "application/vnd.databricks.v1+cell": {
     "cellMetadata": {},
     "inputWidgets": {},
     "nuid": "4a0571a8-11fc-4d48-81e5-a994e59d00ae",
     "showTitle": false,
     "title": ""
    }
   },
   "source": [
    "# configure analytic dataset\n",
    "# adjust time to months\n",
    "#lung[\"months\"] = np.ceil(lung[\"time\"]/30)\n",
    "#lung[\"weeks\"] = np.ceil(lung[\"time\"]/7)\n",
    "#lung[\"sex2\"] = lung[\"sex\"]-1\n",
    "#lung[\"expired\"] = lung.status - 1\n",
    "\n",
    "# karno try categorical and continuous\n",
    "###x = pd.concat([time, lung[[\"age\",\"sex2\",\"karno\"]]], axis=1)\n",
    "\n",
    "# sklearn set-up\n",
    "#y_sk = ssf.get_y_sklearn(lung[\"expired\"],lung[\"time\"])\n",
    "#def get_y_sklearn(status, t_event):\n",
    "#    y = np.array(list(zip(np.array(status, dtype=\"bool\"), t_event)), dtype=[(\"Status\",\"?\"),#(\"Survival_in_days\", \"<f8\")])\n",
    "#    return y\n",
    "x_sk = lung[[\"age\",\"female\",\"karno\"]]\n",
    "y_sk = lung[[\"expired\",\"weeks\"]].rename(columns={\"expired\": \"Status\", \"weeks\": \"Survival_in_days\"})\n",
    "print( x_sk)\n",
    "print( y_sk)\n",
    "print(len(lung))"
   ]
  },
  {
   "cell_type": "code",
   "execution_count": 0,
   "metadata": {
    "application/vnd.databricks.v1+cell": {
     "cellMetadata": {
      "byteLimit": 2048000,
      "rowLimit": 10000
     },
     "inputWidgets": {},
     "nuid": "ddbb458f-bf92-4f0c-a402-b47db3d0148d",
     "showTitle": false,
     "title": ""
    }
   },
   "outputs": [],
   "source": [
    "# long time use spark explode\n",
    "b_tr_t, b_tr_expired, b_tr_x = ssf.surv_pre_train2(data_x_n = x_sk, data_y=y_sk, X_TIME=True)\n",
    "\n",
    "\n",
    "print(len( b_tr_expired))\n",
    "print(len( b_tr_t))\n",
    "print( len(b_tr_x))"
   ]
  },
  {
   "cell_type": "code",
   "execution_count": 0,
   "metadata": {
    "application/vnd.databricks.v1+cell": {
     "cellMetadata": {
      "byteLimit": 2048000,
      "rowLimit": 10000
     },
     "inputWidgets": {},
     "nuid": "008739d1-cc75-44e1-8bb5-c2abf8d3d70f",
     "showTitle": false,
     "title": ""
    }
   },
   "outputs": [],
   "source": [
    "# create the counterfactual test dataset\n",
    "# First half is male second half is female\n",
    "b_te_x = ssf.get_bart_test(x_out = x_sk, T = np.unique(b_tr_t))\n",
    "print(b_te_x[:,2])\n",
    "#assume all femail\n",
    "b_te_x[:,2] = 0\n",
    "\n"
   ]
  },
  {
   "cell_type": "code",
   "execution_count": 0,
   "metadata": {
    "application/vnd.databricks.v1+cell": {
     "cellMetadata": {
      "byteLimit": 2048000,
      "rowLimit": 10000
     },
     "inputWidgets": {},
     "nuid": "a15680fd-3c61-4194-8b1e-beb925786a61",
     "showTitle": false,
     "title": ""
    }
   },
   "outputs": [],
   "source": [
    "#assume all male\n",
    "b_te_x2 = b_te_x.copy()\n",
    "b_te_x2[:,2] = 1"
   ]
  },
  {
   "cell_type": "code",
   "execution_count": 0,
   "metadata": {
    "application/vnd.databricks.v1+cell": {
     "cellMetadata": {
      "byteLimit": 2048000,
      "rowLimit": 10000
     },
     "inputWidgets": {},
     "nuid": "1672185d-d923-4960-9228-6a3d54566307",
     "showTitle": false,
     "title": ""
    }
   },
   "outputs": [],
   "source": [
    "b_te_x3 = np.concatenate([b_te_x, b_te_x2], axis=0)\n",
    "df_b_te_x3=pd.DataFrame(b_te_x3)\n",
    "print(df_b_te_x3)"
   ]
  },
  {
   "cell_type": "code",
   "execution_count": 0,
   "metadata": {
    "application/vnd.databricks.v1+cell": {
     "cellMetadata": {
      "byteLimit": 2048000,
      "rowLimit": 10000
     },
     "inputWidgets": {},
     "nuid": "a63d31f0-9b3c-4485-9d7e-f926177b69c8",
     "showTitle": false,
     "title": ""
    }
   },
   "outputs": [],
   "source": [
    "# BART\n",
    "# M = 200 # number of trees\n",
    "# DRAWS = 2000\n",
    "# TUNE = 1000\n",
    "# CORES = 4\n",
    "# SPLIT_RULES = \"[pmb.ContinuousSplitRule(), pmb.ContinuousSplitRule(), pmb.OneHotSplitRule(), pmb.OneHotSplitRule()]\"\n",
    "\n",
    "    # run pymc\n",
    "off = sp.norm.ppf(np.mean(b_tr_expired))\n",
    "with pm.Model() as bart:\n",
    "    x_data = pm.MutableData(\"x\", b_tr_x)\n",
    "    f = pmb.BART(\"f\", X=x_data, Y=b_tr_expired, m=M, alpha = ALPHA, split_rules=eval(SPLIT_RULES))\n",
    "    z = pm.Deterministic(\"z\", f + off)\n",
    "    mu = pm.Deterministic(\"mu\", pm.math.invprobit(z))\n",
    "    y_pred = pm.Bernoulli(\"y_pred\", p=mu, observed=b_tr_expired, shape=x_data.shape[0])\n",
    "    bdata = pm.sample(random_seed=2, draws=DRAWS, tune = TUNE) # use system value, cores=CORES)\n"
   ]
  },
  {
   "cell_type": "code",
   "execution_count": 0,
   "metadata": {
    "application/vnd.databricks.v1+cell": {
     "cellMetadata": {
      "byteLimit": 2048000,
      "rowLimit": 10000
     },
     "inputWidgets": {},
     "nuid": "d62e83be-34e2-4dc1-b007-68cb33758cf7",
     "showTitle": false,
     "title": ""
    }
   },
   "outputs": [],
   "source": [
    "with bart:\n",
    "# pm.set_data({\"x\":pd.DataFrame(test_x), \"off\":off_test})\n",
    "    pm.set_data({\"x\":pd.DataFrame(b_te_x3)})\n",
    "    pp = pm.sample_posterior_predictive(bdata, var_names = [\"y_pred\", \"f\", \"z\", \"mu\"])\n"
   ]
  },
  {
   "cell_type": "code",
   "execution_count": 0,
   "metadata": {
    "application/vnd.databricks.v1+cell": {
     "cellMetadata": {
      "byteLimit": 2048000,
      "rowLimit": 10000
     },
     "inputWidgets": {},
     "nuid": "39d5dbcd-2dc3-40ce-b1eb-4f7b23b29b38",
     "showTitle": false,
     "title": ""
    }
   },
   "outputs": [],
   "source": [
    "with mlflow.start_run(experiment_id=experiment_id, run_id=run_id) as run:\n",
    "\n",
    "    # get survival\n",
    "    x_out = np.concatenate([x_sk.to_numpy(), x_sk.to_numpy()], axis=0)\n",
    "    bart_sv_fx = ssf.get_sv_fx(pp, x_out)\n",
    "\n",
    "    # get the original and counterfactual\n",
    "    og_shp = x_sk.shape[0]\n",
    "    or_bart_sv_fx = bart_sv_fx[0:og_shp,:]\n",
    "    cf_bart_sv_fx = bart_sv_fx[og_shp:, :]\n",
    "\n",
    "    # get mean and quantile\n",
    "    or1 = or_bart_sv_fx.mean(axis=0)\n",
    "    orp = np.quantile(or_bart_sv_fx, q=[0.05,0.95], axis=0)\n",
    "    cf1 = cf_bart_sv_fx.mean(axis=0)\n",
    "    cfp = np.quantile(cf_bart_sv_fx, q=[0.05,0.95], axis=0)\n",
    "\n",
    "\n",
    "    plt_time = np.unique(b_tr_t)\n",
    "\n",
    "    # plot\n",
    "    fig = plt.figure()\n",
    "    plt.step(plt_time, or1, label = \"male\", color=\"darkblue\")\n",
    "    plt.step(plt_time, orp[0], color=\"darkblue\", alpha=.4)\n",
    "    plt.step(plt_time, orp[1], color=\"darkblue\", alpha=.4)\n",
    "    plt.step(plt_time, cf1, label = \"female\", color=\"darkorange\")\n",
    "    plt.step(plt_time, cfp[0], color=\"darkorange\", alpha=.4)\n",
    "    plt.step(plt_time, cfp[1], color=\"darkorange\", alpha=.4)\n",
    "    plt.legend()\n",
    "    mlflow.log_figure(fig, \"male_female.png\")"
   ]
  }
 ],
 "metadata": {
  "application/vnd.databricks.v1+notebook": {
   "dashboards": [],
   "environmentMetadata": null,
   "language": "python",
   "notebookMetadata": {
    "pythonIndentUnit": 4
   },
   "notebookName": "cdh_bart_lung_j",
   "widgets": {}
  },
  "kernelspec": {
   "display_name": "Python 3.10.6 64-bit",
   "language": "python",
   "name": "python3"
  },
  "language_info": {
   "codemirror_mode": {
    "name": "ipython",
    "version": 3
   },
   "file_extension": ".py",
   "mimetype": "text/x-python",
   "name": "python",
   "nbconvert_exporter": "python",
   "pygments_lexer": "ipython3",
   "version": "3.10.6"
  },
  "orig_nbformat": 4,
  "vscode": {
   "interpreter": {
    "hash": "916dbcbb3f70747c44a77c7bcd40155683ae19c65e1c03b4aa3499c5328201f1"
   }
  }
 },
 "nbformat": 4,
 "nbformat_minor": 0
}
