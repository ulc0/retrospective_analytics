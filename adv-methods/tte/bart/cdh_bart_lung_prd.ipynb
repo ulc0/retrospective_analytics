{
 "cells": [
  {
   "cell_type": "code",
   "execution_count": 0,
   "metadata": {
    "application/vnd.databricks.v1+cell": {
     "cellMetadata": {
      "byteLimit": 2048000,
      "rowLimit": 10000
     },
     "inputWidgets": {},
     "nuid": "42378546-995d-4b55-840f-4863491b3ae7",
     "showTitle": false,
     "title": ""
    }
   },
   "outputs": [],
   "source": [
    "import os\n",
    "os.environ[\"CUDA_ROOT\"]='/usr/local/cuda'\n",
    "os.environ[\"PYTENSOR_FLAGS\"]='allow_gc=False' #,floatX=float64'\n",
    "#from pytensor.configdefaults import config\n",
    "import pymc as pm\n",
    "import pymc_bart as pmb\n",
    "import matplotlib.pyplot as plt\n",
    "import numpy as np\n",
    "\n",
    "import numpy as np\n",
    "import sklearn as skl\n",
    "import scipy.stats as sp\n",
    "#import simsurv_func as ssf\n",
    "import mlflow\n",
    "# import pyspark"
   ]
  },
  {
   "cell_type": "code",
   "execution_count": 0,
   "metadata": {
    "application/vnd.databricks.v1+cell": {
     "cellMetadata": {
      "byteLimit": 2048000,
      "rowLimit": 10000
     },
     "inputWidgets": {},
     "nuid": "3cb379ab-446a-41f8-811a-3aafc943f154",
     "showTitle": false,
     "title": ""
    }
   },
   "outputs": [],
   "source": [
    "# M = 200 # number of trees\n",
    "# DRAWS = 200\n",
    "# TUNE = 100\n",
    "# CORES = 4\n",
    "# SPLIT_RULES = \"[pmb.ContinuousSplitRule(), pmb.ContinuousSplitRule(), pmb.OneHotSplitRule(), pmb.OneHotSplitRule()]\"\n",
    "\n",
    "experiment_id=dbutils.jobs.taskValues.get(\"cdh-ml-model\",\n",
    "                                          \"experiment_id\",\n",
    "                                          debugValue=2221480985583347)\n",
    "\n",
    "#run_name = dbutils.jobs.taskValues.get(\"cdh-ml-init\", \n",
    "#                                         \"run_name\", \n",
    "#                                         debugValue=\"test2\")\n",
    "\n",
    "#run_id = dbutils.jobs.taskValues.get(\"cdh-ml-run\",\n",
    "#                                    \"run_id_main\",\n",
    "#                                    debugValue = \"5c4b0bab2668466ea9ac022e482adc35\")\n",
    "\n",
    "ptask=\"cdh-ml-bart-init\"\n",
    "M = dbutils.jobs.taskValues.get(ptask, \"M\", debugValue=200)\n",
    "DRAWS = dbutils.jobs.taskValues.get(ptask, \"DRAWS\", debugValue=200)\n",
    "TUNE = dbutils.jobs.taskValues.get(ptask, \"TUNE\", debugValue=200)\n",
    "CORES = dbutils.jobs.taskValues.get(ptask, \"CORES\", debugValue=4)\n",
    "SPLIT_RULES = dbutils.jobs.taskValues.get(ptask, \"SPLIT_RULES\", debugValue=\"[pmb.ContinuousSplitRule(), pmb.ContinuousSplitRule(), pmb.OneHotSplitRule(), pmb.OneHotSplitRule()]\")\n",
    "\n",
    "SEED=2\n",
    "ALPHA=0.95\n",
    "\n",
    "DATA_URL=\"dbfs:/databricks/mlflow-tracking/1348027641275128/08c1ac0ba2124291922209acebec94cb/artifacts/lung.json\"\n",
    "DATA_RUN_ID='08c1ac0ba2124291922209acebec94cb'"
   ]
  },
  {
   "cell_type": "code",
   "execution_count": 0,
   "metadata": {
    "application/vnd.databricks.v1+cell": {
     "cellMetadata": {
      "byteLimit": 2048000,
      "rowLimit": 10000
     },
     "inputWidgets": {},
     "nuid": "e66a5915-cacf-44e7-8c38-e7981fd0ae57",
     "showTitle": false,
     "title": ""
    }
   },
   "outputs": [],
   "source": [
    "#mlflow.set_experiment(experiment_id=experiment_id)"
   ]
  },
  {
   "cell_type": "code",
   "execution_count": 0,
   "metadata": {
    "application/vnd.databricks.v1+cell": {
     "cellMetadata": {
      "byteLimit": 2048000,
      "rowLimit": 10000
     },
     "inputWidgets": {},
     "nuid": "73b87f69-0b1d-42c1-a72a-4784aa1bce28",
     "showTitle": false,
     "title": ""
    }
   },
   "outputs": [],
   "source": [
    "lung = mlflow.load_table(\n",
    "    artifact_file=\"data/lung_tte_bart.json\",\n",
    "    run_ids=[DATA_RUN_ID],\n",
    "    # Append a column containing the associated run ID for each row\n",
    "   # extra_columns=[\"run_id\"],\n",
    ")\n",
    "print(lung)"
   ]
  },
  {
   "cell_type": "markdown",
   "metadata": {
    "application/vnd.databricks.v1+cell": {
     "cellMetadata": {},
     "inputWidgets": {},
     "nuid": "4bea72cb-d09c-4213-a8fe-65de5d044f2f",
     "showTitle": false,
     "title": ""
    }
   },
   "source": [
    "# connected to the tracking_server_url\n",
    "mlflow_client = mlflow.tracking.MlflowClient()\n",
    "\n",
    "# list all experiment at this Tracking server\n",
    "# mlflow_client.list_experiments()\n",
    "\n",
    "# extract params/metrics data for run `test_run_id` in a single dict \n",
    "run_data_dict = mlflow_client.get_run(DATA_RUN_ID).data.to_dictionary()\n",
    "\n",
    "#\n",
    " #   lung = pd.read_json(io.BytesIO(f.read()))\n",
    "#lung = pd.read_json(DATA_URL)\n",
    "#lung.head()"
   ]
  },
  {
   "cell_type": "code",
   "execution_count": 0,
   "metadata": {
    "application/vnd.databricks.v1+cell": {
     "cellMetadata": {
      "byteLimit": 2048000,
      "rowLimit": 10000
     },
     "inputWidgets": {},
     "nuid": "b0938197-8aba-4f3d-b05a-abf2278a60f3",
     "showTitle": false,
     "title": ""
    }
   },
   "outputs": [],
   "source": [
    "print(run_data_dict.keys())"
   ]
  },
  {
   "cell_type": "code",
   "execution_count": 0,
   "metadata": {
    "application/vnd.databricks.v1+cell": {
     "cellMetadata": {
      "byteLimit": 2048000,
      "rowLimit": 10000
     },
     "inputWidgets": {},
     "nuid": "129bd2c9-7688-4a2f-902c-573943813a28",
     "showTitle": false,
     "title": ""
    }
   },
   "outputs": [],
   "source": [
    "# configure analytic dataset\n",
    "lung[\"karno\"] = lung[\"ph.karno\"].fillna(lung[\"pat.karno\"])\n",
    "## adjust time to months\n",
    "#lung[\"time2\"] = np.ceil(lung[\"time\"]/30)\n",
    "#lung[\"sex2\"] = lung[\"sex\"]-1\n",
    "#time = lung.time2\n",
    "event = lung.status == 2\n",
    "\n",
    "# karno try categorical and continuous\n",
    "x = pd.concat([time, lung[[\"age\",\"sex2\",\"karno\"]]], axis=1)\n"
   ]
  },
  {
   "cell_type": "code",
   "execution_count": 0,
   "metadata": {
    "application/vnd.databricks.v1+cell": {
     "cellMetadata": {
      "byteLimit": 2048000,
      "rowLimit": 10000
     },
     "inputWidgets": {},
     "nuid": "6d52e665-e58d-4300-b0a1-5bcf24d37c2d",
     "showTitle": false,
     "title": ""
    }
   },
   "outputs": [],
   "source": []
  },
  {
   "cell_type": "code",
   "execution_count": 0,
   "metadata": {
    "application/vnd.databricks.v1+cell": {
     "cellMetadata": {
      "byteLimit": 2048000,
      "rowLimit": 10000
     },
     "inputWidgets": {},
     "nuid": "4a0571a8-11fc-4d48-81e5-a994e59d00ae",
     "showTitle": false,
     "title": ""
    }
   },
   "outputs": [],
   "source": [
    "\n",
    "# sklearn set-up\n",
    "y_sk = ssf.get_y_sklearn(delta, time)\n",
    "x_sk = lung[[\"age\",\"sex2\",\"karno\"]]\n",
    "\n",
    "# long time\n",
    "b_tr_t, b_tr_delta, b_tr_x = ssf.surv_pre_train2(data_x_n = x_sk, data_y=y_sk, X_TIME=True)\n",
    "\n",
    "# create the counterfactual test dataset\n",
    "# First half is male second half is\n",
    "b_te_x = ssf.get_bart_test(x_out = x_sk, T = np.unique(b_tr_t))\n",
    "b_te_x[:,2] = 0\n",
    "b_te_x2 = b_te_x.copy()\n",
    "b_te_x2[:,2] = 1\n",
    "b_te_x3 = np.concatenate([b_te_x, b_te_x2], axis=0)"
   ]
  },
  {
   "cell_type": "code",
   "execution_count": 0,
   "metadata": {
    "application/vnd.databricks.v1+cell": {
     "cellMetadata": {
      "byteLimit": 2048000,
      "rowLimit": 10000
     },
     "inputWidgets": {},
     "nuid": "a63d31f0-9b3c-4485-9d7e-f926177b69c8",
     "showTitle": false,
     "title": ""
    }
   },
   "outputs": [],
   "source": [
    "# BART\n",
    "# M = 200 # number of trees\n",
    "# DRAWS = 2000\n",
    "# TUNE = 1000\n",
    "# CORES = 4\n",
    "# SPLIT_RULES = \"[pmb.ContinuousSplitRule(), pmb.ContinuousSplitRule(), pmb.OneHotSplitRule(), pmb.OneHotSplitRule()]\"\n",
    "\n",
    "    # run pymc\n",
    "offset = sp.norm.ppf(np.mean(b_tr_delta))\n",
    "with pm.Model() as bart:\n",
    "    x_data = pm.MutableData(\"x\", b_tr_x)\n",
    "    f = pmb.BART(\"f\", X=x_data, Y=b_tr_delta, m=M, alpha = ALPHA, split_rules=eval(SPLIT_RULES))\n",
    "    z = pm.Deterministic(\"z\", f + offset)\n",
    "    mu = pm.Deterministic(\"mu\", pm.math.invprobit(z))\n",
    "    y_pred = pm.Bernoulli(\"y_pred\", p=mu, observed=b_tr_delta, shape=x_data.shape[0])\n",
    "    bdata = pm.sample(random_seed=SEED, draws=DRAWS, tune = TUNE, cores=CORES)\n",
    "\n",
    "#akb add\n",
    "pm.model_to_graphviz(bart)"
   ]
  },
  {
   "cell_type": "code",
   "execution_count": 0,
   "metadata": {
    "application/vnd.databricks.v1+cell": {
     "cellMetadata": {
      "byteLimit": 2048000,
      "rowLimit": 10000
     },
     "inputWidgets": {},
     "nuid": "d62e83be-34e2-4dc1-b007-68cb33758cf7",
     "showTitle": false,
     "title": ""
    }
   },
   "outputs": [],
   "source": [
    "with bart:\n",
    "# pm.set_data({\"x\":pd.DataFrame(test_x), \"off\":off_test})\n",
    "    pm.set_data({\"x\":pd.DataFrame(b_te_x3)})\n",
    "    pp = pm.sample_posterior_predictive(bdata, var_names = [\"y_pred\", \"f\", \"z\", \"mu\"])\n"
   ]
  },
  {
   "cell_type": "code",
   "execution_count": 0,
   "metadata": {
    "application/vnd.databricks.v1+cell": {
     "cellMetadata": {
      "byteLimit": 2048000,
      "rowLimit": 10000
     },
     "inputWidgets": {},
     "nuid": "39d5dbcd-2dc3-40ce-b1eb-4f7b23b29b38",
     "showTitle": false,
     "title": ""
    }
   },
   "outputs": [],
   "source": [
    "with mlflow.start_run(experiment_id=experiment_id, run_id=run_id) as run:\n",
    "\n",
    "    # get survival\n",
    "    x_out = np.concatenate([x_sk.to_numpy(), x_sk.to_numpy()], axis=0)\n",
    "    bart_sv_fx = ssf.get_sv_fx(pp, x_out)\n",
    "\n",
    "    # get the original and counterfactual\n",
    "    og_shp = x_sk.shape[0]\n",
    "    or_bart_sv_fx = bart_sv_fx[0:og_shp,:]\n",
    "    cf_bart_sv_fx = bart_sv_fx[og_shp:, :]\n",
    "\n",
    "    # get mean and quantile\n",
    "    or1 = or_bart_sv_fx.mean(axis=0)\n",
    "    orp = np.quantile(or_bart_sv_fx, q=[0.05,0.95], axis=0)\n",
    "    cf1 = cf_bart_sv_fx.mean(axis=0)\n",
    "    cfp = np.quantile(cf_bart_sv_fx, q=[0.05,0.95], axis=0)\n",
    "\n",
    "\n",
    "    plt_time = np.unique(b_tr_t)\n",
    "\n",
    "    # plot\n",
    "    fig = plt.figure()\n",
    "    plt.step(plt_time, or1, label = \"male\", color=\"darkblue\")\n",
    "    plt.step(plt_time, orp[0], color=\"darkblue\", alpha=.4)\n",
    "    plt.step(plt_time, orp[1], color=\"darkblue\", alpha=.4)\n",
    "    plt.step(plt_time, cf1, label = \"female\", color=\"darkorange\")\n",
    "    plt.step(plt_time, cfp[0], color=\"darkorange\", alpha=.4)\n",
    "    plt.step(plt_time, cfp[1], color=\"darkorange\", alpha=.4)\n",
    "    plt.legend()\n",
    "    mlflow.log_figure(fig, \"male_female.png\")"
   ]
  }
 ],
 "metadata": {
  "application/vnd.databricks.v1+notebook": {
   "dashboards": [],
   "environmentMetadata": null,
   "language": "python",
   "notebookMetadata": {
    "pythonIndentUnit": 4
   },
   "notebookName": "cdh_bart_lung_prd",
   "widgets": {}
  },
  "kernelspec": {
   "display_name": "Python 3.10.6 64-bit",
   "language": "python",
   "name": "python3"
  },
  "language_info": {
   "codemirror_mode": {
    "name": "ipython",
    "version": 3
   },
   "file_extension": ".py",
   "mimetype": "text/x-python",
   "name": "python",
   "nbconvert_exporter": "python",
   "pygments_lexer": "ipython3",
   "version": "3.10.6"
  },
  "orig_nbformat": 4,
  "vscode": {
   "interpreter": {
    "hash": "916dbcbb3f70747c44a77c7bcd40155683ae19c65e1c03b4aa3499c5328201f1"
   }
  }
 },
 "nbformat": 4,
 "nbformat_minor": 0
}
