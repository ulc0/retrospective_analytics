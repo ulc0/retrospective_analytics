{
 "cells": [
  {
   "cell_type": "markdown",
   "metadata": {
    "application/vnd.databricks.v1+cell": {
     "cellMetadata": {},
     "inputWidgets": {},
     "nuid": "811b5eb3-9b69-4146-aef0-8ee8456f87a2",
     "showTitle": false,
     "tableResultSettingsMap": {},
     "title": ""
    }
   },
   "source": [
    "### Load libraries"
   ]
  },
  {
   "cell_type": "code",
   "execution_count": 0,
   "metadata": {
    "application/vnd.databricks.v1+cell": {
     "cellMetadata": {
      "byteLimit": 2048000,
      "rowLimit": 10000
     },
     "inputWidgets": {},
     "nuid": "5add66fb-dc15-488d-a17f-98cd1a718ad0",
     "showTitle": false,
     "tableResultSettingsMap": {},
     "title": ""
    }
   },
   "outputs": [],
   "source": [
    "%pip install lifelines"
   ]
  },
  {
   "cell_type": "code",
   "execution_count": 0,
   "metadata": {
    "ExecuteTime": {
     "end_time": "2021-10-15T19:01:17.269505Z",
     "start_time": "2021-10-15T19:01:17.264518Z"
    },
    "application/vnd.databricks.v1+cell": {
     "cellMetadata": {
      "byteLimit": 2048000,
      "rowLimit": 10000
     },
     "inputWidgets": {},
     "nuid": "f3109aa8-1073-4040-8f84-36e4cf5da411",
     "showTitle": false,
     "tableResultSettingsMap": {},
     "title": ""
    }
   },
   "outputs": [],
   "source": [
    "import numpy as np\n",
    "import pandas as pd\n",
    "from lifelines import KaplanMeierFitter\n",
    "from lifelines import CoxPHFitter\n",
    "import matplotlib.pyplot as plt"
   ]
  },
  {
   "cell_type": "markdown",
   "metadata": {
    "application/vnd.databricks.v1+cell": {
     "cellMetadata": {},
     "inputWidgets": {},
     "nuid": "770a9fee-f61d-4ab3-9755-392b138982cc",
     "showTitle": false,
     "tableResultSettingsMap": {},
     "title": ""
    }
   },
   "source": [
    "### Data Source\n",
    "\n",
    "Loprinzi CL. Laurie JA. Wieand HS. Krook JE. Novotny PJ. Kugler JW. Bartel J. Law M. Bateman M. Klatt NE. et al. Prospective evaluation of prognostic variables from patient-completed questionnaires. North Central Cancer Treatment Group. Journal of Clinical Oncology. 12(3):601-7, 1994."
   ]
  },
  {
   "cell_type": "code",
   "execution_count": 0,
   "metadata": {
    "ExecuteTime": {
     "end_time": "2021-10-15T19:01:17.832632Z",
     "start_time": "2021-10-15T19:01:17.810702Z"
    },
    "application/vnd.databricks.v1+cell": {
     "cellMetadata": {
      "byteLimit": 2048000,
      "rowLimit": 10000
     },
     "inputWidgets": {},
     "nuid": "69ecb8ea-5d64-42ec-89a5-21d681bd26ab",
     "showTitle": false,
     "tableResultSettingsMap": {},
     "title": ""
    }
   },
   "outputs": [],
   "source": [
    "data = pd.read_csv(\"lung.csv\", index_col = 0)\n",
    "data.head()"
   ]
  },
  {
   "cell_type": "code",
   "execution_count": 0,
   "metadata": {
    "ExecuteTime": {
     "end_time": "2021-10-15T19:01:17.998880Z",
     "start_time": "2021-10-15T19:01:17.991931Z"
    },
    "application/vnd.databricks.v1+cell": {
     "cellMetadata": {
      "byteLimit": 2048000,
      "rowLimit": 10000
     },
     "inputWidgets": {},
     "nuid": "13b37c3e-fd38-4b8d-8851-c4db35a738f8",
     "showTitle": false,
     "tableResultSettingsMap": {},
     "title": ""
    }
   },
   "outputs": [],
   "source": [
    "data.shape"
   ]
  },
  {
   "cell_type": "markdown",
   "metadata": {
    "application/vnd.databricks.v1+cell": {
     "cellMetadata": {},
     "inputWidgets": {},
     "nuid": "f7d5257a-6d2f-472a-80f4-617d920601e5",
     "showTitle": false,
     "tableResultSettingsMap": {},
     "title": ""
    }
   },
   "source": [
    "### Variable description\n",
    "* inst: Institution code\n",
    "* time: Survival time in days\n",
    "* status: censoring status 0 = censored, 1 = dead\n",
    "* age: Age in years\n",
    "* sex: Male = 0 Female = 1\n",
    "* ph.ecog: ECOG performance score as rated by the physician. 0 = asymptomatic, 1 = symptomatic but completely ambulatory, 2 = in bed <50% of the day, 3 = in bed > 50% of the day but not bedbound, 4 = bedbound\n",
    "* ph.karno: Karnofsky performance score (bad=0-good=100) rated by physician\n",
    "* pat.karno: Karnofsky performance score as rated by patient\n",
    "* meal.cal = Calories consumed at meals\n",
    "* wt.loss = Weight loss in last six months"
   ]
  },
  {
   "cell_type": "code",
   "execution_count": 0,
   "metadata": {
    "ExecuteTime": {
     "end_time": "2021-10-15T19:01:21.170332Z",
     "start_time": "2021-10-15T19:01:21.151385Z"
    },
    "application/vnd.databricks.v1+cell": {
     "cellMetadata": {
      "byteLimit": 2048000,
      "rowLimit": 10000
     },
     "inputWidgets": {},
     "nuid": "492f7ee3-ed17-40e5-b2d8-707555dbf894",
     "showTitle": false,
     "tableResultSettingsMap": {},
     "title": ""
    }
   },
   "outputs": [],
   "source": [
    "data = data[['time', 'status', 'age', 'sex', 'ph.ecog', 'ph.karno','pat.karno', 'meal.cal', 'wt.loss']]\n",
    "data[\"status\"] = data[\"status\"] - 1\n",
    "data[\"sex\"] = data[\"sex\"] - 1\n",
    "data.head()"
   ]
  },
  {
   "cell_type": "code",
   "execution_count": 0,
   "metadata": {
    "ExecuteTime": {
     "end_time": "2021-10-15T19:02:09.363045Z",
     "start_time": "2021-10-15T19:02:09.355065Z"
    },
    "application/vnd.databricks.v1+cell": {
     "cellMetadata": {
      "byteLimit": 2048000,
      "rowLimit": 10000
     },
     "inputWidgets": {},
     "nuid": "5cd66802-db6d-45ec-be0f-34b5f9d7081d",
     "showTitle": false,
     "tableResultSettingsMap": {},
     "title": ""
    }
   },
   "outputs": [],
   "source": [
    "data.dtypes"
   ]
  },
  {
   "cell_type": "code",
   "execution_count": 0,
   "metadata": {
    "ExecuteTime": {
     "end_time": "2021-10-15T19:02:27.113571Z",
     "start_time": "2021-10-15T19:02:27.103598Z"
    },
    "application/vnd.databricks.v1+cell": {
     "cellMetadata": {
      "byteLimit": 2048000,
      "rowLimit": 10000
     },
     "inputWidgets": {},
     "nuid": "709c8b0c-d68a-4227-91ea-ab9a985f70de",
     "showTitle": false,
     "tableResultSettingsMap": {},
     "title": ""
    }
   },
   "outputs": [],
   "source": [
    "data.isnull().sum()"
   ]
  },
  {
   "cell_type": "code",
   "execution_count": 0,
   "metadata": {
    "ExecuteTime": {
     "end_time": "2021-10-15T19:02:43.044544Z",
     "start_time": "2021-10-15T19:02:43.039545Z"
    },
    "application/vnd.databricks.v1+cell": {
     "cellMetadata": {
      "byteLimit": 2048000,
      "rowLimit": 10000
     },
     "inputWidgets": {},
     "nuid": "8bec4031-4bd5-49d8-9ef3-82fae8fab596",
     "showTitle": false,
     "tableResultSettingsMap": {},
     "title": ""
    }
   },
   "outputs": [],
   "source": [
    "data.columns"
   ]
  },
  {
   "cell_type": "code",
   "execution_count": 0,
   "metadata": {
    "ExecuteTime": {
     "end_time": "2021-10-15T19:04:04.771183Z",
     "start_time": "2021-10-15T19:04:04.760212Z"
    },
    "application/vnd.databricks.v1+cell": {
     "cellMetadata": {
      "byteLimit": 2048000,
      "rowLimit": 10000
     },
     "inputWidgets": {},
     "nuid": "eecea5ee-84b1-448c-85ea-5ccb2c602efb",
     "showTitle": false,
     "tableResultSettingsMap": {},
     "title": ""
    }
   },
   "outputs": [],
   "source": [
    "data[\"ph.karno\"].fillna(data[\"ph.karno\"].mean(), inplace = True)\n",
    "data[\"pat.karno\"].fillna(data[\"pat.karno\"].mean(), inplace = True)\n",
    "data[\"meal.cal\"].fillna(data[\"meal.cal\"].mean(), inplace = True)\n",
    "data[\"wt.loss\"].fillna(data[\"wt.loss\"].mean(), inplace = True)\n",
    "data.dropna(inplace=True)\n",
    "data[\"ph.ecog\"] = data[\"ph.ecog\"].astype(\"int64\")"
   ]
  },
  {
   "cell_type": "code",
   "execution_count": 0,
   "metadata": {
    "ExecuteTime": {
     "end_time": "2021-10-15T19:04:07.930880Z",
     "start_time": "2021-10-15T19:04:07.920903Z"
    },
    "application/vnd.databricks.v1+cell": {
     "cellMetadata": {
      "byteLimit": 2048000,
      "rowLimit": 10000
     },
     "inputWidgets": {},
     "nuid": "a35e8283-199c-4b75-b9ab-06318e65bf29",
     "showTitle": false,
     "tableResultSettingsMap": {},
     "title": ""
    }
   },
   "outputs": [],
   "source": [
    "data.isnull().sum()"
   ]
  },
  {
   "cell_type": "code",
   "execution_count": 0,
   "metadata": {
    "ExecuteTime": {
     "end_time": "2021-10-15T19:04:21.981683Z",
     "start_time": "2021-10-15T19:04:21.975696Z"
    },
    "application/vnd.databricks.v1+cell": {
     "cellMetadata": {
      "byteLimit": 2048000,
      "rowLimit": 10000
     },
     "inputWidgets": {},
     "nuid": "41a63a04-aece-465f-ba7b-a1cb2b26e704",
     "showTitle": false,
     "tableResultSettingsMap": {},
     "title": ""
    }
   },
   "outputs": [],
   "source": [
    "data.shape"
   ]
  },
  {
   "cell_type": "code",
   "execution_count": 0,
   "metadata": {
    "ExecuteTime": {
     "end_time": "2021-10-15T19:04:52.117273Z",
     "start_time": "2021-10-15T19:04:51.888484Z"
    },
    "application/vnd.databricks.v1+cell": {
     "cellMetadata": {
      "byteLimit": 2048000,
      "rowLimit": 10000
     },
     "inputWidgets": {},
     "nuid": "58078721-e56b-4b7b-bc77-1a7562030304",
     "showTitle": false,
     "tableResultSettingsMap": {},
     "title": ""
    }
   },
   "outputs": [],
   "source": [
    "T = data[\"time\"]\n",
    "E = data[\"status\"]\n",
    "plt.hist(T, bins = 50)\n",
    "plt.show()"
   ]
  },
  {
   "cell_type": "markdown",
   "metadata": {
    "application/vnd.databricks.v1+cell": {
     "cellMetadata": {},
     "inputWidgets": {},
     "nuid": "e1944c40-ee3d-4d61-b5be-1302afbff197",
     "showTitle": false,
     "tableResultSettingsMap": {},
     "title": ""
    }
   },
   "source": [
    "## Fitting a non-parametric model [Kaplan Meier Curve]"
   ]
  },
  {
   "cell_type": "code",
   "execution_count": 0,
   "metadata": {
    "ExecuteTime": {
     "end_time": "2021-10-15T19:06:05.869779Z",
     "start_time": "2021-10-15T19:06:05.671803Z"
    },
    "application/vnd.databricks.v1+cell": {
     "cellMetadata": {
      "byteLimit": 2048000,
      "rowLimit": 10000
     },
     "inputWidgets": {},
     "nuid": "ed3a930b-ba5d-4db1-81d8-9cb0f0927ed6",
     "showTitle": false,
     "tableResultSettingsMap": {},
     "title": ""
    }
   },
   "outputs": [],
   "source": [
    "kmf = KaplanMeierFitter()\n",
    "kmf.fit(durations = T, event_observed = E)\n",
    "kmf.plot_survival_function()"
   ]
  },
  {
   "cell_type": "code",
   "execution_count": 0,
   "metadata": {
    "ExecuteTime": {
     "end_time": "2021-10-15T19:06:56.825511Z",
     "start_time": "2021-10-15T19:06:56.647962Z"
    },
    "application/vnd.databricks.v1+cell": {
     "cellMetadata": {
      "byteLimit": 2048000,
      "rowLimit": 10000
     },
     "inputWidgets": {},
     "nuid": "ae87d454-a2a9-47f0-a5ce-abd331645f7e",
     "showTitle": false,
     "tableResultSettingsMap": {},
     "title": ""
    }
   },
   "outputs": [],
   "source": [
    "kmf.survival_function_.plot()\n",
    "plt.title('Survival function')"
   ]
  },
  {
   "cell_type": "code",
   "execution_count": 0,
   "metadata": {
    "ExecuteTime": {
     "end_time": "2021-10-15T19:07:05.859075Z",
     "start_time": "2021-10-15T19:07:05.678081Z"
    },
    "application/vnd.databricks.v1+cell": {
     "cellMetadata": {
      "byteLimit": 2048000,
      "rowLimit": 10000
     },
     "inputWidgets": {},
     "nuid": "c29839e2-61f4-4a42-933d-93d94d4fff6f",
     "showTitle": false,
     "tableResultSettingsMap": {},
     "title": ""
    }
   },
   "outputs": [],
   "source": [
    "kmf.plot_cumulative_density()"
   ]
  },
  {
   "cell_type": "code",
   "execution_count": 0,
   "metadata": {
    "ExecuteTime": {
     "end_time": "2021-10-15T19:07:48.877318Z",
     "start_time": "2021-10-15T19:07:48.871329Z"
    },
    "application/vnd.databricks.v1+cell": {
     "cellMetadata": {
      "byteLimit": 2048000,
      "rowLimit": 10000
     },
     "inputWidgets": {},
     "nuid": "b4a1e1ab-d73a-4699-ba8f-d18092ad3d8a",
     "showTitle": false,
     "tableResultSettingsMap": {},
     "title": ""
    }
   },
   "outputs": [],
   "source": [
    "kmf.median_survival_time_"
   ]
  },
  {
   "cell_type": "code",
   "execution_count": 0,
   "metadata": {
    "ExecuteTime": {
     "end_time": "2021-10-15T19:08:19.209757Z",
     "start_time": "2021-10-15T19:08:19.198728Z"
    },
    "application/vnd.databricks.v1+cell": {
     "cellMetadata": {
      "byteLimit": 2048000,
      "rowLimit": 10000
     },
     "inputWidgets": {},
     "nuid": "135baf32-e83c-405e-8683-ff151c6ae510",
     "showTitle": false,
     "tableResultSettingsMap": {},
     "title": ""
    }
   },
   "outputs": [],
   "source": [
    "from lifelines.utils import median_survival_times\n",
    "\n",
    "median_ = kmf.median_survival_time_\n",
    "median_confidence_interval_ = median_survival_times(kmf.confidence_interval_)\n",
    "print(median_)\n",
    "print(median_confidence_interval_)"
   ]
  },
  {
   "cell_type": "code",
   "execution_count": 0,
   "metadata": {
    "ExecuteTime": {
     "end_time": "2021-10-15T19:11:16.330765Z",
     "start_time": "2021-10-15T19:11:15.942799Z"
    },
    "application/vnd.databricks.v1+cell": {
     "cellMetadata": {
      "byteLimit": 2048000,
      "rowLimit": 10000
     },
     "inputWidgets": {},
     "nuid": "255a11c1-74ca-4091-9054-d366992428d7",
     "showTitle": false,
     "tableResultSettingsMap": {},
     "title": ""
    }
   },
   "outputs": [],
   "source": [
    "ax = plt.subplot(111)\n",
    "\n",
    "m = (data[\"sex\"] == 0)\n",
    "\n",
    "kmf.fit(durations = T[m], event_observed = E[m], label = \"Male\")\n",
    "kmf.plot_survival_function(ax = ax)\n",
    "\n",
    "kmf.fit(T[~m], event_observed = E[~m], label = \"Female\")\n",
    "kmf.plot_survival_function(ax = ax, at_risk_counts = True)\n",
    "\n",
    "plt.title(\"Survival of different gender group\")"
   ]
  },
  {
   "cell_type": "code",
   "execution_count": 0,
   "metadata": {
    "ExecuteTime": {
     "end_time": "2021-10-15T19:13:07.610963Z",
     "start_time": "2021-10-15T19:13:07.136655Z"
    },
    "application/vnd.databricks.v1+cell": {
     "cellMetadata": {
      "byteLimit": 2048000,
      "rowLimit": 10000
     },
     "inputWidgets": {},
     "nuid": "e3f491cb-8877-4c4b-b043-fe9e16210c60",
     "showTitle": false,
     "tableResultSettingsMap": {},
     "title": ""
    }
   },
   "outputs": [],
   "source": [
    "ecog_types = data.sort_values(by = ['ph.ecog'])[\"ph.ecog\"].unique()\n",
    "\n",
    "for i, ecog_types in enumerate(ecog_types):\n",
    "    ax = plt.subplot(2, 2, i + 1)\n",
    "    ix = data['ph.ecog'] == ecog_types\n",
    "    kmf.fit(T[ix], E[ix], label = ecog_types)\n",
    "    kmf.plot_survival_function(ax = ax, legend = False)\n",
    "    plt.title(ecog_types)\n",
    "    plt.xlim(0, 1200)\n",
    "\n",
    "plt.tight_layout()"
   ]
  },
  {
   "cell_type": "code",
   "execution_count": 0,
   "metadata": {
    "ExecuteTime": {
     "end_time": "2021-10-15T19:13:24.686356Z",
     "start_time": "2021-10-15T19:13:24.678199Z"
    },
    "application/vnd.databricks.v1+cell": {
     "cellMetadata": {
      "byteLimit": 2048000,
      "rowLimit": 10000
     },
     "inputWidgets": {},
     "nuid": "6a1f63b1-6406-4938-8da0-cd55edbac9e1",
     "showTitle": false,
     "tableResultSettingsMap": {},
     "title": ""
    }
   },
   "outputs": [],
   "source": [
    "data['ph.ecog'].value_counts()"
   ]
  },
  {
   "cell_type": "code",
   "execution_count": 0,
   "metadata": {
    "ExecuteTime": {
     "end_time": "2021-10-15T19:13:33.887898Z",
     "start_time": "2021-10-15T19:13:33.879923Z"
    },
    "application/vnd.databricks.v1+cell": {
     "cellMetadata": {
      "byteLimit": 2048000,
      "rowLimit": 10000
     },
     "inputWidgets": {},
     "nuid": "afb5bf8c-59f4-4810-8db9-67073ef67c62",
     "showTitle": false,
     "tableResultSettingsMap": {},
     "title": ""
    }
   },
   "outputs": [],
   "source": [
    "data = data[data[\"ph.ecog\"] != 3]\n",
    "data.shape"
   ]
  },
  {
   "cell_type": "code",
   "execution_count": 0,
   "metadata": {
    "ExecuteTime": {
     "end_time": "2021-10-15T19:13:36.904836Z",
     "start_time": "2021-10-15T19:13:36.894862Z"
    },
    "application/vnd.databricks.v1+cell": {
     "cellMetadata": {
      "byteLimit": 2048000,
      "rowLimit": 10000
     },
     "inputWidgets": {},
     "nuid": "040cf239-76c9-4764-83c3-16fbafb6c013",
     "showTitle": false,
     "tableResultSettingsMap": {},
     "title": ""
    }
   },
   "outputs": [],
   "source": [
    "data['ph.ecog'].value_counts()"
   ]
  },
  {
   "cell_type": "markdown",
   "metadata": {
    "application/vnd.databricks.v1+cell": {
     "cellMetadata": {},
     "inputWidgets": {},
     "nuid": "01276a5a-8d6c-4f51-8871-3bd1027ed88b",
     "showTitle": false,
     "tableResultSettingsMap": {},
     "title": ""
    }
   },
   "source": [
    "## Fitting Cox Proportional Hazard Model"
   ]
  },
  {
   "cell_type": "markdown",
   "metadata": {
    "application/vnd.databricks.v1+cell": {
     "cellMetadata": {},
     "inputWidgets": {},
     "nuid": "f711220b-ba2c-4e70-9741-271c044345c5",
     "showTitle": false,
     "tableResultSettingsMap": {},
     "title": ""
    }
   },
   "source": [
    "The Cox proportional hazards model, by contrast, is not a fully parametric model. Rather it is a semi-parametric model because even if the regression parameters (the betas) are known, the distribution of the outcome remains unknown."
   ]
  },
  {
   "cell_type": "markdown",
   "metadata": {
    "application/vnd.databricks.v1+cell": {
     "cellMetadata": {},
     "inputWidgets": {},
     "nuid": "949ea6bf-ea3a-4e05-ad58-8d3989be15e6",
     "showTitle": false,
     "tableResultSettingsMap": {},
     "title": ""
    }
   },
   "source": [
    "[Cox Proportional Hazard Model (lifelines webpage)](https://lifelines.readthedocs.io/en/latest/Survival%20Regression.html)"
   ]
  },
  {
   "cell_type": "markdown",
   "metadata": {
    "application/vnd.databricks.v1+cell": {
     "cellMetadata": {},
     "inputWidgets": {},
     "nuid": "774b3b28-b80f-4e35-b8a7-bbb59c2e5481",
     "showTitle": false,
     "tableResultSettingsMap": {},
     "title": ""
    }
   },
   "source": [
    "Cox proportional hazards regression model assumptions includes:\n",
    "\n",
    "* Independence of survival times between distinct individuals in the sample,\n",
    "* A multiplicative relationship between the predictors and the hazard, and\n",
    "* A constant hazard ratio over time. This assumption implies that, the hazard curves for the groups should be proportional and cannot cross."
   ]
  },
  {
   "cell_type": "markdown",
   "metadata": {
    "application/vnd.databricks.v1+cell": {
     "cellMetadata": {},
     "inputWidgets": {},
     "nuid": "1d672983-b38a-47ac-99f7-cc95c2a15def",
     "showTitle": false,
     "tableResultSettingsMap": {},
     "title": ""
    }
   },
   "source": [
    "### Hazard and Hazard Ratio"
   ]
  },
  {
   "cell_type": "markdown",
   "metadata": {
    "ExecuteTime": {
     "end_time": "2021-10-15T12:38:06.591881Z",
     "start_time": "2021-10-15T12:38:06.582859Z"
    },
    "application/vnd.databricks.v1+cell": {
     "cellMetadata": {},
     "inputWidgets": {},
     "nuid": "71480abb-1e6f-466d-b54b-69dbca2b537f",
     "showTitle": false,
     "tableResultSettingsMap": {},
     "title": ""
    }
   },
   "source": [
    "* Hazard is defined as the slope of the survival curve — a measure of how rapidly subjects are dying.\n",
    "* The hazard ratio compares two treatments. If the hazard ratio is 2.0, then the rate of deaths in one treatment group is twice the rate in the other group."
   ]
  },
  {
   "cell_type": "code",
   "execution_count": 0,
   "metadata": {
    "ExecuteTime": {
     "end_time": "2021-10-15T19:17:18.206030Z",
     "start_time": "2021-10-15T19:17:18.190764Z"
    },
    "application/vnd.databricks.v1+cell": {
     "cellMetadata": {
      "byteLimit": 2048000,
      "rowLimit": 10000
     },
     "inputWidgets": {},
     "nuid": "23581980-41fa-496b-8deb-abb95d949b18",
     "showTitle": false,
     "tableResultSettingsMap": {},
     "title": ""
    }
   },
   "outputs": [],
   "source": [
    "data.head()"
   ]
  },
  {
   "cell_type": "code",
   "execution_count": 0,
   "metadata": {
    "ExecuteTime": {
     "end_time": "2021-10-15T19:18:42.213121Z",
     "start_time": "2021-10-15T19:18:42.198643Z"
    },
    "application/vnd.databricks.v1+cell": {
     "cellMetadata": {
      "byteLimit": 2048000,
      "rowLimit": 10000
     },
     "inputWidgets": {},
     "nuid": "6039ecfd-80cc-41d3-8663-5abddfc431f9",
     "showTitle": false,
     "tableResultSettingsMap": {},
     "title": ""
    }
   },
   "outputs": [],
   "source": [
    "dummies_ecog = pd.get_dummies(data[\"ph.ecog\"],\n",
    "                         prefix = 'ecog')\n",
    "dummies_ecog.head(4)"
   ]
  },
  {
   "cell_type": "code",
   "execution_count": 0,
   "metadata": {
    "ExecuteTime": {
     "end_time": "2021-10-15T19:19:30.136819Z",
     "start_time": "2021-10-15T19:19:30.118891Z"
    },
    "application/vnd.databricks.v1+cell": {
     "cellMetadata": {
      "byteLimit": 2048000,
      "rowLimit": 10000
     },
     "inputWidgets": {},
     "nuid": "4c9740ae-fc60-4ee6-be85-23e6bfa73ee3",
     "showTitle": false,
     "tableResultSettingsMap": {},
     "title": ""
    }
   },
   "outputs": [],
   "source": [
    "dummies_ecog = dummies_ecog[[\"ecog_1\", \"ecog_2\"]]\n",
    "data = pd.concat([data, dummies_ecog], \n",
    "                  axis = 1)\n",
    "data.head()"
   ]
  },
  {
   "cell_type": "code",
   "execution_count": 0,
   "metadata": {
    "ExecuteTime": {
     "end_time": "2021-10-15T19:19:37.845721Z",
     "start_time": "2021-10-15T19:19:37.828916Z"
    },
    "application/vnd.databricks.v1+cell": {
     "cellMetadata": {
      "byteLimit": 2048000,
      "rowLimit": 10000
     },
     "inputWidgets": {},
     "nuid": "ef954d04-86de-425a-9677-390ba4bf23c6",
     "showTitle": false,
     "tableResultSettingsMap": {},
     "title": ""
    }
   },
   "outputs": [],
   "source": [
    "data = data.drop(\"ph.ecog\", axis = 1)\n",
    "data.head()"
   ]
  },
  {
   "cell_type": "code",
   "execution_count": 0,
   "metadata": {
    "ExecuteTime": {
     "end_time": "2021-10-15T19:20:05.735075Z",
     "start_time": "2021-10-15T19:20:05.566150Z"
    },
    "application/vnd.databricks.v1+cell": {
     "cellMetadata": {
      "byteLimit": 2048000,
      "rowLimit": 10000
     },
     "inputWidgets": {},
     "nuid": "14d9ba21-edf0-4d38-b779-f2b22c7d7f31",
     "showTitle": false,
     "tableResultSettingsMap": {},
     "title": ""
    },
    "scrolled": false
   },
   "outputs": [],
   "source": [
    "cph = CoxPHFitter()\n",
    "cph.fit(data, duration_col = 'time', event_col = 'status')\n",
    "\n",
    "cph.print_summary() "
   ]
  },
  {
   "cell_type": "markdown",
   "metadata": {
    "application/vnd.databricks.v1+cell": {
     "cellMetadata": {},
     "inputWidgets": {},
     "nuid": "2f0a4783-c486-4ad1-89cb-9a31bfeb605d",
     "showTitle": false,
     "tableResultSettingsMap": {},
     "title": ""
    }
   },
   "source": [
    "### Interpretation"
   ]
  },
  {
   "cell_type": "markdown",
   "metadata": {
    "application/vnd.databricks.v1+cell": {
     "cellMetadata": {},
     "inputWidgets": {},
     "nuid": "603ae76d-e02b-4647-9c6d-ab806f756a2b",
     "showTitle": false,
     "tableResultSettingsMap": {},
     "title": ""
    }
   },
   "source": [
    "* Wt.loss has a coefficient of about -0.01.\n",
    "\n",
    "* We can recall that in the Cox proportional hazard model, a higher hazard means more at risk of the event occurring.\n",
    "The value $exp(-0.01)$ is called the hazard ratio.\n",
    "\n",
    "* Here, a one unit increase in wt loss means the baseline hazard will increase by a factor \n",
    "of $exp(-0.01)$ = 0.99 -> about a 1% decrease. \n",
    "\n",
    "* Similarly, the values in the ecog column are: \\[0 = asymptomatic, 1 = symptomatic but completely ambulatory, 2 = in bed $<$50\\% of the day\\]. The value of the coefficient associated with ecog2, $exp(1.20)$, is the value of ratio of hazards associated with being \"in bed $<$50% of the day (coded as 2)\" compared to asymptomatic (coded as 0, base category)."
   ]
  },
  {
   "cell_type": "code",
   "execution_count": 0,
   "metadata": {
    "ExecuteTime": {
     "end_time": "2021-10-15T19:23:53.317001Z",
     "start_time": "2021-10-15T19:23:53.150418Z"
    },
    "application/vnd.databricks.v1+cell": {
     "cellMetadata": {
      "byteLimit": 2048000,
      "rowLimit": 10000
     },
     "inputWidgets": {},
     "nuid": "9e84ab37-3dc3-434d-a57f-d78301d43d35",
     "showTitle": false,
     "tableResultSettingsMap": {},
     "title": ""
    }
   },
   "outputs": [],
   "source": [
    "plt.subplots(figsize=(10, 6))\n",
    "cph.plot()"
   ]
  },
  {
   "cell_type": "code",
   "execution_count": 0,
   "metadata": {
    "ExecuteTime": {
     "end_time": "2021-10-15T19:24:28.690946Z",
     "start_time": "2021-10-15T19:24:28.471523Z"
    },
    "application/vnd.databricks.v1+cell": {
     "cellMetadata": {
      "byteLimit": 2048000,
      "rowLimit": 10000
     },
     "inputWidgets": {},
     "nuid": "99a2de02-2b71-4556-82cb-f62f00b86379",
     "showTitle": false,
     "tableResultSettingsMap": {},
     "title": ""
    }
   },
   "outputs": [],
   "source": [
    "cph.plot_partial_effects_on_outcome(covariates = 'age',\n",
    "                                    values = [50, 60, 70, 80],\n",
    "                                    cmap = 'coolwarm')"
   ]
  },
  {
   "cell_type": "code",
   "execution_count": 0,
   "metadata": {
    "ExecuteTime": {
     "end_time": "2021-10-15T19:25:32.889132Z",
     "start_time": "2021-10-15T19:25:32.773374Z"
    },
    "application/vnd.databricks.v1+cell": {
     "cellMetadata": {
      "byteLimit": 2048000,
      "rowLimit": 10000
     },
     "inputWidgets": {},
     "nuid": "8867df83-ea00-4855-971d-0cb5c088290b",
     "showTitle": false,
     "tableResultSettingsMap": {},
     "title": ""
    }
   },
   "outputs": [],
   "source": [
    "cph.check_assumptions(data, p_value_threshold = 0.05)"
   ]
  },
  {
   "cell_type": "code",
   "execution_count": 0,
   "metadata": {
    "ExecuteTime": {
     "end_time": "2021-10-15T19:26:49.253297Z",
     "start_time": "2021-10-15T19:26:49.205403Z"
    },
    "application/vnd.databricks.v1+cell": {
     "cellMetadata": {
      "byteLimit": 2048000,
      "rowLimit": 10000
     },
     "inputWidgets": {},
     "nuid": "9862dda6-143b-4490-994e-040f98ceda00",
     "showTitle": false,
     "tableResultSettingsMap": {},
     "title": ""
    }
   },
   "outputs": [],
   "source": [
    "from lifelines.statistics import proportional_hazard_test\n",
    "\n",
    "results = proportional_hazard_test(cph, data, time_transform='rank')\n",
    "results.print_summary(decimals=3, model=\"untransformed variables\")"
   ]
  },
  {
   "cell_type": "markdown",
   "metadata": {
    "application/vnd.databricks.v1+cell": {
     "cellMetadata": {},
     "inputWidgets": {},
     "nuid": "6f5e97c9-5d6a-4f86-938b-439c251aac50",
     "showTitle": false,
     "tableResultSettingsMap": {},
     "title": ""
    }
   },
   "source": [
    "## Parametric [Accelerated Failure Time Model (AFT)]"
   ]
  },
  {
   "cell_type": "markdown",
   "metadata": {
    "application/vnd.databricks.v1+cell": {
     "cellMetadata": {},
     "inputWidgets": {},
     "nuid": "819f9f34-d975-4df5-8bee-58b364aad09a",
     "showTitle": false,
     "tableResultSettingsMap": {},
     "title": ""
    }
   },
   "source": [
    "[AFT Lifelines package webpage](https://lifelines.readthedocs.io/en/latest/Survival%20Regression.html#accelerated-failure-time-models)"
   ]
  },
  {
   "cell_type": "code",
   "execution_count": 0,
   "metadata": {
    "ExecuteTime": {
     "end_time": "2021-10-15T19:31:21.581683Z",
     "start_time": "2021-10-15T19:31:20.996764Z"
    },
    "application/vnd.databricks.v1+cell": {
     "cellMetadata": {
      "byteLimit": 2048000,
      "rowLimit": 10000
     },
     "inputWidgets": {},
     "nuid": "e5cbfbaa-7dda-4e38-bfef-cd469966fa33",
     "showTitle": false,
     "tableResultSettingsMap": {},
     "title": ""
    }
   },
   "outputs": [],
   "source": [
    "from lifelines import WeibullFitter,\\\n",
    "                      ExponentialFitter,\\\n",
    "                      LogNormalFitter,\\\n",
    "                      LogLogisticFitter\n",
    "\n",
    "\n",
    "# Instantiate each fitter\n",
    "wb = WeibullFitter()\n",
    "ex = ExponentialFitter()\n",
    "log = LogNormalFitter()\n",
    "loglogis = LogLogisticFitter()\n",
    "\n",
    "# Fit to data\n",
    "for model in [wb, ex, log, loglogis]:\n",
    "  model.fit(durations = data[\"time\"],\n",
    "            event_observed = data[\"status\"])\n",
    "  # Print AIC\n",
    "  print(\"The AIC value for\", model.__class__.__name__, \"is\",  model.AIC_)"
   ]
  },
  {
   "cell_type": "markdown",
   "metadata": {
    "application/vnd.databricks.v1+cell": {
     "cellMetadata": {},
     "inputWidgets": {},
     "nuid": "2ce2fa60-ea30-4674-bf6a-267b2613d987",
     "showTitle": false,
     "tableResultSettingsMap": {},
     "title": ""
    }
   },
   "source": [
    "### Fit the weibull fitter and print summary"
   ]
  },
  {
   "cell_type": "code",
   "execution_count": 0,
   "metadata": {
    "ExecuteTime": {
     "end_time": "2021-10-15T19:31:42.902854Z",
     "start_time": "2021-10-15T19:31:42.492853Z"
    },
    "application/vnd.databricks.v1+cell": {
     "cellMetadata": {
      "byteLimit": 2048000,
      "rowLimit": 10000
     },
     "inputWidgets": {},
     "nuid": "82f28d20-09e1-4f68-b208-ce066db49ba2",
     "showTitle": false,
     "tableResultSettingsMap": {},
     "title": ""
    }
   },
   "outputs": [],
   "source": [
    "from lifelines import WeibullAFTFitter\n",
    "weibull_aft = WeibullAFTFitter()\n",
    "weibull_aft.fit(data, duration_col='time', event_col='status')\n",
    "\n",
    "weibull_aft.print_summary(3)"
   ]
  },
  {
   "cell_type": "markdown",
   "metadata": {
    "application/vnd.databricks.v1+cell": {
     "cellMetadata": {},
     "inputWidgets": {},
     "nuid": "28ba96cd-574c-4b2d-9a1b-ababa90ecba6",
     "showTitle": false,
     "tableResultSettingsMap": {},
     "title": ""
    }
   },
   "source": [
    "## Interpretation of the coefficients"
   ]
  },
  {
   "cell_type": "markdown",
   "metadata": {
    "application/vnd.databricks.v1+cell": {
     "cellMetadata": {},
     "inputWidgets": {},
     "nuid": "53e17494-5e22-4347-91e0-1e33695eb5cc",
     "showTitle": false,
     "tableResultSettingsMap": {},
     "title": ""
    }
   },
   "source": [
    "* A unit increase in $x_i$ means the average/median survival time changes by a factor of $exp(b_i)$.\n",
    "* Suppose $b_i$ was positive, then the factor $exp(b_i)$ is greater than 1, which will decelerate the event time since we divide time by the factor ⇿ increase mean/median survival. Hence, it will be a protective effect.\n",
    "* Likewise, a negative $b_i$ will hasten the event time ⇿ reduce the mean/median survival time.\n",
    "* This interpretation is opposite of how the sign influences event times in the Cox model!"
   ]
  },
  {
   "cell_type": "markdown",
   "metadata": {
    "application/vnd.databricks.v1+cell": {
     "cellMetadata": {},
     "inputWidgets": {},
     "nuid": "c0324f24-1a3a-4cfb-a961-b3ebacb9de3c",
     "showTitle": false,
     "tableResultSettingsMap": {},
     "title": ""
    }
   },
   "source": [
    "## Example \n",
    "\n",
    "* Sex, which contains [0: Male and 1: Female], has a positive coefficient. \n",
    "* This means being a female subject compared to male changes mean/median survival time by exp(0.416) = 1.516,  approximately a 52% increase in mean/median survival time."
   ]
  },
  {
   "cell_type": "code",
   "execution_count": 0,
   "metadata": {
    "ExecuteTime": {
     "end_time": "2021-10-15T19:33:11.342799Z",
     "start_time": "2021-10-15T19:33:11.316867Z"
    },
    "application/vnd.databricks.v1+cell": {
     "cellMetadata": {
      "byteLimit": 2048000,
      "rowLimit": 10000
     },
     "inputWidgets": {},
     "nuid": "3b6cb556-c6b6-4e02-af1b-7f6bc2c8f926",
     "showTitle": false,
     "tableResultSettingsMap": {},
     "title": ""
    }
   },
   "outputs": [],
   "source": [
    "print(weibull_aft.median_survival_time_)\n",
    "print(weibull_aft.mean_survival_time_)"
   ]
  },
  {
   "cell_type": "code",
   "execution_count": 0,
   "metadata": {
    "ExecuteTime": {
     "end_time": "2021-10-15T19:33:21.201719Z",
     "start_time": "2021-10-15T19:33:20.998264Z"
    },
    "application/vnd.databricks.v1+cell": {
     "cellMetadata": {
      "byteLimit": 2048000,
      "rowLimit": 10000
     },
     "inputWidgets": {},
     "nuid": "39c4ec0f-55cb-4d84-b4e2-df54f6608dbd",
     "showTitle": false,
     "tableResultSettingsMap": {},
     "title": ""
    }
   },
   "outputs": [],
   "source": [
    "plt.subplots(figsize=(10, 6))\n",
    "weibull_aft.plot()"
   ]
  },
  {
   "cell_type": "code",
   "execution_count": 0,
   "metadata": {
    "ExecuteTime": {
     "end_time": "2021-10-15T19:33:45.876341Z",
     "start_time": "2021-10-15T19:33:45.652833Z"
    },
    "application/vnd.databricks.v1+cell": {
     "cellMetadata": {
      "byteLimit": 2048000,
      "rowLimit": 10000
     },
     "inputWidgets": {},
     "nuid": "e4005cb7-2981-444e-ac7a-c19999b34fc4",
     "showTitle": false,
     "tableResultSettingsMap": {},
     "title": ""
    }
   },
   "outputs": [],
   "source": [
    "plt.subplots(figsize=(10, 6))\n",
    "weibull_aft.plot_partial_effects_on_outcome('age', range(50, 80, 10), cmap='coolwarm')"
   ]
  },
  {
   "cell_type": "code",
   "execution_count": 0,
   "metadata": {
    "application/vnd.databricks.v1+cell": {
     "cellMetadata": {
      "byteLimit": 2048000,
      "rowLimit": 10000
     },
     "inputWidgets": {},
     "nuid": "90113051-a3c9-4023-b9d4-2be8de07825f",
     "showTitle": false,
     "tableResultSettingsMap": {},
     "title": ""
    }
   },
   "outputs": [],
   "source": []
  },
  {
   "cell_type": "code",
   "execution_count": 0,
   "metadata": {
    "application/vnd.databricks.v1+cell": {
     "cellMetadata": {
      "byteLimit": 2048000,
      "rowLimit": 10000
     },
     "inputWidgets": {},
     "nuid": "a0ac3d8e-3d5d-49aa-b6f8-b6724af9cec2",
     "showTitle": false,
     "tableResultSettingsMap": {},
     "title": ""
    }
   },
   "outputs": [],
   "source": []
  },
  {
   "cell_type": "code",
   "execution_count": 0,
   "metadata": {
    "application/vnd.databricks.v1+cell": {
     "cellMetadata": {
      "byteLimit": 2048000,
      "rowLimit": 10000
     },
     "inputWidgets": {},
     "nuid": "81cc878f-2e8b-43a8-a051-352aee7c44f3",
     "showTitle": false,
     "tableResultSettingsMap": {},
     "title": ""
    }
   },
   "outputs": [],
   "source": []
  }
 ],
 "metadata": {
  "application/vnd.databricks.v1+notebook": {
   "computePreferences": null,
   "dashboards": [],
   "environmentMetadata": null,
   "language": "python",
   "notebookMetadata": {
    "pythonIndentUnit": 4
   },
   "notebookName": "lifelines_survival_analysis_nb",
   "widgets": {}
  },
  "interpreter": {
   "hash": "e4577f84b0cc49b377bbdd3aebc762ca13cae746c03033f4382fe532931f9c94"
  },
  "kernelspec": {
   "display_name": "Python 3.8.11 64-bit ('datascience': conda)",
   "name": "python3"
  },
  "language_info": {
   "name": "python"
  },
  "varInspector": {
   "cols": {
    "lenName": 16,
    "lenType": 16,
    "lenVar": 40
   },
   "kernels_config": {
    "python": {
     "delete_cmd_postfix": "",
     "delete_cmd_prefix": "del ",
     "library": "var_list.py",
     "varRefreshCmd": "print(var_dic_list())"
    },
    "r": {
     "delete_cmd_postfix": ") ",
     "delete_cmd_prefix": "rm(",
     "library": "var_list.r",
     "varRefreshCmd": "cat(var_dic_list()) "
    }
   },
   "types_to_exclude": [
    "module",
    "function",
    "builtin_function_or_method",
    "instance",
    "_Feature"
   ],
   "window_display": false
  }
 },
 "nbformat": 4,
 "nbformat_minor": 0
}
