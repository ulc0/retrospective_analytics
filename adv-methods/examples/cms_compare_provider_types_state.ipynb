{
 "cells": [
  {
   "cell_type": "markdown",
   "metadata": {},
   "source": [
    "US Medicare Payment Data - comparison of payments among states\n",
    "==============================================================\n",
    "\n",
    "In this script we compare Medicare payments in 2012 between several states.  There are many ways to do this.  For example, we could look at the total or average of all payments to all providers in a state.  However the total payment at the state level would scale with the size of the state, and the average payment may be affected by the composition of patients and providers within the state.  To reduce these effects, we can look at the average payment made within a state to all providers of a specific type, or for all services of a particular type.  These averages can then be compared between states.\n",
    "\n",
    "The CMS payment data can be obtained [here](http://www.cms.gov/Research-Statistics-Data-and-Systems/Statistics-Trends-and-Reports/Medicare-Provider-Charge-Data/Physician-and-Other-Supplier.html).\n",
    "\n",
    "[Here](http://www.cms.gov/Research-Statistics-Data-and-Systems/Statistics-Trends-and-Reports/Medicare-Provider-Charge-Data/Downloads/Medicare-Physician-and-Other-Supplier-PUF-Methodology.pdf) is some documentation about the data set.  "
   ]
  },
  {
   "cell_type": "markdown",
   "metadata": {},
   "source": [
    "First we import the libraries that we will use in the script."
   ]
  },
  {
   "cell_type": "code",
   "execution_count": 1,
   "metadata": {
    "collapsed": false
   },
   "outputs": [],
   "source": [
    "%matplotlib inline\n",
    "\n",
    "import numpy as np\n",
    "import pandas as pd\n",
    "import matplotlib.pyplot as plt"
   ]
  },
  {
   "cell_type": "markdown",
   "metadata": {},
   "source": [
    "Next we read in the data for each state that we intend to analyze.  We use a dictionary comprehension to create a dictionary that maps the two-letter state name string to the Pandas DataFrame object for the state."
   ]
  },
  {
   "cell_type": "code",
   "execution_count": 2,
   "metadata": {
    "collapsed": false
   },
   "outputs": [
    {
     "name": "stdout",
     "output_type": "stream",
     "text": [
      "[<class 'pandas.core.frame.DataFrame'>, <class 'pandas.core.frame.DataFrame'>]\n",
      "[(667995, 27), (339456, 27)]\n"
     ]
    }
   ],
   "source": [
    "state_names = [\"FL\", \"MI\"]\n",
    "fnames = [x + \"-subset.csv.gz\" for x in state_names]\n",
    "state_data = {k: pd.read_csv(f, compression=\"gzip\") for (k, f) in zip(state_names, fnames)}\n",
    "print([type(state_data[k]) for k in state_names])\n",
    "print([state_data[k].shape for k in state_names])"
   ]
  },
  {
   "cell_type": "markdown",
   "metadata": {},
   "source": [
    "We plan to focus on individual providers here, so we exclude the provider organizations."
   ]
  },
  {
   "cell_type": "code",
   "execution_count": 3,
   "metadata": {
    "collapsed": false
   },
   "outputs": [
    {
     "name": "stdout",
     "output_type": "stream",
     "text": [
      "(636249, 27)\n",
      "(329457, 27)\n"
     ]
    }
   ],
   "source": [
    "for k in state_names:\n",
    "    ix = (state_data[k].loc[:, \"nppes_entity_code\"] == \"I\")\n",
    "    state_data[k] = state_data[k].loc[ix, :]\n",
    "    print(state_data[k].shape)"
   ]
  },
  {
   "cell_type": "markdown",
   "metadata": {},
   "source": [
    "### Comparing mean payments by provider type\n",
    "\n",
    "We start by calculating the total medicare payment for each type of service within each provider, within each state."
   ]
  },
  {
   "cell_type": "code",
   "execution_count": 4,
   "metadata": {
    "collapsed": false
   },
   "outputs": [
    {
     "name": "stdout",
     "output_type": "stream",
     "text": [
      "(636249, 28)\n",
      "(329457, 28)\n"
     ]
    }
   ],
   "source": [
    "for k in state_names:\n",
    "    state_data[k][\"total_payment\"] = state_data[k][\"line_srvc_cnt\"] * state_data[k][\"average_Medicare_payment_amt\"]\n",
    "    print(state_data[k].shape)"
   ]
  },
  {
   "cell_type": "markdown",
   "metadata": {},
   "source": [
    "The simplest comparison is to look at the total of all payments by state.  We calculate this quantity in the next cell (in billions of US dollars).  If we are comparing Florida to Michigan, Florida's total population is 19.3 million and Michigan's is 9.8 million.  Florida's population of people over 65 years old is 4.1 million, and Michigan's is 1.5 million.  "
   ]
  },
  {
   "cell_type": "code",
   "execution_count": 5,
   "metadata": {
    "collapsed": false
   },
   "outputs": [
    {
     "name": "stdout",
     "output_type": "stream",
     "text": [
      "{'FL': 6.5373885239300451, 'MI': 2.433227685210483}\n",
      "FL/MI payent ratio: 2.687\n",
      "FL/MI population ratio: 1.969\n",
      "Fl/MI 65+ population ratio: 2.733\n"
     ]
    }
   ],
   "source": [
    "tot = {k : state_data[k].loc[:, \"total_payment\"].sum() / 1e9 for k in state_names}\n",
    "print(tot)\n",
    "print(\"FL/MI payent ratio: %.3f\" % (tot[\"FL\"] / tot[\"MI\"]))\n",
    "print(\"FL/MI population ratio: %.3f\" % (19.3 / 9.8))\n",
    "print(\"Fl/MI 65+ population ratio: %.3f\" % (4.1 / 1.5))"
   ]
  },
  {
   "cell_type": "markdown",
   "metadata": {},
   "source": [
    "Next we aggregate the data by provider, taking the sum of all payments to each provider within each state.  Again we use dictionary comprehensions, so the result is a dictionary mapping state abbreviations to a DataFrames containing the aggregated values.  We aggregate the payments by summing, and we aggregate the provider type by taking the first value within the group (since it is constant within each group).  The `first` function extracts the first element from a Pandas `Series` object."
   ]
  },
  {
   "cell_type": "code",
   "execution_count": 6,
   "metadata": {
    "collapsed": false
   },
   "outputs": [
    {
     "name": "stdout",
     "output_type": "stream",
     "text": [
      "{'FL': <class 'dict'>, 'MI': <class 'dict'>}\n",
      "{'FL': (49076, 2), 'MI': (31138, 2)}\n"
     ]
    }
   ],
   "source": [
    "first = lambda x: x.iloc[0]\n",
    "\n",
    "by_provider = {k: state_data[k].groupby(\"npi\").agg({\"total_payment\": np.sum, \"provider_type\": first}) for k in state_names}\n",
    "print({k: type(by_provider) for k in state_names})\n",
    "print({k: by_provider[k].shape for k in state_names})"
   ]
  },
  {
   "cell_type": "markdown",
   "metadata": {},
   "source": [
    "This is what we have at this point:"
   ]
  },
  {
   "cell_type": "code",
   "execution_count": 7,
   "metadata": {
    "collapsed": false
   },
   "outputs": [
    {
     "name": "stdout",
     "output_type": "stream",
     "text": [
      "FL\n",
      "            total_payment       provider_type\n",
      "npi                                          \n",
      "1003000381       16411.12  Physical Therapist\n",
      "1003000522       97836.25     Family Practice\n",
      "1003000720        7019.95  Nurse Practitioner\n",
      "1003001462       27597.83  Radiation Oncology\n",
      "1003002817      129028.63     Family Practice\n"
     ]
    }
   ],
   "source": [
    "print(state_names[0])\n",
    "print(by_provider[state_names[0]].head())"
   ]
  },
  {
   "cell_type": "markdown",
   "metadata": {},
   "source": [
    "Next we aggregate again, this time aggregating over all providers of a given type."
   ]
  },
  {
   "cell_type": "code",
   "execution_count": 8,
   "metadata": {
    "collapsed": false
   },
   "outputs": [
    {
     "name": "stdout",
     "output_type": "stream",
     "text": [
      "{'FL': <class 'pandas.core.frame.DataFrame'>, 'MI': <class 'pandas.core.frame.DataFrame'>}\n",
      "{'FL': (75, 1), 'MI': (73, 1)}\n"
     ]
    }
   ],
   "source": [
    "by_provider_type = {k: by_provider[k].groupby(\"provider_type\").agg(np.mean) for k in state_names}\n",
    "print({k: type(by_provider_type[k]) for k in state_names})\n",
    "print({k: by_provider_type[k].shape for k in state_names})"
   ]
  },
  {
   "cell_type": "markdown",
   "metadata": {},
   "source": [
    "A few provider types are used in one state but not the other:"
   ]
  },
  {
   "cell_type": "code",
   "execution_count": 9,
   "metadata": {
    "collapsed": false
   },
   "outputs": [
    {
     "name": "stdout",
     "output_type": "stream",
     "text": [
      "{'Unknown Supplier/Provider'}\n",
      "{'Unknown Physician Specialty Code', 'Independent Diagnostic Testing Facility', 'Peripheral Vascular Disease'}\n"
     ]
    }
   ],
   "source": [
    "ptypes = {k: by_provider_type[k].index for k in state_names}\n",
    "print(set(ptypes[\"MI\"]) - set(ptypes[\"FL\"]))\n",
    "print(set(ptypes[\"FL\"]) - set(ptypes[\"MI\"]))"
   ]
  },
  {
   "cell_type": "markdown",
   "metadata": {},
   "source": [
    "This is what these data look like for one state, the numbers are the average total payment to a provider of a given type within the state:"
   ]
  },
  {
   "cell_type": "code",
   "execution_count": 10,
   "metadata": {
    "collapsed": false
   },
   "outputs": [
    {
     "data": {
      "text/html": [
       "<div style=\"max-height:1000px;max-width:1500px;overflow:auto;\">\n",
       "<table border=\"1\" class=\"dataframe\">\n",
       "  <thead>\n",
       "    <tr style=\"text-align: right;\">\n",
       "      <th></th>\n",
       "      <th>total_payment</th>\n",
       "    </tr>\n",
       "    <tr>\n",
       "      <th>provider_type</th>\n",
       "      <th></th>\n",
       "    </tr>\n",
       "  </thead>\n",
       "  <tbody>\n",
       "    <tr>\n",
       "      <th>Addiction Medicine</th>\n",
       "      <td> 121745.735000</td>\n",
       "    </tr>\n",
       "    <tr>\n",
       "      <th>Allergy/Immunology</th>\n",
       "      <td>  53693.749917</td>\n",
       "    </tr>\n",
       "    <tr>\n",
       "      <th>Anesthesiologist Assistants</th>\n",
       "      <td>   3732.635000</td>\n",
       "    </tr>\n",
       "    <tr>\n",
       "      <th>Anesthesiology</th>\n",
       "      <td>  36701.068349</td>\n",
       "    </tr>\n",
       "    <tr>\n",
       "      <th>Audiologist (billing independently)</th>\n",
       "      <td>   5019.827558</td>\n",
       "    </tr>\n",
       "  </tbody>\n",
       "</table>\n",
       "</div>"
      ],
      "text/plain": [
       "                                     total_payment\n",
       "provider_type                                     \n",
       "Addiction Medicine                   121745.735000\n",
       "Allergy/Immunology                    53693.749917\n",
       "Anesthesiologist Assistants            3732.635000\n",
       "Anesthesiology                        36701.068349\n",
       "Audiologist (billing independently)    5019.827558"
      ]
     },
     "execution_count": 10,
     "metadata": {},
     "output_type": "execute_result"
    }
   ],
   "source": [
    "by_provider_type[\"MI\"].head()"
   ]
  },
  {
   "cell_type": "markdown",
   "metadata": {},
   "source": [
    "Up to this point, we had a separate data set for the each state.  Now that we have reduced the data to the main quantity of interest, we can merge the state-level data sets into a single data set, to make it easier to compare the states."
   ]
  },
  {
   "cell_type": "code",
   "execution_count": 11,
   "metadata": {
    "collapsed": false
   },
   "outputs": [],
   "source": [
    "for k in state_names:\n",
    "    by_provider_type[k].columns = [k]\n",
    "by_provider_type = pd.concat(list(by_provider_type.values()), axis=1)"
   ]
  },
  {
   "cell_type": "markdown",
   "metadata": {},
   "source": [
    "Here is a peek at the merged data set:"
   ]
  },
  {
   "cell_type": "code",
   "execution_count": 12,
   "metadata": {
    "collapsed": false
   },
   "outputs": [
    {
     "name": "stdout",
     "output_type": "stream",
     "text": [
      "                                                FL             MI\n",
      "Addiction Medicine                    14961.302222  121745.735000\n",
      "Allergy/Immunology                   102898.723737   53693.749917\n",
      "Anesthesiologist Assistants           11456.243731    3732.635000\n",
      "Anesthesiology                        41096.014748   36701.068349\n",
      "Audiologist (billing independently)   12976.023042    5019.827558\n"
     ]
    }
   ],
   "source": [
    "print(by_provider_type.head())"
   ]
  },
  {
   "cell_type": "markdown",
   "metadata": {},
   "source": [
    "Since some provider types are not present in a given state, after merging their payment value will be `nan`.  We can confirm that here:"
   ]
  },
  {
   "cell_type": "code",
   "execution_count": 13,
   "metadata": {
    "collapsed": false
   },
   "outputs": [
    {
     "name": "stdout",
     "output_type": "stream",
     "text": [
      "FL    1\n",
      "MI    3\n",
      "dtype: int64\n"
     ]
    }
   ],
   "source": [
    "print(pd.isnull(by_provider_type).sum())"
   ]
  },
  {
   "cell_type": "markdown",
   "metadata": {},
   "source": [
    "In this setting, it might be reasonable to replace the missing values with zero:"
   ]
  },
  {
   "cell_type": "code",
   "execution_count": 14,
   "metadata": {
    "collapsed": false
   },
   "outputs": [
    {
     "name": "stdout",
     "output_type": "stream",
     "text": [
      "FL    0\n",
      "MI    0\n",
      "dtype: int64\n"
     ]
    }
   ],
   "source": [
    "by_provider_type = by_provider_type.replace(np.nan, 0)\n",
    "print(pd.isnull(by_provider_type).sum())"
   ]
  },
  {
   "cell_type": "markdown",
   "metadata": {},
   "source": [
    "Next we make a scatterplot showing the average payments by provider type in one state versus the other."
   ]
  },
  {
   "cell_type": "code",
   "execution_count": 15,
   "metadata": {
    "collapsed": false
   },
   "outputs": [
    {
     "data": {
      "text/plain": [
       "<matplotlib.text.Text at 0x7fc871ba74a8>"
      ]
     },
     "execution_count": 15,
     "metadata": {},
     "output_type": "execute_result"
    },
    {
     "data": {
      "image/png": "[encoded data removed]",
      "text/plain": [
       "<matplotlib.figure.Figure at 0x7fc871ad4be0>"
      ]
     },
     "metadata": {},
     "output_type": "display_data"
    }
   ],
   "source": [
    "plt.plot(by_provider_type.loc[:, state_names[0]], by_provider_type.loc[:, state_names[1]], 'o', alpha=0.6)\n",
    "plt.plot([0, 1e6], [0, 1e6], '-', color='grey')\n",
    "plt.xlabel(state_names[0] + \" provider types\", size=15)\n",
    "plt.ylabel(state_names[1] + \" provider types\", size=15)"
   ]
  },
  {
   "cell_type": "markdown",
   "metadata": {},
   "source": [
    "Since the payment levels are quite skewed, we will plot them on a log scale.  Note that the zeros that were introduced into the dataset will become `nan` after taking the log, and hence will be dropped from the plot.  This is OK because those probably reflect administrative differences in how the coding is handled, rather than being true zeros."
   ]
  },
  {
   "cell_type": "code",
   "execution_count": 16,
   "metadata": {
    "collapsed": false
   },
   "outputs": [
    {
     "data": {
      "text/plain": [
       "<matplotlib.text.Text at 0x7fc86ffa4780>"
      ]
     },
     "execution_count": 16,
     "metadata": {},
     "output_type": "execute_result"
    },
    {
     "data": {
      "image/png": "[encoded data removed]",
      "text/plain": [
       "<matplotlib.figure.Figure at 0x7fc86fecdba8>"
      ]
     },
     "metadata": {},
     "output_type": "display_data"
    }
   ],
   "source": [
    "x = np.log(by_provider_type.loc[:, state_names[0]]) / np.log(2)\n",
    "y = np.log(by_provider_type.loc[:, state_names[1]]) / np.log(2)\n",
    "plt.plot(x, y, 'o', alpha=0.6)\n",
    "plt.plot([10, 22], [10, 22], '-', color='grey')\n",
    "plt.xlabel(state_names[0] + \" provider types (log2)\", size=15)\n",
    "plt.ylabel(state_names[1] + \" provider types (log2)\", size=15)"
   ]
  },
  {
   "cell_type": "markdown",
   "metadata": {},
   "source": [
    "We can also drill down and examine some of the provider types with the greatest difference in payment levels between the two states."
   ]
  },
  {
   "cell_type": "code",
   "execution_count": 17,
   "metadata": {
    "collapsed": false
   },
   "outputs": [
    {
     "name": "stdout",
     "output_type": "stream",
     "text": [
      "                                     FL           MI\n",
      "Addiction Medicine         14961.302222  121745.7350\n",
      "Unknown Supplier/Provider      0.000000  115743.6225\n"
     ]
    }
   ],
   "source": [
    "ii = (y - x > 2)\n",
    "print(by_provider_type.loc[ii, :])"
   ]
  },
  {
   "cell_type": "code",
   "execution_count": 18,
   "metadata": {
    "collapsed": false
   },
   "outputs": [
    {
     "name": "stdout",
     "output_type": "stream",
     "text": [
      "                                                    FL         MI\n",
      "Independent Diagnostic Testing Facility   15037.770000      0.000\n",
      "Nuclear Medicine                         281914.943600  70312.875\n",
      "Peripheral Vascular Disease              126513.343333      0.000\n",
      "Unknown Physician Specialty Code          90887.808889      0.000\n"
     ]
    }
   ],
   "source": [
    "ii = (x - y > 2)\n",
    "print(by_provider_type.loc[ii, :])"
   ]
  },
  {
   "cell_type": "markdown",
   "metadata": {},
   "source": [
    "### Comparison by service type\n",
    "\n",
    "A different way to make the comparison is by aggregating in terms of service types."
   ]
  },
  {
   "cell_type": "code",
   "execution_count": 19,
   "metadata": {
    "collapsed": false
   },
   "outputs": [
    {
     "name": "stdout",
     "output_type": "stream",
     "text": [
      "            average_Medicare_payment_amt         hcpcs_description\n",
      "hcpcs_code                                                        \n",
      "00103                         136.483071     Anesth blepharoplasty\n",
      "00104                          64.475266       Anesth electroshock\n",
      "00120                         142.361123        Anesth ear surgery\n",
      "00126                          60.844473        Anesth tympanotomy\n",
      "00140                         128.521658  Anesth procedures on eye\n"
     ]
    }
   ],
   "source": [
    "by_service_type = {k: state_data[k].groupby(\"hcpcs_code\").agg({\"average_Medicare_payment_amt\": np.mean, \"hcpcs_description\": first}) for k in state_names}\n",
    "print(by_service_type[\"FL\"].head())"
   ]
  },
  {
   "cell_type": "markdown",
   "metadata": {},
   "source": [
    "Next we concatenate the state-level results into a single data frame.  First we rename the variable of interest to the state's name."
   ]
  },
  {
   "cell_type": "code",
   "execution_count": 20,
   "metadata": {
    "collapsed": false
   },
   "outputs": [
    {
     "name": "stdout",
     "output_type": "stream",
     "text": [
      "(3903, 4)\n",
      "               FL         hcpcs_description          MI  \\\n",
      "00103  136.483071     Anesth blepharoplasty   93.955017   \n",
      "00104   64.475266       Anesth electroshock   46.538973   \n",
      "00120  142.361123        Anesth ear surgery  150.657667   \n",
      "00126   60.844473        Anesth tympanotomy   44.884947   \n",
      "00140  128.521658  Anesth procedures on eye  100.105619   \n",
      "\n",
      "              hcpcs_description  \n",
      "00103     Anesth blepharoplasty  \n",
      "00104       Anesth electroshock  \n",
      "00120        Anesth ear surgery  \n",
      "00126        Anesth tympanotomy  \n",
      "00140  Anesth procedures on eye  \n"
     ]
    }
   ],
   "source": [
    "for k in state_names:\n",
    "    by_service_type[k].rename(columns = {\"average_Medicare_payment_amt\": k}, inplace=True)\n",
    "by_service_type = pd.concat(list(by_service_type.values()), axis=1)\n",
    "print(by_service_type.shape)\n",
    "print(by_service_type.head())"
   ]
  },
  {
   "cell_type": "markdown",
   "metadata": {},
   "source": [
    "After concatenating, the hcpcs_description column will be duplicated, since this column was present in the data file for each state.  We don't really need to remove the extra copy, but we can."
   ]
  },
  {
   "cell_type": "code",
   "execution_count": 21,
   "metadata": {
    "collapsed": false
   },
   "outputs": [
    {
     "name": "stdout",
     "output_type": "stream",
     "text": [
      "               FL         hcpcs_description          MI\n",
      "00103  136.483071     Anesth blepharoplasty   93.955017\n",
      "00104   64.475266       Anesth electroshock   46.538973\n",
      "00120  142.361123        Anesth ear surgery  150.657667\n",
      "00126   60.844473        Anesth tympanotomy   44.884947\n",
      "00140  128.521658  Anesth procedures on eye  100.105619\n"
     ]
    }
   ],
   "source": [
    "ii = np.flatnonzero(by_service_type.columns == \"hcpcs_description\")\n",
    "jj = [0, 1, 2, 3]\n",
    "jj.remove(ii[1])\n",
    "by_service_type = by_service_type.iloc[:, jj]\n",
    "print(by_service_type.head())"
   ]
  },
  {
   "cell_type": "code",
   "execution_count": 22,
   "metadata": {
    "collapsed": false
   },
   "outputs": [
    {
     "data": {
      "image/png": "[encoded data removed]",
      "text/plain": [
       "<matplotlib.figure.Figure at 0x7fc8718a7908>"
      ]
     },
     "metadata": {},
     "output_type": "display_data"
    }
   ],
   "source": [
    "plt.plot(by_service_type.loc[:, state_names[0]], by_service_type.loc[:, state_names[1]], 'o', alpha=0.6)\n",
    "plt.plot([0, 1e4], [0, 1e4], '-', color='grey', alpha=0.5)\n",
    "plt.xlabel(state_names[0] + \" service types\", size=15)\n",
    "_ = plt.ylabel(state_names[1] + \" service types\", size=15)"
   ]
  },
  {
   "cell_type": "code",
   "execution_count": 23,
   "metadata": {
    "collapsed": false
   },
   "outputs": [
    {
     "data": {
      "image/png": "[encoded data removed]",
      "text/plain": [
       "<matplotlib.figure.Figure at 0x7fc86fecd5c0>"
      ]
     },
     "metadata": {},
     "output_type": "display_data"
    }
   ],
   "source": [
    "x = np.log(by_service_type.loc[:, state_names[0]]) / np.log(2)\n",
    "y = np.log(by_service_type.loc[:, state_names[1]]) / np.log(2)\n",
    "plt.plot(x, y, 'o', alpha=0.6)\n",
    "plt.plot([0, 14], [0, 14], '-', color='grey', alpha=0.5)\n",
    "plt.xlim(0, 14)\n",
    "plt.ylim(0, 14)\n",
    "plt.xlabel(state_names[0] + \" service types\", size=15)\n",
    "_ = plt.ylabel(state_names[1] + \" service types\", size=15)"
   ]
  },
  {
   "cell_type": "markdown",
   "metadata": {},
   "source": [
    "Another way to compare the two states is to examine the distribution of provider total payments.  A quantile-quantile (QQ) plot shows in detail how two distributions differ."
   ]
  },
  {
   "cell_type": "code",
   "execution_count": 24,
   "metadata": {
    "collapsed": false
   },
   "outputs": [
    {
     "name": "stdout",
     "output_type": "stream",
     "text": [
      "            total_payment\n",
      "npi                      \n",
      "1003000605       19619.11\n",
      "1003001884       28618.18\n",
      "1003003021      107302.65\n",
      "1003005315       67463.36\n",
      "1003006503       35688.16\n"
     ]
    }
   ],
   "source": [
    "provider_totals = {k: state_data[k].groupby(\"npi\").agg({\"total_payment\": np.sum}) for k in state_names}\n",
    "print(provider_totals[\"MI\"].head())"
   ]
  },
  {
   "cell_type": "markdown",
   "metadata": {},
   "source": [
    "We will need the a set of percentiles from the two data sets."
   ]
  },
  {
   "cell_type": "code",
   "execution_count": 25,
   "metadata": {
    "collapsed": false
   },
   "outputs": [],
   "source": [
    "log_provider_totals = {k : np.log10(provider_totals[k]) for k in state_names}\n",
    "q = np.linspace(1, 99, 50).tolist()\n",
    "pctls = {k: np.percentile(log_provider_totals[k], q) for k in state_names}\n",
    "q = np.linspace(10, 91, 9).tolist()\n",
    "dcls = {k: np.percentile(log_provider_totals[k], q) for k in state_names}"
   ]
  },
  {
   "cell_type": "markdown",
   "metadata": {},
   "source": [
    "Here is the QQ plot.  It shows that Michigan providers receive lower payments than Florida providers at every point in the distribution."
   ]
  },
  {
   "cell_type": "code",
   "execution_count": 26,
   "metadata": {
    "collapsed": false
   },
   "outputs": [
    {
     "data": {
      "image/png": "[encoded data removed]",
      "text/plain": [
       "<matplotlib.figure.Figure at 0x7fc8702ca208>"
      ]
     },
     "metadata": {},
     "output_type": "display_data"
    }
   ],
   "source": [
    "plt.plot(pctls[state_names[0]], pctls[state_names[1]], '-', lw=4)\n",
    "plt.plot(dcls[state_names[0]], dcls[state_names[1]], 'o', ms=10, mec='blue', mfc='white')\n",
    "plt.plot([2, 7], [2, 7], '-', color='grey')\n",
    "plt.grid(True)\n",
    "plt.xlabel(\"log10 \" + state_names[0] + \" payment quantiles\", size=15)\n",
    "_ = plt.ylabel(\"log10 \" + state_names[1] + \" payment quantiles\", size=15)"
   ]
  },
  {
   "cell_type": "markdown",
   "metadata": {},
   "source": [
    "__Exercises:__\n",
    "\n",
    "* Compare the states' total Medicare payments in terms of the number of unique beneficiaries, and the number of unique beneficiary days (see the data documentation for the variable names).  Interpret the results relative to the states' population sizes and Medicare eligible (65 years of age or older) population sizes.\n",
    "\n",
    "* Calculate the proportion of providers in each state who belong to each provider type.  Compare these proportions between the two states using some of the techniques demonstrated above.\n",
    "\n",
    "* Repeat some of the analyses above using alternative measures to count the services (number of unique beneficiaries and number of unique beneficiary days). "
   ]
  }
 ],
 "metadata": {
  "kernelspec": {
   "display_name": "Python 3",
   "language": "python",
   "name": "python3"
  },
  "language_info": {
   "codemirror_mode": {
    "name": "ipython",
    "version": 3
   },
   "file_extension": ".py",
   "mimetype": "text/x-python",
   "name": "python",
   "nbconvert_exporter": "python",
   "pygments_lexer": "ipython3",
   "version": "3.4.3"
  },
  "name": "cms_compare_provider_types_state.ipynb"
 },
 "nbformat": 4,
 "nbformat_minor": 0
}
