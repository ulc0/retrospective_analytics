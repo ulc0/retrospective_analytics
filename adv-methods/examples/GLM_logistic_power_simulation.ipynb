{
 "metadata": {
  "name": "",
  "signature": "sha256:048f1a5ad6fc39c7b482faac8b0a151cfed01f92beb4502490775dfd8752c5af"
 },
 "nbformat": 3,
 "nbformat_minor": 0,
 "worksheets": [
  {
   "cells": [
    {
     "cell_type": "markdown",
     "metadata": {},
     "source": [
      "Statsmodels Generalized Linear Models\n",
      "=====================================\n",
      "\n",
      "*Key ideas:* Power analysis, logistic regression, simulation study\n",
      "    \n",
      "This notebook shows how to use simulation to conduct a power analysis.  The setting is a study in which logistic regression is used to estimate the effect of a covariate of interest in the presence of a second confounding covariate.\n",
      "\n",
      "We start with the usual import statments:"
     ]
    },
    {
     "cell_type": "code",
     "collapsed": false,
     "input": [
      "import numpy as np\n",
      "import pandas as pd\n",
      "from statsmodels.discrete.discrete_model import Logit"
     ],
     "language": "python",
     "metadata": {},
     "outputs": [],
     "prompt_number": 1
    },
    {
     "cell_type": "markdown",
     "metadata": {},
     "source": [
      "Several factors influence the standard error of a regession coefficient in logistic regression, including:\n",
      "    \n",
      "* The sample size\n",
      "* The variance of the variable of interest\n",
      "* The correlation between the variable of interest and other covariates\n",
      "* The overall proportion of successes versus failures\n",
      "\n",
      "As is the case in most power analyses, it is necessary to speculate on a number of aspects of the generating model.  Here we will use a generating model in which the two covariates are jointly Gaussian.  Without loss of generality, they can both have variance equal to 1.  We will treat the first variable X1 as a confounder which is centered.  The variable of primary interest, denoted \"X2\", will have a mean that could differ from zero.  We also need to specifiy the correlation \"r\" between the two covariates, and the population values of the regression coefficients.\n",
      "\n",
      "We take a functional programming approach, implementing the function \"gen_gendat\" below that returns a function that can be called to produce simulated data sets.  The returned function takes no arguments, and simulates data according to the parameters specified when it was created.  The population structure is determined by:\n",
      "    \n",
      "* n -- the sample size\n",
      "* r -- the correlation between the two covariates\n",
      "* mu -- the mean of the variable of interest (the second covariate)\n",
      "* params -- a 3-dimensional vector of coefficients [intercept, confounder effect, variable of interest effect]"
     ]
    },
    {
     "cell_type": "code",
     "collapsed": false,
     "input": [
      "def gen_gendat(n, r, mu, params):\n",
      "    def gendat():\n",
      "        exog = np.random.normal(size=(n, 3))\n",
      "        exog[:,0] = 1\n",
      "        exog[:,2] = r*exog[:,1] + np.sqrt(1-r**2)*exog[:,2]\n",
      "        exog[:,2] += mu\n",
      "        linpred = np.dot(exog, params)\n",
      "        expval = 1 / (1 + np.exp(-linpred))\n",
      "        endog = 1*(np.random.uniform(size=n) <= expval)\n",
      "        return endog, exog\n",
      "    return gendat"
     ],
     "language": "python",
     "metadata": {},
     "outputs": [],
     "prompt_number": 2
    },
    {
     "cell_type": "markdown",
     "metadata": {},
     "source": [
      "Next we implement another function called \"stderr\" to conduct the power simulation.  This function takes an argument \"gendat\" that can be called (with no arguments) to produce data.  The second argument is the number of simulation replications.  This function returns the pair (endog, exog), where endog is a vector of binary responses, and exog is a matrix of covariates.  A value of \"gendat\" can be obtained by calling \"gen_gendat\" defined above.  The \"stderr\" function returns the mean and standard deviation of the estimated values of params[2]."
     ]
    },
    {
     "cell_type": "code",
     "collapsed": false,
     "input": [
      "def stderr(gendat, nrep):\n",
      "\n",
      "    pr = []\n",
      "    for jr in range(nrep):\n",
      "        endog, exog = gendat()\n",
      "        mod = Logit(endog, exog)\n",
      "        rslt = mod.fit(disp=False)\n",
      "        pr.append(rslt.params[2])\n",
      "        \n",
      "    pr = np.asarray(pr)\n",
      "    return np.mean(pr), np.std(pr)"
     ],
     "language": "python",
     "metadata": {},
     "outputs": [],
     "prompt_number": 3
    },
    {
     "cell_type": "markdown",
     "metadata": {},
     "source": [
      "Now we can run the simulation.  First we hold everything fixed except the sample size.  The standard error should decrease by a factor of 1/sqrt(2) with each successive doubling of the sample size."
     ]
    },
    {
     "cell_type": "code",
     "collapsed": false,
     "input": [
      "nrep = 1000\n",
      "se = []\n",
      "sample_sizes = [50, 100, 200]\n",
      "for n in sample_sizes:\n",
      "    gdat = gen_gendat(n, 0.3, 0, np.r_[0, 0, 0])\n",
      "    se.append(stderr(gdat, nrep))\n",
      "    \n",
      "se = pd.DataFrame(se, index=sample_sizes, columns=(\"Mean\", \"SD\"))\n",
      "print se"
     ],
     "language": "python",
     "metadata": {},
     "outputs": [
      {
       "output_type": "stream",
       "stream": "stdout",
       "text": [
        "         Mean        SD\n",
        "50   0.005844  0.355883\n",
        "100  0.006356  0.233696\n",
        "200  0.004289  0.157229\n",
        "\n",
        "[3 rows x 2 columns]\n"
       ]
      }
     ],
     "prompt_number": 4
    },
    {
     "cell_type": "markdown",
     "metadata": {},
     "source": [
      "The next simulation shows that as the correlation between the confounder and the variable of interest increases, the standard error increases.  In this example, the increase isn't too great unless the correlation is quite strong"
     ]
    },
    {
     "cell_type": "code",
     "collapsed": false,
     "input": [
      "nrep = 1000\n",
      "se = []\n",
      "r_values = [0, 0.25, 0.5, 0.75]\n",
      "for r in r_values:\n",
      "    gdat = gen_gendat(100, r, 0, np.r_[0, 0, 0])\n",
      "    se.append(stderr(gdat, nrep))\n",
      "    \n",
      "se = pd.DataFrame(se, index=r_values, columns=(\"Mean\", \"SD\"))\n",
      "print se"
     ],
     "language": "python",
     "metadata": {},
     "outputs": [
      {
       "output_type": "stream",
       "stream": "stdout",
       "text": [
        "          Mean        SD\n",
        "0.00  0.005133  0.216416\n",
        "0.25 -0.015310  0.226289\n",
        "0.50 -0.009271  0.241154\n",
        "0.75 -0.012453  0.322934\n",
        "\n",
        "[4 rows x 2 columns]\n"
       ]
      }
     ],
     "prompt_number": 5
    },
    {
     "cell_type": "markdown",
     "metadata": {},
     "source": [
      "Increasing the intercept leads to a greater imbalance between the success and failure rates.  This reduces the power as seen below."
     ]
    },
    {
     "cell_type": "code",
     "collapsed": false,
     "input": [
      "se = []\n",
      "icept_values = [0, 0.5, 1, 1.5]\n",
      "for icept in icept_values:\n",
      "    gdat = gen_gendat(100, 0, 0, np.r_[icept, 0, 0])\n",
      "    se.append(stderr(gdat, nrep))\n",
      "    \n",
      "se = pd.DataFrame(se, index=icept_values, columns=(\"Mean\", \"SD\"))\n",
      "print se"
     ],
     "language": "python",
     "metadata": {},
     "outputs": [
      {
       "output_type": "stream",
       "stream": "stdout",
       "text": [
        "         Mean        SD\n",
        "0.0  0.018262  0.224892\n",
        "0.5 -0.002686  0.217836\n",
        "1.0 -0.015501  0.248451\n",
        "1.5 -0.005094  0.291535\n",
        "\n",
        "[4 rows x 2 columns]\n"
       ]
      }
     ],
     "prompt_number": 6
    }
   ],
   "metadata": {}
  }
 ]
}