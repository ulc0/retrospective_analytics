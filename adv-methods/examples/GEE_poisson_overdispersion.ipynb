{
<<<<<<< Updated upstream
 "metadata": {
  "name": "",
  "signature": "sha256:4b826b9f3836ee61dc96db894f8c7ce24ed509600ab84057353f60c5ec2572f0"
 },
 "nbformat": 3,
 "nbformat_minor": 0,
 "worksheets": [
  {
   "cells": [
    {
     "cell_type": "markdown",
     "metadata": {},
     "source": [
      "Generalized Estimating Equations for count data\n",
      "===============================================\n",
      "\n",
      "*Key ideas:* Poisson regression, negative binomial regression, overdispersion, simulation studies, Stata comparisons, R comparisons"
     ]
    },
    {
     "cell_type": "markdown",
     "metadata": {},
     "source": [
      "Two GLM families are commonly used with count data - the Poisson family and the negative binomial family.  \n",
      "\n",
      "In a Poisson distribution, the mean is equal to the variance.  However in practice data often exhibit \"overdispersion\", meaning that the variance is greater than the mean.  When a Poisson regression model is fit using the GLM or GEE framework, a specific deviation from a strict equality between the mean and the variance is allowed to occur.  Specifically, the mean and variance are modeled as being proportional, but with a proportionality constant that can be any number that is greater than or equal to 1 (in a Poisson distribution, this proportionality constant is always equal to 1).\n",
      "\n",
      "The negative binomial distribution has an additional shape parameter in the distribution.  If the value of this parameter is `a`, then the variance at a given mean value `m` is `m + a*m^2`.  Thus when `a = 0`, the mean/variance relationship is the same as in the Poisson model, and larger values of `a` correspond to greater overdispersion.  This parameter must be set explicitly before fitting the model (below we illustrate how to compare the fits under different values of this parameter)."
     ]
    },
    {
     "cell_type": "code",
     "collapsed": false,
     "input": [
      "from scipy.stats.distributions import nbinom\n",
      "import numpy as np\n",
      "import pandas as pd\n",
      "import statsmodels.api as sm"
     ],
     "language": "python",
     "metadata": {},
     "outputs": [],
     "prompt_number": 1
    },
    {
     "cell_type": "markdown",
     "metadata": {},
     "source": [
      "### Poisson regression\n",
      "\n",
      "First we simulate data with a marginal mean structure that is the same as in the basic Poisson GLM (an exponential link function applied to the linear predictor), and with a variance that is a constant multiple (equal to `scale`) times the mean.  The observations in the data set are independent of each other.  Here we will fit the model using GEE with independent covariance structure, so the estimates will be the same as obtained using GLM.  The conditional mean of `endog` is `exp(beta' * exog)`, and the conditional variance of `endog` is `scale` times the conditional mean. Note that the data are not actually Poisson distributed (they are drawn from a negative binomial distribution), so the GLM/GEE Poisson model is mis-specified, although it is a reasonable approximation to the true distribution of the data."
     ]
    },
    {
     "cell_type": "code",
     "collapsed": false,
     "input": [
      "def simdata_qpoisson(n, scale):\n",
      "    exog = np.random.normal(size=(n, 3))\n",
      "    params = (-1)**np.arange(3) * 0.3\n",
      "    lin_pred = np.dot(exog, params)\n",
      "    expval = np.exp(lin_pred) # Mean structure\n",
      "    if scale == 1:\n",
      "        endog = np.random.poisson(expval, size=len(expval))\n",
      "    else:\n",
      "        b = 1 / float(scale)\n",
      "        a = expval * b / (1 - b)\n",
      "        endog = nbinom.rvs(a, b, size=n)\n",
      "    return endog, exog, expval"
     ],
     "language": "python",
     "metadata": {},
     "outputs": [],
     "prompt_number": 2
    },
    {
     "cell_type": "markdown",
     "metadata": {},
     "source": [
      "The following plot illustrates the mean/variance relatinship.  The purple points show empirical means and variances when the scale parameter is 2, and the orang points show empirical means and variances when the scale parameter is 1."
     ]
    },
    {
     "cell_type": "code",
     "collapsed": false,
     "input": [
      "plt.clf()\n",
      "for scale in 1, 2:\n",
      "    \n",
      "    endog, exog, expval = simdata_qpoisson(20000, scale)\n",
      "\n",
      "    bins = np.arange(10, 91, 10).tolist()\n",
      "    pctls = np.percentile(expval, bins)\n",
      "    di = np.digitize(expval, pctls)\n",
      "    split = []\n",
      "    for d in np.unique(di):\n",
      "        split.append(endog[di == d])\n",
      "    mean = [np.mean(x) for x in split]\n",
      "    var = [np.var(x) for x in split]\n",
      "    color = {1: \"orange\", 2: \"purple\"}[scale]\n",
      "    plt.plot(mean, var, 'o', alpha=0.6, color=color)\n",
      "    plt.plot([0, 3], [0, scale*3], '-', color=color)\n",
      "plt.grid(True)\n",
      "plt.xlabel(\"Mean\", size=15)\n",
      "plt.ylabel(\"Variance\", size=15)"
     ],
     "language": "python",
     "metadata": {},
     "outputs": [
      {
       "metadata": {},
       "output_type": "pyout",
       "prompt_number": 3,
       "text": [
        "<matplotlib.text.Text at 0x7f581f21f550>"
       ]
      },
      {
       "metadata": {},
       "output_type": "display_data",
       "png": "iVBORw0KGgoAAAANSUhEUgAAAYEAAAEUCAYAAADN8orUAAAABHNCSVQICAgIfAhkiAAAAAlwSFlz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\nIiIiIgP4P1/PjVFlw2XWAAAAAElFTkSuQmCC\n",
       "text": [
        "<matplotlib.figure.Figure at 0x7f58203db690>"
       ]
      }
     ],
     "prompt_number": 3
    },
    {
     "cell_type": "markdown",
     "metadata": {},
     "source": [
      "Here is the simulation.  We fit them marginal regression using groups of size 2, although we know that the data are simulated independently."
     ]
    },
    {
     "cell_type": "code",
     "collapsed": false,
     "input": [
      "n = 500 # The sample size\n",
      "nrep = 20\n",
      "\n",
      "rslt = []\n",
      "for scale in 1,2,3,4:\n",
      "    params_est = []\n",
      "    scale_est = []\n",
      "    for rp in range(nrep):\n",
      "        endog, exog, _ = simdata_qpoisson(n, scale)\n",
      "        fam = sm.families.Poisson()\n",
      "        ind = sm.cov_struct.Independence()\n",
      "        groups = np.kron(np.arange(n/2), np.r_[1, 1])\n",
      "        mod1 = sm.GEE(endog, exog, groups=groups, cov_struct=ind, family=fam)\n",
      "        rslt1 = mod1.fit()\n",
      "        params_est.append(rslt1.params)\n",
      "        scale_est.append(rslt1.scale)\n",
      "    params_est = np.asarray(params_est)\n",
      "    rslt.append([scale, np.mean(scale_est), np.std(scale_est), params_est.mean(0), params_est.std(0)])"
     ],
     "language": "python",
     "metadata": {},
     "outputs": [],
     "prompt_number": 4
    },
    {
     "cell_type": "markdown",
     "metadata": {},
     "source": [
      "Now we convert the lists of lists to a Pandas data frame, which allows us to make a nicely formatted table.  For each setting in the simulation study, we display the true scale parameter, along with the mean and standard deviation of the estimated scale parameters. For moderate sample sizes, we see that the bias in the estimated scale parameter is slightly negative, and the uncertainty in the estimated scale parameter is quite high."
     ]
    },
    {
     "cell_type": "markdown",
     "metadata": {},
     "source": [
      "Here is what we get for the scale estimates:"
     ]
    },
    {
     "cell_type": "code",
     "collapsed": false,
     "input": [
      "df = [x[0:3] for x in rslt]\n",
      "df = pd.DataFrame(df, columns=[\"True scale\", \"Mean estimated scale\", \"Standard error\"])\n",
      "print df"
     ],
     "language": "python",
     "metadata": {},
     "outputs": [
      {
       "output_type": "stream",
       "stream": "stdout",
       "text": [
        "   True scale  Mean estimated scale  Standard error\n",
        "0           1              0.986109        0.078713\n",
        "1           2              1.898801        0.253234\n",
        "2           3              3.005000        0.465713\n",
        "3           4              3.943440        0.649029\n"
       ]
      }
     ],
     "prompt_number": 5
    },
    {
     "cell_type": "markdown",
     "metadata": {},
     "source": [
      "Here is what we get for the parameter estimates, which should be 0, 0.3, -0.3, 0.3:"
     ]
    },
    {
     "cell_type": "code",
     "collapsed": false,
     "input": [
      "df = [x[3] for x in rslt]\n",
      "df = pd.DataFrame(df, columns=[\"Params%d\" % k for k in range(1, 4)])\n",
      "df[\"True scale\"] = [1, 2, 3, 4]\n",
      "print df"
     ],
     "language": "python",
     "metadata": {},
     "outputs": [
      {
       "output_type": "stream",
       "stream": "stdout",
       "text": [
        "    Params1   Params2   Params3  True scale\n",
        "0  0.282129 -0.306494  0.307466           1\n",
        "1  0.303764 -0.296812  0.286591           2\n",
        "2  0.307309 -0.309480  0.307750           3\n",
        "3  0.293419 -0.297983  0.290763           4\n"
       ]
      }
     ],
     "prompt_number": 6
    },
    {
     "cell_type": "markdown",
     "metadata": {},
     "source": [
      "Here are the standard deviations of the parameter estimates:"
     ]
    },
    {
     "cell_type": "code",
     "collapsed": false,
     "input": [
      "df = [x[4] for x in rslt]\n",
      "df = pd.DataFrame(df, columns=[\"Params%d\" % k for k in range(1, 4)])\n",
      "df[\"True scale\"] = [1, 2, 3, 4]\n",
      "print df"
     ],
     "language": "python",
     "metadata": {},
     "outputs": [
      {
       "output_type": "stream",
       "stream": "stdout",
       "text": [
        "    Params1   Params2   Params3  True scale\n",
        "0  0.038929  0.046856  0.035198           1\n",
        "1  0.046287  0.036544  0.037742           2\n",
        "2  0.060722  0.077816  0.055488           3\n",
        "3  0.055069  0.073605  0.102340           4\n"
       ]
      }
     ],
     "prompt_number": 7
    },
    {
     "cell_type": "markdown",
     "metadata": {},
     "source": [
      "### Negative binomial regression models"
     ]
    },
    {
     "cell_type": "markdown",
     "metadata": {},
     "source": [
      "Next we carry out a similar analysis using negative binomial GLM/GEE models.  The function defined in the following cell simulates data matching the model of a negative binomial GLM, with the canonical log link function."
     ]
    },
    {
     "cell_type": "code",
     "collapsed": false,
     "input": [
      "def simdata_nbinom(n, alpha):\n",
      "    exog = np.random.normal(size=(n,3))\n",
      "    params = (-1)**np.arange(3) * 0.3\n",
      "    lin_pred = np.dot(exog, params)\n",
      "    u = np.exp(-lin_pred) / alpha\n",
      "    p = u / (1 + u)\n",
      "    endog = nbinom.rvs(1 / alpha, p, size=n)\n",
      "    return endog, exog"
     ],
     "language": "python",
     "metadata": {},
     "outputs": [],
     "prompt_number": 8
    },
    {
     "cell_type": "markdown",
     "metadata": {},
     "source": [
      "Next we simulate data from this model and fit it using a negative binomial GLM.  Data are simulated for several values of alpha, and for each simulated value of alpha we fit a sequence of negative binomial GLM's, using different values for the alpha parameter.  We then plot the log likelihood from the MLE against the value of alpha that is set when fitting the model.  Note that this procedure is possible in a GLM since there is a likelihood, but not in a GEE analysis which has no likelihood.  There is an AIC and a quasi-likelihood for GEE analysis, but these are not currently available in Statsmodels.\n",
      "\n",
      "We see that at least when the sample size is large, the MLE of the shape parameter (`alpha`) is reasonably close to the truth."
     ]
    },
    {
     "cell_type": "code",
     "collapsed": false,
     "input": [
      "n = 1000\n",
      "plt.clf()\n",
      "ax = plt.axes()\n",
      "\n",
      "for alpha in 1.,2.,3.:\n",
      "    \n",
      "    endog, exog = simdata_nbinom(n, alpha)\n",
      "\n",
      "    loglike = []\n",
      "    for a in np.linspace(1.0, 5, 20):\n",
      "        fam = sm.families.NegativeBinomial(alpha=a)\n",
      "        model = sm.GLM(endog, exog, family=fam)\n",
      "        result = model.fit()\n",
      "        loglike.append([a, result.llf])\n",
      "        \n",
      "    loglike = np.asarray(loglike)\n",
      "    plt.plot(loglike[:,0], loglike[:,1] - loglike[:, 1].max(), label=str(alpha))\n",
      "\n",
      "ha, lb = ax.get_legend_handles_labels()\n",
      "leg = plt.figlegend(ha, lb, \"upper center\", ncol=3)\n",
      "leg.draw_frame(False)\n",
      "plt.xlabel(\"alpha\", size=17)\n",
      "plt.ylabel(\"log likelihood\", size=17)\n",
      "plt.ylim(-20, 0)"
     ],
     "language": "python",
     "metadata": {},
     "outputs": [
      {
       "metadata": {},
       "output_type": "pyout",
       "prompt_number": 9,
       "text": [
        "(-20, 0)"
       ]
      },
      {
       "metadata": {},
       "output_type": "display_data",
       "png": "iVBORw0KGgoAAAANSUhEUgAAAZIAAAEpCAYAAAC5j6RMAAAABHNCSVQICAgIfAhkiAAAAAlwSFlz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\n",
       "text": [
        "<matplotlib.figure.Figure at 0x7f581f1a0b50>"
       ]
      }
     ],
     "prompt_number": 9
    },
    {
     "cell_type": "markdown",
     "metadata": {},
     "source": [
      "Next we perform a simulation study fitting a GEE to simulated data sets."
     ]
    },
    {
     "cell_type": "code",
     "collapsed": false,
     "input": [
      "n = 500 # The sample size\n",
      "nrep = 100\n",
      "true_alphas = [0.5, 1., 2., 4., 8.] \n",
      "\n",
      "rslt = []\n",
      "for alpha in true_alphas:\n",
      "    scale_est = []\n",
      "    params_est = []\n",
      "    for rp in range(nrep):\n",
      "        endog, exog = simdata_nbinom(n, alpha)\n",
      "        fam = sm.families.NegativeBinomial(alpha=alpha)\n",
      "        ind = sm.cov_struct.Independence()\n",
      "        groups = np.kron(np.arange(n/2), np.r_[1, 1])\n",
      "        model = sm.GEE(endog, exog, groups=groups, cov_struct=ind, family=fam)\n",
      "        result = model.fit()\n",
      "        scale_est.append(result.scale)\n",
      "        params_est.append(result.params)\n",
      "    params_est = np.asarray(params_est)\n",
      "    rslt.append([np.mean(scale_est), np.std(scale_est), params_est.mean(0), params_est.std(0)])"
     ],
     "language": "python",
     "metadata": {},
     "outputs": [
      {
       "output_type": "stream",
       "stream": "stderr",
       "text": [
        "/projects/3c16f532-d309-4425-850f-a41a8c8f8c92/statsmodels-master/statsmodels/genmod/generalized_estimating_equations.py:1010: IterationLimitWarning: Iteration limit reached prior to convergence\n",
        "  IterationLimitWarning)\n"
       ]
      }
     ],
     "prompt_number": 10
    },
    {
     "cell_type": "markdown",
     "metadata": {},
     "source": [
      "The scale parameters should all equal 1."
     ]
    },
    {
     "cell_type": "code",
     "collapsed": false,
     "input": [
      "df = [x[0:2] for x in rslt]\n",
      "df = pd.DataFrame(df, columns=[\"Mean estimated scale\", \"Standard error\"])\n",
      "print df"
     ],
     "language": "python",
     "metadata": {},
     "outputs": [
      {
       "output_type": "stream",
       "stream": "stdout",
       "text": [
        "   Mean estimated scale  Standard error\n",
        "0              0.987027        0.104587\n",
        "1              0.979143        0.143386\n",
        "2              0.991896        0.158683\n",
        "3              0.966593        0.202967\n",
        "4              0.887862        0.267265\n"
       ]
      }
     ],
     "prompt_number": 11
    },
    {
     "cell_type": "markdown",
     "metadata": {},
     "source": [
      "The parameter estimates should equal 0.3, -0.3, 0.3."
     ]
    },
    {
     "cell_type": "code",
     "collapsed": false,
     "input": [
      "df = [x[2] for x in rslt]\n",
      "df = pd.DataFrame(df, columns=[\"Slope1\", \"Slope2\", \"Slope3\"])\n",
      "df[\"True alpha\"] = true_alphas\n",
      "print df"
     ],
     "language": "python",
     "metadata": {},
     "outputs": [
      {
       "output_type": "stream",
       "stream": "stdout",
       "text": [
        "     Slope1    Slope2    Slope3  True alpha\n",
        "0  0.292653 -0.311477  0.294707         0.5\n",
        "1  0.300464 -0.298377  0.305033         1.0\n",
        "2  0.287237 -0.282707  0.302635         2.0\n",
        "3  0.297589 -0.301080  0.297237         4.0\n",
        "4  0.309510 -0.301496  0.287678         8.0\n"
       ]
      }
     ],
     "prompt_number": 12
    }
   ],
   "metadata": {}
  }
 ]
}
=======
 "cells": [
  {
   "cell_type": "markdown",
   "metadata": {
    "application/vnd.databricks.v1+cell": {
     "cellMetadata": {},
     "inputWidgets": {},
     "nuid": "6634ee5b-3ca7-4e80-b08d-b2134c54dc1e",
     "showTitle": false,
     "title": ""
    }
   },
   "source": [
    "Generalized Estimating Equations for count data\n",
    "===============================================\n",
    "\n",
    "*Key ideas:* Poisson regression, negative binomial regression, overdispersion, simulation studies, Stata comparisons, R comparisons"
   ]
  },
  {
   "cell_type": "markdown",
   "metadata": {
    "application/vnd.databricks.v1+cell": {
     "cellMetadata": {},
     "inputWidgets": {},
     "nuid": "f36e1729-2812-437a-9315-f06881d73b85",
     "showTitle": false,
     "title": ""
    }
   },
   "source": [
    "Two GLM families are commonly used with count data - the Poisson family and the negative binomial family.  \n",
    "\n",
    "In a Poisson distribution, the mean is equal to the variance.  However in practice data often exhibit \"overdispersion\", meaning that the variance is greater than the mean.  When a Poisson regression model is fit using the GLM or GEE framework, a specific deviation from a strict equality between the mean and the variance is allowed to occur.  Specifically, the mean and variance are modeled as being proportional, but with a proportionality constant that can be any number that is greater than or equal to 1 (in a Poisson distribution, this proportionality constant is always equal to 1).\n",
    "\n",
    "The negative binomial distribution has an additional shape parameter in the distribution.  If the value of this parameter is `a`, then the variance at a given mean value `m` is `m + a*m^2`.  Thus when `a = 0`, the mean/variance relationship is the same as in the Poisson model, and larger values of `a` correspond to greater overdispersion.  This parameter must be set explicitly before fitting the model (below we illustrate how to compare the fits under different values of this parameter)."
   ]
  },
  {
   "cell_type": "code",
   "execution_count": 0,
   "metadata": {
    "application/vnd.databricks.v1+cell": {
     "cellMetadata": {},
     "inputWidgets": {},
     "nuid": "f8c56e87-3544-4383-89da-c5913565f08b",
     "showTitle": false,
     "title": ""
    }
   },
   "outputs": [],
   "source": [
    "from scipy.stats.distributions import nbinom\n",
    "import numpy as np\n",
    "import pandas as pd\n",
    "import statsmodels.api as sm"
   ]
  },
  {
   "cell_type": "markdown",
   "metadata": {
    "application/vnd.databricks.v1+cell": {
     "cellMetadata": {},
     "inputWidgets": {},
     "nuid": "a168c3d7-39cb-4afd-99e1-a03baf4be2af",
     "showTitle": false,
     "title": ""
    }
   },
   "source": [
    "### Poisson regression\n",
    "\n",
    "First we simulate data with a marginal mean structure that is the same as in the basic Poisson GLM (an exponential link function applied to the linear predictor), and with a variance that is a constant multiple (equal to `scale`) times the mean.  The observations in the data set are independent of each other.  Here we will fit the model using GEE with independent covariance structure, so the estimates will be the same as obtained using GLM.  The conditional mean of `endog` is `exp(beta' * exog)`, and the conditional variance of `endog` is `scale` times the conditional mean. Note that the data are not actually Poisson distributed (they are drawn from a negative binomial distribution), so the GLM/GEE Poisson model is mis-specified, although it is a reasonable approximation to the true distribution of the data."
   ]
  },
  {
   "cell_type": "code",
   "execution_count": 0,
   "metadata": {
    "application/vnd.databricks.v1+cell": {
     "cellMetadata": {},
     "inputWidgets": {},
     "nuid": "ba2f10a7-7c66-4022-974c-64d8540e1b4a",
     "showTitle": false,
     "title": ""
    }
   },
   "outputs": [],
   "source": [
    "def simdata_qpoisson(n, scale):\n",
    "    exog = np.random.normal(size=(n, 3))\n",
    "    params = (-1)**np.arange(3) * 0.3\n",
    "    lin_pred = np.dot(exog, params)\n",
    "    expval = np.exp(lin_pred) # Mean structure\n",
    "    if scale == 1:\n",
    "        endog = np.random.poisson(expval, size=len(expval))\n",
    "    else:\n",
    "        b = 1 / float(scale)\n",
    "        a = expval * b / (1 - b)\n",
    "        endog = nbinom.rvs(a, b, size=n)\n",
    "    return endog, exog, expval"
   ]
  },
  {
   "cell_type": "markdown",
   "metadata": {
    "application/vnd.databricks.v1+cell": {
     "cellMetadata": {},
     "inputWidgets": {},
     "nuid": "042fe7bf-f2a1-43a1-8969-4d2be652bede",
     "showTitle": false,
     "title": ""
    }
   },
   "source": [
    "The following plot illustrates the mean/variance relatinship.  The purple points show empirical means and variances when the scale parameter is 2, and the orang points show empirical means and variances when the scale parameter is 1."
   ]
  },
  {
   "cell_type": "code",
   "execution_count": 0,
   "metadata": {
    "application/vnd.databricks.v1+cell": {
     "cellMetadata": {},
     "inputWidgets": {},
     "nuid": "81837329-00dc-4504-a9cb-0ccb37f8fb40",
     "showTitle": false,
     "title": ""
    }
   },
   "outputs": [],
   "source": [
    "plt.clf()\n",
    "for scale in 1, 2:\n",
    "    \n",
    "    endog, exog, expval = simdata_qpoisson(20000, scale)\n",
    "\n",
    "    bins = np.arange(10, 91, 10).tolist()\n",
    "    pctls = np.percentile(expval, bins)\n",
    "    di = np.digitize(expval, pctls)\n",
    "    split = []\n",
    "    for d in np.unique(di):\n",
    "        split.append(endog[di == d])\n",
    "    mean = [np.mean(x) for x in split]\n",
    "    var = [np.var(x) for x in split]\n",
    "    color = {1: \"orange\", 2: \"purple\"}[scale]\n",
    "    plt.plot(mean, var, 'o', alpha=0.6, color=color)\n",
    "    plt.plot([0, 3], [0, scale*3], '-', color=color)\n",
    "plt.grid(True)\n",
    "plt.xlabel(\"Mean\", size=15)\n",
    "plt.ylabel(\"Variance\", size=15)"
   ]
  },
  {
   "cell_type": "markdown",
   "metadata": {
    "application/vnd.databricks.v1+cell": {
     "cellMetadata": {},
     "inputWidgets": {},
     "nuid": "83d3e8a4-aee2-4366-a6e8-ef233d506e97",
     "showTitle": false,
     "title": ""
    }
   },
   "source": [
    "Here is the simulation.  We fit them marginal regression using groups of size 2, although we know that the data are simulated independently."
   ]
  },
  {
   "cell_type": "code",
   "execution_count": 0,
   "metadata": {
    "application/vnd.databricks.v1+cell": {
     "cellMetadata": {},
     "inputWidgets": {},
     "nuid": "b1a8404e-a658-44fc-9fbe-ab9a462c0a5f",
     "showTitle": false,
     "title": ""
    }
   },
   "outputs": [],
   "source": [
    "n = 500 # The sample size\n",
    "nrep = 20\n",
    "\n",
    "rslt = []\n",
    "for scale in 1,2,3,4:\n",
    "    params_est = []\n",
    "    scale_est = []\n",
    "    for rp in range(nrep):\n",
    "        endog, exog, _ = simdata_qpoisson(n, scale)\n",
    "        fam = sm.families.Poisson()\n",
    "        ind = sm.cov_struct.Independence()\n",
    "        groups = np.kron(np.arange(n/2), np.r_[1, 1])\n",
    "        mod1 = sm.GEE(endog, exog, groups=groups, cov_struct=ind, family=fam)\n",
    "        rslt1 = mod1.fit()\n",
    "        params_est.append(rslt1.params)\n",
    "        scale_est.append(rslt1.scale)\n",
    "    params_est = np.asarray(params_est)\n",
    "    rslt.append([scale, np.mean(scale_est), np.std(scale_est), params_est.mean(0), params_est.std(0)])"
   ]
  },
  {
   "cell_type": "markdown",
   "metadata": {
    "application/vnd.databricks.v1+cell": {
     "cellMetadata": {},
     "inputWidgets": {},
     "nuid": "ee5a8f98-99ec-45dc-87fa-32bba3ae8c3d",
     "showTitle": false,
     "title": ""
    }
   },
   "source": [
    "Now we convert the lists of lists to a Pandas data frame, which allows us to make a nicely formatted table.  For each setting in the simulation study, we display the true scale parameter, along with the mean and standard deviation of the estimated scale parameters. For moderate sample sizes, we see that the bias in the estimated scale parameter is slightly negative, and the uncertainty in the estimated scale parameter is quite high."
   ]
  },
  {
   "cell_type": "markdown",
   "metadata": {
    "application/vnd.databricks.v1+cell": {
     "cellMetadata": {},
     "inputWidgets": {},
     "nuid": "17000ad1-b5a5-42c1-bbe1-a4291a103001",
     "showTitle": false,
     "title": ""
    }
   },
   "source": [
    "Here is what we get for the scale estimates:"
   ]
  },
  {
   "cell_type": "code",
   "execution_count": 0,
   "metadata": {
    "application/vnd.databricks.v1+cell": {
     "cellMetadata": {},
     "inputWidgets": {},
     "nuid": "8100dca3-782f-4dcd-b816-8b4b02283146",
     "showTitle": false,
     "title": ""
    }
   },
   "outputs": [],
   "source": [
    "df = [x[0:3] for x in rslt]\n",
    "df = pd.DataFrame(df, columns=[\"True scale\", \"Mean estimated scale\", \"Standard error\"])\n",
    "print df"
   ]
  },
  {
   "cell_type": "markdown",
   "metadata": {
    "application/vnd.databricks.v1+cell": {
     "cellMetadata": {},
     "inputWidgets": {},
     "nuid": "71d7dbad-eec8-467f-b782-4f1486b05532",
     "showTitle": false,
     "title": ""
    }
   },
   "source": [
    "Here is what we get for the parameter estimates, which should be 0, 0.3, -0.3, 0.3:"
   ]
  },
  {
   "cell_type": "code",
   "execution_count": 0,
   "metadata": {
    "application/vnd.databricks.v1+cell": {
     "cellMetadata": {},
     "inputWidgets": {},
     "nuid": "82471b52-a0ff-45e3-a207-8bff71acd570",
     "showTitle": false,
     "title": ""
    }
   },
   "outputs": [],
   "source": [
    "df = [x[3] for x in rslt]\n",
    "df = pd.DataFrame(df, columns=[\"Params%d\" % k for k in range(1, 4)])\n",
    "df[\"True scale\"] = [1, 2, 3, 4]\n",
    "print df"
   ]
  },
  {
   "cell_type": "markdown",
   "metadata": {
    "application/vnd.databricks.v1+cell": {
     "cellMetadata": {},
     "inputWidgets": {},
     "nuid": "9b01bc4d-8f36-4ea2-8a58-b0e5d66744db",
     "showTitle": false,
     "title": ""
    }
   },
   "source": [
    "Here are the standard deviations of the parameter estimates:"
   ]
  },
  {
   "cell_type": "code",
   "execution_count": 0,
   "metadata": {
    "application/vnd.databricks.v1+cell": {
     "cellMetadata": {},
     "inputWidgets": {},
     "nuid": "4d2205d9-7ea2-4df5-89ab-4b3c4e2db979",
     "showTitle": false,
     "title": ""
    }
   },
   "outputs": [],
   "source": [
    "df = [x[4] for x in rslt]\n",
    "df = pd.DataFrame(df, columns=[\"Params%d\" % k for k in range(1, 4)])\n",
    "df[\"True scale\"] = [1, 2, 3, 4]\n",
    "print df"
   ]
  },
  {
   "cell_type": "markdown",
   "metadata": {
    "application/vnd.databricks.v1+cell": {
     "cellMetadata": {},
     "inputWidgets": {},
     "nuid": "747db31e-c124-4fca-ad94-4f4f31965a21",
     "showTitle": false,
     "title": ""
    }
   },
   "source": [
    "### Negative binomial regression models"
   ]
  },
  {
   "cell_type": "markdown",
   "metadata": {
    "application/vnd.databricks.v1+cell": {
     "cellMetadata": {},
     "inputWidgets": {},
     "nuid": "445e3f1d-1130-4042-b683-3065b70423ec",
     "showTitle": false,
     "title": ""
    }
   },
   "source": [
    "Next we carry out a similar analysis using negative binomial GLM/GEE models.  The function defined in the following cell simulates data matching the model of a negative binomial GLM, with the canonical log link function."
   ]
  },
  {
   "cell_type": "code",
   "execution_count": 0,
   "metadata": {
    "application/vnd.databricks.v1+cell": {
     "cellMetadata": {},
     "inputWidgets": {},
     "nuid": "1f5ceb09-44d7-4fc5-83e8-7239c63d37ae",
     "showTitle": false,
     "title": ""
    }
   },
   "outputs": [],
   "source": [
    "def simdata_nbinom(n, alpha):\n",
    "    exog = np.random.normal(size=(n,3))\n",
    "    params = (-1)**np.arange(3) * 0.3\n",
    "    lin_pred = np.dot(exog, params)\n",
    "    u = np.exp(-lin_pred) / alpha\n",
    "    p = u / (1 + u)\n",
    "    endog = nbinom.rvs(1 / alpha, p, size=n)\n",
    "    return endog, exog"
   ]
  },
  {
   "cell_type": "markdown",
   "metadata": {
    "application/vnd.databricks.v1+cell": {
     "cellMetadata": {},
     "inputWidgets": {},
     "nuid": "39b13e54-2fa3-4b1d-a537-a84116fd73fd",
     "showTitle": false,
     "title": ""
    }
   },
   "source": [
    "Next we simulate data from this model and fit it using a negative binomial GLM.  Data are simulated for several values of alpha, and for each simulated value of alpha we fit a sequence of negative binomial GLM's, using different values for the alpha parameter.  We then plot the log likelihood from the MLE against the value of alpha that is set when fitting the model.  Note that this procedure is possible in a GLM since there is a likelihood, but not in a GEE analysis which has no likelihood.  There is an AIC and a quasi-likelihood for GEE analysis, but these are not currently available in Statsmodels.\n",
    "\n",
    "We see that at least when the sample size is large, the MLE of the shape parameter (`alpha`) is reasonably close to the truth."
   ]
  },
  {
   "cell_type": "code",
   "execution_count": 0,
   "metadata": {
    "application/vnd.databricks.v1+cell": {
     "cellMetadata": {},
     "inputWidgets": {},
     "nuid": "a11e2e5c-f663-4444-b2ee-ddccc16376ec",
     "showTitle": false,
     "title": ""
    }
   },
   "outputs": [],
   "source": [
    "n = 1000\n",
    "plt.clf()\n",
    "ax = plt.axes()\n",
    "\n",
    "for alpha in 1.,2.,3.:\n",
    "    \n",
    "    endog, exog = simdata_nbinom(n, alpha)\n",
    "\n",
    "    loglike = []\n",
    "    for a in np.linspace(1.0, 5, 20):\n",
    "        fam = sm.families.NegativeBinomial(alpha=a)\n",
    "        model = sm.GLM(endog, exog, family=fam)\n",
    "        result = model.fit()\n",
    "        loglike.append([a, result.llf])\n",
    "        \n",
    "    loglike = np.asarray(loglike)\n",
    "    plt.plot(loglike[:,0], loglike[:,1] - loglike[:, 1].max(), label=str(alpha))\n",
    "\n",
    "ha, lb = ax.get_legend_handles_labels()\n",
    "leg = plt.figlegend(ha, lb, \"upper center\", ncol=3)\n",
    "leg.draw_frame(False)\n",
    "plt.xlabel(\"alpha\", size=17)\n",
    "plt.ylabel(\"log likelihood\", size=17)\n",
    "plt.ylim(-20, 0)"
   ]
  },
  {
   "cell_type": "markdown",
   "metadata": {
    "application/vnd.databricks.v1+cell": {
     "cellMetadata": {},
     "inputWidgets": {},
     "nuid": "7740f2da-736c-4d3c-bc4b-1a9fb2f9578b",
     "showTitle": false,
     "title": ""
    }
   },
   "source": [
    "Next we perform a simulation study fitting a GEE to simulated data sets."
   ]
  },
  {
   "cell_type": "code",
   "execution_count": 0,
   "metadata": {
    "application/vnd.databricks.v1+cell": {
     "cellMetadata": {},
     "inputWidgets": {},
     "nuid": "480f6b1b-380e-4ef0-82b1-273f8f52e178",
     "showTitle": false,
     "title": ""
    }
   },
   "outputs": [],
   "source": [
    "n = 500 # The sample size\n",
    "nrep = 100\n",
    "true_alphas = [0.5, 1., 2., 4., 8.] \n",
    "\n",
    "rslt = []\n",
    "for alpha in true_alphas:\n",
    "    scale_est = []\n",
    "    params_est = []\n",
    "    for rp in range(nrep):\n",
    "        endog, exog = simdata_nbinom(n, alpha)\n",
    "        fam = sm.families.NegativeBinomial(alpha=alpha)\n",
    "        ind = sm.cov_struct.Independence()\n",
    "        groups = np.kron(np.arange(n/2), np.r_[1, 1])\n",
    "        model = sm.GEE(endog, exog, groups=groups, cov_struct=ind, family=fam)\n",
    "        result = model.fit()\n",
    "        scale_est.append(result.scale)\n",
    "        params_est.append(result.params)\n",
    "    params_est = np.asarray(params_est)\n",
    "    rslt.append([np.mean(scale_est), np.std(scale_est), params_est.mean(0), params_est.std(0)])"
   ]
  },
  {
   "cell_type": "markdown",
   "metadata": {
    "application/vnd.databricks.v1+cell": {
     "cellMetadata": {},
     "inputWidgets": {},
     "nuid": "7f3505e3-7884-4fe0-8e7f-060a03d93065",
     "showTitle": false,
     "title": ""
    }
   },
   "source": [
    "The scale parameters should all equal 1."
   ]
  },
  {
   "cell_type": "code",
   "execution_count": 0,
   "metadata": {
    "application/vnd.databricks.v1+cell": {
     "cellMetadata": {},
     "inputWidgets": {},
     "nuid": "52b6f66d-7701-44eb-9279-9e0726895636",
     "showTitle": false,
     "title": ""
    }
   },
   "outputs": [],
   "source": [
    "df = [x[0:2] for x in rslt]\n",
    "df = pd.DataFrame(df, columns=[\"Mean estimated scale\", \"Standard error\"])\n",
    "print df"
   ]
  },
  {
   "cell_type": "markdown",
   "metadata": {
    "application/vnd.databricks.v1+cell": {
     "cellMetadata": {},
     "inputWidgets": {},
     "nuid": "e47c10f9-77ed-4178-9e20-dfface0d7531",
     "showTitle": false,
     "title": ""
    }
   },
   "source": [
    "The parameter estimates should equal 0.3, -0.3, 0.3."
   ]
  },
  {
   "cell_type": "code",
   "execution_count": 0,
   "metadata": {
    "application/vnd.databricks.v1+cell": {
     "cellMetadata": {},
     "inputWidgets": {},
     "nuid": "73518790-864d-4476-a1ba-45c18d213c9c",
     "showTitle": false,
     "title": ""
    }
   },
   "outputs": [],
   "source": [
    "df = [x[2] for x in rslt]\n",
    "df = pd.DataFrame(df, columns=[\"Slope1\", \"Slope2\", \"Slope3\"])\n",
    "df[\"True alpha\"] = true_alphas\n",
    "print df"
   ]
  }
 ],
 "metadata": {
  "application/vnd.databricks.v1+notebook": {
   "dashboards": [],
   "language": "python",
   "notebookMetadata": {},
   "notebookName": "GEE_poisson_overdispersion",
   "widgets": {}
  },
  "name": "",
  "signature": "sha256:4b826b9f3836ee61dc96db894f8c7ce24ed509600ab84057353f60c5ec2572f0"
 },
 "nbformat": 4,
 "nbformat_minor": 0
}
>>>>>>> Stashed changes
