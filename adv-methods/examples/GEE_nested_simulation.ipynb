{
<<<<<<< Updated upstream
 "metadata": {
  "name": "",
  "signature": "sha256:aa96bda2bcf86e510928801a0482fbc5ec7445d71852b5f26d6687fff3c2c028"
 },
 "nbformat": 3,
 "nbformat_minor": 0,
 "worksheets": [
  {
   "cells": [
    {
     "cell_type": "markdown",
     "metadata": {},
     "source": [
      "Marginal regression with nested dependence using GEE\n",
      "====================================================\n",
      "\n",
      "*Key ideas:* GEE, nested dependence, simulation studies"
     ]
    },
    {
     "cell_type": "markdown",
     "metadata": {},
     "source": [
      "This notebook is a simulation study to assess how well the dependence parameters are estimated in a GEE analysis of nested data."
     ]
    },
    {
     "cell_type": "code",
     "collapsed": false,
     "input": [
      "import numpy as np\n",
      "import pandas as pd\n",
      "import statsmodels.api as sm"
     ],
     "language": "python",
     "metadata": {},
     "outputs": [],
     "prompt_number": 1
    },
    {
     "cell_type": "markdown",
     "metadata": {},
     "source": [
      "These are parameters that determine the sample sizes and the population values of the variance parameters."
     ]
    },
    {
     "cell_type": "code",
     "collapsed": false,
     "input": [
      "# Standard_deviation of errors that are independent among individuals\n",
      "obs_sd = 3\n",
      "\n",
      "# The standard deviation of errors that are shared within subgroups\n",
      "subgroup_sd = 2\n",
      "\n",
      "# The standard deviation of errors that are shared within (top-level) groups\n",
      "group_sd = 1\n",
      "\n",
      "# The number of groups\n",
      "n_group = 100\n",
      "\n",
      "# The number of subgroups in each group\n",
      "n_subgroup = 4\n",
      "\n",
      "# The number of observations in each subgroup\n",
      "n_obs = 5"
     ],
     "language": "python",
     "metadata": {},
     "outputs": [],
     "prompt_number": 2
    },
    {
     "cell_type": "markdown",
     "metadata": {},
     "source": [
      "Next we have a function to simulate data."
     ]
    },
    {
     "cell_type": "code",
     "collapsed": false,
     "input": [
      "def generate_data():\n",
      "    \n",
      "    # exog data is iid standard normal\n",
      "    exog = [np.random.normal(size=(n_obs, 2)) for i in range(n_group * n_subgroup)]\n",
      "    \n",
      "    # Storage\n",
      "    endog = []\n",
      "    groups = []\n",
      "    nests = []\n",
      "    \n",
      "    # Generate the endog values\n",
      "    ii = 0\n",
      "    for i in range(n_group):\n",
      "        \n",
      "        # Group effect, shared by all observations within a group\n",
      "        group_e = group_sd * np.random.normal()\n",
      "        \n",
      "        for j in range(n_subgroup):\n",
      "            \n",
      "            # Subgroup effect, shared by all observations within a subgroup\n",
      "            subgroup_e = subgroup_sd * np.random.normal()\n",
      "            \n",
      "            # All regression slopes are equal to 1.\n",
      "            expval = exog[ii].sum(1)\n",
      "            \n",
      "            # The total random error for one observation\n",
      "            obs_e = obs_sd * np.random.normal(size=n_obs)\n",
      "            \n",
      "            # The endog value for one observation\n",
      "            y = expval + group_e + subgroup_e + obs_e\n",
      "            \n",
      "            endog.append(y)\n",
      "            groups.append(i*np.ones(n_obs))\n",
      "            nests.append(j*np.ones(n_obs))\n",
      "            ii += 1\n",
      "            \n",
      "    exog = np.concatenate(exog)\n",
      "    endog = np.concatenate(endog)\n",
      "    groups = np.concatenate(groups)\n",
      "    nests = np.concatenate(nests)\n",
      "\n",
      "    return endog, exog, groups, nests"
     ],
     "language": "python",
     "metadata": {},
     "outputs": [],
     "prompt_number": 3
    },
    {
     "cell_type": "markdown",
     "metadata": {},
     "source": [
      "Next we simulate several datasets and use GEE to estimate the regression and dependence parameters in each data set."
     ]
    },
    {
     "cell_type": "code",
     "collapsed": false,
     "input": [
      "nrep = 100\n",
      "\n",
      "params = []\n",
      "dep_params = []\n",
      "scales = []\n",
      "for rp in range(nrep):\n",
      "        \n",
      "    endog, exog, groups, nests = generate_data()\n",
      "\n",
      "    family = sm.families.Gaussian()\n",
      "    ne = sm.cov_struct.Nested()\n",
      "\n",
      "    mod1 = sm.GEE(endog, exog, groups=groups, family=family, cov_struct=ne, dep_data=nests)\n",
      "    rslt1 = mod1.fit()\n",
      "    params.append(rslt1.params)\n",
      "    dep_params.append(ne.dep_params)\n",
      "    scales.append(rslt1.scale)\n",
      "\n",
      "params = np.asarray(params)\n",
      "dep_params = np.asarray(dep_params)\n",
      "scales = np.asarray(scales)"
     ],
     "language": "python",
     "metadata": {},
     "outputs": [],
     "prompt_number": 4
    },
    {
     "cell_type": "markdown",
     "metadata": {},
     "source": [
      "The regression coefficients should equal (1,1), as hard-coded above."
     ]
    },
    {
     "cell_type": "code",
     "collapsed": false,
     "input": [
      "print params.mean(0) # should return [1, 1] approximately"
     ],
     "language": "python",
     "metadata": {},
     "outputs": [
      {
       "output_type": "stream",
       "stream": "stdout",
       "text": [
        "[ 1.00835738  0.99717758]\n"
       ]
      }
     ],
     "prompt_number": 5
    },
    {
     "cell_type": "markdown",
     "metadata": {},
     "source": [
      "The dependence parameters should equal group_sd^2 and subgroup^sd^2"
     ]
    },
    {
     "cell_type": "code",
     "collapsed": false,
     "input": [
      "# These two should be approximately equal\n",
      "print dep_params.mean(0)\n",
      "print [group_sd**2, subgroup_sd**2]"
     ],
     "language": "python",
     "metadata": {},
     "outputs": [
      {
       "output_type": "stream",
       "stream": "stdout",
       "text": [
        "[ 1.02916337  4.0213762 ]\n",
        "[1, 4]\n"
       ]
      }
     ],
     "prompt_number": 6
    },
    {
     "cell_type": "markdown",
     "metadata": {},
     "source": [
      "The error variance is the scale parameter minus the sum of all other variance components."
     ]
    },
    {
     "cell_type": "code",
     "collapsed": false,
     "input": [
      "# These two should be approximately equal\n",
      "print scales.mean() - dep_params.mean(0).sum()\n",
      "print obs_sd**2"
     ],
     "language": "python",
     "metadata": {},
     "outputs": [
      {
       "output_type": "stream",
       "stream": "stdout",
       "text": [
        "8.98561856896\n",
        "9\n"
       ]
      }
     ],
     "prompt_number": 7
    }
   ],
   "metadata": {}
  }
 ]
}
=======
 "cells": [
  {
   "cell_type": "markdown",
   "metadata": {
    "application/vnd.databricks.v1+cell": {
     "cellMetadata": {},
     "inputWidgets": {},
     "nuid": "ca95c203-ee54-4320-9a25-d8f97dd4807a",
     "showTitle": false,
     "title": ""
    }
   },
   "source": [
    "Marginal regression with nested dependence using GEE\n",
    "====================================================\n",
    "\n",
    "*Key ideas:* GEE, nested dependence, simulation studies"
   ]
  },
  {
   "cell_type": "markdown",
   "metadata": {
    "application/vnd.databricks.v1+cell": {
     "cellMetadata": {},
     "inputWidgets": {},
     "nuid": "14e4952a-bfb4-4d41-90ce-08e35227e275",
     "showTitle": false,
     "title": ""
    }
   },
   "source": [
    "This notebook is a simulation study to assess how well the dependence parameters are estimated in a GEE analysis of nested data."
   ]
  },
  {
   "cell_type": "code",
   "execution_count": 0,
   "metadata": {
    "application/vnd.databricks.v1+cell": {
     "cellMetadata": {},
     "inputWidgets": {},
     "nuid": "88259c2a-b217-43e5-8693-30f887daaa09",
     "showTitle": false,
     "title": ""
    }
   },
   "outputs": [],
   "source": [
    "import numpy as np\n",
    "import pandas as pd\n",
    "import statsmodels.api as sm"
   ]
  },
  {
   "cell_type": "markdown",
   "metadata": {
    "application/vnd.databricks.v1+cell": {
     "cellMetadata": {},
     "inputWidgets": {},
     "nuid": "53c979af-0509-443c-8688-47242eb65454",
     "showTitle": false,
     "title": ""
    }
   },
   "source": [
    "These are parameters that determine the sample sizes and the population values of the variance parameters."
   ]
  },
  {
   "cell_type": "code",
   "execution_count": 0,
   "metadata": {
    "application/vnd.databricks.v1+cell": {
     "cellMetadata": {},
     "inputWidgets": {},
     "nuid": "e3b94876-cedc-41ef-98ef-52461df92c52",
     "showTitle": false,
     "title": ""
    }
   },
   "outputs": [],
   "source": [
    "# Standard_deviation of errors that are independent among individuals\n",
    "obs_sd = 3\n",
    "\n",
    "# The standard deviation of errors that are shared within subgroups\n",
    "subgroup_sd = 2\n",
    "\n",
    "# The standard deviation of errors that are shared within (top-level) groups\n",
    "group_sd = 1\n",
    "\n",
    "# The number of groups\n",
    "n_group = 100\n",
    "\n",
    "# The number of subgroups in each group\n",
    "n_subgroup = 4\n",
    "\n",
    "# The number of observations in each subgroup\n",
    "n_obs = 5"
   ]
  },
  {
   "cell_type": "markdown",
   "metadata": {
    "application/vnd.databricks.v1+cell": {
     "cellMetadata": {},
     "inputWidgets": {},
     "nuid": "424e6507-cd9f-4e14-9015-d63614443f25",
     "showTitle": false,
     "title": ""
    }
   },
   "source": [
    "Next we have a function to simulate data."
   ]
  },
  {
   "cell_type": "code",
   "execution_count": 0,
   "metadata": {
    "application/vnd.databricks.v1+cell": {
     "cellMetadata": {},
     "inputWidgets": {},
     "nuid": "f7b76207-fc54-4deb-8ff9-27807d4fe7d1",
     "showTitle": false,
     "title": ""
    }
   },
   "outputs": [],
   "source": [
    "def generate_data():\n",
    "    \n",
    "    # exog data is iid standard normal\n",
    "    exog = [np.random.normal(size=(n_obs, 2)) for i in range(n_group * n_subgroup)]\n",
    "    \n",
    "    # Storage\n",
    "    endog = []\n",
    "    groups = []\n",
    "    nests = []\n",
    "    \n",
    "    # Generate the endog values\n",
    "    ii = 0\n",
    "    for i in range(n_group):\n",
    "        \n",
    "        # Group effect, shared by all observations within a group\n",
    "        group_e = group_sd * np.random.normal()\n",
    "        \n",
    "        for j in range(n_subgroup):\n",
    "            \n",
    "            # Subgroup effect, shared by all observations within a subgroup\n",
    "            subgroup_e = subgroup_sd * np.random.normal()\n",
    "            \n",
    "            # All regression slopes are equal to 1.\n",
    "            expval = exog[ii].sum(1)\n",
    "            \n",
    "            # The total random error for one observation\n",
    "            obs_e = obs_sd * np.random.normal(size=n_obs)\n",
    "            \n",
    "            # The endog value for one observation\n",
    "            y = expval + group_e + subgroup_e + obs_e\n",
    "            \n",
    "            endog.append(y)\n",
    "            groups.append(i*np.ones(n_obs))\n",
    "            nests.append(j*np.ones(n_obs))\n",
    "            ii += 1\n",
    "            \n",
    "    exog = np.concatenate(exog)\n",
    "    endog = np.concatenate(endog)\n",
    "    groups = np.concatenate(groups)\n",
    "    nests = np.concatenate(nests)\n",
    "\n",
    "    return endog, exog, groups, nests"
   ]
  },
  {
   "cell_type": "markdown",
   "metadata": {
    "application/vnd.databricks.v1+cell": {
     "cellMetadata": {},
     "inputWidgets": {},
     "nuid": "81986481-8a21-4e3d-a7ac-d63374b5834e",
     "showTitle": false,
     "title": ""
    }
   },
   "source": [
    "Next we simulate several datasets and use GEE to estimate the regression and dependence parameters in each data set."
   ]
  },
  {
   "cell_type": "code",
   "execution_count": 0,
   "metadata": {
    "application/vnd.databricks.v1+cell": {
     "cellMetadata": {},
     "inputWidgets": {},
     "nuid": "822afaea-5b08-4426-b683-3ba59d21ec13",
     "showTitle": false,
     "title": ""
    }
   },
   "outputs": [],
   "source": [
    "nrep = 100\n",
    "\n",
    "params = []\n",
    "dep_params = []\n",
    "scales = []\n",
    "for rp in range(nrep):\n",
    "        \n",
    "    endog, exog, groups, nests = generate_data()\n",
    "\n",
    "    family = sm.families.Gaussian()\n",
    "    ne = sm.cov_struct.Nested()\n",
    "\n",
    "    mod1 = sm.GEE(endog, exog, groups=groups, family=family, cov_struct=ne, dep_data=nests)\n",
    "    rslt1 = mod1.fit()\n",
    "    params.append(rslt1.params)\n",
    "    dep_params.append(ne.dep_params)\n",
    "    scales.append(rslt1.scale)\n",
    "\n",
    "params = np.asarray(params)\n",
    "dep_params = np.asarray(dep_params)\n",
    "scales = np.asarray(scales)"
   ]
  },
  {
   "cell_type": "markdown",
   "metadata": {
    "application/vnd.databricks.v1+cell": {
     "cellMetadata": {},
     "inputWidgets": {},
     "nuid": "fdc89e4f-a3d8-4422-92cc-41ce8791006a",
     "showTitle": false,
     "title": ""
    }
   },
   "source": [
    "The regression coefficients should equal (1,1), as hard-coded above."
   ]
  },
  {
   "cell_type": "code",
   "execution_count": 0,
   "metadata": {
    "application/vnd.databricks.v1+cell": {
     "cellMetadata": {},
     "inputWidgets": {},
     "nuid": "1c7112b6-fdf2-4eb4-8799-b956e60b486f",
     "showTitle": false,
     "title": ""
    }
   },
   "outputs": [],
   "source": [
    "print params.mean(0) # should return [1, 1] approximately"
   ]
  },
  {
   "cell_type": "markdown",
   "metadata": {
    "application/vnd.databricks.v1+cell": {
     "cellMetadata": {},
     "inputWidgets": {},
     "nuid": "d442b7e7-6347-4260-bb36-efb8f4fea53d",
     "showTitle": false,
     "title": ""
    }
   },
   "source": [
    "The dependence parameters should equal group_sd^2 and subgroup^sd^2"
   ]
  },
  {
   "cell_type": "code",
   "execution_count": 0,
   "metadata": {
    "application/vnd.databricks.v1+cell": {
     "cellMetadata": {},
     "inputWidgets": {},
     "nuid": "592284a7-2d1a-402b-b721-7297d8c661c5",
     "showTitle": false,
     "title": ""
    }
   },
   "outputs": [],
   "source": [
    "# These two should be approximately equal\n",
    "print dep_params.mean(0)\n",
    "print [group_sd**2, subgroup_sd**2]"
   ]
  },
  {
   "cell_type": "markdown",
   "metadata": {
    "application/vnd.databricks.v1+cell": {
     "cellMetadata": {},
     "inputWidgets": {},
     "nuid": "16e14921-cac8-49c5-97be-2edd46a074fd",
     "showTitle": false,
     "title": ""
    }
   },
   "source": [
    "The error variance is the scale parameter minus the sum of all other variance components."
   ]
  },
  {
   "cell_type": "code",
   "execution_count": 0,
   "metadata": {
    "application/vnd.databricks.v1+cell": {
     "cellMetadata": {},
     "inputWidgets": {},
     "nuid": "e0f6a6fb-2f06-419a-9725-74cf4555d10c",
     "showTitle": false,
     "title": ""
    }
   },
   "outputs": [],
   "source": [
    "# These two should be approximately equal\n",
    "print scales.mean() - dep_params.mean(0).sum()\n",
    "print obs_sd**2"
   ]
  }
 ],
 "metadata": {
  "application/vnd.databricks.v1+notebook": {
   "dashboards": [],
   "language": "python",
   "notebookMetadata": {},
   "notebookName": "GEE_nested_simulation",
   "widgets": {}
  },
  "name": "",
  "signature": "sha256:aa96bda2bcf86e510928801a0482fbc5ec7445d71852b5f26d6687fff3c2c028"
 },
 "nbformat": 4,
 "nbformat_minor": 0
}
>>>>>>> Stashed changes
