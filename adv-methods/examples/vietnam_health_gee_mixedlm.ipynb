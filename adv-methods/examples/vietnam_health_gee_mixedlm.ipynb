{
 "cells": [
  {
   "cell_type": "markdown",
   "metadata": {
    "application/vnd.databricks.v1+cell": {
     "cellMetadata": {},
     "inputWidgets": {},
     "nuid": "552d6cef-1d91-434c-a88e-1b47aa80d090",
     "showTitle": false,
     "title": ""
    }
   },
   "source": [
    "Comparing GEE and MixedLM\n",
    "=========================\n",
    "\n",
    "*Keywords:* Linear mixed models, generalized estimating equations, Stata"
   ]
  },
  {
   "cell_type": "markdown",
   "metadata": {
    "application/vnd.databricks.v1+cell": {
     "cellMetadata": {},
     "inputWidgets": {},
     "nuid": "6fc37423-cb2f-4e63-a376-9e164ce209ae",
     "showTitle": false,
     "title": ""
    }
   },
   "source": [
    "In this notebook we show how GEE and mixed models can be used as alternative approaches to analyzing a data set with a simple clustering structure.  We also demonstrate how equivalent models can be fit in Statsmodels and in Stata.  \n",
    "\n",
    "The data are from a survey of individuals in Vietnam, focusing on health care expenditures.  The main variable of interest is the amount of money spent on health care, which will be the dependent variable in all models considered here.  This variable is log transformed, so we are looking at the proportional change in health care expenditure when contrasting groups defined in terms of the covariates.  The survey was conducted as a cluster sample of communes, so we will used mixed models and GEE to account for the clustering structure in the data.\n",
    "\n",
    "Here are the import statements:"
   ]
  },
  {
   "cell_type": "code",
   "execution_count": 0,
   "metadata": {
    "application/vnd.databricks.v1+cell": {
     "cellMetadata": {},
     "inputWidgets": {},
     "nuid": "e9bc2d2b-b25c-4d62-a9e0-52e90eda4768",
     "showTitle": false,
     "title": ""
    }
   },
   "outputs": [],
   "source": [
    "import pandas as pd\n",
    "from statsmodels.genmod.generalized_estimating_equations import GEE\n",
    "from statsmodels.genmod.dependence_structures import Exchangeable, Independence\n",
    "from statsmodels.regression.mixed_linear_model import MixedLM"
   ]
  },
  {
   "cell_type": "markdown",
   "metadata": {
    "application/vnd.databricks.v1+cell": {
     "cellMetadata": {},
     "inputWidgets": {},
     "nuid": "33c37562-bf3c-45ea-8b63-fb31a0744b3b",
     "showTitle": false,
     "title": ""
    }
   },
   "source": [
    "Next we read the data and take a peek at the first few rows."
   ]
  },
  {
   "cell_type": "code",
   "execution_count": 0,
   "metadata": {
    "application/vnd.databricks.v1+cell": {
     "cellMetadata": {},
     "inputWidgets": {},
     "nuid": "f4c4d7d8-87c4-4735-af75-149c8695d468",
     "showTitle": false,
     "title": ""
    }
   },
   "outputs": [],
   "source": [
    "fname = \"http://vincentarelbundock.github.io/Rdatasets/csv/Ecdat/VietNamI.csv\"\n",
    "data = pd.read_csv(fname)\n",
    "print data.head()"
   ]
  },
  {
   "cell_type": "markdown",
   "metadata": {
    "application/vnd.databricks.v1+cell": {
     "cellMetadata": {},
     "inputWidgets": {},
     "nuid": "5883faea-c910-4280-a358-f0d571fc8a81",
     "showTitle": false,
     "title": ""
    }
   },
   "source": [
    "Age is log transformed in the data set, but we don't want this, so we exponentiate it back to the year scale."
   ]
  },
  {
   "cell_type": "code",
   "execution_count": 0,
   "metadata": {
    "application/vnd.databricks.v1+cell": {
     "cellMetadata": {},
     "inputWidgets": {},
     "nuid": "2cdcef43-7c0a-49af-94d6-bffe18dd6f43",
     "showTitle": false,
     "title": ""
    }
   },
   "outputs": [],
   "source": [
    "data[\"age\"] = np.exp(data[\"age\"])"
   ]
  },
  {
   "cell_type": "markdown",
   "metadata": {
    "application/vnd.databricks.v1+cell": {
     "cellMetadata": {},
     "inputWidgets": {},
     "nuid": "258da7d9-2f84-48a9-8bad-fd5488f23062",
     "showTitle": false,
     "title": ""
    }
   },
   "source": [
    "Education is recorded in years, but we don't care about the units here so we will convert it to Z-scores."
   ]
  },
  {
   "cell_type": "code",
   "execution_count": 0,
   "metadata": {
    "application/vnd.databricks.v1+cell": {
     "cellMetadata": {},
     "inputWidgets": {},
     "nuid": "b59fe918-a410-4371-ac7c-ceb8444a8180",
     "showTitle": false,
     "title": ""
    }
   },
   "outputs": [],
   "source": [
    "data[\"educ\"] = (data[\"educ\"] - data[\"educ\"].mean()) / data[\"educ\"].std()"
   ]
  },
  {
   "cell_type": "markdown",
   "metadata": {
    "application/vnd.databricks.v1+cell": {
     "cellMetadata": {},
     "inputWidgets": {},
     "nuid": "570254fe-5a87-4542-b192-47f76743dac8",
     "showTitle": false,
     "title": ""
    }
   },
   "source": [
    "Here is a basic linear model fit using GEE, with the default Gaussian family and linear link.  The data are modeled as being independent within communes."
   ]
  },
  {
   "cell_type": "code",
   "execution_count": 0,
   "metadata": {
    "application/vnd.databricks.v1+cell": {
     "cellMetadata": {},
     "inputWidgets": {},
     "nuid": "b959828e-e194-473e-a0d4-9abff9f4c62f",
     "showTitle": false,
     "title": ""
    }
   },
   "outputs": [],
   "source": [
    "ind = Independence()\n",
    "fml = \"lnhhexp ~ age + sex + married + educ + insurance + injury + actdays\"\n",
    "mod_gee = GEE.from_formula(fml, groups=data[\"commune\"], cov_struct=ind, data=data)\n",
    "mod_gee = mod_gee.fit()\n",
    "print mod_gee.summary()\n",
    "print mod_gee.cov_struct.summary()"
   ]
  },
  {
   "cell_type": "markdown",
   "metadata": {
    "application/vnd.databricks.v1+cell": {
     "cellMetadata": {},
     "inputWidgets": {},
     "nuid": "32b6a30c-2fd0-41da-b5ab-789d216131ca",
     "showTitle": false,
     "title": ""
    }
   },
   "source": [
    "Here is Stata code to fit this same model:"
   ]
  },
  {
   "cell_type": "markdown",
   "metadata": {
    "application/vnd.databricks.v1+cell": {
     "cellMetadata": {},
     "inputWidgets": {},
     "nuid": "9bd00f1f-8a3a-4eca-bdeb-642e2338ec23",
     "showTitle": false,
     "title": ""
    }
   },
   "source": [
    "```\n",
    "clear\n",
    "\n",
    "copy http://vincentarelbundock.github.io/Rdatasets/csv/Ecdat/VietNamI.csv vietnam.csv, replace                          \n",
    "import delimited vietnam\n",
    "\n",
    "generate sex2 = 1 if sex == \"male\"\n",
    "replace sex2 = 0 if sex == \"female\"\n",
    "\n",
    "egen zeduc = std(educ)\n",
    "gen age2 = exp(age)\n",
    "\n",
    "xtgee lnhhexp age2 sex2 married zeduc insurance injury actdays,///\n",
    "      fam(gaus) link(iden) i(commune) corr(ind) robust\n",
    "```"
   ]
  },
  {
   "cell_type": "markdown",
   "metadata": {
    "application/vnd.databricks.v1+cell": {
     "cellMetadata": {},
     "inputWidgets": {},
     "nuid": "ebe98368-88f7-4b3d-b996-e0d17fdb2342",
     "showTitle": false,
     "title": ""
    }
   },
   "source": [
    "Here is the output from Stata:"
   ]
  },
  {
   "cell_type": "markdown",
   "metadata": {
    "application/vnd.databricks.v1+cell": {
     "cellMetadata": {},
     "inputWidgets": {},
     "nuid": "59d32355-9a3e-46e8-a881-4817ff63c39e",
     "showTitle": false,
     "title": ""
    }
   },
   "source": [
    "```\n",
    "Iteration 1: tolerance = 1.062e-13\n",
    "\n",
    "GEE population-averaged model                   Number of obs      =     27765\n",
    "Group variable:                    commune      Number of groups   =       194\n",
    "Link:                             identity      Obs per group: min =        51\n",
    "Family:                           Gaussian                     avg =     143.1\n",
    "Correlation:                   independent                     max =       206\n",
    "                                                Wald chi2(7)       =    182.43\n",
    "Scale parameter:                  .3605621      Prob > chi2        =    0.0000\n",
    "\n",
    "Pearson chi2(27765):              10011.01      Deviance           =  10011.01\n",
    "Dispersion (Pearson):             .3605621      Dispersion         =  .3605621\n",
    "\n",
    "                                (Std. Err. adjusted for clustering on commune)\n",
    "------------------------------------------------------------------------------\n",
    "             |               Robust\n",
    "     lnhhexp |      Coef.   Std. Err.      z    P>|z|     [95% Conf. Interval]\n",
    "-------------+----------------------------------------------------------------\n",
    "        age2 |   .0014177    .000447     3.17   0.002     .0005415    .0022938\n",
    "        sex2 |  -.0071507   .0059765    -1.20   0.232    -.0188645    .0045631\n",
    "     married |  -.0561731   .0130533    -4.30   0.000     -.081757   -.0305892\n",
    "       zeduc |   .1472443   .0162504     9.06   0.000     .1153941    .1790946\n",
    "   insurance |   .1523975   .0274584     5.55   0.000       .09858     .206215\n",
    "      injury |   .0211572   .0736902     0.29   0.774    -.1232731    .1655874\n",
    "     actdays |   -.006571   .0051319    -1.28   0.200    -.0166293    .0034873\n",
    "       _cons |   2.564619   .0311538    82.32   0.000     2.503559    2.625679\n",
    "------------------------------------------------------------------------------\n",
    "```"
   ]
  },
  {
   "cell_type": "markdown",
   "metadata": {
    "application/vnd.databricks.v1+cell": {
     "cellMetadata": {},
     "inputWidgets": {},
     "nuid": "9b8175b4-4eab-41a2-87ed-2550c43baf2f",
     "showTitle": false,
     "title": ""
    }
   },
   "source": [
    "Next we fit the model using GEE with an exchangeable dependence structure."
   ]
  },
  {
   "cell_type": "code",
   "execution_count": 0,
   "metadata": {
    "application/vnd.databricks.v1+cell": {
     "cellMetadata": {},
     "inputWidgets": {},
     "nuid": "2f3055f9-4455-4812-9b05-159ad28af200",
     "showTitle": false,
     "title": ""
    }
   },
   "outputs": [],
   "source": [
    "ex = Exchangeable()\n",
    "fml = \"lnhhexp ~ age + sex + married + educ + insurance + injury + actdays\"\n",
    "mod_gee = GEE.from_formula(fml, groups=data[\"commune\"], cov_struct=ex, data=data)\n",
    "mod_gee = mod_gee.fit()\n",
    "print mod_gee.summary()\n",
    "print mod_gee.cov_struct.summary()"
   ]
  },
  {
   "cell_type": "markdown",
   "metadata": {
    "application/vnd.databricks.v1+cell": {
     "cellMetadata": {},
     "inputWidgets": {},
     "nuid": "49aceb5c-0bc0-44ff-ad44-becc56fe56e1",
     "showTitle": false,
     "title": ""
    }
   },
   "source": [
    "```\n",
    "The Stata command to fit this model is:\n",
    "\n",
    "xtgee lnhhexp age2 sex2 married zeduc insurance injury actdays, ///              \n",
    "      fam(gaus) link(iden) i(commune) corr(exc) robust\n",
    "      \n",
    "The result of fitting this model is:\n",
    "```"
   ]
  },
  {
   "cell_type": "markdown",
   "metadata": {
    "application/vnd.databricks.v1+cell": {
     "cellMetadata": {},
     "inputWidgets": {},
     "nuid": "293816e3-accc-40c3-bba6-bc2af8529e68",
     "showTitle": false,
     "title": ""
    }
   },
   "source": [
    "```\n",
    "GEE population-averaged model                   Number of obs      =     27765\n",
    "Group variable:                    commune      Number of groups   =       194\n",
    "Link:                             identity      Obs per group: min =        51\n",
    "Family:                           Gaussian                     avg =     143.1\n",
    "Correlation:                  exchangeable                     max =       206\n",
    "                                                Wald chi2(7)       =    440.94\n",
    "Scale parameter:                  .3634145      Prob > chi2        =    0.0000\n",
    "\n",
    "                                (Std. Err. adjusted for clustering on commune)\n",
    "------------------------------------------------------------------------------\n",
    "             |               Robust\n",
    "     lnhhexp |      Coef.   Std. Err.      z    P>|z|     [95% Conf. Interval]\n",
    "-------------+----------------------------------------------------------------\n",
    "        age2 |  -.0008954   .0002549    -3.51   0.000    -.0013949   -.0003958\n",
    "        sex2 |  -.0050254   .0043309    -1.16   0.246    -.0135139     .003463\n",
    "     married |   .0172334   .0088151     1.95   0.051    -.0000438    .0345106\n",
    "       zeduc |   .1238274   .0085411    14.50   0.000     .1070871    .1405676\n",
    "   insurance |   .0881371   .0135478     6.51   0.000     .0615838    .1146903\n",
    "      injury |   .0409336   .0463357     0.88   0.377    -.0498827    .1317499\n",
    "     actdays |  -.0077043   .0038948    -1.98   0.048    -.0153381   -.0000706\n",
    "       _cons |   2.603396   .0318052    81.85   0.000     2.541059    2.665733\n",
    "------------------------------------------------------------------------------\n",
    "```"
   ]
  },
  {
   "cell_type": "markdown",
   "metadata": {
    "application/vnd.databricks.v1+cell": {
     "cellMetadata": {},
     "inputWidgets": {},
     "nuid": "cd83f986-f60e-4952-85bb-31fd7ae18e89",
     "showTitle": false,
     "title": ""
    }
   },
   "source": [
    "Next we fit a linear mixed model, with a random intercept for each commune."
   ]
  },
  {
   "cell_type": "code",
   "execution_count": 0,
   "metadata": {
    "application/vnd.databricks.v1+cell": {
     "cellMetadata": {},
     "inputWidgets": {},
     "nuid": "3f9a7b58-e141-4c73-80e8-20c683e8d5c9",
     "showTitle": false,
     "title": ""
    }
   },
   "outputs": [],
   "source": [
    "mod_lme = MixedLM.from_formula(fml, groups=data[\"commune\"], data=data)\n",
    "mod_lme = mod_lme.fit()\n",
    "print mod_lme.summary()"
   ]
  },
  {
   "cell_type": "markdown",
   "metadata": {
    "application/vnd.databricks.v1+cell": {
     "cellMetadata": {},
     "inputWidgets": {},
     "nuid": "6353b11c-311d-4302-ba17-146f37fa37e7",
     "showTitle": false,
     "title": ""
    }
   },
   "source": [
    "Here is the Stata code to fit the mixed linear model:"
   ]
  },
  {
   "cell_type": "markdown",
   "metadata": {
    "application/vnd.databricks.v1+cell": {
     "cellMetadata": {},
     "inputWidgets": {},
     "nuid": "7c769dd7-e90c-40d6-ad94-f3dca4683209",
     "showTitle": false,
     "title": ""
    }
   },
   "source": [
    "```\n",
    "xtmixed lnhhexp age2 sex2 married zeduc insurance injury actdays || commune:, reml\n",
    "```"
   ]
  },
  {
   "cell_type": "markdown",
   "metadata": {
    "application/vnd.databricks.v1+cell": {
     "cellMetadata": {},
     "inputWidgets": {},
     "nuid": "71b9ddb4-4acc-4efb-afef-6cfa6e76ec94",
     "showTitle": false,
     "title": ""
    }
   },
   "source": [
    "Here is the fitted mixed model from Stata:"
   ]
  },
  {
   "cell_type": "markdown",
   "metadata": {
    "application/vnd.databricks.v1+cell": {
     "cellMetadata": {},
     "inputWidgets": {},
     "nuid": "6fe33279-425a-47fc-a1ae-9df7c0d008a8",
     "showTitle": false,
     "title": ""
    }
   },
   "source": [
    "```\n",
    "Mixed-effects REML regression                   Number of obs      =     27765\n",
    "Group variable: commune                         Number of groups   =       194\n",
    "\n",
    "                                                Obs per group: min =        51\n",
    "                                                               avg =     143.1\n",
    "                                                               max =       206\n",
    "\n",
    "\n",
    "                                                Wald chi2(7)       =   2076.70\n",
    "Log restricted-likelihood = -16275.332          Prob > chi2        =    0.0000\n",
    "\n",
    "------------------------------------------------------------------------------\n",
    "     lnhhexp |      Coef.   Std. Err.      z    P>|z|     [95% Conf. Interval]\n",
    "-------------+----------------------------------------------------------------\n",
    "        age2 |  -.0008973   .0001651    -5.44   0.000    -.0012208   -.0005738\n",
    "        sex2 |  -.0050251   .0051614    -0.97   0.330    -.0151412    .0050911\n",
    "     married |   .0172924   .0066729     2.59   0.010     .0042137     .030371\n",
    "       zeduc |   .1237944   .0030475    40.62   0.000     .1178215    .1297673\n",
    "   insurance |   .0880734   .0076774    11.47   0.000      .073026    .1031209\n",
    "      injury |   .0409419   .0328861     1.24   0.213    -.0235137    .1053974\n",
    "     actdays |  -.0077056   .0028735    -2.68   0.007    -.0133376   -.0020737\n",
    "       _cons |   2.603433   .0316463    82.27   0.000     2.541407    2.665458\n",
    "------------------------------------------------------------------------------\n",
    "\n",
    "------------------------------------------------------------------------------\n",
    "  Random-effects Parameters  |   Estimate   Std. Err.     [95% Conf. Interval]\n",
    "-----------------------------+------------------------------------------------\n",
    "commune: Identity            |\n",
    "                   sd(_cons) |   .4345079   .0222826      .3929579    .4804512\n",
    "-----------------------------+------------------------------------------------\n",
    "                sd(Residual) |   .4268603    .001818      .4233119    .4304385\n",
    "------------------------------------------------------------------------------\n",
    "LR test vs. linear regression: chibar2(01) = 17991.25 Prob >= chibar2 = 0.0000\n",
    "```"
   ]
  },
  {
   "cell_type": "markdown",
   "metadata": {
    "application/vnd.databricks.v1+cell": {
     "cellMetadata": {},
     "inputWidgets": {},
     "nuid": "036335a0-a4a9-47fb-9759-d24ee1c2dc22",
     "showTitle": false,
     "title": ""
    }
   },
   "source": [
    "The random effect labeed \"Z1 RE\" in the Statsmodels output is a variance parameter, whereas Stata produces a standard deviation parameter.  The results are equivalent:"
   ]
  },
  {
   "cell_type": "code",
   "execution_count": 0,
   "metadata": {
    "application/vnd.databricks.v1+cell": {
     "cellMetadata": {},
     "inputWidgets": {},
     "nuid": "c3f90651-63f1-46ed-8dc8-48f64fcd02de",
     "showTitle": false,
     "title": ""
    }
   },
   "outputs": [],
   "source": [
    "0.4345079**2"
   ]
  },
  {
   "cell_type": "markdown",
   "metadata": {
    "application/vnd.databricks.v1+cell": {
     "cellMetadata": {},
     "inputWidgets": {},
     "nuid": "4238b913-5f32-4e26-ae3a-0104d54d9724",
     "showTitle": false,
     "title": ""
    }
   },
   "source": [
    "Next we compare the parameter estimates from the GEE and mixed models.  For this linear model, the parameter estimates are nearly identical.  This will generally be true for linear models, but not for nonlinear models."
   ]
  },
  {
   "cell_type": "code",
   "execution_count": 0,
   "metadata": {
    "application/vnd.databricks.v1+cell": {
     "cellMetadata": {},
     "inputWidgets": {},
     "nuid": "fdf9c345-802c-4763-96f9-d232f5b677b0",
     "showTitle": false,
     "title": ""
    }
   },
   "outputs": [],
   "source": [
    "plt.plot(mod_lme.params[1:-1], mod_gee.params[1:], 'o')\n",
    "plt.plot([0, 0.14], [0, 0.14], '-')\n",
    "plt.xlabel(\"MixedLM coefficient\", size=14)\n",
    "plt.ylabel(\"GEE coefficient\", size=14)"
   ]
  },
  {
   "cell_type": "markdown",
   "metadata": {
    "application/vnd.databricks.v1+cell": {
     "cellMetadata": {},
     "inputWidgets": {},
     "nuid": "1efe45d1-642e-49bf-adb9-a9695f606013",
     "showTitle": false,
     "title": ""
    }
   },
   "source": [
    "Next we compare the standard errors.  The GEE standard errors will typically be larger than the mixed model standard errors.  For linear models, GEE and mixed models estimate the same population parameters.  Since the mixed model uses maximum likelihood (or, almost equivalently, restricted maximum likelihood), it should be nearly optimal in terms of statistical efficiency, and hence will have the smallest standard errors of any (approximately) unbiased procedure.  One possible advantage of GEE is that it does not model the random intercepts as being normally distributed."
   ]
  },
  {
   "cell_type": "code",
   "execution_count": 0,
   "metadata": {
    "application/vnd.databricks.v1+cell": {
     "cellMetadata": {},
     "inputWidgets": {},
     "nuid": "0856b275-7575-4420-abdf-16152a5d5456",
     "showTitle": false,
     "title": ""
    }
   },
   "outputs": [],
   "source": [
    "plt.plot(mod_lme.bse[1:-1], mod_gee.bse[1:], 'o')\n",
    "plt.plot([0,0.05], [0,0.05], '-')\n",
    "plt.xlabel(\"MixedLM SE\", size=14)\n",
    "plt.ylabel(\"GEE SE\", size=14)"
   ]
  },
  {
   "cell_type": "markdown",
   "metadata": {
    "application/vnd.databricks.v1+cell": {
     "cellMetadata": {},
     "inputWidgets": {},
     "nuid": "a14c9ff4-a921-44ea-bf1c-712e2da14e00",
     "showTitle": false,
     "title": ""
    }
   },
   "source": [
    "Finally, we compare the Z-scores.  The Z-scores are fairly consistent for the smaller values (e.g. |Z| < 3), where small differences in the Z-scores may be important.  For the effects that are clearly real, the mixed models Z-scores have larger magnitudes, but this has little impact on our interpretation of the results."
   ]
  },
  {
   "cell_type": "code",
   "execution_count": 0,
   "metadata": {
    "application/vnd.databricks.v1+cell": {
     "cellMetadata": {},
     "inputWidgets": {},
     "nuid": "08a38b95-3957-4e02-8c36-103b690dda6c",
     "showTitle": false,
     "title": ""
    }
   },
   "outputs": [],
   "source": [
    "plt.plot(mod_lme.tvalues[1:-1], mod_gee.tvalues[1:], 'o')\n",
    "plt.plot([-10,15], [-10,15], '-')\n",
    "plt.xlabel(\"MixedLM Z-score\", size=14)\n",
    "plt.ylabel(\"GEE Z-score\", size=14)"
   ]
  }
 ],
 "metadata": {
  "application/vnd.databricks.v1+notebook": {
   "dashboards": [],
   "environmentMetadata": null,
   "language": "python",
   "notebookMetadata": {},
   "notebookName": "vietnam_health_gee_mixedlm",
   "widgets": {}
  },
  "name": "",
  "signature": "sha256:00746a0b1b584ee9c5586806fa6e15aacabec10317f34494f97a89c0be319007"
 },
 "nbformat": 4,
 "nbformat_minor": 0
}
