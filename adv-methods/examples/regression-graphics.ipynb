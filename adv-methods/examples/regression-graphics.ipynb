{
 "cells": [
  {
   "cell_type": "markdown",
   "metadata": {
    "application/vnd.databricks.v1+cell": {
     "cellMetadata": {},
     "inputWidgets": {},
     "nuid": "89362f12-21aa-4732-a901-d5937ce2096f",
     "showTitle": false,
     "title": ""
    }
   },
   "source": [
    "Statsmodels Regression Graphics\n",
    "-------------------------------\n",
    "\n",
    "This notebook demonstrates regression graphics in Statsmodels.\n",
    "\n",
    "The techniques demonstrated here are also implemented in the \"CAR\" package in R (which also implements many more techniques):\n",
    "\n",
    "http://cran.r-project.org/web/packages/car/index.html\n",
    "\n",
    "See also the book \"An R Companion to Applied Regression\" by Fox and Weisberg."
   ]
  },
  {
   "cell_type": "code",
   "execution_count": 0,
   "metadata": {
    "application/vnd.databricks.v1+cell": {
     "cellMetadata": {},
     "inputWidgets": {},
     "nuid": "7679f6c4-3b0e-4074-aaf3-10caaa0a59ca",
     "showTitle": false,
     "title": ""
    }
   },
   "outputs": [],
   "source": [
    "import numpy as np\n",
    "import matplotlib.pyplot as plt\n",
    "import pandas as pd\n",
    "import statsmodels.api as sm\n",
    "from statsmodels.graphics.regressionplots import add_lowess"
   ]
  },
  {
   "cell_type": "markdown",
   "metadata": {
    "application/vnd.databricks.v1+cell": {
     "cellMetadata": {},
     "inputWidgets": {},
     "nuid": "25a42b4b-e592-4693-b93c-1749c81a3b39",
     "showTitle": false,
     "title": ""
    }
   },
   "source": [
    "__Occupational prestige data__"
   ]
  },
  {
   "cell_type": "markdown",
   "metadata": {
    "application/vnd.databricks.v1+cell": {
     "cellMetadata": {},
     "inputWidgets": {},
     "nuid": "84a0d11f-489a-4982-bbc4-8165e53a7bf6",
     "showTitle": false,
     "title": ""
    }
   },
   "source": [
    "Next we load a dataset containing perceptions of occupational prestige for 102 occupations in 1960's Canada.  The key variables are:\n",
    "\n",
    "* _prestige_: a quantitative rating of an occupation's prestige (taken from a survey conducted in the 1960's)\n",
    "\n",
    "* _education_: average education (in years) of people holding the occupation\n",
    "\n",
    "* _income_: average income (in 1971 dollars) of people holding the occupation\n",
    "\n",
    "* _women_: percentage of people holding the occupation who are women\n",
    "\n",
    "The data are available from the R _CAR_ package."
   ]
  },
  {
   "cell_type": "code",
   "execution_count": 0,
   "metadata": {
    "application/vnd.databricks.v1+cell": {
     "cellMetadata": {},
     "inputWidgets": {},
     "nuid": "099bdea9-a9c1-4b90-9a0d-a9b4e679ebf4",
     "showTitle": false,
     "title": ""
    }
   },
   "outputs": [],
   "source": [
    "prestige = pd.read_csv(\"prestige.csv\")"
   ]
  },
  {
   "cell_type": "markdown",
   "metadata": {
    "application/vnd.databricks.v1+cell": {
     "cellMetadata": {},
     "inputWidgets": {},
     "nuid": "bf3f5d1e-6a32-4986-ac25-93a9d91eb6b0",
     "showTitle": false,
     "title": ""
    }
   },
   "source": [
    "We start with the following basic model, with the variables on their original scale."
   ]
  },
  {
   "cell_type": "code",
   "execution_count": 0,
   "metadata": {
    "application/vnd.databricks.v1+cell": {
     "cellMetadata": {},
     "inputWidgets": {},
     "nuid": "725976e0-34a7-4b42-ba3f-0372099c8214",
     "showTitle": false,
     "title": ""
    }
   },
   "outputs": [],
   "source": [
    "model1 = sm.GLM.from_formula(\"prestige ~ income + education + women\", family=sm.families.Gaussian(), data=prestige)\n",
    "result1 = model1.fit()"
   ]
  },
  {
   "cell_type": "markdown",
   "metadata": {
    "application/vnd.databricks.v1+cell": {
     "cellMetadata": {},
     "inputWidgets": {},
     "nuid": "f4dc9115-9c80-4ced-8e23-16c1dcd813d2",
     "showTitle": false,
     "title": ""
    }
   },
   "source": [
    "Here is the CERES plot for _income_, which suggests that income might be log transformed."
   ]
  },
  {
   "cell_type": "code",
   "execution_count": 0,
   "metadata": {
    "application/vnd.databricks.v1+cell": {
     "cellMetadata": {},
     "inputWidgets": {},
     "nuid": "45125ed9-c2d1-45ba-b8bb-ff29aa208e0e",
     "showTitle": false,
     "title": ""
    }
   },
   "outputs": [],
   "source": [
    "fig = result1.plot_ceres_residuals(\"income\")\n",
    "ax = fig.get_axes()[0]\n",
    "ax.get_lines()[0].set_alpha(0.5)\n",
    "_ = add_lowess(ax, frac=0.4)"
   ]
  },
  {
   "cell_type": "markdown",
   "metadata": {
    "application/vnd.databricks.v1+cell": {
     "cellMetadata": {},
     "inputWidgets": {},
     "nuid": "39fbd8ae-c88d-4724-aebc-2e0666b25360",
     "showTitle": false,
     "title": ""
    }
   },
   "source": [
    "Here is the CERES plot for _education_, which suggests a quadratic transformation:"
   ]
  },
  {
   "cell_type": "code",
   "execution_count": 0,
   "metadata": {
    "application/vnd.databricks.v1+cell": {
     "cellMetadata": {},
     "inputWidgets": {},
     "nuid": "935fe977-85b2-4309-97b4-f27ec3e6e0cf",
     "showTitle": false,
     "title": ""
    }
   },
   "outputs": [],
   "source": [
    "fig = result1.plot_ceres_residuals(\"education\")\n",
    "ax = fig.get_axes()[0]\n",
    "ax.get_lines()[0].set_alpha(0.5)\n",
    "_ = add_lowess(ax, frac=0.4)"
   ]
  },
  {
   "cell_type": "markdown",
   "metadata": {
    "application/vnd.databricks.v1+cell": {
     "cellMetadata": {},
     "inputWidgets": {},
     "nuid": "3f02f31f-1467-4d8c-baa5-074d1d43423c",
     "showTitle": false,
     "title": ""
    }
   },
   "source": [
    "Here is the CERES plot for _women_.  There is a weak U-shaped effect, but arguably there is no need for a transformation."
   ]
  },
  {
   "cell_type": "code",
   "execution_count": 0,
   "metadata": {
    "application/vnd.databricks.v1+cell": {
     "cellMetadata": {},
     "inputWidgets": {},
     "nuid": "15e25f29-1406-4d30-a2fc-3f9af8bcb2a8",
     "showTitle": false,
     "title": ""
    }
   },
   "outputs": [],
   "source": [
    "fig = result1.plot_ceres_residuals(\"women\")\n",
    "ax = fig.get_axes()[0]\n",
    "ax.get_lines()[0].set_alpha(0.5)\n",
    "_ = add_lowess(ax, frac=0.4)"
   ]
  },
  {
   "cell_type": "markdown",
   "metadata": {
    "application/vnd.databricks.v1+cell": {
     "cellMetadata": {},
     "inputWidgets": {},
     "nuid": "33bdce33-ca2c-4660-bce4-20bbc1e538e3",
     "showTitle": false,
     "title": ""
    }
   },
   "source": [
    "__Mussels data__\n",
    "\n",
    "The data are measurements on a sample of Horse mussels.\n",
    "\n",
    "* _H_: Shell height in mm\n",
    "* _L_: Shell length in mm\n",
    "* _M_: Muscle mass in grams\n",
    "* _S_: Shell mass in grams\n",
    "* _W_: Shell width in mm\n",
    "\n",
    "The data are available from the R _DR_ package."
   ]
  },
  {
   "cell_type": "code",
   "execution_count": 0,
   "metadata": {
    "application/vnd.databricks.v1+cell": {
     "cellMetadata": {},
     "inputWidgets": {},
     "nuid": "acba4f14-4e4c-4bc9-9280-33283878411e",
     "showTitle": false,
     "title": ""
    }
   },
   "outputs": [],
   "source": [
    "data = pd.read_csv(\"mussels.csv\")"
   ]
  },
  {
   "cell_type": "markdown",
   "metadata": {
    "application/vnd.databricks.v1+cell": {
     "cellMetadata": {},
     "inputWidgets": {},
     "nuid": "df825a5f-aa3b-4de2-aac4-7d7999ff763e",
     "showTitle": false,
     "title": ""
    }
   },
   "source": [
    "First we fit a model expressing the muscle mass as a function of the shell length and width, and the shell mass."
   ]
  },
  {
   "cell_type": "code",
   "execution_count": 0,
   "metadata": {
    "application/vnd.databricks.v1+cell": {
     "cellMetadata": {},
     "inputWidgets": {},
     "nuid": "2c148aa3-e4c8-4ad9-b91e-4ba812775058",
     "showTitle": false,
     "title": ""
    }
   },
   "outputs": [],
   "source": [
    "model2 = sm.GLM.from_formula(\"M ~ L + W + S\", family=sm.families.Gaussian(), data=data)\n",
    "result2 = model2.fit()"
   ]
  },
  {
   "cell_type": "markdown",
   "metadata": {
    "application/vnd.databricks.v1+cell": {
     "cellMetadata": {},
     "inputWidgets": {},
     "nuid": "2f5dfb80-0cd4-4dcf-be04-54b293b3c2ae",
     "showTitle": false,
     "title": ""
    }
   },
   "source": [
    "The next three cells show the CERES residuals plot for each predictor.  There is no obvious need for transformations of any of the covariates.  There is fairly strong heteroscedasticity."
   ]
  },
  {
   "cell_type": "code",
   "execution_count": 0,
   "metadata": {
    "application/vnd.databricks.v1+cell": {
     "cellMetadata": {},
     "inputWidgets": {},
     "nuid": "10084615-2b43-4663-9499-abc5bab10451",
     "showTitle": false,
     "title": ""
    }
   },
   "outputs": [],
   "source": [
    "fig = result2.plot_ceres_residuals(\"L\")\n",
    "ax = fig.get_axes()[0]\n",
    "ax.get_lines()[0].set_alpha(0.5)\n",
    "_ = add_lowess(ax, frac=0.4)"
   ]
  },
  {
   "cell_type": "code",
   "execution_count": 0,
   "metadata": {
    "application/vnd.databricks.v1+cell": {
     "cellMetadata": {},
     "inputWidgets": {},
     "nuid": "d299e3b4-3ff4-413d-a691-233d1db065b3",
     "showTitle": false,
     "title": ""
    }
   },
   "outputs": [],
   "source": [
    "fig = result2.plot_ceres_residuals(\"W\")\n",
    "ax = fig.get_axes()[0]\n",
    "ax.get_lines()[0].set_alpha(0.5)\n",
    "_ = add_lowess(ax, frac=0.4)"
   ]
  },
  {
   "cell_type": "code",
   "execution_count": 0,
   "metadata": {
    "application/vnd.databricks.v1+cell": {
     "cellMetadata": {},
     "inputWidgets": {},
     "nuid": "eff3cb41-4da5-4b53-935d-fba2dd1bc5ac",
     "showTitle": false,
     "title": ""
    }
   },
   "outputs": [],
   "source": [
    "fig = result2.plot_ceres_residuals(\"S\")\n",
    "ax = fig.get_axes()[0]\n",
    "ax.get_lines()[0].set_alpha(0.5)\n",
    "_ = add_lowess(ax, frac=0.4)"
   ]
  }
 ],
 "metadata": {
  "application/vnd.databricks.v1+notebook": {
   "dashboards": [],
   "environmentMetadata": null,
   "language": "python",
   "notebookMetadata": {},
   "notebookName": "regression-graphics",
   "widgets": {}
  },
  "name": "",
  "signature": "sha256:3d0fd8d9f6735d4289ba412866b05be1e1bcdf2e1655726b2aa2d5fc4e4090d6"
 },
 "nbformat": 4,
 "nbformat_minor": 0
}
