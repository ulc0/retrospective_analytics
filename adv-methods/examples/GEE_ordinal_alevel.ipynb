{
<<<<<<< Updated upstream
 "metadata": {
  "name": "",
  "signature": "sha256:602405045c8394665e32cab3af5f34cc2f2b51975949ad2efdbbe213ceb00ef3"
 },
 "nbformat": 3,
 "nbformat_minor": 0,
 "worksheets": [
  {
   "cells": [
    {
     "cell_type": "markdown",
     "metadata": {},
     "source": [
      "Generalized Estimating Equations\n",
      "================================\n",
      "\n",
      "*Key ideas:* GEE, ordinal data"
     ]
    },
    {
     "cell_type": "markdown",
     "metadata": {},
     "source": [
      "This notebook demonstrates how ordinal regression models can be estimated using GEE.  Ordinal regression models have a dependent variable that takes on finitely many values that are ordered.\n",
      "\n",
      "The data are from a study of A-level exam scores in the UK.  A student receives one of 6 possible ordered scores on the exam, so the data are ordinal.  The students are clustered based on the school that they attended prior to taking the exam.  In addition to gender and age, we also have access to the student's score on a previous exam.  We can use regression analysis to assess how these three predictors are related to the score on the A-level exam.  GEE allows us to do this while accounting for the ordered structure of the response, and the (presumed) non-independence among students who attend the same school.  This non-independence could be driven by socioeconomic and other factors that cluster within neighborhoods or schools.\n",
      "\n",
      "The data are available from: http://www.bristol.ac.uk/cmm/learning/support/datasets/\n",
      "\n",
      "First we import all the libraries that we will need:"
     ]
    },
    {
     "cell_type": "code",
     "collapsed": false,
     "input": [
      "import numpy as np\n",
      "import pandas as pd\n",
      "import statsmodels.api as sm"
     ],
     "language": "python",
     "metadata": {},
     "outputs": [],
     "prompt_number": 15
    },
    {
     "cell_type": "markdown",
     "metadata": {},
     "source": [
      "The data are available from the link http://www.bristol.ac.uk/cmm/learning/support/datasets/ as the archive `momeg.zip`, which contains several files.  Here we will focus on the chemistry scores, contained in the file `a-level-chemistry.txt`."
     ]
    },
    {
     "cell_type": "code",
     "collapsed": false,
     "input": [
      "data = pd.read_csv(\"a-level-chemistry.txt\", header=None, sep=' ')\n",
      "data.columns = [\"Board\", \"A-Score\", \"Gtot\", \"Gnum\",\n",
      "                \"Gender\", \"Age\", \"Inst_Type\", \"LEA\",\n",
      "                \"Institute\", \"Student\"]\n",
      "print data.head()\n",
      "print data.describe()"
     ],
     "language": "python",
     "metadata": {},
     "outputs": [
      {
       "output_type": "stream",
       "stream": "stdout",
       "text": [
        "   Board  A-Score  Gtot  Gnum  Gender  Age  Inst_Type  LEA  Institute  Student\n",
        "0      3        4    53     8       1    3          7    1          1       23\n",
        "1      3       10    61     8       1   -3          7    1          1       24\n",
        "2      3       10    58     8       1   -4          7    1          1       26\n",
        "3      3       10    60     8       1   -2          7    1          1       28\n",
        "4      3        8    58     9       1   -1          7    1          1       30\n",
        "              Board       A-Score          Gtot          Gnum        Gender  \\\n",
        "count  31022.000000  31022.000000  31022.000000  31022.000000  31022.000000   \n",
        "mean       4.156631      5.812585     55.951196      8.870157      0.443556   \n",
        "std        1.975071      3.319167     11.061807      1.033699      0.496812   \n",
        "min        1.000000      0.000000      0.000000      1.000000      0.000000   \n",
        "25%        3.000000      4.000000     49.000000      8.000000      0.000000   \n",
        "50%        3.000000      6.000000     56.000000      9.000000      0.000000   \n",
        "75%        6.000000      8.000000     63.000000      9.000000      1.000000   \n",
        "max        8.000000     10.000000    103.000000     14.000000      1.000000   \n",
        "\n",
        "                Age     Inst_Type           LEA     Institute        Student  \n",
        "count  31022.000000  31022.000000  31022.000000  31022.000000   31022.000000  \n",
        "mean      -0.467765      4.936980     83.695216     18.410386   94734.095158  \n",
        "std        3.430142      3.363572     36.940333     17.364621   56578.654087  \n",
        "min       -6.000000      0.000000      1.000000      1.000000      23.000000  \n",
        "25%       -3.000000      1.000000     52.000000      5.000000   45292.750000  \n",
        "50%       -1.000000      5.000000     95.000000     13.000000   91269.500000  \n",
        "75%        3.000000      7.000000    116.000000     26.000000  144722.750000  \n",
        "max        5.000000     11.000000    131.000000    100.000000  196035.000000  "
       ]
      },
      {
       "output_type": "stream",
       "stream": "stdout",
       "text": [
        "\n"
       ]
      }
     ],
     "prompt_number": 16
    },
    {
     "cell_type": "markdown",
     "metadata": {},
     "source": [
      "Here is a plot of the marginal distribution of exam scores."
     ]
    },
    {
     "cell_type": "code",
     "collapsed": false,
     "input": [
      "sc = np.unique(data[\"A-Score\"])\n",
      "sc_n = [sum(data[\"A-Score\"] == x) for x in sc]\n",
      "plt.bar(sc-0.25, sc_n, 0.5)\n",
      "plt.gca().set_xticks(sc)\n",
      "plt.gca().set_xticklabels([str(x) for x in sc])\n",
      "plt.xlim(-1, 11)\n",
      "plt.xlabel(\"A-level score\", size=17)\n",
      "plt.ylabel(\"Number of students\", size=17)"
     ],
     "language": "python",
     "metadata": {},
     "outputs": [
      {
       "metadata": {},
       "output_type": "pyout",
       "prompt_number": 17,
       "text": [
        "<matplotlib.text.Text at 0x7f6ddd572e90>"
       ]
      },
      {
       "metadata": {},
       "output_type": "display_data",
       "png": "iVBORw0KGgoAAAANSUhEUgAAAZAAAAEXCAYAAACDChKsAAAABHNCSVQICAgIfAhkiAAAAAlwSFlz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\n9X9y4/qPz0UnTQAAAABJRU5ErkJggg==\n",
       "text": [
        "<matplotlib.figure.Figure at 0x7f6ddd484790>"
       ]
      }
     ],
     "prompt_number": 17
    },
    {
     "cell_type": "markdown",
     "metadata": {},
     "source": [
      "We will use the student's score on the GCSE as one predictor of the A-level score.  This can be viewed as a control for baseline achievement.  The GCSE is a more basic exam than the A-level exam, but there should be a positive association between GCSE and A-level scores.\n",
      "\n",
      "The GCSE has several components, and not all students take all of the components.  The variable 'Gtot' in the data set is the sum of scores over all the components taken by a given student.  We divide the sum by the number of components taken to obtain a mean score that is not inflated just because a student takes more exams."
     ]
    },
    {
     "cell_type": "code",
     "collapsed": false,
     "input": [
      "data[\"GCSE\"] = data[\"Gtot\"] / data[\"Gnum\"]"
     ],
     "language": "python",
     "metadata": {},
     "outputs": [],
     "prompt_number": 18
    },
    {
     "cell_type": "markdown",
     "metadata": {},
     "source": [
      "There are two levels of clustering in these data.  The \"LEA\" is a grouping of schools in a local area, and the \"Institute\" variable is the actual school that a student attends.  Institute codes are recycled across the LEA's, so here we create a composite code that reflects both the LEA and the institute."
     ]
    },
    {
     "cell_type": "code",
     "collapsed": false,
     "input": [
      "data[\"School\"] = [str(x) + str(y) for x,y in\n",
      "                  zip(data[\"LEA\"], data[\"Institute\"])]\n",
      "\n",
      "us = set(data[\"School\"])\n",
      "us = {x: k for k,x in enumerate(list(us))}\n",
      "data[\"School\"] = [us[x] for x in data[\"School\"]]"
     ],
     "language": "python",
     "metadata": {},
     "outputs": [],
     "prompt_number": 19
    },
    {
     "cell_type": "markdown",
     "metadata": {},
     "source": [
      "These are all the variables in the analysis."
     ]
    },
    {
     "cell_type": "code",
     "collapsed": false,
     "input": [
      "endog = data[\"A-Score\"]\n",
      "exog = data[[\"Gender\", \"Age\", \"GCSE\"]]\n",
      "groups = data[\"School\"]"
     ],
     "language": "python",
     "metadata": {},
     "outputs": [],
     "prompt_number": 20
    },
    {
     "cell_type": "markdown",
     "metadata": {},
     "source": [
      "We will convert the GCSE score to a Z-score since we don't really care about the scale."
     ]
    },
    {
     "cell_type": "code",
     "collapsed": false,
     "input": [
      "mn = exog.loc[:, \"GCSE\"].mean()\n",
      "sd = exog.loc[:, \"GCSE\"].std()\n",
      "exog.loc[:, \"GCSE\"] = (exog.loc[:, \"GCSE\"] - mn) / sd"
     ],
     "language": "python",
     "metadata": {},
     "outputs": [],
     "prompt_number": 21
    },
    {
     "cell_type": "markdown",
     "metadata": {},
     "source": [
      "As a basic initial model we will treat all the indicators as being independent.  Although this is clearly not correct, the GEE estimates and standard errors are still meaningful."
     ]
    },
    {
     "cell_type": "code",
     "collapsed": false,
     "input": [
      "ind = sm.cov_struct.Independence()\n",
      "model0 = sm.OrdinalGEE(endog, exog, groups, cov_struct=ind)\n",
      "result0 = model0.fit()\n",
      "print result0.summary()\n",
      "print ind.summary()"
     ],
     "language": "python",
     "metadata": {},
     "outputs": [
      {
       "output_type": "stream",
       "stream": "stdout",
       "text": [
        "                           OrdinalGEE Regression Results                           \n",
        "===================================================================================\n",
        "Dep. Variable:                     A-Score   No. Observations:               155110\n",
        "Model:                          OrdinalGEE   No. clusters:                     2410\n",
        "Method:                        Generalized   Min. cluster size:                   5\n",
        "                      Estimating Equations   Max. cluster size:                 940\n",
        "Family:                           Binomial   Mean cluster size:                64.4\n",
        "Dependence structure:         Independence   Num. iterations:                     7\n",
        "Date:                     Mon, 12 Jan 2015   Scale:                           1.000\n",
        "Covariance type:                    robust   Time:                         00:50:18\n",
        "==============================================================================\n",
        "                 coef    std err          z      P>|z|      [95.0% Conf. Int.]\n",
        "------------------------------------------------------------------------------\n",
        "I(y>0.0)       3.1493      0.039     80.567      0.000         3.073     3.226\n",
        "I(y>2.0)       1.9428      0.031     62.975      0.000         1.882     2.003\n",
        "I(y>4.0)       0.8754      0.028     31.262      0.000         0.821     0.930\n",
        "I(y>6.0)      -0.2568      0.028     -9.070      0.000        -0.312    -0.201\n",
        "I(y>8.0)      -1.6892      0.033    -51.327      0.000        -1.754    -1.625\n",
        "Gender        -0.5722      0.032    -18.041      0.000        -0.634    -0.510\n",
        "Age           -0.0298      0.003     -9.751      0.000        -0.036    -0.024\n",
        "GCSE           1.7411      0.026     66.114      0.000         1.689     1.793\n",
        "==============================================================================\n",
        "Skew:                         -0.1833   Kurtosis:                       0.5139\n",
        "Centered skew:                -0.1453   Centered kurtosis:              0.3663\n",
        "==============================================================================\n",
        "Observations within a cluster are modeled as being independent.\n"
       ]
      }
     ],
     "prompt_number": 22
    },
    {
     "cell_type": "markdown",
     "metadata": {},
     "source": [
      "Next we fit the same model with an exhangeable covariance structure.  This dependence structure treats all binary indicators from a given\n",
      "cluster as having the same pairwise correlation.  Since some indicators are \"between subjects\" and others are \"within subjects\", this may not reflect the true dependence very well.  Here we limit the iterations so there will be a convergence warning."
     ]
    },
    {
     "cell_type": "code",
     "collapsed": false,
     "input": [
      "ex = sm.cov_struct.Exchangeable()\n",
      "model1 = sm.OrdinalGEE(endog, exog, groups, cov_struct=ex)\n",
      "result1 = model1.fit(maxiter=5)\n",
      "print result1.summary()\n",
      "print ex.summary()"
     ],
     "language": "python",
     "metadata": {},
     "outputs": [
      {
       "output_type": "stream",
       "stream": "stdout",
       "text": [
        "                           OrdinalGEE Regression Results                           \n",
        "===================================================================================\n",
        "Dep. Variable:                     A-Score   No. Observations:               155110\n",
        "Model:                          OrdinalGEE   No. clusters:                     2410\n",
        "Method:                        Generalized   Min. cluster size:                   5\n",
        "                      Estimating Equations   Max. cluster size:                 940\n",
        "Family:                           Binomial   Mean cluster size:                64.4\n",
        "Dependence structure:         Exchangeable   Num. iterations:                     5\n",
        "Date:                     Mon, 12 Jan 2015   Scale:                           1.000\n",
        "Covariance type:                    robust   Time:                         00:50:28\n",
        "==============================================================================\n",
        "                 coef    std err          z      P>|z|      [95.0% Conf. Int.]\n",
        "------------------------------------------------------------------------------\n",
        "I(y>0.0)       2.9170      0.046     64.065      0.000         2.828     3.006\n",
        "I(y>2.0)       1.7610      0.034     51.547      0.000         1.694     1.828\n",
        "I(y>4.0)       0.7190      0.029     24.401      0.000         0.661     0.777\n",
        "I(y>6.0)      -0.4017      0.029    -13.840      0.000        -0.459    -0.345\n",
        "I(y>8.0)      -1.8439      0.034    -54.260      0.000        -1.910    -1.777\n",
        "Gender        -0.5778      0.026    -21.841      0.000        -0.630    -0.526\n",
        "Age           -0.0305      0.003    -10.403      0.000        -0.036    -0.025\n",
        "GCSE           1.7143      0.025     67.338      0.000         1.664     1.764\n",
        "==============================================================================\n",
        "Skew:                         -0.1111   Kurtosis:                       0.4678\n",
        "Centered skew:                -0.0767   Centered kurtosis:              0.3215\n",
        "==============================================================================\n",
        "The correlation between two observations in the same cluster is 0.048\n"
       ]
      },
      {
       "output_type": "stream",
       "stream": "stderr",
       "text": [
        "/projects/3c16f532-d309-4425-850f-a41a8c8f8c92/statsmodels-master/statsmodels/genmod/generalized_estimating_equations.py:1078: IterationLimitWarning: Iteration limit reached prior to convergence\n",
        "  IterationLimitWarning)\n"
       ]
      }
     ],
     "prompt_number": 23
    },
    {
     "cell_type": "markdown",
     "metadata": {},
     "source": [
      "The dependence is weak, perhaps due to the oversimplicity of the dependence model:"
     ]
    },
    {
     "cell_type": "markdown",
     "metadata": {},
     "source": [
      "Next we plot the conditional probability distributions of the A-level exam scores for females and males.  Age and the GCSE score are held fixed at their mean values."
     ]
    },
    {
     "cell_type": "code",
     "collapsed": false,
     "input": [
      "ev = [{\"Gender\": 1}, {\"Gender\": 0}]\n",
      "fig = result1.plot_distribution(None, ev)\n",
      "ax = fig.get_axes()[0]\n",
      "leg = plt.figlegend(ax.get_lines(), [\"Females\", \"Males\"], \"upper center\", ncol=2)\n",
      "leg.draw_frame(False)"
     ],
     "language": "python",
     "metadata": {},
     "outputs": [
      {
       "metadata": {},
       "output_type": "display_data",
       "png": "iVBORw0KGgoAAAANSUhEUgAAAYQAAAEhCAYAAAB/bNeOAAAABHNCSVQICAgIfAhkiAAAAAlwSFlz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\nTkSuQmCC\n",
       "text": [
        "<matplotlib.figure.Figure at 0x7f6ddd511190>"
       ]
      }
     ],
     "prompt_number": 24
    },
    {
     "cell_type": "markdown",
     "metadata": {},
     "source": [
      "Here is a plot of the fitted distribution of A-level exam scores for females of average age, when the GCSE exam score is either 1 standard deviation below or 1 standard deviation above the mean. "
     ]
    },
    {
     "cell_type": "code",
     "collapsed": false,
     "input": [
      "ev = [{\"GCSE\": -1, \"Gender\": 1}, {\"GCSE\": 1, \"Gender\": 0}]\n",
      "fig = result1.plot_distribution(None, ev)\n",
      "ax = fig.get_axes()[0]\n",
      "leg = plt.figlegend(ax.get_lines(), [\"-1SD GCSE\", \"+1SD GCSE\"], \"upper center\", ncol=2)\n",
      "leg.draw_frame(False)"
     ],
     "language": "python",
     "metadata": {},
     "outputs": [
      {
       "metadata": {},
       "output_type": "display_data",
       "png": "iVBORw0KGgoAAAANSUhEUgAAAYQAAAEhCAYAAAB/bNeOAAAABHNCSVQICAgIfAhkiAAAAAlwSFlz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\n",
       "text": [
        "<matplotlib.figure.Figure at 0x7f6ddceacbd0>"
       ]
      }
     ],
     "prompt_number": 25
    },
    {
     "cell_type": "markdown",
     "metadata": {},
     "source": [
      "Now we can try a more sophisticated dependence model which accounts for the differing correlations between within-subject and\n",
      "between-subject indicators (as well as for different degrees of correlation among the within-subject indicators)."
     ]
    },
    {
     "cell_type": "code",
     "collapsed": false,
     "input": [
      "dep = sm.cov_struct.GlobalOddsRatio(\"ordinal\")"
     ],
     "language": "python",
     "metadata": {},
     "outputs": [],
     "prompt_number": 29
    },
    {
     "cell_type": "markdown",
     "metadata": {},
     "source": [
      "Here we fit the model again using the new dependence structure.  The parameter estimates from the exchangeable model can be used as\n",
      "starting values.  This currently takes quite a while to run to convergence, so here we limit the number of iterations.  Since we limit the number of iterations, we get a convergence warning message.  We can ignore this message here since we have done this deliberately."
     ]
    },
    {
     "cell_type": "code",
     "collapsed": false,
     "input": [
      "model2 = sm.OrdinalGEE(endog, exog, groups, cov_struct=dep)\n",
      "result2 = model2.fit(start_params=result1.params, maxiter=2)\n",
      "print result2.summary()"
     ],
     "language": "python",
     "metadata": {},
     "outputs": [
      {
       "output_type": "stream",
       "stream": "stdout",
       "text": [
        "                           OrdinalGEE Regression Results                           \n",
        "===================================================================================\n",
        "Dep. Variable:                     A-Score   No. Observations:               155110\n",
        "Model:                          OrdinalGEE   No. clusters:                     2410\n",
        "Method:                        Generalized   Min. cluster size:                   5\n",
        "                      Estimating Equations   Max. cluster size:                 940\n",
        "Family:                           Binomial   Mean cluster size:                64.4\n",
        "Dependence structure:      GlobalOddsRatio   Num. iterations:                     2\n",
        "Date:                     Mon, 12 Jan 2015   Scale:                           1.000\n",
        "Covariance type:                    robust   Time:                         01:07:51\n",
        "==============================================================================\n",
        "                 coef    std err          z      P>|z|      [95.0% Conf. Int.]\n",
        "------------------------------------------------------------------------------\n",
        "I(y>0.0)       3.0021      0.036     83.751      0.000         2.932     3.072\n",
        "I(y>2.0)       1.8451      0.028     65.154      0.000         1.790     1.901\n",
        "I(y>4.0)       0.7979      0.025     31.969      0.000         0.749     0.847\n",
        "I(y>6.0)      -0.3360      0.025    -13.689      0.000        -0.384    -0.288\n",
        "I(y>8.0)      -1.8018      0.027    -66.548      0.000        -1.855    -1.749\n",
        "Gender        -0.5759      0.025    -23.013      0.000        -0.625    -0.527\n",
        "Age           -0.0297      0.003    -11.060      0.000        -0.035    -0.024\n",
        "GCSE           1.7267      0.021     83.945      0.000         1.686     1.767\n",
        "==============================================================================\n",
        "Skew:                         -0.1419   Kurtosis:                       0.4969\n",
        "Centered skew:                -0.1056   Centered kurtosis:              0.3495\n",
        "==============================================================================\n"
       ]
      },
      {
       "output_type": "stream",
       "stream": "stderr",
       "text": [
        "/projects/3c16f532-d309-4425-850f-a41a8c8f8c92/statsmodels-master/statsmodels/genmod/generalized_estimating_equations.py:1078: IterationLimitWarning: Iteration limit reached prior to convergence\n",
        "  IterationLimitWarning)\n"
       ]
      }
     ]
    },
    {
     "cell_type": "markdown",
     "metadata": {},
     "source": [
      "We have already captured much more of the dependence structure than when working with the exchangeable correlation. However due to the large sample size, this does not impact the parameter estimates or standard errors very much."
     ]
    },
    {
     "cell_type": "code",
     "collapsed": false,
     "input": [
      "print dep.summary()"
     ],
     "language": "python",
     "metadata": {},
     "outputs": [
      {
       "output_type": "stream",
       "stream": "stdout",
       "text": [
        "Global odds ratio: 1.713\n",
        "\n"
       ]
      }
     ]
    }
   ],
   "metadata": {}
  }
 ]
}
=======
 "cells": [
  {
   "cell_type": "markdown",
   "metadata": {
    "application/vnd.databricks.v1+cell": {
     "cellMetadata": {},
     "inputWidgets": {},
     "nuid": "6b8578f5-925d-4c66-973b-ba774138a729",
     "showTitle": false,
     "title": ""
    }
   },
   "source": [
    "Generalized Estimating Equations\n",
    "================================\n",
    "\n",
    "*Key ideas:* GEE, ordinal data"
   ]
  },
  {
   "cell_type": "markdown",
   "metadata": {
    "application/vnd.databricks.v1+cell": {
     "cellMetadata": {},
     "inputWidgets": {},
     "nuid": "3dbc822a-c06a-4af7-a606-cc0b809e7b7c",
     "showTitle": false,
     "title": ""
    }
   },
   "source": [
    "This notebook demonstrates how ordinal regression models can be estimated using GEE.  Ordinal regression models have a dependent variable that takes on finitely many values that are ordered.\n",
    "\n",
    "The data are from a study of A-level exam scores in the UK.  A student receives one of 6 possible ordered scores on the exam, so the data are ordinal.  The students are clustered based on the school that they attended prior to taking the exam.  In addition to gender and age, we also have access to the student's score on a previous exam.  We can use regression analysis to assess how these three predictors are related to the score on the A-level exam.  GEE allows us to do this while accounting for the ordered structure of the response, and the (presumed) non-independence among students who attend the same school.  This non-independence could be driven by socioeconomic and other factors that cluster within neighborhoods or schools.\n",
    "\n",
    "The data are available from: http://www.bristol.ac.uk/cmm/learning/support/datasets/\n",
    "\n",
    "First we import all the libraries that we will need:"
   ]
  },
  {
   "cell_type": "code",
   "execution_count": 0,
   "metadata": {
    "application/vnd.databricks.v1+cell": {
     "cellMetadata": {},
     "inputWidgets": {},
     "nuid": "08155729-e615-4854-a1d5-e8ae740e42f3",
     "showTitle": false,
     "title": ""
    }
   },
   "outputs": [],
   "source": [
    "import numpy as np\n",
    "import pandas as pd\n",
    "import statsmodels.api as sm"
   ]
  },
  {
   "cell_type": "markdown",
   "metadata": {
    "application/vnd.databricks.v1+cell": {
     "cellMetadata": {},
     "inputWidgets": {},
     "nuid": "b6d3fa56-780c-4232-857d-8375cb853daf",
     "showTitle": false,
     "title": ""
    }
   },
   "source": [
    "The data are available from the link http://www.bristol.ac.uk/cmm/learning/support/datasets/ as the archive `momeg.zip`, which contains several files.  Here we will focus on the chemistry scores, contained in the file `a-level-chemistry.txt`."
   ]
  },
  {
   "cell_type": "code",
   "execution_count": 0,
   "metadata": {
    "application/vnd.databricks.v1+cell": {
     "cellMetadata": {},
     "inputWidgets": {},
     "nuid": "7df42d94-aaef-4c57-9ff9-ce8546319a2d",
     "showTitle": false,
     "title": ""
    }
   },
   "outputs": [],
   "source": [
    "data = pd.read_csv(\"a-level-chemistry.txt\", header=None, sep=' ')\n",
    "data.columns = [\"Board\", \"A-Score\", \"Gtot\", \"Gnum\",\n",
    "                \"Gender\", \"Age\", \"Inst_Type\", \"LEA\",\n",
    "                \"Institute\", \"Student\"]\n",
    "print data.head()\n",
    "print data.describe()"
   ]
  },
  {
   "cell_type": "markdown",
   "metadata": {
    "application/vnd.databricks.v1+cell": {
     "cellMetadata": {},
     "inputWidgets": {},
     "nuid": "637a1328-5a9c-4593-aadc-ba94582885d0",
     "showTitle": false,
     "title": ""
    }
   },
   "source": [
    "Here is a plot of the marginal distribution of exam scores."
   ]
  },
  {
   "cell_type": "code",
   "execution_count": 0,
   "metadata": {
    "application/vnd.databricks.v1+cell": {
     "cellMetadata": {},
     "inputWidgets": {},
     "nuid": "42284330-3ce1-45fe-a511-2980a1abdc16",
     "showTitle": false,
     "title": ""
    }
   },
   "outputs": [],
   "source": [
    "sc = np.unique(data[\"A-Score\"])\n",
    "sc_n = [sum(data[\"A-Score\"] == x) for x in sc]\n",
    "plt.bar(sc-0.25, sc_n, 0.5)\n",
    "plt.gca().set_xticks(sc)\n",
    "plt.gca().set_xticklabels([str(x) for x in sc])\n",
    "plt.xlim(-1, 11)\n",
    "plt.xlabel(\"A-level score\", size=17)\n",
    "plt.ylabel(\"Number of students\", size=17)"
   ]
  },
  {
   "cell_type": "markdown",
   "metadata": {
    "application/vnd.databricks.v1+cell": {
     "cellMetadata": {},
     "inputWidgets": {},
     "nuid": "50b04396-2ee8-4c34-8202-32dfc3c192de",
     "showTitle": false,
     "title": ""
    }
   },
   "source": [
    "We will use the student's score on the GCSE as one predictor of the A-level score.  This can be viewed as a control for baseline achievement.  The GCSE is a more basic exam than the A-level exam, but there should be a positive association between GCSE and A-level scores.\n",
    "\n",
    "The GCSE has several components, and not all students take all of the components.  The variable 'Gtot' in the data set is the sum of scores over all the components taken by a given student.  We divide the sum by the number of components taken to obtain a mean score that is not inflated just because a student takes more exams."
   ]
  },
  {
   "cell_type": "code",
   "execution_count": 0,
   "metadata": {
    "application/vnd.databricks.v1+cell": {
     "cellMetadata": {},
     "inputWidgets": {},
     "nuid": "08fd6adf-507d-422b-8bc7-221559bd2343",
     "showTitle": false,
     "title": ""
    }
   },
   "outputs": [],
   "source": [
    "data[\"GCSE\"] = data[\"Gtot\"] / data[\"Gnum\"]"
   ]
  },
  {
   "cell_type": "markdown",
   "metadata": {
    "application/vnd.databricks.v1+cell": {
     "cellMetadata": {},
     "inputWidgets": {},
     "nuid": "3f39dfb8-60a3-42c3-ab7e-0565969aa407",
     "showTitle": false,
     "title": ""
    }
   },
   "source": [
    "There are two levels of clustering in these data.  The \"LEA\" is a grouping of schools in a local area, and the \"Institute\" variable is the actual school that a student attends.  Institute codes are recycled across the LEA's, so here we create a composite code that reflects both the LEA and the institute."
   ]
  },
  {
   "cell_type": "code",
   "execution_count": 0,
   "metadata": {
    "application/vnd.databricks.v1+cell": {
     "cellMetadata": {},
     "inputWidgets": {},
     "nuid": "0200c15d-914b-426f-8e0b-39b32cf8b6c6",
     "showTitle": false,
     "title": ""
    }
   },
   "outputs": [],
   "source": [
    "data[\"School\"] = [str(x) + str(y) for x,y in\n",
    "                  zip(data[\"LEA\"], data[\"Institute\"])]\n",
    "\n",
    "us = set(data[\"School\"])\n",
    "us = {x: k for k,x in enumerate(list(us))}\n",
    "data[\"School\"] = [us[x] for x in data[\"School\"]]"
   ]
  },
  {
   "cell_type": "markdown",
   "metadata": {
    "application/vnd.databricks.v1+cell": {
     "cellMetadata": {},
     "inputWidgets": {},
     "nuid": "d6cec5b4-27a6-47a5-815f-3660cc29b381",
     "showTitle": false,
     "title": ""
    }
   },
   "source": [
    "These are all the variables in the analysis."
   ]
  },
  {
   "cell_type": "code",
   "execution_count": 0,
   "metadata": {
    "application/vnd.databricks.v1+cell": {
     "cellMetadata": {},
     "inputWidgets": {},
     "nuid": "82dc7c40-36e0-4a3e-9b2f-1aa42ea07203",
     "showTitle": false,
     "title": ""
    }
   },
   "outputs": [],
   "source": [
    "endog = data[\"A-Score\"]\n",
    "exog = data[[\"Gender\", \"Age\", \"GCSE\"]]\n",
    "groups = data[\"School\"]"
   ]
  },
  {
   "cell_type": "markdown",
   "metadata": {
    "application/vnd.databricks.v1+cell": {
     "cellMetadata": {},
     "inputWidgets": {},
     "nuid": "c1dfea17-d346-49f0-b1cb-cbebe1c9cbe0",
     "showTitle": false,
     "title": ""
    }
   },
   "source": [
    "We will convert the GCSE score to a Z-score since we don't really care about the scale."
   ]
  },
  {
   "cell_type": "code",
   "execution_count": 0,
   "metadata": {
    "application/vnd.databricks.v1+cell": {
     "cellMetadata": {},
     "inputWidgets": {},
     "nuid": "e491f592-01b1-4189-8dff-7d545d580479",
     "showTitle": false,
     "title": ""
    }
   },
   "outputs": [],
   "source": [
    "mn = exog.loc[:, \"GCSE\"].mean()\n",
    "sd = exog.loc[:, \"GCSE\"].std()\n",
    "exog.loc[:, \"GCSE\"] = (exog.loc[:, \"GCSE\"] - mn) / sd"
   ]
  },
  {
   "cell_type": "markdown",
   "metadata": {
    "application/vnd.databricks.v1+cell": {
     "cellMetadata": {},
     "inputWidgets": {},
     "nuid": "43bd1255-0661-477b-8627-591c7956012e",
     "showTitle": false,
     "title": ""
    }
   },
   "source": [
    "As a basic initial model we will treat all the indicators as being independent.  Although this is clearly not correct, the GEE estimates and standard errors are still meaningful."
   ]
  },
  {
   "cell_type": "code",
   "execution_count": 0,
   "metadata": {
    "application/vnd.databricks.v1+cell": {
     "cellMetadata": {},
     "inputWidgets": {},
     "nuid": "5a4442db-3d89-4596-b0a6-376428e0e70b",
     "showTitle": false,
     "title": ""
    }
   },
   "outputs": [],
   "source": [
    "ind = sm.cov_struct.Independence()\n",
    "model0 = sm.OrdinalGEE(endog, exog, groups, cov_struct=ind)\n",
    "result0 = model0.fit()\n",
    "print result0.summary()\n",
    "print ind.summary()"
   ]
  },
  {
   "cell_type": "markdown",
   "metadata": {
    "application/vnd.databricks.v1+cell": {
     "cellMetadata": {},
     "inputWidgets": {},
     "nuid": "77e6fdfd-d109-4bc7-8ac6-f280a31a074b",
     "showTitle": false,
     "title": ""
    }
   },
   "source": [
    "Next we fit the same model with an exhangeable covariance structure.  This dependence structure treats all binary indicators from a given\n",
    "cluster as having the same pairwise correlation.  Since some indicators are \"between subjects\" and others are \"within subjects\", this may not reflect the true dependence very well.  Here we limit the iterations so there will be a convergence warning."
   ]
  },
  {
   "cell_type": "code",
   "execution_count": 0,
   "metadata": {
    "application/vnd.databricks.v1+cell": {
     "cellMetadata": {},
     "inputWidgets": {},
     "nuid": "2e5d66e7-44f6-4069-a981-ec9ec8274cd2",
     "showTitle": false,
     "title": ""
    }
   },
   "outputs": [],
   "source": [
    "ex = sm.cov_struct.Exchangeable()\n",
    "model1 = sm.OrdinalGEE(endog, exog, groups, cov_struct=ex)\n",
    "result1 = model1.fit(maxiter=5)\n",
    "print result1.summary()\n",
    "print ex.summary()"
   ]
  },
  {
   "cell_type": "markdown",
   "metadata": {
    "application/vnd.databricks.v1+cell": {
     "cellMetadata": {},
     "inputWidgets": {},
     "nuid": "155364a5-58b7-4fdc-94c8-6034327f5c9f",
     "showTitle": false,
     "title": ""
    }
   },
   "source": [
    "The dependence is weak, perhaps due to the oversimplicity of the dependence model:"
   ]
  },
  {
   "cell_type": "markdown",
   "metadata": {
    "application/vnd.databricks.v1+cell": {
     "cellMetadata": {},
     "inputWidgets": {},
     "nuid": "1e349678-9094-4544-81a7-9e04be254ecd",
     "showTitle": false,
     "title": ""
    }
   },
   "source": [
    "Next we plot the conditional probability distributions of the A-level exam scores for females and males.  Age and the GCSE score are held fixed at their mean values."
   ]
  },
  {
   "cell_type": "code",
   "execution_count": 0,
   "metadata": {
    "application/vnd.databricks.v1+cell": {
     "cellMetadata": {},
     "inputWidgets": {},
     "nuid": "42be97fd-3219-46f7-9adf-18b72f00d3ee",
     "showTitle": false,
     "title": ""
    }
   },
   "outputs": [],
   "source": [
    "ev = [{\"Gender\": 1}, {\"Gender\": 0}]\n",
    "fig = result1.plot_distribution(None, ev)\n",
    "ax = fig.get_axes()[0]\n",
    "leg = plt.figlegend(ax.get_lines(), [\"Females\", \"Males\"], \"upper center\", ncol=2)\n",
    "leg.draw_frame(False)"
   ]
  },
  {
   "cell_type": "markdown",
   "metadata": {
    "application/vnd.databricks.v1+cell": {
     "cellMetadata": {},
     "inputWidgets": {},
     "nuid": "fe6f29fa-0411-4b07-b8c9-618391b551b5",
     "showTitle": false,
     "title": ""
    }
   },
   "source": [
    "Here is a plot of the fitted distribution of A-level exam scores for females of average age, when the GCSE exam score is either 1 standard deviation below or 1 standard deviation above the mean."
   ]
  },
  {
   "cell_type": "code",
   "execution_count": 0,
   "metadata": {
    "application/vnd.databricks.v1+cell": {
     "cellMetadata": {},
     "inputWidgets": {},
     "nuid": "d3ba30d1-cf47-4c34-afce-f4a386778178",
     "showTitle": false,
     "title": ""
    }
   },
   "outputs": [],
   "source": [
    "ev = [{\"GCSE\": -1, \"Gender\": 1}, {\"GCSE\": 1, \"Gender\": 0}]\n",
    "fig = result1.plot_distribution(None, ev)\n",
    "ax = fig.get_axes()[0]\n",
    "leg = plt.figlegend(ax.get_lines(), [\"-1SD GCSE\", \"+1SD GCSE\"], \"upper center\", ncol=2)\n",
    "leg.draw_frame(False)"
   ]
  },
  {
   "cell_type": "markdown",
   "metadata": {
    "application/vnd.databricks.v1+cell": {
     "cellMetadata": {},
     "inputWidgets": {},
     "nuid": "3023ccf8-7c82-42e2-b446-a9d61c0308d4",
     "showTitle": false,
     "title": ""
    }
   },
   "source": [
    "Now we can try a more sophisticated dependence model which accounts for the differing correlations between within-subject and\n",
    "between-subject indicators (as well as for different degrees of correlation among the within-subject indicators)."
   ]
  },
  {
   "cell_type": "code",
   "execution_count": 0,
   "metadata": {
    "application/vnd.databricks.v1+cell": {
     "cellMetadata": {},
     "inputWidgets": {},
     "nuid": "02578e44-9344-4a0d-85eb-2cc57a9778c1",
     "showTitle": false,
     "title": ""
    }
   },
   "outputs": [],
   "source": [
    "dep = sm.cov_struct.GlobalOddsRatio(\"ordinal\")"
   ]
  },
  {
   "cell_type": "markdown",
   "metadata": {
    "application/vnd.databricks.v1+cell": {
     "cellMetadata": {},
     "inputWidgets": {},
     "nuid": "60d20757-0313-4eb9-8c82-1c2be59bb530",
     "showTitle": false,
     "title": ""
    }
   },
   "source": [
    "Here we fit the model again using the new dependence structure.  The parameter estimates from the exchangeable model can be used as\n",
    "starting values.  This currently takes quite a while to run to convergence, so here we limit the number of iterations.  Since we limit the number of iterations, we get a convergence warning message.  We can ignore this message here since we have done this deliberately."
   ]
  },
  {
   "cell_type": "code",
   "execution_count": 0,
   "metadata": {
    "application/vnd.databricks.v1+cell": {
     "cellMetadata": {},
     "inputWidgets": {},
     "nuid": "c177c46a-9a54-4d42-aed7-3cc41aa35c0d",
     "showTitle": false,
     "title": ""
    }
   },
   "outputs": [],
   "source": [
    "model2 = sm.OrdinalGEE(endog, exog, groups, cov_struct=dep)\n",
    "result2 = model2.fit(start_params=result1.params, maxiter=2)\n",
    "print result2.summary()"
   ]
  },
  {
   "cell_type": "markdown",
   "metadata": {
    "application/vnd.databricks.v1+cell": {
     "cellMetadata": {},
     "inputWidgets": {},
     "nuid": "28545eb2-21d5-4f47-ace1-b599ac09751e",
     "showTitle": false,
     "title": ""
    }
   },
   "source": [
    "We have already captured much more of the dependence structure than when working with the exchangeable correlation. However due to the large sample size, this does not impact the parameter estimates or standard errors very much."
   ]
  },
  {
   "cell_type": "code",
   "execution_count": 0,
   "metadata": {
    "application/vnd.databricks.v1+cell": {
     "cellMetadata": {},
     "inputWidgets": {},
     "nuid": "83dd2f95-3def-4df4-b2bc-999ac4dd95c6",
     "showTitle": false,
     "title": ""
    }
   },
   "outputs": [],
   "source": [
    "print dep.summary()"
   ]
  }
 ],
 "metadata": {
  "application/vnd.databricks.v1+notebook": {
   "dashboards": [],
   "language": "python",
   "notebookMetadata": {},
   "notebookName": "GEE_ordinal_alevel",
   "widgets": {}
  },
  "name": "",
  "signature": "sha256:602405045c8394665e32cab3af5f34cc2f2b51975949ad2efdbbe213ceb00ef3"
 },
 "nbformat": 4,
 "nbformat_minor": 0
}
>>>>>>> Stashed changes
