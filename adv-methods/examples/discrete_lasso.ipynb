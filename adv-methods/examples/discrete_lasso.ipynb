{
 "metadata": {
  "name": "",
  "signature": "sha256:31909d45aef104cb1929f708a9dab5565b6b9e97f22a37d3e55bf6c18e6d1f15"
 },
 "nbformat": 3,
 "nbformat_minor": 0,
 "worksheets": [
  {
   "cells": [
    {
     "cell_type": "markdown",
     "metadata": {},
     "source": [
      "L1 regularized logistic regression\n",
      "===================================\n",
      "\n",
      "*Key ideas:* L1 regularization, logistic regression, simulation study"
     ]
    },
    {
     "cell_type": "markdown",
     "metadata": {},
     "source": [
      "L1 penalized regression is an approach that can be used to select variables in a regression model.  Some of the regression models implemented in Statsmodels have a *fit_regularized* method that can be used in place of the usual *fit* method to obtain a fit with L1 regularization.\n",
      "\n",
      "In this notebook, we demonstrate L1 penalized logistic regression using the logistic regression provided in the discrete_model module (there is another implementaiton of logistic regression in the genmod module that does not currently have L1 regularization).\n",
      "\n",
      "We start with a few import statements:"
     ]
    },
    {
     "cell_type": "code",
     "collapsed": false,
     "input": [
      "from statsmodels.discrete.discrete_model import Logit\n",
      "import numpy as np"
     ],
     "language": "python",
     "metadata": {},
     "outputs": [],
     "prompt_number": 1
    },
    {
     "cell_type": "markdown",
     "metadata": {},
     "source": [
      "Next we simulate data that follows the standard logistic regression generating model.  We specify a model in which most of the variables have no relationship with the response.  These coefficients should be shrunk to zero by the L1 procedure if there is enough data."
     ]
    },
    {
     "cell_type": "code",
     "collapsed": false,
     "input": [
      "n = 200\n",
      "p = 10\n",
      "exog = np.random.normal(size=(n,p))\n",
      "lpred = exog[:,0] + 0.5*exog[:,1] - 0.5*exog[:,2]\n",
      "prob = 1 / (1 + np.exp(-lpred))\n",
      "endog = 1*(np.random.uniform(size=n) <= prob)"
     ],
     "language": "python",
     "metadata": {},
     "outputs": [],
     "prompt_number": 2
    },
    {
     "cell_type": "markdown",
     "metadata": {},
     "source": [
      "First, for comparison, we fit a traditional logistic regression without regularization:"
     ]
    },
    {
     "cell_type": "code",
     "collapsed": false,
     "input": [
      "mod = Logit(endog, exog)\n",
      "rslt1 = mod.fit()\n",
      "print rslt1.summary()"
     ],
     "language": "python",
     "metadata": {},
     "outputs": [
      {
       "output_type": "stream",
       "stream": "stdout",
       "text": [
        "Optimization terminated successfully.\n",
        "         Current function value: 0.576504\n",
        "         Iterations 5\n",
        "                           Logit Regression Results                           \n",
        "==============================================================================\n",
        "Dep. Variable:                      y   No. Observations:                  200\n",
        "Model:                          Logit   Df Residuals:                      190\n",
        "Method:                           MLE   Df Model:                            9\n",
        "Date:                Fri, 18 Jul 2014   Pseudo R-squ.:                  0.1595\n",
        "Time:                        19:13:41   Log-Likelihood:                -115.30\n",
        "converged:                       True   LL-Null:                       -137.19\n",
        "                                        LLR p-value:                 1.556e-06\n",
        "==============================================================================\n",
        "                 coef    std err          z      P>|z|      [95.0% Conf. Int.]\n",
        "------------------------------------------------------------------------------\n",
        "x1             0.9861      0.186      5.288      0.000         0.621     1.352\n",
        "x2             0.4116      0.160      2.576      0.010         0.098     0.725\n",
        "x3            -0.0370      0.154     -0.241      0.810        -0.339     0.265\n",
        "x4             0.3095      0.165      1.876      0.061        -0.014     0.633\n",
        "x5             0.1902      0.159      1.198      0.231        -0.121     0.501\n",
        "x6            -0.1029      0.171     -0.601      0.548        -0.438     0.232\n",
        "x7            -0.0634      0.156     -0.406      0.685        -0.370     0.243\n",
        "x8             0.1059      0.169      0.625      0.532        -0.226     0.438\n",
        "x9            -0.0159      0.156     -0.102      0.919        -0.321     0.290\n",
        "x10            0.2284      0.153      1.488      0.137        -0.072     0.529\n",
        "=============================================================================="
       ]
      },
      {
       "output_type": "stream",
       "stream": "stdout",
       "text": [
        "\n"
       ]
      }
     ],
     "prompt_number": 3
    },
    {
     "cell_type": "markdown",
     "metadata": {},
     "source": [
      "To fit a regularized model, we must specify a tuning parameter denoted *alpha* that determines the strength of the penalty.  Greater vaues of *alpha* will result in fitted models with a greater number of coefficients that are equal to zero.  Here we arbitarily set *alpha* to 10: "
     ]
    },
    {
     "cell_type": "code",
     "collapsed": false,
     "input": [
      "rslt2 = mod.fit_regularized(alpha=10, disp=False)\n",
      "print rslt2.summary()"
     ],
     "language": "python",
     "metadata": {},
     "outputs": [
      {
       "output_type": "stream",
       "stream": "stdout",
       "text": [
        "                           Logit Regression Results                           \n",
        "==============================================================================\n",
        "Dep. Variable:                      y   No. Observations:                  200\n",
        "Model:                          Logit   Df Residuals:                      197\n",
        "Method:                           MLE   Df Model:                            2\n",
        "Date:                Fri, 18 Jul 2014   Pseudo R-squ.:                  0.1114\n",
        "Time:                        19:13:41   Log-Likelihood:                -121.91\n",
        "converged:                       True   LL-Null:                       -137.19\n",
        "                                        LLR p-value:                 2.316e-07\n",
        "==============================================================================\n",
        "                 coef    std err          z      P>|z|      [95.0% Conf. Int.]\n",
        "------------------------------------------------------------------------------\n",
        "x1             0.6058      0.158      3.831      0.000         0.296     0.916\n",
        "x2             0.1708      0.141      1.207      0.227        -0.106     0.448\n",
        "x3                  0        nan        nan        nan           nan       nan\n",
        "x4                  0        nan        nan        nan           nan       nan\n",
        "x5                  0        nan        nan        nan           nan       nan\n",
        "x6                  0        nan        nan        nan           nan       nan\n",
        "x7                  0        nan        nan        nan           nan       nan\n",
        "x8                  0        nan        nan        nan           nan       nan\n",
        "x9                  0        nan        nan        nan           nan       nan\n",
        "x10            0.0287      0.137      0.209      0.835        -0.240     0.298\n",
        "==============================================================================\n"
       ]
      }
     ],
     "prompt_number": 4
    },
    {
     "cell_type": "markdown",
     "metadata": {},
     "source": [
      "The *solution path* is the set of all coefficient estimates, expressed as a function of the penalty parameter.  Here we (roughly) obtain the solution path by fitting the regularized regression with a sequence of penalty weights."
     ]
    },
    {
     "cell_type": "code",
     "collapsed": false,
     "input": [
      "alpha = np.linspace(0, 50, 50)\n",
      "params = []\n",
      "for a in alpha:\n",
      "    rslt2 = mod.fit_regularized(alpha=a, disp=False)\n",
      "    params.append(rslt2.params)\n",
      "params = np.asarray(params)"
     ],
     "language": "python",
     "metadata": {},
     "outputs": [],
     "prompt_number": 5
    },
    {
     "cell_type": "markdown",
     "metadata": {},
     "source": [
      "Here is a plot of the solution paths for all 10 covariates.  The covariates with nonzero coefficients in the data generating model are plotted in colors, the paths for the other coefficients are plotted in grey."
     ]
    },
    {
     "cell_type": "code",
     "collapsed": false,
     "input": [
      "plt.clf()\n",
      "cmap = {0: \"red\", 1: \"green\", 2: \"blue\"}\n",
      "for k in range(10):\n",
      "    color = 'grey'\n",
      "    if k in (0, 1, 2):\n",
      "        color = cmap[k]\n",
      "    plt.plot(alpha, params[:,k], color=color)\n",
      "plt.xlabel(\"Penalty weight\", size=17)\n",
      "plt.ylabel(\"Coefficient\", size=17)"
     ],
     "language": "python",
     "metadata": {},
     "outputs": [
      {
       "metadata": {},
       "output_type": "pyout",
       "prompt_number": 6,
       "text": [
        "<matplotlib.text.Text at 0x4b08610>"
       ]
      },
      {
       "metadata": {},
       "output_type": "display_data",
       "png": "[encoded data removed]",
       "text": [
        "<matplotlib.figure.Figure at 0x4afe5d0>"
       ]
      }
     ],
     "prompt_number": 6
    }
   ],
   "metadata": {}
  }
 ]
}
