{
<<<<<<< Updated upstream
 "metadata": {
  "name": "",
  "signature": "sha256:45b9baca46e18115edbd41bc751ff27fee2e5e850fddba8b21f03d5ddf272e2b"
 },
 "nbformat": 3,
 "nbformat_minor": 0,
 "worksheets": [
  {
   "cells": [
    {
     "cell_type": "markdown",
     "metadata": {},
     "source": [
      "False discovery rates\n",
      "=====================\n",
      "\n",
      "*Key ideas:* Gene expression data, multiple hypothesis testing, false discovery rate"
     ]
    },
    {
     "cell_type": "markdown",
     "metadata": {},
     "source": [
      "This notebook demonstrates how to do a simple differential expression analysis on a gene expression dataset.  We use false discovery rates to provide interpretable results when conducting an analysis that involves large scale multiple hypothesis testing.\n",
      "\n",
      "The data set we analyze here contains measurements of the expression levels of 22,283 genes in peripheral blood mononuclear cells (PBMCs). Data for 127 subjects are included, 26 of whom have ulcerative colitis, and 59 of whom have Crohn's disease (the remaining subjects are healthy and will not be considered here). The goal is to identify genes that have different mean expression levels in the two disease groups.\n",
      "\n",
      "The raw data are available [here](http://www.ncbi.nlm.nih.gov/sites/GDSbrowser?acc=GDS1615) as accession number GDS1615 from the NCBI's GEO (Gene Expression Omnibus) site.\n",
      "\n",
      "Here are the import statements for the modules that we will use."
     ]
    },
    {
     "cell_type": "code",
     "collapsed": false,
     "input": [
      "import gzip\n",
      "import numpy as np\n",
      "import urllib2\n",
      "import gzip\n",
      "from StringIO import StringIO\n",
      "from statsmodels.stats.multitest import multipletests\n",
      "from scipy.stats.distributions import norm\n",
      "import matplotlib.pyplot as plt"
     ],
     "language": "python",
     "metadata": {},
     "outputs": [],
     "prompt_number": 1
    },
    {
     "cell_type": "markdown",
     "metadata": {},
     "source": [
      "We cannot decompress data on the fly while reading from a url, so instead we first download the compressed data into a string, wrap the string in a stringio object, and wrap that in a gzipfile object that can do the decompression."
     ]
    },
    {
     "cell_type": "code",
     "collapsed": false,
     "input": [
      "url = urllib2.urlopen(\"ftp://ftp.ncbi.nlm.nih.gov/geo/datasets/GDS1nnn/GDS1615/soft/GDS1615_full.soft.gz\") \n",
      "zdata = url.read()\n",
      "sio = StringIO(zdata)\n",
      "fid = gzip.GzipFile(fileobj=sio)"
     ],
     "language": "python",
     "metadata": {},
     "outputs": [],
     "prompt_number": 2
    },
    {
     "cell_type": "markdown",
     "metadata": {},
     "source": [
      "Alternatively, the data can be downloaded and read this way:\n",
      "    \n",
      "fid = gzip.open(\"GDS1615_full.soft.gz\")\n",
      "\n",
      "Next we read the SOFT format data file into the following data structures:\n",
      "\n",
      "* GID : A list of gene identifiers of length d\n",
      "* SID : A list of sample identifiers of length n\n",
      "* STP : A list of sample desriptions of length d\n",
      "* X   : A dxn array of gene expression values\n",
      "    \n",
      "We begin by reading the header section of the data file, and placing the information we need into a dictionary:"
     ]
    },
    {
     "cell_type": "code",
     "collapsed": false,
     "input": [
      "SIF = {}\n",
      "for line in fid:\n",
      "    if line.startswith(\"!dataset_table_begin\"):\n",
      "        break\n",
      "    elif line.startswith(\"!subset_description\"):\n",
      "        subset_description = line.split(\"=\")[1].strip()\n",
      "    elif line.startswith(\"!subset_sample_id\"):\n",
      "        subset_ids = line.split(\"=\")[1].split(\",\")\n",
      "        subset_ids = [x.strip() for x in subset_ids]\n",
      "        for k in subset_ids:\n",
      "            SIF[k] = subset_description"
     ],
     "language": "python",
     "metadata": {},
     "outputs": [],
     "prompt_number": 3
    },
    {
     "cell_type": "markdown",
     "metadata": {},
     "source": [
      "Now we create arrays containing some information we will need while processing the data."
     ]
    },
    {
     "cell_type": "code",
     "collapsed": false,
     "input": [
      "# Next line is the column headers (sample id's)\n",
      "SID = fid.next().split(\"\\t\")\n",
      "\n",
      "# The column indices that contain gene expression data\n",
      "I = [i for i,x in enumerate(SID) if x.startswith(\"GSM\")]\n",
      "\n",
      "# Restrict the column headers to those that we keep\n",
      "SID = [SID[i] for i in I]\n",
      "\n",
      "# Get a list of sample labels\n",
      "STP = [SIF[k] for k in SID]"
     ],
     "language": "python",
     "metadata": {},
     "outputs": [],
     "prompt_number": 4
    },
    {
     "cell_type": "markdown",
     "metadata": {},
     "source": [
      "Next we read the gene expression data row by row, and place the gene id's into a separate array."
     ]
    },
    {
     "cell_type": "code",
     "collapsed": false,
     "input": [
      "# Read the gene expression data as a list of lists, also get the gene identifiers\n",
      "GID,X = [],[]\n",
      "for line in fid:\n",
      "\n",
      "    # This is what signals the end of the gene expression data\n",
      "    # section in the file\n",
      "    if line.startswith(\"!dataset_table_end\"):\n",
      "        break\n",
      "\n",
      "    V = line.split(\"\\t\")\n",
      "\n",
      "    # Extract the values that correspond to gene expression measures\n",
      "    # and convert the strings to numbers\n",
      "    x = [float(V[i]) for i in I]\n",
      "\n",
      "    X.append(np.asarray(x))\n",
      "    GID.append(V[0] + \";\" + V[1])\n",
      "\n",
      "# Convert the Python list of lists to a Numpy array.\n",
      "X = np.asarray(X)"
     ],
     "language": "python",
     "metadata": {},
     "outputs": [],
     "prompt_number": 5
    },
    {
     "cell_type": "markdown",
     "metadata": {},
     "source": [
      "We are comparing two groups, and will ignore the remaining (healthy) samples.  Here we get the column indices of the samples in each of the two groups being compared."
     ]
    },
    {
     "cell_type": "code",
     "collapsed": false,
     "input": [
      "# The indices of samples for the ulcerative colitis group\n",
      "UC = [i for i,x in enumerate(STP) if x == \"ulcerative colitis\"]\n",
      "\n",
      "# The indices of samples for the Crohn's disease group\n",
      "CD = [i for i,x in enumerate(STP) if x == \"Crohn's disease\"]"
     ],
     "language": "python",
     "metadata": {},
     "outputs": [],
     "prompt_number": 6
    },
    {
     "cell_type": "markdown",
     "metadata": {},
     "source": [
      "Gene expression data is usually skewed, so we analyze it on the log scale."
     ]
    },
    {
     "cell_type": "code",
     "collapsed": false,
     "input": [
      "XL = np.log(X) / np.log(2)"
     ],
     "language": "python",
     "metadata": {},
     "outputs": [],
     "prompt_number": 7
    },
    {
     "cell_type": "markdown",
     "metadata": {},
     "source": [
      "Now that we have the data, we can calculate the mean and variance for each gene within each of the two groups."
     ]
    },
    {
     "cell_type": "code",
     "collapsed": false,
     "input": [
      "MUC = XL[:,UC].mean(1) ## Mean of ulcerative colitis samples\n",
      "MCD = XL[:,CD].mean(1) ## Mean of Crohn's disease samples\n",
      "VUC = XL[:,UC].var(1)  ## Variance of ulcerative colitis samples\n",
      "VCD = XL[:,CD].var(1)  ## Variance of Crohn's disease samples\n",
      "nUC = len(UC)          ## Number of ulcerative colitis samples\n",
      "nCD = len(CD)          ## Number of Crohn's disease samples"
     ],
     "language": "python",
     "metadata": {},
     "outputs": [],
     "prompt_number": 8
    },
    {
     "cell_type": "markdown",
     "metadata": {},
     "source": [
      "The Z-scores summarize the evidence for differential expression."
     ]
    },
    {
     "cell_type": "code",
     "collapsed": false,
     "input": [
      "zscores = (MUC - MCD) / np.sqrt(VUC/nUC + VCD/nCD)"
     ],
     "language": "python",
     "metadata": {},
     "outputs": [],
     "prompt_number": 9
    },
    {
     "cell_type": "markdown",
     "metadata": {},
     "source": [
      "If a gene is not differentially expressed, it has the same expected value in the two groups of samples. In this case, the Z-score will be standardized (i.e. will have mean zero and unit standard deviation). This data set contains data for 22,283 genes. So if none of the genes are differentially expressed, our Z-scores should approximately have zero mean and unit variance. We can check this as follows."
     ]
    },
    {
     "cell_type": "code",
     "collapsed": false,
     "input": [
      "print zscores.mean()\n",
      "print zscores.std()"
     ],
     "language": "python",
     "metadata": {},
     "outputs": [
      {
       "output_type": "stream",
       "stream": "stdout",
       "text": [
        "0.174053802007\n",
        "1.50181311998\n"
       ]
      }
     ],
     "prompt_number": 10
    },
    {
     "cell_type": "markdown",
     "metadata": {},
     "source": [
      "Since the standard deviation is much greater than 1, there appear to be multiple genes for which the mean expression levels in the ulcerative colitis and Crohn's disease samples differ. Further, since the mean Z-score is positive, it appears that the dominant pattern is for genes to be expressed at a higher level in the ulcerative colitis compared to the Crohn's disease samples.\n",
      "\n",
      "The conventional threshold for statistical significance is a p-value smaller than 0.05, which corresponds to the Z-score being greater than 2 in magnitude. Many genes meet this condition, however as we will see below this does not carry much evidence that these genes are differentially expressed."
     ]
    },
    {
     "cell_type": "code",
     "collapsed": false,
     "input": [
      "print np.mean(np.abs(zscores) > 2)\n",
      "print np.mean(zscores > 2)\n",
      "print np.mean(zscores < -2)"
     ],
     "language": "python",
     "metadata": {},
     "outputs": [
      {
       "output_type": "stream",
       "stream": "stdout",
       "text": [
        "0.175470089306\n",
        "0.108199075528\n",
        "0.0672710137773\n"
       ]
      }
     ],
     "prompt_number": 11
    },
    {
     "cell_type": "markdown",
     "metadata": {},
     "source": [
      "To use the multiple testing methods we need to convert the Z-scores to p-values."
     ]
    },
    {
     "cell_type": "code",
     "collapsed": false,
     "input": [
      "pvalues = 2*norm.cdf(-np.abs(zscores))"
     ],
     "language": "python",
     "metadata": {},
     "outputs": [],
     "prompt_number": 12
    },
    {
     "cell_type": "markdown",
     "metadata": {},
     "source": [
      "Here we compute the Benjamini-Hochberg false discovery rates.  The adjusted p-values are in the first position of the returned value."
     ]
    },
    {
     "cell_type": "code",
     "collapsed": false,
     "input": [
      "pm = multipletests(pvalues, method=\"fdr_bh\")\n",
      "apv = pm[1]"
     ],
     "language": "python",
     "metadata": {},
     "outputs": [],
     "prompt_number": 13
    },
    {
     "cell_type": "markdown",
     "metadata": {},
     "source": [
      "This plot shows how the Z-scores and false discovery rates are related."
     ]
    },
    {
     "cell_type": "code",
     "collapsed": false,
     "input": [
      "ii = np.argsort(zscores)\n",
      "plt.plot(zscores[ii], apv[ii], '-')\n",
      "plt.xlabel(\"Z-score\")\n",
      "plt.ylabel(\"False Discovery Rate\")"
     ],
     "language": "python",
     "metadata": {},
     "outputs": [
      {
       "metadata": {},
       "output_type": "pyout",
       "prompt_number": 14,
       "text": [
        "<matplotlib.text.Text at 0x5221ed0>"
       ]
      },
      {
       "metadata": {},
       "output_type": "display_data",
       "png": "iVBORw0KGgoAAAANSUhEUgAAAYEAAAEPCAYAAACk43iMAAAABHNCSVQICAgIfAhkiAAAAAlwSFlz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\nsmIsAkREVoxFgIjIiv0/zffsQKmjYwoAAAAASUVORK5CYII=\n",
       "text": [
        "<matplotlib.figure.Figure at 0x371f110>"
       ]
      }
     ],
     "prompt_number": 14
    },
    {
     "cell_type": "markdown",
     "metadata": {},
     "source": [
      "This plot shows how the p-values and false discovery rates are related."
     ]
    },
    {
     "cell_type": "code",
     "collapsed": false,
     "input": [
      "ii = np.argsort(pvalues)\n",
      "plt.plot(pvalues[ii], apv[ii], '-')\n",
      "plt.xlabel(\"p-value\")\n",
      "plt.ylabel(\"False Discovery Rate\")"
     ],
     "language": "python",
     "metadata": {},
     "outputs": [
      {
       "metadata": {},
       "output_type": "pyout",
       "prompt_number": 15,
       "text": [
        "<matplotlib.text.Text at 0x3b69ad0>"
       ]
      },
      {
       "metadata": {},
       "output_type": "display_data",
       "png": "iVBORw0KGgoAAAANSUhEUgAAAYYAAAEPCAYAAABGP2P1AAAABHNCSVQICAgIfAhkiAAAAAlwSFlz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\nRKQKFQYREalChUFERKr4/7eKuTHm9il7AAAAAElFTkSuQmCC\n",
       "text": [
        "<matplotlib.figure.Figure at 0x521fdd0>"
       ]
      }
     ],
     "prompt_number": 15
    }
   ],
   "metadata": {}
  }
 ]
}
=======
 "cells": [
  {
   "cell_type": "markdown",
   "metadata": {
    "application/vnd.databricks.v1+cell": {
     "cellMetadata": {},
     "inputWidgets": {},
     "nuid": "86c9b5d2-5f4f-48b7-a2d5-addb36273075",
     "showTitle": false,
     "title": ""
    }
   },
   "source": [
    "False discovery rates\n",
    "=====================\n",
    "\n",
    "*Key ideas:* Gene expression data, multiple hypothesis testing, false discovery rate"
   ]
  },
  {
   "cell_type": "markdown",
   "metadata": {
    "application/vnd.databricks.v1+cell": {
     "cellMetadata": {},
     "inputWidgets": {},
     "nuid": "0ab256e7-5517-4987-97ab-225cbe2203ff",
     "showTitle": false,
     "title": ""
    }
   },
   "source": [
    "This notebook demonstrates how to do a simple differential expression analysis on a gene expression dataset.  We use false discovery rates to provide interpretable results when conducting an analysis that involves large scale multiple hypothesis testing.\n",
    "\n",
    "The data set we analyze here contains measurements of the expression levels of 22,283 genes in peripheral blood mononuclear cells (PBMCs). Data for 127 subjects are included, 26 of whom have ulcerative colitis, and 59 of whom have Crohn's disease (the remaining subjects are healthy and will not be considered here). The goal is to identify genes that have different mean expression levels in the two disease groups.\n",
    "\n",
    "The raw data are available [here](http://www.ncbi.nlm.nih.gov/sites/GDSbrowser?acc=GDS1615) as accession number GDS1615 from the NCBI's GEO (Gene Expression Omnibus) site.\n",
    "\n",
    "Here are the import statements for the modules that we will use."
   ]
  },
  {
   "cell_type": "code",
   "execution_count": 0,
   "metadata": {
    "application/vnd.databricks.v1+cell": {
     "cellMetadata": {},
     "inputWidgets": {},
     "nuid": "dc5228e7-be18-4e30-997d-bfb4505ddccd",
     "showTitle": false,
     "title": ""
    }
   },
   "outputs": [],
   "source": [
    "import gzip\n",
    "import numpy as np\n",
    "import urllib2\n",
    "import gzip\n",
    "from StringIO import StringIO\n",
    "from statsmodels.stats.multitest import multipletests\n",
    "from scipy.stats.distributions import norm\n",
    "import matplotlib.pyplot as plt"
   ]
  },
  {
   "cell_type": "markdown",
   "metadata": {
    "application/vnd.databricks.v1+cell": {
     "cellMetadata": {},
     "inputWidgets": {},
     "nuid": "de30e9ff-3e9c-47ce-a164-ce6e02209ffc",
     "showTitle": false,
     "title": ""
    }
   },
   "source": [
    "We cannot decompress data on the fly while reading from a url, so instead we first download the compressed data into a string, wrap the string in a stringio object, and wrap that in a gzipfile object that can do the decompression."
   ]
  },
  {
   "cell_type": "code",
   "execution_count": 0,
   "metadata": {
    "application/vnd.databricks.v1+cell": {
     "cellMetadata": {},
     "inputWidgets": {},
     "nuid": "0b56aaf7-5ddc-46a7-968e-11b4217421c7",
     "showTitle": false,
     "title": ""
    }
   },
   "outputs": [],
   "source": [
    "url = urllib2.urlopen(\"ftp://ftp.ncbi.nlm.nih.gov/geo/datasets/GDS1nnn/GDS1615/soft/GDS1615_full.soft.gz\") \n",
    "zdata = url.read()\n",
    "sio = StringIO(zdata)\n",
    "fid = gzip.GzipFile(fileobj=sio)"
   ]
  },
  {
   "cell_type": "markdown",
   "metadata": {
    "application/vnd.databricks.v1+cell": {
     "cellMetadata": {},
     "inputWidgets": {},
     "nuid": "1837b15b-bdaf-464f-b4e6-d3b1b39e9424",
     "showTitle": false,
     "title": ""
    }
   },
   "source": [
    "Alternatively, the data can be downloaded and read this way:\n",
    "    \n",
    "fid = gzip.open(\"GDS1615_full.soft.gz\")\n",
    "\n",
    "Next we read the SOFT format data file into the following data structures:\n",
    "\n",
    "* GID : A list of gene identifiers of length d\n",
    "* SID : A list of sample identifiers of length n\n",
    "* STP : A list of sample desriptions of length d\n",
    "* X   : A dxn array of gene expression values\n",
    "    \n",
    "We begin by reading the header section of the data file, and placing the information we need into a dictionary:"
   ]
  },
  {
   "cell_type": "code",
   "execution_count": 0,
   "metadata": {
    "application/vnd.databricks.v1+cell": {
     "cellMetadata": {},
     "inputWidgets": {},
     "nuid": "640ddbf6-aba7-4c6d-9cb9-6ce78ecfcb83",
     "showTitle": false,
     "title": ""
    }
   },
   "outputs": [],
   "source": [
    "SIF = {}\n",
    "for line in fid:\n",
    "    if line.startswith(\"!dataset_table_begin\"):\n",
    "        break\n",
    "    elif line.startswith(\"!subset_description\"):\n",
    "        subset_description = line.split(\"=\")[1].strip()\n",
    "    elif line.startswith(\"!subset_sample_id\"):\n",
    "        subset_ids = line.split(\"=\")[1].split(\",\")\n",
    "        subset_ids = [x.strip() for x in subset_ids]\n",
    "        for k in subset_ids:\n",
    "            SIF[k] = subset_description"
   ]
  },
  {
   "cell_type": "markdown",
   "metadata": {
    "application/vnd.databricks.v1+cell": {
     "cellMetadata": {},
     "inputWidgets": {},
     "nuid": "a8e773ef-15a2-4af8-9c7a-242e33e5d67e",
     "showTitle": false,
     "title": ""
    }
   },
   "source": [
    "Now we create arrays containing some information we will need while processing the data."
   ]
  },
  {
   "cell_type": "code",
   "execution_count": 0,
   "metadata": {
    "application/vnd.databricks.v1+cell": {
     "cellMetadata": {},
     "inputWidgets": {},
     "nuid": "13971ae1-06fd-4117-9b2f-6340d69214ea",
     "showTitle": false,
     "title": ""
    }
   },
   "outputs": [],
   "source": [
    "# Next line is the column headers (sample id's)\n",
    "SID = fid.next().split(\"\\t\")\n",
    "\n",
    "# The column indices that contain gene expression data\n",
    "I = [i for i,x in enumerate(SID) if x.startswith(\"GSM\")]\n",
    "\n",
    "# Restrict the column headers to those that we keep\n",
    "SID = [SID[i] for i in I]\n",
    "\n",
    "# Get a list of sample labels\n",
    "STP = [SIF[k] for k in SID]"
   ]
  },
  {
   "cell_type": "markdown",
   "metadata": {
    "application/vnd.databricks.v1+cell": {
     "cellMetadata": {},
     "inputWidgets": {},
     "nuid": "0ed044f8-c6fa-4653-9a53-8b337a6b393a",
     "showTitle": false,
     "title": ""
    }
   },
   "source": [
    "Next we read the gene expression data row by row, and place the gene id's into a separate array."
   ]
  },
  {
   "cell_type": "code",
   "execution_count": 0,
   "metadata": {
    "application/vnd.databricks.v1+cell": {
     "cellMetadata": {},
     "inputWidgets": {},
     "nuid": "42ca5f2b-9b8c-4079-9114-42d4df9198ab",
     "showTitle": false,
     "title": ""
    }
   },
   "outputs": [],
   "source": [
    "# Read the gene expression data as a list of lists, also get the gene identifiers\n",
    "GID,X = [],[]\n",
    "for line in fid:\n",
    "\n",
    "    # This is what signals the end of the gene expression data\n",
    "    # section in the file\n",
    "    if line.startswith(\"!dataset_table_end\"):\n",
    "        break\n",
    "\n",
    "    V = line.split(\"\\t\")\n",
    "\n",
    "    # Extract the values that correspond to gene expression measures\n",
    "    # and convert the strings to numbers\n",
    "    x = [float(V[i]) for i in I]\n",
    "\n",
    "    X.append(np.asarray(x))\n",
    "    GID.append(V[0] + \";\" + V[1])\n",
    "\n",
    "# Convert the Python list of lists to a Numpy array.\n",
    "X = np.asarray(X)"
   ]
  },
  {
   "cell_type": "markdown",
   "metadata": {
    "application/vnd.databricks.v1+cell": {
     "cellMetadata": {},
     "inputWidgets": {},
     "nuid": "0eab1d16-b298-4732-aff7-4521efa4824f",
     "showTitle": false,
     "title": ""
    }
   },
   "source": [
    "We are comparing two groups, and will ignore the remaining (healthy) samples.  Here we get the column indices of the samples in each of the two groups being compared."
   ]
  },
  {
   "cell_type": "code",
   "execution_count": 0,
   "metadata": {
    "application/vnd.databricks.v1+cell": {
     "cellMetadata": {},
     "inputWidgets": {},
     "nuid": "7cc7841c-638f-4686-85d2-ecec11205a2c",
     "showTitle": false,
     "title": ""
    }
   },
   "outputs": [],
   "source": [
    "# The indices of samples for the ulcerative colitis group\n",
    "UC = [i for i,x in enumerate(STP) if x == \"ulcerative colitis\"]\n",
    "\n",
    "# The indices of samples for the Crohn's disease group\n",
    "CD = [i for i,x in enumerate(STP) if x == \"Crohn's disease\"]"
   ]
  },
  {
   "cell_type": "markdown",
   "metadata": {
    "application/vnd.databricks.v1+cell": {
     "cellMetadata": {},
     "inputWidgets": {},
     "nuid": "532ee7ec-8f23-4577-978e-6ac4ffdb50b4",
     "showTitle": false,
     "title": ""
    }
   },
   "source": [
    "Gene expression data is usually skewed, so we analyze it on the log scale."
   ]
  },
  {
   "cell_type": "code",
   "execution_count": 0,
   "metadata": {
    "application/vnd.databricks.v1+cell": {
     "cellMetadata": {},
     "inputWidgets": {},
     "nuid": "611c109a-d749-4299-84e8-95f65fc38ee3",
     "showTitle": false,
     "title": ""
    }
   },
   "outputs": [],
   "source": [
    "XL = np.log(X) / np.log(2)"
   ]
  },
  {
   "cell_type": "markdown",
   "metadata": {
    "application/vnd.databricks.v1+cell": {
     "cellMetadata": {},
     "inputWidgets": {},
     "nuid": "310acab9-489d-4836-8b59-7aba0f729be7",
     "showTitle": false,
     "title": ""
    }
   },
   "source": [
    "Now that we have the data, we can calculate the mean and variance for each gene within each of the two groups."
   ]
  },
  {
   "cell_type": "code",
   "execution_count": 0,
   "metadata": {
    "application/vnd.databricks.v1+cell": {
     "cellMetadata": {},
     "inputWidgets": {},
     "nuid": "ca2fcdc9-e2b5-470f-b79c-1073db2c0657",
     "showTitle": false,
     "title": ""
    }
   },
   "outputs": [],
   "source": [
    "MUC = XL[:,UC].mean(1) ## Mean of ulcerative colitis samples\n",
    "MCD = XL[:,CD].mean(1) ## Mean of Crohn's disease samples\n",
    "VUC = XL[:,UC].var(1)  ## Variance of ulcerative colitis samples\n",
    "VCD = XL[:,CD].var(1)  ## Variance of Crohn's disease samples\n",
    "nUC = len(UC)          ## Number of ulcerative colitis samples\n",
    "nCD = len(CD)          ## Number of Crohn's disease samples"
   ]
  },
  {
   "cell_type": "markdown",
   "metadata": {
    "application/vnd.databricks.v1+cell": {
     "cellMetadata": {},
     "inputWidgets": {},
     "nuid": "b8be0e67-0d22-49ba-9213-3dded9827474",
     "showTitle": false,
     "title": ""
    }
   },
   "source": [
    "The Z-scores summarize the evidence for differential expression."
   ]
  },
  {
   "cell_type": "code",
   "execution_count": 0,
   "metadata": {
    "application/vnd.databricks.v1+cell": {
     "cellMetadata": {},
     "inputWidgets": {},
     "nuid": "5789774e-a5af-4726-8f7a-3746e5a412ab",
     "showTitle": false,
     "title": ""
    }
   },
   "outputs": [],
   "source": [
    "zscores = (MUC - MCD) / np.sqrt(VUC/nUC + VCD/nCD)"
   ]
  },
  {
   "cell_type": "markdown",
   "metadata": {
    "application/vnd.databricks.v1+cell": {
     "cellMetadata": {},
     "inputWidgets": {},
     "nuid": "57b9a42b-f223-429d-a468-8c61eda59545",
     "showTitle": false,
     "title": ""
    }
   },
   "source": [
    "If a gene is not differentially expressed, it has the same expected value in the two groups of samples. In this case, the Z-score will be standardized (i.e. will have mean zero and unit standard deviation). This data set contains data for 22,283 genes. So if none of the genes are differentially expressed, our Z-scores should approximately have zero mean and unit variance. We can check this as follows."
   ]
  },
  {
   "cell_type": "code",
   "execution_count": 0,
   "metadata": {
    "application/vnd.databricks.v1+cell": {
     "cellMetadata": {},
     "inputWidgets": {},
     "nuid": "df6b6030-e2b0-426e-9cf0-c24adad254eb",
     "showTitle": false,
     "title": ""
    }
   },
   "outputs": [],
   "source": [
    "print zscores.mean()\n",
    "print zscores.std()"
   ]
  },
  {
   "cell_type": "markdown",
   "metadata": {
    "application/vnd.databricks.v1+cell": {
     "cellMetadata": {},
     "inputWidgets": {},
     "nuid": "f6eba427-8a4e-422d-891c-14f67be1f905",
     "showTitle": false,
     "title": ""
    }
   },
   "source": [
    "Since the standard deviation is much greater than 1, there appear to be multiple genes for which the mean expression levels in the ulcerative colitis and Crohn's disease samples differ. Further, since the mean Z-score is positive, it appears that the dominant pattern is for genes to be expressed at a higher level in the ulcerative colitis compared to the Crohn's disease samples.\n",
    "\n",
    "The conventional threshold for statistical significance is a p-value smaller than 0.05, which corresponds to the Z-score being greater than 2 in magnitude. Many genes meet this condition, however as we will see below this does not carry much evidence that these genes are differentially expressed."
   ]
  },
  {
   "cell_type": "code",
   "execution_count": 0,
   "metadata": {
    "application/vnd.databricks.v1+cell": {
     "cellMetadata": {},
     "inputWidgets": {},
     "nuid": "b381b579-69cc-4c05-ac9d-63b3e195b29c",
     "showTitle": false,
     "title": ""
    }
   },
   "outputs": [],
   "source": [
    "print np.mean(np.abs(zscores) > 2)\n",
    "print np.mean(zscores > 2)\n",
    "print np.mean(zscores < -2)"
   ]
  },
  {
   "cell_type": "markdown",
   "metadata": {
    "application/vnd.databricks.v1+cell": {
     "cellMetadata": {},
     "inputWidgets": {},
     "nuid": "bca3b9a6-7bc4-4d3c-9975-0f0c4f7cace9",
     "showTitle": false,
     "title": ""
    }
   },
   "source": [
    "To use the multiple testing methods we need to convert the Z-scores to p-values."
   ]
  },
  {
   "cell_type": "code",
   "execution_count": 0,
   "metadata": {
    "application/vnd.databricks.v1+cell": {
     "cellMetadata": {},
     "inputWidgets": {},
     "nuid": "a9e127b5-ac46-4567-963b-30f9d47eb1a1",
     "showTitle": false,
     "title": ""
    }
   },
   "outputs": [],
   "source": [
    "pvalues = 2*norm.cdf(-np.abs(zscores))"
   ]
  },
  {
   "cell_type": "markdown",
   "metadata": {
    "application/vnd.databricks.v1+cell": {
     "cellMetadata": {},
     "inputWidgets": {},
     "nuid": "501214b9-3859-4bf7-b4b0-8f42f79cef1c",
     "showTitle": false,
     "title": ""
    }
   },
   "source": [
    "Here we compute the Benjamini-Hochberg false discovery rates.  The adjusted p-values are in the first position of the returned value."
   ]
  },
  {
   "cell_type": "code",
   "execution_count": 0,
   "metadata": {
    "application/vnd.databricks.v1+cell": {
     "cellMetadata": {},
     "inputWidgets": {},
     "nuid": "b8f3f573-16df-4351-8e3a-76f95b782fcd",
     "showTitle": false,
     "title": ""
    }
   },
   "outputs": [],
   "source": [
    "pm = multipletests(pvalues, method=\"fdr_bh\")\n",
    "apv = pm[1]"
   ]
  },
  {
   "cell_type": "markdown",
   "metadata": {
    "application/vnd.databricks.v1+cell": {
     "cellMetadata": {},
     "inputWidgets": {},
     "nuid": "1dad2f35-3752-4219-a4df-4ece3df9566e",
     "showTitle": false,
     "title": ""
    }
   },
   "source": [
    "This plot shows how the Z-scores and false discovery rates are related."
   ]
  },
  {
   "cell_type": "code",
   "execution_count": 0,
   "metadata": {
    "application/vnd.databricks.v1+cell": {
     "cellMetadata": {},
     "inputWidgets": {},
     "nuid": "0fa6bce4-f63e-41cc-bfb7-59b54e687c7d",
     "showTitle": false,
     "title": ""
    }
   },
   "outputs": [],
   "source": [
    "ii = np.argsort(zscores)\n",
    "plt.plot(zscores[ii], apv[ii], '-')\n",
    "plt.xlabel(\"Z-score\")\n",
    "plt.ylabel(\"False Discovery Rate\")"
   ]
  },
  {
   "cell_type": "markdown",
   "metadata": {
    "application/vnd.databricks.v1+cell": {
     "cellMetadata": {},
     "inputWidgets": {},
     "nuid": "5e3eafa3-9b07-4ce9-a198-b901d2b005ad",
     "showTitle": false,
     "title": ""
    }
   },
   "source": [
    "This plot shows how the p-values and false discovery rates are related."
   ]
  },
  {
   "cell_type": "code",
   "execution_count": 0,
   "metadata": {
    "application/vnd.databricks.v1+cell": {
     "cellMetadata": {},
     "inputWidgets": {},
     "nuid": "f35d6ae1-8713-49a3-9353-9f02c3fa7f0c",
     "showTitle": false,
     "title": ""
    }
   },
   "outputs": [],
   "source": [
    "ii = np.argsort(pvalues)\n",
    "plt.plot(pvalues[ii], apv[ii], '-')\n",
    "plt.xlabel(\"p-value\")\n",
    "plt.ylabel(\"False Discovery Rate\")"
   ]
  }
 ],
 "metadata": {
  "application/vnd.databricks.v1+notebook": {
   "dashboards": [],
   "language": "python",
   "notebookMetadata": {},
   "notebookName": "gene_expression_fdr",
   "widgets": {}
  },
  "name": "",
  "signature": "sha256:45b9baca46e18115edbd41bc751ff27fee2e5e850fddba8b21f03d5ddf272e2b"
 },
 "nbformat": 4,
 "nbformat_minor": 0
}
>>>>>>> Stashed changes
