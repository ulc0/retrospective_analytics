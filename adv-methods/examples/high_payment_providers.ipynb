{
 "cells": [
  {
   "cell_type": "markdown",
   "metadata": {
    "application/vnd.databricks.v1+cell": {
     "cellMetadata": {},
     "inputWidgets": {},
     "nuid": "409d0b89-8024-49df-a6d3-4bf508c4246e",
     "showTitle": false,
     "title": ""
    }
   },
   "source": [
    "US Medicare Payment Data - identifying providers with high payment totals\n",
    "==========================================================================\n",
    "\n",
    "The US government recently released a data set containing all payments (partially aggregated) made by the Medicare program in 2012.  For each health care provider, the billings are grouped into service types, and within each service type group, the total payment and standard deviation of payments are provided.\n",
    "\n",
    "The data are available [here](http://www.cms.gov/Research-Statistics-Data-and-Systems/Statistics-Trends-and-Reports/Medicare-Provider-Charge-Data/Physician-and-Other-Supplier.html)\n",
    "\n",
    "The official documentation for the data is [here](http://www.cms.gov/Research-Statistics-Data-and-Systems/Statistics-Trends-and-Reports/Medicare-Provider-Charge-Data/Downloads/Medicare-Physician-and-Other-Supplier-PUF-Methodology.pdf).\n",
    "\n",
    "One use of these data is to identify providers who receive very high payments from the Medicare program.  In some cases this may reflect fraud or waste.  [Here](http://www.miamiherald.com/2014/04/09/4048743/south-florida-opthalmologist-emerges.html) is a link to a media article about one such situation.\n",
    "\n",
    "The dataset is too large to load into SageMathCloud (SMC), so we wrote a script to split the data by state.  We ran this script off-line and uploaded a few of the state-level files into SMC. \n",
    "\n",
    "If you are curious to see how some related analyses of these data can be done in R, check out [this](http://vikparuchuri.com/blog/exploring-us-healthcare-data) blog post."
   ]
  },
  {
   "cell_type": "markdown",
   "metadata": {
    "application/vnd.databricks.v1+cell": {
     "cellMetadata": {},
     "inputWidgets": {},
     "nuid": "37247320-0342-499f-b314-e90524cdc1c5",
     "showTitle": false,
     "title": ""
    }
   },
   "source": [
    "First we import some libraries that we will be using."
   ]
  },
  {
   "cell_type": "code",
   "execution_count": 0,
   "metadata": {
    "application/vnd.databricks.v1+cell": {
     "cellMetadata": {},
     "inputWidgets": {},
     "nuid": "24c1f64c-79db-42ef-9e2a-f8f8da6b84bf",
     "showTitle": false,
     "title": ""
    }
   },
   "outputs": [],
   "source": [
    "import pandas as pd\n",
    "import numpy as np"
   ]
  },
  {
   "cell_type": "markdown",
   "metadata": {
    "application/vnd.databricks.v1+cell": {
     "cellMetadata": {},
     "inputWidgets": {},
     "nuid": "40b27773-4662-42e4-80e7-9df3b9ba214a",
     "showTitle": false,
     "title": ""
    }
   },
   "source": [
    "Next we read in the data from one state.  The state-level data is small enough that it can be loaded entirely into memory."
   ]
  },
  {
   "cell_type": "code",
   "execution_count": 0,
   "metadata": {
    "application/vnd.databricks.v1+cell": {
     "cellMetadata": {},
     "inputWidgets": {},
     "nuid": "39340a28-ef6f-48f5-8e4e-3b5ea8742b7c",
     "showTitle": false,
     "title": ""
    }
   },
   "outputs": [],
   "source": [
    "fname = \"FL-subset.csv.gz\"\n",
    "data = pd.read_csv(fname, compression=\"gzip\")\n",
    "print(data.shape)\n",
    "print(data.dtypes)"
   ]
  },
  {
   "cell_type": "markdown",
   "metadata": {
    "application/vnd.databricks.v1+cell": {
     "cellMetadata": {},
     "inputWidgets": {},
     "nuid": "b4f12e46-6dde-4a50-9a17-d5f8db9b45df",
     "showTitle": false,
     "title": ""
    }
   },
   "source": [
    "Here we print out a small subset of the data to get a sense of what we are working with."
   ]
  },
  {
   "cell_type": "code",
   "execution_count": 0,
   "metadata": {
    "application/vnd.databricks.v1+cell": {
     "cellMetadata": {},
     "inputWidgets": {},
     "nuid": "314b01c6-003a-41e2-bfb9-49dcea406b7e",
     "showTitle": false,
     "title": ""
    }
   },
   "outputs": [],
   "source": [
    "vnames = [\"npi\", \"nppes_provider_last_org_name\", \"hcpcs_description\", \"line_srvc_cnt\", \"average_Medicare_payment_amt\", \"stdev_Medicare_payment_amt\"]\n",
    "data[vnames].head()"
   ]
  },
  {
   "cell_type": "markdown",
   "metadata": {
    "application/vnd.databricks.v1+cell": {
     "cellMetadata": {},
     "inputWidgets": {},
     "nuid": "05236b6d-57b2-40d3-bc0c-b6e6737a7bfb",
     "showTitle": false,
     "title": ""
    }
   },
   "source": [
    "Let's look at the first record in more detail:"
   ]
  },
  {
   "cell_type": "code",
   "execution_count": 0,
   "metadata": {
    "application/vnd.databricks.v1+cell": {
     "cellMetadata": {},
     "inputWidgets": {},
     "nuid": "78d99175-a750-458b-9118-3675552b4bd1",
     "showTitle": false,
     "title": ""
    }
   },
   "outputs": [],
   "source": [
    "print(data.iloc[0,:])"
   ]
  },
  {
   "cell_type": "markdown",
   "metadata": {
    "application/vnd.databricks.v1+cell": {
     "cellMetadata": {},
     "inputWidgets": {},
     "nuid": "358cdad1-164c-4d3a-adc6-32c1674c32ac",
     "showTitle": false,
     "title": ""
    }
   },
   "source": [
    "Each row of the data set is an aggregate of several individual charges.  The number of charges that are aggregated is given by `line_srvc_cnt`.  The average and standard deviation of these charges are given by `average_Medicare_payment_amt` and `stdev_Medicare_payment_amt`.\n",
    "\n",
    "The key value of interest here is the total amount of money paid by Medicare to each provider.  This is not an explicit variable in the data set, but we can create it by multiplying the average payment by the number of payments, within each record of the dataset."
   ]
  },
  {
   "cell_type": "code",
   "execution_count": 0,
   "metadata": {
    "application/vnd.databricks.v1+cell": {
     "cellMetadata": {},
     "inputWidgets": {},
     "nuid": "73d994c7-4b20-4604-bfd6-ec13038f5bea",
     "showTitle": false,
     "title": ""
    }
   },
   "outputs": [],
   "source": [
    "data[\"total_payment\"] = data[\"line_srvc_cnt\"] * data[\"average_Medicare_payment_amt\"]"
   ]
  },
  {
   "cell_type": "markdown",
   "metadata": {
    "application/vnd.databricks.v1+cell": {
     "cellMetadata": {},
     "inputWidgets": {},
     "nuid": "f0ca3600-2718-4e11-ba75-e042e19b4d25",
     "showTitle": false,
     "title": ""
    }
   },
   "source": [
    "Medicare makes payments to both individual providers, and to organizations.  Most of the payments are to individuals and it's not clear that the payment amounts to providers can be directly compared to the payment amounts to individuals.  So here we include only the individuals."
   ]
  },
  {
   "cell_type": "code",
   "execution_count": 0,
   "metadata": {
    "application/vnd.databricks.v1+cell": {
     "cellMetadata": {},
     "inputWidgets": {},
     "nuid": "17eed439-caab-46c1-9658-0148f8f0e037",
     "showTitle": false,
     "title": ""
    }
   },
   "outputs": [],
   "source": [
    "data_ind = data.loc[data[\"nppes_entity_code\"] == \"I\", :]\n",
    "print(data_ind.shape)\n",
    "print(data.shape)"
   ]
  },
  {
   "cell_type": "markdown",
   "metadata": {
    "application/vnd.databricks.v1+cell": {
     "cellMetadata": {},
     "inputWidgets": {},
     "nuid": "b1b3adc2-fc76-41cd-a1c7-0a749a39fa80",
     "showTitle": false,
     "title": ""
    }
   },
   "source": [
    "### Payments to individual providers\n",
    "\n",
    "The overall analysis follows the [split-apply-combine](http://pandas.pydata.org/pandas-docs/stable/groupby.html) model.  We split the data by provider, apply a function to aggregate the payments (by summing them), and combine the results into a new Pandas `DataFrame`.\n",
    "\n",
    "First we look at a couple of inefficient ways to do this that do not take advantage of the optimised split-apply-combine tools in Pandas.  The following two functions are not executed since they are quite slow.  Uncomment the function calls if you really want to run them."
   ]
  },
  {
   "cell_type": "code",
   "execution_count": 0,
   "metadata": {
    "application/vnd.databricks.v1+cell": {
     "cellMetadata": {},
     "inputWidgets": {},
     "nuid": "0ecd1b45-9a71-4d42-8530-dbc232dce82a",
     "showTitle": false,
     "title": ""
    }
   },
   "outputs": [],
   "source": [
    "def total_by_provider_naive(data):\n",
    "    \"\"\"\n",
    "    Returns a dictionary mapping each provider number to the total payment made to \n",
    "    the provider.\n",
    "    \n",
    "    ** Do not use, very slow **\n",
    "    \"\"\"\n",
    "    from collections import defaultdict\n",
    "    \n",
    "    totals = defaultdict(lambda : 0.)\n",
    "    \n",
    "    for i in data.index:\n",
    "        totals[data.loc[i, \"npi\"]] += data.loc[i, \"total_payment\"] \n",
    "    \n",
    "    return totals\n",
    "\n",
    "# totals1 = total_by_provider_naive(data_ind)"
   ]
  },
  {
   "cell_type": "markdown",
   "metadata": {
    "application/vnd.databricks.v1+cell": {
     "cellMetadata": {},
     "inputWidgets": {},
     "nuid": "0dc84e22-8aaa-45a3-aab5-b0931bb10a9e",
     "showTitle": false,
     "title": ""
    }
   },
   "source": [
    "Using position-based indexing doesn't help much:"
   ]
  },
  {
   "cell_type": "code",
   "execution_count": 0,
   "metadata": {
    "application/vnd.databricks.v1+cell": {
     "cellMetadata": {},
     "inputWidgets": {},
     "nuid": "18d1efe4-c135-4d54-87c3-bd4a30c959f6",
     "showTitle": false,
     "title": ""
    }
   },
   "outputs": [],
   "source": [
    "def total_by_provider_naive_pos(data):\n",
    "    \"\"\"\n",
    "    Returns a dictionary mapping each provider number to the total payment made to \n",
    "    the provider.\n",
    "    \n",
    "    ** Do not use, very slow **\n",
    "    \"\"\"\n",
    "    from collections import defaultdict\n",
    "    \n",
    "    totals = defaultdict(lambda : 0.)\n",
    "    \n",
    "    for i in data.shape[0]:\n",
    "        row = data.iloc[i, :]\n",
    "        totals[row[\"npi\"]] += row[\"total_payment\"] \n",
    "    \n",
    "    return totals\n",
    "\n",
    "#totals2 = total_by_provider_naive_pos(data_ind)"
   ]
  },
  {
   "cell_type": "markdown",
   "metadata": {
    "application/vnd.databricks.v1+cell": {
     "cellMetadata": {},
     "inputWidgets": {},
     "nuid": "18a61d62-c146-4fd9-be1e-3ffd0a9ae442",
     "showTitle": false,
     "title": ""
    }
   },
   "source": [
    "Here is a much faster way to do the calculation.  Our goal is to obtain the total payment for each proivider.  We first group the data by the provider number, then aggregate within the groups by taking the sum of payment amounts.  Finally we sort the result so that the providers with the greatest total payments appear at the top of the list."
   ]
  },
  {
   "cell_type": "code",
   "execution_count": 0,
   "metadata": {
    "application/vnd.databricks.v1+cell": {
     "cellMetadata": {},
     "inputWidgets": {},
     "nuid": "933d0f67-6165-47f1-abd1-916c8bce3a80",
     "showTitle": false,
     "title": ""
    }
   },
   "outputs": [],
   "source": [
    "totals2 = data_ind.groupby(\"npi\").agg({\"total_payment\": np.sum})\n",
    "totals2 = totals2.sort(\"total_payment\", ascending=False)\n",
    "print(totals2.head())"
   ]
  },
  {
   "cell_type": "markdown",
   "metadata": {
    "application/vnd.databricks.v1+cell": {
     "cellMetadata": {},
     "inputWidgets": {},
     "nuid": "9aa3baa8-c736-4143-af38-0cc14a332c2b",
     "showTitle": false,
     "title": ""
    }
   },
   "source": [
    "Next we have an enhanced version of the code in the previous cell that also includes the provider's last name in the output table.  We cannot aggregate names by summing, so we provide two aggregation functions.  For the payment data, we aggregate by taking the sum.  For the provider name, we aggregate by selecting the first value within each group (assuming that the provider name is constant within groups, which it should be)."
   ]
  },
  {
   "cell_type": "code",
   "execution_count": 0,
   "metadata": {
    "application/vnd.databricks.v1+cell": {
     "cellMetadata": {},
     "inputWidgets": {},
     "nuid": "fd645e82-6b52-4e80-864e-6f4ef91ff784",
     "showTitle": false,
     "title": ""
    }
   },
   "outputs": [],
   "source": [
    "first = lambda x : x.iloc[0]\n",
    "\n",
    "totals2 = data_ind.groupby(\"npi\").agg({\"total_payment\": np.sum, \"nppes_provider_last_org_name\": first})\n",
    "totals2 = totals2.sort(\"total_payment\", ascending=False)\n",
    "totals2.head()"
   ]
  },
  {
   "cell_type": "markdown",
   "metadata": {
    "application/vnd.databricks.v1+cell": {
     "cellMetadata": {},
     "inputWidgets": {},
     "nuid": "bf1d41ef-874b-4950-b477-b807f790e4fc",
     "showTitle": false,
     "title": ""
    }
   },
   "source": [
    "One way to visualize the distribution of payments is to make a quantile plot, which is a plot of the sorted data against the index."
   ]
  },
  {
   "cell_type": "code",
   "execution_count": 0,
   "metadata": {
    "application/vnd.databricks.v1+cell": {
     "cellMetadata": {},
     "inputWidgets": {},
     "nuid": "e0e5b971-ec77-4c38-a64c-2f9bf0d51c3b",
     "showTitle": false,
     "title": ""
    }
   },
   "outputs": [],
   "source": [
    "plt.plot(totals2[\"total_payment\"][::-1])\n",
    "plt.grid(True)\n",
    "plt.xlabel(\"Provider rank\", size=15)\n",
    "plt.ylabel(\"Total payment\", size=15)\n",
    "plt.ylim(0, 1e6)"
   ]
  },
  {
   "cell_type": "markdown",
   "metadata": {
    "application/vnd.databricks.v1+cell": {
     "cellMetadata": {},
     "inputWidgets": {},
     "nuid": "c03ee3ef-c4bf-4001-bb10-54403ee4145b",
     "showTitle": false,
     "title": ""
    }
   },
   "source": [
    "Another familiar way to view a simple collection of numbers is using a histogram."
   ]
  },
  {
   "cell_type": "code",
   "execution_count": 0,
   "metadata": {
    "application/vnd.databricks.v1+cell": {
     "cellMetadata": {},
     "inputWidgets": {},
     "nuid": "befdd93e-bf4c-4591-a4d3-f6b930430a7b",
     "showTitle": false,
     "title": ""
    }
   },
   "outputs": [],
   "source": [
    "_ = plt.hist(np.asarray(totals2[\"total_payment\"]), bins=100)"
   ]
  },
  {
   "cell_type": "markdown",
   "metadata": {
    "application/vnd.databricks.v1+cell": {
     "cellMetadata": {},
     "inputWidgets": {},
     "nuid": "a7b37971-787a-426a-95a4-d2db07aa0afa",
     "showTitle": false,
     "title": ""
    }
   },
   "source": [
    "The distribution is very skewed, so we can limit the histogram to the providers with total payment less than $200,000."
   ]
  },
  {
   "cell_type": "code",
   "execution_count": 0,
   "metadata": {
    "application/vnd.databricks.v1+cell": {
     "cellMetadata": {},
     "inputWidgets": {},
     "nuid": "df1d0e54-a815-44f9-904f-8736e97a1e0c",
     "showTitle": false,
     "title": ""
    }
   },
   "outputs": [],
   "source": [
    "x = np.asarray(totals2[\"total_payment\"])\n",
    "x = x[x < 2e5]\n",
    "plt.hist(x, bins=50, color='lightblue')\n",
    "plt.xlabel(\"Payment\", size=15)\n",
    "_ = plt.ylabel(\"Number of providers\", size=15)"
   ]
  },
  {
   "cell_type": "markdown",
   "metadata": {
    "application/vnd.databricks.v1+cell": {
     "cellMetadata": {},
     "inputWidgets": {},
     "nuid": "eb3160ca-7340-493b-9070-fb37e7bd0e85",
     "showTitle": false,
     "title": ""
    }
   },
   "source": [
    "### Exercises\n",
    "\n",
    "* Determine the maximum total payment among providers within each zip code, then plot it as a histogram or quantile plot.\n",
    "\n",
    "* Determine the maximum total payment among providers of each provider type, then plot it as a histogram or quantile plot."
   ]
  }
 ],
 "metadata": {
  "application/vnd.databricks.v1+notebook": {
   "dashboards": [],
   "environmentMetadata": null,
   "language": "python",
   "notebookMetadata": {},
   "notebookName": "high_payment_providers",
   "widgets": {}
  },
  "name": "",
  "signature": "sha256:6dd0cb7cbada5e41db7a991cf311ef99cc79c1daa4e95c54f17d5a8d074944b7"
 },
 "nbformat": 4,
 "nbformat_minor": 0
}
