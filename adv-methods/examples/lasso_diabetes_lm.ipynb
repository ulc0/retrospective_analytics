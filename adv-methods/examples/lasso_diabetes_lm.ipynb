{
 "cells": [
  {
   "cell_type": "markdown",
   "metadata": {
    "application/vnd.databricks.v1+cell": {
     "cellMetadata": {},
     "inputWidgets": {},
     "nuid": "7493268f-c4ce-40ef-b3da-68fa8cfe3c65",
     "showTitle": false,
     "title": ""
    }
   },
   "source": [
    "Statsmodels regularized linear regression (lasso)\n",
    "=================================================\n",
    "\n",
    "This notebook demonstrates how to fit a linear regression model using L1 regularization (the \"lasso\")."
   ]
  },
  {
   "cell_type": "code",
   "execution_count": 0,
   "metadata": {
    "application/vnd.databricks.v1+cell": {
     "cellMetadata": {},
     "inputWidgets": {},
     "nuid": "ac20b0ad-968d-4c3c-b5cf-e0deda9ed9da",
     "showTitle": false,
     "title": ""
    }
   },
   "outputs": [],
   "source": [
    "import pandas as pd\n",
    "import numpy as np\n",
    "import statsmodels.api as sm"
   ]
  },
  {
   "cell_type": "markdown",
   "metadata": {
    "application/vnd.databricks.v1+cell": {
     "cellMetadata": {},
     "inputWidgets": {},
     "nuid": "619a3658-4738-4a8b-90ba-0b527b0e69a6",
     "showTitle": false,
     "title": ""
    }
   },
   "source": [
    "The data consist of measurements made on people sampled from a population that is at high risk for developing diabetes.  The data are here:\n",
    "\n",
    "http://vincentarelbundock.github.io/Rdatasets/csv/MASS/Pima.te.csv\n",
    "\n",
    "We will be regressing serum glucose on several factors that may influence it."
   ]
  },
  {
   "cell_type": "code",
   "execution_count": 0,
   "metadata": {
    "application/vnd.databricks.v1+cell": {
     "cellMetadata": {},
     "inputWidgets": {},
     "nuid": "b6f7e68e-7048-4bb5-97d1-646c9bc02542",
     "showTitle": false,
     "title": ""
    }
   },
   "outputs": [],
   "source": [
    "data = pd.read_csv(\"Pima.te.csv\")\n",
    "print data.columns"
   ]
  },
  {
   "cell_type": "markdown",
   "metadata": {
    "application/vnd.databricks.v1+cell": {
     "cellMetadata": {},
     "inputWidgets": {},
     "nuid": "4e0186a5-980c-43ab-8228-786554a67298",
     "showTitle": false,
     "title": ""
    }
   },
   "source": [
    "The glucose data are slightly right-skewed, so following convention, we log transform it."
   ]
  },
  {
   "cell_type": "code",
   "execution_count": 0,
   "metadata": {
    "application/vnd.databricks.v1+cell": {
     "cellMetadata": {},
     "inputWidgets": {},
     "nuid": "4ee4b700-388f-41d9-bdb4-0d88e7e6ed96",
     "showTitle": false,
     "title": ""
    }
   },
   "outputs": [],
   "source": [
    "data[\"log_glu\"] = np.log(data[\"glu\"])"
   ]
  },
  {
   "cell_type": "markdown",
   "metadata": {
    "application/vnd.databricks.v1+cell": {
     "cellMetadata": {},
     "inputWidgets": {},
     "nuid": "da8d0032-03e4-4c96-8b04-29fdb0dad7e7",
     "showTitle": false,
     "title": ""
    }
   },
   "source": [
    "Below we will be fitting models with interactions.  In general, it is easier to interpret the effects of an interaction if we center or standardize the components of the interaction before forming the product that defines the interaction.  The next cell standardizes all of the variables that will be used below."
   ]
  },
  {
   "cell_type": "code",
   "execution_count": 0,
   "metadata": {
    "application/vnd.databricks.v1+cell": {
     "cellMetadata": {},
     "inputWidgets": {},
     "nuid": "a1340129-dbab-421a-b28f-08e29f290521",
     "showTitle": false,
     "title": ""
    }
   },
   "outputs": [],
   "source": [
    "data[\"type\"] = 1.0*(data[\"type\"] == \"Yes\")\n",
    "\n",
    "for vname in \"type\", \"age\", \"bmi\", \"skin\", \"log_glu\", \"bp\":\n",
    "    data[vname] = (data[vname] - data[vname].mean()) / data[vname].std()"
   ]
  },
  {
   "cell_type": "markdown",
   "metadata": {
    "application/vnd.databricks.v1+cell": {
     "cellMetadata": {},
     "inputWidgets": {},
     "nuid": "e7cf467b-7afd-4ab9-b8d9-f19f0edd9035",
     "showTitle": false,
     "title": ""
    }
   },
   "source": [
    "In the previous cell, we standardized each individual variable.  We will also want to standardize the interaction products.  When using the lasso, it is more straightforward to standardize all variables (including the outcome variable).  This has two benefits.  First, it means we don't need to include an intercept term, which would need to be handled differently than the other variables in terms of penalization.  Second, it means that we can use the same penalty weight for all of the covariates.  The following cell creates all the interaction products and standardizes them."
   ]
  },
  {
   "cell_type": "code",
   "execution_count": 0,
   "metadata": {
    "application/vnd.databricks.v1+cell": {
     "cellMetadata": {},
     "inputWidgets": {},
     "nuid": "3af430ad-f737-4f65-bad0-6a5ba9790f93",
     "showTitle": false,
     "title": ""
    }
   },
   "outputs": [],
   "source": [
    "vnames = [\"age\", \"bmi\", \"skin\", \"bp\", \"type\"]\n",
    "\n",
    "for j1,v1 in enumerate(vnames):\n",
    "    for j2,v2 in enumerate(vnames[0:j1]):\n",
    "        x = data[v1] * data[v2]\n",
    "        x = (x - x.mean()) / x.std()\n",
    "        data[v1 + \"_x_\" + v2] = x"
   ]
  },
  {
   "cell_type": "markdown",
   "metadata": {
    "application/vnd.databricks.v1+cell": {
     "cellMetadata": {},
     "inputWidgets": {},
     "nuid": "99ccd852-f793-4c0f-9798-d5ec1493279c",
     "showTitle": false,
     "title": ""
    }
   },
   "source": [
    "We save the data, so we can compare to R below."
   ]
  },
  {
   "cell_type": "code",
   "execution_count": 0,
   "metadata": {
    "application/vnd.databricks.v1+cell": {
     "cellMetadata": {},
     "inputWidgets": {},
     "nuid": "3006742c-8197-4f25-8da5-b1048a4272ed",
     "showTitle": false,
     "title": ""
    }
   },
   "outputs": [],
   "source": [
    "data.to_csv(\"dibetes.csv\", float_format=\"%.4f\")"
   ]
  },
  {
   "cell_type": "markdown",
   "metadata": {
    "application/vnd.databricks.v1+cell": {
     "cellMetadata": {},
     "inputWidgets": {},
     "nuid": "743c716d-6ae1-455b-896a-7e4d30b95a33",
     "showTitle": false,
     "title": ""
    }
   },
   "source": [
    "We start with a big model that contains the main effects and all interactions with the `type` variable.  This model is fit using unregularized OLS."
   ]
  },
  {
   "cell_type": "code",
   "execution_count": 0,
   "metadata": {
    "application/vnd.databricks.v1+cell": {
     "cellMetadata": {},
     "inputWidgets": {},
     "nuid": "a8b30b28-3003-4689-8089-71e9e19bf034",
     "showTitle": false,
     "title": ""
    }
   },
   "outputs": [],
   "source": [
    "print data.columns\n",
    "fml = \"log_glu ~ 0 + bp + skin + age + bmi + type + type_x_bmi + type_x_age + type_x_skin + type_x_bp\"\n",
    "mod = sm.OLS.from_formula(fml, data)\n",
    "rslt = mod.fit()\n",
    "print rslt.summary()"
   ]
  },
  {
   "cell_type": "markdown",
   "metadata": {
    "application/vnd.databricks.v1+cell": {
     "cellMetadata": {},
     "inputWidgets": {},
     "nuid": "9d76d1a6-f605-4ffd-87e8-ffe3e970e0f4",
     "showTitle": false,
     "title": ""
    }
   },
   "source": [
    "Next we fit a sequence of models using the lasso.  We collect the parameter estimates and display them as a table.  This is a crude way to obtain the \"solution path\".  In the near future, we will provide a function to do this for you."
   ]
  },
  {
   "cell_type": "code",
   "execution_count": 0,
   "metadata": {
    "application/vnd.databricks.v1+cell": {
     "cellMetadata": {},
     "inputWidgets": {},
     "nuid": "e5d64007-6d91-41e2-8387-cd159ce2a79c",
     "showTitle": false,
     "title": ""
    }
   },
   "outputs": [],
   "source": [
    "mat = []\n",
    "alphas = np.arange(0, 0.26, 0.05)\n",
    "for alpha in alphas:\n",
    "    mod = sm.OLS.from_formula(fml, data)\n",
    "    rslt = mod.fit_regularized(alpha=alpha)\n",
    "    mat.append(rslt.params)\n",
    "mat = pd.DataFrame(mat, index=[str(x) for x in alphas])\n",
    "print mat.T"
   ]
  },
  {
   "cell_type": "markdown",
   "metadata": {
    "application/vnd.databricks.v1+cell": {
     "cellMetadata": {},
     "inputWidgets": {},
     "nuid": "fcc10f8d-7d2a-4c88-9028-fedbb2c72951",
     "showTitle": false,
     "title": ""
    }
   },
   "source": [
    "Here is R code that performs the same analysis using the glmnet library:\n",
    "\n",
    "```\n",
    "library(glmnet)\n",
    "\n",
    "# The data set created above.\n",
    "data = read.csv(\"diabetes.csv\")\n",
    "\n",
    "x = cbind(data$bp, data$skin, data$age, data$bmi, data$type, data$type_x_bmi, data$type_x_age,\n",
    "    data$type_x_skin, data$type_x_bp)\n",
    "y = data$log_glu\n",
    "\n",
    "model = glmnet(x, y, lambda=c(0, 0.05, 0.1, 0.15, 0.2, 0.25))\n",
    "\n",
    "print(model$beta[,6])\n",
    "print(model$beta[,1])\n",
    "```\n",
    "\n",
    "The results below agree with what we obtained above for alpha=0 and alpha=0.25, respectively:\n",
    "\n",
    "```\n",
    "          V1           V2           V3           V4           V5           V6 \n",
    "0.059751856  0.050783199  0.064140463  0.072454663  0.458089343 -0.009592389 \n",
    "          V7           V8           V9 \n",
    "-0.025364554 -0.065635870  0.016002218 \n",
    "       V1        V2        V3        V4        V5        V6        V7        V8 \n",
    "0.0000000 0.0000000 0.0000000 0.0000000 0.2536029 0.0000000 0.0000000 0.0000000 \n",
    "       V9 \n",
    "0.0000000 \n",
    "```"
   ]
  }
 ],
 "metadata": {
  "application/vnd.databricks.v1+notebook": {
   "dashboards": [],
   "environmentMetadata": null,
   "language": "python",
   "notebookMetadata": {},
   "notebookName": "lasso_diabetes_lm",
   "widgets": {}
  },
  "name": "",
  "signature": "sha256:60409e10f35ec4ab1bb1578f0e877c80697461288687f5be460de8b1f89fc5b0"
 },
 "nbformat": 4,
 "nbformat_minor": 0
}
