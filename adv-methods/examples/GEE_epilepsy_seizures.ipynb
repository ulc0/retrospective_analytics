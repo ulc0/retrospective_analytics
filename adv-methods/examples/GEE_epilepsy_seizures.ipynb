{
 "cells": [
  {
   "cell_type": "markdown",
<<<<<<< Updated upstream
   "metadata": {},
=======
   "metadata": {
    "application/vnd.databricks.v1+cell": {
     "cellMetadata": {},
     "inputWidgets": {},
     "nuid": "de027fce-51b3-44c0-9ad6-70f79c0dad13",
     "showTitle": false,
     "title": ""
    }
   },
>>>>>>> Stashed changes
   "source": [
    "Generalized Estimating Equations\n",
    "================================\n",
    "\n",
    "*Key ideas:* Poisson GEE, exchangeable and autoregressive covariance structures, longitudinal count data"
   ]
  },
  {
   "cell_type": "markdown",
<<<<<<< Updated upstream
   "metadata": {},
=======
   "metadata": {
    "application/vnd.databricks.v1+cell": {
     "cellMetadata": {},
     "inputWidgets": {},
     "nuid": "398b573d-40c5-4b27-925b-52d043520764",
     "showTitle": false,
     "title": ""
    }
   },
>>>>>>> Stashed changes
   "source": [
    "In this notebook, we fit a Poisson GEE to the epilepsy data from the MASS library in R.  The data come from a study in which the number of seizures was recorded on each of 236 subjects over a 16 week period, with a treatment introduced at the end of week 8.  The seizure counts were binned as follows: weeks 1-8, 9-10, 11-12, 13-14, and 15-16.  This is a longitudinal data set with five measurements per subject, and there is likely to be within-subject dependence.  \n",
    "\n",
    "In the analysis below, the total number of seizures during the first 8 weeks is treated as a baseline measure, and the effectiveness of the treatment is based on the seizure counts for weeks 9-16 (binned into 4 intervals that are each 2 weeks in duration).  \n",
    "\n",
    "More information about the data can be found here:\n",
    "\n",
    "http://vincentarelbundock.github.io/Rdatasets/doc/MASS/epil.html\n",
    "\n",
    "\n",
    "Here are the standard import statements:"
   ]
  },
  {
   "cell_type": "code",
<<<<<<< Updated upstream
   "execution_count": 1,
   "metadata": {
=======
   "execution_count": 0,
   "metadata": {
    "application/vnd.databricks.v1+cell": {
     "cellMetadata": {},
     "inputWidgets": {},
     "nuid": "b6961a8f-f9ef-4ba5-ae9d-3d50d00350ed",
     "showTitle": false,
     "title": ""
    },
>>>>>>> Stashed changes
    "collapsed": false
   },
   "outputs": [],
   "source": [
    "import matplotlib.pyplot as plt\n",
    "%matplotlib inline\n",
    "\n",
    "import numpy as np\n",
    "import pandas as pd\n",
    "from statsmodels.genmod.generalized_estimating_equations import GEE\n",
    "from statsmodels.genmod.cov_struct import (Exchangeable,\n",
    "    Independence,Autoregressive)\n",
    "from statsmodels.genmod.families import Poisson"
   ]
  },
  {
   "cell_type": "markdown",
<<<<<<< Updated upstream
   "metadata": {},
=======
   "metadata": {
    "application/vnd.databricks.v1+cell": {
     "cellMetadata": {},
     "inputWidgets": {},
     "nuid": "7ccdcc18-4e75-415a-a1e7-c08e2bfe8faf",
     "showTitle": false,
     "title": ""
    }
   },
>>>>>>> Stashed changes
   "source": [
    "The data are in a clean csv file and are easy to read into Python:"
   ]
  },
  {
   "cell_type": "code",
<<<<<<< Updated upstream
   "execution_count": 2,
   "metadata": {
    "collapsed": false
   },
   "outputs": [
    {
     "name": "stdout",
     "output_type": "stream",
     "text": [
      "   Unnamed: 0  y      trt  base  age  V4  subject  period     lbase      lage\n",
      "0           1  5  placebo    11   31   0        1       1 -0.756354  0.114204\n",
      "1           2  3  placebo    11   31   0        1       2 -0.756354  0.114204\n",
      "2           3  3  placebo    11   31   0        1       3 -0.756354  0.114204\n",
      "3           4  3  placebo    11   31   1        1       4 -0.756354  0.114204\n",
      "4           5  3  placebo    11   30   0        2       1 -0.756354  0.081414\n"
     ]
    }
   ],
=======
   "execution_count": 0,
   "metadata": {
    "application/vnd.databricks.v1+cell": {
     "cellMetadata": {},
     "inputWidgets": {},
     "nuid": "71944420-0021-469f-a6ba-51b6d10fc8b6",
     "showTitle": false,
     "title": ""
    },
    "collapsed": false
   },
   "outputs": [],
>>>>>>> Stashed changes
   "source": [
    "data = pd.read_csv(\"epil.csv\")\n",
    "print(data.head())"
   ]
  },
  {
   "cell_type": "markdown",
<<<<<<< Updated upstream
   "metadata": {},
=======
   "metadata": {
    "application/vnd.databricks.v1+cell": {
     "cellMetadata": {},
     "inputWidgets": {},
     "nuid": "6578c707-34c9-4bb6-8eff-f18d58440921",
     "showTitle": false,
     "title": ""
    }
   },
>>>>>>> Stashed changes
   "source": [
    "We can start with a plot that shows how the baseline seizure count is related to the seizure count in each of the 4 follow-up periods.  It is clear that subjects having more seizures in the baseline period also had more seizures in the follow-up periods.  We use the square root transform to reduce skew (note also the the square root transform is the variance stabilizing transformation for the Poisson distribution)."
   ]
  },
  {
   "cell_type": "code",
<<<<<<< Updated upstream
   "execution_count": 3,
   "metadata": {
    "collapsed": false
   },
   "outputs": [
    {
     "data": {
      "image/png": "iVBORw0KGgoAAAANSUhEUgAAAaoAAAEXCAYAAAD82wBdAAAABHNCSVQICAgIfAhkiAAAAAlwSFlz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\nmZWaE5WZmZWaE5WZmZWaE5WZmZXa/wBr6lKv2tVtYgAAAABJRU5ErkJggg==\n",
      "text/plain": [
       "<matplotlib.figure.Figure at 0x7f8820c8fa90>"
      ]
     },
     "metadata": {},
     "output_type": "display_data"
    }
   ],
=======
   "execution_count": 0,
   "metadata": {
    "application/vnd.databricks.v1+cell": {
     "cellMetadata": {},
     "inputWidgets": {},
     "nuid": "b8d63bcc-d758-4139-8bac-c31daae6f6e8",
     "showTitle": false,
     "title": ""
    },
    "collapsed": false
   },
   "outputs": [],
>>>>>>> Stashed changes
   "source": [
    "for period in range(1,5):\n",
    "    ii = data['period'] == period\n",
    "    x = np.sqrt(data['base'].loc[ii])\n",
    "    y = np.sqrt(data['y'].loc[ii])\n",
    "    plt.plot(x, y, 'o', color='rgbc'[period-1], label=str(period), alpha=0.5)\n",
    "plt.xlabel(\"Baseline\", size=17)\n",
    "plt.ylabel(\"Follow-up\", size=17)\n",
    "plt.ylim(ymin=-0.5)\n",
    "ha, lb = plt.gca().get_legend_handles_labels()\n",
    "leg = plt.figlegend(ha, lb, \"center right\", numpoints=1, handletextpad=0.0001)\n",
    "leg.draw_frame(False)"
   ]
  },
  {
   "cell_type": "markdown",
<<<<<<< Updated upstream
   "metadata": {},
=======
   "metadata": {
    "application/vnd.databricks.v1+cell": {
     "cellMetadata": {},
     "inputWidgets": {},
     "nuid": "f9e29d44-d155-4407-9511-7e05d3ec8b09",
     "showTitle": false,
     "title": ""
    }
   },
>>>>>>> Stashed changes
   "source": [
    "Next we fit a GEE model in which the working dependence structure specifies no dependence within subjects."
   ]
  },
  {
   "cell_type": "code",
<<<<<<< Updated upstream
   "execution_count": 4,
   "metadata": {
    "collapsed": false
   },
   "outputs": [
    {
     "name": "stdout",
     "output_type": "stream",
     "text": [
      "                               GEE Regression Results                              \n",
      "===================================================================================\n",
      "Dep. Variable:                           y   No. Observations:                  236\n",
      "Model:                                 GEE   No. clusters:                       59\n",
      "Method:                        Generalized   Min. cluster size:                   4\n",
      "                      Estimating Equations   Max. cluster size:                   4\n",
      "Family:                            Poisson   Mean cluster size:                 4.0\n",
      "Dependence structure:         Independence   Num. iterations:                    51\n",
      "Date:                     Wed, 23 Mar 2016   Scale:                           5.087\n",
      "Covariance type:                    robust   Time:                         18:05:10\n",
      "====================================================================================\n",
      "                       coef    std err          z      P>|z|      [95.0% Conf. Int.]\n",
      "------------------------------------------------------------------------------------\n",
      "Intercept            0.5730      0.361      1.589      0.112        -0.134     1.280\n",
      "trt[T.progabide]    -0.1519      0.171     -0.888      0.375        -0.487     0.183\n",
      "age                  0.0223      0.011      1.960      0.050      2.11e-06     0.045\n",
      "base                 0.0226      0.001     18.451      0.000         0.020     0.025\n",
      "==============================================================================\n",
      "Skew:                          3.7823   Kurtosis:                      28.6672\n",
      "Centered skew:                 2.7597   Centered kurtosis:             21.9865\n",
      "==============================================================================\n"
     ]
    }
   ],
=======
   "execution_count": 0,
   "metadata": {
    "application/vnd.databricks.v1+cell": {
     "cellMetadata": {},
     "inputWidgets": {},
     "nuid": "d6e34c28-2b04-4e58-a4fc-0d694213168a",
     "showTitle": false,
     "title": ""
    },
    "collapsed": false
   },
   "outputs": [],
>>>>>>> Stashed changes
   "source": [
    "fam = Poisson()\n",
    "ind = Independence()\n",
    "model1 = GEE.from_formula(\"y ~ age + trt + base\", \"subject\", data, cov_struct=ind, family=fam)\n",
    "result1 = model1.fit()\n",
    "print(result1.summary())"
   ]
  },
  {
   "cell_type": "markdown",
<<<<<<< Updated upstream
   "metadata": {},
=======
   "metadata": {
    "application/vnd.databricks.v1+cell": {
     "cellMetadata": {},
     "inputWidgets": {},
     "nuid": "2d7d99b3-0a88-4156-a447-228cc0ec2d1b",
     "showTitle": false,
     "title": ""
    }
   },
>>>>>>> Stashed changes
   "source": [
    "Consistent with the scatterplot shown above, subjects with a greater number of baseline seizures have more seizures in the followup period.  The standard deviation of the number of baseline seizures is 26.7, so a subject who is 1 standard deviation above the mean number of seizures during the baseline period has on average exp(26.7\\*0.0226) = 1.7 times more seizures during the follow-up period (compared to a subject whose baseline value falls at the mean).  There is also a positive association between age and the post-treatment seizure counts: every additional decade of age is associated with exp(10\\*0.0223) = 1.25 times more seizures. The subjects in the treatment arm have fewer seizures, but there is no statistical evidence of a treatment effect."
   ]
  },
  {
   "cell_type": "markdown",
<<<<<<< Updated upstream
   "metadata": {},
=======
   "metadata": {
    "application/vnd.databricks.v1+cell": {
     "cellMetadata": {},
     "inputWidgets": {},
     "nuid": "8b6fb642-0fb1-4255-87f3-0f239c5f29e8",
     "showTitle": false,
     "title": ""
    }
   },
>>>>>>> Stashed changes
   "source": [
    "The scale parameter is estimated to be around 5:"
   ]
  },
  {
   "cell_type": "code",
<<<<<<< Updated upstream
   "execution_count": 5,
   "metadata": {
    "collapsed": false
   },
   "outputs": [
    {
     "data": {
      "text/plain": [
       "5.0873839366294833"
      ]
     },
     "execution_count": 5,
     "metadata": {},
     "output_type": "execute_result"
    }
   ],
=======
   "execution_count": 0,
   "metadata": {
    "application/vnd.databricks.v1+cell": {
     "cellMetadata": {},
     "inputWidgets": {},
     "nuid": "1314f940-37bd-4a1b-959b-4b098c00e3d3",
     "showTitle": false,
     "title": ""
    },
    "collapsed": false
   },
   "outputs": [],
>>>>>>> Stashed changes
   "source": [
    "result1.scale"
   ]
  },
  {
   "cell_type": "markdown",
<<<<<<< Updated upstream
   "metadata": {},
=======
   "metadata": {
    "application/vnd.databricks.v1+cell": {
     "cellMetadata": {},
     "inputWidgets": {},
     "nuid": "a61d4abb-0f7c-4eb2-b849-81ff414beda7",
     "showTitle": false,
     "title": ""
    }
   },
>>>>>>> Stashed changes
   "source": [
    "This means that the variance is around 5 times the mean.  This is a sign of substantial overdisperion, since the variance of a Poisson distribution is equal to its mean, hence the scale parameter should be approximately equal 1 if the data follow a Poisson regression model."
   ]
  },
  {
   "cell_type": "markdown",
<<<<<<< Updated upstream
   "metadata": {},
=======
   "metadata": {
    "application/vnd.databricks.v1+cell": {
     "cellMetadata": {},
     "inputWidgets": {},
     "nuid": "7d7d0058-a60e-4b14-aca9-14c4c3bdfb3d",
     "showTitle": false,
     "title": ""
    }
   },
>>>>>>> Stashed changes
   "source": [
    "Next we plot the empirical mean/variance relationship, by plotting the mean of the repeated measures for each subject against the corresponding variance (note that this does not account for the effects of the covariates).  In the log/log plot, the relationship is roughly linear with a slope that is much greater than 1, reflecting the overdispersion noted above."
   ]
  },
  {
   "cell_type": "code",
<<<<<<< Updated upstream
   "execution_count": 6,
   "metadata": {
    "collapsed": false
   },
   "outputs": [
    {
     "data": {
      "text/plain": [
       "<matplotlib.text.Text at 0x7f881ecc0be0>"
      ]
     },
     "execution_count": 6,
     "metadata": {},
     "output_type": "execute_result"
    },
    {
     "data": {
      "image/png": "iVBORw0KGgoAAAANSUhEUgAAAYoAAAEXCAYAAACzhgONAAAABHNCSVQICAgIfAhkiAAAAAlwSFlz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\naVlDYYwxJi1rKIwxxqRlDYUxxpi0/h91RdIKKX1KXwAAAABJRU5ErkJggg==\n",
      "text/plain": [
       "<matplotlib.figure.Figure at 0x7f881ed26978>"
      ]
     },
     "metadata": {},
     "output_type": "display_data"
    }
   ],
=======
   "execution_count": 0,
   "metadata": {
    "application/vnd.databricks.v1+cell": {
     "cellMetadata": {},
     "inputWidgets": {},
     "nuid": "c247587c-fd33-4e88-a4ac-ef4074ba8e6a",
     "showTitle": false,
     "title": ""
    },
    "collapsed": false
   },
   "outputs": [],
>>>>>>> Stashed changes
   "source": [
    "yg = model1.cluster_list(np.asarray(data[\"y\"]))\n",
    "ymn = [x.mean() for x in yg]\n",
    "yva = [x.var() for x in yg]\n",
    "plt.grid(True)\n",
    "plt.plot(np.log(ymn), np.log(yva), 'o')\n",
    "plt.plot([-2, 6], [-2, 6], '-', color='grey')\n",
    "plt.xlabel(\"Log variance\", size=17)\n",
    "plt.ylabel(\"Log mean\", size=17)"
   ]
  },
  {
   "cell_type": "markdown",
<<<<<<< Updated upstream
   "metadata": {},
=======
   "metadata": {
    "application/vnd.databricks.v1+cell": {
     "cellMetadata": {},
     "inputWidgets": {},
     "nuid": "766ed883-4abb-4b25-8f0c-d05934fac311",
     "showTitle": false,
     "title": ""
    }
   },
>>>>>>> Stashed changes
   "source": [
    "The exchangeable working dependence structure gives the same parameter estimates and standard errors in this case as the independence structure, but we learn from the exchangeable model that the within-subject correlation coefficient is roughly 0.4."
   ]
  },
  {
   "cell_type": "code",
<<<<<<< Updated upstream
   "execution_count": 7,
   "metadata": {
    "collapsed": false
   },
   "outputs": [
    {
     "name": "stdout",
     "output_type": "stream",
     "text": [
      "                               GEE Regression Results                              \n",
      "===================================================================================\n",
      "Dep. Variable:                           y   No. Observations:                  236\n",
      "Model:                                 GEE   No. clusters:                       59\n",
      "Method:                        Generalized   Min. cluster size:                   4\n",
      "                      Estimating Equations   Max. cluster size:                   4\n",
      "Family:                            Poisson   Mean cluster size:                 4.0\n",
      "Dependence structure:         Exchangeable   Num. iterations:                    51\n",
      "Date:                     Wed, 23 Mar 2016   Scale:                           5.087\n",
      "Covariance type:                    robust   Time:                         18:05:11\n",
      "====================================================================================\n",
      "                       coef    std err          z      P>|z|      [95.0% Conf. Int.]\n",
      "------------------------------------------------------------------------------------\n",
      "Intercept            0.5730      0.361      1.589      0.112        -0.134     1.280\n",
      "trt[T.progabide]    -0.1519      0.171     -0.888      0.375        -0.487     0.183\n",
      "age                  0.0223      0.011      1.960      0.050      2.11e-06     0.045\n",
      "base                 0.0226      0.001     18.451      0.000         0.020     0.025\n",
      "==============================================================================\n",
      "Skew:                          3.7823   Kurtosis:                      28.6672\n",
      "Centered skew:                 2.7597   Centered kurtosis:             21.9865\n",
      "==============================================================================\n",
      "The correlation between two observations in the same cluster is 0.393\n"
     ]
    }
   ],
=======
   "execution_count": 0,
   "metadata": {
    "application/vnd.databricks.v1+cell": {
     "cellMetadata": {},
     "inputWidgets": {},
     "nuid": "9d791af0-d816-47e9-9a8d-ab367013020f",
     "showTitle": false,
     "title": ""
    },
    "collapsed": false
   },
   "outputs": [],
>>>>>>> Stashed changes
   "source": [
    "fam = Poisson()\n",
    "ex = Exchangeable()\n",
    "model2 = GEE.from_formula(\"y ~ age + trt + base\", \"subject\", data, cov_struct=ex, family=fam)\n",
    "result2 = model2.fit()\n",
    "print(result2.summary())\n",
    "print(ex.summary())"
   ]
  },
  {
   "cell_type": "markdown",
<<<<<<< Updated upstream
   "metadata": {},
=======
   "metadata": {
    "application/vnd.databricks.v1+cell": {
     "cellMetadata": {},
     "inputWidgets": {},
     "nuid": "e2fe7cc0-03dd-41c0-90a1-08bd16ef464f",
     "showTitle": false,
     "title": ""
    }
   },
>>>>>>> Stashed changes
   "source": [
    "We can also try fitting the model with an autoregressive dependence structure.  In this case, starting values are needed to get the estimating algorithm to converge."
   ]
  },
  {
   "cell_type": "code",
<<<<<<< Updated upstream
   "execution_count": 8,
   "metadata": {
    "collapsed": false
   },
   "outputs": [
    {
     "name": "stdout",
     "output_type": "stream",
     "text": [
      "                               GEE Regression Results                              \n",
      "===================================================================================\n",
      "Dep. Variable:                           y   No. Observations:                  236\n",
      "Model:                                 GEE   No. clusters:                       59\n",
      "Method:                        Generalized   Min. cluster size:                   4\n",
      "                      Estimating Equations   Max. cluster size:                   4\n",
      "Family:                            Poisson   Mean cluster size:                 4.0\n",
      "Dependence structure:       Autoregressive   Num. iterations:                    26\n",
      "Date:                     Wed, 23 Mar 2016   Scale:                           5.064\n",
      "Covariance type:                    robust   Time:                         18:05:11\n",
      "====================================================================================\n",
      "                       coef    std err          z      P>|z|      [95.0% Conf. Int.]\n",
      "------------------------------------------------------------------------------------\n",
      "Intercept            0.4123      0.422      0.977      0.329        -0.415     1.240\n",
      "trt[T.progabide]    -0.0704      0.164     -0.430      0.667        -0.391     0.250\n",
      "age                  0.0274      0.013      2.108      0.035         0.002     0.053\n",
      "base                 0.0223      0.001     18.252      0.000         0.020     0.025\n",
      "==============================================================================\n",
      "Skew:                          3.9903   Kurtosis:                      30.1753\n",
      "Centered skew:                 2.7597   Centered kurtosis:             21.9865\n",
      "==============================================================================\n",
      "Autoregressive(1) dependence parameter: 0.500\n",
      "\n",
      "scale=5.09\n"
     ]
    }
   ],
=======
   "execution_count": 0,
   "metadata": {
    "application/vnd.databricks.v1+cell": {
     "cellMetadata": {},
     "inputWidgets": {},
     "nuid": "c3514a23-6d72-41eb-aa10-5b868dbbf0be",
     "showTitle": false,
     "title": ""
    },
    "collapsed": false
   },
   "outputs": [],
>>>>>>> Stashed changes
   "source": [
    "time = np.kron(np.ones(data.shape[0]/4), (0,1,2,3))\n",
    "fam = Poisson()\n",
    "ar = Autoregressive()\n",
    "ar.dep_params = 0.4\n",
    "model3 = GEE.from_formula(\"y ~ age + trt + base\", \"subject\", data, time=time, cov_struct=ar, family=fam)\n",
    "result3 = model3.fit(start_params=result2.params)\n",
    "print(result3.summary())\n",
    "print(ar.summary())\n",
    "print(\"scale=%.2f\" % (result2.scale))"
   ]
  },
  {
   "cell_type": "markdown",
<<<<<<< Updated upstream
   "metadata": {},
=======
   "metadata": {
    "application/vnd.databricks.v1+cell": {
     "cellMetadata": {},
     "inputWidgets": {},
     "nuid": "2b4f0da3-c12a-41c8-9242-96133ce3200f",
     "showTitle": false,
     "title": ""
    }
   },
>>>>>>> Stashed changes
   "source": [
    "### Dependence structure diagnostics\n",
    "\n",
    "Comparing the autoregressive and exchangeable models, we see that the regression coefficients are quite similar.  Nevertheless, we can probe the dependence structure a bit more by making a plot of the empirical correlation between residuals as a function of the time spacing.  Here the time point values are 0, 1, 2, 3, which are the default integer time values for the four post-treatment measurements.  The plot below suggests that the dependence decreases with time, so the autoregressive structure seems to be more suitable."
   ]
  },
  {
   "cell_type": "code",
<<<<<<< Updated upstream
   "execution_count": 9,
   "metadata": {
    "collapsed": false
   },
   "outputs": [
    {
     "data": {
      "image/png": "iVBORw0KGgoAAAANSUhEUgAAAYgAAAEPCAYAAABY9lNGAAAABHNCSVQICAgIfAhkiAAAAAlwSFlz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\n",
      "text/plain": [
       "<matplotlib.figure.Figure at 0x7f881ed1feb8>"
      ]
     },
     "metadata": {},
     "output_type": "display_data"
    }
   ],
=======
   "execution_count": 0,
   "metadata": {
    "application/vnd.databricks.v1+cell": {
     "cellMetadata": {},
     "inputWidgets": {},
     "nuid": "7e3d391b-6755-4392-88f7-65fd37b26536",
     "showTitle": false,
     "title": ""
    },
    "collapsed": false
   },
   "outputs": [],
>>>>>>> Stashed changes
   "source": [
    "fig = result1.plot_isotropic_dependence()\n",
    "plt.grid(True)"
   ]
  },
  {
   "cell_type": "markdown",
<<<<<<< Updated upstream
   "metadata": {},
=======
   "metadata": {
    "application/vnd.databricks.v1+cell": {
     "cellMetadata": {},
     "inputWidgets": {},
     "nuid": "07b57b42-1e9c-424a-9f41-0d3cd0f5124b",
     "showTitle": false,
     "title": ""
    }
   },
>>>>>>> Stashed changes
   "source": [
    "Next we look at how one of the regression parameters (the age effect) changes as we hold the autocorrelation parameter fixed at various values.  The broken vertical line shows the estimated autocorrelation parameter."
   ]
  },
  {
   "cell_type": "code",
<<<<<<< Updated upstream
   "execution_count": 10,
   "metadata": {
    "collapsed": false
   },
   "outputs": [
    {
     "data": {
      "text/plain": [
       "<matplotlib.text.Text at 0x7f881eba8198>"
      ]
     },
     "execution_count": 10,
     "metadata": {},
     "output_type": "execute_result"
    },
    {
     "data": {
      "image/png": "iVBORw0KGgoAAAANSUhEUgAAAZgAAAETCAYAAAALTBBOAAAABHNCSVQICAgIfAhkiAAAAAlwSFlz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\nwQ2M4ziOUxDcwDiO4zgF4f8HVSixZg/dSFAAAAAASUVORK5CYII=\n",
      "text/plain": [
       "<matplotlib.figure.Figure at 0x7f881ebed9b0>"
      ]
     },
     "metadata": {},
     "output_type": "display_data"
    }
   ],
=======
   "execution_count": 0,
   "metadata": {
    "application/vnd.databricks.v1+cell": {
     "cellMetadata": {},
     "inputWidgets": {},
     "nuid": "0a41e14e-abd9-4996-9d27-950caaf6017a",
     "showTitle": false,
     "title": ""
    },
    "collapsed": false
   },
   "outputs": [],
>>>>>>> Stashed changes
   "source": [
    "rslts = result3.params_sensitivity(0., 0.9, 5)\n",
    "dp = [x.cov_struct.dep_params for x in rslts]\n",
    "age_params = np.asarray([x.params[2] for x in rslts])\n",
    "age_se = np.asarray([x.bse[2] for x in rslts])\n",
    "plt.grid(True)\n",
    "plt.plot(dp, age_params, '-', color='orange', lw=4)\n",
    "plt.plot(dp, age_params + age_se, '-', color='grey')\n",
    "plt.plot(dp, age_params - age_se, '-', color='grey')\n",
    "plt.axvline(result3.cov_struct.dep_params, ls='--', color='black')\n",
    "plt.xlabel(\"Autocorrelation parameter\", size=14)\n",
    "plt.ylabel(\"Age effect\", size=14)"
   ]
  }
 ],
 "metadata": {
<<<<<<< Updated upstream
=======
  "application/vnd.databricks.v1+notebook": {
   "dashboards": [],
   "language": "python",
   "notebookMetadata": {},
   "notebookName": "GEE_epilepsy_seizures",
   "widgets": {}
  },
>>>>>>> Stashed changes
  "kernelspec": {
   "display_name": "Anaconda (Python 3)",
   "language": "python",
   "name": "anaconda3"
  },
  "language_info": {
   "codemirror_mode": {
    "name": "ipython",
    "version": 3
   },
   "file_extension": ".py",
   "mimetype": "text/x-python",
   "name": "python",
   "nbconvert_exporter": "python",
   "pygments_lexer": "ipython3",
   "version": "3.5.1"
  },
  "name": "GEE_epilepsy_seizures.ipynb"
 },
 "nbformat": 4,
 "nbformat_minor": 0
}
