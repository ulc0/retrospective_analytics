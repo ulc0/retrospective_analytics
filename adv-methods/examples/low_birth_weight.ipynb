{
 "cells": [
  {
   "cell_type": "markdown",
   "metadata": {
    "application/vnd.databricks.v1+cell": {
     "cellMetadata": {},
     "inputWidgets": {},
     "nuid": "8b8d4d7d-1d6c-4b74-9e62-906049f7f9ac",
     "showTitle": false,
     "title": ""
    }
   },
   "source": [
    "Risk factors for low birthweight\n",
    "================================\n",
    "\n",
    "This notebook illustrates a logistic regression analysis using Python Statsmodels. The data are indicators of low birth weight in a sample of newborns. Each record in the data set corresponds to one infant.  The primary variable of interest is whether the baby was born with low birthweight, defined to be a birth weight less than 2500 grams.  There are additional variables in the data set that may be used as predictors of a baby being born with low birth weight.\n",
    "\n",
    "A description of the data is [here](http://vincentarelbundock.github.io/Rdatasets/doc/COUNT/lbw.html).  The data can be downloaded [here](http://vincentarelbundock.github.io/Rdatasets/csv/COUNT/lbw.csv).\n",
    "\n",
    "These are the standard import statements:"
   ]
  },
  {
   "cell_type": "code",
   "execution_count": 0,
   "metadata": {
    "application/vnd.databricks.v1+cell": {
     "cellMetadata": {},
     "inputWidgets": {},
     "nuid": "4f99bd35-1e5e-49cb-af6c-b35177cba0ef",
     "showTitle": false,
     "title": ""
    }
   },
   "outputs": [],
   "source": [
    "import numpy as np\n",
    "import pandas as pd\n",
    "import statsmodels.api as sm\n",
    "import matplotlib.pyplot as plt"
   ]
  },
  {
   "cell_type": "markdown",
   "metadata": {
    "application/vnd.databricks.v1+cell": {
     "cellMetadata": {},
     "inputWidgets": {},
     "nuid": "8d4525cf-9e46-41ec-9530-aa74f7df6f43",
     "showTitle": false,
     "title": ""
    }
   },
   "source": [
    "Next we read in the data set and check its size."
   ]
  },
  {
   "cell_type": "code",
   "execution_count": 0,
   "metadata": {
    "application/vnd.databricks.v1+cell": {
     "cellMetadata": {},
     "inputWidgets": {},
     "nuid": "b5a60bae-f03c-4e49-9db1-84076436ef1d",
     "showTitle": false,
     "title": ""
    }
   },
   "outputs": [],
   "source": [
    "data = pd.read_csv(\"lbw.csv\")\n",
    "print(data.shape)"
   ]
  },
  {
   "cell_type": "markdown",
   "metadata": {
    "application/vnd.databricks.v1+cell": {
     "cellMetadata": {},
     "inputWidgets": {},
     "nuid": "9765c396-8f68-4c20-9904-074a3d9a4fa3",
     "showTitle": false,
     "title": ""
    }
   },
   "source": [
    "The `head` method displays the first few rows of the data set, so we know what we are working with:"
   ]
  },
  {
   "cell_type": "code",
   "execution_count": 0,
   "metadata": {
    "application/vnd.databricks.v1+cell": {
     "cellMetadata": {},
     "inputWidgets": {},
     "nuid": "5ca8de6a-6256-4e63-9087-1be6c669be5c",
     "showTitle": false,
     "title": ""
    }
   },
   "outputs": [],
   "source": [
    "print(data.head())"
   ]
  },
  {
   "cell_type": "markdown",
   "metadata": {
    "application/vnd.databricks.v1+cell": {
     "cellMetadata": {},
     "inputWidgets": {},
     "nuid": "4acc3300-497b-4388-84e5-e52988d97339",
     "showTitle": false,
     "title": ""
    }
   },
   "source": [
    "It's optional, but the first column is not needed so we can drop it."
   ]
  },
  {
   "cell_type": "code",
   "execution_count": 0,
   "metadata": {
    "application/vnd.databricks.v1+cell": {
     "cellMetadata": {},
     "inputWidgets": {},
     "nuid": "9ffeb75f-a439-4b3e-bd44-f6e17f181927",
     "showTitle": false,
     "title": ""
    }
   },
   "outputs": [],
   "source": [
    "del data[\"Unnamed: 0\"]"
   ]
  },
  {
   "cell_type": "markdown",
   "metadata": {
    "application/vnd.databricks.v1+cell": {
     "cellMetadata": {},
     "inputWidgets": {},
     "nuid": "6937b0a3-6176-44cc-bb6c-c50692aa8396",
     "showTitle": false,
     "title": ""
    }
   },
   "source": [
    "It's a good idea to check the data types to make sure there are no surprises."
   ]
  },
  {
   "cell_type": "code",
   "execution_count": 0,
   "metadata": {
    "application/vnd.databricks.v1+cell": {
     "cellMetadata": {},
     "inputWidgets": {},
     "nuid": "f0455345-aff3-47cf-8a76-15c168c21676",
     "showTitle": false,
     "title": ""
    }
   },
   "outputs": [],
   "source": [
    "print(data.dtypes)"
   ]
  },
  {
   "cell_type": "markdown",
   "metadata": {
    "application/vnd.databricks.v1+cell": {
     "cellMetadata": {},
     "inputWidgets": {},
     "nuid": "6710c1b6-56bd-45e3-9dfd-85709136a5de",
     "showTitle": false,
     "title": ""
    }
   },
   "source": [
    "We also can check to see if any data are missing."
   ]
  },
  {
   "cell_type": "code",
   "execution_count": 0,
   "metadata": {
    "application/vnd.databricks.v1+cell": {
     "cellMetadata": {},
     "inputWidgets": {},
     "nuid": "803948e9-56cf-4600-b84d-9e98543a31e1",
     "showTitle": false,
     "title": ""
    }
   },
   "outputs": [],
   "source": [
    "pd.isnull(data).sum()"
   ]
  },
  {
   "cell_type": "code",
   "execution_count": 0,
   "metadata": {
    "application/vnd.databricks.v1+cell": {
     "cellMetadata": {},
     "inputWidgets": {},
     "nuid": "8f3074aa-c885-45c4-9b50-2b7a93445d26",
     "showTitle": false,
     "title": ""
    }
   },
   "outputs": [],
   "source": [
    "data[\"race\"] = data[\"race\"].replace({1: \"white\", 2: \"black\", 3: \"other\"})"
   ]
  },
  {
   "cell_type": "markdown",
   "metadata": {
    "application/vnd.databricks.v1+cell": {
     "cellMetadata": {},
     "inputWidgets": {},
     "nuid": "2c2aa609-bcf8-45c5-af86-5f574d63b423",
     "showTitle": false,
     "title": ""
    }
   },
   "source": [
    "We don't have a lot of information about this data set, but we can see that the frequency of low birth weight is over 30%, whereas in the general population it is less than 10%.  Thus the data set is not representative of the general population.  It may be from a case/control study, or from a study of a high risk population."
   ]
  },
  {
   "cell_type": "code",
   "execution_count": 0,
   "metadata": {
    "application/vnd.databricks.v1+cell": {
     "cellMetadata": {},
     "inputWidgets": {},
     "nuid": "879aa562-a0f5-4122-9e0c-40fa80442991",
     "showTitle": false,
     "title": ""
    }
   },
   "outputs": [],
   "source": [
    "data.low.mean()"
   ]
  },
  {
   "cell_type": "markdown",
   "metadata": {
    "application/vnd.databricks.v1+cell": {
     "cellMetadata": {},
     "inputWidgets": {},
     "nuid": "2d2c3b91-2925-4232-8b02-ef66000a1ced",
     "showTitle": false,
     "title": ""
    }
   },
   "source": [
    "Now we can fit a logistic regression model containing additive effects for all covariates.  The `GLM` function fits many types of generalized linear models (GLMs).  Choosing the `Binomial` family makes it a logistic regression."
   ]
  },
  {
   "cell_type": "code",
   "execution_count": 0,
   "metadata": {
    "application/vnd.databricks.v1+cell": {
     "cellMetadata": {},
     "inputWidgets": {},
     "nuid": "0c8736d9-2c56-4229-b1bc-09dd8400bb06",
     "showTitle": false,
     "title": ""
    }
   },
   "outputs": [],
   "source": [
    "model1 = sm.GLM.from_formula(\"low ~ age + smoke + race + lwt + ptl + ht + ui + ftv\", family=sm.families.Binomial(), data=data)\n",
    "result1 = model1.fit()\n",
    "print(result1.summary())"
   ]
  },
  {
   "cell_type": "markdown",
   "metadata": {
    "application/vnd.databricks.v1+cell": {
     "cellMetadata": {},
     "inputWidgets": {},
     "nuid": "01535f76-fd09-483f-9a48-f4231aac77aa",
     "showTitle": false,
     "title": ""
    }
   },
   "source": [
    "There are various ways to select a more parsimonious model from the large model we fit above.  Here we will do a manual \"backward elimination\", dropping the variable with the smallest Z-score and refitting the model.  We repeat this process until a stopping point is reached (discussed further below)."
   ]
  },
  {
   "cell_type": "code",
   "execution_count": 0,
   "metadata": {
    "application/vnd.databricks.v1+cell": {
     "cellMetadata": {},
     "inputWidgets": {},
     "nuid": "7feaeaad-c0fb-4545-86af-c7352a242fdb",
     "showTitle": false,
     "title": ""
    }
   },
   "outputs": [],
   "source": [
    "# drop ftv\n",
    "model2 = sm.GLM.from_formula(\"low ~ age + smoke + race + lwt + ptl + ht + ui\", family=sm.families.Binomial(), data=data)\n",
    "result2 = model2.fit()\n",
    "print(result2.summary())"
   ]
  },
  {
   "cell_type": "code",
   "execution_count": 0,
   "metadata": {
    "application/vnd.databricks.v1+cell": {
     "cellMetadata": {},
     "inputWidgets": {},
     "nuid": "19e5662f-b275-49b1-94e7-e8c9aa5391d9",
     "showTitle": false,
     "title": ""
    }
   },
   "outputs": [],
   "source": [
    "# drop age\n",
    "model3 = sm.GLM.from_formula(\"low ~ smoke + race + lwt + ptl + ht + ui\", family=sm.families.Binomial(), data=data)\n",
    "result3 = model3.fit()\n",
    "print(result3.summary())"
   ]
  },
  {
   "cell_type": "code",
   "execution_count": 0,
   "metadata": {
    "application/vnd.databricks.v1+cell": {
     "cellMetadata": {},
     "inputWidgets": {},
     "nuid": "89013636-c033-4130-85e7-f99b31bb810e",
     "showTitle": false,
     "title": ""
    }
   },
   "outputs": [],
   "source": [
    "# combine other and black race\n",
    "data[\"white_race\"] = (data.race == \"white\")\n",
    "model4 = sm.GLM.from_formula(\"low ~ smoke + white_race + lwt + ptl + ht + ui\", family=sm.families.Binomial(), data=data)\n",
    "result4 = model4.fit()\n",
    "print(result4.summary())"
   ]
  },
  {
   "cell_type": "code",
   "execution_count": 0,
   "metadata": {
    "application/vnd.databricks.v1+cell": {
     "cellMetadata": {},
     "inputWidgets": {},
     "nuid": "11cd3051-0a6f-414b-8c07-b4d9faf6ea0c",
     "showTitle": false,
     "title": ""
    }
   },
   "outputs": [],
   "source": [
    "# drop ptl\n",
    "model5 = sm.GLM.from_formula(\"low ~ smoke + white_race + lwt + ht + ui\", family=sm.families.Binomial(), data=data)\n",
    "result5 = model5.fit()\n",
    "print(result5.summary())"
   ]
  },
  {
   "cell_type": "code",
   "execution_count": 0,
   "metadata": {
    "application/vnd.databricks.v1+cell": {
     "cellMetadata": {},
     "inputWidgets": {},
     "nuid": "a115c739-fe86-4969-870d-485a1dc90804",
     "showTitle": false,
     "title": ""
    }
   },
   "outputs": [],
   "source": [
    "# drop ui\n",
    "model6 = sm.GLM.from_formula(\"low ~ smoke + white_race + lwt + ht\", family=sm.families.Binomial(), data=data)\n",
    "result6 = model6.fit()\n",
    "print(result6.summary())"
   ]
  },
  {
   "cell_type": "code",
   "execution_count": 0,
   "metadata": {
    "application/vnd.databricks.v1+cell": {
     "cellMetadata": {},
     "inputWidgets": {},
     "nuid": "c957b672-f961-47f9-bce0-0061c82ced07",
     "showTitle": false,
     "title": ""
    }
   },
   "outputs": [],
   "source": [
    "# drop ht\n",
    "model7 = sm.GLM.from_formula(\"low ~ smoke + white_race + lwt\", family=sm.families.Binomial(), data=data)\n",
    "result7 = model7.fit()\n",
    "print(result7.summary())"
   ]
  },
  {
   "cell_type": "markdown",
   "metadata": {
    "application/vnd.databricks.v1+cell": {
     "cellMetadata": {},
     "inputWidgets": {},
     "nuid": "78e90fa4-9581-4606-ba74-bb63ea1caa7c",
     "showTitle": false,
     "title": ""
    }
   },
   "source": [
    "To help select a model, we can calculate the AIC and BIC for each model."
   ]
  },
  {
   "cell_type": "code",
   "execution_count": 0,
   "metadata": {
    "application/vnd.databricks.v1+cell": {
     "cellMetadata": {},
     "inputWidgets": {},
     "nuid": "aebdee37-242c-403a-acd3-66c22c4ab8fe",
     "showTitle": false,
     "title": ""
    }
   },
   "outputs": [],
   "source": [
    "[x.aic for x in (result1, result2, result3, result4, result5, result6, result7)]"
   ]
  },
  {
   "cell_type": "code",
   "execution_count": 0,
   "metadata": {
    "application/vnd.databricks.v1+cell": {
     "cellMetadata": {},
     "inputWidgets": {},
     "nuid": "8119f53e-4bc2-48a2-a445-096bf8456dce",
     "showTitle": false,
     "title": ""
    }
   },
   "outputs": [],
   "source": [
    "[x.bic for x in (result1, result2, result3, result4, result5, result6, result7)]"
   ]
  },
  {
   "cell_type": "markdown",
   "metadata": {
    "application/vnd.databricks.v1+cell": {
     "cellMetadata": {},
     "inputWidgets": {},
     "nuid": "3e83ad39-c66b-4b50-bfac-f3d545a96353",
     "showTitle": false,
     "title": ""
    }
   },
   "source": [
    "In terms of AIC, `model4` is the best.  If our goal is to have all Z-scores greater than 2, we would go with `model6`, which is the same model selected by BIC.  Each of these model selection statistics has strengths and weaknesses.  There is no automatic way to decide which model is \"best\"."
   ]
  },
  {
   "cell_type": "markdown",
   "metadata": {
    "application/vnd.databricks.v1+cell": {
     "cellMetadata": {},
     "inputWidgets": {},
     "nuid": "d48f0266-19f3-4173-9778-2ad7e9d7b3a7",
     "showTitle": false,
     "title": ""
    }
   },
   "source": [
    "__Non-multiplicative effect of maternal weight__\n",
    "\n",
    "Now suppose that our main interest is in the maternal age and weight effects (`lwt`).  These are quantitative variables, so they may not be accurately represented by the models presented above, which only have linear effects on the log odds ratio (multiplicative effects on the odds ratio).  We can further explore the effect of maternal weight using splines."
   ]
  },
  {
   "cell_type": "code",
   "execution_count": 0,
   "metadata": {
    "application/vnd.databricks.v1+cell": {
     "cellMetadata": {},
     "inputWidgets": {},
     "nuid": "74d7835e-f707-4e13-8ad8-80284cb62c6f",
     "showTitle": false,
     "title": ""
    }
   },
   "outputs": [],
   "source": [
    "model8 = sm.GLM.from_formula(\"low ~ smoke + white_race + bs(lwt, df=4) + ht + ui\", family=sm.families.Binomial(), data=data)\n",
    "result8 = model8.fit()\n",
    "print(result8.summary())"
   ]
  },
  {
   "cell_type": "markdown",
   "metadata": {
    "application/vnd.databricks.v1+cell": {
     "cellMetadata": {},
     "inputWidgets": {},
     "nuid": "5ccd2862-ab67-4b94-92ad-d479c8595a21",
     "showTitle": false,
     "title": ""
    }
   },
   "source": [
    "Next we plot the log odds for maternal weight relative to the median maternal weight.  The effect that is graphed is for non-smoking white women with no hypertension (`ht=0`) and no uterine irritability (`ui=0`)."
   ]
  },
  {
   "cell_type": "code",
   "execution_count": 0,
   "metadata": {
    "application/vnd.databricks.v1+cell": {
     "cellMetadata": {},
     "inputWidgets": {},
     "nuid": "2d6f018f-dccf-4f77-a11b-05ac8dc87459",
     "showTitle": false,
     "title": ""
    }
   },
   "outputs": [],
   "source": [
    "df = data.iloc[0:9,:].copy()\n",
    "df[\"smoke\"] = 0\n",
    "df[\"white_race\"] = 1\n",
    "\n",
    "# tolist is required due to a numpy bug, now fixed\n",
    "lwt = np.percentile(np.asarray(data.lwt), np.arange(10, 91, 10).tolist())\n",
    "\n",
    "df[\"lwt\"] = lwt\n",
    "df[\"ht\"] = 0\n",
    "df[\"ui\"] = 0\n",
    "\n",
    "# Logit probabilities\n",
    "lpr = result8.predict(exog=df, linear=True)\n",
    "\n",
    "# Log odds ratios relative to median maternal weight\n",
    "lor = lpr - lpr[4]\n",
    "\n",
    "plt.grid(True)\n",
    "plt.plot(lwt, lor, '-o')\n",
    "plt.xlim(98, 172)\n",
    "plt.xlabel(\"Maternal weight (lbs)\", size=15)\n",
    "plt.ylabel(\"Log odds relative to median\", size=15)"
   ]
  },
  {
   "cell_type": "markdown",
   "metadata": {
    "application/vnd.databricks.v1+cell": {
     "cellMetadata": {},
     "inputWidgets": {},
     "nuid": "ef4b5954-7b42-4bac-85aa-176e8ad1fa76",
     "showTitle": false,
     "title": ""
    }
   },
   "source": [
    "We see that while low maternal weight is a risk factor, there is no advantage to being overweight as compared to median weight."
   ]
  },
  {
   "cell_type": "code",
   "execution_count": 0,
   "metadata": {
    "application/vnd.databricks.v1+cell": {
     "cellMetadata": {},
     "inputWidgets": {},
     "nuid": "cf44a16e-9705-46bb-8bc0-4900770eec96",
     "showTitle": false,
     "title": ""
    }
   },
   "outputs": [],
   "source": [
    "OR = np.exp(lor)\n",
    "\n",
    "plt.clf()\n",
    "plt.grid(True)\n",
    "plt.plot(lwt, OR, '-o')\n",
    "plt.xlim(98, 172)\n",
    "plt.xlabel(\"Maternal weight (lbs)\", size=15)\n",
    "plt.ylabel(\"Odds ratio\", size=15)"
   ]
  },
  {
   "cell_type": "markdown",
   "metadata": {
    "application/vnd.databricks.v1+cell": {
     "cellMetadata": {},
     "inputWidgets": {},
     "nuid": "b181ffe1-de05-424b-9a5a-351c5b028fcd",
     "showTitle": false,
     "title": ""
    }
   },
   "source": [
    "__Effect of maternal age__\n",
    "\n",
    "We can now revisit the effect of maternal age, which was very weak as a main effect (i.e. as a linear effect on the log scale).  We will model age using splines to capture possible nonlinear effects.  We will also control for the other factors that were found above to have effects."
   ]
  },
  {
   "cell_type": "code",
   "execution_count": 0,
   "metadata": {
    "application/vnd.databricks.v1+cell": {
     "cellMetadata": {},
     "inputWidgets": {},
     "nuid": "060646bc-50e4-4502-b8c9-b2c333856553",
     "showTitle": false,
     "title": ""
    }
   },
   "outputs": [],
   "source": [
    "model9 = sm.GLM.from_formula(\"low ~ smoke + bs(age, df=3) + white_race + lwt + ht + ui\", family=sm.families.Binomial(), data=data)\n",
    "result9 = model9.fit()\n",
    "\n",
    "df = data.iloc[0:9,:].copy()\n",
    "df[\"smoke\"] = 0\n",
    "df[\"white_race\"] = 1\n",
    "\n",
    "# tolist is required due to a numpy bug, now fixed\n",
    "age = np.percentile(np.asarray(data.age), np.arange(10, 91, 10).tolist())\n",
    "\n",
    "df[\"lwt\"] = data.lwt.mean()\n",
    "df[\"age\"] = age\n",
    "df[\"ht\"] = 0\n",
    "df[\"ui\"] = 0\n",
    "\n",
    "# Logit probabilities\n",
    "lpr = result9.predict(exog=df, linear=True)\n",
    "\n",
    "import patsy\n",
    "dexog = patsy.dmatrix(model9.data.orig_exog.design_info.builder, df)\n",
    "\n",
    "vcov = result9.cov_params()\n",
    "va = [np.dot(x, np.dot(vcov, x)) for x in dexog]\n",
    "va = np.asarray(va)\n",
    "sd = np.sqrt(va)\n",
    "\n",
    "plt.grid(True)\n",
    "plt.plot(age, lpr, '-o')\n",
    "plt.fill_between(age, lpr-2*sd, lpr+2*sd, color='grey', alpha=0.6)\n",
    "plt.xlabel(\"Maternal age\", size=15)\n",
    "plt.ylabel(\"Logit probability\", size=15)"
   ]
  },
  {
   "cell_type": "markdown",
   "metadata": {
    "application/vnd.databricks.v1+cell": {
     "cellMetadata": {},
     "inputWidgets": {},
     "nuid": "5971fb89-71cf-42df-978a-d7ab48592432",
     "showTitle": false,
     "title": ""
    }
   },
   "source": [
    "There still is no evidence of a maternal age effect."
   ]
  }
 ],
 "metadata": {
  "application/vnd.databricks.v1+notebook": {
   "dashboards": [],
   "environmentMetadata": null,
   "language": "python",
   "notebookMetadata": {},
   "notebookName": "low_birth_weight",
   "widgets": {}
  },
  "name": "",
  "signature": "sha256:e4f4cd8832a8b6052b65571970b5e6432fc4fa97e6041781b4752d67478110da"
 },
 "nbformat": 4,
 "nbformat_minor": 0
}
