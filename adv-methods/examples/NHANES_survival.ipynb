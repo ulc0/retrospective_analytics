{
 "cells": [
  {
   "cell_type": "markdown",
<<<<<<< Updated upstream
   "metadata": {},
=======
   "metadata": {
    "application/vnd.databricks.v1+cell": {
     "cellMetadata": {},
     "inputWidgets": {},
     "nuid": "20d59efb-df5a-4c6b-a3ce-bbf84113ca83",
     "showTitle": false,
     "title": ""
    }
   },
>>>>>>> Stashed changes
   "source": [
    "Survival analysis using NHANES mortality data\n",
    "========================\n",
    "\n",
    "This notebook demonstrates several methods for survival analysis that are available in Statsmodels, using the NHANES III study data."
   ]
  },
  {
   "cell_type": "code",
<<<<<<< Updated upstream
   "execution_count": 1,
   "metadata": {
=======
   "execution_count": 0,
   "metadata": {
    "application/vnd.databricks.v1+cell": {
     "cellMetadata": {},
     "inputWidgets": {},
     "nuid": "d2d1ba94-b959-4a64-912f-78afc3d5c981",
     "showTitle": false,
     "title": ""
    },
>>>>>>> Stashed changes
    "collapsed": false
   },
   "outputs": [],
   "source": [
    "import statsmodels\n",
    "import numpy as np\n",
    "import pandas as pd\n",
    "import statsmodels.api as sm\n",
    "import os\n",
    "\n",
    "import matplotlib.pyplot as plt\n",
    "%matplotlib inline"
   ]
  },
  {
   "cell_type": "markdown",
<<<<<<< Updated upstream
   "metadata": {},
=======
   "metadata": {
    "application/vnd.databricks.v1+cell": {
     "cellMetadata": {},
     "inputWidgets": {},
     "nuid": "264b15dd-ed39-4c46-b2dc-085a6166ebca",
     "showTitle": false,
     "title": ""
    }
   },
>>>>>>> Stashed changes
   "source": [
    "NHANES is a cross sectional study (subjects are assessed at one time point and are never re-assessed by NHANES).  The NHANES study team periodically uses social security and other sources of death records to determine which study subjects are still alive at a given follow up point.  Here we will use the mortality data from 2011.  People who are died prior to 2011 should have a date of death in these mortality files.  People who are alive in 2011 will be considered to be censored in the survival analyses.\n",
    "\n",
    "The mortality data are available at the link below as a fixed width format (FWF) file.  The file to retrieve is called \"NHANES_III_MORT_2011_PUBLIC.dat\".\n",
    "\n",
    "http://www.cdc.gov/nchs/data-linkage/mortality-public.htm\n",
    "\n",
    "We downloaded the mortality data and gzipped it.  To read a FWF file we need a specification defining which values appear in each column of the data file.  This is contained in the SAS script provided with the data:\n",
    "\n",
    "ftp://ftp.cdc.gov/pub/Health_Statistics/NCHS/datalinkage/linked_mortality/SAS-Read-in-Program-All-Surveys.sas\n",
    "\n",
    "Copy lines 119 to 141 from the SAS program and place it into a text file called \"mortality_fields.txt\".  The following utility function \"get_colspecs\" will read this file and use it to produce a list of start/end points for the pandas `read_fwf` function to use when reading the mortality data file."
   ]
  },
  {
   "cell_type": "code",
<<<<<<< Updated upstream
   "execution_count": 2,
   "metadata": {
=======
   "execution_count": 0,
   "metadata": {
    "application/vnd.databricks.v1+cell": {
     "cellMetadata": {},
     "inputWidgets": {},
     "nuid": "540aa8ee-d493-448e-ae6f-d626448d0b39",
     "showTitle": false,
     "title": ""
    },
>>>>>>> Stashed changes
    "collapsed": false
   },
   "outputs": [],
   "source": [
    "def get_colspecs(fname):\n",
    "    fields = []\n",
    "    fid = open(fname)\n",
    "    columns = []\n",
    "    colspecs = []\n",
    "    for line in fid:\n",
    "        v = line.rstrip().split()\n",
    "        columns.append(v[0])\n",
    "        u = v[1].split(\"-\")\n",
    "        if len(u) == 1:\n",
    "            u = [int(u[0]), int(u[0])]\n",
    "        else:\n",
    "            u = [int(u[0]), int(u[1])]\n",
    "        u[0] -= 1\n",
    "        colspecs.append(u)\n",
    "    return columns, colspecs"
   ]
  },
  {
   "cell_type": "markdown",
<<<<<<< Updated upstream
   "metadata": {},
=======
   "metadata": {
    "application/vnd.databricks.v1+cell": {
     "cellMetadata": {},
     "inputWidgets": {},
     "nuid": "27471efe-5981-4997-9e26-1768bce29111",
     "showTitle": false,
     "title": ""
    }
   },
>>>>>>> Stashed changes
   "source": [
    "Now we are ready to read the mortality information:"
   ]
  },
  {
   "cell_type": "code",
<<<<<<< Updated upstream
   "execution_count": 3,
   "metadata": {
=======
   "execution_count": 0,
   "metadata": {
    "application/vnd.databricks.v1+cell": {
     "cellMetadata": {},
     "inputWidgets": {},
     "nuid": "1254739c-a730-46e2-8176-039fd9803534",
     "showTitle": false,
     "title": ""
    },
>>>>>>> Stashed changes
    "collapsed": false
   },
   "outputs": [],
   "source": [
    "columns, colspecs = get_colspecs(\"mortality_fields.txt\")\n",
    "fname = \"NHANES_III_MORT_2011_PUBLIC.dat.gz\"\n",
    "mort = pd.read_fwf(fname, colspecs=colspecs, header=None, names=columns,\n",
    "                   compression=\"gzip\")"
   ]
  },
  {
   "cell_type": "markdown",
<<<<<<< Updated upstream
   "metadata": {},
=======
   "metadata": {
    "application/vnd.databricks.v1+cell": {
     "cellMetadata": {},
     "inputWidgets": {},
     "nuid": "a69b865d-febf-419e-a6f0-42d3d743774f",
     "showTitle": false,
     "title": ""
    }
   },
>>>>>>> Stashed changes
   "source": [
    "The data dictionary for the mortality data is here:\n",
    "\n",
    "http://www.cdc.gov/nchs/data/datalinkage/public_use_data_dictionary_11_17_2015.pdf\n",
    "\n",
    "The only variables we will use here are \"PERMTH_INT\", which is the time duration from the NHANES clinical assessment to the last follow up time, and \"MORTSTAT\", which indicates whether the follow up interval ends with death or censoring.  We will also need the \"SEQN\" variable to erge the mortality and assessment data.  Therefore we wil drop the other columns, and drop the cases with missing data on these key variables."
   ]
  },
  {
   "cell_type": "code",
<<<<<<< Updated upstream
   "execution_count": 4,
   "metadata": {
=======
   "execution_count": 0,
   "metadata": {
    "application/vnd.databricks.v1+cell": {
     "cellMetadata": {},
     "inputWidgets": {},
     "nuid": "ed515ea2-7b31-4875-9a8f-838f83516dff",
     "showTitle": false,
     "title": ""
    },
>>>>>>> Stashed changes
    "collapsed": false
   },
   "outputs": [],
   "source": [
    "mort = mort[[\"MORTSTAT\", \"PERMTH_INT\", \"SEQN\"]].dropna()"
   ]
  },
  {
   "cell_type": "markdown",
<<<<<<< Updated upstream
   "metadata": {},
=======
   "metadata": {
    "application/vnd.databricks.v1+cell": {
     "cellMetadata": {},
     "inputWidgets": {},
     "nuid": "c4cb39bb-aadd-463d-b858-e5db45999221",
     "showTitle": false,
     "title": ""
    }
   },
>>>>>>> Stashed changes
   "source": [
    "We will also need the data from the NHANES 3 assessment.  The data and codebooks are available here:\n",
    "\n",
    "http://www.cdc.gov/nchs/nhanes/nh3data.htm\n",
    "\n",
    "In the analyses below we will use the adult data.  As with the mortality data considered above, this is a fixed-width format file.  The column specifications are given in the SAS file that can be downloaded from the above link."
   ]
  },
  {
   "cell_type": "code",
<<<<<<< Updated upstream
   "execution_count": 5,
   "metadata": {
=======
   "execution_count": 0,
   "metadata": {
    "application/vnd.databricks.v1+cell": {
     "cellMetadata": {},
     "inputWidgets": {},
     "nuid": "e42f3f5a-e5ae-4452-82eb-3046988a92dd",
     "showTitle": false,
     "title": ""
    },
>>>>>>> Stashed changes
    "collapsed": true
   },
   "outputs": [],
   "source": [
    "columns, colspecs = get_colspecs(\"adult_fields.txt\")\n",
    "fname = \"adult.dat.gz\"\n",
    "data = pd.read_fwf(fname, colspecs=colspecs, header=None, names=columns,\n",
    "                   compression=\"gzip\")"
   ]
  },
  {
   "cell_type": "markdown",
<<<<<<< Updated upstream
   "metadata": {},
=======
   "metadata": {
    "application/vnd.databricks.v1+cell": {
     "cellMetadata": {},
     "inputWidgets": {},
     "nuid": "7494b74b-11e7-49b4-9d0d-c5ed18feec8a",
     "showTitle": false,
     "title": ""
    }
   },
>>>>>>> Stashed changes
   "source": [
    "Now we merge the mortality and visit data."
   ]
  },
  {
   "cell_type": "code",
<<<<<<< Updated upstream
   "execution_count": 6,
   "metadata": {
    "collapsed": false
   },
   "outputs": [
    {
     "name": "stdout",
     "output_type": "stream",
     "text": [
      "(19592, 3)\n",
      "(20050, 1238)\n",
      "(19592, 1240)\n"
     ]
    }
   ],
=======
   "execution_count": 0,
   "metadata": {
    "application/vnd.databricks.v1+cell": {
     "cellMetadata": {},
     "inputWidgets": {},
     "nuid": "b0e89d1c-6dce-4fd0-b234-c44c8fe07736",
     "showTitle": false,
     "title": ""
    },
    "collapsed": false
   },
   "outputs": [],
>>>>>>> Stashed changes
   "source": [
    "df = pd.merge(data, mort, left_on=\"SEQN\", right_on=\"SEQN\")\n",
    "print(mort.shape)\n",
    "print(data.shape)\n",
    "print(df.shape)"
   ]
  },
  {
   "cell_type": "markdown",
<<<<<<< Updated upstream
   "metadata": {},
=======
   "metadata": {
    "application/vnd.databricks.v1+cell": {
     "cellMetadata": {},
     "inputWidgets": {},
     "nuid": "0b150570-11af-4c20-8419-7798b6474d97",
     "showTitle": false,
     "title": ""
    }
   },
>>>>>>> Stashed changes
   "source": [
    "Next we drop the columns that we will not use below, and drop cases with missing data."
   ]
  },
  {
   "cell_type": "code",
<<<<<<< Updated upstream
   "execution_count": 7,
   "metadata": {
=======
   "execution_count": 0,
   "metadata": {
    "application/vnd.databricks.v1+cell": {
     "cellMetadata": {},
     "inputWidgets": {},
     "nuid": "7591acf4-c144-45ca-8c21-d557a4bc4e51",
     "showTitle": false,
     "title": ""
    },
>>>>>>> Stashed changes
    "collapsed": true
   },
   "outputs": [],
   "source": [
    "df = df[[\"PERMTH_INT\", \"MORTSTAT\", \"HSAGEIR\", \"HSSEX\", \"HAZA8AK1\", \"SEQN\"]].dropna()"
   ]
  },
  {
   "cell_type": "markdown",
<<<<<<< Updated upstream
   "metadata": {},
=======
   "metadata": {
    "application/vnd.databricks.v1+cell": {
     "cellMetadata": {},
     "inputWidgets": {},
     "nuid": "32ced097-9577-416a-8e7b-2e64f1699680",
     "showTitle": false,
     "title": ""
    }
   },
>>>>>>> Stashed changes
   "source": [
    "Just for orientation, a histogram of age values is shown below."
   ]
  },
  {
   "cell_type": "code",
<<<<<<< Updated upstream
   "execution_count": 8,
   "metadata": {
    "collapsed": false
   },
   "outputs": [
    {
     "data": {
      "text/plain": [
       "<matplotlib.text.Text at 0x7f1b1645fa90>"
      ]
     },
     "execution_count": 8,
     "metadata": {},
     "output_type": "execute_result"
    },
    {
     "data": {
      "image/png": "iVBORw0KGgoAAAANSUhEUgAAAZUAAAEUCAYAAADjt6tGAAAABHNCSVQICAgIfAhkiAAAAAlwSFlz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\nAAAAAElFTkSuQmCC\n",
      "text/plain": [
       "<matplotlib.figure.Figure at 0x7f1b03e92390>"
      ]
     },
     "metadata": {},
     "output_type": "display_data"
    }
   ],
=======
   "execution_count": 0,
   "metadata": {
    "application/vnd.databricks.v1+cell": {
     "cellMetadata": {},
     "inputWidgets": {},
     "nuid": "31f3e02b-29ee-4577-8011-18bec7ff8340",
     "showTitle": false,
     "title": ""
    },
    "collapsed": false
   },
   "outputs": [],
>>>>>>> Stashed changes
   "source": [
    "plt.hist(df.HSAGEIR, color='grey')\n",
    "plt.xlabel(\"Age (years)\", size=16)\n",
    "plt.ylabel(\"Frequency\", size=16)"
   ]
  },
  {
   "cell_type": "markdown",
<<<<<<< Updated upstream
   "metadata": {},
=======
   "metadata": {
    "application/vnd.databricks.v1+cell": {
     "cellMetadata": {},
     "inputWidgets": {},
     "nuid": "3cf84415-8a44-4c68-87d4-3040fab4ffcc",
     "showTitle": false,
     "title": ""
    }
   },
>>>>>>> Stashed changes
   "source": [
    "## Estimates of the survival function\n",
    "\n",
    "We can now create a survival function object.  To do this we need to provide the duration values (\"PERMTH_INT\") and the mortality status variable (\"MORTSTAT\").  The \"summary\" method of the survival function returns a dataframe containing the Kaplan-Meier estimates of the survival function at its steps.  For any survival analysis it is important to define time zero in a meaningful way.  There are various ways to do this here, but one approach suitable here is to select people in a narrow age range, say 50-55.  This means we are looking at the survival function for one \"birth cohort\" -- people who were roughly age 52.5 when the NHANES III assessmsents took place."
   ]
  },
  {
   "cell_type": "code",
<<<<<<< Updated upstream
   "execution_count": 9,
   "metadata": {
=======
   "execution_count": 0,
   "metadata": {
    "application/vnd.databricks.v1+cell": {
     "cellMetadata": {},
     "inputWidgets": {},
     "nuid": "ae9c60fb-22d1-4aae-af6b-eb022157a271",
     "showTitle": false,
     "title": ""
    },
>>>>>>> Stashed changes
    "collapsed": true
   },
   "outputs": [],
   "source": [
    "ii = (df.HSAGEIR >= 50) & (df.HSAGEIR < 55)\n",
    "df = df.loc[ii]"
   ]
  },
  {
   "cell_type": "code",
<<<<<<< Updated upstream
   "execution_count": 10,
   "metadata": {
    "collapsed": false
   },
   "outputs": [
    {
     "data": {
      "text/html": [
       "<div style=\"max-height:1000px;max-width:1500px;overflow:auto;\">\n",
       "<table border=\"1\" class=\"dataframe\">\n",
       "  <thead>\n",
       "    <tr style=\"text-align: right;\">\n",
       "      <th></th>\n",
       "      <th>Surv prob</th>\n",
       "      <th>Surv prob SE</th>\n",
       "      <th>num at risk</th>\n",
       "      <th>num events</th>\n",
       "    </tr>\n",
       "    <tr>\n",
       "      <th>Time</th>\n",
       "      <th></th>\n",
       "      <th></th>\n",
       "      <th></th>\n",
       "      <th></th>\n",
       "    </tr>\n",
       "  </thead>\n",
       "  <tbody>\n",
       "    <tr>\n",
       "      <th>0</th>\n",
       "      <td> 0.999044</td>\n",
       "      <td> 0.000956</td>\n",
       "      <td> 1046</td>\n",
       "      <td> 1</td>\n",
       "    </tr>\n",
       "    <tr>\n",
       "      <th>1</th>\n",
       "      <td> 0.998088</td>\n",
       "      <td> 0.001351</td>\n",
       "      <td> 1045</td>\n",
       "      <td> 1</td>\n",
       "    </tr>\n",
       "    <tr>\n",
       "      <th>5</th>\n",
       "      <td> 0.996176</td>\n",
       "      <td> 0.001908</td>\n",
       "      <td> 1044</td>\n",
       "      <td> 2</td>\n",
       "    </tr>\n",
       "    <tr>\n",
       "      <th>6</th>\n",
       "      <td> 0.995220</td>\n",
       "      <td> 0.002133</td>\n",
       "      <td> 1042</td>\n",
       "      <td> 1</td>\n",
       "    </tr>\n",
       "    <tr>\n",
       "      <th>7</th>\n",
       "      <td> 0.993308</td>\n",
       "      <td> 0.002521</td>\n",
       "      <td> 1041</td>\n",
       "      <td> 2</td>\n",
       "    </tr>\n",
       "  </tbody>\n",
       "</table>\n",
       "</div>"
      ],
      "text/plain": [
       "      Surv prob  Surv prob SE  num at risk  num events\n",
       "Time                                                  \n",
       "0      0.999044      0.000956         1046           1\n",
       "1      0.998088      0.001351         1045           1\n",
       "5      0.996176      0.001908         1044           2\n",
       "6      0.995220      0.002133         1042           1\n",
       "7      0.993308      0.002521         1041           2"
      ]
     },
     "execution_count": 10,
     "metadata": {},
     "output_type": "execute_result"
    }
   ],
=======
   "execution_count": 0,
   "metadata": {
    "application/vnd.databricks.v1+cell": {
     "cellMetadata": {},
     "inputWidgets": {},
     "nuid": "f2cd33eb-3f79-481e-a687-119b65dae5c9",
     "showTitle": false,
     "title": ""
    },
    "collapsed": false
   },
   "outputs": [],
>>>>>>> Stashed changes
   "source": [
    "sf1 = sm.duration.SurvfuncRight(df[\"PERMTH_INT\"], df[\"MORTSTAT\"], \"\")\n",
    "sf1.summary().head()"
   ]
  },
  {
   "cell_type": "markdown",
<<<<<<< Updated upstream
   "metadata": {},
=======
   "metadata": {
    "application/vnd.databricks.v1+cell": {
     "cellMetadata": {},
     "inputWidgets": {},
     "nuid": "d1ea5cc3-6fb6-417d-88b0-56aa84cd1d02",
     "showTitle": false,
     "title": ""
    }
   },
>>>>>>> Stashed changes
   "source": [
    "The Kaplan-Meier estimate is the most common estimator of the survival function.  We plot that next.  The \"+\" signs indicate censoring.  Since NHANES III took place in the 1980's, all subjects have at least 12 years of follow-up as of 2011."
   ]
  },
  {
   "cell_type": "code",
<<<<<<< Updated upstream
   "execution_count": 11,
   "metadata": {
    "collapsed": false
   },
   "outputs": [
    {
     "data": {
      "text/plain": [
       "<matplotlib.text.Text at 0x7f1b035399b0>"
      ]
     },
     "execution_count": 11,
     "metadata": {},
     "output_type": "execute_result"
    },
    {
     "data": {
      "image/png": "iVBORw0KGgoAAAANSUhEUgAAAZMAAAEUCAYAAADuqdsBAAAABHNCSVQICAgIfAhkiAAAAAlwSFlz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\nRU5ErkJggg==\n",
      "text/plain": [
       "<matplotlib.figure.Figure at 0x7f1b07b92748>"
      ]
     },
     "metadata": {},
     "output_type": "display_data"
    }
   ],
=======
   "execution_count": 0,
   "metadata": {
    "application/vnd.databricks.v1+cell": {
     "cellMetadata": {},
     "inputWidgets": {},
     "nuid": "aafb33e4-0c9d-4381-904a-ec1f8c284c3f",
     "showTitle": false,
     "title": ""
    },
    "collapsed": false
   },
   "outputs": [],
>>>>>>> Stashed changes
   "source": [
    "sf1.plot()\n",
    "plt.grid(True)\n",
    "plt.ylim(0.6, 1)\n",
    "plt.xlabel(\"Time (months)\", size=16)\n",
    "plt.ylabel(\"Proportion alive\", size=16)"
   ]
  },
  {
   "cell_type": "markdown",
<<<<<<< Updated upstream
   "metadata": {},
=======
   "metadata": {
    "application/vnd.databricks.v1+cell": {
     "cellMetadata": {},
     "inputWidgets": {},
     "nuid": "cde63aa9-eaee-4778-834b-8ec5ced73adb",
     "showTitle": false,
     "title": ""
    }
   },
>>>>>>> Stashed changes
   "source": [
    "Next we plot the survival function together with point-wise standard errors. . Since the NHANES sample size is large, the standard errors are small.  This means that we have estimated the survival function quite precisely."
   ]
  },
  {
   "cell_type": "code",
<<<<<<< Updated upstream
   "execution_count": 12,
   "metadata": {
    "collapsed": false
   },
   "outputs": [
    {
     "data": {
      "text/plain": [
       "<matplotlib.text.Text at 0x7f1b07b7d6d8>"
      ]
     },
     "execution_count": 12,
     "metadata": {},
     "output_type": "execute_result"
    },
    {
     "name": "stderr",
     "output_type": "stream",
     "text": [
      "/usr/lib/python3/dist-packages/matplotlib/collections.py:571: FutureWarning: elementwise comparison failed; returning scalar instead, but in the future will perform elementwise comparison\n",
      "  if self._edgecolors == str('face'):\n"
     ]
    },
    {
     "data": {
      "image/png": "iVBORw0KGgoAAAANSUhEUgAAAZMAAAEUCAYAAADuqdsBAAAABHNCSVQICAgIfAhkiAAAAAlwSFlz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\ntMvXcsOQAAAAAElFTkSuQmCC\n",
      "text/plain": [
       "<matplotlib.figure.Figure at 0x7f1b03534d30>"
      ]
     },
     "metadata": {},
     "output_type": "display_data"
    }
   ],
=======
   "execution_count": 0,
   "metadata": {
    "application/vnd.databricks.v1+cell": {
     "cellMetadata": {},
     "inputWidgets": {},
     "nuid": "b85dcbbe-079c-4d9a-b190-dee1cecc52f0",
     "showTitle": false,
     "title": ""
    },
    "collapsed": false
   },
   "outputs": [],
>>>>>>> Stashed changes
   "source": [
    "plt.grid(True)\n",
    "plt.fill_between(sf1.surv_times, sf1.surv_prob - 2*sf1.surv_prob_se, sf1.surv_prob + 2*sf1.surv_prob_se, color=\"lightgrey\") \n",
    "plt.plot(sf1.surv_times, sf1.surv_prob, '-', color='black') \n",
    "plt.ylim(0.7, 1)\n",
    "plt.xlabel(\"Time (months)\", size=16)\n",
    "plt.ylabel(\"Proportion alive\", size=16)"
   ]
  },
  {
   "cell_type": "markdown",
<<<<<<< Updated upstream
   "metadata": {},
=======
   "metadata": {
    "application/vnd.databricks.v1+cell": {
     "cellMetadata": {},
     "inputWidgets": {},
     "nuid": "6294c26b-c3cb-480b-9d62-4be17c04b41a",
     "showTitle": false,
     "title": ""
    }
   },
>>>>>>> Stashed changes
   "source": [
    "A more rigorous way to assess the uncertainty in the survival function estimate is to use simultaneous confidence bands rather than pointwise confidence bands.  There are several methods in the literature for doing this.  The standard methods do not give very meaningful results for survival times close to the extreme values of oberved durations (0 and 270 here)."
   ]
  },
  {
   "cell_type": "code",
<<<<<<< Updated upstream
   "execution_count": 13,
   "metadata": {
    "collapsed": false
   },
   "outputs": [
    {
     "data": {
      "text/plain": [
       "<matplotlib.collections.PolyCollection at 0x7f1b03eb3390>"
      ]
     },
     "execution_count": 13,
     "metadata": {},
     "output_type": "execute_result"
    },
    {
     "name": "stderr",
     "output_type": "stream",
     "text": [
      "/usr/lib/python3/dist-packages/matplotlib/collections.py:571: FutureWarning: elementwise comparison failed; returning scalar instead, but in the future will perform elementwise comparison\n",
      "  if self._edgecolors == str('face'):\n"
     ]
    },
    {
     "data": {
      "image/png": "iVBORw0KGgoAAAANSUhEUgAAAX8AAAEACAYAAABbMHZzAAAABHNCSVQICAgIfAhkiAAAAAlwSFlz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\nlb8xxgxCVvkbY8wgZJW/McYMQv8f10YQUvTppPEAAAAASUVORK5CYII=\n",
      "text/plain": [
       "<matplotlib.figure.Figure at 0x7f1b03534be0>"
      ]
     },
     "metadata": {},
     "output_type": "display_data"
    }
   ],
=======
   "execution_count": 0,
   "metadata": {
    "application/vnd.databricks.v1+cell": {
     "cellMetadata": {},
     "inputWidgets": {},
     "nuid": "822ba4f4-7a3d-43d6-b349-cb3f6f5a5748",
     "showTitle": false,
     "title": ""
    },
    "collapsed": false
   },
   "outputs": [],
>>>>>>> Stashed changes
   "source": [
    "lcb, ucb = sf1.simultaneous_cb(transform='arcsin')\n",
    "plt.grid(True)\n",
    "plt.plot(sf1.surv_times, sf1.surv_prob, '-', color='black') \n",
    "plt.fill_between(sf1.surv_times, lcb, ucb, color='lightgrey')"
   ]
  },
  {
   "cell_type": "markdown",
<<<<<<< Updated upstream
   "metadata": {},
=======
   "metadata": {
    "application/vnd.databricks.v1+cell": {
     "cellMetadata": {},
     "inputWidgets": {},
     "nuid": "8d6fc836-222a-4926-a492-d79871ea5beb",
     "showTitle": false,
     "title": ""
    }
   },
>>>>>>> Stashed changes
   "source": [
    "## Survival function quantiles\n",
    "\n",
    "The inverse of the survival function is the survival quantile function.  It tells us the survival time corresponding to each probability point (e.g. what is the 10th percentile of survival times).  These estimates may be undefined for probabiity points that are \"not reached\".  For example, in the overall NHANES sample the median survival time is not reached.\n",
    "\n",
    "The first plot below shows the survival quantles up to the 20th percentile, which is the highest probability point that is reached in these data."
   ]
  },
  {
   "cell_type": "code",
<<<<<<< Updated upstream
   "execution_count": 14,
   "metadata": {
    "collapsed": false
   },
   "outputs": [
    {
     "data": {
      "text/plain": [
       "<matplotlib.text.Text at 0x7f1b03e787f0>"
      ]
     },
     "execution_count": 14,
     "metadata": {},
     "output_type": "execute_result"
    },
    {
     "data": {
      "image/png": "iVBORw0KGgoAAAANSUhEUgAAAZEAAAEUCAYAAADqXAs8AAAABHNCSVQICAgIfAhkiAAAAAlwSFlz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\nsgAAAABJRU5ErkJggg==\n",
      "text/plain": [
       "<matplotlib.figure.Figure at 0x7f1b03e93828>"
      ]
     },
     "metadata": {},
     "output_type": "display_data"
    }
   ],
=======
   "execution_count": 0,
   "metadata": {
    "application/vnd.databricks.v1+cell": {
     "cellMetadata": {},
     "inputWidgets": {},
     "nuid": "2dbf2f28-0555-47c4-b78c-0b736efdba33",
     "showTitle": false,
     "title": ""
    },
    "collapsed": false
   },
   "outputs": [],
>>>>>>> Stashed changes
   "source": [
    "qp = np.linspace(0.01, 0.19, 20)\n",
    "sq = [sf1.quantile(x) for x in qp]\n",
    "\n",
    "plt.clf()\n",
    "plt.grid(True)\n",
    "plt.plot(qp, sq, '-')\n",
    "plt.xlabel(\"Probability\", size=16)\n",
    "plt.ylabel(\"Survival quantile\", size=16)"
   ]
  },
  {
   "cell_type": "markdown",
<<<<<<< Updated upstream
   "metadata": {},
=======
   "metadata": {
    "application/vnd.databricks.v1+cell": {
     "cellMetadata": {},
     "inputWidgets": {},
     "nuid": "c764aee8-ad8b-4100-ad73-3d6e682aa1dd",
     "showTitle": false,
     "title": ""
    }
   },
>>>>>>> Stashed changes
   "source": [
    "We can put pointwise confidence bands around the survival quantile curves."
   ]
  },
  {
   "cell_type": "code",
<<<<<<< Updated upstream
   "execution_count": 15,
   "metadata": {
    "collapsed": false
   },
   "outputs": [
    {
     "data": {
      "text/plain": [
       "<matplotlib.text.Text at 0x7f1b05e9ac88>"
      ]
     },
     "execution_count": 15,
     "metadata": {},
     "output_type": "execute_result"
    },
    {
     "name": "stderr",
     "output_type": "stream",
     "text": [
      "/usr/lib/python3/dist-packages/matplotlib/collections.py:571: FutureWarning: elementwise comparison failed; returning scalar instead, but in the future will perform elementwise comparison\n",
      "  if self._edgecolors == str('face'):\n"
     ]
    },
    {
     "data": {
      "image/png": "iVBORw0KGgoAAAANSUhEUgAAAZEAAAEUCAYAAADqXAs8AAAABHNCSVQICAgIfAhkiAAAAAlwSFlz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\nAABJRU5ErkJggg==\n",
      "text/plain": [
       "<matplotlib.figure.Figure at 0x7f1b05572c50>"
      ]
     },
     "metadata": {},
     "output_type": "display_data"
    }
   ],
=======
   "execution_count": 0,
   "metadata": {
    "application/vnd.databricks.v1+cell": {
     "cellMetadata": {},
     "inputWidgets": {},
     "nuid": "45a76ebe-6527-4836-903f-ecaf85f79d60",
     "showTitle": false,
     "title": ""
    },
    "collapsed": false
   },
   "outputs": [],
>>>>>>> Stashed changes
   "source": [
    "ci = [sf1.quantile_ci(x) for x in qp]\n",
    "ci = np.asarray(ci)\n",
    "\n",
    "plt.clf()\n",
    "plt.grid(True)\n",
    "plt.fill_between(qp, ci[:, 0], ci[:, 1], color='lightgrey')\n",
    "plt.plot(qp, sq, '-', color='black')\n",
    "plt.xlabel(\"Probability\", size=16)\n",
    "plt.ylabel(\"Survival quantile\", size=16)"
   ]
  },
  {
   "cell_type": "markdown",
<<<<<<< Updated upstream
   "metadata": {},
=======
   "metadata": {
    "application/vnd.databricks.v1+cell": {
     "cellMetadata": {},
     "inputWidgets": {},
     "nuid": "8790eac9-f47a-46fe-9c30-69d3f8616a80",
     "showTitle": false,
     "title": ""
    }
   },
>>>>>>> Stashed changes
   "source": [
    "### Group-wise comparisons of survival functions\n",
    "\n",
    "To illustrate the methods for comparing groups, we will compare survival curves for women and men.  The gender information is in the \"HSSEX\" variable.  HSSEX=1 indicates males and HSSEX=2 indicates females."
   ]
  },
  {
   "cell_type": "code",
<<<<<<< Updated upstream
   "execution_count": 16,
   "metadata": {
=======
   "execution_count": 0,
   "metadata": {
    "application/vnd.databricks.v1+cell": {
     "cellMetadata": {},
     "inputWidgets": {},
     "nuid": "4c97a048-faaf-480f-894a-2c2999feed30",
     "showTitle": false,
     "title": ""
    },
>>>>>>> Stashed changes
    "collapsed": false
   },
   "outputs": [],
   "source": [
    "ii = (df.HSSEX==1)\n",
    "sfm = sm.duration.SurvfuncRight(df.loc[ii, \"PERMTH_INT\"], df.loc[ii, \"MORTSTAT\"], \"Male\")\n",
    "\n",
    "ii = (df.HSSEX==2)\n",
    "sff = sm.duration.SurvfuncRight(df.loc[ii, \"PERMTH_INT\"], df.loc[ii, \"MORTSTAT\"], \"Female\")"
   ]
  },
  {
   "cell_type": "markdown",
<<<<<<< Updated upstream
   "metadata": {},
=======
   "metadata": {
    "application/vnd.databricks.v1+cell": {
     "cellMetadata": {},
     "inputWidgets": {},
     "nuid": "043826de-8f0c-4797-83ad-e2c8f41f347f",
     "showTitle": false,
     "title": ""
    }
   },
>>>>>>> Stashed changes
   "source": [
    "We can now plot the survival function estimates for males and females (in the 50-60 age range) on the same axes."
   ]
  },
  {
   "cell_type": "code",
<<<<<<< Updated upstream
   "execution_count": 17,
   "metadata": {
    "collapsed": false
   },
   "outputs": [
    {
     "data": {
      "text/plain": [
       "<matplotlib.legend.Legend at 0x7f1b05e9a8d0>"
      ]
     },
     "execution_count": 17,
     "metadata": {},
     "output_type": "execute_result"
    },
    {
     "data": {
      "image/png": "iVBORw0KGgoAAAANSUhEUgAAAYwAAAEUCAYAAAA4DAFkAAAABHNCSVQICAgIfAhkiAAAAAlwSFlz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\n",
      "text/plain": [
       "<matplotlib.figure.Figure at 0x7f1b05e9a630>"
      ]
     },
     "metadata": {},
     "output_type": "display_data"
    }
   ],
=======
   "execution_count": 0,
   "metadata": {
    "application/vnd.databricks.v1+cell": {
     "cellMetadata": {},
     "inputWidgets": {},
     "nuid": "23279f94-a45f-493e-a49c-2b6e6b2f757f",
     "showTitle": false,
     "title": ""
    },
    "collapsed": false
   },
   "outputs": [],
>>>>>>> Stashed changes
   "source": [
    "ax = plt.gca()\n",
    "\n",
    "plt.grid(True)\n",
    "sfm.plot(ax)\n",
    "sff.plot(ax)\n",
    "plt.xlabel(\"Time (months)\", size=16)\n",
    "plt.ylabel(\"Proportion alive\", size=16)\n",
    "plt.ylim(0.5, 1)\n",
    "ha, lb = ax.get_legend_handles_labels()\n",
    "plt.legend(ha, lb, loc=\"lower left\")"
   ]
  },
  {
   "cell_type": "code",
<<<<<<< Updated upstream
   "execution_count": 18,
   "metadata": {
    "collapsed": false
   },
   "outputs": [
    {
     "name": "stdout",
     "output_type": "stream",
     "text": [
      "8.3362343064 0.00388620655464\n"
     ]
    }
   ],
=======
   "execution_count": 0,
   "metadata": {
    "application/vnd.databricks.v1+cell": {
     "cellMetadata": {},
     "inputWidgets": {},
     "nuid": "5db60f60-5f76-470c-8fa7-0a62aad1d191",
     "showTitle": false,
     "title": ""
    },
    "collapsed": false
   },
   "outputs": [],
>>>>>>> Stashed changes
   "source": [
    "chisq, pval = sm.duration.survdiff(df.PERMTH_INT, df.MORTSTAT, df.HSSEX)\n",
    "print(chisq, pval)"
   ]
  },
  {
   "cell_type": "markdown",
<<<<<<< Updated upstream
   "metadata": {},
   "source": [
    "## Proportional hazards regression analysis\n",
    "\n",
    "To move beyond group-wise comparisons, we can use regression analysis.  There are several methods of regression analysis that are suitable for data with censoring.  The most commonly used in practice is the proportional hazards regression model, or \"Cox model\".  Below we run a very simple proportional hazards regression model using gender as a predictor of mortality. "
=======
   "metadata": {
    "application/vnd.databricks.v1+cell": {
     "cellMetadata": {},
     "inputWidgets": {},
     "nuid": "8fd8415e-937a-45fe-9972-09722eb979b2",
     "showTitle": false,
     "title": ""
    }
   },
   "source": [
    "## Proportional hazards regression analysis\n",
    "\n",
    "To move beyond group-wise comparisons, we can use regression analysis.  There are several methods of regression analysis that are suitable for data with censoring.  The most commonly used in practice is the proportional hazards regression model, or \"Cox model\".  Below we run a very simple proportional hazards regression model using gender as a predictor of mortality."
>>>>>>> Stashed changes
   ]
  },
  {
   "cell_type": "code",
<<<<<<< Updated upstream
   "execution_count": 19,
   "metadata": {
    "collapsed": false
   },
   "outputs": [
    {
     "data": {
      "text/html": [
       "<table class=\"simpletable\">\n",
       "<tr>\n",
       "        <td>Model:</td>          <td>PH Reg</td>   <td>Sample size:</td> <td>1046</td>\n",
       "</tr>\n",
       "<tr>\n",
       "  <td>Dependent variable:</td> <td>PERMTH_INT</td> <td>Num. events:</td>  <td>246</td>\n",
       "</tr>\n",
       "<tr>\n",
       "         <td>Ties:</td>          <td>Breslow</td>        <td></td>         <td></td>  \n",
       "</tr>\n",
       "</table>\n",
       "<table class=\"simpletable\">\n",
       "<tr>\n",
       "    <td></td>    <th>log HR</th>  <th>log HR SE</th>   <th>HR</th>      <th>t</th>     <th>P>|t|</th> <th>[0.025</th> <th>0.975]</th>\n",
       "</tr>\n",
       "<tr>\n",
       "  <th>HSSEX</th> <td>-0.3678</td>  <td>0.1282</td>   <td>0.6923</td> <td>-2.8693</td> <td>0.0041</td> <td>0.5385</td> <td>0.8900</td>\n",
       "</tr>\n",
       "</table>"
      ],
      "text/plain": [
       "<class 'statsmodels.iolib.summary2.Summary'>\n",
       "\"\"\"\n",
       "                      Results: PHReg\n",
       "===========================================================\n",
       "Model:                   PH Reg        Sample size:    1046\n",
       "Dependent variable:      PERMTH_INT    Num. events:    246 \n",
       "Ties:                    Breslow                           \n",
       "-----------------------------------------------------------\n",
       "       log HR log HR SE   HR      t    P>|t|  [0.025 0.975]\n",
       "-----------------------------------------------------------\n",
       "HSSEX -0.3678    0.1282 0.6923 -2.8693 0.0041 0.5385 0.8900\n",
       "===========================================================\n",
       "Confidence intervals are for the hazard ratios\n",
       "\"\"\""
      ]
     },
     "execution_count": 19,
     "metadata": {},
     "output_type": "execute_result"
    }
   ],
=======
   "execution_count": 0,
   "metadata": {
    "application/vnd.databricks.v1+cell": {
     "cellMetadata": {},
     "inputWidgets": {},
     "nuid": "27aee6a1-c997-441b-8e1e-39625483b47f",
     "showTitle": false,
     "title": ""
    },
    "collapsed": false
   },
   "outputs": [],
>>>>>>> Stashed changes
   "source": [
    "model1 = sm.PHReg(df.PERMTH_INT, df.HSSEX, status=df.MORTSTAT)\n",
    "result1 = model1.fit()\n",
    "result1.summary()"
   ]
  },
  {
   "cell_type": "markdown",
<<<<<<< Updated upstream
   "metadata": {},
=======
   "metadata": {
    "application/vnd.databricks.v1+cell": {
     "cellMetadata": {},
     "inputWidgets": {},
     "nuid": "a6ef03e1-d98a-40d7-bdcc-6824039dfb0a",
     "showTitle": false,
     "title": ""
    }
   },
>>>>>>> Stashed changes
   "source": [
    "Next we will fit some models including blood pressure as a predictor of mortality.  The blood pressure variable has a special code 888 indicating missing values.  Below we remove all records with these values from the data set, and check the distribution of the remaining values."
   ]
  },
  {
   "cell_type": "code",
<<<<<<< Updated upstream
   "execution_count": 20,
   "metadata": {
    "collapsed": false
   },
   "outputs": [
    {
     "data": {
      "text/plain": [
       "<matplotlib.text.Text at 0x7f1b09376278>"
      ]
     },
     "execution_count": 20,
     "metadata": {},
     "output_type": "execute_result"
    },
    {
     "data": {
      "image/png": "iVBORw0KGgoAAAANSUhEUgAAAY8AAAEUCAYAAADTO7pnAAAABHNCSVQICAgIfAhkiAAAAAlwSFlz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\nrkJggg==\n",
      "text/plain": [
       "<matplotlib.figure.Figure at 0x7f1b093a9550>"
      ]
     },
     "metadata": {},
     "output_type": "display_data"
    }
   ],
=======
   "execution_count": 0,
   "metadata": {
    "application/vnd.databricks.v1+cell": {
     "cellMetadata": {},
     "inputWidgets": {},
     "nuid": "dc0baf45-47c9-43a2-a2d5-7421521abf97",
     "showTitle": false,
     "title": ""
    },
    "collapsed": false
   },
   "outputs": [],
>>>>>>> Stashed changes
   "source": [
    "ii = (df.HAZA8AK1 != 888)\n",
    "df = df.loc[ii]\n",
    "plt.hist(df.HAZA8AK1.values)\n",
    "plt.xlabel(\"SBP\", size=16)\n",
    "plt.ylabel(\"Frequency\", size=16)"
   ]
  },
  {
   "cell_type": "markdown",
<<<<<<< Updated upstream
   "metadata": {},
=======
   "metadata": {
    "application/vnd.databricks.v1+cell": {
     "cellMetadata": {},
     "inputWidgets": {},
     "nuid": "293f94bf-33f4-4dc3-b618-b62234c20dd9",
     "showTitle": false,
     "title": ""
    }
   },
>>>>>>> Stashed changes
   "source": [
    "Next we use a formula to fit a regression model including main effects and interactions for blood pressure and sex.  Note that the proportional hazards regression models must not have an intercept, so we add \"0 +\" to the formula."
   ]
  },
  {
   "cell_type": "code",
<<<<<<< Updated upstream
   "execution_count": 21,
   "metadata": {
    "collapsed": false
   },
   "outputs": [
    {
     "data": {
      "text/html": [
       "<table class=\"simpletable\">\n",
       "<tr>\n",
       "        <td>Model:</td>          <td>PH Reg</td>   <td>Sample size:</td> <td>995</td>\n",
       "</tr>\n",
       "<tr>\n",
       "  <td>Dependent variable:</td> <td>PERMTH_INT</td> <td>Num. events:</td> <td>231</td>\n",
       "</tr>\n",
       "<tr>\n",
       "         <td>Ties:</td>          <td>Breslow</td>        <td></td>        <td></td>  \n",
       "</tr>\n",
       "</table>\n",
       "<table class=\"simpletable\">\n",
       "<tr>\n",
       "         <td></td>        <th>log HR</th>  <th>log HR SE</th>   <th>HR</th>      <th>t</th>     <th>P>|t|</th> <th>[0.025</th> <th>0.975]</th>\n",
       "</tr>\n",
       "<tr>\n",
       "  <th>HAZA8AK1</th>       <td>0.0216</td>   <td>0.0100</td>   <td>1.0218</td> <td>2.1604</td>  <td>0.0307</td> <td>1.0020</td> <td>1.0421</td>\n",
       "</tr>\n",
       "<tr>\n",
       "  <th>HSSEX</th>          <td>-0.2086</td>  <td>0.8994</td>   <td>0.8117</td> <td>-0.2319</td> <td>0.8166</td> <td>0.1393</td> <td>4.7309</td>\n",
       "</tr>\n",
       "<tr>\n",
       "  <th>HAZA8AK1:HSSEX</th> <td>-0.0009</td>  <td>0.0064</td>   <td>0.9991</td> <td>-0.1344</td> <td>0.8931</td> <td>0.9866</td> <td>1.0118</td>\n",
       "</tr>\n",
       "</table>"
      ],
      "text/plain": [
       "<class 'statsmodels.iolib.summary2.Summary'>\n",
       "\"\"\"\n",
       "                           Results: PHReg\n",
       "====================================================================\n",
       "Model:                     PH Reg            Sample size:        995\n",
       "Dependent variable:        PERMTH_INT        Num. events:        231\n",
       "Ties:                      Breslow                                  \n",
       "--------------------------------------------------------------------\n",
       "                log HR log HR SE   HR      t    P>|t|  [0.025 0.975]\n",
       "--------------------------------------------------------------------\n",
       "HAZA8AK1        0.0216    0.0100 1.0218  2.1604 0.0307 1.0020 1.0421\n",
       "HSSEX          -0.2086    0.8994 0.8117 -0.2319 0.8166 0.1393 4.7309\n",
       "HAZA8AK1:HSSEX -0.0009    0.0064 0.9991 -0.1344 0.8931 0.9866 1.0118\n",
       "====================================================================\n",
       "Confidence intervals are for the hazard ratios\n",
       "\"\"\""
      ]
     },
     "execution_count": 21,
     "metadata": {},
     "output_type": "execute_result"
    }
   ],
=======
   "execution_count": 0,
   "metadata": {
    "application/vnd.databricks.v1+cell": {
     "cellMetadata": {},
     "inputWidgets": {},
     "nuid": "2e7fa542-284b-41ff-ae01-dec3a22a1526",
     "showTitle": false,
     "title": ""
    },
    "collapsed": false
   },
   "outputs": [],
>>>>>>> Stashed changes
   "source": [
    "model2 = sm.PHReg.from_formula(\"PERMTH_INT ~ 0 + HAZA8AK1*HSSEX\", status=\"MORTSTAT\", data=df)\n",
    "result2 = model2.fit()\n",
    "result2.summary()"
   ]
  },
  {
   "cell_type": "markdown",
<<<<<<< Updated upstream
   "metadata": {},
=======
   "metadata": {
    "application/vnd.databricks.v1+cell": {
     "cellMetadata": {},
     "inputWidgets": {},
     "nuid": "e0ee91c3-dab8-45e3-a7e1-d14659cd829f",
     "showTitle": false,
     "title": ""
    }
   },
>>>>>>> Stashed changes
   "source": [
    "Since the blood pressure effect may not be linear, we can try modeling it using splines."
   ]
  },
  {
   "cell_type": "code",
<<<<<<< Updated upstream
   "execution_count": 22,
   "metadata": {
    "collapsed": false
   },
   "outputs": [
    {
     "data": {
      "text/html": [
       "<table class=\"simpletable\">\n",
       "<tr>\n",
       "        <td>Model:</td>          <td>PH Reg</td>   <td>Sample size:</td> <td>995</td>\n",
       "</tr>\n",
       "<tr>\n",
       "  <td>Dependent variable:</td> <td>PERMTH_INT</td> <td>Num. events:</td> <td>231</td>\n",
       "</tr>\n",
       "<tr>\n",
       "         <td>Ties:</td>          <td>Breslow</td>        <td></td>        <td></td>  \n",
       "</tr>\n",
       "</table>\n",
       "<table class=\"simpletable\">\n",
       "<tr>\n",
       "           <td></td>          <th>log HR</th>  <th>log HR SE</th>   <th>HR</th>      <th>t</th>     <th>P>|t|</th> <th>[0.025</th>  <th>0.975]</th> \n",
       "</tr>\n",
       "<tr>\n",
       "  <th>bs(HAZA8AK1, 4)[0]</th> <td>-1.6206</td>  <td>1.2091</td>   <td>0.1978</td> <td>-1.3403</td> <td>0.1801</td> <td>0.0185</td>  <td>2.1153</td> \n",
       "</tr>\n",
       "<tr>\n",
       "  <th>bs(HAZA8AK1, 4)[1]</th> <td>-0.9778</td>  <td>1.0216</td>   <td>0.3761</td> <td>-0.9571</td> <td>0.3385</td> <td>0.0508</td>  <td>2.7859</td> \n",
       "</tr>\n",
       "<tr>\n",
       "  <th>bs(HAZA8AK1, 4)[2]</th> <td>0.5770</td>   <td>1.3702</td>   <td>1.7807</td> <td>0.4211</td>  <td>0.6737</td> <td>0.1214</td>  <td>26.1183</td>\n",
       "</tr>\n",
       "<tr>\n",
       "  <th>bs(HAZA8AK1, 4)[3]</th> <td>1.4392</td>   <td>1.6687</td>   <td>4.2175</td> <td>0.8625</td>  <td>0.3884</td> <td>0.1602</td> <td>111.0392</td>\n",
       "</tr>\n",
       "<tr>\n",
       "  <th>HSSEX</th>              <td>-0.3530</td>  <td>0.1335</td>   <td>0.7026</td> <td>-2.6437</td> <td>0.0082</td> <td>0.5408</td>  <td>0.9127</td> \n",
       "</tr>\n",
       "</table>"
      ],
      "text/plain": [
       "<class 'statsmodels.iolib.summary2.Summary'>\n",
       "\"\"\"\n",
       "                              Results: PHReg\n",
       "==========================================================================\n",
       "Model:                       PH Reg              Sample size:          995\n",
       "Dependent variable:          PERMTH_INT          Num. events:          231\n",
       "Ties:                        Breslow                                      \n",
       "--------------------------------------------------------------------------\n",
       "                    log HR log HR SE   HR      t    P>|t|  [0.025  0.975] \n",
       "--------------------------------------------------------------------------\n",
       "bs(HAZA8AK1, 4)[0] -1.6206    1.2091 0.1978 -1.3403 0.1801 0.0185   2.1153\n",
       "bs(HAZA8AK1, 4)[1] -0.9778    1.0216 0.3761 -0.9571 0.3385 0.0508   2.7859\n",
       "bs(HAZA8AK1, 4)[2]  0.5770    1.3702 1.7807  0.4211 0.6737 0.1214  26.1183\n",
       "bs(HAZA8AK1, 4)[3]  1.4392    1.6687 4.2175  0.8625 0.3884 0.1602 111.0392\n",
       "HSSEX              -0.3530    0.1335 0.7026 -2.6437 0.0082 0.5408   0.9127\n",
       "==========================================================================\n",
       "Confidence intervals are for the hazard ratios\n",
       "\"\"\""
      ]
     },
     "execution_count": 22,
     "metadata": {},
     "output_type": "execute_result"
    }
   ],
=======
   "execution_count": 0,
   "metadata": {
    "application/vnd.databricks.v1+cell": {
     "cellMetadata": {},
     "inputWidgets": {},
     "nuid": "e9f24d41-e0fc-4daa-b085-54521a370df8",
     "showTitle": false,
     "title": ""
    },
    "collapsed": false
   },
   "outputs": [],
>>>>>>> Stashed changes
   "source": [
    "model3 = sm.PHReg.from_formula(\"PERMTH_INT ~ 0 + bs(HAZA8AK1, 4) + HSSEX\", status=\"MORTSTAT\", data=df)\n",
    "result3 = model3.fit()\n",
    "result3.summary()"
   ]
  },
  {
   "cell_type": "markdown",
<<<<<<< Updated upstream
   "metadata": {},
=======
   "metadata": {
    "application/vnd.databricks.v1+cell": {
     "cellMetadata": {},
     "inputWidgets": {},
     "nuid": "8f1b3dd2-3d78-45ac-a2c4-7407316c08d5",
     "showTitle": false,
     "title": ""
    }
   },
>>>>>>> Stashed changes
   "source": [
    "We can use the `predict_functional` function to graph the relationship between blood pressure and the mortality hazard.  The association is U-shaped -- people with very low or very high blood pressure are both at higher risk of death.  The risk of death for people with low blood pressure could be due to confounding with other factors that induce both low blood pressure and death."
   ]
  },
  {
   "cell_type": "code",
<<<<<<< Updated upstream
   "execution_count": 23,
   "metadata": {
    "collapsed": false
   },
   "outputs": [
    {
     "name": "stderr",
     "output_type": "stream",
     "text": [
      "/projects/3a549bb7-8b7c-41a0-83e7-b37fd3da53a0/statsmodels-master/statsmodels/sandbox/predict_functional.py:169: UserWarning: 'MORTSTAT', 'SEQN', 'HSAGEIR' in data frame but not in summaries or values.\n",
      "  % \", \".join([\"'%s'\" % x for x in unmatched]))\n"
     ]
    },
    {
     "data": {
      "text/plain": [
       "<matplotlib.text.Text at 0x7f1b0b6ca6d8>"
      ]
     },
     "execution_count": 23,
     "metadata": {},
     "output_type": "execute_result"
    },
    {
     "data": {
      "image/png": "iVBORw0KGgoAAAANSUhEUgAAAZQAAAEUCAYAAAAMdcB4AAAABHNCSVQICAgIfAhkiAAAAAlwSFlz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\njCusoBhjjHGFFZT/3ygYBaNgFIwCqgAA8aWIO63PgVQAAAAASUVORK5CYII=\n",
      "text/plain": [
       "<matplotlib.figure.Figure at 0x7f1b085d8208>"
      ]
     },
     "metadata": {},
     "output_type": "display_data"
    }
   ],
=======
   "execution_count": 0,
   "metadata": {
    "application/vnd.databricks.v1+cell": {
     "cellMetadata": {},
     "inputWidgets": {},
     "nuid": "1b198e35-5bfd-43a8-b3cf-9c921016a7ab",
     "showTitle": false,
     "title": ""
    },
    "collapsed": false
   },
   "outputs": [],
>>>>>>> Stashed changes
   "source": [
    "from statsmodels.sandbox.predict_functional import predict_functional\n",
    "\n",
    "plt.clf()\n",
    "plt.grid(True)\n",
    "\n",
    "sexl = {1: \"Male\", 2: \"Female\"}\n",
    "\n",
    "for sex in 1,2:\n",
    "    pr, cb, fv = predict_functional(result3, \"HAZA8AK1\", values={\"HSSEX\": sex})\n",
    "    plt.plot(fv, pr.predicted_values, label=sexl[sex])\n",
    "\n",
    "ha, lb = plt.gca().get_legend_handles_labels()\n",
    "plt.legend(ha, lb, loc=\"upper left\")\n",
    "    \n",
    "plt.xlabel(\"SBP\", size=16)\n",
    "plt.ylabel(\"Log hazard ratio\", size=16)"
   ]
  }
 ],
 "metadata": {
<<<<<<< Updated upstream
=======
  "application/vnd.databricks.v1+notebook": {
   "dashboards": [],
   "language": "python",
   "notebookMetadata": {},
   "notebookName": "NHANES_survival",
   "widgets": {}
  },
>>>>>>> Stashed changes
  "kernelspec": {
   "display_name": "Python 3",
   "language": "python",
   "name": "python3"
  },
  "language_info": {
   "codemirror_mode": {
    "name": "ipython",
    "version": 3
   },
   "file_extension": ".py",
   "mimetype": "text/x-python",
   "name": "python",
   "nbconvert_exporter": "python",
   "pygments_lexer": "ipython3",
   "version": "3.4.3+"
  }
 },
 "nbformat": 4,
 "nbformat_minor": 0
}
