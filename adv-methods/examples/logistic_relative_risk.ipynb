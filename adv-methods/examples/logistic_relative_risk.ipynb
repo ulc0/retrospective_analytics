{
 "cells": [
  {
   "cell_type": "markdown",
   "metadata": {
    "application/vnd.databricks.v1+cell": {
     "cellMetadata": {
      "byteLimit": 2048000,
      "rowLimit": 10000
     },
     "inputWidgets": {},
     "nuid": "fd610cdf-e28e-478a-9e09-b75027f1d6e0",
     "showTitle": false,
     "tableResultSettingsMap": {},
     "title": ""
    }
   },
   "source": [
    "Relative risk regression\n",
    "========================\n",
    "\n",
    "This notebook shows how the log function can be used as the link in a binomial GLM (logistic regression) so that the fitted coefficients can be interpreted in terms of relative risks rather than in terms of odds ratios.  This type of GLM is usually called a \"log binomial model\", or sometimes \"relative risk regression\".\n",
    "\n",
    "*Keywords:* GLM, log binomial model, relative risk, odds ratio, link function"
   ]
  },
  {
   "cell_type": "markdown",
   "metadata": {
    "application/vnd.databricks.v1+cell": {
     "cellMetadata": {
      "byteLimit": 2048000,
      "rowLimit": 10000
     },
     "inputWidgets": {},
     "nuid": "284abbf2-89ea-4e1f-a339-722afdbd6d38",
     "showTitle": false,
     "tableResultSettingsMap": {},
     "title": ""
    }
   },
   "source": [
    "Here are the import statements:"
   ]
  },
  {
   "cell_type": "code",
   "execution_count": 0,
   "metadata": {
    "application/vnd.databricks.v1+cell": {
     "cellMetadata": {
      "byteLimit": 2048000,
      "rowLimit": 10000
     },
     "inputWidgets": {},
     "nuid": "c8211887-f6b2-4e71-a99c-d88abe72d174",
     "showTitle": false,
     "tableResultSettingsMap": {},
     "title": ""
    }
   },
   "outputs": [],
   "source": [
    "import pandas as pd\n",
    "import numpy as np\n",
    "from statsmodels.genmod.generalized_linear_model import GLM\n",
    "from statsmodels.genmod.families import family\n",
    "from statsmodels.genmod.families import links"
   ]
  },
  {
   "cell_type": "markdown",
   "metadata": {
    "application/vnd.databricks.v1+cell": {
     "cellMetadata": {
      "byteLimit": 2048000,
      "rowLimit": 10000
     },
     "inputWidgets": {},
     "nuid": "d8fd56c6-93e6-4eb1-9f9e-fbc9cac4a340",
     "showTitle": false,
     "tableResultSettingsMap": {},
     "title": ""
    }
   },
   "source": [
    "We demonstrate relative risk regression using data from a study of women who gave birth to low birthweight babies.  The low birthweight status is coded as a binary value (birthweight less than 2.5 kg), so we will use logistic regression to relate the birthweight status to risk factors.\n",
    "\n",
    "More information about the dataset can be found at the following link:\n",
    "\n",
    "http://vincentarelbundock.github.io/Rdatasets/doc/MASS/birthwt.html\n",
    "\n",
    "After reading the data set, we recode the race categories from integers to short string labels."
   ]
  },
  {
   "cell_type": "code",
   "execution_count": 0,
   "metadata": {
    "application/vnd.databricks.v1+cell": {
     "cellMetadata": {
      "byteLimit": 2048000,
      "rowLimit": 10000
     },
     "inputWidgets": {},
     "nuid": "9afce00f-d4cc-4bcc-ab45-cd954f677bd6",
     "showTitle": false,
     "tableResultSettingsMap": {},
     "title": ""
    }
   },
   "outputs": [],
   "source": [
    "data = pd.read_csv(\"http://vincentarelbundock.github.io/Rdatasets/csv/MASS/birthwt.csv\")\n",
    "data[\"race_str\"] = data[\"race\"].astype(str)\n",
    "data[\"race_str\"].replace(\"1\", \"white\", inplace=True)\n",
    "data[\"race_str\"].replace(\"2\", \"black\", inplace=True)\n",
    "data[\"race_str\"].replace(\"3\", \"other\", inplace=True)"
   ]
  },
  {
   "cell_type": "markdown",
   "metadata": {
    "application/vnd.databricks.v1+cell": {
     "cellMetadata": {
      "byteLimit": 2048000,
      "rowLimit": 10000
     },
     "inputWidgets": {},
     "nuid": "703aa1ee-b727-4b5e-bc9b-c57f99e5dd00",
     "showTitle": false,
     "tableResultSettingsMap": {},
     "title": ""
    }
   },
   "source": [
    "We start with a standard logistic regression using the default logit link.  We include main effects of all the risk factors as covariates."
   ]
  },
  {
   "cell_type": "code",
   "execution_count": 0,
   "metadata": {
    "application/vnd.databricks.v1+cell": {
     "cellMetadata": {
      "byteLimit": 2048000,
      "rowLimit": 10000
     },
     "inputWidgets": {},
     "nuid": "9a9803b3-7afd-469c-9e4e-82c90fb5275a",
     "showTitle": false,
     "tableResultSettingsMap": {},
     "title": ""
    }
   },
   "outputs": [],
   "source": [
    "mod = GLM.from_formula(\"low ~ age + lwt + race_str + smoke + ht + ui + ftv\", data, family=family.Binomial())\n",
    "rslt = mod.fit()\n",
    "print rslt.summary()"
   ]
  },
  {
   "cell_type": "markdown",
   "metadata": {
    "application/vnd.databricks.v1+cell": {
     "cellMetadata": {
      "byteLimit": 2048000,
      "rowLimit": 10000
     },
     "inputWidgets": {},
     "nuid": "346d05c8-f5f8-442f-ac61-f211602a290d",
     "showTitle": false,
     "tableResultSettingsMap": {},
     "title": ""
    }
   },
   "source": [
    "Here we have fit a regression model using logistic regression with the logit link function.  The coefficient for a given covariate can be interpreted as the log odds ratio corresponding to a one unit change in the covariate, while holding all the other covariates fixed.  \n",
    "\n",
    "For example, suppose that p is the probability that a smoking mother gives birth to a low birthweight baby (for fixed values of the other variables, race, age, etc.).  The odds for this event is p/(1-p).  \n",
    "\n",
    "Now suppose that q is the probability that a non-smoking mother gives birth to a low birthweight baby.  The probability for this event is q, and the odds is 1/(1-q).\n",
    "\n",
    "The odds ratio is the ratio of these two odds values: (p/(1-p)) / (q/(1-q)) = p(1-q) / (q(1-p)).\n",
    "\n",
    "In the fitted model above, the log odds ratio for smoking is 1.0416, so the odds ratio is np.exp(1.0416) which is roughly 2.8.  Thus a woman who smokes has 2.8 times greater odds for giving birth to a low birthweight baby compared to a woman who does not smoke.  Note that smoking is a binary variable, coded as 0/1, so a one unit chance in this variable contrasts a non-smoker to a smoker."
   ]
  },
  {
   "cell_type": "markdown",
   "metadata": {
    "application/vnd.databricks.v1+cell": {
     "cellMetadata": {
      "byteLimit": 2048000,
      "rowLimit": 10000
     },
     "inputWidgets": {},
     "nuid": "402b225b-c8d6-4025-8f13-84dcc837f855",
     "showTitle": false,
     "tableResultSettingsMap": {},
     "title": ""
    }
   },
   "source": [
    "Next we fit the logistic regression model again, using the log link function instead of the default logit link function."
   ]
  },
  {
   "cell_type": "code",
   "execution_count": 0,
   "metadata": {
    "application/vnd.databricks.v1+cell": {
     "cellMetadata": {
      "byteLimit": 2048000,
      "rowLimit": 10000
     },
     "inputWidgets": {},
     "nuid": "74df613a-c61b-4f41-943f-e78f3661d373",
     "showTitle": false,
     "tableResultSettingsMap": {},
     "title": ""
    }
   },
   "outputs": [],
   "source": [
    "mod = GLM.from_formula(\"low ~ age + lwt + race_str + smoke + ht + ui + ftv\", data, family=family.Binomial(links.log))\n",
    "rslt = mod.fit()\n",
    "print rslt.summary()"
   ]
  },
  {
   "cell_type": "markdown",
   "metadata": {
    "application/vnd.databricks.v1+cell": {
     "cellMetadata": {
      "byteLimit": 2048000,
      "rowLimit": 10000
     },
     "inputWidgets": {},
     "nuid": "e666f24b-fe3b-4aa4-baca-53ad5296f242",
     "showTitle": false,
     "tableResultSettingsMap": {},
     "title": ""
    }
   },
   "source": [
    "The coefficient of smoking is now 0.7109.  If we exponentiate this, we get roughly 2.  This is the estimated \"relative risk\", or \"risk ratio\" comparing a woman who smokes to one who does not (holding the effects of all other variables fixed).  The relative risk is the ratio of the probability of a smoking woman having a low-birthweight baby to the probabiity of a non-smoking woman having a low-birthweight baby, which is p/q in the notation used above. \n",
    "\n",
    "So a smoking woman is roughly 2 times more likely to have a low-birthweight baby compared to a non-smoking woman.  But her odds of having a low-birthweight baby differ by a factor of 2.8.\n",
    "\n",
    "This is the usual situation -- changes in the odds are greater than changes in the relative risk.  This doesn't mean that one of these approaches is a better way to capture the relationship between a risk factor and an outcome.  It just reflects the fact that they are different measures."
   ]
  },
  {
   "cell_type": "markdown",
   "metadata": {
    "application/vnd.databricks.v1+cell": {
     "cellMetadata": {
      "byteLimit": 2048000,
      "rowLimit": 10000
     },
     "inputWidgets": {},
     "nuid": "3e28ccc8-7908-4701-867d-63b9065b7f2e",
     "showTitle": false,
     "tableResultSettingsMap": {},
     "title": ""
    }
   },
   "source": [
    "One issue with the log binomial model is that if the linear predictor is positive, the fitted probability will be greater than 1.  This is because the fitted probability is the exponentiated value of the linear predictor (the exponential function being the inverse of the log link function).  If only a small fraction of the fitted probabilites exceed 1, this is not a big problem.  In this data set, around 5% of the fitted probabilities exceed 1."
   ]
  },
  {
   "cell_type": "code",
   "execution_count": 0,
   "metadata": {
    "application/vnd.databricks.v1+cell": {
     "cellMetadata": {
      "byteLimit": 2048000,
      "rowLimit": 10000
     },
     "inputWidgets": {},
     "nuid": "423ae246-d93d-4947-982f-7522a0704613",
     "showTitle": false,
     "tableResultSettingsMap": {},
     "title": ""
    }
   },
   "outputs": [],
   "source": [
    "lin_pred = rslt.predict(linear=True)\n",
    "plt.hist(lin_pred)\n",
    "plt.xlabel(\"Linear predictor\")\n",
    "print np.mean(lin_pred > 0)"
   ]
  }
 ],
 "metadata": {
  "application/vnd.databricks.v1+notebook": {
   "computePreferences": null,
   "dashboards": [],
   "environmentMetadata": null,
   "language": "python",
   "notebookMetadata": {
    "pythonIndentUnit": 4
   },
   "notebookName": "logistic_relative_risk",
   "widgets": {}
  },
  "language_info": {
   "name": "python"
  },
  "name": "",
  "signature": "sha256:88827b4a27318fde40b35a4c9cc4583fea1afb5ef9c5480b1be9160a4c398fd7"
 },
 "nbformat": 4,
 "nbformat_minor": 0
}
