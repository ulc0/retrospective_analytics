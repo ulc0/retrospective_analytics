{
 "cells": [
  {
   "cell_type": "markdown",
   "metadata": {
    "application/vnd.databricks.v1+cell": {
     "cellMetadata": {},
     "inputWidgets": {},
     "nuid": "92660079-cfbb-4050-9f6d-59dd99c3b4eb",
     "showTitle": false,
     "title": ""
    }
   },
   "source": [
    "Regression analysis of the US housing price index\n",
    "=================================================\n",
    "\n",
    "This notebook demonstrates how linear regression can be used to understand how the US housing price index (a measure of sales prices of homes in the United States) is related to several factors that may be associated with it.  These factors are: the per-capita disposable income (total income minus taxes), the population growth rate, and the real cost of borrowing.\n",
    "\n",
    "The units of analysis are \"metropolitan statistical areas\" (MSAs), see [here](http://en.wikipedia.org/wiki/Metropolitan_statistical_area) for more information.  Each MSA has data for each year from 1976 to 2011.\n",
    "\n",
    "This is a longitudinal (panel) data set, since the data consist of repeated measures over time on the units of analysis (MSAs).  Since our goal here is to demonstrate basic regression techniques, we will fit models to data from a single year, so that we do not need to use more complex regression methods for repeated measures data.\n",
    "\n",
    "The data are available for download [here](http://qed.econ.queensu.ca/jae/datasets/baltagi005).  We will use the file \"msa_4v.txt\" in this analysis.  See the README file [here](http://qed.econ.queensu.ca/jae/datasets/baltagi005/readme.bl.txt) for a description of the data.\n",
    "\n",
    "__Note:__ there is a problem with the data file that must be fixed manually before running the code below.  The first line (header line) of the file contains an extra tab between \"pgr\" and \"rcb\".  Remove one tab before proceeding."
   ]
  },
  {
   "cell_type": "markdown",
   "metadata": {
    "application/vnd.databricks.v1+cell": {
     "cellMetadata": {},
     "inputWidgets": {},
     "nuid": "4bd87208-4feb-4ae8-89be-8c337a447e89",
     "showTitle": false,
     "title": ""
    }
   },
   "source": [
    "We always begin by importing the libraries that we will use in the analysis."
   ]
  },
  {
   "cell_type": "code",
   "execution_count": 0,
   "metadata": {
    "application/vnd.databricks.v1+cell": {
     "cellMetadata": {},
     "inputWidgets": {},
     "nuid": "ad29b04b-223f-47b1-ba5f-45a25989de83",
     "showTitle": false,
     "title": ""
    },
    "collapsed": false
   },
   "outputs": [],
   "source": [
    "%matplotlib inline\n",
    "\n",
    "import pandas as pd\n",
    "import numpy as np\n",
    "import statsmodels.api as sm\n",
    "import matplotlib.pyplot as plt\n",
    "from statsmodels.sandbox.predict_functional import predict_functional"
   ]
  },
  {
   "cell_type": "markdown",
   "metadata": {
    "application/vnd.databricks.v1+cell": {
     "cellMetadata": {},
     "inputWidgets": {},
     "nuid": "3bf52687-6878-4b09-ab1f-f9ac02286e21",
     "showTitle": false,
     "title": ""
    }
   },
   "source": [
    "__Setting up the data__\n",
    "\n",
    "Next we read in the data file.  The fields in the file are delimited by tabs, but the default delimiter for `read_csv` is a comma, so we specify the delimiter explicitly using a keyword argument."
   ]
  },
  {
   "cell_type": "code",
   "execution_count": 0,
   "metadata": {
    "application/vnd.databricks.v1+cell": {
     "cellMetadata": {},
     "inputWidgets": {},
     "nuid": "4c38b9cb-ed8d-49e4-8fc9-a75c48274de7",
     "showTitle": false,
     "title": ""
    },
    "collapsed": false
   },
   "outputs": [],
   "source": [
    "data = pd.read_csv(\"msa_4v.txt\", delimiter=\"\\t\")"
   ]
  },
  {
   "cell_type": "markdown",
   "metadata": {
    "application/vnd.databricks.v1+cell": {
     "cellMetadata": {},
     "inputWidgets": {},
     "nuid": "36923928-1224-4762-a736-0bb8a57004ef",
     "showTitle": false,
     "title": ""
    }
   },
   "source": [
    "We can take a peek at the top few lines of the data set to make sure we know what we are getting:"
   ]
  },
  {
   "cell_type": "code",
   "execution_count": 0,
   "metadata": {
    "application/vnd.databricks.v1+cell": {
     "cellMetadata": {},
     "inputWidgets": {},
     "nuid": "25984388-1c8f-4842-8ec7-00d7387d34e3",
     "showTitle": false,
     "title": ""
    },
    "collapsed": false
   },
   "outputs": [],
   "source": [
    "print(data.head())"
   ]
  },
  {
   "cell_type": "markdown",
   "metadata": {
    "application/vnd.databricks.v1+cell": {
     "cellMetadata": {},
     "inputWidgets": {},
     "nuid": "b481738d-6d71-4e1d-8e27-b5323b406c83",
     "showTitle": false,
     "title": ""
    }
   },
   "source": [
    "Next we check the data types.  If something that is supposed to be numeric shows up with an `Object` data type, we would need to convert it explicitly using `convert_objects`.  Fortunately, all the variables were automatically converted to numeric types, so manual conversion is not necessary here."
   ]
  },
  {
   "cell_type": "code",
   "execution_count": 0,
   "metadata": {
    "application/vnd.databricks.v1+cell": {
     "cellMetadata": {},
     "inputWidgets": {},
     "nuid": "8f83f331-6e24-402a-b530-f40d4a1c0863",
     "showTitle": false,
     "title": ""
    },
    "collapsed": false
   },
   "outputs": [],
   "source": [
    "print(data.dtypes)"
   ]
  },
  {
   "cell_type": "markdown",
   "metadata": {
    "application/vnd.databricks.v1+cell": {
     "cellMetadata": {},
     "inputWidgets": {},
     "nuid": "89fc236f-d346-4974-a1d0-0103398f7ede",
     "showTitle": false,
     "title": ""
    }
   },
   "source": [
    "Next we check to see whether there are any missing values (there aren't any):"
   ]
  },
  {
   "cell_type": "code",
   "execution_count": 0,
   "metadata": {
    "application/vnd.databricks.v1+cell": {
     "cellMetadata": {},
     "inputWidgets": {},
     "nuid": "947b2891-dadd-46c8-808d-5d817c5ed913",
     "showTitle": false,
     "title": ""
    },
    "collapsed": false
   },
   "outputs": [],
   "source": [
    "print(pd.isnull(data).sum())"
   ]
  },
  {
   "cell_type": "markdown",
   "metadata": {
    "application/vnd.databricks.v1+cell": {
     "cellMetadata": {},
     "inputWidgets": {},
     "nuid": "6045ee65-2066-4297-9ebc-55663267bd21",
     "showTitle": false,
     "title": ""
    }
   },
   "source": [
    "__Some simple non-regression analyses__\n",
    "\n",
    "Although we will only be looking at data from a single year, it is useful to see how the data look as a time series.  Next we plot the mean housing price index and the mean disposable income level as a function of time."
   ]
  },
  {
   "cell_type": "code",
   "execution_count": 0,
   "metadata": {
    "application/vnd.databricks.v1+cell": {
     "cellMetadata": {},
     "inputWidgets": {},
     "nuid": "d1a3196c-54fc-4084-bef1-091b8ae7b237",
     "showTitle": false,
     "title": ""
    },
    "collapsed": false
   },
   "outputs": [],
   "source": [
    "lhpi_mean = data.groupby(\"year\").agg(np.mean)\n",
    "plt.plot(lhpi_mean.index, lhpi_mean.lhpi_real, '-')\n",
    "plt.grid(True)\n",
    "plt.xlabel(\"Year\", size=15)\n",
    "plt.ylabel(\"Mean log HPI\", size=15)"
   ]
  },
  {
   "cell_type": "code",
   "execution_count": 0,
   "metadata": {
    "application/vnd.databricks.v1+cell": {
     "cellMetadata": {},
     "inputWidgets": {},
     "nuid": "eaebf76b-c2f1-4dc0-989a-f7204c5c5f1a",
     "showTitle": false,
     "title": ""
    },
    "collapsed": false
   },
   "outputs": [],
   "source": [
    "lpci_mean = data.groupby(\"year\").agg(np.mean)\n",
    "plt.plot(lpci_mean.index, lpci_mean.lpci_real, '-')\n",
    "plt.grid(True)\n",
    "plt.xlabel(\"Year\", size=15)\n",
    "plt.ylabel(\"Mean log PCI\", size=15)"
   ]
  },
  {
   "cell_type": "markdown",
   "metadata": {
    "application/vnd.databricks.v1+cell": {
     "cellMetadata": {},
     "inputWidgets": {},
     "nuid": "5c52d4d8-70d3-4dbe-bffb-45ba97c4cb80",
     "showTitle": false,
     "title": ""
    }
   },
   "source": [
    "Now we create a subset containing only the data from 1990:"
   ]
  },
  {
   "cell_type": "code",
   "execution_count": 0,
   "metadata": {
    "application/vnd.databricks.v1+cell": {
     "cellMetadata": {},
     "inputWidgets": {},
     "nuid": "f67ebe7b-d62b-4163-a7d2-ce09e9f281d1",
     "showTitle": false,
     "title": ""
    },
    "collapsed": false
   },
   "outputs": [],
   "source": [
    "ii = (data.year == 1990)\n",
    "data_1990 = data.loc[ii, :]\n",
    "print(data_1990.shape)"
   ]
  },
  {
   "cell_type": "markdown",
   "metadata": {
    "application/vnd.databricks.v1+cell": {
     "cellMetadata": {},
     "inputWidgets": {},
     "nuid": "76512d77-c07e-408b-90d7-9dda5fc4fbc9",
     "showTitle": false,
     "title": ""
    }
   },
   "source": [
    "It's useful to have some simple summary statistics of the variables in the data set:"
   ]
  },
  {
   "cell_type": "code",
   "execution_count": 0,
   "metadata": {
    "application/vnd.databricks.v1+cell": {
     "cellMetadata": {},
     "inputWidgets": {},
     "nuid": "021e983c-b040-43c1-ab08-afefe6b5e19b",
     "showTitle": false,
     "title": ""
    },
    "collapsed": false
   },
   "outputs": [],
   "source": [
    "print(data_1990.describe().T)"
   ]
  },
  {
   "cell_type": "code",
   "execution_count": 0,
   "metadata": {
    "application/vnd.databricks.v1+cell": {
     "cellMetadata": {},
     "inputWidgets": {},
     "nuid": "ba9668da-9815-4bbc-ade3-83277d2d82c6",
     "showTitle": false,
     "title": ""
    },
    "collapsed": false
   },
   "outputs": [],
   "source": [
    "_ = plt.hist(data_1990.lhpi_real.values, color='lightblue', bins=20)\n",
    "plt.xlabel('log HPI', size=15)\n",
    "plt.ylabel('Frequency', size=15)"
   ]
  },
  {
   "cell_type": "code",
   "execution_count": 0,
   "metadata": {
    "application/vnd.databricks.v1+cell": {
     "cellMetadata": {},
     "inputWidgets": {},
     "nuid": "6c8ea966-8957-41f0-8d1e-8afb111b045e",
     "showTitle": false,
     "title": ""
    },
    "collapsed": false
   },
   "outputs": [],
   "source": [
    "_ = plt.hist(data_1990.lpci_real.values, color='lightblue', bins=20)\n",
    "plt.xlabel('log PCI', size=15)\n",
    "plt.ylabel('Frequency', size=15)"
   ]
  },
  {
   "cell_type": "markdown",
   "metadata": {
    "application/vnd.databricks.v1+cell": {
     "cellMetadata": {},
     "inputWidgets": {},
     "nuid": "af00b862-58dc-401d-a121-4d401b1cf03e",
     "showTitle": false,
     "title": ""
    }
   },
   "source": [
    "__Fitting a simple linear regression model__\n",
    "\n",
    "A \"simple linear regression model\" is a linear regression model with a single covariate.  We will start with a simple linear regression model in which the log housing price index is predicted by the log per-capita disposable income."
   ]
  },
  {
   "cell_type": "code",
   "execution_count": 0,
   "metadata": {
    "application/vnd.databricks.v1+cell": {
     "cellMetadata": {},
     "inputWidgets": {},
     "nuid": "d6c5e471-c024-4220-804f-7af6e83d81f5",
     "showTitle": false,
     "title": ""
    },
    "collapsed": false
   },
   "outputs": [],
   "source": [
    "model0 = sm.OLS.from_formula(\"lhpi_real ~ lpci_real\", data_1990)\n",
    "result0 = model0.fit()"
   ]
  },
  {
   "cell_type": "markdown",
   "metadata": {
    "application/vnd.databricks.v1+cell": {
     "cellMetadata": {},
     "inputWidgets": {},
     "nuid": "85e0d81f-1bc1-43fa-9c5d-9abb1589ee0f",
     "showTitle": false,
     "title": ""
    }
   },
   "source": [
    "Usually it is more convenient to fit a model using formulas, but sometimes it's easier to just pass the data as arrays, like here:"
   ]
  },
  {
   "cell_type": "code",
   "execution_count": 0,
   "metadata": {
    "application/vnd.databricks.v1+cell": {
     "cellMetadata": {},
     "inputWidgets": {},
     "nuid": "df8b178c-433b-4829-9593-7735344cbd11",
     "showTitle": false,
     "title": ""
    },
    "collapsed": false
   },
   "outputs": [],
   "source": [
    "model0_alt = sm.OLS(data.lhpi_real, data.lpci_real)\n",
    "result0_alt = model0_alt.fit()"
   ]
  },
  {
   "cell_type": "markdown",
   "metadata": {
    "application/vnd.databricks.v1+cell": {
     "cellMetadata": {},
     "inputWidgets": {},
     "nuid": "f1a5824a-1c87-402e-b266-2f03033ef302",
     "showTitle": false,
     "title": ""
    }
   },
   "source": [
    "Here is what the model tells us:"
   ]
  },
  {
   "cell_type": "code",
   "execution_count": 0,
   "metadata": {
    "application/vnd.databricks.v1+cell": {
     "cellMetadata": {},
     "inputWidgets": {},
     "nuid": "f8ec5341-540b-4225-b4c5-8bc7412603a9",
     "showTitle": false,
     "title": ""
    },
    "collapsed": false
   },
   "outputs": [],
   "source": [
    "print(result0.summary())"
   ]
  },
  {
   "cell_type": "markdown",
   "metadata": {
    "application/vnd.databricks.v1+cell": {
     "cellMetadata": {},
     "inputWidgets": {},
     "nuid": "a54ca7c8-79e3-42d1-85f3-d1cfd8013bff",
     "showTitle": false,
     "title": ""
    }
   },
   "source": [
    "A simple linear regression model describes the relationship between two variables.  Since the variables are quantitative, we can easily visualize the regression relationship as a scatterplot."
   ]
  },
  {
   "cell_type": "code",
   "execution_count": 0,
   "metadata": {
    "application/vnd.databricks.v1+cell": {
     "cellMetadata": {},
     "inputWidgets": {},
     "nuid": "22780601-c6eb-4284-b4df-1677c80e61b1",
     "showTitle": false,
     "title": ""
    },
    "collapsed": false
   },
   "outputs": [],
   "source": [
    "plt.plot(data_1990.lpci_real, data_1990.lhpi_real, 'o', color='orange', alpha=0.5)\n",
    "plt.grid(True)\n",
    "plt.xlabel(\"Log PCI (real)\", size=15)\n",
    "plt.ylabel(\"Log HPI (real)\", size=15)"
   ]
  },
  {
   "cell_type": "markdown",
   "metadata": {
    "application/vnd.databricks.v1+cell": {
     "cellMetadata": {},
     "inputWidgets": {},
     "nuid": "5016555c-afd0-4197-94ab-cd2df21d02fc",
     "showTitle": false,
     "title": ""
    }
   },
   "source": [
    "The strength of the linear relationship is given by the R^2 (see table above).  In the case of simple linear regression, the R^2 is identical to the square of the Pearson correlation coefficient between the independent and dependent variables in the regression."
   ]
  },
  {
   "cell_type": "code",
   "execution_count": 0,
   "metadata": {
    "application/vnd.databricks.v1+cell": {
     "cellMetadata": {},
     "inputWidgets": {},
     "nuid": "e2244c2b-b192-4e57-8743-b12015a03142",
     "showTitle": false,
     "title": ""
    },
    "collapsed": false
   },
   "outputs": [],
   "source": [
    "cmat = np.corrcoef(data_1990.lpci_real, data_1990.lhpi_real)\n",
    "print(cmat)\n",
    "print(cmat[0,1]**2)"
   ]
  },
  {
   "cell_type": "markdown",
   "metadata": {
    "application/vnd.databricks.v1+cell": {
     "cellMetadata": {},
     "inputWidgets": {},
     "nuid": "9a789760-c538-4383-ab9d-52a0d88fc35d",
     "showTitle": false,
     "title": ""
    }
   },
   "source": [
    "Since both the housing price index and the disposable income are log transformed, the relationship between them is interpreted in \"log/log\" form.  This means that for a fixed percentage change in disposable income, there is a fixed percentage change in the housing price index."
   ]
  },
  {
   "cell_type": "markdown",
   "metadata": {
    "application/vnd.databricks.v1+cell": {
     "cellMetadata": {},
     "inputWidgets": {},
     "nuid": "dadcc36b-ea3f-4407-801c-14c005484e62",
     "showTitle": false,
     "title": ""
    }
   },
   "source": [
    "__Scatterplot smoothing__\n",
    "\n",
    "Smoothing is a form of regression analysis (conditional mean estimation) that can be useful when there are only a few (or only one) predictor variables.  Next we use the `lowess` smoothing function to relate the housing price index and disposable income data."
   ]
  },
  {
   "cell_type": "code",
   "execution_count": 0,
   "metadata": {
    "application/vnd.databricks.v1+cell": {
     "cellMetadata": {},
     "inputWidgets": {},
     "nuid": "d3ac5ee7-08f8-4cad-9faf-f9b2d6a47992",
     "showTitle": false,
     "title": ""
    },
    "collapsed": false
   },
   "outputs": [],
   "source": [
    "smooth = sm.nonparametric.lowess(data_1990.lhpi_real, data_1990.lpci_real)\n",
    "plt.plot(smooth[:,0], smooth[:,1])\n",
    "plt.grid(True)\n",
    "plt.xlabel(\"Log disposable income\", size=15)\n",
    "plt.ylabel(\"Log house price index\", size=15)"
   ]
  },
  {
   "cell_type": "markdown",
   "metadata": {
    "application/vnd.databricks.v1+cell": {
     "cellMetadata": {},
     "inputWidgets": {},
     "nuid": "7d15fb76-3a50-4016-ac2d-64a28d8e082f",
     "showTitle": false,
     "title": ""
    }
   },
   "source": [
    "The plot above indicates that for MSAs with log disposable income from around 1.8 to around 2.4, the log housing price index is roughly constant at around 4.5.  When the log disposable income is higher then 2.4, there is a strong positive association between disposable income and housing prices."
   ]
  },
  {
   "cell_type": "markdown",
   "metadata": {
    "application/vnd.databricks.v1+cell": {
     "cellMetadata": {},
     "inputWidgets": {},
     "nuid": "d2edf833-bf6b-4e67-bb67-b8eb025c5744",
     "showTitle": false,
     "title": ""
    }
   },
   "source": [
    "__Getting help__\n",
    "\n",
    "If you want to access the documentation for any function within the IPython notebook, use `?`, for example: `?sm.nonparametric.lowess`. It is helpful in this case because it is hard to remember that the statistical models take `y` (`endog`) as the first argument and `x` (`exog`) as the second argument, but the plotting functions take the variable to be plotted on the horizontal axis (`x`) as the first argument and the variable to be plotted on the vertical axis (`y`) as the second argument.  Since the output of `lowess` is usually plotted, the return value of `lowess` follows the plotting convention (`x` in the first column, `y` in the second column).\n",
    "\n",
    "If you are confused about what type of value a variable holds, you can use the `type` function to get its type, and the `dir` function to get all its attributes.  Attributes beginning and ending with `__` are private and are not intended to be used outside the library itself"
   ]
  },
  {
   "cell_type": "code",
   "execution_count": 0,
   "metadata": {
    "application/vnd.databricks.v1+cell": {
     "cellMetadata": {},
     "inputWidgets": {},
     "nuid": "f48ebd6c-57ba-4b9c-a04c-65ec7c840955",
     "showTitle": false,
     "title": ""
    },
    "collapsed": false
   },
   "outputs": [],
   "source": [
    "print(type(smooth))\n",
    "print(dir(smooth))"
   ]
  },
  {
   "cell_type": "markdown",
   "metadata": {
    "application/vnd.databricks.v1+cell": {
     "cellMetadata": {},
     "inputWidgets": {},
     "nuid": "35b8c2a2-660b-472d-a98b-e0b85e868849",
     "showTitle": false,
     "title": ""
    }
   },
   "source": [
    "__Fitting a basic multiple regression model__\n",
    "\n",
    "Next we fit a multiple linear regression model relating the housing price index to disposable income, population growth rate, and cost of borrowing.  A multiple linear regression model is a linear regression model in which several predictors (independent variables) predict a single outcome variable.  The formula specifies an additive mean structure with no interactions or transformations (we'll look at other types of mean structure below)."
   ]
  },
  {
   "cell_type": "code",
   "execution_count": 0,
   "metadata": {
    "application/vnd.databricks.v1+cell": {
     "cellMetadata": {},
     "inputWidgets": {},
     "nuid": "8509e3bf-657f-4869-9efe-0002ce119eee",
     "showTitle": false,
     "title": ""
    },
    "collapsed": false
   },
   "outputs": [],
   "source": [
    "model1 = sm.OLS.from_formula(\"lhpi_real ~ lpci_real + pgr + rcb\", data_1990)\n",
    "result1 = model1.fit()"
   ]
  },
  {
   "cell_type": "markdown",
   "metadata": {
    "application/vnd.databricks.v1+cell": {
     "cellMetadata": {},
     "inputWidgets": {},
     "nuid": "fcc63a8d-e592-4e40-8e82-ae926b320a67",
     "showTitle": false,
     "title": ""
    }
   },
   "source": [
    "Here is what the model tells us:"
   ]
  },
  {
   "cell_type": "code",
   "execution_count": 0,
   "metadata": {
    "application/vnd.databricks.v1+cell": {
     "cellMetadata": {},
     "inputWidgets": {},
     "nuid": "23131662-f8e8-495d-94ea-764c1ef7e124",
     "showTitle": false,
     "title": ""
    },
    "collapsed": false
   },
   "outputs": [],
   "source": [
    "print(result1.summary())"
   ]
  },
  {
   "cell_type": "markdown",
   "metadata": {
    "application/vnd.databricks.v1+cell": {
     "cellMetadata": {},
     "inputWidgets": {},
     "nuid": "c4307e32-fb9c-4da2-99c4-40211b2959c1",
     "showTitle": false,
     "title": ""
    }
   },
   "source": [
    "__Interpretation of the basic multiple regression model__\n",
    "\n",
    "The simplistic interpretation of this fit is that in MSAs where people have higher disposable incomes, and/or where the population is increasing, housing prices are higher (compared to MSAs where the disposable income and/or population are flat or declining).  There is no obvious association between the housing price index and the cost of borrowing (`rcb`).\n",
    "\n",
    "* As in all multiple regression models, the interpretation of each regression coefficient is the average difference in the dependent variable (`lhi_real` in this model) when comparing two observations whose values for the independent variable (`lpci_real`) differ by one unit, while holding the values of the other covariates fixed.\n",
    "\n",
    "* Since this is an observational data set, the covariate effects reflect associations that should be presumed to be non-causal."
   ]
  },
  {
   "cell_type": "markdown",
   "metadata": {
    "application/vnd.databricks.v1+cell": {
     "cellMetadata": {},
     "inputWidgets": {},
     "nuid": "b72535fd-2033-4ef3-9249-a7329c1b0caf",
     "showTitle": false,
     "title": ""
    }
   },
   "source": [
    "We might wonder if there is much variation in the cost of borrowing (`rcb`) within one year.  If this variable is nearly constant, then it would be surprising to see an association between the dependent variable and `rcb`. but it seems that there is almost as much variation in the `rcb` within years as between years."
   ]
  },
  {
   "cell_type": "code",
   "execution_count": 0,
   "metadata": {
    "application/vnd.databricks.v1+cell": {
     "cellMetadata": {},
     "inputWidgets": {},
     "nuid": "2edc59eb-27da-4f01-bea4-a75366426fa5",
     "showTitle": false,
     "title": ""
    },
    "collapsed": false
   },
   "outputs": [],
   "source": [
    "print(data.rcb.std())\n",
    "print(data_1990.rcb.std())"
   ]
  },
  {
   "cell_type": "markdown",
   "metadata": {
    "application/vnd.databricks.v1+cell": {
     "cellMetadata": {},
     "inputWidgets": {},
     "nuid": "2d50be49-9375-4b99-bebf-57a5c1a54935",
     "showTitle": false,
     "title": ""
    }
   },
   "source": [
    "The regression coefficient for `lpci_real` is almost identical in the simple and multiple regression models.  This will always be the case when `lpci_real` is uncorrelated with the other variables in the model.  We can check the relationship between `lpci_real` and `pgr` with a scatterplot."
   ]
  },
  {
   "cell_type": "code",
   "execution_count": 0,
   "metadata": {
    "application/vnd.databricks.v1+cell": {
     "cellMetadata": {},
     "inputWidgets": {},
     "nuid": "ab646a65-d800-46c1-b9a7-c6379d622905",
     "showTitle": false,
     "title": ""
    },
    "collapsed": false
   },
   "outputs": [],
   "source": [
    "plt.plot(data_1990.lpci_real, data_1990.pgr, 'o', alpha=0.5)\n",
    "plt.grid(True)\n",
    "plt.xlabel(\"Log disposable income\", size=15)\n",
    "plt.ylabel(\"Population growth rate\", size=15)"
   ]
  },
  {
   "cell_type": "markdown",
   "metadata": {
    "application/vnd.databricks.v1+cell": {
     "cellMetadata": {},
     "inputWidgets": {},
     "nuid": "fb7923c0-9075-4364-abec-019cfd3304aa",
     "showTitle": false,
     "title": ""
    }
   },
   "source": [
    "__Residuals on fitted values plot__\n",
    "\n",
    "A plot of residuals against fitted values is one of the most useful regression diagnostics.  Its main purpose is to identify heteroscedastiity that takes the form of a mean/variance relationship.  It can also sometimes reveal nonlinearities in the regression relationship, or extreme outliers.  Based on the residuals on fitted values plot, there is some evidence of a positive mean/variance relationship here, but no apparent outliers.  The heteroscadisticity suggested here may be a consequence of not fully capturing the mean structure, so we should check this again after defining a more flexible mean structure model."
   ]
  },
  {
   "cell_type": "code",
   "execution_count": 0,
   "metadata": {
    "application/vnd.databricks.v1+cell": {
     "cellMetadata": {},
     "inputWidgets": {},
     "nuid": "71bee730-a919-47c6-b5b3-100e34c0fd00",
     "showTitle": false,
     "title": ""
    },
    "collapsed": false
   },
   "outputs": [],
   "source": [
    "plt.grid(True)\n",
    "plt.plot(result1.fittedvalues, result1.resid, 'o', alpha=0.5)\n",
    "plt.xlabel(\"Fitted values\", size=15)\n",
    "plt.ylabel(\"Residuals\", size=15)"
   ]
  },
  {
   "cell_type": "markdown",
   "metadata": {
    "application/vnd.databricks.v1+cell": {
     "cellMetadata": {},
     "inputWidgets": {},
     "nuid": "a6a9662d-bf0e-40d3-ad09-819dc074a1df",
     "showTitle": false,
     "title": ""
    }
   },
   "source": [
    "__Plots of the fitted conditional mean function__"
   ]
  },
  {
   "cell_type": "markdown",
   "metadata": {
    "application/vnd.databricks.v1+cell": {
     "cellMetadata": {},
     "inputWidgets": {},
     "nuid": "6844d559-f5d8-4c03-ac9a-9db8f39a5d31",
     "showTitle": false,
     "title": ""
    }
   },
   "source": [
    "It's often useful to plot the fitted relationship between variables in a regression model.  To do this in a multiple regression, we usually hold all but one of the covariates (independent variables) fixed at a particular value, often at the mean value.  Here is how to make such a plot with the multiple regression model fit above.  We hold the population growth rate and real cost of borrowing fixed at their mean values and display the fitted log housing price index in terms of log household income."
   ]
  },
  {
   "cell_type": "code",
   "execution_count": 0,
   "metadata": {
    "application/vnd.databricks.v1+cell": {
     "cellMetadata": {},
     "inputWidgets": {},
     "nuid": "97c2e590-f88c-4805-b271-8fd97e3ea5d6",
     "showTitle": false,
     "title": ""
    },
    "collapsed": false
   },
   "outputs": [],
   "source": [
    "pr, cb, xv = predict_functional(result1, 'lpci_real', summaries={'pgr' : np.mean, 'rcb' : np.mean})\n",
    "\n",
    "plt.clf()\n",
    "plt.grid(True)\n",
    "plt.plot(xv, pr, '-', color='orange', lw=4)\n",
    "plt.fill_between(xv, cb[:, 0], cb[:, 1], color='grey')\n",
    "plt.xlabel(\"Log disposable income\", size=15)\n",
    "plt.ylabel(\"Log house price index\", size=15)"
   ]
  },
  {
   "cell_type": "markdown",
   "metadata": {
    "application/vnd.databricks.v1+cell": {
     "cellMetadata": {},
     "inputWidgets": {},
     "nuid": "1cd39812-a5e6-49f9-80c3-f6a9e01c7fa5",
     "showTitle": false,
     "title": ""
    }
   },
   "source": [
    "To see how two predictors work together in the regression model, we can plot one of them along the horizontal axis, and plot different lines for different fixed values of the other covariate.  We do this below with the population growth rate and disposable income variables."
   ]
  },
  {
   "cell_type": "code",
   "execution_count": 0,
   "metadata": {
    "application/vnd.databricks.v1+cell": {
     "cellMetadata": {},
     "inputWidgets": {},
     "nuid": "dd2e7ff8-51f3-4084-9e5c-9a4049f1b3b5",
     "showTitle": false,
     "title": ""
    },
    "collapsed": false
   },
   "outputs": [],
   "source": [
    "yp = []\n",
    "for k in range(3):\n",
    "    values = {}\n",
    "    values[\"pgr\"] = data_1990.pgr.mean() + (k-1) * data_1990.pgr.std()\n",
    "    values[\"rcb\"] = data_1990.rcb.mean()\n",
    "    tup = predict_functional(result1, 'lpci_real', values=values)\n",
    "    yp.append(tup)\n",
    "    \n",
    "plt.figure(figsize=(9, 6))\n",
    "plt.clf()\n",
    "ax = plt.axes([0.1, 0.1, 0.7, 0.8])\n",
    "plt.grid(True)\n",
    "for k in range(3):\n",
    "    label = [\"PGR -1SD\", \"Mean PGR\", \"PGR +1SD\"][k]\n",
    "    plt.plot(yp[k][2], yp[k][0], '-', lw=5, alpha=0.5, label=label)\n",
    "ha, lb = plt.gca().get_legend_handles_labels()\n",
    "leg = plt.figlegend(ha, lb, \"center right\")\n",
    "leg.draw_frame(False)\n",
    "plt.xlabel(\"Log disposable income\", size=17)\n",
    "plt.ylabel(\"Log house price index\", size=17)"
   ]
  },
  {
   "cell_type": "markdown",
   "metadata": {
    "application/vnd.databricks.v1+cell": {
     "cellMetadata": {},
     "inputWidgets": {},
     "nuid": "02e9a1ca-c575-40ae-aec7-34debf6d5fd4",
     "showTitle": false,
     "title": ""
    }
   },
   "source": [
    "__Models with interactions__"
   ]
  },
  {
   "cell_type": "markdown",
   "metadata": {
    "application/vnd.databricks.v1+cell": {
     "cellMetadata": {},
     "inputWidgets": {},
     "nuid": "9db8cbe4-de6b-47a6-ab4f-b47ae7dd2585",
     "showTitle": false,
     "title": ""
    }
   },
   "source": [
    "The graph above forces the relationship between the house price index and disposable income to have the same slope for each fixed level of the population growth rate.  However this may not be the case in reality.  We can specify a more flexible model by introducing an interaction between these covariates.  In most cases, it is a good idea to center variables before using them in an interaction.  This is easily accomplished using the `center` function in the regression formula."
   ]
  },
  {
   "cell_type": "code",
   "execution_count": 0,
   "metadata": {
    "application/vnd.databricks.v1+cell": {
     "cellMetadata": {},
     "inputWidgets": {},
     "nuid": "a810c397-f6fb-4b33-b138-b2446c66418a",
     "showTitle": false,
     "title": ""
    },
    "collapsed": false
   },
   "outputs": [],
   "source": [
    "model2 = sm.OLS.from_formula(\"lhpi_real ~ lpci_real + pgr + rcb + center(lpci_real):center(pgr)\", data_1990)\n",
    "result2 = model2.fit()\n",
    "print(result2.summary())"
   ]
  },
  {
   "cell_type": "markdown",
   "metadata": {
    "application/vnd.databricks.v1+cell": {
     "cellMetadata": {},
     "inputWidgets": {},
     "nuid": "d5cd005a-a6a5-46a2-a2cf-6fe8638d3bde",
     "showTitle": false,
     "title": ""
    }
   },
   "source": [
    "Since the interaction term is much bigger than its standard error, there does appear to be an interaction here.  We can get a better sense of what is going on by plotting, using similar code as we developed above."
   ]
  },
  {
   "cell_type": "code",
   "execution_count": 0,
   "metadata": {
    "application/vnd.databricks.v1+cell": {
     "cellMetadata": {},
     "inputWidgets": {},
     "nuid": "dbe7a1a8-a392-4738-8c8d-9a05d423e995",
     "showTitle": false,
     "title": ""
    },
    "collapsed": false
   },
   "outputs": [],
   "source": [
    "yp = []\n",
    "for k in range(3):\n",
    "    values = {}\n",
    "    values[\"pgr\"] = data_1990.pgr.mean() + (k-1) * data_1990.pgr.std()\n",
    "    values[\"rcb\"] = data_1990.rcb.mean()\n",
    "    tup = predict_functional(result2, 'lpci_real', values=values)\n",
    "    yp.append(tup)\n",
    "    \n",
    "plt.figure(figsize=(9, 6))\n",
    "plt.clf()\n",
    "ax = plt.axes([0.1, 0.1, 0.7, 0.8])\n",
    "plt.grid(True)\n",
    "for k in range(3):\n",
    "    label = [\"PGR -1SD\", \"Mean PGR\", \"PGR +1SD\"][k]\n",
    "    plt.plot(yp[k][2], yp[k][0], '-', lw=5, alpha=0.5, label=label)\n",
    "ha, lb = plt.gca().get_legend_handles_labels()\n",
    "leg = plt.figlegend(ha, lb, \"center right\")\n",
    "leg.draw_frame(False)\n",
    "plt.xlabel(\"Log disposable income\", size=17)\n",
    "plt.ylabel(\"Log house price index\", size=17)"
   ]
  },
  {
   "cell_type": "markdown",
   "metadata": {
    "application/vnd.databricks.v1+cell": {
     "cellMetadata": {},
     "inputWidgets": {},
     "nuid": "7c9fec70-43be-4177-b2a5-1929e01ef501",
     "showTitle": false,
     "title": ""
    }
   },
   "source": [
    "The plot indicates that for poorer MSAs, there is a strong association between population growth rate and house prices.  This relationship dissappears for more affluent MSAs."
   ]
  },
  {
   "cell_type": "markdown",
   "metadata": {
    "application/vnd.databricks.v1+cell": {
     "cellMetadata": {},
     "inputWidgets": {},
     "nuid": "3cb651fa-836a-4c09-9df3-a4168513dfa8",
     "showTitle": false,
     "title": ""
    }
   },
   "source": [
    "__Spline regression__\n",
    "\n",
    "We saw above that the conditional mean relationship between log disposable income and log house prices appears not to be linear.  One way to address this in a multiple regression analysis is to use basis splines."
   ]
  },
  {
   "cell_type": "code",
   "execution_count": 0,
   "metadata": {
    "application/vnd.databricks.v1+cell": {
     "cellMetadata": {},
     "inputWidgets": {},
     "nuid": "73462442-42cd-44f1-b76c-db5733479ff3",
     "showTitle": false,
     "title": ""
    },
    "collapsed": false
   },
   "outputs": [],
   "source": [
    "model3 = sm.OLS.from_formula(\"lhpi_real ~ bs(lpci_real, df=4) + bs(pgr, df=4) + rcb\", data_1990)\n",
    "result3 = model3.fit()\n",
    "print(result3.summary())"
   ]
  },
  {
   "cell_type": "markdown",
   "metadata": {
    "application/vnd.databricks.v1+cell": {
     "cellMetadata": {},
     "inputWidgets": {},
     "nuid": "e2411f17-83b0-4e59-aafb-b3cf834c8259",
     "showTitle": false,
     "title": ""
    }
   },
   "source": [
    "Now that we have fit a more flexible mean structure model, we can look again at the fitted values on residuals plot.  There is no longer much evidence of heteroscedasticity."
   ]
  },
  {
   "cell_type": "code",
   "execution_count": 0,
   "metadata": {
    "application/vnd.databricks.v1+cell": {
     "cellMetadata": {},
     "inputWidgets": {},
     "nuid": "0f58584d-d4c9-40ba-8877-bafa6e01820a",
     "showTitle": false,
     "title": ""
    },
    "collapsed": false
   },
   "outputs": [],
   "source": [
    "plt.grid(True)\n",
    "plt.plot(result3.fittedvalues, result1.resid, 'o', alpha=0.5)\n",
    "plt.xlabel(\"Fitted values\", size=15)\n",
    "plt.ylabel(\"Residuals\", size=15)"
   ]
  },
  {
   "cell_type": "markdown",
   "metadata": {
    "application/vnd.databricks.v1+cell": {
     "cellMetadata": {},
     "inputWidgets": {},
     "nuid": "5914a953-c3ea-475a-9776-2892a8b0fff0",
     "showTitle": false,
     "title": ""
    }
   },
   "source": [
    "The following plot shows the fitted relationship between log disposable income and the log housing price index, while controlling for population growth rate (at its mean value) and the real cost of borrowing."
   ]
  },
  {
   "cell_type": "code",
   "execution_count": 0,
   "metadata": {
    "application/vnd.databricks.v1+cell": {
     "cellMetadata": {},
     "inputWidgets": {},
     "nuid": "e4bdbd31-1bcc-439e-8dc4-128f114bdb00",
     "showTitle": false,
     "title": ""
    },
    "collapsed": false
   },
   "outputs": [],
   "source": [
    "pr, cb, xv = predict_functional(result3, 'lpci_real', summaries={'pgr' : np.mean, 'rcb' : np.mean})\n",
    "\n",
    "plt.clf()\n",
    "plt.grid(True)\n",
    "plt.plot(xv, pr, '-')\n",
    "plt.xlabel(\"Log disposable income\")\n",
    "plt.ylabel(\"Log house price index\")"
   ]
  },
  {
   "cell_type": "markdown",
   "metadata": {
    "application/vnd.databricks.v1+cell": {
     "cellMetadata": {},
     "inputWidgets": {},
     "nuid": "dcb67a76-2d53-4666-be6f-c388c5a26327",
     "showTitle": false,
     "title": ""
    }
   },
   "source": [
    "Here is the same plot, but showing the association between population growth rate and housing prices, while controlling for disposable income (held fixed at its mean value)."
   ]
  },
  {
   "cell_type": "code",
   "execution_count": 0,
   "metadata": {
    "application/vnd.databricks.v1+cell": {
     "cellMetadata": {},
     "inputWidgets": {},
     "nuid": "6730ea7a-a1f7-4d97-9699-3298752e09b7",
     "showTitle": false,
     "title": ""
    },
    "collapsed": false
   },
   "outputs": [],
   "source": [
    "pr, cb, xv = predict_functional(result3, 'pgr', summaries={'lpci_real' : np.mean, 'rcb' : np.mean})\n",
    "\n",
    "plt.clf()\n",
    "plt.grid(True)\n",
    "plt.plot(xv, pr, '-')\n",
    "plt.xlabel(\"Population growth rate\", size=15)\n",
    "plt.ylabel(\"Log house price index\", size=15)"
   ]
  },
  {
   "cell_type": "markdown",
   "metadata": {
    "application/vnd.databricks.v1+cell": {
     "cellMetadata": {},
     "inputWidgets": {},
     "nuid": "b48d908b-c905-47e3-9a92-038f6a126abd",
     "showTitle": false,
     "title": ""
    }
   },
   "source": [
    "To aid in interpreting this plot, we can also look at the distribution of the population growth rate values over the MSAs."
   ]
  },
  {
   "cell_type": "code",
   "execution_count": 0,
   "metadata": {
    "application/vnd.databricks.v1+cell": {
     "cellMetadata": {},
     "inputWidgets": {},
     "nuid": "755131e1-efd8-478f-a239-d897053ec5fe",
     "showTitle": false,
     "title": ""
    },
    "collapsed": false
   },
   "outputs": [],
   "source": [
    "plt.hist(data_1990.pgr.values, color='lightblue')\n",
    "plt.grid(True)\n",
    "plt.xlabel(\"Population growth rate\", size=15)\n",
    "plt.ylabel(\"Frequency\", size=15)"
   ]
  },
  {
   "cell_type": "markdown",
   "metadata": {
    "application/vnd.databricks.v1+cell": {
     "cellMetadata": {},
     "inputWidgets": {},
     "nuid": "15d3fc29-8974-4d75-940b-028f9fd727a5",
     "showTitle": false,
     "title": ""
    }
   },
   "source": [
    "According to this analysis, faster population growth is associated with higher housing prices, but this trend is accelerated when the population growth rate is negative."
   ]
  },
  {
   "cell_type": "markdown",
   "metadata": {
    "application/vnd.databricks.v1+cell": {
     "cellMetadata": {},
     "inputWidgets": {},
     "nuid": "c3f71006-3ae2-40cf-a8f7-2ed1c29409a6",
     "showTitle": false,
     "title": ""
    }
   },
   "source": [
    "Spline regression woks by creating basis functions that are piecewise polynomials.  It's not important to understand the details of how this works.  The basic idea is that each basis spline will consist of a \"bump\", with peak value located somewhere in the domain of the original covariate.  To better understand this, we can plot the spline basis functions used above for the `pgr` variable."
   ]
  },
  {
   "cell_type": "code",
   "execution_count": 0,
   "metadata": {
    "application/vnd.databricks.v1+cell": {
     "cellMetadata": {},
     "inputWidgets": {},
     "nuid": "d1dd4029-c739-4fdd-b74d-35cf8988f063",
     "showTitle": false,
     "title": ""
    },
    "collapsed": false
   },
   "outputs": [],
   "source": [
    "import patsy\n",
    "\n",
    "dmat = patsy.dmatrix(\"bs(pgr, df=4)\", data_1990, return_type='dataframe')\n",
    "dmat = np.asarray(dmat)\n",
    "\n",
    "ii = np.argsort(data_1990.pgr)\n",
    "x = data_1990.loc[:, \"pgr\"].iloc[ii]\n",
    "\n",
    "plt.clf()\n",
    "for k in range(dmat.shape[1]):\n",
    "    plt.plot(x, dmat[ii, k])\n",
    "plt.xlabel(\"Population growth rate\", size=15)"
   ]
  },
  {
   "cell_type": "markdown",
   "metadata": {
    "application/vnd.databricks.v1+cell": {
     "cellMetadata": {},
     "inputWidgets": {},
     "nuid": "fe1a98bf-47d1-417e-9bea-1ef98858d527",
     "showTitle": false,
     "title": ""
    }
   },
   "source": [
    "The `df` keyword argument controls the number of basis splines that are created.  The more basis splines that are used, the more flexible the overall fit.  You can rerun the above code after changing df to 8 to see how this works."
   ]
  },
  {
   "cell_type": "markdown",
   "metadata": {
    "application/vnd.databricks.v1+cell": {
     "cellMetadata": {},
     "inputWidgets": {},
     "nuid": "7fb94c72-c8d0-477c-a51d-30a69f4f683a",
     "showTitle": false,
     "title": ""
    }
   },
   "source": [
    "A remaining issue is how to select the `df` parameter for a \"final\" model.  One way to do this is using the AIC.  Lower AIC values indicate a better fit.  The cubic spline basis required `df` to be at least 3.  To create even simpler models for comparison, we use the original \"main effects only\" model as the `df=1` model, and the quadratic polynomial regression model as the `df=2` model.  According to the AIC, the best fit is with the quadratic polynomial regression model, but the `df=3` spline model is close."
   ]
  },
  {
   "cell_type": "code",
   "execution_count": 0,
   "metadata": {
    "application/vnd.databricks.v1+cell": {
     "cellMetadata": {},
     "inputWidgets": {},
     "nuid": "12584277-7270-41ce-b857-1807ee10b761",
     "showTitle": false,
     "title": ""
    },
    "collapsed": false
   },
   "outputs": [],
   "source": [
    "aic = []\n",
    "\n",
    "model4 = sm.OLS.from_formula(\"lhpi_real ~ lpci_real + pgr + rcb\", data_1990)\n",
    "result4 = model4.fit()\n",
    "aic.append([1, result4.aic])\n",
    "\n",
    "model5 = sm.OLS.from_formula(\"lhpi_real ~ lpci_real + I(lpci_real**2) + pgr + rcb\", data_1990)\n",
    "result5 = model5.fit()\n",
    "aic.append([2, result5.aic])\n",
    "\n",
    "for df in range(3, 7):\n",
    "    model = sm.OLS.from_formula(\"lhpi_real ~ bs(lpci_real, df=%s) + pgr + rcb\" % df, data_1990)\n",
    "    result = model.fit()\n",
    "    aic.append([df, result.aic])\n",
    "    \n",
    "aic = np.asarray(aic)\n",
    "plt.plot(aic[:, 0], aic[:, 1], '-o')\n",
    "plt.grid(True)\n",
    "plt.xlabel(\"df\", size=15)\n",
    "plt.ylabel(\"AIC\", size=15)"
   ]
  },
  {
   "cell_type": "markdown",
   "metadata": {
    "application/vnd.databricks.v1+cell": {
     "cellMetadata": {},
     "inputWidgets": {},
     "nuid": "49227fca-0dd6-474f-add7-069cfe9d80af",
     "showTitle": false,
     "title": ""
    }
   },
   "source": [
    "__Spline model with interactions__\n",
    "\n",
    "Above we fit a spline model, and a model with interactions between main effects.  We can combine these two ideas by fitting a spline model with interactions.  We use `df=3` here because that is the value of `df` preferred by the AIC for `lpci_real`.  A more thorough analysis would consider AIC values for different `df` settings for `pgr`."
   ]
  },
  {
   "cell_type": "code",
   "execution_count": 0,
   "metadata": {
    "application/vnd.databricks.v1+cell": {
     "cellMetadata": {},
     "inputWidgets": {},
     "nuid": "1434cfac-a615-4f01-83be-4c94e550f51a",
     "showTitle": false,
     "title": ""
    },
    "collapsed": false
   },
   "outputs": [],
   "source": [
    "model6 = sm.OLS.from_formula(\"lhpi_real ~ bs(lpci_real, df=3)*bs(pgr, df=3)\", data_1990)\n",
    "result6 = model6.fit()\n",
    "print(result4.summary())"
   ]
  },
  {
   "cell_type": "markdown",
   "metadata": {
    "application/vnd.databricks.v1+cell": {
     "cellMetadata": {},
     "inputWidgets": {},
     "nuid": "50dada34-33b6-4980-80bd-ebbed519419b",
     "showTitle": false,
     "title": ""
    }
   },
   "source": [
    "Note that the AIC value is similar to the best obtained above, for models without interactions.  Thus the interaction may not be real, but we can plot it to see what it looks like."
   ]
  },
  {
   "cell_type": "code",
   "execution_count": 0,
   "metadata": {
    "application/vnd.databricks.v1+cell": {
     "cellMetadata": {},
     "inputWidgets": {},
     "nuid": "04e3d54d-9560-4b61-b54c-39fe5898c93d",
     "showTitle": false,
     "title": ""
    },
    "collapsed": false
   },
   "outputs": [],
   "source": [
    "yp = []\n",
    "for k in range(3):\n",
    "    values = {}\n",
    "    values[\"pgr\"] = data_1990.pgr.mean() + (k-1) * data_1990.pgr.std()\n",
    "    values[\"rcb\"] = data_1990.rcb.mean()\n",
    "    tup = predict_functional(result6, 'lpci_real', values=values)\n",
    "    yp.append(tup)\n",
    "    \n",
    "plt.figure(figsize=(9, 6))\n",
    "plt.clf()\n",
    "ax = plt.axes([0.1, 0.1, 0.7, 0.8])\n",
    "plt.grid(True)\n",
    "for k in range(3):\n",
    "    label = [\"PGR -1SD\", \"Mean PGR\", \"PGR +1SD\"][k]\n",
    "    plt.plot(yp[k][2], yp[k][0], '-', lw=5, alpha=0.5, label=label)\n",
    "ha, lb = plt.gca().get_legend_handles_labels()\n",
    "leg = plt.figlegend(ha, lb, \"center right\")\n",
    "leg.draw_frame(False)\n",
    "plt.xlim(2, 2.8)\n",
    "plt.ylim(4.4, 5.2)\n",
    "plt.xlabel(\"Log disposable income\", size=17)\n",
    "plt.ylabel(\"Log house price index\", size=17)"
   ]
  }
 ],
 "metadata": {
  "application/vnd.databricks.v1+notebook": {
   "dashboards": [],
   "environmentMetadata": null,
   "language": "python",
   "notebookMetadata": {},
   "notebookName": "housing_price_index",
   "widgets": {}
  },
  "kernelspec": {
   "display_name": "Python 3",
   "language": "python",
   "name": "python3"
  },
  "language_info": {
   "codemirror_mode": {
    "name": "ipython",
    "version": 3
   },
   "file_extension": ".py",
   "mimetype": "text/x-python",
   "name": "python",
   "nbconvert_exporter": "python",
   "pygments_lexer": "ipython3",
   "version": "3.4.3"
  },
  "name": "housing_price_index.ipynb"
 },
 "nbformat": 4,
 "nbformat_minor": 0
}
