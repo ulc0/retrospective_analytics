{
<<<<<<< Updated upstream
 "metadata": {
  "name": "",
  "signature": "sha256:a4894626a42fad6b1bbada7530a677cb727549cc77bc794b3787c6dd4c113fd0"
 },
 "nbformat": 3,
 "nbformat_minor": 0,
 "worksheets": [
  {
   "cells": [
    {
     "cell_type": "markdown",
     "metadata": {},
     "source": [
      "Marginal models for longitudinal count data with Generalized Estimating Equations\n",
      "=================================================================================\n",
      "\n",
      "*Key ideas:* Gaussian GEE, Poisson GEE, score testing, offsets"
     ]
    },
    {
     "cell_type": "markdown",
     "metadata": {},
     "source": [
      "The CBPP (Contagious bovine pleuropneumonia) dataset (part of the R LMER library) contains data on the incidence of new cases of CBPP in 15 herds of cattle.  Each herd is assessed for CBPP during four time periods.  This is a longitudinal data set, since the same herds are observed in the four time periods.  In this notebook we use generalized estimating equations (GEE) to compare the CBP incidence rates among the time periods, while accounting for the possibility that there is dependence within herds across time."
     ]
    },
    {
     "cell_type": "code",
     "collapsed": false,
     "input": [
      "import numpy as np\n",
      "import pandas as pd\n",
      "import statsmodels.api as sm"
     ],
     "language": "python",
     "metadata": {},
     "outputs": [],
     "prompt_number": 1
    },
    {
     "cell_type": "markdown",
     "metadata": {},
     "source": [
      "We begin by constructing a variable that contains the naive estimate of the incidence rate (the number of incident cases divided by the herd size)."
     ]
    },
    {
     "cell_type": "code",
     "collapsed": false,
     "input": [
      "data = pd.read_csv(\"cbpp.csv\")\n",
      "data[\"rate\"] = data[\"incidence\"] / data[\"size\"].astype(np.float64)"
     ],
     "language": "python",
     "metadata": {},
     "outputs": [],
     "prompt_number": 2
    },
    {
     "cell_type": "markdown",
     "metadata": {},
     "source": [
      "## Gaussian approach\n",
      "\n",
      "A basic approach is to model the naive incidence rates as Gaussian, with an exchangeable within-herd dependence structure (i.e. the covariance matrix of the 4 observations for one herd has constant off-diagonal elements).  We also allow the mean to vary with `period` (the time variable). We treat `period` as a categorical variable, so each of the four time periods has its own mean value."
     ]
    },
    {
     "cell_type": "code",
     "collapsed": false,
     "input": [
      "ga = sm.families.Gaussian()\n",
      "ex = sm.cov_struct.Exchangeable()\n",
      "\n",
      "model1 = sm.GEE.from_formula(\"rate ~ 0 + C(period)\", groups=\"herd\",\n",
      "                      data=data, family=ga, cov_struct=ex)\n",
      "result1 = model1.fit()\n",
      "print result1.summary()"
     ],
     "language": "python",
     "metadata": {},
     "outputs": [
      {
       "output_type": "stream",
       "stream": "stdout",
       "text": [
        "                               GEE Regression Results                              \n",
        "===================================================================================\n",
        "Dep. Variable:                        rate   No. Observations:                   56\n",
        "Model:                                 GEE   No. clusters:                       15\n",
        "Method:                        Generalized   Min. cluster size:                   1\n",
        "                      Estimating Equations   Max. cluster size:                   4\n",
        "Family:                           Gaussian   Mean cluster size:                 3.7\n",
        "Dependence structure:         Exchangeable   Num. iterations:                     4\n",
        "Date:                     Sat, 18 Oct 2014   Scale:                           0.016\n",
        "Covariance type:                    robust   Time:                         22:29:51\n",
        "================================================================================\n",
        "                   coef    std err          z      P>|z|      [95.0% Conf. Int.]\n",
        "--------------------------------------------------------------------------------\n",
        "C(period)[1]     0.2198      0.042      5.206      0.000         0.137     0.303\n",
        "C(period)[2]     0.0741      0.020      3.714      0.000         0.035     0.113\n",
        "C(period)[3]     0.0894      0.037      2.401      0.016         0.016     0.162\n",
        "C(period)[4]     0.0413      0.019      2.133      0.033         0.003     0.079\n",
        "==============================================================================\n",
        "Skew:                          1.1918   Kurtosis:                       1.4013\n",
        "Centered skew:                 0.5332   Centered kurtosis:              0.6795\n",
        "==============================================================================\n"
       ]
      }
     ],
     "prompt_number": 3
    },
    {
     "cell_type": "markdown",
     "metadata": {},
     "source": [
      "We see that after the first period, the incidence rate drops substantially.  We don't have a lot of background information about this data set, but for the sake of discussion we can treat this as a hypothesis that can be studied as if it were pre-specified (rather than one that was discovered using the data).  If we reparameterize the model in terms of deviations from the first period, we see that there is statistical evidence that periods 2-4 have lower incidence rates than period 1 (due to the Z-scores for periods 2-4 being rather large in magnitude)."
     ]
    },
    {
     "cell_type": "code",
     "collapsed": false,
     "input": [
      "model2 = sm.GEE.from_formula(\"rate ~ C(period)\", groups=\"herd\",\n",
      "                      data=data, family=ga, cov_struct=ex)\n",
      "result2 = model2.fit()\n",
      "print result2.summary()"
     ],
     "language": "python",
     "metadata": {},
     "outputs": [
      {
       "output_type": "stream",
       "stream": "stdout",
       "text": [
        "                               GEE Regression Results                              \n",
        "===================================================================================\n",
        "Dep. Variable:                        rate   No. Observations:                   56\n",
        "Model:                                 GEE   No. clusters:                       15\n",
        "Method:                        Generalized   Min. cluster size:                   1\n",
        "                      Estimating Equations   Max. cluster size:                   4\n",
        "Family:                           Gaussian   Mean cluster size:                 3.7\n",
        "Dependence structure:         Exchangeable   Num. iterations:                     2\n",
        "Date:                     Sat, 18 Oct 2014   Scale:                           0.016\n",
        "Covariance type:                    robust   Time:                         22:29:51\n",
        "==================================================================================\n",
        "                     coef    std err          z      P>|z|      [95.0% Conf. Int.]\n",
        "----------------------------------------------------------------------------------\n",
        "Intercept          0.2198      0.042      5.206      0.000         0.137     0.303\n",
        "C(period)[T.2]    -0.1457      0.051     -2.855      0.004        -0.246    -0.046\n",
        "C(period)[T.3]    -0.1304      0.054     -2.396      0.017        -0.237    -0.024\n",
        "C(period)[T.4]    -0.1785      0.046     -3.870      0.000        -0.269    -0.088\n",
        "==============================================================================\n",
        "Skew:                          1.1918   Kurtosis:                       1.4013\n",
        "Centered skew:                 0.5332   Centered kurtosis:              0.6795\n",
        "==============================================================================\n"
       ]
      }
     ],
     "prompt_number": 4
    },
    {
     "cell_type": "markdown",
     "metadata": {},
     "source": [
      "We also see that there is very little evidence of within-herd correlation."
     ]
    },
    {
     "cell_type": "code",
     "collapsed": false,
     "input": [
      "print ex.summary()"
     ],
     "language": "python",
     "metadata": {},
     "outputs": [
      {
       "output_type": "stream",
       "stream": "stdout",
       "text": [
        "The correlation between two observations in the same cluster is 0.004\n"
       ]
      }
     ],
     "prompt_number": 5
    },
    {
     "cell_type": "markdown",
     "metadata": {},
     "source": [
      "The weak dependence is corroborated by the following dependence plot, however the sample size of this data set is too small to learn much about the covariance structure."
     ]
    },
    {
     "cell_type": "code",
     "collapsed": false,
     "input": [
      "fig = result2.plot_isotropic_dependence(min_n=1)"
     ],
     "language": "python",
     "metadata": {},
     "outputs": [
      {
       "metadata": {},
       "output_type": "display_data",
       "png": "iVBORw0KGgoAAAANSUhEUgAAAY0AAAEPCAYAAAC+35gCAAAABHNCSVQICAgIfAhkiAAAAAlwSFlz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\n",
       "text": [
        "<matplotlib.figure.Figure at 0x7f07940d36d0>"
       ]
      }
     ],
     "prompt_number": 6
    },
    {
     "cell_type": "markdown",
     "metadata": {},
     "source": [
      "### Score test comparing periods 2-4 to period 1\n",
      "\n",
      "We can test the hypothesis that time periods 2-4 have a common mean value using a score test.  This involves fitting the model under a linear constraint in which the mean parameters for periods 2-4 are held equal to each other.  Currently, this cannot be done using the GEE.from_formula method, so we specify endog, exog, and the constraints explicitly.  First we construct the data as numpy arrays."
     ]
    },
    {
     "cell_type": "code",
     "collapsed": false,
     "input": [
      "endog = data[\"rate\"]\n",
      "period = data[\"period\"]\n",
      "groups = data[\"herd\"]\n",
      "\n",
      "n = len(endog)\n",
      "exog = [np.ones(n), 1*(period == 2), 1*(period == 3), 1*(period == 4)]\n",
      "exog = np.array(exog).T"
     ],
     "language": "python",
     "metadata": {},
     "outputs": [],
     "prompt_number": 7
    },
    {
     "cell_type": "markdown",
     "metadata": {},
     "source": [
      "Next we specify the constraints that define the null hypothesis that we are testing.  We are testing params[1] = params[2] = params[3], or equivalently, params[1] - params[2] = 0 and params[2] - params[3] = 0.  This can be expressed as a matrix equation of the form L*params = R (where R = 0 in this case)."
     ]
    },
    {
     "cell_type": "code",
     "collapsed": false,
     "input": [
      "L = np.zeros((2,4))\n",
      "L[0,:] = [0, 1, -1, 0]\n",
      "L[1,:] = [0, 0, 1, -1]\n",
      "R = np.zeros(2)"
     ],
     "language": "python",
     "metadata": {},
     "outputs": [],
     "prompt_number": 8
    },
    {
     "cell_type": "markdown",
     "metadata": {},
     "source": [
      "Now we are ready to fit the model:"
     ]
    },
    {
     "cell_type": "code",
     "collapsed": false,
     "input": [
      "model3 = sm.GEE(endog, exog, groups=groups, family=ga, cov_struct=ex,\n",
      "                constraint=(L, R))\n",
      "result3 = model3.fit()\n",
      "print result3.summary()"
     ],
     "language": "python",
     "metadata": {},
     "outputs": [
      {
       "output_type": "stream",
       "stream": "stdout",
       "text": [
        "                               GEE Regression Results                              \n",
        "===================================================================================\n",
        "Dep. Variable:                        rate   No. Observations:                   56\n",
        "Model:                                 GEE   No. clusters:                       15\n",
        "Method:                        Generalized   Min. cluster size:                   1\n",
        "                      Estimating Equations   Max. cluster size:                   4\n",
        "Family:                           Gaussian   Mean cluster size:                 3.7\n",
        "Dependence structure:         Exchangeable   Num. iterations:                     4\n",
        "Date:                     Sat, 18 Oct 2014   Scale:                           0.015\n",
        "Covariance type:                    robust   Time:                         22:29:51\n",
        "==============================================================================\n",
        "                 coef    std err          z      P>|z|      [95.0% Conf. Int.]\n",
        "------------------------------------------------------------------------------\n",
        "const          0.2198      0.042      5.206      0.000         0.137     0.303\n",
        "x1            -0.1510      0.046     -3.273      0.001        -0.241    -0.061\n",
        "x2            -0.1510      0.046     -3.273      0.001        -0.241    -0.061\n",
        "x3            -0.1510      0.046     -3.273      0.001        -0.241    -0.061\n",
        "==============================================================================\n",
        "Skew:                          1.2807   Kurtosis:                       1.6141\n",
        "Centered skew:                 0.5474   Centered kurtosis:              0.7898\n",
        "==============================================================================\n"
       ]
      }
     ],
     "prompt_number": 9
    },
    {
     "cell_type": "markdown",
     "metadata": {},
     "source": [
      "The score statistic tells us how fast the likelihood increases if we did not impose the constraint that the rates at time points 2-4 are equal.  Based on the score test, there is no statistical evidence that periods 2-4 are different from each other."
     ]
    },
    {
     "cell_type": "code",
     "collapsed": false,
     "input": [
      "print model3.score_test_results"
     ],
     "language": "python",
     "metadata": {},
     "outputs": [
      {
       "output_type": "stream",
       "stream": "stdout",
       "text": [
        "{'df': 2, 'p-value': 0.57225449912148196, 'statistic': 1.1163429160392608}\n"
       ]
      }
     ],
     "prompt_number": 10
    },
    {
     "cell_type": "markdown",
     "metadata": {},
     "source": [
      "Alternatively, we can use Patsy to process the formulas and constraints for us."
     ]
    },
    {
     "cell_type": "code",
     "collapsed": false,
     "input": [
      "import patsy\n",
      "dmat = patsy.dmatrix(\"C(period)\", data=data)\n",
      "di = dmat.design_info\n",
      "lc = di.linear_constraint(\"C(period)[T.2] = C(period)[T.3] = C(period)[T.4]\")\n",
      "\n",
      "constraint = (np.asarray(lc.coefs), np.asarray(lc.constants))\n",
      "\n",
      "model4 = sm.GEE(np.asarray(data[\"rate\"]), np.asarray(dmat), groups=np.asarray(groups), family=ga, cov_struct=ex,\n",
      "         constraint=constraint)\n",
      "result4 = model4.fit()\n",
      "print result4.summary()\n",
      "print model4.score_test_results"
     ],
     "language": "python",
     "metadata": {},
     "outputs": [
      {
       "output_type": "stream",
       "stream": "stdout",
       "text": [
        "                               GEE Regression Results                              \n",
        "===================================================================================\n",
        "Dep. Variable:                           y   No. Observations:                   56\n",
        "Model:                                 GEE   No. clusters:                       15\n",
        "Method:                        Generalized   Min. cluster size:                   1\n",
        "                      Estimating Equations   Max. cluster size:                   4\n",
        "Family:                           Gaussian   Mean cluster size:                 3.7\n",
        "Dependence structure:         Exchangeable   Num. iterations:                     2\n",
        "Date:                     Sat, 18 Oct 2014   Scale:                           0.015\n",
        "Covariance type:                    robust   Time:                         22:29:51\n",
        "==============================================================================\n",
        "                 coef    std err          z      P>|z|      [95.0% Conf. Int.]\n",
        "------------------------------------------------------------------------------\n",
        "const          0.2198      0.042      5.206      0.000         0.137     0.303\n",
        "x1            -0.1510      0.046     -3.273      0.001        -0.241    -0.061\n",
        "x2            -0.1510      0.046     -3.273      0.001        -0.241    -0.061\n",
        "x3            -0.1510      0.046     -3.273      0.001        -0.241    -0.061\n",
        "==============================================================================\n",
        "Skew:                          1.2807   Kurtosis:                       1.6141\n",
        "Centered skew:                 0.5474   Centered kurtosis:              0.7898\n",
        "==============================================================================\n",
        "{'df': 2, 'p-value': 0.57225449912621951, 'statistic': 1.1163429160227036}\n"
       ]
      }
     ],
     "prompt_number": 11
    },
    {
     "cell_type": "markdown",
     "metadata": {},
     "source": [
      "## Poisson approach\n",
      "\n",
      "There isn't a lot of data for assessing the link function, but we can still check the fitted values on residuals plot, shown below.  There is some evidence for an increasing mean/variance relationship."
     ]
    },
    {
     "cell_type": "code",
     "collapsed": false,
     "input": [
      "plt.plot(result1.fittedvalues, result1.resid, 'o', alpha=0.6)\n",
      "plt.xlabel(\"Fitted values\", size=17)\n",
      "plt.ylabel(\"Residuals\", size=17)\n",
      "plt.xlim(0, 0.25)"
     ],
     "language": "python",
     "metadata": {},
     "outputs": [
      {
       "metadata": {},
       "output_type": "pyout",
       "prompt_number": 12,
       "text": [
        "(0, 0.25)"
       ]
      },
      {
       "metadata": {},
       "output_type": "display_data",
       "png": "iVBORw0KGgoAAAANSUhEUgAAAZkAAAEXCAYAAAB/HzlmAAAABHNCSVQICAgIfAhkiAAAAAlwSFlz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\nAABJRU5ErkJggg==\n",
       "text": [
        "<matplotlib.figure.Figure at 0x7f0792e6a050>"
       ]
      }
     ],
     "prompt_number": 12
    },
    {
     "cell_type": "markdown",
     "metadata": {},
     "source": [
      "To address this, we can model the number of transmission events as following a Poisson distribution.  This is based on a conceptual model in which there is a fixed transmission probability, and every transmission event is independent of the others.  We use an offset to account for differences in the herd sizes."
     ]
    },
    {
     "cell_type": "code",
     "collapsed": false,
     "input": [
      "po = sm.families.Poisson()\n",
      "ex = sm.cov_struct.Exchangeable()\n",
      "size = np.log(np.asarray(data[\"size\"]))\n",
      "\n",
      "model5 = sm.GEE.from_formula(\"incidence ~ C(period)\", groups=groups,\n",
      "                      data=data, offset=size, family=po, cov_struct=ex)\n",
      "result5 = model5.fit(cov_type='naive')\n",
      "print result5.summary()\n",
      "print ex.summary()"
     ],
     "language": "python",
     "metadata": {},
     "outputs": [
      {
       "output_type": "stream",
       "stream": "stdout",
       "text": [
        "                               GEE Regression Results                              \n",
        "===================================================================================\n",
        "Dep. Variable:                   incidence   No. Observations:                   56\n",
        "Model:                                 GEE   No. clusters:                       15\n",
        "Method:                        Generalized   Min. cluster size:                   1\n",
        "                      Estimating Equations   Max. cluster size:                   4\n",
        "Family:                            Poisson   Mean cluster size:                 3.7\n",
        "Dependence structure:         Exchangeable   Num. iterations:                    11\n",
        "Date:                     Sat, 18 Oct 2014   Scale:                           8.248\n",
        "Covariance type:                     naive   Time:                         22:29:52\n",
        "==================================================================================\n",
        "                     coef    std err          z      P>|z|      [95.0% Conf. Int.]\n",
        "----------------------------------------------------------------------------------\n",
        "Intercept         -1.5176      0.368     -4.126      0.000        -2.239    -0.797\n",
        "C(period)[T.2]    -0.9982      0.777     -1.285      0.199        -2.521     0.525\n",
        "C(period)[T.3]    -1.1174      0.839     -1.331      0.183        -2.762     0.528\n",
        "C(period)[T.4]    -1.5641      1.129     -1.385      0.166        -3.778     0.650\n",
        "==============================================================================\n",
        "Skew:                          2.3583   Kurtosis:                       5.5733\n",
        "Centered skew:                 1.5871   Centered kurtosis:              4.0577\n",
        "==============================================================================\n",
        "The correlation between two observations in the same cluster is 0.028\n"
       ]
      }
     ],
     "prompt_number": 13
    },
    {
     "cell_type": "markdown",
     "metadata": {},
     "source": [
      "The dependence is still weak.  The scale factor is quite large, indicating that there is a lot of heterogeneity among the herds in CBPP transmission."
     ]
    },
    {
     "cell_type": "markdown",
     "metadata": {},
     "source": [
      "## Negative binomial approach\n",
      "\n",
      "Below we fit a negative binomial model to the counts."
     ]
    },
    {
     "cell_type": "code",
     "collapsed": false,
     "input": [
      "nb = sm.families.NegativeBinomial(alpha=1.)\n",
      "ex = sm.cov_struct.Exchangeable()\n",
      "size = np.log(np.asarray(data[\"size\"]))\n",
      "\n",
      "model6 = sm.GEE.from_formula(\"incidence ~ C(period)\", groups=groups,\n",
      "                      data=data, offset=size, family=nb, cov_struct=ex)\n",
      "result6 = model6.fit()\n",
      "print result6.summary()\n",
      "print ex.summary()"
     ],
     "language": "python",
     "metadata": {},
     "outputs": [
      {
       "output_type": "stream",
       "stream": "stdout",
       "text": [
        "                               GEE Regression Results                              \n",
        "===================================================================================\n",
        "Dep. Variable:                   incidence   No. Observations:                   56\n",
        "Model:                                 GEE   No. clusters:                       15\n",
        "Method:                        Generalized   Min. cluster size:                   1\n",
        "                      Estimating Equations   Max. cluster size:                   4\n",
        "Family:                   NegativeBinomial   Mean cluster size:                 3.7\n",
        "Dependence structure:         Exchangeable   Num. iterations:                    11\n",
        "Date:                     Sat, 18 Oct 2014   Scale:                           4.201\n",
        "Covariance type:                    robust   Time:                         22:29:52\n",
        "==================================================================================\n",
        "                     coef    std err          z      P>|z|      [95.0% Conf. Int.]\n",
        "----------------------------------------------------------------------------------\n",
        "Intercept         -1.5163      0.199     -7.625      0.000        -1.906    -1.127\n",
        "C(period)[T.2]    -1.0196      0.349     -2.922      0.003        -1.704    -0.336\n",
        "C(period)[T.3]    -0.9816      0.430     -2.281      0.023        -1.825    -0.138\n",
        "C(period)[T.4]    -1.6129      0.359     -4.497      0.000        -2.316    -0.910\n",
        "==============================================================================\n",
        "Skew:                          2.3583   Kurtosis:                       5.5741\n",
        "Centered skew:                 1.5874   Centered kurtosis:              4.0588\n",
        "==============================================================================\n",
        "The correlation between two observations in the same cluster is 0.015\n"
       ]
      }
     ],
     "prompt_number": 14
    }
   ],
   "metadata": {}
  }
 ]
}
=======
 "cells": [
  {
   "cell_type": "markdown",
   "metadata": {
    "application/vnd.databricks.v1+cell": {
     "cellMetadata": {},
     "inputWidgets": {},
     "nuid": "353405eb-98cf-4e07-82c8-f98bb20a9793",
     "showTitle": false,
     "title": ""
    }
   },
   "source": [
    "Marginal models for longitudinal count data with Generalized Estimating Equations\n",
    "=================================================================================\n",
    "\n",
    "*Key ideas:* Gaussian GEE, Poisson GEE, score testing, offsets"
   ]
  },
  {
   "cell_type": "markdown",
   "metadata": {
    "application/vnd.databricks.v1+cell": {
     "cellMetadata": {},
     "inputWidgets": {},
     "nuid": "b9a23f68-c0d8-4dba-952b-585973cc6f47",
     "showTitle": false,
     "title": ""
    }
   },
   "source": [
    "The CBPP (Contagious bovine pleuropneumonia) dataset (part of the R LMER library) contains data on the incidence of new cases of CBPP in 15 herds of cattle.  Each herd is assessed for CBPP during four time periods.  This is a longitudinal data set, since the same herds are observed in the four time periods.  In this notebook we use generalized estimating equations (GEE) to compare the CBP incidence rates among the time periods, while accounting for the possibility that there is dependence within herds across time."
   ]
  },
  {
   "cell_type": "code",
   "execution_count": 0,
   "metadata": {
    "application/vnd.databricks.v1+cell": {
     "cellMetadata": {},
     "inputWidgets": {},
     "nuid": "12e8b410-2e44-4466-ba09-85126a76d9e7",
     "showTitle": false,
     "title": ""
    }
   },
   "outputs": [],
   "source": [
    "import numpy as np\n",
    "import pandas as pd\n",
    "import statsmodels.api as sm"
   ]
  },
  {
   "cell_type": "markdown",
   "metadata": {
    "application/vnd.databricks.v1+cell": {
     "cellMetadata": {},
     "inputWidgets": {},
     "nuid": "9c142f63-0132-48ec-8362-1c63c6fe4d11",
     "showTitle": false,
     "title": ""
    }
   },
   "source": [
    "We begin by constructing a variable that contains the naive estimate of the incidence rate (the number of incident cases divided by the herd size)."
   ]
  },
  {
   "cell_type": "code",
   "execution_count": 0,
   "metadata": {
    "application/vnd.databricks.v1+cell": {
     "cellMetadata": {},
     "inputWidgets": {},
     "nuid": "3fa2ecc4-131e-420f-b0ae-03465c67413f",
     "showTitle": false,
     "title": ""
    }
   },
   "outputs": [],
   "source": [
    "data = pd.read_csv(\"cbpp.csv\")\n",
    "data[\"rate\"] = data[\"incidence\"] / data[\"size\"].astype(np.float64)"
   ]
  },
  {
   "cell_type": "markdown",
   "metadata": {
    "application/vnd.databricks.v1+cell": {
     "cellMetadata": {},
     "inputWidgets": {},
     "nuid": "251b70eb-e945-4ed9-bc00-7c7c56e73b15",
     "showTitle": false,
     "title": ""
    }
   },
   "source": [
    "## Gaussian approach\n",
    "\n",
    "A basic approach is to model the naive incidence rates as Gaussian, with an exchangeable within-herd dependence structure (i.e. the covariance matrix of the 4 observations for one herd has constant off-diagonal elements).  We also allow the mean to vary with `period` (the time variable). We treat `period` as a categorical variable, so each of the four time periods has its own mean value."
   ]
  },
  {
   "cell_type": "code",
   "execution_count": 0,
   "metadata": {
    "application/vnd.databricks.v1+cell": {
     "cellMetadata": {},
     "inputWidgets": {},
     "nuid": "7bf2aa2a-0b83-412a-ae0c-5ab2fb6c466e",
     "showTitle": false,
     "title": ""
    }
   },
   "outputs": [],
   "source": [
    "ga = sm.families.Gaussian()\n",
    "ex = sm.cov_struct.Exchangeable()\n",
    "\n",
    "model1 = sm.GEE.from_formula(\"rate ~ 0 + C(period)\", groups=\"herd\",\n",
    "                      data=data, family=ga, cov_struct=ex)\n",
    "result1 = model1.fit()\n",
    "print result1.summary()"
   ]
  },
  {
   "cell_type": "markdown",
   "metadata": {
    "application/vnd.databricks.v1+cell": {
     "cellMetadata": {},
     "inputWidgets": {},
     "nuid": "1a0298d6-2042-4c37-9403-408e37fd8231",
     "showTitle": false,
     "title": ""
    }
   },
   "source": [
    "We see that after the first period, the incidence rate drops substantially.  We don't have a lot of background information about this data set, but for the sake of discussion we can treat this as a hypothesis that can be studied as if it were pre-specified (rather than one that was discovered using the data).  If we reparameterize the model in terms of deviations from the first period, we see that there is statistical evidence that periods 2-4 have lower incidence rates than period 1 (due to the Z-scores for periods 2-4 being rather large in magnitude)."
   ]
  },
  {
   "cell_type": "code",
   "execution_count": 0,
   "metadata": {
    "application/vnd.databricks.v1+cell": {
     "cellMetadata": {},
     "inputWidgets": {},
     "nuid": "0e0bf920-1d00-4331-a4f1-866d539b46c3",
     "showTitle": false,
     "title": ""
    }
   },
   "outputs": [],
   "source": [
    "model2 = sm.GEE.from_formula(\"rate ~ C(period)\", groups=\"herd\",\n",
    "                      data=data, family=ga, cov_struct=ex)\n",
    "result2 = model2.fit()\n",
    "print result2.summary()"
   ]
  },
  {
   "cell_type": "markdown",
   "metadata": {
    "application/vnd.databricks.v1+cell": {
     "cellMetadata": {},
     "inputWidgets": {},
     "nuid": "d0b63db5-fa17-4c54-acd3-a9ada21fcef8",
     "showTitle": false,
     "title": ""
    }
   },
   "source": [
    "We also see that there is very little evidence of within-herd correlation."
   ]
  },
  {
   "cell_type": "code",
   "execution_count": 0,
   "metadata": {
    "application/vnd.databricks.v1+cell": {
     "cellMetadata": {},
     "inputWidgets": {},
     "nuid": "82aec444-29b7-4eee-8fcc-629a52a41e7c",
     "showTitle": false,
     "title": ""
    }
   },
   "outputs": [],
   "source": [
    "print ex.summary()"
   ]
  },
  {
   "cell_type": "markdown",
   "metadata": {
    "application/vnd.databricks.v1+cell": {
     "cellMetadata": {},
     "inputWidgets": {},
     "nuid": "4d6ec9a2-32a3-4afe-951c-61e991fb8db5",
     "showTitle": false,
     "title": ""
    }
   },
   "source": [
    "The weak dependence is corroborated by the following dependence plot, however the sample size of this data set is too small to learn much about the covariance structure."
   ]
  },
  {
   "cell_type": "code",
   "execution_count": 0,
   "metadata": {
    "application/vnd.databricks.v1+cell": {
     "cellMetadata": {},
     "inputWidgets": {},
     "nuid": "40c1c5d7-8a61-4325-8141-a7641d89d24d",
     "showTitle": false,
     "title": ""
    }
   },
   "outputs": [],
   "source": [
    "fig = result2.plot_isotropic_dependence(min_n=1)"
   ]
  },
  {
   "cell_type": "markdown",
   "metadata": {
    "application/vnd.databricks.v1+cell": {
     "cellMetadata": {},
     "inputWidgets": {},
     "nuid": "4a6bcdbd-3257-4d64-a3a3-272c21119e1a",
     "showTitle": false,
     "title": ""
    }
   },
   "source": [
    "### Score test comparing periods 2-4 to period 1\n",
    "\n",
    "We can test the hypothesis that time periods 2-4 have a common mean value using a score test.  This involves fitting the model under a linear constraint in which the mean parameters for periods 2-4 are held equal to each other.  Currently, this cannot be done using the GEE.from_formula method, so we specify endog, exog, and the constraints explicitly.  First we construct the data as numpy arrays."
   ]
  },
  {
   "cell_type": "code",
   "execution_count": 0,
   "metadata": {
    "application/vnd.databricks.v1+cell": {
     "cellMetadata": {},
     "inputWidgets": {},
     "nuid": "d3f89d72-bce9-431b-96ec-0ad0e6df9379",
     "showTitle": false,
     "title": ""
    }
   },
   "outputs": [],
   "source": [
    "endog = data[\"rate\"]\n",
    "period = data[\"period\"]\n",
    "groups = data[\"herd\"]\n",
    "\n",
    "n = len(endog)\n",
    "exog = [np.ones(n), 1*(period == 2), 1*(period == 3), 1*(period == 4)]\n",
    "exog = np.array(exog).T"
   ]
  },
  {
   "cell_type": "markdown",
   "metadata": {
    "application/vnd.databricks.v1+cell": {
     "cellMetadata": {},
     "inputWidgets": {},
     "nuid": "f936c1db-6d9f-4c08-bd50-89b4d8f335ad",
     "showTitle": false,
     "title": ""
    }
   },
   "source": [
    "Next we specify the constraints that define the null hypothesis that we are testing.  We are testing params[1] = params[2] = params[3], or equivalently, params[1] - params[2] = 0 and params[2] - params[3] = 0.  This can be expressed as a matrix equation of the form L*params = R (where R = 0 in this case)."
   ]
  },
  {
   "cell_type": "code",
   "execution_count": 0,
   "metadata": {
    "application/vnd.databricks.v1+cell": {
     "cellMetadata": {},
     "inputWidgets": {},
     "nuid": "53d0d1cd-bec8-494d-96d0-5d324113c85f",
     "showTitle": false,
     "title": ""
    }
   },
   "outputs": [],
   "source": [
    "L = np.zeros((2,4))\n",
    "L[0,:] = [0, 1, -1, 0]\n",
    "L[1,:] = [0, 0, 1, -1]\n",
    "R = np.zeros(2)"
   ]
  },
  {
   "cell_type": "markdown",
   "metadata": {
    "application/vnd.databricks.v1+cell": {
     "cellMetadata": {},
     "inputWidgets": {},
     "nuid": "7f9c43df-f89f-44d4-a4e9-d5a28471663e",
     "showTitle": false,
     "title": ""
    }
   },
   "source": [
    "Now we are ready to fit the model:"
   ]
  },
  {
   "cell_type": "code",
   "execution_count": 0,
   "metadata": {
    "application/vnd.databricks.v1+cell": {
     "cellMetadata": {},
     "inputWidgets": {},
     "nuid": "1c546ac0-e460-4caf-84f4-3766aab5658b",
     "showTitle": false,
     "title": ""
    }
   },
   "outputs": [],
   "source": [
    "model3 = sm.GEE(endog, exog, groups=groups, family=ga, cov_struct=ex,\n",
    "                constraint=(L, R))\n",
    "result3 = model3.fit()\n",
    "print result3.summary()"
   ]
  },
  {
   "cell_type": "markdown",
   "metadata": {
    "application/vnd.databricks.v1+cell": {
     "cellMetadata": {},
     "inputWidgets": {},
     "nuid": "ab129e52-da6e-4422-b57a-ce189f6d1660",
     "showTitle": false,
     "title": ""
    }
   },
   "source": [
    "The score statistic tells us how fast the likelihood increases if we did not impose the constraint that the rates at time points 2-4 are equal.  Based on the score test, there is no statistical evidence that periods 2-4 are different from each other."
   ]
  },
  {
   "cell_type": "code",
   "execution_count": 0,
   "metadata": {
    "application/vnd.databricks.v1+cell": {
     "cellMetadata": {},
     "inputWidgets": {},
     "nuid": "4e6c1bad-44f9-4f20-8425-2e9836eaee9b",
     "showTitle": false,
     "title": ""
    }
   },
   "outputs": [],
   "source": [
    "print model3.score_test_results"
   ]
  },
  {
   "cell_type": "markdown",
   "metadata": {
    "application/vnd.databricks.v1+cell": {
     "cellMetadata": {},
     "inputWidgets": {},
     "nuid": "89812782-ef30-462f-a6f0-70db66f30f6e",
     "showTitle": false,
     "title": ""
    }
   },
   "source": [
    "Alternatively, we can use Patsy to process the formulas and constraints for us."
   ]
  },
  {
   "cell_type": "code",
   "execution_count": 0,
   "metadata": {
    "application/vnd.databricks.v1+cell": {
     "cellMetadata": {},
     "inputWidgets": {},
     "nuid": "5743d3f4-085a-4eda-84bb-7332746e2615",
     "showTitle": false,
     "title": ""
    }
   },
   "outputs": [],
   "source": [
    "import patsy\n",
    "dmat = patsy.dmatrix(\"C(period)\", data=data)\n",
    "di = dmat.design_info\n",
    "lc = di.linear_constraint(\"C(period)[T.2] = C(period)[T.3] = C(period)[T.4]\")\n",
    "\n",
    "constraint = (np.asarray(lc.coefs), np.asarray(lc.constants))\n",
    "\n",
    "model4 = sm.GEE(np.asarray(data[\"rate\"]), np.asarray(dmat), groups=np.asarray(groups), family=ga, cov_struct=ex,\n",
    "         constraint=constraint)\n",
    "result4 = model4.fit()\n",
    "print result4.summary()\n",
    "print model4.score_test_results"
   ]
  },
  {
   "cell_type": "markdown",
   "metadata": {
    "application/vnd.databricks.v1+cell": {
     "cellMetadata": {},
     "inputWidgets": {},
     "nuid": "959ac44d-7130-4690-b38e-d37c3a6ab06f",
     "showTitle": false,
     "title": ""
    }
   },
   "source": [
    "## Poisson approach\n",
    "\n",
    "There isn't a lot of data for assessing the link function, but we can still check the fitted values on residuals plot, shown below.  There is some evidence for an increasing mean/variance relationship."
   ]
  },
  {
   "cell_type": "code",
   "execution_count": 0,
   "metadata": {
    "application/vnd.databricks.v1+cell": {
     "cellMetadata": {},
     "inputWidgets": {},
     "nuid": "0414354d-47e4-42dc-b2cc-f49bd86e211b",
     "showTitle": false,
     "title": ""
    }
   },
   "outputs": [],
   "source": [
    "plt.plot(result1.fittedvalues, result1.resid, 'o', alpha=0.6)\n",
    "plt.xlabel(\"Fitted values\", size=17)\n",
    "plt.ylabel(\"Residuals\", size=17)\n",
    "plt.xlim(0, 0.25)"
   ]
  },
  {
   "cell_type": "markdown",
   "metadata": {
    "application/vnd.databricks.v1+cell": {
     "cellMetadata": {},
     "inputWidgets": {},
     "nuid": "28cdd3fa-634b-4472-8873-2ffedc9a94ac",
     "showTitle": false,
     "title": ""
    }
   },
   "source": [
    "To address this, we can model the number of transmission events as following a Poisson distribution.  This is based on a conceptual model in which there is a fixed transmission probability, and every transmission event is independent of the others.  We use an offset to account for differences in the herd sizes."
   ]
  },
  {
   "cell_type": "code",
   "execution_count": 0,
   "metadata": {
    "application/vnd.databricks.v1+cell": {
     "cellMetadata": {},
     "inputWidgets": {},
     "nuid": "6e73e736-08b1-43bd-87be-264d141af788",
     "showTitle": false,
     "title": ""
    }
   },
   "outputs": [],
   "source": [
    "po = sm.families.Poisson()\n",
    "ex = sm.cov_struct.Exchangeable()\n",
    "size = np.log(np.asarray(data[\"size\"]))\n",
    "\n",
    "model5 = sm.GEE.from_formula(\"incidence ~ C(period)\", groups=groups,\n",
    "                      data=data, offset=size, family=po, cov_struct=ex)\n",
    "result5 = model5.fit(cov_type='naive')\n",
    "print result5.summary()\n",
    "print ex.summary()"
   ]
  },
  {
   "cell_type": "markdown",
   "metadata": {
    "application/vnd.databricks.v1+cell": {
     "cellMetadata": {},
     "inputWidgets": {},
     "nuid": "6281a24e-c27d-4d65-9e61-e62c4ea3c452",
     "showTitle": false,
     "title": ""
    }
   },
   "source": [
    "The dependence is still weak.  The scale factor is quite large, indicating that there is a lot of heterogeneity among the herds in CBPP transmission."
   ]
  },
  {
   "cell_type": "markdown",
   "metadata": {
    "application/vnd.databricks.v1+cell": {
     "cellMetadata": {},
     "inputWidgets": {},
     "nuid": "682dd47c-3638-49e3-a916-5866373e4f07",
     "showTitle": false,
     "title": ""
    }
   },
   "source": [
    "## Negative binomial approach\n",
    "\n",
    "Below we fit a negative binomial model to the counts."
   ]
  },
  {
   "cell_type": "code",
   "execution_count": 0,
   "metadata": {
    "application/vnd.databricks.v1+cell": {
     "cellMetadata": {},
     "inputWidgets": {},
     "nuid": "28cb19b7-3124-4837-8aab-413af5937636",
     "showTitle": false,
     "title": ""
    }
   },
   "outputs": [],
   "source": [
    "nb = sm.families.NegativeBinomial(alpha=1.)\n",
    "ex = sm.cov_struct.Exchangeable()\n",
    "size = np.log(np.asarray(data[\"size\"]))\n",
    "\n",
    "model6 = sm.GEE.from_formula(\"incidence ~ C(period)\", groups=groups,\n",
    "                      data=data, offset=size, family=nb, cov_struct=ex)\n",
    "result6 = model6.fit()\n",
    "print result6.summary()\n",
    "print ex.summary()"
   ]
  }
 ],
 "metadata": {
  "application/vnd.databricks.v1+notebook": {
   "dashboards": [],
   "language": "python",
   "notebookMetadata": {},
   "notebookName": "GEE_cbpp",
   "widgets": {}
  },
  "name": "",
  "signature": "sha256:a4894626a42fad6b1bbada7530a677cb727549cc77bc794b3787c6dd4c113fd0"
 },
 "nbformat": 4,
 "nbformat_minor": 0
}
>>>>>>> Stashed changes
