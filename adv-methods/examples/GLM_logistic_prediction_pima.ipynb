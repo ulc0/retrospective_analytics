{
<<<<<<< Updated upstream
 "metadata": {
  "name": "",
  "signature": "sha256:795b6b09e6fd181cd71a9e6cd86bbd9088caa90412263d096f7ce563f1078e6b"
 },
 "nbformat": 3,
 "nbformat_minor": 0,
 "worksheets": [
  {
   "cells": [
    {
     "cell_type": "markdown",
     "metadata": {},
     "source": [
      "Generalized Linear Models\n",
      "=========================\n",
      "\n",
      "*Key ideas:* Logistic regression, cross validation, sensitivity, specificity, receiver operating characteristics curve\n",
      "    \n",
      "This noteboook shows how to use cross-validation and logistic regression in Statsmodels to assess how well a group of predictor variables can be used to predict a binary outcome.  A reciever operating characteristics (ROC) curve is used to describe the strength of the predictive relationship.\n",
      "\n",
      "We start with the usual import statements:"
     ]
    },
    {
     "cell_type": "code",
     "collapsed": false,
     "input": [
      "import numpy as np\n",
      "import pandas as pd\n",
      "from statsmodels.discrete.discrete_model import Logit"
     ],
     "language": "python",
     "metadata": {},
     "outputs": [],
     "prompt_number": 1
    },
    {
     "cell_type": "markdown",
     "metadata": {},
     "source": [
      "The data are from a study of Pima indians in the US.  Each individual is assessed as either having, or not having type 2 diabetes.  Several predictors such as age, BMI, and blood pressure can be used to predict diabetes status.  The data have been split into training and testing sets, but since we are using cross-validation here, we merge the two data sets."
     ]
    },
    {
     "cell_type": "code",
     "collapsed": false,
     "input": [
      "data_url = \"http://vincentarelbundock.github.io/Rdatasets/csv/MASS/Pima.tr.csv\"\n",
      "data_tr = pd.read_csv(data_url)\n",
      "\n",
      "data_url = \"http://vincentarelbundock.github.io/Rdatasets/csv/MASS/Pima.te.csv\"\n",
      "data_te = pd.read_csv(data_url)\n",
      "\n",
      "data = pd.concat((data_tr, data_te), axis=0)"
     ],
     "language": "python",
     "metadata": {},
     "outputs": [],
     "prompt_number": 2
    },
    {
     "cell_type": "markdown",
     "metadata": {},
     "source": [
      "Next we split the data into a vector of outcomes (endog), and a matrix of predictors (exog).  We also add an intercept (a column of 1's) to exog.  Note that an alternative approach would be to use formulas to fit the logistic regression model.  In this case, these two steps would not be necessary."
     ]
    },
    {
     "cell_type": "code",
     "collapsed": false,
     "input": [
      "endog = np.asarray([int(x.lower() == \"yes\") for x in data[\"type\"]])\n",
      "xnames = [\"npreg\", \"glu\", \"bp\", \"skin\", \"bmi\", \"ped\", \"age\"]\n",
      "exog = np.asarray(data[xnames])\n",
      "exog = np.concatenate((np.ones((exog.shape[0],1)), exog), axis=1)"
     ],
     "language": "python",
     "metadata": {},
     "outputs": [],
     "prompt_number": 3
    },
    {
     "cell_type": "markdown",
     "metadata": {},
     "source": [
      "Many of the predictors show moderately strong marginal associations with diabetes status, so there is hope that we can predict the outcome fairly well by combining the information in all the predictors."
     ]
    },
    {
     "cell_type": "code",
     "collapsed": false,
     "input": [
      "x = [np.corrcoef(endog, x)[0,1] for x in exog[:,1:].T]\n",
      "x = pd.Series(x, index=xnames)\n",
      "print x"
     ],
     "language": "python",
     "metadata": {},
     "outputs": [
      {
       "output_type": "stream",
       "stream": "stdout",
       "text": [
        "npreg    0.252586\n",
        "glu      0.503614\n",
        "bp       0.183432\n",
        "skin     0.254874\n",
        "bmi      0.300901\n",
        "ped      0.233074\n",
        "age      0.315097\n",
        "dtype: float64\n"
       ]
      }
     ],
     "prompt_number": 4
    },
    {
     "cell_type": "markdown",
     "metadata": {},
     "source": [
      "Next we do the cross validation.  Each subject is held out in turn during the model building. We construct a predicted outcome (on a probability scale) for the held-out observation and place it into the vector named \"scores\". "
     ]
    },
    {
     "cell_type": "code",
     "collapsed": false,
     "input": [
      "n = data.shape[0]\n",
      "scores = np.zeros(n, dtype=np.float64)\n",
      "for k in range(n):\n",
      "    \n",
      "    ii = range(n)\n",
      "    ii.pop(k)\n",
      "    \n",
      "    mod = Logit(endog[ii], exog[ii,:])\n",
      "    rslt = mod.fit(disp=False)\n",
      "    \n",
      "    scores[k] = rslt.predict(exog[k,:])"
     ],
     "language": "python",
     "metadata": {},
     "outputs": [],
     "prompt_number": 5
    },
    {
     "cell_type": "markdown",
     "metadata": {},
     "source": [
      "The ROC curve is a plot of senstivity against 1 - specificity.  We calculate sensitivity and specificity here (note that this is not a very efficient algorithm, but the calculation is fast so it doesn't matter much here)."
     ]
    },
    {
     "cell_type": "code",
     "collapsed": false,
     "input": [
      "uscores = np.unique(scores)\n",
      "n1 = np.sum(endog)\n",
      "\n",
      "Sens = np.zeros_like(uscores)\n",
      "Spec = np.zeros_like(uscores)\n",
      "for j,u in enumerate(uscores):\n",
      "    Sens[j] = np.sum((scores >= u) * endog) / float(n1)\n",
      "    Spec[j] = np.sum((scores <= u) * (1-endog)) / float(n - n1)"
     ],
     "language": "python",
     "metadata": {},
     "outputs": [],
     "prompt_number": 6
    },
    {
     "cell_type": "markdown",
     "metadata": {},
     "source": [
      "Now we make the ROC plot."
     ]
    },
    {
     "cell_type": "code",
     "collapsed": false,
     "input": [
      "plt.plot(1 - Spec, Sens, '-')\n",
      "plt.plot([0,1], [0,1], '-', color='grey')\n",
      "plt.xlabel(\"1 - Specificity\", size=17)\n",
      "plt.ylabel(\"Sensitivity\", size=17)"
     ],
     "language": "python",
     "metadata": {},
     "outputs": [
      {
       "metadata": {},
       "output_type": "pyout",
       "prompt_number": 7,
       "text": [
        "<matplotlib.text.Text at 0x483be50>"
       ]
      },
      {
       "metadata": {},
       "output_type": "display_data",
       "png": "iVBORw0KGgoAAAANSUhEUgAAAY4AAAEXCAYAAAC6baP3AAAABHNCSVQICAgIfAhkiAAAAAlwSFlz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\nH95A5omXp3SnAAAAAElFTkSuQmCC\n",
       "text": [
        "<matplotlib.figure.Figure at 0x4829bd0>"
       ]
      }
     ],
     "prompt_number": 7
    },
    {
     "cell_type": "markdown",
     "metadata": {},
     "source": [
      "We can calculate the area under the curve (AUC) using the trapezoidal method:"
     ]
    },
    {
     "cell_type": "code",
     "collapsed": false,
     "input": [
      "auc = 0.\n",
      "for i in range(len(Spec)-1):\n",
      "    auc += (Spec[i+1] - Spec[i]) * (Sens[i+1] + Sens[i]) / 2\n",
      "print auc"
     ],
     "language": "python",
     "metadata": {},
     "outputs": [
      {
       "output_type": "stream",
       "stream": "stdout",
       "text": [
        "0.846749423092\n"
       ]
      }
     ],
     "prompt_number": 8
    }
   ],
   "metadata": {}
  }
 ]
}
=======
 "cells": [
  {
   "cell_type": "markdown",
   "metadata": {
    "application/vnd.databricks.v1+cell": {
     "cellMetadata": {},
     "inputWidgets": {},
     "nuid": "eae7d34f-d633-49af-84f4-c50e9a527a30",
     "showTitle": false,
     "title": ""
    }
   },
   "source": [
    "Generalized Linear Models\n",
    "=========================\n",
    "\n",
    "*Key ideas:* Logistic regression, cross validation, sensitivity, specificity, receiver operating characteristics curve\n",
    "    \n",
    "This noteboook shows how to use cross-validation and logistic regression in Statsmodels to assess how well a group of predictor variables can be used to predict a binary outcome.  A reciever operating characteristics (ROC) curve is used to describe the strength of the predictive relationship.\n",
    "\n",
    "We start with the usual import statements:"
   ]
  },
  {
   "cell_type": "code",
   "execution_count": 0,
   "metadata": {
    "application/vnd.databricks.v1+cell": {
     "cellMetadata": {},
     "inputWidgets": {},
     "nuid": "c9379ae8-910f-48b2-9b28-b9c35aee60dc",
     "showTitle": false,
     "title": ""
    }
   },
   "outputs": [],
   "source": [
    "import numpy as np\n",
    "import pandas as pd\n",
    "from statsmodels.discrete.discrete_model import Logit"
   ]
  },
  {
   "cell_type": "markdown",
   "metadata": {
    "application/vnd.databricks.v1+cell": {
     "cellMetadata": {},
     "inputWidgets": {},
     "nuid": "8b4f384e-cbbf-44ec-90df-fd296bb6fe40",
     "showTitle": false,
     "title": ""
    }
   },
   "source": [
    "The data are from a study of Pima indians in the US.  Each individual is assessed as either having, or not having type 2 diabetes.  Several predictors such as age, BMI, and blood pressure can be used to predict diabetes status.  The data have been split into training and testing sets, but since we are using cross-validation here, we merge the two data sets."
   ]
  },
  {
   "cell_type": "code",
   "execution_count": 0,
   "metadata": {
    "application/vnd.databricks.v1+cell": {
     "cellMetadata": {},
     "inputWidgets": {},
     "nuid": "d8f7ff79-9951-4a7d-a709-4cfde397dc88",
     "showTitle": false,
     "title": ""
    }
   },
   "outputs": [],
   "source": [
    "data_url = \"http://vincentarelbundock.github.io/Rdatasets/csv/MASS/Pima.tr.csv\"\n",
    "data_tr = pd.read_csv(data_url)\n",
    "\n",
    "data_url = \"http://vincentarelbundock.github.io/Rdatasets/csv/MASS/Pima.te.csv\"\n",
    "data_te = pd.read_csv(data_url)\n",
    "\n",
    "data = pd.concat((data_tr, data_te), axis=0)"
   ]
  },
  {
   "cell_type": "markdown",
   "metadata": {
    "application/vnd.databricks.v1+cell": {
     "cellMetadata": {},
     "inputWidgets": {},
     "nuid": "9a0836b7-574e-4cb4-b3f3-f2893f4bb174",
     "showTitle": false,
     "title": ""
    }
   },
   "source": [
    "Next we split the data into a vector of outcomes (endog), and a matrix of predictors (exog).  We also add an intercept (a column of 1's) to exog.  Note that an alternative approach would be to use formulas to fit the logistic regression model.  In this case, these two steps would not be necessary."
   ]
  },
  {
   "cell_type": "code",
   "execution_count": 0,
   "metadata": {
    "application/vnd.databricks.v1+cell": {
     "cellMetadata": {},
     "inputWidgets": {},
     "nuid": "d2eb58ff-59ea-45f4-8b25-01a965d8a95d",
     "showTitle": false,
     "title": ""
    }
   },
   "outputs": [],
   "source": [
    "endog = np.asarray([int(x.lower() == \"yes\") for x in data[\"type\"]])\n",
    "xnames = [\"npreg\", \"glu\", \"bp\", \"skin\", \"bmi\", \"ped\", \"age\"]\n",
    "exog = np.asarray(data[xnames])\n",
    "exog = np.concatenate((np.ones((exog.shape[0],1)), exog), axis=1)"
   ]
  },
  {
   "cell_type": "markdown",
   "metadata": {
    "application/vnd.databricks.v1+cell": {
     "cellMetadata": {},
     "inputWidgets": {},
     "nuid": "3e328a79-9993-4465-8041-c004fa5633ca",
     "showTitle": false,
     "title": ""
    }
   },
   "source": [
    "Many of the predictors show moderately strong marginal associations with diabetes status, so there is hope that we can predict the outcome fairly well by combining the information in all the predictors."
   ]
  },
  {
   "cell_type": "code",
   "execution_count": 0,
   "metadata": {
    "application/vnd.databricks.v1+cell": {
     "cellMetadata": {},
     "inputWidgets": {},
     "nuid": "dcaf3d26-e0f3-42a6-a376-4fdcfc68e1de",
     "showTitle": false,
     "title": ""
    }
   },
   "outputs": [],
   "source": [
    "x = [np.corrcoef(endog, x)[0,1] for x in exog[:,1:].T]\n",
    "x = pd.Series(x, index=xnames)\n",
    "print x"
   ]
  },
  {
   "cell_type": "markdown",
   "metadata": {
    "application/vnd.databricks.v1+cell": {
     "cellMetadata": {},
     "inputWidgets": {},
     "nuid": "d0d395f6-7e56-48be-825f-10ca6fbba826",
     "showTitle": false,
     "title": ""
    }
   },
   "source": [
    "Next we do the cross validation.  Each subject is held out in turn during the model building. We construct a predicted outcome (on a probability scale) for the held-out observation and place it into the vector named \"scores\"."
   ]
  },
  {
   "cell_type": "code",
   "execution_count": 0,
   "metadata": {
    "application/vnd.databricks.v1+cell": {
     "cellMetadata": {},
     "inputWidgets": {},
     "nuid": "d036c98c-04ac-4236-a72f-59a0aaacb790",
     "showTitle": false,
     "title": ""
    }
   },
   "outputs": [],
   "source": [
    "n = data.shape[0]\n",
    "scores = np.zeros(n, dtype=np.float64)\n",
    "for k in range(n):\n",
    "    \n",
    "    ii = range(n)\n",
    "    ii.pop(k)\n",
    "    \n",
    "    mod = Logit(endog[ii], exog[ii,:])\n",
    "    rslt = mod.fit(disp=False)\n",
    "    \n",
    "    scores[k] = rslt.predict(exog[k,:])"
   ]
  },
  {
   "cell_type": "markdown",
   "metadata": {
    "application/vnd.databricks.v1+cell": {
     "cellMetadata": {},
     "inputWidgets": {},
     "nuid": "718f0fdb-d5b3-42a1-a9b9-07755ad0c246",
     "showTitle": false,
     "title": ""
    }
   },
   "source": [
    "The ROC curve is a plot of senstivity against 1 - specificity.  We calculate sensitivity and specificity here (note that this is not a very efficient algorithm, but the calculation is fast so it doesn't matter much here)."
   ]
  },
  {
   "cell_type": "code",
   "execution_count": 0,
   "metadata": {
    "application/vnd.databricks.v1+cell": {
     "cellMetadata": {},
     "inputWidgets": {},
     "nuid": "cd8d1274-4507-44b6-a262-8aec7de9dcb7",
     "showTitle": false,
     "title": ""
    }
   },
   "outputs": [],
   "source": [
    "uscores = np.unique(scores)\n",
    "n1 = np.sum(endog)\n",
    "\n",
    "Sens = np.zeros_like(uscores)\n",
    "Spec = np.zeros_like(uscores)\n",
    "for j,u in enumerate(uscores):\n",
    "    Sens[j] = np.sum((scores >= u) * endog) / float(n1)\n",
    "    Spec[j] = np.sum((scores <= u) * (1-endog)) / float(n - n1)"
   ]
  },
  {
   "cell_type": "markdown",
   "metadata": {
    "application/vnd.databricks.v1+cell": {
     "cellMetadata": {},
     "inputWidgets": {},
     "nuid": "279719bb-696c-4f91-8ea0-41017c40c648",
     "showTitle": false,
     "title": ""
    }
   },
   "source": [
    "Now we make the ROC plot."
   ]
  },
  {
   "cell_type": "code",
   "execution_count": 0,
   "metadata": {
    "application/vnd.databricks.v1+cell": {
     "cellMetadata": {},
     "inputWidgets": {},
     "nuid": "8672f930-55e6-491b-9631-b8e00db905c9",
     "showTitle": false,
     "title": ""
    }
   },
   "outputs": [],
   "source": [
    "plt.plot(1 - Spec, Sens, '-')\n",
    "plt.plot([0,1], [0,1], '-', color='grey')\n",
    "plt.xlabel(\"1 - Specificity\", size=17)\n",
    "plt.ylabel(\"Sensitivity\", size=17)"
   ]
  },
  {
   "cell_type": "markdown",
   "metadata": {
    "application/vnd.databricks.v1+cell": {
     "cellMetadata": {},
     "inputWidgets": {},
     "nuid": "2762f346-a6d7-4d5c-8b52-b01f29e05bc5",
     "showTitle": false,
     "title": ""
    }
   },
   "source": [
    "We can calculate the area under the curve (AUC) using the trapezoidal method:"
   ]
  },
  {
   "cell_type": "code",
   "execution_count": 0,
   "metadata": {
    "application/vnd.databricks.v1+cell": {
     "cellMetadata": {},
     "inputWidgets": {},
     "nuid": "81a5b5db-1340-4be0-8978-4ce8b577314a",
     "showTitle": false,
     "title": ""
    }
   },
   "outputs": [],
   "source": [
    "auc = 0.\n",
    "for i in range(len(Spec)-1):\n",
    "    auc += (Spec[i+1] - Spec[i]) * (Sens[i+1] + Sens[i]) / 2\n",
    "print auc"
   ]
  }
 ],
 "metadata": {
  "application/vnd.databricks.v1+notebook": {
   "dashboards": [],
   "language": "python",
   "notebookMetadata": {},
   "notebookName": "GLM_logistic_prediction_pima",
   "widgets": {}
  },
  "name": "",
  "signature": "sha256:795b6b09e6fd181cd71a9e6cd86bbd9088caa90412263d096f7ce563f1078e6b"
 },
 "nbformat": 4,
 "nbformat_minor": 0
}
>>>>>>> Stashed changes
