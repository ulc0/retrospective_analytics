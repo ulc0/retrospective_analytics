{
<<<<<<< Updated upstream
 "metadata": {
  "name": "",
  "signature": "sha256:a2987751168b2a2c88f7bf017ea883b3f4eb32445c3287e08ddfb50e481ce78d"
 },
 "nbformat": 3,
 "nbformat_minor": 0,
 "worksheets": [
  {
   "cells": [
    {
     "cell_type": "markdown",
     "metadata": {},
     "source": [
      "Comparing R lmer to Statsmodels MixedLM\n",
      "=======================================\n",
      "\n",
      "The Statsmodels imputation of linear mixed models (MixedLM) closely follows the approach outlined in Lindstrom and Bates (JASA 1988).  This is also the approach followed in the  R package LME4.  Other packages such as Stata, SAS, etc. should also be consistent with this approach, as the basic techniques in this area are mostly mature.\n",
      "\n",
      "Here we show how linear mixed models can be fit using the MixedLM procedure in Statsmodels.  Results from R (LME4) are included for comparison.  \n",
      "\n",
      "Here are our import statements:"
     ]
    },
    {
     "cell_type": "code",
     "collapsed": false,
     "input": [
      "import numpy as np\n",
      "import pandas as pd\n",
      "import statsmodels.api as sm"
     ],
     "language": "python",
     "metadata": {},
     "outputs": [],
     "prompt_number": 11
    },
    {
     "cell_type": "markdown",
     "metadata": {},
     "source": [
      "## Growth curves of pigs\n",
      "\n",
      "These are longitudinal data from a factorial experiment. The outcome variable is the weight of each pig, and the only predictor variable we will use here is \"time\".  First we fit a model that expresses the mean weight as a linear function of time, with a random intercept for each pig. The model is specified using formulas. Since the random effects structure is not specified, the default random effects structure (a random intercept for each group) is automatically used. "
     ]
    },
    {
     "cell_type": "code",
     "collapsed": false,
     "input": [
      "data = pd.read_csv(\"dietox.csv\")\n",
      "model = sm.MixedLM.from_formula(\"Weight ~ Time\", data, groups=data[\"Pig\"])\n",
      "result = model.fit()\n",
      "print result.summary()"
     ],
     "language": "python",
     "metadata": {},
     "outputs": [
      {
       "output_type": "stream",
       "stream": "stdout",
       "text": [
        "          Mixed Linear Model Regression Results\n",
        "========================================================\n",
        "Model:            MixedLM Dependent Variable: Weight    \n",
        "No. Observations: 861     Method:             REML      \n",
        "No. Groups:       72      Scale:              11.3668   \n",
        "Min. group size:  11      Likelihood:         -2404.7753\n",
        "Max. group size:  12      Converged:          Yes       \n",
        "Mean group size:  12.0                                  \n",
        "--------------------------------------------------------\n",
        "             Coef.  Std.Err.    z    P>|z| [0.025 0.975]\n",
        "--------------------------------------------------------\n",
        "Intercept    15.724    0.788  19.952 0.000 14.180 17.269\n",
        "Time          6.942    0.033 207.939 0.000  6.877  7.008\n",
        "Intercept RE 40.399    2.166                            \n",
        "========================================================\n",
        "\n"
       ]
      }
     ],
     "prompt_number": 12
    },
    {
     "cell_type": "markdown",
     "metadata": {},
     "source": [
      "Here is the same model fit in R using LMER:"
     ]
    },
    {
     "cell_type": "markdown",
     "metadata": {},
     "source": [
      "    Linear mixed model fit by REML \n",
      "    Formula: Weight ~ Time + (1 | Pig) \n",
      "       Data: data \n",
      "      AIC  BIC logLik deviance REMLdev\n",
      "     4818 4837  -2405     4806    4810\n",
      "    Random effects:\n",
      "     Groups   Name        Variance Std.Dev.\n",
      "     Pig      (Intercept) 40.394   6.3556  \n",
      "     Residual             11.367   3.3715  \n",
      "    Number of obs: 861, groups: Pig, 72\n",
      "    Fixed effects:\n",
      "                Estimate Std. Error t value\n",
      "    (Intercept) 15.72352    0.78805   19.95\n",
      "    Time         6.94251    0.03339  207.94\n",
      "    Correlation of Fixed Effects:\n",
      "         (Intr)\n",
      "    Time -0.275"
     ]
    },
    {
     "cell_type": "markdown",
     "metadata": {},
     "source": [
      "Note that in the Statsmodels summary of results, the fixed effects and random effects parameter estimates are shown in a single table.  The random effects are labeled \"RE\" in the Statmodels output.  In the LME4 output, this effect is the pig intercept under the random effects section.\n",
      "\n",
      "There has been a lot of debate about whether the standard errors for random effect variance and covariance parameters are useful.  In LME4, these standard errors are not displayed, because the authors of the package believe they are not very informative.  While there is good reason to question their utility, we elected to include the standard errors in the summary table, but do not show the corresponding Wald confidence intervals.\n",
      "\n",
      "Next we fit a model with two random effects for each animal: a random intercept, and a random slope (with respect to time).  This means that each pig may have a different baseline weight, as well as growing at a different rate. The formula specifies that \"Time\" is a covariate with a random coefficient.  By default, formulas always include an intercept (which could be suppressed here using \"0 + Time\" as the formula)."
     ]
    },
    {
     "cell_type": "code",
     "collapsed": false,
     "input": [
      "model = sm.MixedLM.from_formula(\"Weight ~ Time\", data, re_formula=\"Time\", groups=data[\"Pig\"])\n",
      "result = model.fit()\n",
      "print result.summary()"
     ],
     "language": "python",
     "metadata": {},
     "outputs": [
      {
       "output_type": "stream",
       "stream": "stdout",
       "text": [
        "              Mixed Linear Model Regression Results\n",
        "=================================================================\n",
        "Model:               MixedLM    Dependent Variable:    Weight    \n",
        "No. Observations:    861        Method:                REML      \n",
        "No. Groups:          72         Scale:                 6.0374    \n",
        "Min. group size:     11         Likelihood:            -2217.0475\n",
        "Max. group size:     12         Converged:             Yes       \n",
        "Mean group size:     12.0                                        \n",
        "-----------------------------------------------------------------\n",
        "                       Coef.  Std.Err.   z    P>|z| [0.025 0.975]\n",
        "-----------------------------------------------------------------\n",
        "Intercept              15.739    0.550 28.609 0.000 14.661 16.817\n",
        "Time                    6.939    0.080 86.927 0.000  6.783  7.095\n",
        "Intercept RE           19.493    1.572                           \n",
        "Intercept RE x Time RE  0.294    0.154                           \n",
        "Time RE                 0.416    0.033                           \n",
        "=================================================================\n",
        "\n"
       ]
      }
     ],
     "prompt_number": 13
    },
    {
     "cell_type": "markdown",
     "metadata": {},
     "source": [
      "Here is the same model fit using LMER in R:"
     ]
    },
    {
     "cell_type": "markdown",
     "metadata": {},
     "source": [
      "    Linear mixed model fit by REML \n",
      "    Formula: Weight ~ Time + (1 + Time | Pig) \n",
      "       Data: data \n",
      "      AIC  BIC logLik deviance REMLdev\n",
      "     4446 4475  -2217     4432    4434\n",
      "    Random effects:\n",
      "     Groups   Name        Variance Std.Dev. Corr  \n",
      "     Pig      (Intercept) 19.49346 4.41514        \n",
      "              Time         0.41606 0.64503  0.103 \n",
      "     Residual              6.03745 2.45712        \n",
      "    Number of obs: 861, groups: Pig, 72\n",
      "    Fixed effects:\n",
      "                Estimate Std. Error t value\n",
      "    (Intercept) 15.73865    0.55013   28.61\n",
      "    Time         6.93901    0.07982   86.93\n",
      "    Correlation of Fixed Effects:\n",
      "         (Intr)\n",
      "    Time 0.005 "
     ]
    },
    {
     "cell_type": "markdown",
     "metadata": {},
     "source": [
      "The random intercept and random slope are only weakly correlated (0.294 / sqrt(19.493 * 0.416) ~ 0.1).  So next we fit a model in which the two random effects are constrained to be uncorrelated:"
     ]
    },
    {
     "cell_type": "code",
     "collapsed": false,
     "input": [
      "from statsmodels.regression.mixed_linear_model import MixedLMParams\n",
      "\n",
      "model = sm.MixedLM.from_formula(\"Weight ~ Time\", data, re_formula=\"Time\", groups=data[\"Pig\"])\n",
      "free = MixedLMParams(2, 2)\n",
      "free.set_fe_params(np.ones(2))\n",
      "free.set_cov_re(np.eye(2))\n",
      "result = model.fit(free=free)\n",
      "print result.summary()"
     ],
     "language": "python",
     "metadata": {},
     "outputs": [
      {
       "output_type": "stream",
       "stream": "stdout",
       "text": [
        "              Mixed Linear Model Regression Results\n",
        "=================================================================\n",
        "Model:               MixedLM    Dependent Variable:    Weight    \n",
        "No. Observations:    861        Method:                REML      \n",
        "No. Groups:          72         Scale:                 6.0281    \n",
        "Min. group size:     11         Likelihood:            -2217.3481\n",
        "Max. group size:     12         Converged:             Yes       \n",
        "Mean group size:     12.0                                        \n",
        "-----------------------------------------------------------------\n",
        "                       Coef.  Std.Err.   z    P>|z| [0.025 0.975]\n",
        "-----------------------------------------------------------------\n",
        "Intercept              15.740    0.554 28.385 0.000 14.653 16.827\n",
        "Time                    6.939    0.080 86.248 0.000  6.781  7.097\n",
        "Intercept RE           19.845    1.584                           \n",
        "Intercept RE x Time RE  0.000    0.000                           \n",
        "Time RE                 0.423    0.033                           \n",
        "=================================================================\n",
        "\n"
       ]
      }
     ],
     "prompt_number": 14
    },
    {
     "cell_type": "markdown",
     "metadata": {},
     "source": [
      "The likelihood drops by 0.3 when we fix the correlation parameter to 0.  Comparing 2 x 0.3 = 0.6 to the chi^2 1 df reference distribution suggests that the data are very consistent with a model in which this parameter is equal to 0.  \n",
      "\n",
      "Here is the same model fit using LMER in R (note that here R is reporting the REML criterion instead of the likelihood, where the REML criterion is twice the log likeihood):"
     ]
    },
    {
     "cell_type": "markdown",
     "metadata": {},
     "source": [
      "    Linear mixed model fit by REML ['lmerMod']\n",
      "    Formula: Weight ~ Time + (1 | Pig) + (0 + Time | Pig)\n",
      "       Data: data\n",
      "    REML criterion at convergence: 4434.7\n",
      "    Scaled residuals: \n",
      "        Min      1Q  Median      3Q     Max \n",
      "    -6.4281 -0.5527 -0.0405  0.4840  3.5661 \n",
      "    Random effects:\n",
      "     Groups   Name        Variance Std.Dev.\n",
      "     Pig      (Intercept) 19.8409  4.4543  \n",
      "     Pig.1    Time         0.4234  0.6507  \n",
      "     Residual              6.0282  2.4552  \n",
      "    Number of obs: 861, groups: Pig, 72\n",
      "    Fixed effects:\n",
      "                Estimate Std. Error t value\n",
      "    (Intercept) 15.73875    0.55445   28.39\n",
      "    Time         6.93899    0.08045   86.25\n",
      "    Correlation of Fixed Effects:\n",
      "         (Intr)\n",
      "    Time -0.086"
     ]
    },
    {
     "cell_type": "markdown",
     "metadata": {},
     "source": [
      "## Sitka growth data\n",
      "\n",
      "This is one of the example data sets provided in the LMER R library.  The outcome variable is the size of the tree, and the covariate used here is a time value.  The data are grouped by tree."
     ]
    },
    {
     "cell_type": "code",
     "collapsed": false,
     "input": [
      "data = pd.read_csv(\"Sitka.csv\")\n",
      "endog = data[\"size\"]\n",
      "exog = np.ones((data.shape[0], 2), dtype=np.float64)\n",
      "exog[:,1] = data[\"Time\"]\n",
      "exog = pd.DataFrame(data=exog)\n",
      "exog.columns = [\"Intercept\", \"Time\"]"
     ],
     "language": "python",
     "metadata": {},
     "outputs": [],
     "prompt_number": 15
    },
    {
     "cell_type": "markdown",
     "metadata": {},
     "source": [
      "Here is the statsmodels LME fit for a basic model with a random intercept.  We are passing the endog and exog data directly to the LME init function as arrays.  Also note that endog_re is specified explicitly in argument 4 as a random intercept (although this would also be the default if it were not specified)."
     ]
    },
    {
     "cell_type": "code",
     "collapsed": false,
     "input": [
      "model = sm.MixedLM(endog, exog, data[\"tree\"], exog.iloc[:,0])\n",
      "result = model.fit()\n",
      "print result.summary()"
     ],
     "language": "python",
     "metadata": {},
     "outputs": [
      {
       "output_type": "stream",
       "stream": "stdout",
       "text": [
        "         Mixed Linear Model Regression Results\n",
        "======================================================\n",
        "Model:            MixedLM Dependent Variable: size    \n",
        "No. Observations: 395     Method:             REML    \n",
        "No. Groups:       79      Scale:              0.0392  \n",
        "Min. group size:  5       Likelihood:         -82.3884\n",
        "Max. group size:  5       Converged:          Yes     \n",
        "Mean group size:  5.0                                 \n",
        "------------------------------------------------------\n",
        "             Coef. Std.Err.   z    P>|z| [0.025 0.975]\n",
        "------------------------------------------------------\n",
        "Intercept    2.273    0.088 25.863 0.000  2.101  2.446\n",
        "Time         0.013    0.000 47.796 0.000  0.012  0.013\n",
        "Intercept RE 0.375    0.348                           \n",
        "======================================================\n",
        "\n"
       ]
      }
     ],
     "prompt_number": 17
    },
    {
     "cell_type": "markdown",
     "metadata": {},
     "source": [
      "Here is the same model fit in R using LMER:"
     ]
    },
    {
     "cell_type": "markdown",
     "metadata": {},
     "source": [
      "    Linear mixed model fit by REML \n",
      "    Formula: size ~ Time + (1 | tree) \n",
      "       Data: Sitka \n",
      "       AIC   BIC logLik deviance REMLdev\n",
      "     172.8 188.7 -82.39    146.6   164.8\n",
      "    Random effects:\n",
      "     Groups   Name        Variance Std.Dev.\n",
      "     tree     (Intercept) 0.374512 0.61197 \n",
      "     Residual             0.039206 0.19800 \n",
      "    Number of obs: 395, groups: tree, 79\n",
      "    Fixed effects:\n",
      "                 Estimate Std. Error t value\n",
      "    (Intercept) 2.2732443  0.0878948   25.86\n",
      "    Time        0.0126855  0.0002654   47.80\n",
      "    Correlation of Fixed Effects:\n",
      "         (Intr)\n",
      "    Time -0.611"
     ]
    },
    {
     "cell_type": "markdown",
     "metadata": {},
     "source": [
      "We can now try to add a random slope.  We start with R this time.  From the code and output below we see that the REML estimate of the variance of the random slope is nearly zero."
     ]
    },
    {
     "cell_type": "markdown",
     "metadata": {},
     "source": [
      "    Linear mixed model fit by REML \n",
      "    Formula: size ~ Time + (1 + Time | tree) \n",
      "       Data: Sitka \n",
      "       AIC   BIC logLik deviance REMLdev\n",
      "     176.6 200.4 -82.28    146.4   164.6\n",
      "    Random effects:\n",
      "     Groups   Name        Variance   Std.Dev.   Corr  \n",
      "     tree     (Intercept) 3.4418e-01 0.58666576       \n",
      "              Time        1.5640e-08 0.00012506 1.000 \n",
      "     Residual             3.9179e-02 0.19793693       \n",
      "    Number of obs: 395, groups: tree, 79\n",
      "    Fixed effects:\n",
      "                 Estimate Std. Error t value\n",
      "    (Intercept) 2.2732443  0.0856713   26.53\n",
      "    Time        0.0126855  0.0002657   47.75\n",
      "    Correlation of Fixed Effects:\n",
      "         (Intr)\n",
      "    Time -0.585"
     ]
    },
    {
     "cell_type": "markdown",
     "metadata": {},
     "source": [
      "If we run this in statsmodels LME with defaults, we see that the variance estimate is indeed very small, which leads to a warning about the solution being on the boundary of the parameter space.  The regression slopes agree very well with R, but the likelihood value is much higher than that returned by R."
     ]
    },
    {
     "cell_type": "code",
     "collapsed": false,
     "input": [
      "exog_re = np.asarray(exog.copy())\n",
      "model = sm.MixedLM(endog, exog, data[\"tree\"], exog_re)\n",
      "result = model.fit()\n",
      "print result.summary()"
     ],
     "language": "python",
     "metadata": {},
     "outputs": [
      {
       "output_type": "stream",
       "stream": "stdout",
       "text": [
        "          Mixed Linear Model Regression Results\n",
        "========================================================\n",
        "Model:              MixedLM Dependent Variable: size    \n",
        "No. Observations:   395     Method:             REML    \n",
        "No. Groups:         79      Scale:              0.0264  \n",
        "Min. group size:    5       Likelihood:         -62.4834\n",
        "Max. group size:    5       Converged:          Yes     \n",
        "Mean group size:    5.0                                 \n",
        "--------------------------------------------------------\n",
        "              Coef.  Std.Err.   z    P>|z| [0.025 0.975]\n",
        "--------------------------------------------------------\n",
        "Intercept      2.273    0.101 22.513 0.000  2.075  2.471\n",
        "Time           0.013    0.000 33.888 0.000  0.012  0.013\n",
        "Z1 RE          0.646    0.923                           \n",
        "Z1 RE x Z2 RE -0.001    0.003                           \n",
        "Z2 RE          0.000    0.000                           \n",
        "========================================================\n",
        "\n"
       ]
      }
     ],
     "prompt_number": 18
    },
    {
     "cell_type": "markdown",
     "metadata": {},
     "source": [
      "We can further explore the random effects struture by constructing plots of the profile likelihoods.  We start with the random intercept, generating a plot of the profile likelihood from 0.1 units below to 0.1 units above the MLE.  Since each optimization inside the profile likelihood generates a warning (due to the random slope variance being close to zero), we turn off the warnings here."
     ]
    },
    {
     "cell_type": "code",
     "collapsed": false,
     "input": [
      "import warnings\n",
      "warnings.filterwarnings(\"ignore\")\n",
      "\n",
      "re = result.cov_re.iloc[0, 0]\n",
      "likev = result.profile_re(0, dist_low=0.1, dist_high=0.1)"
     ],
     "language": "python",
     "metadata": {},
     "outputs": []
    },
    {
     "cell_type": "markdown",
     "metadata": {},
     "source": [
      "Here is a plot of the profile likelihood function.  We multiply the log-likelihood difference by 2 to obtain a chi^2 reference distribution with 1 degree of freedom."
     ]
    },
    {
     "cell_type": "code",
     "collapsed": false,
     "input": [
      "plt.figure(figsize=(10,8))\n",
      "plt.plot(likev[:,0], 2*likev[:,1])\n",
      "plt.xlabel(\"Variance of random slope\", size=17)\n",
      "plt.ylabel(\"-2 times profile log likelihood\", size=17)"
     ],
     "language": "python",
     "metadata": {},
     "outputs": [
      {
       "metadata": {},
       "output_type": "pyout",
       "prompt_number": 21,
       "text": [
        "<matplotlib.text.Text at 0x7fcbdb24cc10>"
       ]
      },
      {
       "metadata": {},
       "output_type": "display_data",
       "png": "iVBORw0KGgoAAAANSUhEUgAAAngAAAH8CAYAAABCXtJpAAAABHNCSVQICAgIfAhkiAAAAAlwSFlz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\njDGmMPwf9rIN0EOHJYEAAAAASUVORK5CYII=\n",
       "text": [
        "<matplotlib.figure.Figure at 0x7fcbd31d3090>"
       ]
      }
     ],
     "prompt_number": 21
    },
    {
     "cell_type": "markdown",
     "metadata": {},
     "source": [
      "Here is a plot of the profile likelihood function.  The profile likelihood plot shows that the MLE of the random slope variance parameter is a very small positive number, and that there is low uncertainty in this estimate."
     ]
    },
    {
     "cell_type": "code",
     "collapsed": false,
     "input": [
      "re = result.cov_re.iloc[1, 1]\n",
      "likev = result.profile_re(1, dist_low=0.8*re, dist_high=0.8*re)\n",
      "\n",
      "plt.figure(figsize=(10, 8))\n",
      "plt.plot(likev[:,0], 2*likev[:,1])\n",
      "plt.xlabel(\"Variance of random slope\", size=17)\n",
      "plt.ylabel(\"-2 times profile log likelihood\", size=17)"
     ],
     "language": "python",
     "metadata": {},
     "outputs": [
      {
       "metadata": {},
       "output_type": "pyout",
       "prompt_number": 22,
       "text": [
        "<matplotlib.text.Text at 0x7fcbd3036650>"
       ]
      },
      {
       "metadata": {},
       "output_type": "display_data",
       "png": "iVBORw0KGgoAAAANSUhEUgAAAogAAAH2CAYAAADziX2WAAAABHNCSVQICAgIfAhkiAAAAAlwSFlz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\n",
       "text": [
        "<matplotlib.figure.Figure at 0x7fcbd31d3a10>"
       ]
      }
     ]
    }
   ],
   "metadata": {}
  }
 ]
}
=======
 "cells": [
  {
   "cell_type": "markdown",
   "metadata": {
    "application/vnd.databricks.v1+cell": {
     "cellMetadata": {},
     "inputWidgets": {},
     "nuid": "8fa5ab7f-e87b-47cb-8a06-32553034bd47",
     "showTitle": false,
     "title": ""
    }
   },
   "source": [
    "Comparing R lmer to Statsmodels MixedLM\n",
    "=======================================\n",
    "\n",
    "The Statsmodels imputation of linear mixed models (MixedLM) closely follows the approach outlined in Lindstrom and Bates (JASA 1988).  This is also the approach followed in the  R package LME4.  Other packages such as Stata, SAS, etc. should also be consistent with this approach, as the basic techniques in this area are mostly mature.\n",
    "\n",
    "Here we show how linear mixed models can be fit using the MixedLM procedure in Statsmodels.  Results from R (LME4) are included for comparison.  \n",
    "\n",
    "Here are our import statements:"
   ]
  },
  {
   "cell_type": "code",
   "execution_count": 0,
   "metadata": {
    "application/vnd.databricks.v1+cell": {
     "cellMetadata": {},
     "inputWidgets": {},
     "nuid": "9850c66d-6cca-4016-a2a7-a7d5f47462bd",
     "showTitle": false,
     "title": ""
    }
   },
   "outputs": [],
   "source": [
    "import numpy as np\n",
    "import pandas as pd\n",
    "import statsmodels.api as sm"
   ]
  },
  {
   "cell_type": "markdown",
   "metadata": {
    "application/vnd.databricks.v1+cell": {
     "cellMetadata": {},
     "inputWidgets": {},
     "nuid": "97840ac7-aadd-4427-9ed7-81a02a7f9053",
     "showTitle": false,
     "title": ""
    }
   },
   "source": [
    "## Growth curves of pigs\n",
    "\n",
    "These are longitudinal data from a factorial experiment. The outcome variable is the weight of each pig, and the only predictor variable we will use here is \"time\".  First we fit a model that expresses the mean weight as a linear function of time, with a random intercept for each pig. The model is specified using formulas. Since the random effects structure is not specified, the default random effects structure (a random intercept for each group) is automatically used."
   ]
  },
  {
   "cell_type": "code",
   "execution_count": 0,
   "metadata": {
    "application/vnd.databricks.v1+cell": {
     "cellMetadata": {},
     "inputWidgets": {},
     "nuid": "eda7a943-25a5-4cff-8701-aaeb721342a0",
     "showTitle": false,
     "title": ""
    }
   },
   "outputs": [],
   "source": [
    "data = pd.read_csv(\"dietox.csv\")\n",
    "model = sm.MixedLM.from_formula(\"Weight ~ Time\", data, groups=data[\"Pig\"])\n",
    "result = model.fit()\n",
    "print result.summary()"
   ]
  },
  {
   "cell_type": "markdown",
   "metadata": {
    "application/vnd.databricks.v1+cell": {
     "cellMetadata": {},
     "inputWidgets": {},
     "nuid": "681b7f4d-f997-4a7d-bc49-c7d5737ee016",
     "showTitle": false,
     "title": ""
    }
   },
   "source": [
    "Here is the same model fit in R using LMER:"
   ]
  },
  {
   "cell_type": "markdown",
   "metadata": {
    "application/vnd.databricks.v1+cell": {
     "cellMetadata": {},
     "inputWidgets": {},
     "nuid": "eb5920a2-8c29-4926-a2a3-dab6afec2c8f",
     "showTitle": false,
     "title": ""
    }
   },
   "source": [
    "Linear mixed model fit by REML \n",
    "    Formula: Weight ~ Time + (1 | Pig) \n",
    "       Data: data \n",
    "      AIC  BIC logLik deviance REMLdev\n",
    "     4818 4837  -2405     4806    4810\n",
    "    Random effects:\n",
    "     Groups   Name        Variance Std.Dev.\n",
    "     Pig      (Intercept) 40.394   6.3556  \n",
    "     Residual             11.367   3.3715  \n",
    "    Number of obs: 861, groups: Pig, 72\n",
    "    Fixed effects:\n",
    "                Estimate Std. Error t value\n",
    "    (Intercept) 15.72352    0.78805   19.95\n",
    "    Time         6.94251    0.03339  207.94\n",
    "    Correlation of Fixed Effects:\n",
    "         (Intr)\n",
    "    Time -0.275"
   ]
  },
  {
   "cell_type": "markdown",
   "metadata": {
    "application/vnd.databricks.v1+cell": {
     "cellMetadata": {},
     "inputWidgets": {},
     "nuid": "924d5b3f-ec63-4063-8fe2-64413dde90b1",
     "showTitle": false,
     "title": ""
    }
   },
   "source": [
    "Note that in the Statsmodels summary of results, the fixed effects and random effects parameter estimates are shown in a single table.  The random effects are labeled \"RE\" in the Statmodels output.  In the LME4 output, this effect is the pig intercept under the random effects section.\n",
    "\n",
    "There has been a lot of debate about whether the standard errors for random effect variance and covariance parameters are useful.  In LME4, these standard errors are not displayed, because the authors of the package believe they are not very informative.  While there is good reason to question their utility, we elected to include the standard errors in the summary table, but do not show the corresponding Wald confidence intervals.\n",
    "\n",
    "Next we fit a model with two random effects for each animal: a random intercept, and a random slope (with respect to time).  This means that each pig may have a different baseline weight, as well as growing at a different rate. The formula specifies that \"Time\" is a covariate with a random coefficient.  By default, formulas always include an intercept (which could be suppressed here using \"0 + Time\" as the formula)."
   ]
  },
  {
   "cell_type": "code",
   "execution_count": 0,
   "metadata": {
    "application/vnd.databricks.v1+cell": {
     "cellMetadata": {},
     "inputWidgets": {},
     "nuid": "9cb8394e-19ef-4c51-b5a4-bebc652e92b2",
     "showTitle": false,
     "title": ""
    }
   },
   "outputs": [],
   "source": [
    "model = sm.MixedLM.from_formula(\"Weight ~ Time\", data, re_formula=\"Time\", groups=data[\"Pig\"])\n",
    "result = model.fit()\n",
    "print result.summary()"
   ]
  },
  {
   "cell_type": "markdown",
   "metadata": {
    "application/vnd.databricks.v1+cell": {
     "cellMetadata": {},
     "inputWidgets": {},
     "nuid": "f7879b31-beb9-4673-b64e-b8ef2ebd90ba",
     "showTitle": false,
     "title": ""
    }
   },
   "source": [
    "Here is the same model fit using LMER in R:"
   ]
  },
  {
   "cell_type": "markdown",
   "metadata": {
    "application/vnd.databricks.v1+cell": {
     "cellMetadata": {},
     "inputWidgets": {},
     "nuid": "c2541d9a-48cb-4952-8ac6-97e932f1d89e",
     "showTitle": false,
     "title": ""
    }
   },
   "source": [
    "Linear mixed model fit by REML \n",
    "    Formula: Weight ~ Time + (1 + Time | Pig) \n",
    "       Data: data \n",
    "      AIC  BIC logLik deviance REMLdev\n",
    "     4446 4475  -2217     4432    4434\n",
    "    Random effects:\n",
    "     Groups   Name        Variance Std.Dev. Corr  \n",
    "     Pig      (Intercept) 19.49346 4.41514        \n",
    "              Time         0.41606 0.64503  0.103 \n",
    "     Residual              6.03745 2.45712        \n",
    "    Number of obs: 861, groups: Pig, 72\n",
    "    Fixed effects:\n",
    "                Estimate Std. Error t value\n",
    "    (Intercept) 15.73865    0.55013   28.61\n",
    "    Time         6.93901    0.07982   86.93\n",
    "    Correlation of Fixed Effects:\n",
    "         (Intr)\n",
    "    Time 0.005"
   ]
  },
  {
   "cell_type": "markdown",
   "metadata": {
    "application/vnd.databricks.v1+cell": {
     "cellMetadata": {},
     "inputWidgets": {},
     "nuid": "71016677-ada4-493b-93e6-f11efcdcc24e",
     "showTitle": false,
     "title": ""
    }
   },
   "source": [
    "The random intercept and random slope are only weakly correlated (0.294 / sqrt(19.493 * 0.416) ~ 0.1).  So next we fit a model in which the two random effects are constrained to be uncorrelated:"
   ]
  },
  {
   "cell_type": "code",
   "execution_count": 0,
   "metadata": {
    "application/vnd.databricks.v1+cell": {
     "cellMetadata": {},
     "inputWidgets": {},
     "nuid": "244793f2-2cfe-4e94-aea5-edb67d3240dc",
     "showTitle": false,
     "title": ""
    }
   },
   "outputs": [],
   "source": [
    "from statsmodels.regression.mixed_linear_model import MixedLMParams\n",
    "\n",
    "model = sm.MixedLM.from_formula(\"Weight ~ Time\", data, re_formula=\"Time\", groups=data[\"Pig\"])\n",
    "free = MixedLMParams(2, 2)\n",
    "free.set_fe_params(np.ones(2))\n",
    "free.set_cov_re(np.eye(2))\n",
    "result = model.fit(free=free)\n",
    "print result.summary()"
   ]
  },
  {
   "cell_type": "markdown",
   "metadata": {
    "application/vnd.databricks.v1+cell": {
     "cellMetadata": {},
     "inputWidgets": {},
     "nuid": "d1232b8d-4924-4d0c-9131-8295d030101e",
     "showTitle": false,
     "title": ""
    }
   },
   "source": [
    "The likelihood drops by 0.3 when we fix the correlation parameter to 0.  Comparing 2 x 0.3 = 0.6 to the chi^2 1 df reference distribution suggests that the data are very consistent with a model in which this parameter is equal to 0.  \n",
    "\n",
    "Here is the same model fit using LMER in R (note that here R is reporting the REML criterion instead of the likelihood, where the REML criterion is twice the log likeihood):"
   ]
  },
  {
   "cell_type": "markdown",
   "metadata": {
    "application/vnd.databricks.v1+cell": {
     "cellMetadata": {},
     "inputWidgets": {},
     "nuid": "78284712-470b-4820-ab17-b59a35aad6af",
     "showTitle": false,
     "title": ""
    }
   },
   "source": [
    "Linear mixed model fit by REML ['lmerMod']\n",
    "    Formula: Weight ~ Time + (1 | Pig) + (0 + Time | Pig)\n",
    "       Data: data\n",
    "    REML criterion at convergence: 4434.7\n",
    "    Scaled residuals: \n",
    "        Min      1Q  Median      3Q     Max \n",
    "    -6.4281 -0.5527 -0.0405  0.4840  3.5661 \n",
    "    Random effects:\n",
    "     Groups   Name        Variance Std.Dev.\n",
    "     Pig      (Intercept) 19.8409  4.4543  \n",
    "     Pig.1    Time         0.4234  0.6507  \n",
    "     Residual              6.0282  2.4552  \n",
    "    Number of obs: 861, groups: Pig, 72\n",
    "    Fixed effects:\n",
    "                Estimate Std. Error t value\n",
    "    (Intercept) 15.73875    0.55445   28.39\n",
    "    Time         6.93899    0.08045   86.25\n",
    "    Correlation of Fixed Effects:\n",
    "         (Intr)\n",
    "    Time -0.086"
   ]
  },
  {
   "cell_type": "markdown",
   "metadata": {
    "application/vnd.databricks.v1+cell": {
     "cellMetadata": {},
     "inputWidgets": {},
     "nuid": "cbd18843-e290-43dc-bc5e-43ac16b06488",
     "showTitle": false,
     "title": ""
    }
   },
   "source": [
    "## Sitka growth data\n",
    "\n",
    "This is one of the example data sets provided in the LMER R library.  The outcome variable is the size of the tree, and the covariate used here is a time value.  The data are grouped by tree."
   ]
  },
  {
   "cell_type": "code",
   "execution_count": 0,
   "metadata": {
    "application/vnd.databricks.v1+cell": {
     "cellMetadata": {},
     "inputWidgets": {},
     "nuid": "be2330fe-fa37-4950-bb0d-a6712d6a6894",
     "showTitle": false,
     "title": ""
    }
   },
   "outputs": [],
   "source": [
    "data = pd.read_csv(\"Sitka.csv\")\n",
    "endog = data[\"size\"]\n",
    "exog = np.ones((data.shape[0], 2), dtype=np.float64)\n",
    "exog[:,1] = data[\"Time\"]\n",
    "exog = pd.DataFrame(data=exog)\n",
    "exog.columns = [\"Intercept\", \"Time\"]"
   ]
  },
  {
   "cell_type": "markdown",
   "metadata": {
    "application/vnd.databricks.v1+cell": {
     "cellMetadata": {},
     "inputWidgets": {},
     "nuid": "5153c3f3-7953-475d-b833-7a4fd22c581a",
     "showTitle": false,
     "title": ""
    }
   },
   "source": [
    "Here is the statsmodels LME fit for a basic model with a random intercept.  We are passing the endog and exog data directly to the LME init function as arrays.  Also note that endog_re is specified explicitly in argument 4 as a random intercept (although this would also be the default if it were not specified)."
   ]
  },
  {
   "cell_type": "code",
   "execution_count": 0,
   "metadata": {
    "application/vnd.databricks.v1+cell": {
     "cellMetadata": {},
     "inputWidgets": {},
     "nuid": "3ec210e1-66ae-4256-a133-a98544730370",
     "showTitle": false,
     "title": ""
    }
   },
   "outputs": [],
   "source": [
    "model = sm.MixedLM(endog, exog, data[\"tree\"], exog.iloc[:,0])\n",
    "result = model.fit()\n",
    "print result.summary()"
   ]
  },
  {
   "cell_type": "markdown",
   "metadata": {
    "application/vnd.databricks.v1+cell": {
     "cellMetadata": {},
     "inputWidgets": {},
     "nuid": "695d5f92-8485-4d3c-8884-b6c2d021054a",
     "showTitle": false,
     "title": ""
    }
   },
   "source": [
    "Here is the same model fit in R using LMER:"
   ]
  },
  {
   "cell_type": "markdown",
   "metadata": {
    "application/vnd.databricks.v1+cell": {
     "cellMetadata": {},
     "inputWidgets": {},
     "nuid": "2c8aea74-f253-4725-844a-f03048828a39",
     "showTitle": false,
     "title": ""
    }
   },
   "source": [
    "Linear mixed model fit by REML \n",
    "    Formula: size ~ Time + (1 | tree) \n",
    "       Data: Sitka \n",
    "       AIC   BIC logLik deviance REMLdev\n",
    "     172.8 188.7 -82.39    146.6   164.8\n",
    "    Random effects:\n",
    "     Groups   Name        Variance Std.Dev.\n",
    "     tree     (Intercept) 0.374512 0.61197 \n",
    "     Residual             0.039206 0.19800 \n",
    "    Number of obs: 395, groups: tree, 79\n",
    "    Fixed effects:\n",
    "                 Estimate Std. Error t value\n",
    "    (Intercept) 2.2732443  0.0878948   25.86\n",
    "    Time        0.0126855  0.0002654   47.80\n",
    "    Correlation of Fixed Effects:\n",
    "         (Intr)\n",
    "    Time -0.611"
   ]
  },
  {
   "cell_type": "markdown",
   "metadata": {
    "application/vnd.databricks.v1+cell": {
     "cellMetadata": {},
     "inputWidgets": {},
     "nuid": "52d9f709-d241-4da4-be37-10cf9b58e146",
     "showTitle": false,
     "title": ""
    }
   },
   "source": [
    "We can now try to add a random slope.  We start with R this time.  From the code and output below we see that the REML estimate of the variance of the random slope is nearly zero."
   ]
  },
  {
   "cell_type": "markdown",
   "metadata": {
    "application/vnd.databricks.v1+cell": {
     "cellMetadata": {},
     "inputWidgets": {},
     "nuid": "c1b12227-7235-4707-8962-686b3d1046f6",
     "showTitle": false,
     "title": ""
    }
   },
   "source": [
    "Linear mixed model fit by REML \n",
    "    Formula: size ~ Time + (1 + Time | tree) \n",
    "       Data: Sitka \n",
    "       AIC   BIC logLik deviance REMLdev\n",
    "     176.6 200.4 -82.28    146.4   164.6\n",
    "    Random effects:\n",
    "     Groups   Name        Variance   Std.Dev.   Corr  \n",
    "     tree     (Intercept) 3.4418e-01 0.58666576       \n",
    "              Time        1.5640e-08 0.00012506 1.000 \n",
    "     Residual             3.9179e-02 0.19793693       \n",
    "    Number of obs: 395, groups: tree, 79\n",
    "    Fixed effects:\n",
    "                 Estimate Std. Error t value\n",
    "    (Intercept) 2.2732443  0.0856713   26.53\n",
    "    Time        0.0126855  0.0002657   47.75\n",
    "    Correlation of Fixed Effects:\n",
    "         (Intr)\n",
    "    Time -0.585"
   ]
  },
  {
   "cell_type": "markdown",
   "metadata": {
    "application/vnd.databricks.v1+cell": {
     "cellMetadata": {},
     "inputWidgets": {},
     "nuid": "6f10cb82-7711-450a-b465-3dcbfce9e270",
     "showTitle": false,
     "title": ""
    }
   },
   "source": [
    "If we run this in statsmodels LME with defaults, we see that the variance estimate is indeed very small, which leads to a warning about the solution being on the boundary of the parameter space.  The regression slopes agree very well with R, but the likelihood value is much higher than that returned by R."
   ]
  },
  {
   "cell_type": "code",
   "execution_count": 0,
   "metadata": {
    "application/vnd.databricks.v1+cell": {
     "cellMetadata": {},
     "inputWidgets": {},
     "nuid": "33190d6f-b4fb-4d89-95ce-5a988134a41d",
     "showTitle": false,
     "title": ""
    }
   },
   "outputs": [],
   "source": [
    "exog_re = np.asarray(exog.copy())\n",
    "model = sm.MixedLM(endog, exog, data[\"tree\"], exog_re)\n",
    "result = model.fit()\n",
    "print result.summary()"
   ]
  },
  {
   "cell_type": "markdown",
   "metadata": {
    "application/vnd.databricks.v1+cell": {
     "cellMetadata": {},
     "inputWidgets": {},
     "nuid": "72f70bbd-a4d9-429b-b615-39c0dc4e00e6",
     "showTitle": false,
     "title": ""
    }
   },
   "source": [
    "We can further explore the random effects struture by constructing plots of the profile likelihoods.  We start with the random intercept, generating a plot of the profile likelihood from 0.1 units below to 0.1 units above the MLE.  Since each optimization inside the profile likelihood generates a warning (due to the random slope variance being close to zero), we turn off the warnings here."
   ]
  },
  {
   "cell_type": "code",
   "execution_count": 0,
   "metadata": {
    "application/vnd.databricks.v1+cell": {
     "cellMetadata": {},
     "inputWidgets": {},
     "nuid": "c82eb2a1-cb6a-4723-ac2c-95a4751004dc",
     "showTitle": false,
     "title": ""
    }
   },
   "outputs": [],
   "source": [
    "import warnings\n",
    "warnings.filterwarnings(\"ignore\")\n",
    "\n",
    "re = result.cov_re.iloc[0, 0]\n",
    "likev = result.profile_re(0, dist_low=0.1, dist_high=0.1)"
   ]
  },
  {
   "cell_type": "markdown",
   "metadata": {
    "application/vnd.databricks.v1+cell": {
     "cellMetadata": {},
     "inputWidgets": {},
     "nuid": "4cf80899-062b-4029-946e-7d32e02a3d75",
     "showTitle": false,
     "title": ""
    }
   },
   "source": [
    "Here is a plot of the profile likelihood function.  We multiply the log-likelihood difference by 2 to obtain a chi^2 reference distribution with 1 degree of freedom."
   ]
  },
  {
   "cell_type": "code",
   "execution_count": 0,
   "metadata": {
    "application/vnd.databricks.v1+cell": {
     "cellMetadata": {},
     "inputWidgets": {},
     "nuid": "bcb04ad1-9cbe-4c77-9ffa-508009e9740b",
     "showTitle": false,
     "title": ""
    }
   },
   "outputs": [],
   "source": [
    "plt.figure(figsize=(10,8))\n",
    "plt.plot(likev[:,0], 2*likev[:,1])\n",
    "plt.xlabel(\"Variance of random slope\", size=17)\n",
    "plt.ylabel(\"-2 times profile log likelihood\", size=17)"
   ]
  },
  {
   "cell_type": "markdown",
   "metadata": {
    "application/vnd.databricks.v1+cell": {
     "cellMetadata": {},
     "inputWidgets": {},
     "nuid": "2547a569-ff75-4b28-8b77-0fd319fac60e",
     "showTitle": false,
     "title": ""
    }
   },
   "source": [
    "Here is a plot of the profile likelihood function.  The profile likelihood plot shows that the MLE of the random slope variance parameter is a very small positive number, and that there is low uncertainty in this estimate."
   ]
  },
  {
   "cell_type": "code",
   "execution_count": 0,
   "metadata": {
    "application/vnd.databricks.v1+cell": {
     "cellMetadata": {},
     "inputWidgets": {},
     "nuid": "3eccbb98-a2a8-42b1-a70b-a20db5bb9449",
     "showTitle": false,
     "title": ""
    }
   },
   "outputs": [],
   "source": [
    "re = result.cov_re.iloc[1, 1]\n",
    "likev = result.profile_re(1, dist_low=0.8*re, dist_high=0.8*re)\n",
    "\n",
    "plt.figure(figsize=(10, 8))\n",
    "plt.plot(likev[:,0], 2*likev[:,1])\n",
    "plt.xlabel(\"Variance of random slope\", size=17)\n",
    "plt.ylabel(\"-2 times profile log likelihood\", size=17)"
   ]
  }
 ],
 "metadata": {
  "application/vnd.databricks.v1+notebook": {
   "dashboards": [],
   "language": "python",
   "notebookMetadata": {},
   "notebookName": "LME examples",
   "widgets": {}
  },
  "name": "",
  "signature": "sha256:a2987751168b2a2c88f7bf017ea883b3f4eb32445c3287e08ddfb50e481ce78d"
 },
 "nbformat": 4,
 "nbformat_minor": 0
}
>>>>>>> Stashed changes
