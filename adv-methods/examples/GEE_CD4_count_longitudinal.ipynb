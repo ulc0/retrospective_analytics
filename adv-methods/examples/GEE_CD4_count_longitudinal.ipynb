{
 "cells": [
  {
   "cell_type": "markdown",
<<<<<<< Updated upstream
   "metadata": {},
=======
   "metadata": {
    "application/vnd.databricks.v1+cell": {
     "cellMetadata": {},
     "inputWidgets": {},
     "nuid": "15fe682b-cf98-4e09-80a5-679540cf2f99",
     "showTitle": false,
     "title": ""
    }
   },
>>>>>>> Stashed changes
   "source": [
    "Generalized Estimating Equations \n",
    "================================\n",
    "\n",
<<<<<<< Updated upstream
    "*Key ideas:* Gaussian GEE, longitudinal data, exchangeable dependence, autoregressive dependence "
=======
    "*Key ideas:* Gaussian GEE, longitudinal data, exchangeable dependence, autoregressive dependence"
>>>>>>> Stashed changes
   ]
  },
  {
   "cell_type": "markdown",
<<<<<<< Updated upstream
   "metadata": {},
=======
   "metadata": {
    "application/vnd.databricks.v1+cell": {
     "cellMetadata": {},
     "inputWidgets": {},
     "nuid": "ac622c1c-cdad-4e30-aa66-baff76514007",
     "showTitle": false,
     "title": ""
    }
   },
>>>>>>> Stashed changes
   "source": [
    "In this notebook, we analyze a longitudinal data set of CD4 counts for children with HIV.  The children are assigned to one of two treatment arms.  In addition, each child may or may not be on anti-retroviral therapy (ART).  There are various ways to approach modeling the data.  Here we will express the CD4 level as a function of the treatment group, ART status, and age at the time of the assessment.  The model that we fit is a \"marginal model\" that gives us the mean CD4 level for children of a given age, ART status, and treatment status.\n",
    "\n",
    "These data are discussed in Gelman and Hill's \"Data analysis using regression and multilevel/hierarchical models\" and have also been considered in many other places.  The data can be found at http://www.stat.columbia.edu/~gelman/arm/software/.\n",
    "\n",
    "We start with the basic import statements."
   ]
  },
  {
   "cell_type": "code",
<<<<<<< Updated upstream
   "execution_count": 1,
   "metadata": {
=======
   "execution_count": 0,
   "metadata": {
    "application/vnd.databricks.v1+cell": {
     "cellMetadata": {},
     "inputWidgets": {},
     "nuid": "a381a239-73a3-4427-8ab6-442c1395992d",
     "showTitle": false,
     "title": ""
    },
>>>>>>> Stashed changes
    "collapsed": false
   },
   "outputs": [],
   "source": [
    "import numpy as np\n",
    "import pandas as pd\n",
    "import datetime\n",
    "import statsmodels.api as sm\n",
    "import matplotlib.pyplot as plt\n",
    "\n",
    "%matplotlib inline"
   ]
  },
  {
   "cell_type": "markdown",
<<<<<<< Updated upstream
   "metadata": {},
=======
   "metadata": {
    "application/vnd.databricks.v1+cell": {
     "cellMetadata": {},
     "inputWidgets": {},
     "nuid": "d1fec680-f069-4cb7-893d-38dc07e726b0",
     "showTitle": false,
     "title": ""
    }
   },
>>>>>>> Stashed changes
   "source": [
    "First we load the data and take a peek at the first few rows."
   ]
  },
  {
   "cell_type": "code",
<<<<<<< Updated upstream
   "execution_count": 2,
   "metadata": {
    "collapsed": false
   },
   "outputs": [
    {
     "name": "stdout",
     "output_type": "stream",
     "text": [
      "   VISIT  newpid        VDATE  CD4PCT  arv    visage  treatmnt  CD4CNT  \\\n",
      "0      1       1   6/29/1988     18.0  0.0  3.910000         1   323.0   \n",
      "1      4       1   1/19/1989     37.0  0.0  4.468333         1   610.0   \n",
      "2      7       1   4/13/1989     13.0  0.0  4.698333         1   324.0   \n",
      "3     10       1          NaN     NaN  0.0  5.005000         1     NaN   \n",
      "4     13       1  11/30/1989     13.0  0.0  5.330833         1   626.0   \n",
      "\n",
      "   baseage  \n",
      "0     3.91  \n",
      "1     3.91  \n",
      "2     3.91  \n",
      "3     3.91  \n",
      "4     3.91  \n"
     ]
    }
   ],
=======
   "execution_count": 0,
   "metadata": {
    "application/vnd.databricks.v1+cell": {
     "cellMetadata": {},
     "inputWidgets": {},
     "nuid": "7f53627b-42e8-4112-8a00-d788dc2eb787",
     "showTitle": false,
     "title": ""
    },
    "collapsed": false
   },
   "outputs": [],
>>>>>>> Stashed changes
   "source": [
    "data = pd.read_csv(\"arm_cd4_allvar.csv\")\n",
    "print(data.head())"
   ]
  },
  {
   "cell_type": "markdown",
<<<<<<< Updated upstream
   "metadata": {},
=======
   "metadata": {
    "application/vnd.databricks.v1+cell": {
     "cellMetadata": {},
     "inputWidgets": {},
     "nuid": "43c37a1b-77a2-4264-82a0-3435cebca54e",
     "showTitle": false,
     "title": ""
    }
   },
>>>>>>> Stashed changes
   "source": [
    "Note that there are two treatment variables in the dataset.  One is the treatment of interest (`treatmnt`).  In addition, ARV treatment information was available and used as a control covariate.  The following crosstab shows how these two treatments are related."
   ]
  },
  {
   "cell_type": "code",
<<<<<<< Updated upstream
   "execution_count": 3,
   "metadata": {
    "collapsed": false
   },
   "outputs": [
    {
     "data": {
      "text/html": [
       "<div>\n",
       "<table border=\"1\" class=\"dataframe\">\n",
       "  <thead>\n",
       "    <tr style=\"text-align: right;\">\n",
       "      <th>arv</th>\n",
       "      <th>0.0</th>\n",
       "      <th>1.0</th>\n",
       "    </tr>\n",
       "    <tr>\n",
       "      <th>treatmnt</th>\n",
       "      <th></th>\n",
       "      <th></th>\n",
       "    </tr>\n",
       "  </thead>\n",
       "  <tbody>\n",
       "    <tr>\n",
       "      <th>1</th>\n",
       "      <td>561</td>\n",
       "      <td>53</td>\n",
       "    </tr>\n",
       "    <tr>\n",
       "      <th>2</th>\n",
       "      <td>464</td>\n",
       "      <td>46</td>\n",
       "    </tr>\n",
       "  </tbody>\n",
       "</table>\n",
       "</div>"
      ],
      "text/plain": [
       "arv       0.0  1.0\n",
       "treatmnt          \n",
       "1         561   53\n",
       "2         464   46"
      ]
     },
     "execution_count": 3,
     "metadata": {},
     "output_type": "execute_result"
    }
   ],
=======
   "execution_count": 0,
   "metadata": {
    "application/vnd.databricks.v1+cell": {
     "cellMetadata": {},
     "inputWidgets": {},
     "nuid": "c3220ccd-dd1c-4868-ae9f-94f24caccf77",
     "showTitle": false,
     "title": ""
    },
    "collapsed": false
   },
   "outputs": [],
>>>>>>> Stashed changes
   "source": [
    "pd.crosstab(data.treatmnt, data.arv)"
   ]
  },
  {
   "cell_type": "markdown",
<<<<<<< Updated upstream
   "metadata": {},
=======
   "metadata": {
    "application/vnd.databricks.v1+cell": {
     "cellMetadata": {},
     "inputWidgets": {},
     "nuid": "ed1de2b8-2dee-4f1c-a232-b1506759b628",
     "showTitle": false,
     "title": ""
    }
   },
>>>>>>> Stashed changes
   "source": [
    "Since there are missing values we will drop them (this is \"listwise deletion\" or \"complete case analysis\")."
   ]
  },
  {
   "cell_type": "code",
<<<<<<< Updated upstream
   "execution_count": 4,
   "metadata": {
=======
   "execution_count": 0,
   "metadata": {
    "application/vnd.databricks.v1+cell": {
     "cellMetadata": {},
     "inputWidgets": {},
     "nuid": "1d8e1d0d-99c6-44e6-bf8c-ab98f915c895",
     "showTitle": false,
     "title": ""
    },
>>>>>>> Stashed changes
    "collapsed": false
   },
   "outputs": [],
   "source": [
    "data = data.dropna()"
   ]
  },
  {
   "cell_type": "markdown",
<<<<<<< Updated upstream
   "metadata": {},
=======
   "metadata": {
    "application/vnd.databricks.v1+cell": {
     "cellMetadata": {},
     "inputWidgets": {},
     "nuid": "e7c7d93b-fe42-47cd-a328-df90c908db3e",
     "showTitle": false,
     "title": ""
    }
   },
>>>>>>> Stashed changes
   "source": [
    "We will need the age of the child at the time of the visit.  This takes a bit of date processing, since the data set only contains the age at the baseline visit, and the dates of all visits.  First we get the date of the first visit for each child."
   ]
  },
  {
   "cell_type": "code",
<<<<<<< Updated upstream
   "execution_count": 5,
   "metadata": {
    "collapsed": false
   },
   "outputs": [
    {
     "name": "stdout",
     "output_type": "stream",
     "text": [
      "   VISIT  newpid      VDATE  CD4PCT  arv    visage  treatmnt  CD4CNT  baseage  \\\n",
      "0      1       1 1988-06-29    18.0  0.0  3.910000         1   323.0     3.91   \n",
      "1      4       1 1989-01-19    37.0  0.0  4.468333         1   610.0     3.91   \n",
      "2      7       1 1989-04-13    13.0  0.0  4.698333         1   324.0     3.91   \n",
      "4     13       1 1989-11-30    13.0  0.0  5.330833         1   626.0     3.91   \n",
      "6     19       1 1990-06-07    12.0  1.0  5.848333         1   220.0     3.91   \n",
      "\n",
      "  FirstVisit    Day  \n",
      "0 1988-06-29    0.0  \n",
      "1 1988-06-29  204.0  \n",
      "2 1988-06-29  288.0  \n",
      "4 1988-06-29  519.0  \n",
      "6 1988-06-29  708.0  \n"
     ]
    }
   ],
=======
   "execution_count": 0,
   "metadata": {
    "application/vnd.databricks.v1+cell": {
     "cellMetadata": {},
     "inputWidgets": {},
     "nuid": "81ec14cb-6abb-41b7-a8e5-2aa40dad9264",
     "showTitle": false,
     "title": ""
    },
    "collapsed": false
   },
   "outputs": [],
>>>>>>> Stashed changes
   "source": [
    "data[\"VDATE\"] = pd.to_datetime(data[\"VDATE\"])\n",
    "data[\"FirstVisit\"] = data.groupby('newpid')[\"VDATE\"].transform(np.min)\n",
    "data[\"Day\"] = (data[\"VDATE\"] - data[\"FirstVisit\"]) / np.timedelta64(1, 'D')\n",
    "print(data.head())"
   ]
  },
  {
   "cell_type": "markdown",
<<<<<<< Updated upstream
   "metadata": {},
=======
   "metadata": {
    "application/vnd.databricks.v1+cell": {
     "cellMetadata": {},
     "inputWidgets": {},
     "nuid": "81c157ea-a0f1-4436-bf54-102113915c70",
     "showTitle": false,
     "title": ""
    }
   },
>>>>>>> Stashed changes
   "source": [
    "Now we can compute each child's age on the date of each visit."
   ]
  },
  {
   "cell_type": "code",
<<<<<<< Updated upstream
   "execution_count": 6,
   "metadata": {
    "collapsed": false
   },
   "outputs": [
    {
     "name": "stdout",
     "output_type": "stream",
     "text": [
      "   VISIT  newpid      VDATE  CD4PCT  arv    visage  treatmnt  CD4CNT  baseage  \\\n",
      "0      1       1 1988-06-29    18.0  0.0  3.910000         1   323.0     3.91   \n",
      "1      4       1 1989-01-19    37.0  0.0  4.468333         1   610.0     3.91   \n",
      "2      7       1 1989-04-13    13.0  0.0  4.698333         1   324.0     3.91   \n",
      "4     13       1 1989-11-30    13.0  0.0  5.330833         1   626.0     3.91   \n",
      "6     19       1 1990-06-07    12.0  1.0  5.848333         1   220.0     3.91   \n",
      "\n",
      "  FirstVisit    Day       Age  \n",
      "0 1988-06-29    0.0  3.910000  \n",
      "1 1988-06-29  204.0  4.468904  \n",
      "2 1988-06-29  288.0  4.699041  \n",
      "4 1988-06-29  519.0  5.331918  \n",
      "6 1988-06-29  708.0  5.849726  \n"
     ]
    }
   ],
=======
   "execution_count": 0,
   "metadata": {
    "application/vnd.databricks.v1+cell": {
     "cellMetadata": {},
     "inputWidgets": {},
     "nuid": "d7c4e188-8617-4d61-98fb-28caafaa51c6",
     "showTitle": false,
     "title": ""
    },
    "collapsed": false
   },
   "outputs": [],
>>>>>>> Stashed changes
   "source": [
    "data[\"Age\"] = data[\"baseage\"] + data[\"Day\"] / 365\n",
    "print(data.head())"
   ]
  },
  {
   "cell_type": "markdown",
<<<<<<< Updated upstream
   "metadata": {},
=======
   "metadata": {
    "application/vnd.databricks.v1+cell": {
     "cellMetadata": {},
     "inputWidgets": {},
     "nuid": "53eb8a06-d8d8-4b5c-99a8-59c0941a2af0",
     "showTitle": false,
     "title": ""
    }
   },
>>>>>>> Stashed changes
   "source": [
    "The dependent variable in a linear regression does not always have to be symmetrically distributed, but it is a good idea to check the marginal distribution before proceeding.  In this case it is reasonably symmetric."
   ]
  },
  {
   "cell_type": "code",
<<<<<<< Updated upstream
   "execution_count": 7,
   "metadata": {
    "collapsed": false
   },
   "outputs": [
    {
     "data": {
      "image/png": "iVBORw0KGgoAAAANSUhEUgAAAXoAAAEPCAYAAABMTw/iAAAABHNCSVQICAgIfAhkiAAAAAlwSFlz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\nNc6gl6TG/T/6VP+9NY+NvQAAAABJRU5ErkJggg==\n",
      "text/plain": [
       "<matplotlib.figure.Figure at 0x7f5394fba198>"
      ]
     },
     "metadata": {},
     "output_type": "display_data"
    }
   ],
=======
   "execution_count": 0,
   "metadata": {
    "application/vnd.databricks.v1+cell": {
     "cellMetadata": {},
     "inputWidgets": {},
     "nuid": "cae366e6-92b9-47cd-982b-1835c8f4c738",
     "showTitle": false,
     "title": ""
    },
    "collapsed": false
   },
   "outputs": [],
>>>>>>> Stashed changes
   "source": [
    "plt.hist(data.CD4PCT) \n",
    "_ = plt.xlabel(\"CD4PCT\")"
   ]
  },
  {
   "cell_type": "markdown",
<<<<<<< Updated upstream
   "metadata": {},
=======
   "metadata": {
    "application/vnd.databricks.v1+cell": {
     "cellMetadata": {},
     "inputWidgets": {},
     "nuid": "c5851463-26d9-42a5-9ae5-7c16c89442df",
     "showTitle": false,
     "title": ""
    }
   },
>>>>>>> Stashed changes
   "source": [
    "## GEE with independent working covariance\n",
    "\n",
    "Here is a very basic linear model that estimates the conditional mean CD4 percentage as a function of the subject's age at the time of the visit, the antiretroviral therapy status, and the treatment group.  Based on this analysis, older children seem to have lower CD4 levels, and children on ARV have higher CD4 levels, but there is no clear effect of the antiretroviral therapy."
   ]
  },
  {
   "cell_type": "code",
<<<<<<< Updated upstream
   "execution_count": 8,
   "metadata": {
    "collapsed": false
   },
   "outputs": [
    {
     "name": "stdout",
     "output_type": "stream",
     "text": [
      "                               GEE Regression Results                              \n",
      "===================================================================================\n",
      "Dep. Variable:                      CD4PCT   No. Observations:                  978\n",
      "Model:                                 GEE   No. clusters:                      226\n",
      "Method:                        Generalized   Min. cluster size:                   1\n",
      "                      Estimating Equations   Max. cluster size:                   7\n",
      "Family:                           Gaussian   Mean cluster size:                 4.3\n",
      "Dependence structure:         Independence   Num. iterations:                     2\n",
      "Date:                     Wed, 23 Mar 2016   Scale:                         171.820\n",
      "Covariance type:                    robust   Time:                         12:49:37\n",
      "==============================================================================\n",
      "                 coef    std err          z      P>|z|      [95.0% Conf. Int.]\n",
      "------------------------------------------------------------------------------\n",
      "Intercept     23.9086      2.997      7.977      0.000        18.034    29.783\n",
      "Age           -0.9923      0.373     -2.661      0.008        -1.723    -0.261\n",
      "arv            1.6919      2.070      0.817      0.414        -2.365     5.749\n",
      "treatmnt       2.7020      1.635      1.653      0.098        -0.503     5.907\n",
      "==============================================================================\n",
      "Skew:                          0.2773   Kurtosis:                      -0.3432\n",
      "Centered skew:                 0.2924   Centered kurtosis:              3.2945\n",
      "==============================================================================\n"
     ]
    }
   ],
=======
   "execution_count": 0,
   "metadata": {
    "application/vnd.databricks.v1+cell": {
     "cellMetadata": {},
     "inputWidgets": {},
     "nuid": "165c8edf-6148-4504-84ed-ecc73b4bc026",
     "showTitle": false,
     "title": ""
    },
    "collapsed": false
   },
   "outputs": [],
>>>>>>> Stashed changes
   "source": [
    "model1 = sm.GEE.from_formula(\"CD4PCT ~ Age + arv + treatmnt\", groups=\"newpid\", data=data)\n",
    "result1 = model1.fit()\n",
    "print(result1.summary())"
   ]
  },
  {
   "cell_type": "markdown",
<<<<<<< Updated upstream
   "metadata": {},
=======
   "metadata": {
    "application/vnd.databricks.v1+cell": {
     "cellMetadata": {},
     "inputWidgets": {},
     "nuid": "85a61298-bb48-42b6-8204-1e3f4dace1b3",
     "showTitle": false,
     "title": ""
    }
   },
>>>>>>> Stashed changes
   "source": [
    "This GEE estimate uses the default independence working covariance structure, so the coefficient estimates are the same as would be obtained from simple linear regression, although the standard errors are different.  We can check this by fitting the OLS estimates directly:"
   ]
  },
  {
   "cell_type": "code",
<<<<<<< Updated upstream
   "execution_count": 9,
   "metadata": {
    "collapsed": false
   },
   "outputs": [
    {
     "name": "stdout",
     "output_type": "stream",
     "text": [
      "                            OLS Regression Results                            \n",
      "==============================================================================\n",
      "Dep. Variable:                 CD4PCT   R-squared:                       0.041\n",
      "Model:                            OLS   Adj. R-squared:                  0.038\n",
      "Method:                 Least Squares   F-statistic:                     13.71\n",
      "Date:                Wed, 23 Mar 2016   Prob (F-statistic):           9.12e-09\n",
      "Time:                        12:49:37   Log-Likelihood:                -3902.3\n",
      "No. Observations:                 978   AIC:                             7813.\n",
      "Df Residuals:                     974   BIC:                             7832.\n",
      "Df Model:                           3                                         \n",
      "Covariance Type:            nonrobust                                         \n",
      "==============================================================================\n",
      "                 coef    std err          t      P>|t|      [95.0% Conf. Int.]\n",
      "------------------------------------------------------------------------------\n",
      "Intercept     23.9086      1.495     15.996      0.000        20.975    26.842\n",
      "Age           -0.9923      0.183     -5.421      0.000        -1.351    -0.633\n",
      "arv            1.6919      1.451      1.166      0.244        -1.155     4.539\n",
      "treatmnt       2.7020      0.842      3.209      0.001         1.050     4.354\n",
      "==============================================================================\n",
      "Omnibus:                       18.827   Durbin-Watson:                   0.803\n",
      "Prob(Omnibus):                  0.000   Jarque-Bera (JB):               17.333\n",
      "Skew:                           0.277   Prob(JB):                     0.000172\n",
      "Kurtosis:                       2.657   Cond. No.                         19.3\n",
      "==============================================================================\n",
      "\n",
      "Warnings:\n",
      "[1] Standard Errors assume that the covariance matrix of the errors is correctly specified.\n"
     ]
    }
   ],
=======
   "execution_count": 0,
   "metadata": {
    "application/vnd.databricks.v1+cell": {
     "cellMetadata": {},
     "inputWidgets": {},
     "nuid": "7db9f15f-b3bb-425a-968d-50b086b5fa06",
     "showTitle": false,
     "title": ""
    },
    "collapsed": false
   },
   "outputs": [],
>>>>>>> Stashed changes
   "source": [
    "model2 = sm.OLS.from_formula(\"CD4PCT ~ Age + arv + treatmnt\", data)\n",
    "result2 = model2.fit()\n",
    "print(result2.summary())"
   ]
  },
  {
   "cell_type": "markdown",
<<<<<<< Updated upstream
   "metadata": {},
=======
   "metadata": {
    "application/vnd.databricks.v1+cell": {
     "cellMetadata": {},
     "inputWidgets": {},
     "nuid": "f3adc082-d8a4-49d6-a21c-117983b79533",
     "showTitle": false,
     "title": ""
    }
   },
>>>>>>> Stashed changes
   "source": [
    "The default standard errors returned by GEE are the robust standard errors which account for the dependence among repeated measures taken on the same child.  We can override this and request the \"naive\" standard errors, which agree exactly with OLS (however generally this should not be done in practice).  Note that the robust standard errors are larger than the naive standard errors, which reflects the fact that there is usually less information in a data set with dependent values compared to a dataset with independent values."
   ]
  },
  {
   "cell_type": "code",
<<<<<<< Updated upstream
   "execution_count": 10,
   "metadata": {
    "collapsed": false
   },
   "outputs": [
    {
     "name": "stdout",
     "output_type": "stream",
     "text": [
      "                               GEE Regression Results                              \n",
      "===================================================================================\n",
      "Dep. Variable:                      CD4PCT   No. Observations:                  978\n",
      "Model:                                 GEE   No. clusters:                      226\n",
      "Method:                        Generalized   Min. cluster size:                   1\n",
      "                      Estimating Equations   Max. cluster size:                   7\n",
      "Family:                           Gaussian   Mean cluster size:                 4.3\n",
      "Dependence structure:         Independence   Num. iterations:                     2\n",
      "Date:                     Wed, 23 Mar 2016   Scale:                         171.820\n",
      "Covariance type:                     naive   Time:                         12:49:38\n",
      "==============================================================================\n",
      "                 coef    std err          z      P>|z|      [95.0% Conf. Int.]\n",
      "------------------------------------------------------------------------------\n",
      "Intercept     23.9086      1.495     15.996      0.000        20.979    26.838\n",
      "Age           -0.9923      0.183     -5.421      0.000        -1.351    -0.634\n",
      "arv            1.6919      1.451      1.166      0.243        -1.151     4.535\n",
      "treatmnt       2.7020      0.842      3.209      0.001         1.052     4.352\n",
      "==============================================================================\n",
      "Skew:                          0.2773   Kurtosis:                      -0.3432\n",
      "Centered skew:                 0.2924   Centered kurtosis:              3.2945\n",
      "==============================================================================\n"
     ]
    }
   ],
=======
   "execution_count": 0,
   "metadata": {
    "application/vnd.databricks.v1+cell": {
     "cellMetadata": {},
     "inputWidgets": {},
     "nuid": "927ff51c-7226-4ba8-9378-d2f6941fcc53",
     "showTitle": false,
     "title": ""
    },
    "collapsed": false
   },
   "outputs": [],
>>>>>>> Stashed changes
   "source": [
    "model3 = sm.GEE.from_formula(\"CD4PCT ~ Age + arv + treatmnt\", \"newpid\", data)\n",
    "result3 = model3.fit(cov_type='naive')\n",
    "print(result3.summary())"
   ]
  },
  {
   "cell_type": "markdown",
<<<<<<< Updated upstream
   "metadata": {},
=======
   "metadata": {
    "application/vnd.databricks.v1+cell": {
     "cellMetadata": {},
     "inputWidgets": {},
     "nuid": "a8ba1997-5bca-4e0a-9e9a-18ac3b86eb9b",
     "showTitle": false,
     "title": ""
    }
   },
>>>>>>> Stashed changes
   "source": [
    "## GEE with exchangeable covariance\n",
    "\n",
    "Next we use a GEE estimator with a more interesting covariance structure.  The exchangeable covariance structure treats all pairs of repeated measures on a subject as being equally correlated.  The parameter estimates (regression main effects) are now different from what we had above.  To the extent that the exchangeable covariance structure fits the data, these should be better (more statistically efficient) estimates."
   ]
  },
  {
   "cell_type": "code",
<<<<<<< Updated upstream
   "execution_count": 11,
   "metadata": {
    "collapsed": false
   },
   "outputs": [
    {
     "name": "stdout",
     "output_type": "stream",
     "text": [
      "                               GEE Regression Results                              \n",
      "===================================================================================\n",
      "Dep. Variable:                      CD4PCT   No. Observations:                  978\n",
      "Model:                                 GEE   No. clusters:                      226\n",
      "Method:                        Generalized   Min. cluster size:                   1\n",
      "                      Estimating Equations   Max. cluster size:                   7\n",
      "Family:                           Gaussian   Mean cluster size:                 4.3\n",
      "Dependence structure:         Exchangeable   Num. iterations:                    10\n",
      "Date:                     Wed, 23 Mar 2016   Scale:                         175.419\n",
      "Covariance type:                    robust   Time:                         12:49:38\n",
      "==============================================================================\n",
      "                 coef    std err          z      P>|z|      [95.0% Conf. Int.]\n",
      "------------------------------------------------------------------------------\n",
      "Intercept     27.4284      2.801      9.792      0.000        21.939    32.918\n",
      "Age           -1.7609      0.336     -5.244      0.000        -2.419    -1.103\n",
      "arv            1.9451      1.181      1.647      0.100        -0.369     4.260\n",
      "treatmnt       1.9567      1.569      1.247      0.212        -1.119     5.032\n",
      "==============================================================================\n",
      "Skew:                          0.2521   Kurtosis:                      -0.3788\n",
      "Centered skew:                 0.2914   Centered kurtosis:              3.3861\n",
      "==============================================================================\n"
     ]
    }
   ],
=======
   "execution_count": 0,
   "metadata": {
    "application/vnd.databricks.v1+cell": {
     "cellMetadata": {},
     "inputWidgets": {},
     "nuid": "79515fa1-e5a5-469a-b073-178a2eef7803",
     "showTitle": false,
     "title": ""
    },
    "collapsed": false
   },
   "outputs": [],
>>>>>>> Stashed changes
   "source": [
    "ex = sm.cov_struct.Exchangeable()\n",
    "model4 = sm.GEE.from_formula(\"CD4PCT ~ Age + arv + treatmnt\", groups=\"newpid\", data=data,\n",
    "         cov_struct=ex)\n",
    "result4 = model4.fit()\n",
    "print(result4.summary())"
   ]
  },
  {
   "cell_type": "markdown",
<<<<<<< Updated upstream
   "metadata": {},
=======
   "metadata": {
    "application/vnd.databricks.v1+cell": {
     "cellMetadata": {},
     "inputWidgets": {},
     "nuid": "22880138-4529-42e8-97ed-0b3fa0c0db0f",
     "showTitle": false,
     "title": ""
    }
   },
>>>>>>> Stashed changes
   "source": [
    "The covariance structure has a summary method that tells us that the observations within a subject are substantially correlated."
   ]
  },
  {
   "cell_type": "code",
<<<<<<< Updated upstream
   "execution_count": 12,
   "metadata": {
    "collapsed": false
   },
   "outputs": [
    {
     "name": "stdout",
     "output_type": "stream",
     "text": [
      "The correlation between two observations in the same cluster is 0.704\n"
     ]
    }
   ],
=======
   "execution_count": 0,
   "metadata": {
    "application/vnd.databricks.v1+cell": {
     "cellMetadata": {},
     "inputWidgets": {},
     "nuid": "3676fb40-66ef-453f-a650-1a69fb082787",
     "showTitle": false,
     "title": ""
    },
    "collapsed": false
   },
   "outputs": [],
>>>>>>> Stashed changes
   "source": [
    "print(ex.summary())"
   ]
  },
  {
   "cell_type": "markdown",
<<<<<<< Updated upstream
   "metadata": {},
=======
   "metadata": {
    "application/vnd.databricks.v1+cell": {
     "cellMetadata": {},
     "inputWidgets": {},
     "nuid": "fdba10d8-7e13-48f0-98f3-8700600fcd8f",
     "showTitle": false,
     "title": ""
    }
   },
>>>>>>> Stashed changes
   "source": [
    "## GEE with autoregressive covariance structure\n",
    "\n",
    "We can also fit the model using an autoregressive covariance structure, in which the errors become less dependent for pairs of CD4 values points that are further apart in time."
   ]
  },
  {
   "cell_type": "code",
<<<<<<< Updated upstream
   "execution_count": 13,
   "metadata": {
    "collapsed": false
   },
   "outputs": [
    {
     "name": "stdout",
     "output_type": "stream",
     "text": [
      "                               GEE Regression Results                              \n",
      "===================================================================================\n",
      "Dep. Variable:                      CD4PCT   No. Observations:                  978\n",
      "Model:                                 GEE   No. clusters:                      226\n",
      "Method:                        Generalized   Min. cluster size:                   1\n",
      "                      Estimating Equations   Max. cluster size:                   7\n",
      "Family:                           Gaussian   Mean cluster size:                 4.3\n",
      "Dependence structure:       Autoregressive   Num. iterations:                    11\n",
      "Date:                     Wed, 23 Mar 2016   Scale:                         171.898\n",
      "Covariance type:                    robust   Time:                         12:49:39\n",
      "==============================================================================\n",
      "                 coef    std err          z      P>|z|      [95.0% Conf. Int.]\n",
      "------------------------------------------------------------------------------\n",
      "Intercept     24.3002      2.861      8.493      0.000        18.693    29.908\n",
      "Age           -1.0563      0.356     -2.963      0.003        -1.755    -0.358\n",
      "arv            2.2118      1.370      1.615      0.106        -0.473     4.896\n",
      "treatmnt       2.4728      1.576      1.569      0.117        -0.616     5.562\n",
      "==============================================================================\n",
      "Skew:                          0.2707   Kurtosis:                      -0.3444\n",
      "Centered skew:                 0.2975   Centered kurtosis:              3.2915\n",
      "==============================================================================\n",
      "Autoregressive(1) dependence parameter: 0.492\n",
      "\n"
     ]
    }
   ],
=======
   "execution_count": 0,
   "metadata": {
    "application/vnd.databricks.v1+cell": {
     "cellMetadata": {},
     "inputWidgets": {},
     "nuid": "a37bc140-046a-4fae-b315-5cc8b9db4b21",
     "showTitle": false,
     "title": ""
    },
    "collapsed": false
   },
   "outputs": [],
>>>>>>> Stashed changes
   "source": [
    "ar = sm.cov_struct.Autoregressive()\n",
    "model5 = sm.GEE.from_formula(\"CD4PCT ~ Age + arv + treatmnt\", groups=\"newpid\", data=data, time=\"Age\",\n",
    "         cov_struct=ar)\n",
    "result5 = model5.fit()\n",
    "print(result5.summary())\n",
    "print(ar.summary())"
   ]
  },
  {
   "cell_type": "markdown",
<<<<<<< Updated upstream
   "metadata": {},
=======
   "metadata": {
    "application/vnd.databricks.v1+cell": {
     "cellMetadata": {},
     "inputWidgets": {},
     "nuid": "0d0eb2b2-5aa4-4946-a024-5fad4e2feaa6",
     "showTitle": false,
     "title": ""
    }
   },
>>>>>>> Stashed changes
   "source": [
    "One way to assess the fit of the covariance structure is to do a graphical analysis of the residuals, focusing on whether the errors become less dependent when spaced further in time.  Based on the following plot, the autocorrelation does not seem to drop with increasing age difference, so the exchangeable correlation structure may be more appropriate for this data set."
   ]
  },
  {
   "cell_type": "code",
<<<<<<< Updated upstream
   "execution_count": 14,
   "metadata": {
    "collapsed": false
   },
   "outputs": [
    {
     "data": {
      "text/plain": [
       "(0, 1)"
      ]
     },
     "execution_count": 14,
     "metadata": {},
     "output_type": "execute_result"
    },
    {
     "data": {
      "image/png": "iVBORw0KGgoAAAANSUhEUgAAAYMAAAEPCAYAAACgFqixAAAABHNCSVQICAgIfAhkiAAAAAlwSFlz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\nzMxwMjAzM5wMzMwM+P8BrYDxyQUsqgAAAABJRU5ErkJggg==\n",
      "text/plain": [
       "<matplotlib.figure.Figure at 0x7f538262c7f0>"
      ]
     },
     "metadata": {},
     "output_type": "display_data"
    }
   ],
=======
   "execution_count": 0,
   "metadata": {
    "application/vnd.databricks.v1+cell": {
     "cellMetadata": {},
     "inputWidgets": {},
     "nuid": "9b10daf3-cc9d-4a81-9c4e-92e7012b50f4",
     "showTitle": false,
     "title": ""
    },
    "collapsed": false
   },
   "outputs": [],
>>>>>>> Stashed changes
   "source": [
    "fig = result1.plot_isotropic_dependence()\n",
    "fig.get_axes()[0].set_ylim(0, 1)"
   ]
  },
  {
   "cell_type": "markdown",
<<<<<<< Updated upstream
   "metadata": {},
=======
   "metadata": {
    "application/vnd.databricks.v1+cell": {
     "cellMetadata": {},
     "inputWidgets": {},
     "nuid": "c767656d-2d98-41a2-abc1-14b3c8d2905d",
     "showTitle": false,
     "title": ""
    }
   },
>>>>>>> Stashed changes
   "source": [
    "We can also look at the relationship between fitted values and residuals to see if there is any evidence of a mean/variance relationship.  There is no such evidence here."
   ]
  },
  {
   "cell_type": "code",
<<<<<<< Updated upstream
   "execution_count": 15,
   "metadata": {
    "collapsed": false
   },
   "outputs": [
    {
     "data": {
      "text/plain": [
       "<matplotlib.text.Text at 0x7f5382138358>"
      ]
     },
     "execution_count": 15,
     "metadata": {},
     "output_type": "execute_result"
    },
    {
     "data": {
      "image/png": "iVBORw0KGgoAAAANSUhEUgAAAZMAAAEXCAYAAABoPamvAAAABHNCSVQICAgIfAhkiAAAAAlwSFlz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\nw4QzCYIgCBomnEkQBEHQMP8HCfHmfL3bwewAAAAASUVORK5CYII=\n",
      "text/plain": [
       "<matplotlib.figure.Figure at 0x7f5382169710>"
      ]
     },
     "metadata": {},
     "output_type": "display_data"
    }
   ],
=======
   "execution_count": 0,
   "metadata": {
    "application/vnd.databricks.v1+cell": {
     "cellMetadata": {},
     "inputWidgets": {},
     "nuid": "8d702a3a-2c4b-4e00-a78e-955757ca4162",
     "showTitle": false,
     "title": ""
    },
    "collapsed": false
   },
   "outputs": [],
>>>>>>> Stashed changes
   "source": [
    "plt.plot(result1.fittedvalues, result1.resid, 'o', alpha=0.5)\n",
    "plt.xlabel(\"Fitted values\", size=17)\n",
    "plt.ylabel(\"Residuals\", size=17)"
   ]
  }
 ],
 "metadata": {
<<<<<<< Updated upstream
=======
  "application/vnd.databricks.v1+notebook": {
   "dashboards": [],
   "language": "python",
   "notebookMetadata": {},
   "notebookName": "GEE_CD4_count_longitudinal",
   "widgets": {}
  },
>>>>>>> Stashed changes
  "kernelspec": {
   "display_name": "Anaconda (Python 3)",
   "language": "python",
   "name": "anaconda3"
  },
  "language_info": {
   "codemirror_mode": {
    "name": "ipython",
    "version": 3
   },
   "file_extension": ".py",
   "mimetype": "text/x-python",
   "name": "python",
   "nbconvert_exporter": "python",
   "pygments_lexer": "ipython3",
   "version": "3.5.1"
  },
  "name": "GEE_CD4_count_longitudinal.ipynb"
 },
 "nbformat": 4,
 "nbformat_minor": 0
}
