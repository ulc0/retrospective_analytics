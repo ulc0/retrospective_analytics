{
 "cells": [
  {
   "cell_type": "markdown",
<<<<<<< Updated upstream
   "metadata": {},
=======
   "metadata": {
    "application/vnd.databricks.v1+cell": {
     "cellMetadata": {},
     "inputWidgets": {},
     "nuid": "4e049c60-3ace-42f2-9e19-32cfbb4ccdf3",
     "showTitle": false,
     "title": ""
    }
   },
>>>>>>> Stashed changes
   "source": [
    "Fish abundance data\n",
    "===================\n",
    "\n",
    "This notebook demonstrates Poisson and negative binomial regression in Statsmodels.  We use a data set containing records of the number of fish caught at various sites in the ocean.  At each site, we have the depth at which the fish were caught, and the density of foliage at the site.  A description of the data is [here]( http://vincentarelbundock.github.io/Rdatasets/doc/COUNT/fishing.html), and the data are available [here](http://vincentarelbundock.github.io/Rdatasets/csv/COUNT/fishing.csv).\n",
    "\n",
    "Here are the import statements that we need:"
   ]
  },
  {
   "cell_type": "code",
<<<<<<< Updated upstream
   "execution_count": 1,
   "metadata": {
=======
   "execution_count": 0,
   "metadata": {
    "application/vnd.databricks.v1+cell": {
     "cellMetadata": {},
     "inputWidgets": {},
     "nuid": "76e4ccf8-4172-4c62-962a-2091b5a46f30",
     "showTitle": false,
     "title": ""
    },
>>>>>>> Stashed changes
    "collapsed": false
   },
   "outputs": [],
   "source": [
    "%matplotlib inline\n",
    "\n",
    "import pandas as pd\n",
    "import numpy as np\n",
    "import statsmodels.api as sm\n",
    "import matplotlib.pyplot as plt"
   ]
  },
  {
   "cell_type": "markdown",
<<<<<<< Updated upstream
   "metadata": {},
=======
   "metadata": {
    "application/vnd.databricks.v1+cell": {
     "cellMetadata": {},
     "inputWidgets": {},
     "nuid": "b9a6e368-86e1-4bb9-96ca-89485024497e",
     "showTitle": false,
     "title": ""
    }
   },
>>>>>>> Stashed changes
   "source": [
    "Next we read in the data set and check the number of rows and columns."
   ]
  },
  {
   "cell_type": "code",
<<<<<<< Updated upstream
   "execution_count": 2,
   "metadata": {
    "collapsed": false
   },
   "outputs": [
    {
     "name": "stdout",
     "output_type": "stream",
     "text": [
      "(147, 7)\n"
     ]
    }
   ],
=======
   "execution_count": 0,
   "metadata": {
    "application/vnd.databricks.v1+cell": {
     "cellMetadata": {},
     "inputWidgets": {},
     "nuid": "de0491f8-5ea1-4b3f-a002-8afec897b95b",
     "showTitle": false,
     "title": ""
    },
    "collapsed": false
   },
   "outputs": [],
>>>>>>> Stashed changes
   "source": [
    "data = pd.read_csv(\"fishing.csv\", index_col=0)\n",
    "print(data.shape)"
   ]
  },
  {
   "cell_type": "markdown",
<<<<<<< Updated upstream
   "metadata": {},
=======
   "metadata": {
    "application/vnd.databricks.v1+cell": {
     "cellMetadata": {},
     "inputWidgets": {},
     "nuid": "715d67c8-8aa4-4653-b35a-b09ea8914bf2",
     "showTitle": false,
     "title": ""
    }
   },
>>>>>>> Stashed changes
   "source": [
    "These are the variable names:"
   ]
  },
  {
   "cell_type": "code",
<<<<<<< Updated upstream
   "execution_count": 3,
   "metadata": {
    "collapsed": false
   },
   "outputs": [
    {
     "data": {
      "text/plain": [
       "site           int64\n",
       "totabund       int64\n",
       "density      float64\n",
       "meandepth      int64\n",
       "year           int64\n",
       "period        object\n",
       "sweptarea    float64\n",
       "dtype: object"
      ]
     },
     "execution_count": 3,
     "metadata": {},
     "output_type": "execute_result"
    }
   ],
=======
   "execution_count": 0,
   "metadata": {
    "application/vnd.databricks.v1+cell": {
     "cellMetadata": {},
     "inputWidgets": {},
     "nuid": "7263a9a9-e828-4666-a54a-408134997dc5",
     "showTitle": false,
     "title": ""
    },
    "collapsed": false
   },
   "outputs": [],
>>>>>>> Stashed changes
   "source": [
    "data.dtypes"
   ]
  },
  {
   "cell_type": "markdown",
<<<<<<< Updated upstream
   "metadata": {},
=======
   "metadata": {
    "application/vnd.databricks.v1+cell": {
     "cellMetadata": {},
     "inputWidgets": {},
     "nuid": "2bb16b4e-787e-479b-819b-a1c216078fbe",
     "showTitle": false,
     "title": ""
    }
   },
>>>>>>> Stashed changes
   "source": [
    "Check for missing data."
   ]
  },
  {
   "cell_type": "code",
<<<<<<< Updated upstream
   "execution_count": 4,
   "metadata": {
    "collapsed": false
   },
   "outputs": [
    {
     "name": "stdout",
     "output_type": "stream",
     "text": [
      "site         0\n",
      "totabund     0\n",
      "density      0\n",
      "meandepth    0\n",
      "year         0\n",
      "period       0\n",
      "sweptarea    0\n",
      "dtype: int64\n"
     ]
    }
   ],
=======
   "execution_count": 0,
   "metadata": {
    "application/vnd.databricks.v1+cell": {
     "cellMetadata": {},
     "inputWidgets": {},
     "nuid": "213c23ab-67e0-4807-8f31-7ff226bbc1e1",
     "showTitle": false,
     "title": ""
    },
    "collapsed": false
   },
   "outputs": [],
>>>>>>> Stashed changes
   "source": [
    "print(pd.isnull(data).sum())"
   ]
  },
  {
   "cell_type": "markdown",
<<<<<<< Updated upstream
   "metadata": {},
=======
   "metadata": {
    "application/vnd.databricks.v1+cell": {
     "cellMetadata": {},
     "inputWidgets": {},
     "nuid": "38352fc0-1a27-49e3-8a03-5a50fbbd7e17",
     "showTitle": false,
     "title": ""
    }
   },
>>>>>>> Stashed changes
   "source": [
    "The dependent variable for the regression analysis is `totabund` (the number of fish caught in a particular area).  Count data are often right skewed, we next check the marginal distribution of the `totabund` values."
   ]
  },
  {
   "cell_type": "code",
<<<<<<< Updated upstream
   "execution_count": 5,
   "metadata": {
    "collapsed": false
   },
   "outputs": [
    {
     "data": {
      "text/plain": [
       "<matplotlib.text.Text at 0x7ffafdc7ea90>"
      ]
     },
     "execution_count": 5,
     "metadata": {},
     "output_type": "execute_result"
    },
    {
     "data": {
      "image/png": "iVBORw0KGgoAAAANSUhEUgAAAYwAAAEUCAYAAAA4DAFkAAAABHNCSVQICAgIfAhkiAAAAAlwSFlz\nAAALEgAACxIB0t1+/AAAIABJREFUeJzt3Xu8XFV99/HPFxCVi4QoJuEiQV8K8jy2lJtXakRuinJp\nrcrzaBN8tLXFC2IlgE8LtmohWG+t2qpcokVEAREUlSgMxWoBEZACMVAIBTGHm4ABFTC//rHWIeMw\nk7PnzJy9Zk++79drXmevPXv2/u6Tk7POXr99UURgZmY2lQ1KBzAzs2Zwh2FmZpW4wzAzs0rcYZiZ\nWSXuMMzMrBJ3GGZmVkntHYakHSVd3fZ6QNK7JM2WtEzSCkkXSZpVdzYzM+tNJa/DkLQB8DNgT+Cd\nwD0RsUTSYmDLiDimWDgzM/sdpYek9gFujojbgYOApXn+UuCQYqnMzOwJSncYbwTOzNNzImIiT08A\nc8pEMjOzbop1GJI2Bl4LfLXzvUjjZL5niZnZCNmo4LZfBVwVEXfn9oSkuRGxStI84K7OD0hyJ2Jm\nNg0RoUHXUbLDOIy1w1EA5wMLgZPy1/O6fWgYO12KpBMi4oTSOaajydnB+Utz/rKG9cd2kSEpSZuS\nCt7nts0+EdhX0gpg79weN/NLBxjA/NIBBjS/dIABzS8dYEDzSwcY0PzSAUZBkSOMiHgIeEbHvPtI\nnYiZmY2g0mdJrW9OLx1gAKeXDjCg00sHGNDppQMM6PTSAQZ0eukAo6DohXv9khRNrmGYmZUwrN+d\nPsKokaQFpTNMV5Ozg/OX5vzjwR2GmZlV4iEpM7Mx5yEpMzOrlTuMGjV5HLTJ2cH5S3P+8eAOw8zM\nKnENw8xszLmGYWZmtXKHUaMmj4M2OTs4f2nOPx7cYZiZWSWuYZiZjTnXMMzMrFbuMGrU5HHQJmcH\n5y/N+ceDOwwzM6vENQwzszHnGoaZmdXKHUaNmjwO2uTs4PylOf94cIdhZmaVNK6GAbytwKbPjIiH\nCmzXzGxgw6phNLDDeNPD9W71rI3h0R0i4o56t2tmNhzrcYdRd97ZD8MvdhxGhyFpQUS0hhCqdk3O\nDs5fmvOX1eizpCTNknS2pBsl3SDphZJmS1omaYWkiyTNKpHNzMy6K3KEIWkpcGlEnCppI2BT4P3A\nPRGxRNJiYMuIOKbjc40+wjAzK6GxQ1KStgCujohnd8xfDrw8IiYkzQVaEbFTxzLuMMzM+tTkIakd\ngLslnSbpx5I+J2lTYE5ETORlJoA5BbLNqCafy93k7OD8pTn/eNio0DZ3Bd4REVdK+jjwO0NPERH5\nFNouFgHz8/QsYBdgQW638tdhth99vFOd/KGZLH712wZ2kTTtz7vttttuV2nn6UUkKxmSEkNSc4Ef\nRsQOuf0y4Fjg2cArImKVpHnAJR6SMjMbXGOHpCJiFXC7pOflWfsA1wMXAAvzvIXAeXVnMzOz3krd\nGuSdwBmSrgV+D/gQcCKwr6QVwN65PVaaPA7a5Ozg/KU5/3goUcMgIq4F9ujy1j51ZzEzs2p8pfeU\nXMMws2ZrbA3DzMyayR1GjZo8Dtrk7OD8pTn/eHCHYWZmlbiGMSXXMMys2VzDMDOzWrnDqFGTx0Gb\nnB2cvzTnHw/uMMzMrBLXMKbkGoaZNZtrGGZmVit3GDVq8jhok7OD85fm/OPBHYaZmVXiGsaUXMMw\ns2ZzDcPMzGrlDqNGTR4HbXJ2cP7SnH88uMMwM7NKXMOYkmsYZtZsrmGYmVmt3GHUqMnjoE3ODs5f\nmvOPB3cYZmZWiWsYU3INw8yazTUMMzOrlTuMGjV5HLTJ2cH5S3P+8bBRiY1KWgk8CPwWeDQi9pQ0\nGzgL2B5YCbw+Iu4vkc/MzJ6oSA1D0q3AbhFxX9u8JcA9EbFE0mJgy4g4puNzrmGYmfVpHGoYneEP\nApbm6aXAIfXGMTOzdSnVYQTwXUk/kvS2PG9OREzk6QlgTploM6fJ46BNzg7OX5rzj4ciNQzgpRHx\nc0lbAcskLW9/MyIiDT91swiYn6dnAbsAC3K7lb8Os/3o453q5A9NRLSm0wZ2kTTtz7vttttuV2nn\n6UUkKxmS4tdhSDoeWA28DVgQEaskzQMuiYidOpZ1DcPMrE+NrWFI2kTS5nl6U2A/4DrgfGBhXmwh\ncF7d2czMrLcSNYw5wGWSrgEuB74RERcBJwL7SloB7J3bY6XJ46BNzg7OX5rzj4faaxgRcSup8NA5\n/z5gn7rzmJlZNcVrGP1wDcPMrH+NrWGYmVkzucOoUZPHQZucHZy/NOcfD+4wzMysEtcwpuQahpk1\nm2sYZmZWK3cYNWryOGiTs4Pzl+b846FShyHpBTMdxMzMRlulGoakNcBVwGnAl0o92Mg1DDOz/tVd\nw9gbuAE4Cfi5pDMl7Sdp4ABmZtYMlTqMiGhFxEJgHnAEsC3wbeA2SR+U9JwZzDg2mjwO2uTs4Pyl\nOf946KvoHRGrI+LUiNgL2Il0n/XjgJskXSrpj2Ygo5mZjYC+r8OQtAPpwRx/ytojja+TblN+KPCp\niDhyuDEf37ZrGGZmfRpWDaNq0XtT4HXA4cBewC3AqcDpEfHztuUOBz4REU8bNFiPHO4wzMz6VHfR\nexXwGeB24JUR8dyI+Pv2ziL7EXDvoKHGVZPHQZucHZy/NOcfD1Wfh7EYOCMiHljXQhFxHbDDwKnM\nzGzk+F5SU/KQlJk1W61DUpJOk/TlHu+dKenzgwYxM7PRVrWGsQ9wbo/3zgH2H06c8dbkcdAmZwfn\nL835x0PVDmMrehez7weeOZw4ZmY2qqp2GP8NvLzHe3sBHt+vICJapTNMV5Ozg/OX5vzjoepZUqcB\nJ0i6i3TtxWpJmwELSWdQfWCmAo6I20vcNmsYRSozs2GpeoSxBPgi8EngQUm/BB4E/hE4nXRTwjEX\nQ3hd0seyo6XpY7jOX5bzj4dKRxgR8VvgrZI+ArwCeDqppnFxRPy0341K2pB0kd8dEfFaSbOBs4Dt\nSfenen2pW6ibmVl3Ra7DkHQUsBuweUQcJGkJcE9ELJG0GNgyIo7p8rlS12FsUv925SEpMxuKYV2H\nUbWGMbnR55FuOPiUzvci4sKK69gWeDXwIeCoPPsg1hbVlwIt4AkdhpmZlVP1wr2dJV0HLAe+C3yj\n43VBH9v8GPA+YE3bvDkRMZGnJ4A5fayvQVqlA0xb08dwnb8s5x8PVY8w/gXYmHT78huBR6azMUmv\nAe6KiKt7/QNERKShp14WAfPz9CxgF2ByVa38dZjtR9s61UHXd01fy09+jyZP6XPbbbfdrtLO04tI\nVjIkVW9vvho4LCL6OZLotp4PA28GHiMNaz2NdAX5HsCCiFglaR5wSUTs1OXzrmGYmfWp7tub30KX\nukW/IuK4iNguInYA3kg6y+rNwPmkazrIX88bdFtmZjZcVTuM9wLHafjP7p78s/1EYF9JK4C9c3sM\ntUoHmLamj+E6f1nOPx6q1jA+DGwNLJd0K+n+USL9whep9LBnPxuOiEuBS/P0faQbHJqZ2YiqWsM4\nnbWdQzcREYcPMVevHK5hmJn1aVg1DD9AaUruMMys2eouek9uVJK2k/SSfPNB60urdIBpa/oYrvOX\n5fzjoXKHIekI4E7gNuAy4Hl5/rmSjpyZeGZmNiqq1jDeB/wd6a60lwAXA7tHxI8lvYt0jcaLZzQp\nHpIyM5uOuu8ldQRwfEScJKnzMyuAHQcNYmZmo63qkNRc0u3Iu1nDEC7qWz+0SgeYtqaP4Tp/Wc4/\nHqp2GP/F2hseddoLuGEoaczMbGRVrWG8Ffg0qY5xNnA9cCCwDfAJ4M8i4owZzDmZwzUMM7M+1X4d\nRi58Hw9s0jb7V8AJEXHyoEEqZnCHYWbWp9qvw8idwtbAq0h3nD0Q2KauzmI8tEoHmLamj+E6f1nO\nPx76euJeRDwIfGeGspiZ2QirWsM4ginGZCLi08MKtY4cHpIyM+tTrTUMSWumWiYi+rrNyHS4wzAz\n61+tNYyI2KDzBTwdOIz03NGdBw2yfmiVDjBtTR/Ddf6ynH889FXDaBcRvwDOkjSL9Mzvlw8tlZmZ\njZyBb28uaT/gaxGx6XAirXNbHpIyM+tTkdubdwmxNXAUcOugQczMbLRV6jAk3S3prvx18vUAcAfp\n1iB/NaMpx0ardIBpa/oYrvOX5fzjoWoN41Nd5v2a1GF8KyLuHV4kMzMbRX5E65RcwzCzZhuJGoaZ\nma0/qtYwbpV0S37d2vbqOm+mQzdXq3SAaWv6GK7zl+X846FqDeMc4A2kO9UuA+4GngnsCzwEfBmY\nPNzpOXYj6SnApcCTgY2Br0fEsZJmA2cB2wMrgddHxP397oyZmc2cqrcGOQ7YDzgwIh5qm78Z8E1g\nWUR8sNIGpU0i4uH8qNfvk86wOgi4JyKWSFoMbBkRx3T5rGsYZmZ9qruG8Q7gI+2dBUBErAZOJj3z\nu5KIeDhPbgxsCPyC1GEszfOXAodUXZ+ZmdWjaoexOTCnx3tz8/uVSNpA0jXABHBJRFwPzImIibzI\nxDq21XCt0gGmreljuM5flvOPh6o1jAuAkyU9SKo7PCJpY9KRwEn5/UoiYg2wi6QtgO9IekXH+5GG\nnnpZBMzP07OAXVj7uPFW/jrM9qNtneqg67umr+Unf0gjouW22267XbWdpxeRrGRIqtYwZgGnAQfn\nWb9k7VHF+cCi6RSpJf016TGvbwUWRMQqSfNIRx47dVneNQwzsz4Nq4bR14V7kv4XsAdpGGoVcGUe\nUqr6+WcAj0XE/ZKeSnp63weA/YF7I+IkSccAs1z0dodhZsNRpMMYeGPSC0hF7Q3y64sRcXI+rfYr\nwLNYx2m1ze8wWqwdfprKaHUYkhZMHvo2kfOX5fxlDavDqPw8DElzgPcCuwPbAodGxPWSjgQuj4gf\nTrWOiLgO2LXL/PuAfSqnNjOz2lWtYewJfBe4C/g3UjFl94j4saSTgOdExOtmMmjO0fAjjH6M1hGG\nmTVX3ddhfAy4GNgR+LOO964AXjhoEDMzG21VO4xdgc9ExG+7vHcv6TYhNqVW6QDT1vTz0J2/LOcf\nD1U7jAeArXq8twPpYjszMxtjVWsYnwX2Jp3+uhJ4lFT8vp30Z/OyiDhyxlKuzeEahplZn+quYRwD\nPAjcAFyW5/0z8FPSk/f+ZtAgZmY22ip1GPm01xcDfwncBnwPuAVYDLwkIh6csYRjpVU6wLQ1fQzX\n+cty/vEw5XUY+Yrs84EPRcQpwCkznsrMzEZO1RrGL4DXRcT3Zj7SOnO4hmFm1qe6axgX4GdUmJmt\n16p2GN8G/ljSOZLeIulASa9uf81kyPHRKh1g2po+huv8ZTn/eKh6L6l/zV8Pza9OQXp6npmZjame\nNQxJFwHvjIifSpoPiHQtxuXA6s7lI2LljKVcm8k1DDOzPs347c0lrQFeFBFX5PZGwCPkmw4OuuHp\ncIdhZta/uoveNhSt0gGmreljuM5flvOPB3cYZmZWST9DUhuS7yHlIak6eEjKzIajrhrGA8BjbbOf\n3mUeQETEjN/i3B2GmVn/6nhE69/2sZ66f5s2VIvqz/QeLWPwTGPnL8j5x0PPDiMiTqgxh5mZjbhK\n95IaFR6SMjPrn0+rNTOzWrnDqFWrdIBpa/p56M5flvOPh9o7DEnbSbpE0vWS/lPSu/L82ZKWSVoh\n6SJJs+rOZmZmvdVew5A0F5gbEddI2gy4inTr9MOBeyJiiaTFwJYRcUzHZ13DMDPrU2NrGBGxKiKu\nydOrgRuBbYCDgKV5saX4+RtmZiOlaA0j3wX3D0h3wJ0TERP5rQlgTqFYM6hVOsC0NX0M1/nLcv7x\nUPV5GEOXh6POAd4dEb+U1h4tRUSk4aduFgHz8/QsYBfWXgzXyl+H2X60rVMddH3X9LX85A/p5AVD\nbrvttttV2nl6EclKhqTIdRiSngR8A/hWRHw8z1sOLIiIVZLmAZdExE4dn3MNw8ysT42tYSgdSpwC\n3DDZWWTnAwvz9ELgvLqzmZlZbyVqGC8F3gS8QtLV+XUAcCKwr6QVpCf7nVgg2wxrlQ4wbU0fw3X+\nspx/PNRew4iI79O7o9qnzixmZlad7yU1JdcwzKzZGlvDMDOzZnKHUatW6QDT1vQxXOcvy/nHgzsM\nMzOrxDWMKbmGYWbNNqwaRrErvW1qva92nznupMysFw9J1arV5/JR86u3po/hOn9Zzj8e3GGYmVkl\nrmFMqVwNw3UTMxsGX4dhZma1codRq1bpANPW9DFc5y/L+ceDOwwzM6vENYwpuYZhZs3mGoaZmdXK\nHUatWqUDTFvTx3CdvyznHw/uMMzMrBLXMKbkGoaZNZtrGGZmVit3GLVqlQ4wbU0fw3X+spx/PLjD\nMDOzSlzDmJJrGGbWbK5hmJlZrdxh1KpVOsC0NX0M1/nLcv7xUHuHIelUSROSrmubN1vSMkkrJF0k\naVbduczMbN1qr2FI2gtYDXwhIl6Q5y0B7omIJZIWA1tGxDFdPusaxgxv0zUMs/HT2BpGRFwG/KJj\n9kHA0jy9FDik1lBmZjalUalhzImIiTw9AcwpGWbmtEoHmLamj+E6f1nOPx42Kh2gU0REGnrqZREw\nP0/PAnYBFuR2K38dZvvRtk510PVdMwP5htlO/zEiojU5DeC22243q52nF5GsZEiKXIchaT5wQVsN\nYzmwICJWSZoHXBIRO3X5nGsYM7xN1zDMxk9jaxg9nA8szNMLgfMKZjEzsy5KnFZ7JvADYEdJt0s6\nHDgR2FfSCmDv3B5DrdIBpiQpSrxq2K8FTd7PzvxN4/zjofYaRkQc1uOtfWoNYj30+p3Wor3WMVyl\nRsFKDDOaNZfvJTWl9auGUf8203brrp2U+VlyjcjKGLcahpmZjTh3GLVqlQ4wgFbpAANp+hi085fV\n9PzD4g7DzMwqcQ1jSq5h1LFd1zDMZo5rGGZmVit3GLVqlQ4wgFbpAANp+hi085fV9PzD4g7DzMwq\ncQ1jSq5h1LFd1zDMZo5rGGZmVit3GLVqlQ4wgFbpAANp+hi085fV9PzDMnLPw7D1U003IJzpTZiN\nNdcwpuQaxnhu188bsfWHaxhmZlYrdxi1apUOMIBW6QADapUOMJCmj6E7/3hwh2FmZpW4hjEl1zDG\nc7uuYdj6wzUMMzOrlTuMWrVKBxhAq3SAAbVKBxhI08fQnX88uMMwM7NKXMOYkmsY47ld1zBmUh0X\nYvayvnyP+zGsGoav9DazGVLqjw+bKSM1JCXpAEnLJd0kaXHpPMPXKh1gAK3SAQbUKh1gIM0fQ2+V\nDjCQ5n//h2NkOgxJGwL/BBwA7AwcJun5ZVMN2zWlAwygydmh+fnZpXSAwfj7Pw5GaUhqT+DmiFgJ\nIOnLwMHAjSVDDdf9pQMMoMnZofn5mVU6wGDq+/7PVP1E0sd6vbe+1E1G5ggD2Aa4va19R55nZtaH\nmIHX8et4b/0xSkcYFb/zez8wszE6Pbjp8Na1cnirqt3K0gEGtLJ0gEHNLx1gMCtLBxjQytIBRsLI\nnFYr6UXACRFxQG4fC6yJiJPalhmNsGZmDTOMYbNR6jA2An4KvBK4E7gCOCwixqiGYWbWXCMzJBUR\nj0l6B/AdYEPgFHcWZmajY2SOMMzMbLSN0llSPTXhgj5J20m6RNL1kv5T0rvy/NmSlklaIekiSbPa\nPnNs3qflkvYrl/7xPBtKulrSBbndpOyzJJ0t6UZJN0h6YcPyH5t/dq6T9CVJTx7l/JJOlTQh6bq2\neX3nlbRb3uebJH2icP6T88/PtZLOlbRFk/K3vfdeSWskzR56/ogY6RdpeOpm0lkiTyJdAfT80rm6\n5JwL7JKnNyPVY54PLAGOzvMXAyfm6Z3zvjwp79vNwAaF9+Eo4Azg/NxuUvalwFvy9EbAFk3JnzPc\nAjw5t88CFo5yfmAv4A+A69rm9ZN3cnTjCmDPPH0hcEDB/PtOfh+BE5uWP8/fDvg2cCswe9j5m3CE\n8fgFfRHxKDB5Qd9IiYhVEXFNnl5NuuBwG+Ag0i8z8tdD8vTBwJkR8WikixVvJu1rEZK2BV4NfJ61\nN+RpSvYtgL0i4lRI9bCIeICG5AceBB4FNsknf2xCOvFjZPNHxGXALzpm95P3hZLmAZtHxBV5uS+0\nfWZGdcsfEcsiYk1uXg5sm6cbkT/7KHB0x7yh5W9Ch9G4C/okzSf1/pcDcyJiIr81AczJ01uT9mVS\n6f36GPA+YE3bvKZk3wG4W9Jpkn4s6XOSNqUh+SPiPuAfgP8mdRT3R8QyGpK/Tb95O+f/jNHYD4C3\nkP7ihobkl3QwcEdE/KTjraHlb0KH0aiqvKTNgHOAd0fEL9vfi3Tct679KbKvkl4D3BURV9Pjdp+j\nmj3bCNgV+HRE7Ao8BBzTvsAo55f0HOBI0nDB1sBmkt7Uvswo5++mQt6RJen9wCMR8aXSWaqStAlw\nHOmS9MdnD3s7TegwfkYal5u0Hb/bK44MSU8idRZfjIjz8uwJSXPz+/OAu/L8zv3aNs8r4SXAQZJu\nBc4E9pb0RZqRHdLPwx0RcWVun03qQFY1JP/uwA8i4t6IeAw4F3gxzck/qZ+flzvy/G075hfdD0mL\nSEOz/7dtdhPyP4f0B8e1+f/xtsBVkuYwxPxN6DB+BDxX0nxJGwNvAM4vnOkJJAk4BbghIj7e9tb5\npAIm+et5bfPfKGljSTsAzyUVoGoXEcdFxHYRsQPwRuDiiHgzDcgOqX4E3C7peXnWPsD1wAU0ID+w\nHHiRpKfmn6N9gBtoTv5Jff285H+3B/MZbQLe3PaZ2kk6gDQse3BE/LrtrZHPHxHXRcSciNgh/z++\nA9g1DxEOL38dFf0hnBHwKtJZRzcDx5bO0yPjy0jj/9cAV+fXAcBs4LvACuAiYFbbZ47L+7Qc2L/0\nPuRML2ftWVKNyQ78PnAlcC3pL/QtGpb/aFIndx2pYPykUc5POhK9E3iEVGM8fDp5gd3yPt8MfLJg\n/rcANwG3tf3//XQD8v9m8vvf8f4t5LOkhpnfF+6ZmVklTRiSMjOzEeAOw8zMKnGHYWZmlbjDMDOz\nStxhmJlZJe4wzMysEncY6zFJJ+TbIH+7y3tnS7qkxiwLcpad69pmPyQ9X9JlklbnnM/qsdw8SRdK\nuj8v93JJp0u6stvyPdZxgqS7h5e+nKr7IuloSS+vI5NN38g8cc+K2k/S7hHxo475vkhnrZOBpwGv\nJd2ralWP5d4P/B7pivn7SHctvh14Sp/bG6fvfZV9ORr4JHDpDGexAbjDsPtI9495P3Bo4SwzRtKT\nI+I3A6xiJ+DrETHVUddOwOUR0X7U9steC6/D0G8cV1CVfYmKy1lBHpKyAD5Euvng/+61UK+hhTzs\nckRbe2V+ctkxkn6eh2b+Ib93kNLT8B5QeqLZrM71AdtI+kYe+rlN0p932eZeki6V9JCkeyR9Nt8l\nePL9RTnXHpJakh4G/mod+7aLpO/l9d0n6V8lPTO/N1/SGuDZwHvyert2Gnm5vYFD83K35Pm/MySl\n9HTAz0v6maRf5f38bI9c/5Fz/VjSy3rtQ9tnnippSV7nryXdIunDbe//qaTvS7o37+vFknbrWEdL\n0lc75j1hyFDSsyR9S9LDeTsLew1lrmtfJK0Eng4cn7exRtIfTrWvVj93GBbAV0n30Xl/hWWnmh+k\n4ZjdWfvUuPdI+gxwAumeNn8BLAD+vsu6TiHdj+tQ0vMIPiPpwMk3Jb2UdL+iO4E/Jt0W/NXAaV3W\ndSbwddK9yL7ZLbikrYAWacjoMOCdpPtpLVO6+/Cd5DvHkp5G+KKcv5sXk+5BdHFerv2Irf179FHS\nHYKPBPYjfU/an0MC6SFKS4HP5P38DXCupKf22PbkDTC/Drwd+Me838eTfhlPmg98EfiTvL+3A5cp\n3ZSuPes6h5Hyts4HdiTdR+oo4F2kBzl1fnaqfTkEeID08K4X5dfV69q+FVL3Tcv8Gp0X6Rf43Xl6\nIfAY8NzcPpt019onLNuxjjXAX7a1V5JuPqe2eZeTnii3fdu8k4BVbe0FeV3/3LH+i4AftrUvA77X\nscwr8md3zu1Fuf3OCt+DE0nDcpu1zdszf/6NbfNuBZZUWF8L+ErHvNOBK9va1wFHTPHvsgZY0Dbv\n9/O8/dbxuf3zMq+p+O+/AWlY+kbgr6fYh8l/n8nv8YG5vVvbMluTbubX+XPTa1/ab4J3N/A3pf9P\n+LXul48wbNIZpCe+HTvgegJoRf4tkP0XcGtE3NYxbyulR5K2+1qX9m5KNiH99flVSRtNvoB/J3VI\nu3V8tutRRYc9gYsiPVY37UB6ZOVK0h2IZ8I1wNGS/kJrb8ne6ZGIaLW1b8xft+2y7KS9gXsj4hu9\nFlA62+trklaR/kB4hHSU8NzK6ZM9gJ9HxFWTMyLiTuCqLsv22pdRebqeVeQOw4D0HGzS8NGbtPaU\n0ekWIe/vaD/SY56AjTvm39WlvRHwDGBLYEPg0/nzk69f52W26/jsBFOb22O5iby9mfAO0nMH/gZY\nLmmFpDd0LNP5tMZH8uS6zrZ6Or3P3kLS5qQjtm2A95A6xD1It4Tv9yyuucA9XeZ3mzedfbER5LOk\nrN2pwP8HFvPEcehf0/HLXVI/v1Crdj7P7NJ+jPSLaJOc63jWPm+53Z0d7Sqnc/6ctc+ebjeX9PCu\noYuIB4B3A++W9ALSKaVnSPpJRNy47k+v073AvHW8/2JSZ/HKiFgxObPLyQe/Ap7cMa/z33oVsFWX\nbWwFPFwprTWOjzDscfkvv4+QHibT+YvnDmBzSVu3zduvn9VXXO6POtqHAj+K5CHgP4CdIuLHXV49\n/7peh8uB/TvOstoD2B74/jTWV+XEgLUzI64jdRgbkIaGBvFdYHb7SQIdJovMk3/hI+klpH1tdwfp\n9OB2nf/WVwBz8/dqcl3b8MRhwaoeactnI8pHGNbpX0hn7byEVPyc9C3SX56nSvoosAPwhFNe6X0k\nUfUI4wBJHwT+jdR57AMc1Pb+0cD38ims55CGO55FOlPq/RFxU8XtTPoo6ayn70g6CdicVAj/SV5/\nv/nVY9nH50n6PumpgNeTOpK3AasZ8DGrEbFM0neAL0n6W9KZRvOAvSLi7aTOdjXwOUknk+ohx5Ou\nw2nP/DVNsPHXAAABaUlEQVTg/+V/5wtJJxXs37GtCyVdC3xF0rGkI9DjSUcenWd8VbEcOFDprgMP\nAcvb60o2GnyEsX57wumTEfEr4GNPWDDiXtIpkduSfqH8n/zqts4pt9Nj2QDeCuyat/Fq0hlYjxdx\nI+LfgT8kDX18gXRq5/tIBfuJjnVNKSLuIf1C/DXpNNx/Il1tvG+u6/S1Prrva+e8H5DO5PoqcBbp\n0aavykXjXuuo6lDgs6RTdi8E/o50BhKRnu/8J6ThtvNIp8H+OenxnI9vLyIuJP3R8DpSx7YdaQit\nM9PBpF/0p5F+Zj5Fehb5g23LVN2X95E6im+Sjvp2rba7Vic/otXMhkLSFqRnSX8yIj5QOo8Nn4ek\nzGxaJL2dNPx0E+mI7yjgSaSTJ2wMucMws+n6FemMuu1Jw06XA/tExO1FU9mM8ZCUmZlV4qK3mZlV\n4g7DzMwqcYdhZmaVuMMwM7NK3GGYmVkl7jDMzKyS/wETRjIUWlVPsAAAAABJRU5ErkJggg==\n",
      "text/plain": [
       "<matplotlib.figure.Figure at 0x7ffafdd2c630>"
      ]
     },
     "metadata": {},
     "output_type": "display_data"
    }
   ],
=======
   "execution_count": 0,
   "metadata": {
    "application/vnd.databricks.v1+cell": {
     "cellMetadata": {},
     "inputWidgets": {},
     "nuid": "68233bac-705b-488b-bc94-1135fc940e28",
     "showTitle": false,
     "title": ""
    },
    "collapsed": false
   },
   "outputs": [],
>>>>>>> Stashed changes
   "source": [
    "data.totabund.plot(kind='hist')\n",
    "plt.xlabel(\"Number of fish caught\", size=15)\n",
    "plt.ylabel(\"Frequency\", size=15)"
   ]
  },
  {
   "cell_type": "markdown",
<<<<<<< Updated upstream
   "metadata": {},
   "source": [
    "Further complicating things, the regions where the fish are caught have different sizes.  To make the `totabund` values comparable to each other, we can look at the number of fish caught per unit volume, as in the histogram below.  However these values are not ideal for a regression model, because their variances differ based on the volumes, as well as on whatever intrinsic variation there is in the numbers of fish that are caught.  "
=======
   "metadata": {
    "application/vnd.databricks.v1+cell": {
     "cellMetadata": {},
     "inputWidgets": {},
     "nuid": "0aca8d80-f5d0-4e5c-8a33-24a6fc1779b0",
     "showTitle": false,
     "title": ""
    }
   },
   "source": [
    "Further complicating things, the regions where the fish are caught have different sizes.  To make the `totabund` values comparable to each other, we can look at the number of fish caught per unit volume, as in the histogram below.  However these values are not ideal for a regression model, because their variances differ based on the volumes, as well as on whatever intrinsic variation there is in the numbers of fish that are caught."
>>>>>>> Stashed changes
   ]
  },
  {
   "cell_type": "code",
<<<<<<< Updated upstream
   "execution_count": 6,
   "metadata": {
    "collapsed": false
   },
   "outputs": [
    {
     "data": {
      "text/plain": [
       "<matplotlib.text.Text at 0x7ffafa3bf438>"
      ]
     },
     "execution_count": 6,
     "metadata": {},
     "output_type": "execute_result"
    },
    {
     "data": {
      "image/png": "iVBORw0KGgoAAAANSUhEUgAAAY4AAAEUCAYAAAA8+dFZAAAABHNCSVQICAgIfAhkiAAAAAlwSFlz\nAAALEgAACxIB0t1+/AAAIABJREFUeJzt3XvYHGV9//H3BxCVgwYUknDQ0F4q2tqmglS0lICAKErB\nn1Xp5c+EX7VqPVFbBbUVrCeIbW1t1WrLIVYEFRFRURMhK9hqEEmQcjAqxKKQh5MchSLm+/vjvpes\nm919Zp7dndlZPq/req5nZ3Zm57PzzLP3zv2dgyICMzOzoraqO4CZmTWLGw4zMyvFDYeZmZXihsPM\nzEpxw2FmZqW44TAzs1IqbzgkvV3SVZKulPRpSY+UtLOkVZLWS1opaV7VuczMrJhKGw5Ji4BXA8+I\niKcDWwMvB04AVkXEk4EL87CZmU2gqvc47gJ+CWwnaRtgO+BG4EhgRZ5mBXBUxbnMzKygShuOiLgd\n+Hvgf0gNxh0RsQqYHxEzebIZYH6VuczMrLiqu6p+EzgOWATsBuwg6RWd00S6Boqvg2JmNqG2qXh5\n+wL/FRG3AUg6F9gf2ChpQURslLQQuLnXzJLcoJiZzUFEaFSvVXXDcS3wN5IeDdwPHAJcCtwLLAVO\nyb/P6/cCo3zzVZN0UkScVHeOuWhydnD+ujl/vUb9pbvShiMirpD0SeAyYBNwOfAJYEfgs5L+FNgA\nvLTKXBVaVHeAISyqO8CQFtUdYEiL6g4wpEV1BxjSoroDTJKq9ziIiOXA8q7Rt5P2PszMbML5zPFq\nnVF3gCGcUXeAIZ1Rd4AhnVF3gCGdUXeAIZ1Rd4BJoibdyElSNLnGYWZWh1F/dnqPo0KSltSdYa6a\nnB2cv27OP13ccJiZWSnuqjIzm3LuqjIzs1pVfjjusKTHX1btEu+7O+Leg0bxSpKWRERrFK9VtSZn\nB+evm/NPl8Y1HPCZfapb1gPAix6sbnlmZpOvcTWOaq9/eD+ww4MRDz6iwoWamY2UaxxmZlYrNxwV\navKx4E3ODs5fN+efLm44zMysFNc4BnKNw8yazzUOMzOrlRuOCjW5n7TJ2cH56+b808UNh5mZleIa\nx0CucZhZ87nGYWZmtXLDUaEm95M2OTs4f92cf7pU3nBIeoqktR0/d0p6k6SdJa2StF7SSknzqs5m\nZmazq7XGIWkr4GfAfsAbgVsjYrmk44GdIuKEruld4zAzK2naahyHAD+KiBuAI4EVefwK4KjaUpmZ\nWV91NxwvB87Kj+dHxEx+PAPMryfS+DS5n7TJ2cH56+b806W2hkPStsCLgM91Pxep/6w5xwmbmT2M\n1Hkjp+cD34uIW/LwjKQFEbFR0kLg5t6zLQMW5cfzgMXAkjzcyr9HNXwxsLlfsP2to30nsLLD7XFz\nnb/O4YhoTVIe55+sfM4/WcP58TKSDYxYbcVxSWcDX42IFXl4OXBbRJwi6QRgnovjZmbDm4riuKTt\nSYXxcztGnwwcKmk9cHAenipN7idtcnZw/ro5/3SppasqIu4FHt817nZSY2JmZhPM16oayF1VZtZ8\nU9FVZWZmzeWGo0JN7idtcnZw/ro5/3Rxw2FmZqW4xjGQaxxm1nyucZiZWa3ccFSoyf2kTc4Ozl83\n558ubjjMzKwU1zgGco3DzJrPNQ4zM6uVG44KNbmftMnZwfnr5vzTxQ2HmZmV4hrHQK5xmFnzucZh\nZma1csNRoSb3kzY5Ozh/3Zx/urjhMDOzUlzjGMg1DjNrPtc4zMysVm44KtTkftImZwfnr5vzT5da\nGg5J8ySdI+kaSVdL+n1JO0taJWm9pJWS5tWRzczMBqulxiFpBfDNiDhN0jbA9sA7gVsjYrmk44Gd\nIuKErvlc4zAzK2nUNY7KGw5JjwXWRsRvdI2/FjgwImYkLQBaEbF31zRuOMzMSpqG4vhewC2STpd0\nuaR/k7Q9MD8iZvI0M8D8GrKNVZP7SZucHZy/bs4/XbapaZnPAN4QEd+V9I/Ar3VJRUSkvYtelgGL\n8uN5wGJgSR5u5d+jGr4Y2NxKtzeeiGjNZRhYLGnO83vYwx72cJHh/HgZyQZGrI6uqgXAtyNirzz8\nB8Dbgd8ADoqIjZIWAqvdVWVmNrzGd1VFxEbgBklPzqMOAa4CvgQszeOWAudVnc3MzGZX13kcbwTO\nlHQF8DvA+4CTgUMlrQcOzsNTpcn9pE3ODs5fN+efLnXUOIiIK4Bn9njqkKqzmJlZOb5W1UCucZhZ\n8zW+xmFmZs3mhqNCTe4nbXJ2cP66Of90ccNhZmaluMYxkGscZtZ8rnGYmVmt3HBUqMn9pE3ODs5f\nN+efLm44zMysFNc4BnKNw8yazzUOMzOrlRuOCjW5n7TJ2cH56+b808UNh5mZleIax0CucZhZ87nG\nYWZmtXLDUaEm95M2OTs4f92cf7oUajgkPX3cQczMrBkK1TgkbQK+B5wOfDoi7hh3sD45XOMwMyup\nrhrHwcDVwCnATZLOknSYpJEFMTOzZijUcEREKyKWAguB1wN7AF8DfiLpvZJ+c4wZp0aT+0mbnB2c\nv27OP11KFccj4p6IOC0iDgD2BjYA7wB+KOmbkl5c5HUkbZD0fUlrJV2ax+0saZWk9ZJWSppX8r2Y\nmVkFSp/HIWkvYBnwSjbveXwROAw4GvhIRBw3y2tcD+wTEbd3jFsO3BoRyyUdD+wUESd0zecah5lZ\nSaOucRQtjm8PvAQ4FjgAuA44DTgjIm7qmO5Y4J8i4jGzvN71wL4RcVvHuGuBAyNiRtICoBURe3fN\n54bDzKykuorjG4GPATcAz42IJ0XEBzobjewy4LYt5t5SAN+QdJmkV+dx8yNiJj+eAeYXzNYYTe4n\nbXJ2cP66Of902abgdMcDZ0bEnYMmiogrgb0KvN5zIuImSbsAq/LeRufrRNq76GUZsCg/ngcsBpbk\n4Vb+Parhi4HNrXR744mI1lyGgcWS5jy/hz3sYQ8XGc6Pl5FsYMRqv1aVpBOBe4BXA0siYqOkhcBq\nd1WZmQ2vlq4qSadLOrvPc2dJ+veiC5S0naQd8+PtSUX1K4HzgaV5sqXAeUVf08zMqlO0xnEIcG6f\n5z4PPK/EMucDl0haB6wBvhwRK4GTgUMlrSedcHhyiddshCb3kzY5Ozh/3Zx/uhStcexC/6L3HcCu\nRRcYEdeTChPd428nNVBmZjbBih6Oux44OyLe1eO5dwOviIixnz3uGoeZWXl1HY57OnC8pDdI2iEH\n2UHS60lHXBWucZiZWbMVbTiWA/8BfBi4S9LdwF3APwNnkC5+aLNocj9pk7OD89fN+adLoRpHRPwK\neJWkvwMOAh5HqnlcFBE/GGM+MzObMLWfx1GGaxxmZuWNusZR9Kiq9sKfTLqw4aO6n4uIC0YVyszM\nJlehhkPS04DPAL/VZ5IAth5VqGklaUnH5UcapcnZwfnr5vzTpegex8eBbUmXTb8GeGBsiczMbKIV\nPY/jHuCYiPjS+CMNzOEah5lZSXWdx3EdPeoaZmb28FO04fhL4B3yvcWH0uRjwZucHZy/bs4/XYrW\nON4P7AZcq3T3vjsAkfqNRLqFxn7jiWhmZpOkaI3jDDY3Er1ERBw7wlz9crjGYWZW0qhrHD4BcCA3\nHGbWfHUVx9sLl6Q9JT27fbFDK67J/aRNzg7OXzfnny6FG458JdwbgZ8AlwBPzuPPlXTceOKZmdmk\nKVrjeCvwHtJVcFcDFwH7RsTlkt5EOsdj/7EmxV1VZmZzUde1ql4PnBgRp0jqnmc98JRRBTIzs8lW\ntKtqAXBZn+c24ZMDC2lyP2mTs4Pz1835p0vRhuPHwJI+zx0AXF1moZK2lrRW0pfy8M6SVklaL2ml\npHllXs/MzKpTtMbxKuCjpDrHOcBVwBHA7sA/AX8WEWcWXqj0FmAfYMeIOFLScuDWiFgu6Xhgp4g4\nocd8rnGYmZVU23kcuUB+IrBdx+j7gJMi4oOFFyjtQbrd7PuAt0TEiyRdCxwYETOSFgCtiNi7x7xu\nOMzMSqrtPI7cOOwGPB/4v+Q9jjKNRvYh4K2k2kjb/IiYyY9ngPklX7MRmtxP2uTs4Px1c/7pUuoO\ngBFxF/D1uS5M0guBmyNibb8/RERE2rPoZxmwKD+eByxmc/mllX+PavhiYHMr3c7cvqFL2WFgsaQ5\nz+9hD3vYw0WG8+NlJBsYsaI1jtczSx9RRHy0wOu8n7S38iDpSKzHAOcCzwSWRMRGSQuB1e6qMjMb\njVpqHJI2zTZNRJS9fMmBwF/lGsdy4LZ8nsgJwDwXx83MRqOWGkdEbNX9AzwOOAZYBzxtjstvtwIn\nA4dKWg8cnIenTpP7SZucHZy/bs4/XUrVODpFxM+Bz+RzLj4OHFhy/m8C38yPbwcOmWsWMzOrztCX\nVZd0GPCFiNh+NJEGLstdVWZmJdV2OG6fMLsBbwGuH00cMzObdIUaDkm3SLo5/27/3An8lHTJkb8a\na8op0eR+0iZnB+evm/NPl6I1jo/0GHc/qeH4akTcNrpIZmY2yXzr2IFc4zCz5puoGoeZmT38FK1x\nXC/puvxzfcdPz3HjDt1UTe4nbXJ2cP66Of90KVrj+DzwMtKVcVcBtwC7AocC9wJnA+3doOb0fZmZ\nWWlFLznyDuAw4IiIuLdj/A7AV4BVEfHesaXcvDzXOMzMSqrrWlU3km7W9OUez70Q+LeIWDiqUANy\nuOEwMyupruL4jvS/R8aC/LzNosn9pE3ODs5fN+efLkVrHF8CPijpLuCLEfGApG2Bo4BT8vNmZvYw\nULSrah5wOvBHedTdbN7LOB9YFhF3jCXhr+dwV5WZWUm11Dg6Fv5bpJsuLQA2At+NiKtGFabA8t1w\nmJmVVOsJgBFxVUScEREn59+VNRrToMn9pE3ODs5fN+efLoXvxyFpPvCXwL7AHsDREXGVpOOANRHx\n7TFlrNmvttHAe6CXIxVv9Ef5DcHMbFSK1jj2A74B3AxcTLoJ+r4RcbmkU4DfjIiXjDNozlFDV9Wj\nqeecRrnhMLORqKur6kPARcBTgD/reu5S4PdHFcjMzCZb0YbjGcDHIuJXPZ67jXT5EZtVq+4Ac9b0\nPl7nr5fzT5eiDcedwC59ntsLmCnyIpIeJWmNpHWSrpb0gTx+Z0mrJK2XtDIf/mtmZhOoaI3jE8DB\nwPOADcAvSUXyG0hfo1dFxHGFFihtFxG/kLQN8C3S3QOPBG6NiOWSjgd2iogTeszrGoeZWUl11ThO\nAO4CrgYuyeP+FfgB6dP1XUUXGBG/yA+3BbYGfk5qOFbk8StIZ6SbmdkEKtRwRMTtwP7AnwM/AS4E\nrgOOB54dEXcVXaCkrSStI3Vvrc7ngsyPiHZ31wz9r4vVcK26A8xZ0/t4nb9ezj9dZj2PQ9KjSZcV\neV9EnAqcOswCI2ITsFjSY4GvSzqo6/kYfN7EMmBRfjwPWAwsycOt/HtUwxd3LXvY11tXavr2xhoR\nLQ972MMeLjqcHy8j2cCIFa1x/Bx4SURcONKFS38D3Ae8ClgSERslLSTtiezdY3rXOMzMSqqrxvEl\nRlB3kPT49hFTeU/mUGAtaY9maZ5sKXDesMsyM7PxKHrJka8BfydpN9Id/2bo+hoeERcUeJ2FwApJ\nW5Earf+IiAslrQU+K+lPSbtVLy2Yq2FabO6WahZJS9q7xE3k/PVy/ulStOH4VP59dP7pFqQjpAaK\niCtJJxN2j78dOKRgFjMzq1HfGoeklcAbI+IHkhYBIp3LsQa4p3v6iNgwtpSbM7nGYWZW0qhrHIMa\njk3AsyLi0jy8DfAA+eKGowpQhhsOM7Py6iqO20i06g4wZ00/jt356+X808UNh5mZlVKmq2pr8jWq\n3FVVBXdVmdloVF3juBN4sGP043qMg3TC99gvre6Gw8ysvFE3HIMOx/3bEq9TxydrA7XweRz1cP56\nOf906dtwRMRJFeYwM7OGKHStqknhriozs/J8OK6ZmdXKDUelWnUHmLOmH8fu/PVy/unihsPMzEpx\njWMg1zjMrPlc4zAzs1q54ahUq+4Ac9b0Pl7nr5fzTxc3HGZmVoprHAO5xmFmzecah5mZ1coNR6Va\ndQeYs6b38Tp/vZx/ulTecEjaU9JqSVdJ+m9Jb8rjd5a0StJ6SSslzas6m5mZza7yGoekBcCCiFgn\naQfge8BRwLHArRGxXNLxwE4RcULXvK5xmJmV1PgaR0RsjIh1+fE9wDXA7sCRwIo82QpSY2JmZhOm\n1hqHpEXA7wFrgPkRMZOfmgHm1xRrjFp1B5izpvfxOn+9nH+6DLqR01jlbqrPA2+OiLulzXtRERGp\nW6qXZcCi/HgesJjNN0dq5d+jGr64a9nDvt66UtO3N9b2DWQ87GEPe7jIcH68jGQDI1bLeRySHgF8\nGfhqRPxjHnctsCQiNkpaCKyOiL275nONw8yspMbXOJR2LU4Frm43Gtn5wNL8eClwXtXZzMxsdnXU\nOJ4DvAI4SNLa/HM4cDJwqKT1wMF5eMq06g4wZ03v43X+ejn/dKm8xhER36J/g3VIlVnMzKw8X6tq\nINc4zKz5Gl/jMDOzZnPDUalW3QHmrOl9vM5fL+efLm44zMysFNc4BnKNw8yazzUOMzOrlRuOSrVK\nTS0p6vjpk2XJCFZAbZy/Xs4/XWq7VpUVUU8XmZnZIK5xDFRvjcO1FTMbBdc4zMysVm44KtWqO8Cc\nNb2P1/nr5fzTxQ2HmZmV4hrHQK5xmFnzucZhZma1csNRqVbdAeas6X28zl8v558ubjjMzKwU1zgG\nco3DzJrPNQ4zM6uVG45KteoOMGdN7+N1/no5/3SpvOGQdJqkGUlXdozbWdIqSeslrZQ0r+pcZmZW\nTOU1DkkHAPcAn4yIp+dxy4FbI2K5pOOBnSLihB7zusZRwXJd4zCbLo2vcUTEJcDPu0YfCazIj1cA\nR1UayszMCpuUGsf8iJjJj2eA+XWGGZ9W3QHmrOl9vM5fL+efLhN3P46I6HszoWQZsCg/ngcsBpbk\n4Vb+Parhi7uWPezrrRtxvnENJ+1/lohojXMYWE0FpJ576geN+/152MNVD+fHy0g2MGK1nMchaRHw\npY4ax7XAkojYKGkhsDoi9u4xn2scFSy36hpH9X/Xh5bseo49LDS+xtHH+cDS/HgpcF6NWczMbIA6\nDsc9C/gv4CmSbpB0LHAycKik9cDBeXgKteoOMGfN7+Nt1R1gKE1f/84/XSqvcUTEMX2eOqTSIGZm\nNie+VtVArnFUskTXOMzGalprHGZm1hBuOCrVqjvAnDW/j7dVd4ChNH39O/90ccNhZmaluMYxkGsc\nlSzRNQ6zsXKNw8zMauWGo1KtugPMWfP7eFt1BxhK09e/808XNxxmZlaKaxwDucZRyRJd4zAbq1HX\nOCbu6rhWv8FXJzazhzt3VVWqVXeAgqLHz+o+40fxU4VWRcsZj6b3sTv/dHHDYWZmpbjGMdDDs8ZR\n/XIfPvUcszr4PA4zM6uVG45KteoOMIRW3QGG1Ko7wFCa3sfu/NPFDYeZmZXiGsdArnFM7zLTcl3j\nsIcDn8dhNkI+Z2W83DBPp4nqqpJ0uKRrJf1Q0vF15xm9Vt0BhtCqO8CQWn3Gj+vclEHnrMxlvmHP\no6nrvSZNrxE0Pf+oTUzDIWlr4F+Aw4GnAcdIemq9qUZtXd0BhtDk7OD8tVtcd4AhNT3/SE1SV9V+\nwI8iYgOApLOBPwKuqTPUaN1Rd4AhNDk7OH/t5lW1oHF1P0r60GzTPFy65iZmjwPYHbihY/ineZyZ\nWUmj7nY7scA0Dx+TtMdRcM0ffOd4Y3T6lYDHjO71NozupSq3oe4AQ9pQd4Ahbag7wLAW1R1gOBvq\nDjBRJuZwXEnPAk6KiMPz8NuBTRFxSsc0kxHWzKxhRtmNNkkNxzbAD4DnAjcClwLHRMQU1TjMzJpv\nYrqqIuJBSW8Avg5sDZzqRsPMbPJMzB6HmZk1Q21HVRU52U/Sh/PzV0j6vdnmlbSzpFWS1ktaKWls\nhwCOKf9Jkn4qaW3+OXxC858maUbSlV3TN2X998tfyfqfa3ZJe0paLekqSf8t6U0d00/8up8l/8Rv\n+5IeJWmNpHWSrpb0gY7pm7D+B+Uvt/4jovIfUlfUj0hHWjyCdHbTU7umeQFwQX78+8B3ZpsXWA68\nLT8+Hji5YflPBN4yyes/Dx8A/B5wZdc8E7/+Z8k/9vU/5LazAFicH+9Aqgnu3ZR1P0v+pmz72+Xf\n2wDfAZ7TlPU/S/5S67+uPY6HTvaLiF8C7ZP9Oh0JrACIiDXAPEkLZpn3oXny76Malh/SFf/GbZj8\nRMQlwM97vG4T1v+g/DD+9T/X7PMjYmNErMvj7yGdHLt79zxM5rqfLT9M9rY/Pw//Ik+zLelD/Ofd\n8zCh63+W/FBi/dfVcBQ52a/fNLsNmHd+RMzkxzPA/FEFLpityDSD8gO8Me9enjrG3d1h8g/ShPU/\nm3Gv/7lm36NzAkmLSHtNa/KoSV/3s+WHyd7294B0aSRJ60jreHVEXJ2nacT6H5AfSqz/uhqOohX5\nIi1gz2tyR9r/Glflf5T5O30M2It0XZybgL8vOX9Rc81feH1O6Pqfbb4q1v/Q2SXtAJwDvDl/c//1\nCSd83ffJ34htPyJ+FRGLSR/Ef6geFz+c5PU/IH+p9V9Xw/EzYM+O4T1JreKgafbI0/Qa/7P8eKbd\nHSFpIXDzCDMPyjZM/ofmjYibIwP+nbRbOg5zzf8zBpv09T8wf0Xrf6jskh4BfB74VESc1zFNI9Z9\nv/xN2/Yj4k7gK8A+eVQj1n9bR/5983Cp9V9Xw3EZ8CRJiyRtC7wMOL9rmvOBV8JDZ5XfkXcFB817\nPrA0P14KnMd4jCV/3uDajgauZDyGyT9IE9Z/XxWt/zlnlyTgVODqiPjHHvNM9LoflL8J276kx7e7\ncCQ9GjiUzZctbsL675V/bR4ut/6LVtFH/QM8n3RUxY+At+dxrwFe0zHNv+TnrwCeMWjePH5n4BvA\nemAlMK9h+T8JfD9Pfx6p33QS859FOrv/f0l9qcc2bP33y1/J+p9rduAPgE2kD6u1+efwpqz7WfJP\n/LYPPB24POf/PvDWjumbsP4H5S+1/n0CoJmZlTJJl1U3M7MGcMNhZmaluOEwM7NS3HCYmVkpbjjM\nzKwUNxxmZlaKGw4euqTwJklf6/HcOZJWV5hlSc7ytKqWWYakp0q6RNI9OecT+ky3UNIFku7I0x0o\n6QxJ3y2xrJMk3TK69PUp+l4kvU3SgVVkqlv3ti7pEXk9/W5dGayYibkD4IQ4TNK+EXFZ13if7LLZ\nB4HHAC8C7gU29pnuncDvAC8HbiddCfUG4FEllzdN677Ie3kb8GHgm2POMgm+BzwLuC4PPxJ4Vx6+\noq5QNjs3HJvdTrqeyztJp9xPJUmPjIj/HeIl9ga+GBGz7YXtDayJiM69uLvnsLwqLrVdlSLvJQpO\nN1Yj2E5mFRF3A5f2Wvw4l2vDc1fVZgG8DzhS0m/3m6hfl0Pe3X19x/AGSR+UdIKkm3KXzd/n545U\nugPXnZLO7XMJ490lfTl3Cf1E0mt6LPMASd+UdK+kWyV9Il95tP38spzrmZJakn4B/NWA97ZY0oX5\n9W6X9ClJu+bnFknaBPwG8Bf5dXs2Hnm6g4Gj83TX5fG/1lUlaZ6kf5f0M0n35ff5iT65vpNzXS7p\nD/q9h455Hi1peX7N+yVdJ+n9Hc+/UtK3JN2W3+tFkvbpeo2WpM91jduia0PSEyR9VdIv8nKW9uvi\nHPReJG0AHgecmJexSdIf9nl/7RyHVrmdzGH7/wulO8vdLuksSY8dsC7vyr9P73j/W3SFStorP/eC\nrvFbS9oo6W87xh2sdNe7+/JzH5G0fa/3lqdf1Oe1u7fdkyTdImk/SZflv/0lef6Fks6XdLfS3Q6X\n9FjOq/Jz9+d19dZ+mSaRG47NAvgc8EPSXsds0842PkjdNPuSLnq2nPSB+zHgJOAdwOuAJcAH2NKp\npGvKHA1cAHxM0hHtJyU9h3RtnBuB/wMcR7rz1+k9Xuss4Iuka9x8pVdwSbsALVJX0jHAG4EDgVVK\nVzS9Edif1DV1JqmL4XV91sP+pOsQXZSn69yD61xH/wA8O2c/jLRONnW91nakm9J8LL/P/wXOVbpI\nW0+SlN/va4F/zu/7RNKHctsi4D+AP87v9wbgEkl7dWUd2L2Ul3U+8BTgWOAtwJtIVxftnne293IU\ncCfp6qTPyj9rBy2fireTrOj2/1LgIOBVpLvivRB4f4/52g7Ov9/D5ve/RVdoRFxP2lN5addTBwK7\nkm5uhKTfAr5GulLti0nbwJ+QLuk+F73+np8gXYL8GOAJwKeAz5L+l44mrfdzOrfX3Eh8FDgXOIK0\nPbyns+GdeOO6EFeTfkgf5Lfkx0uBB4En5eFzgIt6Tdv1GpuAP+8Y3kC64Jk6xq0Bfgk8sWPcKcDG\njuEl+bX+tev1VwLf7hi+BLiwa5qD8rxPy8PL8vAbC6yDk0nddTt0jNsvz//yjnHXA8sLvF4L+GzX\nuDOA73YMXwm8fpa/yyZgSce4383jDhsw3/PyNC8s+PffitRtew3wN7O8h/bfp72Oj8jD+3RMsxvw\nQI/tpt97eV7HuFuAdxXIXNd2Umb7/yGwVce4DwE3DViXO+ThVxbIcRzp7nXbdoz7OPD9juGzSRcD\n7Pwf/OO8jGf1ybAoD79glm23/fc8oGPc6/K4v+4Y99Q8rn0xx8cA93RuZ3n8u0n3wdBs730SfrzH\nsaUzgf8B3j7k6wTQirxVZD8Gro+In3SN20VSd73pCz2G91GyHenb2OckbdP+Af6T1DDt0zXvoG+P\nbfsBK6PjxkARcSnpA2DWrqE5Wge8TdLrJD25zzQPRESrY/ia/HuPHtO2HQzcFhFf7jeB0tFhX5C0\nkfRF4QHSXsOTCqdPnkn6MPxee0RE3Egq/Hbr916K3Jmwn6q3k6KCdIe5zj3Ia4BdJW09gtf/HOlD\n+HCA/L5eDHymY5r9gC90/Q+eS/p7P2cEGR6IdBvith/n3xf1GLdb/r0/aU/lnK6/yWrSXQMHbdcT\nww1Hl4h4kNSt9IqO/tW5Fuvu6Bp+oM84ke4B3Kn7RjA3k74VPx7YiXS/4I/m+ds/9+dp9uyad7b7\naAAs6DNFDYwOAAAEuklEQVTdTF7eOLyBdAnndwHXSlov6WVd0/xaQT0iHsgPBx2d9Tj6H+2FpB1J\n38x3B/6C1DA+k3QkT9mjvhYAt/YY32vcXN7LbKreTsrot60/ctgXjoifAd8i3Y8C4Lmkv/vZHZNt\nsU1HxK+A20iXQR9W98Ee7b/nQ++7x9/48fn3Vfz63+QiUmPb/TeZSD6qqrfTgL8m9ct292veT9eH\nvKQyH6xFG6Fdeww/SPpA2i7nOpHUr93txq7hIoeB3kTv+yQvIN08ZuQi3YXszcCbJT2ddCjqmZK+\nHxHXDJ57oNuAhQOe35/UaDw3Ita3R2rLgxTuY8sPue6/9UZglx7L2AX4RaG0w6l6Oxl2+x+lzwAn\nS3oUqQG5PCJ+3PH8Ftt03tt5HKlbtpf78+/uL3I7MZpDw9vLPYLeDfX6HuMmjvc4esjfEv4O+H9s\n+QH0U2BHSbt1jDuszMsXnO7FXcNHA5dFci/wHWDviLi8x0/fb9sDrAGe13W0zTOBJ5K+2ZVVpIC6\neWTElaSGYytSl9EwvgHs3Fkk7tIuVLa/DSLp2aT32umnpMOKO3X/rS8FFuR11X6t3dmyG6ioBzry\nFVH1djLs9j9I2T2wc0jr6mjSgQVndz2/hnRkX+fn3ItJX5j7bdM3k7rxOo+a24F0EMcofJv0hWT3\nPn+TLe4hP4m8x9Hfx0lH+TybVCRt+yrpD3+apH8g3eB9i0Mg6b9nUXSP43BJ7wUuJm3shwBHdjz/\nNuBCpUNfP0/abX4C6YiZd0bEDwsup+0fSMW9r0s6BdiRVDD/fn79svnVZ9qHxkn6FqnP+SpSg/Jq\nUuGw17H9hUXEKklfBz6dD81cS/oCcEBEvJb0YXoP8G+SPkjqVz6RdB5PZ+YvAH+a/84XkIrKz+ta\n1gWSrgA+K+ntpG+sJ5L2RLqPECviWuAIpasY3AtcO8uHSdXbybDbf18R8YCk64GXSbqKdNTZFRHx\nyz7T3yypRTqq6bGko5k6vZf0tz9P0r+S/s6nAF+LiDV9XnOTpC+SjoD8Cekot78k7T0OfX5JRNwh\n6STgnyQ9kXTwwlbAk0kHTnR/EZhI3uNItjjsMiLuIx0FQtf420iHNe5B+mD5k/zT6zVnXU6faYN0\nCOMz8jJeQDpi5aFib0T8J/CHpC6RT5IOCX0rqbA/0/Vas4qIW0kfjPeTDsv8F9LZy4fmuk+p16P3\ne+0e91+kI3o+R+p22Bl4fi4u93uNoo4mHSp5HOlD/z2kI5aIdO/xPyZ1w51HOnz2NaRbbT60vIi4\ngPTl4SWkBm5PUtdad6Y/In3gn07aZj4CXM3m8xLKvJe3khqMr5C+MT9jlumr3k6G2f57je8efi2p\nDvAN0vsf1OUIaS9jAfCdiPifrqxXkw4t3pXUaL6HdPDLS2bJ8AbSAQQfJR3OfSabaxCd8xT5X95y\ngogPAn+Ws50HfJp0OO/Fs807KXzrWLMRUzrJ7TrgwxHx7jEtYwnpw+y38wekWWXcVWU2JEmvJXVL\n/ZD0zf4twCNIB1mYTR03HGbDu490BN4TSV0Va4BDIuKGMS/X3QVWC3dVmZlZKS6Om5lZKW44zMys\nFDccZmZWihsOMzMrxQ2HmZmV4obDzMxK+f/TWkmt9KzQ9gAAAABJRU5ErkJggg==\n",
      "text/plain": [
       "<matplotlib.figure.Figure at 0x7ffafdc4f160>"
      ]
     },
     "metadata": {},
     "output_type": "display_data"
    }
   ],
=======
   "execution_count": 0,
   "metadata": {
    "application/vnd.databricks.v1+cell": {
     "cellMetadata": {},
     "inputWidgets": {},
     "nuid": "e9e4aa69-2faf-4ec7-ac9f-ff4cbe9a1c49",
     "showTitle": false,
     "title": ""
    },
    "collapsed": false
   },
   "outputs": [],
>>>>>>> Stashed changes
   "source": [
    "(data.totabund / data.sweptarea).plot(kind='hist')\n",
    "plt.xlabel(\"Number of fish caught per unit volume\", size=15)\n",
    "plt.ylabel(\"Frequency\", size=15)"
   ]
  },
  {
   "cell_type": "markdown",
<<<<<<< Updated upstream
   "metadata": {},
   "source": [
    "__Poisson regression__\n",
    "\n",
    "A better way to handle the unequal areas is to use a regression model with an \"exposure\" variable.  The fitted values from the regression model based on the covariates are multiplied by the exposure value. The regresson model we will use is a Poisson GLM.  In a Poisson GLM, the distribution of values at a given covariate vector has a Poisson distribution. "
=======
   "metadata": {
    "application/vnd.databricks.v1+cell": {
     "cellMetadata": {},
     "inputWidgets": {},
     "nuid": "8537dbfe-61a1-4e10-b5fc-f9eb3ee35aa8",
     "showTitle": false,
     "title": ""
    }
   },
   "source": [
    "__Poisson regression__\n",
    "\n",
    "A better way to handle the unequal areas is to use a regression model with an \"exposure\" variable.  The fitted values from the regression model based on the covariates are multiplied by the exposure value. The regresson model we will use is a Poisson GLM.  In a Poisson GLM, the distribution of values at a given covariate vector has a Poisson distribution."
>>>>>>> Stashed changes
   ]
  },
  {
   "cell_type": "code",
<<<<<<< Updated upstream
   "execution_count": 7,
   "metadata": {
    "collapsed": false
   },
   "outputs": [
    {
     "name": "stdout",
     "output_type": "stream",
     "text": [
      "                 Generalized Linear Model Regression Results                  \n",
      "==============================================================================\n",
      "Dep. Variable:               totabund   No. Observations:                  147\n",
      "Model:                            GLM   Df Residuals:                      144\n",
      "Model Family:                 Poisson   Df Model:                            2\n",
      "Link Function:                    log   Scale:                             1.0\n",
      "Method:                          IRLS   Log-Likelihood:                -3174.8\n",
      "Date:                Fri, 12 Jun 2015   Deviance:                       5377.1\n",
      "Time:                        03:45:02   Pearson chi2:                 4.84e+03\n",
      "No. Iterations:                     8                                         \n",
      "==============================================================================\n",
      "                 coef    std err          z      P>|z|      [95.0% Conf. Int.]\n",
      "------------------------------------------------------------------------------\n",
      "Intercept     -4.9252      0.018   -267.167      0.000        -4.961    -4.889\n",
      "meandepth     -0.0006   7.44e-06    -80.051      0.000        -0.001    -0.001\n",
      "density       88.0607      0.739    119.087      0.000        86.611    89.510\n",
      "==============================================================================\n"
     ]
    }
   ],
=======
   "execution_count": 0,
   "metadata": {
    "application/vnd.databricks.v1+cell": {
     "cellMetadata": {},
     "inputWidgets": {},
     "nuid": "88b4376c-7d8a-4bb7-8d0a-564d5c537d19",
     "showTitle": false,
     "title": ""
    },
    "collapsed": false
   },
   "outputs": [],
>>>>>>> Stashed changes
   "source": [
    "model1 = sm.GLM.from_formula(\"totabund ~ meandepth + density\", family=sm.families.Poisson(), exposure=data.sweptarea, data=data)\n",
    "result1 = model1.fit()\n",
    "print(result1.summary())"
   ]
  },
  {
   "cell_type": "markdown",
<<<<<<< Updated upstream
   "metadata": {},
=======
   "metadata": {
    "application/vnd.databricks.v1+cell": {
     "cellMetadata": {},
     "inputWidgets": {},
     "nuid": "1335704f-b375-43bd-8249-3b4a9336372b",
     "showTitle": false,
     "title": ""
    }
   },
>>>>>>> Stashed changes
   "source": [
    "By default, the Poisson GLM uses an \"exponential link function\", meaning that the mean value is the exponential of the linear predictor.  In the model above, the linear predictor is `-4.9252 - 0.0006 * meandepth + 88.0607 * density`.  A consequence of using the exponential link function is that the covariate effects are multiplicative on the mean.  If `meandepth` increases by 1 unit, the linear predictor changes additively by `-0.0006` units, and the mean value changes by a factor of exp(-0.006)."
   ]
  },
  {
   "cell_type": "markdown",
<<<<<<< Updated upstream
   "metadata": {},
=======
   "metadata": {
    "application/vnd.databricks.v1+cell": {
     "cellMetadata": {},
     "inputWidgets": {},
     "nuid": "e579ea41-f4a5-450b-ac7a-c27242e044f9",
     "showTitle": false,
     "title": ""
    }
   },
>>>>>>> Stashed changes
   "source": [
    "An alternative to using `sweptarea` as the exposure is to include `log(sweptarea)` as a covariate.  Using `sweptarea` as an exposure variable is exactly equivalent to using `log(sweptarea)` as a covariate and forcing its coefficient to be equal 1.  It often happens that when allowing the coefficient of `log(sweptarea)` to be estimated, we discover that the fitted coefficient differs from 1, typically being smaller than 1.  This means that the natural scaling is somewhat dampened -- if we double the search area, the yield does not quite double.  There are various reasons why this would happen in the real world."
   ]
  },
  {
   "cell_type": "code",
<<<<<<< Updated upstream
   "execution_count": 8,
   "metadata": {
    "collapsed": false
   },
   "outputs": [
    {
     "name": "stdout",
     "output_type": "stream",
     "text": [
      "                 Generalized Linear Model Regression Results                  \n",
      "==============================================================================\n",
      "Dep. Variable:               totabund   No. Observations:                  147\n",
      "Model:                            GLM   Df Residuals:                      143\n",
      "Model Family:                 Poisson   Df Model:                            3\n",
      "Link Function:                    log   Scale:                             1.0\n",
      "Method:                          IRLS   Log-Likelihood:                -3072.8\n",
      "Date:                Fri, 12 Jun 2015   Deviance:                       5173.1\n",
      "Time:                        03:45:02   Pearson chi2:                 4.63e+03\n",
      "No. Iterations:                     8                                         \n",
      "========================================================================================\n",
      "                           coef    std err          z      P>|z|      [95.0% Conf. Int.]\n",
      "----------------------------------------------------------------------------------------\n",
      "Intercept               -1.8025      0.218     -8.263      0.000        -2.230    -1.375\n",
      "meandepth               -0.0005   9.32e-06    -55.097      0.000        -0.001    -0.000\n",
      "density                 85.4746      0.764    111.933      0.000        83.978    86.971\n",
      "I(np.log(sweptarea))     0.7004      0.021     33.550      0.000         0.660     0.741\n",
      "========================================================================================\n"
     ]
    }
   ],
=======
   "execution_count": 0,
   "metadata": {
    "application/vnd.databricks.v1+cell": {
     "cellMetadata": {},
     "inputWidgets": {},
     "nuid": "e5e2affa-f60f-4639-b794-6099e61e52b2",
     "showTitle": false,
     "title": ""
    },
    "collapsed": false
   },
   "outputs": [],
>>>>>>> Stashed changes
   "source": [
    "model2 = sm.GLM.from_formula(\"totabund ~ meandepth + density + I(np.log(sweptarea))\", family=sm.families.Poisson(), data=data)\n",
    "result2 = model2.fit()\n",
    "print(result2.summary())"
   ]
  },
  {
   "cell_type": "markdown",
<<<<<<< Updated upstream
   "metadata": {},
=======
   "metadata": {
    "application/vnd.databricks.v1+cell": {
     "cellMetadata": {},
     "inputWidgets": {},
     "nuid": "08323800-f021-4e20-830a-b46c01f1c488",
     "showTitle": false,
     "title": ""
    }
   },
>>>>>>> Stashed changes
   "source": [
    "__Overdispersion__\n",
    "\n",
    "An important property of the Poisson distribution is that the mean is equal to the variance.  We can check this condition in our data by binning the data into quintiles based on the estimated means, and comparing the empirical mean and variance within each bin, as below."
   ]
  },
  {
   "cell_type": "code",
<<<<<<< Updated upstream
   "execution_count": 9,
   "metadata": {
    "collapsed": false
   },
   "outputs": [
    {
     "data": {
      "text/plain": [
       "<matplotlib.text.Text at 0x7ffafa311518>"
      ]
     },
     "execution_count": 9,
     "metadata": {},
     "output_type": "execute_result"
    },
    {
     "data": {
      "image/png": "iVBORw0KGgoAAAANSUhEUgAAAYYAAAEUCAYAAAAvLpGtAAAABHNCSVQICAgIfAhkiAAAAAlwSFlz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\nbhjMzGyK/w+hDVTnGsLezAAAAABJRU5ErkJggg==\n",
      "text/plain": [
       "<matplotlib.figure.Figure at 0x7ffafa3054a8>"
      ]
     },
     "metadata": {},
     "output_type": "display_data"
    }
   ],
=======
   "execution_count": 0,
   "metadata": {
    "application/vnd.databricks.v1+cell": {
     "cellMetadata": {},
     "inputWidgets": {},
     "nuid": "f85ddbef-53c6-4cf0-9075-eb652861b149",
     "showTitle": false,
     "title": ""
    },
    "collapsed": false
   },
   "outputs": [],
>>>>>>> Stashed changes
   "source": [
    "ii = np.digitize(result1.fittedvalues, np.percentile(result1.fittedvalues, [20, 40, 60, 80]))\n",
    "\n",
    "moments = []\n",
    "for i in range(5):\n",
    "    jj = np.flatnonzero(ii == i)\n",
    "    moments.append([result1.fittedvalues[jj].mean(), model1.endog[jj].var()])\n",
    "moments = np.asarray(moments)\n",
    "\n",
    "moments_log2 = np.log(moments) / np.log(2)\n",
    "\n",
    "plt.grid(True)\n",
    "plt.plot(moments_log2[:, 0], moments_log2[:, 1], 'o')\n",
    "plt.plot([4, 20], [4, 20], '-', color='black')\n",
    "plt.xlim(4, 20)\n",
    "plt.ylim(4, 20)\n",
    "plt.xlabel(\"Log2 mean\", size=15)\n",
    "plt.ylabel(\"Log2 variance\", size=15)"
   ]
  },
  {
   "cell_type": "markdown",
<<<<<<< Updated upstream
   "metadata": {},
=======
   "metadata": {
    "application/vnd.databricks.v1+cell": {
     "cellMetadata": {},
     "inputWidgets": {},
     "nuid": "47d52b2b-a13c-431b-989d-285516a296b2",
     "showTitle": false,
     "title": ""
    }
   },
>>>>>>> Stashed changes
   "source": [
    "The plot above indicates that the variance is at least four times greater than the mean, so the key condition of the Poisson distribution does not hold.  Another way to check this is to estimate the \"scale parameter\", which should be equal to 1 for a Poisson model.  In this case, however, it is estimated to be 33.  When data have conditional variance much larger than the conditional mean in a Poisson model, this is called \"overdispersion\"."
   ]
  },
  {
   "cell_type": "code",
<<<<<<< Updated upstream
   "execution_count": 10,
   "metadata": {
    "collapsed": false
   },
   "outputs": [
    {
     "name": "stdout",
     "output_type": "stream",
     "text": [
      "                 Generalized Linear Model Regression Results                  \n",
      "==============================================================================\n",
      "Dep. Variable:               totabund   No. Observations:                  147\n",
      "Model:                            GLM   Df Residuals:                      144\n",
      "Model Family:                 Poisson   Df Model:                            2\n",
      "Link Function:                    log   Scale:                   33.6142543859\n",
      "Method:                          IRLS   Log-Likelihood:            -1.0672e+05\n",
      "Date:                Fri, 12 Jun 2015   Deviance:                       5377.1\n",
      "Time:                        03:45:03   Pearson chi2:                 4.84e+03\n",
      "No. Iterations:                     8                                         \n",
      "==============================================================================\n",
      "                 coef    std err          z      P>|z|      [95.0% Conf. Int.]\n",
      "------------------------------------------------------------------------------\n",
      "Intercept     -4.9252      0.107    -46.081      0.000        -5.135    -4.716\n",
      "meandepth     -0.0006   4.31e-05    -13.807      0.000        -0.001    -0.001\n",
      "density       88.0607      4.287     20.540      0.000        79.658    96.464\n",
      "==============================================================================\n"
     ]
    }
   ],
=======
   "execution_count": 0,
   "metadata": {
    "application/vnd.databricks.v1+cell": {
     "cellMetadata": {},
     "inputWidgets": {},
     "nuid": "57abfda8-24ec-4778-aa74-6a491ee83b1c",
     "showTitle": false,
     "title": ""
    },
    "collapsed": false
   },
   "outputs": [],
>>>>>>> Stashed changes
   "source": [
    "model3 = sm.GLM.from_formula(\"totabund ~ meandepth + density\", family=sm.families.Poisson(), exposure=data.sweptarea, data=data)\n",
    "result3 = model3.fit(scale='x2')\n",
    "print(result3.summary())"
   ]
  },
  {
   "cell_type": "markdown",
<<<<<<< Updated upstream
   "metadata": {},
=======
   "metadata": {
    "application/vnd.databricks.v1+cell": {
     "cellMetadata": {},
     "inputWidgets": {},
     "nuid": "135a25a6-1861-41d6-9c86-9715d42c26af",
     "showTitle": false,
     "title": ""
    }
   },
>>>>>>> Stashed changes
   "source": [
    "If we fix the scale parameter at 1 (which is the default value for the Poisson family), we have much smaller standard errors, but these are misleading (note that the parameter estimates are the same, only the standard errors change)."
   ]
  },
  {
   "cell_type": "code",
<<<<<<< Updated upstream
   "execution_count": 11,
   "metadata": {
    "collapsed": false
   },
   "outputs": [
    {
     "name": "stdout",
     "output_type": "stream",
     "text": [
      "                 Generalized Linear Model Regression Results                  \n",
      "==============================================================================\n",
      "Dep. Variable:               totabund   No. Observations:                  147\n",
      "Model:                            GLM   Df Residuals:                      144\n",
      "Model Family:                 Poisson   Df Model:                            2\n",
      "Link Function:                    log   Scale:                             1.0\n",
      "Method:                          IRLS   Log-Likelihood:                -3174.8\n",
      "Date:                Fri, 12 Jun 2015   Deviance:                       5377.1\n",
      "Time:                        03:45:03   Pearson chi2:                 4.84e+03\n",
      "No. Iterations:                     8                                         \n",
      "==============================================================================\n",
      "                 coef    std err          z      P>|z|      [95.0% Conf. Int.]\n",
      "------------------------------------------------------------------------------\n",
      "Intercept     -4.9252      0.018   -267.167      0.000        -4.961    -4.889\n",
      "meandepth     -0.0006   7.44e-06    -80.051      0.000        -0.001    -0.001\n",
      "density       88.0607      0.739    119.087      0.000        86.611    89.510\n",
      "==============================================================================\n"
     ]
    }
   ],
=======
   "execution_count": 0,
   "metadata": {
    "application/vnd.databricks.v1+cell": {
     "cellMetadata": {},
     "inputWidgets": {},
     "nuid": "e4eb2e41-a4e7-4e58-a610-fcb0c7304ced",
     "showTitle": false,
     "title": ""
    },
    "collapsed": false
   },
   "outputs": [],
>>>>>>> Stashed changes
   "source": [
    "model4 = sm.GLM.from_formula(\"totabund ~ meandepth + density\", family=sm.families.Poisson(), exposure=data.sweptarea, data=data)\n",
    "result4 = model4.fit()\n",
    "print(result4.summary())"
   ]
  },
  {
   "cell_type": "markdown",
<<<<<<< Updated upstream
   "metadata": {},
=======
   "metadata": {
    "application/vnd.databricks.v1+cell": {
     "cellMetadata": {},
     "inputWidgets": {},
     "nuid": "be1d5a8e-8ead-4adc-99f0-39ef94d35c41",
     "showTitle": false,
     "title": ""
    }
   },
>>>>>>> Stashed changes
   "source": [
    "To further clarify the concept of overdispersion, we simulate perfect Poisson data and estimate the scale parameter.  It is reasonably close to 1 (if the sample size is not large, the estimate will vary a lot, but the mean value is still very close to 1).  Note also that the regression coefficient of `x` is accurately estimated."
   ]
  },
  {
   "cell_type": "code",
<<<<<<< Updated upstream
   "execution_count": 12,
   "metadata": {
    "collapsed": false
   },
   "outputs": [
    {
     "name": "stdout",
     "output_type": "stream",
     "text": [
      "                 Generalized Linear Model Regression Results                  \n",
      "==============================================================================\n",
      "Dep. Variable:                      y   No. Observations:                 1000\n",
      "Model:                            GLM   Df Residuals:                      999\n",
      "Model Family:                 Poisson   Df Model:                            0\n",
      "Link Function:                    log   Scale:                  0.985665138387\n",
      "Method:                          IRLS   Log-Likelihood:                -1277.9\n",
      "Date:                Fri, 12 Jun 2015   Deviance:                       1109.2\n",
      "Time:                        03:45:03   Pearson chi2:                     985.\n",
      "No. Iterations:                     7                                         \n",
      "==============================================================================\n",
      "                 coef    std err          z      P>|z|      [95.0% Conf. Int.]\n",
      "------------------------------------------------------------------------------\n",
      "x1             0.1836      0.031      5.987      0.000         0.124     0.244\n",
      "==============================================================================\n"
     ]
    }
   ],
=======
   "execution_count": 0,
   "metadata": {
    "application/vnd.databricks.v1+cell": {
     "cellMetadata": {},
     "inputWidgets": {},
     "nuid": "71a1795c-e45e-4537-af4c-63fa03dbadb5",
     "showTitle": false,
     "title": ""
    },
    "collapsed": false
   },
   "outputs": [],
>>>>>>> Stashed changes
   "source": [
    "x = np.random.normal(size=1000)\n",
    "mn = np.exp(0.2 * x)\n",
    "y = np.random.poisson(mn)\n",
    "\n",
    "model4 = sm.GLM(y, x, family=sm.families.Poisson())\n",
    "result4 = model4.fit(scale='x2')\n",
    "print(result4.summary())"
   ]
  },
  {
   "cell_type": "markdown",
<<<<<<< Updated upstream
   "metadata": {},
=======
   "metadata": {
    "application/vnd.databricks.v1+cell": {
     "cellMetadata": {},
     "inputWidgets": {},
     "nuid": "a92cd7cd-d87b-43b9-b2ee-ca7f8a5a764f",
     "showTitle": false,
     "title": ""
    }
   },
>>>>>>> Stashed changes
   "source": [
    "__Negative binomial regression__\n",
    "\n",
    "A negative binomial GLM is a GLM for non-negative dependent variables (like Poisson regression).  Also like Poisson regression, it is most often used with an exponential mean structure.  However unlike in Poisson regression, the mean is not equal to the variance.  Instead, the variance has the form `m + a*m^2`, for a positive parameter `a` that we can choose or fit to the data.  Below we use maximum likelihood to estimate `a`."
   ]
  },
  {
   "cell_type": "code",
<<<<<<< Updated upstream
   "execution_count": 13,
   "metadata": {
    "collapsed": false
   },
   "outputs": [
    {
     "data": {
      "text/plain": [
       "<matplotlib.text.Text at 0x7ffafa2725f8>"
      ]
     },
     "execution_count": 13,
     "metadata": {},
     "output_type": "execute_result"
    },
    {
     "data": {
      "image/png": "iVBORw0KGgoAAAANSUhEUgAAAZUAAAEUCAYAAADjt6tGAAAABHNCSVQICAgIfAhkiAAAAAlwSFlz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\nrkJggg==\n",
      "text/plain": [
       "<matplotlib.figure.Figure at 0x7ffafdc887b8>"
      ]
     },
     "metadata": {},
     "output_type": "display_data"
    }
   ],
=======
   "execution_count": 0,
   "metadata": {
    "application/vnd.databricks.v1+cell": {
     "cellMetadata": {},
     "inputWidgets": {},
     "nuid": "335c27ed-0e80-447b-aa33-034334fee470",
     "showTitle": false,
     "title": ""
    },
    "collapsed": false
   },
   "outputs": [],
>>>>>>> Stashed changes
   "source": [
    "loglike = []\n",
    "a_values = np.linspace(0.1, 1.5, 20) \n",
    "for a in a_values:\n",
    "    model = sm.GLM.from_formula(\"totabund ~ meandepth + density\", family=sm.families.NegativeBinomial(alpha=a), exposure=data.sweptarea, data=data)\n",
    "    result = model.fit()\n",
    "    loglike.append(result.llf)\n",
    "    \n",
    "loglike = np.asarray(loglike)\n",
    "plt.plot(a_values, loglike)\n",
    "plt.ylabel(\"Log likelihood\", size=15)\n",
    "plt.xlabel(\"Negative binomial parameter\", size=15)"
   ]
  },
  {
   "cell_type": "markdown",
<<<<<<< Updated upstream
   "metadata": {},
   "source": [
    "The estimate of `a` is around 0.3, meaning that the variance is roughly equal to `m + 0.3*m^2`.\n",
    "\n",
    "We can plot the fitted negative bnomial variance pattern together with the empirical means and variances in the quintiles of data.  The agreement is quite good. "
=======
   "metadata": {
    "application/vnd.databricks.v1+cell": {
     "cellMetadata": {},
     "inputWidgets": {},
     "nuid": "3f5cb021-663d-4204-b2bf-a96e2b82ea38",
     "showTitle": false,
     "title": ""
    }
   },
   "source": [
    "The estimate of `a` is around 0.3, meaning that the variance is roughly equal to `m + 0.3*m^2`.\n",
    "\n",
    "We can plot the fitted negative bnomial variance pattern together with the empirical means and variances in the quintiles of data.  The agreement is quite good."
>>>>>>> Stashed changes
   ]
  },
  {
   "cell_type": "code",
<<<<<<< Updated upstream
   "execution_count": 14,
   "metadata": {
    "collapsed": false
   },
   "outputs": [
    {
     "data": {
      "text/plain": [
       "<matplotlib.text.Text at 0x7ffafa26bdd8>"
      ]
     },
     "execution_count": 14,
     "metadata": {},
     "output_type": "execute_result"
    },
    {
     "data": {
      "image/png": "iVBORw0KGgoAAAANSUhEUgAAAYYAAAEUCAYAAAAvLpGtAAAABHNCSVQICAgIfAhkiAAAAAlwSFlz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\nZuO4YTAzs3HcMJiZ2Tj/H+Zw4qo8G3qcAAAAAElFTkSuQmCC\n",
      "text/plain": [
       "<matplotlib.figure.Figure at 0x7ffafa285b00>"
      ]
     },
     "metadata": {},
     "output_type": "display_data"
    }
   ],
=======
   "execution_count": 0,
   "metadata": {
    "application/vnd.databricks.v1+cell": {
     "cellMetadata": {},
     "inputWidgets": {},
     "nuid": "fac14836-7933-44b3-a9a9-52df80d89c78",
     "showTitle": false,
     "title": ""
    },
    "collapsed": false
   },
   "outputs": [],
>>>>>>> Stashed changes
   "source": [
    "plt.grid(True)\n",
    "plt.plot(moments_log2[:, 0], moments_log2[:, 1], 'o')\n",
    "va_log2 = np.log(moments[:, 0] + 0.3*moments[:, 0]**2)/np.log(2)\n",
    "plt.plot(moments_log2[:, 0], va_log2, '-o')\n",
    "plt.plot([4, 20], [4, 20], '-', color='black')\n",
    "plt.xlim(4, 20)\n",
    "plt.ylim(4, 20)\n",
    "plt.xlabel(\"Log2 mean\", size=15)\n",
    "plt.ylabel(\"Log2 variance\", size=15)"
   ]
  }
 ],
 "metadata": {
<<<<<<< Updated upstream
=======
  "application/vnd.databricks.v1+notebook": {
   "dashboards": [],
   "language": "python",
   "notebookMetadata": {},
   "notebookName": "fish_abundances",
   "widgets": {}
  },
>>>>>>> Stashed changes
  "kernelspec": {
   "display_name": "Python 3",
   "language": "python",
   "name": "python3"
  },
  "language_info": {
   "codemirror_mode": {
    "name": "ipython",
    "version": 3
   },
   "file_extension": ".py",
   "mimetype": "text/x-python",
   "name": "python",
   "nbconvert_exporter": "python",
   "pygments_lexer": "ipython3",
   "version": "3.4.3"
  },
  "name": "fish_abundances.ipynb"
 },
 "nbformat": 4,
 "nbformat_minor": 0
}
