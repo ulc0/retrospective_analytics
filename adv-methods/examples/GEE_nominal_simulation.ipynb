{
<<<<<<< Updated upstream
 "metadata": {
  "name": "",
  "signature": "sha256:1824e7f5da99dc7e0d19c23d47c69f55d8640c3390ca1e79e74671463346641e"
 },
 "nbformat": 3,
 "nbformat_minor": 0,
 "worksheets": [
  {
   "cells": [
    {
     "cell_type": "markdown",
     "metadata": {},
     "source": [
      "Generalized Estimating Equations\n",
      "================================\n",
      "\n",
      "*Key ideas:* GEE, nominal data, simulation studies, sensitivity analyses"
     ]
    },
    {
     "cell_type": "markdown",
     "metadata": {},
     "source": [
      "This notebook demonstrates GEE analysis for a nominal response variable, using simulated data.  We simulate data from multinomial distributions with group-wise dependence and covariate effects.  \"Group-wise dependence\" means that the outcomes for observations in the same group are correlated.  \"Covariate effects\" means that the marginal outcome distribution for each observation depends on a vector of covariates.  We show that we are able to recover much of this structure through the regression analysis.\n",
      "\n",
      "Here are the import statements:"
     ]
    },
    {
     "cell_type": "code",
     "collapsed": false,
     "input": [
      "import numpy as np\n",
      "import statsmodels.api as sm\n",
      "from scipy.stats.distributions import norm"
     ],
     "language": "python",
     "metadata": {},
     "outputs": [],
     "prompt_number": 1
    },
    {
     "cell_type": "markdown",
     "metadata": {},
     "source": [
      "Next we define the two values that control how the data are simulated.  The data are structured as a set of dependent paired observations (values in different pairs are independent of each other).  Each value in a pair can take on one of three possible states (i.e. the sample space of the dependent variable has three values).  The values in `params` control the regression structure.  The probabilities of the three outcomes are proportional to exp(params[0]' x), exp(params[1]' x) and exp(params[2]' x).  The third category is the \"reference category\"."
     ]
    },
    {
     "cell_type": "code",
     "collapsed": false,
     "input": [
      "n = 500\n",
      "params = [np.r_[1, 0, -1], [0, 1, 0], [0, 0, 0]]"
     ],
     "language": "python",
     "metadata": {},
     "outputs": [],
     "prompt_number": 2
    },
    {
     "cell_type": "markdown",
     "metadata": {},
     "source": [
      "The following 'prob' function takes the covariate data and the parameters and returns a matrix of probabilities.  Each row of the result is a discrete probability distribution that is the marginal outcome distribution for one observation."
     ]
    },
    {
     "cell_type": "code",
     "collapsed": false,
     "input": [
      "def prob(exog, params):\n",
      "    pr = [np.dot(exog, p) for p in params]\n",
      "    pr = np.vstack(pr).T\n",
      "    pr = np.exp(pr)\n",
      "    pr /= pr.sum(1)[:, None]\n",
      "    return pr"
     ],
     "language": "python",
     "metadata": {},
     "outputs": [],
     "prompt_number": 3
    },
    {
     "cell_type": "markdown",
     "metadata": {},
     "source": [
      "The 'sample' function returns paired observations, based on the marginal distributions `pr1` and `pr2`.  (the i^th rows of pr1 and pr2 are the marginal distributions for one paired sample).  Dependence in the paired observations is induced using a Gaussian copula, with correlation parameter `r`."
     ]
    },
    {
     "cell_type": "code",
     "collapsed": false,
     "input": [
      "def sample(pr1, pr2, r):\n",
      "    \n",
      "    n = len(pr1)\n",
      "    z1 = np.random.normal(size=n)\n",
      "    z2 = r*z1 + np.sqrt(1 - r**2)*np.random.normal(size=n)\n",
      "    \n",
      "    cpr1 = np.cumsum(pr1, 1)\n",
      "    cpr2 = np.cumsum(pr2, 1)\n",
      "    \n",
      "    endog1 = np.zeros(n)\n",
      "    endog2 = np.zeros(n)\n",
      "    \n",
      "    for i in range(n):\n",
      "        q1 = norm.ppf(cpr1[i, :])\n",
      "        q2 = norm.ppf(cpr2[i, :])\n",
      "        endog1[i] = np.sum(z1[i] > q1)\n",
      "        endog2[i] = np.sum(z2[i] > q2)\n",
      "\n",
      "    return endog1, endog2"
     ],
     "language": "python",
     "metadata": {},
     "outputs": [],
     "prompt_number": 4
    },
    {
     "cell_type": "markdown",
     "metadata": {},
     "source": [
      "Here is a function to generate one data set."
     ]
    },
    {
     "cell_type": "code",
     "collapsed": false,
     "input": [
      "def generate_data(r):\n",
      "    \n",
      "    exog1 = np.random.normal(size=(n,3))\n",
      "    exog2 = np.random.normal(size=(n,3))\n",
      "\n",
      "    pr1 = prob(exog1, params)\n",
      "    pr2 = prob(exog2, params)\n",
      "\n",
      "    endog1, endog2 = sample(pr1, pr2, r)\n",
      "\n",
      "    endog = np.asarray(zip(endog1, endog2))\n",
      "    endog, exog = [], []\n",
      "    for i in range(n):\n",
      "        endog.append(endog1[i])\n",
      "        endog.append(endog2[i])\n",
      "        exog.append(exog1[i,:])\n",
      "        exog.append(exog2[i,:])\n",
      "    endog = np.asarray(endog)\n",
      "    exog = np.asarray(exog)\n",
      "\n",
      "    groups = np.kron(np.arange(n), [1, 1])\n",
      "    \n",
      "    return endog, exog, groups"
     ],
     "language": "python",
     "metadata": {},
     "outputs": [],
     "prompt_number": 5
    },
    {
     "cell_type": "markdown",
     "metadata": {},
     "source": [
      "### Fitting a model using an independence covariance structure\n",
      "\n",
      "Next we generate a dataset and fit it using an independence covariance structure.  The parameter estimates can be compared to their population values specified above as `params`."
     ]
    },
    {
     "cell_type": "code",
     "collapsed": false,
     "input": [
      "endog, exog, groups = generate_data(0.4) \n",
      "ind = sm.cov_struct.Independence()\n",
      "model = sm.NominalGEE(endog, exog, groups, cov_struct=ind)\n",
      "result = model.fit()\n",
      "pa = result.params\n",
      "print result.summary()"
     ],
     "language": "python",
     "metadata": {},
     "outputs": [
      {
       "output_type": "stream",
       "stream": "stdout",
       "text": [
        "                           NominalGEE Regression Results                           \n",
        "===================================================================================\n",
        "Dep. Variable:                           y   No. Observations:                 2000\n",
        "Model:                          NominalGEE   No. clusters:                      500\n",
        "Method:                        Generalized   Min. cluster size:                   4\n",
        "                      Estimating Equations   Max. cluster size:                   4\n",
        "Family:                       _Multinomial   Mean cluster size:                 4.0\n",
        "Dependence structure:         Independence   Num. iterations:                    26\n",
        "Date:                     Mon, 12 Jan 2015   Scale:                           1.000\n",
        "Covariance type:                    robust   Time:                         00:26:21\n",
        "==============================================================================\n",
        "                 coef    std err          z      P>|z|      [95.0% Conf. Int.]\n",
        "------------------------------------------------------------------------------\n",
        "x1[0.0]        0.9592      0.090     10.690      0.000         0.783     1.135\n",
        "x2[0.0]       -0.0216      0.078     -0.277      0.782        -0.175     0.132\n",
        "x3[0.0]       -1.0851      0.087    -12.404      0.000        -1.257    -0.914\n",
        "x1[1.0]       -0.1116      0.078     -1.426      0.154        -0.265     0.042\n",
        "x2[1.0]        0.9270      0.086     10.763      0.000         0.758     1.096\n",
        "x3[1.0]       -0.0480      0.080     -0.599      0.549        -0.205     0.109\n",
        "==============================================================================\n",
        "Skew:                          0.4961   Kurtosis:                      -0.5085\n",
        "Centered skew:                 0.2899   Centered kurtosis:             -0.3846\n",
        "==============================================================================\n"
       ]
      }
     ],
     "prompt_number": 6
    },
    {
     "cell_type": "markdown",
     "metadata": {},
     "source": [
      "Next we make a plot that displays the fitted probabilities for two hypothetical subjects."
     ]
    },
    {
     "cell_type": "code",
     "collapsed": false,
     "input": [
      "p = result.plot_distribution(None, [{\"x1\": 0, \"x2\": 0, \"x3\": 1}, {\"x1\": 0, \"x2\": 0, \"x3\": 5}])\n",
      "ax = p.get_axes()[0]\n",
      "ax.set_xlim(-0.05, 2.05)\n",
      "ax.set_ylim(-0.05, 1.05)\n",
      "li = ax.lines\n",
      "leg = plt.figlegend(li, (\"1\", \"2\"), \"upper center\", ncol=2)\n",
      "leg.draw_frame(False)"
     ],
     "language": "python",
     "metadata": {},
     "outputs": [
      {
       "metadata": {},
       "output_type": "display_data",
       "png": "iVBORw0KGgoAAAANSUhEUgAAAX4AAAEhCAYAAAB4AsveAAAABHNCSVQICAgIfAhkiAAAAAlwSFlz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\nRERERERERERERERERCSw/h/5ek3xCUGbFAAAAABJRU5ErkJggg==\n",
       "text": [
        "<matplotlib.figure.Figure at 0x7f7e32ea3090>"
       ]
      }
     ],
     "prompt_number": 7
    },
    {
     "cell_type": "markdown",
     "metadata": {},
     "source": [
      "### Fitting a model to capture the dependence\n",
      "\n",
      "Next we fit a model with a \"global odds ratio\" dependence structure.  This means that any two pairs of binary indicators derived from different observations in the same group are modeled as having the same odds ratio, irrespective of which thresholds were used to produce the values."
     ]
    },
    {
     "cell_type": "code",
     "collapsed": false,
     "input": [
      "gor = sm.cov_struct.GlobalOddsRatio(\"nominal\")\n",
      "model = sm.NominalGEE(endog, exog, groups, cov_struct=gor)\n",
      "result = model.fit(start_params=pa, maxiter=100)\n",
      "print result.summary()\n",
      "print gor.summary()"
     ],
     "language": "python",
     "metadata": {},
     "outputs": [
      {
       "output_type": "stream",
       "stream": "stdout",
       "text": [
        "                           NominalGEE Regression Results                           \n",
        "===================================================================================\n",
        "Dep. Variable:                           y   No. Observations:                 2000\n",
        "Model:                          NominalGEE   No. clusters:                      500\n",
        "Method:                        Generalized   Min. cluster size:                   4\n",
        "                      Estimating Equations   Max. cluster size:                   4\n",
        "Family:                       _Multinomial   Mean cluster size:                 4.0\n",
        "Dependence structure:      GlobalOddsRatio   Num. iterations:                    47\n",
        "Date:                     Mon, 12 Jan 2015   Scale:                           1.000\n",
        "Covariance type:                    robust   Time:                         00:26:41\n",
        "==============================================================================\n",
        "                 coef    std err          z      P>|z|      [95.0% Conf. Int.]\n",
        "------------------------------------------------------------------------------\n",
        "x1[0.0]        0.8530      0.079     10.823      0.000         0.698     1.007\n",
        "x2[0.0]       -0.0650      0.070     -0.928      0.354        -0.202     0.072\n",
        "x3[0.0]       -0.9353      0.072    -12.940      0.000        -1.077    -0.794\n",
        "x1[1.0]       -0.1758      0.076     -2.299      0.021        -0.326    -0.026\n",
        "x2[1.0]        0.8493      0.074     11.476      0.000         0.704     0.994\n",
        "x3[1.0]        0.0157      0.074      0.212      0.832        -0.130     0.161\n",
        "==============================================================================\n",
        "Skew:                          0.5066   Kurtosis:                      -0.5997\n",
        "Centered skew:                 0.2964   Centered kurtosis:             -0.4604\n",
        "==============================================================================\n",
        "Global odds ratio: 1.813\n",
        "\n"
       ]
      }
     ],
     "prompt_number": 8
    },
    {
     "cell_type": "markdown",
     "metadata": {},
     "source": [
      "The following plot shows the fitted global odds ratio relative to the iteration count.  The starting point is the \"crude odds ratio\", which is biased toward zero.  It just takes a few iterations to remove this bias."
     ]
    },
    {
     "cell_type": "code",
     "collapsed": false,
     "input": [
      "plt.plot(result.fit_history['dep_params'])\n",
      "plt.xlabel(\"Iteration\", size=14)\n",
      "plt.ylabel(\"Global odds ratio\", size=14)"
     ],
     "language": "python",
     "metadata": {},
     "outputs": [
      {
       "metadata": {},
       "output_type": "pyout",
       "prompt_number": 9,
       "text": [
        "<matplotlib.text.Text at 0x7f7e32d94410>"
       ]
      },
      {
       "metadata": {},
       "output_type": "display_data",
       "png": "iVBORw0KGgoAAAANSUhEUgAAAYgAAAETCAYAAAAs4pGmAAAABHNCSVQICAgIfAhkiAAAAAlwSFlz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\nHer/A0nJznE9YFI0AAAAAElFTkSuQmCC\n",
       "text": [
        "<matplotlib.figure.Figure at 0x7f7e350f8f90>"
       ]
      }
     ],
     "prompt_number": 9
    },
    {
     "cell_type": "markdown",
     "metadata": {},
     "source": [
      "We can also check to see how fast the fitting algorithm converged."
     ]
    },
    {
     "cell_type": "code",
     "collapsed": false,
     "input": [
      "plt.plot([np.sqrt(np.sum(x**2)) for x in result.fit_history['score']])\n",
      "plt.xlabel(\"Iteration\", size=14)\n",
      "plt.ylabel(\"Score norm\", size=14)"
     ],
     "language": "python",
     "metadata": {},
     "outputs": [
      {
       "metadata": {},
       "output_type": "pyout",
       "prompt_number": 14,
       "text": [
        "<matplotlib.text.Text at 0x7f7e32a2f610>"
       ]
      },
      {
       "metadata": {},
       "output_type": "display_data",
       "png": "iVBORw0KGgoAAAANSUhEUgAAAYUAAAETCAYAAADZHBoWAAAABHNCSVQICAgIfAhkiAAAAAlwSFlz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\n",
       "text": [
        "<matplotlib.figure.Figure at 0x7f7e32c396d0>"
       ]
      }
     ],
     "prompt_number": 14
    },
    {
     "cell_type": "markdown",
     "metadata": {},
     "source": [
      "### Sensitivity analysis\n",
      "\n",
      "Next we conduct a sensitivity analysis to assess how the parameter estimates vary with the degree of within-cluster dependence (the global odds ratio).  We fit a sequence of models with odds ratios ranging from 1 to 1.5.  For each model, the dependence structure is held fixed, so we are only optimizing the regression coefficients."
     ]
    },
    {
     "cell_type": "code",
     "collapsed": false,
     "input": [
      "results = result.params_sensitivity(1, 3.0, 3)"
     ],
     "language": "python",
     "metadata": {},
     "outputs": [
      {
       "output_type": "stream",
       "stream": "stderr",
       "text": [
        "/projects/3c16f532-d309-4425-850f-a41a8c8f8c92/statsmodels-master/statsmodels/genmod/generalized_estimating_equations.py:1078: IterationLimitWarning: Iteration limit reached prior to convergence\n",
        "  IterationLimitWarning)\n"
       ]
      }
     ],
     "prompt_number": 15
    },
    {
     "cell_type": "markdown",
     "metadata": {},
     "source": [
      "Next we plot the parameter estimates (+/-2 SE) obtained in the sensitivity analysis against the global odds ratio value."
     ]
    },
    {
     "cell_type": "code",
     "collapsed": false,
     "input": [
      "dep_params = np.asarray([x.cov_struct.dep_params for x in results])\n",
      "for ix in range(3):\n",
      "    pa = np.asarray([x.params[ix] for x in results])\n",
      "    se = np.asarray([x.bse[ix] for x in results])\n",
      "    plt.plot(dep_params, pa, color='purple', ls='-')\n",
      "    plt.plot(dep_params, pa + 2*se, color='grey')\n",
      "    plt.plot(dep_params, pa - 2*se, color='grey')\n",
      "    plt.xlabel(\"Global odds ratio\", size=14)\n",
      "    plt.ylabel(\"Parameter estimate\", size=14)"
     ],
     "language": "python",
     "metadata": {},
     "outputs": [
      {
       "metadata": {},
       "output_type": "display_data",
       "png": "iVBORw0KGgoAAAANSUhEUgAAAZEAAAETCAYAAAD3WTuEAAAABHNCSVQICAgIfAhkiAAAAAlwSFlz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\n",
       "text": [
        "<matplotlib.figure.Figure at 0x7f7e32cb1410>"
       ]
      }
     ],
     "prompt_number": 16
    }
   ],
   "metadata": {}
  }
 ]
}
=======
 "cells": [
  {
   "cell_type": "markdown",
   "metadata": {
    "application/vnd.databricks.v1+cell": {
     "cellMetadata": {},
     "inputWidgets": {},
     "nuid": "81d6035f-008a-42e8-9a05-f20cbe9d6b61",
     "showTitle": false,
     "title": ""
    }
   },
   "source": [
    "Generalized Estimating Equations\n",
    "================================\n",
    "\n",
    "*Key ideas:* GEE, nominal data, simulation studies, sensitivity analyses"
   ]
  },
  {
   "cell_type": "markdown",
   "metadata": {
    "application/vnd.databricks.v1+cell": {
     "cellMetadata": {},
     "inputWidgets": {},
     "nuid": "7f4090b5-b3e3-4dcf-8e8e-5ad051f65bf8",
     "showTitle": false,
     "title": ""
    }
   },
   "source": [
    "This notebook demonstrates GEE analysis for a nominal response variable, using simulated data.  We simulate data from multinomial distributions with group-wise dependence and covariate effects.  \"Group-wise dependence\" means that the outcomes for observations in the same group are correlated.  \"Covariate effects\" means that the marginal outcome distribution for each observation depends on a vector of covariates.  We show that we are able to recover much of this structure through the regression analysis.\n",
    "\n",
    "Here are the import statements:"
   ]
  },
  {
   "cell_type": "code",
   "execution_count": 0,
   "metadata": {
    "application/vnd.databricks.v1+cell": {
     "cellMetadata": {},
     "inputWidgets": {},
     "nuid": "fbef9876-3a98-44ab-bed0-48b285d3fd03",
     "showTitle": false,
     "title": ""
    }
   },
   "outputs": [],
   "source": [
    "import numpy as np\n",
    "import statsmodels.api as sm\n",
    "from scipy.stats.distributions import norm"
   ]
  },
  {
   "cell_type": "markdown",
   "metadata": {
    "application/vnd.databricks.v1+cell": {
     "cellMetadata": {},
     "inputWidgets": {},
     "nuid": "305ddebc-1d45-4992-97b8-6ee540073859",
     "showTitle": false,
     "title": ""
    }
   },
   "source": [
    "Next we define the two values that control how the data are simulated.  The data are structured as a set of dependent paired observations (values in different pairs are independent of each other).  Each value in a pair can take on one of three possible states (i.e. the sample space of the dependent variable has three values).  The values in `params` control the regression structure.  The probabilities of the three outcomes are proportional to exp(params[0]' x), exp(params[1]' x) and exp(params[2]' x).  The third category is the \"reference category\"."
   ]
  },
  {
   "cell_type": "code",
   "execution_count": 0,
   "metadata": {
    "application/vnd.databricks.v1+cell": {
     "cellMetadata": {},
     "inputWidgets": {},
     "nuid": "d9dccc24-8618-4cbe-9e7e-3645c167b6aa",
     "showTitle": false,
     "title": ""
    }
   },
   "outputs": [],
   "source": [
    "n = 500\n",
    "params = [np.r_[1, 0, -1], [0, 1, 0], [0, 0, 0]]"
   ]
  },
  {
   "cell_type": "markdown",
   "metadata": {
    "application/vnd.databricks.v1+cell": {
     "cellMetadata": {},
     "inputWidgets": {},
     "nuid": "bbeb6cb1-4314-4887-bd68-0baf3dc23594",
     "showTitle": false,
     "title": ""
    }
   },
   "source": [
    "The following 'prob' function takes the covariate data and the parameters and returns a matrix of probabilities.  Each row of the result is a discrete probability distribution that is the marginal outcome distribution for one observation."
   ]
  },
  {
   "cell_type": "code",
   "execution_count": 0,
   "metadata": {
    "application/vnd.databricks.v1+cell": {
     "cellMetadata": {},
     "inputWidgets": {},
     "nuid": "2b58bafd-98e2-4018-b9eb-7ed7beaa75ad",
     "showTitle": false,
     "title": ""
    }
   },
   "outputs": [],
   "source": [
    "def prob(exog, params):\n",
    "    pr = [np.dot(exog, p) for p in params]\n",
    "    pr = np.vstack(pr).T\n",
    "    pr = np.exp(pr)\n",
    "    pr /= pr.sum(1)[:, None]\n",
    "    return pr"
   ]
  },
  {
   "cell_type": "markdown",
   "metadata": {
    "application/vnd.databricks.v1+cell": {
     "cellMetadata": {},
     "inputWidgets": {},
     "nuid": "3f31d7bb-b00a-4af4-8f30-4f719aa45f83",
     "showTitle": false,
     "title": ""
    }
   },
   "source": [
    "The 'sample' function returns paired observations, based on the marginal distributions `pr1` and `pr2`.  (the i^th rows of pr1 and pr2 are the marginal distributions for one paired sample).  Dependence in the paired observations is induced using a Gaussian copula, with correlation parameter `r`."
   ]
  },
  {
   "cell_type": "code",
   "execution_count": 0,
   "metadata": {
    "application/vnd.databricks.v1+cell": {
     "cellMetadata": {},
     "inputWidgets": {},
     "nuid": "171a1e33-ad83-4925-9882-682b03d67fd6",
     "showTitle": false,
     "title": ""
    }
   },
   "outputs": [],
   "source": [
    "def sample(pr1, pr2, r):\n",
    "    \n",
    "    n = len(pr1)\n",
    "    z1 = np.random.normal(size=n)\n",
    "    z2 = r*z1 + np.sqrt(1 - r**2)*np.random.normal(size=n)\n",
    "    \n",
    "    cpr1 = np.cumsum(pr1, 1)\n",
    "    cpr2 = np.cumsum(pr2, 1)\n",
    "    \n",
    "    endog1 = np.zeros(n)\n",
    "    endog2 = np.zeros(n)\n",
    "    \n",
    "    for i in range(n):\n",
    "        q1 = norm.ppf(cpr1[i, :])\n",
    "        q2 = norm.ppf(cpr2[i, :])\n",
    "        endog1[i] = np.sum(z1[i] > q1)\n",
    "        endog2[i] = np.sum(z2[i] > q2)\n",
    "\n",
    "    return endog1, endog2"
   ]
  },
  {
   "cell_type": "markdown",
   "metadata": {
    "application/vnd.databricks.v1+cell": {
     "cellMetadata": {},
     "inputWidgets": {},
     "nuid": "d1743a64-4a55-4383-bbe4-09f16c86bae5",
     "showTitle": false,
     "title": ""
    }
   },
   "source": [
    "Here is a function to generate one data set."
   ]
  },
  {
   "cell_type": "code",
   "execution_count": 0,
   "metadata": {
    "application/vnd.databricks.v1+cell": {
     "cellMetadata": {},
     "inputWidgets": {},
     "nuid": "a8db7ee3-25c6-4ca9-9cf7-de67a16aca4c",
     "showTitle": false,
     "title": ""
    }
   },
   "outputs": [],
   "source": [
    "def generate_data(r):\n",
    "    \n",
    "    exog1 = np.random.normal(size=(n,3))\n",
    "    exog2 = np.random.normal(size=(n,3))\n",
    "\n",
    "    pr1 = prob(exog1, params)\n",
    "    pr2 = prob(exog2, params)\n",
    "\n",
    "    endog1, endog2 = sample(pr1, pr2, r)\n",
    "\n",
    "    endog = np.asarray(zip(endog1, endog2))\n",
    "    endog, exog = [], []\n",
    "    for i in range(n):\n",
    "        endog.append(endog1[i])\n",
    "        endog.append(endog2[i])\n",
    "        exog.append(exog1[i,:])\n",
    "        exog.append(exog2[i,:])\n",
    "    endog = np.asarray(endog)\n",
    "    exog = np.asarray(exog)\n",
    "\n",
    "    groups = np.kron(np.arange(n), [1, 1])\n",
    "    \n",
    "    return endog, exog, groups"
   ]
  },
  {
   "cell_type": "markdown",
   "metadata": {
    "application/vnd.databricks.v1+cell": {
     "cellMetadata": {},
     "inputWidgets": {},
     "nuid": "6fd3ae64-9e3d-4931-a262-bdcfba0b9ee3",
     "showTitle": false,
     "title": ""
    }
   },
   "source": [
    "### Fitting a model using an independence covariance structure\n",
    "\n",
    "Next we generate a dataset and fit it using an independence covariance structure.  The parameter estimates can be compared to their population values specified above as `params`."
   ]
  },
  {
   "cell_type": "code",
   "execution_count": 0,
   "metadata": {
    "application/vnd.databricks.v1+cell": {
     "cellMetadata": {},
     "inputWidgets": {},
     "nuid": "8c041b6c-1bf7-46c6-9240-13daada035af",
     "showTitle": false,
     "title": ""
    }
   },
   "outputs": [],
   "source": [
    "endog, exog, groups = generate_data(0.4) \n",
    "ind = sm.cov_struct.Independence()\n",
    "model = sm.NominalGEE(endog, exog, groups, cov_struct=ind)\n",
    "result = model.fit()\n",
    "pa = result.params\n",
    "print result.summary()"
   ]
  },
  {
   "cell_type": "markdown",
   "metadata": {
    "application/vnd.databricks.v1+cell": {
     "cellMetadata": {},
     "inputWidgets": {},
     "nuid": "3f7f61e4-5187-4f2c-af16-a3b85e24c3d6",
     "showTitle": false,
     "title": ""
    }
   },
   "source": [
    "Next we make a plot that displays the fitted probabilities for two hypothetical subjects."
   ]
  },
  {
   "cell_type": "code",
   "execution_count": 0,
   "metadata": {
    "application/vnd.databricks.v1+cell": {
     "cellMetadata": {},
     "inputWidgets": {},
     "nuid": "0d4d849f-484e-44b7-a992-ec06737a1933",
     "showTitle": false,
     "title": ""
    }
   },
   "outputs": [],
   "source": [
    "p = result.plot_distribution(None, [{\"x1\": 0, \"x2\": 0, \"x3\": 1}, {\"x1\": 0, \"x2\": 0, \"x3\": 5}])\n",
    "ax = p.get_axes()[0]\n",
    "ax.set_xlim(-0.05, 2.05)\n",
    "ax.set_ylim(-0.05, 1.05)\n",
    "li = ax.lines\n",
    "leg = plt.figlegend(li, (\"1\", \"2\"), \"upper center\", ncol=2)\n",
    "leg.draw_frame(False)"
   ]
  },
  {
   "cell_type": "markdown",
   "metadata": {
    "application/vnd.databricks.v1+cell": {
     "cellMetadata": {},
     "inputWidgets": {},
     "nuid": "695c5fce-c879-49fc-99c4-83ef0362ffeb",
     "showTitle": false,
     "title": ""
    }
   },
   "source": [
    "### Fitting a model to capture the dependence\n",
    "\n",
    "Next we fit a model with a \"global odds ratio\" dependence structure.  This means that any two pairs of binary indicators derived from different observations in the same group are modeled as having the same odds ratio, irrespective of which thresholds were used to produce the values."
   ]
  },
  {
   "cell_type": "code",
   "execution_count": 0,
   "metadata": {
    "application/vnd.databricks.v1+cell": {
     "cellMetadata": {},
     "inputWidgets": {},
     "nuid": "9e119ce3-ba7b-43a2-baf2-19a7bd462a98",
     "showTitle": false,
     "title": ""
    }
   },
   "outputs": [],
   "source": [
    "gor = sm.cov_struct.GlobalOddsRatio(\"nominal\")\n",
    "model = sm.NominalGEE(endog, exog, groups, cov_struct=gor)\n",
    "result = model.fit(start_params=pa, maxiter=100)\n",
    "print result.summary()\n",
    "print gor.summary()"
   ]
  },
  {
   "cell_type": "markdown",
   "metadata": {
    "application/vnd.databricks.v1+cell": {
     "cellMetadata": {},
     "inputWidgets": {},
     "nuid": "acae688c-9261-4088-a70a-37728454ef89",
     "showTitle": false,
     "title": ""
    }
   },
   "source": [
    "The following plot shows the fitted global odds ratio relative to the iteration count.  The starting point is the \"crude odds ratio\", which is biased toward zero.  It just takes a few iterations to remove this bias."
   ]
  },
  {
   "cell_type": "code",
   "execution_count": 0,
   "metadata": {
    "application/vnd.databricks.v1+cell": {
     "cellMetadata": {},
     "inputWidgets": {},
     "nuid": "a466d8ac-9ffb-4cd5-87a9-8b8aab37caed",
     "showTitle": false,
     "title": ""
    }
   },
   "outputs": [],
   "source": [
    "plt.plot(result.fit_history['dep_params'])\n",
    "plt.xlabel(\"Iteration\", size=14)\n",
    "plt.ylabel(\"Global odds ratio\", size=14)"
   ]
  },
  {
   "cell_type": "markdown",
   "metadata": {
    "application/vnd.databricks.v1+cell": {
     "cellMetadata": {},
     "inputWidgets": {},
     "nuid": "1931290a-aa6a-49c5-90ab-36410620c269",
     "showTitle": false,
     "title": ""
    }
   },
   "source": [
    "We can also check to see how fast the fitting algorithm converged."
   ]
  },
  {
   "cell_type": "code",
   "execution_count": 0,
   "metadata": {
    "application/vnd.databricks.v1+cell": {
     "cellMetadata": {},
     "inputWidgets": {},
     "nuid": "46aeee36-b117-4d23-adfa-664eb3b9a894",
     "showTitle": false,
     "title": ""
    }
   },
   "outputs": [],
   "source": [
    "plt.plot([np.sqrt(np.sum(x**2)) for x in result.fit_history['score']])\n",
    "plt.xlabel(\"Iteration\", size=14)\n",
    "plt.ylabel(\"Score norm\", size=14)"
   ]
  },
  {
   "cell_type": "markdown",
   "metadata": {
    "application/vnd.databricks.v1+cell": {
     "cellMetadata": {},
     "inputWidgets": {},
     "nuid": "520f4dd2-c1ec-4903-a8bf-3119fb8cb83d",
     "showTitle": false,
     "title": ""
    }
   },
   "source": [
    "### Sensitivity analysis\n",
    "\n",
    "Next we conduct a sensitivity analysis to assess how the parameter estimates vary with the degree of within-cluster dependence (the global odds ratio).  We fit a sequence of models with odds ratios ranging from 1 to 1.5.  For each model, the dependence structure is held fixed, so we are only optimizing the regression coefficients."
   ]
  },
  {
   "cell_type": "code",
   "execution_count": 0,
   "metadata": {
    "application/vnd.databricks.v1+cell": {
     "cellMetadata": {},
     "inputWidgets": {},
     "nuid": "9d1ebd86-0231-438d-82f0-d4634892dca5",
     "showTitle": false,
     "title": ""
    }
   },
   "outputs": [],
   "source": [
    "results = result.params_sensitivity(1, 3.0, 3)"
   ]
  },
  {
   "cell_type": "markdown",
   "metadata": {
    "application/vnd.databricks.v1+cell": {
     "cellMetadata": {},
     "inputWidgets": {},
     "nuid": "8157c65b-1bfb-4c62-879c-5670753b466e",
     "showTitle": false,
     "title": ""
    }
   },
   "source": [
    "Next we plot the parameter estimates (+/-2 SE) obtained in the sensitivity analysis against the global odds ratio value."
   ]
  },
  {
   "cell_type": "code",
   "execution_count": 0,
   "metadata": {
    "application/vnd.databricks.v1+cell": {
     "cellMetadata": {},
     "inputWidgets": {},
     "nuid": "39bb6688-26a7-4d6a-be8d-8e32a5959b3b",
     "showTitle": false,
     "title": ""
    }
   },
   "outputs": [],
   "source": [
    "dep_params = np.asarray([x.cov_struct.dep_params for x in results])\n",
    "for ix in range(3):\n",
    "    pa = np.asarray([x.params[ix] for x in results])\n",
    "    se = np.asarray([x.bse[ix] for x in results])\n",
    "    plt.plot(dep_params, pa, color='purple', ls='-')\n",
    "    plt.plot(dep_params, pa + 2*se, color='grey')\n",
    "    plt.plot(dep_params, pa - 2*se, color='grey')\n",
    "    plt.xlabel(\"Global odds ratio\", size=14)\n",
    "    plt.ylabel(\"Parameter estimate\", size=14)"
   ]
  }
 ],
 "metadata": {
  "application/vnd.databricks.v1+notebook": {
   "dashboards": [],
   "language": "python",
   "notebookMetadata": {},
   "notebookName": "GEE_nominal_simulation",
   "widgets": {}
  },
  "name": "",
  "signature": "sha256:1824e7f5da99dc7e0d19c23d47c69f55d8640c3390ca1e79e74671463346641e"
 },
 "nbformat": 4,
 "nbformat_minor": 0
}
>>>>>>> Stashed changes
