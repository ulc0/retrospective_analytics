{
<<<<<<< Updated upstream
 "metadata": {
  "name": "",
  "signature": "sha256:3dad52a74b72253c802011ac60a9e28d0053e3272c376d2369eb21dc3f5bde61"
 },
 "nbformat": 3,
 "nbformat_minor": 0,
 "worksheets": [
  {
   "cells": [
    {
     "cell_type": "markdown",
     "metadata": {},
     "source": [
      "Correlation matrix estimation with element-wise thresholding and eigenvalue constraints\n",
      "=======================================================================================\n",
      "\n",
      "*Key ideas:* Correlation matrix, correlation thresholding, regulation, simulation studies\n",
      "\n",
      "The sample correlation matrix is the most familiar estimate of the population correlation matrix.  It is unbiased and consistent under mild conditions.  However the inverse, square root (Cholesky factor), and inverse square root of the sample correlation matrix may not be good estimates of their population counterparts, and may not even exist in some cases.  These problems are likely to occur if the sample size is small relative to the dimension, or if the population correlation matrix is nearly singular.\n",
      "\n",
      "In this notebook we explore two strategies to improve the estimation of these matrices:\n",
      "\n",
      "* Correlation matrices can be estimated with lower bound constraints on the eigenvalues.  Several \"nearest correlation\" functions provided in Statsmodels attempt to find the closest SPD matrix in the Frobenius norm to a given square matrix, under the constraint that all eigenvalues are greater than a given value.\n",
      "    \n",
      "* \"Hard element-wise thresholding\" means that the elements of the sample correlation matrix that are smaller than some given value in magnitude are replaced with zero.  If the threshold value scales with the standard error, i.e. 1/sqrt(n), then the hard thresholded sample correlation matrix is still consistent and asymptotically unbiased, but may provide better estimates of the population correlation matrix, and of its inverse, square root, and inverse square root.  However the hard thresholded sample correlation matrix may not be symmetric and positive definite (SPD), in which case the square root does not exist as a real matrix.  Running the thresholded covariance matrix through a \"nearest correlation\" routine resolves this issue.\n",
      "\n",
      "Statsmodels provides three \"nearest correlation\" methods, located in `stats.correlation_tools`.  The methods are `corr_nearest`, `corr_clipped`, and `corr_nearest_factor`.  There are three corresponding methods for covariance matrices called `cov_nearest`, `cov_clipped`, and `cov_nearest_factor`.\n",
      "\n",
      "This is a simulation study to investigate the performance of two of the nearest correlation methods that are provided in Statsmodels."
     ]
    },
    {
     "cell_type": "code",
     "collapsed": false,
     "input": [
      "import numpy as np\n",
      "import statsmodels.stats.correlation_tools as ctools\n",
      "import pandas as pd\n",
      "from IPython.core.display import HTML"
     ],
     "language": "python",
     "metadata": {},
     "outputs": [],
     "prompt_number": 1
    },
    {
     "cell_type": "markdown",
     "metadata": {},
     "source": [
      "This is a utility function that calculates the inverse, Cholesky factor, and inverse Cholesky factor for a given input matrix.  These matrices are stored in a list, using a value of None when the matrix doesn't exist."
     ]
    },
    {
     "cell_type": "code",
     "collapsed": false,
     "input": [
      "def derived_matrices(C):\n",
      "    Sigma = C.copy()\n",
      "    try:\n",
      "        Sigma_inv = np.linalg.inv(C)\n",
      "    except:\n",
      "        Sigma_inv = None\n",
      "    try:\n",
      "        Sigma_sr = np.linalg.cholesky(C)\n",
      "    except:\n",
      "        Sigma_sr = None\n",
      "    try:\n",
      "        Sigma_inv_sr = np.linalg.cholesky(Sigma_inv)\n",
      "    except:\n",
      "        Sigma_inv_sr = None\n",
      "    return [C, Sigma_inv, Sigma_sr, Sigma_inv_sr]"
     ],
     "language": "python",
     "metadata": {},
     "outputs": [],
     "prompt_number": 2
    },
    {
     "cell_type": "markdown",
     "metadata": {},
     "source": [
      "Next we have another utility function, that is used to compute Frobenius norms for the differences bettween the estimate and the truth for the four matrices of interest (covariance, inverse covariance, Cholesky factor, and inverse Cholesky factor)."
     ]
    },
    {
     "cell_type": "code",
     "collapsed": false,
     "input": [
      "def update_results(truth, estimates):\n",
      "    v = []\n",
      "    for a,b in zip(truth, estimates):\n",
      "        if None not in (a,b):\n",
      "            v.append(np.sqrt(np.sum((a-b)**2)))\n",
      "        else:\n",
      "            v.append(np.nan)\n",
      "    return v"
     ],
     "language": "python",
     "metadata": {},
     "outputs": [],
     "prompt_number": 3
    },
    {
     "cell_type": "markdown",
     "metadata": {},
     "source": [
      "\n",
      "Here is the simulation for one population structure and one set of estimation tuning parameters.  The elements of the sample correlation matrix are thresholded at 'rthresh', and the eigenvalues are thresholded at 'ethresh'."
     ]
    },
    {
     "cell_type": "code",
     "collapsed": false,
     "input": [
      "def do_sim(n, Sigma, rthresh, ethresh):\n",
      "    \n",
      "    nrep = 100\n",
      "    p = Sigma.shape[0]\n",
      "    \n",
      "    truth = derived_matrices(Sigma)\n",
      "    Sigma_sr = truth[2]\n",
      "    \n",
      "    rslts = np.zeros((nrep, 4), dtype=np.float64)\n",
      "    for k in range(nrep):\n",
      "        X = np.random.normal(size=(n,p))\n",
      "        X = np.dot(X, Sigma_sr.T)\n",
      "        C = np.dot(X.T, X) / n\n",
      "        CT = (np.abs(C) >= rthresh) * C\n",
      "        CT = ctools.corr_nearest(CT, ethresh)\n",
      "        estimates = derived_matrices(CT)\n",
      "        rslts[k,:] = update_results(truth, estimates)\n",
      "    \n",
      "    rslts = pd.DataFrame(rslts)\n",
      "    rpd = pd.Series(np.concatenate((rslts.mean(0), pd.notnull(rslts).mean(0))))\n",
      "    rpd.index = [\"C\", \"CI\", \"CR\", \"CRI\", \"C(S)\", \"CI(S)\", \"CR(S)\", \"CRI(S)\"]\n",
      "    rpd = rpd.set_value(\"rthresh\", rthresh)\n",
      "    rpd = rpd.set_value(\"ethresh\", ethresh)\n",
      "    return rpd\n",
      "        "
     ],
     "language": "python",
     "metadata": {},
     "outputs": [],
     "prompt_number": 4
    },
    {
     "cell_type": "markdown",
     "metadata": {},
     "source": [
      "Here is a wrapper that runs the simulations for a range of different threshold values, then prints the results in a table.  We use a column formatter function that puts stars around the optimal value in each column (i.e. the value of the threshold parameters that gives the smallest estimation error)."
     ]
    },
    {
     "cell_type": "code",
     "collapsed": false,
     "input": [
      "def runsim(n, R):\n",
      "\n",
      "    rslts = []\n",
      "    for fthresh in 0, 0.5, 1:\n",
      "        for ethresh in 0,0.5,1:\n",
      "            rthresh = 2 * fthresh / np.sqrt(n)\n",
      "            rslts1 = do_sim(2*n, R, rthresh, ethresh)\n",
      "            rslts.append(rslts1)\n",
      "\n",
      "    rslts = pd.DataFrame(rslts)\n",
      "    \n",
      "    # Generate a formatting function\n",
      "    def gformat(col):\n",
      "        mn = min(rslts[col])\n",
      "        def fmt(x):\n",
      "            if abs(x - mn) < 1e-5 and col in [\"C\", \"CI\", \"CR\", \"CRI\"]:\n",
      "                return \"*%.2f*\" % x\n",
      "            elif x >= 100:\n",
      "                return \">100\"\n",
      "            else:\n",
      "                return \"%.2f\" % x\n",
      "        return fmt\n",
      "    formatters = {z: gformat(z) for z in rslts.columns}\n",
      "    formatters[\"ethresh\"] = lambda x: \"%.3f\" % x\n",
      "    return HTML(rslts.to_html(formatters=formatters, index_names=False))"
     ],
     "language": "python",
     "metadata": {},
     "outputs": [],
     "prompt_number": 5
    },
    {
     "cell_type": "markdown",
     "metadata": {},
     "source": [
      "First we consider the setting where the population correlation matrix is diagonal.  We see that the most accurate estimates of the correlation matrix result when using the greatest amounts of thresholding.  The reason for this is that we are forcing values to be zero that in actuality are exactly zero.  Imposing a minimum eigenvalue bound is also helpful."
     ]
    },
    {
     "cell_type": "code",
     "collapsed": false,
     "input": [
      "runsim(40, np.eye(20))"
     ],
     "language": "python",
     "metadata": {},
     "outputs": [
      {
       "html": [
        "<table border=\"1\" class=\"dataframe\">\n",
        "  <thead>\n",
        "    <tr style=\"text-align: right;\">\n",
        "      <th></th>\n",
        "      <th>C</th>\n",
        "      <th>CI</th>\n",
        "      <th>CR</th>\n",
        "      <th>CRI</th>\n",
        "      <th>C(S)</th>\n",
        "      <th>CI(S)</th>\n",
        "      <th>CR(S)</th>\n",
        "      <th>CRI(S)</th>\n",
        "      <th>rthresh</th>\n",
        "      <th>ethresh</th>\n",
        "    </tr>\n",
        "  </thead>\n",
        "  <tbody>\n",
        "    <tr>\n",
        "      <th>0</th>\n",
        "      <td>  2.31</td>\n",
        "      <td>  3.96</td>\n",
        "      <td>  1.62</td>\n",
        "      <td>  1.98</td>\n",
        "      <td>1.00</td>\n",
        "      <td>1.00</td>\n",
        "      <td>1.00</td>\n",
        "      <td>1.00</td>\n",
        "      <td>0.00</td>\n",
        "      <td>0.000</td>\n",
        "    </tr>\n",
        "    <tr>\n",
        "      <th>1</th>\n",
        "      <td>  2.17</td>\n",
        "      <td>  2.59</td>\n",
        "      <td>  1.44</td>\n",
        "      <td>  1.54</td>\n",
        "      <td>1.00</td>\n",
        "      <td>1.00</td>\n",
        "      <td>1.00</td>\n",
        "      <td>1.00</td>\n",
        "      <td>0.00</td>\n",
        "      <td>0.500</td>\n",
        "    </tr>\n",
        "    <tr>\n",
        "      <th>2</th>\n",
        "      <td>  1.77</td>\n",
        "      <td>  0.99</td>\n",
        "      <td>  0.93</td>\n",
        "      <td>  0.73</td>\n",
        "      <td>1.00</td>\n",
        "      <td>1.00</td>\n",
        "      <td>1.00</td>\n",
        "      <td>1.00</td>\n",
        "      <td>0.00</td>\n",
        "      <td>1.000</td>\n",
        "    </tr>\n",
        "    <tr>\n",
        "      <th>3</th>\n",
        "      <td>  1.83</td>\n",
        "      <td>  2.87</td>\n",
        "      <td>  1.28</td>\n",
        "      <td>  1.51</td>\n",
        "      <td>1.00</td>\n",
        "      <td>1.00</td>\n",
        "      <td>1.00</td>\n",
        "      <td>1.00</td>\n",
        "      <td>0.16</td>\n",
        "      <td>0.000</td>\n",
        "    </tr>\n",
        "    <tr>\n",
        "      <th>4</th>\n",
        "      <td>  1.75</td>\n",
        "      <td>  2.12</td>\n",
        "      <td>  1.17</td>\n",
        "      <td>  1.26</td>\n",
        "      <td>1.00</td>\n",
        "      <td>1.00</td>\n",
        "      <td>1.00</td>\n",
        "      <td>1.00</td>\n",
        "      <td>0.16</td>\n",
        "      <td>0.500</td>\n",
        "    </tr>\n",
        "    <tr>\n",
        "      <th>5</th>\n",
        "      <td>  1.31</td>\n",
        "      <td>  0.82</td>\n",
        "      <td>  0.70</td>\n",
        "      <td>  0.58</td>\n",
        "      <td>1.00</td>\n",
        "      <td>1.00</td>\n",
        "      <td>1.00</td>\n",
        "      <td>1.00</td>\n",
        "      <td>0.16</td>\n",
        "      <td>1.000</td>\n",
        "    </tr>\n",
        "    <tr>\n",
        "      <th>6</th>\n",
        "      <td>  0.90</td>\n",
        "      <td>  0.93</td>\n",
        "      <td>  0.51</td>\n",
        "      <td>  0.51</td>\n",
        "      <td>1.00</td>\n",
        "      <td>1.00</td>\n",
        "      <td>1.00</td>\n",
        "      <td>1.00</td>\n",
        "      <td>0.32</td>\n",
        "      <td>0.000</td>\n",
        "    </tr>\n",
        "    <tr>\n",
        "      <th>7</th>\n",
        "      <td>  0.83</td>\n",
        "      <td>  0.87</td>\n",
        "      <td>  0.46</td>\n",
        "      <td>  0.47</td>\n",
        "      <td>1.00</td>\n",
        "      <td>1.00</td>\n",
        "      <td>1.00</td>\n",
        "      <td>1.00</td>\n",
        "      <td>0.32</td>\n",
        "      <td>0.500</td>\n",
        "    </tr>\n",
        "    <tr>\n",
        "      <th>8</th>\n",
        "      <td>*0.62*</td>\n",
        "      <td>*0.46*</td>\n",
        "      <td>*0.31*</td>\n",
        "      <td>*0.27*</td>\n",
        "      <td>1.00</td>\n",
        "      <td>1.00</td>\n",
        "      <td>1.00</td>\n",
        "      <td>1.00</td>\n",
        "      <td>0.32</td>\n",
        "      <td>1.000</td>\n",
        "    </tr>\n",
        "  </tbody>\n",
        "</table>"
       ],
       "metadata": {},
       "output_type": "pyout",
       "prompt_number": 6,
       "text": [
        "<IPython.core.display.HTML at 0x35df650>"
       ]
      }
     ],
     "prompt_number": 6
    },
    {
     "cell_type": "markdown",
     "metadata": {},
     "source": [
      "Next we consider an example where the population correlation matrix is dense.  In this case, \n",
      "thresholding the correlations leads to worse performance (i.e. rthresh=0 is best), but constraining the minimum eigenvalue (using ethresh=0.5) can be quite helpful when estimating the derived matrices (inverse, etc.)"
     ]
    },
    {
     "cell_type": "code",
     "collapsed": false,
     "input": [
      "R = np.fromfunction(lambda i,j: 1.0/(1+abs(i-j)), (20,20), dtype=np.float64)\n",
      "runsim(40, R)"
     ],
     "language": "python",
     "metadata": {},
     "outputs": [
      {
       "output_type": "stream",
       "stream": "stderr",
       "text": [
        "/opt/anaconda/envs/np18py27-1.9/lib/python2.7/site-packages/statsmodels/stats/correlation_tools.py:82: UserWarning: maximum iteration reached\n",
        "  warnings.warn('maximum iteration reached')\n"
       ]
      },
      {
       "html": [
        "<table border=\"1\" class=\"dataframe\">\n",
        "  <thead>\n",
        "    <tr style=\"text-align: right;\">\n",
        "      <th></th>\n",
        "      <th>C</th>\n",
        "      <th>CI</th>\n",
        "      <th>CR</th>\n",
        "      <th>CRI</th>\n",
        "      <th>C(S)</th>\n",
        "      <th>CI(S)</th>\n",
        "      <th>CR(S)</th>\n",
        "      <th>CRI(S)</th>\n",
        "      <th>rthresh</th>\n",
        "      <th>ethresh</th>\n",
        "    </tr>\n",
        "  </thead>\n",
        "  <tbody>\n",
        "    <tr>\n",
        "      <th>0</th>\n",
        "      <td>  2.32</td>\n",
        "      <td>  6.33</td>\n",
        "      <td>  1.56</td>\n",
        "      <td>  2.47</td>\n",
        "      <td>1.00</td>\n",
        "      <td>1.00</td>\n",
        "      <td>1.00</td>\n",
        "      <td>1.00</td>\n",
        "      <td>0.00</td>\n",
        "      <td>0.000</td>\n",
        "    </tr>\n",
        "    <tr>\n",
        "      <th>1</th>\n",
        "      <td>*2.24*</td>\n",
        "      <td>  2.28</td>\n",
        "      <td>*1.28*</td>\n",
        "      <td>  1.34</td>\n",
        "      <td>1.00</td>\n",
        "      <td>1.00</td>\n",
        "      <td>1.00</td>\n",
        "      <td>1.00</td>\n",
        "      <td>0.00</td>\n",
        "      <td>0.500</td>\n",
        "    </tr>\n",
        "    <tr>\n",
        "      <th>2</th>\n",
        "      <td>  2.70</td>\n",
        "      <td>  4.26</td>\n",
        "      <td>  1.62</td>\n",
        "      <td>  1.98</td>\n",
        "      <td>1.00</td>\n",
        "      <td>1.00</td>\n",
        "      <td>1.00</td>\n",
        "      <td>1.00</td>\n",
        "      <td>0.00</td>\n",
        "      <td>1.000</td>\n",
        "    </tr>\n",
        "    <tr>\n",
        "      <th>3</th>\n",
        "      <td>  2.52</td>\n",
        "      <td>  &gt;100</td>\n",
        "      <td>  2.09</td>\n",
        "      <td>  &gt;100</td>\n",
        "      <td>1.00</td>\n",
        "      <td>1.00</td>\n",
        "      <td>0.80</td>\n",
        "      <td>0.73</td>\n",
        "      <td>0.16</td>\n",
        "      <td>0.000</td>\n",
        "    </tr>\n",
        "    <tr>\n",
        "      <th>4</th>\n",
        "      <td>  2.24</td>\n",
        "      <td>  2.39</td>\n",
        "      <td>  1.33</td>\n",
        "      <td>  1.41</td>\n",
        "      <td>1.00</td>\n",
        "      <td>1.00</td>\n",
        "      <td>1.00</td>\n",
        "      <td>1.00</td>\n",
        "      <td>0.16</td>\n",
        "      <td>0.500</td>\n",
        "    </tr>\n",
        "    <tr>\n",
        "      <th>5</th>\n",
        "      <td>  3.51</td>\n",
        "      <td>  4.30</td>\n",
        "      <td>  1.94</td>\n",
        "      <td>  2.15</td>\n",
        "      <td>1.00</td>\n",
        "      <td>1.00</td>\n",
        "      <td>1.00</td>\n",
        "      <td>1.00</td>\n",
        "      <td>0.16</td>\n",
        "      <td>1.000</td>\n",
        "    </tr>\n",
        "    <tr>\n",
        "      <th>6</th>\n",
        "      <td>  3.04</td>\n",
        "      <td>  &gt;100</td>\n",
        "      <td>  2.55</td>\n",
        "      <td>  &gt;100</td>\n",
        "      <td>1.00</td>\n",
        "      <td>1.00</td>\n",
        "      <td>0.52</td>\n",
        "      <td>0.35</td>\n",
        "      <td>0.32</td>\n",
        "      <td>0.000</td>\n",
        "    </tr>\n",
        "    <tr>\n",
        "      <th>7</th>\n",
        "      <td>  2.69</td>\n",
        "      <td>*2.26*</td>\n",
        "      <td>  1.41</td>\n",
        "      <td>*1.33*</td>\n",
        "      <td>1.00</td>\n",
        "      <td>1.00</td>\n",
        "      <td>1.00</td>\n",
        "      <td>1.00</td>\n",
        "      <td>0.32</td>\n",
        "      <td>0.500</td>\n",
        "    </tr>\n",
        "    <tr>\n",
        "      <th>8</th>\n",
        "      <td>  4.21</td>\n",
        "      <td>  4.33</td>\n",
        "      <td>  2.21</td>\n",
        "      <td>  2.29</td>\n",
        "      <td>1.00</td>\n",
        "      <td>1.00</td>\n",
        "      <td>1.00</td>\n",
        "      <td>1.00</td>\n",
        "      <td>0.32</td>\n",
        "      <td>1.000</td>\n",
        "    </tr>\n",
        "  </tbody>\n",
        "</table>"
       ],
       "metadata": {},
       "output_type": "pyout",
       "prompt_number": 7,
       "text": [
        "<IPython.core.display.HTML at 0x35e43d0>"
       ]
      }
     ],
     "prompt_number": 7
    },
    {
     "cell_type": "markdown",
     "metadata": {},
     "source": [
      "In the following example, the population correlation matrix is approximately sparse.  Here we se that element-wise thresholding and eigenvalue thresholding both improve the estimation accuracy."
     ]
    },
    {
     "cell_type": "code",
     "collapsed": false,
     "input": [
      "R = np.fromfunction(lambda i,j: 1.0/(1+abs(i-j))**2, (20,20), dtype=np.float64)\n",
      "runsim(40, R)"
     ],
     "language": "python",
     "metadata": {},
     "outputs": [
      {
       "html": [
        "<table border=\"1\" class=\"dataframe\">\n",
        "  <thead>\n",
        "    <tr style=\"text-align: right;\">\n",
        "      <th></th>\n",
        "      <th>C</th>\n",
        "      <th>CI</th>\n",
        "      <th>CR</th>\n",
        "      <th>CRI</th>\n",
        "      <th>C(S)</th>\n",
        "      <th>CI(S)</th>\n",
        "      <th>CR(S)</th>\n",
        "      <th>CRI(S)</th>\n",
        "      <th>rthresh</th>\n",
        "      <th>ethresh</th>\n",
        "    </tr>\n",
        "  </thead>\n",
        "  <tbody>\n",
        "    <tr>\n",
        "      <th>0</th>\n",
        "      <td>  2.29</td>\n",
        "      <td>  4.44</td>\n",
        "      <td>  1.61</td>\n",
        "      <td>  2.08</td>\n",
        "      <td>1.00</td>\n",
        "      <td>1.00</td>\n",
        "      <td>1.00</td>\n",
        "      <td>1.00</td>\n",
        "      <td>0.00</td>\n",
        "      <td>0.000</td>\n",
        "    </tr>\n",
        "    <tr>\n",
        "      <th>1</th>\n",
        "      <td>  2.13</td>\n",
        "      <td>  2.30</td>\n",
        "      <td>  1.37</td>\n",
        "      <td>  1.42</td>\n",
        "      <td>1.00</td>\n",
        "      <td>1.00</td>\n",
        "      <td>1.00</td>\n",
        "      <td>1.00</td>\n",
        "      <td>0.00</td>\n",
        "      <td>0.500</td>\n",
        "    </tr>\n",
        "    <tr>\n",
        "      <th>2</th>\n",
        "      <td>  2.09</td>\n",
        "      <td>  1.72</td>\n",
        "      <td>  1.16</td>\n",
        "      <td>  1.04</td>\n",
        "      <td>1.00</td>\n",
        "      <td>1.00</td>\n",
        "      <td>1.00</td>\n",
        "      <td>1.00</td>\n",
        "      <td>0.00</td>\n",
        "      <td>1.000</td>\n",
        "    </tr>\n",
        "    <tr>\n",
        "      <th>3</th>\n",
        "      <td>  2.05</td>\n",
        "      <td>  5.05</td>\n",
        "      <td>  1.48</td>\n",
        "      <td>  2.10</td>\n",
        "      <td>1.00</td>\n",
        "      <td>1.00</td>\n",
        "      <td>1.00</td>\n",
        "      <td>1.00</td>\n",
        "      <td>0.16</td>\n",
        "      <td>0.000</td>\n",
        "    </tr>\n",
        "    <tr>\n",
        "      <th>4</th>\n",
        "      <td>  1.90</td>\n",
        "      <td>  2.05</td>\n",
        "      <td>  1.22</td>\n",
        "      <td>  1.27</td>\n",
        "      <td>1.00</td>\n",
        "      <td>1.00</td>\n",
        "      <td>1.00</td>\n",
        "      <td>1.00</td>\n",
        "      <td>0.16</td>\n",
        "      <td>0.500</td>\n",
        "    </tr>\n",
        "    <tr>\n",
        "      <th>5</th>\n",
        "      <td>  1.85</td>\n",
        "      <td>*1.68*</td>\n",
        "      <td>*1.07*</td>\n",
        "      <td>*1.00*</td>\n",
        "      <td>1.00</td>\n",
        "      <td>1.00</td>\n",
        "      <td>1.00</td>\n",
        "      <td>1.00</td>\n",
        "      <td>0.16</td>\n",
        "      <td>1.000</td>\n",
        "    </tr>\n",
        "    <tr>\n",
        "      <th>6</th>\n",
        "      <td>  1.87</td>\n",
        "      <td>  2.11</td>\n",
        "      <td>  1.20</td>\n",
        "      <td>  1.27</td>\n",
        "      <td>1.00</td>\n",
        "      <td>1.00</td>\n",
        "      <td>1.00</td>\n",
        "      <td>1.00</td>\n",
        "      <td>0.32</td>\n",
        "      <td>0.000</td>\n",
        "    </tr>\n",
        "    <tr>\n",
        "      <th>7</th>\n",
        "      <td>  1.84</td>\n",
        "      <td>  1.77</td>\n",
        "      <td>  1.16</td>\n",
        "      <td>  1.16</td>\n",
        "      <td>1.00</td>\n",
        "      <td>1.00</td>\n",
        "      <td>1.00</td>\n",
        "      <td>1.00</td>\n",
        "      <td>0.32</td>\n",
        "      <td>0.500</td>\n",
        "    </tr>\n",
        "    <tr>\n",
        "      <th>8</th>\n",
        "      <td>*1.80*</td>\n",
        "      <td>  1.71</td>\n",
        "      <td>  1.11</td>\n",
        "      <td>  1.06</td>\n",
        "      <td>1.00</td>\n",
        "      <td>1.00</td>\n",
        "      <td>1.00</td>\n",
        "      <td>1.00</td>\n",
        "      <td>0.32</td>\n",
        "      <td>1.000</td>\n",
        "    </tr>\n",
        "  </tbody>\n",
        "</table>"
       ],
       "metadata": {},
       "output_type": "pyout",
       "prompt_number": 8,
       "text": [
        "<IPython.core.display.HTML at 0x35dfdd0>"
       ]
      }
     ],
     "prompt_number": 8
    }
   ],
   "metadata": {}
  }
 ]
}
=======
 "cells": [
  {
   "cell_type": "markdown",
   "metadata": {
    "application/vnd.databricks.v1+cell": {
     "cellMetadata": {},
     "inputWidgets": {},
     "nuid": "52e0cdf2-f9c6-41c5-9cbf-720146e9edda",
     "showTitle": false,
     "title": ""
    }
   },
   "source": [
    "Correlation matrix estimation with element-wise thresholding and eigenvalue constraints\n",
    "=======================================================================================\n",
    "\n",
    "*Key ideas:* Correlation matrix, correlation thresholding, regulation, simulation studies\n",
    "\n",
    "The sample correlation matrix is the most familiar estimate of the population correlation matrix.  It is unbiased and consistent under mild conditions.  However the inverse, square root (Cholesky factor), and inverse square root of the sample correlation matrix may not be good estimates of their population counterparts, and may not even exist in some cases.  These problems are likely to occur if the sample size is small relative to the dimension, or if the population correlation matrix is nearly singular.\n",
    "\n",
    "In this notebook we explore two strategies to improve the estimation of these matrices:\n",
    "\n",
    "* Correlation matrices can be estimated with lower bound constraints on the eigenvalues.  Several \"nearest correlation\" functions provided in Statsmodels attempt to find the closest SPD matrix in the Frobenius norm to a given square matrix, under the constraint that all eigenvalues are greater than a given value.\n",
    "    \n",
    "* \"Hard element-wise thresholding\" means that the elements of the sample correlation matrix that are smaller than some given value in magnitude are replaced with zero.  If the threshold value scales with the standard error, i.e. 1/sqrt(n), then the hard thresholded sample correlation matrix is still consistent and asymptotically unbiased, but may provide better estimates of the population correlation matrix, and of its inverse, square root, and inverse square root.  However the hard thresholded sample correlation matrix may not be symmetric and positive definite (SPD), in which case the square root does not exist as a real matrix.  Running the thresholded covariance matrix through a \"nearest correlation\" routine resolves this issue.\n",
    "\n",
    "Statsmodels provides three \"nearest correlation\" methods, located in `stats.correlation_tools`.  The methods are `corr_nearest`, `corr_clipped`, and `corr_nearest_factor`.  There are three corresponding methods for covariance matrices called `cov_nearest`, `cov_clipped`, and `cov_nearest_factor`.\n",
    "\n",
    "This is a simulation study to investigate the performance of two of the nearest correlation methods that are provided in Statsmodels."
   ]
  },
  {
   "cell_type": "code",
   "execution_count": 0,
   "metadata": {
    "application/vnd.databricks.v1+cell": {
     "cellMetadata": {},
     "inputWidgets": {},
     "nuid": "c98cc028-c318-421a-87e5-1c8a96c2ba52",
     "showTitle": false,
     "title": ""
    }
   },
   "outputs": [],
   "source": [
    "import numpy as np\n",
    "import statsmodels.stats.correlation_tools as ctools\n",
    "import pandas as pd\n",
    "from IPython.core.display import HTML"
   ]
  },
  {
   "cell_type": "markdown",
   "metadata": {
    "application/vnd.databricks.v1+cell": {
     "cellMetadata": {},
     "inputWidgets": {},
     "nuid": "3589d828-78e7-4f0d-9a72-d5fd15f2d37f",
     "showTitle": false,
     "title": ""
    }
   },
   "source": [
    "This is a utility function that calculates the inverse, Cholesky factor, and inverse Cholesky factor for a given input matrix.  These matrices are stored in a list, using a value of None when the matrix doesn't exist."
   ]
  },
  {
   "cell_type": "code",
   "execution_count": 0,
   "metadata": {
    "application/vnd.databricks.v1+cell": {
     "cellMetadata": {},
     "inputWidgets": {},
     "nuid": "85bf4a76-68e9-4f91-9a26-c04a234b93de",
     "showTitle": false,
     "title": ""
    }
   },
   "outputs": [],
   "source": [
    "def derived_matrices(C):\n",
    "    Sigma = C.copy()\n",
    "    try:\n",
    "        Sigma_inv = np.linalg.inv(C)\n",
    "    except:\n",
    "        Sigma_inv = None\n",
    "    try:\n",
    "        Sigma_sr = np.linalg.cholesky(C)\n",
    "    except:\n",
    "        Sigma_sr = None\n",
    "    try:\n",
    "        Sigma_inv_sr = np.linalg.cholesky(Sigma_inv)\n",
    "    except:\n",
    "        Sigma_inv_sr = None\n",
    "    return [C, Sigma_inv, Sigma_sr, Sigma_inv_sr]"
   ]
  },
  {
   "cell_type": "markdown",
   "metadata": {
    "application/vnd.databricks.v1+cell": {
     "cellMetadata": {},
     "inputWidgets": {},
     "nuid": "1d5b470b-ddbc-4987-bc04-d286cf94af39",
     "showTitle": false,
     "title": ""
    }
   },
   "source": [
    "Next we have another utility function, that is used to compute Frobenius norms for the differences bettween the estimate and the truth for the four matrices of interest (covariance, inverse covariance, Cholesky factor, and inverse Cholesky factor)."
   ]
  },
  {
   "cell_type": "code",
   "execution_count": 0,
   "metadata": {
    "application/vnd.databricks.v1+cell": {
     "cellMetadata": {},
     "inputWidgets": {},
     "nuid": "cb2b2601-3dc8-4878-878b-eefb8bdbeb9d",
     "showTitle": false,
     "title": ""
    }
   },
   "outputs": [],
   "source": [
    "def update_results(truth, estimates):\n",
    "    v = []\n",
    "    for a,b in zip(truth, estimates):\n",
    "        if None not in (a,b):\n",
    "            v.append(np.sqrt(np.sum((a-b)**2)))\n",
    "        else:\n",
    "            v.append(np.nan)\n",
    "    return v"
   ]
  },
  {
   "cell_type": "markdown",
   "metadata": {
    "application/vnd.databricks.v1+cell": {
     "cellMetadata": {},
     "inputWidgets": {},
     "nuid": "250440c8-0563-43cc-afac-970d785efe29",
     "showTitle": false,
     "title": ""
    }
   },
   "source": [
    "Here is the simulation for one population structure and one set of estimation tuning parameters.  The elements of the sample correlation matrix are thresholded at 'rthresh', and the eigenvalues are thresholded at 'ethresh'."
   ]
  },
  {
   "cell_type": "code",
   "execution_count": 0,
   "metadata": {
    "application/vnd.databricks.v1+cell": {
     "cellMetadata": {},
     "inputWidgets": {},
     "nuid": "db848666-6694-41fd-8d38-752b49799f12",
     "showTitle": false,
     "title": ""
    }
   },
   "outputs": [],
   "source": [
    "def do_sim(n, Sigma, rthresh, ethresh):\n",
    "    \n",
    "    nrep = 100\n",
    "    p = Sigma.shape[0]\n",
    "    \n",
    "    truth = derived_matrices(Sigma)\n",
    "    Sigma_sr = truth[2]\n",
    "    \n",
    "    rslts = np.zeros((nrep, 4), dtype=np.float64)\n",
    "    for k in range(nrep):\n",
    "        X = np.random.normal(size=(n,p))\n",
    "        X = np.dot(X, Sigma_sr.T)\n",
    "        C = np.dot(X.T, X) / n\n",
    "        CT = (np.abs(C) >= rthresh) * C\n",
    "        CT = ctools.corr_nearest(CT, ethresh)\n",
    "        estimates = derived_matrices(CT)\n",
    "        rslts[k,:] = update_results(truth, estimates)\n",
    "    \n",
    "    rslts = pd.DataFrame(rslts)\n",
    "    rpd = pd.Series(np.concatenate((rslts.mean(0), pd.notnull(rslts).mean(0))))\n",
    "    rpd.index = [\"C\", \"CI\", \"CR\", \"CRI\", \"C(S)\", \"CI(S)\", \"CR(S)\", \"CRI(S)\"]\n",
    "    rpd = rpd.set_value(\"rthresh\", rthresh)\n",
    "    rpd = rpd.set_value(\"ethresh\", ethresh)\n",
    "    return rpd\n",
    "        "
   ]
  },
  {
   "cell_type": "markdown",
   "metadata": {
    "application/vnd.databricks.v1+cell": {
     "cellMetadata": {},
     "inputWidgets": {},
     "nuid": "b96eb893-a40d-4ffc-aa73-0dd2b8cb1db7",
     "showTitle": false,
     "title": ""
    }
   },
   "source": [
    "Here is a wrapper that runs the simulations for a range of different threshold values, then prints the results in a table.  We use a column formatter function that puts stars around the optimal value in each column (i.e. the value of the threshold parameters that gives the smallest estimation error)."
   ]
  },
  {
   "cell_type": "code",
   "execution_count": 0,
   "metadata": {
    "application/vnd.databricks.v1+cell": {
     "cellMetadata": {},
     "inputWidgets": {},
     "nuid": "c8cd74c1-b4c9-4da9-9e2f-4e03bdd82b80",
     "showTitle": false,
     "title": ""
    }
   },
   "outputs": [],
   "source": [
    "def runsim(n, R):\n",
    "\n",
    "    rslts = []\n",
    "    for fthresh in 0, 0.5, 1:\n",
    "        for ethresh in 0,0.5,1:\n",
    "            rthresh = 2 * fthresh / np.sqrt(n)\n",
    "            rslts1 = do_sim(2*n, R, rthresh, ethresh)\n",
    "            rslts.append(rslts1)\n",
    "\n",
    "    rslts = pd.DataFrame(rslts)\n",
    "    \n",
    "    # Generate a formatting function\n",
    "    def gformat(col):\n",
    "        mn = min(rslts[col])\n",
    "        def fmt(x):\n",
    "            if abs(x - mn) < 1e-5 and col in [\"C\", \"CI\", \"CR\", \"CRI\"]:\n",
    "                return \"*%.2f*\" % x\n",
    "            elif x >= 100:\n",
    "                return \">100\"\n",
    "            else:\n",
    "                return \"%.2f\" % x\n",
    "        return fmt\n",
    "    formatters = {z: gformat(z) for z in rslts.columns}\n",
    "    formatters[\"ethresh\"] = lambda x: \"%.3f\" % x\n",
    "    return HTML(rslts.to_html(formatters=formatters, index_names=False))"
   ]
  },
  {
   "cell_type": "markdown",
   "metadata": {
    "application/vnd.databricks.v1+cell": {
     "cellMetadata": {},
     "inputWidgets": {},
     "nuid": "6d6ce0e3-db58-4f56-b550-171f09a3d791",
     "showTitle": false,
     "title": ""
    }
   },
   "source": [
    "First we consider the setting where the population correlation matrix is diagonal.  We see that the most accurate estimates of the correlation matrix result when using the greatest amounts of thresholding.  The reason for this is that we are forcing values to be zero that in actuality are exactly zero.  Imposing a minimum eigenvalue bound is also helpful."
   ]
  },
  {
   "cell_type": "code",
   "execution_count": 0,
   "metadata": {
    "application/vnd.databricks.v1+cell": {
     "cellMetadata": {},
     "inputWidgets": {},
     "nuid": "a65a5d17-bfdd-45fd-a7bb-62d86bd14ba1",
     "showTitle": false,
     "title": ""
    }
   },
   "outputs": [],
   "source": [
    "runsim(40, np.eye(20))"
   ]
  },
  {
   "cell_type": "markdown",
   "metadata": {
    "application/vnd.databricks.v1+cell": {
     "cellMetadata": {},
     "inputWidgets": {},
     "nuid": "599f3d27-e2b5-4417-9aa2-2c08b76533f2",
     "showTitle": false,
     "title": ""
    }
   },
   "source": [
    "Next we consider an example where the population correlation matrix is dense.  In this case, \n",
    "thresholding the correlations leads to worse performance (i.e. rthresh=0 is best), but constraining the minimum eigenvalue (using ethresh=0.5) can be quite helpful when estimating the derived matrices (inverse, etc.)"
   ]
  },
  {
   "cell_type": "code",
   "execution_count": 0,
   "metadata": {
    "application/vnd.databricks.v1+cell": {
     "cellMetadata": {},
     "inputWidgets": {},
     "nuid": "8b856264-d9bf-443d-9820-8e4f62b5b7e1",
     "showTitle": false,
     "title": ""
    }
   },
   "outputs": [],
   "source": [
    "R = np.fromfunction(lambda i,j: 1.0/(1+abs(i-j)), (20,20), dtype=np.float64)\n",
    "runsim(40, R)"
   ]
  },
  {
   "cell_type": "markdown",
   "metadata": {
    "application/vnd.databricks.v1+cell": {
     "cellMetadata": {},
     "inputWidgets": {},
     "nuid": "a36f96ff-097d-4180-a26c-fee18d9f5c7a",
     "showTitle": false,
     "title": ""
    }
   },
   "source": [
    "In the following example, the population correlation matrix is approximately sparse.  Here we se that element-wise thresholding and eigenvalue thresholding both improve the estimation accuracy."
   ]
  },
  {
   "cell_type": "code",
   "execution_count": 0,
   "metadata": {
    "application/vnd.databricks.v1+cell": {
     "cellMetadata": {},
     "inputWidgets": {},
     "nuid": "c67a091d-45b5-41fd-ab99-4ae90ce15de4",
     "showTitle": false,
     "title": ""
    }
   },
   "outputs": [],
   "source": [
    "R = np.fromfunction(lambda i,j: 1.0/(1+abs(i-j))**2, (20,20), dtype=np.float64)\n",
    "runsim(40, R)"
   ]
  }
 ],
 "metadata": {
  "application/vnd.databricks.v1+notebook": {
   "dashboards": [],
   "language": "python",
   "notebookMetadata": {},
   "notebookName": "Correlation_threshold_simstudy",
   "widgets": {}
  },
  "name": "",
  "signature": "sha256:3dad52a74b72253c802011ac60a9e28d0053e3272c376d2369eb21dc3f5bde61"
 },
 "nbformat": 4,
 "nbformat_minor": 0
}
>>>>>>> Stashed changes
