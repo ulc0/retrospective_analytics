{
 "cells": [
  {
   "cell_type": "markdown",
   "metadata": {
    "application/vnd.databricks.v1+cell": {
     "cellMetadata": {},
     "inputWidgets": {},
     "nuid": "8a9689ca-8bca-4a22-9ab1-db6cc2fb31e0",
     "showTitle": false,
     "title": ""
    }
   },
   "source": [
    "Regularized regression, clustering, and dimension reduction in sklearn \n",
    "============================================\n",
    "\n",
    "sklearn is a \"machine learning\" library for Python.  Here we will demonstrate a few of its features using the National Health and Nutrition Examination Survey (NHANES) data."
   ]
  },
  {
   "cell_type": "markdown",
   "metadata": {
    "application/vnd.databricks.v1+cell": {
     "cellMetadata": {},
     "inputWidgets": {},
     "nuid": "84aa14cd-5a68-41e6-bd43-a482732ca7b0",
     "showTitle": false,
     "title": ""
    }
   },
   "source": [
    "First we import some libraries:"
   ]
  },
  {
   "cell_type": "code",
   "execution_count": 0,
   "metadata": {
    "application/vnd.databricks.v1+cell": {
     "cellMetadata": {},
     "inputWidgets": {},
     "nuid": "c8422101-55ee-42a6-a0e7-a7bf2cb09548",
     "showTitle": false,
     "title": ""
    },
    "collapsed": false
   },
   "outputs": [],
   "source": [
    "import sklearn\n",
    "import pandas as pd\n",
    "import patsy\n",
    "import matplotlib.pyplot as plt\n",
    "import numpy as np"
   ]
  },
  {
   "cell_type": "markdown",
   "metadata": {
    "application/vnd.databricks.v1+cell": {
     "cellMetadata": {},
     "inputWidgets": {},
     "nuid": "ac27dd0f-b9df-405b-9e8d-80b47f164cb7",
     "showTitle": false,
     "title": ""
    }
   },
   "source": [
    "Raw data for various waves of NHANES data can be obtained from the CDC web site for NHANES: http://www.cdc.gov/nchs/nhanes.htm.\n",
    "\n",
    "The files are in SAS XPORT format, and can be read as follows:"
   ]
  },
  {
   "cell_type": "code",
   "execution_count": 0,
   "metadata": {
    "application/vnd.databricks.v1+cell": {
     "cellMetadata": {},
     "inputWidgets": {},
     "nuid": "6f161518-d432-473e-808d-9dd4e503eb7e",
     "showTitle": false,
     "title": ""
    },
    "collapsed": false
   },
   "outputs": [],
   "source": [
    "demog = pd.read_sas(\"DEMO_F.XPT\")\n",
    "bpx = pd.read_sas(\"BPX_F.XPT\")\n",
    "bmx = pd.read_sas(\"BMX_F.XPT\")"
   ]
  },
  {
   "cell_type": "markdown",
   "metadata": {
    "application/vnd.databricks.v1+cell": {
     "cellMetadata": {},
     "inputWidgets": {},
     "nuid": "70e57db4-d11b-4268-b0ac-5af7ac8b4e30",
     "showTitle": false,
     "title": ""
    }
   },
   "source": [
    "Next we merge the three files using the unique subject identifier, SEQN."
   ]
  },
  {
   "cell_type": "code",
   "execution_count": 0,
   "metadata": {
    "application/vnd.databricks.v1+cell": {
     "cellMetadata": {},
     "inputWidgets": {},
     "nuid": "3e22b71d-fbca-4997-92c1-9b760807186d",
     "showTitle": false,
     "title": ""
    },
    "collapsed": false
   },
   "outputs": [],
   "source": [
    "data = pd.merge(demog, bpx, left_on=\"SEQN\", right_on=\"SEQN\")\n",
    "data = pd.merge(data, bmx, left_on=\"SEQN\", right_on=\"SEQN\")\n",
    "print(data.columns)"
   ]
  },
  {
   "cell_type": "markdown",
   "metadata": {
    "application/vnd.databricks.v1+cell": {
     "cellMetadata": {},
     "inputWidgets": {},
     "nuid": "dfe4a56c-1ef7-4a21-9410-d180714fefd1",
     "showTitle": false,
     "title": ""
    }
   },
   "source": [
    "Next we form a smaller data set including some variables of possible interest.  We then tabulate thre frequency that these variables have missing values."
   ]
  },
  {
   "cell_type": "code",
   "execution_count": 0,
   "metadata": {
    "application/vnd.databricks.v1+cell": {
     "cellMetadata": {},
     "inputWidgets": {},
     "nuid": "2909708c-2132-4009-8985-79778fdb0131",
     "showTitle": false,
     "title": ""
    },
    "collapsed": false
   },
   "outputs": [],
   "source": [
    "df = data[[\"RIDAGEYR\", \"BPXSY1\", \"RIAGENDR\", \"BMXBMI\", \"BMXWT\", \"BMXRECUM\", \"BMILEG\", \"BMXARML\", \"BMXHT\", \"BMXWAIST\", \"BMXTRI\", \"DMDMARTL\"]]\n",
    "df.isnull().mean()"
   ]
  },
  {
   "cell_type": "markdown",
   "metadata": {
    "application/vnd.databricks.v1+cell": {
     "cellMetadata": {},
     "inputWidgets": {},
     "nuid": "81f37a63-fc5b-4910-a12c-8777f87f307b",
     "showTitle": false,
     "title": ""
    }
   },
   "source": [
    "Since we will need complete cases below, we drop the two variables with high rates of missing values, then drop all cases with any missing values on the remaining variables."
   ]
  },
  {
   "cell_type": "code",
   "execution_count": 0,
   "metadata": {
    "application/vnd.databricks.v1+cell": {
     "cellMetadata": {},
     "inputWidgets": {},
     "nuid": "c331374d-1945-428d-a2d1-38091576fe62",
     "showTitle": false,
     "title": ""
    },
    "collapsed": false
   },
   "outputs": [],
   "source": [
    "del df[\"BMILEG\"]\n",
    "del df[\"BMXRECUM\"]\n",
    "df = df.dropna()\n",
    "df.shape"
   ]
  },
  {
   "cell_type": "markdown",
   "metadata": {
    "application/vnd.databricks.v1+cell": {
     "cellMetadata": {},
     "inputWidgets": {},
     "nuid": "35c5522b-cdb0-490c-9b15-5d2d2a164606",
     "showTitle": false,
     "title": ""
    }
   },
   "source": [
    "We need an indicator variable for gender."
   ]
  },
  {
   "cell_type": "code",
   "execution_count": 0,
   "metadata": {
    "application/vnd.databricks.v1+cell": {
     "cellMetadata": {},
     "inputWidgets": {},
     "nuid": "25267473-708a-4140-990e-bb3cca2f5593",
     "showTitle": false,
     "title": ""
    },
    "collapsed": false
   },
   "outputs": [],
   "source": [
    "df[\"FEMALE\"] = 1*(df[\"RIAGENDR\"] == 2)"
   ]
  },
  {
   "cell_type": "markdown",
   "metadata": {
    "application/vnd.databricks.v1+cell": {
     "cellMetadata": {},
     "inputWidgets": {},
     "nuid": "ae68a20d-eeed-4ab5-a36d-5581495ac5d9",
     "showTitle": false,
     "title": ""
    }
   },
   "source": [
    "Regularized regression\n",
    "-------------------------\n",
    "\n",
    "Regularized regression is very well developed in sklearn.  Here we will demonstrate two ways to do regularized regression - ridge regression and the Lasso."
   ]
  },
  {
   "cell_type": "markdown",
   "metadata": {
    "application/vnd.databricks.v1+cell": {
     "cellMetadata": {},
     "inputWidgets": {},
     "nuid": "3f57e563-853f-4626-9c72-b9e244c88495",
     "showTitle": false,
     "title": ""
    }
   },
   "source": [
    "sklearn does not handle formulas, but we can use Patsy to process the formulas, then use the resulting design matrices in sklearn."
   ]
  },
  {
   "cell_type": "code",
   "execution_count": 0,
   "metadata": {
    "application/vnd.databricks.v1+cell": {
     "cellMetadata": {},
     "inputWidgets": {},
     "nuid": "30268b94-2d3e-467c-8d4e-0646c8e821e8",
     "showTitle": false,
     "title": ""
    },
    "collapsed": false
   },
   "outputs": [],
   "source": [
    "y, x = patsy.dmatrices(\"BPXSY1 ~ 0 + RIDAGEYR + FEMALE + BMXBMI + BMXWT\", data=df, return_type='dataframe')"
   ]
  },
  {
   "cell_type": "markdown",
   "metadata": {
    "application/vnd.databricks.v1+cell": {
     "cellMetadata": {},
     "inputWidgets": {},
     "nuid": "72a71721-d873-4658-9643-4a6191850d79",
     "showTitle": false,
     "title": ""
    }
   },
   "source": [
    "Usually when working with regularized regression models the predictors and outcomes should be standardized before fitting the model."
   ]
  },
  {
   "cell_type": "code",
   "execution_count": 0,
   "metadata": {
    "application/vnd.databricks.v1+cell": {
     "cellMetadata": {},
     "inputWidgets": {},
     "nuid": "26cfd9f0-77ba-4638-afd0-d5e2418958a5",
     "showTitle": false,
     "title": ""
    },
    "collapsed": false
   },
   "outputs": [],
   "source": [
    "xnames = x.columns\n",
    "x = np.asarray(x)\n",
    "y = np.asarray(y)\n",
    "y = (y - y.mean()) / y.std()\n",
    "x = (x - x.mean(0)) / x.std(0)"
   ]
  },
  {
   "cell_type": "markdown",
   "metadata": {
    "application/vnd.databricks.v1+cell": {
     "cellMetadata": {},
     "inputWidgets": {},
     "nuid": "4b99ec4a-e500-43bb-b0cb-64fba9df3b1b",
     "showTitle": false,
     "title": ""
    }
   },
   "source": [
    "Ridge regression\n",
    "------------------\n",
    "\n",
    "Now we are ready to fit a sequence of ridge regression models, with a sequence of regularization parameters."
   ]
  },
  {
   "cell_type": "code",
   "execution_count": 0,
   "metadata": {
    "application/vnd.databricks.v1+cell": {
     "cellMetadata": {},
     "inputWidgets": {},
     "nuid": "e6657ee4-302a-4595-935e-59b22f924d68",
     "showTitle": false,
     "title": ""
    },
    "collapsed": false
   },
   "outputs": [],
   "source": [
    "from sklearn import linear_model\n",
    "clf = linear_model.Ridge(fit_intercept=False)\n",
    "alphas = np.linspace(0, 40, 100)\n",
    "\n",
    "coefs = []\n",
    "for a in alphas:\n",
    "    clf.set_params(alpha=a*len(y))\n",
    "    clf.fit(x, y)\n",
    "    coefs.append(clf.coef_.ravel())\n",
    "\n",
    "coefs = np.asarray(coefs) "
   ]
  },
  {
   "cell_type": "markdown",
   "metadata": {
    "application/vnd.databricks.v1+cell": {
     "cellMetadata": {},
     "inputWidgets": {},
     "nuid": "0b5a32eb-8c75-4648-adf2-25b2eb88cdf5",
     "showTitle": false,
     "title": ""
    }
   },
   "source": [
    "It is common to visualize the results by plotting the coefficients against the regularization parameter."
   ]
  },
  {
   "cell_type": "code",
   "execution_count": 0,
   "metadata": {
    "application/vnd.databricks.v1+cell": {
     "cellMetadata": {},
     "inputWidgets": {},
     "nuid": "f08c7f87-f6b6-40f4-9b5b-fd1b88970f3e",
     "showTitle": false,
     "title": ""
    },
    "collapsed": false
   },
   "outputs": [],
   "source": [
    "ax = plt.gca()\n",
    "for j,c in enumerate(coefs.T):\n",
    "    plt.plot(alphas, c, label=xnames[j])\n",
    "ha,lb = ax.get_legend_handles_labels()\n",
    "plt.legend(ha, lb, loc=\"upper right\")\n",
    "plt.xlabel('alpha', size=16)\n",
    "plt.ylabel('Coefficients', size=16)"
   ]
  },
  {
   "cell_type": "code",
   "execution_count": 0,
   "metadata": {
    "application/vnd.databricks.v1+cell": {
     "cellMetadata": {},
     "inputWidgets": {},
     "nuid": "8d6c49f0-1950-4584-b94d-17522c3fedad",
     "showTitle": false,
     "title": ""
    },
    "collapsed": true
   },
   "outputs": [],
   "source": [
    "y, x = patsy.dmatrices(\"BPXSY1 ~ 0 + RIDAGEYR + FEMALE + BMXBMI + BMXWT + BMXHT + BMXWAIST + BMXTRI\", data=df, return_type='dataframe')"
   ]
  },
  {
   "cell_type": "code",
   "execution_count": 0,
   "metadata": {
    "application/vnd.databricks.v1+cell": {
     "cellMetadata": {},
     "inputWidgets": {},
     "nuid": "93e83591-2cdc-48ca-9802-971877dbd7a6",
     "showTitle": false,
     "title": ""
    },
    "collapsed": true
   },
   "outputs": [],
   "source": [
    "xnames = x.columns\n",
    "x = np.asarray(x)\n",
    "y = np.asarray(y)\n",
    "y = (y - y.mean()) / y.std()\n",
    "x = (x - x.mean(0)) / x.std(0)"
   ]
  },
  {
   "cell_type": "code",
   "execution_count": 0,
   "metadata": {
    "application/vnd.databricks.v1+cell": {
     "cellMetadata": {},
     "inputWidgets": {},
     "nuid": "e34d3fac-5b40-4432-b9b1-3e24e02fd2fe",
     "showTitle": false,
     "title": ""
    },
    "collapsed": true
   },
   "outputs": [],
   "source": [
    "clf = linear_model.Ridge(fit_intercept=False)\n",
    "\n",
    "alphas = np.linspace(0, 4, 100)\n",
    "coefs = []\n",
    "for a in alphas:\n",
    "    clf.set_params(alpha=a*len(y))\n",
    "    clf.fit(x, y)\n",
    "    coefs.append(clf.coef_.ravel())\n",
    "\n",
    "coefs = np.asarray(coefs) "
   ]
  },
  {
   "cell_type": "code",
   "execution_count": 0,
   "metadata": {
    "application/vnd.databricks.v1+cell": {
     "cellMetadata": {},
     "inputWidgets": {},
     "nuid": "43b03382-20ab-4544-82b7-4dca52058907",
     "showTitle": false,
     "title": ""
    },
    "collapsed": false
   },
   "outputs": [],
   "source": [
    "ax = plt.gca()\n",
    "for j,c in enumerate(coefs.T):\n",
    "    plt.plot(alphas, c, label=xnames[j])\n",
    "ha,lb = ax.get_legend_handles_labels()\n",
    "plt.legend(ha, lb, loc=\"upper right\")\n",
    "plt.xlabel('alpha', size=16)\n",
    "plt.ylabel('Coefficients', size=16)\n",
    "plt.xlim(0, 4)"
   ]
  },
  {
   "cell_type": "code",
   "execution_count": 0,
   "metadata": {
    "application/vnd.databricks.v1+cell": {
     "cellMetadata": {},
     "inputWidgets": {},
     "nuid": "264e1567-3919-4539-8987-69ca27d07320",
     "showTitle": false,
     "title": ""
    },
    "collapsed": false
   },
   "outputs": [],
   "source": [
    "clf = linear_model.Lasso(fit_intercept=False)\n",
    "\n",
    "alphas = np.linspace(0.000001, 0.0001, 100)\n",
    "coefs = []\n",
    "for a in alphas:\n",
    "    clf.set_params(alpha=a*len(y))\n",
    "    clf.fit(x, y)\n",
    "    coefs.append(clf.coef_.ravel())\n",
    "\n",
    "coefs = np.asarray(coefs) "
   ]
  },
  {
   "cell_type": "markdown",
   "metadata": {
    "application/vnd.databricks.v1+cell": {
     "cellMetadata": {},
     "inputWidgets": {},
     "nuid": "e69e1f54-bdd2-4e1a-a8f6-b4b204fc23eb",
     "showTitle": false,
     "title": ""
    }
   },
   "source": [
    "Lasso regression\n",
    "------------------"
   ]
  },
  {
   "cell_type": "code",
   "execution_count": 0,
   "metadata": {
    "application/vnd.databricks.v1+cell": {
     "cellMetadata": {},
     "inputWidgets": {},
     "nuid": "bdc16fb0-f446-4336-b9a4-c2a70637df50",
     "showTitle": false,
     "title": ""
    },
    "collapsed": false
   },
   "outputs": [],
   "source": [
    "ax = plt.gca()\n",
    "for j,c in enumerate(coefs.T):\n",
    "    plt.plot(alphas, c, label=xnames[j])\n",
    "ha,lb = ax.get_legend_handles_labels()\n",
    "plt.legend(ha, lb, loc=\"upper right\")\n",
    "plt.xlabel('alpha', size=16)\n",
    "plt.ylabel('Coefficients', size=16)"
   ]
  },
  {
   "cell_type": "markdown",
   "metadata": {
    "application/vnd.databricks.v1+cell": {
     "cellMetadata": {},
     "inputWidgets": {},
     "nuid": "d8d67ea6-9e44-43d6-b57d-59051017bbe3",
     "showTitle": false,
     "title": ""
    }
   },
   "source": [
    "Principal Components Analysis\n",
    "---------------------------------"
   ]
  },
  {
   "cell_type": "markdown",
   "metadata": {
    "application/vnd.databricks.v1+cell": {
     "cellMetadata": {},
     "inputWidgets": {},
     "nuid": "8b37e699-c4ec-4d65-ac9c-f51293ab493d",
     "showTitle": false,
     "title": ""
    }
   },
   "source": [
    "To illustrate PCA, we can look at five related body meeasures."
   ]
  },
  {
   "cell_type": "code",
   "execution_count": 0,
   "metadata": {
    "application/vnd.databricks.v1+cell": {
     "cellMetadata": {},
     "inputWidgets": {},
     "nuid": "7ecc23c0-8948-4c28-be93-0efd7b08a596",
     "showTitle": false,
     "title": ""
    },
    "collapsed": false
   },
   "outputs": [],
   "source": [
    "from sklearn.decomposition import PCA\n",
    "\n",
    "dfx = df.loc[(df.RIDAGEYR >= 30) & (df.RIDAGEYR <= 40)]\n",
    "x = dfx[[\"BMXBMI\", \"BMXWT\", \"BMXHT\", \"BMXWAIST\", \"BMXTRI\"]]\n",
    "\n",
    "pca = PCA(n_components=2)\n",
    "rslt = pca.fit(x)\n",
    "print(rslt.explained_variance_ratio_)\n",
    "scores = pca.fit_transform(x)\n",
    "ixf = np.flatnonzero(dfx.FEMALE == 1)\n",
    "ixm = np.flatnonzero(dfx.FEMALE == 0)\n",
    "plt.plot(scores[ixf, 0], scores[ixf, 1], 'o', color='orange', alpha=0.2)\n",
    "plt.plot(scores[ixm, 0], scores[ixm, 1], 'o', color='purple', alpha=0.2)\n",
    "plt.xlabel(\"PC 1\", size=16)\n",
    "plt.ylabel(\"PC 2\", size=16)\n",
    "pca.components_"
   ]
  },
  {
   "cell_type": "markdown",
   "metadata": {
    "application/vnd.databricks.v1+cell": {
     "cellMetadata": {},
     "inputWidgets": {},
     "nuid": "56e5f796-6838-40b1-bb49-799c305ed32b",
     "showTitle": false,
     "title": ""
    }
   },
   "source": [
    "As a second example, we can look at three systolic blood pressure measurements (replicate measures taken on the same assessment visit).  These are quie strongly correlated."
   ]
  },
  {
   "cell_type": "code",
   "execution_count": 0,
   "metadata": {
    "application/vnd.databricks.v1+cell": {
     "cellMetadata": {},
     "inputWidgets": {},
     "nuid": "ee7c49bb-ad7c-402d-9520-7ddc3eb24d3f",
     "showTitle": false,
     "title": ""
    },
    "collapsed": false
   },
   "outputs": [],
   "source": [
    "dfx = data[[\"BPXSY1\", \"BPXSY2\", \"BPXSY3\"]].dropna()\n",
    "np.corrcoef(dfx.T)"
   ]
  },
  {
   "cell_type": "code",
   "execution_count": 0,
   "metadata": {
    "application/vnd.databricks.v1+cell": {
     "cellMetadata": {},
     "inputWidgets": {},
     "nuid": "13760704-06d8-462b-ada7-72853aa1ecca",
     "showTitle": false,
     "title": ""
    },
    "collapsed": false
   },
   "outputs": [],
   "source": [
    "pca = PCA(n_components=3)\n",
    "rslt = pca.fit(dfx)\n",
    "print(rslt.explained_variance_ratio_)\n",
    "print(pca.components_)\n",
    "scores = pca.fit_transform(dfx)"
   ]
  },
  {
   "cell_type": "code",
   "execution_count": 0,
   "metadata": {
    "application/vnd.databricks.v1+cell": {
     "cellMetadata": {},
     "inputWidgets": {},
     "nuid": "dded1dbc-e054-4896-a90a-997f51e5c6bb",
     "showTitle": false,
     "title": ""
    },
    "collapsed": false
   },
   "outputs": [],
   "source": [
    "for k in range(3):\n",
    "    ii = np.argsort(scores[:, k])\n",
    "    plt.figure()\n",
    "    plt.clf()\n",
    "    plt.gca().set_xticks([0, 1, 2])\n",
    "    plt.xlabel(\"SBP measurement number\", size=15)\n",
    "    plt.ylabel(\"SBP\", size=16)\n",
    "    plt.title(\"PC \" + str(k+1))\n",
    "    for j in range(5):\n",
    "        plt.plot(dfx.iloc[ii[j], :].values, color='blue')\n",
    "        plt.plot(dfx.iloc[ii[-j-1], :].values, color='red')\n",
    "    plt.figure()\n",
    "    plt.hist(scores[:, k])\n",
    "        "
   ]
  },
  {
   "cell_type": "markdown",
   "metadata": {
    "application/vnd.databricks.v1+cell": {
     "cellMetadata": {},
     "inputWidgets": {},
     "nuid": "ebd6e0a9-f20e-42fe-8eed-10be229e3b3e",
     "showTitle": false,
     "title": ""
    }
   },
   "source": [
    "K-means\n",
    "--------"
   ]
  },
  {
   "cell_type": "code",
   "execution_count": 0,
   "metadata": {
    "application/vnd.databricks.v1+cell": {
     "cellMetadata": {},
     "inputWidgets": {},
     "nuid": "bb9c9611-1753-4666-a3e0-89bb2aa92f8e",
     "showTitle": false,
     "title": ""
    },
    "collapsed": false
   },
   "outputs": [],
   "source": [
    "from sklearn.cluster import KMeans\n",
    "\n",
    "dfx = df.loc[(df.RIDAGEYR >= 30) & (df.RIDAGEYR <= 40)]\n",
    "x = dfx[[\"BMXBMI\", \"BMXWT\", \"BMXHT\", \"BMXWAIST\", \"BMXTRI\"]]\n",
    "\n",
    "km = KMeans(n_clusters=4)\n",
    "rslt = km.fit(x)\n",
    "clcent = pd.DataFrame(km.cluster_centers_, columns=x.columns)\n",
    "print(clcent)\n",
    "print(pd.Series(km.predict(x)).value_counts())"
   ]
  }
 ],
 "metadata": {
  "application/vnd.databricks.v1+notebook": {
   "dashboards": [],
   "environmentMetadata": null,
   "language": "python",
   "notebookMetadata": {},
   "notebookName": "sklearn_workshop",
   "widgets": {}
  },
  "kernelspec": {
   "display_name": "Anaconda (Python 3)",
   "language": "python",
   "name": "anaconda3"
  },
  "language_info": {
   "codemirror_mode": {
    "name": "ipython",
    "version": 3
   },
   "file_extension": ".py",
   "mimetype": "text/x-python",
   "name": "python",
   "nbconvert_exporter": "python",
   "pygments_lexer": "ipython3",
   "version": "3.5.1"
  }
 },
 "nbformat": 4,
 "nbformat_minor": 0
}
