{
<<<<<<< Updated upstream
 "metadata": {
  "name": "",
  "signature": "sha256:a506553cc1fd193d728c025f9eb6e80d721ac54e43fc784602d510f923472499"
 },
 "nbformat": 3,
 "nbformat_minor": 0,
 "worksheets": [
  {
   "cells": [
    {
     "cell_type": "markdown",
     "metadata": {},
     "source": [
      "Marginal regression models for proportions with GEE\n",
      "===================================================\n",
      "\n",
      "Following Papke and Woolridge (1996, 2008) we can use GEE to fit a marginal probit or logit model when the dependent variable is a proportion.\n",
      "\n",
      "See here for additional information about the methods and data set:\n",
      "\n",
      "http://faculty.smu.edu/millimet/classes/eco6375/papers/papke%20wooldridge%202008.pdf"
     ]
    },
    {
     "cell_type": "code",
     "collapsed": false,
     "input": [
      "import statsmodels.api as sm\n",
      "import numpy as np\n",
      "import pandas as pd"
     ],
     "language": "python",
     "metadata": {},
     "outputs": [],
     "prompt_number": 1
    },
    {
     "cell_type": "code",
     "collapsed": false,
     "input": [
      "data = pd.io.stata.read_stata(\"meap92_01.dta\")"
     ],
     "language": "python",
     "metadata": {},
     "outputs": [],
     "prompt_number": 2
    },
    {
     "cell_type": "markdown",
     "metadata": {},
     "source": [
      "The response variable is a proportion.  There are no zeros, but there are 22 cases n which the response variable is excactly equal to 1."
     ]
    },
    {
     "cell_type": "code",
     "collapsed": false,
     "input": [
      "hist(data.math4)\n",
      "plt.xlabel(\"math4\")\n",
      "print np.sum(data.math4 == 0)\n",
      "print np.sum(data.math4 == 1)"
     ],
     "language": "python",
     "metadata": {},
     "outputs": [
      {
       "output_type": "stream",
       "stream": "stdout",
       "text": [
        "0\n",
        "22\n"
       ]
      },
      {
       "metadata": {},
       "output_type": "display_data",
       "png": "iVBORw0KGgoAAAANSUhEUgAAAXoAAAEPCAYAAABMTw/iAAAABHNCSVQICAgIfAhkiAAAAAlwSFlz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\nAABJRU5ErkJggg==\n",
       "text": [
        "<matplotlib.figure.Figure at 0x7f0c60849a50>"
       ]
      }
     ],
     "prompt_number": 3
    },
    {
     "cell_type": "markdown",
     "metadata": {},
     "source": [
      "Here is the probit model used by Papke and Woolridge:"
     ]
    },
    {
     "cell_type": "code",
     "collapsed": false,
     "input": [
      "fml = \"math4 ~ lavgrexp + lunch + lenroll + alavgrexp + alunch + alenroll + y96 + y97 + y98 + y99 + y00 + y01\"\n",
      "fa = sm.families.Binomial(sm.families.links.probit)\n",
      "model = sm.GEE.from_formula(fml, \"distid\", data, cov_struct=sm.cov_struct.Exchangeable(), family=fa)\n",
      "result = model.fit()"
     ],
     "language": "python",
     "metadata": {},
     "outputs": [],
     "prompt_number": 4
    },
    {
     "cell_type": "code",
     "collapsed": false,
     "input": [
      "print result.summary()\n",
      "print result.cov_struct.summary()"
     ],
     "language": "python",
     "metadata": {},
     "outputs": [
      {
       "output_type": "stream",
       "stream": "stdout",
       "text": [
        "                               GEE Regression Results                              \n",
        "===================================================================================\n",
        "Dep. Variable:                       math4   No. Observations:                 3507\n",
        "Model:                                 GEE   No. clusters:                      501\n",
        "Method:                        Generalized   Min. cluster size:                   7\n",
        "                      Estimating Equations   Max. cluster size:                   7\n",
        "Family:                           Binomial   Mean cluster size:                 7.0\n",
        "Dependence structure:         Exchangeable   Num. iterations:                     7\n",
        "Date:                     Sat, 11 Oct 2014   Scale:                           0.064\n",
        "Covariance type:                    robust   Time:                         15:51:47\n",
        "==============================================================================\n",
        "                 coef    std err          z      P>|z|      [95.0% Conf. Int.]\n",
        "------------------------------------------------------------------------------\n",
        "Intercept     -1.9147      0.752     -2.546      0.011        -3.389    -0.441\n",
        "lavgrexp       0.8846      0.206      4.297      0.000         0.481     1.288\n",
        "lunch         -0.2373      0.209     -1.136      0.256        -0.647     0.172\n",
        "lenroll        0.0876      0.139      0.632      0.528        -0.184     0.359\n",
        "alavgrexp     -0.5835      0.223     -2.612      0.009        -1.021    -0.146\n",
        "alunch        -0.9755      0.217     -4.499      0.000        -1.401    -0.550\n",
        "alenroll      -0.0821      0.139     -0.589      0.556        -0.355     0.191\n",
        "y96           -0.0365      0.018     -2.045      0.041        -0.071    -0.002\n",
        "y97           -0.1471      0.027     -5.390      0.000        -0.201    -0.094\n",
        "y98            0.2515      0.034      7.471      0.000         0.186     0.318\n",
        "y99            0.2149      0.037      5.867      0.000         0.143     0.287\n",
        "y00            0.3046      0.040      7.640      0.000         0.226     0.383\n",
        "y01            0.2257      0.044      5.147      0.000         0.140     0.312\n",
        "==============================================================================\n",
        "Skew:                         -0.1648   Kurtosis:                       0.7052\n",
        "Centered skew:                -0.1670   Centered kurtosis:              2.0229\n",
        "==============================================================================\n",
        "The correlation between two observations in the same cluster is 0.490\n"
       ]
      }
     ],
     "prompt_number": 5
    },
    {
     "cell_type": "markdown",
     "metadata": {},
     "source": [
      "Here is the same analaysis done in Stata:\n",
      "\n",
      "```\n",
      ". xtgee math4 lavgrexp lunch lenroll alavgrexp alunch alenroll y96-y01, fa(bi) link(probit) corr(exch) robust\n",
      "\n",
      "Iteration 1: tolerance = .01938386\n",
      "Iteration 2: tolerance = .00128988\n",
      "Iteration 3: tolerance = .00001032\n",
      "Iteration 4: tolerance = 2.708e-07\n",
      "\n",
      "GEE population-averaged model                   Number of obs      =      3507\n",
      "Group variable:                     distid      Number of groups   =       501\n",
      "Link:                               probit      Obs per group: min =         7\n",
      "Family:                           binomial                     avg =       7.0\n",
      "Correlation:                  exchangeable                     max =         7\n",
      "                                                Wald chi2(12)      =   1815.43\n",
      "Scale parameter:                         1      Prob > chi2        =    0.0000\n",
      "\n",
      "                                 (Std. Err. adjusted for clustering on distid)\n",
      "------------------------------------------------------------------------------\n",
      "             |             Semirobust\n",
      "       math4 |      Coef.   Std. Err.      z    P>|z|     [95% Conf. Interval]\n",
      "-------------+----------------------------------------------------------------\n",
      "    lavgrexp |    .884564   .2060662     4.29   0.000     .4806817    1.288446\n",
      "       lunch |  -.2372942   .2091221    -1.13   0.256    -.6471659    .1725775\n",
      "     lenroll |   .0875629   .1387427     0.63   0.528    -.1843677    .3594935\n",
      "   alavgrexp |  -.5835138   .2236705    -2.61   0.009      -1.0219   -.1451277\n",
      "      alunch |  -.9754696   .2170624    -4.49   0.000    -1.400904   -.5500351\n",
      "    alenroll |  -.0820307   .1393712    -0.59   0.556    -.3551933    .1911318\n",
      "         y96 |  -.0364771   .0178529    -2.04   0.041    -.0714681    -.001486\n",
      "         y97 |  -.1471389   .0273264    -5.38   0.000    -.2006976   -.0935801\n",
      "         y98 |   .2515377   .0337018     7.46   0.000     .1854833     .317592\n",
      "         y99 |   .2148552   .0366599     5.86   0.000      .143003    .2867073\n",
      "         y00 |   .3046286   .0399143     7.63   0.000     .2263981    .3828591\n",
      "         y01 |   .2256619   .0438877     5.14   0.000     .1396437    .3116801\n",
      "       _cons |  -1.914975   .7528262    -2.54   0.011    -3.390487   -.4394628\n",
      "------------------------------------------------------------------------------\n",
      "\n",
      ". . estat wcorrelation\n",
      "\n",
      "Estimated within-distid correlation matrix R:\n",
      "\n",
      "      |        c1         c2         c3         c4         c5         c6         c7 \n",
      "------+-----------------------------------------------------------------------------\n",
      "   r1 |         1                                                                   \n",
      "   r2 |  .4914078          1                                                        \n",
      "   r3 |  .4914078   .4914078          1                                             \n",
      "   r4 |  .4914078   .4914078   .4914078          1                                  \n",
      "   r5 |  .4914078   .4914078   .4914078   .4914078          1                       \n",
      "   r6 |  .4914078   .4914078   .4914078   .4914078   .4914078          1            \n",
      "   r7 |  .4914078   .4914078   .4914078   .4914078   .4914078   .4914078          1 \n",
      "```"
     ]
    },
    {
     "cell_type": "markdown",
     "metadata": {},
     "source": [
      "Here is the same model, except with a logit link:"
     ]
    },
    {
     "cell_type": "code",
     "collapsed": false,
     "input": [
      "model2 = sm.GEE.from_formula(fml, \"distid\", data, cov_struct=sm.cov_struct.Exchangeable(), family=sm.families.Binomial())\n",
      "result2 = model2.fit()\n",
      "print result2.summary()\n",
      "print result2.cov_struct.summary()"
     ],
     "language": "python",
     "metadata": {},
     "outputs": [
      {
       "output_type": "stream",
       "stream": "stdout",
       "text": [
        "                               GEE Regression Results                              \n",
        "===================================================================================\n",
        "Dep. Variable:                       math4   No. Observations:                 3507\n",
        "Model:                                 GEE   No. clusters:                      501\n",
        "Method:                        Generalized   Min. cluster size:                   7\n",
        "                      Estimating Equations   Max. cluster size:                   7\n",
        "Family:                           Binomial   Mean cluster size:                 7.0\n",
        "Dependence structure:         Exchangeable   Num. iterations:                     8\n",
        "Date:                     Sat, 11 Oct 2014   Scale:                           0.064\n",
        "Covariance type:                    robust   Time:                         15:51:48\n",
        "==============================================================================\n",
        "                 coef    std err          z      P>|z|      [95.0% Conf. Int.]\n",
        "------------------------------------------------------------------------------\n",
        "Intercept     -3.1770      1.268     -2.505      0.012        -5.662    -0.692\n",
        "lavgrexp       1.3917      0.344      4.050      0.000         0.718     2.065\n",
        "lunch         -0.4209      0.346     -1.216      0.224        -1.099     0.258\n",
        "lenroll        0.1891      0.230      0.821      0.412        -0.262     0.641\n",
        "alavgrexp     -0.9014      0.379     -2.378      0.017        -1.644    -0.159\n",
        "alunch        -1.5630      0.358     -4.365      0.000        -2.265    -0.861\n",
        "alenroll      -0.1734      0.231     -0.750      0.454        -0.627     0.280\n",
        "y96           -0.0584      0.029     -1.988      0.047        -0.116    -0.001\n",
        "y97           -0.2363      0.045     -5.215      0.000        -0.325    -0.148\n",
        "y98            0.4248      0.056      7.520      0.000         0.314     0.536\n",
        "y99            0.3653      0.061      5.945      0.000         0.245     0.486\n",
        "y00            0.5203      0.067      7.761      0.000         0.389     0.652\n",
        "y01            0.3886      0.074      5.275      0.000         0.244     0.533\n",
        "==============================================================================\n",
        "Skew:                         -0.1580   Kurtosis:                       0.7019\n",
        "Centered skew:                -0.1662   Centered kurtosis:              2.0124\n",
        "==============================================================================\n",
        "The correlation between two observations in the same cluster is 0.491\n"
       ]
      }
     ],
     "prompt_number": 6
    },
    {
     "cell_type": "markdown",
     "metadata": {},
     "source": [
      "Here is the same analysis using Stata:\n",
      "\n",
      "```\n",
      ". xtgee math4 lavgrexp lunch lenroll alavgrexp alunch alenroll y96-y01, fa(bi) link(logit) corr(exch) robust\n",
      "\n",
      "Iteration 1: tolerance = .03823289\n",
      "Iteration 2: tolerance = .0038322\n",
      "Iteration 3: tolerance = .00004492\n",
      "Iteration 4: tolerance = 4.634e-06\n",
      "Iteration 5: tolerance = 5.825e-08\n",
      "\n",
      "GEE population-averaged model                   Number of obs      =      3507\n",
      "Group variable:                     distid      Number of groups   =       501\n",
      "Link:                                logit      Obs per group: min =         7\n",
      "Family:                           binomial                     avg =       7.0\n",
      "Correlation:                  exchangeable                     max =         7\n",
      "                                                Wald chi2(12)      =   1725.03\n",
      "Scale parameter:                         1      Prob > chi2        =    0.0000\n",
      "\n",
      "                                 (Std. Err. adjusted for clustering on distid)\n",
      "------------------------------------------------------------------------------\n",
      "             |               Robust\n",
      "       math4 |      Coef.   Std. Err.      z    P>|z|     [95% Conf. Interval]\n",
      "-------------+----------------------------------------------------------------\n",
      "    lavgrexp |   1.391682   .3439966     4.05   0.000     .7174607    2.065903\n",
      "       lunch |  -.4208871   .3465353    -1.21   0.225    -1.100084    .2583097\n",
      "     lenroll |   .1890935   .2305562     0.82   0.412    -.2627884    .6409754\n",
      "   alavgrexp |  -.9014303   .3794192    -2.38   0.018    -1.645078   -.1577823\n",
      "      alunch |  -1.562824   .3584047    -4.36   0.000    -2.265284   -.8603634\n",
      "    alenroll |  -.1733469   .2315958    -0.75   0.454    -.6272663    .2805725\n",
      "         y96 |  -.0584388   .0294272    -1.99   0.047     -.116115   -.0007626\n",
      "         y97 |  -.2363386   .0453651    -5.21   0.000    -.3252525   -.1474246\n",
      "         y98 |   .4248137   .0565481     7.51   0.000     .3139815    .5356459\n",
      "         y99 |   .3653465   .0615172     5.94   0.000     .2447749     .485918\n",
      "         y00 |    .520279   .0671024     7.75   0.000     .3887606    .6517973\n",
      "         y01 |   .3886253   .0737458     5.27   0.000     .2440861    .5331645\n",
      "       _cons |  -3.177677   1.269384    -2.50   0.012    -5.665625   -.6897297\n",
      "------------------------------------------------------------------------------\n",
      "\n",
      ". . estat wcorrelation\n",
      "\n",
      "Estimated within-distid correlation matrix R:\n",
      "\n",
      "      |        c1         c2         c3         c4         c5         c6         c7 \n",
      "------+-----------------------------------------------------------------------------\n",
      "   r1 |         1                                                                   \n",
      "   r2 |  .4925912          1                                                        \n",
      "   r3 |  .4925912   .4925912          1                                             \n",
      "   r4 |  .4925912   .4925912   .4925912          1                                  \n",
      "   r5 |  .4925912   .4925912   .4925912   .4925912          1                       \n",
      "   r6 |  .4925912   .4925912   .4925912   .4925912   .4925912          1            \n",
      "   r7 |  .4925912   .4925912   .4925912   .4925912   .4925912   .4925912          1 \n",
      "```"
     ]
    }
   ],
   "metadata": {}
  }
 ]
}
=======
 "cells": [
  {
   "cell_type": "markdown",
   "metadata": {
    "application/vnd.databricks.v1+cell": {
     "cellMetadata": {},
     "inputWidgets": {},
     "nuid": "0b0f0269-e100-4c82-83fa-69a3bce2ead5",
     "showTitle": false,
     "title": ""
    }
   },
   "source": [
    "Marginal regression models for proportions with GEE\n",
    "===================================================\n",
    "\n",
    "Following Papke and Woolridge (1996, 2008) we can use GEE to fit a marginal probit or logit model when the dependent variable is a proportion.\n",
    "\n",
    "See here for additional information about the methods and data set:\n",
    "\n",
    "http://faculty.smu.edu/millimet/classes/eco6375/papers/papke%20wooldridge%202008.pdf"
   ]
  },
  {
   "cell_type": "code",
   "execution_count": 0,
   "metadata": {
    "application/vnd.databricks.v1+cell": {
     "cellMetadata": {},
     "inputWidgets": {},
     "nuid": "e39657c2-9142-4a98-bb86-0e0366179ca2",
     "showTitle": false,
     "title": ""
    }
   },
   "outputs": [],
   "source": [
    "import statsmodels.api as sm\n",
    "import numpy as np\n",
    "import pandas as pd"
   ]
  },
  {
   "cell_type": "code",
   "execution_count": 0,
   "metadata": {
    "application/vnd.databricks.v1+cell": {
     "cellMetadata": {},
     "inputWidgets": {},
     "nuid": "cf92a0d8-5f98-4dee-a00e-2cd37699eca7",
     "showTitle": false,
     "title": ""
    }
   },
   "outputs": [],
   "source": [
    "data = pd.io.stata.read_stata(\"meap92_01.dta\")"
   ]
  },
  {
   "cell_type": "markdown",
   "metadata": {
    "application/vnd.databricks.v1+cell": {
     "cellMetadata": {},
     "inputWidgets": {},
     "nuid": "7ffb6579-f77e-4ab8-a9e2-36fd826622bb",
     "showTitle": false,
     "title": ""
    }
   },
   "source": [
    "The response variable is a proportion.  There are no zeros, but there are 22 cases n which the response variable is excactly equal to 1."
   ]
  },
  {
   "cell_type": "code",
   "execution_count": 0,
   "metadata": {
    "application/vnd.databricks.v1+cell": {
     "cellMetadata": {},
     "inputWidgets": {},
     "nuid": "15183951-e2bb-45d3-b3df-b9c461f5e6a5",
     "showTitle": false,
     "title": ""
    }
   },
   "outputs": [],
   "source": [
    "hist(data.math4)\n",
    "plt.xlabel(\"math4\")\n",
    "print np.sum(data.math4 == 0)\n",
    "print np.sum(data.math4 == 1)"
   ]
  },
  {
   "cell_type": "markdown",
   "metadata": {
    "application/vnd.databricks.v1+cell": {
     "cellMetadata": {},
     "inputWidgets": {},
     "nuid": "c13907d4-4f09-420b-9472-3672e18ab653",
     "showTitle": false,
     "title": ""
    }
   },
   "source": [
    "Here is the probit model used by Papke and Woolridge:"
   ]
  },
  {
   "cell_type": "code",
   "execution_count": 0,
   "metadata": {
    "application/vnd.databricks.v1+cell": {
     "cellMetadata": {},
     "inputWidgets": {},
     "nuid": "83f91435-570c-4862-9848-a5b15f15eb72",
     "showTitle": false,
     "title": ""
    }
   },
   "outputs": [],
   "source": [
    "fml = \"math4 ~ lavgrexp + lunch + lenroll + alavgrexp + alunch + alenroll + y96 + y97 + y98 + y99 + y00 + y01\"\n",
    "fa = sm.families.Binomial(sm.families.links.probit)\n",
    "model = sm.GEE.from_formula(fml, \"distid\", data, cov_struct=sm.cov_struct.Exchangeable(), family=fa)\n",
    "result = model.fit()"
   ]
  },
  {
   "cell_type": "code",
   "execution_count": 0,
   "metadata": {
    "application/vnd.databricks.v1+cell": {
     "cellMetadata": {},
     "inputWidgets": {},
     "nuid": "bf0e61ca-3e5e-41e9-b66b-fdd0817cca3d",
     "showTitle": false,
     "title": ""
    }
   },
   "outputs": [],
   "source": [
    "print result.summary()\n",
    "print result.cov_struct.summary()"
   ]
  },
  {
   "cell_type": "markdown",
   "metadata": {
    "application/vnd.databricks.v1+cell": {
     "cellMetadata": {},
     "inputWidgets": {},
     "nuid": "73082d56-b253-41dc-ad78-8e36df09a39e",
     "showTitle": false,
     "title": ""
    }
   },
   "source": [
    "Here is the same analaysis done in Stata:\n",
    "\n",
    "```\n",
    ". xtgee math4 lavgrexp lunch lenroll alavgrexp alunch alenroll y96-y01, fa(bi) link(probit) corr(exch) robust\n",
    "\n",
    "Iteration 1: tolerance = .01938386\n",
    "Iteration 2: tolerance = .00128988\n",
    "Iteration 3: tolerance = .00001032\n",
    "Iteration 4: tolerance = 2.708e-07\n",
    "\n",
    "GEE population-averaged model                   Number of obs      =      3507\n",
    "Group variable:                     distid      Number of groups   =       501\n",
    "Link:                               probit      Obs per group: min =         7\n",
    "Family:                           binomial                     avg =       7.0\n",
    "Correlation:                  exchangeable                     max =         7\n",
    "                                                Wald chi2(12)      =   1815.43\n",
    "Scale parameter:                         1      Prob > chi2        =    0.0000\n",
    "\n",
    "                                 (Std. Err. adjusted for clustering on distid)\n",
    "------------------------------------------------------------------------------\n",
    "             |             Semirobust\n",
    "       math4 |      Coef.   Std. Err.      z    P>|z|     [95% Conf. Interval]\n",
    "-------------+----------------------------------------------------------------\n",
    "    lavgrexp |    .884564   .2060662     4.29   0.000     .4806817    1.288446\n",
    "       lunch |  -.2372942   .2091221    -1.13   0.256    -.6471659    .1725775\n",
    "     lenroll |   .0875629   .1387427     0.63   0.528    -.1843677    .3594935\n",
    "   alavgrexp |  -.5835138   .2236705    -2.61   0.009      -1.0219   -.1451277\n",
    "      alunch |  -.9754696   .2170624    -4.49   0.000    -1.400904   -.5500351\n",
    "    alenroll |  -.0820307   .1393712    -0.59   0.556    -.3551933    .1911318\n",
    "         y96 |  -.0364771   .0178529    -2.04   0.041    -.0714681    -.001486\n",
    "         y97 |  -.1471389   .0273264    -5.38   0.000    -.2006976   -.0935801\n",
    "         y98 |   .2515377   .0337018     7.46   0.000     .1854833     .317592\n",
    "         y99 |   .2148552   .0366599     5.86   0.000      .143003    .2867073\n",
    "         y00 |   .3046286   .0399143     7.63   0.000     .2263981    .3828591\n",
    "         y01 |   .2256619   .0438877     5.14   0.000     .1396437    .3116801\n",
    "       _cons |  -1.914975   .7528262    -2.54   0.011    -3.390487   -.4394628\n",
    "------------------------------------------------------------------------------\n",
    "\n",
    ". . estat wcorrelation\n",
    "\n",
    "Estimated within-distid correlation matrix R:\n",
    "\n",
    "      |        c1         c2         c3         c4         c5         c6         c7 \n",
    "------+-----------------------------------------------------------------------------\n",
    "   r1 |         1                                                                   \n",
    "   r2 |  .4914078          1                                                        \n",
    "   r3 |  .4914078   .4914078          1                                             \n",
    "   r4 |  .4914078   .4914078   .4914078          1                                  \n",
    "   r5 |  .4914078   .4914078   .4914078   .4914078          1                       \n",
    "   r6 |  .4914078   .4914078   .4914078   .4914078   .4914078          1            \n",
    "   r7 |  .4914078   .4914078   .4914078   .4914078   .4914078   .4914078          1 \n",
    "```"
   ]
  },
  {
   "cell_type": "markdown",
   "metadata": {
    "application/vnd.databricks.v1+cell": {
     "cellMetadata": {},
     "inputWidgets": {},
     "nuid": "6776dbc6-dd00-4b36-9da1-ac232445d426",
     "showTitle": false,
     "title": ""
    }
   },
   "source": [
    "Here is the same model, except with a logit link:"
   ]
  },
  {
   "cell_type": "code",
   "execution_count": 0,
   "metadata": {
    "application/vnd.databricks.v1+cell": {
     "cellMetadata": {},
     "inputWidgets": {},
     "nuid": "f29425c5-c73e-4bb9-97ce-6554a5f8cc8d",
     "showTitle": false,
     "title": ""
    }
   },
   "outputs": [],
   "source": [
    "model2 = sm.GEE.from_formula(fml, \"distid\", data, cov_struct=sm.cov_struct.Exchangeable(), family=sm.families.Binomial())\n",
    "result2 = model2.fit()\n",
    "print result2.summary()\n",
    "print result2.cov_struct.summary()"
   ]
  },
  {
   "cell_type": "markdown",
   "metadata": {
    "application/vnd.databricks.v1+cell": {
     "cellMetadata": {},
     "inputWidgets": {},
     "nuid": "40227163-eab2-4b2a-9331-e0691fcd7375",
     "showTitle": false,
     "title": ""
    }
   },
   "source": [
    "Here is the same analysis using Stata:\n",
    "\n",
    "```\n",
    ". xtgee math4 lavgrexp lunch lenroll alavgrexp alunch alenroll y96-y01, fa(bi) link(logit) corr(exch) robust\n",
    "\n",
    "Iteration 1: tolerance = .03823289\n",
    "Iteration 2: tolerance = .0038322\n",
    "Iteration 3: tolerance = .00004492\n",
    "Iteration 4: tolerance = 4.634e-06\n",
    "Iteration 5: tolerance = 5.825e-08\n",
    "\n",
    "GEE population-averaged model                   Number of obs      =      3507\n",
    "Group variable:                     distid      Number of groups   =       501\n",
    "Link:                                logit      Obs per group: min =         7\n",
    "Family:                           binomial                     avg =       7.0\n",
    "Correlation:                  exchangeable                     max =         7\n",
    "                                                Wald chi2(12)      =   1725.03\n",
    "Scale parameter:                         1      Prob > chi2        =    0.0000\n",
    "\n",
    "                                 (Std. Err. adjusted for clustering on distid)\n",
    "------------------------------------------------------------------------------\n",
    "             |               Robust\n",
    "       math4 |      Coef.   Std. Err.      z    P>|z|     [95% Conf. Interval]\n",
    "-------------+----------------------------------------------------------------\n",
    "    lavgrexp |   1.391682   .3439966     4.05   0.000     .7174607    2.065903\n",
    "       lunch |  -.4208871   .3465353    -1.21   0.225    -1.100084    .2583097\n",
    "     lenroll |   .1890935   .2305562     0.82   0.412    -.2627884    .6409754\n",
    "   alavgrexp |  -.9014303   .3794192    -2.38   0.018    -1.645078   -.1577823\n",
    "      alunch |  -1.562824   .3584047    -4.36   0.000    -2.265284   -.8603634\n",
    "    alenroll |  -.1733469   .2315958    -0.75   0.454    -.6272663    .2805725\n",
    "         y96 |  -.0584388   .0294272    -1.99   0.047     -.116115   -.0007626\n",
    "         y97 |  -.2363386   .0453651    -5.21   0.000    -.3252525   -.1474246\n",
    "         y98 |   .4248137   .0565481     7.51   0.000     .3139815    .5356459\n",
    "         y99 |   .3653465   .0615172     5.94   0.000     .2447749     .485918\n",
    "         y00 |    .520279   .0671024     7.75   0.000     .3887606    .6517973\n",
    "         y01 |   .3886253   .0737458     5.27   0.000     .2440861    .5331645\n",
    "       _cons |  -3.177677   1.269384    -2.50   0.012    -5.665625   -.6897297\n",
    "------------------------------------------------------------------------------\n",
    "\n",
    ". . estat wcorrelation\n",
    "\n",
    "Estimated within-distid correlation matrix R:\n",
    "\n",
    "      |        c1         c2         c3         c4         c5         c6         c7 \n",
    "------+-----------------------------------------------------------------------------\n",
    "   r1 |         1                                                                   \n",
    "   r2 |  .4925912          1                                                        \n",
    "   r3 |  .4925912   .4925912          1                                             \n",
    "   r4 |  .4925912   .4925912   .4925912          1                                  \n",
    "   r5 |  .4925912   .4925912   .4925912   .4925912          1                       \n",
    "   r6 |  .4925912   .4925912   .4925912   .4925912   .4925912          1            \n",
    "   r7 |  .4925912   .4925912   .4925912   .4925912   .4925912   .4925912          1 \n",
    "```"
   ]
  }
 ],
 "metadata": {
  "application/vnd.databricks.v1+notebook": {
   "dashboards": [],
   "language": "python",
   "notebookMetadata": {},
   "notebookName": "GEE_logit_proportion",
   "widgets": {}
  },
  "name": "",
  "signature": "sha256:a506553cc1fd193d728c025f9eb6e80d721ac54e43fc784602d510f923472499"
 },
 "nbformat": 4,
 "nbformat_minor": 0
}
>>>>>>> Stashed changes
