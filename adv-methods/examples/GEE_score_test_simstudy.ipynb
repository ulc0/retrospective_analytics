{
<<<<<<< Updated upstream
 "metadata": {
  "name": "",
  "signature": "sha256:3bd08825fe5379ed48dc47a20cec535032d04e4df61519260f4739d4e6d8e734"
 },
 "nbformat": 3,
 "nbformat_minor": 0,
 "worksheets": [
  {
   "cells": [
    {
     "cell_type": "markdown",
     "metadata": {},
     "source": [
      "Score tests for marginal regression models fit using GEE\n",
      "========================================================\n",
      "\n",
      "*Key ideas:* Simulation study, score test, Gaussian GEE"
     ]
    },
    {
     "cell_type": "markdown",
     "metadata": {},
     "source": [
      "This notebook uses simulation to check the performance of the GEE score test.  The score test can be used to test null hypotheses that take the form `L*params = R`, where `L` is a `q x p` matrix, and `R` is a `q`-vector.  Score tests are especially useful in GEE analyses since in GEE there is no likelihood ratio test.\n",
      "\n",
      "Here are the import statements:"
     ]
    },
    {
     "cell_type": "code",
     "collapsed": false,
     "input": [
      "import numpy as np\n",
      "import pandas as pd\n",
      "import statsmodels.api as sm\n",
      "from scipy.stats.distributions import norm"
     ],
     "language": "python",
     "metadata": {},
     "outputs": [],
     "prompt_number": 1
    },
    {
     "cell_type": "markdown",
     "metadata": {},
     "source": [
      "## Testing two linear constraints\n",
      "\n",
      "Score tests can be used to test models that are fit under an arbitrary number of linear constraints on the parameter vector against the unconstrained parent model.  First we evaluate the performance of score testing when the mean structure is constrained using two linear constraints."
     ]
    },
    {
     "cell_type": "markdown",
     "metadata": {},
     "source": [
      "This is the number of replicates in the simulation study.  Increase it to get more precise results (but the simulation will take a longer time to run)."
     ]
    },
    {
     "cell_type": "code",
     "collapsed": false,
     "input": [
      "nrep = 400"
     ],
     "language": "python",
     "metadata": {},
     "outputs": [],
     "prompt_number": 2
    },
    {
     "cell_type": "markdown",
     "metadata": {},
     "source": [
      "These are the matrices that define the two-dimensional constraint params[1] == params[2] and params[3] == params[4]."
     ]
    },
    {
     "cell_type": "code",
     "collapsed": false,
     "input": [
      "L = np.array([[0, 1, -1, 0, 0], [0, 0, 0, 1, -1]])\n",
      "R = np.array([0, 0])"
     ],
     "language": "python",
     "metadata": {},
     "outputs": [],
     "prompt_number": 3
    },
    {
     "cell_type": "markdown",
     "metadata": {},
     "source": [
      "We will simulate data under the null hypothesis and under the alternative ypothesis.  The p-values for the null hypothesis will be placed in pvalues[0] and the p-values for the alternative hypothesis will be placed in pvalues[1]."
     ]
    },
    {
     "cell_type": "code",
     "collapsed": false,
     "input": [
      "pvalues = [[], []]"
     ],
     "language": "python",
     "metadata": {},
     "outputs": [],
     "prompt_number": 4
    },
    {
     "cell_type": "markdown",
     "metadata": {},
     "source": [
      "Here is a function to simulate data suitable for GEE analysis."
     ]
    },
    {
     "cell_type": "code",
     "collapsed": false,
     "input": [
      "def gendat(params):\n",
      "    \n",
      "    exog = np.random.normal(size=(500,5))\n",
      "    groups = np.kron(np.arange(100), [1,1,1,1,1])\n",
      "\n",
      "    endog = np.dot(exog, params) + 2*np.random.normal(size=500)\n",
      "    \n",
      "    # The cluster effects\n",
      "    endog += np.random.normal(size=100)[groups]\n",
      "\n",
      "    return endog, exog, groups"
     ],
     "language": "python",
     "metadata": {},
     "outputs": [],
     "prompt_number": 5
    },
    {
     "cell_type": "markdown",
     "metadata": {},
     "source": [
      "Here is the main simulation loop that constructs the data sets, fits marginal regression models using GEE, and collects the p-values for the score test."
     ]
    },
    {
     "cell_type": "code",
     "collapsed": false,
     "input": [
      "for j in 0,1:\n",
      "    for iter in range(nrep):\n",
      "\n",
      "        # Null hypothesis, the constraints are satisfied\n",
      "        if j == 0:\n",
      "            params = np.r_[0, 1, 1, -2, -2]\n",
      "            \n",
      "        # Alternative hypothesis, the first constraint is not satisfied\n",
      "        else:\n",
      "            params = np.r_[0, 1, 0.8, -2, -2]\n",
      "\n",
      "        endog, exog, groups = gendat(params)\n",
      "        \n",
      "        ex = sm.cov_struct.Exchangeable()\n",
      "        ga = sm.families.Gaussian()\n",
      "\n",
      "        model = sm.GEE(endog, exog, groups, family=ga, cov_struct=ex,\n",
      "                 constraint=(L,R))\n",
      "        result = model.fit()\n",
      "        pvalues[j].append(model.score_test_results[\"p-value\"])"
     ],
     "language": "python",
     "metadata": {},
     "outputs": [],
     "prompt_number": 6
    },
    {
     "cell_type": "markdown",
     "metadata": {},
     "source": [
      "These are the results of one run in the simulation study."
     ]
    },
    {
     "cell_type": "code",
     "collapsed": false,
     "input": [
      "print result.summary()\n",
      "print model.score_test_results"
     ],
     "language": "python",
     "metadata": {},
     "outputs": [
      {
       "output_type": "stream",
       "stream": "stdout",
       "text": [
        "                               GEE Regression Results                              \n",
        "===================================================================================\n",
        "Dep. Variable:                           y   No. Observations:                  500\n",
        "Model:                                 GEE   No. clusters:                      100\n",
        "Method:                        Generalized   Min. cluster size:                   5\n",
        "                      Estimating Equations   Max. cluster size:                   5\n",
        "Family:                           Gaussian   Mean cluster size:                 5.0\n",
        "Dependence structure:         Exchangeable   Num. iterations:                     5\n",
        "Date:                     Sat, 18 Oct 2014   Scale:                           5.193\n",
        "Covariance type:                    robust   Time:                         23:45:40\n",
        "==============================================================================\n",
        "                 coef    std err          z      P>|z|      [95.0% Conf. Int.]\n",
        "------------------------------------------------------------------------------\n",
        "x1             0.1763      0.095      1.863      0.062        -0.009     0.362\n",
        "x2             0.9634      0.062     15.520      0.000         0.842     1.085\n",
        "x3             0.9634      0.062     15.520      0.000         0.842     1.085\n",
        "x4            -2.1134      0.063    -33.614      0.000        -2.237    -1.990\n",
        "x5            -2.1134      0.063    -33.614      0.000        -2.237    -1.990\n",
        "==============================================================================\n",
        "Skew:                          0.0282   Kurtosis:                      -0.0719\n",
        "Centered skew:                 0.0668   Centered kurtosis:             -0.2998\n",
        "==============================================================================\n",
        "{'df': 2, 'p-value': 0.18965154372410886, 'statistic': 3.3251337420443026}\n"
       ]
      }
     ],
     "prompt_number": 7
    },
    {
     "cell_type": "markdown",
     "metadata": {},
     "source": [
      "Our assessment will be based on the order statistics of the p-values, so we sort the p-values here."
     ]
    },
    {
     "cell_type": "code",
     "collapsed": false,
     "input": [
      "pvalues = [np.sort(np.asarray(x)) for x in pvalues]"
     ],
     "language": "python",
     "metadata": {},
     "outputs": [],
     "prompt_number": 8
    },
    {
     "cell_type": "markdown",
     "metadata": {},
     "source": [
      "Next we plot the order statistics.  The p-values for the null model (orange) should follow the grey line (the p-values should be uniform, so the order statistics should follow a linear pattern), and the p-values for the alternative model (purple) should fall well below the grey line (the smaller the p-values, the greater the power)."
     ]
    },
    {
     "cell_type": "code",
     "collapsed": false,
     "input": [
      "import matplotlib.pyplot as plt\n",
      "plt.clf()\n",
      "a1, = plt.plot(pvalues[0], lw=5, color='orange')\n",
      "a2, = plt.plot(pvalues[1], lw=5, color='purple')\n",
      "plt.plot([0, len(pvalues[0])], [0, 1], '-', color='grey')\n",
      "leg = plt.figlegend((a1, a2), (\"Null\", \"Alternative\"), \"upper center\",\n",
      "                    numpoints=1, ncol=2)\n",
      "leg.draw_frame(False)\n",
      "plt.xlabel(\"Position\", size=17)\n",
      "plt.ylabel(\"Order statistic\", size=17)"
     ],
     "language": "python",
     "metadata": {},
     "outputs": [
      {
       "metadata": {},
       "output_type": "pyout",
       "prompt_number": 9,
       "text": [
        "<matplotlib.text.Text at 0x7fdd911558d0>"
       ]
      },
      {
       "metadata": {},
       "output_type": "display_data",
       "png": "iVBORw0KGgoAAAANSUhEUgAAAY8AAAEpCAYAAABr364UAAAABHNCSVQICAgIfAhkiAAAAAlwSFlz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\nrkJggg==\n",
       "text": [
        "<matplotlib.figure.Figure at 0x7fdd911d1750>"
       ]
      }
     ],
     "prompt_number": 9
    },
    {
     "cell_type": "markdown",
     "metadata": {},
     "source": [
      "## Comparing score tests for one constraint with Wald tests\n",
      "\n",
      "When the score test is testing only one linear constraint, it is easy to compare the score test to a Wald test. "
     ]
    },
    {
     "cell_type": "code",
     "collapsed": false,
     "input": [
      "# Constraint matrices for score test, testing that params[1] == params[2]\n",
      "L = np.array([[0., 1, -1, 0, 0]])\n",
      "R = np.r_[0.]\n",
      "\n",
      "wald_tests = []\n",
      "score_tests = []\n",
      "\n",
      "nrep = 200\n",
      "for k in range(nrep):\n",
      "    \n",
      "    params = np.r_[0, 1, 1 + np.random.normal(), 0, 2]\n",
      "    endog, exog, groups = gendat(params)\n",
      "    \n",
      "    # Unconstrained model\n",
      "    ex = sm.cov_struct.Exchangeable()\n",
      "    ga = sm.families.Gaussian()\n",
      "    model0 = sm.GEE(endog, exog, groups, family=ga, cov_struct=ex)\n",
      "    result0 = model0.fit()\n",
      "\n",
      "    # Wald test for the null hypothesis params[1] == params[2]\n",
      "    se = np.sqrt(np.dot(L[0,:], np.dot(result0.cov_params(), L[0,:])))\n",
      "    wald_test = np.dot(L[0, :], result0.params) / se\n",
      "    pv = 2*norm.cdf(-np.abs(wald_test))\n",
      "    wald_tests.append(pv)\n",
      "    \n",
      "    # Score test for the hypothesis params[1] == params[2]\n",
      "    ex = sm.cov_struct.Exchangeable()\n",
      "    ga = sm.families.Gaussian()\n",
      "    model = sm.GEE(endog, exog, groups, family=ga, cov_struct=ex,\n",
      "              constraint=(L,R))\n",
      "    result = model.fit()\n",
      "    score_tests.append(model.score_test_results[\"p-value\"])\n"
     ],
     "language": "python",
     "metadata": {},
     "outputs": [],
     "prompt_number": 10
    },
    {
     "cell_type": "markdown",
     "metadata": {},
     "source": [
      "We plot the p-values from the two tests against each other to confirm that they are operating similarly."
     ]
    },
    {
     "cell_type": "code",
     "collapsed": false,
     "input": [
      "plt.clf()\n",
      "plt.plot(wald_tests, score_tests, 'o', color='orange', alpha=0.6)\n",
      "plt.grid(True)\n",
      "plt.xlim(0, 1)\n",
      "plt.ylim(0, 1)\n",
      "plt.xlabel(\"Wald test p-value\", size=14)\n",
      "plt.ylabel(\"Score test p-value\", size=14)"
     ],
     "language": "python",
     "metadata": {},
     "outputs": [
      {
       "metadata": {},
       "output_type": "pyout",
       "prompt_number": 11,
       "text": [
        "<matplotlib.text.Text at 0x7fdd910dca90>"
       ]
      },
      {
       "metadata": {},
       "output_type": "display_data",
       "png": "iVBORw0KGgoAAAANSUhEUgAAAYoAAAETCAYAAAAoF0GbAAAABHNCSVQICAgIfAhkiAAAAAlwSFlz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\nbBi+OV7EcH0AAAAASUVORK5CYII=\n",
       "text": [
        "<matplotlib.figure.Figure at 0x7fdd9118f790>"
       ]
      }
     ],
     "prompt_number": 11
    }
   ],
   "metadata": {}
  }
 ]
}
=======
 "cells": [
  {
   "cell_type": "markdown",
   "metadata": {
    "application/vnd.databricks.v1+cell": {
     "cellMetadata": {},
     "inputWidgets": {},
     "nuid": "5d915bd8-546d-4890-b56e-fd7cd37bf8cc",
     "showTitle": false,
     "title": ""
    }
   },
   "source": [
    "Score tests for marginal regression models fit using GEE\n",
    "========================================================\n",
    "\n",
    "*Key ideas:* Simulation study, score test, Gaussian GEE"
   ]
  },
  {
   "cell_type": "markdown",
   "metadata": {
    "application/vnd.databricks.v1+cell": {
     "cellMetadata": {},
     "inputWidgets": {},
     "nuid": "feb5d833-5321-466a-b532-ef470e7030d5",
     "showTitle": false,
     "title": ""
    }
   },
   "source": [
    "This notebook uses simulation to check the performance of the GEE score test.  The score test can be used to test null hypotheses that take the form `L*params = R`, where `L` is a `q x p` matrix, and `R` is a `q`-vector.  Score tests are especially useful in GEE analyses since in GEE there is no likelihood ratio test.\n",
    "\n",
    "Here are the import statements:"
   ]
  },
  {
   "cell_type": "code",
   "execution_count": 0,
   "metadata": {
    "application/vnd.databricks.v1+cell": {
     "cellMetadata": {},
     "inputWidgets": {},
     "nuid": "bb7d2155-e396-4e1b-afe8-3043d9cd48c5",
     "showTitle": false,
     "title": ""
    }
   },
   "outputs": [],
   "source": [
    "import numpy as np\n",
    "import pandas as pd\n",
    "import statsmodels.api as sm\n",
    "from scipy.stats.distributions import norm"
   ]
  },
  {
   "cell_type": "markdown",
   "metadata": {
    "application/vnd.databricks.v1+cell": {
     "cellMetadata": {},
     "inputWidgets": {},
     "nuid": "4d7c98e0-08b8-4b9a-9ca4-8df44abb4c11",
     "showTitle": false,
     "title": ""
    }
   },
   "source": [
    "## Testing two linear constraints\n",
    "\n",
    "Score tests can be used to test models that are fit under an arbitrary number of linear constraints on the parameter vector against the unconstrained parent model.  First we evaluate the performance of score testing when the mean structure is constrained using two linear constraints."
   ]
  },
  {
   "cell_type": "markdown",
   "metadata": {
    "application/vnd.databricks.v1+cell": {
     "cellMetadata": {},
     "inputWidgets": {},
     "nuid": "fd109c19-cd51-4018-90d7-4536c94214d7",
     "showTitle": false,
     "title": ""
    }
   },
   "source": [
    "This is the number of replicates in the simulation study.  Increase it to get more precise results (but the simulation will take a longer time to run)."
   ]
  },
  {
   "cell_type": "code",
   "execution_count": 0,
   "metadata": {
    "application/vnd.databricks.v1+cell": {
     "cellMetadata": {},
     "inputWidgets": {},
     "nuid": "8be6b4cf-3c93-49b4-a117-d73836efb9b1",
     "showTitle": false,
     "title": ""
    }
   },
   "outputs": [],
   "source": [
    "nrep = 400"
   ]
  },
  {
   "cell_type": "markdown",
   "metadata": {
    "application/vnd.databricks.v1+cell": {
     "cellMetadata": {},
     "inputWidgets": {},
     "nuid": "05360f3d-3f24-4600-8d29-f65bb59731e8",
     "showTitle": false,
     "title": ""
    }
   },
   "source": [
    "These are the matrices that define the two-dimensional constraint params[1] == params[2] and params[3] == params[4]."
   ]
  },
  {
   "cell_type": "code",
   "execution_count": 0,
   "metadata": {
    "application/vnd.databricks.v1+cell": {
     "cellMetadata": {},
     "inputWidgets": {},
     "nuid": "d0270e98-40d1-468f-9616-1d3f8b2ad9f5",
     "showTitle": false,
     "title": ""
    }
   },
   "outputs": [],
   "source": [
    "L = np.array([[0, 1, -1, 0, 0], [0, 0, 0, 1, -1]])\n",
    "R = np.array([0, 0])"
   ]
  },
  {
   "cell_type": "markdown",
   "metadata": {
    "application/vnd.databricks.v1+cell": {
     "cellMetadata": {},
     "inputWidgets": {},
     "nuid": "5a3d259c-b7a7-4399-b45c-fea39f1fd4b2",
     "showTitle": false,
     "title": ""
    }
   },
   "source": [
    "We will simulate data under the null hypothesis and under the alternative ypothesis.  The p-values for the null hypothesis will be placed in pvalues[0] and the p-values for the alternative hypothesis will be placed in pvalues[1]."
   ]
  },
  {
   "cell_type": "code",
   "execution_count": 0,
   "metadata": {
    "application/vnd.databricks.v1+cell": {
     "cellMetadata": {},
     "inputWidgets": {},
     "nuid": "1d93ff86-3e7d-44a3-b89f-473641c4ecb6",
     "showTitle": false,
     "title": ""
    }
   },
   "outputs": [],
   "source": [
    "pvalues = [[], []]"
   ]
  },
  {
   "cell_type": "markdown",
   "metadata": {
    "application/vnd.databricks.v1+cell": {
     "cellMetadata": {},
     "inputWidgets": {},
     "nuid": "3975272e-f34e-4508-a9dc-7923d0dbd742",
     "showTitle": false,
     "title": ""
    }
   },
   "source": [
    "Here is a function to simulate data suitable for GEE analysis."
   ]
  },
  {
   "cell_type": "code",
   "execution_count": 0,
   "metadata": {
    "application/vnd.databricks.v1+cell": {
     "cellMetadata": {},
     "inputWidgets": {},
     "nuid": "8d235926-ca2f-417f-b25a-91be194f669c",
     "showTitle": false,
     "title": ""
    }
   },
   "outputs": [],
   "source": [
    "def gendat(params):\n",
    "    \n",
    "    exog = np.random.normal(size=(500,5))\n",
    "    groups = np.kron(np.arange(100), [1,1,1,1,1])\n",
    "\n",
    "    endog = np.dot(exog, params) + 2*np.random.normal(size=500)\n",
    "    \n",
    "    # The cluster effects\n",
    "    endog += np.random.normal(size=100)[groups]\n",
    "\n",
    "    return endog, exog, groups"
   ]
  },
  {
   "cell_type": "markdown",
   "metadata": {
    "application/vnd.databricks.v1+cell": {
     "cellMetadata": {},
     "inputWidgets": {},
     "nuid": "e24eb11b-631f-4a65-9c35-ee5cc7453066",
     "showTitle": false,
     "title": ""
    }
   },
   "source": [
    "Here is the main simulation loop that constructs the data sets, fits marginal regression models using GEE, and collects the p-values for the score test."
   ]
  },
  {
   "cell_type": "code",
   "execution_count": 0,
   "metadata": {
    "application/vnd.databricks.v1+cell": {
     "cellMetadata": {},
     "inputWidgets": {},
     "nuid": "12b13bbf-0be2-4f18-bd2f-53cbc0655e3f",
     "showTitle": false,
     "title": ""
    }
   },
   "outputs": [],
   "source": [
    "for j in 0,1:\n",
    "    for iter in range(nrep):\n",
    "\n",
    "        # Null hypothesis, the constraints are satisfied\n",
    "        if j == 0:\n",
    "            params = np.r_[0, 1, 1, -2, -2]\n",
    "            \n",
    "        # Alternative hypothesis, the first constraint is not satisfied\n",
    "        else:\n",
    "            params = np.r_[0, 1, 0.8, -2, -2]\n",
    "\n",
    "        endog, exog, groups = gendat(params)\n",
    "        \n",
    "        ex = sm.cov_struct.Exchangeable()\n",
    "        ga = sm.families.Gaussian()\n",
    "\n",
    "        model = sm.GEE(endog, exog, groups, family=ga, cov_struct=ex,\n",
    "                 constraint=(L,R))\n",
    "        result = model.fit()\n",
    "        pvalues[j].append(model.score_test_results[\"p-value\"])"
   ]
  },
  {
   "cell_type": "markdown",
   "metadata": {
    "application/vnd.databricks.v1+cell": {
     "cellMetadata": {},
     "inputWidgets": {},
     "nuid": "48fce783-ac64-44f6-a9f5-c658163da854",
     "showTitle": false,
     "title": ""
    }
   },
   "source": [
    "These are the results of one run in the simulation study."
   ]
  },
  {
   "cell_type": "code",
   "execution_count": 0,
   "metadata": {
    "application/vnd.databricks.v1+cell": {
     "cellMetadata": {},
     "inputWidgets": {},
     "nuid": "20de7d11-248d-4588-bdf5-1a90d098bd28",
     "showTitle": false,
     "title": ""
    }
   },
   "outputs": [],
   "source": [
    "print result.summary()\n",
    "print model.score_test_results"
   ]
  },
  {
   "cell_type": "markdown",
   "metadata": {
    "application/vnd.databricks.v1+cell": {
     "cellMetadata": {},
     "inputWidgets": {},
     "nuid": "d5f30f12-fa1f-4937-b708-fab45ebbb547",
     "showTitle": false,
     "title": ""
    }
   },
   "source": [
    "Our assessment will be based on the order statistics of the p-values, so we sort the p-values here."
   ]
  },
  {
   "cell_type": "code",
   "execution_count": 0,
   "metadata": {
    "application/vnd.databricks.v1+cell": {
     "cellMetadata": {},
     "inputWidgets": {},
     "nuid": "09d6f00e-f804-4d6c-8fa0-b309e621f7c9",
     "showTitle": false,
     "title": ""
    }
   },
   "outputs": [],
   "source": [
    "pvalues = [np.sort(np.asarray(x)) for x in pvalues]"
   ]
  },
  {
   "cell_type": "markdown",
   "metadata": {
    "application/vnd.databricks.v1+cell": {
     "cellMetadata": {},
     "inputWidgets": {},
     "nuid": "809ac526-668d-49b7-be48-31feb01e3330",
     "showTitle": false,
     "title": ""
    }
   },
   "source": [
    "Next we plot the order statistics.  The p-values for the null model (orange) should follow the grey line (the p-values should be uniform, so the order statistics should follow a linear pattern), and the p-values for the alternative model (purple) should fall well below the grey line (the smaller the p-values, the greater the power)."
   ]
  },
  {
   "cell_type": "code",
   "execution_count": 0,
   "metadata": {
    "application/vnd.databricks.v1+cell": {
     "cellMetadata": {},
     "inputWidgets": {},
     "nuid": "19463e6c-db41-4c2e-8e10-d27427e7faed",
     "showTitle": false,
     "title": ""
    }
   },
   "outputs": [],
   "source": [
    "import matplotlib.pyplot as plt\n",
    "plt.clf()\n",
    "a1, = plt.plot(pvalues[0], lw=5, color='orange')\n",
    "a2, = plt.plot(pvalues[1], lw=5, color='purple')\n",
    "plt.plot([0, len(pvalues[0])], [0, 1], '-', color='grey')\n",
    "leg = plt.figlegend((a1, a2), (\"Null\", \"Alternative\"), \"upper center\",\n",
    "                    numpoints=1, ncol=2)\n",
    "leg.draw_frame(False)\n",
    "plt.xlabel(\"Position\", size=17)\n",
    "plt.ylabel(\"Order statistic\", size=17)"
   ]
  },
  {
   "cell_type": "markdown",
   "metadata": {
    "application/vnd.databricks.v1+cell": {
     "cellMetadata": {},
     "inputWidgets": {},
     "nuid": "20e794e1-4d51-47fc-b48a-1c146824ecee",
     "showTitle": false,
     "title": ""
    }
   },
   "source": [
    "## Comparing score tests for one constraint with Wald tests\n",
    "\n",
    "When the score test is testing only one linear constraint, it is easy to compare the score test to a Wald test."
   ]
  },
  {
   "cell_type": "code",
   "execution_count": 0,
   "metadata": {
    "application/vnd.databricks.v1+cell": {
     "cellMetadata": {},
     "inputWidgets": {},
     "nuid": "cdd67760-21de-4889-a388-af5b94da3ab3",
     "showTitle": false,
     "title": ""
    }
   },
   "outputs": [],
   "source": [
    "# Constraint matrices for score test, testing that params[1] == params[2]\n",
    "L = np.array([[0., 1, -1, 0, 0]])\n",
    "R = np.r_[0.]\n",
    "\n",
    "wald_tests = []\n",
    "score_tests = []\n",
    "\n",
    "nrep = 200\n",
    "for k in range(nrep):\n",
    "    \n",
    "    params = np.r_[0, 1, 1 + np.random.normal(), 0, 2]\n",
    "    endog, exog, groups = gendat(params)\n",
    "    \n",
    "    # Unconstrained model\n",
    "    ex = sm.cov_struct.Exchangeable()\n",
    "    ga = sm.families.Gaussian()\n",
    "    model0 = sm.GEE(endog, exog, groups, family=ga, cov_struct=ex)\n",
    "    result0 = model0.fit()\n",
    "\n",
    "    # Wald test for the null hypothesis params[1] == params[2]\n",
    "    se = np.sqrt(np.dot(L[0,:], np.dot(result0.cov_params(), L[0,:])))\n",
    "    wald_test = np.dot(L[0, :], result0.params) / se\n",
    "    pv = 2*norm.cdf(-np.abs(wald_test))\n",
    "    wald_tests.append(pv)\n",
    "    \n",
    "    # Score test for the hypothesis params[1] == params[2]\n",
    "    ex = sm.cov_struct.Exchangeable()\n",
    "    ga = sm.families.Gaussian()\n",
    "    model = sm.GEE(endog, exog, groups, family=ga, cov_struct=ex,\n",
    "              constraint=(L,R))\n",
    "    result = model.fit()\n",
    "    score_tests.append(model.score_test_results[\"p-value\"])\n"
   ]
  },
  {
   "cell_type": "markdown",
   "metadata": {
    "application/vnd.databricks.v1+cell": {
     "cellMetadata": {},
     "inputWidgets": {},
     "nuid": "858db929-6c32-4245-b6b2-c82df4dff6f6",
     "showTitle": false,
     "title": ""
    }
   },
   "source": [
    "We plot the p-values from the two tests against each other to confirm that they are operating similarly."
   ]
  },
  {
   "cell_type": "code",
   "execution_count": 0,
   "metadata": {
    "application/vnd.databricks.v1+cell": {
     "cellMetadata": {},
     "inputWidgets": {},
     "nuid": "3d30d827-9c90-4da0-b32d-d2f68ad23cd3",
     "showTitle": false,
     "title": ""
    }
   },
   "outputs": [],
   "source": [
    "plt.clf()\n",
    "plt.plot(wald_tests, score_tests, 'o', color='orange', alpha=0.6)\n",
    "plt.grid(True)\n",
    "plt.xlim(0, 1)\n",
    "plt.ylim(0, 1)\n",
    "plt.xlabel(\"Wald test p-value\", size=14)\n",
    "plt.ylabel(\"Score test p-value\", size=14)"
   ]
  }
 ],
 "metadata": {
  "application/vnd.databricks.v1+notebook": {
   "dashboards": [],
   "language": "python",
   "notebookMetadata": {},
   "notebookName": "GEE_score_test_simstudy",
   "widgets": {}
  },
  "name": "",
  "signature": "sha256:3bd08825fe5379ed48dc47a20cec535032d04e4df61519260f4739d4e6d8e734"
 },
 "nbformat": 4,
 "nbformat_minor": 0
}
>>>>>>> Stashed changes
