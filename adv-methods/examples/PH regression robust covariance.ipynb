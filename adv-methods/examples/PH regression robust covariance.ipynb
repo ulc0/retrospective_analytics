{
<<<<<<< Updated upstream
 "metadata": {
  "name": "",
  "signature": "sha256:3690acdd5af686a3f7f52e6d3ac65a530aa2c7312824ffdbe5de92cd8e047a28"
 },
 "nbformat": 3,
 "nbformat_minor": 0,
 "worksheets": [
  {
   "cells": [
    {
     "cell_type": "markdown",
     "metadata": {},
     "source": [
      "Survival analysis with dependent events\n",
      "=======================================\n",
      "\n",
      "*Key ideas:* Proportional hazards, survival analysis, event history analysis, Cox model, sandwich covariance\n",
      "\n",
      "This notebook illustrates how the robust 'sandwich covariance' can be used to analyze survival-type data in which each subject may have several, possibly dependent events."
     ]
    },
    {
     "cell_type": "code",
     "collapsed": false,
     "input": [
      "import numpy as np\n",
      "from statsmodels.duration.hazard_regression import PHReg"
     ],
     "language": "python",
     "metadata": {},
     "outputs": [],
     "prompt_number": 1
    },
    {
     "cell_type": "markdown",
     "metadata": {},
     "source": [
      "## Simulated data\n",
      "\n",
      "First we use simulate data to illustrate how the robust covariance matrix works in some simple settings.  We simulate survival times from an exponential distribution, with the log hazard values determined by a linear function of five covariates.  For this simple illustration, all observations are uncensored."
     ]
    },
    {
     "cell_type": "code",
     "collapsed": false,
     "input": [
      "n = 300 # Sample size\n",
      "p = 5 # Number of covariates\n",
      "\n",
      "exog = np.random.normal(size=(n, p))\n",
      "lin_pred = exog.sum(1)\n",
      "endog = -np.exp(-lin_pred)*np.log(np.random.uniform(size=n))"
     ],
     "language": "python",
     "metadata": {},
     "outputs": [],
     "prompt_number": 2
    },
    {
     "cell_type": "markdown",
     "metadata": {},
     "source": [
      "Here is the basic proportional hazards model for this data set:"
     ]
    },
    {
     "cell_type": "code",
     "collapsed": false,
     "input": [
      "mod = PHReg(endog, exog)\n",
      "rslt = mod.fit()\n",
      "print rslt.summary()"
     ],
     "language": "python",
     "metadata": {},
     "outputs": [
      {
       "output_type": "stream",
       "stream": "stdout",
       "text": [
        "                    Results: PHReg\n",
        "=======================================================\n",
        "Model:                   PH Reg     Sample size:    300\n",
        "Dependent variable:      y          Num. events:    300\n",
        "Ties:                    Breslow                       \n",
        "-------------------------------------------------------\n",
        "   log HR log HR SE   HR      t    P>|t|  [0.025 0.975]\n",
        "-------------------------------------------------------\n",
        "x1 0.9882    0.0769 2.6863 12.8483 0.0000 2.3104 3.1233\n",
        "x2 0.9216    0.0753 2.5134 12.2459 0.0000 2.1687 2.9129\n",
        "x3 0.9691    0.0767 2.6355 12.6301 0.0000 2.2675 3.0631\n",
        "x4 1.0897    0.0816 2.9733 13.3603 0.0000 2.5341 3.4887\n",
        "x5 1.0375    0.0756 2.8220 13.7293 0.0000 2.4336 3.2725\n",
        "=======================================================\n",
        "Confidence intervals are for the hazard ratios\n"
       ]
      }
     ],
     "prompt_number": 3
    },
    {
     "cell_type": "markdown",
     "metadata": {},
     "source": [
      "Next we take the same data set and duplicate each value four times.  In a naive analysis, this will leave the parameter estimates unchanged, but the standard errors will be reduced by a factor of two.  Of course this is incorrect becuase there is in fact no new information in the three repeated values for each subject.  "
     ]
    },
    {
     "cell_type": "code",
     "collapsed": false,
     "input": [
      "exog_rep = np.kron(exog, np.ones((4,1)))\n",
      "endog_rep = np.kron(endog, np.ones(4))\n",
      "groups = np.kron(np.arange(n), np.ones(4))"
     ],
     "language": "python",
     "metadata": {},
     "outputs": [],
     "prompt_number": 4
    },
    {
     "cell_type": "markdown",
     "metadata": {},
     "source": [
      "Here is the proportional hazards regression model fit to the data with replicated records."
     ]
    },
    {
     "cell_type": "code",
     "collapsed": false,
     "input": [
      "mod_rep = PHReg(endog_rep, exog_rep)\n",
      "rslt_rep = mod_rep.fit()\n",
      "print rslt_rep.summary() "
     ],
     "language": "python",
     "metadata": {},
     "outputs": [
      {
       "output_type": "stream",
       "stream": "stdout",
       "text": [
        "                    Results: PHReg\n",
        "=======================================================\n",
        "Model:                  PH Reg     Sample size:    1200\n",
        "Dependent variable:     y          Num. events:    1200\n",
        "Ties:                   Breslow                        \n",
        "-------------------------------------------------------\n",
        "   log HR log HR SE   HR      t    P>|t|  [0.025 0.975]\n",
        "-------------------------------------------------------\n",
        "x1 0.9882    0.0385 2.6863 25.6966 0.0000 2.4912 2.8966\n",
        "x2 0.9216    0.0376 2.5134 24.4918 0.0000 2.3347 2.7058\n",
        "x3 0.9691    0.0384 2.6355 25.2603 0.0000 2.4446 2.8413\n",
        "x4 1.0897    0.0408 2.9733 26.7207 0.0000 2.7449 3.2207\n",
        "x5 1.0375    0.0378 2.8220 27.4587 0.0000 2.6206 3.0390\n",
        "=======================================================\n",
        "Confidence intervals are for the hazard ratios\n"
       ]
      }
     ],
     "prompt_number": 5
    },
    {
     "cell_type": "markdown",
     "metadata": {},
     "source": [
      "Here is the proportional hazards regression fit using the robust covariance matrix to accommodate the (perfect) dependence within groups.  The standard errors roughly match what we obtained with the un-duplicated data."
     ]
    },
    {
     "cell_type": "code",
     "collapsed": false,
     "input": [
      "mod_rep_a = PHReg(endog_rep, exog_rep)\n",
      "rslt_rep_a = mod_rep_a.fit(groups=groups)\n",
      "print rslt_rep_a.summary()"
     ],
     "language": "python",
     "metadata": {},
     "outputs": [
      {
       "output_type": "stream",
       "stream": "stdout",
       "text": [
        "                    Results: PHReg\n",
        "=======================================================\n",
        "Model:                PH Reg    Num. events:       1200\n",
        "Dependent variable:   y         Max. group size:   4   \n",
        "Ties:                 Breslow   Min. group size:   4   \n",
        "Sample size:          1200      Avg. group size:   4.0 \n",
        "-------------------------------------------------------\n",
        "   log HR log HR SE   HR      t    P>|t|  [0.025 0.975]\n",
        "-------------------------------------------------------\n",
        "x1 0.9882    0.0721 2.6863 13.7018 0.0000 2.3322 3.0941\n",
        "x2 0.9216    0.0733 2.5134 12.5675 0.0000 2.1769 2.9019\n",
        "x3 0.9691    0.0717 2.6355 13.5138 0.0000 2.2899 3.0332\n",
        "x4 1.0897    0.0746 2.9733 14.6018 0.0000 2.5687 3.4416\n",
        "x5 1.0375    0.0717 2.8220 14.4717 0.0000 2.4521 3.2478\n",
        "=======================================================\n",
        "Confidence intervals are for the hazard ratios\n",
        "Standard errors account for dependence within groups\n"
       ]
      }
     ],
     "prompt_number": 6
    },
    {
     "cell_type": "markdown",
     "metadata": {},
     "source": [
      "We can also check that using the robust covariance when the events are actually independent does not needlessly inflate the variance."
     ]
    },
    {
     "cell_type": "code",
     "collapsed": false,
     "input": [
      "n = 100 # Sample size\n",
      "p = 5 # Number of covariates\n",
      "\n",
      "exog = np.random.normal(size=(4*n, p))\n",
      "lin_pred = exog.sum(1)\n",
      "endog = -np.exp(-lin_pred)*np.log(np.random.uniform(size=4*n))\n",
      "groups = np.kron(np.arange(n), np.ones(4))\n",
      "\n",
      "for method in \"naive\", \"robust\":\n",
      "    if method == \"robust\":\n",
      "        mod_rep_b = PHReg(endog, exog)\n",
      "        rslt_rep_b = mod_rep_b.fit(groups=groups)\n",
      "    else:\n",
      "        mod_rep_b = PHReg(endog, exog)\n",
      "        rslt_rep_b = mod_rep_b.fit()\n",
      "    print rslt_rep_b.summary()\n",
      "    print \"\\n\""
     ],
     "language": "python",
     "metadata": {},
     "outputs": [
      {
       "output_type": "stream",
       "stream": "stdout",
       "text": [
        "                    Results: PHReg\n",
        "=======================================================\n",
        "Model:                   PH Reg     Sample size:    400\n",
        "Dependent variable:      y          Num. events:    400\n",
        "Ties:                    Breslow                       \n",
        "-------------------------------------------------------\n",
        "   log HR log HR SE   HR      t    P>|t|  [0.025 0.975]\n",
        "-------------------------------------------------------\n",
        "x1 1.1389    0.0690 3.1232 16.5122 0.0000 2.7283 3.5753\n",
        "x2 1.2356    0.0719 3.4404 17.1854 0.0000 2.9882 3.9611\n",
        "x3 1.1830    0.0689 3.2640 17.1787 0.0000 2.8519 3.7357\n",
        "x4 1.1353    0.0681 3.1121 16.6664 0.0000 2.7231 3.5566\n",
        "x5 1.1574    0.0683 3.1815 16.9533 0.0000 2.7831 3.6370\n",
        "=======================================================\n",
        "Confidence intervals are for the hazard ratios\n",
        "\n",
        "\n",
        "                    Results: PHReg\n",
        "=======================================================\n",
        "Model:                 PH Reg    Num. events:       400\n",
        "Dependent variable:    y         Max. group size:   4  \n",
        "Ties:                  Breslow   Min. group size:   4  \n",
        "Sample size:           400       Avg. group size:   4.0\n",
        "-------------------------------------------------------\n",
        "   log HR log HR SE   HR      t    P>|t|  [0.025 0.975]\n",
        "-------------------------------------------------------\n",
        "x1 1.1389    0.0728 3.1232 15.6382 0.0000 2.7078 3.6024\n",
        "x2 1.2356    0.0799 3.4404 15.4692 0.0000 2.9419 4.0235\n",
        "x3 1.1830    0.0708 3.2640 16.7171 0.0000 2.8413 3.7496\n",
        "x4 1.1353    0.0712 3.1121 15.9351 0.0000 2.7065 3.5784\n",
        "x5 1.1574    0.0859 3.1815 13.4707 0.0000 2.6885 3.7650\n",
        "=======================================================\n",
        "Confidence intervals are for the hazard ratios\n",
        "Standard errors account for dependence within groups"
       ]
      },
      {
       "output_type": "stream",
       "stream": "stdout",
       "text": [
        "\n",
        "\n",
        "\n"
       ]
      }
     ],
     "prompt_number": 7
    },
    {
     "cell_type": "markdown",
     "metadata": {},
     "source": [
      "Next we simulate a survival data set in which conesecutive bocks of four observations are dependent, but not perfectly dependent as above.  We include a parameter that allows us to control the degree of dependence."
     ]
    },
    {
     "cell_type": "code",
     "collapsed": false,
     "input": [
      "n = 300 # Sample size\n",
      "p = 5 # Number of covariates\n",
      "\n",
      "exog = np.random.normal(size=(n, p))\n",
      "exog = np.kron(exog, np.ones((4,1)))\n",
      "lin_pred = exog.sum(1)\n",
      "endog = -np.exp(-lin_pred)*np.log(np.random.uniform(size=4*n))\n",
      "groups = np.kron(np.arange(n), np.ones(4))\n",
      "endog_a = endog.reshape((n,4)).mean(1)\n",
      "endog_a = np.kron(endog_a, np.ones(4))\n",
      "\n",
      "# Adjust this parameter to control the amount of within-subject dependence\n",
      "# 0 = perfect dependence, 1 = no dependence\n",
      "a = 0.5\n",
      "\n",
      "endog = a*endog + (1-a)*endog_a"
     ],
     "language": "python",
     "metadata": {},
     "outputs": [],
     "prompt_number": 8
    },
    {
     "cell_type": "code",
     "collapsed": false,
     "input": [
      "for method in \"robust\", \"naive\":\n",
      "    if method == \"robust\":\n",
      "        mod_rep_i = PHReg(endog, exog)\n",
      "        rslt_rep_i = mod_rep_i.fit(groups=groups)\n",
      "    else:    \n",
      "        mod_rep_i = PHReg(endog, exog)\n",
      "        rslt_rep_i = mod_rep_i.fit()\n",
      "    print rslt_rep_i.summary()\n",
      "    print \"\\n\""
     ],
     "language": "python",
     "metadata": {},
     "outputs": [
      {
       "output_type": "stream",
       "stream": "stdout",
       "text": [
        "                    Results: PHReg\n",
        "=======================================================\n",
        "Model:                PH Reg    Num. events:       1200\n",
        "Dependent variable:   y         Max. group size:   4   \n",
        "Ties:                 Breslow   Min. group size:   4   \n",
        "Sample size:          1200      Avg. group size:   4.0 \n",
        "-------------------------------------------------------\n",
        "   log HR log HR SE   HR      t    P>|t|  [0.025 0.975]\n",
        "-------------------------------------------------------\n",
        "x1 1.5805    0.0597 4.8575 26.4676 0.0000 4.3210 5.4607\n",
        "x2 1.6111    0.0604 5.0086 26.6596 0.0000 4.4491 5.6384\n",
        "x3 1.7075    0.0657 5.5149 25.9994 0.0000 4.8488 6.2725\n",
        "x4 1.7531    0.0578 5.7724 30.3293 0.0000 5.1541 6.4648\n",
        "x5 1.6474    0.0575 5.1937 28.6730 0.0000 4.6406 5.8128\n",
        "=======================================================\n",
        "Confidence intervals are for the hazard ratios\n",
        "Standard errors account for dependence within groups\n",
        "\n",
        "\n",
        "                    Results: PHReg\n",
        "=======================================================\n",
        "Model:                  PH Reg     Sample size:    1200\n",
        "Dependent variable:     y          Num. events:    1200\n",
        "Ties:                   Breslow                        \n",
        "-------------------------------------------------------\n",
        "   log HR log HR SE   HR      t    P>|t|  [0.025 0.975]\n",
        "-------------------------------------------------------\n",
        "x1 1.5805    0.0466 4.8575 33.8966 0.0000 4.4333 5.3224\n",
        "x2 1.6111    0.0459 5.0086 35.0739 0.0000 4.5773 5.4804\n",
        "x3 1.7075    0.0459 5.5149 37.2238 0.0000 5.0407 6.0337\n",
        "x4 1.7531    0.0494 5.7724 35.4667 0.0000 5.2394 6.3596\n",
        "x5 1.6474    0.0472 5.1937 34.8959 0.0000 4.7347 5.6972\n",
        "=======================================================\n",
        "Confidence intervals are for the hazard ratios"
       ]
      },
      {
       "output_type": "stream",
       "stream": "stdout",
       "text": [
        "\n",
        "\n",
        "\n"
       ]
      }
     ],
     "prompt_number": 9
    }
   ],
   "metadata": {}
  }
 ]
}
=======
 "cells": [
  {
   "cell_type": "markdown",
   "metadata": {
    "application/vnd.databricks.v1+cell": {
     "cellMetadata": {},
     "inputWidgets": {},
     "nuid": "003ce847-f1e7-427e-a500-da529f7b2d98",
     "showTitle": false,
     "title": ""
    }
   },
   "source": [
    "Survival analysis with dependent events\n",
    "=======================================\n",
    "\n",
    "*Key ideas:* Proportional hazards, survival analysis, event history analysis, Cox model, sandwich covariance\n",
    "\n",
    "This notebook illustrates how the robust 'sandwich covariance' can be used to analyze survival-type data in which each subject may have several, possibly dependent events."
   ]
  },
  {
   "cell_type": "code",
   "execution_count": 0,
   "metadata": {
    "application/vnd.databricks.v1+cell": {
     "cellMetadata": {},
     "inputWidgets": {},
     "nuid": "b0abd264-b187-42b4-9ef3-39f988d024b2",
     "showTitle": false,
     "title": ""
    }
   },
   "outputs": [],
   "source": [
    "import numpy as np\n",
    "from statsmodels.duration.hazard_regression import PHReg"
   ]
  },
  {
   "cell_type": "markdown",
   "metadata": {
    "application/vnd.databricks.v1+cell": {
     "cellMetadata": {},
     "inputWidgets": {},
     "nuid": "679f62ad-f7bc-402b-978c-9a04d883efad",
     "showTitle": false,
     "title": ""
    }
   },
   "source": [
    "## Simulated data\n",
    "\n",
    "First we use simulate data to illustrate how the robust covariance matrix works in some simple settings.  We simulate survival times from an exponential distribution, with the log hazard values determined by a linear function of five covariates.  For this simple illustration, all observations are uncensored."
   ]
  },
  {
   "cell_type": "code",
   "execution_count": 0,
   "metadata": {
    "application/vnd.databricks.v1+cell": {
     "cellMetadata": {},
     "inputWidgets": {},
     "nuid": "4e5aa1c9-3302-4c27-869c-4c67c5c550eb",
     "showTitle": false,
     "title": ""
    }
   },
   "outputs": [],
   "source": [
    "n = 300 # Sample size\n",
    "p = 5 # Number of covariates\n",
    "\n",
    "exog = np.random.normal(size=(n, p))\n",
    "lin_pred = exog.sum(1)\n",
    "endog = -np.exp(-lin_pred)*np.log(np.random.uniform(size=n))"
   ]
  },
  {
   "cell_type": "markdown",
   "metadata": {
    "application/vnd.databricks.v1+cell": {
     "cellMetadata": {},
     "inputWidgets": {},
     "nuid": "2ef086e5-41db-4c93-a0f0-fbf8e689b6ca",
     "showTitle": false,
     "title": ""
    }
   },
   "source": [
    "Here is the basic proportional hazards model for this data set:"
   ]
  },
  {
   "cell_type": "code",
   "execution_count": 0,
   "metadata": {
    "application/vnd.databricks.v1+cell": {
     "cellMetadata": {},
     "inputWidgets": {},
     "nuid": "8d9015db-51d8-455a-8b77-c006cb0aa0ef",
     "showTitle": false,
     "title": ""
    }
   },
   "outputs": [],
   "source": [
    "mod = PHReg(endog, exog)\n",
    "rslt = mod.fit()\n",
    "print rslt.summary()"
   ]
  },
  {
   "cell_type": "markdown",
   "metadata": {
    "application/vnd.databricks.v1+cell": {
     "cellMetadata": {},
     "inputWidgets": {},
     "nuid": "7fe230bb-7012-497e-b4cb-3ca98ceb555b",
     "showTitle": false,
     "title": ""
    }
   },
   "source": [
    "Next we take the same data set and duplicate each value four times.  In a naive analysis, this will leave the parameter estimates unchanged, but the standard errors will be reduced by a factor of two.  Of course this is incorrect becuase there is in fact no new information in the three repeated values for each subject."
   ]
  },
  {
   "cell_type": "code",
   "execution_count": 0,
   "metadata": {
    "application/vnd.databricks.v1+cell": {
     "cellMetadata": {},
     "inputWidgets": {},
     "nuid": "bc44ed65-ca99-41da-90ea-da5e49d350e7",
     "showTitle": false,
     "title": ""
    }
   },
   "outputs": [],
   "source": [
    "exog_rep = np.kron(exog, np.ones((4,1)))\n",
    "endog_rep = np.kron(endog, np.ones(4))\n",
    "groups = np.kron(np.arange(n), np.ones(4))"
   ]
  },
  {
   "cell_type": "markdown",
   "metadata": {
    "application/vnd.databricks.v1+cell": {
     "cellMetadata": {},
     "inputWidgets": {},
     "nuid": "999651a5-9353-48e9-87a9-3961ed2beb8f",
     "showTitle": false,
     "title": ""
    }
   },
   "source": [
    "Here is the proportional hazards regression model fit to the data with replicated records."
   ]
  },
  {
   "cell_type": "code",
   "execution_count": 0,
   "metadata": {
    "application/vnd.databricks.v1+cell": {
     "cellMetadata": {},
     "inputWidgets": {},
     "nuid": "af5704ac-1a15-4768-8ae1-1cb32a852ece",
     "showTitle": false,
     "title": ""
    }
   },
   "outputs": [],
   "source": [
    "mod_rep = PHReg(endog_rep, exog_rep)\n",
    "rslt_rep = mod_rep.fit()\n",
    "print rslt_rep.summary() "
   ]
  },
  {
   "cell_type": "markdown",
   "metadata": {
    "application/vnd.databricks.v1+cell": {
     "cellMetadata": {},
     "inputWidgets": {},
     "nuid": "dfec86de-0c6f-415c-998f-c004f0e65189",
     "showTitle": false,
     "title": ""
    }
   },
   "source": [
    "Here is the proportional hazards regression fit using the robust covariance matrix to accommodate the (perfect) dependence within groups.  The standard errors roughly match what we obtained with the un-duplicated data."
   ]
  },
  {
   "cell_type": "code",
   "execution_count": 0,
   "metadata": {
    "application/vnd.databricks.v1+cell": {
     "cellMetadata": {},
     "inputWidgets": {},
     "nuid": "d26c10c2-15b7-41fc-b064-385d6fd58518",
     "showTitle": false,
     "title": ""
    }
   },
   "outputs": [],
   "source": [
    "mod_rep_a = PHReg(endog_rep, exog_rep)\n",
    "rslt_rep_a = mod_rep_a.fit(groups=groups)\n",
    "print rslt_rep_a.summary()"
   ]
  },
  {
   "cell_type": "markdown",
   "metadata": {
    "application/vnd.databricks.v1+cell": {
     "cellMetadata": {},
     "inputWidgets": {},
     "nuid": "fc35a12e-8ebd-4a7b-bad2-f210aa0faa0a",
     "showTitle": false,
     "title": ""
    }
   },
   "source": [
    "We can also check that using the robust covariance when the events are actually independent does not needlessly inflate the variance."
   ]
  },
  {
   "cell_type": "code",
   "execution_count": 0,
   "metadata": {
    "application/vnd.databricks.v1+cell": {
     "cellMetadata": {},
     "inputWidgets": {},
     "nuid": "c28b355e-eaac-4c65-9696-8a09311b65c3",
     "showTitle": false,
     "title": ""
    }
   },
   "outputs": [],
   "source": [
    "n = 100 # Sample size\n",
    "p = 5 # Number of covariates\n",
    "\n",
    "exog = np.random.normal(size=(4*n, p))\n",
    "lin_pred = exog.sum(1)\n",
    "endog = -np.exp(-lin_pred)*np.log(np.random.uniform(size=4*n))\n",
    "groups = np.kron(np.arange(n), np.ones(4))\n",
    "\n",
    "for method in \"naive\", \"robust\":\n",
    "    if method == \"robust\":\n",
    "        mod_rep_b = PHReg(endog, exog)\n",
    "        rslt_rep_b = mod_rep_b.fit(groups=groups)\n",
    "    else:\n",
    "        mod_rep_b = PHReg(endog, exog)\n",
    "        rslt_rep_b = mod_rep_b.fit()\n",
    "    print rslt_rep_b.summary()\n",
    "    print \"\\n\""
   ]
  },
  {
   "cell_type": "markdown",
   "metadata": {
    "application/vnd.databricks.v1+cell": {
     "cellMetadata": {},
     "inputWidgets": {},
     "nuid": "f3359167-45bc-482d-86d7-27ae1118ab5d",
     "showTitle": false,
     "title": ""
    }
   },
   "source": [
    "Next we simulate a survival data set in which conesecutive bocks of four observations are dependent, but not perfectly dependent as above.  We include a parameter that allows us to control the degree of dependence."
   ]
  },
  {
   "cell_type": "code",
   "execution_count": 0,
   "metadata": {
    "application/vnd.databricks.v1+cell": {
     "cellMetadata": {},
     "inputWidgets": {},
     "nuid": "d34865b8-4bdd-4e24-b2a8-14e126cd64b4",
     "showTitle": false,
     "title": ""
    }
   },
   "outputs": [],
   "source": [
    "n = 300 # Sample size\n",
    "p = 5 # Number of covariates\n",
    "\n",
    "exog = np.random.normal(size=(n, p))\n",
    "exog = np.kron(exog, np.ones((4,1)))\n",
    "lin_pred = exog.sum(1)\n",
    "endog = -np.exp(-lin_pred)*np.log(np.random.uniform(size=4*n))\n",
    "groups = np.kron(np.arange(n), np.ones(4))\n",
    "endog_a = endog.reshape((n,4)).mean(1)\n",
    "endog_a = np.kron(endog_a, np.ones(4))\n",
    "\n",
    "# Adjust this parameter to control the amount of within-subject dependence\n",
    "# 0 = perfect dependence, 1 = no dependence\n",
    "a = 0.5\n",
    "\n",
    "endog = a*endog + (1-a)*endog_a"
   ]
  },
  {
   "cell_type": "code",
   "execution_count": 0,
   "metadata": {
    "application/vnd.databricks.v1+cell": {
     "cellMetadata": {},
     "inputWidgets": {},
     "nuid": "d7abd7b8-cd90-430c-ac49-cc23f964ecb0",
     "showTitle": false,
     "title": ""
    }
   },
   "outputs": [],
   "source": [
    "for method in \"robust\", \"naive\":\n",
    "    if method == \"robust\":\n",
    "        mod_rep_i = PHReg(endog, exog)\n",
    "        rslt_rep_i = mod_rep_i.fit(groups=groups)\n",
    "    else:    \n",
    "        mod_rep_i = PHReg(endog, exog)\n",
    "        rslt_rep_i = mod_rep_i.fit()\n",
    "    print rslt_rep_i.summary()\n",
    "    print \"\\n\""
   ]
  }
 ],
 "metadata": {
  "application/vnd.databricks.v1+notebook": {
   "dashboards": [],
   "language": "python",
   "notebookMetadata": {},
   "notebookName": "PH regression robust covariance",
   "widgets": {}
  },
  "name": "",
  "signature": "sha256:3690acdd5af686a3f7f52e6d3ac65a530aa2c7312824ffdbe5de92cd8e047a28"
 },
 "nbformat": 4,
 "nbformat_minor": 0
}
>>>>>>> Stashed changes
