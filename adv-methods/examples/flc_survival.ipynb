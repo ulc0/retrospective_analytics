{
<<<<<<< Updated upstream
 "metadata": {
  "name": "",
  "signature": "sha256:6f38f2c50d3353d2df07786d6938b60c98ef3f920b8e1c8afcde3dc23da57810"
 },
 "nbformat": 3,
 "nbformat_minor": 0,
 "worksheets": [
  {
   "cells": [
    {
     "cell_type": "markdown",
     "metadata": {},
     "source": [
      "Proportional hazards regression\n",
      "===============================\n",
      "\n",
      "*Key ideas*: survival analysis, proportional hazards regression, Cox model, R, Stata\n",
      "\n",
      "In this notebook we fit a basic proportional hazards regression model in Statsmodels, R, and Stata, and compare the results."
     ]
    },
    {
     "cell_type": "code",
     "collapsed": false,
     "input": [
      "import numpy as np\n",
      "import pandas as pd\n",
      "from statsmodels.duration.hazard_regression import PHReg"
     ],
     "language": "python",
     "metadata": {},
     "outputs": [],
     "prompt_number": 1
    },
    {
     "cell_type": "markdown",
     "metadata": {},
     "source": [
      "The data are from a fairly large study looking at the relationship between a few biochemical variables and survival (mortality)."
     ]
    },
    {
     "cell_type": "code",
     "collapsed": false,
     "input": [
      "url = \"http://vincentarelbundock.github.io/Rdatasets/csv/survival/flchain.csv\"\n",
      "data = pd.read_csv(url)\n",
      "del data[\"chapter\"]\n",
      "data = data.dropna()\n",
      "data[\"lam\"] = data[\"lambda\"]\n",
      "data[\"female\"] = 1*(data[\"sex\"] == \"F\")\n",
      "data[\"year\"] = data[\"sample.yr\"] - min(data[\"sample.yr\"])\n",
      "print data.head()"
     ],
     "language": "python",
     "metadata": {},
     "outputs": [
      {
       "output_type": "stream",
       "stream": "stdout",
       "text": [
        "   Unnamed: 0  age sex  sample.yr  kappa  lambda  flc.grp  creatinine  mgus  \\\n",
        "0           1   97   F       1997   5.70   4.860       10         1.7     0   \n",
        "1           2   92   F       2000   0.87   0.683        1         0.9     0   \n",
        "2           3   94   F       1997   4.36   3.850       10         1.4     0   \n",
        "3           4   92   F       1996   2.42   2.220        9         1.0     0   \n",
        "4           5   93   F       1996   1.32   1.690        6         1.1     0   \n",
        "\n",
        "   futime  death    lam  female  year  \n",
        "0      85      1  4.860       1     2  \n",
        "1    1281      1  0.683       1     5  \n",
        "2      69      1  3.850       1     2  \n",
        "3     115      1  2.220       1     1  \n",
        "4    1039      1  1.690       1     1  \n",
        "\n",
        "[5 rows x 14 columns]\n"
       ]
      }
     ],
     "prompt_number": 2
    },
    {
     "cell_type": "markdown",
     "metadata": {},
     "source": [
      "## Statsmodels"
     ]
    },
    {
     "cell_type": "code",
     "collapsed": false,
     "input": [
      "status = np.asarray(data[\"death\"])\n",
      "mod = PHReg.from_formula(\"futime ~ 0 + age + female + creatinine + \" +\n",
      "                         \"np.sqrt(kappa) + np.sqrt(lam) + year + mgus\", \n",
      "                         data, status=status, ties=\"efron\")\n",
      "rslt = mod.fit()\n",
      "print rslt.summary()"
     ],
     "language": "python",
     "metadata": {},
     "outputs": [
      {
       "output_type": "stream",
       "stream": "stdout",
       "text": [
        "                           Results: PHReg\n",
        "====================================================================\n",
        "Model:                      PH Reg         Sample size:         6524\n",
        "Dependent variable:         futime         Num. events:         1962\n",
        "Ties:                       Efron                                   \n",
        "--------------------------------------------------------------------\n",
        "                log HR log HR SE   HR      t    P>|t|  [0.025 0.975]\n",
        "--------------------------------------------------------------------\n",
        "age             0.1012    0.0025 1.1065 40.9289 0.0000 1.1012 1.1119\n",
        "female         -0.2817    0.0474 0.7545 -5.9368 0.0000 0.6875 0.8280\n",
        "creatinine      0.0134    0.0411 1.0135  0.3271 0.7436 0.9351 1.0985\n",
        "np.sqrt(kappa)  0.4047    0.1147 1.4988  3.5288 0.0004 1.1971 1.8766\n",
        "np.sqrt(lam)    0.7046    0.1117 2.0230  6.3056 0.0000 1.6251 2.5183\n",
        "year            0.0477    0.0192 1.0489  2.4902 0.0128 1.0102 1.0890\n",
        "mgus            0.3160    0.2532 1.3717  1.2479 0.2121 0.8350 2.2532\n",
        "====================================================================\n",
        "Confidence intervals are for the hazard ratios\n"
       ]
      }
     ],
     "prompt_number": 5
    },
    {
     "cell_type": "markdown",
     "metadata": {},
     "source": [
      "## R\n",
      "\n",
      "Here is an R program that fits the same survival model:\n",
      "\n",
      "```\n",
      "library(survival)\n",
      "\n",
      "data = read.csv(\"http://vincentarelbundock.github.io/Rdatasets/csv/survival/flchain.csv\")\n",
      "\n",
      "ii = is.finite(data$creatinine)\n",
      "data = data[ii,]\n",
      "data$female = 1*(data$sex == \"F\")\n",
      "data$year = data$sample.yr - min(data$sample.yr)\n",
      "\n",
      "surv = Surv(data$futime, data$death)\n",
      "md = coxph(surv ~ age + female + creatinine + sqrt(kappa) + sqrt(lambda) + \n",
      "           year + mgus, data)\n",
      "print(summary(md))\n",
      "```"
     ]
    },
    {
     "cell_type": "markdown",
     "metadata": {},
     "source": [
      "Here is the result of running this program in R:\n",
      "\n",
      "```\n",
      "Call:\n",
      "coxph(formula = surv ~ age + female + creatinine + sqrt(kappa) + \n",
      "    sqrt(lambda) + year + mgus, data = data)\n",
      "\n",
      "  n= 6524, number of events= 1962 \n",
      "\n",
      "                  coef exp(coef)  se(coef)      z Pr(>|z|)    \n",
      "age           0.101202  1.106501  0.002473 40.929  < 2e-16 ***\n",
      "female       -0.281688  0.754509  0.047448 -5.937 2.91e-09 ***\n",
      "creatinine    0.013435  1.013525  0.041068  0.327 0.743568    \n",
      "sqrt(kappa)   0.404687  1.498834  0.114681  3.529 0.000417 ***\n",
      "sqrt(lambda)  0.704566  2.022969  0.111736  6.306 2.87e-10 ***\n",
      "year          0.047728  1.048885  0.019166  2.490 0.012767 *  \n",
      "mgus          0.316021  1.371659  0.253242  1.248 0.212068    \n",
      "---\n",
      "Signif. codes:  0 \u2018***\u2019 0.001 \u2018**\u2019 0.01 \u2018*\u2019 0.05 \u2018.\u2019 0.1 \u2018 \u2019 1\n",
      "\n",
      "             exp(coef) exp(-coef) lower .95 upper .95\n",
      "age             1.1065     0.9038    1.1012     1.112\n",
      "female          0.7545     1.3254    0.6875     0.828\n",
      "creatinine      1.0135     0.9867    0.9351     1.098\n",
      "sqrt(kappa)     1.4988     0.6672    1.1971     1.877\n",
      "sqrt(lambda)    2.0230     0.4943    1.6251     2.518\n",
      "year            1.0489     0.9534    1.0102     1.089\n",
      "mgus            1.3717     0.7290    0.8350     2.253\n",
      "\n",
      "Concordance= 0.793  (se = 0.007 )\n",
      "Rsquare= 0.321   (max possible= 0.994 )\n",
      "Likelihood ratio test= 2529  on 7 df,   p=0\n",
      "Wald test            = 2464  on 7 df,   p=0\n",
      "Score (logrank) test = 2928  on 7 df,   p=0\n",
      "```"
     ]
    },
    {
     "cell_type": "markdown",
     "metadata": {},
     "source": [
      "## Stata"
     ]
    },
    {
     "cell_type": "markdown",
     "metadata": {},
     "source": [
      "Below is a Stata program to fit the same Cox model as was fit above using Statsmodels and R.  Note that Stata and R handle failure times that are zero (and more generally, failure times that equal entry times) differently.  Stata drops these cases (of which there are three in this data set).  The workaround is to shift the failure time to the right slightly, see:\n",
      "\n",
      "http://www.stata.com/support/faqs/statistics/time-and-cox-model/\n",
      "\n",
      "\n",
      "```\n",
      "clear\n",
      "\n",
      "copy http://vincentarelbundock.github.io/Rdatasets/csv/survival/flchain.csv flchain.csv, replace\n",
      "\n",
      "import delimited flchain\n",
      "\n",
      "generate female = 1\n",
      "replace female = 0 if sex == \"M\"\n",
      "\n",
      "replace futime = 0.001 if futime == 0\n",
      "\n",
      "generate sqrt_kappa = sqrt(kappa)\n",
      "generate sqrt_lambda = sqrt(lambda)\n",
      "generate year = sampleyr - 1995\n",
      "generate creatinine1 = real(creatinine)\n",
      "\n",
      "drop chapter\n",
      "\n",
      "stset futime, failure(death)\n",
      "\n",
      "stcox age female creatinine1 sqrt_kappa sqrt_lambda year mgus, nohr efron\n",
      "```"
     ]
    },
    {
     "cell_type": "markdown",
     "metadata": {},
     "source": [
      "Here are the Stata results:\n",
      "\n",
      "```\n",
      ". stset futime, failure(death)\n",
      "\n",
      "     failure event:  death != 0 & death < .\n",
      "obs. time interval:  (0, futime]\n",
      " exit on or before:  failure\n",
      "\n",
      "------------------------------------------------------------------------------\n",
      "     7874  total observations\n",
      "        0  exclusions\n",
      "------------------------------------------------------------------------------\n",
      "     7874  observations remaining, representing\n",
      "     2169  failures in single-record/single-failure data\n",
      " 2.88e+07  total analysis time at risk and under observation\n",
      "                                              at risk from t =         0\n",
      "                                   earliest observed entry t =         0\n",
      "                                        last observed exit t =      5215\n",
      "\n",
      ". \n",
      ". stcox age female creatinine1 sqrt_kappa sqrt_lambda year mgus, nohr efron\n",
      "\n",
      "         failure _d:  death\n",
      "   analysis time _t:  futime\n",
      "\n",
      "Iteration 0:   log likelihood = -16702.426\n",
      "Iteration 1:   log likelihood = -15684.424\n",
      "Iteration 2:   log likelihood = -15441.111\n",
      "Iteration 3:   log likelihood =   -15437.9\n",
      "Iteration 4:   log likelihood = -15437.782\n",
      "Iteration 5:   log likelihood = -15437.782\n",
      "Iteration 6:   log likelihood = -15437.782\n",
      "Refining estimates:\n",
      "Iteration 0:   log likelihood = -15437.782\n",
      "\n",
      "Cox regression -- Efron method for ties\n",
      "\n",
      "No. of subjects =         6524                     Number of obs   =      6524\n",
      "No. of failures =         1962\n",
      "Time at risk    =     23796304\n",
      "                                                   LR chi2(7)      =   2529.29\n",
      "Log likelihood  =   -15437.782                     Prob > chi2     =    0.0000\n",
      "\n",
      "------------------------------------------------------------------------------\n",
      "          _t |      Coef.   Std. Err.      z    P>|z|     [95% Conf. Interval]\n",
      "-------------+----------------------------------------------------------------\n",
      "         age |   .1012024   .0024726    40.93   0.000     .0963561    .1060486\n",
      "      female |  -.2816877   .0474475    -5.94   0.000    -.3746832   -.1886923\n",
      " creatinine1 |   .0134347   .0410684     0.33   0.744    -.0670578    .0939273\n",
      "  sqrt_kappa |   .4046874   .1146813     3.53   0.000     .1799163    .6294586\n",
      " sqrt_lambda |   .7045662   .1117365     6.31   0.000     .4855667    .9235656\n",
      "        year |   .0477281   .0191664     2.49   0.013     .0101627    .0852934\n",
      "        mgus |   .3160207   .2532423     1.25   0.212    -.1803252    .8123666\n",
      "------------------------------------------------------------------------------\n",
      "```"
     ]
    }
   ],
   "metadata": {}
  }
 ]
}
=======
 "cells": [
  {
   "cell_type": "markdown",
   "metadata": {
    "application/vnd.databricks.v1+cell": {
     "cellMetadata": {},
     "inputWidgets": {},
     "nuid": "b6b1e01b-c93d-460d-9837-16c171e0ab70",
     "showTitle": false,
     "title": ""
    }
   },
   "source": [
    "Proportional hazards regression\n",
    "===============================\n",
    "\n",
    "*Key ideas*: survival analysis, proportional hazards regression, Cox model, R, Stata\n",
    "\n",
    "In this notebook we fit a basic proportional hazards regression model in Statsmodels, R, and Stata, and compare the results."
   ]
  },
  {
   "cell_type": "code",
   "execution_count": 0,
   "metadata": {
    "application/vnd.databricks.v1+cell": {
     "cellMetadata": {},
     "inputWidgets": {},
     "nuid": "328dd603-120e-454f-a977-b304952c2243",
     "showTitle": false,
     "title": ""
    }
   },
   "outputs": [],
   "source": [
    "import numpy as np\n",
    "import pandas as pd\n",
    "from statsmodels.duration.hazard_regression import PHReg"
   ]
  },
  {
   "cell_type": "markdown",
   "metadata": {
    "application/vnd.databricks.v1+cell": {
     "cellMetadata": {},
     "inputWidgets": {},
     "nuid": "d1de24f4-bd9c-443d-bbbb-7fc6314f20ce",
     "showTitle": false,
     "title": ""
    }
   },
   "source": [
    "The data are from a fairly large study looking at the relationship between a few biochemical variables and survival (mortality)."
   ]
  },
  {
   "cell_type": "code",
   "execution_count": 0,
   "metadata": {
    "application/vnd.databricks.v1+cell": {
     "cellMetadata": {},
     "inputWidgets": {},
     "nuid": "a25ba34d-0236-4c8a-a39e-d8f437c60837",
     "showTitle": false,
     "title": ""
    }
   },
   "outputs": [],
   "source": [
    "url = \"http://vincentarelbundock.github.io/Rdatasets/csv/survival/flchain.csv\"\n",
    "data = pd.read_csv(url)\n",
    "del data[\"chapter\"]\n",
    "data = data.dropna()\n",
    "data[\"lam\"] = data[\"lambda\"]\n",
    "data[\"female\"] = 1*(data[\"sex\"] == \"F\")\n",
    "data[\"year\"] = data[\"sample.yr\"] - min(data[\"sample.yr\"])\n",
    "print data.head()"
   ]
  },
  {
   "cell_type": "markdown",
   "metadata": {
    "application/vnd.databricks.v1+cell": {
     "cellMetadata": {},
     "inputWidgets": {},
     "nuid": "1c54ef33-69a4-4532-bb25-25289f8c6f15",
     "showTitle": false,
     "title": ""
    }
   },
   "source": [
    "## Statsmodels"
   ]
  },
  {
   "cell_type": "code",
   "execution_count": 0,
   "metadata": {
    "application/vnd.databricks.v1+cell": {
     "cellMetadata": {},
     "inputWidgets": {},
     "nuid": "a2ce745a-a304-4c8b-bb65-3a2a11fe8f9b",
     "showTitle": false,
     "title": ""
    }
   },
   "outputs": [],
   "source": [
    "status = np.asarray(data[\"death\"])\n",
    "mod = PHReg.from_formula(\"futime ~ 0 + age + female + creatinine + \" +\n",
    "                         \"np.sqrt(kappa) + np.sqrt(lam) + year + mgus\", \n",
    "                         data, status=status, ties=\"efron\")\n",
    "rslt = mod.fit()\n",
    "print rslt.summary()"
   ]
  },
  {
   "cell_type": "markdown",
   "metadata": {
    "application/vnd.databricks.v1+cell": {
     "cellMetadata": {},
     "inputWidgets": {},
     "nuid": "2e4b4607-49e4-49d3-930a-6d0058a1796f",
     "showTitle": false,
     "title": ""
    }
   },
   "source": [
    "## R\n",
    "\n",
    "Here is an R program that fits the same survival model:\n",
    "\n",
    "```\n",
    "library(survival)\n",
    "\n",
    "data = read.csv(\"http://vincentarelbundock.github.io/Rdatasets/csv/survival/flchain.csv\")\n",
    "\n",
    "ii = is.finite(data$creatinine)\n",
    "data = data[ii,]\n",
    "data$female = 1*(data$sex == \"F\")\n",
    "data$year = data$sample.yr - min(data$sample.yr)\n",
    "\n",
    "surv = Surv(data$futime, data$death)\n",
    "md = coxph(surv ~ age + female + creatinine + sqrt(kappa) + sqrt(lambda) + \n",
    "           year + mgus, data)\n",
    "print(summary(md))\n",
    "```"
   ]
  },
  {
   "cell_type": "markdown",
   "metadata": {
    "application/vnd.databricks.v1+cell": {
     "cellMetadata": {},
     "inputWidgets": {},
     "nuid": "8cbf517f-df76-4a45-9e44-917fcf044395",
     "showTitle": false,
     "title": ""
    }
   },
   "source": [
    "Here is the result of running this program in R:\n",
    "\n",
    "```\n",
    "Call:\n",
    "coxph(formula = surv ~ age + female + creatinine + sqrt(kappa) + \n",
    "    sqrt(lambda) + year + mgus, data = data)\n",
    "\n",
    "  n= 6524, number of events= 1962 \n",
    "\n",
    "                  coef exp(coef)  se(coef)      z Pr(>|z|)    \n",
    "age           0.101202  1.106501  0.002473 40.929  < 2e-16 ***\n",
    "female       -0.281688  0.754509  0.047448 -5.937 2.91e-09 ***\n",
    "creatinine    0.013435  1.013525  0.041068  0.327 0.743568    \n",
    "sqrt(kappa)   0.404687  1.498834  0.114681  3.529 0.000417 ***\n",
    "sqrt(lambda)  0.704566  2.022969  0.111736  6.306 2.87e-10 ***\n",
    "year          0.047728  1.048885  0.019166  2.490 0.012767 *  \n",
    "mgus          0.316021  1.371659  0.253242  1.248 0.212068    \n",
    "---\n",
    "Signif. codes:  0 ‘***’ 0.001 ‘**’ 0.01 ‘*’ 0.05 ‘.’ 0.1 ‘ ’ 1\n",
    "\n",
    "             exp(coef) exp(-coef) lower .95 upper .95\n",
    "age             1.1065     0.9038    1.1012     1.112\n",
    "female          0.7545     1.3254    0.6875     0.828\n",
    "creatinine      1.0135     0.9867    0.9351     1.098\n",
    "sqrt(kappa)     1.4988     0.6672    1.1971     1.877\n",
    "sqrt(lambda)    2.0230     0.4943    1.6251     2.518\n",
    "year            1.0489     0.9534    1.0102     1.089\n",
    "mgus            1.3717     0.7290    0.8350     2.253\n",
    "\n",
    "Concordance= 0.793  (se = 0.007 )\n",
    "Rsquare= 0.321   (max possible= 0.994 )\n",
    "Likelihood ratio test= 2529  on 7 df,   p=0\n",
    "Wald test            = 2464  on 7 df,   p=0\n",
    "Score (logrank) test = 2928  on 7 df,   p=0\n",
    "```"
   ]
  },
  {
   "cell_type": "markdown",
   "metadata": {
    "application/vnd.databricks.v1+cell": {
     "cellMetadata": {},
     "inputWidgets": {},
     "nuid": "fea5138c-b5aa-4ec1-b4ce-ac30f514d0e3",
     "showTitle": false,
     "title": ""
    }
   },
   "source": [
    "## Stata"
   ]
  },
  {
   "cell_type": "markdown",
   "metadata": {
    "application/vnd.databricks.v1+cell": {
     "cellMetadata": {},
     "inputWidgets": {},
     "nuid": "f1f78fbb-6e95-4e6a-b6c4-be415c608762",
     "showTitle": false,
     "title": ""
    }
   },
   "source": [
    "Below is a Stata program to fit the same Cox model as was fit above using Statsmodels and R.  Note that Stata and R handle failure times that are zero (and more generally, failure times that equal entry times) differently.  Stata drops these cases (of which there are three in this data set).  The workaround is to shift the failure time to the right slightly, see:\n",
    "\n",
    "http://www.stata.com/support/faqs/statistics/time-and-cox-model/\n",
    "\n",
    "\n",
    "```\n",
    "clear\n",
    "\n",
    "copy http://vincentarelbundock.github.io/Rdatasets/csv/survival/flchain.csv flchain.csv, replace\n",
    "\n",
    "import delimited flchain\n",
    "\n",
    "generate female = 1\n",
    "replace female = 0 if sex == \"M\"\n",
    "\n",
    "replace futime = 0.001 if futime == 0\n",
    "\n",
    "generate sqrt_kappa = sqrt(kappa)\n",
    "generate sqrt_lambda = sqrt(lambda)\n",
    "generate year = sampleyr - 1995\n",
    "generate creatinine1 = real(creatinine)\n",
    "\n",
    "drop chapter\n",
    "\n",
    "stset futime, failure(death)\n",
    "\n",
    "stcox age female creatinine1 sqrt_kappa sqrt_lambda year mgus, nohr efron\n",
    "```"
   ]
  },
  {
   "cell_type": "markdown",
   "metadata": {
    "application/vnd.databricks.v1+cell": {
     "cellMetadata": {},
     "inputWidgets": {},
     "nuid": "b0e84e61-f7d1-4584-88b6-ad00c2c1e37c",
     "showTitle": false,
     "title": ""
    }
   },
   "source": [
    "Here are the Stata results:\n",
    "\n",
    "```\n",
    ". stset futime, failure(death)\n",
    "\n",
    "     failure event:  death != 0 & death < .\n",
    "obs. time interval:  (0, futime]\n",
    " exit on or before:  failure\n",
    "\n",
    "------------------------------------------------------------------------------\n",
    "     7874  total observations\n",
    "        0  exclusions\n",
    "------------------------------------------------------------------------------\n",
    "     7874  observations remaining, representing\n",
    "     2169  failures in single-record/single-failure data\n",
    " 2.88e+07  total analysis time at risk and under observation\n",
    "                                              at risk from t =         0\n",
    "                                   earliest observed entry t =         0\n",
    "                                        last observed exit t =      5215\n",
    "\n",
    ". \n",
    ". stcox age female creatinine1 sqrt_kappa sqrt_lambda year mgus, nohr efron\n",
    "\n",
    "         failure _d:  death\n",
    "   analysis time _t:  futime\n",
    "\n",
    "Iteration 0:   log likelihood = -16702.426\n",
    "Iteration 1:   log likelihood = -15684.424\n",
    "Iteration 2:   log likelihood = -15441.111\n",
    "Iteration 3:   log likelihood =   -15437.9\n",
    "Iteration 4:   log likelihood = -15437.782\n",
    "Iteration 5:   log likelihood = -15437.782\n",
    "Iteration 6:   log likelihood = -15437.782\n",
    "Refining estimates:\n",
    "Iteration 0:   log likelihood = -15437.782\n",
    "\n",
    "Cox regression -- Efron method for ties\n",
    "\n",
    "No. of subjects =         6524                     Number of obs   =      6524\n",
    "No. of failures =         1962\n",
    "Time at risk    =     23796304\n",
    "                                                   LR chi2(7)      =   2529.29\n",
    "Log likelihood  =   -15437.782                     Prob > chi2     =    0.0000\n",
    "\n",
    "------------------------------------------------------------------------------\n",
    "          _t |      Coef.   Std. Err.      z    P>|z|     [95% Conf. Interval]\n",
    "-------------+----------------------------------------------------------------\n",
    "         age |   .1012024   .0024726    40.93   0.000     .0963561    .1060486\n",
    "      female |  -.2816877   .0474475    -5.94   0.000    -.3746832   -.1886923\n",
    " creatinine1 |   .0134347   .0410684     0.33   0.744    -.0670578    .0939273\n",
    "  sqrt_kappa |   .4046874   .1146813     3.53   0.000     .1799163    .6294586\n",
    " sqrt_lambda |   .7045662   .1117365     6.31   0.000     .4855667    .9235656\n",
    "        year |   .0477281   .0191664     2.49   0.013     .0101627    .0852934\n",
    "        mgus |   .3160207   .2532423     1.25   0.212    -.1803252    .8123666\n",
    "------------------------------------------------------------------------------\n",
    "```"
   ]
  }
 ],
 "metadata": {
  "application/vnd.databricks.v1+notebook": {
   "dashboards": [],
   "language": "python",
   "notebookMetadata": {},
   "notebookName": "flc_survival",
   "widgets": {}
  },
  "name": "",
  "signature": "sha256:6f38f2c50d3353d2df07786d6938b60c98ef3f920b8e1c8afcde3dc23da57810"
 },
 "nbformat": 4,
 "nbformat_minor": 0
}
>>>>>>> Stashed changes
