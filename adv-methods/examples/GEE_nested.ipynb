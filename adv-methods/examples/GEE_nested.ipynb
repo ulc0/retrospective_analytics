{
<<<<<<< Updated upstream
 "metadata": {
  "name": "",
  "signature": "sha256:37b8445f9d11cf83de0aa41348cc7b1a3e1b68887e42941eef955d2c2eef4de9"
 },
 "nbformat": 3,
 "nbformat_minor": 0,
 "worksheets": [
  {
   "cells": [
    {
     "cell_type": "markdown",
     "metadata": {},
     "source": [
      "Generalized Estimating Equations\n",
      "================================\n",
      "\n",
      "*Key ideas:* Nested dependence structures"
     ]
    },
    {
     "cell_type": "markdown",
     "metadata": {},
     "source": [
      "This notebook demonstrates how regression models for nested data can be estimated using GEE.\n",
      "\n",
      "The data are from a study of GCSE (General Certificate of Seconday Education) exam scores in the UK.  We know the school in which each student is enrolled.  In addition, the schools are clustered into \"local educational areas\" (LEA).  Thus we have two nested levels of clustering (schools within LEA's).  The top level (LEA) can be handled by treating it as the GEE `group`.  The inner level (school) can be handled using a nested dependence structure.\n",
      "\n",
      "All of the models here use a linear link and a Gaussian model for the data.\n",
      "\n",
      "The data are available from:\n",
      "http://www.bristol.ac.uk/cmm/learning/support/datasets/\n",
      "\n",
      "Here are all the libraries that we will need:"
     ]
    },
    {
     "cell_type": "code",
     "collapsed": false,
     "input": [
      "import numpy as np\n",
      "import pandas as pd\n",
      "import statsmodels.api as sm"
     ],
     "language": "python",
     "metadata": {},
     "outputs": [],
     "prompt_number": 1
    },
    {
     "cell_type": "markdown",
     "metadata": {},
     "source": [
      "The data file has no column labels, so we attach them manually."
     ]
    },
    {
     "cell_type": "code",
     "collapsed": false,
     "input": [
      "data = pd.read_csv(\"a-level-chemistry.txt\", header=None, sep=' ')\n",
      "data.columns = [\"Board\", \"A-Score\", \"Gtot\", \"Gnum\",\n",
      "                \"Gender\", \"Age\", \"Inst_Type\", \"LEA\",\n",
      "                \"Institute\", \"Student\"]"
     ],
     "language": "python",
     "metadata": {},
     "outputs": [],
     "prompt_number": 2
    },
    {
     "cell_type": "markdown",
     "metadata": {},
     "source": [
      "The GCSE has several components, and not all students take all of the components.  The variable 'Gtot' in the data set is the sum of exam scores over all the components taken by a given student.  We divide the score sum by the number of components taken, in order to obtain a mean score that is not inflated just because a student takes more exams."
     ]
    },
    {
     "cell_type": "code",
     "collapsed": false,
     "input": [
      "data[\"GCSE\"] = data[\"Gtot\"] / data[\"Gnum\"]"
     ],
     "language": "python",
     "metadata": {},
     "outputs": [],
     "prompt_number": 3
    },
    {
     "cell_type": "markdown",
     "metadata": {},
     "source": [
      "Our primary focus here is on the nested dependence structure.  For comparison, we will also consider a single-level dependence\n",
      "structure determined only by the school.  Since the school codes are recycled across the LEA's, we need to create a new variable that combines the two codes."
     ]
    },
    {
     "cell_type": "code",
     "collapsed": false,
     "input": [
      "data[\"School\"] = [str(x) + str(y) for x,y in\n",
      "                  zip(data[\"LEA\"], data[\"Institute\"])]\n",
      "us = set(data[\"School\"])\n",
      "us = {x: k for k,x in enumerate(list(us))}\n",
      "data[\"School\"] = [us[x] for x in data[\"School\"]]"
     ],
     "language": "python",
     "metadata": {},
     "outputs": [],
     "prompt_number": 4
    },
    {
     "cell_type": "markdown",
     "metadata": {},
     "source": [
      "These are all the variables in the analysis."
     ]
    },
    {
     "cell_type": "code",
     "collapsed": false,
     "input": [
      "qdata = data[[\"GCSE\", \"Gender\", \"Age\", \"LEA\", \"Institute\", \"School\"]]\n",
      "qdata = np.asarray(qdata)"
     ],
     "language": "python",
     "metadata": {},
     "outputs": [],
     "prompt_number": 5
    },
    {
     "cell_type": "code",
     "collapsed": false,
     "input": [
      "family = sm.families.Gaussian()"
     ],
     "language": "python",
     "metadata": {},
     "outputs": [],
     "prompt_number": 6
    },
    {
     "cell_type": "markdown",
     "metadata": {},
     "source": [
      "The initial model considers only the school effect, and does not account for the fact that the schools are nested in LEA's."
     ]
    },
    {
     "cell_type": "code",
     "collapsed": false,
     "input": [
      "ex = sm.cov_struct.Exchangeable()\n",
      "model1 = sm.GEE.from_formula(\"GCSE ~ Age + Gender\", \"LEA\",\n",
      "                       data=data, family=family, cov_struct=ex)\n",
      "result1 = model1.fit()\n",
      "print result1.summary()"
     ],
     "language": "python",
     "metadata": {},
     "outputs": [
      {
       "output_type": "stream",
       "stream": "stdout",
       "text": [
        "                               GEE Regression Results                              \n",
        "===================================================================================\n",
        "Dep. Variable:                        GCSE   No. Observations:                31022\n",
        "Model:                                 GEE   No. clusters:                      131\n",
        "Method:                        Generalized   Min. cluster size:                  10\n",
        "                      Estimating Equations   Max. cluster size:                 969\n",
        "Family:                           Gaussian   Mean cluster size:               236.8\n",
        "Dependence structure:         Exchangeable   Num. iterations:                    10\n",
        "Date:                     Sun, 19 Oct 2014   Scale:                           0.738\n",
        "Covariance type:                    robust   Time:                         00:24:19\n",
        "==============================================================================\n",
        "                 coef    std err          z      P>|z|      [95.0% Conf. Int.]\n",
        "------------------------------------------------------------------------------\n",
        "Intercept      6.0896      0.022    271.745      0.000         6.046     6.134\n",
        "Age            0.0134      0.001      9.927      0.000         0.011     0.016\n",
        "Gender         0.3258      0.013     25.641      0.000         0.301     0.351\n",
        "==============================================================================\n",
        "Skew:                         -0.5403   Kurtosis:                       0.4449\n",
        "Centered skew:                -0.5121   Centered kurtosis:              0.4452\n",
        "==============================================================================\n"
       ]
      }
     ],
     "prompt_number": 7
    },
    {
     "cell_type": "markdown",
     "metadata": {},
     "source": [
      "The dependence among subjects within a school is fairly weak:"
     ]
    },
    {
     "cell_type": "code",
     "collapsed": false,
     "input": [
      "print ex.summary()"
     ],
     "language": "python",
     "metadata": {},
     "outputs": [
      {
       "output_type": "stream",
       "stream": "stdout",
       "text": [
        "The correlation between two observations in the same cluster is 0.039\n"
       ]
      }
     ],
     "prompt_number": 8
    },
    {
     "cell_type": "markdown",
     "metadata": {},
     "source": [
      "Next we fit the model using the nested dependence structure.  Since the iterations are somewhat slow, we limit the number of iterations.  This may result in a warning message. "
     ]
    },
    {
     "cell_type": "code",
     "collapsed": false,
     "input": [
      "ne = sm.cov_struct.Nested()\n",
      "model2 = sm.GEE.from_formula(\"GCSE ~ Age + Gender\", \"LEA\",\n",
      "                        data=data, family=family, cov_struct=ne,\n",
      "                        dep_data=data[\"Institute\"])\n",
      "result2 = model2.fit() #maxiter=10)\n",
      "print result2.summary()"
     ],
     "language": "python",
     "metadata": {},
     "outputs": [
      {
       "output_type": "stream",
       "stream": "stdout",
       "text": [
        "                               GEE Regression Results                              \n",
        "===================================================================================\n",
        "Dep. Variable:                        GCSE   No. Observations:                31022\n",
        "Model:                                 GEE   No. clusters:                      131\n",
        "Method:                        Generalized   Min. cluster size:                  10\n",
        "                      Estimating Equations   Max. cluster size:                 969\n",
        "Family:                           Gaussian   Mean cluster size:               236.8\n",
        "Dependence structure:               Nested   Num. iterations:                    11\n",
        "Date:                     Sun, 19 Oct 2014   Scale:                           0.758\n",
        "Covariance type:                    robust   Time:                         00:24:42\n",
        "==============================================================================\n",
        "                 coef    std err          z      P>|z|      [95.0% Conf. Int.]\n",
        "------------------------------------------------------------------------------\n",
        "Intercept      5.9790      0.020    294.902      0.000         5.939     6.019\n",
        "Age            0.0129      0.001     10.587      0.000         0.010     0.015\n",
        "Gender         0.3699      0.012     31.882      0.000         0.347     0.393\n",
        "==============================================================================\n",
        "Skew:                         -0.5306   Kurtosis:                       0.4397\n",
        "Centered skew:                -0.5020   Centered kurtosis:              0.4395\n",
        "==============================================================================\n"
       ]
      }
     ],
     "prompt_number": 9
    },
    {
     "cell_type": "markdown",
     "metadata": {},
     "source": [
      "The nested dependence structure captures more of the dependence in the data compared to the exchangeable dependence structure.  Component 1 is the variation among LEA's.  It is fairly weak, suggesting that the schools within a LEA are fairly heterogeneous.  The variance among schools within an LEA is stronger, suggesting that students within a school share similar characteristics.  Variation among students (residual variance in the table below) is the greatest contributor to the overall variance."
     ]
    },
    {
     "cell_type": "code",
     "collapsed": false,
     "input": [
      "print ne.summary()"
     ],
     "language": "python",
     "metadata": {},
     "outputs": [
      {
       "output_type": "stream",
       "stream": "stdout",
       "text": [
        "Variance estimates\n",
        "------------------\n",
        "Component 1: 0.043\n",
        "Component 2: 0.176\n",
        "Residual: 0.539\n",
        "\n"
       ]
      }
     ],
     "prompt_number": 10
    }
   ],
   "metadata": {}
  }
 ]
}
=======
 "cells": [
  {
   "cell_type": "markdown",
   "metadata": {
    "application/vnd.databricks.v1+cell": {
     "cellMetadata": {},
     "inputWidgets": {},
     "nuid": "fdb94b1a-7714-4fda-a857-db5db102b614",
     "showTitle": false,
     "title": ""
    }
   },
   "source": [
    "Generalized Estimating Equations\n",
    "================================\n",
    "\n",
    "*Key ideas:* Nested dependence structures"
   ]
  },
  {
   "cell_type": "markdown",
   "metadata": {
    "application/vnd.databricks.v1+cell": {
     "cellMetadata": {},
     "inputWidgets": {},
     "nuid": "68a20c17-45d3-40d1-aacc-e01874b59237",
     "showTitle": false,
     "title": ""
    }
   },
   "source": [
    "This notebook demonstrates how regression models for nested data can be estimated using GEE.\n",
    "\n",
    "The data are from a study of GCSE (General Certificate of Seconday Education) exam scores in the UK.  We know the school in which each student is enrolled.  In addition, the schools are clustered into \"local educational areas\" (LEA).  Thus we have two nested levels of clustering (schools within LEA's).  The top level (LEA) can be handled by treating it as the GEE `group`.  The inner level (school) can be handled using a nested dependence structure.\n",
    "\n",
    "All of the models here use a linear link and a Gaussian model for the data.\n",
    "\n",
    "The data are available from:\n",
    "http://www.bristol.ac.uk/cmm/learning/support/datasets/\n",
    "\n",
    "Here are all the libraries that we will need:"
   ]
  },
  {
   "cell_type": "code",
   "execution_count": 0,
   "metadata": {
    "application/vnd.databricks.v1+cell": {
     "cellMetadata": {},
     "inputWidgets": {},
     "nuid": "020ad00c-7e52-4212-b711-db1f8fd8e3b7",
     "showTitle": false,
     "title": ""
    }
   },
   "outputs": [],
   "source": [
    "import numpy as np\n",
    "import pandas as pd\n",
    "import statsmodels.api as sm"
   ]
  },
  {
   "cell_type": "markdown",
   "metadata": {
    "application/vnd.databricks.v1+cell": {
     "cellMetadata": {},
     "inputWidgets": {},
     "nuid": "50e6296c-418b-4ed1-afe8-a38fa7fd4b36",
     "showTitle": false,
     "title": ""
    }
   },
   "source": [
    "The data file has no column labels, so we attach them manually."
   ]
  },
  {
   "cell_type": "code",
   "execution_count": 0,
   "metadata": {
    "application/vnd.databricks.v1+cell": {
     "cellMetadata": {},
     "inputWidgets": {},
     "nuid": "26cad298-e025-4d0b-a4f8-da2befc4f790",
     "showTitle": false,
     "title": ""
    }
   },
   "outputs": [],
   "source": [
    "data = pd.read_csv(\"a-level-chemistry.txt\", header=None, sep=' ')\n",
    "data.columns = [\"Board\", \"A-Score\", \"Gtot\", \"Gnum\",\n",
    "                \"Gender\", \"Age\", \"Inst_Type\", \"LEA\",\n",
    "                \"Institute\", \"Student\"]"
   ]
  },
  {
   "cell_type": "markdown",
   "metadata": {
    "application/vnd.databricks.v1+cell": {
     "cellMetadata": {},
     "inputWidgets": {},
     "nuid": "e29d2263-a7f9-460d-864d-d5011588595e",
     "showTitle": false,
     "title": ""
    }
   },
   "source": [
    "The GCSE has several components, and not all students take all of the components.  The variable 'Gtot' in the data set is the sum of exam scores over all the components taken by a given student.  We divide the score sum by the number of components taken, in order to obtain a mean score that is not inflated just because a student takes more exams."
   ]
  },
  {
   "cell_type": "code",
   "execution_count": 0,
   "metadata": {
    "application/vnd.databricks.v1+cell": {
     "cellMetadata": {},
     "inputWidgets": {},
     "nuid": "deacaa57-8051-4ec9-860b-58e17c1b421b",
     "showTitle": false,
     "title": ""
    }
   },
   "outputs": [],
   "source": [
    "data[\"GCSE\"] = data[\"Gtot\"] / data[\"Gnum\"]"
   ]
  },
  {
   "cell_type": "markdown",
   "metadata": {
    "application/vnd.databricks.v1+cell": {
     "cellMetadata": {},
     "inputWidgets": {},
     "nuid": "3349f1f9-08b2-42ae-a724-98dce5703df9",
     "showTitle": false,
     "title": ""
    }
   },
   "source": [
    "Our primary focus here is on the nested dependence structure.  For comparison, we will also consider a single-level dependence\n",
    "structure determined only by the school.  Since the school codes are recycled across the LEA's, we need to create a new variable that combines the two codes."
   ]
  },
  {
   "cell_type": "code",
   "execution_count": 0,
   "metadata": {
    "application/vnd.databricks.v1+cell": {
     "cellMetadata": {},
     "inputWidgets": {},
     "nuid": "316cc085-46b7-4df1-b09b-429a396ead7e",
     "showTitle": false,
     "title": ""
    }
   },
   "outputs": [],
   "source": [
    "data[\"School\"] = [str(x) + str(y) for x,y in\n",
    "                  zip(data[\"LEA\"], data[\"Institute\"])]\n",
    "us = set(data[\"School\"])\n",
    "us = {x: k for k,x in enumerate(list(us))}\n",
    "data[\"School\"] = [us[x] for x in data[\"School\"]]"
   ]
  },
  {
   "cell_type": "markdown",
   "metadata": {
    "application/vnd.databricks.v1+cell": {
     "cellMetadata": {},
     "inputWidgets": {},
     "nuid": "9ebf6892-8e25-4a49-82c9-47fadbf56220",
     "showTitle": false,
     "title": ""
    }
   },
   "source": [
    "These are all the variables in the analysis."
   ]
  },
  {
   "cell_type": "code",
   "execution_count": 0,
   "metadata": {
    "application/vnd.databricks.v1+cell": {
     "cellMetadata": {},
     "inputWidgets": {},
     "nuid": "62518384-e960-4b7d-a603-37fc3764da3d",
     "showTitle": false,
     "title": ""
    }
   },
   "outputs": [],
   "source": [
    "qdata = data[[\"GCSE\", \"Gender\", \"Age\", \"LEA\", \"Institute\", \"School\"]]\n",
    "qdata = np.asarray(qdata)"
   ]
  },
  {
   "cell_type": "code",
   "execution_count": 0,
   "metadata": {
    "application/vnd.databricks.v1+cell": {
     "cellMetadata": {},
     "inputWidgets": {},
     "nuid": "e5d4035b-e304-48c1-bb33-ea5436501e79",
     "showTitle": false,
     "title": ""
    }
   },
   "outputs": [],
   "source": [
    "family = sm.families.Gaussian()"
   ]
  },
  {
   "cell_type": "markdown",
   "metadata": {
    "application/vnd.databricks.v1+cell": {
     "cellMetadata": {},
     "inputWidgets": {},
     "nuid": "ff2c76d6-4d49-4576-9d9e-125f1084ff63",
     "showTitle": false,
     "title": ""
    }
   },
   "source": [
    "The initial model considers only the school effect, and does not account for the fact that the schools are nested in LEA's."
   ]
  },
  {
   "cell_type": "code",
   "execution_count": 0,
   "metadata": {
    "application/vnd.databricks.v1+cell": {
     "cellMetadata": {},
     "inputWidgets": {},
     "nuid": "5a7d005e-6c91-46f1-8199-869622f7bb02",
     "showTitle": false,
     "title": ""
    }
   },
   "outputs": [],
   "source": [
    "ex = sm.cov_struct.Exchangeable()\n",
    "model1 = sm.GEE.from_formula(\"GCSE ~ Age + Gender\", \"LEA\",\n",
    "                       data=data, family=family, cov_struct=ex)\n",
    "result1 = model1.fit()\n",
    "print result1.summary()"
   ]
  },
  {
   "cell_type": "markdown",
   "metadata": {
    "application/vnd.databricks.v1+cell": {
     "cellMetadata": {},
     "inputWidgets": {},
     "nuid": "be70b0d7-83fb-4cee-be8a-91489d248bfb",
     "showTitle": false,
     "title": ""
    }
   },
   "source": [
    "The dependence among subjects within a school is fairly weak:"
   ]
  },
  {
   "cell_type": "code",
   "execution_count": 0,
   "metadata": {
    "application/vnd.databricks.v1+cell": {
     "cellMetadata": {},
     "inputWidgets": {},
     "nuid": "0c97189d-2c8c-46bb-811d-6b7a1741c4ba",
     "showTitle": false,
     "title": ""
    }
   },
   "outputs": [],
   "source": [
    "print ex.summary()"
   ]
  },
  {
   "cell_type": "markdown",
   "metadata": {
    "application/vnd.databricks.v1+cell": {
     "cellMetadata": {},
     "inputWidgets": {},
     "nuid": "a87aceed-8ac2-4e40-91d5-6b21d61ea0ae",
     "showTitle": false,
     "title": ""
    }
   },
   "source": [
    "Next we fit the model using the nested dependence structure.  Since the iterations are somewhat slow, we limit the number of iterations.  This may result in a warning message."
   ]
  },
  {
   "cell_type": "code",
   "execution_count": 0,
   "metadata": {
    "application/vnd.databricks.v1+cell": {
     "cellMetadata": {},
     "inputWidgets": {},
     "nuid": "4846d815-64bd-42a4-b794-1a9cb74731c9",
     "showTitle": false,
     "title": ""
    }
   },
   "outputs": [],
   "source": [
    "ne = sm.cov_struct.Nested()\n",
    "model2 = sm.GEE.from_formula(\"GCSE ~ Age + Gender\", \"LEA\",\n",
    "                        data=data, family=family, cov_struct=ne,\n",
    "                        dep_data=data[\"Institute\"])\n",
    "result2 = model2.fit() #maxiter=10)\n",
    "print result2.summary()"
   ]
  },
  {
   "cell_type": "markdown",
   "metadata": {
    "application/vnd.databricks.v1+cell": {
     "cellMetadata": {},
     "inputWidgets": {},
     "nuid": "056f273c-b44e-4a98-82ca-1480933b0c24",
     "showTitle": false,
     "title": ""
    }
   },
   "source": [
    "The nested dependence structure captures more of the dependence in the data compared to the exchangeable dependence structure.  Component 1 is the variation among LEA's.  It is fairly weak, suggesting that the schools within a LEA are fairly heterogeneous.  The variance among schools within an LEA is stronger, suggesting that students within a school share similar characteristics.  Variation among students (residual variance in the table below) is the greatest contributor to the overall variance."
   ]
  },
  {
   "cell_type": "code",
   "execution_count": 0,
   "metadata": {
    "application/vnd.databricks.v1+cell": {
     "cellMetadata": {},
     "inputWidgets": {},
     "nuid": "e7a0d23d-4f3d-4b8b-a263-e9afa6cb763d",
     "showTitle": false,
     "title": ""
    }
   },
   "outputs": [],
   "source": [
    "print ne.summary()"
   ]
  }
 ],
 "metadata": {
  "application/vnd.databricks.v1+notebook": {
   "dashboards": [],
   "language": "python",
   "notebookMetadata": {},
   "notebookName": "GEE_nested",
   "widgets": {}
  },
  "name": "",
  "signature": "sha256:37b8445f9d11cf83de0aa41348cc7b1a3e1b68887e42941eef955d2c2eef4de9"
 },
 "nbformat": 4,
 "nbformat_minor": 0
}
>>>>>>> Stashed changes
