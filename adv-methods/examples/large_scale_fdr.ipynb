{
 "cells": [
  {
   "cell_type": "markdown",
   "metadata": {
    "application/vnd.databricks.v1+cell": {
     "cellMetadata": {},
     "inputWidgets": {},
     "nuid": "d0142f77-2bdb-4d90-8eeb-bafbac3d6238",
     "showTitle": false,
     "title": ""
    }
   },
   "source": [
    "Large scale testing\n",
    "----------------------\n",
    "\n",
    "\n",
    "__Review of classical hypothesis testing__\n",
    "\n",
    "One of the most basic and useful statistical procedures is the comparison of two population means based on samples of data from the two populations.  Formally, imagine that we have populations with means $\\mu_1$ and $\\mu_2$, respectively, and we are interested in assessing whether $\\mu_1 = \\mu_2$.\n",
    "\n",
    "Let $x_1, \\ldots, x_m$ and $y_1, \\ldots, y_n$ denote the (_iid_) data from the two populations, respectively, and let $\\bar{x}$ and $\\bar{y}$ be their sample means.  A natural starting point is the difference of sample means $\\bar{x} - \\bar{y}$ which is an estimate of $\\mu_1 - \\mu_2$.\n",
    "\n",
    "Since the data can be on any scale, the value of $\\bar{x} - \\bar{y}$ does not directly tell us much about the statistical evidence for or against the _null hypothesis_ $\\mu_1 = \\mu_2$.  We need to standardize this quantity somehow.\n",
    "\n",
    "The variance of $\\bar{x} - \\bar{y}$ is $\\sigma_1^2 / n_1 + \\sigma_2^2 / n_2$, where $\\sigma_1^2$ and $\\sigma_2^2$ are the variances of the two populations and $n_1$ and $n_2$ are the two sample sizes.  Thus we can form the _Z-score_ $(\\bar{x} - \\bar{y}) / \\sqrt{\\sigma_1^2 / n_1 + \\sigma_2^2 / n_2}$.  \n",
    "\n",
    "In practice, we do not know $\\sigma_1^2$ and $\\sigma_2^2$ (they are _nuisance parameters_), so the Z-score that we actually use is $(\\bar{x} - \\bar{y}) / \\sqrt{\\hat{\\sigma}_1^2 / n_1 + \\hat{\\sigma}_2^2 / n_2}$.\n",
    "\n",
    "A Z-score should behave like a standard normal random variable when the null hypothesis is true.  Thus any observed Z-score values that fall far enough in the tails of the standard normal distribution don't fit the null hypothesis very well, and therefore might actually come from a population in which the null hypothesis is not true.\n",
    "\n",
    "__Large scale hypothesis testing__\n",
    "\n",
    "Now suppose we are testing many hypotheses at once.  We can form a Z-score for each hypothesis, but since there are so many hypotheses we will always see some large Z-scores even if the null hypotheses are all (approximately) true.  We need to recalibrate our expectations."
   ]
  },
  {
   "cell_type": "code",
   "execution_count": 0,
   "metadata": {
    "application/vnd.databricks.v1+cell": {
     "cellMetadata": {},
     "inputWidgets": {},
     "nuid": "dd14e8de-1f34-49e2-b7b9-20843740e46a",
     "showTitle": false,
     "title": ""
    },
    "collapsed": false
   },
   "outputs": [],
   "source": [
    "%matplotlib inline\n",
    "\n",
    "import numpy as np\n",
    "import matplotlib.pyplot as plt\n",
    "from scipy.stats.distributions import norm, t as t_dist\n",
    "import statsmodels.api as sm"
   ]
  },
  {
   "cell_type": "markdown",
   "metadata": {
    "application/vnd.databricks.v1+cell": {
     "cellMetadata": {},
     "inputWidgets": {},
     "nuid": "1889d295-16eb-4749-8d4a-79b2c0063863",
     "showTitle": false,
     "title": ""
    }
   },
   "source": [
    "In the next cell we simulate data for `n_test` independent two-sample comparisons in which the null hypothesis is true for every comparison.  The data for the `i^th` comparison is in row `i` of the array `x1` for the first group and row `i` of the array `x2` for the second group.  We allow the two groups to have different sample sizes and different levels of variation."
   ]
  },
  {
   "cell_type": "code",
   "execution_count": 0,
   "metadata": {
    "application/vnd.databricks.v1+cell": {
     "cellMetadata": {},
     "inputWidgets": {},
     "nuid": "6d8f611e-6481-4e76-9186-c3fdf7944fa7",
     "showTitle": false,
     "title": ""
    },
    "collapsed": true
   },
   "outputs": [],
   "source": [
    "n_test = 1000\n",
    "n_obs_1 = 15\n",
    "n_obs_2 = 25\n",
    "scale_1 = 2\n",
    "scale_2 = 1\n",
    "\n",
    "# scale is SD\n",
    "x1 = np.random.normal(size=(n_test, n_obs_1), scale=scale_1)\n",
    "x2 = np.random.normal(size=(n_test, n_obs_2), scale=scale_2)"
   ]
  },
  {
   "cell_type": "markdown",
   "metadata": {
    "application/vnd.databricks.v1+cell": {
     "cellMetadata": {},
     "inputWidgets": {},
     "nuid": "e4a0ca99-3544-4856-812e-8b2fe44277e5",
     "showTitle": false,
     "title": ""
    }
   },
   "source": [
    "In the next cell we calculate the difference in sample means for each comparison and make a histogram of them.  We also overlay the theoretical distribution of the difference of sample means on the histogram."
   ]
  },
  {
   "cell_type": "code",
   "execution_count": 0,
   "metadata": {
    "application/vnd.databricks.v1+cell": {
     "cellMetadata": {},
     "inputWidgets": {},
     "nuid": "abaeb39d-0a88-4f67-a784-de77eeb8adab",
     "showTitle": false,
     "title": ""
    },
    "collapsed": false
   },
   "outputs": [],
   "source": [
    "x1_means = x1.mean(1)\n",
    "x2_means = x2.mean(1)\n",
    "mean_diff = x1_means - x2_means\n",
    "\n",
    "plt.hist(mean_diff, normed=True, bins=15, color='lightblue')\n",
    "plt.grid(True)\n",
    "\n",
    "x = np.linspace(-2, 2, 100)\n",
    "y = norm.pdf(x, scale=np.sqrt(scale_1**2 / float(n_obs_1) + scale_2**2 / float(n_obs_2)))\n",
    "plt.plot(x, y, '-', color='orange', lw=5, alpha=0.7)\n",
    "plt.xlabel(\"Difference of means\", size=15)\n",
    "plt.ylabel(\"Frequency\", size=15)"
   ]
  },
  {
   "cell_type": "markdown",
   "metadata": {
    "application/vnd.databricks.v1+cell": {
     "cellMetadata": {},
     "inputWidgets": {},
     "nuid": "42007323-3234-4ddd-bb09-9ea4f4249852",
     "showTitle": false,
     "title": ""
    }
   },
   "source": [
    "The most important quantity in large scale inference is the Z-score, which places the mean difference on a standardized scale.  To perform this standardization we need the standard deviation of the data, which we don't know but can estimate."
   ]
  },
  {
   "cell_type": "code",
   "execution_count": 0,
   "metadata": {
    "application/vnd.databricks.v1+cell": {
     "cellMetadata": {},
     "inputWidgets": {},
     "nuid": "815eba92-4ac4-4fbf-b05c-81fb7ae0af50",
     "showTitle": false,
     "title": ""
    },
    "collapsed": false
   },
   "outputs": [],
   "source": [
    "va1 = x1.var(1)\n",
    "va2 = x2.var(1)\n",
    "se = np.sqrt(va1 / n_obs_1 + va2 / n_obs_2)\n",
    "\n",
    "z_scores = mean_diff / se\n",
    "\n",
    "# Create a Z-score based on the exact variance\n",
    "tse = np.sqrt(scale_1**2 / float(n_obs_1) + scale_2**2 / float(n_obs_2))\n",
    "z_scores_t = mean_diff / tse\n",
    "\n",
    "plt.clf()\n",
    "plt.grid(True)\n",
    "plt.plot(z_scores, z_scores_t, 'o', alpha=0.5)\n",
    "plt.xlim(-4, 4)\n",
    "plt.ylim(-4, 4)\n",
    "plt.xlabel(\"Z-score using estimated variance\", size=15)\n",
    "plt.ylabel(\"Z-score using exact variance\", size=15)"
   ]
  },
  {
   "cell_type": "markdown",
   "metadata": {
    "application/vnd.databricks.v1+cell": {
     "cellMetadata": {},
     "inputWidgets": {},
     "nuid": "35de1a4e-2cb1-4d56-9b1c-3bf4c5e26936",
     "showTitle": false,
     "title": ""
    }
   },
   "source": [
    "Histograms are not very sensitive to small changes in the shape of a distribution.  Quantile-quantile (QQ) plots are better at that.  To compare two samples with the same number of observations using a QQ plot we simply sort each sample and make plot one against the other.  If we use the estimated scale to form the Z-score, the values are slightly \"overdispersed\"."
   ]
  },
  {
   "cell_type": "code",
   "execution_count": 0,
   "metadata": {
    "application/vnd.databricks.v1+cell": {
     "cellMetadata": {},
     "inputWidgets": {},
     "nuid": "d462943f-7adc-490c-85c3-31e29cc2ce9d",
     "showTitle": false,
     "title": ""
    },
    "collapsed": false
   },
   "outputs": [],
   "source": [
    "plt.plot(np.sort(z_scores), np.sort(z_scores_t))\n",
    "plt.plot([-4, 4], [-4, 4], color='grey')\n",
    "plt.grid(True)\n",
    "plt.xlim(-4, 4)\n",
    "plt.ylim(-4, 4)\n",
    "plt.xlabel(\"Z-scores using estimated scale\", size=15)\n",
    "plt.ylabel(\"Z-scores using exact scale\", size=15)"
   ]
  },
  {
   "cell_type": "markdown",
   "metadata": {
    "application/vnd.databricks.v1+cell": {
     "cellMetadata": {},
     "inputWidgets": {},
     "nuid": "d7364a9a-c09e-4369-bfa7-99a31dc662eb",
     "showTitle": false,
     "title": ""
    }
   },
   "source": [
    "We can also use a QQ plot to compare the observed Z-scores against the theoretical standard normal population."
   ]
  },
  {
   "cell_type": "code",
   "execution_count": 0,
   "metadata": {
    "application/vnd.databricks.v1+cell": {
     "cellMetadata": {},
     "inputWidgets": {},
     "nuid": "7487e44f-52d4-4a37-b0ce-24a3a3cc4fdb",
     "showTitle": false,
     "title": ""
    },
    "collapsed": false
   },
   "outputs": [],
   "source": [
    "sm.qqplot(z_scores)\n",
    "plt.plot([-3, 3], [-3, 3], '-', color='grey')\n",
    "plt.grid(True)"
   ]
  },
  {
   "cell_type": "markdown",
   "metadata": {
    "application/vnd.databricks.v1+cell": {
     "cellMetadata": {},
     "inputWidgets": {},
     "nuid": "3f2134cf-9ddd-4273-bc94-7c70b31db4fb",
     "showTitle": false,
     "title": ""
    }
   },
   "source": [
    "Note that it is not easy to see the overdispersion in a histogram."
   ]
  },
  {
   "cell_type": "code",
   "execution_count": 0,
   "metadata": {
    "application/vnd.databricks.v1+cell": {
     "cellMetadata": {},
     "inputWidgets": {},
     "nuid": "2f65d2fc-b482-4996-beb0-10f93951af97",
     "showTitle": false,
     "title": ""
    },
    "collapsed": false
   },
   "outputs": [],
   "source": [
    "plt.hist(z_scores, normed=True, bins=15)\n",
    "\n",
    "x = np.linspace(-4, 4, 100)\n",
    "y = norm.pdf(x, scale=1)\n",
    "plt.plot(x, y, '-', color='orange', lw=5)\n",
    "plt.xlabel(\"Difference of means\", size=15)\n",
    "plt.ylabel(\"Frequency\", size=15)"
   ]
  },
  {
   "cell_type": "markdown",
   "metadata": {
    "application/vnd.databricks.v1+cell": {
     "cellMetadata": {},
     "inputWidgets": {},
     "nuid": "299bdcc8-4856-49af-89fb-621ab4d63118",
     "showTitle": false,
     "title": ""
    }
   },
   "source": [
    "If we want to try to make the estimates Z-scores behave more like Z-scores, we can approximate the Z-score distribution with a t-distribution and map the t-distribution to a standard normal distribution.  This involves a somewhat complicated expression for the approximate degrees of freedom for the t-distribution called the \"Satterthwaite\" approximation.  Sme details are given here:\n",
    "\n",
    "http://en.wikipedia.org/wiki/Welch%27s_t_test\n",
    "\n",
    "Note that estimate degrees of freedom is just a bit larger than the smaller of the two sample sizes."
   ]
  },
  {
   "cell_type": "code",
   "execution_count": 0,
   "metadata": {
    "application/vnd.databricks.v1+cell": {
     "cellMetadata": {},
     "inputWidgets": {},
     "nuid": "a14f237f-778c-468e-87a3-307838ea5576",
     "showTitle": false,
     "title": ""
    },
    "collapsed": false
   },
   "outputs": [],
   "source": [
    "df = (va1 / n_obs_1 + va2 / n_obs_2)**2 / (va1**2 / (n_obs_1**2 * (n_obs_1 - 1)) + va2**2 / (n_obs_2**2 * (n_obs_2 - 1)))\n",
    "\n",
    "_ = plt.hist(df, bins=20, color='lightblue')\n",
    "plt.xlabel(\"Approximate degrees of freedom\", size=15)\n",
    "plt.ylabel(\"Frequency\", size=15)\n",
    "print(np.mean(df))"
   ]
  },
  {
   "cell_type": "markdown",
   "metadata": {
    "application/vnd.databricks.v1+cell": {
     "cellMetadata": {},
     "inputWidgets": {},
     "nuid": "54ba505b-cd80-4487-9488-fde09484824c",
     "showTitle": false,
     "title": ""
    }
   },
   "source": [
    "Here is how we do the adjustment.  It is an improvement, but not perfect."
   ]
  },
  {
   "cell_type": "code",
   "execution_count": 0,
   "metadata": {
    "application/vnd.databricks.v1+cell": {
     "cellMetadata": {},
     "inputWidgets": {},
     "nuid": "cd1aebfe-e4b3-4e41-bbfd-d70521c85aba",
     "showTitle": false,
     "title": ""
    },
    "collapsed": false
   },
   "outputs": [],
   "source": [
    "t_quantiles = t_dist.cdf(z_scores, df)\n",
    "z_scores_v = norm.ppf(t_quantiles)\n",
    "print(z_scores.std())\n",
    "print(z_scores_v.std())"
   ]
  },
  {
   "cell_type": "markdown",
   "metadata": {
    "application/vnd.databricks.v1+cell": {
     "cellMetadata": {},
     "inputWidgets": {},
     "nuid": "d1d54567-7793-4a35-9ae4-6287e93cdc92",
     "showTitle": false,
     "title": ""
    }
   },
   "source": [
    "### False positives and controlling the family-wise error rate\n",
    "\n",
    "The usual rule for hypothesis testing is to reject the null hypothesis if the p-value is smaller than 0.05.  This is exactly equivalent to rejecting the null hypothesis when the absolute value of the Z-score is greater than 2.\n",
    "\n",
    "When testing many hypothesis at once, the _false positive rate_ is the proprotion of true null hypotheses that are incorrectly rejected.\n",
    "\n",
    "We can calculate the false positive rate in our simulated data:"
   ]
  },
  {
   "cell_type": "code",
   "execution_count": 0,
   "metadata": {
    "application/vnd.databricks.v1+cell": {
     "cellMetadata": {},
     "inputWidgets": {},
     "nuid": "b4324654-7dbe-4eb2-9013-fd8021cd759b",
     "showTitle": false,
     "title": ""
    },
    "collapsed": false
   },
   "outputs": [],
   "source": [
    "print(np.sum(np.abs(z_scores) > 2))\n",
    "print(np.mean(np.abs(z_scores) > 2))"
   ]
  },
  {
   "cell_type": "markdown",
   "metadata": {
    "application/vnd.databricks.v1+cell": {
     "cellMetadata": {},
     "inputWidgets": {},
     "nuid": "b94d72b6-b0f1-4354-96f6-b32af0663396",
     "showTitle": false,
     "title": ""
    }
   },
   "source": [
    "The _family-wise error rate_ (FWER) is the probability of rejecting at least one true null hypothesis.  To assess the FWER, we need to be able to easily repeat the entire analysis done above, so we re-implement it as a function:"
   ]
  },
  {
   "cell_type": "code",
   "execution_count": 0,
   "metadata": {
    "application/vnd.databricks.v1+cell": {
     "cellMetadata": {},
     "inputWidgets": {},
     "nuid": "62320a3a-d34e-424b-9adf-030ce8afe232",
     "showTitle": false,
     "title": ""
    },
    "collapsed": true
   },
   "outputs": [],
   "source": [
    "def mtest(x1, x2):\n",
    "    \"\"\"\n",
    "    Perform many t-tests in parallel.\n",
    "    \n",
    "    Parameters\n",
    "    ----------\n",
    "    x1 : array-like\n",
    "        Data for sample 1, rows are variables to test, columns are replicates.\n",
    "    x2 : array-like\n",
    "        Data for sample 2, rows are variables to test, columns are replicates.\n",
    "    \n",
    "    Returns a vector of Z-scores.\n",
    "    \n",
    "    Notes\n",
    "    -----\n",
    "    `x1` and `x2` must have the same number of rows.\n",
    "    \"\"\"\n",
    "    \n",
    "    x1_means = x1.mean(1)\n",
    "    x2_means = x2.mean(1)\n",
    "    mean_diff = x1_means - x2_means\n",
    "\n",
    "    va1 = x1.var(1)\n",
    "    va2 = x2.var(1)\n",
    "    se = np.sqrt(va1 / n_obs_1 + va2 / n_obs_2)\n",
    "\n",
    "    z_scores = mean_diff / se\n",
    "    \n",
    "    df = (va1 / n_obs_1 + va2 / n_obs_2)**2 / (va1**2 / (n_obs_1**2 * (n_obs_1 - 1)) + va2**2 / (n_obs_2**2 * (n_obs_2 - 1)))\n",
    "\n",
    "    t_quantiles = t_dist.cdf(z_scores, df)\n",
    "    z_scores = norm.ppf(t_quantiles)\n",
    "    return z_scores"
   ]
  },
  {
   "cell_type": "markdown",
   "metadata": {
    "application/vnd.databricks.v1+cell": {
     "cellMetadata": {},
     "inputWidgets": {},
     "nuid": "f37215cf-7625-4af4-bf9e-3b9ff83190ac",
     "showTitle": false,
     "title": ""
    }
   },
   "source": [
    "Now we can imagine that we repeated our study 500 times.  The FWER is the proportion of the repeated studies in which we have at least one false positive."
   ]
  },
  {
   "cell_type": "code",
   "execution_count": 0,
   "metadata": {
    "application/vnd.databricks.v1+cell": {
     "cellMetadata": {},
     "inputWidgets": {},
     "nuid": "28ffca92-4798-4650-8b69-4742b7e809c3",
     "showTitle": false,
     "title": ""
    },
    "collapsed": false
   },
   "outputs": [],
   "source": [
    "maxz = []\n",
    "for k in range(500):\n",
    "    x1 = np.random.normal(size=(n_test, n_obs_1), scale=scale_1)\n",
    "    x2 = np.random.normal(size=(n_test, n_obs_2), scale=scale_2)\n",
    "    z_scores = mtest(x1, x2)\n",
    "    maxz.append(np.abs(z_scores).max())\n",
    "    \n",
    "plt.hist(maxz, color='lightblue', bins=30)\n",
    "plt.grid()\n",
    "plt.xlabel(\"Maximum Z-score\", size=15)\n",
    "plt.ylabel(\"Frequency\", size=15)"
   ]
  },
  {
   "cell_type": "markdown",
   "metadata": {
    "application/vnd.databricks.v1+cell": {
     "cellMetadata": {},
     "inputWidgets": {},
     "nuid": "60c82732-8831-4df6-89d6-b759806254bf",
     "showTitle": false,
     "title": ""
    }
   },
   "source": [
    "The \"Bonferroni approach\" to multiple testing involves changing the decision threshold from $|Z| > 2$ (corresponding to $p < 0.05$) to a stricter threshold, based on $p < 0.05 / q$, where $q$ is the number of tests.  For our situation, the threshold becomes:"
   ]
  },
  {
   "cell_type": "code",
   "execution_count": 0,
   "metadata": {
    "application/vnd.databricks.v1+cell": {
     "cellMetadata": {},
     "inputWidgets": {},
     "nuid": "5bb9699a-3fca-4610-9c76-99d194439dc6",
     "showTitle": false,
     "title": ""
    },
    "collapsed": false
   },
   "outputs": [],
   "source": [
    "qtr = -norm.ppf(0.025 / x1.shape[0])\n",
    "print(qtr)"
   ]
  },
  {
   "cell_type": "markdown",
   "metadata": {
    "application/vnd.databricks.v1+cell": {
     "cellMetadata": {},
     "inputWidgets": {},
     "nuid": "37a71e31-380d-4040-8acb-d96d95bd04c2",
     "showTitle": false,
     "title": ""
    }
   },
   "source": [
    "The observed FWER is calculated in the next cell.  For small sample sizes it may still be bigger than the target value.  Try running the notebook with different sample sizes to see how this performs."
   ]
  },
  {
   "cell_type": "code",
   "execution_count": 0,
   "metadata": {
    "application/vnd.databricks.v1+cell": {
     "cellMetadata": {},
     "inputWidgets": {},
     "nuid": "3415add3-3903-486f-85b5-ccbc95df1d65",
     "showTitle": false,
     "title": ""
    },
    "collapsed": false
   },
   "outputs": [],
   "source": [
    "print(np.mean(maxz > qtr))"
   ]
  },
  {
   "cell_type": "markdown",
   "metadata": {
    "application/vnd.databricks.v1+cell": {
     "cellMetadata": {},
     "inputWidgets": {},
     "nuid": "12071f8d-ce93-4a5a-92d8-9973818e6706",
     "showTitle": false,
     "title": ""
    }
   },
   "source": [
    "Up to this point we have only worked with data in which all the null hypotheses are true, i.e. the means of the two groups are equal for every tested variable.  Next we can see what happens when we introduce a small number of non-null variables.  First we consider a case with large effect size."
   ]
  },
  {
   "cell_type": "code",
   "execution_count": 0,
   "metadata": {
    "application/vnd.databricks.v1+cell": {
     "cellMetadata": {},
     "inputWidgets": {},
     "nuid": "d78748f3-4073-4470-a219-e38092b598a7",
     "showTitle": false,
     "title": ""
    },
    "collapsed": false
   },
   "outputs": [],
   "source": [
    "x1 = np.random.normal(size=(n_test, n_obs_1), scale=scale_1)\n",
    "x1[0:50, :] += 3 # These are our non-null variables\n",
    "x2 = np.random.normal(size=(n_test, n_obs_2), scale=scale_2)\n",
    "z_scores = mtest(x1, x2)\n",
    "    \n",
    "plt.hist(z_scores, color='lightblue', bins=30)\n",
    "plt.grid()\n",
    "plt.xlabel(\"Maximum Z-score\", size=15)\n",
    "plt.ylabel(\"Frequency\", size=15)"
   ]
  },
  {
   "cell_type": "markdown",
   "metadata": {
    "application/vnd.databricks.v1+cell": {
     "cellMetadata": {},
     "inputWidgets": {},
     "nuid": "9918affd-b74f-408f-bab2-283a12d37a6a",
     "showTitle": false,
     "title": ""
    }
   },
   "source": [
    "As usual, a QQ plot is more sensitive than a histogram:"
   ]
  },
  {
   "cell_type": "code",
   "execution_count": 0,
   "metadata": {
    "application/vnd.databricks.v1+cell": {
     "cellMetadata": {},
     "inputWidgets": {},
     "nuid": "03020ce4-fb96-49dd-b8fa-4af18bc02e73",
     "showTitle": false,
     "title": ""
    },
    "collapsed": false
   },
   "outputs": [],
   "source": [
    "_ = sm.qqplot(z_scores)\n",
    "plt.grid(True)"
   ]
  },
  {
   "cell_type": "markdown",
   "metadata": {
    "application/vnd.databricks.v1+cell": {
     "cellMetadata": {},
     "inputWidgets": {},
     "nuid": "b1006626-222b-4aab-8fc2-5201ebe83d10",
     "showTitle": false,
     "title": ""
    }
   },
   "source": [
    "Sometimes the effects are very weak:"
   ]
  },
  {
   "cell_type": "code",
   "execution_count": 0,
   "metadata": {
    "application/vnd.databricks.v1+cell": {
     "cellMetadata": {},
     "inputWidgets": {},
     "nuid": "ae8362e3-ce39-41c4-a111-65523c2935ce",
     "showTitle": false,
     "title": ""
    },
    "collapsed": false
   },
   "outputs": [],
   "source": [
    "x1 = np.random.normal(size=(n_test, n_obs_1), scale=scale_1)\n",
    "x1[0:50, :] += 1 # These are our non-null variables\n",
    "x2 = np.random.normal(size=(n_test, n_obs_2), scale=scale_2)\n",
    "z_scores = mtest(x1, x2)\n",
    "    \n",
    "plt.hist(z_scores, color='lightblue', bins=30)\n",
    "plt.grid()\n",
    "plt.xlabel(\"Maximum Z-score\", size=15)\n",
    "plt.ylabel(\"Frequency\", size=15)\n",
    "\n",
    "_ = sm.qqplot(z_scores)\n",
    "plt.plot([-4, 4], [-4, 4], '-', color='grey')\n",
    "plt.grid(True)"
   ]
  },
  {
   "cell_type": "markdown",
   "metadata": {
    "application/vnd.databricks.v1+cell": {
     "cellMetadata": {},
     "inputWidgets": {},
     "nuid": "274dbeb7-cf42-49f8-9636-07eb7a266ca7",
     "showTitle": false,
     "title": ""
    }
   },
   "source": [
    "### False Discovery Rates\n",
    "\n",
    "The family-wise error rate doesn't match the research goals very well in an exploratory analysis.  It deems the study to be a failure if even a single false claim is made.  In some situations, it makes more sense to think in terms of the proportion of false claims that are made.  Specifically, the _false discovery rate_ is the proportion of all rejected hypotheses that are actually null.  More informally, it is the proportion of the time that you say that something interesting is present, when in fact nothing interesting is present."
   ]
  },
  {
   "cell_type": "markdown",
   "metadata": {
    "application/vnd.databricks.v1+cell": {
     "cellMetadata": {},
     "inputWidgets": {},
     "nuid": "f0e7b816-9039-41eb-9010-80ed41646e31",
     "showTitle": false,
     "title": ""
    }
   },
   "source": [
    "This is how we get the FDR values for our collection of Z-scores:"
   ]
  },
  {
   "cell_type": "code",
   "execution_count": 0,
   "metadata": {
    "application/vnd.databricks.v1+cell": {
     "cellMetadata": {},
     "inputWidgets": {},
     "nuid": "e18a8bbc-e64f-42b2-81a8-52c20a691413",
     "showTitle": false,
     "title": ""
    },
    "collapsed": false
   },
   "outputs": [],
   "source": [
    "from statsmodels.stats.multitest import multipletests\n",
    "\n",
    "pvalues = 2*norm.cdf(-np.abs(z_scores))\n",
    "\n",
    "_, fdr, _, _ = multipletests(pvalues, method=\"fdr_bh\")"
   ]
  },
  {
   "cell_type": "markdown",
   "metadata": {
    "application/vnd.databricks.v1+cell": {
     "cellMetadata": {},
     "inputWidgets": {},
     "nuid": "31daa5df-f3c0-45af-84d6-1832161b8575",
     "showTitle": false,
     "title": ""
    }
   },
   "source": [
    "We can plot the results to see how the estimated FDR values for null and non-null variables compare."
   ]
  },
  {
   "cell_type": "code",
   "execution_count": 0,
   "metadata": {
    "application/vnd.databricks.v1+cell": {
     "cellMetadata": {},
     "inputWidgets": {},
     "nuid": "1c453ecd-2bf4-495d-bde1-ceb5c80f7c90",
     "showTitle": false,
     "title": ""
    },
    "collapsed": false
   },
   "outputs": [],
   "source": [
    "plt.plot(range(50), fdr[0:50], color='orange')\n",
    "plt.plot(range(50, len(fdr)), fdr[50:], color='purple')\n",
    "plt.xlabel(\"Variable\", size=15)\n",
    "plt.ylabel(\"FDR\", size=15)"
   ]
  },
  {
   "cell_type": "markdown",
   "metadata": {
    "application/vnd.databricks.v1+cell": {
     "cellMetadata": {},
     "inputWidgets": {},
     "nuid": "49ef65f8-1f79-46d4-a0ba-2daa12148028",
     "showTitle": false,
     "title": ""
    }
   },
   "source": [
    "If we increase the effect size we will have more power:"
   ]
  },
  {
   "cell_type": "code",
   "execution_count": 0,
   "metadata": {
    "application/vnd.databricks.v1+cell": {
     "cellMetadata": {},
     "inputWidgets": {},
     "nuid": "5bade9cb-2b7a-4be7-8ea5-714d81aa40f2",
     "showTitle": false,
     "title": ""
    },
    "collapsed": false
   },
   "outputs": [],
   "source": [
    "x1 = np.random.normal(size=(n_test, n_obs_1), scale=scale_1)\n",
    "x1[0:50, :] += 2 # These are our non-null variables\n",
    "x2 = np.random.normal(size=(n_test, n_obs_2), scale=scale_2)\n",
    "z_scores = mtest(x1, x2)\n",
    "\n",
    "pvalues = 2*norm.cdf(-np.abs(z_scores))\n",
    "\n",
    "_, fdr, _, _ = multipletests(pvalues, method=\"fdr_bh\")\n",
    "\n",
    "plt.plot(range(50), fdr[0:50], color='orange')\n",
    "plt.plot(range(50, len(fdr)), fdr[50:], color='purple')\n",
    "plt.xlabel(\"Variable\", size=15)\n",
    "plt.ylabel(\"FDR\", size=15)"
   ]
  },
  {
   "cell_type": "markdown",
   "metadata": {
    "application/vnd.databricks.v1+cell": {
     "cellMetadata": {},
     "inputWidgets": {},
     "nuid": "02f3e6e4-ad86-4990-b3bd-2e6796f815d0",
     "showTitle": false,
     "title": ""
    }
   },
   "source": [
    "If we increase the sample size but leave the effect size unchanged we will have more power:"
   ]
  },
  {
   "cell_type": "code",
   "execution_count": 0,
   "metadata": {
    "application/vnd.databricks.v1+cell": {
     "cellMetadata": {},
     "inputWidgets": {},
     "nuid": "02a1b7a9-a1fe-4e42-83ec-b84f9cd71f56",
     "showTitle": false,
     "title": ""
    },
    "collapsed": false
   },
   "outputs": [],
   "source": [
    "n_obs_1 = 50\n",
    "n_obs_2 = 50\n",
    "\n",
    "x1 = np.random.normal(size=(n_test, n_obs_1), scale=scale_1)\n",
    "x1[0:50, :] += 1 # These are our non-null variables\n",
    "x2 = np.random.normal(size=(n_test, n_obs_2), scale=scale_2)\n",
    "z_scores = mtest(x1, x2)\n",
    "\n",
    "pvalues = 2*norm.cdf(-np.abs(z_scores))\n",
    "\n",
    "_, fdr, _, _ = multipletests(pvalues, method=\"fdr_bh\")\n",
    "\n",
    "plt.plot(range(50), fdr[0:50], color='orange')\n",
    "plt.plot(range(50, len(fdr)), fdr[50:], color='purple')\n",
    "plt.xlabel(\"Variable\", size=15)\n",
    "plt.ylabel(\"FDR\", size=15)"
   ]
  },
  {
   "cell_type": "markdown",
   "metadata": {
    "application/vnd.databricks.v1+cell": {
     "cellMetadata": {},
     "inputWidgets": {},
     "nuid": "b4f12c1e-7079-4fc8-b8aa-95ad0a261f3f",
     "showTitle": false,
     "title": ""
    }
   },
   "source": [
    "### Are the Z-scores really Z-scores?\n",
    "\n",
    "Recently people have begun to raise questions about whether the Z-scores used in making statistical comparisons are really \"Z-scores\" -- that is, do they really behave like standard normal values when the null hypothesis is true?\n",
    "\n",
    "Theoretically, the Z-scores should be fine in many situations, but there are some particular things that could cause problems:\n",
    "\n",
    "* Dependence between observations\n",
    "\n",
    "* Outliers\n",
    "\n",
    "* Heterogeneous or mixed populations\n",
    "\n",
    "* Small sample size coupled with strong non-Gaussianity\n",
    "\n",
    "If we are only performing one hypothesis test, we have no choice but to trust that our one Z-score really is a Z-score.  But what if we are conducting many tests at once?  Often, it is reasonable to posit that most of the null hypotheses are true.  Can we use this \"assumption\" as a basis for checking whether the Z-scores really behave as such?\n",
    "\n",
    "The idea that most of the null hypotheses are true is often called _sparsity_.   The set of all observed Z-scores is hard to analyze because it is a mix of Z-scores coming from null and non-null variables.  But under sparsity, the Z-scores close to zero should mostly come from nul variables.  Thus we can check the distribution of null Z-scores without assuming that it is standard normal."
   ]
  },
  {
   "cell_type": "markdown",
   "metadata": {
    "application/vnd.databricks.v1+cell": {
     "cellMetadata": {},
     "inputWidgets": {},
     "nuid": "f1838de1-d3e4-41c7-b2e2-4b3e7805326c",
     "showTitle": false,
     "title": ""
    }
   },
   "source": [
    "In the next cell, we simulate a set of Z-scores such that 1000 of the values are exactly null (i.e. standard normal), and 100 come from a non-null (shifted normal) distribution.  You can easily see the non-null Z-scores in the tails, but in the center of the range the behavior is very consistent with the theoretical distribution.  Note in particular that a line fit through the center of the distribution would have slope equal to 1."
   ]
  },
  {
   "cell_type": "code",
   "execution_count": 0,
   "metadata": {
    "application/vnd.databricks.v1+cell": {
     "cellMetadata": {},
     "inputWidgets": {},
     "nuid": "43909632-9762-4461-a7b2-4999964ccba8",
     "showTitle": false,
     "title": ""
    },
    "collapsed": false
   },
   "outputs": [],
   "source": [
    "z = np.concatenate([np.random.normal(size=1000), np.random.normal(size=100, scale=2)])\n",
    "print(np.var(z))\n",
    "\n",
    "_ = sm.qqplot(z)\n",
    "plt.plot([-4, 4], [-4, 4], '-', color='grey')\n",
    "plt.grid(True)"
   ]
  },
  {
   "cell_type": "markdown",
   "metadata": {
    "application/vnd.databricks.v1+cell": {
     "cellMetadata": {},
     "inputWidgets": {},
     "nuid": "5f64e5e8-6437-465d-a7a2-278759979283",
     "showTitle": false,
     "title": ""
    }
   },
   "source": [
    "Next, we construct a similar set of Z-scores, except that even the null Z-scores are \"mis-calibrated\".  They follow a normal distribution with standard deviation 1.1 rather than a standard normal distribution.  We can see the discrepancy in the center of the plot.  If we fit a regression line through the center of the plot, the slope is close to the standard deviation of the null Z-scores."
   ]
  },
  {
   "cell_type": "code",
   "execution_count": 0,
   "metadata": {
    "application/vnd.databricks.v1+cell": {
     "cellMetadata": {},
     "inputWidgets": {},
     "nuid": "cdc9eafd-65ae-4301-93f7-10b26bc32419",
     "showTitle": false,
     "title": ""
    },
    "collapsed": false
   },
   "outputs": [],
   "source": [
    "z = np.concatenate([1.1 * np.random.normal(size=1000), np.random.normal(size=100, scale=2)])\n",
    "print(np.var(z))\n",
    "\n",
    "_ = sm.qqplot(z)\n",
    "plt.plot([-4, 4], [-4, 4], '-', color='grey')\n",
    "plt.grid(True)\n",
    "\n",
    "z.sort()\n",
    "grid = np.linspace(1/1000., 1 - 1/1000., len(z))\n",
    "snz = norm.ppf(grid)\n",
    "\n",
    "result = sm.OLS(z[450:650], snz[450:650]).fit()\n",
    "print(result.summary())"
   ]
  },
  {
   "cell_type": "markdown",
   "metadata": {
    "application/vnd.databricks.v1+cell": {
     "cellMetadata": {},
     "inputWidgets": {},
     "nuid": "d91e1092-ea18-4fbe-b8fa-d6ff01d19875",
     "showTitle": false,
     "title": ""
    }
   },
   "source": [
    "Using this and related techniques, it is possible to identify and adjust for certain situations that cause your Z-scores to \"misbehave\"."
   ]
  }
 ],
 "metadata": {
  "application/vnd.databricks.v1+notebook": {
   "dashboards": [],
   "environmentMetadata": null,
   "language": "python",
   "notebookMetadata": {},
   "notebookName": "large_scale_fdr",
   "widgets": {}
  },
  "kernelspec": {
   "display_name": "Python 2",
   "language": "python",
   "name": "python2"
  },
  "language_info": {
   "codemirror_mode": {
    "name": "ipython",
    "version": 2
   },
   "file_extension": ".py",
   "mimetype": "text/x-python",
   "name": "python",
   "nbconvert_exporter": "python",
   "pygments_lexer": "ipython2",
   "version": "2.7.8"
  },
  "name": "2015-06-10-070336.ipynb"
 },
 "nbformat": 4,
 "nbformat_minor": 0
}
