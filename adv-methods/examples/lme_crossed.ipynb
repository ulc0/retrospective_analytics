{
 "cells": [
  {
   "cell_type": "markdown",
   "metadata": {
    "application/vnd.databricks.v1+cell": {
     "cellMetadata": {},
     "inputWidgets": {},
     "nuid": "51a8c57b-5e88-4dd2-b67b-0a1577c09d1c",
     "showTitle": false,
     "title": ""
    }
   },
   "source": [
    "Statsmodels linear mixed models crossed effects \n",
    "------------------------------------------------------\n",
    "\n",
    "The Statsmodels linear mixed model class ``MixedLM`` is designed for grouped data.  But it is also possible to fit models with crossed effects by treating the data as belonging to a single group."
   ]
  },
  {
   "cell_type": "code",
   "execution_count": 0,
   "metadata": {
    "application/vnd.databricks.v1+cell": {
     "cellMetadata": {},
     "inputWidgets": {},
     "nuid": "9584c6a6-adaa-4dc5-9f09-b1abeeb8513e",
     "showTitle": false,
     "title": ""
    },
    "collapsed": false
   },
   "outputs": [],
   "source": [
    "import numpy as np\n",
    "import pandas as pd\n",
    "import statsmodels.api as sm\n",
    "import numpy as np"
   ]
  },
  {
   "cell_type": "markdown",
   "metadata": {
    "application/vnd.databricks.v1+cell": {
     "cellMetadata": {},
     "inputWidgets": {},
     "nuid": "69797b47-a797-4e6b-a970-6cb36d2304b3",
     "showTitle": false,
     "title": ""
    }
   },
   "source": [
    "We will illustrate fitting a linear mixed model with crossed effects using simulated data.  Imagine a study of student test scores in which the goal is to separate teacher effects from student effects.  Each student takes classes from multiple teachers, and each teacher is assigned to teach classes with multiple students.  There is no nesting of teachers within students or of students within teachers, so there is no way to split the data into groups such that observations in different groups are independent.\n",
    "\n",
    "The code in the following cell simulates the assignments of students to teachers.  Each student takes the same number of classes, and the assignment of teachers to students is random."
   ]
  },
  {
   "cell_type": "code",
   "execution_count": 0,
   "metadata": {
    "application/vnd.databricks.v1+cell": {
     "cellMetadata": {},
     "inputWidgets": {},
     "nuid": "5cb3e9d4-9725-4e69-965c-3ee05c09c288",
     "showTitle": false,
     "title": ""
    },
    "collapsed": false
   },
   "outputs": [],
   "source": [
    "n_students = 200\n",
    "n_courses = 5\n",
    "n_teachers = 50\n",
    "n_obs = n_students * n_courses\n",
    "teachers = np.kron(np.arange(n_teachers), np.ones(n_obs / n_teachers)).astype(np.int32)\n",
    "ii = np.random.permutation(len(teachers))\n",
    "teachers = teachers[ii]\n",
    "students = np.kron(np.arange(n_students), np.ones(n_courses)).astype(np.int32)\n",
    "df = pd.DataFrame(index=range(n_obs))\n",
    "df[\"teachers\"] = teachers\n",
    "df[\"students\"] = students\n",
    "df[\"groups\"] = 1"
   ]
  },
  {
   "cell_type": "markdown",
   "metadata": {
    "application/vnd.databricks.v1+cell": {
     "cellMetadata": {},
     "inputWidgets": {},
     "nuid": "716f0465-b395-4f2c-ae0c-0a4292f07528",
     "showTitle": false,
     "title": ""
    }
   },
   "source": [
    "Next we simulate the teacher and student effects."
   ]
  },
  {
   "cell_type": "code",
   "execution_count": 0,
   "metadata": {
    "application/vnd.databricks.v1+cell": {
     "cellMetadata": {},
     "inputWidgets": {},
     "nuid": "63a7bf95-b5c9-432b-81b8-070cce26f862",
     "showTitle": false,
     "title": ""
    },
    "collapsed": false
   },
   "outputs": [],
   "source": [
    "teacher_effects = np.random.normal(size=n_teachers)\n",
    "teacher_effects = teacher_effects[teachers]\n",
    "student_effects = np.random.normal(size=n_students)\n",
    "student_effects = student_effects[students]"
   ]
  },
  {
   "cell_type": "markdown",
   "metadata": {
    "application/vnd.databricks.v1+cell": {
     "cellMetadata": {},
     "inputWidgets": {},
     "nuid": "ff9282bc-148e-4bb6-bd26-41a0df812a48",
     "showTitle": false,
     "title": ""
    }
   },
   "source": [
    "Finally we simulate the outcomes.  The key characteristic of this type of model is that teachers are exchangeable, the students are exchangeable, and the teacher effects and student effects are additive.  We set things up so that the independent errors contribute the most variance (9 units), followed by the student effects (4 units), followed by the teacher effects (1 unit)."
   ]
  },
  {
   "cell_type": "code",
   "execution_count": 0,
   "metadata": {
    "application/vnd.databricks.v1+cell": {
     "cellMetadata": {},
     "inputWidgets": {},
     "nuid": "bdcfbaf4-6835-4c0b-850b-8616e5e891d5",
     "showTitle": false,
     "title": ""
    },
    "collapsed": true
   },
   "outputs": [],
   "source": [
    "y = teacher_effects + 2*student_effects + 3*np.random.normal(size=n_obs)\n",
    "df[\"y\"] = y"
   ]
  },
  {
   "cell_type": "markdown",
   "metadata": {
    "application/vnd.databricks.v1+cell": {
     "cellMetadata": {},
     "inputWidgets": {},
     "nuid": "78b247ae-98dc-476a-a041-929105257d34",
     "showTitle": false,
     "title": ""
    }
   },
   "source": [
    "Now we can fit the model and confirm that the variance parameters are accurately estimated.  Note that the error variance appears at the top of the table as the scale parameter."
   ]
  },
  {
   "cell_type": "code",
   "execution_count": 0,
   "metadata": {
    "application/vnd.databricks.v1+cell": {
     "cellMetadata": {},
     "inputWidgets": {},
     "nuid": "2476d06c-007d-4a70-851b-900dfb56c27c",
     "showTitle": false,
     "title": ""
    },
    "collapsed": false
   },
   "outputs": [],
   "source": [
    "vcf = {\"teachers\" : \"0 + C(teachers)\", \"students\" : \"0 + C(students)\"}\n",
    "model = sm.MixedLM.from_formula(\"y ~ 1\", groups=\"groups\", vc_formula=vcf, data=df)\n",
    "result = model.fit()\n",
    "result.summary()"
   ]
  }
 ],
 "metadata": {
  "application/vnd.databricks.v1+notebook": {
   "dashboards": [],
   "environmentMetadata": null,
   "language": "python",
   "notebookMetadata": {},
   "notebookName": "lme_crossed",
   "widgets": {}
  },
  "kernelspec": {
   "display_name": "Python 2",
   "language": "python",
   "name": "python2"
  },
  "language_info": {
   "codemirror_mode": {
    "name": "ipython",
    "version": 2
   },
   "file_extension": ".py",
   "mimetype": "text/x-python",
   "name": "python",
   "nbconvert_exporter": "python",
   "pygments_lexer": "ipython2",
   "version": "2.7.8"
  },
  "name": "lme_crossed.ipynb"
 },
 "nbformat": 4,
 "nbformat_minor": 0
}
