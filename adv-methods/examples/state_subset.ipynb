{
 "cells": [
  {
   "cell_type": "markdown",
   "metadata": {
    "application/vnd.databricks.v1+cell": {
     "cellMetadata": {},
     "inputWidgets": {},
     "nuid": "449ed796-39c5-4fb4-9bb2-5f0e104bd33f",
     "showTitle": false,
     "title": ""
    }
   },
   "source": [
    "Medicare payment database - subset by state\n",
    "===========================================\n",
    "\n",
    "This notebook can be used to subset the 2012 medicare provider utilization and payment data by state.\n",
    "\n",
    "The raw data are available here:\n",
    "\n",
    "http://www.cms.gov/Research-Statistics-Data-and-Systems/Statistics-Trends-and-Reports/Medicare-Provider-Charge-Data/Physician-and-Other-Supplier.html\n",
    "\n",
    "The files are downloaded in a zip archive.  After extracting the files, compress the main data file.  We used gzip here, if you compress it in a different way you will need to edit some of the code below."
   ]
  },
  {
   "cell_type": "markdown",
   "metadata": {
    "application/vnd.databricks.v1+cell": {
     "cellMetadata": {},
     "inputWidgets": {},
     "nuid": "677df96b-1176-49cc-a707-2ba3f00edaf8",
     "showTitle": false,
     "title": ""
    }
   },
   "source": [
    "We will use these modules from the standard library."
   ]
  },
  {
   "cell_type": "code",
   "execution_count": 0,
   "metadata": {
    "application/vnd.databricks.v1+cell": {
     "cellMetadata": {},
     "inputWidgets": {},
     "nuid": "bd8d357d-3e57-4656-a297-ea1d96e8e4c7",
     "showTitle": false,
     "title": ""
    },
    "collapsed": false
   },
   "outputs": [],
   "source": [
    "import gzip\n",
    "import os\n",
    "import csv"
   ]
  },
  {
   "cell_type": "markdown",
   "metadata": {
    "application/vnd.databricks.v1+cell": {
     "cellMetadata": {},
     "inputWidgets": {},
     "nuid": "444fc2a3-7d18-4a69-9ee3-16a0502f57f1",
     "showTitle": false,
     "title": ""
    }
   },
   "source": [
    "Choose a state to subset."
   ]
  },
  {
   "cell_type": "code",
   "execution_count": 0,
   "metadata": {
    "application/vnd.databricks.v1+cell": {
     "cellMetadata": {},
     "inputWidgets": {},
     "nuid": "f9e0bc0c-f806-4cf9-8b8a-8b9289a4bfe9",
     "showTitle": false,
     "title": ""
    },
    "collapsed": false
   },
   "outputs": [],
   "source": [
    "state = \"FL\""
   ]
  },
  {
   "cell_type": "markdown",
   "metadata": {
    "application/vnd.databricks.v1+cell": {
     "cellMetadata": {},
     "inputWidgets": {},
     "nuid": "2700e5ec-42e6-473c-bbcd-41aa07d08b4e",
     "showTitle": false,
     "title": ""
    }
   },
   "source": [
    "This should be the name of the data file downloaded from the CMS web site, edit if needed."
   ]
  },
  {
   "cell_type": "code",
   "execution_count": 0,
   "metadata": {
    "application/vnd.databricks.v1+cell": {
     "cellMetadata": {},
     "inputWidgets": {},
     "nuid": "972759d0-08d7-403a-bd6c-e01f4422a5e6",
     "showTitle": false,
     "title": ""
    },
    "collapsed": false
   },
   "outputs": [],
   "source": [
    "fname = \"Medicare-Physician-and-Other-Supplier-PUF-CY2012.txt.gz\""
   ]
  },
  {
   "cell_type": "markdown",
   "metadata": {
    "application/vnd.databricks.v1+cell": {
     "cellMetadata": {},
     "inputWidgets": {},
     "nuid": "7b87fd43-d662-455f-9d34-9b640768fd31",
     "showTitle": false,
     "title": ""
    }
   },
   "source": [
    "Set up a reader for a tab-delimited file.  If you compressed the file using something other than gzip you will need to edit this cell to use the corresponding compressed file reader."
   ]
  },
  {
   "cell_type": "code",
   "execution_count": 0,
   "metadata": {
    "application/vnd.databricks.v1+cell": {
     "cellMetadata": {},
     "inputWidgets": {},
     "nuid": "3419d418-fb7f-4e4d-8fc5-bc9c3e56b1b1",
     "showTitle": false,
     "title": ""
    },
    "collapsed": false
   },
   "outputs": [],
   "source": [
    "fid = gzip.open(fname, 'rt')\n",
    "inp = csv.reader(fid, delimiter=\"\\t\")"
   ]
  },
  {
   "cell_type": "markdown",
   "metadata": {
    "application/vnd.databricks.v1+cell": {
     "cellMetadata": {},
     "inputWidgets": {},
     "nuid": "6baa8d02-63b4-46b2-bd4b-6bc2424ea66d",
     "showTitle": false,
     "title": ""
    }
   },
   "source": [
    "Set up a writer for the state subset file to be created."
   ]
  },
  {
   "cell_type": "code",
   "execution_count": 0,
   "metadata": {
    "application/vnd.databricks.v1+cell": {
     "cellMetadata": {},
     "inputWidgets": {},
     "nuid": "1819fa4b-d44f-46d5-b7f7-157d80e63ea4",
     "showTitle": false,
     "title": ""
    },
    "collapsed": false
   },
   "outputs": [],
   "source": [
    "oname = state + \"-subset.csv.gz\"\n",
    "oid = gzip.open(oname, \"wt\")\n",
    "out = csv.writer(oid)"
   ]
  },
  {
   "cell_type": "markdown",
   "metadata": {
    "application/vnd.databricks.v1+cell": {
     "cellMetadata": {},
     "inputWidgets": {},
     "nuid": "13b9edaf-ea85-4abc-8cb4-fdf3e2377ba7",
     "showTitle": false,
     "title": ""
    }
   },
   "source": [
    "Always include the header."
   ]
  },
  {
   "cell_type": "code",
   "execution_count": 0,
   "metadata": {
    "application/vnd.databricks.v1+cell": {
     "cellMetadata": {},
     "inputWidgets": {},
     "nuid": "12964ab1-69fa-4fc1-bb65-1c08eedb5db1",
     "showTitle": false,
     "title": ""
    },
    "collapsed": false
   },
   "outputs": [],
   "source": [
    "head = next(inp)\n",
    "out.writerow(head)"
   ]
  },
  {
   "cell_type": "markdown",
   "metadata": {
    "application/vnd.databricks.v1+cell": {
     "cellMetadata": {},
     "inputWidgets": {},
     "nuid": "ac5dadb0-e7e8-481f-be83-be4b8d873075",
     "showTitle": false,
     "title": ""
    }
   },
   "source": [
    "Read the rest of the file and write the selected records."
   ]
  },
  {
   "cell_type": "code",
   "execution_count": 0,
   "metadata": {
    "application/vnd.databricks.v1+cell": {
     "cellMetadata": {},
     "inputWidgets": {},
     "nuid": "a5fd0666-8fa1-479a-a12c-be1101339975",
     "showTitle": false,
     "title": ""
    },
    "collapsed": false
   },
   "outputs": [],
   "source": [
    "for line in inp:\n",
    "    if line[11] == state:\n",
    "        out.writerow(line)"
   ]
  },
  {
   "cell_type": "markdown",
   "metadata": {
    "application/vnd.databricks.v1+cell": {
     "cellMetadata": {},
     "inputWidgets": {},
     "nuid": "1f5af896-0690-455a-9622-1b82a714a9fb",
     "showTitle": false,
     "title": ""
    }
   },
   "source": [
    "Clean up."
   ]
  },
  {
   "cell_type": "code",
   "execution_count": 0,
   "metadata": {
    "application/vnd.databricks.v1+cell": {
     "cellMetadata": {},
     "inputWidgets": {},
     "nuid": "ef254023-3e80-49ac-b2e8-c5f74def0926",
     "showTitle": false,
     "title": ""
    },
    "collapsed": false
   },
   "outputs": [],
   "source": [
    "oid.close()\n",
    "fid.close()"
   ]
  }
 ],
 "metadata": {
  "application/vnd.databricks.v1+notebook": {
   "dashboards": [],
   "environmentMetadata": null,
   "language": "python",
   "notebookMetadata": {},
   "notebookName": "state_subset",
   "widgets": {}
  },
  "kernelspec": {
   "display_name": "Python 2",
   "language": "python",
   "name": "python2"
  },
  "language_info": {
   "codemirror_mode": {
    "name": "ipython",
    "version": 2
   },
   "file_extension": ".py",
   "mimetype": "text/x-python",
   "name": "python",
   "nbconvert_exporter": "python",
   "pygments_lexer": "ipython2",
   "version": "2.7.8"
  },
  "name": "state_subset.ipynb"
 },
 "nbformat": 4,
 "nbformat_minor": 0
}
