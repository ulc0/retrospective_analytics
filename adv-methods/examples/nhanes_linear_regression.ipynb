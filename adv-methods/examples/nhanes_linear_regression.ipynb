{
 "cells": [
  {
   "cell_type": "markdown",
   "metadata": {
    "application/vnd.databricks.v1+cell": {
     "cellMetadata": {},
     "inputWidgets": {},
     "nuid": "423fda3a-4cb0-437e-b1c5-e703983b7405",
     "showTitle": false,
     "title": ""
    }
   },
   "source": [
    "NHANES - linear regression analysis\n",
    "===================================\n",
    "\n",
    "This notebook demonstrates a linear regression analysis using data from the National Health and Nutrition Examination Survey (NHANES).\n",
    "\n",
    "The main NHANES web site is [here](http://www.cdc.gov/nchs/nhanes.htm).\n",
    "\n",
    "To run this notebook, you will need to download the data files BMX_G.XPT, BPX_G.XPT, and DEMO_G.XPT from the [NHANES data page](http://www.cdc.gov/nchs/nhanes/nhanes_questionnaires.htm).  You can choose any survey wave for which these data files are available.\n",
    "\n",
    "To read the data files, you will also need the [xport.py](https://pypi.python.org/pypi/xport/0.1.0) module.  Either install the `xport` package, or just unzip the archive, find the `xport.py` file, and place it into your working directory.\n",
    "\n",
    "We begin with the import statements:"
   ]
  },
  {
   "cell_type": "code",
   "execution_count": 0,
   "metadata": {
    "application/vnd.databricks.v1+cell": {
     "cellMetadata": {},
     "inputWidgets": {},
     "nuid": "988bc1dd-b6c9-4535-95c5-78d3b4d8ca5e",
     "showTitle": false,
     "title": ""
    },
    "collapsed": false
   },
   "outputs": [],
   "source": [
    "%matplotlib inline\n",
    "\n",
    "import xport\n",
    "import numpy as np\n",
    "import statsmodels.api as sm\n",
    "import pandas as pd\n",
    "import matplotlib.pyplot as plt\n",
    "from statsmodels.sandbox.predict_functional import predict_functional"
   ]
  },
  {
   "cell_type": "markdown",
   "metadata": {
    "application/vnd.databricks.v1+cell": {
     "cellMetadata": {},
     "inputWidgets": {},
     "nuid": "bbad26de-d920-4bdd-b483-b79415b2ab1a",
     "showTitle": false,
     "title": ""
    }
   },
   "source": [
    "The following function streamlines the process of reading the xport format files."
   ]
  },
  {
   "cell_type": "code",
   "execution_count": 0,
   "metadata": {
    "application/vnd.databricks.v1+cell": {
     "cellMetadata": {},
     "inputWidgets": {},
     "nuid": "462de837-03e1-431e-acb4-54ee671e8ed8",
     "showTitle": false,
     "title": ""
    },
    "collapsed": false
   },
   "outputs": [],
   "source": [
    "def read_xport(fname):\n",
    "    \"\"\"\n",
    "    Returns a DataFrame containing the data contained in the xport file with file name `fname`.\n",
    "    \"\"\"\n",
    "    with xport.XportReader(fname) as reader:\n",
    "        data = [row for row in reader]\n",
    "    data = pd.DataFrame(data)\n",
    "    data = data.set_index(\"SEQN\")\n",
    "    return data"
   ]
  },
  {
   "cell_type": "markdown",
   "metadata": {
    "application/vnd.databricks.v1+cell": {
     "cellMetadata": {},
     "inputWidgets": {},
     "nuid": "be9ee901-4129-4e2d-a5e7-f8866122a259",
     "showTitle": false,
     "title": ""
    }
   },
   "source": [
    "The following cell reads three NHANES data files and merges them to form a single data set.  The merge takes place using the `SEQN` variable as the index, where `SEQN` is the common identifier for subjects across all NHANES data sets."
   ]
  },
  {
   "cell_type": "code",
   "execution_count": 0,
   "metadata": {
    "application/vnd.databricks.v1+cell": {
     "cellMetadata": {},
     "inputWidgets": {},
     "nuid": "a0ec55ba-9bd1-4b35-9765-e017925bdc5f",
     "showTitle": false,
     "title": ""
    },
    "collapsed": false
   },
   "outputs": [],
   "source": [
    "fnames = [\"BMX_G.XPT\", \"BPX_G.XPT\", \"DEMO_G.XPT\"]\n",
    "datasets = [read_xport(x) for x in fnames]\n",
    "nhanes = pd.concat(datasets, axis=1)\n",
    "print(nhanes.shape)"
   ]
  },
  {
   "cell_type": "markdown",
   "metadata": {
    "application/vnd.databricks.v1+cell": {
     "cellMetadata": {},
     "inputWidgets": {},
     "nuid": "cbc4d436-dc72-4416-bdf5-be200b225629",
     "showTitle": false,
     "title": ""
    }
   },
   "source": [
    "These are the variables that we have to work with:"
   ]
  },
  {
   "cell_type": "code",
   "execution_count": 0,
   "metadata": {
    "application/vnd.databricks.v1+cell": {
     "cellMetadata": {},
     "inputWidgets": {},
     "nuid": "d3684fde-bc66-492e-ab9d-8ceccfb38a9c",
     "showTitle": false,
     "title": ""
    },
    "collapsed": false
   },
   "outputs": [],
   "source": [
    "nhanes.columns"
   ]
  },
  {
   "cell_type": "markdown",
   "metadata": {
    "application/vnd.databricks.v1+cell": {
     "cellMetadata": {},
     "inputWidgets": {},
     "nuid": "045a414d-a78d-4a6f-89ed-e52ae58694a0",
     "showTitle": false,
     "title": ""
    }
   },
   "source": [
    "__Initial data checking__\n",
    "\n",
    "Linear regression analysis aims to recover the conditional mean of one variable given the values of one or more predictor variables.  Here we will use systolic blood pressuree (`BPXSY1`) as the outcome variable (dependent variable or response variable), and we will explore several variables that may predict the variation in blood pressure.  \n",
    "\n",
    "It's a good idea to start by checking the distributions of some of the variables in the model.  Immediately we see that there are a number of zeros in the blood pressure column.  We will need to exclude these cases."
   ]
  },
  {
   "cell_type": "code",
   "execution_count": 0,
   "metadata": {
    "application/vnd.databricks.v1+cell": {
     "cellMetadata": {},
     "inputWidgets": {},
     "nuid": "e8821c03-b7b5-4916-9227-1fd614c05256",
     "showTitle": false,
     "title": ""
    },
    "collapsed": false
   },
   "outputs": [],
   "source": [
    "nhanes.BPXSY1.plot(kind='hist')\n",
    "plt.xlabel(\"BPXSY1\")\n",
    "plt.ylabel(\"Frequency\")"
   ]
  },
  {
   "cell_type": "markdown",
   "metadata": {
    "application/vnd.databricks.v1+cell": {
     "cellMetadata": {},
     "inputWidgets": {},
     "nuid": "c464520a-faee-4487-b8e5-269e54879509",
     "showTitle": false,
     "title": ""
    }
   },
   "source": [
    "This is how we select the cases with positive blood pressure:"
   ]
  },
  {
   "cell_type": "code",
   "execution_count": 0,
   "metadata": {
    "application/vnd.databricks.v1+cell": {
     "cellMetadata": {},
     "inputWidgets": {},
     "nuid": "a952d3da-421f-47eb-9f53-9606bb991592",
     "showTitle": false,
     "title": ""
    },
    "collapsed": false
   },
   "outputs": [],
   "source": [
    "ii = nhanes[\"BPXSY1\"] > 0\n",
    "nhanes = nhanes.loc[ii, :]"
   ]
  },
  {
   "cell_type": "markdown",
   "metadata": {
    "application/vnd.databricks.v1+cell": {
     "cellMetadata": {},
     "inputWidgets": {},
     "nuid": "0d60db07-9546-4af8-aca0-dbeb3675913b",
     "showTitle": false,
     "title": ""
    }
   },
   "source": [
    "After excluding the zeros, the distribution of blood pressure is somewhat skewed to the right:"
   ]
  },
  {
   "cell_type": "code",
   "execution_count": 0,
   "metadata": {
    "application/vnd.databricks.v1+cell": {
     "cellMetadata": {},
     "inputWidgets": {},
     "nuid": "f51da83e-c95b-4eae-a218-0c18b948a4cb",
     "showTitle": false,
     "title": ""
    },
    "collapsed": false
   },
   "outputs": [],
   "source": [
    "nhanes.BPXSY1.plot(kind='hist')\n",
    "plt.xlabel(\"BPXSY1\", size=15)\n",
    "plt.ylabel(\"Frequency\", size=15)"
   ]
  },
  {
   "cell_type": "markdown",
   "metadata": {
    "application/vnd.databricks.v1+cell": {
     "cellMetadata": {},
     "inputWidgets": {},
     "nuid": "1df364a3-2415-4353-aed5-f92dc7930ccf",
     "showTitle": false,
     "title": ""
    }
   },
   "source": [
    "It's not generally necessary to transform the dependent variable in a linear regression analysis to have a symmetric distribution.  But if we wish to do so, a generalized log transform (fit by trial and error) gives us approximate symmetry in this case."
   ]
  },
  {
   "cell_type": "code",
   "execution_count": 0,
   "metadata": {
    "application/vnd.databricks.v1+cell": {
     "cellMetadata": {},
     "inputWidgets": {},
     "nuid": "4fadb25f-c686-4d5f-ab9e-e85a9e3ca4b6",
     "showTitle": false,
     "title": ""
    },
    "collapsed": false
   },
   "outputs": [],
   "source": [
    "nhanes[\"BPXSY1_tr\"] = np.log(nhanes[\"BPXSY1\"] - 30) # Generalized log transform\n",
    "nhanes.BPXSY1_tr.plot(kind='hist')\n",
    "plt.xlabel(\"Transformed BPXSY1\", size=15)\n",
    "plt.ylabel(\"Frequency\", size=15)"
   ]
  },
  {
   "cell_type": "markdown",
   "metadata": {
    "application/vnd.databricks.v1+cell": {
     "cellMetadata": {},
     "inputWidgets": {},
     "nuid": "2325a74e-f148-46bc-ab38-5e5771f50e30",
     "showTitle": false,
     "title": ""
    }
   },
   "source": [
    "Since the units of the transformed scale aren't very meaningful, we will convert to Z-scores."
   ]
  },
  {
   "cell_type": "code",
   "execution_count": 0,
   "metadata": {
    "application/vnd.databricks.v1+cell": {
     "cellMetadata": {},
     "inputWidgets": {},
     "nuid": "0ae7066f-dfb1-4263-ae01-badd81695c2c",
     "showTitle": false,
     "title": ""
    },
    "collapsed": false
   },
   "outputs": [],
   "source": [
    "tr_mn = nhanes[\"BPXSY1_tr\"].mean()\n",
    "tr_sd = nhanes[\"BPXSY1_tr\"].std()\n",
    "nhanes[\"BPXSY1_trz\"] = (nhanes.BPXSY1_tr - tr_mn) / tr_sd\n",
    "\n",
    "nhanes.BPXSY1_trz.plot(kind='hist')\n",
    "plt.xlabel(\"Transformed BPXSY1 Z-score\", size=15)\n",
    "plt.ylabel(\"Frequency\", size=15)"
   ]
  },
  {
   "cell_type": "markdown",
   "metadata": {
    "application/vnd.databricks.v1+cell": {
     "cellMetadata": {},
     "inputWidgets": {},
     "nuid": "893133f2-64d7-4ba3-9d15-282b0c06da8d",
     "showTitle": false,
     "title": ""
    }
   },
   "source": [
    "The categorical variables are coded with numerical labels, which are hard to remember.  So next we replace the numeric codes with string labels."
   ]
  },
  {
   "cell_type": "code",
   "execution_count": 0,
   "metadata": {
    "application/vnd.databricks.v1+cell": {
     "cellMetadata": {},
     "inputWidgets": {},
     "nuid": "2f3f37b5-9ffd-42f3-b9cd-ec0b370f48ee",
     "showTitle": false,
     "title": ""
    },
    "collapsed": false
   },
   "outputs": [],
   "source": [
    "nhanes[\"RIAGENDR\"] = nhanes[\"RIAGENDR\"].replace({1: \"Male\", 2: \"Female\"})\n",
    "nhanes[\"RIDRETH1\"] = nhanes[\"RIDRETH1\"].replace({1: \"MXA\", 2: \"OHS\", 3: \"NHW\", 4: \"NHB\", 5: \"OTH\"})\n",
    "nhanes[\"DMDEDUC2\"] = nhanes[\"DMDEDUC2\"].replace({0: np.nan, 1: \"<9gr\", 2: \"9-11gr\", 3: \"HS\", 4: \"Some college\", 5: \"College\", 7: np.nan, 9: np.nan})"
   ]
  },
  {
   "cell_type": "markdown",
   "metadata": {
    "application/vnd.databricks.v1+cell": {
     "cellMetadata": {},
     "inputWidgets": {},
     "nuid": "8770930f-ab70-40b8-91f3-055e9ef553d1",
     "showTitle": false,
     "title": ""
    }
   },
   "source": [
    "__Fitting a basic regression model__\n",
    "\n",
    "Here is a basic linear regression model, relating the original (untransformed) systolic blood pressure to age, gender, and BMI."
   ]
  },
  {
   "cell_type": "code",
   "execution_count": 0,
   "metadata": {
    "application/vnd.databricks.v1+cell": {
     "cellMetadata": {},
     "inputWidgets": {},
     "nuid": "aba8a1ee-4062-465a-9294-6cccca831a85",
     "showTitle": false,
     "title": ""
    },
    "collapsed": false
   },
   "outputs": [],
   "source": [
    "fml = \"BPXSY1 ~ RIDAGEYR + RIAGENDR + BMXBMI\"\n",
    "model1 = sm.OLS.from_formula(fml, nhanes)\n",
    "result1 = model1.fit()\n",
    "print(result1.summary())"
   ]
  },
  {
   "cell_type": "markdown",
   "metadata": {
    "application/vnd.databricks.v1+cell": {
     "cellMetadata": {},
     "inputWidgets": {},
     "nuid": "0e19162d-caf7-4347-b59a-20b22aa288e3",
     "showTitle": false,
     "title": ""
    }
   },
   "source": [
    "Here is the same model with gender coded using males rather than females as the reference category."
   ]
  },
  {
   "cell_type": "code",
   "execution_count": 0,
   "metadata": {
    "application/vnd.databricks.v1+cell": {
     "cellMetadata": {},
     "inputWidgets": {},
     "nuid": "51d3e667-636f-4be5-bea1-8ca62e40f390",
     "showTitle": false,
     "title": ""
    },
    "collapsed": false
   },
   "outputs": [],
   "source": [
    "fml = \"BPXSY1 ~ RIDAGEYR + C(RIAGENDR, Treatment(reference='Male')) + BMXBMI\"\n",
    "model2 = sm.OLS.from_formula(fml, nhanes)\n",
    "result2 = model2.fit()\n",
    "print(result2.summary())"
   ]
  },
  {
   "cell_type": "markdown",
   "metadata": {
    "application/vnd.databricks.v1+cell": {
     "cellMetadata": {},
     "inputWidgets": {},
     "nuid": "9ffac068-f935-46ef-a163-19c16b25cdb6",
     "showTitle": false,
     "title": ""
    }
   },
   "source": [
    "A scatterplot of the residuals on the fitted values is a very common way to identify certain unusual features of a fitted regression model.  Here we see that the variance increases moderately with the mean.  This is shown by the plot, and also by the numerical summaries printed below.  We might gain a bit of power by using generalized least squares (GLS), but won't do that here."
   ]
  },
  {
   "cell_type": "code",
   "execution_count": 0,
   "metadata": {
    "application/vnd.databricks.v1+cell": {
     "cellMetadata": {},
     "inputWidgets": {},
     "nuid": "54c676d5-c68d-46b5-8319-80c35d033787",
     "showTitle": false,
     "title": ""
    },
    "collapsed": false
   },
   "outputs": [],
   "source": [
    "plt.plot(result1.fittedvalues, result1.resid, 'o', alpha=0.3)\n",
    "plt.xlabel(\"Fitted values\", size=15)\n",
    "plt.ylabel(\"Residuals\", size=15)\n",
    "\n",
    "print(np.std(result2.resid[result1.fittedvalues < 120]))\n",
    "print(np.std(result2.resid[result1.fittedvalues > 120]))"
   ]
  },
  {
   "cell_type": "markdown",
   "metadata": {
    "application/vnd.databricks.v1+cell": {
     "cellMetadata": {},
     "inputWidgets": {},
     "nuid": "edc75ca6-08b5-4f84-b053-40519de4e83f",
     "showTitle": false,
     "title": ""
    }
   },
   "source": [
    "__Fitting a more complex regression model__\n",
    "\n",
    "Here is a more complex model, adding ethnicity and an age by gender interaction."
   ]
  },
  {
   "cell_type": "code",
   "execution_count": 0,
   "metadata": {
    "application/vnd.databricks.v1+cell": {
     "cellMetadata": {},
     "inputWidgets": {},
     "nuid": "9e700802-79ba-40fb-bff9-d5a9cd458e88",
     "showTitle": false,
     "title": ""
    },
    "collapsed": false
   },
   "outputs": [],
   "source": [
    "fml = \"BPXSY1 ~ RIDAGEYR + RIAGENDR + RIDRETH1 + BMXBMI + RIDAGEYR*RIAGENDR\"\n",
    "model3 = sm.OLS.from_formula(fml, nhanes)\n",
    "result3 = model3.fit()\n",
    "print(result3.summary())"
   ]
  },
  {
   "cell_type": "markdown",
   "metadata": {
    "application/vnd.databricks.v1+cell": {
     "cellMetadata": {},
     "inputWidgets": {},
     "nuid": "7a6cd86e-53ce-4c6d-a957-9e78db87a806",
     "showTitle": false,
     "title": ""
    }
   },
   "source": [
    "Ethnicity is coded in terms of four \"indicator variables\", each contrasting a given ethnic group relative to the Mexican American group (MXA).  We see that only the NHB (non-Hispanic black) subgroup has a strongly different systolic blood pressure effect compared to the Mexican American subgroup.  Below we will show how to obtain different subgroup comparisons.  \n",
    "\n",
    "The gender by year interaction indicates that females have a faster increase of transformed systolic blood pressure with age compared to males (although they have a lower blood pressure throughout the range of the data).\n",
    "\n",
    "Next we fit the same regression model using a different reference category (NHW) for the ethnicity variable.  Note that this is exactly the same model as fit in the cell above, so goodness of fit measures like the R-squared will not change.  By using the NHW (non-Hispanic white) subgroup as the reference category, the effects of the other ethnic categories are interpreted as comparisons relative to that group."
   ]
  },
  {
   "cell_type": "code",
   "execution_count": 0,
   "metadata": {
    "application/vnd.databricks.v1+cell": {
     "cellMetadata": {},
     "inputWidgets": {},
     "nuid": "dfdfb204-eea0-4dc4-91eb-19d9652b0e89",
     "showTitle": false,
     "title": ""
    },
    "collapsed": false
   },
   "outputs": [],
   "source": [
    "fml = \"BPXSY1 ~ RIDAGEYR + RIAGENDR + C(RIDRETH1, Treatment(reference='NHW')) + BMXBMI + RIDAGEYR*RIAGENDR\"\n",
    "model4 = sm.OLS.from_formula(fml, nhanes)\n",
    "result4 = model4.fit()\n",
    "print(result4.summary())"
   ]
  },
  {
   "cell_type": "markdown",
   "metadata": {
    "application/vnd.databricks.v1+cell": {
     "cellMetadata": {},
     "inputWidgets": {},
     "nuid": "4b9f3af4-39d7-4239-ab82-0b31c4992012",
     "showTitle": false,
     "title": ""
    }
   },
   "source": [
    "As noted above, the NHB ethnic group has higher mean BMI than the NHW ethnic group (see next cell), but this does not explain all of the inreased blood pressure that is observed when comparing these two groups, beacuse the effect for NHB ethnicity is still strong even when BMI is included in the model."
   ]
  },
  {
   "cell_type": "code",
   "execution_count": 0,
   "metadata": {
    "application/vnd.databricks.v1+cell": {
     "cellMetadata": {},
     "inputWidgets": {},
     "nuid": "1f07c10f-994a-4069-ad09-4940554e196a",
     "showTitle": false,
     "title": ""
    },
    "collapsed": false
   },
   "outputs": [],
   "source": [
    "nhanes.groupby(\"RIDRETH1\").agg({\"BMXBMI\": np.mean})"
   ]
  },
  {
   "cell_type": "markdown",
   "metadata": {
    "application/vnd.databricks.v1+cell": {
     "cellMetadata": {},
     "inputWidgets": {},
     "nuid": "7e4247ea-41d5-4ba2-8407-ca8678f6cc4f",
     "showTitle": false,
     "title": ""
    }
   },
   "source": [
    "Next we plot the fitted distributions of female subjects in two ethnic subgroups, with all quantitative variables in the model held fixed at their mean values.  This illustrates that a regression effect that is very statistically significant may be a weak predictor at the level of single individuals."
   ]
  },
  {
   "cell_type": "code",
   "execution_count": 0,
   "metadata": {
    "application/vnd.databricks.v1+cell": {
     "cellMetadata": {},
     "inputWidgets": {},
     "nuid": "fdb9ac94-da7b-4cd6-9c5a-23cc0e9d9d5c",
     "showTitle": false,
     "title": ""
    },
    "collapsed": false
   },
   "outputs": [],
   "source": [
    "nhb = nhanes.mean(0)\n",
    "nhb = pd.DataFrame(nhb).T # overcomes Statsmodels bug\n",
    "nhb[\"RIDRETH1\"] = \"NHB\"\n",
    "nhb[\"RIAGENDR\"] = \"Female\"\n",
    "\n",
    "nhw = nhb.copy()\n",
    "nhw[\"RIDRETH1\"] = \"NHW\"\n",
    "\n",
    "# The fitted means of the two ethnic groups.\n",
    "nhb_lp = result4.predict(exog=nhb)\n",
    "nhw_lp = result4.predict(exog=nhw)\n",
    "\n",
    "# The fitted standard deviation (common to all ethnic groups)\n",
    "sd = np.sqrt(result4.scale)\n",
    "\n",
    "from scipy.stats.distributions import norm\n",
    "\n",
    "grid = np.linspace(70, 170, 100)\n",
    "nhw_dens = norm.pdf(grid, loc=nhw_lp, scale=sd)\n",
    "nhb_dens = norm.pdf(grid, loc=nhb_lp, scale=sd)\n",
    "\n",
    "plt.clf()\n",
    "ax = plt.axes([0.1, 0.1, 0.72, 0.8])\n",
    "plt.plot(grid, nhb_dens, '-', lw=3, label=\"NHB\", alpha=0.5)\n",
    "plt.plot(grid, nhw_dens, '-', lw=3, label=\"NHW\", alpha=0.5)\n",
    "ha, lb = ax.get_legend_handles_labels()\n",
    "leg = plt.figlegend(ha, lb, \"center right\")\n",
    "leg.draw_frame(False)\n",
    "plt.xlabel(\"Systolic blood pressure\", size=15)\n",
    "_ = plt.ylabel(\"Density\", size=15)"
   ]
  },
  {
   "cell_type": "markdown",
   "metadata": {
    "application/vnd.databricks.v1+cell": {
     "cellMetadata": {},
     "inputWidgets": {},
     "nuid": "a63a3cec-5298-4777-9d6c-bff826c02e36",
     "showTitle": false,
     "title": ""
    }
   },
   "source": [
    "Turning now to the age by gender interaction, it is helpful to plot the fitted blood pressure against age for females and for males.  The interaction allows the slopes and intercepts of these two lines to differ by gender, as is illustrated clearly in the plot.  These fitted values estimate the mean blood pressure for people with a given gender, at a given age, with BMI held fixed at the mean value, and the ethnicity variable fixed at `MXA` (Mexican American)."
   ]
  },
  {
   "cell_type": "code",
   "execution_count": 0,
   "metadata": {
    "application/vnd.databricks.v1+cell": {
     "cellMetadata": {},
     "inputWidgets": {},
     "nuid": "4d9200c9-1a86-4025-8334-4741cbf62ea0",
     "showTitle": false,
     "title": ""
    },
    "collapsed": false
   },
   "outputs": [],
   "source": [
    "values = {\"RIDRETH1\" : \"MXA\", \"RIAGENDR\" : \"Female\"}\n",
    "summaries = {\"BMXBMI\" : np.mean}\n",
    "pr_f, cb_f, xv_f = predict_functional(result4, \"RIDAGEYR\", values=values, summaries=summaries)\n",
    "\n",
    "values[\"RIAGENDR\"] = \"Male\"\n",
    "pr_m, cb_m, xv_m = predict_functional(result4, \"RIDAGEYR\", values=values, summaries=summaries)\n",
    "\n",
    "plt.clf()\n",
    "ax = plt.axes([0.1, 0.1, 0.8, 0.8])\n",
    "plt.plot(xv_f, pr_f, '-', lw=3, label=\"Female\", alpha=0.6)\n",
    "plt.plot(xv_m, pr_m, '-', lw=3, label=\"Male\", alpha=0.6)\n",
    "ha, lb = ax.get_legend_handles_labels()\n",
    "leg = plt.figlegend(ha, lb, \"upper center\", ncol=2)\n",
    "leg.draw_frame(False)\n",
    "plt.xlabel(\"Age\", size=15)\n",
    "plt.ylabel(\"Systolic BP\", size=15)"
   ]
  },
  {
   "cell_type": "markdown",
   "metadata": {
    "application/vnd.databricks.v1+cell": {
     "cellMetadata": {},
     "inputWidgets": {},
     "nuid": "f9e4cf39-0ccf-466d-97c2-fa131ecc62e9",
     "showTitle": false,
     "title": ""
    }
   },
   "source": [
    "__Capturing nonlinear effects with splines__\n",
    "\n",
    "The effects of age and BMI are unlikely to be linear.  We can capture nonlinear effects by using splines.  The analysis in the cell below uses splines to capture a non-linear effect of age.  The effect is allowed to differ by gender.  For models with interactions, it is usually more relevant to focus on the fitted values, or on contrasts involving the fitted values, rather than on the coefficients.  The coefficients can be tricky to interpret correctly."
   ]
  },
  {
   "cell_type": "code",
   "execution_count": 0,
   "metadata": {
    "application/vnd.databricks.v1+cell": {
     "cellMetadata": {},
     "inputWidgets": {},
     "nuid": "2684c74e-336f-45a5-9ab0-0579b51b7217",
     "showTitle": false,
     "title": ""
    },
    "collapsed": false
   },
   "outputs": [],
   "source": [
    "fml = \"BPXSY1 ~ bs(RIDAGEYR, df=4) + RIAGENDR + RIDRETH1 + BMXBMI + bs(RIDAGEYR, df=4)*RIAGENDR\"\n",
    "model5 = sm.OLS.from_formula(fml, nhanes)\n",
    "result5 = model5.fit()\n",
    "\n",
    "values = {\"RIDRETH1\" : \"MXA\", \"RIAGENDR\" : \"Female\"}\n",
    "summaries = {\"BMXBMI\" : np.mean}\n",
    "pr_f, cb_f, xv_f = predict_functional(result5, \"RIDAGEYR\", values=values, summaries=summaries)\n",
    "values[\"RIAGENDR\"] = \"Male\"\n",
    "pr_m, cb_m, xv_m = predict_functional(result5, \"RIDAGEYR\", values=values, summaries=summaries)\n",
    "\n",
    "plt.clf()\n",
    "ax = plt.axes([0.1, 0.1, 0.8, 0.8])\n",
    "plt.plot(xv_f, pr_f, '-', lw=3, label=\"Female\", alpha=0.6)\n",
    "plt.plot(xv_m, pr_m, '-', lw=3, label=\"Male\", alpha=0.6)\n",
    "ha, lb = ax.get_legend_handles_labels()\n",
    "leg = plt.figlegend(ha, lb, \"upper center\", ncol=2)\n",
    "leg.draw_frame(False)\n",
    "plt.xlabel(\"Age\", size=15)\n",
    "plt.ylabel(\"Systolic BP\", size=15)"
   ]
  },
  {
   "cell_type": "markdown",
   "metadata": {
    "application/vnd.databricks.v1+cell": {
     "cellMetadata": {},
     "inputWidgets": {},
     "nuid": "3d1c1884-79e9-4806-bfbc-2022e9ce50e5",
     "showTitle": false,
     "title": ""
    }
   },
   "source": [
    "__Interactions among categorical variables__\n",
    "\n",
    "When we have an interaction between two categorical variables, every combination of levels in the two variables has its own fitted mean."
   ]
  },
  {
   "cell_type": "code",
   "execution_count": 0,
   "metadata": {
    "application/vnd.databricks.v1+cell": {
     "cellMetadata": {},
     "inputWidgets": {},
     "nuid": "13643de6-010a-4ca4-968e-d45fa972d3a8",
     "showTitle": false,
     "title": ""
    },
    "collapsed": false
   },
   "outputs": [],
   "source": [
    "fml = \"BPXSY1 ~ RIDAGEYR + RIAGENDR + RIDRETH1 + BMXBMI + DMDEDUC2*RIDRETH1\"\n",
    "model6 = sm.OLS.from_formula(fml, nhanes)\n",
    "result6 = model6.fit()\n",
    "\n",
    "# Take two rows to work around bug #1881 in Statsmodels \n",
    "df = nhanes.iloc[0:2, :].copy()\n",
    "df[\"BMXBMI\"] = nhanes.BMXBMI.mean()\n",
    "df[\"RIAGENDR\"] = \"Female\"\n",
    "df[\"RIDAGEYR\"] = nhanes.RIDAGEYR.mean()\n",
    "\n",
    "eth_levels = [x for x in nhanes.RIDRETH1.unique() if pd.notnull(x)]\n",
    "educ_levels = [x for x in nhanes.DMDEDUC2.unique() if pd.notnull(x)]\n",
    "\n",
    "table = pd.DataFrame(index=eth_levels, columns=educ_levels, dtype=np.float64)\n",
    "\n",
    "for eth in eth_levels:\n",
    "    for educ in educ_levels:\n",
    "        df[\"RIDRETH1\"] = eth\n",
    "        df[\"DMDEDUC2\"] = educ\n",
    "        mn = result6.predict(exog=df)\n",
    "        table.loc[eth, educ] = mn[0]\n",
    "        \n",
    "# Reorder the columns in a meaningful way before printing\n",
    "table = table[[\"<9gr\", \"9-11gr\", \"HS\", \"Some college\", \"College\"]]\n",
    "print(table)"
   ]
  },
  {
   "cell_type": "markdown",
   "metadata": {
    "application/vnd.databricks.v1+cell": {
     "cellMetadata": {},
     "inputWidgets": {},
     "nuid": "083ed8ce-0164-4ae3-9eb9-cbe1b176fe48",
     "showTitle": false,
     "title": ""
    }
   },
   "source": [
    "### Exercises\n",
    "\n",
    "* Use regression analysis to assess whether weight and/or height may be associated with blood pressure even after controlling for BMI (note that BMI is a function of weight and height).\n",
    "\n",
    "* Is there any evidence of a BMI x gender interaction, a BMI x age interaction, or a BMI x gender x age interaction?  If so, how would these be interpreted?\n",
    "\n",
    "* There is a second systolic blood pressure measurement in the dataset.  If you average the two measures and use the average as an outcome in the analyses above, do the results change in any important ways?"
   ]
  }
 ],
 "metadata": {
  "application/vnd.databricks.v1+notebook": {
   "dashboards": [],
   "environmentMetadata": null,
   "language": "python",
   "notebookMetadata": {},
   "notebookName": "nhanes_linear_regression",
   "widgets": {}
  },
  "kernelspec": {
   "display_name": "Python 2",
   "language": "python",
   "name": "python2"
  },
  "language_info": {
   "codemirror_mode": {
    "name": "ipython",
    "version": 2
   },
   "file_extension": ".py",
   "mimetype": "text/x-python",
   "name": "python",
   "nbconvert_exporter": "python",
   "pygments_lexer": "ipython2",
   "version": "2.7.8"
  },
  "name": "nhanes_linear_regression.ipynb"
 },
 "nbformat": 4,
 "nbformat_minor": 0
}
