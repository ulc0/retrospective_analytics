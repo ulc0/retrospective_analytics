{
 "cells": [
  {
   "cell_type": "markdown",
<<<<<<< Updated upstream
   "metadata": {},
=======
   "metadata": {
    "application/vnd.databricks.v1+cell": {
     "cellMetadata": {},
     "inputWidgets": {},
     "nuid": "d6588930-810e-4be5-9dd9-7e44ab4597a5",
     "showTitle": false,
     "title": ""
    }
   },
>>>>>>> Stashed changes
   "source": [
    "Python data structures\n",
    "============\n",
    "\n",
    "When working with data in Python, you will be using data structures from core Python as well as from several different libraries (especially Numpy and Pandas).  Indexing and slicing operations for these data structures are fairly straightforward, but there are a few quirks to be aware of.  This notebook provides a brief overview of core Python lists and dictionaries, Numpy `ndarrays`, and Pandas `Series` and `DataFrame` objects."
   ]
  },
  {
   "cell_type": "code",
<<<<<<< Updated upstream
   "execution_count": 1,
   "metadata": {
=======
   "execution_count": 0,
   "metadata": {
    "application/vnd.databricks.v1+cell": {
     "cellMetadata": {},
     "inputWidgets": {},
     "nuid": "2d4315a8-b056-4b46-b4fe-c266a46efeb3",
     "showTitle": false,
     "title": ""
    },
>>>>>>> Stashed changes
    "collapsed": false
   },
   "outputs": [],
   "source": [
    "import numpy as np\n",
    "import pandas as pd"
   ]
  },
  {
   "cell_type": "markdown",
<<<<<<< Updated upstream
   "metadata": {},
=======
   "metadata": {
    "application/vnd.databricks.v1+cell": {
     "cellMetadata": {},
     "inputWidgets": {},
     "nuid": "8b46dcb7-6676-411d-8c45-994001e66b71",
     "showTitle": false,
     "title": ""
    }
   },
>>>>>>> Stashed changes
   "source": [
    "### One-dimensional data structures"
   ]
  },
  {
   "cell_type": "markdown",
<<<<<<< Updated upstream
   "metadata": {},
=======
   "metadata": {
    "application/vnd.databricks.v1+cell": {
     "cellMetadata": {},
     "inputWidgets": {},
     "nuid": "59345f9f-8d47-49b8-941e-fac931bc14e9",
     "showTitle": false,
     "title": ""
    }
   },
>>>>>>> Stashed changes
   "source": [
    "Here is a core Python list.  These lists only allow position-based indexing.  Note that the first index is `0`."
   ]
  },
  {
   "cell_type": "code",
<<<<<<< Updated upstream
   "execution_count": 2,
   "metadata": {
    "collapsed": false
   },
   "outputs": [
    {
     "name": "stdout",
     "output_type": "stream",
     "text": [
      "3\n"
     ]
    }
   ],
=======
   "execution_count": 0,
   "metadata": {
    "application/vnd.databricks.v1+cell": {
     "cellMetadata": {},
     "inputWidgets": {},
     "nuid": "004b0a33-1210-4730-a574-b6f111b43956",
     "showTitle": false,
     "title": ""
    },
    "collapsed": false
   },
   "outputs": [],
>>>>>>> Stashed changes
   "source": [
    "x = [1, 3, 2]\n",
    "print(x[1])"
   ]
  },
  {
   "cell_type": "markdown",
<<<<<<< Updated upstream
   "metadata": {},
=======
   "metadata": {
    "application/vnd.databricks.v1+cell": {
     "cellMetadata": {},
     "inputWidgets": {},
     "nuid": "75daaa1b-c517-4600-b089-14049c9f6301",
     "showTitle": false,
     "title": ""
    }
   },
>>>>>>> Stashed changes
   "source": [
    "Here is a core Python dictionary.  Dictionaries only allow label-based indexing (the labels are called \"keys\" in this setting)."
   ]
  },
  {
   "cell_type": "code",
<<<<<<< Updated upstream
   "execution_count": 3,
   "metadata": {
    "collapsed": false
   },
   "outputs": [
    {
     "name": "stdout",
     "output_type": "stream",
     "text": [
      "-1\n"
     ]
    }
   ],
=======
   "execution_count": 0,
   "metadata": {
    "application/vnd.databricks.v1+cell": {
     "cellMetadata": {},
     "inputWidgets": {},
     "nuid": "07610ef0-62bf-40d7-af81-d8329771f7ef",
     "showTitle": false,
     "title": ""
    },
    "collapsed": false
   },
   "outputs": [],
>>>>>>> Stashed changes
   "source": [
    "x = {\"a\": 25, \"b\": -1, \"c\": 0}\n",
    "print(x[\"b\"])"
   ]
  },
  {
   "cell_type": "markdown",
<<<<<<< Updated upstream
   "metadata": {},
=======
   "metadata": {
    "application/vnd.databricks.v1+cell": {
     "cellMetadata": {},
     "inputWidgets": {},
     "nuid": "ff5abcf6-5385-46e3-9ff2-cf3e1adaa7f5",
     "showTitle": false,
     "title": ""
    }
   },
>>>>>>> Stashed changes
   "source": [
    "Here is a Pandas `Series` (a one-dimensional homogeneous data structure)."
   ]
  },
  {
   "cell_type": "code",
<<<<<<< Updated upstream
   "execution_count": 4,
   "metadata": {
    "collapsed": false
   },
   "outputs": [
    {
     "name": "stdout",
     "output_type": "stream",
     "text": [
      "a     3\n",
      "b     1\n",
      "c     7\n",
      "d    99\n",
      "e     0\n",
      "dtype: int64\n"
     ]
    }
   ],
=======
   "execution_count": 0,
   "metadata": {
    "application/vnd.databricks.v1+cell": {
     "cellMetadata": {},
     "inputWidgets": {},
     "nuid": "bba8e1ad-5567-4e0f-88d0-7082a8575805",
     "showTitle": false,
     "title": ""
    },
    "collapsed": false
   },
   "outputs": [],
>>>>>>> Stashed changes
   "source": [
    "x = pd.Series([3, 1, 7, 99, 0], index=[\"a\", \"b\", \"c\", \"d\", \"e\"])\n",
    "print(x)"
   ]
  },
  {
   "cell_type": "markdown",
<<<<<<< Updated upstream
   "metadata": {},
=======
   "metadata": {
    "application/vnd.databricks.v1+cell": {
     "cellMetadata": {},
     "inputWidgets": {},
     "nuid": "2a833a96-1600-4d38-8fd1-9f350c904312",
     "showTitle": false,
     "title": ""
    }
   },
>>>>>>> Stashed changes
   "source": [
    "Pandas Series allow label-based indexing, here are three equivalent approaches:"
   ]
  },
  {
   "cell_type": "code",
<<<<<<< Updated upstream
   "execution_count": 5,
   "metadata": {
    "collapsed": false
   },
   "outputs": [
    {
     "name": "stdout",
     "output_type": "stream",
     "text": [
      "1\n"
     ]
    }
   ],
=======
   "execution_count": 0,
   "metadata": {
    "application/vnd.databricks.v1+cell": {
     "cellMetadata": {},
     "inputWidgets": {},
     "nuid": "132ac244-ce99-431c-8876-400ac76a63cd",
     "showTitle": false,
     "title": ""
    },
    "collapsed": false
   },
   "outputs": [],
>>>>>>> Stashed changes
   "source": [
    "print(x[\"b\"])"
   ]
  },
  {
   "cell_type": "code",
<<<<<<< Updated upstream
   "execution_count": 6,
   "metadata": {
    "collapsed": false
   },
   "outputs": [
    {
     "name": "stdout",
     "output_type": "stream",
     "text": [
      "1\n"
     ]
    }
   ],
=======
   "execution_count": 0,
   "metadata": {
    "application/vnd.databricks.v1+cell": {
     "cellMetadata": {},
     "inputWidgets": {},
     "nuid": "8a5da0d6-b452-4003-be19-611853823530",
     "showTitle": false,
     "title": ""
    },
    "collapsed": false
   },
   "outputs": [],
>>>>>>> Stashed changes
   "source": [
    "print(x.loc[\"b\"])"
   ]
  },
  {
   "cell_type": "code",
<<<<<<< Updated upstream
   "execution_count": 7,
   "metadata": {
    "collapsed": false
   },
   "outputs": [
    {
     "name": "stdout",
     "output_type": "stream",
     "text": [
      "1\n"
     ]
    }
   ],
=======
   "execution_count": 0,
   "metadata": {
    "application/vnd.databricks.v1+cell": {
     "cellMetadata": {},
     "inputWidgets": {},
     "nuid": "ed4cf0f1-8866-4c36-9b80-7ed537bb7c8b",
     "showTitle": false,
     "title": ""
    },
    "collapsed": false
   },
   "outputs": [],
>>>>>>> Stashed changes
   "source": [
    "print(x.b)"
   ]
  },
  {
   "cell_type": "markdown",
<<<<<<< Updated upstream
   "metadata": {},
   "source": [
    "Pandas Series also allow position-based indexing: "
=======
   "metadata": {
    "application/vnd.databricks.v1+cell": {
     "cellMetadata": {},
     "inputWidgets": {},
     "nuid": "33f1f424-dd24-4e09-870b-80761f2d1f3b",
     "showTitle": false,
     "title": ""
    }
   },
   "source": [
    "Pandas Series also allow position-based indexing:"
>>>>>>> Stashed changes
   ]
  },
  {
   "cell_type": "code",
<<<<<<< Updated upstream
   "execution_count": 8,
   "metadata": {
    "collapsed": false
   },
   "outputs": [
    {
     "name": "stdout",
     "output_type": "stream",
     "text": [
      "1\n"
     ]
    }
   ],
=======
   "execution_count": 0,
   "metadata": {
    "application/vnd.databricks.v1+cell": {
     "cellMetadata": {},
     "inputWidgets": {},
     "nuid": "e130d253-8848-48ae-8e60-6c602845b38e",
     "showTitle": false,
     "title": ""
    },
    "collapsed": false
   },
   "outputs": [],
>>>>>>> Stashed changes
   "source": [
    "print(x.iloc[1])"
   ]
  },
  {
   "cell_type": "code",
<<<<<<< Updated upstream
   "execution_count": 9,
   "metadata": {
    "collapsed": false
   },
   "outputs": [
    {
     "name": "stdout",
     "output_type": "stream",
     "text": [
      "99\n"
     ]
    }
   ],
=======
   "execution_count": 0,
   "metadata": {
    "application/vnd.databricks.v1+cell": {
     "cellMetadata": {},
     "inputWidgets": {},
     "nuid": "0a310e5c-c8a2-4ab5-9224-b1577d5577e9",
     "showTitle": false,
     "title": ""
    },
    "collapsed": false
   },
   "outputs": [],
>>>>>>> Stashed changes
   "source": [
    "print(x.iloc[-2])"
   ]
  },
  {
   "cell_type": "markdown",
<<<<<<< Updated upstream
   "metadata": {},
=======
   "metadata": {
    "application/vnd.databricks.v1+cell": {
     "cellMetadata": {},
     "inputWidgets": {},
     "nuid": "828c24ce-fe49-43f5-87dd-5816cb5ba03c",
     "showTitle": false,
     "title": ""
    }
   },
>>>>>>> Stashed changes
   "source": [
    "Another Pandas Series:"
   ]
  },
  {
   "cell_type": "code",
<<<<<<< Updated upstream
   "execution_count": 10,
   "metadata": {
    "collapsed": false
   },
   "outputs": [
    {
     "name": "stdout",
     "output_type": "stream",
     "text": [
      "b     5\n",
      "e    13\n",
      "f     7\n",
      "dtype: int64\n"
     ]
    }
   ],
=======
   "execution_count": 0,
   "metadata": {
    "application/vnd.databricks.v1+cell": {
     "cellMetadata": {},
     "inputWidgets": {},
     "nuid": "cd5353a4-a010-4352-b238-59c61369b08c",
     "showTitle": false,
     "title": ""
    },
    "collapsed": false
   },
   "outputs": [],
>>>>>>> Stashed changes
   "source": [
    "y = pd.Series([5, 13, 7], index=[\"b\", \"e\", \"f\"])\n",
    "print(y)"
   ]
  },
  {
   "cell_type": "markdown",
<<<<<<< Updated upstream
   "metadata": {},
   "source": [
    "Two Series can be added (and subtracted, etc.).  Note that if a position is missing in either summand, the result is `NaN`. "
=======
   "metadata": {
    "application/vnd.databricks.v1+cell": {
     "cellMetadata": {},
     "inputWidgets": {},
     "nuid": "b8f09495-9af1-4f22-bf1b-b08f300685d2",
     "showTitle": false,
     "title": ""
    }
   },
   "source": [
    "Two Series can be added (and subtracted, etc.).  Note that if a position is missing in either summand, the result is `NaN`."
>>>>>>> Stashed changes
   ]
  },
  {
   "cell_type": "code",
<<<<<<< Updated upstream
   "execution_count": 11,
   "metadata": {
    "collapsed": false
   },
   "outputs": [
    {
     "name": "stdout",
     "output_type": "stream",
     "text": [
      "a   NaN\n",
      "b     6\n",
      "c   NaN\n",
      "d   NaN\n",
      "e    13\n",
      "f   NaN\n",
      "dtype: float64\n"
     ]
    }
   ],
=======
   "execution_count": 0,
   "metadata": {
    "application/vnd.databricks.v1+cell": {
     "cellMetadata": {},
     "inputWidgets": {},
     "nuid": "db7d3ab1-10d7-4f52-8cf0-726801e66039",
     "showTitle": false,
     "title": ""
    },
    "collapsed": false
   },
   "outputs": [],
>>>>>>> Stashed changes
   "source": [
    "print(x + y)"
   ]
  },
  {
   "cell_type": "code",
<<<<<<< Updated upstream
   "execution_count": 12,
   "metadata": {
    "collapsed": false
   },
   "outputs": [
    {
     "data": {
      "text/plain": [
       "a   NaN\n",
       "b     6\n",
       "c   NaN\n",
       "d   NaN\n",
       "e    13\n",
       "f   NaN\n",
       "dtype: float64"
      ]
     },
     "execution_count": 12,
     "metadata": {},
     "output_type": "execute_result"
    }
   ],
=======
   "execution_count": 0,
   "metadata": {
    "application/vnd.databricks.v1+cell": {
     "cellMetadata": {},
     "inputWidgets": {},
     "nuid": "c3399f21-be89-45a8-8bc8-95fc908c5340",
     "showTitle": false,
     "title": ""
    },
    "collapsed": false
   },
   "outputs": [],
>>>>>>> Stashed changes
   "source": [
    "x.add(y)"
   ]
  },
  {
   "cell_type": "markdown",
<<<<<<< Updated upstream
   "metadata": {},
=======
   "metadata": {
    "application/vnd.databricks.v1+cell": {
     "cellMetadata": {},
     "inputWidgets": {},
     "nuid": "a374bd91-3adb-41d7-abdb-0e8347558058",
     "showTitle": false,
     "title": ""
    }
   },
>>>>>>> Stashed changes
   "source": [
    "A \"fill value\" is used in place of any missing value:"
   ]
  },
  {
   "cell_type": "code",
<<<<<<< Updated upstream
   "execution_count": 13,
   "metadata": {
    "collapsed": false
   },
   "outputs": [
    {
     "data": {
      "text/plain": [
       "a     3\n",
       "b     6\n",
       "c     7\n",
       "d    99\n",
       "e    13\n",
       "f     7\n",
       "dtype: float64"
      ]
     },
     "execution_count": 13,
     "metadata": {},
     "output_type": "execute_result"
    }
   ],
=======
   "execution_count": 0,
   "metadata": {
    "application/vnd.databricks.v1+cell": {
     "cellMetadata": {},
     "inputWidgets": {},
     "nuid": "32260520-f860-495a-a48c-1556bc62763a",
     "showTitle": false,
     "title": ""
    },
    "collapsed": false
   },
   "outputs": [],
>>>>>>> Stashed changes
   "source": [
    "x.add(y, fill_value=0)"
   ]
  },
  {
   "cell_type": "markdown",
<<<<<<< Updated upstream
   "metadata": {},
=======
   "metadata": {
    "application/vnd.databricks.v1+cell": {
     "cellMetadata": {},
     "inputWidgets": {},
     "nuid": "b0ef61e0-9d90-4c23-bb19-c271a392eece",
     "showTitle": false,
     "title": ""
    }
   },
>>>>>>> Stashed changes
   "source": [
    "Here is a Numpy `ndarray`.  These are homogeneous data structures that allow only position-based indexing."
   ]
  },
  {
   "cell_type": "code",
<<<<<<< Updated upstream
   "execution_count": 14,
   "metadata": {
    "collapsed": false
   },
   "outputs": [
    {
     "name": "stdout",
     "output_type": "stream",
     "text": [
      "8\n",
      "1\n"
     ]
    }
   ],
=======
   "execution_count": 0,
   "metadata": {
    "application/vnd.databricks.v1+cell": {
     "cellMetadata": {},
     "inputWidgets": {},
     "nuid": "eed1fd9f-467d-4084-b2e2-9fbaf3b7c6c0",
     "showTitle": false,
     "title": ""
    },
    "collapsed": false
   },
   "outputs": [],
>>>>>>> Stashed changes
   "source": [
    "x = np.array([4, 2, 8, 5, 6, 1])\n",
    "print(x[2])\n",
    "print(x[-1])"
   ]
  },
  {
   "cell_type": "markdown",
<<<<<<< Updated upstream
   "metadata": {},
=======
   "metadata": {
    "application/vnd.databricks.v1+cell": {
     "cellMetadata": {},
     "inputWidgets": {},
     "nuid": "5e5172d2-ef66-480d-967f-d4d8a386994f",
     "showTitle": false,
     "title": ""
    }
   },
>>>>>>> Stashed changes
   "source": [
    "Here we take a position-based slice of a Numpy `ndarray`.  Note that the end point is not included in the slice."
   ]
  },
  {
   "cell_type": "code",
<<<<<<< Updated upstream
   "execution_count": 15,
   "metadata": {
    "collapsed": false
   },
   "outputs": [
    {
     "data": {
      "text/plain": [
       "array([8, 5])"
      ]
     },
     "execution_count": 15,
     "metadata": {},
     "output_type": "execute_result"
    }
   ],
=======
   "execution_count": 0,
   "metadata": {
    "application/vnd.databricks.v1+cell": {
     "cellMetadata": {},
     "inputWidgets": {},
     "nuid": "6712990a-ec1a-4537-9ecd-73ef51e300f6",
     "showTitle": false,
     "title": ""
    },
    "collapsed": false
   },
   "outputs": [],
>>>>>>> Stashed changes
   "source": [
    "x[2:4]"
   ]
  },
  {
   "cell_type": "markdown",
<<<<<<< Updated upstream
   "metadata": {},
=======
   "metadata": {
    "application/vnd.databricks.v1+cell": {
     "cellMetadata": {},
     "inputWidgets": {},
     "nuid": "76a251b5-33b6-4357-933f-b29725afed2b",
     "showTitle": false,
     "title": ""
    }
   },
>>>>>>> Stashed changes
   "source": [
    "Here is how we do position-based slicing for a Pandas `Series` (note that the end point of the range is not included in the slice):"
   ]
  },
  {
   "cell_type": "code",
<<<<<<< Updated upstream
   "execution_count": 16,
   "metadata": {
    "collapsed": false
   },
   "outputs": [
    {
     "name": "stdout",
     "output_type": "stream",
     "text": [
      "b    2\n",
      "c    3\n",
      "dtype: int64\n"
     ]
    }
   ],
=======
   "execution_count": 0,
   "metadata": {
    "application/vnd.databricks.v1+cell": {
     "cellMetadata": {},
     "inputWidgets": {},
     "nuid": "80bbda13-f01a-4924-8f86-e29fd2c479f2",
     "showTitle": false,
     "title": ""
    },
    "collapsed": false
   },
   "outputs": [],
>>>>>>> Stashed changes
   "source": [
    "x = pd.Series([5, 2, 3, 1, 4], index=[\"a\", \"b\", \"c\", \"d\", \"e\"])\n",
    "print(x.iloc[1:3])"
   ]
  },
  {
   "cell_type": "markdown",
<<<<<<< Updated upstream
   "metadata": {},
=======
   "metadata": {
    "application/vnd.databricks.v1+cell": {
     "cellMetadata": {},
     "inputWidgets": {},
     "nuid": "08210c9a-77a3-42fd-a8bc-9939d9ba841f",
     "showTitle": false,
     "title": ""
    }
   },
>>>>>>> Stashed changes
   "source": [
    "Here is how we do label-based slicing for a Pandas Series.  Note that the end point of the range is included in the slice."
   ]
  },
  {
   "cell_type": "code",
<<<<<<< Updated upstream
   "execution_count": 17,
   "metadata": {
    "collapsed": false
   },
   "outputs": [
    {
     "data": {
      "text/plain": [
       "b    2\n",
       "c    3\n",
       "d    1\n",
       "dtype: int64"
      ]
     },
     "execution_count": 17,
     "metadata": {},
     "output_type": "execute_result"
    }
   ],
=======
   "execution_count": 0,
   "metadata": {
    "application/vnd.databricks.v1+cell": {
     "cellMetadata": {},
     "inputWidgets": {},
     "nuid": "a87b8071-f543-4efa-8c72-935a4366557a",
     "showTitle": false,
     "title": ""
    },
    "collapsed": false
   },
   "outputs": [],
>>>>>>> Stashed changes
   "source": [
    "x.loc[\"b\":\"d\"]"
   ]
  },
  {
   "cell_type": "markdown",
<<<<<<< Updated upstream
   "metadata": {},
=======
   "metadata": {
    "application/vnd.databricks.v1+cell": {
     "cellMetadata": {},
     "inputWidgets": {},
     "nuid": "b4958d14-4dd3-46b2-bac2-755d03e403e5",
     "showTitle": false,
     "title": ""
    }
   },
>>>>>>> Stashed changes
   "source": [
    "### Two-dimensional data structures"
   ]
  },
  {
   "cell_type": "markdown",
<<<<<<< Updated upstream
   "metadata": {},
=======
   "metadata": {
    "application/vnd.databricks.v1+cell": {
     "cellMetadata": {},
     "inputWidgets": {},
     "nuid": "0dc526aa-b994-4709-9ac1-9780128b88d6",
     "showTitle": false,
     "title": ""
    }
   },
>>>>>>> Stashed changes
   "source": [
    "You can create a two-dimensional core Python \"list\" by nesting two one-dimensional lists:"
   ]
  },
  {
   "cell_type": "code",
<<<<<<< Updated upstream
   "execution_count": 18,
   "metadata": {
    "collapsed": false
   },
   "outputs": [
    {
     "name": "stdout",
     "output_type": "stream",
     "text": [
      "[[1, 3], [5, 2]]\n"
     ]
    }
   ],
=======
   "execution_count": 0,
   "metadata": {
    "application/vnd.databricks.v1+cell": {
     "cellMetadata": {},
     "inputWidgets": {},
     "nuid": "eb01ce8f-099a-4841-af38-be248f99f18f",
     "showTitle": false,
     "title": ""
    },
    "collapsed": false
   },
   "outputs": [],
>>>>>>> Stashed changes
   "source": [
    "x = [[1, 3], [5, 2]]\n",
    "print(x)"
   ]
  },
  {
   "cell_type": "markdown",
<<<<<<< Updated upstream
   "metadata": {},
   "source": [
    "The two-dimensional data structure in Pandas is called a `DataFrame`. "
=======
   "metadata": {
    "application/vnd.databricks.v1+cell": {
     "cellMetadata": {},
     "inputWidgets": {},
     "nuid": "8767c005-bdc7-49da-a292-964666508226",
     "showTitle": false,
     "title": ""
    }
   },
   "source": [
    "The two-dimensional data structure in Pandas is called a `DataFrame`."
>>>>>>> Stashed changes
   ]
  },
  {
   "cell_type": "code",
<<<<<<< Updated upstream
   "execution_count": 19,
   "metadata": {
    "collapsed": false
   },
   "outputs": [
    {
     "name": "stdout",
     "output_type": "stream",
     "text": [
      "      a  b\n",
      "row1  1  3\n",
      "row2  5  8\n",
      "row3  2  1\n"
     ]
    }
   ],
=======
   "execution_count": 0,
   "metadata": {
    "application/vnd.databricks.v1+cell": {
     "cellMetadata": {},
     "inputWidgets": {},
     "nuid": "d9b689bc-4371-4ce7-833f-d8d27f99cdfb",
     "showTitle": false,
     "title": ""
    },
    "collapsed": false
   },
   "outputs": [],
>>>>>>> Stashed changes
   "source": [
    "x = pd.DataFrame([[1, 3], [5, 8], [2, 1]], columns=[\"a\", \"b\"], index=[\"row1\", \"row2\", \"row3\"])\n",
    "print(x)"
   ]
  },
  {
   "cell_type": "markdown",
<<<<<<< Updated upstream
   "metadata": {},
=======
   "metadata": {
    "application/vnd.databricks.v1+cell": {
     "cellMetadata": {},
     "inputWidgets": {},
     "nuid": "4d5556a2-9d0a-407d-b914-5b55275c217d",
     "showTitle": false,
     "title": ""
    }
   },
>>>>>>> Stashed changes
   "source": [
    "Here is how we do label-based indexing of a `DataFrame` object."
   ]
  },
  {
   "cell_type": "code",
<<<<<<< Updated upstream
   "execution_count": 20,
   "metadata": {
    "collapsed": false
   },
   "outputs": [
    {
     "data": {
      "text/plain": [
       "3"
      ]
     },
     "execution_count": 20,
     "metadata": {},
     "output_type": "execute_result"
    }
   ],
=======
   "execution_count": 0,
   "metadata": {
    "application/vnd.databricks.v1+cell": {
     "cellMetadata": {},
     "inputWidgets": {},
     "nuid": "88d3df96-b59a-4b24-8a07-91f775449d12",
     "showTitle": false,
     "title": ""
    },
    "collapsed": false
   },
   "outputs": [],
>>>>>>> Stashed changes
   "source": [
    "x.loc[\"row1\", \"b\"]"
   ]
  },
  {
   "cell_type": "markdown",
<<<<<<< Updated upstream
   "metadata": {},
=======
   "metadata": {
    "application/vnd.databricks.v1+cell": {
     "cellMetadata": {},
     "inputWidgets": {},
     "nuid": "fb43b665-04c1-4bb1-8554-36c4a99fbd58",
     "showTitle": false,
     "title": ""
    }
   },
>>>>>>> Stashed changes
   "source": [
    "Here is how we do position-based indexing of a `DataFrame` object."
   ]
  },
  {
   "cell_type": "code",
<<<<<<< Updated upstream
   "execution_count": 21,
   "metadata": {
    "collapsed": false
   },
   "outputs": [
    {
     "data": {
      "text/plain": [
       "3"
      ]
     },
     "execution_count": 21,
     "metadata": {},
     "output_type": "execute_result"
    }
   ],
=======
   "execution_count": 0,
   "metadata": {
    "application/vnd.databricks.v1+cell": {
     "cellMetadata": {},
     "inputWidgets": {},
     "nuid": "d76b0401-098e-4ec5-a1c1-330541453ccd",
     "showTitle": false,
     "title": ""
    },
    "collapsed": false
   },
   "outputs": [],
>>>>>>> Stashed changes
   "source": [
    "x.iloc[0, 1]"
   ]
  },
  {
   "cell_type": "markdown",
<<<<<<< Updated upstream
   "metadata": {},
=======
   "metadata": {
    "application/vnd.databricks.v1+cell": {
     "cellMetadata": {},
     "inputWidgets": {},
     "nuid": "16342cce-d243-422d-b82c-4c971b6082dd",
     "showTitle": false,
     "title": ""
    }
   },
>>>>>>> Stashed changes
   "source": [
    "Mixing label-based and position-based indexing is a bit trickier."
   ]
  },
  {
   "cell_type": "code",
<<<<<<< Updated upstream
   "execution_count": 22,
   "metadata": {
    "collapsed": false
   },
   "outputs": [
    {
     "data": {
      "text/plain": [
       "3"
      ]
     },
     "execution_count": 22,
     "metadata": {},
     "output_type": "execute_result"
    }
   ],
=======
   "execution_count": 0,
   "metadata": {
    "application/vnd.databricks.v1+cell": {
     "cellMetadata": {},
     "inputWidgets": {},
     "nuid": "278e5f05-b058-45b1-900d-aedbde1a6844",
     "showTitle": false,
     "title": ""
    },
    "collapsed": false
   },
   "outputs": [],
>>>>>>> Stashed changes
   "source": [
    "x.loc[\"row1\", :].iloc[1]"
   ]
  },
  {
   "cell_type": "markdown",
<<<<<<< Updated upstream
   "metadata": {},
=======
   "metadata": {
    "application/vnd.databricks.v1+cell": {
     "cellMetadata": {},
     "inputWidgets": {},
     "nuid": "dba46df8-a385-4577-b029-1d3cd19bf6b9",
     "showTitle": false,
     "title": ""
    }
   },
>>>>>>> Stashed changes
   "source": [
    "Here is how we do label-based slicing with a `DataFrame` (note that this is a Series):"
   ]
  },
  {
   "cell_type": "code",
<<<<<<< Updated upstream
   "execution_count": 23,
   "metadata": {
    "collapsed": false
   },
   "outputs": [
    {
     "data": {
      "text/plain": [
       "a    1\n",
       "b    3\n",
       "Name: row1, dtype: int64"
      ]
     },
     "execution_count": 23,
     "metadata": {},
     "output_type": "execute_result"
    }
   ],
=======
   "execution_count": 0,
   "metadata": {
    "application/vnd.databricks.v1+cell": {
     "cellMetadata": {},
     "inputWidgets": {},
     "nuid": "7b64c637-e9b5-411d-a40a-c5704a72996e",
     "showTitle": false,
     "title": ""
    },
    "collapsed": false
   },
   "outputs": [],
>>>>>>> Stashed changes
   "source": [
    "x.loc[\"row1\", :]"
   ]
  },
  {
   "cell_type": "code",
<<<<<<< Updated upstream
   "execution_count": 24,
   "metadata": {
    "collapsed": false
   },
   "outputs": [
    {
     "data": {
      "text/plain": [
       "row1    3\n",
       "row2    8\n",
       "row3    1\n",
       "Name: b, dtype: int64"
      ]
     },
     "execution_count": 24,
     "metadata": {},
     "output_type": "execute_result"
    }
   ],
=======
   "execution_count": 0,
   "metadata": {
    "application/vnd.databricks.v1+cell": {
     "cellMetadata": {},
     "inputWidgets": {},
     "nuid": "0c8be0a8-4a5e-4921-9d95-7a6b9ba5f8b7",
     "showTitle": false,
     "title": ""
    },
    "collapsed": false
   },
   "outputs": [],
>>>>>>> Stashed changes
   "source": [
    "x.loc[:, \"b\"]"
   ]
  },
  {
   "cell_type": "markdown",
<<<<<<< Updated upstream
   "metadata": {},
=======
   "metadata": {
    "application/vnd.databricks.v1+cell": {
     "cellMetadata": {},
     "inputWidgets": {},
     "nuid": "a29c37dd-e5c8-4b4b-9b74-9bedf429c595",
     "showTitle": false,
     "title": ""
    }
   },
>>>>>>> Stashed changes
   "source": [
    "Note that these slices are `Series` objects."
   ]
  },
  {
   "cell_type": "code",
<<<<<<< Updated upstream
   "execution_count": 25,
   "metadata": {
    "collapsed": false
   },
   "outputs": [
    {
     "data": {
      "text/plain": [
       "a    1\n",
       "b    3\n",
       "Name: row1, dtype: int64"
      ]
     },
     "execution_count": 25,
     "metadata": {},
     "output_type": "execute_result"
    }
   ],
=======
   "execution_count": 0,
   "metadata": {
    "application/vnd.databricks.v1+cell": {
     "cellMetadata": {},
     "inputWidgets": {},
     "nuid": "e3e4ec20-9bcd-4e3a-895d-0756a9d38ba5",
     "showTitle": false,
     "title": ""
    },
    "collapsed": false
   },
   "outputs": [],
>>>>>>> Stashed changes
   "source": [
    "x.loc[\"row1\", :]"
   ]
  },
  {
   "cell_type": "markdown",
<<<<<<< Updated upstream
   "metadata": {},
=======
   "metadata": {
    "application/vnd.databricks.v1+cell": {
     "cellMetadata": {},
     "inputWidgets": {},
     "nuid": "825f6a6b-c2bf-429d-9b2e-bcc4fdf313d8",
     "showTitle": false,
     "title": ""
    }
   },
>>>>>>> Stashed changes
   "source": [
    "Here is how we do position-based slicing with a `DataFrame`:"
   ]
  },
  {
   "cell_type": "code",
<<<<<<< Updated upstream
   "execution_count": 26,
   "metadata": {
    "collapsed": false
   },
   "outputs": [
    {
     "data": {
      "text/plain": [
       "a    5\n",
       "b    8\n",
       "Name: row2, dtype: int64"
      ]
     },
     "execution_count": 26,
     "metadata": {},
     "output_type": "execute_result"
    }
   ],
=======
   "execution_count": 0,
   "metadata": {
    "application/vnd.databricks.v1+cell": {
     "cellMetadata": {},
     "inputWidgets": {},
     "nuid": "3d321737-7eb0-44f7-bb98-bddcaa426c42",
     "showTitle": false,
     "title": ""
    },
    "collapsed": false
   },
   "outputs": [],
>>>>>>> Stashed changes
   "source": [
    "x.iloc[1, :]"
   ]
  },
  {
   "cell_type": "code",
<<<<<<< Updated upstream
   "execution_count": 27,
   "metadata": {
    "collapsed": false
   },
   "outputs": [
    {
     "data": {
      "text/plain": [
       "row1    1\n",
       "row2    5\n",
       "row3    2\n",
       "Name: a, dtype: int64"
      ]
     },
     "execution_count": 27,
     "metadata": {},
     "output_type": "execute_result"
    }
   ],
=======
   "execution_count": 0,
   "metadata": {
    "application/vnd.databricks.v1+cell": {
     "cellMetadata": {},
     "inputWidgets": {},
     "nuid": "f62f3a05-1961-4009-ade7-7636a5f8c7af",
     "showTitle": false,
     "title": ""
    },
    "collapsed": false
   },
   "outputs": [],
>>>>>>> Stashed changes
   "source": [
    "x.iloc[:, 0]"
   ]
  },
  {
   "cell_type": "markdown",
<<<<<<< Updated upstream
   "metadata": {},
=======
   "metadata": {
    "application/vnd.databricks.v1+cell": {
     "cellMetadata": {},
     "inputWidgets": {},
     "nuid": "fe70ec6d-272e-43a9-b706-58edaf17f9f2",
     "showTitle": false,
     "title": ""
    }
   },
>>>>>>> Stashed changes
   "source": [
    "Here is how we do position-based slicing on two axes with a `DataFrame`:"
   ]
  },
  {
   "cell_type": "code",
<<<<<<< Updated upstream
   "execution_count": 28,
   "metadata": {
    "collapsed": false
   },
   "outputs": [
    {
     "data": {
      "text/html": [
       "<div style=\"max-height:1000px;max-width:1500px;overflow:auto;\">\n",
       "<table border=\"1\" class=\"dataframe\">\n",
       "  <thead>\n",
       "    <tr style=\"text-align: right;\">\n",
       "      <th></th>\n",
       "      <th>a</th>\n",
       "      <th>b</th>\n",
       "    </tr>\n",
       "  </thead>\n",
       "  <tbody>\n",
       "    <tr>\n",
       "      <th>row1</th>\n",
       "      <td> 1</td>\n",
       "      <td> 3</td>\n",
       "    </tr>\n",
       "    <tr>\n",
       "      <th>row2</th>\n",
       "      <td> 5</td>\n",
       "      <td> 8</td>\n",
       "    </tr>\n",
       "  </tbody>\n",
       "</table>\n",
       "</div>"
      ],
      "text/plain": [
       "      a  b\n",
       "row1  1  3\n",
       "row2  5  8"
      ]
     },
     "execution_count": 28,
     "metadata": {},
     "output_type": "execute_result"
    }
   ],
=======
   "execution_count": 0,
   "metadata": {
    "application/vnd.databricks.v1+cell": {
     "cellMetadata": {},
     "inputWidgets": {},
     "nuid": "16f27f81-2280-4cbf-b1ab-2cfbf6e41116",
     "showTitle": false,
     "title": ""
    },
    "collapsed": false
   },
   "outputs": [],
>>>>>>> Stashed changes
   "source": [
    "x.iloc[0:2, :]"
   ]
  },
  {
   "cell_type": "code",
<<<<<<< Updated upstream
   "execution_count": 29,
   "metadata": {
    "collapsed": false
   },
   "outputs": [
    {
     "data": {
      "text/html": [
       "<div style=\"max-height:1000px;max-width:1500px;overflow:auto;\">\n",
       "<table border=\"1\" class=\"dataframe\">\n",
       "  <thead>\n",
       "    <tr style=\"text-align: right;\">\n",
       "      <th></th>\n",
       "      <th>a</th>\n",
       "      <th>b</th>\n",
       "    </tr>\n",
       "  </thead>\n",
       "  <tbody>\n",
       "    <tr>\n",
       "      <th>row1</th>\n",
       "      <td> 1</td>\n",
       "      <td> 3</td>\n",
       "    </tr>\n",
       "    <tr>\n",
       "      <th>row2</th>\n",
       "      <td> 5</td>\n",
       "      <td> 8</td>\n",
       "    </tr>\n",
       "    <tr>\n",
       "      <th>row3</th>\n",
       "      <td> 2</td>\n",
       "      <td> 1</td>\n",
       "    </tr>\n",
       "  </tbody>\n",
       "</table>\n",
       "</div>"
      ],
      "text/plain": [
       "      a  b\n",
       "row1  1  3\n",
       "row2  5  8\n",
       "row3  2  1"
      ]
     },
     "execution_count": 29,
     "metadata": {},
     "output_type": "execute_result"
    }
   ],
=======
   "execution_count": 0,
   "metadata": {
    "application/vnd.databricks.v1+cell": {
     "cellMetadata": {},
     "inputWidgets": {},
     "nuid": "86f37e15-e84d-44f1-809f-e01d7f846e65",
     "showTitle": false,
     "title": ""
    },
    "collapsed": false
   },
   "outputs": [],
>>>>>>> Stashed changes
   "source": [
    "x.iloc[:, 0:2]"
   ]
  },
  {
   "cell_type": "markdown",
<<<<<<< Updated upstream
   "metadata": {},
=======
   "metadata": {
    "application/vnd.databricks.v1+cell": {
     "cellMetadata": {},
     "inputWidgets": {},
     "nuid": "7cc996af-5b0b-470c-84b4-9bc1483fb726",
     "showTitle": false,
     "title": ""
    }
   },
>>>>>>> Stashed changes
   "source": [
    "If you want to select a non-contiguous set of rows, use a list of positions:"
   ]
  },
  {
   "cell_type": "code",
<<<<<<< Updated upstream
   "execution_count": 30,
   "metadata": {
    "collapsed": false
   },
   "outputs": [
    {
     "data": {
      "text/html": [
       "<div style=\"max-height:1000px;max-width:1500px;overflow:auto;\">\n",
       "<table border=\"1\" class=\"dataframe\">\n",
       "  <thead>\n",
       "    <tr style=\"text-align: right;\">\n",
       "      <th></th>\n",
       "      <th>a</th>\n",
       "      <th>b</th>\n",
       "    </tr>\n",
       "  </thead>\n",
       "  <tbody>\n",
       "    <tr>\n",
       "      <th>row1</th>\n",
       "      <td> 1</td>\n",
       "      <td> 3</td>\n",
       "    </tr>\n",
       "    <tr>\n",
       "      <th>row3</th>\n",
       "      <td> 2</td>\n",
       "      <td> 1</td>\n",
       "    </tr>\n",
       "  </tbody>\n",
       "</table>\n",
       "</div>"
      ],
      "text/plain": [
       "      a  b\n",
       "row1  1  3\n",
       "row3  2  1"
      ]
     },
     "execution_count": 30,
     "metadata": {},
     "output_type": "execute_result"
    }
   ],
=======
   "execution_count": 0,
   "metadata": {
    "application/vnd.databricks.v1+cell": {
     "cellMetadata": {},
     "inputWidgets": {},
     "nuid": "1a60c060-6cb2-4b89-9a85-6e4e068d0901",
     "showTitle": false,
     "title": ""
    },
    "collapsed": false
   },
   "outputs": [],
>>>>>>> Stashed changes
   "source": [
    "x.iloc[[0,2], :]"
   ]
  },
  {
   "cell_type": "markdown",
<<<<<<< Updated upstream
   "metadata": {},
=======
   "metadata": {
    "application/vnd.databricks.v1+cell": {
     "cellMetadata": {},
     "inputWidgets": {},
     "nuid": "c7dffe7e-03c8-4f1d-a980-039e919a1d10",
     "showTitle": false,
     "title": ""
    }
   },
>>>>>>> Stashed changes
   "source": [
    "You can also index with a boolean vector:"
   ]
  },
  {
   "cell_type": "code",
<<<<<<< Updated upstream
   "execution_count": 31,
   "metadata": {
    "collapsed": false
   },
   "outputs": [
    {
     "data": {
      "text/html": [
       "<div style=\"max-height:1000px;max-width:1500px;overflow:auto;\">\n",
       "<table border=\"1\" class=\"dataframe\">\n",
       "  <thead>\n",
       "    <tr style=\"text-align: right;\">\n",
       "      <th></th>\n",
       "      <th>a</th>\n",
       "      <th>b</th>\n",
       "    </tr>\n",
       "  </thead>\n",
       "  <tbody>\n",
       "    <tr>\n",
       "      <th>row1</th>\n",
       "      <td> 1</td>\n",
       "      <td> 3</td>\n",
       "    </tr>\n",
       "    <tr>\n",
       "      <th>row3</th>\n",
       "      <td> 2</td>\n",
       "      <td> 1</td>\n",
       "    </tr>\n",
       "  </tbody>\n",
       "</table>\n",
       "</div>"
      ],
      "text/plain": [
       "      a  b\n",
       "row1  1  3\n",
       "row3  2  1"
      ]
     },
     "execution_count": 31,
     "metadata": {},
     "output_type": "execute_result"
    }
   ],
=======
   "execution_count": 0,
   "metadata": {
    "application/vnd.databricks.v1+cell": {
     "cellMetadata": {},
     "inputWidgets": {},
     "nuid": "56a4bdce-29c3-4bdb-ba3b-5a2f515a5dc6",
     "showTitle": false,
     "title": ""
    },
    "collapsed": false
   },
   "outputs": [],
>>>>>>> Stashed changes
   "source": [
    "x.loc[[True, False, True], :]"
   ]
  },
  {
   "cell_type": "markdown",
<<<<<<< Updated upstream
   "metadata": {},
=======
   "metadata": {
    "application/vnd.databricks.v1+cell": {
     "cellMetadata": {},
     "inputWidgets": {},
     "nuid": "1f9ccc59-5491-41f9-ab2d-7783117a31f3",
     "showTitle": false,
     "title": ""
    }
   },
>>>>>>> Stashed changes
   "source": [
    "Boolean indexing is useful if you want to select rows (or columns) based on a query:"
   ]
  },
  {
   "cell_type": "code",
<<<<<<< Updated upstream
   "execution_count": 32,
   "metadata": {
    "collapsed": false
   },
   "outputs": [
    {
     "data": {
      "text/html": [
       "<div style=\"max-height:1000px;max-width:1500px;overflow:auto;\">\n",
       "<table border=\"1\" class=\"dataframe\">\n",
       "  <thead>\n",
       "    <tr style=\"text-align: right;\">\n",
       "      <th></th>\n",
       "      <th>a</th>\n",
       "      <th>b</th>\n",
       "    </tr>\n",
       "  </thead>\n",
       "  <tbody>\n",
       "    <tr>\n",
       "      <th>row1</th>\n",
       "      <td> 1</td>\n",
       "      <td> 3</td>\n",
       "    </tr>\n",
       "    <tr>\n",
       "      <th>row3</th>\n",
       "      <td> 2</td>\n",
       "      <td> 1</td>\n",
       "    </tr>\n",
       "  </tbody>\n",
       "</table>\n",
       "</div>"
      ],
      "text/plain": [
       "      a  b\n",
       "row1  1  3\n",
       "row3  2  1"
      ]
     },
     "execution_count": 32,
     "metadata": {},
     "output_type": "execute_result"
    }
   ],
=======
   "execution_count": 0,
   "metadata": {
    "application/vnd.databricks.v1+cell": {
     "cellMetadata": {},
     "inputWidgets": {},
     "nuid": "34b9c588-4df9-4de2-aec0-1415255401f2",
     "showTitle": false,
     "title": ""
    },
    "collapsed": false
   },
   "outputs": [],
>>>>>>> Stashed changes
   "source": [
    "ix = x.a < 3\n",
    "x.loc[ix, :]"
   ]
  },
  {
   "cell_type": "markdown",
<<<<<<< Updated upstream
   "metadata": {},
=======
   "metadata": {
    "application/vnd.databricks.v1+cell": {
     "cellMetadata": {},
     "inputWidgets": {},
     "nuid": "c31c4665-d342-4b4e-96a8-a31e6853a451",
     "showTitle": false,
     "title": ""
    }
   },
>>>>>>> Stashed changes
   "source": [
    "A Numpy `ndarray` can be two-dimensional:"
   ]
  },
  {
   "cell_type": "code",
<<<<<<< Updated upstream
   "execution_count": 33,
   "metadata": {
    "collapsed": false
   },
   "outputs": [
    {
     "name": "stdout",
     "output_type": "stream",
     "text": [
      "[[ 1  4]\n",
      " [-5  3]\n",
      " [ 3  4]]\n"
     ]
    }
   ],
=======
   "execution_count": 0,
   "metadata": {
    "application/vnd.databricks.v1+cell": {
     "cellMetadata": {},
     "inputWidgets": {},
     "nuid": "3df141bb-1e39-47c7-8c9a-c49a6b03737c",
     "showTitle": false,
     "title": ""
    },
    "collapsed": false
   },
   "outputs": [],
>>>>>>> Stashed changes
   "source": [
    "x = np.array([[1, 4], [-5, 3], [3, 4]])\n",
    "print(x)"
   ]
  },
  {
   "cell_type": "markdown",
<<<<<<< Updated upstream
   "metadata": {},
=======
   "metadata": {
    "application/vnd.databricks.v1+cell": {
     "cellMetadata": {},
     "inputWidgets": {},
     "nuid": "d1b81fa8-e61f-4467-84c6-06bb5f2203b9",
     "showTitle": false,
     "title": ""
    }
   },
>>>>>>> Stashed changes
   "source": [
    "Here is how we do position-based indexing and slicing with a two-dimensional `ndarray`:"
   ]
  },
  {
   "cell_type": "code",
<<<<<<< Updated upstream
   "execution_count": 34,
   "metadata": {
    "collapsed": false
   },
   "outputs": [
    {
     "data": {
      "text/plain": [
       "4"
      ]
     },
     "execution_count": 34,
     "metadata": {},
     "output_type": "execute_result"
    }
   ],
=======
   "execution_count": 0,
   "metadata": {
    "application/vnd.databricks.v1+cell": {
     "cellMetadata": {},
     "inputWidgets": {},
     "nuid": "17c87a52-acda-4fc6-8a5b-ad3df47d8866",
     "showTitle": false,
     "title": ""
    },
    "collapsed": false
   },
   "outputs": [],
>>>>>>> Stashed changes
   "source": [
    "x[0, 1]"
   ]
  },
  {
   "cell_type": "code",
<<<<<<< Updated upstream
   "execution_count": 35,
   "metadata": {
    "collapsed": false
   },
   "outputs": [
    {
     "data": {
      "text/plain": [
       "array([-5,  3])"
      ]
     },
     "execution_count": 35,
     "metadata": {},
     "output_type": "execute_result"
    }
   ],
=======
   "execution_count": 0,
   "metadata": {
    "application/vnd.databricks.v1+cell": {
     "cellMetadata": {},
     "inputWidgets": {},
     "nuid": "208aa56a-08be-4393-ba1f-817d456fbdc4",
     "showTitle": false,
     "title": ""
    },
    "collapsed": false
   },
   "outputs": [],
>>>>>>> Stashed changes
   "source": [
    "x[1, :]"
   ]
  },
  {
   "cell_type": "code",
<<<<<<< Updated upstream
   "execution_count": 36,
   "metadata": {
    "collapsed": false
   },
   "outputs": [
    {
     "data": {
      "text/plain": [
       "array([4, 3, 4])"
      ]
     },
     "execution_count": 36,
     "metadata": {},
     "output_type": "execute_result"
    }
   ],
=======
   "execution_count": 0,
   "metadata": {
    "application/vnd.databricks.v1+cell": {
     "cellMetadata": {},
     "inputWidgets": {},
     "nuid": "3dfb448c-3301-40cd-9288-02128d4e8e15",
     "showTitle": false,
     "title": ""
    },
    "collapsed": false
   },
   "outputs": [],
>>>>>>> Stashed changes
   "source": [
    "x[:, 1]"
   ]
  },
  {
   "cell_type": "code",
<<<<<<< Updated upstream
   "execution_count": 37,
   "metadata": {
    "collapsed": false
   },
   "outputs": [
    {
     "data": {
      "text/plain": [
       "array([[1, 4],\n",
       "       [3, 4]])"
      ]
     },
     "execution_count": 37,
     "metadata": {},
     "output_type": "execute_result"
    }
   ],
=======
   "execution_count": 0,
   "metadata": {
    "application/vnd.databricks.v1+cell": {
     "cellMetadata": {},
     "inputWidgets": {},
     "nuid": "eef58099-a25e-4b5c-8d3a-6a1c32db9ce6",
     "showTitle": false,
     "title": ""
    },
    "collapsed": false
   },
   "outputs": [],
>>>>>>> Stashed changes
   "source": [
    "x[[0, 2], :]"
   ]
  },
  {
   "cell_type": "markdown",
<<<<<<< Updated upstream
   "metadata": {},
   "source": [
    "Boolean arrays used in indexing must by numpy arrays, not Python lists.  "
=======
   "metadata": {
    "application/vnd.databricks.v1+cell": {
     "cellMetadata": {},
     "inputWidgets": {},
     "nuid": "1ad20c71-973d-4894-aeb4-1669e5057b1d",
     "showTitle": false,
     "title": ""
    }
   },
   "source": [
    "Boolean arrays used in indexing must by numpy arrays, not Python lists."
>>>>>>> Stashed changes
   ]
  },
  {
   "cell_type": "code",
<<<<<<< Updated upstream
   "execution_count": 38,
   "metadata": {
    "collapsed": false
   },
   "outputs": [
    {
     "name": "stdout",
     "output_type": "stream",
     "text": [
      "[[4]\n",
      " [3]\n",
      " [4]]\n",
      "[[ 1  4]\n",
      " [-5  3]\n",
      " [ 3  4]]\n"
     ]
    }
   ],
=======
   "execution_count": 0,
   "metadata": {
    "application/vnd.databricks.v1+cell": {
     "cellMetadata": {},
     "inputWidgets": {},
     "nuid": "2cee829b-fe2c-4cc4-bc02-bf195e9c8a11",
     "showTitle": false,
     "title": ""
    },
    "collapsed": false
   },
   "outputs": [],
>>>>>>> Stashed changes
   "source": [
    "print(x[:, np.r_[False, True]])\n",
    "print(x[:, [False, True]])"
   ]
  },
  {
   "cell_type": "code",
<<<<<<< Updated upstream
   "execution_count": 39,
   "metadata": {
    "collapsed": false
   },
   "outputs": [
    {
     "data": {
      "text/plain": [
       "array([3, 4])"
      ]
     },
     "execution_count": 39,
     "metadata": {},
     "output_type": "execute_result"
    }
   ],
=======
   "execution_count": 0,
   "metadata": {
    "application/vnd.databricks.v1+cell": {
     "cellMetadata": {},
     "inputWidgets": {},
     "nuid": "2c3d2116-5387-4b6f-921c-ff1a0859b00e",
     "showTitle": false,
     "title": ""
    },
    "collapsed": false
   },
   "outputs": [],
>>>>>>> Stashed changes
   "source": [
    "x[-1, :]"
   ]
  },
  {
   "cell_type": "markdown",
<<<<<<< Updated upstream
   "metadata": {},
=======
   "metadata": {
    "application/vnd.databricks.v1+cell": {
     "cellMetadata": {},
     "inputWidgets": {},
     "nuid": "ea5552bb-3c79-4a48-832b-f37adfe1d251",
     "showTitle": false,
     "title": ""
    }
   },
>>>>>>> Stashed changes
   "source": [
    "### Shortcuts\n",
    "\n",
    "The safest and fastest way to index a Pandas data structure is using `loc` (for label-based indexing) and `iloc` for position-based indexing.  Next we look at some shortcuts that can also be used."
   ]
  },
  {
   "cell_type": "code",
<<<<<<< Updated upstream
   "execution_count": 40,
   "metadata": {
    "collapsed": false
   },
   "outputs": [
    {
     "name": "stdout",
     "output_type": "stream",
     "text": [
      "   v1  v2\n",
      "a   1   3\n",
      "b   2   0\n",
      "c   1   1\n"
     ]
    }
   ],
=======
   "execution_count": 0,
   "metadata": {
    "application/vnd.databricks.v1+cell": {
     "cellMetadata": {},
     "inputWidgets": {},
     "nuid": "e760e63b-cdc5-469a-8390-cb4afa633150",
     "showTitle": false,
     "title": ""
    },
    "collapsed": false
   },
   "outputs": [],
>>>>>>> Stashed changes
   "source": [
    "x = pd.DataFrame([[1,3], [2,0], [1,1]], index=(\"a\", \"b\", \"c\"), columns=(\"v1\", \"v2\"))\n",
    "print(x)"
   ]
  },
  {
   "cell_type": "markdown",
<<<<<<< Updated upstream
   "metadata": {},
=======
   "metadata": {
    "application/vnd.databricks.v1+cell": {
     "cellMetadata": {},
     "inputWidgets": {},
     "nuid": "7a119d5a-d1ab-453b-ba85-b85879474a5f",
     "showTitle": false,
     "title": ""
    }
   },
>>>>>>> Stashed changes
   "source": [
    "Here are four ways to access a column of a Pandas `DataFrame`:"
   ]
  },
  {
   "cell_type": "code",
<<<<<<< Updated upstream
   "execution_count": 41,
   "metadata": {
    "collapsed": false
   },
   "outputs": [
    {
     "data": {
      "text/plain": [
       "a    1\n",
       "b    2\n",
       "c    1\n",
       "Name: v1, dtype: int64"
      ]
     },
     "execution_count": 41,
     "metadata": {},
     "output_type": "execute_result"
    }
   ],
=======
   "execution_count": 0,
   "metadata": {
    "application/vnd.databricks.v1+cell": {
     "cellMetadata": {},
     "inputWidgets": {},
     "nuid": "2b15a954-0b33-4677-ab07-8d626c0a2654",
     "showTitle": false,
     "title": ""
    },
    "collapsed": false
   },
   "outputs": [],
>>>>>>> Stashed changes
   "source": [
    "x.loc[:, \"v1\"]"
   ]
  },
  {
   "cell_type": "code",
<<<<<<< Updated upstream
   "execution_count": 42,
   "metadata": {
    "collapsed": false
   },
   "outputs": [
    {
     "data": {
      "text/plain": [
       "a    1\n",
       "b    2\n",
       "c    1\n",
       "Name: v1, dtype: int64"
      ]
     },
     "execution_count": 42,
     "metadata": {},
     "output_type": "execute_result"
    }
   ],
=======
   "execution_count": 0,
   "metadata": {
    "application/vnd.databricks.v1+cell": {
     "cellMetadata": {},
     "inputWidgets": {},
     "nuid": "79cdc305-f7f0-40fa-a949-62bc1cdc88ca",
     "showTitle": false,
     "title": ""
    },
    "collapsed": false
   },
   "outputs": [],
>>>>>>> Stashed changes
   "source": [
    "x[\"v1\"]"
   ]
  },
  {
   "cell_type": "code",
<<<<<<< Updated upstream
   "execution_count": 43,
   "metadata": {
    "collapsed": false
   },
   "outputs": [
    {
     "data": {
      "text/plain": [
       "a    1\n",
       "b    2\n",
       "c    1\n",
       "Name: v1, dtype: int64"
      ]
     },
     "execution_count": 43,
     "metadata": {},
     "output_type": "execute_result"
    }
   ],
=======
   "execution_count": 0,
   "metadata": {
    "application/vnd.databricks.v1+cell": {
     "cellMetadata": {},
     "inputWidgets": {},
     "nuid": "675bfd78-2dcf-4fa3-a9ba-f345f9e8a7dc",
     "showTitle": false,
     "title": ""
    },
    "collapsed": false
   },
   "outputs": [],
>>>>>>> Stashed changes
   "source": [
    "x.v1"
   ]
  },
  {
   "cell_type": "markdown",
<<<<<<< Updated upstream
   "metadata": {},
=======
   "metadata": {
    "application/vnd.databricks.v1+cell": {
     "cellMetadata": {},
     "inputWidgets": {},
     "nuid": "1cae18a1-3fb3-4d34-9e82-038bff389d52",
     "showTitle": false,
     "title": ""
    }
   },
>>>>>>> Stashed changes
   "source": [
    "Here are two ways to access a row of a Pandas `DataFrame`."
   ]
  },
  {
   "cell_type": "code",
<<<<<<< Updated upstream
   "execution_count": 44,
   "metadata": {
    "collapsed": false
   },
   "outputs": [
    {
     "data": {
      "text/plain": [
       "v1    1\n",
       "v2    3\n",
       "Name: a, dtype: int64"
      ]
     },
     "execution_count": 44,
     "metadata": {},
     "output_type": "execute_result"
    }
   ],
=======
   "execution_count": 0,
   "metadata": {
    "application/vnd.databricks.v1+cell": {
     "cellMetadata": {},
     "inputWidgets": {},
     "nuid": "69b4bc8d-935c-476e-bfa1-ec5b409da6a7",
     "showTitle": false,
     "title": ""
    },
    "collapsed": false
   },
   "outputs": [],
>>>>>>> Stashed changes
   "source": [
    "x.loc[\"a\", :]"
   ]
  },
  {
   "cell_type": "code",
<<<<<<< Updated upstream
   "execution_count": 45,
   "metadata": {
    "collapsed": false
   },
   "outputs": [
    {
     "data": {
      "text/plain": [
       "v1    1\n",
       "v2    3\n",
       "Name: a, dtype: int64"
      ]
     },
     "execution_count": 45,
     "metadata": {},
     "output_type": "execute_result"
    }
   ],
=======
   "execution_count": 0,
   "metadata": {
    "application/vnd.databricks.v1+cell": {
     "cellMetadata": {},
     "inputWidgets": {},
     "nuid": "18df87fe-5167-4503-9b3e-166ebcf5859f",
     "showTitle": false,
     "title": ""
    },
    "collapsed": false
   },
   "outputs": [],
>>>>>>> Stashed changes
   "source": [
    "x.loc[\"a\"]"
   ]
  },
  {
   "cell_type": "markdown",
<<<<<<< Updated upstream
   "metadata": {},
=======
   "metadata": {
    "application/vnd.databricks.v1+cell": {
     "cellMetadata": {},
     "inputWidgets": {},
     "nuid": "ab4966ea-8d02-4f29-89d6-ffc98ede06d4",
     "showTitle": false,
     "title": ""
    }
   },
>>>>>>> Stashed changes
   "source": [
    "### Data types\n",
    "\n",
    "Core Python lists and dictionaries are heterogeneous containers, meaning they can hold values of any combination of types:"
   ]
  },
  {
   "cell_type": "code",
<<<<<<< Updated upstream
   "execution_count": 46,
   "metadata": {
    "collapsed": false
   },
   "outputs": [
    {
     "data": {
      "text/plain": [
       "[int, float, str]"
      ]
     },
     "execution_count": 46,
     "metadata": {},
     "output_type": "execute_result"
    }
   ],
=======
   "execution_count": 0,
   "metadata": {
    "application/vnd.databricks.v1+cell": {
     "cellMetadata": {},
     "inputWidgets": {},
     "nuid": "73048035-3e3a-4725-bd93-749bef761f7b",
     "showTitle": false,
     "title": ""
    },
    "collapsed": false
   },
   "outputs": [],
>>>>>>> Stashed changes
   "source": [
    "x = [3, 9., \"apple\"]\n",
    "[type(v) for v in x]"
   ]
  },
  {
   "cell_type": "markdown",
<<<<<<< Updated upstream
   "metadata": {},
   "source": [
    "Numpy `ndarray` and Pandas `Series` objects homogeneous and hence have a single type (the type can be 'object' which provides the behavior of a heterogeneous container, but we won't get into that here).  Here is how you specify and discover the data type for a numpy `ndarray`.  Pandas `Series` objects have exactly the same behavior. "
=======
   "metadata": {
    "application/vnd.databricks.v1+cell": {
     "cellMetadata": {},
     "inputWidgets": {},
     "nuid": "d55cc4f7-831a-4179-9a85-e7c11c83277d",
     "showTitle": false,
     "title": ""
    }
   },
   "source": [
    "Numpy `ndarray` and Pandas `Series` objects homogeneous and hence have a single type (the type can be 'object' which provides the behavior of a heterogeneous container, but we won't get into that here).  Here is how you specify and discover the data type for a numpy `ndarray`.  Pandas `Series` objects have exactly the same behavior."
>>>>>>> Stashed changes
   ]
  },
  {
   "cell_type": "code",
<<<<<<< Updated upstream
   "execution_count": 47,
   "metadata": {
    "collapsed": false
   },
   "outputs": [
    {
     "name": "stdout",
     "output_type": "stream",
     "text": [
      "int32\n",
      "float64\n",
      "int64\n",
      "float64\n"
     ]
    }
   ],
=======
   "execution_count": 0,
   "metadata": {
    "application/vnd.databricks.v1+cell": {
     "cellMetadata": {},
     "inputWidgets": {},
     "nuid": "4b8817cb-a35d-485b-9bae-2ffb47669fa5",
     "showTitle": false,
     "title": ""
    },
    "collapsed": false
   },
   "outputs": [],
>>>>>>> Stashed changes
   "source": [
    "w = np.array([3, 2, 1], dtype=np.int32)\n",
    "x = np.array([3.5, 2, 1], dtype=np.float64)\n",
    "y = np.array([5, 2, 3])\n",
    "z = np.array([5., 2, 3])\n",
    "print(w.dtype)\n",
    "print(x.dtype)\n",
    "print(y.dtype)\n",
    "print(z.dtype)"
   ]
  },
  {
   "cell_type": "markdown",
<<<<<<< Updated upstream
   "metadata": {},
   "source": [
    "Each column of a Pandas `DataFrame` has a single type, but different columns in the same data frame can have different types. "
=======
   "metadata": {
    "application/vnd.databricks.v1+cell": {
     "cellMetadata": {},
     "inputWidgets": {},
     "nuid": "327277d7-c226-4866-b313-8f802a2d5c5d",
     "showTitle": false,
     "title": ""
    }
   },
   "source": [
    "Each column of a Pandas `DataFrame` has a single type, but different columns in the same data frame can have different types."
>>>>>>> Stashed changes
   ]
  },
  {
   "cell_type": "code",
<<<<<<< Updated upstream
   "execution_count": 48,
   "metadata": {
    "collapsed": false
   },
   "outputs": [
    {
     "name": "stdout",
     "output_type": "stream",
     "text": [
      "a      int64\n",
      "b     object\n",
      "c    float64\n",
      "dtype: object\n"
     ]
    }
   ],
=======
   "execution_count": 0,
   "metadata": {
    "application/vnd.databricks.v1+cell": {
     "cellMetadata": {},
     "inputWidgets": {},
     "nuid": "de01a70b-feb2-4d56-a109-6ad586867ced",
     "showTitle": false,
     "title": ""
    },
    "collapsed": false
   },
   "outputs": [],
>>>>>>> Stashed changes
   "source": [
    "df = pd.DataFrame(index=range(3), columns=[\"a\", \"b\", \"c\"])\n",
    "df[\"a\"] = [3, 2, 1]\n",
    "df[\"b\"] = [\"x\", \"y\", \"z\"]\n",
    "df[\"c\"] = [1.3, 2.5, 5.2]\n",
    "print(df.dtypes)"
   ]
  },
  {
   "cell_type": "markdown",
<<<<<<< Updated upstream
   "metadata": {},
=======
   "metadata": {
    "application/vnd.databricks.v1+cell": {
     "cellMetadata": {},
     "inputWidgets": {},
     "nuid": "e1a14f38-763e-40a0-a029-f1cc1a6fd122",
     "showTitle": false,
     "title": ""
    }
   },
>>>>>>> Stashed changes
   "source": [
    "### Data structure types, conversions, and introspection"
   ]
  },
  {
   "cell_type": "markdown",
<<<<<<< Updated upstream
   "metadata": {},
=======
   "metadata": {
    "application/vnd.databricks.v1+cell": {
     "cellMetadata": {},
     "inputWidgets": {},
     "nuid": "1c71e3ad-111d-4326-bf56-718f0eab0b47",
     "showTitle": false,
     "title": ""
    }
   },
>>>>>>> Stashed changes
   "source": [
    "Here we create an `ndarray` from a core Python list:"
   ]
  },
  {
   "cell_type": "code",
<<<<<<< Updated upstream
   "execution_count": 49,
   "metadata": {
=======
   "execution_count": 0,
   "metadata": {
    "application/vnd.databricks.v1+cell": {
     "cellMetadata": {},
     "inputWidgets": {},
     "nuid": "d1f655d4-c4d0-46e0-91d0-c3e05dabfcd3",
     "showTitle": false,
     "title": ""
    },
>>>>>>> Stashed changes
    "collapsed": false
   },
   "outputs": [],
   "source": [
    "w =  [3, 5, 2]\n",
    "x = np.array(w)\n",
    "z = np.array(w, dtype=np.float64)"
   ]
  },
  {
   "cell_type": "markdown",
<<<<<<< Updated upstream
   "metadata": {},
=======
   "metadata": {
    "application/vnd.databricks.v1+cell": {
     "cellMetadata": {},
     "inputWidgets": {},
     "nuid": "944ade62-5625-4c7f-aa9d-60623332e72d",
     "showTitle": false,
     "title": ""
    }
   },
>>>>>>> Stashed changes
   "source": [
    "You can use `asarray` if you want to convert an sequence-containing object to an ndarray and if possible avoid copying the data."
   ]
  },
  {
   "cell_type": "code",
<<<<<<< Updated upstream
   "execution_count": 50,
   "metadata": {
    "collapsed": false
   },
   "outputs": [
    {
     "name": "stdout",
     "output_type": "stream",
     "text": [
      "(139923570100200, 22326400, 22326400)\n"
     ]
    }
   ],
=======
   "execution_count": 0,
   "metadata": {
    "application/vnd.databricks.v1+cell": {
     "cellMetadata": {},
     "inputWidgets": {},
     "nuid": "3bc17d06-595d-4077-a1d8-738ed5110b96",
     "showTitle": false,
     "title": ""
    },
    "collapsed": false
   },
   "outputs": [],
>>>>>>> Stashed changes
   "source": [
    "w = [1, 2, 3]\n",
    "x = np.asarray(w)\n",
    "y = np.asarray(x)\n",
    "print(id(w), id(x), id(y))"
   ]
  },
  {
   "cell_type": "markdown",
<<<<<<< Updated upstream
   "metadata": {},
=======
   "metadata": {
    "application/vnd.databricks.v1+cell": {
     "cellMetadata": {},
     "inputWidgets": {},
     "nuid": "f8e11d20-d12b-4d9b-bd36-52da2422c970",
     "showTitle": false,
     "title": ""
    }
   },
>>>>>>> Stashed changes
   "source": [
    "Here we create a `DataFrame` from a `ndarray`, note the default indices:"
   ]
  },
  {
   "cell_type": "code",
<<<<<<< Updated upstream
   "execution_count": 51,
   "metadata": {
    "collapsed": false
   },
   "outputs": [
    {
     "name": "stdout",
     "output_type": "stream",
     "text": [
      "   0  1  2  3  4\n",
      "0  3  2  1  6  5\n",
      "1  3  2  7  6  6\n"
     ]
    }
   ],
=======
   "execution_count": 0,
   "metadata": {
    "application/vnd.databricks.v1+cell": {
     "cellMetadata": {},
     "inputWidgets": {},
     "nuid": "cfde8e4f-cd25-45ca-a4ec-a76670a3b7eb",
     "showTitle": false,
     "title": ""
    },
    "collapsed": false
   },
   "outputs": [],
>>>>>>> Stashed changes
   "source": [
    "x = np.array([[3, 2, 1, 6, 5], [3, 2, 7, 6, 6]])\n",
    "y = pd.DataFrame(x)\n",
    "print(y)"
   ]
  },
  {
   "cell_type": "markdown",
<<<<<<< Updated upstream
   "metadata": {},
=======
   "metadata": {
    "application/vnd.databricks.v1+cell": {
     "cellMetadata": {},
     "inputWidgets": {},
     "nuid": "47b5563a-da97-459e-892a-092415802c15",
     "showTitle": false,
     "title": ""
    }
   },
>>>>>>> Stashed changes
   "source": [
    "You can also use `np.asarray` to convert a `DataFrame` or `Series` to an `ndarray`."
   ]
  },
  {
   "cell_type": "code",
<<<<<<< Updated upstream
   "execution_count": 52,
   "metadata": {
    "collapsed": false
   },
   "outputs": [
    {
     "data": {
      "text/plain": [
       "array([[3, 2, 1, 6, 5],\n",
       "       [3, 2, 7, 6, 6]])"
      ]
     },
     "execution_count": 52,
     "metadata": {},
     "output_type": "execute_result"
    }
   ],
=======
   "execution_count": 0,
   "metadata": {
    "application/vnd.databricks.v1+cell": {
     "cellMetadata": {},
     "inputWidgets": {},
     "nuid": "14c29946-aeb3-4c42-b915-2efc188bca42",
     "showTitle": false,
     "title": ""
    },
    "collapsed": false
   },
   "outputs": [],
>>>>>>> Stashed changes
   "source": [
    "np.asarray(y)"
   ]
  },
  {
   "cell_type": "markdown",
<<<<<<< Updated upstream
   "metadata": {},
=======
   "metadata": {
    "application/vnd.databricks.v1+cell": {
     "cellMetadata": {},
     "inputWidgets": {},
     "nuid": "c5c64189-7532-4ae7-ba99-7acf914c479a",
     "showTitle": false,
     "title": ""
    }
   },
>>>>>>> Stashed changes
   "source": [
    "The `dir` function produces all the methods that can be invoked on an object.  Methods whose names begin and end with two underscores are considered private."
   ]
  },
  {
   "cell_type": "code",
<<<<<<< Updated upstream
   "execution_count": 53,
   "metadata": {
    "collapsed": false
   },
   "outputs": [
    {
     "name": "stdout",
     "output_type": "stream",
     "text": [
      "['T', '__abs__', '__add__', '__and__', '__array__', '__array_finalize__', '__array_interface__', '__array_prepare__', '__array_priority__', '__array_struct__', '__array_wrap__', '__class__', '__contains__', '__copy__', '__deepcopy__', '__delattr__', '__delitem__', '__delslice__', '__div__', '__divmod__', '__doc__', '__eq__', '__float__', '__floordiv__', '__format__', '__ge__', '__getattribute__', '__getitem__', '__getslice__', '__gt__', '__hash__', '__hex__', '__iadd__', '__iand__', '__idiv__', '__ifloordiv__', '__ilshift__', '__imod__', '__imul__', '__index__', '__init__', '__int__', '__invert__', '__ior__', '__ipow__', '__irshift__', '__isub__', '__iter__', '__itruediv__', '__ixor__', '__le__', '__len__', '__long__', '__lshift__', '__lt__', '__mod__', '__mul__', '__ne__', '__neg__', '__new__', '__nonzero__', '__oct__', '__or__', '__pos__', '__pow__', '__radd__', '__rand__', '__rdiv__', '__rdivmod__', '__reduce__', '__reduce_ex__', '__repr__', '__rfloordiv__', '__rlshift__', '__rmod__', '__rmul__', '__ror__', '__rpow__', '__rrshift__', '__rshift__', '__rsub__', '__rtruediv__', '__rxor__', '__setattr__', '__setitem__', '__setslice__', '__setstate__', '__sizeof__', '__str__', '__sub__', '__subclasshook__', '__truediv__', '__xor__', 'all', 'any', 'argmax', 'argmin', 'argpartition', 'argsort', 'astype', 'base', 'byteswap', 'choose', 'clip', 'compress', 'conj', 'conjugate', 'copy', 'ctypes', 'cumprod', 'cumsum', 'data', 'diagonal', 'dot', 'dtype', 'dump', 'dumps', 'fill', 'flags', 'flat', 'flatten', 'getfield', 'imag', 'item', 'itemset', 'itemsize', 'max', 'mean', 'min', 'nbytes', 'ndim', 'newbyteorder', 'nonzero', 'partition', 'prod', 'ptp', 'put', 'ravel', 'real', 'repeat', 'reshape', 'resize', 'round', 'searchsorted', 'setfield', 'setflags', 'shape', 'size', 'sort', 'squeeze', 'std', 'strides', 'sum', 'swapaxes', 'take', 'tofile', 'tolist', 'tostring', 'trace', 'transpose', 'var', 'view']\n"
     ]
    }
   ],
=======
   "execution_count": 0,
   "metadata": {
    "application/vnd.databricks.v1+cell": {
     "cellMetadata": {},
     "inputWidgets": {},
     "nuid": "da5d1322-aef9-4684-9057-f1ffcfc38233",
     "showTitle": false,
     "title": ""
    },
    "collapsed": false
   },
   "outputs": [],
>>>>>>> Stashed changes
   "source": [
    "print(dir(z))"
   ]
  },
  {
   "cell_type": "markdown",
<<<<<<< Updated upstream
   "metadata": {},
=======
   "metadata": {
    "application/vnd.databricks.v1+cell": {
     "cellMetadata": {},
     "inputWidgets": {},
     "nuid": "83d427c4-744f-4fb0-b443-4c6b0757ace6",
     "showTitle": false,
     "title": ""
    }
   },
>>>>>>> Stashed changes
   "source": [
    "Now we can get the docstring for a specific method:"
   ]
  },
  {
   "cell_type": "code",
<<<<<<< Updated upstream
   "execution_count": 54,
   "metadata": {
    "collapsed": false
   },
   "outputs": [
    {
     "name": "stdout",
     "output_type": "stream",
     "text": [
      "Help on built-in function trace:\n",
      "\n",
      "trace(...)\n",
      "    a.trace(offset=0, axis1=0, axis2=1, dtype=None, out=None)\n",
      "    \n",
      "    Return the sum along diagonals of the array.\n",
      "    \n",
      "    Refer to `numpy.trace` for full documentation.\n",
      "    \n",
      "    See Also\n",
      "    --------\n",
      "    numpy.trace : equivalent function\n",
      "\n"
     ]
    }
   ],
=======
   "execution_count": 0,
   "metadata": {
    "application/vnd.databricks.v1+cell": {
     "cellMetadata": {},
     "inputWidgets": {},
     "nuid": "771dc9c3-685c-4ee3-a16c-9698405bd240",
     "showTitle": false,
     "title": ""
    },
    "collapsed": false
   },
   "outputs": [],
>>>>>>> Stashed changes
   "source": [
    "help(z.trace)"
   ]
  },
  {
   "cell_type": "markdown",
<<<<<<< Updated upstream
   "metadata": {},
=======
   "metadata": {
    "application/vnd.databricks.v1+cell": {
     "cellMetadata": {},
     "inputWidgets": {},
     "nuid": "57378fc8-ded1-4180-952c-984b2bb442e1",
     "showTitle": false,
     "title": ""
    }
   },
>>>>>>> Stashed changes
   "source": [
    "### Reference behavior\n",
    "\n",
    "When you slice an array, you are often getting a reference to the array that you sliced from.  This means that if you change the slice, you also are changing the value in the array that it was sliced from.  To illustrate this, let's first create an array and get a slice from it."
   ]
  },
  {
   "cell_type": "code",
<<<<<<< Updated upstream
   "execution_count": 55,
   "metadata": {
    "collapsed": false
   },
   "outputs": [
    {
     "name": "stdout",
     "output_type": "stream",
     "text": [
      "[[1 4]\n",
      " [3 2]\n",
      " [5 6]]\n",
      "\n",
      "\n",
      "[3 2]\n"
     ]
    }
   ],
=======
   "execution_count": 0,
   "metadata": {
    "application/vnd.databricks.v1+cell": {
     "cellMetadata": {},
     "inputWidgets": {},
     "nuid": "efd60532-deb7-41d5-b937-30b70b4abc92",
     "showTitle": false,
     "title": ""
    },
    "collapsed": false
   },
   "outputs": [],
>>>>>>> Stashed changes
   "source": [
    "x = np.array([[1, 4], [3,2], [5,6]])\n",
    "y = x[1, :]\n",
    "print(x)\n",
    "print(\"\\n\")\n",
    "print(y)       "
   ]
  },
  {
   "cell_type": "markdown",
<<<<<<< Updated upstream
   "metadata": {},
=======
   "metadata": {
    "application/vnd.databricks.v1+cell": {
     "cellMetadata": {},
     "inputWidgets": {},
     "nuid": "8c653f08-01e2-4b9e-8ece-ee3eab4186bf",
     "showTitle": false,
     "title": ""
    }
   },
>>>>>>> Stashed changes
   "source": [
    "Now we change a value in the slice, and check the state of the parent array (x):"
   ]
  },
  {
   "cell_type": "code",
<<<<<<< Updated upstream
   "execution_count": 56,
   "metadata": {
    "collapsed": false
   },
   "outputs": [
    {
     "name": "stdout",
     "output_type": "stream",
     "text": [
      "[ 3 88]\n",
      "\n",
      "\n",
      "[[ 1  4]\n",
      " [ 3 88]\n",
      " [ 5  6]]\n"
     ]
    }
   ],
=======
   "execution_count": 0,
   "metadata": {
    "application/vnd.databricks.v1+cell": {
     "cellMetadata": {},
     "inputWidgets": {},
     "nuid": "6ca9298c-9dfd-457a-b70a-47c659c79cd3",
     "showTitle": false,
     "title": ""
    },
    "collapsed": false
   },
   "outputs": [],
>>>>>>> Stashed changes
   "source": [
    "y[1] = 88\n",
    "print(y)\n",
    "print(\"\\n\")\n",
    "print(x)"
   ]
  },
  {
   "cell_type": "markdown",
<<<<<<< Updated upstream
   "metadata": {},
=======
   "metadata": {
    "application/vnd.databricks.v1+cell": {
     "cellMetadata": {},
     "inputWidgets": {},
     "nuid": "b6d249b7-11aa-420f-8543-3ff6ff805b0a",
     "showTitle": false,
     "title": ""
    }
   },
>>>>>>> Stashed changes
   "source": [
    "If you want to avoid this behavior, create a copy."
   ]
  },
  {
   "cell_type": "code",
<<<<<<< Updated upstream
   "execution_count": 57,
   "metadata": {
=======
   "execution_count": 0,
   "metadata": {
    "application/vnd.databricks.v1+cell": {
     "cellMetadata": {},
     "inputWidgets": {},
     "nuid": "5de2d7ff-b434-4f00-8dc7-0d098d6a4dec",
     "showTitle": false,
     "title": ""
    },
>>>>>>> Stashed changes
    "collapsed": false
   },
   "outputs": [],
   "source": [
    "y = x[1, :].copy()"
   ]
  },
  {
   "cell_type": "markdown",
<<<<<<< Updated upstream
   "metadata": {},
=======
   "metadata": {
    "application/vnd.databricks.v1+cell": {
     "cellMetadata": {},
     "inputWidgets": {},
     "nuid": "f4ae7481-92d9-4fb2-a2f8-ca1f249f0e69",
     "showTitle": false,
     "title": ""
    }
   },
>>>>>>> Stashed changes
   "source": [
    "### Merging\n",
    "\n",
    "There are several ways to merge data frames in Pandas.  One approach is to use the 'merge' function.  To illustrate, first we construct two data frames:"
   ]
  },
  {
   "cell_type": "code",
<<<<<<< Updated upstream
   "execution_count": 58,
   "metadata": {
    "collapsed": false
   },
   "outputs": [
    {
     "name": "stdout",
     "output_type": "stream",
     "text": [
      "          A         B\n",
      "1  0.286263  0.299427\n",
      "3  1.412048 -0.065437\n",
      "4  0.728740  0.089141\n",
      "5  0.604061  0.050104\n",
      "          C         D         E\n",
      "1 -0.533990  0.535573  0.173613\n",
      "2  1.639590 -1.876353 -0.539917\n",
      "5 -1.150531  0.534513  1.206041\n",
      "6  0.241901 -0.297153 -0.594572\n",
      "7  0.762719 -1.392482 -0.102770\n"
     ]
    }
   ],
=======
   "execution_count": 0,
   "metadata": {
    "application/vnd.databricks.v1+cell": {
     "cellMetadata": {},
     "inputWidgets": {},
     "nuid": "f7e6360a-2fd7-4196-a99c-691bc7b25e42",
     "showTitle": false,
     "title": ""
    },
    "collapsed": false
   },
   "outputs": [],
>>>>>>> Stashed changes
   "source": [
    "df1 = pd.DataFrame(np.random.normal(size=(4, 2)), index=[1, 3, 4, 5], columns=(\"A\", \"B\"))\n",
    "df2 = pd.DataFrame(np.random.normal(size=(5, 3)), index=[1, 2, 5, 6, 7], columns=(\"C\", \"D\", \"E\"))\n",
    "print(df1)\n",
    "print(df2)"
   ]
  },
  {
   "cell_type": "markdown",
<<<<<<< Updated upstream
   "metadata": {},
=======
   "metadata": {
    "application/vnd.databricks.v1+cell": {
     "cellMetadata": {},
     "inputWidgets": {},
     "nuid": "257d9502-6004-4c51-a4b2-69273c093e25",
     "showTitle": false,
     "title": ""
    }
   },
>>>>>>> Stashed changes
   "source": [
    "We can merge these two data frames on their indices.  The default merge is an \"inner merge\" that uses only the index values that are present in both data frames."
   ]
  },
  {
   "cell_type": "code",
<<<<<<< Updated upstream
   "execution_count": 59,
   "metadata": {
    "collapsed": false
   },
   "outputs": [
    {
     "name": "stdout",
     "output_type": "stream",
     "text": [
      "          A         B         C         D         E\n",
      "1  0.286263  0.299427 -0.533990  0.535573  0.173613\n",
      "5  0.604061  0.050104 -1.150531  0.534513  1.206041\n"
     ]
    }
   ],
=======
   "execution_count": 0,
   "metadata": {
    "application/vnd.databricks.v1+cell": {
     "cellMetadata": {},
     "inputWidgets": {},
     "nuid": "af925772-76fd-4520-a136-d5ef193387ea",
     "showTitle": false,
     "title": ""
    },
    "collapsed": false
   },
   "outputs": [],
>>>>>>> Stashed changes
   "source": [
    "df3 = pd.merge(df1, df2, left_index=True, right_index=True)\n",
    "print(df3)"
   ]
  },
  {
   "cell_type": "markdown",
<<<<<<< Updated upstream
   "metadata": {},
=======
   "metadata": {
    "application/vnd.databricks.v1+cell": {
     "cellMetadata": {},
     "inputWidgets": {},
     "nuid": "f124642f-8fe1-4f92-a8f9-ae2bba21a47f",
     "showTitle": false,
     "title": ""
    }
   },
>>>>>>> Stashed changes
   "source": [
    "An \"outer merge\" uses the index values that are present in either of the two data frames being merged:"
   ]
  },
  {
   "cell_type": "code",
<<<<<<< Updated upstream
   "execution_count": 60,
   "metadata": {
    "collapsed": false
   },
   "outputs": [
    {
     "name": "stdout",
     "output_type": "stream",
     "text": [
      "          A         B         C         D         E\n",
      "1  0.286263  0.299427 -0.533990  0.535573  0.173613\n",
      "2       NaN       NaN  1.639590 -1.876353 -0.539917\n",
      "3  1.412048 -0.065437       NaN       NaN       NaN\n",
      "4  0.728740  0.089141       NaN       NaN       NaN\n",
      "5  0.604061  0.050104 -1.150531  0.534513  1.206041\n",
      "6       NaN       NaN  0.241901 -0.297153 -0.594572\n",
      "7       NaN       NaN  0.762719 -1.392482 -0.102770\n"
     ]
    }
   ],
=======
   "execution_count": 0,
   "metadata": {
    "application/vnd.databricks.v1+cell": {
     "cellMetadata": {},
     "inputWidgets": {},
     "nuid": "6f085294-96c3-4bcd-a65d-ef72a6b8239a",
     "showTitle": false,
     "title": ""
    },
    "collapsed": false
   },
   "outputs": [],
>>>>>>> Stashed changes
   "source": [
    "df4 = pd.merge(df1, df2, left_index=True, right_index=True, how='outer')\n",
    "print(df4)"
   ]
  },
  {
   "cell_type": "markdown",
<<<<<<< Updated upstream
   "metadata": {},
=======
   "metadata": {
    "application/vnd.databricks.v1+cell": {
     "cellMetadata": {},
     "inputWidgets": {},
     "nuid": "72c2ed02-39d5-47c9-8cc7-e1981e980738",
     "showTitle": false,
     "title": ""
    }
   },
>>>>>>> Stashed changes
   "source": [
    "We can also merge using only the keys from the first data frame:"
   ]
  },
  {
   "cell_type": "code",
<<<<<<< Updated upstream
   "execution_count": 61,
   "metadata": {
    "collapsed": false
   },
   "outputs": [
    {
     "name": "stdout",
     "output_type": "stream",
     "text": [
      "          A         B         C         D         E\n",
      "1  0.286263  0.299427 -0.533990  0.535573  0.173613\n",
      "3  1.412048 -0.065437       NaN       NaN       NaN\n",
      "4  0.728740  0.089141       NaN       NaN       NaN\n",
      "5  0.604061  0.050104 -1.150531  0.534513  1.206041\n"
     ]
    }
   ],
=======
   "execution_count": 0,
   "metadata": {
    "application/vnd.databricks.v1+cell": {
     "cellMetadata": {},
     "inputWidgets": {},
     "nuid": "89d1cde5-87c2-4ef3-822a-bc05c906d730",
     "showTitle": false,
     "title": ""
    },
    "collapsed": false
   },
   "outputs": [],
>>>>>>> Stashed changes
   "source": [
    "df5 = pd.merge(df1, df2, left_index=True, right_index=True, how='left')\n",
    "print(df5)"
   ]
  },
  {
   "cell_type": "markdown",
<<<<<<< Updated upstream
   "metadata": {},
=======
   "metadata": {
    "application/vnd.databricks.v1+cell": {
     "cellMetadata": {},
     "inputWidgets": {},
     "nuid": "e6475232-ee9a-4e5a-b6dc-8cde32e11e28",
     "showTitle": false,
     "title": ""
    }
   },
>>>>>>> Stashed changes
   "source": [
    "We can also merge on non-unique values.  This can be done using an index with non-unique values, or using an arbitrary column of the data frame as the merge keys.  Here we demonstrate the latter."
   ]
  },
  {
   "cell_type": "code",
<<<<<<< Updated upstream
   "execution_count": 62,
   "metadata": {
    "collapsed": false
   },
   "outputs": [
    {
     "name": "stdout",
     "output_type": "stream",
     "text": [
      "   A         B\n",
      "0  1  0.277073\n",
      "1  2 -1.227416\n",
      "2  2  0.627276\n",
      "3  3  0.297944\n",
      "4  3  0.677057\n",
      "   C         D\n",
      "0  1 -0.314053\n",
      "1  1 -1.539383\n",
      "2  2 -0.546884\n",
      "3  2 -1.582331\n"
     ]
    }
   ],
=======
   "execution_count": 0,
   "metadata": {
    "application/vnd.databricks.v1+cell": {
     "cellMetadata": {},
     "inputWidgets": {},
     "nuid": "8d671a7b-7867-414b-935e-d0041f2343e9",
     "showTitle": false,
     "title": ""
    },
    "collapsed": false
   },
   "outputs": [],
>>>>>>> Stashed changes
   "source": [
    "df1 = pd.DataFrame(index=range(5), columns=(\"A\", \"B\"))\n",
    "df1[\"A\"] = [1, 2, 2, 3, 3]\n",
    "df1[\"B\"] = np.random.normal(size=5)\n",
    "df2 = pd.DataFrame(index=range(4), columns=(\"C\", \"D\"))\n",
    "df2[\"C\"] = [1, 1, 2, 2]\n",
    "df2[\"D\"] = np.random.normal(size=4)\n",
    "print(df1)\n",
    "print(df2)"
   ]
  },
  {
   "cell_type": "code",
<<<<<<< Updated upstream
   "execution_count": 63,
   "metadata": {
    "collapsed": false
   },
   "outputs": [
    {
     "name": "stdout",
     "output_type": "stream",
     "text": [
      "   A         B  C         D\n",
      "0  1  0.277073  1 -0.314053\n",
      "1  1  0.277073  1 -1.539383\n",
      "2  2 -1.227416  2 -0.546884\n",
      "3  2 -1.227416  2 -1.582331\n",
      "4  2  0.627276  2 -0.546884\n",
      "5  2  0.627276  2 -1.582331\n"
     ]
    }
   ],
=======
   "execution_count": 0,
   "metadata": {
    "application/vnd.databricks.v1+cell": {
     "cellMetadata": {},
     "inputWidgets": {},
     "nuid": "8add40a6-e177-470b-afd0-e5e6f6684a0b",
     "showTitle": false,
     "title": ""
    },
    "collapsed": false
   },
   "outputs": [],
>>>>>>> Stashed changes
   "source": [
    "df3 = pd.merge(df1, df2, left_on=\"A\", right_on=\"C\")\n",
    "print(df3)"
   ]
  }
 ],
 "metadata": {
<<<<<<< Updated upstream
=======
  "application/vnd.databricks.v1+notebook": {
   "dashboards": [],
   "language": "python",
   "notebookMetadata": {},
   "notebookName": "Indexing_arrays_and_matrices",
   "widgets": {}
  },
>>>>>>> Stashed changes
  "kernelspec": {
   "display_name": "Python 2",
   "language": "python",
   "name": "python2"
  },
  "language_info": {
   "codemirror_mode": {
    "name": "ipython",
    "version": 2
   },
   "file_extension": ".py",
   "mimetype": "text/x-python",
   "name": "python",
   "nbconvert_exporter": "python",
   "pygments_lexer": "ipython2",
   "version": "2.7.8"
  },
  "name": "Indexing_arrays_and_matrices.ipynb"
 },
 "nbformat": 4,
 "nbformat_minor": 0
}
