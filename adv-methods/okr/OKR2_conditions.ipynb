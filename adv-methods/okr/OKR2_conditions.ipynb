{
 "cells": [
  {
   "cell_type": "markdown",
   "metadata": {
    "application/vnd.databricks.v1+cell": {
     "cellMetadata": {
      "byteLimit": 2048000,
      "rowLimit": 10000
     },
     "inputWidgets": {},
     "nuid": "50ff261d-d619-4942-ad9f-8c5213b2be7d",
     "showTitle": false,
     "tableResultSettingsMap": {},
     "title": ""
    }
   },
   "source": [
    "Hardcoded to domain_id=='Condition', can be extended for other NERs"
   ]
  },
  {
   "cell_type": "code",
   "execution_count": 0,
   "metadata": {
    "application/vnd.databricks.v1+cell": {
     "cellMetadata": {
      "byteLimit": 2048000,
      "rowLimit": 10000
     },
     "inputWidgets": {},
     "nuid": "03b7f0c0-4667-4216-99c3-49ca1012309a",
     "showTitle": false,
     "tableResultSettingsMap": {},
     "title": ""
    }
   },
   "outputs": [],
   "source": [
    "%python\n",
    "dbutils.widgets.text(\"EXPERIMENT_ID\",\"4090675059920416\")\n",
    "dbutils.widgets.text(\"CATALOG\",\"edav_prd_cdh\")\n",
    "dbutils.widgets.text(\"SRC_SCHEMA\",\"cdh_abfm_phi_ra\")\n",
    "dbutils.widgets.text(\"DEST_SCHEMA\",\"cdh_abfm_phi_exploratory\")\n",
    "dbutils.widgets.text(\"NLP_TABLE\",\"ml_note_random_nlp\")\n",
    "# {CATALOG}.{SRC_SCHEMA}.{table)\n",
    "# {CATALOG}.{DEST_SCHEMA}.{table)"
   ]
  },
  {
   "cell_type": "markdown",
   "metadata": {
    "application/vnd.databricks.v1+cell": {
     "cellMetadata": {
      "byteLimit": 2048000,
      "rowLimit": 10000
     },
     "inputWidgets": {},
     "nuid": "e82e3335-cdb3-42a1-8c16-c35e61b148c7",
     "showTitle": false,
     "tableResultSettingsMap": {},
     "title": ""
    }
   },
   "source": [
    "CREATE WIDGET TEXT CATALOG DEFAULT \"edav_dev_prd\";\n",
    "CREATE WIDGET TEXT SRC_SCHEMA DEFAULT \"cdh_abfm_phi_ra\";\n",
    "CREATE WIDGET TEXT DEST_SCHEMA DEFAULT \"cdh_abfm_phi_exploratory\";"
   ]
  },
  {
   "cell_type": "code",
   "execution_count": 0,
   "metadata": {
    "application/vnd.databricks.v1+cell": {
     "cellMetadata": {
      "byteLimit": 2048000,
      "rowLimit": 10000
     },
     "inputWidgets": {},
     "nuid": "38b7b304-861b-4315-94ff-7c0c6054f634",
     "showTitle": false,
     "tableResultSettingsMap": {},
     "title": ""
    }
   },
   "outputs": [],
   "source": [
    "%python\n",
    "# 15.2 and above PARMS=dbutils.widgets.getAll()\n",
    "# 15.2 and above print(PARMS)\n",
    "EXPERIMENT_ID=dbutils.widgets.get(\"EXPERIMENT_ID\")\n",
    "CATALOG=dbutils.widgets.get(\"CATALOG\").strip()\n",
    "SRC_SCHEMA=(dbutils.widgets.get(\"SRC_SCHEMA\")).strip()\n",
    "DEST_SCHEMA=(dbutils.widgets.get(\"DEST_SCHEMA\")).strip()\n",
    "NLP_TABLE=(dbutils.widgets.get(\"NLP_TABLE\")).strip()"
   ]
  },
  {
   "cell_type": "code",
   "execution_count": 0,
   "metadata": {
    "application/vnd.databricks.v1+cell": {
     "cellMetadata": {
      "byteLimit": 2048000,
      "rowLimit": 10000
     },
     "inputWidgets": {},
     "nuid": "19080e97-4880-4975-b843-7727c918132d",
     "showTitle": false,
     "tableResultSettingsMap": {},
     "title": ""
    }
   },
   "outputs": [],
   "source": [
    "%python\n",
    "sqltext=f\"create or replace table {CATALOG}.{DEST_SCHEMA}.fact_person_summary as \"\\\n",
    "\"select person_id,observation_datetime,domain_id, count(distinct concept_code) as codes \"\\\n",
    "f\" from {CATALOG}.{SRC_SCHEMA}.fact_person \"\\\n",
    "\" where observation_datetime is not null\"\\\n",
    "\" group by person_id, observation_datetime,domain_id\"\n",
    "results=spark.sql(sqltext)\n",
    "display(results)"
   ]
  },
  {
   "cell_type": "code",
   "execution_count": 0,
   "metadata": {
    "application/vnd.databricks.v1+cell": {
     "cellMetadata": {
      "byteLimit": 2048000,
      "rowLimit": 10000
     },
     "inputWidgets": {},
     "nuid": "0e590532-ab37-445a-96a5-7ce4773fe1d0",
     "showTitle": false,
     "tableResultSettingsMap": {},
     "title": ""
    }
   },
   "outputs": [],
   "source": [
    "%python\n",
    "sqltext=f\"create or replace table {CATALOG}.{DEST_SCHEMA}.{NLP_TABLE}_entities as \"\\\n",
    "\"select note_id,count(nlp_category) as ner_count from \"\\\n",
    "\"(select  note_id, snippet, nlp_category, count(score) as counts \"\\\n",
    "f\" from  {CATALOG}.{DEST_SCHEMA}.{NLP_TABLE} group by  note_id, snippet, nlp_category ) \"\\\n",
    "\"group by note_id \"\n",
    "print(sqltext)\n",
    "results=spark.sql(sqltext)\n",
    "display(results)"
   ]
  },
  {
   "cell_type": "code",
   "execution_count": 0,
   "metadata": {
    "application/vnd.databricks.v1+cell": {
     "cellMetadata": {
      "byteLimit": 2048000,
      "rowLimit": 10000
     },
     "inputWidgets": {},
     "nuid": "84241dae-a299-4c0b-94ba-25afd71cc59a",
     "showTitle": false,
     "tableResultSettingsMap": {},
     "title": ""
    }
   },
   "outputs": [],
   "source": [
    "%python\n",
    "sqltext=f\"create or replace table {CATALOG}.{DEST_SCHEMA}.{NLP_TABLE}_details as \"\\\n",
    "\"select note_id,\"\\\n",
    "\"person_id,\"\\\n",
    "f\"note_datetime from  {CATALOG}.{SRC_SCHEMA}.note n \"\\\n",
    "     f\"where note_id in (select distinct e.note_id from  {CATALOG}.{DEST_SCHEMA}.{NLP_TABLE}_entities e)\"\n",
    "print(sqltext)\n",
    "results=spark.sql(sqltext)\n",
    "display(results)"
   ]
  },
  {
   "cell_type": "code",
   "execution_count": 0,
   "metadata": {
    "application/vnd.databricks.v1+cell": {
     "cellMetadata": {
      "byteLimit": 2048000,
      "implicitDf": true,
      "rowLimit": 10000
     },
     "inputWidgets": {},
     "nuid": "4cb459b2-9c6c-4742-8f45-54a09d49abf4",
     "showTitle": false,
     "tableResultSettingsMap": {},
     "title": ""
    }
   },
   "outputs": [],
   "source": [
    "sqltext=f\"create or replace table {CATALOG}.{DEST_SCHEMA}.{NLP_TABLE}_okr_summary as \"\\\n",
    "\"select d.person_id,d.note_datetime,count(e.note_id) as note_count, sum(e.ner_count) as total_ner \" \\\n",
    "f\"from {CATALOG}.{DEST_SCHEMA}.{NLP_TABLE}_details d \"\\\n",
    "f\"left join {CATALOG}.{DEST_SCHEMA}.{NLP_TABLE}_entities e \"\\\n",
    "\"on d.note_id=e.note_id \"\\\n",
    "\"group by d.person_id, d.note_datetime\"\n",
    "print(sqltext)\n",
    "results=spark.sql(sqltext)\n",
    "display(results)\n"
   ]
  },
  {
   "cell_type": "code",
   "execution_count": 0,
   "metadata": {
    "application/vnd.databricks.v1+cell": {
     "cellMetadata": {
      "byteLimit": 2048000,
      "implicitDf": true,
      "rowLimit": 10000
     },
     "inputWidgets": {},
     "nuid": "8b2c09a1-d2b7-4da5-a722-b48c26a8af4e",
     "showTitle": false,
     "tableResultSettingsMap": {},
     "title": ""
    }
   },
   "outputs": [],
   "source": [
    "sqltext=f\"create or replace table {CATALOG}.{DEST_SCHEMA}.{NLP_TABLE}_condition_okr as \"\\\n",
    "\"select f.person_id,f.observation_datetime,f.codes,n.total_ner,n.note_count,CAST(n.note_count>f.codes  as Integer) as okr_val \"\\\n",
    "f\"from {CATALOG}.{DEST_SCHEMA}.fact_person_summary f \"\\\n",
    "f\"join {CATALOG}.{DEST_SCHEMA}.{NLP_TABLE}_okr_summary n \"\\\n",
    "\"on f.person_id=n.person_id and f.observation_datetime=n.note_datetime \"\\\n",
    "\"where f.domain_id like '%Condition%' \"\n",
    "print(sqltext)\n",
    "results=spark.sql(sqltext)\n",
    "display(results)"
   ]
  },
  {
   "cell_type": "code",
   "execution_count": 0,
   "metadata": {
    "application/vnd.databricks.v1+cell": {
     "cellMetadata": {
      "byteLimit": 2048000,
      "rowLimit": 10000
     },
     "inputWidgets": {},
     "nuid": "ca27cd0c-e37e-4422-bf18-27f2f519ba10",
     "showTitle": false,
     "tableResultSettingsMap": {},
     "title": ""
    }
   },
   "outputs": [],
   "source": [
    "%python\n",
    "okr_summary=spark.sql(f\"select count(*) as records,sum(okr_val) as OKR2 from {CATALOG}.{DEST_SCHEMA}.{NLP_TABLE}_condition_okr\") \n",
    "display(okr_summary)"
   ]
  },
  {
   "cell_type": "code",
   "execution_count": 0,
   "metadata": {
    "application/vnd.databricks.v1+cell": {
     "cellMetadata": {
      "byteLimit": 2048000,
      "rowLimit": 10000
     },
     "inputWidgets": {},
     "nuid": "5f6adead-568f-4312-a732-86516f79b077",
     "showTitle": false,
     "tableResultSettingsMap": {},
     "title": ""
    }
   },
   "outputs": [],
   "source": [
    "%python\n",
    "import mlflow\n",
    "records,ners=okr_summary.toPandas().values[0]\n",
    "okr=ners/records\n",
    "with mlflow.start_run(experiment_id=EXPERIMENT_ID):\n",
    "    mlflow.log_metric(f\"efficiency_percentage\", okr)\n",
    "    mlflow.log_metric(f\"records\",records)"
   ]
  }
 ],
 "metadata": {
  "application/vnd.databricks.v1+notebook": {
   "computePreferences": null,
   "dashboards": [],
   "environmentMetadata": {
    "base_environment": "",
    "environment_version": "1"
   },
   "language": "python",
   "notebookMetadata": {
    "mostRecentlyExecutedCommandWithImplicitDF": {
     "commandId": -1,
     "dataframes": [
      "_sqldf"
     ]
    },
    "pythonIndentUnit": 4
   },
   "notebookName": "OKR2_conditions",
   "widgets": {
    "CATALOG": {
     "currentValue": "edav_prd_cdh",
     "nuid": "21e895dc-344d-4941-a85a-a03ce32dee74",
     "typedWidgetInfo": {
      "autoCreated": false,
      "defaultValue": "edav_prd_cdh",
      "label": null,
      "name": "CATALOG",
      "options": {
       "validationRegex": null,
       "widgetDisplayType": "Text"
      },
      "parameterDataType": "String"
     },
     "widgetInfo": {
      "defaultValue": "edav_prd_cdh",
      "label": null,
      "name": "CATALOG",
      "options": {
       "autoCreated": null,
       "validationRegex": null,
       "widgetType": "text"
      },
      "widgetType": "text"
     }
    },
    "DEST_SCHEMA": {
     "currentValue": "cdh_abfm_phi_exploratory",
     "nuid": "81c8904b-11c3-436a-853d-4cfcac1ffe24",
     "typedWidgetInfo": {
      "autoCreated": false,
      "defaultValue": "cdh_abfm_phi_exploratory",
      "label": null,
      "name": "DEST_SCHEMA",
      "options": {
       "validationRegex": null,
       "widgetDisplayType": "Text"
      },
      "parameterDataType": "String"
     },
     "widgetInfo": {
      "defaultValue": "cdh_abfm_phi_exploratory",
      "label": null,
      "name": "DEST_SCHEMA",
      "options": {
       "autoCreated": null,
       "validationRegex": null,
       "widgetType": "text"
      },
      "widgetType": "text"
     }
    },
    "EXPERIMENT_ID": {
     "currentValue": "4090675059920416",
     "nuid": "e7842cd6-5655-4dfe-9902-cce090385f93",
     "typedWidgetInfo": {
      "autoCreated": false,
      "defaultValue": "4090675059920416",
      "label": null,
      "name": "EXPERIMENT_ID",
      "options": {
       "validationRegex": null,
       "widgetDisplayType": "Text"
      },
      "parameterDataType": "String"
     },
     "widgetInfo": {
      "defaultValue": "4090675059920416",
      "label": null,
      "name": "EXPERIMENT_ID",
      "options": {
       "autoCreated": null,
       "validationRegex": null,
       "widgetType": "text"
      },
      "widgetType": "text"
     }
    },
    "NLP_TABLE": {
     "currentValue": "ml_note_random_nlp",
     "nuid": "6d681308-fa08-4aaf-9508-02929db7b6f4",
     "typedWidgetInfo": {
      "autoCreated": false,
      "defaultValue": "ml_note_random_nlp",
      "label": null,
      "name": "NLP_TABLE",
      "options": {
       "validationRegex": null,
       "widgetDisplayType": "Text"
      },
      "parameterDataType": "String"
     },
     "widgetInfo": {
      "defaultValue": "ml_note_random_nlp",
      "label": null,
      "name": "NLP_TABLE",
      "options": {
       "autoCreated": null,
       "validationRegex": null,
       "widgetType": "text"
      },
      "widgetType": "text"
     }
    },
    "SRC_SCHEMA": {
     "currentValue": "cdh_abfm_phi_ra",
     "nuid": "bc2a7235-c326-4b33-8267-ad22a7d30ac2",
     "typedWidgetInfo": {
      "autoCreated": false,
      "defaultValue": "cdh_abfm_phi_ra",
      "label": null,
      "name": "SRC_SCHEMA",
      "options": {
       "validationRegex": null,
       "widgetDisplayType": "Text"
      },
      "parameterDataType": "String"
     },
     "widgetInfo": {
      "defaultValue": "cdh_abfm_phi_ra",
      "label": null,
      "name": "SRC_SCHEMA",
      "options": {
       "autoCreated": null,
       "validationRegex": null,
       "widgetType": "text"
      },
      "widgetType": "text"
     }
    }
   }
  },
  "language_info": {
   "name": "python"
  }
 },
 "nbformat": 4,
 "nbformat_minor": 0
}
