{
 "cells": [
  {
   "cell_type": "code",
   "execution_count": 12,
   "metadata": {},
   "outputs": [],
   "source": [
    "import pickle as pkl\n",
    "import os\n",
    "import numpy as np\n",
    "import pandas as pd\n",
    "\n",
    "# !pip install matplotlib altair\n",
    "import matplotlib.pyplot as plt\n",
    "import altair as alt"
   ]
  },
  {
   "cell_type": "code",
   "execution_count": 3,
   "metadata": {},
   "outputs": [],
   "source": [
    "# DIRS\n",
    "pwd = os.path.dirname(\"\")\n",
    "\n",
    "# If no args are passed to overwrite these values, use repo structure to construct\n",
    "data_dir = os.path.abspath(os.path.join(pwd, \"..\", \"data\", \"data\", \"\"))\n",
    "output_dir = os.path.abspath(os.path.join(pwd, \"..\", \"output\", \"\"))\n",
    "pkl_dir = os.path.join(output_dir, \"pkl\")\n",
    "\n",
    "\n",
    "# Data load\n",
    "with open(os.path.join(pkl_dir, \"trimmed_seqs.pkl\"), \"rb\") as f:\n",
    "    inputs = pkl.load(f)\n",
    "\n",
    "with open(os.path.join(pkl_dir, \"all_ftrs_dict.pkl\"), \"rb\") as f:\n",
    "    vocab = pkl.load(f)\n",
    "\n",
    "with open(os.path.join(pkl_dir, \"feature_lookup.pkl\"), \"rb\") as f:\n",
    "    all_feats = pkl.load(f)\n",
    "\n",
    "with open(os.path.join(pkl_dir, \"demog_dict.pkl\"), \"rb\") as f:\n",
    "    demog_lookup = pkl.load(f)\n",
    "\n",
    "cohort = pd.read_csv(os.path.join(output_dir, \"cohort.csv\"))"
   ]
  },
  {
   "cell_type": "code",
   "execution_count": 4,
   "metadata": {},
   "outputs": [],
   "source": [
    "cohort_melt = cohort.melt(id_vars=[\"key\", \"age\", \"length\"], value_vars=[\"misa_pt\", \"icu\", \"death\"])\n",
    "cohort_melt[\"variable\"] = cohort_melt.variable.map({\"icu\": \"ICU\", \"death\": \"Death\", \"misa_pt\": \"HS\"})\n",
    "cohort_melt[\"value\"] = cohort_melt.value.map({0: \"No\", 1: \"Yes\"})"
   ]
  },
  {
   "cell_type": "code",
   "execution_count": 5,
   "metadata": {},
   "outputs": [],
   "source": [
    "assert len(inputs) == cohort.shape[0]"
   ]
  },
  {
   "cell_type": "code",
   "execution_count": 6,
   "metadata": {},
   "outputs": [],
   "source": [
    "lengths = pd.DataFrame([(len(a), b) for a,_,b in inputs], columns=[\"pD\", \"labels\"])"
   ]
  },
  {
   "cell_type": "code",
   "execution_count": 7,
   "metadata": {},
   "outputs": [],
   "source": [
    "lengths[[\"icu\", \"death\", \"misa_pt\"]] = pd.DataFrame(lengths[\"labels\"].tolist(), index = lengths.index)\n",
    "lengths.drop(columns=\"labels\", inplace=True)\n",
    "lengths_melt = lengths.melt(id_vars=\"pD\", value_vars=[\"icu\", \"death\", \"misa_pt\"])"
   ]
  },
  {
   "cell_type": "code",
   "execution_count": 8,
   "metadata": {},
   "outputs": [],
   "source": [
    "lengths_melt[\"variable\"] = lengths_melt.variable.map({\"icu\": \"ICU\", \"death\": \"Death\", \"misa_pt\": \"HS\"})\n",
    "lengths_melt[\"value\"] = lengths_melt.value.map({0: \"No\", 1: \"Yes\"})"
   ]
  },
  {
   "cell_type": "markdown",
   "metadata": {},
   "source": [
    "## Days of Observation"
   ]
  },
  {
   "cell_type": "code",
   "execution_count": 9,
   "metadata": {},
   "outputs": [
    {
     "data": {
      "text/html": [
       "\n",
       "<div id=\"altair-viz-009e78080edc4b3c97ed7a0f0d3daa39\"></div>\n",
       "<script type=\"text/javascript\">\n",
       "  var VEGA_DEBUG = (typeof VEGA_DEBUG == \"undefined\") ? {} : VEGA_DEBUG;\n",
       "  (function(spec, embedOpt){\n",
       "    let outputDiv = document.currentScript.previousElementSibling;\n",
       "    if (outputDiv.id !== \"altair-viz-009e78080edc4b3c97ed7a0f0d3daa39\") {\n",
       "      outputDiv = document.getElementById(\"altair-viz-009e78080edc4b3c97ed7a0f0d3daa39\");\n",
       "    }\n",
       "    const paths = {\n",
       "      \"vega\": \"https://cdn.jsdelivr.net/npm//vega@5?noext\",\n",
       "      \"vega-lib\": \"https://cdn.jsdelivr.net/npm//vega-lib?noext\",\n",
       "      \"vega-lite\": \"https://cdn.jsdelivr.net/npm//vega-lite@4.17.0?noext\",\n",
       "      \"vega-embed\": \"https://cdn.jsdelivr.net/npm//vega-embed@6?noext\",\n",
       "    };\n",
       "\n",
       "    function maybeLoadScript(lib, version) {\n",
       "      var key = `${lib.replace(\"-\", \"\")}_version`;\n",
       "      return (VEGA_DEBUG[key] == version) ?\n",
       "        Promise.resolve(paths[lib]) :\n",
       "        new Promise(function(resolve, reject) {\n",
       "          var s = document.createElement('script');\n",
       "          document.getElementsByTagName(\"head\")[0].appendChild(s);\n",
       "          s.async = true;\n",
       "          s.onload = () => {\n",
       "            VEGA_DEBUG[key] = version;\n",
       "            return resolve(paths[lib]);\n",
       "          };\n",
       "          s.onerror = () => reject(`Error loading script: ${paths[lib]}`);\n",
       "          s.src = paths[lib];\n",
       "        });\n",
       "    }\n",
       "\n",
       "    function showError(err) {\n",
       "      outputDiv.innerHTML = `<div class=\"error\" style=\"color:red;\">${err}</div>`;\n",
       "      throw err;\n",
       "    }\n",
       "\n",
       "    function displayChart(vegaEmbed) {\n",
       "      vegaEmbed(outputDiv, spec, embedOpt)\n",
       "        .catch(err => showError(`Javascript Error: ${err.message}<br>This usually means there's a typo in your chart specification. See the javascript console for the full traceback.`));\n",
       "    }\n",
       "\n",
       "    if(typeof define === \"function\" && define.amd) {\n",
       "      requirejs.config({paths});\n",
       "      require([\"vega-embed\"], displayChart, err => showError(`Error loading script: ${err.message}`));\n",
       "    } else {\n",
       "      maybeLoadScript(\"vega\", \"5\")\n",
       "        .then(() => maybeLoadScript(\"vega-lite\", \"4.17.0\"))\n",
       "        .then(() => maybeLoadScript(\"vega-embed\", \"6\"))\n",
       "        .catch(showError)\n",
       "        .then(() => displayChart(vegaEmbed));\n",
       "    }\n",
       "  })({\"config\": {\"view\": {\"continuousWidth\": 400, \"continuousHeight\": 300}}, \"data\": {\"url\": \"altair-data-633a6c8c107a45fabc3fca35af3e900a.json\", \"format\": {\"type\": \"json\"}}, \"facet\": {\"row\": {\"field\": \"variable\", \"title\": \"\", \"type\": \"nominal\"}}, \"spec\": {\"mark\": {\"type\": \"boxplot\", \"outliers\": true}, \"encoding\": {\"color\": {\"field\": \"variable\", \"title\": \"Outcome\", \"type\": \"nominal\"}, \"x\": {\"field\": \"pD\", \"title\": \"Days of Follow-up\", \"type\": \"quantitative\"}, \"y\": {\"field\": \"value\", \"title\": \"\", \"type\": \"ordinal\"}}}, \"$schema\": \"https://vega.github.io/schema/vega-lite/v4.17.0.json\"}, {\"mode\": \"vega-lite\"});\n",
       "</script>"
      ],
      "text/plain": [
       "alt.FacetChart(...)"
      ]
     },
     "execution_count": 9,
     "metadata": {},
     "output_type": "execute_result"
    }
   ],
   "source": [
    "alt.data_transformers.enable('json')\n",
    "\n",
    "# Chart with Outliers (that is entirely useless because of that)\n",
    "alt.Chart(lengths_melt).mark_boxplot(outliers=True).encode(\n",
    "        y=alt.Y(\"value:O\", title = \"\"),\n",
    "        x=alt.X(\"pD:Q\", title=\"Days of Follow-up\"),\n",
    "        color=alt.Color('variable:N', title = \"Outcome\")\n",
    ").facet(\n",
    "    row=alt.X('variable:N', title = \"\")\n",
    ")"
   ]
  },
  {
   "cell_type": "code",
   "execution_count": 21,
   "metadata": {},
   "outputs": [
    {
     "data": {
      "text/html": [
       "\n",
       "<div id=\"altair-viz-58e7464fc2664952ab5d6e5c954bef3c\"></div>\n",
       "<script type=\"text/javascript\">\n",
       "  var VEGA_DEBUG = (typeof VEGA_DEBUG == \"undefined\") ? {} : VEGA_DEBUG;\n",
       "  (function(spec, embedOpt){\n",
       "    let outputDiv = document.currentScript.previousElementSibling;\n",
       "    if (outputDiv.id !== \"altair-viz-58e7464fc2664952ab5d6e5c954bef3c\") {\n",
       "      outputDiv = document.getElementById(\"altair-viz-58e7464fc2664952ab5d6e5c954bef3c\");\n",
       "    }\n",
       "    const paths = {\n",
       "      \"vega\": \"https://cdn.jsdelivr.net/npm//vega@5?noext\",\n",
       "      \"vega-lib\": \"https://cdn.jsdelivr.net/npm//vega-lib?noext\",\n",
       "      \"vega-lite\": \"https://cdn.jsdelivr.net/npm//vega-lite@4.17.0?noext\",\n",
       "      \"vega-embed\": \"https://cdn.jsdelivr.net/npm//vega-embed@6?noext\",\n",
       "    };\n",
       "\n",
       "    function maybeLoadScript(lib, version) {\n",
       "      var key = `${lib.replace(\"-\", \"\")}_version`;\n",
       "      return (VEGA_DEBUG[key] == version) ?\n",
       "        Promise.resolve(paths[lib]) :\n",
       "        new Promise(function(resolve, reject) {\n",
       "          var s = document.createElement('script');\n",
       "          document.getElementsByTagName(\"head\")[0].appendChild(s);\n",
       "          s.async = true;\n",
       "          s.onload = () => {\n",
       "            VEGA_DEBUG[key] = version;\n",
       "            return resolve(paths[lib]);\n",
       "          };\n",
       "          s.onerror = () => reject(`Error loading script: ${paths[lib]}`);\n",
       "          s.src = paths[lib];\n",
       "        });\n",
       "    }\n",
       "\n",
       "    function showError(err) {\n",
       "      outputDiv.innerHTML = `<div class=\"error\" style=\"color:red;\">${err}</div>`;\n",
       "      throw err;\n",
       "    }\n",
       "\n",
       "    function displayChart(vegaEmbed) {\n",
       "      vegaEmbed(outputDiv, spec, embedOpt)\n",
       "        .catch(err => showError(`Javascript Error: ${err.message}<br>This usually means there's a typo in your chart specification. See the javascript console for the full traceback.`));\n",
       "    }\n",
       "\n",
       "    if(typeof define === \"function\" && define.amd) {\n",
       "      requirejs.config({paths});\n",
       "      require([\"vega-embed\"], displayChart, err => showError(`Error loading script: ${err.message}`));\n",
       "    } else {\n",
       "      maybeLoadScript(\"vega\", \"5\")\n",
       "        .then(() => maybeLoadScript(\"vega-lite\", \"4.17.0\"))\n",
       "        .then(() => maybeLoadScript(\"vega-embed\", \"6\"))\n",
       "        .catch(showError)\n",
       "        .then(() => displayChart(vegaEmbed));\n",
       "    }\n",
       "  })({\"config\": {\"view\": {\"continuousWidth\": 400, \"continuousHeight\": 300}}, \"data\": {\"url\": \"altair-data-633a6c8c107a45fabc3fca35af3e900a.json\", \"format\": {\"type\": \"json\"}}, \"facet\": {\"row\": {\"field\": \"variable\", \"title\": \"\", \"type\": \"nominal\"}}, \"spec\": {\"mark\": {\"type\": \"boxplot\", \"median\": {\"stroke\": \"black\", \"strokeWidth\": 2}, \"outliers\": false, \"ticks\": true}, \"encoding\": {\"color\": {\"field\": \"variable\", \"title\": \"Outcome\", \"type\": \"nominal\"}, \"x\": {\"field\": \"pD\", \"title\": \"Days of Follow-up\", \"type\": \"quantitative\"}, \"y\": {\"field\": \"value\", \"title\": \"\", \"type\": \"ordinal\"}}}, \"$schema\": \"https://vega.github.io/schema/vega-lite/v4.17.0.json\"}, {\"mode\": \"vega-lite\"});\n",
       "</script>"
      ],
      "text/plain": [
       "alt.FacetChart(...)"
      ]
     },
     "execution_count": 21,
     "metadata": {},
     "output_type": "execute_result"
    }
   ],
   "source": [
    "# Same chart without outliers\n",
    "\n",
    "a = alt.Chart(lengths_melt).mark_boxplot(outliers=False, median={'stroke': 'black', 'strokeWidth': 2}, ticks=True).encode(\n",
    "        y=alt.Y(\"value:O\", title = \"\"),\n",
    "        x=alt.X(\"pD:Q\", title=\"Days of Follow-up\"),\n",
    "        color=alt.Color('variable:N', title = \"Outcome\")\n",
    ").facet(\n",
    "    row=alt.X('variable:N', title = \"\")\n",
    ")\n",
    "\n",
    "# lengths_median = lengths_melt.groupby([\"value\", \"variable\"])[\"pD\"].agg(np.median)\n",
    "# lengths_median.reset_index()\n",
    "\n",
    "# b = alt.Chart(lengths_melt).mark_tick().encode(\n",
    "#     y=alt.Y(\"value:O\", title = \"\"),\n",
    "#     x = alt.X(\"pD:Q\", aggregate=\"median\", title = \"\"),\n",
    "#     color = \"Black\"\n",
    "# ).facet(\n",
    "#     row=alt.X('variable:N', title = \"\")\n",
    "# )\n",
    "\n",
    "# a + b\n",
    "a"
   ]
  },
  {
   "cell_type": "markdown",
   "metadata": {},
   "source": [
    "## Age"
   ]
  },
  {
   "cell_type": "code",
   "execution_count": 11,
   "metadata": {},
   "outputs": [
    {
     "data": {
      "text/html": [
       "\n",
       "<div id=\"altair-viz-aea562d0ee954b77a5611813df963f8e\"></div>\n",
       "<script type=\"text/javascript\">\n",
       "  var VEGA_DEBUG = (typeof VEGA_DEBUG == \"undefined\") ? {} : VEGA_DEBUG;\n",
       "  (function(spec, embedOpt){\n",
       "    let outputDiv = document.currentScript.previousElementSibling;\n",
       "    if (outputDiv.id !== \"altair-viz-aea562d0ee954b77a5611813df963f8e\") {\n",
       "      outputDiv = document.getElementById(\"altair-viz-aea562d0ee954b77a5611813df963f8e\");\n",
       "    }\n",
       "    const paths = {\n",
       "      \"vega\": \"https://cdn.jsdelivr.net/npm//vega@5?noext\",\n",
       "      \"vega-lib\": \"https://cdn.jsdelivr.net/npm//vega-lib?noext\",\n",
       "      \"vega-lite\": \"https://cdn.jsdelivr.net/npm//vega-lite@4.17.0?noext\",\n",
       "      \"vega-embed\": \"https://cdn.jsdelivr.net/npm//vega-embed@6?noext\",\n",
       "    };\n",
       "\n",
       "    function maybeLoadScript(lib, version) {\n",
       "      var key = `${lib.replace(\"-\", \"\")}_version`;\n",
       "      return (VEGA_DEBUG[key] == version) ?\n",
       "        Promise.resolve(paths[lib]) :\n",
       "        new Promise(function(resolve, reject) {\n",
       "          var s = document.createElement('script');\n",
       "          document.getElementsByTagName(\"head\")[0].appendChild(s);\n",
       "          s.async = true;\n",
       "          s.onload = () => {\n",
       "            VEGA_DEBUG[key] = version;\n",
       "            return resolve(paths[lib]);\n",
       "          };\n",
       "          s.onerror = () => reject(`Error loading script: ${paths[lib]}`);\n",
       "          s.src = paths[lib];\n",
       "        });\n",
       "    }\n",
       "\n",
       "    function showError(err) {\n",
       "      outputDiv.innerHTML = `<div class=\"error\" style=\"color:red;\">${err}</div>`;\n",
       "      throw err;\n",
       "    }\n",
       "\n",
       "    function displayChart(vegaEmbed) {\n",
       "      vegaEmbed(outputDiv, spec, embedOpt)\n",
       "        .catch(err => showError(`Javascript Error: ${err.message}<br>This usually means there's a typo in your chart specification. See the javascript console for the full traceback.`));\n",
       "    }\n",
       "\n",
       "    if(typeof define === \"function\" && define.amd) {\n",
       "      requirejs.config({paths});\n",
       "      require([\"vega-embed\"], displayChart, err => showError(`Error loading script: ${err.message}`));\n",
       "    } else {\n",
       "      maybeLoadScript(\"vega\", \"5\")\n",
       "        .then(() => maybeLoadScript(\"vega-lite\", \"4.17.0\"))\n",
       "        .then(() => maybeLoadScript(\"vega-embed\", \"6\"))\n",
       "        .catch(showError)\n",
       "        .then(() => displayChart(vegaEmbed));\n",
       "    }\n",
       "  })({\"config\": {\"view\": {\"continuousWidth\": 400, \"continuousHeight\": 300}}, \"data\": {\"url\": \"altair-data-51b2660fffa14ca02967c2282b961556.json\", \"format\": {\"type\": \"json\"}}, \"facet\": {\"row\": {\"field\": \"variable\", \"title\": \"\", \"type\": \"nominal\"}}, \"spec\": {\"mark\": {\"type\": \"boxplot\", \"outliers\": true}, \"encoding\": {\"color\": {\"field\": \"variable\", \"title\": \"Outcome\", \"type\": \"nominal\"}, \"x\": {\"field\": \"age\", \"title\": \"Age\", \"type\": \"quantitative\"}, \"y\": {\"field\": \"value\", \"title\": \"\", \"type\": \"ordinal\"}}}, \"$schema\": \"https://vega.github.io/schema/vega-lite/v4.17.0.json\"}, {\"mode\": \"vega-lite\"});\n",
       "</script>"
      ],
      "text/plain": [
       "alt.FacetChart(...)"
      ]
     },
     "execution_count": 11,
     "metadata": {},
     "output_type": "execute_result"
    }
   ],
   "source": [
    "alt.data_transformers.enable('json')\n",
    "\n",
    "alt.Chart(cohort_melt).mark_boxplot(outliers=True).encode(\n",
    "        y=alt.Y(\"value:O\", title = \"\"),\n",
    "        x=alt.X(\"age:Q\", title=\"Age\"),\n",
    "        color=alt.Color('variable:N', title = \"Outcome\")\n",
    ").facet(\n",
    "    row=alt.X('variable:N', title = \"\")\n",
    ")"
   ]
  }
 ],
 "metadata": {
  "interpreter": {
   "hash": "fc68719d40e117cc2b8f9301325a93d12781d94e45393b7d87c5a2a2d1baa9b5"
  },
  "kernelspec": {
   "display_name": "Python 3.8.3 64-bit ('deeplearning_3.8.3': venv)",
   "name": "python3"
  },
  "language_info": {
   "codemirror_mode": {
    "name": "ipython",
    "version": 3
   },
   "file_extension": ".py",
   "mimetype": "text/x-python",
   "name": "python",
   "nbconvert_exporter": "python",
   "pygments_lexer": "ipython3",
   "version": "3.8.6"
  },
  "orig_nbformat": 4
 },
 "nbformat": 4,
 "nbformat_minor": 2
}
