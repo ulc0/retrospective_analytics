{
 "cells": [
  {
   "cell_type": "code",
   "execution_count": null,
   "metadata": {},
   "outputs": [],
   "source": [
    "# Imports\r\n",
    "import os\r\n",
    "import pickle as pkl\r\n",
    "\r\n",
    "import numpy as np\r\n",
    "import tensorflow.keras as keras\r\n",
    "import kerastuner\r\n",
    "from sklearn.model_selection import train_test_split\r\n",
    "from sklearn.utils import compute_class_weight\r\n",
    "from tensorflow.keras.callbacks import TensorBoard\r\n",
    "\r\n",
    "from tools import keras as tk\r\n",
    "import tools.preprocessing as tp"
   ]
  },
  {
   "cell_type": "code",
   "execution_count": null,
   "metadata": {},
   "outputs": [],
   "source": [
    " # GLOBALS   \r\n",
    "DAY_ONE_ONLY = True\r\n",
    "TIME_SEQ = 225\r\n",
    "TARGET = \"misa_pt\"\r\n",
    "BATCH_SIZE = 128\r\n",
    "EPOCHS = 20\r\n",
    "MAX_TRIALS = 500\r\n",
    "TEST_SPLIT = 0.2\r\n",
    "VAL_SPLIT = 0.1\r\n",
    "RAND = 2021\r\n",
    "TB_UPDATE_FREQ = 200\r\n",
    "WEIGHTED_LOSS = False\r\n",
    "\r\n",
    "# Paths\r\n",
    "# BUG: This use to be a cool hack to alway return the root dir\r\n",
    "# of the repo, but that sometimes fails, so just set your PWD here\r\n",
    "# or leave as an empty string if that's where this is running.\r\n",
    "# all paths to output/ and data/ are constructed relative to that\r\n",
    "pwd = \"\"\r\n",
    "\r\n",
    "output_dir = os.path.abspath(os.path.join(pwd, \"..\", \"output\"))\r\n",
    "data_dir = os.path.abspath(os.path.join(pwd, \"..\", \"data\", \"data\"))\r\n",
    "tensorboard_dir = os.path.abspath(\r\n",
    "    os.path.join(data_dir, \"..\", \"model_checkpoints\"))\r\n",
    "pkl_dir = os.path.join(output_dir, \"pkl\")\r\n",
    "stats_dir = os.path.join(output_dir, \"analysis\")\r\n",
    "\r\n",
    "# Create analysis dir if it doesn't exist\r\n",
    "os.makedirs(stats_dir, exist_ok=True)"
   ]
  },
  {
   "cell_type": "code",
   "execution_count": null,
   "metadata": {},
   "outputs": [],
   "source": [
    "# Data load\r\n",
    "with open(os.path.join(pkl_dir, TARGET + \"_trimmed_seqs.pkl\"), \"rb\") as f:\r\n",
    "    inputs = pkl.load(f)\r\n",
    "\r\n",
    "with open(os.path.join(pkl_dir, \"all_ftrs_dict.pkl\"), \"rb\") as f:\r\n",
    "    vocab = pkl.load(f)\r\n",
    "\r\n",
    "with open(os.path.join(pkl_dir, \"feature_lookup.pkl\"), \"rb\") as f:\r\n",
    "    all_feats = pkl.load(f)\r\n",
    "\r\n",
    "with open(os.path.join(pkl_dir, \"demog_dict.pkl\"), \"rb\") as f:\r\n",
    "    demog_lookup = pkl.load(f)\r\n",
    "\r\n",
    "# Determining number of vocab entries\r\n",
    "N_VOCAB = len(vocab) + 1\r\n",
    "N_DEMOG = len(demog_lookup) + 1\r\n",
    "MAX_DEMOG = max(len(x) for _, x, _ in inputs)\r\n",
    "N_CLASS = max(x for _, _, x in inputs) + 1\r\n"
   ]
  },
  {
   "cell_type": "code",
   "execution_count": null,
   "metadata": {},
   "outputs": [],
   "source": [
    "# Model Metrics and callbacks\r\n",
    "callbacks = [\r\n",
    "    TensorBoard(\r\n",
    "    log_dir=os.path.join(tensorboard_dir, \"dan_hp_tune_tb\", \"\"),\r\n",
    "    histogram_freq=1,\r\n",
    "    profile_batch=0,\r\n",
    "    write_graph=False,\r\n",
    "    update_freq=TB_UPDATE_FREQ\r\n",
    "    ),\r\n",
    "    keras.callbacks.EarlyStopping(monitor=\"val_loss\",\r\n",
    "                                min_delta=0,\r\n",
    "                                patience=3,\r\n",
    "                                restore_best_weights=True,\r\n",
    "                                mode=\"min\")\r\n",
    "]\r\n",
    "\r\n",
    "# Create some metrics\r\n",
    "metrics = [\r\n",
    "    keras.metrics.AUC(num_thresholds=int(1e5), name=\"ROC-AUC\"),\r\n",
    "    keras.metrics.AUC(num_thresholds=int(1e5), curve=\"PR\", name=\"PR-AUC\")\r\n",
    "]"
   ]
  },
  {
   "cell_type": "code",
   "execution_count": null,
   "metadata": {},
   "outputs": [],
   "source": [
    "# TTV\n",
    "# Splitting the data\n",
    "train, test = train_test_split(\n",
    "    range(len(inputs)),\n",
    "    test_size=TEST_SPLIT,\n",
    "    stratify=[labs for _, _, labs in inputs],\n",
    "    random_state=RAND)\n",
    "\n",
    "train, validation = train_test_split(\n",
    "    train,\n",
    "    test_size=VAL_SPLIT,\n",
    "    stratify=[samp[2] for i, samp in enumerate(inputs) if i in train],\n",
    "    random_state=RAND)"
   ]
  },
  {
   "cell_type": "code",
   "execution_count": null,
   "metadata": {},
   "outputs": [],
   "source": [
    "if DAY_ONE_ONLY:\n",
    "    # Optionally limiting the features to only those from the first day\n",
    "    # of the actual COVID visit\n",
    "    features = [l[0][-1] for l in inputs]\n",
    "else:\n",
    "    features = [tp.flatten(l[0]) for l in inputs]\n",
    "\n",
    "new_demog = [[i + N_VOCAB - 1 for i in l[1]] for l in inputs]\n",
    "features = [\n",
    "    features[i] + new_demog[i] for i in range(len(features))\n",
    "]\n",
    "demog_vocab = {k: v + N_VOCAB - 1 for k, v in demog_lookup.items()}\n",
    "vocab.update(demog_vocab)\n",
    "N_VOCAB = np.max([np.max(l) for l in features]) + 1\n",
    "\n",
    "# Making the variables\n",
    "X = keras.preprocessing.sequence.pad_sequences(features, padding='post')\n",
    "y = np.array([l[2] for l in inputs])\n",
    "\n",
    "N_FEATS = X.shape[1]"
   ]
  },
  {
   "cell_type": "code",
   "execution_count": null,
   "metadata": {},
   "outputs": [],
   "source": [
    "classes = np.unique([labs for _, _, labs in inputs]).tolist()\n",
    "\n",
    "if WEIGHTED_LOSS:\n",
    "    class_weights = compute_class_weight(\n",
    "        class_weight=\"balanced\",\n",
    "        classes=classes,\n",
    "        y=[labs for _, _, labs in inputs],\n",
    "    )\n",
    "\n",
    "    class_weights = dict(zip(classes, class_weights))\n",
    "\n",
    "    print(class_weights)"
   ]
  },
  {
   "cell_type": "markdown",
   "metadata": {},
   "source": [
    "## Generate Hypermodel"
   ]
  },
  {
   "cell_type": "code",
   "execution_count": null,
   "metadata": {},
   "outputs": [],
   "source": [
    "\r\n",
    "hyper_model = tk.DANHyper(\r\n",
    "    vocab_size = N_VOCAB,\r\n",
    "    input_size=N_FEATS,\r\n",
    "    metrics = metrics,\r\n",
    "    n_classes = N_CLASS\r\n",
    ")\r\n",
    "\r\n",
    "tuner = kerastuner.tuners.bayesian.BayesianOptimization(\r\n",
    "    hyper_model,\r\n",
    "    max_trials=MAX_TRIALS,\r\n",
    "    objective=\"val_loss\",\r\n",
    "    project_name=\"dan_hp_tune\",\r\n",
    "    directory=tensorboard_dir\r\n",
    ")"
   ]
  },
  {
   "cell_type": "markdown",
   "metadata": {},
   "source": [
    "## Search"
   ]
  },
  {
   "cell_type": "code",
   "execution_count": null,
   "metadata": {},
   "outputs": [],
   "source": [
    "# Announce the search space\n",
    "tuner.search_space_summary()"
   ]
  },
  {
   "cell_type": "code",
   "execution_count": null,
   "metadata": {},
   "outputs": [],
   "source": [
    "if N_CLASS > 2:\r\n",
    "    # We have to pass one-hot labels for model fit, but CLF metrics\r\n",
    "    # will take indices\r\n",
    "    y_one_hot = np.eye(N_CLASS)[y]\r\n",
    "\r\n",
    "    tuner.search(X[train], y_one_hot[train],\r\n",
    "                validation_data=(X[validation], y_one_hot[validation]),\r\n",
    "                epochs=EPOCHS,\r\n",
    "                batch_size=BATCH_SIZE,\r\n",
    "                callbacks=callbacks\r\n",
    "    )\r\n",
    "else:\r\n",
    "    tuner.search(X[train], y[train],\r\n",
    "            validation_data=(X[validation], y[validation]),\r\n",
    "            epochs=EPOCHS,\r\n",
    "            batch_size=BATCH_SIZE,\r\n",
    "            callbacks=callbacks\r\n",
    "    )"
   ]
  },
  {
   "cell_type": "markdown",
   "metadata": {},
   "source": [
    "## Pull Best Model"
   ]
  },
  {
   "cell_type": "code",
   "execution_count": null,
   "metadata": {},
   "outputs": [],
   "source": [
    "tuner.results_summary()"
   ]
  },
  {
   "cell_type": "code",
   "execution_count": null,
   "metadata": {},
   "outputs": [],
   "source": [
    "# Pull the best model\n",
    "best_hp = tuner.get_best_hyperparameters()[0]\n",
    "best_model = tuner.hypermodel.build(best_hp)\n",
    "\n",
    "best_model.summary()"
   ]
  },
  {
   "cell_type": "code",
   "execution_count": null,
   "metadata": {},
   "outputs": [],
   "source": [
    "best_model.save(os.path.join(tensorboard_dir, \"best\", \"dan\"))"
   ]
  }
 ],
 "metadata": {
  "interpreter": {
   "hash": "89d31c033bf313603ee1de07f165bedecb9a1c2d7c2ff2b104ae0fae591794dd"
  },
  "kernelspec": {
   "display_name": "Python 3.8.6  ('venv': venv)",
   "name": "python3"
  },
  "language_info": {
   "name": "python",
   "version": ""
  },
  "orig_nbformat": 3
 },
 "nbformat": 4,
 "nbformat_minor": 2
}