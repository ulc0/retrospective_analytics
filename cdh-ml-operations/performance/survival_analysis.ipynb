{
 "cells": [
  {
   "cell_type": "markdown",
   "metadata": {
    "application/vnd.databricks.v1+cell": {
     "cellMetadata": {},
     "inputWidgets": {},
     "nuid": "085676ee-2176-440a-b455-5d6af150307a",
     "showTitle": false,
     "title": ""
    }
   },
   "source": [
    "(survival_analysis)=\n",
    "# Bayesian Survival Analysis\n",
    "\n",
    "[Survival analysis](https://en.wikipedia.org/wiki/Survival_analysis) studies the distribution of the time to an event.  Its applications span many fields across medicine, biology, engineering, and social science.  This tutorial shows how to fit and analyze a Bayesian survival model in Python using PyMC.\n",
    "\n",
    "We illustrate these concepts by analyzing a [mastectomy data set](https://vincentarelbundock.github.io/Rdatasets/doc/HSAUR/mastectomy.html) from `R`'s [HSAUR](https://cran.r-project.org/web/packages/HSAUR/index.html) package.\n",
    "\n",
    ":::{post} Jan 17, 2023\n",
    ":tags: censored, survival analysis \n",
    ":category: intermediate, how-to\n",
    ":author: Austin Rochford, Chris Fonnesbeck\n",
    ":::"
   ]
  },
  {
   "cell_type": "code",
   "execution_count": 0,
   "metadata": {
    "application/vnd.databricks.v1+cell": {
     "cellMetadata": {},
     "inputWidgets": {},
     "nuid": "363bbd7a-4fb4-407c-b2c9-bdf70df8b7ba",
     "showTitle": false,
     "title": ""
    }
   },
   "outputs": [],
   "source": [
    "import arviz as az\n",
    "import numpy as np\n",
    "import pandas as pd\n",
    "import pymc as pm\n",
    "import pytensor\n",
    "\n",
    "from matplotlib import pyplot as plt\n",
    "from pymc.distributions.timeseries import GaussianRandomWalk\n",
    "from pytensor import tensor as T\n",
    "\n",
    "print(f\"Running on PyMC v{pm.__version__}\")"
   ]
  },
  {
   "cell_type": "code",
   "execution_count": 0,
   "metadata": {
    "application/vnd.databricks.v1+cell": {
     "cellMetadata": {},
     "inputWidgets": {},
     "nuid": "8a99d995-3feb-4aaa-91c7-0cb6f1a2d018",
     "showTitle": false,
     "title": ""
    }
   },
   "outputs": [],
   "source": [
    "RANDOM_SEED = 8927\n",
    "rng = np.random.default_rng(RANDOM_SEED)\n",
    "az.style.use(\"arviz-darkgrid\")"
   ]
  },
  {
   "cell_type": "code",
   "execution_count": 0,
   "metadata": {
    "application/vnd.databricks.v1+cell": {
     "cellMetadata": {},
     "inputWidgets": {},
     "nuid": "95f58e0c-bf59-431c-99fa-2d7d9ee03eb7",
     "showTitle": false,
     "title": ""
    }
   },
   "outputs": [],
   "source": [
    "try:\n",
    "    df = pd.read_csv(\"../data/mastectomy.csv\")\n",
    "except FileNotFoundError:\n",
    "    df = pd.read_csv(pm.get_data(\"mastectomy.csv\"))\n",
    "\n",
    "df.event = df.event.astype(np.int64)\n",
    "df.metastasized = (df.metastasized == \"yes\").astype(np.int64)\n",
    "n_patients = df.shape[0]\n",
    "patients = np.arange(n_patients)"
   ]
  },
  {
   "cell_type": "code",
   "execution_count": 0,
   "metadata": {
    "application/vnd.databricks.v1+cell": {
     "cellMetadata": {},
     "inputWidgets": {},
     "nuid": "e4cf0387-d8d1-443c-86b5-00db9553e2f9",
     "showTitle": false,
     "title": ""
    }
   },
   "outputs": [],
   "source": [
    "df.head()"
   ]
  },
  {
   "cell_type": "code",
   "execution_count": 0,
   "metadata": {
    "application/vnd.databricks.v1+cell": {
     "cellMetadata": {},
     "inputWidgets": {},
     "nuid": "5aff8aab-e808-4e7f-b520-ebc83f090056",
     "showTitle": false,
     "title": ""
    }
   },
   "outputs": [],
   "source": [
    "n_patients"
   ]
  },
  {
   "cell_type": "markdown",
   "metadata": {
    "application/vnd.databricks.v1+cell": {
     "cellMetadata": {},
     "inputWidgets": {},
     "nuid": "0702582b-96ab-4bc2-8a5d-2087d18ca989",
     "showTitle": false,
     "title": ""
    }
   },
   "source": [
    "Each row represents observations from a woman diagnosed with breast cancer that underwent a mastectomy.  The column `time` represents the time (in months) post-surgery that the woman was observed.  The column `event` indicates whether or not the woman died during the observation period.  The column `metastasized` represents whether the cancer had [metastasized](https://en.wikipedia.org/wiki/Metastatic_breast_cancer) prior to surgery.\n",
    "\n",
    "This tutorial analyzes the relationship between survival time post-mastectomy and whether or not the cancer had metastasized."
   ]
  },
  {
   "cell_type": "markdown",
   "metadata": {
    "application/vnd.databricks.v1+cell": {
     "cellMetadata": {},
     "inputWidgets": {},
     "nuid": "428f13c9-f7c4-41c5-bce7-03eb5fa987c2",
     "showTitle": false,
     "title": ""
    }
   },
   "source": [
    "#### A crash course in survival analysis\n",
    "\n",
    "First we introduce a (very little) bit of theory.  If the random variable $T$ is the time to the event we are studying, survival analysis is primarily concerned with the survival function\n",
    "\n",
    "$$S(t) = P(T > t) = 1 - F(t),$$\n",
    "\n",
    "where $F$ is the [CDF](https://en.wikipedia.org/wiki/Cumulative_distribution_function) of $T$.  It is mathematically convenient to express the survival function in terms of the [hazard rate](https://en.wikipedia.org/wiki/Survival_analysis#Hazard_function_and_cumulative_hazard_function), $\\lambda(t)$.  The hazard rate is the instantaneous probability that the event occurs at time $t$ given that it has not yet occurred.  That is,\n",
    "\n",
    "$$\\begin{align*}\n",
    "\\lambda(t)\n",
    "    & = \\lim_{\\Delta t \\to 0} \\frac{P(t < T < t + \\Delta t\\ |\\ T > t)}{\\Delta t} \\\\\n",
    "    & = \\lim_{\\Delta t \\to 0} \\frac{P(t < T < t + \\Delta t)}{\\Delta t \\cdot P(T > t)} \\\\\n",
    "    & = \\frac{1}{S(t)} \\cdot \\lim_{\\Delta t \\to 0} \\frac{S(t) - S(t + \\Delta t)}{\\Delta t}\n",
    "      = -\\frac{S'(t)}{S(t)}.\n",
    "\\end{align*}$$\n",
    "\n",
    "Solving this differential equation for the survival function shows that\n",
    "\n",
    "$$S(t) = \\exp\\left(-\\int_0^t \\lambda(s)\\ ds\\right).$$\n",
    "\n",
    "This representation of the survival function shows that the cumulative hazard function\n",
    "\n",
    "$$\\Lambda(t) = \\int_0^t \\lambda(s)\\ ds$$\n",
    "\n",
    "is an important quantity in survival analysis, since we may concisely write $S(t) = \\exp(-\\Lambda(t)).$\n",
    "\n",
    "An important, but subtle, point in survival analysis is [censoring](https://en.wikipedia.org/wiki/Survival_analysis#Censoring).  Even though the quantity we are interested in estimating is the time between surgery and death, we do not observe the death of every subject.  At the point in time that we perform our analysis, some of our subjects will thankfully still be alive. In the case of our mastectomy study, `df.event` is one if the subject's death was observed (the observation is not censored) and is zero if the death was not observed (the observation is censored)."
   ]
  },
  {
   "cell_type": "code",
   "execution_count": 0,
   "metadata": {
    "application/vnd.databricks.v1+cell": {
     "cellMetadata": {},
     "inputWidgets": {},
     "nuid": "7ae62948-d0f0-4a1f-8440-c9222aae58b6",
     "showTitle": false,
     "title": ""
    }
   },
   "outputs": [],
   "source": [
    "df.event.mean()"
   ]
  },
  {
   "cell_type": "markdown",
   "metadata": {
    "application/vnd.databricks.v1+cell": {
     "cellMetadata": {},
     "inputWidgets": {},
     "nuid": "1afe69d4-b7b7-4019-bd4b-016f7bec81b4",
     "showTitle": false,
     "title": ""
    }
   },
   "source": [
    "Just over 40% of our observations are censored.  We visualize the observed durations and indicate which observations are censored below."
   ]
  },
  {
   "cell_type": "code",
   "execution_count": 0,
   "metadata": {
    "application/vnd.databricks.v1+cell": {
     "cellMetadata": {},
     "inputWidgets": {},
     "nuid": "dde74cca-8546-4b6d-bab2-42442e660f0e",
     "showTitle": false,
     "title": ""
    }
   },
   "outputs": [],
   "source": [
    "fig, ax = plt.subplots(figsize=(8, 6))\n",
    "\n",
    "ax.hlines(\n",
    "    patients[df.event.values == 0], 0, df[df.event.values == 0].time, color=\"C3\", label=\"Censored\"\n",
    ")\n",
    "\n",
    "ax.hlines(\n",
    "    patients[df.event.values == 1], 0, df[df.event.values == 1].time, color=\"C7\", label=\"Uncensored\"\n",
    ")\n",
    "\n",
    "ax.scatter(\n",
    "    df[df.metastasized.values == 1].time,\n",
    "    patients[df.metastasized.values == 1],\n",
    "    color=\"k\",\n",
    "    zorder=10,\n",
    "    label=\"Metastasized\",\n",
    ")\n",
    "\n",
    "ax.set_xlim(left=0)\n",
    "ax.set_xlabel(\"Months since mastectomy\")\n",
    "ax.set_yticks([])\n",
    "ax.set_ylabel(\"Subject\")\n",
    "\n",
    "ax.set_ylim(-0.25, n_patients + 0.25)\n",
    "\n",
    "ax.legend(loc=\"center right\");"
   ]
  },
  {
   "cell_type": "markdown",
   "metadata": {
    "application/vnd.databricks.v1+cell": {
     "cellMetadata": {},
     "inputWidgets": {},
     "nuid": "166bad78-5cb7-4990-89fe-2c6b6c19fa16",
     "showTitle": false,
     "title": ""
    }
   },
   "source": [
    "When an observation is censored (`df.event` is zero), `df.time` is not the subject's survival time.  All we can conclude from such a censored observation is that the subject's true survival time exceeds `df.time`.\n",
    "\n",
    "This is enough basic survival analysis theory for the purposes of this tutorial; for a more extensive introduction, consult Aalen et al.^[Aalen, Odd, Ornulf Borgan, and Hakon Gjessing. Survival and event history analysis: a process point of view. Springer Science & Business Media, 2008.]"
   ]
  },
  {
   "cell_type": "markdown",
   "metadata": {
    "application/vnd.databricks.v1+cell": {
     "cellMetadata": {},
     "inputWidgets": {},
     "nuid": "12ba9b76-6cb0-4a9c-a78a-2f07226e71e0",
     "showTitle": false,
     "title": ""
    }
   },
   "source": [
    "#### Bayesian proportional hazards model\n",
    "\n",
    "The two most basic estimators in survival analysis are the [Kaplan-Meier estimator](https://en.wikipedia.org/wiki/Kaplan%E2%80%93Meier_estimator) of the survival function and the [Nelson-Aalen estimator](https://en.wikipedia.org/wiki/Nelson%E2%80%93Aalen_estimator) of the cumulative hazard function.  However, since we want to understand the impact of metastization on survival time, a risk regression model is more appropriate.  Perhaps the most commonly used risk regression model is [Cox's proportional hazards model](https://en.wikipedia.org/wiki/Proportional_hazards_model).  In this model, if we have covariates $\\mathbf{x}$ and regression coefficients $\\beta$, the hazard rate is modeled as\n",
    "\n",
    "$$\\lambda(t) = \\lambda_0(t) \\exp(\\mathbf{x} \\beta).$$\n",
    "\n",
    "Here $\\lambda_0(t)$ is the baseline hazard, which is independent of the covariates $\\mathbf{x}$.  In this example, the covariates are the one-dimensional vector `df.metastasized`.\n",
    "\n",
    "Unlike in many regression situations, $\\mathbf{x}$ should not include a constant term corresponding to an intercept.  If $\\mathbf{x}$ includes a constant term corresponding to an intercept, the model becomes [unidentifiable](https://en.wikipedia.org/wiki/Identifiability).  To illustrate this unidentifiability, suppose that\n",
    "\n",
    "$$\\lambda(t) = \\lambda_0(t) \\exp(\\beta_0 + \\mathbf{x} \\beta) = \\lambda_0(t) \\exp(\\beta_0) \\exp(\\mathbf{x} \\beta).$$\n",
    "\n",
    "If $\\tilde{\\beta}_0 = \\beta_0 + \\delta$ and $\\tilde{\\lambda}_0(t) = \\lambda_0(t) \\exp(-\\delta)$, then $\\lambda(t) = \\tilde{\\lambda}_0(t) \\exp(\\tilde{\\beta}_0 + \\mathbf{x} \\beta)$ as well, making the model with $\\beta_0$ unidentifiable.\n",
    "\n",
    "In order to perform Bayesian inference with the Cox model, we must specify priors on $\\beta$ and $\\lambda_0(t)$.  We place a normal prior on $\\beta$, $\\beta \\sim N(\\mu_{\\beta}, \\sigma_{\\beta}^2),$ where $\\mu_{\\beta} \\sim N(0, 10^2)$ and $\\sigma_{\\beta} \\sim U(0, 10)$.\n",
    "\n",
    "A suitable prior on $\\lambda_0(t)$ is less obvious.  We choose a semiparametric prior, where $\\lambda_0(t)$ is a piecewise constant function.  This prior requires us to partition the time range in question into intervals with endpoints $0 \\leq s_1 < s_2 < \\cdots < s_N$.  With this partition, $\\lambda_0 (t) = \\lambda_j$ if $s_j \\leq t < s_{j + 1}$.  With $\\lambda_0(t)$ constrained to have this form, all we need to do is choose priors for the $N - 1$ values $\\lambda_j$.  We use independent vague priors $\\lambda_j \\sim \\operatorname{Gamma}(10^{-2}, 10^{-2}).$  For our mastectomy example, we make each interval three months long."
   ]
  },
  {
   "cell_type": "code",
   "execution_count": 0,
   "metadata": {
    "application/vnd.databricks.v1+cell": {
     "cellMetadata": {},
     "inputWidgets": {},
     "nuid": "fd463286-1c91-4217-a92c-28c5fb557771",
     "showTitle": false,
     "title": ""
    }
   },
   "outputs": [],
   "source": [
    "interval_length = 3\n",
    "interval_bounds = np.arange(0, df.time.max() + interval_length + 1, interval_length)\n",
    "n_intervals = interval_bounds.size - 1\n",
    "intervals = np.arange(n_intervals)"
   ]
  },
  {
   "cell_type": "markdown",
   "metadata": {
    "application/vnd.databricks.v1+cell": {
     "cellMetadata": {},
     "inputWidgets": {},
     "nuid": "67d59062-a10b-4c4a-8867-81175e6587c2",
     "showTitle": false,
     "title": ""
    }
   },
   "source": [
    "We see how deaths and censored observations are distributed in these intervals."
   ]
  },
  {
   "cell_type": "code",
   "execution_count": 0,
   "metadata": {
    "application/vnd.databricks.v1+cell": {
     "cellMetadata": {},
     "inputWidgets": {},
     "nuid": "793ebe0b-11f7-4318-941f-a1464237e0a9",
     "showTitle": false,
     "title": ""
    }
   },
   "outputs": [],
   "source": [
    "fig, ax = plt.subplots(figsize=(8, 6))\n",
    "\n",
    "ax.hist(\n",
    "    df[df.event == 0].time.values,\n",
    "    bins=interval_bounds,\n",
    "    lw=0,\n",
    "    color=\"C3\",\n",
    "    alpha=0.5,\n",
    "    label=\"Censored\",\n",
    ")\n",
    "\n",
    "ax.hist(\n",
    "    df[df.event == 1].time.values,\n",
    "    bins=interval_bounds,\n",
    "    lw=0,\n",
    "    color=\"C7\",\n",
    "    alpha=0.5,\n",
    "    label=\"Uncensored\",\n",
    ")\n",
    "\n",
    "ax.set_xlim(0, interval_bounds[-1])\n",
    "ax.set_xlabel(\"Months since mastectomy\")\n",
    "\n",
    "ax.set_yticks([0, 1, 2, 3])\n",
    "ax.set_ylabel(\"Number of observations\")\n",
    "\n",
    "ax.legend();"
   ]
  },
  {
   "cell_type": "markdown",
   "metadata": {
    "application/vnd.databricks.v1+cell": {
     "cellMetadata": {},
     "inputWidgets": {},
     "nuid": "5007c76f-824a-4e22-a417-f05c60eec49c",
     "showTitle": false,
     "title": ""
    }
   },
   "source": [
    "With the prior distributions on $\\beta$ and $\\lambda_0(t)$ chosen, we now show how the model may be fit using MCMC simulation with `pymc`.  The key observation is that the piecewise-constant proportional hazard model is [closely related](http://data.princeton.edu/wws509/notes/c7s4.html) to a Poisson regression model.   (The models are not identical, but their likelihoods differ by a factor that depends only on the observed data and not the parameters $\\beta$ and $\\lambda_j$.  For details, see Germán Rodríguez's WWS 509 [course notes](http://data.princeton.edu/wws509/notes/c7s4.html).)\n",
    "\n",
    "We define indicator variables based on whether the $i$-th subject died in the $j$-th interval,\n",
    "\n",
    "$$d_{i, j} = \\begin{cases}\n",
    "    1 & \\textrm{if subject } i \\textrm{ died in interval } j \\\\\n",
    "    0 & \\textrm{otherwise}\n",
    "\\end{cases}.$$"
   ]
  },
  {
   "cell_type": "code",
   "execution_count": 0,
   "metadata": {
    "application/vnd.databricks.v1+cell": {
     "cellMetadata": {},
     "inputWidgets": {},
     "nuid": "a2ce779a-2a21-4de8-a239-ec7abc78f862",
     "showTitle": false,
     "title": ""
    }
   },
   "outputs": [],
   "source": [
    "last_period = np.floor((df.time - 0.01) / interval_length).astype(int)\n",
    "\n",
    "death = np.zeros((n_patients, n_intervals))\n",
    "death[patients, last_period] = df.event"
   ]
  },
  {
   "cell_type": "markdown",
   "metadata": {
    "application/vnd.databricks.v1+cell": {
     "cellMetadata": {},
     "inputWidgets": {},
     "nuid": "41fd98d7-da8a-4932-b17f-362f75ab3467",
     "showTitle": false,
     "title": ""
    }
   },
   "source": [
    "We also define $t_{i, j}$ to be the amount of time the $i$-th subject was at risk in the $j$-th interval."
   ]
  },
  {
   "cell_type": "code",
   "execution_count": 0,
   "metadata": {
    "application/vnd.databricks.v1+cell": {
     "cellMetadata": {},
     "inputWidgets": {},
     "nuid": "96bf5c91-1924-40a9-8f52-f1466a0e9564",
     "showTitle": false,
     "title": ""
    }
   },
   "outputs": [],
   "source": [
    "exposure = np.greater_equal.outer(df.time.to_numpy(), interval_bounds[:-1]) * interval_length\n",
    "exposure[patients, last_period] = df.time - interval_bounds[last_period]"
   ]
  },
  {
   "cell_type": "markdown",
   "metadata": {
    "application/vnd.databricks.v1+cell": {
     "cellMetadata": {},
     "inputWidgets": {},
     "nuid": "fc3c1e48-86da-4f08-b079-751d63c81ff9",
     "showTitle": false,
     "title": ""
    }
   },
   "source": [
    "Finally, denote the risk incurred by the $i$-th subject in the $j$-th interval as $\\lambda_{i, j} = \\lambda_j \\exp(\\mathbf{x}_i \\beta)$.\n",
    "\n",
    "We may approximate $d_{i, j}$ with a Poisson random variable with mean $t_{i, j}\\ \\lambda_{i, j}$.  This approximation leads to the following `pymc` model."
   ]
  },
  {
   "cell_type": "code",
   "execution_count": 0,
   "metadata": {
    "application/vnd.databricks.v1+cell": {
     "cellMetadata": {},
     "inputWidgets": {},
     "nuid": "a69e44d9-adc2-41b1-85a5-d567acfb7c5e",
     "showTitle": false,
     "title": ""
    }
   },
   "outputs": [],
   "source": [
    "coords = {\"intervals\": intervals}\n",
    "\n",
    "with pm.Model(coords=coords) as model:\n",
    "\n",
    "    lambda0 = pm.Gamma(\"lambda0\", 0.01, 0.01, dims=\"intervals\")\n",
    "\n",
    "    beta = pm.Normal(\"beta\", 0, sigma=1000)\n",
    "\n",
    "    lambda_ = pm.Deterministic(\"lambda_\", T.outer(T.exp(beta * df.metastasized), lambda0))\n",
    "    mu = pm.Deterministic(\"mu\", exposure * lambda_)\n",
    "\n",
    "    obs = pm.Poisson(\"obs\", mu, observed=death)"
   ]
  },
  {
   "cell_type": "markdown",
   "metadata": {
    "application/vnd.databricks.v1+cell": {
     "cellMetadata": {},
     "inputWidgets": {},
     "nuid": "360c70e0-ad87-44b2-9990-9c72b8b695b6",
     "showTitle": false,
     "title": ""
    }
   },
   "source": [
    "We now sample from the model."
   ]
  },
  {
   "cell_type": "code",
   "execution_count": 0,
   "metadata": {
    "application/vnd.databricks.v1+cell": {
     "cellMetadata": {},
     "inputWidgets": {},
     "nuid": "aa718987-5ddc-47e5-8260-ea08789f4280",
     "showTitle": false,
     "title": ""
    }
   },
   "outputs": [],
   "source": [
    "n_samples = 1000\n",
    "n_tune = 1000"
   ]
  },
  {
   "cell_type": "code",
   "execution_count": 0,
   "metadata": {
    "application/vnd.databricks.v1+cell": {
     "cellMetadata": {},
     "inputWidgets": {},
     "nuid": "f228214f-b9db-4ac0-9ddb-f75664e50fd0",
     "showTitle": false,
     "title": ""
    }
   },
   "outputs": [],
   "source": [
    "with model:\n",
    "    idata = pm.sample(\n",
    "        n_samples,\n",
    "        tune=n_tune,\n",
    "        target_accept=0.99,\n",
    "        random_seed=RANDOM_SEED,\n",
    "    )"
   ]
  },
  {
   "cell_type": "markdown",
   "metadata": {
    "application/vnd.databricks.v1+cell": {
     "cellMetadata": {},
     "inputWidgets": {},
     "nuid": "8146c402-1cd3-4735-aed0-8b79efd49184",
     "showTitle": false,
     "title": ""
    }
   },
   "source": [
    "We see that the hazard rate for subjects whose cancer has metastasized is about one and a half times the rate of those whose cancer has not metastasized."
   ]
  },
  {
   "cell_type": "code",
   "execution_count": 0,
   "metadata": {
    "application/vnd.databricks.v1+cell": {
     "cellMetadata": {},
     "inputWidgets": {},
     "nuid": "8b05f195-7f68-4f7c-856a-8bca84699f0d",
     "showTitle": false,
     "title": ""
    }
   },
   "outputs": [],
   "source": [
    "np.exp(idata.posterior[\"beta\"]).mean()"
   ]
  },
  {
   "cell_type": "code",
   "execution_count": 0,
   "metadata": {
    "application/vnd.databricks.v1+cell": {
     "cellMetadata": {},
     "inputWidgets": {},
     "nuid": "45ca7a65-b5ce-403b-843b-5e2e7d2543c4",
     "showTitle": false,
     "title": ""
    }
   },
   "outputs": [],
   "source": [
    "az.plot_posterior(idata, var_names=[\"beta\"]);"
   ]
  },
  {
   "cell_type": "code",
   "execution_count": 0,
   "metadata": {
    "application/vnd.databricks.v1+cell": {
     "cellMetadata": {},
     "inputWidgets": {},
     "nuid": "2853d0a9-9cdd-4001-9cff-1e042958f1be",
     "showTitle": false,
     "title": ""
    },
    "scrolled": true
   },
   "outputs": [],
   "source": [
    "az.plot_autocorr(idata, var_names=[\"beta\"]);"
   ]
  },
  {
   "cell_type": "markdown",
   "metadata": {
    "application/vnd.databricks.v1+cell": {
     "cellMetadata": {},
     "inputWidgets": {},
     "nuid": "71daa0c9-2409-498c-b1f8-8683371f6a8a",
     "showTitle": false,
     "title": ""
    }
   },
   "source": [
    "We now examine the effect of metastization on both the cumulative hazard and on the survival function."
   ]
  },
  {
   "cell_type": "code",
   "execution_count": 0,
   "metadata": {
    "application/vnd.databricks.v1+cell": {
     "cellMetadata": {},
     "inputWidgets": {},
     "nuid": "1c533b4c-3ec6-4a37-8e35-ecf8df260bf4",
     "showTitle": false,
     "title": ""
    }
   },
   "outputs": [],
   "source": [
    "base_hazard = idata.posterior[\"lambda0\"]\n",
    "met_hazard = idata.posterior[\"lambda0\"] * np.exp(idata.posterior[\"beta\"])"
   ]
  },
  {
   "cell_type": "code",
   "execution_count": 0,
   "metadata": {
    "application/vnd.databricks.v1+cell": {
     "cellMetadata": {},
     "inputWidgets": {},
     "nuid": "a45e90b8-1170-4117-bfa8-21f68eb00c06",
     "showTitle": false,
     "title": ""
    }
   },
   "outputs": [],
   "source": [
    "def cum_hazard(hazard):\n",
    "    return (interval_length * hazard).cumsum(axis=-1)\n",
    "\n",
    "\n",
    "def survival(hazard):\n",
    "    return np.exp(-cum_hazard(hazard))\n",
    "\n",
    "\n",
    "def get_mean(trace):\n",
    "    return trace.mean((\"chain\", \"draw\"))"
   ]
  },
  {
   "cell_type": "code",
   "execution_count": 0,
   "metadata": {
    "application/vnd.databricks.v1+cell": {
     "cellMetadata": {},
     "inputWidgets": {},
     "nuid": "5f83eb18-9c06-4975-8730-eec2dd18177e",
     "showTitle": false,
     "title": ""
    }
   },
   "outputs": [],
   "source": [
    "fig, (hazard_ax, surv_ax) = plt.subplots(ncols=2, sharex=True, sharey=False, figsize=(16, 6))\n",
    "\n",
    "az.plot_hdi(\n",
    "    interval_bounds[:-1],\n",
    "    cum_hazard(base_hazard),\n",
    "    ax=hazard_ax,\n",
    "    smooth=False,\n",
    "    color=\"C0\",\n",
    "    fill_kwargs={\"label\": \"Had not metastasized\"},\n",
    ")\n",
    "az.plot_hdi(\n",
    "    interval_bounds[:-1],\n",
    "    cum_hazard(met_hazard),\n",
    "    ax=hazard_ax,\n",
    "    smooth=False,\n",
    "    color=\"C1\",\n",
    "    fill_kwargs={\"label\": \"Metastasized\"},\n",
    ")\n",
    "\n",
    "hazard_ax.plot(interval_bounds[:-1], get_mean(cum_hazard(base_hazard)), color=\"darkblue\")\n",
    "hazard_ax.plot(interval_bounds[:-1], get_mean(cum_hazard(met_hazard)), color=\"maroon\")\n",
    "\n",
    "hazard_ax.set_xlim(0, df.time.max())\n",
    "hazard_ax.set_xlabel(\"Months since mastectomy\")\n",
    "hazard_ax.set_ylabel(r\"Cumulative hazard $\\Lambda(t)$\")\n",
    "hazard_ax.legend(loc=2)\n",
    "\n",
    "az.plot_hdi(interval_bounds[:-1], survival(base_hazard), ax=surv_ax, smooth=False, color=\"C0\")\n",
    "az.plot_hdi(interval_bounds[:-1], survival(met_hazard), ax=surv_ax, smooth=False, color=\"C1\")\n",
    "\n",
    "surv_ax.plot(interval_bounds[:-1], get_mean(survival(base_hazard)), color=\"darkblue\")\n",
    "surv_ax.plot(interval_bounds[:-1], get_mean(survival(met_hazard)), color=\"maroon\")\n",
    "\n",
    "surv_ax.set_xlim(0, df.time.max())\n",
    "surv_ax.set_xlabel(\"Months since mastectomy\")\n",
    "surv_ax.set_ylabel(\"Survival function $S(t)$\")\n",
    "\n",
    "fig.suptitle(\"Bayesian survival model\");"
   ]
  },
  {
   "cell_type": "markdown",
   "metadata": {
    "application/vnd.databricks.v1+cell": {
     "cellMetadata": {},
     "inputWidgets": {},
     "nuid": "115a92f5-92ef-4fc8-87ae-02f5b62733e2",
     "showTitle": false,
     "title": ""
    }
   },
   "source": [
    "We see that the cumulative hazard for metastasized subjects increases more rapidly initially (through about seventy months), after which it increases roughly in parallel with the baseline cumulative hazard.\n",
    "\n",
    "These plots also show the pointwise 95% high posterior density interval for each function.  One of the distinct advantages of the Bayesian model fit with `pymc` is the inherent quantification of uncertainty in our estimates."
   ]
  },
  {
   "cell_type": "markdown",
   "metadata": {
    "application/vnd.databricks.v1+cell": {
     "cellMetadata": {},
     "inputWidgets": {},
     "nuid": "01ca6c06-6e3e-4f8c-9682-5514efba3dec",
     "showTitle": false,
     "title": ""
    }
   },
   "source": [
    "##### Time varying effects\n",
    "\n",
    "Another of the advantages of the model we have built is its flexibility.  From the plots above, we may reasonable believe that the additional hazard due to metastization varies over time; it seems plausible that cancer that has metastasized increases the hazard rate immediately after the mastectomy, but that the risk due to metastization decreases over time.  We can accommodate this mechanism in our model by allowing the regression coefficients to vary over time.  In the time-varying coefficient model, if $s_j \\leq t < s_{j + 1}$, we let $\\lambda(t) = \\lambda_j \\exp(\\mathbf{x} \\beta_j).$  The sequence of regression coefficients $\\beta_1, \\beta_2, \\ldots, \\beta_{N - 1}$ form a normal random walk with $\\beta_1 \\sim N(0, 1)$, $\\beta_j\\ |\\ \\beta_{j - 1} \\sim N(\\beta_{j - 1}, 1)$.\n",
    "\n",
    "We implement this model in `pymc` as follows."
   ]
  },
  {
   "cell_type": "code",
   "execution_count": 0,
   "metadata": {
    "application/vnd.databricks.v1+cell": {
     "cellMetadata": {},
     "inputWidgets": {},
     "nuid": "ef346c7e-6789-42bb-9ff4-3f2c81b77885",
     "showTitle": false,
     "title": ""
    }
   },
   "outputs": [],
   "source": [
    "coords = {\"intervals\": intervals}\n",
    "\n",
    "with pm.Model(coords=coords) as time_varying_model:\n",
    "\n",
    "    lambda0 = pm.Gamma(\"lambda0\", 0.01, 0.01, dims=\"intervals\")\n",
    "    beta = GaussianRandomWalk(\"beta\", init_dist=pm.Normal.dist(), sigma=1.0, dims=\"intervals\")\n",
    "\n",
    "    lambda_ = pm.Deterministic(\"h\", lambda0 * T.exp(T.outer(T.constant(df.metastasized), beta)))\n",
    "    mu = pm.Deterministic(\"mu\", exposure * lambda_)\n",
    "\n",
    "    obs = pm.Poisson(\"obs\", mu, observed=death)"
   ]
  },
  {
   "cell_type": "markdown",
   "metadata": {
    "application/vnd.databricks.v1+cell": {
     "cellMetadata": {},
     "inputWidgets": {},
     "nuid": "a30f15a7-be61-482e-8d68-455ef453681a",
     "showTitle": false,
     "title": ""
    }
   },
   "source": [
    "We proceed to sample from this model."
   ]
  },
  {
   "cell_type": "code",
   "execution_count": 0,
   "metadata": {
    "application/vnd.databricks.v1+cell": {
     "cellMetadata": {},
     "inputWidgets": {},
     "nuid": "ee2676b9-df49-46c1-924c-cd3e62dcf55e",
     "showTitle": false,
     "title": ""
    }
   },
   "outputs": [],
   "source": [
    "with time_varying_model:\n",
    "    time_varying_idata = pm.sample(\n",
    "        n_samples,\n",
    "        tune=n_tune,\n",
    "        return_inferencedata=True,\n",
    "        target_accept=0.99,\n",
    "        random_seed=RANDOM_SEED,\n",
    "    )"
   ]
  },
  {
   "cell_type": "code",
   "execution_count": 0,
   "metadata": {
    "application/vnd.databricks.v1+cell": {
     "cellMetadata": {},
     "inputWidgets": {},
     "nuid": "8dacfc8d-bce8-4f07-bf28-64a011053097",
     "showTitle": false,
     "title": ""
    }
   },
   "outputs": [],
   "source": [
    "az.plot_forest(time_varying_idata, var_names=[\"beta\"]);"
   ]
  },
  {
   "cell_type": "markdown",
   "metadata": {
    "application/vnd.databricks.v1+cell": {
     "cellMetadata": {},
     "inputWidgets": {},
     "nuid": "69439ad9-6e88-4857-a011-429063179681",
     "showTitle": false,
     "title": ""
    }
   },
   "source": [
    "We see from the plot of $\\beta_j$ over time below that initially $\\beta_j > 0$, indicating an elevated hazard rate due to metastization, but that this risk declines as $\\beta_j < 0$ eventually."
   ]
  },
  {
   "cell_type": "code",
   "execution_count": 0,
   "metadata": {
    "application/vnd.databricks.v1+cell": {
     "cellMetadata": {},
     "inputWidgets": {},
     "nuid": "95b6809a-d484-4f4a-b704-be48880ca50b",
     "showTitle": false,
     "title": ""
    },
    "scrolled": true
   },
   "outputs": [],
   "source": [
    "fig, ax = plt.subplots(figsize=(8, 6))\n",
    "\n",
    "beta_eti = time_varying_idata.posterior[\"beta\"].quantile((0.025, 0.975), dim=(\"chain\", \"draw\"))\n",
    "beta_eti_low = beta_eti.sel(quantile=0.025)\n",
    "beta_eti_high = beta_eti.sel(quantile=0.975)\n",
    "\n",
    "ax.fill_between(interval_bounds[:-1], beta_eti_low, beta_eti_high, color=\"C0\", alpha=0.25)\n",
    "\n",
    "beta_hat = time_varying_idata.posterior[\"beta\"].mean((\"chain\", \"draw\"))\n",
    "\n",
    "ax.step(interval_bounds[:-1], beta_hat, color=\"C0\")\n",
    "\n",
    "ax.scatter(\n",
    "    interval_bounds[last_period[(df.event.values == 1) & (df.metastasized == 1)]],\n",
    "    beta_hat.isel(intervals=last_period[(df.event.values == 1) & (df.metastasized == 1)]),\n",
    "    color=\"C1\",\n",
    "    zorder=10,\n",
    "    label=\"Died, cancer metastasized\",\n",
    ")\n",
    "\n",
    "ax.scatter(\n",
    "    interval_bounds[last_period[(df.event.values == 0) & (df.metastasized == 1)]],\n",
    "    beta_hat.isel(intervals=last_period[(df.event.values == 0) & (df.metastasized == 1)]),\n",
    "    color=\"C0\",\n",
    "    zorder=10,\n",
    "    label=\"Censored, cancer metastasized\",\n",
    ")\n",
    "\n",
    "ax.set_xlim(0, df.time.max())\n",
    "ax.set_xlabel(\"Months since mastectomy\")\n",
    "ax.set_ylabel(r\"$\\beta_j$\")\n",
    "ax.legend();"
   ]
  },
  {
   "cell_type": "markdown",
   "metadata": {
    "application/vnd.databricks.v1+cell": {
     "cellMetadata": {},
     "inputWidgets": {},
     "nuid": "ae10703d-241a-4062-9dae-918bda011248",
     "showTitle": false,
     "title": ""
    }
   },
   "source": [
    "The coefficients $\\beta_j$ begin declining rapidly around one hundred months post-mastectomy, which seems reasonable, given that only three of twelve subjects whose cancer had metastasized lived past this point died during the study.\n",
    "\n",
    "The change in our estimate of the cumulative hazard and survival functions due to time-varying effects is also quite apparent in the following plots."
   ]
  },
  {
   "cell_type": "code",
   "execution_count": 0,
   "metadata": {
    "application/vnd.databricks.v1+cell": {
     "cellMetadata": {},
     "inputWidgets": {},
     "nuid": "08273106-69ae-4008-9a88-7e90cdbf3e13",
     "showTitle": false,
     "title": ""
    }
   },
   "outputs": [],
   "source": [
    "tv_base_hazard = time_varying_idata.posterior[\"lambda0\"]\n",
    "tv_met_hazard = time_varying_idata.posterior[\"lambda0\"] * np.exp(\n",
    "    time_varying_idata.posterior[\"beta\"]\n",
    ")"
   ]
  },
  {
   "cell_type": "code",
   "execution_count": 0,
   "metadata": {
    "application/vnd.databricks.v1+cell": {
     "cellMetadata": {},
     "inputWidgets": {},
     "nuid": "3793ae20-4a6a-4aac-9b91-0e10238b35bf",
     "showTitle": false,
     "title": ""
    }
   },
   "outputs": [],
   "source": [
    "fig, ax = plt.subplots(figsize=(8, 6))\n",
    "\n",
    "ax.step(\n",
    "    interval_bounds[:-1],\n",
    "    cum_hazard(base_hazard.mean((\"chain\", \"draw\"))),\n",
    "    color=\"C0\",\n",
    "    label=\"Had not metastasized\",\n",
    ")\n",
    "\n",
    "ax.step(\n",
    "    interval_bounds[:-1],\n",
    "    cum_hazard(met_hazard.mean((\"chain\", \"draw\"))),\n",
    "    color=\"C1\",\n",
    "    label=\"Metastasized\",\n",
    ")\n",
    "\n",
    "ax.step(\n",
    "    interval_bounds[:-1],\n",
    "    cum_hazard(tv_base_hazard.mean((\"chain\", \"draw\"))),\n",
    "    color=\"C0\",\n",
    "    linestyle=\"--\",\n",
    "    label=\"Had not metastasized (time varying effect)\",\n",
    ")\n",
    "\n",
    "ax.step(\n",
    "    interval_bounds[:-1],\n",
    "    cum_hazard(tv_met_hazard.mean(dim=(\"chain\", \"draw\"))),\n",
    "    color=\"C1\",\n",
    "    linestyle=\"--\",\n",
    "    label=\"Metastasized (time varying effect)\",\n",
    ")\n",
    "\n",
    "ax.set_xlim(0, df.time.max() - 4)\n",
    "ax.set_xlabel(\"Months since mastectomy\")\n",
    "ax.set_ylim(0, 2)\n",
    "ax.set_ylabel(r\"Cumulative hazard $\\Lambda(t)$\")\n",
    "ax.legend(loc=2);"
   ]
  },
  {
   "cell_type": "code",
   "execution_count": 0,
   "metadata": {
    "application/vnd.databricks.v1+cell": {
     "cellMetadata": {},
     "inputWidgets": {},
     "nuid": "b1197f63-751e-49ca-88e4-1aeee520c046",
     "showTitle": false,
     "title": ""
    }
   },
   "outputs": [],
   "source": [
    "fig, (hazard_ax, surv_ax) = plt.subplots(ncols=2, sharex=True, sharey=False, figsize=(16, 6))\n",
    "\n",
    "az.plot_hdi(\n",
    "    interval_bounds[:-1],\n",
    "    cum_hazard(tv_base_hazard),\n",
    "    ax=hazard_ax,\n",
    "    color=\"C0\",\n",
    "    smooth=False,\n",
    "    fill_kwargs={\"label\": \"Had not metastasized\"},\n",
    ")\n",
    "\n",
    "az.plot_hdi(\n",
    "    interval_bounds[:-1],\n",
    "    cum_hazard(tv_met_hazard),\n",
    "    ax=hazard_ax,\n",
    "    smooth=False,\n",
    "    color=\"C1\",\n",
    "    fill_kwargs={\"label\": \"Metastasized\"},\n",
    ")\n",
    "\n",
    "hazard_ax.plot(interval_bounds[:-1], get_mean(cum_hazard(tv_base_hazard)), color=\"darkblue\")\n",
    "hazard_ax.plot(interval_bounds[:-1], get_mean(cum_hazard(tv_met_hazard)), color=\"maroon\")\n",
    "\n",
    "hazard_ax.set_xlim(0, df.time.max())\n",
    "hazard_ax.set_xlabel(\"Months since mastectomy\")\n",
    "hazard_ax.set_ylim(0, 2)\n",
    "hazard_ax.set_ylabel(r\"Cumulative hazard $\\Lambda(t)$\")\n",
    "hazard_ax.legend(loc=2)\n",
    "\n",
    "az.plot_hdi(interval_bounds[:-1], survival(tv_base_hazard), ax=surv_ax, smooth=False, color=\"C0\")\n",
    "az.plot_hdi(interval_bounds[:-1], survival(tv_met_hazard), ax=surv_ax, smooth=False, color=\"C1\")\n",
    "\n",
    "surv_ax.plot(interval_bounds[:-1], get_mean(survival(tv_base_hazard)), color=\"darkblue\")\n",
    "surv_ax.plot(interval_bounds[:-1], get_mean(survival(tv_met_hazard)), color=\"maroon\")\n",
    "\n",
    "surv_ax.set_xlim(0, df.time.max())\n",
    "surv_ax.set_xlabel(\"Months since mastectomy\")\n",
    "surv_ax.set_ylabel(\"Survival function $S(t)$\")\n",
    "fig.suptitle(\"Bayesian survival model with time varying effects\");"
   ]
  },
  {
   "cell_type": "markdown",
   "metadata": {
    "application/vnd.databricks.v1+cell": {
     "cellMetadata": {},
     "inputWidgets": {},
     "nuid": "5337cd94-ffe2-4c41-96f8-6d823f4884ec",
     "showTitle": false,
     "title": ""
    }
   },
   "source": [
    "We have really only scratched the surface of both survival analysis and the Bayesian approach to survival analysis.  More information on Bayesian survival analysis is available in Ibrahim et al. (2005).  (For example, we may want to account for individual frailty in either or original or time-varying models.)\n",
    "\n",
    "This tutorial is available as an [IPython](http://ipython.org/) notebook [here](https://gist.github.com/AustinRochford/4c6b07e51a2247d678d6).  It is adapted from a blog post that first appeared [here](http://austinrochford.com/posts/2015-10-05-bayes-survival.html)."
   ]
  },
  {
   "cell_type": "markdown",
   "metadata": {
    "application/vnd.databricks.v1+cell": {
     "cellMetadata": {},
     "inputWidgets": {},
     "nuid": "f44964c7-b228-408b-8f73-f1bfbb01256b",
     "showTitle": false,
     "title": ""
    }
   },
   "source": [
    "## Authors\n",
    "\n",
    "- Originally authored by [Austin Rochford](https://github.com/AustinRochford).\n",
    "- Updated by [Fernando Irarrázaval](https://github.com/cuchoi) in June 2022 to PyMC v4 ([pymc-examples#372](https://github.com/pymc-devs/pymc-examples/pull/372)).\n",
    "- Updated by [Chris Fonnesbeck](https://github.com/fonnesbeck) in January 2023 to PyMC v5."
   ]
  },
  {
   "cell_type": "code",
   "execution_count": 0,
   "metadata": {
    "application/vnd.databricks.v1+cell": {
     "cellMetadata": {},
     "inputWidgets": {},
     "nuid": "acefa7d9-5f3d-40c2-8a25-6236441905bd",
     "showTitle": false,
     "title": ""
    }
   },
   "outputs": [],
   "source": [
    "%load_ext watermark\n",
    "%watermark -n -u -v -iv -w -p xarray"
   ]
  },
  {
   "cell_type": "markdown",
   "metadata": {
    "application/vnd.databricks.v1+cell": {
     "cellMetadata": {},
     "inputWidgets": {},
     "nuid": "b6462590-08ce-41fa-b3d2-a6ca4ec5300a",
     "showTitle": false,
     "title": ""
    }
   },
   "source": [
    ":::{include} ../page_footer.md\n",
    ":::"
   ]
  }
 ],
 "metadata": {
  "anaconda-cloud": {},
  "application/vnd.databricks.v1+notebook": {
   "dashboards": [],
   "language": "python",
   "notebookMetadata": {},
   "notebookName": "survival_analysis",
   "widgets": {}
  },
  "hide_input": false,
  "kernelspec": {
   "display_name": "pymc",
   "language": "python",
   "name": "python3"
  },
  "language_info": {
   "codemirror_mode": {
    "name": "ipython",
    "version": 3
   },
   "file_extension": ".py",
   "mimetype": "text/x-python",
   "name": "python",
   "nbconvert_exporter": "python",
   "pygments_lexer": "ipython3",
   "version": "3.11.0"
  },
  "vscode": {
   "interpreter": {
    "hash": "970ac73df0f14d7a1f980febd250c4ded990984ec0e2432b12dcbf556b464244"
   }
  }
 },
 "nbformat": 4,
 "nbformat_minor": 0
}
