{
 "cells": [
  {
   "cell_type": "markdown",
   "metadata": {
    "application/vnd.databricks.v1+cell": {
     "cellMetadata": {},
     "inputWidgets": {},
     "nuid": "288f1970-53f4-4e73-b242-2f2934b0f87d",
     "showTitle": false,
     "title": ""
    }
   },
   "source": [
    "(hierarchical_partial_pooling)=\n",
    "# Hierarchical Partial Pooling\n",
    ":::{post} Jan 28, 2023\n",
    ":tags: hierarchical model \n",
    ":category: intermediate\n",
    ":author: Vladislavs Dovgalecs, Adrian Seybolt, Christian Luhmann\n",
    ":::"
   ]
  },
  {
   "cell_type": "markdown",
   "metadata": {
    "application/vnd.databricks.v1+cell": {
     "cellMetadata": {},
     "inputWidgets": {},
     "nuid": "65a011fb-c9aa-465a-a31b-abe2d2379105",
     "showTitle": false,
     "title": ""
    }
   },
   "source": [
    "Suppose you are tasked with estimating baseball batting skills for several players. One such performance metric is batting average. Since players play a different number of games and bat in different positions in the order, each player has a different number of at-bats. However, you want to estimate the skill of all players, including those with a relatively small number of batting opportunities.\n",
    "\n",
    "So, suppose a player came to bat only 4 times, and never hit the ball. Are they a bad player?\n",
    "\n",
    "As a disclaimer, the author of this notebook assumes little to non-existent knowledge about baseball and its rules. The number of times at bat in his entire life is around \"4\".\n",
    "\n",
    "\n",
    "## Data\n",
    "\n",
    "We will use the baseball [data](http://www.swarthmore.edu/NatSci/peverso1/Sports%20Data/JamesSteinData/Efron-Morris%20Baseball/EfronMorrisBB.txt) {cite:p}`efron1975data`.\n",
    "\n",
    "\n",
    "## Approach\n",
    "\n",
    "We will use PyMC to estimate the batting average for each player. Having estimated the averages across all players in the datasets, we can use this information to inform an estimate of an additional player, for which there is little data (*i.e.* 4 at-bats).\n",
    "\n",
    "In the absence of a Bayesian hierarchical model, there are two approaches for this problem:\n",
    "\n",
    "1. independently compute batting average for each player (no pooling)\n",
    "2. compute an overall average, under the assumption that everyone has the same underlying average (complete pooling)\n",
    "\n",
    "Of course, neither approach is realistic. Clearly, all players aren't equally skilled hitters, so the global average is implausible. At the same time, professional baseball players are similar in many ways, so their averages aren't entirely independent either. \n",
    "\n",
    "It may be possible to cluster groups of \"similar\" players, and estimate group averages, but using a hierarchical modeling approach is a natural way of sharing information that does not involve identifying *ad hoc* clusters.\n",
    "\n",
    "The idea of hierarchical partial pooling is to model the global performance, and use that estimate to parameterize a population of players that accounts for differences among the players' performances. This tradeoff between global and individual performance will be automatically tuned by the model. Also, uncertainty due to different number of at bats for each player (*i.e.* information) will be automatically accounted for, by shrinking those estimates closer to the global mean.\n",
    "\n",
    "For far more in-depth discussion please refer to Stan [tutorial](http://mc-stan.org/documentation/case-studies/pool-binary-trials.html) {cite:p}`carpenter2016hierarchical` on the subject. The model and parameter values were taken from that example."
   ]
  },
  {
   "cell_type": "code",
   "execution_count": 0,
   "metadata": {
    "application/vnd.databricks.v1+cell": {
     "cellMetadata": {},
     "inputWidgets": {},
     "nuid": "ab8751b2-627b-4694-8bfd-ebf53bc85bb9",
     "showTitle": false,
     "title": ""
    },
    "execution": {
     "iopub.execute_input": "2022-01-09T12:13:28.055166Z",
     "iopub.status.busy": "2022-01-09T12:13:28.054155Z",
     "iopub.status.idle": "2022-01-09T12:13:31.399492Z",
     "shell.execute_reply": "2022-01-09T12:13:31.398489Z"
    }
   },
   "outputs": [],
   "source": [
    "import arviz as az\n",
    "import matplotlib.pyplot as plt\n",
    "import numpy as np\n",
    "import pandas as pd\n",
    "import pymc as pm\n",
    "import pytensor.tensor as pt\n",
    "\n",
    "%matplotlib inline"
   ]
  },
  {
   "cell_type": "code",
   "execution_count": 0,
   "metadata": {
    "application/vnd.databricks.v1+cell": {
     "cellMetadata": {},
     "inputWidgets": {},
     "nuid": "96ebd01a-e5e3-4c86-8923-dd8817feebd6",
     "showTitle": false,
     "title": ""
    },
    "execution": {
     "iopub.execute_input": "2022-01-09T12:13:31.406489Z",
     "iopub.status.busy": "2022-01-09T12:13:31.405489Z",
     "iopub.status.idle": "2022-01-09T12:13:31.417488Z",
     "shell.execute_reply": "2022-01-09T12:13:31.416489Z"
    }
   },
   "outputs": [],
   "source": [
    "RANDOM_SEED = 8927\n",
    "rng = np.random.default_rng(RANDOM_SEED)\n",
    "az.style.use(\"arviz-darkgrid\")"
   ]
  },
  {
   "cell_type": "markdown",
   "metadata": {
    "application/vnd.databricks.v1+cell": {
     "cellMetadata": {},
     "inputWidgets": {},
     "nuid": "d7f74760-1188-4178-8cac-49100d469a20",
     "showTitle": false,
     "title": ""
    }
   },
   "source": [
    "Now we can load the dataset using pandas:"
   ]
  },
  {
   "cell_type": "code",
   "execution_count": 0,
   "metadata": {
    "application/vnd.databricks.v1+cell": {
     "cellMetadata": {},
     "inputWidgets": {},
     "nuid": "1957b873-7636-4dfc-a39b-89504285d988",
     "showTitle": false,
     "title": ""
    },
    "execution": {
     "iopub.execute_input": "2022-01-09T12:13:31.423488Z",
     "iopub.status.busy": "2022-01-09T12:13:31.423488Z",
     "iopub.status.idle": "2022-01-09T12:13:31.663747Z",
     "shell.execute_reply": "2022-01-09T12:13:31.663747Z"
    }
   },
   "outputs": [],
   "source": [
    "data = pd.read_csv(pm.get_data(\"efron-morris-75-data.tsv\"), sep=\"\\t\")\n",
    "at_bats, hits = data[[\"At-Bats\", \"Hits\"]].to_numpy().T"
   ]
  },
  {
   "cell_type": "markdown",
   "metadata": {
    "application/vnd.databricks.v1+cell": {
     "cellMetadata": {},
     "inputWidgets": {},
     "nuid": "a161e644-3c12-496f-8220-e4154184f179",
     "showTitle": false,
     "title": ""
    }
   },
   "source": [
    "Now let's develop a generative model for these data.\n",
    "\n",
    "We will assume that there exists a hidden factor (`phi`) related to the expected performance for all players (not limited to our 18). Since the population mean is an unknown value between 0 and 1, it must be bounded from below and above. Also, we assume that nothing is known about global average. Hence, a natural choice for a prior distribution is the uniform distribution.\n",
    "\n",
    "Next, we introduce a hyperparameter `kappa` to account for the variance in the population batting averages, for which we will use a bounded Pareto distribution. This will ensure that the estimated value falls within reasonable bounds. These hyperparameters will be, in turn, used to parameterize a beta distribution, which is ideal for modeling quantities on the unit interval. The beta distribution is typically parameterized via a scale and shape parameter, it may also be parametrized in terms of its mean $\\mu \\in [0,1]$ and sample size (a proxy for variance) $\\nu = \\alpha + \\beta (\\nu > 0)$.\n",
    "\n",
    "The final step is to specify a sampling distribution for the data (hit or miss) for every player, using a Binomial distribution. This is where the data are brought to bear on the model."
   ]
  },
  {
   "cell_type": "markdown",
   "metadata": {
    "application/vnd.databricks.v1+cell": {
     "cellMetadata": {},
     "inputWidgets": {},
     "nuid": "d3decd17-c73e-4411-bf38-82dc93b0e7c8",
     "showTitle": false,
     "title": ""
    }
   },
   "source": [
    "We could use `pm.Pareto('kappa', m=1.5)`, to define our prior on `kappa`, but the Pareto\n",
    "distribution has very long tails. Exploring these properly\n",
    "is difficult for the sampler, so we use an equivalent\n",
    "but faster parametrization using the exponential distribution.\n",
    "We use the fact that the log of a Pareto distributed\n",
    "random variable follows an exponential distribution."
   ]
  },
  {
   "cell_type": "code",
   "execution_count": 0,
   "metadata": {
    "application/vnd.databricks.v1+cell": {
     "cellMetadata": {},
     "inputWidgets": {},
     "nuid": "792afe09-5950-45b9-b016-da21bc966af6",
     "showTitle": false,
     "title": ""
    },
    "execution": {
     "iopub.execute_input": "2022-01-09T12:13:31.675751Z",
     "iopub.status.busy": "2022-01-09T12:13:31.675751Z",
     "iopub.status.idle": "2022-01-09T12:13:32.615492Z",
     "shell.execute_reply": "2022-01-09T12:13:32.614492Z"
    }
   },
   "outputs": [],
   "source": [
    "N = len(hits)\n",
    "player_names = data[\"FirstName\"] + \" \" + data[\"LastName\"]\n",
    "coords = {\"player_names\": player_names.tolist()}\n",
    "\n",
    "with pm.Model(coords=coords) as baseball_model:\n",
    "\n",
    "    phi = pm.Uniform(\"phi\", lower=0.0, upper=1.0)\n",
    "\n",
    "    kappa_log = pm.Exponential(\"kappa_log\", lam=1.5)\n",
    "    kappa = pm.Deterministic(\"kappa\", pt.exp(kappa_log))\n",
    "\n",
    "    theta = pm.Beta(\"theta\", alpha=phi * kappa, beta=(1.0 - phi) * kappa, dims=\"player_names\")\n",
    "    y = pm.Binomial(\"y\", n=at_bats, p=theta, dims=\"player_names\", observed=hits)"
   ]
  },
  {
   "cell_type": "markdown",
   "metadata": {
    "application/vnd.databricks.v1+cell": {
     "cellMetadata": {},
     "inputWidgets": {},
     "nuid": "572f2dac-c660-4776-a54d-1533430ba787",
     "showTitle": false,
     "title": ""
    }
   },
   "source": [
    "Recall our original question was with regard to the true batting average for a player with only 4 at bats and no hits. We can add this as an additional variable in the model"
   ]
  },
  {
   "cell_type": "code",
   "execution_count": 0,
   "metadata": {
    "application/vnd.databricks.v1+cell": {
     "cellMetadata": {},
     "inputWidgets": {},
     "nuid": "089d54ad-15b3-42ad-819a-a87f400e085e",
     "showTitle": false,
     "title": ""
    },
    "execution": {
     "iopub.execute_input": "2022-01-09T12:13:32.628501Z",
     "iopub.status.busy": "2022-01-09T12:13:32.627493Z",
     "iopub.status.idle": "2022-01-09T12:13:32.630495Z",
     "shell.execute_reply": "2022-01-09T12:13:32.630495Z"
    }
   },
   "outputs": [],
   "source": [
    "with baseball_model:\n",
    "\n",
    "    theta_new = pm.Beta(\"theta_new\", alpha=phi * kappa, beta=(1.0 - phi) * kappa)\n",
    "    y_new = pm.Binomial(\"y_new\", n=4, p=theta_new, observed=0)"
   ]
  },
  {
   "cell_type": "markdown",
   "metadata": {
    "application/vnd.databricks.v1+cell": {
     "cellMetadata": {},
     "inputWidgets": {},
     "nuid": "62578491-a7c9-484b-8eef-cae28af93e70",
     "showTitle": false,
     "title": ""
    }
   },
   "source": [
    "The model can visualized like this"
   ]
  },
  {
   "cell_type": "code",
   "execution_count": 0,
   "metadata": {
    "application/vnd.databricks.v1+cell": {
     "cellMetadata": {},
     "inputWidgets": {},
     "nuid": "df64c6ef-d561-4de9-b1c7-c7ca50d942b0",
     "showTitle": false,
     "title": ""
    },
    "execution": {
     "iopub.execute_input": "2022-01-09T12:13:32.634494Z",
     "iopub.status.busy": "2022-01-09T12:13:32.634494Z",
     "iopub.status.idle": "2022-01-09T12:13:32.790964Z",
     "shell.execute_reply": "2022-01-09T12:13:32.789964Z"
    }
   },
   "outputs": [],
   "source": [
    "pm.model_to_graphviz(baseball_model)"
   ]
  },
  {
   "cell_type": "markdown",
   "metadata": {
    "application/vnd.databricks.v1+cell": {
     "cellMetadata": {},
     "inputWidgets": {},
     "nuid": "654e3e30-2b2f-4612-be66-11420460ed52",
     "showTitle": false,
     "title": ""
    }
   },
   "source": [
    "We can now fit the model using MCMC:"
   ]
  },
  {
   "cell_type": "code",
   "execution_count": 0,
   "metadata": {
    "application/vnd.databricks.v1+cell": {
     "cellMetadata": {},
     "inputWidgets": {},
     "nuid": "d4fce426-1d04-4abf-a761-31376570d127",
     "showTitle": false,
     "title": ""
    },
    "execution": {
     "iopub.execute_input": "2022-01-09T12:13:32.795964Z",
     "iopub.status.busy": "2022-01-09T12:13:32.794964Z",
     "iopub.status.idle": "2022-01-09T12:14:57.857829Z",
     "shell.execute_reply": "2022-01-09T12:14:57.856829Z"
    }
   },
   "outputs": [],
   "source": [
    "with baseball_model:\n",
    "    idata = pm.sample(2000, tune=2000, chains=2, target_accept=0.95)\n",
    "\n",
    "    # check convergence diagnostics\n",
    "    assert all(az.rhat(idata) < 1.03)"
   ]
  },
  {
   "cell_type": "markdown",
   "metadata": {
    "application/vnd.databricks.v1+cell": {
     "cellMetadata": {},
     "inputWidgets": {},
     "nuid": "dd5e0933-47a7-4e54-9598-733b4a53d585",
     "showTitle": false,
     "title": ""
    }
   },
   "source": [
    "Now we can plot the posteriors distribution of the parameters. First, the population hyperparameters:"
   ]
  },
  {
   "cell_type": "code",
   "execution_count": 0,
   "metadata": {
    "application/vnd.databricks.v1+cell": {
     "cellMetadata": {},
     "inputWidgets": {},
     "nuid": "5c20c729-abbc-44d9-8653-4c532346dc6b",
     "showTitle": false,
     "title": ""
    },
    "execution": {
     "iopub.execute_input": "2022-01-09T12:14:57.865824Z",
     "iopub.status.busy": "2022-01-09T12:14:57.864823Z",
     "iopub.status.idle": "2022-01-09T12:14:58.460822Z",
     "shell.execute_reply": "2022-01-09T12:14:58.462825Z"
    }
   },
   "outputs": [],
   "source": [
    "az.plot_trace(idata, var_names=[\"phi\", \"kappa\"]);"
   ]
  },
  {
   "cell_type": "markdown",
   "metadata": {
    "application/vnd.databricks.v1+cell": {
     "cellMetadata": {},
     "inputWidgets": {},
     "nuid": "02c8bf09-6a08-4d7a-84c5-bca62f9e6c58",
     "showTitle": false,
     "title": ""
    }
   },
   "source": [
    "Hence, the population mean batting average is in the 0.22-0.31 range, with an expected value of around 0.26.\n",
    "\n",
    "Next, the estimates for all 18 players in the dataset:"
   ]
  },
  {
   "cell_type": "code",
   "execution_count": 0,
   "metadata": {
    "application/vnd.databricks.v1+cell": {
     "cellMetadata": {},
     "inputWidgets": {},
     "nuid": "132de4a0-36f9-44da-ae14-231c3b88ba29",
     "showTitle": false,
     "title": ""
    },
    "execution": {
     "iopub.execute_input": "2022-01-09T12:14:58.524824Z",
     "iopub.status.busy": "2022-01-09T12:14:58.522831Z",
     "iopub.status.idle": "2022-01-09T12:14:59.534904Z",
     "shell.execute_reply": "2022-01-09T12:14:59.535903Z"
    }
   },
   "outputs": [],
   "source": [
    "az.plot_forest(idata, var_names=\"theta\");"
   ]
  },
  {
   "cell_type": "markdown",
   "metadata": {
    "application/vnd.databricks.v1+cell": {
     "cellMetadata": {},
     "inputWidgets": {},
     "nuid": "765e6541-3956-4b5e-aa2b-66bb46494979",
     "showTitle": false,
     "title": ""
    }
   },
   "source": [
    "Finally, let's get the estimate for our 0-for-4 player:"
   ]
  },
  {
   "cell_type": "code",
   "execution_count": 0,
   "metadata": {
    "application/vnd.databricks.v1+cell": {
     "cellMetadata": {},
     "inputWidgets": {},
     "nuid": "b44425d3-f99f-43a4-b3a8-d0c3beb20358",
     "showTitle": false,
     "title": ""
    },
    "execution": {
     "iopub.execute_input": "2022-01-09T12:14:59.560906Z",
     "iopub.status.busy": "2022-01-09T12:14:59.559905Z",
     "iopub.status.idle": "2022-01-09T12:14:59.805911Z",
     "shell.execute_reply": "2022-01-09T12:14:59.806912Z"
    }
   },
   "outputs": [],
   "source": [
    "az.plot_trace(idata, var_names=[\"theta_new\"]);"
   ]
  },
  {
   "cell_type": "markdown",
   "metadata": {
    "application/vnd.databricks.v1+cell": {
     "cellMetadata": {},
     "inputWidgets": {},
     "nuid": "24ee5c37-2ca4-4790-a6da-7b5dbb9b9e67",
     "showTitle": false,
     "title": ""
    }
   },
   "source": [
    "Notice that, despite the fact our additional player did not get any hits, the estimate of his average is not zero -- zero is not even a highly-probably value. This is because we are assuming that the player is drawn from a *population* of players with a distribution specified by our estimated hyperparemeters. However, the estimated mean for this player is toward the low end of the means for the players in our dataset, indicating that the 4 at-bats contributed some information toward the estimate."
   ]
  },
  {
   "cell_type": "markdown",
   "metadata": {
    "application/vnd.databricks.v1+cell": {
     "cellMetadata": {},
     "inputWidgets": {},
     "nuid": "86908aa4-d2e9-4824-9f6d-433298f0a7d3",
     "showTitle": false,
     "title": ""
    }
   },
   "source": [
    "## Authors\n",
    "* authored by Vladislavs Dovgalecs in November, 2016 ([pymc#1546](https://github.com/pymc-devs/pymc/pull/1546))\n",
    "* updated by Adrian Seybolt in June, 2017 ([pymc#2288](https://github.com/pymc-devs/pymc/pull/2288))\n",
    "* updated by Christian Luhmann in August, 2020 ([pymc#4068](https://github.com/pymc-devs/pymc/pull/4068))\n",
    "* run using PyMC v5 by Reshama Shaikh in January, 2023"
   ]
  },
  {
   "cell_type": "markdown",
   "metadata": {
    "application/vnd.databricks.v1+cell": {
     "cellMetadata": {},
     "inputWidgets": {},
     "nuid": "eb251525-3a36-4f06-881b-28624e4201d4",
     "showTitle": false,
     "title": ""
    }
   },
   "source": [
    "## References\n",
    "\n",
    ":::{bibliography}\n",
    ":filter: docname in docnames\n",
    ":::"
   ]
  },
  {
   "cell_type": "markdown",
   "metadata": {
    "application/vnd.databricks.v1+cell": {
     "cellMetadata": {},
     "inputWidgets": {},
     "nuid": "9cb71980-81de-49f6-a3e4-f0aee6cbd348",
     "showTitle": false,
     "title": ""
    }
   },
   "source": [
    "## Watermark"
   ]
  },
  {
   "cell_type": "code",
   "execution_count": 0,
   "metadata": {
    "application/vnd.databricks.v1+cell": {
     "cellMetadata": {},
     "inputWidgets": {},
     "nuid": "aa6044d2-17e6-4dd8-94b6-11f9f8f16269",
     "showTitle": false,
     "title": ""
    },
    "execution": {
     "iopub.execute_input": "2022-01-09T12:14:59.812905Z",
     "iopub.status.busy": "2022-01-09T12:14:59.811907Z",
     "iopub.status.idle": "2022-01-09T12:14:59.850723Z",
     "shell.execute_reply": "2022-01-09T12:14:59.851721Z"
    }
   },
   "outputs": [],
   "source": [
    "%load_ext watermark\n",
    "%watermark -n -u -v -iv -w -p xarray"
   ]
  },
  {
   "cell_type": "markdown",
   "metadata": {
    "application/vnd.databricks.v1+cell": {
     "cellMetadata": {},
     "inputWidgets": {},
     "nuid": "697fdd0f-e40b-4238-8d2e-d162379e2c71",
     "showTitle": false,
     "title": ""
    }
   },
   "source": [
    ":::{include} ../page_footer.md\n",
    ":::"
   ]
  }
 ],
 "metadata": {
  "_draft": {
   "nbviewer_url": "https://gist.github.com/08078792809cc29b522253957464d5b7"
  },
  "anaconda-cloud": {},
  "application/vnd.databricks.v1+notebook": {
   "dashboards": [],
   "language": "python",
   "notebookMetadata": {},
   "notebookName": "hierarchical_partial_pooling",
   "widgets": {}
  },
  "gist": {
   "data": {
    "description": "hierarchical_partial_pooling.ipynb",
    "public": true
   },
   "id": "08078792809cc29b522253957464d5b7"
  },
  "kernelspec": {
   "display_name": "Python 3 (ipykernel)",
   "language": "python",
   "name": "python3"
  },
  "language_info": {
   "codemirror_mode": {
    "name": "ipython",
    "version": 3
   },
   "file_extension": ".py",
   "mimetype": "text/x-python",
   "name": "python",
   "nbconvert_exporter": "python",
   "pygments_lexer": "ipython3",
   "version": "3.11.0"
  },
  "latex_envs": {
   "bibliofile": "biblio.bib",
   "cite_by": "apalike",
   "current_citInitial": 1,
   "eqLabelWithNumbers": true,
   "eqNumInitial": 0
  },
  "vscode": {
   "interpreter": {
    "hash": "774a0f85b1c23fae669045b0cb54184157266934c8bb15d2a8f159734ea36b19"
   }
  }
 },
 "nbformat": 4,
 "nbformat_minor": 0
}
