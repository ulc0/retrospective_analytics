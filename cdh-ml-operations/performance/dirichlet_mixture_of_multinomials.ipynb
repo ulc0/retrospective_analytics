{
 "cells": [
  {
   "cell_type": "markdown",
   "metadata": {
    "application/vnd.databricks.v1+cell": {
     "cellMetadata": {},
     "inputWidgets": {},
     "nuid": "ca5f324c-c155-4f08-af7d-65412fa5fbb3",
     "showTitle": false,
     "title": ""
    }
   },
   "source": [
    "(dirichlet_mixture_of_multinomials)=\n",
    "# Dirichlet mixtures of multinomials\n",
    "\n",
    ":::{post} Jan 8, 2022\n",
    ":tags: mixture model, \n",
    ":category: advanced\n",
    ":author: Byron J. Smith, Abhipsha Das, Oriol Abril-Pla\n",
    ":::"
   ]
  },
  {
   "cell_type": "markdown",
   "metadata": {
    "application/vnd.databricks.v1+cell": {
     "cellMetadata": {},
     "inputWidgets": {},
     "nuid": "94329fb5-9e91-45c9-8788-e28c70521cd9",
     "showTitle": false,
     "title": ""
    }
   },
   "source": [
    "This example notebook demonstrates the use of a\n",
    "Dirichlet mixture of multinomials\n",
    "(a.k.a [Dirichlet-multinomial](https://en.wikipedia.org/wiki/Dirichlet-multinomial_distribution) or DM)\n",
    "to model categorical count data.\n",
    "Models like this one are important in a variety of areas, including\n",
    "natural language processing, ecology, bioinformatics, and more.\n",
    "\n",
    "The Dirichlet-multinomial can be understood as draws from a [Multinomial distribution](https://en.wikipedia.org/wiki/Multinomial_distribution)\n",
    "where each sample has a slightly different probability vector, which is itself drawn from a common [Dirichlet distribution](https://en.wikipedia.org/wiki/Dirichlet_distribution).\n",
    "This contrasts with the Multinomial distribution, which assumes that all observations arise from a single fixed probability vector.\n",
    "This enables the Dirichlet-multinomial to accommodate more variable (a.k.a, over-dispersed) count data than the Multinomial.\n",
    "\n",
    "Other examples of over-dispersed count distributions are the\n",
    "[Beta-binomial](https://en.wikipedia.org/wiki/Beta-binomial_distribution)\n",
    "(which can be thought of as a special case of the DM) or the\n",
    "[Negative binomial](https://en.wikipedia.org/wiki/Negative_binomial_distribution)\n",
    "distributions.\n",
    "\n",
    "The DM is also an example of marginalizing\n",
    "a mixture distribution over its latent parameters.\n",
    "This notebook will demonstrate the performance benefits that come from taking that approach."
   ]
  },
  {
   "cell_type": "code",
   "execution_count": 0,
   "metadata": {
    "ExecuteTime": {
     "end_time": "2021-01-25T18:00:40.367769Z",
     "start_time": "2021-01-25T18:00:37.359820Z"
    },
    "application/vnd.databricks.v1+cell": {
     "cellMetadata": {},
     "inputWidgets": {},
     "nuid": "74f094dd-f837-4c89-b870-e76a779fcbd2",
     "showTitle": false,
     "title": ""
    }
   },
   "outputs": [],
   "source": [
    "import arviz as az\n",
    "import matplotlib.pyplot as plt\n",
    "import numpy as np\n",
    "import pymc3 as pm\n",
    "import scipy as sp\n",
    "import scipy.stats\n",
    "import seaborn as sns\n",
    "\n",
    "print(f\"Running on PyMC3 v{pm.__version__}\")"
   ]
  },
  {
   "cell_type": "code",
   "execution_count": 0,
   "metadata": {
    "ExecuteTime": {
     "end_time": "2021-01-25T18:00:40.406019Z",
     "start_time": "2021-01-25T18:00:40.400553Z"
    },
    "application/vnd.databricks.v1+cell": {
     "cellMetadata": {},
     "inputWidgets": {},
     "nuid": "e5fa9020-77b3-4997-945d-228bc07187da",
     "showTitle": false,
     "title": ""
    }
   },
   "outputs": [],
   "source": [
    "%config InlineBackend.figure_format = 'retina'\n",
    "RANDOM_SEED = 8927\n",
    "rng = np.random.default_rng(RANDOM_SEED)\n",
    "az.style.use(\"arviz-darkgrid\")"
   ]
  },
  {
   "cell_type": "markdown",
   "metadata": {
    "application/vnd.databricks.v1+cell": {
     "cellMetadata": {},
     "inputWidgets": {},
     "nuid": "fc66d006-05d2-449e-85c1-bf7cb35f918c",
     "showTitle": false,
     "title": ""
    }
   },
   "source": [
    "## Simulation data"
   ]
  },
  {
   "cell_type": "markdown",
   "metadata": {
    "application/vnd.databricks.v1+cell": {
     "cellMetadata": {},
     "inputWidgets": {},
     "nuid": "dac31d71-7302-4ebf-8fb5-453fceaf0d0a",
     "showTitle": false,
     "title": ""
    }
   },
   "source": [
    "Let us simulate some over-dispersed, categorical count data\n",
    "for this example.\n",
    "\n",
    "Here we are simulating from the DM distribution itself,\n",
    "so it is perhaps tautological to fit that model,\n",
    "but rest assured that data like these really do appear in\n",
    "the counts of different:\n",
    "\n",
    "1. words in text corpuses {cite:p}`madsen2005modelingdirichlet`,\n",
    "2. types of RNA molecules in a cell {cite:p}`nowicka2016drimseq`,\n",
    "3. items purchased by shoppers {cite:p}`goodhardt1984thedirichlet`.\n",
    "\n",
    "Here we will discuss a community ecology example, pretending that we have observed counts of $k=5$ different\n",
    "tree species in $n=10$ different forests.\n",
    "\n",
    "Our simulation will produce a two-dimensional matrix of integers (counts)\n",
    "where each row, (zero-)indexed by $i \\in (0...n-1)$, is an observation (different forest), and each\n",
    "column $j \\in (0...k-1)$ is a category (tree species).\n",
    "We'll parameterize this distribution with three things:\n",
    "- $\\mathrm{frac}$ : the expected fraction of each species,\n",
    "  a $k$-dimensional vector on the simplex (i.e. sums-to-one)\n",
    "- $\\mathrm{total\\_count}$ : the total number of items tallied in each observation,\n",
    "- $\\mathrm{conc}$ : the concentration, controlling the overdispersion of our data,\n",
    "  where larger values result in our distribution more closely approximating the multinomial.\n",
    "  \n",
    "Here, and throughout this notebook, we've used a\n",
    "[convenient reparameterization](https://mc-stan.org/docs/2_26/stan-users-guide/reparameterizations.html#dirichlet-priors)\n",
    "of the Dirichlet distribution\n",
    "from one to two parameters,\n",
    "$\\alpha=\\mathrm{conc} \\times \\mathrm{frac}$, as this\n",
    "fits our desired interpretation.\n",
    "  \n",
    "Each observation from the DM is simulated by:\n",
    "1. first obtaining a value on the $k$-simplex simulated as\n",
    "   $p_i \\sim \\mathrm{Dirichlet}(\\alpha=\\mathrm{conc} \\times \\mathrm{frac})$,\n",
    "2. and then simulating $\\mathrm{counts}_i \\sim \\mathrm{Multinomial}(\\mathrm{total\\_count}, p_i)$.\n",
    "\n",
    "Notice that each observation gets its _own_\n",
    "latent parameter $p_i$, simulated independently from\n",
    "a common Dirichlet distribution."
   ]
  },
  {
   "cell_type": "code",
   "execution_count": 0,
   "metadata": {
    "ExecuteTime": {
     "end_time": "2021-01-25T18:00:40.448021Z",
     "start_time": "2021-01-25T18:00:40.422607Z"
    },
    "application/vnd.databricks.v1+cell": {
     "cellMetadata": {},
     "inputWidgets": {},
     "nuid": "42a8c2ed-5889-4521-b1b1-563b13cee192",
     "showTitle": false,
     "title": ""
    }
   },
   "outputs": [],
   "source": [
    "true_conc = 6.0\n",
    "true_frac = np.array([0.45, 0.30, 0.15, 0.09, 0.01])\n",
    "trees = [\"pine\", \"oak\", \"ebony\", \"rosewood\", \"mahogany\"]  # Tree species observed\n",
    "# fmt: off\n",
    "forests = [  # Forests observed\n",
    "    \"sunderbans\", \"amazon\", \"arashiyama\", \"trossachs\", \"valdivian\",\n",
    "    \"bosc de poblet\", \"font groga\", \"monteverde\", \"primorye\", \"daintree\",\n",
    "]\n",
    "# fmt: on\n",
    "k = len(trees)\n",
    "n = len(forests)\n",
    "total_count = 50\n",
    "\n",
    "true_p = sp.stats.dirichlet(true_conc * true_frac).rvs(size=n)\n",
    "observed_counts = np.vstack([sp.stats.multinomial(n=total_count, p=p_i).rvs() for p_i in true_p])\n",
    "\n",
    "observed_counts"
   ]
  },
  {
   "cell_type": "markdown",
   "metadata": {
    "application/vnd.databricks.v1+cell": {
     "cellMetadata": {},
     "inputWidgets": {},
     "nuid": "9fb1440f-a321-4ebc-b38c-7c797898f422",
     "showTitle": false,
     "title": ""
    }
   },
   "source": [
    "## Multinomial model"
   ]
  },
  {
   "cell_type": "markdown",
   "metadata": {
    "application/vnd.databricks.v1+cell": {
     "cellMetadata": {},
     "inputWidgets": {},
     "nuid": "aee0a4ee-e792-49e9-9f92-6fdf5913f099",
     "showTitle": false,
     "title": ""
    }
   },
   "source": [
    "The first model that we will fit to these data is a plain\n",
    "multinomial model, where the only parameter is the\n",
    "expected fraction of each category, $\\mathrm{frac}$, which we will give a Dirichlet prior.\n",
    "While the uniform prior ($\\alpha_j=1$ for each $j$) works well, if we have independent beliefs about the fraction of each tree,\n",
    "we could encode this into our prior, e.g.\n",
    "increasing the value of $\\alpha_j$ where we expect a higher fraction of species-$j$."
   ]
  },
  {
   "cell_type": "code",
   "execution_count": 0,
   "metadata": {
    "ExecuteTime": {
     "end_time": "2021-01-25T18:00:49.504137Z",
     "start_time": "2021-01-25T18:00:40.451892Z"
    },
    "application/vnd.databricks.v1+cell": {
     "cellMetadata": {},
     "inputWidgets": {},
     "nuid": "e55e39cb-05e7-4367-9755-0aaca4cfc89b",
     "showTitle": false,
     "title": ""
    }
   },
   "outputs": [],
   "source": [
    "coords = {\"tree\": trees, \"forest\": forests}\n",
    "with pm.Model(coords=coords) as model_multinomial:\n",
    "    frac = pm.Dirichlet(\"frac\", a=np.ones(k), dims=\"tree\")\n",
    "    counts = pm.Multinomial(\n",
    "        \"counts\", n=total_count, p=frac, observed=observed_counts, dims=(\"forest\", \"tree\")\n",
    "    )\n",
    "\n",
    "pm.model_to_graphviz(model_multinomial)"
   ]
  },
  {
   "cell_type": "markdown",
   "metadata": {
    "application/vnd.databricks.v1+cell": {
     "cellMetadata": {},
     "inputWidgets": {},
     "nuid": "108edaad-4823-488f-8a74-a8b3e1a3bc56",
     "showTitle": false,
     "title": ""
    }
   },
   "source": [
    "Interestingly, NUTS frequently runs into numerical problems on this model, perhaps an example of the\n",
    "[\"Folk Theorem of Statistical Computing\"](https://statmodeling.stat.columbia.edu/2008/05/13/the_folk_theore/).\n",
    "\n",
    "Because of a couple of identities of the multinomial distribution,\n",
    "we could reparameterize this model in a number of ways&mdash;we\n",
    "would obtain equivalent models by exploding our $n$ observations\n",
    "of $\\mathrm{total\\_count}$ items into $(n \\times \\mathrm{total\\_count})$\n",
    "independent categorical trials, or collapsing them down into\n",
    "one Multinomial draw with $(n \\times \\mathrm{total\\_count})$ items.\n",
    "(Importantly, this is _not_ true for the DM distribution.)\n",
    "\n",
    "Rather than _actually_ fixing our problem through reparameterization,\n",
    "here we'll instead switch to the Metropolis step method,\n",
    "which ignores some of the geometric pathologies of our naïve model.\n",
    "\n",
    "**Important**: switching to Metropolis does not not _fix_ our model's issues, rather it _sweeps them under the rug_.\n",
    "In fact, if you try running this model with NUTS (PyMC3's default step method), it will break loudly during sampling.\n",
    "When that happens, this should be a **red alert** that there is something wrong in our model.\n",
    "\n",
    "You'll also notice below that we have to increase considerably the number of draws we take from the posterior;\n",
    "this is because Metropolis is much less efficient at\n",
    "exploring the posterior than NUTS."
   ]
  },
  {
   "cell_type": "code",
   "execution_count": 0,
   "metadata": {
    "ExecuteTime": {
     "end_time": "2021-01-25T18:01:10.459503Z",
     "start_time": "2021-01-25T18:00:49.507208Z"
    },
    "application/vnd.databricks.v1+cell": {
     "cellMetadata": {},
     "inputWidgets": {},
     "nuid": "aed96770-7dd1-4e1e-adb0-6509640f7702",
     "showTitle": false,
     "title": ""
    }
   },
   "outputs": [],
   "source": [
    "with model_multinomial:\n",
    "    trace_multinomial = pm.sample(\n",
    "        draws=5000, chains=4, step=pm.Metropolis(), return_inferencedata=True\n",
    "    )"
   ]
  },
  {
   "cell_type": "markdown",
   "metadata": {
    "application/vnd.databricks.v1+cell": {
     "cellMetadata": {},
     "inputWidgets": {},
     "nuid": "8a69d64d-fd0d-4c69-afcb-cf18f5439915",
     "showTitle": false,
     "title": ""
    }
   },
   "source": [
    "Let's ignore the warning about inefficient sampling for now."
   ]
  },
  {
   "cell_type": "code",
   "execution_count": 0,
   "metadata": {
    "ExecuteTime": {
     "end_time": "2021-01-25T18:01:11.092547Z",
     "start_time": "2021-01-25T18:01:10.461088Z"
    },
    "application/vnd.databricks.v1+cell": {
     "cellMetadata": {},
     "inputWidgets": {},
     "nuid": "be1136e0-b4c4-4cd7-a853-d2326d79fcaa",
     "showTitle": false,
     "title": ""
    }
   },
   "outputs": [],
   "source": [
    "az.plot_trace(data=trace_multinomial, var_names=[\"frac\"]);"
   ]
  },
  {
   "cell_type": "markdown",
   "metadata": {
    "application/vnd.databricks.v1+cell": {
     "cellMetadata": {},
     "inputWidgets": {},
     "nuid": "89425062-2356-4815-a9c2-2d9524d873bf",
     "showTitle": false,
     "title": ""
    }
   },
   "source": [
    "The trace plots look fairly good;\n",
    "visually, each parameter appears to be moving around the posterior well,\n",
    "although some sharp parts of the KDE plot suggests that\n",
    "sampling sometimes gets stuck in one place for a few steps."
   ]
  },
  {
   "cell_type": "code",
   "execution_count": 0,
   "metadata": {
    "ExecuteTime": {
     "end_time": "2021-01-25T18:01:11.252668Z",
     "start_time": "2021-01-25T18:01:11.095502Z"
    },
    "application/vnd.databricks.v1+cell": {
     "cellMetadata": {},
     "inputWidgets": {},
     "nuid": "9fb4d287-a366-42ca-908a-acf765cb18ea",
     "showTitle": false,
     "title": ""
    }
   },
   "outputs": [],
   "source": [
    "summary_multinomial = az.summary(trace_multinomial, var_names=[\"frac\"])\n",
    "\n",
    "summary_multinomial = summary_multinomial.assign(\n",
    "    ess_bulk_per_sec=lambda x: x.ess_bulk / trace_multinomial.posterior.sampling_time,\n",
    ")\n",
    "\n",
    "summary_multinomial"
   ]
  },
  {
   "cell_type": "markdown",
   "metadata": {
    "application/vnd.databricks.v1+cell": {
     "cellMetadata": {},
     "inputWidgets": {},
     "nuid": "a4664ea6-102a-4210-b9d2-c7a519b269b5",
     "showTitle": false,
     "title": ""
    }
   },
   "source": [
    "Likewise, diagnostics in the parameter summary table all look fine.\n",
    "Here I've added a column estimating the effective sample size per\n",
    "second of sampling.\n",
    "\n",
    "Nonetheless, the fact that we were unable to use NUTS is still a red flag, and we should be\n",
    "very cautious in using these results."
   ]
  },
  {
   "cell_type": "code",
   "execution_count": 0,
   "metadata": {
    "ExecuteTime": {
     "end_time": "2021-01-25T18:01:11.556554Z",
     "start_time": "2021-01-25T18:01:11.254663Z"
    },
    "application/vnd.databricks.v1+cell": {
     "cellMetadata": {},
     "inputWidgets": {},
     "nuid": "acfb9c62-5113-4b65-b71b-2929de6f4ad1",
     "showTitle": false,
     "title": ""
    }
   },
   "outputs": [],
   "source": [
    "az.plot_forest(trace_multinomial, var_names=[\"frac\"])\n",
    "for j, (y_tick, frac_j) in enumerate(zip(plt.gca().get_yticks(), reversed(true_frac))):\n",
    "    plt.vlines(frac_j, ymin=y_tick - 0.45, ymax=y_tick + 0.45, color=\"black\", linestyle=\"--\")"
   ]
  },
  {
   "cell_type": "markdown",
   "metadata": {
    "application/vnd.databricks.v1+cell": {
     "cellMetadata": {},
     "inputWidgets": {},
     "nuid": "08e22c2e-89c1-44ee-8aa0-aa143c15f4da",
     "showTitle": false,
     "title": ""
    }
   },
   "source": [
    "Here we've drawn a forest-plot, showing the mean and 94% HDIs from our posterior approximation.\n",
    "Interestingly, because we know what the underlying\n",
    "frequencies are for each species (dashed lines), we can comment on the accuracy\n",
    "of our inferences.\n",
    "And now the issues with our model become apparent;\n",
    "notice that the 94% HDIs _don't include the true values_ for\n",
    "tree species 0, 2, 3.\n",
    "We might have seen _one_ HDI miss, but _three_???\n",
    "\n",
    "...what's going on?\n",
    "\n",
    "Let's troubleshoot this model using a posterior-predictive check, comparing our data to simulated data conditioned on our posterior estimates."
   ]
  },
  {
   "cell_type": "code",
   "execution_count": 0,
   "metadata": {
    "ExecuteTime": {
     "end_time": "2021-01-25T18:01:21.826527Z",
     "start_time": "2021-01-25T18:01:11.558091Z"
    },
    "application/vnd.databricks.v1+cell": {
     "cellMetadata": {},
     "inputWidgets": {},
     "nuid": "50cef5bf-aa17-485b-bd22-5620c214209c",
     "showTitle": false,
     "title": ""
    }
   },
   "outputs": [],
   "source": [
    "with model_multinomial:\n",
    "    pp_samples = az.from_pymc3(\n",
    "        posterior_predictive=pm.fast_sample_posterior_predictive(trace=trace_multinomial)\n",
    "    )\n",
    "\n",
    "# Concatenate with InferenceData object\n",
    "trace_multinomial.extend(pp_samples)"
   ]
  },
  {
   "cell_type": "code",
   "execution_count": 0,
   "metadata": {
    "ExecuteTime": {
     "end_time": "2021-01-25T18:01:22.786984Z",
     "start_time": "2021-01-25T18:01:21.828155Z"
    },
    "application/vnd.databricks.v1+cell": {
     "cellMetadata": {},
     "inputWidgets": {},
     "nuid": "f439cc19-baca-4505-af68-b9493327c3d4",
     "showTitle": false,
     "title": ""
    }
   },
   "outputs": [],
   "source": [
    "cmap = plt.get_cmap(\"tab10\")\n",
    "\n",
    "fig, axs = plt.subplots(k, 1, sharex=True, sharey=True, figsize=(6, 8))\n",
    "for j, ax in enumerate(axs):\n",
    "    c = cmap(j)\n",
    "    ax.hist(\n",
    "        trace_multinomial.posterior_predictive.counts.sel(tree=trees[j]).values.flatten(),\n",
    "        bins=np.arange(total_count),\n",
    "        histtype=\"step\",\n",
    "        color=c,\n",
    "        density=True,\n",
    "        label=\"Post.Pred.\",\n",
    "    )\n",
    "    ax.hist(\n",
    "        (trace_multinomial.observed_data.counts.sel(tree=trees[j]).values.flatten()),\n",
    "        bins=np.arange(total_count),\n",
    "        color=c,\n",
    "        density=True,\n",
    "        alpha=0.25,\n",
    "        label=\"Observed\",\n",
    "    )\n",
    "    ax.axvline(\n",
    "        true_frac[j] * total_count,\n",
    "        color=c,\n",
    "        lw=1.0,\n",
    "        alpha=0.45,\n",
    "        label=\"True\",\n",
    "    )\n",
    "    ax.annotate(\n",
    "        f\"{trees[j]}\",\n",
    "        xy=(0.96, 0.9),\n",
    "        xycoords=\"axes fraction\",\n",
    "        ha=\"right\",\n",
    "        va=\"top\",\n",
    "        color=c,\n",
    "    )\n",
    "\n",
    "axs[-1].legend(loc=\"upper center\", fontsize=10)\n",
    "axs[-1].set_xlabel(\"Count\")\n",
    "axs[-1].set_yticks([0, 0.5, 1.0])\n",
    "axs[-1].set_ylim(0, 0.6);"
   ]
  },
  {
   "cell_type": "markdown",
   "metadata": {
    "application/vnd.databricks.v1+cell": {
     "cellMetadata": {},
     "inputWidgets": {},
     "nuid": "55a6d277-e97b-4178-bd40-a5de789dacc7",
     "showTitle": false,
     "title": ""
    }
   },
   "source": [
    "Here we're plotting histograms of the predicted counts\n",
    "against the observed counts for each species.\n",
    "\n",
    "_(Notice that the y-axis isn't full height and clips the distributions for species-4 in purple.)_\n",
    "\n",
    "And now we can start to see why our posterior HDI deviates from the _true_ parameters for three of five species (vertical lines).\n",
    "See that for all of the species the observed counts are frequently quite far from the predictions\n",
    "conditioned on the posterior distribution.\n",
    "This is particularly obvious for (e.g.) species-2 where we have one observation of more than 20\n",
    "trees of this species, despite the posterior predicitive mass being concentrated far below that.\n",
    "\n",
    "This is overdispersion at work, and a clear sign that we need to adjust our model to accommodate it.\n",
    "\n",
    "Posterior predictive checks are one of the best ways to diagnose model misspecification,\n",
    "and this example is no different."
   ]
  },
  {
   "cell_type": "markdown",
   "metadata": {
    "application/vnd.databricks.v1+cell": {
     "cellMetadata": {},
     "inputWidgets": {},
     "nuid": "b25ca2da-b418-4f15-87fb-e48fe68eaad3",
     "showTitle": false,
     "title": ""
    }
   },
   "source": [
    "## Dirichlet-Multinomial Model - Explicit Mixture"
   ]
  },
  {
   "cell_type": "markdown",
   "metadata": {
    "application/vnd.databricks.v1+cell": {
     "cellMetadata": {},
     "inputWidgets": {},
     "nuid": "45a6cbd1-1369-45e5-adb8-35c349a4e9cd",
     "showTitle": false,
     "title": ""
    }
   },
   "source": [
    "Let's go ahead and model our data using the DM distribution.\n",
    "\n",
    "For this model we'll keep the same prior on the expected frequencies of each\n",
    "species, $\\mathrm{frac}$.\n",
    "We'll also add a strictly positive parameter, $\\mathrm{conc}$, for the concentration.\n",
    "\n",
    "In this iteration of our model we'll explicitly include the latent multinomial\n",
    "probability, $p_i$, modeling the $\\mathrm{true\\_p}_i$ from our simulations (which we would not\n",
    "observe in the real world)."
   ]
  },
  {
   "cell_type": "code",
   "execution_count": 0,
   "metadata": {
    "ExecuteTime": {
     "end_time": "2021-01-25T18:01:26.125500Z",
     "start_time": "2021-01-25T18:01:22.788748Z"
    },
    "application/vnd.databricks.v1+cell": {
     "cellMetadata": {},
     "inputWidgets": {},
     "nuid": "4617e25c-cf4a-456d-bcc8-443816bdb5ba",
     "showTitle": false,
     "title": ""
    }
   },
   "outputs": [],
   "source": [
    "with pm.Model(coords=coords) as model_dm_explicit:\n",
    "    frac = pm.Dirichlet(\"frac\", a=np.ones(k), dims=\"tree\")\n",
    "    conc = pm.Lognormal(\"conc\", mu=1, sigma=1)\n",
    "    p = pm.Dirichlet(\"p\", a=frac * conc, dims=(\"forest\", \"tree\"))\n",
    "    counts = pm.Multinomial(\n",
    "        \"counts\", n=total_count, p=p, observed=observed_counts, dims=(\"forest\", \"tree\")\n",
    "    )\n",
    "\n",
    "pm.model_to_graphviz(model_dm_explicit)"
   ]
  },
  {
   "cell_type": "markdown",
   "metadata": {
    "ExecuteTime": {
     "end_time": "2021-01-23T00:26:07.224052Z",
     "start_time": "2021-01-23T00:25:28.046396Z"
    },
    "application/vnd.databricks.v1+cell": {
     "cellMetadata": {},
     "inputWidgets": {},
     "nuid": "922d27a9-a8bc-4e09-94ce-621fb981dae2",
     "showTitle": false,
     "title": ""
    }
   },
   "source": [
    "Compare this diagram to the first.\n",
    "Here the latent, Dirichlet distributed $p$ separates the multinomial from the expected frequencies, $\\mathrm{frac}$,\n",
    "accounting for overdispersion of counts relative to the simple multinomial model."
   ]
  },
  {
   "cell_type": "code",
   "execution_count": 0,
   "metadata": {
    "ExecuteTime": {
     "end_time": "2021-01-25T18:04:45.280081Z",
     "start_time": "2021-01-25T18:01:26.144038Z"
    },
    "application/vnd.databricks.v1+cell": {
     "cellMetadata": {},
     "inputWidgets": {},
     "nuid": "0ba9901c-5b13-4f9f-8f10-7b81511396fb",
     "showTitle": false,
     "title": ""
    }
   },
   "outputs": [],
   "source": [
    "with model_dm_explicit:\n",
    "    trace_dm_explicit = pm.sample(chains=4, return_inferencedata=True)"
   ]
  },
  {
   "cell_type": "markdown",
   "metadata": {
    "application/vnd.databricks.v1+cell": {
     "cellMetadata": {},
     "inputWidgets": {},
     "nuid": "508d04bb-c0c4-447b-9b08-ac535a005054",
     "showTitle": false,
     "title": ""
    }
   },
   "source": [
    "We got a warning, although we'll ignore it for now.\n",
    "More interesting is how much longer it took to sample this model than the\n",
    "first.\n",
    "This may be because our model has an additional ~$(n \\times k)$ parameters,\n",
    "but it seems like there are other geometric challenges for NUTS as well.\n",
    "\n",
    "We'll see if we can fix these in the next model, but for now let's take a look at the traces."
   ]
  },
  {
   "cell_type": "code",
   "execution_count": 0,
   "metadata": {
    "ExecuteTime": {
     "end_time": "2021-01-25T18:04:46.373078Z",
     "start_time": "2021-01-25T18:04:45.282240Z"
    },
    "application/vnd.databricks.v1+cell": {
     "cellMetadata": {},
     "inputWidgets": {},
     "nuid": "2ec65daf-be30-469e-ab78-d4b46c575135",
     "showTitle": false,
     "title": ""
    }
   },
   "outputs": [],
   "source": [
    "az.plot_trace(data=trace_dm_explicit, var_names=[\"frac\", \"conc\"]);"
   ]
  },
  {
   "cell_type": "markdown",
   "metadata": {
    "application/vnd.databricks.v1+cell": {
     "cellMetadata": {},
     "inputWidgets": {},
     "nuid": "2437e1c7-a64c-4bf0-948c-690bcccf43bd",
     "showTitle": false,
     "title": ""
    }
   },
   "source": [
    "Obviously some sampling issues, but it's hard to see where divergences are occurring."
   ]
  },
  {
   "cell_type": "code",
   "execution_count": 0,
   "metadata": {
    "ExecuteTime": {
     "end_time": "2021-01-25T18:04:46.716191Z",
     "start_time": "2021-01-25T18:04:46.388521Z"
    },
    "application/vnd.databricks.v1+cell": {
     "cellMetadata": {},
     "inputWidgets": {},
     "nuid": "2f10eb1d-a359-4fb2-afa9-34b23bac5f35",
     "showTitle": false,
     "title": ""
    }
   },
   "outputs": [],
   "source": [
    "az.plot_forest(trace_dm_explicit, var_names=[\"frac\"])\n",
    "for j, (y_tick, frac_j) in enumerate(zip(plt.gca().get_yticks(), reversed(true_frac))):\n",
    "    plt.vlines(frac_j, ymin=y_tick - 0.45, ymax=y_tick + 0.45, color=\"black\", linestyle=\"--\")"
   ]
  },
  {
   "cell_type": "markdown",
   "metadata": {
    "application/vnd.databricks.v1+cell": {
     "cellMetadata": {},
     "inputWidgets": {},
     "nuid": "9bfa49b2-1fa8-4558-8dae-974e20a0cb0f",
     "showTitle": false,
     "title": ""
    }
   },
   "source": [
    "On the other hand, since we know the ground-truth for $\\mathrm{frac}$,\n",
    "we can congratulate ourselves that\n",
    "the HDIs include the true values for all of our species!\n",
    "\n",
    "Modeling this mixture has made our inferences robust to the overdispersion of counts,\n",
    "while the plain multinomial is very sensitive.\n",
    "Notice that the HDI is much wider than before for each $\\mathrm{frac}_i$.\n",
    "In this case that makes the difference between correct and incorrect inferences."
   ]
  },
  {
   "cell_type": "code",
   "execution_count": 0,
   "metadata": {
    "ExecuteTime": {
     "end_time": "2021-01-25T18:04:47.203336Z",
     "start_time": "2021-01-25T18:04:46.718860Z"
    },
    "application/vnd.databricks.v1+cell": {
     "cellMetadata": {},
     "inputWidgets": {},
     "nuid": "b14d43e6-b221-42ef-8850-7f796c7add0d",
     "showTitle": false,
     "title": ""
    },
    "scrolled": true
   },
   "outputs": [],
   "source": [
    "summary_dm_explicit = az.summary(trace_dm_explicit, var_names=[\"frac\", \"conc\"])\n",
    "summary_dm_explicit = summary_dm_explicit.assign(\n",
    "    ess_bulk_per_sec=lambda x: x.ess_bulk / trace_dm_explicit.posterior.sampling_time,\n",
    ")\n",
    "\n",
    "summary_dm_explicit"
   ]
  },
  {
   "cell_type": "markdown",
   "metadata": {
    "application/vnd.databricks.v1+cell": {
     "cellMetadata": {},
     "inputWidgets": {},
     "nuid": "8bdfa116-1f2e-4347-b0ef-8fca6bcf7624",
     "showTitle": false,
     "title": ""
    }
   },
   "source": [
    "This is great, but _we can do better_.\n",
    "The larger $\\hat{R}$ value for $\\mathrm{frac}_4$ is mildly concerning, and it's surprising\n",
    "that our $\\mathrm{ESS} \\; \\mathrm{sec}^{-1}$ is relatively small."
   ]
  },
  {
   "cell_type": "markdown",
   "metadata": {
    "application/vnd.databricks.v1+cell": {
     "cellMetadata": {},
     "inputWidgets": {},
     "nuid": "bdd82322-0a91-421a-8023-d3d3649c57f7",
     "showTitle": false,
     "title": ""
    }
   },
   "source": [
    "## Dirichlet-Multinomial Model - Marginalized"
   ]
  },
  {
   "cell_type": "markdown",
   "metadata": {
    "application/vnd.databricks.v1+cell": {
     "cellMetadata": {},
     "inputWidgets": {},
     "nuid": "81391576-4b70-4a8c-9868-fcbd045016a7",
     "showTitle": false,
     "title": ""
    }
   },
   "source": [
    "Happily, the Dirichlet distribution is conjugate to the multinomial\n",
    "and therefore there's a convenient, closed-form for the marginalized\n",
    "distribution, i.e. the Dirichlet-multinomial distribution, which was added to PyMC3 in [3.11.0](https://github.com/pymc-devs/pymc3/releases/tag/v3.11.0).\n",
    "\n",
    "Let's take advantage of this, marginalizing out the explicit latent parameter, $p_i$,\n",
    "replacing the combination of this node and the multinomial\n",
    "with the DM to make an equivalent model."
   ]
  },
  {
   "cell_type": "code",
   "execution_count": 0,
   "metadata": {
    "ExecuteTime": {
     "end_time": "2021-01-25T18:04:48.312788Z",
     "start_time": "2021-01-25T18:04:47.230311Z"
    },
    "application/vnd.databricks.v1+cell": {
     "cellMetadata": {},
     "inputWidgets": {},
     "nuid": "e7a9337c-e53e-4277-8b36-2c14403d8218",
     "showTitle": false,
     "title": ""
    }
   },
   "outputs": [],
   "source": [
    "with pm.Model(coords=coords) as model_dm_marginalized:\n",
    "    frac = pm.Dirichlet(\"frac\", a=np.ones(k), dims=\"tree\")\n",
    "    conc = pm.Lognormal(\"conc\", mu=1, sigma=1)\n",
    "    counts = pm.DirichletMultinomial(\n",
    "        \"counts\", n=total_count, a=frac * conc, observed=observed_counts, dims=(\"forest\", \"tree\")\n",
    "    )\n",
    "\n",
    "pm.model_to_graphviz(model_dm_marginalized)"
   ]
  },
  {
   "cell_type": "markdown",
   "metadata": {
    "ExecuteTime": {
     "end_time": "2021-01-22T23:27:10.619459Z",
     "start_time": "2021-01-22T23:27:10.508488Z"
    },
    "application/vnd.databricks.v1+cell": {
     "cellMetadata": {},
     "inputWidgets": {},
     "nuid": "0333d3ed-976d-4af6-b2fd-47a1590c37e2",
     "showTitle": false,
     "title": ""
    }
   },
   "source": [
    "The plate diagram shows that we've collapsed what had been the latent Dirichlet and the multinomial\n",
    "nodes together into a single DM node."
   ]
  },
  {
   "cell_type": "code",
   "execution_count": 0,
   "metadata": {
    "ExecuteTime": {
     "end_time": "2021-01-25T18:05:28.426056Z",
     "start_time": "2021-01-25T18:04:48.315555Z"
    },
    "application/vnd.databricks.v1+cell": {
     "cellMetadata": {},
     "inputWidgets": {},
     "nuid": "6b2e8f64-5358-42db-8fb1-9904811711a4",
     "showTitle": false,
     "title": ""
    }
   },
   "outputs": [],
   "source": [
    "with model_dm_marginalized:\n",
    "    trace_dm_marginalized = pm.sample(chains=4, return_inferencedata=True)"
   ]
  },
  {
   "cell_type": "markdown",
   "metadata": {
    "application/vnd.databricks.v1+cell": {
     "cellMetadata": {},
     "inputWidgets": {},
     "nuid": "70207ca5-4e02-4625-a0bd-54b3ac0810c5",
     "showTitle": false,
     "title": ""
    }
   },
   "source": [
    "It samples much more quickly and without any of the warnings from before!"
   ]
  },
  {
   "cell_type": "code",
   "execution_count": 0,
   "metadata": {
    "ExecuteTime": {
     "end_time": "2021-01-25T18:05:29.376568Z",
     "start_time": "2021-01-25T18:05:28.428858Z"
    },
    "application/vnd.databricks.v1+cell": {
     "cellMetadata": {},
     "inputWidgets": {},
     "nuid": "eba2d9ef-3964-4450-bbde-edfbacef5ad0",
     "showTitle": false,
     "title": ""
    }
   },
   "outputs": [],
   "source": [
    "az.plot_trace(data=trace_dm_marginalized, var_names=[\"frac\", \"conc\"]);"
   ]
  },
  {
   "cell_type": "markdown",
   "metadata": {
    "application/vnd.databricks.v1+cell": {
     "cellMetadata": {},
     "inputWidgets": {},
     "nuid": "7f9e69f8-dbc6-4073-a999-e80f7cb953dc",
     "showTitle": false,
     "title": ""
    }
   },
   "source": [
    "Trace plots look fuzzy and KDEs are clean."
   ]
  },
  {
   "cell_type": "code",
   "execution_count": 0,
   "metadata": {
    "ExecuteTime": {
     "end_time": "2021-01-25T18:05:29.453552Z",
     "start_time": "2021-01-25T18:05:29.378157Z"
    },
    "application/vnd.databricks.v1+cell": {
     "cellMetadata": {},
     "inputWidgets": {},
     "nuid": "3d4d8c4f-b7c8-4689-88b5-35769e6a46b2",
     "showTitle": false,
     "title": ""
    }
   },
   "outputs": [],
   "source": [
    "summary_dm_marginalized = az.summary(trace_dm_marginalized, var_names=[\"frac\", \"conc\"])\n",
    "summary_dm_marginalized = summary_dm_marginalized.assign(\n",
    "    ess_mean_per_sec=lambda x: x.ess_bulk / trace_dm_marginalized.posterior.sampling_time,\n",
    ")\n",
    "assert all(summary_dm_marginalized.r_hat < 1.03)\n",
    "\n",
    "summary_dm_marginalized"
   ]
  },
  {
   "cell_type": "markdown",
   "metadata": {
    "application/vnd.databricks.v1+cell": {
     "cellMetadata": {},
     "inputWidgets": {},
     "nuid": "ed41fcb8-17a0-4f46-ad08-e01e29867d19",
     "showTitle": false,
     "title": ""
    }
   },
   "source": [
    "We see that $\\hat{R}$ is close to $1$ everywhere\n",
    "and $\\mathrm{ESS} \\; \\mathrm{sec}^{-1}$ is much higher.\n",
    "Our reparameterization (marginalization) has greatly improved the sampling!\n",
    "(And, thankfully, the HDIs look similar to the other model.)\n",
    "\n",
    "This all looks very good, but what if we didn't have the ground-truth?\n",
    "\n",
    "Posterior predictive checks to the rescue (again)!"
   ]
  },
  {
   "cell_type": "code",
   "execution_count": 0,
   "metadata": {
    "ExecuteTime": {
     "end_time": "2021-01-25T18:05:31.487411Z",
     "start_time": "2021-01-25T18:05:29.455091Z"
    },
    "application/vnd.databricks.v1+cell": {
     "cellMetadata": {},
     "inputWidgets": {},
     "nuid": "1336c161-718d-4781-834c-06d46f5dd223",
     "showTitle": false,
     "title": ""
    }
   },
   "outputs": [],
   "source": [
    "with model_dm_marginalized:\n",
    "    pp_samples = az.from_pymc3(\n",
    "        posterior_predictive=pm.fast_sample_posterior_predictive(trace_dm_marginalized)\n",
    "    )\n",
    "\n",
    "# Concatenate with InferenceData object\n",
    "trace_dm_marginalized.extend(pp_samples)"
   ]
  },
  {
   "cell_type": "code",
   "execution_count": 0,
   "metadata": {
    "ExecuteTime": {
     "end_time": "2021-01-25T18:05:33.684720Z",
     "start_time": "2021-01-25T18:05:31.489425Z"
    },
    "application/vnd.databricks.v1+cell": {
     "cellMetadata": {},
     "inputWidgets": {},
     "nuid": "bd1ea687-5f78-4c17-9624-0708b4923a3d",
     "showTitle": false,
     "title": ""
    }
   },
   "outputs": [],
   "source": [
    "cmap = plt.get_cmap(\"tab10\")\n",
    "\n",
    "fig, axs = plt.subplots(k, 2, sharex=True, sharey=True, figsize=(8, 8))\n",
    "for j, row in enumerate(axs):\n",
    "    c = cmap(j)\n",
    "    for _trace, ax in zip([trace_dm_marginalized, trace_multinomial], row):\n",
    "        ax.hist(\n",
    "            _trace.posterior_predictive.counts.sel(tree=trees[j]).values.flatten(),\n",
    "            bins=np.arange(total_count),\n",
    "            histtype=\"step\",\n",
    "            color=c,\n",
    "            density=True,\n",
    "            label=\"Post.Pred.\",\n",
    "        )\n",
    "        ax.hist(\n",
    "            (_trace.observed_data.counts.sel(tree=trees[j]).values.flatten()),\n",
    "            bins=np.arange(total_count),\n",
    "            color=c,\n",
    "            density=True,\n",
    "            alpha=0.25,\n",
    "            label=\"Observed\",\n",
    "        )\n",
    "        ax.axvline(\n",
    "            true_frac[j] * total_count,\n",
    "            color=c,\n",
    "            lw=1.0,\n",
    "            alpha=0.45,\n",
    "            label=\"True\",\n",
    "        )\n",
    "    row[1].annotate(\n",
    "        f\"{trees[j]}\",\n",
    "        xy=(0.96, 0.9),\n",
    "        xycoords=\"axes fraction\",\n",
    "        ha=\"right\",\n",
    "        va=\"top\",\n",
    "        color=c,\n",
    "    )\n",
    "\n",
    "axs[-1, -1].legend(loc=\"upper center\", fontsize=10)\n",
    "axs[0, 1].set_title(\"Multinomial\")\n",
    "axs[0, 0].set_title(\"Dirichlet-multinomial\")\n",
    "axs[-1, 0].set_xlabel(\"Count\")\n",
    "axs[-1, 1].set_xlabel(\"Count\")\n",
    "axs[-1, 0].set_yticks([0, 0.5, 1.0])\n",
    "axs[-1, 0].set_ylim(0, 0.6)\n",
    "ax.set_ylim(0, 0.6);"
   ]
  },
  {
   "cell_type": "markdown",
   "metadata": {
    "ExecuteTime": {
     "end_time": "2021-01-16T23:47:57.798973Z",
     "start_time": "2021-01-16T23:47:57.655530Z"
    },
    "application/vnd.databricks.v1+cell": {
     "cellMetadata": {},
     "inputWidgets": {},
     "nuid": "000f4428-3131-4ea0-993a-77a4feb175dc",
     "showTitle": false,
     "title": ""
    }
   },
   "source": [
    "_(Notice, again, that the y-axis isn't full height, and clips the distributions for species-4 in purple.)_\n",
    "\n",
    "Compared to the multinomial (plots on the right), PPCs for the DM (left) show that the observed data is\n",
    "an entirely reasonable realization of our model.\n",
    "This is great news!"
   ]
  },
  {
   "cell_type": "markdown",
   "metadata": {
    "application/vnd.databricks.v1+cell": {
     "cellMetadata": {},
     "inputWidgets": {},
     "nuid": "f62f4583-a5f9-44fc-8e57-5f53aa51e287",
     "showTitle": false,
     "title": ""
    }
   },
   "source": [
    "## Model Comparison"
   ]
  },
  {
   "cell_type": "markdown",
   "metadata": {
    "application/vnd.databricks.v1+cell": {
     "cellMetadata": {},
     "inputWidgets": {},
     "nuid": "db579ec9-10b1-467e-8915-5edba286e273",
     "showTitle": false,
     "title": ""
    }
   },
   "source": [
    "Let's go a step further and try to put a number on how much better our DM model is\n",
    "relative to the raw multinomial.\n",
    "We'll use leave-one-out cross validation to compare the\n",
    "out-of-sample predictive ability of the two."
   ]
  },
  {
   "cell_type": "code",
   "execution_count": 0,
   "metadata": {
    "ExecuteTime": {
     "end_time": "2021-01-25T18:05:33.901820Z",
     "start_time": "2021-01-25T18:05:33.738673Z"
    },
    "application/vnd.databricks.v1+cell": {
     "cellMetadata": {},
     "inputWidgets": {},
     "nuid": "870f3caa-4e12-4026-af20-11a93a9f5869",
     "showTitle": false,
     "title": ""
    }
   },
   "outputs": [],
   "source": [
    "az.compare(\n",
    "    {\"multinomial\": trace_multinomial, \"dirichlet_multinomial\": trace_dm_marginalized}, ic=\"loo\"\n",
    ")"
   ]
  },
  {
   "cell_type": "markdown",
   "metadata": {
    "application/vnd.databricks.v1+cell": {
     "cellMetadata": {},
     "inputWidgets": {},
     "nuid": "cbbe5240-64fb-4140-b4f2-38bb8f2362d5",
     "showTitle": false,
     "title": ""
    }
   },
   "source": [
    "Unsurprisingly, the DM outclasses the multinomial by a mile, assigning a weight of nearly\n",
    "100% to the over-dispersed model.\n",
    "We can conclude that between the two, the DM should be greatly favored for prediction,\n",
    "parameter inference, etc."
   ]
  },
  {
   "cell_type": "markdown",
   "metadata": {
    "application/vnd.databricks.v1+cell": {
     "cellMetadata": {},
     "inputWidgets": {},
     "nuid": "efedf92b-89bc-4ba2-b164-ec2dbb5f3fb6",
     "showTitle": false,
     "title": ""
    }
   },
   "source": [
    "## Conclusions\n",
    "\n",
    "Obviously the DM is not a perfect model in every case, but it is often a better choice than the multinomial, much more robust while taking on just one additional parameter.\n",
    "\n",
    "There are a number of shortcomings to the DM that we should keep in mind when selecting a model.\n",
    "The biggest problem is that, while more flexible than the multinomial, the DM\n",
    "still ignores the possibility of underlying correlations between categories.\n",
    "If one of our tree species relies on another, for instance, the model we've used here\n",
    "will not effectively account for this.\n",
    "In that case, swapping the vanilla Dirichlet distribution for something fancier (e.g. the [Generalized Dirichlet](https://en.wikipedia.org/wiki/Generalized_Dirichlet_distribution) or [Logistic-Multivariate Normal](https://en.wikipedia.org/wiki/Logit-normal_distribution#Multivariate_generalization)) may be worth considering."
   ]
  },
  {
   "cell_type": "markdown",
   "metadata": {
    "application/vnd.databricks.v1+cell": {
     "cellMetadata": {},
     "inputWidgets": {},
     "nuid": "cf70b232-7530-4a9e-bcd1-19a3fe838e62",
     "showTitle": false,
     "title": ""
    }
   },
   "source": [
    "## References\n",
    "\n",
    "\n",
    ":::{bibliography}\n",
    ":filter: docname in docnames\n",
    ":::"
   ]
  },
  {
   "cell_type": "markdown",
   "metadata": {
    "application/vnd.databricks.v1+cell": {
     "cellMetadata": {},
     "inputWidgets": {},
     "nuid": "cb585e0c-bdfb-48fe-aafb-fec92782b8f7",
     "showTitle": false,
     "title": ""
    }
   },
   "source": [
    "## Authors\n",
    "* Authored by [Byron J. Smith](https://github.com/bsmith89) on Jan, 2021 ([pymc-examples#18](https://github.com/pymc-devs/pymc-examples/pull/18))\n",
    "* Updated by Abhipsha Das and Oriol Abril-Pla on August, 2021 ([pymc-examples#212](https://github.com/pymc-devs/pymc-examples/pull/212))"
   ]
  },
  {
   "cell_type": "markdown",
   "metadata": {
    "application/vnd.databricks.v1+cell": {
     "cellMetadata": {},
     "inputWidgets": {},
     "nuid": "2e567f1d-67ad-41ef-8491-962ec9c0013b",
     "showTitle": false,
     "title": ""
    }
   },
   "source": [
    "## Watermark"
   ]
  },
  {
   "cell_type": "code",
   "execution_count": 0,
   "metadata": {
    "ExecuteTime": {
     "end_time": "2021-01-25T18:05:33.955783Z",
     "start_time": "2021-01-25T18:05:33.904842Z"
    },
    "application/vnd.databricks.v1+cell": {
     "cellMetadata": {},
     "inputWidgets": {},
     "nuid": "6d64c90a-9019-457d-bfef-0a788330b56e",
     "showTitle": false,
     "title": ""
    }
   },
   "outputs": [],
   "source": [
    "%load_ext watermark\n",
    "%watermark -n -u -v -iv -w -p theano,xarray"
   ]
  },
  {
   "cell_type": "markdown",
   "metadata": {
    "application/vnd.databricks.v1+cell": {
     "cellMetadata": {},
     "inputWidgets": {},
     "nuid": "0be2796e-3037-40f2-843f-14fcf0e24bb4",
     "showTitle": false,
     "title": ""
    }
   },
   "source": [
    ":::{include} page_footer.md\n",
    ":::"
   ]
  },
  {
   "cell_type": "code",
   "execution_count": 0,
   "metadata": {
    "application/vnd.databricks.v1+cell": {
     "cellMetadata": {},
     "inputWidgets": {},
     "nuid": "b2a625cf-b04e-492f-af2d-6971eeb7b4b8",
     "showTitle": false,
     "title": ""
    }
   },
   "outputs": [],
   "source": []
  }
 ],
 "metadata": {
  "application/vnd.databricks.v1+notebook": {
   "dashboards": [],
   "language": "python",
   "notebookMetadata": {},
   "notebookName": "dirichlet_mixture_of_multinomials",
   "widgets": {}
  },
  "kernelspec": {
   "display_name": "Python 3 (ipykernel)",
   "language": "python",
   "name": "python3"
  },
  "language_info": {
   "codemirror_mode": {
    "name": "ipython",
    "version": 3
   },
   "file_extension": ".py",
   "mimetype": "text/x-python",
   "name": "python",
   "nbconvert_exporter": "python",
   "pygments_lexer": "ipython3",
   "version": "3.9.7"
  },
  "toc": {
   "base_numbering": 1,
   "nav_menu": {},
   "number_sections": true,
   "sideBar": true,
   "skip_h1_title": false,
   "title_cell": "Table of Contents",
   "title_sidebar": "Contents",
   "toc_cell": false,
   "toc_position": {},
   "toc_section_display": true,
   "toc_window_display": false
  }
 },
 "nbformat": 4,
 "nbformat_minor": 0
}
