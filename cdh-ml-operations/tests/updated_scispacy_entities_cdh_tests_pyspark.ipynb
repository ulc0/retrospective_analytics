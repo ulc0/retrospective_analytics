{
 "cells": [
  {
   "cell_type": "code",
   "execution_count": 0,
   "metadata": {
    "application/vnd.databricks.v1+cell": {
     "cellMetadata": {
      "byteLimit": 2048000,
      "rowLimit": 10000
     },
     "inputWidgets": {},
     "nuid": "fe6b1103-64c8-48c0-ac7e-92e47e2ecf6c",
     "showTitle": false,
     "title": ""
    }
   },
   "outputs": [],
   "source": [
    "%pip freeze"
   ]
  },
  {
   "cell_type": "markdown",
   "metadata": {
    "application/vnd.databricks.v1+cell": {
     "cellMetadata": {
      "batchId": -1504400005025650,
      "byteLimit": 2048000,
      "rowLimit": 10000
     },
     "inputWidgets": {},
     "nuid": "85f3b30f-e946-4d09-a8ab-6f0fdc224e39",
     "showTitle": false,
     "title": ""
    },
    "colab_type": "text",
    "id": "d1DoSlz7ZAh7"
   },
   "source": [
    "###Download extracted entities dataset, run this cell if you want to go straight to entity linkage without extracting the Named Entities yourself.If you do this, you do not need to install the NER models and import them."
   ]
  },
  {
   "cell_type": "code",
   "execution_count": 0,
   "metadata": {
    "application/vnd.databricks.v1+cell": {
     "cellMetadata": {
      "byteLimit": 2048000,
      "rowLimit": 10000
     },
     "inputWidgets": {},
     "nuid": "7e2128b2-4efe-4d3b-aac0-b41a4812346a",
     "showTitle": false,
     "title": ""
    },
    "colab": {},
    "colab_type": "code",
    "id": "Yfwmr_KPnz-b"
   },
   "outputs": [],
   "source": [
    "import spacy\n",
    "#import scispacy\n",
    "#import swifter\n",
    "import pandas as pd\n",
    "from spacy import displacy\n",
    "#import en_core_sci_scibert\n",
    "import en_core_sci_lg\n",
    "import en_ner_bc5cdr_md\n",
    "#import en_core_sci_sm\n",
    "\"\"\"\n",
    "import en_ner_bc5cdr_md\n",
    "import en_ner_jnlpba_md\n",
    "import en_ner_craft_md\n",
    "import en_ner_bionlp13cg_md\n",
    "from scispacy.abbreviation import AbbreviationDetector\n",
    "\"\"\"\n",
    "from scispacy.linking import EntityLinker\n",
    "from collections import OrderedDict,Counter\n",
    "from pprint import pprint\n",
    "from tqdm import tqdm\n",
    "tqdm.pandas()"
   ]
  },
  {
   "cell_type": "markdown",
   "metadata": {
    "application/vnd.databricks.v1+cell": {
     "cellMetadata": {
      "batchId": -1504400005025650,
      "byteLimit": 2048000,
      "rowLimit": 10000
     },
     "inputWidgets": {},
     "nuid": "c62d6bb0-20ae-4162-8e8f-a530eb2c81d2",
     "showTitle": false,
     "title": ""
    }
   },
   "source": [
    "install -r /Volumes/edav_dev_cdh/cdh_ml/metadata_compute/requirements_scispacy_lg.txt\n",
    "%pip install /Volumes/edav_dev_cdh/cdh_ml/metadata_compute/packages/wheels/en_ner_bc5cdr_md-0.5.4-py3-none-any.whl\n",
    "#import en_core_sci_md\n",
    "# import en_ner_bc5cdr_md\n",
    "# import en_ner_jnlpba_md\n",
    "# import en_ner_craft_md\n",
    "# import en_ner_bionlp13cg_md\n",
    "dbutils.library.restartPython()"
   ]
  },
  {
   "cell_type": "code",
   "execution_count": 0,
   "metadata": {
    "application/vnd.databricks.v1+cell": {
     "cellMetadata": {
      "byteLimit": 2048000,
      "rowLimit": 10000
     },
     "inputWidgets": {},
     "nuid": "9d570088-5d4c-400c-a48d-4053ff4fa50f",
     "showTitle": false,
     "title": ""
    }
   },
   "outputs": [],
   "source": [
    "#en_core_sci_lg.load()\n"
   ]
  },
  {
   "cell_type": "markdown",
   "metadata": {
    "application/vnd.databricks.v1+cell": {
     "cellMetadata": {
      "batchId": -1504400005025650,
      "byteLimit": 2048000,
      "rowLimit": 10000
     },
     "inputWidgets": {},
     "nuid": "e8739c32-e9f5-4463-88e3-67058e875759",
     "showTitle": false,
     "title": ""
    },
    "colab_type": "text",
    "id": "M7zSrtuUl6wB"
   },
   "source": [
    "### The sample text here is from \n",
    "###Denison MR. CORONAVIRUS RESEARCH: KEYS TO DIAGNOSIS, TREATMENT, AND PREVENTION OF SARS. In: Institute of Medicine (US) Forum on Microbial Threats; Knobler S, Mahmoud A, Lemon S, et al., editors. Learning from SARS: Preparing for the Next Disease Outbreak: Workshop Summary. Washington (DC): National Academies Press (US); 2004. Available from: https://www.ncbi.nlm.nih.gov/books/NBK92477/"
   ]
  },
  {
   "cell_type": "code",
   "execution_count": 0,
   "metadata": {
    "application/vnd.databricks.v1+cell": {
     "cellMetadata": {
      "byteLimit": 2048000,
      "rowLimit": 10000
     },
     "inputWidgets": {},
     "nuid": "c28e4171-eefe-45b3-bc91-f6537b7f3ab6",
     "showTitle": false,
     "title": ""
    },
    "colab": {},
    "colab_type": "code",
    "id": "Qsj-NWy1lJIO"
   },
   "outputs": [],
   "source": [
    "note=spark.table(\"edav_dev_cdh.cdh_mimic_ra.note_clean\").limit(100)\n",
    "display(note)"
   ]
  },
  {
   "cell_type": "code",
   "execution_count": 0,
   "metadata": {
    "application/vnd.databricks.v1+cell": {
     "cellMetadata": {
      "byteLimit": 2048000,
      "rowLimit": 10000
     },
     "inputWidgets": {},
     "nuid": "a05ddfc8-a1e3-42d9-96ab-a53d38f9b3e6",
     "showTitle": false,
     "title": ""
    },
    "colab": {},
    "colab_type": "code",
    "id": "gXJEXmcGyZsM"
   },
   "outputs": [],
   "source": [
    "nlp = en_ner_bc5cdr_md.load()\n",
    "\n",
    "\n",
    "@pandas_udf(ArrayType(StringType()))\n",
    "def entities(document: pd.Series) -> pd.Series:\n",
    "#def display_entities(nlp,document):\n",
    "    \"\"\" A function that returns a tuple of displacy image of named or unnamed word entities and\n",
    "        a set of unique entities recognized based on scispacy model in use\n",
    "        Args: \n",
    "            model: A pretrained model from spaCy or ScispaCy\n",
    "            document: text data to be analysed\"\"\"\n",
    "    doc = nlp(document)\n",
    "#    displacy_image = displacy.render(doc, jupyter=True,style='ent')\n",
    "    entity_and_label = set([(ent.text, ent.label_,ent.start,ent.end,) for ent in doc.ents])\n",
    " #   return  displacy_image, entity_and_label\n",
    "    return entity_and_label"
   ]
  },
  {
   "cell_type": "code",
   "execution_count": 0,
   "metadata": {
    "application/vnd.databricks.v1+cell": {
     "cellMetadata": {
      "byteLimit": 2048000,
      "rowLimit": 10000
     },
     "inputWidgets": {},
     "nuid": "82a744d8-55e9-4a1c-aac1-ab7b9b2809c1",
     "showTitle": false,
     "title": ""
    },
    "colab": {
     "base_uri": "https://localhost:8080/",
     "height": 1000
    },
    "colab_type": "code",
    "id": "Nh98GbaDyErw",
    "outputId": "4670f421-68c0-4583-d915-c9bdc2c9ca97"
   },
   "outputs": [],
   "source": [
    "bc5dr_entities= display_entities(en_ner_bc5cdr_md,sample_text)"
   ]
  },
  {
   "cell_type": "code",
   "execution_count": 0,
   "metadata": {
    "application/vnd.databricks.v1+cell": {
     "cellMetadata": {
      "byteLimit": 2048000,
      "rowLimit": 10000
     },
     "inputWidgets": {},
     "nuid": "0f9f0c27-2f82-4b21-aa9e-81b73cc85e13",
     "showTitle": false,
     "title": ""
    }
   },
   "outputs": [],
   "source": [
    "print(bc5dr_entities[1])"
   ]
  },
  {
   "cell_type": "code",
   "execution_count": 0,
   "metadata": {
    "application/vnd.databricks.v1+cell": {
     "cellMetadata": {
      "byteLimit": 2048000,
      "rowLimit": 10000
     },
     "inputWidgets": {},
     "nuid": "72c4724b-e9f3-4d12-abd9-ecacb6083d7f",
     "showTitle": false,
     "title": ""
    }
   },
   "outputs": [],
   "source": [
    "ner_columns=['lexical_variance','nlp_category','offset','end',]"
   ]
  },
  {
   "cell_type": "code",
   "execution_count": 0,
   "metadata": {
    "application/vnd.databricks.v1+cell": {
     "cellMetadata": {
      "byteLimit": 2048000,
      "rowLimit": 10000
     },
     "inputWidgets": {},
     "nuid": "712a68c5-941e-4e51-8dc2-2db4599f94fc",
     "showTitle": false,
     "title": ""
    },
    "colab": {
     "base_uri": "https://localhost:8080/",
     "height": 1000
    },
    "colab_type": "code",
    "id": "3gm2zsG94RTm",
    "outputId": "a8bd5633-6b46-42a2-befd-c6e96df98f2b"
   },
   "outputs": [],
   "source": [
    "bc5dr_entities_dataframe = pd.DataFrame(bc5dr_entities[1],columns=ner_columns)  #save returned values of entities and their labels in a pandas dataframe\n",
    "bc5dr_entities_dataframe['nlp_category'] = 'bc5cdr'  #include a column with constant value of NER model\n",
    "bc5dr_entities_dataframe"
   ]
  },
  {
   "cell_type": "markdown",
   "metadata": {
    "application/vnd.databricks.v1+cell": {
     "cellMetadata": {
      "byteLimit": 2048000,
      "rowLimit": 10000
     },
     "inputWidgets": {},
     "nuid": "8e1654d1-5dc1-4327-9810-867405a03023",
     "showTitle": false,
     "title": ""
    },
    "colab": {
     "base_uri": "https://localhost:8080/",
     "height": 180
    },
    "colab_type": "code",
    "id": "T9UqOgw275Yg",
    "outputId": "6ce39c47-216f-4d6e-e539-d6714d2294d0"
   },
   "source": [
    "entities_and_label_from_4_NER_model_dataframe = pd.concat([bc5dr_entities_dataframe,bionlp13cg_entities_dataframe,craft_entities_dataframe,jnlpa_entities_dataframe])\n",
    "#Concatenate all pandas dataframe into one.\n",
    "entities_and_label_from_4_NER_model_dataframe.to_csv('entities_and_label_from_4_scispacy_NER_models.csv', index=False) #Save dataframe to csv\n",
    "entities_and_label_from_4_NER_model_dataframe.info()"
   ]
  },
  {
   "cell_type": "markdown",
   "metadata": {
    "application/vnd.databricks.v1+cell": {
     "cellMetadata": {
      "byteLimit": 2048000,
      "rowLimit": 10000
     },
     "inputWidgets": {},
     "nuid": "719f8443-ec2f-4121-b82c-c8eb1ad260e6",
     "showTitle": false,
     "title": ""
    }
   },
   "source": [
    "```python\n",
    "#### https://spacy.io/api/entitylinker/\n",
    "# Construction via add_pipe with default model  \n",
    "entity_linker = nlp.add_pipe(\"entity_linker\")  \n",
    "\n",
    "# Construction via add_pipe with custom model  \n",
    "config = {\"model\": {\"@architectures\": \"my_el.v1\"}}  \n",
    "entity_linker = nlp.add_pipe(\"entity_linker\", config=config)  \n",
    "\n",
    "# Construction from class  \n",
    "from spacy.pipeline import EntityLinker  \n",
    "entity_linker = EntityLinker(nlp.vocab, model)  \n",
    "```\n",
    "https://github.com/allenai/scispacy/issues/237\n",
    "\n",
    "```python\n",
    "from scispacy.candidate_generation import DEFAULT_PATHS, DEFAULT_KNOWLEDGE_BASES\n",
    "from scispacy.candidate_generation import (\n",
    "    CandidateGenerator,\n",
    "    LinkerPaths\n",
    ")\n",
    "\n",
    "CustomLinkerPaths_2020AA = LinkerPaths(\n",
    "    ann_index=\"path/to/nmslib_index.bin\",\n",
    "    tfidf_vectorizer=\"path/to//nmslib_index.bin\",\n",
    "    tfidf_vectors=\"path/to/tfidf_vectorizer.joblib\",\n",
    "    concept_aliases_list=\"path/to/concept_aliases.json\",\n",
    ")\n",
    "class UMLS2020KnowledgeBase(KnowledgeBase):\n",
    "    def __init__(\n",
    "        self,\n",
    "        file_path: str = \"path/to/2020AA.json\",\n",
    "    ):\n",
    "        super().__init__(file_path)\n",
    "\n",
    "\n",
    "# Admittedly this is a bit of a hack, because we are mutating a global object.\n",
    "# However, it's just a kind of registry, so maybe it's ok.\n",
    "DEFAULT_PATHS[\"umls2020\"] = CustomLinkerPaths_2020AA\n",
    "DEFAULT_KNOWLEDGE_BASES[\"umls2020\"] = UMLS2020KnowledgeBase\n",
    "\n",
    "linker = CandidateGenerator(name=\"umls2020\")\n",
    "```"
   ]
  },
  {
   "cell_type": "markdown",
   "metadata": {
    "application/vnd.databricks.v1+cell": {
     "cellMetadata": {
      "byteLimit": 2048000,
      "rowLimit": 10000
     },
     "inputWidgets": {},
     "nuid": "31c7fc62-b55a-4e5c-b195-fc93e783c9b5",
     "showTitle": false,
     "title": ""
    }
   },
   "source": [
    "def display_entities(model,document):\n",
    "    \"\"\" A function that returns a tuple of displacy image of named or unnamed word entities and\n",
    "        a set of unique entities recognized based on scispacy model in use\n",
    "        Args: \n",
    "            model: A pretrained model from spaCy or ScispaCy\n",
    "            document: text data to be analysed\"\"\"\n",
    "    nlp = model.load()\n",
    "    doc = nlp(document)\n",
    "    displacy_image = displacy.render(doc, jupyter=True,style='ent')\n",
    "    entity_and_label = set([(X.text, X.label_) for X in doc.ents])\n",
    "    return  displacy_image, entity_and_label"
   ]
  },
  {
   "cell_type": "code",
   "execution_count": 0,
   "metadata": {
    "application/vnd.databricks.v1+cell": {
     "cellMetadata": {
      "byteLimit": 2048000,
      "rowLimit": 10000
     },
     "inputWidgets": {},
     "nuid": "83c65fd5-b858-4e41-b206-df3f01a9a120",
     "showTitle": false,
     "title": ""
    }
   },
   "outputs": [],
   "source": [
    "from scispacy.candidate_generation import DEFAULT_PATHS, DEFAULT_KNOWLEDGE_BASES, CandidateGenerator, LinkerPaths\n",
    "from scispacy.linking_utils import KnowledgeBase\n",
    "basePath=\"/Volumes/edav_dev_cdh/cdh_ml/metadata_data/linker/umls\" #/linker/umls\"\n",
    "\n",
    "UmlsLinkerPaths_2024AA = LinkerPaths(\n",
    "ann_index=f\"{basePath}/nmslib_index.bin\",  # noqa\n",
    "tfidf_vectorizer=f\"{basePath}/tfidf_vectorizer.joblib\",  # noqa\n",
    "tfidf_vectors=f\"{basePath}/tfidf_vectors_sparse.npz\",  # noqa\n",
    "concept_aliases_list=f\"{basePath}/concept_aliases.json\",  # noqa\n",
    ")\n",
    "print(UmlsLinkerPaths_2024AA)\n",
    "\n",
    "class UMLS2024KnowledgeBase(KnowledgeBase):\n",
    "    def __init__(\n",
    "        self,\n",
    "        file_path: str = f\"/Volumes/edav_dev_cdh/cdh_ml/metadata_data/jsonl/umls_kb.jsonl\",\n",
    "    ):\n",
    "        super().__init__(file_path)\n",
    "\n",
    "# Admittedly this is a bit of a hack, because we are mutating a global object.\n",
    "# However, it's just a kind of registry, so maybe it's ok.\n",
    "DEFAULT_PATHS[\"umls2024\"] = UmlsLinkerPaths_2024AA\n",
    "DEFAULT_KNOWLEDGE_BASES[\"umls2024\"] = UMLS2024KnowledgeBase\n",
    "\n",
    "linker = CandidateGenerator(name=\"umls2024\")"
   ]
  },
  {
   "cell_type": "code",
   "execution_count": 0,
   "metadata": {
    "application/vnd.databricks.v1+cell": {
     "cellMetadata": {
      "byteLimit": 2048000,
      "rowLimit": 10000
     },
     "inputWidgets": {},
     "nuid": "46cabcd4-c3aa-4fc1-908e-a735c128af77",
     "showTitle": false,
     "title": ""
    }
   },
   "outputs": [],
   "source": [
    "###from scispacy.candidate_generation import CandidateGenerator\n",
    "#with tempfile.TemporaryDirectory() as dir_name:\n",
    "#    umls_concept_aliases, tfidf_vectorizer, ann_index = create_tfidf_ann_index(dir_name, umls_fixture)\n",
    "####cdh_candidate_generator = CandidateGenerator(ann_index, tfidf_vectorizer, tfidf_vectors, concept_aliases_list)\n",
    "\n",
    "##self.linker = EntityLinker(candidate_generator=candidate_generator, filter_for_definitions=False)"
   ]
  },
  {
   "cell_type": "markdown",
   "metadata": {
    "application/vnd.databricks.v1+cell": {
     "cellMetadata": {
      "byteLimit": 2048000,
      "rowLimit": 10000
     },
     "inputWidgets": {},
     "nuid": "860d6dc3-3437-45e5-8348-4b7135ba2962",
     "showTitle": false,
     "title": ""
    },
    "colab": {},
    "colab_type": "code",
    "id": "fv4fPUkna8NQ"
   },
   "source": [
    "# https://github.com/allenai/scispacy/issues/237\n",
    "#def cdh_entity_linker(candidate_generator_name,document):\n",
    "\"\"\" A function that accepts the name of a scispacy knowledge base and documents and returns the entity link details\"\"\"\n",
    "#e than 2 entity matches\n",
    "#### entity_linker=EntityLinker(k = 10,max_entities_per_mention = 2,candidate_generator=candidate_generator_name, filter_for_definitions=False, )\n",
    "nlp = en_ner_bc5dr_md.load()\n",
    "nlp.add_pipe(\"scispacy_linker\")\n",
    "doc = nlp(sample_text)\n",
    "#name=linker_name) \n",
    "try:\n",
    "    entity = doc.ents[0]\n",
    "except IndexError:\n",
    "    entity = 'Nan'\n",
    "entity_details = []\n",
    "entity_details.append(entity)\n",
    "try:\n",
    "    for linker_ent in entity._.kb_ents:\n",
    "        Concept_Id, Score = linker_ent\n",
    "        entity_details.append('Entity_Matching_Score :{}'.format(Score))\n",
    "        entity_details.append(linker.kb.cui_to_entity[linker_ent[0]])\n",
    "except AttributeError:\n",
    "    pass\n",
    "#    return entity_details"
   ]
  },
  {
   "cell_type": "code",
   "execution_count": 0,
   "metadata": {
    "application/vnd.databricks.v1+cell": {
     "cellMetadata": {
      "byteLimit": 2048000,
      "rowLimit": 10000
     },
     "inputWidgets": {},
     "nuid": "8a5b354b-4d24-48a8-ac3a-0efd4071afdd",
     "showTitle": false,
     "title": ""
    }
   },
   "outputs": [],
   "source": [
    "#dh_entity_linker(cdh_candidate_generator,sample_text)"
   ]
  },
  {
   "cell_type": "code",
   "execution_count": 0,
   "metadata": {
    "application/vnd.databricks.v1+cell": {
     "cellMetadata": {
      "byteLimit": 2048000,
      "rowLimit": 10000
     },
     "inputWidgets": {},
     "nuid": "71349292-7980-4658-8c60-d789452d1622",
     "showTitle": false,
     "title": ""
    },
    "colab": {},
    "colab_type": "code",
    "id": "Cbvv3BeOWVL3"
   },
   "outputs": [],
   "source": [
    "nlp=spacy.load(\"en_ner_bc5dr_md\")\n",
    "nlp.pipe_names\n",
    "nlp.add_pipe(\n",
    "    \"scispacy_linker\", config={\"resolve_abbreviations\": False, \"linker_name\": \"umls2024\"}\n",
    ")\n",
    "linker = nlp.get_pipe(\"scispacy_linker\")\n"
   ]
  },
  {
   "cell_type": "code",
   "execution_count": 0,
   "metadata": {
    "application/vnd.databricks.v1+cell": {
     "cellMetadata": {
      "byteLimit": 2048000,
      "rowLimit": 10000
     },
     "inputWidgets": {},
     "nuid": "977e6426-44ac-45a2-a61e-c6dc37507cd3",
     "showTitle": false,
     "title": ""
    }
   },
   "outputs": [],
   "source": [
    "from collections import defaultdict  # Uncommented to fix the error\n",
    "\n",
    "doc = nlp(sample_text)\n",
    "ents_dict=defaultdict(list)\n",
    "\n",
    "for entity in doc.ents:\n",
    "    ents_dict[entity.label_].append(entity.text)  # Corrected from ent._label_ to entity.label_\n",
    "    print(ents_dict[entity.label_])\n",
    "    entity_details = []\n",
    "    entity_details.append(entity)\n",
    "    try:\n",
    "        for linker_ent in entity._.kb_ents:\n",
    "            print(linker_ent)\n",
    "            #Concept_Id, Score = linker_ent\n",
    "            #entity_details.append('Entity_Matching_Score :{}'.format(Score))\n",
    "            #entity_details.append(linker.kb.cui_to_entity[linker_ent[0]])\n",
    "            print(linker.kb.cui_to_entity[linker_ent[0]])\n",
    "    except AttributeError:\n",
    "        print(\"error\")\n",
    "        pass"
   ]
  },
  {
   "cell_type": "code",
   "execution_count": 0,
   "metadata": {
    "application/vnd.databricks.v1+cell": {
     "cellMetadata": {
      "byteLimit": 2048000,
      "rowLimit": 10000
     },
     "inputWidgets": {},
     "nuid": "b9fddc0a-08dd-4ddc-b671-e596d77bc187",
     "showTitle": false,
     "title": ""
    }
   },
   "outputs": [],
   "source": [
    "entity_details"
   ]
  },
  {
   "cell_type": "markdown",
   "metadata": {
    "application/vnd.databricks.v1+cell": {
     "cellMetadata": {
      "byteLimit": 2048000,
      "rowLimit": 10000
     },
     "inputWidgets": {},
     "nuid": "1b26cd26-b279-4ce3-8e23-5da3a3274371",
     "showTitle": false,
     "title": ""
    },
    "colab_type": "text",
    "id": "Ecb0XT6XQjG2"
   },
   "source": [
    "###Test the entity_linker function with the 4 sciSpacy knowledge bases \"umls\",\"mesh\",\"go\",\"hpo\". The function will return 2 entities and their scores as it relates to the Knowledge base. As at the time of this writing the \"rxnorm\" knowledge base returned KeyError, I will investigate further on why this is happening"
   ]
  },
  {
   "cell_type": "code",
   "execution_count": 0,
   "metadata": {
    "application/vnd.databricks.v1+cell": {
     "cellMetadata": {
      "byteLimit": 2048000,
      "rowLimit": 10000
     },
     "inputWidgets": {},
     "nuid": "3dc0f1d7-9a48-483f-95cf-cd63894e1ec8",
     "showTitle": false,
     "title": ""
    },
    "colab": {},
    "colab_type": "code",
    "id": "ULPjZ5orDkBZ"
   },
   "outputs": [],
   "source": [
    "test1 = 'fever'"
   ]
  },
  {
   "cell_type": "code",
   "execution_count": 0,
   "metadata": {
    "application/vnd.databricks.v1+cell": {
     "cellMetadata": {
      "byteLimit": 2048000,
      "rowLimit": 10000
     },
     "inputWidgets": {},
     "nuid": "3f788ae5-a131-46a9-a3aa-8baa85cb97c3",
     "showTitle": false,
     "title": ""
    },
    "colab": {
     "base_uri": "https://localhost:8080/",
     "height": 508
    },
    "colab_type": "code",
    "id": "KLAHiv9zG_Jy",
    "outputId": "c8713594-5dbc-497e-9378-6d02f2dbca6e"
   },
   "outputs": [],
   "source": [
    "entity_linker('umls',test1)"
   ]
  },
  {
   "cell_type": "code",
   "execution_count": 0,
   "metadata": {
    "application/vnd.databricks.v1+cell": {
     "cellMetadata": {
      "byteLimit": 2048000,
      "rowLimit": 10000
     },
     "inputWidgets": {},
     "nuid": "f89473c8-282d-4a91-8c92-b453f563de19",
     "showTitle": false,
     "title": ""
    },
    "colab": {
     "base_uri": "https://localhost:8080/",
     "height": 228
    },
    "colab_type": "code",
    "id": "CNQRN9tGDoAl",
    "outputId": "5d161894-045f-4fd0-f2f0-e9fa1d00aac3"
   },
   "outputs": [],
   "source": [
    "entity_linker('go',test1)"
   ]
  },
  {
   "cell_type": "code",
   "execution_count": 0,
   "metadata": {
    "application/vnd.databricks.v1+cell": {
     "cellMetadata": {
      "byteLimit": 2048000,
      "rowLimit": 10000
     },
     "inputWidgets": {},
     "nuid": "38576c3a-e7b4-406a-a0ac-ca2565fc0604",
     "showTitle": false,
     "title": ""
    },
    "colab": {
     "base_uri": "https://localhost:8080/",
     "height": 228
    },
    "colab_type": "code",
    "id": "yGdep4utF8pB",
    "outputId": "1778950b-c52f-403a-b8e6-26b8309fdb08"
   },
   "outputs": [],
   "source": [
    "entity_linker('hpo',test1)"
   ]
  },
  {
   "cell_type": "code",
   "execution_count": 0,
   "metadata": {
    "application/vnd.databricks.v1+cell": {
     "cellMetadata": {
      "byteLimit": 2048000,
      "rowLimit": 10000
     },
     "inputWidgets": {},
     "nuid": "0930fe88-f784-43c5-a737-58f1815041db",
     "showTitle": false,
     "title": ""
    },
    "colab": {
     "base_uri": "https://localhost:8080/",
     "height": 411
    },
    "colab_type": "code",
    "id": "jkC4TEEpF_xk",
    "outputId": "d7558c88-5f4c-4d89-806a-df59a93446d0"
   },
   "outputs": [],
   "source": [
    "entity_linker('mesh',test1)"
   ]
  },
  {
   "cell_type": "code",
   "execution_count": 0,
   "metadata": {
    "application/vnd.databricks.v1+cell": {
     "cellMetadata": {
      "byteLimit": 2048000,
      "rowLimit": 10000
     },
     "inputWidgets": {},
     "nuid": "ac4214b2-7be4-441e-82a2-2dc2c454ce94",
     "showTitle": false,
     "title": ""
    },
    "colab": {
     "base_uri": "https://localhost:8080/",
     "height": 296
    },
    "colab_type": "code",
    "id": "KGDemdKNRnIm",
    "outputId": "4be98e8f-225e-4a67-db15-a2bbdcd573ab"
   },
   "outputs": [],
   "source": [
    "entity_linker('rxnorm',test1)"
   ]
  },
  {
   "cell_type": "code",
   "execution_count": 0,
   "metadata": {
    "application/vnd.databricks.v1+cell": {
     "cellMetadata": {
      "byteLimit": 2048000,
      "rowLimit": 10000
     },
     "inputWidgets": {},
     "nuid": "d58924bd-45e0-4d59-bef2-932298d6e954",
     "showTitle": false,
     "title": ""
    },
    "colab": {},
    "colab_type": "code",
    "id": "wz0cNhDhXVk3"
   },
   "outputs": [],
   "source": [
    "#linker = EntityLinker(k = 10,max_entities_per_mention = 2, name='umls')  #parameters are tunable,so it can be set to return more than 2 entity matches\n",
    "#nlp = en_core_sci_md.load()\n",
    "#nlp.add_pipe(\"umls\")\n",
    "def umls_entity_linker(document,linker_name=\"umls2024\"):\n",
    "    \"\"\" A function that accepts and document and returns the entity link details\"\"\"\n",
    "    linker = EntityLinker(k = 10,max_entities_per_mention = 2, name=linker_name)  #parameters are tunable,so it can be set to return more than 2 entity matches\n",
    "    nlp = en_ner_bc5dr_md.load()\n",
    "    nlp.add_pipe(linker_name)\n",
    "    doc = nlp(document)\n",
    "    try:\n",
    "        entity = doc.ents[0]\n",
    "    except IndexError:\n",
    "        entity = 'Nan'\n",
    "    entity_details = []\n",
    "    entity_details.append(entity)\n",
    "    try:\n",
    "        for linker_ent in entity._.kb_ents:\n",
    "            Concept_Id, Score = linker_ent\n",
    "            entity_details.append('Entity_Matching_Score :{}'.format(Score))\n",
    "            entity_details.append(linker.kb.cui_to_entity[linker_ent[0]])\n",
    "    except AttributeError:\n",
    "        pass\n",
    "    return entity_details"
   ]
  },
  {
   "cell_type": "code",
   "execution_count": 0,
   "metadata": {
    "application/vnd.databricks.v1+cell": {
     "cellMetadata": {
      "byteLimit": 2048000,
      "rowLimit": 10000
     },
     "inputWidgets": {},
     "nuid": "453bb942-3d95-43f0-a144-9d686936afcf",
     "showTitle": false,
     "title": ""
    },
    "colab": {},
    "colab_type": "code",
    "id": "BMox9XvtXcER"
   },
   "outputs": [],
   "source": [
    "linker = EntityLinker(k = 10,max_entities_per_mention = 2, name='mesh')  #parameters are tunable,so it can be set to return more than 2 entity matches\n",
    "nlp = en_ner_bc5dr_md.load()\n",
    "nlp.add_pipe(linker)\n",
    "def mesh_entity_linker(document):\n",
    "    \"\"\" A function that accepts the name of a scispacy knowledge base and documents and returns the entity link details\"\"\"\n",
    "    #linker = EntityLinker(k = 10,max_entities_per_mention = 2, name=linker_name)  #parameters are tunable,so it can be set to return more than 2 entity matches\n",
    "    #nlp = en_core_sci_sm.load()\n",
    "    #nlp.add_pipe(linker)\n",
    "    doc = nlp(document)\n",
    "    try:\n",
    "        entity = doc.ents[0]\n",
    "    except IndexError:\n",
    "        entity = 'Nan'\n",
    "    entity_details = []\n",
    "    entity_details.append(entity)\n",
    "    try:\n",
    "        for linker_ent in entity._.kb_ents:\n",
    "            Concept_Id, Score = linker_ent\n",
    "            entity_details.append('Entity_Matching_Score :{}'.format(Score))\n",
    "            entity_details.append(linker.kb.cui_to_entity[linker_ent[0]])\n",
    "    except AttributeError:\n",
    "        pass\n",
    "    return entity_details"
   ]
  },
  {
   "cell_type": "code",
   "execution_count": 0,
   "metadata": {
    "application/vnd.databricks.v1+cell": {
     "cellMetadata": {
      "byteLimit": 2048000,
      "rowLimit": 10000
     },
     "inputWidgets": {},
     "nuid": "47fe74f2-d9f2-4ddd-9249-2563ab0e482a",
     "showTitle": false,
     "title": ""
    },
    "colab": {},
    "colab_type": "code",
    "id": "OgjHY5ZVWsno"
   },
   "outputs": [],
   "source": [
    "linker = EntityLinker(k = 10,max_entities_per_mention = 2, name='go')  #parameters are tunable,so it can be set to return more than 2 entity matches\n",
    "nlp = en_ner_bc5dr_md.load()\n",
    "nlp.add_pipe(linker)\n",
    "def go_entity_linker(document):\n",
    "    \"\"\" A function that accepts the name of a scispacy knowledge base and documents and returns the entity link details\"\"\"\n",
    "    #linker = EntityLinker(k = 10,max_entities_per_mention = 2, name=linker_name)  #parameters are tunable,so it can be set to return more than 2 entity matches\n",
    "    #nlp = en_core_sci_sm.load()\n",
    "    #nlp.add_pipe(linker)\n",
    "    doc = nlp(document)\n",
    "    try:\n",
    "        entity = doc.ents[0]\n",
    "    except IndexError:\n",
    "        entity = 'Nan'\n",
    "    entity_details = []\n",
    "    entity_details.append(entity)\n",
    "    try:\n",
    "        for linker_ent in entity._.kb_ents:\n",
    "            Concept_Id, Score = linker_ent\n",
    "            entity_details.append('Entity_Matching_Score :{}'.format(Score))\n",
    "            entity_details.append(linker.kb.cui_to_entity[linker_ent[0]])\n",
    "    except AttributeError:\n",
    "        pass\n",
    "    return entity_details"
   ]
  },
  {
   "cell_type": "code",
   "execution_count": 0,
   "metadata": {
    "application/vnd.databricks.v1+cell": {
     "cellMetadata": {
      "byteLimit": 2048000,
      "rowLimit": 10000
     },
     "inputWidgets": {},
     "nuid": "b79cf877-7ac5-4c1b-be8f-ea61cdaadcb2",
     "showTitle": false,
     "title": ""
    },
    "colab": {},
    "colab_type": "code",
    "id": "elUyfllnXzlc"
   },
   "outputs": [],
   "source": [
    "linker = EntityLinker(k = 10,max_entities_per_mention = 2, name='hpo')  #parameters are tunable,so it can be set to return more than 2 entity matches\n",
    "nlp = en_ner_bc5dr_md.load()\n",
    "nlp.add_pipe(linker)\n",
    "def hpo_entity_linker(document):\n",
    "    \"\"\" A function that accepts the name of a scispacy knowledge base and documents and returns the entity link details\"\"\"\n",
    "    #linker = EntityLinker(k = 10,max_entities_per_mention = 2, name=linker_name)  #parameters are tunable,so it can be set to return more than 2 entity matches\n",
    "    #nlp = en_core_sci_sm.load()\n",
    "    #nlp.add_pipe(linker)\n",
    "    doc = nlp(document)\n",
    "    try:\n",
    "        entity = doc.ents[0]\n",
    "    except IndexError:\n",
    "        entity = 'Nan'\n",
    "    entity_details = []\n",
    "    entity_details.append(entity)\n",
    "    try:\n",
    "        for linker_ent in entity._.kb_ents:\n",
    "            Concept_Id, Score = linker_ent\n",
    "            entity_details.append('Entity_Matching_Score :{}'.format(Score))\n",
    "            entity_details.append(linker.kb.cui_to_entity[linker_ent[0]])\n",
    "    except AttributeError:\n",
    "        pass\n",
    "    return entity_details"
   ]
  },
  {
   "cell_type": "markdown",
   "metadata": {
    "application/vnd.databricks.v1+cell": {
     "cellMetadata": {
      "byteLimit": 2048000,
      "rowLimit": 10000
     },
     "inputWidgets": {},
     "nuid": "0b6b8b8a-5ebe-4195-b1e7-0dc94304ba33",
     "showTitle": false,
     "title": ""
    },
    "colab": {
     "base_uri": "https://localhost:8080/",
     "height": 65,
     "referenced_widgets": [
      "7752ade7dc8e4b4b8fca6e9f40630ec8",
      "163f9ffe85394da5be82ba14a343c715",
      "6512a01c73694955af30f3f6a537e923",
      "7eee4cb5d7154547a837d4ab030f64f9",
      "c95fd212dffd4cac856cf369dc1c9777",
      "436ed2e698254b119092128a278eda74",
      "b655631768a64a7088ae1eb153b4c401",
      "d40fec26599946818f9eb85f9693c59e"
     ]
    },
    "colab_type": "code",
    "id": "avMAgX9hRbZO",
    "outputId": "47732b50-7a85-47e0-9791-d081276b46e7"
   },
   "source": [
    "entities_and_label_from_4_NER_model_dataframe['umls_output'] = entities_and_label_from_4_NER_model_dataframe['Entity'].swifter.apply(lambda x : umls_entity_linker(x))"
   ]
  },
  {
   "cell_type": "markdown",
   "metadata": {
    "application/vnd.databricks.v1+cell": {
     "cellMetadata": {
      "byteLimit": 2048000,
      "rowLimit": 10000
     },
     "inputWidgets": {},
     "nuid": "4ef13878-1d64-43b1-9594-88cdc24621e8",
     "showTitle": false,
     "title": ""
    },
    "colab": {
     "base_uri": "https://localhost:8080/",
     "height": 65,
     "referenced_widgets": [
      "486f96e0c4154518a5e0a93c8d8570a3",
      "009de111b3da467ea317adc0c332db0c",
      "ace11008cab745e38463577a77345877",
      "137c7a6042f44eea956afcdab9c4eaf6",
      "267e1852612b4b08a3147975f336df64",
      "da88d85e476a4cc285a39298fa6cfabe",
      "99e29d69d38948099f9d7a725b490ec1",
      "774d60d2c32243d9a7954b1ac00472bb"
     ]
    },
    "colab_type": "code",
    "id": "1jYNzLBsCHYK",
    "outputId": "e2a1b498-4b39-465e-eef3-3ad2322c177f"
   },
   "source": [
    "entities_and_label_from_4_NER_model_dataframe['mesh_output'] = entities_and_label_from_4_NER_model_dataframe['Entity'].swifter.apply(lambda x : mesh_entity_linker(x))"
   ]
  },
  {
   "cell_type": "markdown",
   "metadata": {
    "application/vnd.databricks.v1+cell": {
     "cellMetadata": {
      "byteLimit": 2048000,
      "rowLimit": 10000
     },
     "inputWidgets": {},
     "nuid": "1381c55e-a73a-419d-b660-f60dca76307a",
     "showTitle": false,
     "title": ""
    },
    "colab": {
     "base_uri": "https://localhost:8080/",
     "height": 65,
     "referenced_widgets": [
      "dbccdb277e3144afa42c52a96a4f6bfe",
      "ec385f5e1a1c4e4e88f3656aa483ca12",
      "78903bfb00d240f09b01cb91557b4a20",
      "370293c5154247febefcf1415cb5d57a",
      "e30d744077a04da5bf19fdbff02a3e00",
      "c39d3ef103114b3ca5c1643cdb084de2",
      "fb23de1bef524f70bd19254922e47d56",
      "bf746811e2d24eb18c8fa56ff1df07c4"
     ]
    },
    "colab_type": "code",
    "id": "nGMon8d3XWpX",
    "outputId": "ee511bd3-10c0-4b21-b2bd-27a4a473cabf"
   },
   "source": [
    "entities_and_label_from_4_NER_model_dataframe['go_output'] = entities_and_label_from_4_NER_model_dataframe['Entity'].swifter.apply(lambda x : go_entity_linker(x))"
   ]
  },
  {
   "cell_type": "markdown",
   "metadata": {
    "application/vnd.databricks.v1+cell": {
     "cellMetadata": {
      "byteLimit": 2048000,
      "rowLimit": 10000
     },
     "inputWidgets": {},
     "nuid": "2a032ea7-703a-40b0-87b8-52c44895de2d",
     "showTitle": false,
     "title": ""
    },
    "colab": {
     "base_uri": "https://localhost:8080/",
     "height": 65,
     "referenced_widgets": [
      "8c765511ed10490aa2b1e062b80a0bc9",
      "6da92d7350e94b59a0cc7bbb94ac9711",
      "bce3b2d825854c8bbf17ddeef352d133",
      "67f3fba998f64d69bb23164f0ef6e9cd",
      "1a79e621e0654c4c89ce45bb8b64aa29",
      "830793c0b8a241b1a504326f9250f4d5",
      "6d19615e7ab04091af648729506d9955",
      "2122d51771694ea185b53e91223e7ccc"
     ]
    },
    "colab_type": "code",
    "id": "_gH_yzGoXcDX",
    "outputId": "484a96af-c67e-4149-ca4e-6892d99b61c2"
   },
   "source": [
    "entities_and_label_from_4_NER_model_dataframe['hpo_output'] = entities_and_label_from_4_NER_model_dataframe['Entity'].swifter.apply(lambda x : hpo_entity_linker(x))"
   ]
  },
  {
   "cell_type": "markdown",
   "metadata": {
    "application/vnd.databricks.v1+cell": {
     "cellMetadata": {
      "byteLimit": 2048000,
      "rowLimit": 10000
     },
     "inputWidgets": {},
     "nuid": "b8121545-a1cc-485f-b2ec-0798b08ebf9b",
     "showTitle": false,
     "title": ""
    },
    "colab": {
     "base_uri": "https://localhost:8080/",
     "height": 565
    },
    "colab_type": "code",
    "id": "C5WhHzl_ZjpF",
    "outputId": "2ada208a-998c-4b90-da64-ce497ceb5bfb"
   },
   "source": [
    "pd.options.display.max_colwidth = 1000      #increase display width of the pandas dataframe\n",
    "entities_and_label_from_4_NER_model_dataframe.head()"
   ]
  }
 ],
 "metadata": {
  "application/vnd.databricks.v1+notebook": {
   "dashboards": [],
   "environmentMetadata": null,
   "language": "python",
   "notebookMetadata": {
    "pythonIndentUnit": 4
   },
   "notebookName": "updated_scispacy_entities_cdh_tests_pyspark",
   "widgets": {}
  },
  "colab": {
   "collapsed_sections": [],
   "include_colab_link": true,
   "machine_shape": "hm",
   "name": "scispacy_entities_extractions_and_linkers(uncleared outputs) .ipynb",
   "provenance": []
  },
  "kernelspec": {
   "display_name": "Python 3",
   "name": "python3"
  },
  "widgets": {
   "application/vnd.jupyter.widget-state+json": {
    "009de111b3da467ea317adc0c332db0c": {
     "model_module": "@jupyter-widgets/base",
     "model_name": "LayoutModel",
     "state": {
      "_model_module": "@jupyter-widgets/base",
      "_model_module_version": "1.2.0",
      "_model_name": "LayoutModel",
      "_view_count": null,
      "_view_module": "@jupyter-widgets/base",
      "_view_module_version": "1.2.0",
      "_view_name": "LayoutView",
      "align_content": null,
      "align_items": null,
      "align_self": null,
      "border": null,
      "bottom": null,
      "display": null,
      "flex": null,
      "flex_flow": null,
      "grid_area": null,
      "grid_auto_columns": null,
      "grid_auto_flow": null,
      "grid_auto_rows": null,
      "grid_column": null,
      "grid_gap": null,
      "grid_row": null,
      "grid_template_areas": null,
      "grid_template_columns": null,
      "grid_template_rows": null,
      "height": null,
      "justify_content": null,
      "justify_items": null,
      "left": null,
      "margin": null,
      "max_height": null,
      "max_width": null,
      "min_height": null,
      "min_width": null,
      "object_fit": null,
      "object_position": null,
      "order": null,
      "overflow": null,
      "overflow_x": null,
      "overflow_y": null,
      "padding": null,
      "right": null,
      "top": null,
      "visibility": null,
      "width": null
     }
    },
    "137c7a6042f44eea956afcdab9c4eaf6": {
     "model_module": "@jupyter-widgets/controls",
     "model_name": "HTMLModel",
     "state": {
      "_dom_classes": [],
      "_model_module": "@jupyter-widgets/controls",
      "_model_module_version": "1.5.0",
      "_model_name": "HTMLModel",
      "_view_count": null,
      "_view_module": "@jupyter-widgets/controls",
      "_view_module_version": "1.5.0",
      "_view_name": "HTMLView",
      "description": "",
      "description_tooltip": null,
      "layout": "IPY_MODEL_774d60d2c32243d9a7954b1ac00472bb",
      "placeholder": "​",
      "style": "IPY_MODEL_99e29d69d38948099f9d7a725b490ec1",
      "value": " 422/422 [00:05&lt;00:00, 76.85it/s]"
     }
    },
    "163f9ffe85394da5be82ba14a343c715": {
     "model_module": "@jupyter-widgets/base",
     "model_name": "LayoutModel",
     "state": {
      "_model_module": "@jupyter-widgets/base",
      "_model_module_version": "1.2.0",
      "_model_name": "LayoutModel",
      "_view_count": null,
      "_view_module": "@jupyter-widgets/base",
      "_view_module_version": "1.2.0",
      "_view_name": "LayoutView",
      "align_content": null,
      "align_items": null,
      "align_self": null,
      "border": null,
      "bottom": null,
      "display": null,
      "flex": null,
      "flex_flow": null,
      "grid_area": null,
      "grid_auto_columns": null,
      "grid_auto_flow": null,
      "grid_auto_rows": null,
      "grid_column": null,
      "grid_gap": null,
      "grid_row": null,
      "grid_template_areas": null,
      "grid_template_columns": null,
      "grid_template_rows": null,
      "height": null,
      "justify_content": null,
      "justify_items": null,
      "left": null,
      "margin": null,
      "max_height": null,
      "max_width": null,
      "min_height": null,
      "min_width": null,
      "object_fit": null,
      "object_position": null,
      "order": null,
      "overflow": null,
      "overflow_x": null,
      "overflow_y": null,
      "padding": null,
      "right": null,
      "top": null,
      "visibility": null,
      "width": null
     }
    },
    "1a79e621e0654c4c89ce45bb8b64aa29": {
     "model_module": "@jupyter-widgets/controls",
     "model_name": "ProgressStyleModel",
     "state": {
      "_model_module": "@jupyter-widgets/controls",
      "_model_module_version": "1.5.0",
      "_model_name": "ProgressStyleModel",
      "_view_count": null,
      "_view_module": "@jupyter-widgets/base",
      "_view_module_version": "1.2.0",
      "_view_name": "StyleView",
      "bar_color": null,
      "description_width": "initial"
     }
    },
    "2122d51771694ea185b53e91223e7ccc": {
     "model_module": "@jupyter-widgets/base",
     "model_name": "LayoutModel",
     "state": {
      "_model_module": "@jupyter-widgets/base",
      "_model_module_version": "1.2.0",
      "_model_name": "LayoutModel",
      "_view_count": null,
      "_view_module": "@jupyter-widgets/base",
      "_view_module_version": "1.2.0",
      "_view_name": "LayoutView",
      "align_content": null,
      "align_items": null,
      "align_self": null,
      "border": null,
      "bottom": null,
      "display": null,
      "flex": null,
      "flex_flow": null,
      "grid_area": null,
      "grid_auto_columns": null,
      "grid_auto_flow": null,
      "grid_auto_rows": null,
      "grid_column": null,
      "grid_gap": null,
      "grid_row": null,
      "grid_template_areas": null,
      "grid_template_columns": null,
      "grid_template_rows": null,
      "height": null,
      "justify_content": null,
      "justify_items": null,
      "left": null,
      "margin": null,
      "max_height": null,
      "max_width": null,
      "min_height": null,
      "min_width": null,
      "object_fit": null,
      "object_position": null,
      "order": null,
      "overflow": null,
      "overflow_x": null,
      "overflow_y": null,
      "padding": null,
      "right": null,
      "top": null,
      "visibility": null,
      "width": null
     }
    },
    "267e1852612b4b08a3147975f336df64": {
     "model_module": "@jupyter-widgets/controls",
     "model_name": "ProgressStyleModel",
     "state": {
      "_model_module": "@jupyter-widgets/controls",
      "_model_module_version": "1.5.0",
      "_model_name": "ProgressStyleModel",
      "_view_count": null,
      "_view_module": "@jupyter-widgets/base",
      "_view_module_version": "1.2.0",
      "_view_name": "StyleView",
      "bar_color": null,
      "description_width": "initial"
     }
    },
    "370293c5154247febefcf1415cb5d57a": {
     "model_module": "@jupyter-widgets/controls",
     "model_name": "HTMLModel",
     "state": {
      "_dom_classes": [],
      "_model_module": "@jupyter-widgets/controls",
      "_model_module_version": "1.5.0",
      "_model_name": "HTMLModel",
      "_view_count": null,
      "_view_module": "@jupyter-widgets/controls",
      "_view_module_version": "1.5.0",
      "_view_name": "HTMLView",
      "description": "",
      "description_tooltip": null,
      "layout": "IPY_MODEL_bf746811e2d24eb18c8fa56ff1df07c4",
      "placeholder": "​",
      "style": "IPY_MODEL_fb23de1bef524f70bd19254922e47d56",
      "value": " 422/422 [00:10&lt;00:00, 42.12it/s]"
     }
    },
    "436ed2e698254b119092128a278eda74": {
     "model_module": "@jupyter-widgets/base",
     "model_name": "LayoutModel",
     "state": {
      "_model_module": "@jupyter-widgets/base",
      "_model_module_version": "1.2.0",
      "_model_name": "LayoutModel",
      "_view_count": null,
      "_view_module": "@jupyter-widgets/base",
      "_view_module_version": "1.2.0",
      "_view_name": "LayoutView",
      "align_content": null,
      "align_items": null,
      "align_self": null,
      "border": null,
      "bottom": null,
      "display": null,
      "flex": null,
      "flex_flow": null,
      "grid_area": null,
      "grid_auto_columns": null,
      "grid_auto_flow": null,
      "grid_auto_rows": null,
      "grid_column": null,
      "grid_gap": null,
      "grid_row": null,
      "grid_template_areas": null,
      "grid_template_columns": null,
      "grid_template_rows": null,
      "height": null,
      "justify_content": null,
      "justify_items": null,
      "left": null,
      "margin": null,
      "max_height": null,
      "max_width": null,
      "min_height": null,
      "min_width": null,
      "object_fit": null,
      "object_position": null,
      "order": null,
      "overflow": null,
      "overflow_x": null,
      "overflow_y": null,
      "padding": null,
      "right": null,
      "top": null,
      "visibility": null,
      "width": null
     }
    },
    "486f96e0c4154518a5e0a93c8d8570a3": {
     "model_module": "@jupyter-widgets/controls",
     "model_name": "HBoxModel",
     "state": {
      "_dom_classes": [],
      "_model_module": "@jupyter-widgets/controls",
      "_model_module_version": "1.5.0",
      "_model_name": "HBoxModel",
      "_view_count": null,
      "_view_module": "@jupyter-widgets/controls",
      "_view_module_version": "1.5.0",
      "_view_name": "HBoxView",
      "box_style": "",
      "children": [
       "IPY_MODEL_ace11008cab745e38463577a77345877",
       "IPY_MODEL_137c7a6042f44eea956afcdab9c4eaf6"
      ],
      "layout": "IPY_MODEL_009de111b3da467ea317adc0c332db0c"
     }
    },
    "6512a01c73694955af30f3f6a537e923": {
     "model_module": "@jupyter-widgets/controls",
     "model_name": "FloatProgressModel",
     "state": {
      "_dom_classes": [],
      "_model_module": "@jupyter-widgets/controls",
      "_model_module_version": "1.5.0",
      "_model_name": "FloatProgressModel",
      "_view_count": null,
      "_view_module": "@jupyter-widgets/controls",
      "_view_module_version": "1.5.0",
      "_view_name": "ProgressView",
      "bar_style": "success",
      "description": "Pandas Apply: 100%",
      "description_tooltip": null,
      "layout": "IPY_MODEL_436ed2e698254b119092128a278eda74",
      "max": 422,
      "min": 0,
      "orientation": "horizontal",
      "style": "IPY_MODEL_c95fd212dffd4cac856cf369dc1c9777",
      "value": 422
     }
    },
    "67f3fba998f64d69bb23164f0ef6e9cd": {
     "model_module": "@jupyter-widgets/controls",
     "model_name": "HTMLModel",
     "state": {
      "_dom_classes": [],
      "_model_module": "@jupyter-widgets/controls",
      "_model_module_version": "1.5.0",
      "_model_name": "HTMLModel",
      "_view_count": null,
      "_view_module": "@jupyter-widgets/controls",
      "_view_module_version": "1.5.0",
      "_view_name": "HTMLView",
      "description": "",
      "description_tooltip": null,
      "layout": "IPY_MODEL_2122d51771694ea185b53e91223e7ccc",
      "placeholder": "​",
      "style": "IPY_MODEL_6d19615e7ab04091af648729506d9955",
      "value": " 422/422 [00:05&lt;00:00, 76.36it/s]"
     }
    },
    "6d19615e7ab04091af648729506d9955": {
     "model_module": "@jupyter-widgets/controls",
     "model_name": "DescriptionStyleModel",
     "state": {
      "_model_module": "@jupyter-widgets/controls",
      "_model_module_version": "1.5.0",
      "_model_name": "DescriptionStyleModel",
      "_view_count": null,
      "_view_module": "@jupyter-widgets/base",
      "_view_module_version": "1.2.0",
      "_view_name": "StyleView",
      "description_width": ""
     }
    },
    "6da92d7350e94b59a0cc7bbb94ac9711": {
     "model_module": "@jupyter-widgets/base",
     "model_name": "LayoutModel",
     "state": {
      "_model_module": "@jupyter-widgets/base",
      "_model_module_version": "1.2.0",
      "_model_name": "LayoutModel",
      "_view_count": null,
      "_view_module": "@jupyter-widgets/base",
      "_view_module_version": "1.2.0",
      "_view_name": "LayoutView",
      "align_content": null,
      "align_items": null,
      "align_self": null,
      "border": null,
      "bottom": null,
      "display": null,
      "flex": null,
      "flex_flow": null,
      "grid_area": null,
      "grid_auto_columns": null,
      "grid_auto_flow": null,
      "grid_auto_rows": null,
      "grid_column": null,
      "grid_gap": null,
      "grid_row": null,
      "grid_template_areas": null,
      "grid_template_columns": null,
      "grid_template_rows": null,
      "height": null,
      "justify_content": null,
      "justify_items": null,
      "left": null,
      "margin": null,
      "max_height": null,
      "max_width": null,
      "min_height": null,
      "min_width": null,
      "object_fit": null,
      "object_position": null,
      "order": null,
      "overflow": null,
      "overflow_x": null,
      "overflow_y": null,
      "padding": null,
      "right": null,
      "top": null,
      "visibility": null,
      "width": null
     }
    },
    "774d60d2c32243d9a7954b1ac00472bb": {
     "model_module": "@jupyter-widgets/base",
     "model_name": "LayoutModel",
     "state": {
      "_model_module": "@jupyter-widgets/base",
      "_model_module_version": "1.2.0",
      "_model_name": "LayoutModel",
      "_view_count": null,
      "_view_module": "@jupyter-widgets/base",
      "_view_module_version": "1.2.0",
      "_view_name": "LayoutView",
      "align_content": null,
      "align_items": null,
      "align_self": null,
      "border": null,
      "bottom": null,
      "display": null,
      "flex": null,
      "flex_flow": null,
      "grid_area": null,
      "grid_auto_columns": null,
      "grid_auto_flow": null,
      "grid_auto_rows": null,
      "grid_column": null,
      "grid_gap": null,
      "grid_row": null,
      "grid_template_areas": null,
      "grid_template_columns": null,
      "grid_template_rows": null,
      "height": null,
      "justify_content": null,
      "justify_items": null,
      "left": null,
      "margin": null,
      "max_height": null,
      "max_width": null,
      "min_height": null,
      "min_width": null,
      "object_fit": null,
      "object_position": null,
      "order": null,
      "overflow": null,
      "overflow_x": null,
      "overflow_y": null,
      "padding": null,
      "right": null,
      "top": null,
      "visibility": null,
      "width": null
     }
    },
    "7752ade7dc8e4b4b8fca6e9f40630ec8": {
     "model_module": "@jupyter-widgets/controls",
     "model_name": "HBoxModel",
     "state": {
      "_dom_classes": [],
      "_model_module": "@jupyter-widgets/controls",
      "_model_module_version": "1.5.0",
      "_model_name": "HBoxModel",
      "_view_count": null,
      "_view_module": "@jupyter-widgets/controls",
      "_view_module_version": "1.5.0",
      "_view_name": "HBoxView",
      "box_style": "",
      "children": [
       "IPY_MODEL_6512a01c73694955af30f3f6a537e923",
       "IPY_MODEL_7eee4cb5d7154547a837d4ab030f64f9"
      ],
      "layout": "IPY_MODEL_163f9ffe85394da5be82ba14a343c715"
     }
    },
    "78903bfb00d240f09b01cb91557b4a20": {
     "model_module": "@jupyter-widgets/controls",
     "model_name": "FloatProgressModel",
     "state": {
      "_dom_classes": [],
      "_model_module": "@jupyter-widgets/controls",
      "_model_module_version": "1.5.0",
      "_model_name": "FloatProgressModel",
      "_view_count": null,
      "_view_module": "@jupyter-widgets/controls",
      "_view_module_version": "1.5.0",
      "_view_name": "ProgressView",
      "bar_style": "success",
      "description": "Pandas Apply: 100%",
      "description_tooltip": null,
      "layout": "IPY_MODEL_c39d3ef103114b3ca5c1643cdb084de2",
      "max": 422,
      "min": 0,
      "orientation": "horizontal",
      "style": "IPY_MODEL_e30d744077a04da5bf19fdbff02a3e00",
      "value": 422
     }
    },
    "7eee4cb5d7154547a837d4ab030f64f9": {
     "model_module": "@jupyter-widgets/controls",
     "model_name": "HTMLModel",
     "state": {
      "_dom_classes": [],
      "_model_module": "@jupyter-widgets/controls",
      "_model_module_version": "1.5.0",
      "_model_name": "HTMLModel",
      "_view_count": null,
      "_view_module": "@jupyter-widgets/controls",
      "_view_module_version": "1.5.0",
      "_view_name": "HTMLView",
      "description": "",
      "description_tooltip": null,
      "layout": "IPY_MODEL_d40fec26599946818f9eb85f9693c59e",
      "placeholder": "​",
      "style": "IPY_MODEL_b655631768a64a7088ae1eb153b4c401",
      "value": " 422/422 [00:05&lt;00:00, 76.14it/s]"
     }
    },
    "830793c0b8a241b1a504326f9250f4d5": {
     "model_module": "@jupyter-widgets/base",
     "model_name": "LayoutModel",
     "state": {
      "_model_module": "@jupyter-widgets/base",
      "_model_module_version": "1.2.0",
      "_model_name": "LayoutModel",
      "_view_count": null,
      "_view_module": "@jupyter-widgets/base",
      "_view_module_version": "1.2.0",
      "_view_name": "LayoutView",
      "align_content": null,
      "align_items": null,
      "align_self": null,
      "border": null,
      "bottom": null,
      "display": null,
      "flex": null,
      "flex_flow": null,
      "grid_area": null,
      "grid_auto_columns": null,
      "grid_auto_flow": null,
      "grid_auto_rows": null,
      "grid_column": null,
      "grid_gap": null,
      "grid_row": null,
      "grid_template_areas": null,
      "grid_template_columns": null,
      "grid_template_rows": null,
      "height": null,
      "justify_content": null,
      "justify_items": null,
      "left": null,
      "margin": null,
      "max_height": null,
      "max_width": null,
      "min_height": null,
      "min_width": null,
      "object_fit": null,
      "object_position": null,
      "order": null,
      "overflow": null,
      "overflow_x": null,
      "overflow_y": null,
      "padding": null,
      "right": null,
      "top": null,
      "visibility": null,
      "width": null
     }
    },
    "8c765511ed10490aa2b1e062b80a0bc9": {
     "model_module": "@jupyter-widgets/controls",
     "model_name": "HBoxModel",
     "state": {
      "_dom_classes": [],
      "_model_module": "@jupyter-widgets/controls",
      "_model_module_version": "1.5.0",
      "_model_name": "HBoxModel",
      "_view_count": null,
      "_view_module": "@jupyter-widgets/controls",
      "_view_module_version": "1.5.0",
      "_view_name": "HBoxView",
      "box_style": "",
      "children": [
       "IPY_MODEL_bce3b2d825854c8bbf17ddeef352d133",
       "IPY_MODEL_67f3fba998f64d69bb23164f0ef6e9cd"
      ],
      "layout": "IPY_MODEL_6da92d7350e94b59a0cc7bbb94ac9711"
     }
    },
    "99e29d69d38948099f9d7a725b490ec1": {
     "model_module": "@jupyter-widgets/controls",
     "model_name": "DescriptionStyleModel",
     "state": {
      "_model_module": "@jupyter-widgets/controls",
      "_model_module_version": "1.5.0",
      "_model_name": "DescriptionStyleModel",
      "_view_count": null,
      "_view_module": "@jupyter-widgets/base",
      "_view_module_version": "1.2.0",
      "_view_name": "StyleView",
      "description_width": ""
     }
    },
    "ace11008cab745e38463577a77345877": {
     "model_module": "@jupyter-widgets/controls",
     "model_name": "FloatProgressModel",
     "state": {
      "_dom_classes": [],
      "_model_module": "@jupyter-widgets/controls",
      "_model_module_version": "1.5.0",
      "_model_name": "FloatProgressModel",
      "_view_count": null,
      "_view_module": "@jupyter-widgets/controls",
      "_view_module_version": "1.5.0",
      "_view_name": "ProgressView",
      "bar_style": "success",
      "description": "Pandas Apply: 100%",
      "description_tooltip": null,
      "layout": "IPY_MODEL_da88d85e476a4cc285a39298fa6cfabe",
      "max": 422,
      "min": 0,
      "orientation": "horizontal",
      "style": "IPY_MODEL_267e1852612b4b08a3147975f336df64",
      "value": 422
     }
    },
    "b655631768a64a7088ae1eb153b4c401": {
     "model_module": "@jupyter-widgets/controls",
     "model_name": "DescriptionStyleModel",
     "state": {
      "_model_module": "@jupyter-widgets/controls",
      "_model_module_version": "1.5.0",
      "_model_name": "DescriptionStyleModel",
      "_view_count": null,
      "_view_module": "@jupyter-widgets/base",
      "_view_module_version": "1.2.0",
      "_view_name": "StyleView",
      "description_width": ""
     }
    },
    "bce3b2d825854c8bbf17ddeef352d133": {
     "model_module": "@jupyter-widgets/controls",
     "model_name": "FloatProgressModel",
     "state": {
      "_dom_classes": [],
      "_model_module": "@jupyter-widgets/controls",
      "_model_module_version": "1.5.0",
      "_model_name": "FloatProgressModel",
      "_view_count": null,
      "_view_module": "@jupyter-widgets/controls",
      "_view_module_version": "1.5.0",
      "_view_name": "ProgressView",
      "bar_style": "success",
      "description": "Pandas Apply: 100%",
      "description_tooltip": null,
      "layout": "IPY_MODEL_830793c0b8a241b1a504326f9250f4d5",
      "max": 422,
      "min": 0,
      "orientation": "horizontal",
      "style": "IPY_MODEL_1a79e621e0654c4c89ce45bb8b64aa29",
      "value": 422
     }
    },
    "bf746811e2d24eb18c8fa56ff1df07c4": {
     "model_module": "@jupyter-widgets/base",
     "model_name": "LayoutModel",
     "state": {
      "_model_module": "@jupyter-widgets/base",
      "_model_module_version": "1.2.0",
      "_model_name": "LayoutModel",
      "_view_count": null,
      "_view_module": "@jupyter-widgets/base",
      "_view_module_version": "1.2.0",
      "_view_name": "LayoutView",
      "align_content": null,
      "align_items": null,
      "align_self": null,
      "border": null,
      "bottom": null,
      "display": null,
      "flex": null,
      "flex_flow": null,
      "grid_area": null,
      "grid_auto_columns": null,
      "grid_auto_flow": null,
      "grid_auto_rows": null,
      "grid_column": null,
      "grid_gap": null,
      "grid_row": null,
      "grid_template_areas": null,
      "grid_template_columns": null,
      "grid_template_rows": null,
      "height": null,
      "justify_content": null,
      "justify_items": null,
      "left": null,
      "margin": null,
      "max_height": null,
      "max_width": null,
      "min_height": null,
      "min_width": null,
      "object_fit": null,
      "object_position": null,
      "order": null,
      "overflow": null,
      "overflow_x": null,
      "overflow_y": null,
      "padding": null,
      "right": null,
      "top": null,
      "visibility": null,
      "width": null
     }
    },
    "c39d3ef103114b3ca5c1643cdb084de2": {
     "model_module": "@jupyter-widgets/base",
     "model_name": "LayoutModel",
     "state": {
      "_model_module": "@jupyter-widgets/base",
      "_model_module_version": "1.2.0",
      "_model_name": "LayoutModel",
      "_view_count": null,
      "_view_module": "@jupyter-widgets/base",
      "_view_module_version": "1.2.0",
      "_view_name": "LayoutView",
      "align_content": null,
      "align_items": null,
      "align_self": null,
      "border": null,
      "bottom": null,
      "display": null,
      "flex": null,
      "flex_flow": null,
      "grid_area": null,
      "grid_auto_columns": null,
      "grid_auto_flow": null,
      "grid_auto_rows": null,
      "grid_column": null,
      "grid_gap": null,
      "grid_row": null,
      "grid_template_areas": null,
      "grid_template_columns": null,
      "grid_template_rows": null,
      "height": null,
      "justify_content": null,
      "justify_items": null,
      "left": null,
      "margin": null,
      "max_height": null,
      "max_width": null,
      "min_height": null,
      "min_width": null,
      "object_fit": null,
      "object_position": null,
      "order": null,
      "overflow": null,
      "overflow_x": null,
      "overflow_y": null,
      "padding": null,
      "right": null,
      "top": null,
      "visibility": null,
      "width": null
     }
    },
    "c95fd212dffd4cac856cf369dc1c9777": {
     "model_module": "@jupyter-widgets/controls",
     "model_name": "ProgressStyleModel",
     "state": {
      "_model_module": "@jupyter-widgets/controls",
      "_model_module_version": "1.5.0",
      "_model_name": "ProgressStyleModel",
      "_view_count": null,
      "_view_module": "@jupyter-widgets/base",
      "_view_module_version": "1.2.0",
      "_view_name": "StyleView",
      "bar_color": null,
      "description_width": "initial"
     }
    },
    "d40fec26599946818f9eb85f9693c59e": {
     "model_module": "@jupyter-widgets/base",
     "model_name": "LayoutModel",
     "state": {
      "_model_module": "@jupyter-widgets/base",
      "_model_module_version": "1.2.0",
      "_model_name": "LayoutModel",
      "_view_count": null,
      "_view_module": "@jupyter-widgets/base",
      "_view_module_version": "1.2.0",
      "_view_name": "LayoutView",
      "align_content": null,
      "align_items": null,
      "align_self": null,
      "border": null,
      "bottom": null,
      "display": null,
      "flex": null,
      "flex_flow": null,
      "grid_area": null,
      "grid_auto_columns": null,
      "grid_auto_flow": null,
      "grid_auto_rows": null,
      "grid_column": null,
      "grid_gap": null,
      "grid_row": null,
      "grid_template_areas": null,
      "grid_template_columns": null,
      "grid_template_rows": null,
      "height": null,
      "justify_content": null,
      "justify_items": null,
      "left": null,
      "margin": null,
      "max_height": null,
      "max_width": null,
      "min_height": null,
      "min_width": null,
      "object_fit": null,
      "object_position": null,
      "order": null,
      "overflow": null,
      "overflow_x": null,
      "overflow_y": null,
      "padding": null,
      "right": null,
      "top": null,
      "visibility": null,
      "width": null
     }
    },
    "da88d85e476a4cc285a39298fa6cfabe": {
     "model_module": "@jupyter-widgets/base",
     "model_name": "LayoutModel",
     "state": {
      "_model_module": "@jupyter-widgets/base",
      "_model_module_version": "1.2.0",
      "_model_name": "LayoutModel",
      "_view_count": null,
      "_view_module": "@jupyter-widgets/base",
      "_view_module_version": "1.2.0",
      "_view_name": "LayoutView",
      "align_content": null,
      "align_items": null,
      "align_self": null,
      "border": null,
      "bottom": null,
      "display": null,
      "flex": null,
      "flex_flow": null,
      "grid_area": null,
      "grid_auto_columns": null,
      "grid_auto_flow": null,
      "grid_auto_rows": null,
      "grid_column": null,
      "grid_gap": null,
      "grid_row": null,
      "grid_template_areas": null,
      "grid_template_columns": null,
      "grid_template_rows": null,
      "height": null,
      "justify_content": null,
      "justify_items": null,
      "left": null,
      "margin": null,
      "max_height": null,
      "max_width": null,
      "min_height": null,
      "min_width": null,
      "object_fit": null,
      "object_position": null,
      "order": null,
      "overflow": null,
      "overflow_x": null,
      "overflow_y": null,
      "padding": null,
      "right": null,
      "top": null,
      "visibility": null,
      "width": null
     }
    },
    "dbccdb277e3144afa42c52a96a4f6bfe": {
     "model_module": "@jupyter-widgets/controls",
     "model_name": "HBoxModel",
     "state": {
      "_dom_classes": [],
      "_model_module": "@jupyter-widgets/controls",
      "_model_module_version": "1.5.0",
      "_model_name": "HBoxModel",
      "_view_count": null,
      "_view_module": "@jupyter-widgets/controls",
      "_view_module_version": "1.5.0",
      "_view_name": "HBoxView",
      "box_style": "",
      "children": [
       "IPY_MODEL_78903bfb00d240f09b01cb91557b4a20",
       "IPY_MODEL_370293c5154247febefcf1415cb5d57a"
      ],
      "layout": "IPY_MODEL_ec385f5e1a1c4e4e88f3656aa483ca12"
     }
    },
    "e30d744077a04da5bf19fdbff02a3e00": {
     "model_module": "@jupyter-widgets/controls",
     "model_name": "ProgressStyleModel",
     "state": {
      "_model_module": "@jupyter-widgets/controls",
      "_model_module_version": "1.5.0",
      "_model_name": "ProgressStyleModel",
      "_view_count": null,
      "_view_module": "@jupyter-widgets/base",
      "_view_module_version": "1.2.0",
      "_view_name": "StyleView",
      "bar_color": null,
      "description_width": "initial"
     }
    },
    "ec385f5e1a1c4e4e88f3656aa483ca12": {
     "model_module": "@jupyter-widgets/base",
     "model_name": "LayoutModel",
     "state": {
      "_model_module": "@jupyter-widgets/base",
      "_model_module_version": "1.2.0",
      "_model_name": "LayoutModel",
      "_view_count": null,
      "_view_module": "@jupyter-widgets/base",
      "_view_module_version": "1.2.0",
      "_view_name": "LayoutView",
      "align_content": null,
      "align_items": null,
      "align_self": null,
      "border": null,
      "bottom": null,
      "display": null,
      "flex": null,
      "flex_flow": null,
      "grid_area": null,
      "grid_auto_columns": null,
      "grid_auto_flow": null,
      "grid_auto_rows": null,
      "grid_column": null,
      "grid_gap": null,
      "grid_row": null,
      "grid_template_areas": null,
      "grid_template_columns": null,
      "grid_template_rows": null,
      "height": null,
      "justify_content": null,
      "justify_items": null,
      "left": null,
      "margin": null,
      "max_height": null,
      "max_width": null,
      "min_height": null,
      "min_width": null,
      "object_fit": null,
      "object_position": null,
      "order": null,
      "overflow": null,
      "overflow_x": null,
      "overflow_y": null,
      "padding": null,
      "right": null,
      "top": null,
      "visibility": null,
      "width": null
     }
    },
    "fb23de1bef524f70bd19254922e47d56": {
     "model_module": "@jupyter-widgets/controls",
     "model_name": "DescriptionStyleModel",
     "state": {
      "_model_module": "@jupyter-widgets/controls",
      "_model_module_version": "1.5.0",
      "_model_name": "DescriptionStyleModel",
      "_view_count": null,
      "_view_module": "@jupyter-widgets/base",
      "_view_module_version": "1.2.0",
      "_view_name": "StyleView",
      "description_width": ""
     }
    }
   }
  }
 },
 "nbformat": 4,
 "nbformat_minor": 0
}
