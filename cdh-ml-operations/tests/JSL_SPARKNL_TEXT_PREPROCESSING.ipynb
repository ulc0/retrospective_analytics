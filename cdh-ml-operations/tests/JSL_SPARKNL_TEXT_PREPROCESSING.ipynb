{
 "cells": [
  {
   "cell_type": "markdown",
   "metadata": {
    "application/vnd.databricks.v1+cell": {
     "cellMetadata": {
      "byteLimit": 2048000,
      "rowLimit": 10000
     },
     "inputWidgets": {},
     "nuid": "fb12bf3c-29a6-4f6a-b5cf-2a38141ed404",
     "showTitle": false,
     "title": ""
    },
    "id": "Ee_Kcf21AeFS"
   },
   "source": [
    "\n",
    "\n",
    "![JohnSnowLabs](https://nlp.johnsnowlabs.com/assets/images/logo.png)\n",
    "\n",
    "[![Open In Colab](https://colab.research.google.com/assets/colab-badge.svg)](https://githubtocolab.com/JohnSnowLabs/spark-nlp-workshop/blob/master/tutorials/streamlit_notebooks/TEXT_PREPROCESSING.ipynb)\n",
    "\n",
    "\n"
   ]
  },
  {
   "cell_type": "markdown",
   "metadata": {
    "application/vnd.databricks.v1+cell": {
     "cellMetadata": {
      "byteLimit": 2048000,
      "rowLimit": 10000
     },
     "inputWidgets": {},
     "nuid": "89ac179f-4352-45e3-9e85-56b77e451fc4",
     "showTitle": false,
     "title": ""
    },
    "id": "OG6pbilzA7GE"
   },
   "source": [
    "# **Pre-Process text:**\n",
    "## **Convert text to tokens, remove punctuation, stop words, perform stemming and lemmatization using Spark NLP's annotators**"
   ]
  },
  {
   "cell_type": "markdown",
   "metadata": {
    "application/vnd.databricks.v1+cell": {
     "cellMetadata": {
      "byteLimit": 2048000,
      "rowLimit": 10000
     },
     "inputWidgets": {},
     "nuid": "66a80cad-1b68-4924-8e16-53a7ac37f316",
     "showTitle": false,
     "title": ""
    },
    "id": "tMBsXh3WIYTb"
   },
   "source": [
    "**Demo of the following annotators:**\n",
    "\n",
    "\n",
    "* SentenceDetector\n",
    "* Tokenizer\n",
    "* Normalizer\n",
    "* Stemmer\n",
    "* Lemmatizer\n",
    "* StopWordsCleaner"
   ]
  },
  {
   "cell_type": "markdown",
   "metadata": {
    "application/vnd.databricks.v1+cell": {
     "cellMetadata": {
      "byteLimit": 2048000,
      "rowLimit": 10000
     },
     "inputWidgets": {},
     "nuid": "5c519258-71ca-4e08-96de-58e7d2792177",
     "showTitle": false,
     "title": ""
    },
    "id": "m5YPbgjj_wJV"
   },
   "source": [
    "## 1. Colab Setup"
   ]
  },
  {
   "cell_type": "markdown",
   "metadata": {
    "application/vnd.databricks.v1+cell": {
     "cellMetadata": {
      "byteLimit": 2048000,
      "rowLimit": 10000
     },
     "inputWidgets": {},
     "nuid": "8d6b2d65-aaa6-4600-996c-f0c72c31bbcc",
     "showTitle": false,
     "title": ""
    },
    "id": "w6o8-g0tEqNz"
   },
   "source": [
    "# Install PySpark and Spark NLP\n",
    "! pip install -q pyspark==3.3.0 spark-nlp==4.2.8"
   ]
  },
  {
   "cell_type": "code",
   "execution_count": 0,
   "metadata": {
    "application/vnd.databricks.v1+cell": {
     "cellMetadata": {
      "byteLimit": 2048000,
      "rowLimit": 10000
     },
     "inputWidgets": {},
     "nuid": "c4afa2c2-a315-43b7-9452-9923bffc5617",
     "showTitle": false,
     "title": ""
    },
    "executionInfo": {
     "elapsed": 658,
     "status": "ok",
     "timestamp": 1675544176571,
     "user": {
      "displayName": "Damla",
      "userId": "03285166568766987047"
     },
     "user_tz": -60
    },
    "id": "yMmT9S6mE0ad"
   },
   "outputs": [],
   "source": [
    "import json\n",
    "import pandas as pd\n",
    "import numpy as np\n",
    "\n",
    "import sparknlp\n",
    "import pyspark.sql.functions as F\n",
    "\n",
    "from pyspark.ml import Pipeline\n",
    "from pyspark.sql import SparkSession\n",
    "from sparknlp.annotator import *\n",
    "from sparknlp.base import *\n",
    "from sparknlp.pretrained import PretrainedPipeline\n",
    "from pyspark.sql.types import StringType, IntegerType"
   ]
  },
  {
   "cell_type": "markdown",
   "metadata": {
    "application/vnd.databricks.v1+cell": {
     "cellMetadata": {
      "byteLimit": 2048000,
      "rowLimit": 10000
     },
     "inputWidgets": {},
     "nuid": "9c5f1406-a208-4494-818e-b7a30f0331e9",
     "showTitle": false,
     "title": ""
    },
    "id": "E41Jp1vD_4Zy"
   },
   "source": [
    "## 2. Start Spark Session"
   ]
  },
  {
   "cell_type": "code",
   "execution_count": 0,
   "metadata": {
    "application/vnd.databricks.v1+cell": {
     "cellMetadata": {
      "byteLimit": 2048000,
      "rowLimit": 10000
     },
     "inputWidgets": {},
     "nuid": "d0e2f4bd-ce98-4872-af52-c91b7371a91b",
     "showTitle": false,
     "title": ""
    },
    "colab": {
     "base_uri": "https://localhost:8080/",
     "height": 228
    },
    "executionInfo": {
     "elapsed": 48615,
     "status": "ok",
     "timestamp": 1675544225179,
     "user": {
      "displayName": "Damla",
      "userId": "03285166568766987047"
     },
     "user_tz": -60
    },
    "id": "4zBXbY_vE2ss",
    "outputId": "727ea390-5966-4b05-f31e-e0edf68aa4c8"
   },
   "outputs": [],
   "source": [
    "spark = sparknlp.start()\n",
    "print (\"Spark NLP Version :\", sparknlp.version())\n",
    "spark"
   ]
  },
  {
   "cell_type": "markdown",
   "metadata": {
    "application/vnd.databricks.v1+cell": {
     "cellMetadata": {
      "byteLimit": 2048000,
      "rowLimit": 10000
     },
     "inputWidgets": {},
     "nuid": "3e5acf77-4500-45de-8109-6510338ce0d8",
     "showTitle": false,
     "title": ""
    },
    "id": "XoDybOvfAHjC"
   },
   "source": [
    "## 3. Setting sample text"
   ]
  },
  {
   "cell_type": "code",
   "execution_count": 0,
   "metadata": {
    "application/vnd.databricks.v1+cell": {
     "cellMetadata": {
      "byteLimit": 2048000,
      "rowLimit": 10000
     },
     "inputWidgets": {},
     "nuid": "98c17c8b-bc66-4952-bcc7-26fff97df7f2",
     "showTitle": false,
     "title": ""
    },
    "executionInfo": {
     "elapsed": 30,
     "status": "ok",
     "timestamp": 1675544225180,
     "user": {
      "displayName": "Damla",
      "userId": "03285166568766987047"
     },
     "user_tz": -60
    },
    "id": "GJ7GCD0pFDvP"
   },
   "outputs": [],
   "source": [
    "## Generating Example Files ##\n",
    "\n",
    "text_list = [\"\"\"The Geneva Motor Show, the first major car show of the year, opens tomorrow with U.S. Car makers hoping to make new inroads into European markets due to the cheap dollar, automobile executives said. Ford Motor Co and General Motors Corp sell cars in Europe, where about 10.5 mln new cars a year are bought. GM also makes a few thousand in North American plants for European export.\"\"\",]"
   ]
  },
  {
   "cell_type": "markdown",
   "metadata": {
    "application/vnd.databricks.v1+cell": {
     "cellMetadata": {
      "byteLimit": 2048000,
      "rowLimit": 10000
     },
     "inputWidgets": {},
     "nuid": "32cb047e-89b8-435c-8fed-ae038a532ee3",
     "showTitle": false,
     "title": ""
    },
    "id": "hm2G1yAsHTGH"
   },
   "source": [
    "## 4. Download lemma reference file. (you may also use a pre-trained lemmatization model)"
   ]
  },
  {
   "cell_type": "markdown",
   "metadata": {
    "application/vnd.databricks.v1+cell": {
     "cellMetadata": {
      "byteLimit": 2048000,
      "rowLimit": 10000
     },
     "inputWidgets": {},
     "nuid": "42e1e97d-d3b9-4c41-98a6-ac2efed1512a",
     "showTitle": false,
     "title": ""
    },
    "colab": {
     "base_uri": "https://localhost:8080/"
    },
    "executionInfo": {
     "elapsed": 451,
     "status": "ok",
     "timestamp": 1675544225609,
     "user": {
      "displayName": "Damla",
      "userId": "03285166568766987047"
     },
     "user_tz": -60
    },
    "id": "ezbuthMzeYDf",
    "outputId": "2f29d477-f94c-4248-ae82-27230abc1409"
   },
   "source": [
    "#getting lemma files\n",
    "!wget https://raw.githubusercontent.com/mahavivo/vocabulary/master/lemmas/AntBNC_lemmas_ver_001.txt"
   ]
  },
  {
   "cell_type": "markdown",
   "metadata": {
    "application/vnd.databricks.v1+cell": {
     "cellMetadata": {
      "byteLimit": 2048000,
      "rowLimit": 10000
     },
     "inputWidgets": {},
     "nuid": "304e09ff-14b4-42ee-ad92-1ceacb3e315e",
     "showTitle": false,
     "title": ""
    },
    "id": "J2eJbLJE_-VW"
   },
   "source": [
    "## 5. Define Spark NLP pipleline"
   ]
  },
  {
   "cell_type": "code",
   "execution_count": 0,
   "metadata": {
    "application/vnd.databricks.v1+cell": {
     "cellMetadata": {
      "byteLimit": 2048000,
      "rowLimit": 10000
     },
     "inputWidgets": {},
     "nuid": "dbc34d35-396e-46e4-873d-98eea5fe5acb",
     "showTitle": false,
     "title": ""
    },
    "executionInfo": {
     "elapsed": 602,
     "status": "ok",
     "timestamp": 1675544226209,
     "user": {
      "displayName": "Damla",
      "userId": "03285166568766987047"
     },
     "user_tz": -60
    },
    "id": "IiYxv0mOFIcX"
   },
   "outputs": [],
   "source": [
    "documentAssembler = DocumentAssembler()\\\n",
    "    .setInputCol(\"text\")\\\n",
    "    .setOutputCol(\"document\")\n",
    "\n",
    "sentenceDetector = SentenceDetector()\\\n",
    "    .setInputCols(['document'])\\\n",
    "    .setOutputCol('sentences')\n",
    "tokenizer = Tokenizer() \\\n",
    "    .setInputCols([\"document\"]) \\\n",
    "    .setOutputCol(\"token\")\n",
    "\n",
    "normalizer = Normalizer() \\\n",
    "    .setInputCols([\"token\"]) \\\n",
    "    .setOutputCol(\"normalized\")\\\n",
    "    .setLowercase(True)\\\n",
    "    .setCleanupPatterns([\"[^\\w\\d\\s]\"])\n",
    "\n",
    "stopwords_cleaner = StopWordsCleaner()\\\n",
    "    .setInputCols(\"token\")\\\n",
    "    .setOutputCol(\"removed_stopwords\")\\\n",
    "    .setCaseSensitive(False)\\\n",
    "\n",
    "nlpPipeline = Pipeline(stages=[documentAssembler,\n",
    "                               sentenceDetector,\n",
    "                               tokenizer,\n",
    "                               normalizer,\n",
    "                               stopwords_cleaner,\n",
    "\n",
    "])\n"
   ]
  },
  {
   "cell_type": "code",
   "execution_count": 0,
   "metadata": {
    "application/vnd.databricks.v1+cell": {
     "cellMetadata": {
      "byteLimit": 2048000,
      "rowLimit": 10000
     },
     "inputWidgets": {},
     "nuid": "c4f06837-d992-4f7e-8d2a-d068d32e78c8",
     "showTitle": false,
     "title": ""
    }
   },
   "outputs": [],
   "source": []
  },
  {
   "cell_type": "markdown",
   "metadata": {
    "application/vnd.databricks.v1+cell": {
     "cellMetadata": {
      "byteLimit": 2048000,
      "rowLimit": 10000
     },
     "inputWidgets": {},
     "nuid": "41cc5f14-74f5-41f4-8369-56b9275a1402",
     "showTitle": false,
     "title": ""
    },
    "id": "akv_NYv7MDDw"
   },
   "source": [
    "## 6. Run pipeline"
   ]
  },
  {
   "cell_type": "code",
   "execution_count": 0,
   "metadata": {
    "application/vnd.databricks.v1+cell": {
     "cellMetadata": {
      "byteLimit": 2048000,
      "rowLimit": 10000
     },
     "inputWidgets": {},
     "nuid": "0ce2bb94-66dd-402a-a413-2f624f35a4e1",
     "showTitle": false,
     "title": ""
    },
    "executionInfo": {
     "elapsed": 14741,
     "status": "ok",
     "timestamp": 1675544240943,
     "user": {
      "displayName": "Damla",
      "userId": "03285166568766987047"
     },
     "user_tz": -60
    },
    "id": "IQm-b5dMMARa"
   },
   "outputs": [],
   "source": [
    "df = spark.createDataFrame(text_list, StringType()).toDF(\"text\")\n",
    "result = nlpPipeline.fit(df).transform(df)"
   ]
  },
  {
   "cell_type": "markdown",
   "metadata": {
    "application/vnd.databricks.v1+cell": {
     "cellMetadata": {
      "byteLimit": 2048000,
      "rowLimit": 10000
     },
     "inputWidgets": {},
     "nuid": "30e1e453-dfbf-47b6-9faf-97e9385b30bc",
     "showTitle": false,
     "title": ""
    },
    "id": "MgZ9hnwmMHyO"
   },
   "source": [
    "## 7. Visualize Results"
   ]
  },
  {
   "cell_type": "code",
   "execution_count": 0,
   "metadata": {
    "application/vnd.databricks.v1+cell": {
     "cellMetadata": {
      "byteLimit": 2048000,
      "rowLimit": 10000
     },
     "inputWidgets": {},
     "nuid": "a3bd77c9-58ba-4395-9e16-6f4ae0f4816b",
     "showTitle": false,
     "title": ""
    },
    "colab": {
     "base_uri": "https://localhost:8080/"
    },
    "executionInfo": {
     "elapsed": 4756,
     "status": "ok",
     "timestamp": 1675544245694,
     "user": {
      "displayName": "Damla",
      "userId": "03285166568766987047"
     },
     "user_tz": -60
    },
    "id": "LBDmM5aRH1zR",
    "outputId": "42fb76ac-2471-48c3-e72f-1ea64b2c9d0e"
   },
   "outputs": [],
   "source": [
    "# sentences in the text\n",
    "result.select(F.explode(F.arrays_zip(result.sentences.result)).alias(\"cols\")) \\\n",
    "      .select(F.expr(\"cols['0']\").alias(\"sentences\")).show(truncate=False)\n"
   ]
  },
  {
   "cell_type": "code",
   "execution_count": 0,
   "metadata": {
    "application/vnd.databricks.v1+cell": {
     "cellMetadata": {
      "byteLimit": 2048000,
      "rowLimit": 10000
     },
     "inputWidgets": {},
     "nuid": "f2c7e6f8-52b8-4599-bcd5-7bc4514886bf",
     "showTitle": false,
     "title": ""
    },
    "colab": {
     "base_uri": "https://localhost:8080/"
    },
    "executionInfo": {
     "elapsed": 759,
     "status": "ok",
     "timestamp": 1675544246441,
     "user": {
      "displayName": "Damla",
      "userId": "03285166568766987047"
     },
     "user_tz": -60
    },
    "id": "I4ACcIXqGkfl",
    "outputId": "dbc3f51a-7793-439f-b5cf-c12d5b4f2296"
   },
   "outputs": [],
   "source": [
    "# tokens in the text\n",
    "result.select(F.explode(F.arrays_zip(result.token.result)).alias(\"cols\")) \\\n",
    "      .select(F.expr(\"cols['0']\").alias(\"tokens\")).show(truncate=False)"
   ]
  },
  {
   "cell_type": "code",
   "execution_count": 0,
   "metadata": {
    "application/vnd.databricks.v1+cell": {
     "cellMetadata": {
      "byteLimit": 2048000,
      "rowLimit": 10000
     },
     "inputWidgets": {},
     "nuid": "281e234e-680f-43d4-8db5-c2db043cdfdb",
     "showTitle": false,
     "title": ""
    },
    "colab": {
     "base_uri": "https://localhost:8080/"
    },
    "executionInfo": {
     "elapsed": 385,
     "status": "ok",
     "timestamp": 1675544246823,
     "user": {
      "displayName": "Damla",
      "userId": "03285166568766987047"
     },
     "user_tz": -60
    },
    "id": "xgB5ZEDxdKah",
    "outputId": "81995180-34ff-4dd2-f50a-c44e74c2c21b"
   },
   "outputs": [],
   "source": [
    "# eliminated punctuation\n",
    "result.select(F.explode(F.arrays_zip(result.normalized.result)).alias(\"cols\")) \\\n",
    "      .select(F.expr(\"cols['0']\").alias(\"normalized_tokens\")).show(truncate=False)"
   ]
  },
  {
   "cell_type": "markdown",
   "metadata": {
    "application/vnd.databricks.v1+cell": {
     "cellMetadata": {
      "byteLimit": 2048000,
      "rowLimit": 10000
     },
     "inputWidgets": {},
     "nuid": "5be30181-1755-492a-9b7c-001cad9f6494",
     "showTitle": false,
     "title": ""
    },
    "colab": {
     "base_uri": "https://localhost:8080/"
    },
    "executionInfo": {
     "elapsed": 660,
     "status": "ok",
     "timestamp": 1675544247481,
     "user": {
      "displayName": "Damla",
      "userId": "03285166568766987047"
     },
     "user_tz": -60
    },
    "id": "HOGUACIJeeUj",
    "outputId": "eab8113b-a872-43bb-a90c-2daa83db21a4"
   },
   "source": [
    "# stemmed tokens\n",
    "result.select(F.explode(F.arrays_zip(result.stem.result)).alias(\"cols\")) \\\n",
    "      .select(F.expr(\"cols['0']\").alias(\"token_stems\")).show(truncate=False)"
   ]
  },
  {
   "cell_type": "code",
   "execution_count": 0,
   "metadata": {
    "application/vnd.databricks.v1+cell": {
     "cellMetadata": {
      "byteLimit": 2048000,
      "rowLimit": 10000
     },
     "inputWidgets": {},
     "nuid": "84648c1b-26b4-4190-91b5-0e3f69f4175d",
     "showTitle": false,
     "title": ""
    },
    "colab": {
     "base_uri": "https://localhost:8080/"
    },
    "executionInfo": {
     "elapsed": 695,
     "status": "ok",
     "timestamp": 1675544248173,
     "user": {
      "displayName": "Damla",
      "userId": "03285166568766987047"
     },
     "user_tz": -60
    },
    "id": "ApCB3G-6gGar",
    "outputId": "ca44f785-2361-4933-e125-6e899e64db2b"
   },
   "outputs": [],
   "source": [
    "# removed_stopwords\n",
    "result.select(F.explode(F.arrays_zip(result.removed_stopwords.result)).alias(\"cols\")) \\\n",
    "      .select(F.expr(\"cols['0']\").alias(\"removed_stopwords\")).show(truncate=False)"
   ]
  },
  {
   "cell_type": "markdown",
   "metadata": {
    "application/vnd.databricks.v1+cell": {
     "cellMetadata": {
      "byteLimit": 2048000,
      "rowLimit": 10000
     },
     "inputWidgets": {},
     "nuid": "563f1e5c-1741-4dfc-b25d-07616ef6d3be",
     "showTitle": false,
     "title": ""
    },
    "colab": {
     "base_uri": "https://localhost:8080/"
    },
    "executionInfo": {
     "elapsed": 450,
     "status": "ok",
     "timestamp": 1675544248606,
     "user": {
      "displayName": "Damla",
      "userId": "03285166568766987047"
     },
     "user_tz": -60
    },
    "id": "PQ86qhQmgMbh",
    "outputId": "c990d5dd-23fc-4f29-b14f-3638458b0a9f"
   },
   "source": [
    "# lemmatization\n",
    "result.select(F.explode(F.arrays_zip(result.lemma.result)).alias(\"cols\")) \\\n",
    "      .select(F.expr(\"cols['0']\").alias(\"lemma\")).show(truncate=False)"
   ]
  }
 ],
 "metadata": {
  "application/vnd.databricks.v1+notebook": {
   "dashboards": [],
   "language": "python",
   "notebookMetadata": {
    "pythonIndentUnit": 4
   },
   "notebookName": "JSL_SPARKNL_TEXT_PREPROCESSING",
   "widgets": {}
  },
  "colab": {
   "provenance": []
  },
  "interpreter": {
   "hash": "45150093197569bb3a58481dcd32cd1adb45462fa3448719e8ac38ada6166aca"
  },
  "kernelspec": {
   "display_name": "Python 3.6.10 64-bit ('tensorflow2_p36': conda)",
   "name": "python3"
  },
  "language_info": {
   "codemirror_mode": {
    "name": "ipython",
    "version": 3
   },
   "file_extension": ".py",
   "mimetype": "text/x-python",
   "name": "python",
   "nbconvert_exporter": "python",
   "pygments_lexer": "ipython3",
   "version": "3.6.10"
  }
 },
 "nbformat": 4,
 "nbformat_minor": 0
}
