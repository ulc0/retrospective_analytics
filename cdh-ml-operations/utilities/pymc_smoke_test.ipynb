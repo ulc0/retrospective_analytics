{
 "cells": [
  {
   "cell_type": "markdown",
   "metadata": {
    "application/vnd.databricks.v1+cell": {
     "cellMetadata": {
      "byteLimit": 2048000,
      "rowLimit": 10000
     },
     "inputWidgets": {},
     "nuid": "8bc543ee-3886-4fc7-8dff-e5ddb9956c9f",
     "showTitle": false,
     "title": ""
    }
   },
   "source": [
    "(glm_linear)=\n",
    "# GLM: Linear regression\n",
    "\n",
    "This tutorial is adapted from a [blog post by Thomas Wiecki called \"The Inference Button: Bayesian GLMs made easy with PyMC\"](http://twiecki.github.io/blog/2013/08/12/bayesian-glms-1/).\n",
    "\n",
    "While the theoretical benefits of Bayesian over frequentist methods have been discussed at length elsewhere (see *Further Reading* below), the major obstacle that hinders wider adoption is *usability*.  This is mildly ironic because the beauty of Bayesian statistics is their generality. Frequentist stats involve coming up with a test statistic that is specific for the application at hand, whereas with Bayes you define your model exactly as you think is appropriate and hit the *Inference Button(TM)* (i.e. running the magical MCMC sampling algorithm).\n",
    "\n",
    "Over the past few decades, some great Bayesian software packages have been created including [JAGS](http://mcmc-jags.sourceforge.net/), [BUGS](https://www.mrc-bsu.cam.ac.uk/software/bugs/), and [Stan](http://mc-stan.org/), however they are written for statisticians who know very well what model they want to build. \n",
    "\n",
    "Unfortunately, [\"the vast majority of statistical analysis is not performed by statisticians\"](https://simplystatistics.org/posts/2013-06-14-the-vast-majority-of-statistical-analysis-is-not-performed-by-statisticians/) -- so what we really need are tools for *scientists* and not for statisticians. PyMC makes it easy to construct statistical models for the application at hand, independent of how the various fitting algorithms are implemented.\n",
    "\n",
    "## Linear Regression\n",
    "\n",
    "In this example, we will start with the simplest GLM -- linear regression.\n",
    "In general, frequentists think about linear regression as follows:\n",
    "\n",
    "$$ Y = X\\beta + \\epsilon $$\n",
    "\n",
    "where $Y$ is the output we want to predict (or *dependent* variable), $X$ is our predictor (or *independent* variable), and $\\beta$ are the coefficients (or parameters) of the model we want to estimate. $\\epsilon$ is an error term which is assumed to be normally distributed. \n",
    "\n",
    "We can then use ordinary least squares (OLS) or maximum likelihood to find the best fitting $\\beta$.\n",
    "\n",
    "## Probabilistic Reformulation\n",
    "\n",
    "Bayesians take a probabilistic view of the world and express this model in terms of probability distributions. Our above linear regression can be reformulated as:\n",
    "\n",
    "$$ Y \\sim \\mathcal{N}(X \\beta, \\sigma^2) $$\n",
    "\n",
    "In words, we view $Y$ as a random variable (or random vector) of which each element (data point) is distributed according to a Normal distribution. The mean of this normal distribution is provided by our linear predictor with variance $\\sigma^2$.\n",
    "\n",
    "While this is essentially the same model, there are two critical advantages of Bayesian estimation:\n",
    "\n",
    " - Priors: We can quantify any prior knowledge we might have by placing priors on the parameters. For example, if we think that $\\sigma$ is likely to be small we would choose a prior with more probability mass on low values.\n",
    " - Quantifying uncertainty: We do not get a single estimate of $\\beta$ as above but instead a complete posterior distribution about how likely different values of $\\beta$ are. For example, with few data points our uncertainty in $\\beta$ will be very high and we'd be getting very wide posteriors."
   ]
  },
  {
   "cell_type": "markdown",
   "metadata": {
    "application/vnd.databricks.v1+cell": {
     "cellMetadata": {
      "byteLimit": 2048000,
      "rowLimit": 10000
     },
     "inputWidgets": {},
     "nuid": "42fad4e3-0476-478f-9ec8-557db5796302",
     "showTitle": false,
     "title": ""
    }
   },
   "source": [
    "## Bayesian GLMs in PyMC\n",
    "\n",
    "To get started building GLMs in PyMC, let's first import the required modules."
   ]
  },
  {
   "cell_type": "code",
   "execution_count": 0,
   "metadata": {
    "application/vnd.databricks.v1+cell": {
     "cellMetadata": {
      "byteLimit": 2048000,
      "rowLimit": 10000
     },
     "inputWidgets": {},
     "nuid": "27252f02-310b-4552-8ec7-14a3b9d54626",
     "showTitle": false,
     "title": ""
    }
   },
   "outputs": [],
   "source": [
    "dbutils.widgets.text(\"experiment_id\",defaultValue=\"3763121529742608\")\n",
    "experiment_id=dbutils.widgets.get(\"experiment_id\")"
   ]
  },
  {
   "cell_type": "code",
   "execution_count": 0,
   "metadata": {
    "application/vnd.databricks.v1+cell": {
     "cellMetadata": {
      "byteLimit": 2048000,
      "rowLimit": 10000
     },
     "inputWidgets": {},
     "nuid": "eb2a2312-410d-4c82-ad8a-cc2acc8841f6",
     "showTitle": false,
     "title": ""
    }
   },
   "outputs": [],
   "source": [
    "import mlflow\n",
    "run_id=mlflow.start_run(experiment_id=experiment_id)\n"
   ]
  },
  {
   "cell_type": "code",
   "execution_count": 0,
   "metadata": {
    "application/vnd.databricks.v1+cell": {
     "cellMetadata": {
      "byteLimit": 2048000,
      "rowLimit": 10000
     },
     "inputWidgets": {},
     "nuid": "b355b52e-956b-43aa-8b4c-57a39ad920aa",
     "showTitle": false,
     "title": ""
    }
   },
   "outputs": [],
   "source": [
    "import arviz as az\n",
    "import matplotlib.pyplot as plt\n",
    "import numpy as np\n",
    "import pandas as pd\n",
    "import pymc as pm\n",
    "import xarray as xr\n",
    "\n",
    "from pymc import HalfCauchy, Model, Normal, sample\n",
    "\n",
    "print(f\"Running on PyMC v{pm.__version__}\")"
   ]
  },
  {
   "cell_type": "code",
   "execution_count": 0,
   "metadata": {
    "application/vnd.databricks.v1+cell": {
     "cellMetadata": {
      "byteLimit": 2048000,
      "rowLimit": 10000
     },
     "inputWidgets": {},
     "nuid": "4b7cd7e4-9de1-4a84-b636-a7522f1e7eae",
     "showTitle": false,
     "title": ""
    }
   },
   "outputs": [],
   "source": [
    "RANDOM_SEED = 8927\n",
    "rng = np.random.default_rng(RANDOM_SEED)\n",
    "\n",
    "%config InlineBackend.figure_format = 'retina'\n",
    "az.style.use(\"arviz-darkgrid\")"
   ]
  },
  {
   "cell_type": "markdown",
   "metadata": {
    "application/vnd.databricks.v1+cell": {
     "cellMetadata": {
      "byteLimit": 2048000,
      "rowLimit": 10000
     },
     "inputWidgets": {},
     "nuid": "91f41d77-31dd-4598-b765-7f57a868ba34",
     "showTitle": false,
     "title": ""
    }
   },
   "source": [
    "### Generating data"
   ]
  },
  {
   "cell_type": "markdown",
   "metadata": {
    "application/vnd.databricks.v1+cell": {
     "cellMetadata": {
      "byteLimit": 2048000,
      "rowLimit": 10000
     },
     "inputWidgets": {},
     "nuid": "d4aafa13-9d36-4ac3-b374-0c9381a169bf",
     "showTitle": false,
     "title": ""
    }
   },
   "source": [
    "Essentially we are creating a regression line defined by intercept and slope and add data points by sampling from a Normal with the mean set to the regression line."
   ]
  },
  {
   "cell_type": "code",
   "execution_count": 0,
   "metadata": {
    "application/vnd.databricks.v1+cell": {
     "cellMetadata": {
      "byteLimit": 2048000,
      "rowLimit": 10000
     },
     "inputWidgets": {},
     "nuid": "f0d134be-ce39-40f2-9fd2-a242a66c9fa2",
     "showTitle": false,
     "title": ""
    }
   },
   "outputs": [],
   "source": [
    "size = 200\n",
    "true_intercept = 1\n",
    "true_slope = 2\n",
    "\n",
    "x = np.linspace(0, 1, size)\n",
    "# y = a + b*x\n",
    "true_regression_line = true_intercept + true_slope * x\n",
    "# add noise\n",
    "y = true_regression_line + rng.normal(scale=0.5, size=size)\n",
    "\n",
    "data = pd.DataFrame(dict(x=x, y=y))"
   ]
  },
  {
   "cell_type": "code",
   "execution_count": 0,
   "metadata": {
    "application/vnd.databricks.v1+cell": {
     "cellMetadata": {
      "byteLimit": 2048000,
      "rowLimit": 10000
     },
     "inputWidgets": {},
     "nuid": "abdbca51-c4e4-4599-acce-90f7f55ba099",
     "showTitle": false,
     "title": ""
    }
   },
   "outputs": [],
   "source": [
    "fig = plt.figure(figsize=(7, 7))\n",
    "ax = fig.add_subplot(111, xlabel=\"x\", ylabel=\"y\", title=\"Generated data and underlying model\")\n",
    "ax.plot(x, y, \"x\", label=\"sampled data\")\n",
    "ax.plot(x, true_regression_line, label=\"true regression line\", lw=2.0)\n",
    "plt.legend(loc=0);"
   ]
  },
  {
   "cell_type": "markdown",
   "metadata": {
    "application/vnd.databricks.v1+cell": {
     "cellMetadata": {
      "byteLimit": 2048000,
      "rowLimit": 10000
     },
     "inputWidgets": {},
     "nuid": "3645724c-90b6-4318-8e16-52fd6b764947",
     "showTitle": false,
     "title": ""
    }
   },
   "source": [
    "### Estimating the model"
   ]
  },
  {
   "cell_type": "markdown",
   "metadata": {
    "application/vnd.databricks.v1+cell": {
     "cellMetadata": {
      "byteLimit": 2048000,
      "rowLimit": 10000
     },
     "inputWidgets": {},
     "nuid": "92c6b2d2-372c-4ea5-adad-980c7242517a",
     "showTitle": false,
     "title": ""
    }
   },
   "source": [
    "Lets fit a Bayesian linear regression model to this data. In PyMC, the model specifications takes place in a `with` expression, called a context manager. By default, models are fit using the [NUTS sampler](http://arxiv.org/abs/1111.4246), resulting in a trace of samples representing the marginal posterior distribution of the latent model parameters."
   ]
  },
  {
   "cell_type": "code",
   "execution_count": 0,
   "metadata": {
    "application/vnd.databricks.v1+cell": {
     "cellMetadata": {
      "byteLimit": 2048000,
      "rowLimit": 10000
     },
     "inputWidgets": {},
     "nuid": "aedd22e8-862c-4f93-a205-58d16bc90de1",
     "showTitle": false,
     "title": ""
    }
   },
   "outputs": [],
   "source": [
    "with Model() as model:  # model specifications in PyMC are wrapped in a with-statement\n",
    "    # Define priors\n",
    "    sigma = HalfCauchy(\"sigma\", beta=10)\n",
    "    intercept = Normal(\"Intercept\", 0, sigma=20)\n",
    "    slope = Normal(\"slope\", 0, sigma=20)\n",
    "\n",
    "    # Define likelihood\n",
    "    likelihood = Normal(\"y\", mu=intercept + slope * x, sigma=sigma, observed=y)\n",
    "\n",
    "    # Inference!\n",
    "    # draw 3000 posterior samples using NUTS sampling\n",
    "    idata = sample(3000)"
   ]
  },
  {
   "cell_type": "code",
   "execution_count": 0,
   "metadata": {
    "application/vnd.databricks.v1+cell": {
     "cellMetadata": {
      "byteLimit": 2048000,
      "rowLimit": 10000
     },
     "inputWidgets": {},
     "nuid": "b65c7267-5e22-485b-a5a8-505cd39b2186",
     "showTitle": false,
     "title": ""
    }
   },
   "outputs": [],
   "source": [
    "print(data)"
   ]
  },
  {
   "cell_type": "code",
   "execution_count": 0,
   "metadata": {
    "application/vnd.databricks.v1+cell": {
     "cellMetadata": {
      "byteLimit": 2048000,
      "rowLimit": 10000
     },
     "inputWidgets": {},
     "nuid": "eeca47ef-e935-439b-9afc-a3dc82693dac",
     "showTitle": false,
     "title": ""
    }
   },
   "outputs": [],
   "source": [
    "#sdata=spark.createDataFrame(data)\n",
    "\n",
    "sdata=spark.table(\"cdh_premier_exploratory.ml_fs_demographics\")\n"
   ]
  },
  {
   "cell_type": "code",
   "execution_count": 0,
   "metadata": {
    "application/vnd.databricks.v1+cell": {
     "cellMetadata": {
      "byteLimit": 2048000,
      "rowLimit": 10000
     },
     "inputWidgets": {},
     "nuid": "af3d9424-10f1-43d8-9d78-9a55dcca50f7",
     "showTitle": false,
     "title": ""
    }
   },
   "outputs": [],
   "source": [
    "sdata.write.mode(\"overwrite\").option(\"overwriteSchema\", \"true\").format(\"delta\").saveAsTable(\"cdh_premier_exploratory.ml_test_data\")"
   ]
  },
  {
   "cell_type": "markdown",
   "metadata": {
    "application/vnd.databricks.v1+cell": {
     "cellMetadata": {
      "byteLimit": 2048000,
      "rowLimit": 10000
     },
     "inputWidgets": {},
     "nuid": "df03cf7e-d302-4ed5-9247-303dcf5103da",
     "showTitle": false,
     "title": ""
    }
   },
   "source": [
    "This should be fairly readable for people who know probabilistic programming. However, would a non-statistican know what all this does? Moreover, recall that this is an extremely simple model that would be one line in R. Having multiple, potentially transformed regressors, interaction terms or link-functions would also make this much more complex and error prone. \n",
    "\n",
    "To make things even simpler, the [`bambi`](https://bambinos.github.io/bambi/) library  takes a [formula](https://bambinos.github.io/formulae/) linear model specifier from which it creates a design matrix. `bambi` then adds random variables for each of the coefficients and an appropriate likelihood to the model. \n",
    "\n",
    "If `bambi` is not installed, you can install it with `pip install bambi`."
   ]
  },
  {
   "cell_type": "code",
   "execution_count": 0,
   "metadata": {
    "application/vnd.databricks.v1+cell": {
     "cellMetadata": {
      "byteLimit": 2048000,
      "rowLimit": 10000
     },
     "inputWidgets": {},
     "nuid": "56e0b970-d5e5-4caa-8064-e8a20e539741",
     "showTitle": false,
     "title": ""
    }
   },
   "outputs": [],
   "source": [
    "import sys\n",
    "import bambi as bmb\n"
   ]
  },
  {
   "cell_type": "code",
   "execution_count": 0,
   "metadata": {
    "application/vnd.databricks.v1+cell": {
     "cellMetadata": {
      "byteLimit": 2048000,
      "rowLimit": 10000
     },
     "inputWidgets": {},
     "nuid": "877561cb-a73c-4e89-af9f-17b488ac562d",
     "showTitle": false,
     "title": ""
    }
   },
   "outputs": [],
   "source": [
    "model = bmb.Model(\"y ~ x\", data)\n",
    "idata = model.fit(draws=3000)"
   ]
  },
  {
   "cell_type": "markdown",
   "metadata": {
    "application/vnd.databricks.v1+cell": {
     "cellMetadata": {
      "byteLimit": 2048000,
      "rowLimit": 10000
     },
     "inputWidgets": {},
     "nuid": "c6ec2de8-f38b-4624-8aa9-c096bc743d61",
     "showTitle": false,
     "title": ""
    }
   },
   "source": [
    "Much shorter, but this code does the exact same thing as the previous specification (you can change priors and everything else too if we wanted). `bambi` parses the `formulae` model string, adds random variables for each regressor (`Intercept` and slope `x` in this case), adds a likelihood (by default, a Normal is chosen), and all other variables (`sigma`). Finally, `bambi` then initializes the parameters to a good starting point by estimating a frequentist linear model using [statsmodels](http://statsmodels.sourceforge.net/devel/).\n",
    "\n",
    "If you are not familiar with R's syntax, `'y ~ x'` specifies that we have an output variable `y` that we want to estimate as a linear function of `x`."
   ]
  },
  {
   "cell_type": "markdown",
   "metadata": {
    "application/vnd.databricks.v1+cell": {
     "cellMetadata": {
      "byteLimit": 2048000,
      "rowLimit": 10000
     },
     "inputWidgets": {},
     "nuid": "f93e6689-917f-4cf9-9460-2c7bea6434d7",
     "showTitle": false,
     "title": ""
    }
   },
   "source": [
    "### Analyzing the model"
   ]
  },
  {
   "cell_type": "markdown",
   "metadata": {
    "application/vnd.databricks.v1+cell": {
     "cellMetadata": {
      "byteLimit": 2048000,
      "rowLimit": 10000
     },
     "inputWidgets": {},
     "nuid": "fd7c4fc2-3123-4f21-b38f-43c09fb8a7a7",
     "showTitle": false,
     "title": ""
    }
   },
   "source": [
    "Bayesian inference does not give us only one line of best fit (as maximum likelihood does) but rather a whole posterior distribution of plausible parameters. Lets plot the posterior distribution of our parameters and the individual samples we drew."
   ]
  },
  {
   "cell_type": "code",
   "execution_count": 0,
   "metadata": {
    "application/vnd.databricks.v1+cell": {
     "cellMetadata": {
      "byteLimit": 2048000,
      "rowLimit": 10000
     },
     "inputWidgets": {},
     "nuid": "0c4aa995-b9dc-4e3b-b0c8-687f5114ca24",
     "showTitle": false,
     "title": ""
    }
   },
   "outputs": [],
   "source": [
    "az.plot_trace(idata, figsize=(10, 7));"
   ]
  },
  {
   "cell_type": "markdown",
   "metadata": {
    "application/vnd.databricks.v1+cell": {
     "cellMetadata": {
      "byteLimit": 2048000,
      "rowLimit": 10000
     },
     "inputWidgets": {},
     "nuid": "dfaba612-9b69-48c8-9624-3a3b369d6968",
     "showTitle": false,
     "title": ""
    }
   },
   "source": [
    "The left side shows our marginal posterior -- for each parameter value on the x-axis we get a probability on the y-axis that tells us how likely that parameter value is.\n",
    "\n",
    "There are a couple of things to see here. The first is that our sampling chains for the individual parameters (left side) seem homogeneous and stationary (there are no large drifts or other odd patterns).\n",
    "\n",
    "Secondly, the maximum posterior estimate of each variable (the peak in the left side distributions) is very close to the true parameters used to generate the data (`x` is the regression coefficient and `sigma` is the standard deviation of our normal)."
   ]
  },
  {
   "cell_type": "markdown",
   "metadata": {
    "application/vnd.databricks.v1+cell": {
     "cellMetadata": {
      "byteLimit": 2048000,
      "rowLimit": 10000
     },
     "inputWidgets": {},
     "nuid": "e2ba2438-349d-41cb-9beb-fc8829dba555",
     "showTitle": false,
     "title": ""
    }
   },
   "source": [
    "In GLMs, we thus do not only have one best fitting regression line, but many. A posterior predictive plot takes multiple samples from the posterior (intercepts and slopes) and plots a regression line for each of them. We can manually generate these regression lines using the posterior samples directly."
   ]
  },
  {
   "cell_type": "code",
   "execution_count": 0,
   "metadata": {
    "application/vnd.databricks.v1+cell": {
     "cellMetadata": {
      "byteLimit": 2048000,
      "rowLimit": 10000
     },
     "inputWidgets": {},
     "nuid": "a6a6e63e-4b73-4ea5-b2d0-f12a42710574",
     "showTitle": false,
     "title": ""
    }
   },
   "outputs": [],
   "source": [
    "idata.posterior[\"y_model\"] = idata.posterior[\"Intercept\"] + idata.posterior[\"x\"] * xr.DataArray(x)"
   ]
  },
  {
   "cell_type": "code",
   "execution_count": 0,
   "metadata": {
    "application/vnd.databricks.v1+cell": {
     "cellMetadata": {
      "byteLimit": 2048000,
      "rowLimit": 10000
     },
     "inputWidgets": {},
     "nuid": "b462db33-bf8b-49d0-a9e7-db08a477a815",
     "showTitle": false,
     "title": ""
    }
   },
   "outputs": [],
   "source": [
    "_, ax = plt.subplots(figsize=(7, 7))\n",
    "az.plot_lm(idata=idata, y=\"y\", num_samples=100, axes=ax, y_model=\"y_model\")\n",
    "ax.set_title(\"Posterior predictive regression lines\")\n",
    "ax.set_xlabel(\"x\");"
   ]
  },
  {
   "cell_type": "markdown",
   "metadata": {
    "application/vnd.databricks.v1+cell": {
     "cellMetadata": {
      "byteLimit": 2048000,
      "rowLimit": 10000
     },
     "inputWidgets": {},
     "nuid": "49807410-5501-41cb-a7fa-5648f7dc3e7a",
     "showTitle": false,
     "title": ""
    }
   },
   "source": [
    "As you can see, our estimated regression lines are very similar to the true regression line. But since we only have limited data we have *uncertainty* in our estimates, here expressed by the variability of the lines."
   ]
  },
  {
   "cell_type": "markdown",
   "metadata": {
    "application/vnd.databricks.v1+cell": {
     "cellMetadata": {
      "byteLimit": 2048000,
      "rowLimit": 10000
     },
     "inputWidgets": {},
     "nuid": "a579e3a5-d246-4db4-ad29-e03d1c887eab",
     "showTitle": false,
     "title": ""
    }
   },
   "source": [
    "## Summary"
   ]
  },
  {
   "cell_type": "markdown",
   "metadata": {
    "application/vnd.databricks.v1+cell": {
     "cellMetadata": {
      "byteLimit": 2048000,
      "rowLimit": 10000
     },
     "inputWidgets": {},
     "nuid": "44a6a745-1898-4447-bf92-e05d72247291",
     "showTitle": false,
     "title": ""
    }
   },
   "source": [
    " - Usability is currently a huge hurdle for wider adoption of Bayesian statistics.\n",
    " - `Bambi` allows GLM specification with convenient syntax borrowed from R. Inference can then be carried out with `pymc`.\n",
    " - Posterior predictive plots allow us to evaluate fit and our uncertainty in it."
   ]
  },
  {
   "cell_type": "markdown",
   "metadata": {
    "application/vnd.databricks.v1+cell": {
     "cellMetadata": {
      "byteLimit": 2048000,
      "rowLimit": 10000
     },
     "inputWidgets": {},
     "nuid": "5964708e-5af9-4ff0-97f7-b12e7aa2fa46",
     "showTitle": false,
     "title": ""
    }
   },
   "source": [
    "### Further reading"
   ]
  },
  {
   "cell_type": "markdown",
   "metadata": {
    "application/vnd.databricks.v1+cell": {
     "cellMetadata": {
      "byteLimit": 2048000,
      "rowLimit": 10000
     },
     "inputWidgets": {},
     "nuid": "aee62ebf-9474-4e99-981f-e966639731aa",
     "showTitle": false,
     "title": ""
    }
   },
   "source": [
    "For additional background, here are a few good resources on Bayesian statistics:\n",
    "\n",
    "  - The excellent book [Doing Bayesian Data Analysis by John Kruschke](https://sites.google.com/site/doingbayesiandataanalysis).\n",
    "  - [Andrew Gelman's blog](http://andrewgelman.com/)\n",
    "  \n",
    "Author: Thomas Wiecki"
   ]
  }
 ],
 "metadata": {
  "anaconda-cloud": {},
  "application/vnd.databricks.v1+notebook": {
   "dashboards": [],
   "language": "python",
   "notebookMetadata": {
    "pythonIndentUnit": 4
   },
   "notebookName": "pymc_smoke_test",
   "widgets": {
    "experiment_id": {
     "currentValue": "3763121529742608",
     "nuid": "96066a77-de08-4606-bf07-b926014251dc",
     "widgetInfo": {
      "widgetType": "text",
      "defaultValue": "3763121529742608",
      "label": null,
      "name": "experiment_id",
      "options": {
       "widgetType": "text",
       "validationRegex": null
      }
     }
    }
   }
  },
  "hide_input": false,
  "kernelspec": {
   "display_name": "Python 3 (ipykernel)",
   "language": "python",
   "name": "python3"
  },
  "language_info": {
   "codemirror_mode": {
    "name": "ipython",
    "version": 3
   },
   "file_extension": ".py",
   "mimetype": "text/x-python",
   "name": "python",
   "nbconvert_exporter": "python",
   "pygments_lexer": "ipython3",
   "version": "3.11.3"
  },
  "latex_envs": {
   "bibliofile": "biblio.bib",
   "cite_by": "apalike",
   "current_citInitial": 1,
   "eqLabelWithNumbers": true,
   "eqNumInitial": 0
  },
  "toc": {
   "base_numbering": 1,
   "nav_menu": {},
   "number_sections": true,
   "sideBar": true,
   "skip_h1_title": false,
   "title_cell": "Table of Contents",
   "title_sidebar": "Contents",
   "toc_cell": false,
   "toc_position": {},
   "toc_section_display": true,
   "toc_window_display": false
  }
 },
 "nbformat": 4,
 "nbformat_minor": 0
}
