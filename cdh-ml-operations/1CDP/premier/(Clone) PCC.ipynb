{
 "cells": [
  {
   "cell_type": "markdown",
   "metadata": {
    "application/vnd.databricks.v1+cell": {
     "cellMetadata": {
      "byteLimit": 2048000,
      "rowLimit": 10000
     },
     "inputWidgets": {},
     "nuid": "f6decc6b-a411-48bf-a90c-e5b59a0cd7c4",
     "showTitle": false,
     "tableResultSettingsMap": {},
     "title": ""
    }
   },
   "source": [
    "## limit to only inpatients"
   ]
  },
  {
   "cell_type": "code",
   "execution_count": 0,
   "metadata": {
    "application/vnd.databricks.v1+cell": {
     "cellMetadata": {
      "byteLimit": 2048000,
      "rowLimit": 10000
     },
     "inputWidgets": {},
     "nuid": "43f75875-309a-4f69-87e1-bcccebf4e2f7",
     "showTitle": false,
     "tableResultSettingsMap": {},
     "title": ""
    }
   },
   "outputs": [],
   "source": [
    "import pandas as pd\n",
    "import numpy as np\n",
    "from pyspark.sql import functions as F\n",
    "from pyspark.sql.functions import countDistinct, col, row_number\n",
    "from pyspark.sql.window import Window   \n",
    "import re"
   ]
  },
  {
   "cell_type": "code",
   "execution_count": 0,
   "metadata": {
    "application/vnd.databricks.v1+cell": {
     "cellMetadata": {
      "byteLimit": 2048000,
      "rowLimit": 10000
     },
     "inputWidgets": {},
     "nuid": "7b2f0996-fdd5-4b61-b33d-6773fa09f3ef",
     "showTitle": false,
     "tableResultSettingsMap": {},
     "title": ""
    }
   },
   "outputs": [],
   "source": [
    "patdemo=spark.read.table(\"edav_prd_cdh.cdh_premier_1cdp_feasibility.patdemo\")\n",
    "paticd=spark.read.table(\"edav_prd_cdh.cdh_premier_1cdp_feasibility.paticd_diag\")\n",
    "patbill=spark.read.table(\"edav_prd_cdh.cdh_premier_1cdp_feasibility.patbill\")\n",
    "chgmstr=spark.read.table(\"edav_prd_cdh.cdh_premier_1cdp_feasibility.chgmstr\")\n",
    "distat=spark.read.table(\"edav_prd_cdh.cdh_premier_1cdp_feasibility.disstat\")\n",
    "labres=spark.read.table(\"edav_prd_cdh.cdh_premier_1cdp_feasibility.lab_res\")\n",
    "sdoh=spark.read.table(\"edav_prd_cdh.cdh_premier_1cdp_feasibility.pat_sdoh\")\n",
    "patproc=spark.read.table(\"edav_prd_cdh.cdh_premier_1cdp_feasibility.paticd_proc\")\n",
    "ccsrpcc=spark.read.table(\"edav_prd_cdh.cdh_reference_data.ccsr_pcs_codelist\")\n",
    "ccsrdx=spark.read.table(\"edav_prd_cdh.cdh_reference_data.ccsr_dx_codelist\")\n",
    "patcpt=spark.read.table(\"edav_prd_cdh.cdh_premier_1cdp_feasibility.patcpt\")\n",
    "cpt_desc=spark.read.table(\"edav_prd_cdh.cdh_premier_1cdp_feasibility.cptcode\")\n",
    "prov=spark.read.table(\"edav_prd_cdh.cdh_premier_1cdp_feasibility.providers\")\n",
    "prov_zip=spark.read.table(\"edav_prd_cdh.cdh_premier_1cdp_feasibility.prov_digit_zip\")\n",
    "vitals=spark.read.table(\"edav_prd_cdh.cdh_premier_1cdp_feasibility.vitals\")\n"
   ]
  },
  {
   "cell_type": "code",
   "execution_count": 0,
   "metadata": {
    "application/vnd.databricks.v1+cell": {
     "cellMetadata": {
      "byteLimit": 2048000,
      "rowLimit": 10000
     },
     "inputWidgets": {},
     "nuid": "3631bd57-24bf-45a6-ada5-b7c59ca68358",
     "showTitle": false,
     "tableResultSettingsMap": {},
     "title": ""
    }
   },
   "outputs": [],
   "source": [
    "provider=prov.join(prov_zip, on='PROV_ID', how='inner').select('PROV_ID', 'PROV_ZIP', 'TEACHING', 'BEDS_GRP', 'URBAN_RURAL')\n",
    "\n",
    "#provider.display()"
   ]
  },
  {
   "cell_type": "code",
   "execution_count": 0,
   "metadata": {
    "application/vnd.databricks.v1+cell": {
     "cellMetadata": {
      "byteLimit": 2048000,
      "rowLimit": 10000
     },
     "inputWidgets": {},
     "nuid": "ca7d4038-a3a2-4921-acaa-1f44a093dd74",
     "showTitle": false,
     "tableResultSettingsMap": {},
     "title": ""
    }
   },
   "outputs": [],
   "source": [
    "#Limiting data to facilities that have provide clinic information and patients with age greater than 17 the final table clin_patdemo will replace patdemo.\n",
    "\n",
    "clin_fac=patdemo.filter((patdemo.PAT_TYPE == 34) & (patdemo.AGE >=18)).select(patdemo.PAT_TYPE.alias('PAT_TYPE_CLINIC'), 'PROV_ID').distinct()\n",
    "\n",
    "\n",
    "clin_patdemo=patdemo.join(clin_fac, on='PROV_ID', how='inner')\n",
    "\n",
    "#clin_patdemo.display()"
   ]
  },
  {
   "cell_type": "code",
   "execution_count": 0,
   "metadata": {
    "application/vnd.databricks.v1+cell": {
     "cellMetadata": {
      "byteLimit": 2048000,
      "rowLimit": 10000
     },
     "inputWidgets": {},
     "nuid": "a3bd4ff0-6b57-425e-b3f6-27683e6c1e9b",
     "showTitle": false,
     "tableResultSettingsMap": {},
     "title": ""
    }
   },
   "outputs": [],
   "source": [
    "# filtering paticd and lab res tables for covid diagnosis and lab. filtering covid cohort to patients seen in either clinic, hospital or ED, finding how many covid diagnosis each patient has and determining first covid 19 visit.\n",
    "\n",
    "covid=(paticd.filter((paticd.ICD_CODE=='U07.1') & (paticd.ICD_PRI_SEC.isin(['P', 'S']))).select('PAT_KEY', paticd.ICD_CODE.alias('COV_DIAG')))\n",
    "\n",
    "cov_lab = labres.filter(\n",
    "    labres.LAB_TEST_DESC.isin([\n",
    "        'SARS coronavirus 2 RNA:PrThr:Pt:Respiratory:Ord:Probe.amp.tar',\n",
    "        'SARS coronavirus 2 RNA:PrThr:Pt:XXX:Ord:Probe.amp.tar'\n",
    "    ]) & \n",
    "    (labres.OBSERVATION.isin([\"positive\"]))\n",
    ").select('PAT_KEY', labres.OBSERVATION.alias('COV_LAB'))\n",
    "\n",
    "cov_pat=(covid.join(cov_lab, on='PAT_KEY', how='outer'))\n",
    "\n",
    "\n",
    "\n",
    "covid_cohort = (\n",
    "    clin_patdemo.join(cov_pat, on='PAT_KEY', how='inner')\n",
    "    .join(provider, on='PROV_ID', how='left')\n",
    "    .join(sdoh, on='PAT_KEY', how='left')\n",
    "    .select('MEDREC_KEY', 'PAT_KEY', 'ADMIT_DATE', 'DISCHARGE_DATE', \n",
    "            'PROV_ID', 'I_O_IND', 'PAT_TYPE', 'POINT_OF_ORIGIN', \n",
    "            'ADM_TYPE', 'DISC_STATUS', 'AGE', 'GENDER', \n",
    "            'RACE', 'HISPANIC_IND', 'STD_PAYOR', 'LOS',\n",
    "            'MART_STATUS', 'PROV_ZIP', 'TEACHING', 'BEDS_GRP', 'URBAN_RURAL',\n",
    "            'SVI_RPL_THEMES_ALL_CTGY', 'ACS_AVG_HH_SIZE_CTGY', 'ACS_GINI_INDEX_CTGY',\n",
    "            'ACS_MEDIAN_HH_INCOME_CTGY', 'ACS_EDUCATION_WGT_CTGY',\n",
    "             F.when((clin_patdemo['PAT_TYPE'] == 8) & (clin_patdemo['I_O_IND'] == 'I'),1).otherwise(0).alias('INP'))\n",
    "            .filter((clin_patdemo['PAT_TYPE'] == 8) & (clin_patdemo['I_O_IND'] == 'I') \n",
    "                    & (clin_patdemo.ADMIT_DATE >= '2024-06-01') & (clin_patdemo.ADMIT_DATE <= '2024-12-31')).distinct()) \n",
    "   \n",
    "\n",
    "cov_visit = covid_cohort.groupBy('MEDREC_KEY').count()\n",
    "\n",
    "cov_visit = cov_visit.withColumnRenamed('count', 'COV_COUNT')\n",
    "\n",
    "cov_cohort_1 = covid_cohort.join(cov_visit, on='MEDREC_KEY', how='left')\n",
    "\n",
    "fir_cov_1=cov_cohort_1.groupBy('MEDREC_KEY').agg(F.min(\"ADMIT_DATE\").alias('FIRST_COV'))\n",
    "\n",
    "fir_cov_1=fir_cov_1.join(cov_cohort_1, on='MEDREC_KEY', how='left')\\\n",
    "    .select('MEDREC_KEY', 'PAT_KEY', fir_cov_1.FIRST_COV, 'ADMIT_DATE', 'DISCHARGE_DATE', \n",
    "            'PROV_ID', 'I_O_IND', 'PAT_TYPE', 'POINT_OF_ORIGIN', \n",
    "            'ADM_TYPE', 'DISC_STATUS', 'AGE', 'GENDER', \n",
    "            'RACE', 'HISPANIC_IND', 'STD_PAYOR', 'LOS',\n",
    "            'MART_STATUS', 'PROV_ZIP', 'TEACHING', 'BEDS_GRP', 'URBAN_RURAL',\n",
    "            'SVI_RPL_THEMES_ALL_CTGY', 'ACS_AVG_HH_SIZE_CTGY', 'ACS_GINI_INDEX_CTGY',\n",
    "            'ACS_MEDIAN_HH_INCOME_CTGY', 'ACS_EDUCATION_WGT_CTGY', 'INP')\\\n",
    "    .filter(cov_cohort_1['ADMIT_DATE'] == fir_cov_1['FIRST_COV']).orderBy('MEDREC_KEY').distinct() #limiting to just initial covid visit during period\n",
    "\n",
    "\n",
    "fir_cov_1.orderBy('MEDREC_KEY').display()\n",
    "\n",
    "\n",
    "#remove shortest los of stay when patients have the 2 or more same admission date."
   ]
  },
  {
   "cell_type": "code",
   "execution_count": 0,
   "metadata": {
    "application/vnd.databricks.v1+cell": {
     "cellMetadata": {
      "byteLimit": 2048000,
      "rowLimit": 10000
     },
     "inputWidgets": {},
     "nuid": "5e5d7b3e-d49a-4c6d-b567-4499e745ad0b",
     "showTitle": false,
     "tableResultSettingsMap": {},
     "title": ""
    }
   },
   "outputs": [],
   "source": [
    "# Define window partitioned by ID, ordered by LOS descending\n",
    "window_spec = Window.partitionBy(\"MEDREC_KEY\").orderBy(col(\"LOS\").desc())\n",
    "\n",
    "# Add row number within each partition\n",
    "ranked_df = fir_cov_1.withColumn(\"rn\", row_number().over(window_spec))\n",
    "\n",
    "# Filter to only the top row per ID (i.e., the row with max LOS)\n",
    "fir_cov = ranked_df.filter(col(\"rn\") == 1).drop(\"rn\")"
   ]
  },
  {
   "cell_type": "code",
   "execution_count": 0,
   "metadata": {
    "application/vnd.databricks.v1+cell": {
     "cellMetadata": {
      "byteLimit": 2048000,
      "rowLimit": 10000
     },
     "inputWidgets": {},
     "nuid": "1268cc4d-4b72-42b6-99d5-9bd7f32d1096",
     "showTitle": false,
     "tableResultSettingsMap": {},
     "title": ""
    }
   },
   "outputs": [],
   "source": [
    "display(fir_cov)"
   ]
  },
  {
   "cell_type": "code",
   "execution_count": 0,
   "metadata": {
    "application/vnd.databricks.v1+cell": {
     "cellMetadata": {
      "byteLimit": 2048000,
      "rowLimit": 10000
     },
     "inputWidgets": {},
     "nuid": "b8bdf247-1ab9-4d73-ab0a-1233e3a229b4",
     "showTitle": false,
     "tableResultSettingsMap": {},
     "title": ""
    }
   },
   "outputs": [],
   "source": [
    "cov_count = fir_cov.select('MEDREC_KEY').distinct().count()\n",
    "\n",
    "print(cov_count)"
   ]
  },
  {
   "cell_type": "markdown",
   "metadata": {
    "application/vnd.databricks.v1+cell": {
     "cellMetadata": {
      "byteLimit": 2048000,
      "rowLimit": 10000
     },
     "inputWidgets": {},
     "nuid": "681e8fa0-3315-41da-b933-095aa14ac820",
     "showTitle": false,
     "tableResultSettingsMap": {},
     "title": ""
    }
   },
   "source": [
    "**PRIOR VISIT & FOLLOW UP**"
   ]
  },
  {
   "cell_type": "code",
   "execution_count": 0,
   "metadata": {
    "application/vnd.databricks.v1+cell": {
     "cellMetadata": {
      "byteLimit": 2048000,
      "rowLimit": 10000
     },
     "inputWidgets": {},
     "nuid": "1e16fe61-d004-47af-8f6a-af3d3ad761b0",
     "showTitle": false,
     "tableResultSettingsMap": {},
     "title": ""
    }
   },
   "outputs": [],
   "source": [
    "#determining who had a visit within the year prior (date and patkey PR) to their first covid visit\n",
    "\n",
    "patdemo_so=patdemo.select('MEDREC_KEY',  patdemo.PAT_KEY.alias('PAT_KEY_PR'), patdemo.ADMIT_DATE.alias('ADMIT_DATE_PR')).filter((patdemo.PAT_TYPE.isin(8, 28, 34)))\n",
    "\n",
    "loc_bac=fir_cov.join(patdemo_so, on='MEDREC_KEY', how='inner').select('MEDREC_KEY', 'PAT_KEY', 'ADMIT_DATE', 'PAT_KEY_PR', 'ADMIT_DATE_PR', 'FIRST_COV', (F.col(\"FIRST_COV\") - F.lit(365)).alias('YEAR_PRIOR'))\n",
    "\n",
    "prior_vis=loc_bac.select('MEDREC_KEY', 'PAT_KEY_PR', 'ADMIT_DATE_PR', 'YEAR_PRIOR',\n",
    " F.when((loc_bac['ADMIT_DATE_PR'] >= loc_bac['YEAR_PRIOR']) & (loc_bac['ADMIT_DATE_PR'] < loc_bac['FIRST_COV']), 1).otherwise(0).alias('PRIOR_YR')).orderBy('MEDREC_KEY')\n",
    "\n",
    "prior_vis_1=prior_vis.filter(prior_vis['PRIOR_YR'] == 1).distinct()\n",
    "\n",
    "#prior_vis_1.orderBy('MEDREC_KEY') .show()"
   ]
  },
  {
   "cell_type": "code",
   "execution_count": 0,
   "metadata": {
    "application/vnd.databricks.v1+cell": {
     "cellMetadata": {
      "byteLimit": 2048000,
      "rowLimit": 10000
     },
     "inputWidgets": {},
     "nuid": "b402982f-ba2e-4902-ae58-a4bfe7d1af68",
     "showTitle": false,
     "tableResultSettingsMap": {},
     "title": ""
    }
   },
   "outputs": [],
   "source": [
    "pr_count = prior_vis_1.select('MEDREC_KEY').distinct().count()\n",
    "\n",
    "print(pr_count)"
   ]
  },
  {
   "cell_type": "code",
   "execution_count": 0,
   "metadata": {
    "application/vnd.databricks.v1+cell": {
     "cellMetadata": {
      "byteLimit": 2048000,
      "rowLimit": 10000
     },
     "inputWidgets": {},
     "nuid": "096efa63-1a10-4be1-bc41-9425cadd6a41",
     "showTitle": false,
     "tableResultSettingsMap": {},
     "title": ""
    }
   },
   "outputs": [],
   "source": [
    "#limiting our cohort to those with a first covid visit between 2022-01-01 and 2023-12-31 and labeling any inpatient covid visits\n",
    "\n",
    "cov_cohort_fin=fir_cov.join(prior_vis_1, on='MEDREC_KEY', how='inner') \n",
    "  #  .filter((fir_cov.FIRST_COV >= '2022-01-01') & (fir_cov.FIRST_COV <= '2023-12-31'))\n",
    "\n",
    "\n",
    "#Inpat=Cov_Cohort_2.groupBy('MEDREC_KEY').agg(F.max('INP').alias('INPATIENT'))\n",
    "\n",
    "\n",
    "#cov_cohort_fin=Cov_Cohort_2.join(Inpat, on='MEDREC_KEY', how='inner')\n",
    "\n",
    "\n",
    "#display(Cov_Cohort_fin)"
   ]
  },
  {
   "cell_type": "code",
   "execution_count": 0,
   "metadata": {
    "application/vnd.databricks.v1+cell": {
     "cellMetadata": {
      "byteLimit": 2048000,
      "rowLimit": 10000
     },
     "inputWidgets": {},
     "nuid": "1fd1681e-52e1-445b-ab02-8a124e1272f9",
     "showTitle": false,
     "tableResultSettingsMap": {},
     "title": ""
    }
   },
   "outputs": [],
   "source": [
    "fir_count = cov_cohort_fin.select('MEDREC_KEY').distinct().count()\n",
    "\n",
    "print(fir_count)"
   ]
  },
  {
   "cell_type": "code",
   "execution_count": 0,
   "metadata": {
    "application/vnd.databricks.v1+cell": {
     "cellMetadata": {
      "byteLimit": 2048000,
      "rowLimit": 10000
     },
     "inputWidgets": {},
     "nuid": "e605fe40-0cda-4933-a5ea-c86d0fbaf1dd",
     "showTitle": false,
     "tableResultSettingsMap": {},
     "title": ""
    }
   },
   "outputs": [],
   "source": [
    "#determing follow up patients and limiting the cohort to follow up between 91 and FO65 days\n",
    "\n",
    "patdemo_fo=patdemo.select('MEDREC_KEY',  patdemo.PAT_KEY.alias('PAT_KEY_FO'), patdemo.ADMIT_DATE.alias('ADMIT_DATE_FO')).filter((patdemo.PAT_TYPE.isin(8, 28, 34)))\n",
    "\n",
    "loc_fo=cov_cohort_fin.join(patdemo_fo, on='MEDREC_KEY', how='inner').select('MEDREC_KEY', 'PAT_KEY', 'ADMIT_DATE', 'PAT_KEY_FO', 'ADMIT_DATE_FO', 'FIRST_COV', (F.col(\"FIRST_COV\") + F.lit(365)).alias('YEAR_FO'))\n",
    "\n",
    "fo_vis=loc_fo.select('MEDREC_KEY', 'PAT_KEY_FO', 'ADMIT_DATE_FO', 'YEAR_FO', 'FIRST_COV',\n",
    " F.when((loc_fo['ADMIT_DATE_FO'] <= loc_fo['YEAR_FO']) & (loc_fo['ADMIT_DATE_FO'] > loc_fo['FIRST_COV']), 1).otherwise(0).alias('FO_YR')).orderBy('MEDREC_KEY')\n",
    "   \n",
    "\n",
    "fo_vis_1=fo_vis.filter(fo_vis['FO_YR'] == 1)\\\n",
    "    .withColumn('FO_TIME', F.datediff(fo_vis['ADMIT_DATE_FO'], fo_vis['FIRST_COV']))\\\n",
    "    .distinct()\n",
    "\n",
    "#fo_vis_1.orderBy('MEDREC_KEY') .show()\n",
    "\n",
    "\n",
    "prior_fo=cov_cohort_fin.join(fo_vis_1, on='MEDREC_KEY', how='inner').drop(fo_vis_1.FIRST_COV).filter((fo_vis_1['FO_TIME'] > 90) & ((fo_vis_1['FO_TIME'] <= 365))).distinct()\n",
    "\n",
    "\n",
    "#prior_fo.orderBy('MEDREC_KEY') .display()\n",
    "                                                                                                                                              "
   ]
  },
  {
   "cell_type": "code",
   "execution_count": 0,
   "metadata": {
    "application/vnd.databricks.v1+cell": {
     "cellMetadata": {
      "byteLimit": 2048000,
      "rowLimit": 10000
     },
     "inputWidgets": {},
     "nuid": "cf6c5bb1-d337-47d3-b4ef-a72033e07269",
     "showTitle": false,
     "tableResultSettingsMap": {},
     "title": ""
    }
   },
   "outputs": [],
   "source": [
    "prior_fo.display()"
   ]
  },
  {
   "cell_type": "code",
   "execution_count": 0,
   "metadata": {
    "application/vnd.databricks.v1+cell": {
     "cellMetadata": {
      "byteLimit": 2048000,
      "rowLimit": 10000
     },
     "inputWidgets": {},
     "nuid": "baf47a70-99ce-4db3-830b-94d5b2643d2d",
     "showTitle": false,
     "tableResultSettingsMap": {},
     "title": ""
    }
   },
   "outputs": [],
   "source": [
    "prior_vis_1.display()"
   ]
  },
  {
   "cell_type": "code",
   "execution_count": 0,
   "metadata": {
    "application/vnd.databricks.v1+cell": {
     "cellMetadata": {
      "byteLimit": 2048000,
      "rowLimit": 10000
     },
     "inputWidgets": {},
     "nuid": "6e7aa7c0-18f7-40e4-bd04-1333b56a6fb1",
     "showTitle": false,
     "tableResultSettingsMap": {},
     "title": ""
    }
   },
   "outputs": [],
   "source": [
    "fo_vis_1.display()"
   ]
  },
  {
   "cell_type": "code",
   "execution_count": 0,
   "metadata": {
    "application/vnd.databricks.v1+cell": {
     "cellMetadata": {
      "byteLimit": 2048000,
      "rowLimit": 10000
     },
     "inputWidgets": {},
     "nuid": "21d619f8-9a27-4c21-a38c-f76f7a3c822d",
     "showTitle": false,
     "tableResultSettingsMap": {},
     "title": ""
    }
   },
   "outputs": [],
   "source": [
    "fo_count = prior_fo.select('MEDREC_KEY').distinct().count()\n",
    "\n",
    "print(fo_count)"
   ]
  },
  {
   "cell_type": "markdown",
   "metadata": {
    "application/vnd.databricks.v1+cell": {
     "cellMetadata": {
      "byteLimit": 2048000,
      "rowLimit": 10000
     },
     "inputWidgets": {},
     "nuid": "af66b049-04b0-4ce7-a492-a88edc4d5a5c",
     "showTitle": false,
     "tableResultSettingsMap": {},
     "title": ""
    }
   },
   "source": [
    "chargemaster procedures"
   ]
  },
  {
   "cell_type": "code",
   "execution_count": 0,
   "metadata": {
    "application/vnd.databricks.v1+cell": {
     "cellMetadata": {
      "byteLimit": 2048000,
      "rowLimit": 10000
     },
     "inputWidgets": {},
     "nuid": "b18fbfee-4e55-487a-b415-f200dacc79f6",
     "showTitle": false,
     "tableResultSettingsMap": {},
     "title": ""
    }
   },
   "outputs": [],
   "source": [
    "charge_all = patbill.join(chgmstr, on='STD_CHG_CODE',how='inner')\n",
    "              \n",
    "prior_fo_chg = prior_fo.join(charge_all, on='PAT_KEY', how='left')\n",
    "\n",
    "\n",
    "#display(prior_fo_chg)"
   ]
  },
  {
   "cell_type": "code",
   "execution_count": 0,
   "metadata": {
    "application/vnd.databricks.v1+cell": {
     "cellMetadata": {
      "byteLimit": 2048000,
      "rowLimit": 10000
     },
     "inputWidgets": {},
     "nuid": "51914c46-b8c4-4d0a-bea0-a3a2be9c3f72",
     "showTitle": false,
     "tableResultSettingsMap": {},
     "title": ""
    }
   },
   "outputs": [],
   "source": [
    "clin_sum =prior_fo_chg.groupBy('CLIN_SUM_CODE','CLIN_SUM_DESC') \\\n",
    "                   .agg(countDistinct('MEDREC_KEY').alias('distinct_medrec_count'))\n",
    "\n",
    "#display(clin_sum)"
   ]
  },
  {
   "cell_type": "code",
   "execution_count": 0,
   "metadata": {
    "application/vnd.databricks.v1+cell": {
     "cellMetadata": {
      "byteLimit": 2048000,
      "rowLimit": 10000
     },
     "inputWidgets": {},
     "nuid": "7ee998ea-8e86-48d9-b33a-5a7199a61398",
     "showTitle": false,
     "tableResultSettingsMap": {},
     "title": ""
    }
   },
   "outputs": [],
   "source": [
    "df_with_cumsum = (\n",
    "    clin_sum.withColumn('percent', F.col('distinct_medrec_count') / F.lit(fo_count)))\n",
    "\n",
    "#df_with_cumsum.display()"
   ]
  },
  {
   "cell_type": "code",
   "execution_count": 0,
   "metadata": {
    "application/vnd.databricks.v1+cell": {
     "cellMetadata": {
      "byteLimit": 2048000,
      "rowLimit": 10000
     },
     "inputWidgets": {},
     "nuid": "5140390f-9dbb-49a1-8d15-aa4e338b31bf",
     "showTitle": false,
     "tableResultSettingsMap": {},
     "title": ""
    }
   },
   "outputs": [],
   "source": [
    "# Filter to keep only rows within top 95% of cumulative total\n",
    "clin_sum_inc =['SMOKING DETERRENTS TOPICAL', 'RESPIRATORY VENTILATION SERVICES', 'BRONCHODILATORS GEN ORAL', 'ANTIVIRALS, OTHER ORAL', 'IMMUNOSUP/TRANSPLANT AGENTS ORAL', 'VACCINES, PARENTERAL', 'SURGERY RESPIRATORY LARYNX', 'SURGERY RESPIRATORY LUNG/PLEURA', 'IMMUNOMODULATORS PARENTERAL', 'SURGERY RESPIRATORY TRACHEA/BRONCHI', 'COVID-19 VISITS/TRACKING', 'RESPIRATORY, MISC OTHER', 'RESPIRATORY SUCTIONING PROCEDURES', 'VACCINES, OTHER', 'RESPIRATORY, MISC ORAL', 'SMOKING DETERRENTS ORAL', 'RESPIRATORY EQUIPMENT SERVICES', 'OXYGEN THERAPY SERVICES', 'IMMUNOSUP/TRANSPLANT AGENTS PARENTERAL', 'SMOKING DETERRENTS OTHER', 'IMMUNOSUP/TRANSPLANT AGENTS OTHER', 'BLOOD PRODUCT COVID19 PROCESSING & ADMINISTRATION', 'BLOOD PRODUCTS COVID19', 'EMERGENCY SERVICES COVID19', 'IMMUNOMODULATORS ORAL', 'ANTIVIRALS, OTHER OTHER', 'IMMUNOLOGIC AGENTS, MISC PARENTERAL', 'IMMUNOLOGIC AGENTS, MISC OTHER']\n",
    "\n",
    "df_top_95 = df_with_cumsum.filter((F.col('percent') >= 0.05) | (F.col('CLIN_SUM_DESC').isin(clin_sum_inc)))\n",
    "\n",
    "df_top_95.display()"
   ]
  },
  {
   "cell_type": "code",
   "execution_count": 0,
   "metadata": {
    "application/vnd.databricks.v1+cell": {
     "cellMetadata": {
      "byteLimit": 2048000,
      "rowLimit": 10000
     },
     "inputWidgets": {},
     "nuid": "810a89d7-56eb-4f5c-b988-24536151ce19",
     "showTitle": false,
     "tableResultSettingsMap": {},
     "title": ""
    }
   },
   "outputs": [],
   "source": [
    "chg_red=chgmstr.join(df_top_95, on='CLIN_SUM_CODE', how='inner')\\\n",
    "    .select('STD_CHG_CODE', 'CLIN_SUM_CODE', df_top_95.CLIN_SUM_DESC)\n",
    "\n",
    "\n",
    "chg_red_bil = patbill.join(chg_red, on='STD_CHG_CODE', how='inner')\\\n",
    "    .select('PAT_KEY', 'STD_CHG_CODE', 'CLIN_SUM_DESC')\n",
    "\n",
    "chg_red_cov=prior_fo.join(chg_red_bil, on='PAT_KEY', how='left')\\\n",
    "    .select('PAT_KEY', 'CLIN_SUM_DESC',\n",
    "             F.when(F.col('CLIN_SUM_DESC')!='NULL', 1).otherwise(0).alias('CHARGE')).distinct()\n",
    "\n",
    "#chg_red_cov.display()"
   ]
  },
  {
   "cell_type": "code",
   "execution_count": 0,
   "metadata": {
    "application/vnd.databricks.v1+cell": {
     "cellMetadata": {
      "byteLimit": 2048000,
      "rowLimit": 10000
     },
     "inputWidgets": {},
     "nuid": "623f7584-2475-4831-bc97-a008ea3d3f7b",
     "showTitle": false,
     "tableResultSettingsMap": {},
     "title": ""
    }
   },
   "outputs": [],
   "source": [
    "trans_chg_cov = chg_red_cov.groupBy(\"PAT_KEY\").pivot(\"CLIN_SUM_DESC\").agg(F.first(\"CHARGE\"))\n",
    "trans_chg_cov = trans_chg_cov.fillna(0)\n",
    "#trans_chg_cov.display()"
   ]
  },
  {
   "cell_type": "code",
   "execution_count": 0,
   "metadata": {
    "application/vnd.databricks.v1+cell": {
     "cellMetadata": {
      "byteLimit": 2048000,
      "rowLimit": 10000
     },
     "inputWidgets": {},
     "nuid": "012ee52a-2812-4a36-8109-27481f13f734",
     "showTitle": false,
     "tableResultSettingsMap": {},
     "title": ""
    }
   },
   "outputs": [],
   "source": [
    "chg_comb = trans_chg_cov.select('PAT_KEY',\n",
    "    F.when(\n",
    "        (F.col('SMOKING DETERRENTS TOPICAL') == 1) |\n",
    "        (F.col('SMOKING DETERRENTS ORAL') == 1),\n",
    "        #|(F.col('SMOKING DETERRENTS OTHER') == 1),\n",
    "        1\n",
    "    ).otherwise(0).alias('SMOKING DETERRENTS'),\n",
    "   \n",
    "   F.when(\n",
    "        (F.col('ANTIVIRALS, OTHER ORAL') == 1) |\n",
    "        #(F.col('ANTIVIRALS, OTHER OTHER') == 1) |\n",
    "        (F.col('ANTIVIRALS, OTHER PARENTERAL') == 1),\n",
    "        1\n",
    "    ).otherwise(0).alias('ANTIVIRALS'),\n",
    "   \n",
    "   F.when(\n",
    "        (F.col('IMMUNOSUP/TRANSPLANT AGENTS ORAL') == 1) |\n",
    "        (F.col('IMMUNOMODULATORS PARENTERAL') == 1) |\n",
    "        (F.col('IMMUNOSUP/TRANSPLANT AGENTS PARENTERAL') == 1) |\n",
    "       # (F.col('IMMUNOSUP/TRANSPLANT AGENTS OTHER') == 1) |\n",
    "        (F.col('IMMUNOMODULATORS ORAL') == 1) \n",
    "       # | (F.col('IMMUNOLOGIC AGENTS, MISC OTHER') == 1) |\n",
    "        #(F.col('IMMUNOLOGIC AGENTS, MISC PARENTERAL') == 1)\n",
    "        ,\n",
    "        1\n",
    "    ).otherwise(0).alias('IMMUNOSUP/IMMUNOMODULATORS'),\n",
    "  \n",
    "   F.when(\n",
    "        (F.col('VACCINES, PARENTERAL') == 1) |\n",
    "        (F.col('VACCINES, OTHER') == 1),\n",
    "        1\n",
    "    ).otherwise(0).alias('VACCINES'),\n",
    "    \n",
    "   F.when(\n",
    "        (F.col('BLOOD PRODUCT PROCESSING & ADMINISTRATION') == 1) |\n",
    "        #(F.col('BLOOD RELATED PRODUCTS PARENTERAL') == 1) |\n",
    "        (F.col('BLOOD PRODUCT COVID19 PROCESSING & ADMINISTRATION') == 1) |\n",
    "        (F.col('BLOOD PRODUCTS COVID19') == 1),\n",
    "        1\n",
    "    ).otherwise(0).alias('BLOOD PRODUCTS'),\n",
    "    \n",
    "   F.when(\n",
    "        #(F.col('EMERGENCY SERVICES COVID19') == 1) |\n",
    "        (F.col('EMERGENCY SERVICES') == 1),\n",
    "        1\n",
    "    ).otherwise(0).alias('EMERGENCY SERVICES'))\n",
    "\n",
    "chg_comb.show()"
   ]
  },
  {
   "cell_type": "code",
   "execution_count": 0,
   "metadata": {
    "application/vnd.databricks.v1+cell": {
     "cellMetadata": {
      "byteLimit": 2048000,
      "rowLimit": 10000
     },
     "inputWidgets": {},
     "nuid": "b546690c-0bbc-463a-b348-ad1b4025c272",
     "showTitle": false,
     "tableResultSettingsMap": {},
     "title": ""
    }
   },
   "outputs": [],
   "source": [
    "chg_fin = chg_comb.join(trans_chg_cov, on='PAT_KEY', how='left')\\\n",
    "    .drop('SMOKING DETERRENTS TOPICAL',\n",
    "     'SMOKING DETERRENTS ORAL',\n",
    "     'SMOKING DETERRENTS OTHER',\n",
    "     'ANTIVIRALS, OTHER ORAL',\n",
    "     'ANTIVIRALS, OTHER OTHER',\n",
    "     'ANTIVIRALS, OTHER PARENTERAL',\n",
    "     'IMMUNOSUP/TRANSPLANT AGENTS ORAL',\n",
    "     'IMMUNOMODULATORS PARENTERAL',\n",
    "     'IMMUNOSUP/TRANSPLANT AGENTS PARENTERAL',\n",
    "     'IMMUNOSUP/TRANSPLANT AGENTS OTHER',\n",
    "     'IMMUNOMODULATORS ORAL',\n",
    "     'IMMUNOLOGIC AGENTS, MISC PARENTERAL',\n",
    "     'IMMUNOLOGIC AGENTS, MISC OTHER',\n",
    "     'VACCINES, PARENTERAL',\n",
    "     'VACCINES, OTHER',\n",
    "     'BLOOD PRODUCT PROCESSING & ADMINISTRATION',\n",
    "     'BLOOD RELATED PRODUCTS PARENTERAL',\n",
    "     'BLOOD PRODUCT COVID19 PROCESSING & ADMINISTRATION',\n",
    "     'BLOOD PRODUCTS COVID19',\n",
    "     'EMERGENCY SERVICES',\n",
    "     'EMERGENCY SERVICES COVID19')\n"
   ]
  },
  {
   "cell_type": "code",
   "execution_count": 0,
   "metadata": {
    "application/vnd.databricks.v1+cell": {
     "cellMetadata": {
      "byteLimit": 2048000,
      "rowLimit": 10000
     },
     "inputWidgets": {},
     "nuid": "d2e30193-95b4-474b-90ff-eb7ac8a11e06",
     "showTitle": false,
     "tableResultSettingsMap": {},
     "title": ""
    }
   },
   "outputs": [],
   "source": [
    "chg_fin.display()"
   ]
  },
  {
   "cell_type": "code",
   "execution_count": 0,
   "metadata": {
    "application/vnd.databricks.v1+cell": {
     "cellMetadata": {
      "byteLimit": 2048000,
      "rowLimit": 10000
     },
     "inputWidgets": {},
     "nuid": "f3fc9129-ddaf-43f8-b852-e4d06386bb2c",
     "showTitle": false,
     "tableResultSettingsMap": {},
     "title": ""
    }
   },
   "outputs": [],
   "source": [
    "chg_fin_2=prior_fo.join(chg_fin, on='PAT_KEY', how='left')\n"
   ]
  },
  {
   "cell_type": "code",
   "execution_count": 0,
   "metadata": {
    "application/vnd.databricks.v1+cell": {
     "cellMetadata": {
      "byteLimit": 2048000,
      "rowLimit": 10000
     },
     "inputWidgets": {},
     "nuid": "016a2162-c01d-4cd7-86f5-c1aa4946b6c1",
     "showTitle": false,
     "tableResultSettingsMap": {},
     "title": ""
    }
   },
   "outputs": [],
   "source": [
    "\n",
    "chg_fin_2.display()"
   ]
  },
  {
   "cell_type": "markdown",
   "metadata": {
    "application/vnd.databricks.v1+cell": {
     "cellMetadata": {
      "byteLimit": 2048000,
      "rowLimit": 10000
     },
     "inputWidgets": {},
     "nuid": "62b182d4-1423-4662-a9c2-1227eeba218a",
     "showTitle": false,
     "tableResultSettingsMap": {},
     "title": ""
    }
   },
   "source": [
    "CPT procedures"
   ]
  },
  {
   "cell_type": "markdown",
   "metadata": {
    "application/vnd.databricks.v1+cell": {
     "cellMetadata": {
      "byteLimit": 2048000,
      "rowLimit": 10000
     },
     "inputWidgets": {},
     "nuid": "0bcd1cdf-4370-4cc4-91ad-90f4775d73fa",
     "showTitle": false,
     "tableResultSettingsMap": {},
     "title": ""
    }
   },
   "source": [
    "CCSR: \n",
    "\n",
    "Cardiovascular/ Renal: Circulatory system disorders (cardiomyopathies, cardiac arrhythmia, stroke – ischemis or unspecified, stroke – hemorrhagic), blood and hematologic disorders (pulmonary embolism, deep vein thrombosis, hematologic disorders), Renal disorders (chronic kidney disease) \n",
    "\n",
    "Neurologic: Mental disorders (Phychotic disorder, anxiety, depression or mood disorder), Sleep disorders, Neurological or nervous system disorders (ataxia/movement disorders, myoneural disorders, encephalitis, parkinsons or extrapyramidal syndromes, peripheral neuropathy, encephalopathy, autonomic dysfunction, amnesia/memory difficulty, dementia, seizures, delirium),  \n",
    "\n",
    "Metabolic: Endocrine and metabolic disorders (Thyroid disese, diabetes type I or II),\n",
    "\n",
    "Respiratory: Respiratory Disorders (hypoxemia, interstitial lung disease, pulmonary edema, abnormal breathing/dyspnea, respiratory symptoms/cough, chest/throat pain, bronchitis)\n",
    "\n",
    "General: Symptoms (fever/malaise/fatigue, lymphadenopathy, weight loss, body ache/myalgia, headache, vertigo), \n",
    "\n",
    "Digestive: Gastrointestinal disorders (nausea/vomiting, changes in bowel habits, abdominal or pelvic pain)\n"
   ]
  },
  {
   "cell_type": "markdown",
   "metadata": {
    "application/vnd.databricks.v1+cell": {
     "cellMetadata": {
      "byteLimit": 2048000,
      "rowLimit": 10000
     },
     "inputWidgets": {},
     "nuid": "a4d16c20-31e7-48d2-a786-019fa7a7714b",
     "showTitle": false,
     "tableResultSettingsMap": {},
     "title": ""
    }
   },
   "source": [
    "PCC Conditions ICD 10"
   ]
  },
  {
   "cell_type": "code",
   "execution_count": 0,
   "metadata": {
    "application/vnd.databricks.v1+cell": {
     "cellMetadata": {
      "byteLimit": 2048000,
      "rowLimit": 10000
     },
     "inputWidgets": {},
     "nuid": "13d9ab62-091d-4dcc-b3c9-1d825a01dae8",
     "showTitle": false,
     "tableResultSettingsMap": {},
     "title": ""
    }
   },
   "outputs": [],
   "source": [
    "#post covid codes of interest for study. limiting paticd table to just these icd codes, fuzzy matching.\n",
    "\n",
    "Pcc_codes=['E10', 'E11', 'E03', 'E06', 'I63', 'I64', 'I69', 'G45', 'G46', 'I60', 'I61', 'I62', 'R00', 'I47', 'I48', 'I49', 'I30', 'I40', 'I51.4', 'B33', 'I51.81', 'D72.81', 'D69', 'I82', 'I26', 'J84', 'J20', 'J40', 'J41', 'J42', 'J81', 'R06', 'R07', 'R05', 'R09.02', 'F40', 'F41', 'F42', 'F43', 'F44', 'F45', 'F48', 'R45', 'F20', 'F21', 'F22', 'F23', 'F24', 'F25', 'F28', 'F29', 'F30', 'F31', 'F32', 'F33', 'F34', 'F38', 'F39', 'G50', 'G51', 'G52', 'G53', 'G54', 'G55', 'G56', 'G57', 'G58', 'G59', 'G61', 'G62', 'G64', 'G65', 'R40.0', 'R44', 'G40', 'G41', 'F01', 'F02', 'F03', 'G31', 'F05', 'G72', 'M60', 'G26', 'R26', 'R27', 'I95.1', 'G90', 'R55', 'G21', 'G24', 'G25', 'A85', 'A86', 'G04', 'G05', 'R29', 'R41', 'N18', 'N19', 'R10', 'K58', 'K59', 'A08', 'A09', 'R19.4', 'R19.7', 'R11', 'G43', 'G44', 'R51', 'M02', 'M25', 'M79', 'R50', 'R61', 'R53', 'G93.3', 'R59', 'R63', 'R64', 'A88', 'H81', 'R42', 'R20', 'B09', 'R21', 'R23', 'L63', 'L65', 'H90', 'H91', 'H92', 'H93', 'J31', 'R43', 'R13', 'H53', 'H54', 'G47', 'F51', 'U07.1', 'J12.82', 'B97.29', 'B34.2', 'M35.81', 'B94', 'U09.9']\n",
    "\n",
    "\n",
    "pat_pcc_code = paticd.select(\n",
    "    paticd.PAT_KEY.alias('PAT_KEY_COND'), \n",
    "    'ICD_CODE', \n",
    "    F.when(F.col(\"ICD_CODE\").rlike(\"|\".join(Pcc_codes)), 1).otherwise(0).alias('PCC_CODE'))\\\n",
    ".filter(F.col('PCC_CODE')==1)\n",
    "\n",
    "#display(pat_pcc_code)"
   ]
  },
  {
   "cell_type": "code",
   "execution_count": 0,
   "metadata": {
    "application/vnd.databricks.v1+cell": {
     "cellMetadata": {
      "byteLimit": 2048000,
      "rowLimit": 10000
     },
     "inputWidgets": {},
     "nuid": "353f840b-07b5-4914-b9bd-522b8c54297a",
     "showTitle": false,
     "tableResultSettingsMap": {},
     "title": ""
    }
   },
   "outputs": [],
   "source": [
    "\n",
    "\n",
    "pat_cond1=prior_fo.join(pat_pcc_code, prior_fo['PAT_KEY'] == pat_pcc_code['PAT_KEY_COND'], how='left')\\\n",
    "    .select('MEDREC_KEY', 'PAT_KEY', 'ADMIT_DATE', 'PCC_CODE', 'ICD_CODE')\\\n",
    "        .distinct()\n",
    "\n",
    "pat_cond1_1=pat_cond1.groupBy(\"MEDREC_KEY\").agg(F.collect_list(\"ICD_CODE\").alias(\"ICD_COV\")).orderBy('MEDREC_KEY')\n",
    "\n",
    "\n",
    "pat_cond2=prior_fo.join(pat_pcc_code, prior_fo['PAT_KEY_PR'] == pat_pcc_code['PAT_KEY_COND'], how='left')\\\n",
    "    .select('MEDREC_KEY', 'PAT_KEY_PR', 'ADMIT_DATE_PR',  'PCC_CODE', 'ICD_CODE')\\\n",
    "        .distinct()\n",
    "\n",
    "pat_cond2_1=pat_cond2.groupBy(\"MEDREC_KEY\").agg(F.collect_list(\"ICD_CODE\").alias(\"ICD_PR\")).orderBy('MEDREC_KEY')\n",
    "\n",
    "\n",
    "\n",
    "pat_cond3=prior_fo.join(pat_pcc_code, prior_fo['PAT_KEY_FO'] == pat_pcc_code['PAT_KEY_COND'], how='left')\\\n",
    "    .select('MEDREC_KEY', 'PAT_KEY_FO', 'ADMIT_DATE_FO', 'PCC_CODE', 'ICD_CODE', 'FO_TIME')\\\n",
    "        .distinct()\n",
    "\n",
    "pat_cond3_1=pat_cond3.groupBy(\"MEDREC_KEY\", \"FO_TIME\").agg(F.collect_list(\"ICD_CODE\").alias(\"ICD_FO\")).orderBy('MEDREC_KEY')\n",
    "\n",
    "\n",
    "pat_cond_fin=pat_cond1_1.join(pat_cond2_1, on='MEDREC_KEY', how='left')\\\n",
    "    .join(pat_cond3_1, on='MEDREC_KEY', how='left')\\\n",
    "    .select('MEDREC_KEY', 'ICD_COV', 'ICD_PR', 'ICD_FO', 'FO_TIME')\\\n",
    "    .orderBy('MEDREC_KEY')\\\n",
    "    .distinct()\n",
    "\n",
    "pat_cond_fin.display()\n"
   ]
  },
  {
   "cell_type": "code",
   "execution_count": 0,
   "metadata": {
    "application/vnd.databricks.v1+cell": {
     "cellMetadata": {
      "byteLimit": 2048000,
      "rowLimit": 10000
     },
     "inputWidgets": {},
     "nuid": "d171f9be-86a9-4a4e-ba94-4451ab9d62ff",
     "showTitle": false,
     "tableResultSettingsMap": {},
     "title": ""
    }
   },
   "outputs": [],
   "source": [
    "con_count = pat_cond_fin.select('MEDREC_KEY').distinct().count()\n",
    "\n",
    "print(con_count)"
   ]
  },
  {
   "cell_type": "code",
   "execution_count": 0,
   "metadata": {
    "application/vnd.databricks.v1+cell": {
     "cellMetadata": {
      "byteLimit": 2048000,
      "rowLimit": 10000
     },
     "inputWidgets": {},
     "nuid": "063e9372-a32e-4198-88f5-f4863794318a",
     "showTitle": false,
     "tableResultSettingsMap": {},
     "title": ""
    }
   },
   "outputs": [],
   "source": [
    "#Cardiovscular / Renal Disorder\n",
    "card_ren = ['I63', 'I64', 'I69', 'G45', 'G46', 'I60', 'I61', 'I62', 'R00', 'I47', 'I48', 'I49', 'I30', 'I40', 'I51.4', 'B33', 'I51.81', 'D72.81', 'D69', 'I82', 'I26', 'N18', 'N19']\n",
    "\n",
    "#Neurologic\n",
    "neuro = ['G50', 'G51', 'G52', 'G53', 'G54', 'G55', 'G56', 'G57', 'G58', 'G59', 'G61', 'G62', 'G64', 'G65', 'R40.0', 'R44', 'G40', 'G41', 'F01', 'F02', 'F03', 'G31', 'F05', 'G72', 'M60', 'G26', 'R26', 'R27', 'I95.1', 'G90', 'R55', 'G21', 'G24', 'G25','A85', 'A86', 'G04', 'G05', 'R29', 'R41', 'F40', 'F41', 'F42', 'F43', 'F44', 'F45', 'F48', 'R45', 'F20', 'F21', 'F22', 'F23', 'F24', 'F25', 'F28', 'F29', 'F30', 'F31', 'F32', 'F33', 'F34', 'F38', 'F39', 'G47', 'F51']\n",
    "\n",
    "#Metabolic\n",
    "metab = ['E10', 'E11', 'E03', 'E06']\n",
    "\n",
    "#Respiratory\n",
    "resp = ['J84', 'J20', 'J40', 'J41', 'J42', 'J81', 'R06', 'R07', 'R05', 'R09.02']\n",
    "\n",
    "#General\n",
    "gen = ['G43', 'G44', 'R51', 'M02', 'M25', 'M79', 'R50', 'R61', 'R53', 'G93.3', 'R59', 'R63', 'R64', 'A88', 'H81', 'R42']\n",
    "\n",
    "#Digestive\n",
    "dige = ['R10', 'K58', 'K59', 'A08', 'A09', 'R19.4', 'R19.7', 'R11']\n",
    "\n",
    "#COVID\n",
    "covid=['U07.1', 'J12.82', 'B97.29', 'B34.2']"
   ]
  },
  {
   "cell_type": "code",
   "execution_count": 0,
   "metadata": {
    "application/vnd.databricks.v1+cell": {
     "cellMetadata": {
      "byteLimit": 2048000,
      "rowLimit": 10000
     },
     "inputWidgets": {},
     "nuid": "9e1f56ff-855c-4286-8d1e-2bb5e9cb2621",
     "showTitle": false,
     "tableResultSettingsMap": {},
     "title": ""
    }
   },
   "outputs": [],
   "source": [
    "icd_pr = pat_cond_fin.withColumn(\"ICD_COV_EXPLODED\", F.explode(\"ICD_COV\")) \\\n",
    "    .withColumn(\"ICD_PR_EXPLODED\", F.explode(\"ICD_PR\")) \\\n",
    "    .select('MEDREC_KEY', 'ICD_COV', 'ICD_PR',\n",
    "    F.when((F.col(\"ICD_COV_EXPLODED\").rlike(\"|\".join(neuro))) | (F.col(\"ICD_PR_EXPLODED\").rlike(\"|\".join(neuro))), 1).otherwise(0).alias('NEURO_PR'),\n",
    "    F.when((F.col(\"ICD_COV_EXPLODED\").rlike(\"|\".join(metab))) | (F.col(\"ICD_PR_EXPLODED\").rlike(\"|\".join(metab))), 1).otherwise(0).alias('METAB_PR'),\n",
    "    F.when((F.col(\"ICD_COV_EXPLODED\").rlike(\"|\".join(resp))) | (F.col(\"ICD_PR_EXPLODED\").rlike(\"|\".join(resp))), 1).otherwise(0).alias('RESP_PR'),\n",
    "    F.when((F.col(\"ICD_COV_EXPLODED\").rlike(\"|\".join(card_ren))) | (F.col(\"ICD_PR_EXPLODED\").rlike(\"|\".join(card_ren))), 1).otherwise(0).alias('CARD_REN_PR'),\n",
    "    F.when((F.col(\"ICD_COV_EXPLODED\").rlike(\"|\".join(gen))) | (F.col(\"ICD_PR_EXPLODED\").rlike(\"|\".join(gen))), 1).otherwise(0).alias('GEN_PR'),\n",
    "    F.when((F.col(\"ICD_COV_EXPLODED\").rlike(\"|\".join(dige))) | (F.col(\"ICD_PR_EXPLODED\").rlike(\"|\".join(dige))), 1).otherwise(0).alias('DIGE_PR'),\n",
    "    F.when((F.col(\"ICD_COV_EXPLODED\").rlike(\"|\".join(covid))) | (F.col(\"ICD_PR_EXPLODED\").rlike(\"|\".join(covid))), 1).otherwise(0).alias('COVID_PR')).distinct()"
   ]
  },
  {
   "cell_type": "code",
   "execution_count": 0,
   "metadata": {
    "application/vnd.databricks.v1+cell": {
     "cellMetadata": {
      "byteLimit": 2048000,
      "rowLimit": 10000
     },
     "inputWidgets": {},
     "nuid": "98f73de8-c7ba-4ad0-9ce0-b4c9b5628083",
     "showTitle": false,
     "tableResultSettingsMap": {},
     "title": ""
    }
   },
   "outputs": [],
   "source": [
    "icd_fo = pat_cond_fin.withColumn(\"ICD_FO_EXPLODED\", F.explode(\"ICD_FO\")) \\\n",
    "    .select('MEDREC_KEY', 'ICD_FO', 'FO_TIME',\n",
    "    F.when((F.col(\"ICD_FO_EXPLODED\").rlike(\"|\".join(neuro))), 1).otherwise(0).alias('NEURO_FO'),\n",
    "    F.when((F.col(\"ICD_FO_EXPLODED\").rlike(\"|\".join(metab))), 1).otherwise(0).alias('METAB_FO'),\n",
    "    F.when((F.col(\"ICD_FO_EXPLODED\").rlike(\"|\".join(resp))), 1).otherwise(0).alias('RESP_FO'),\n",
    "    F.when((F.col(\"ICD_FO_EXPLODED\").rlike(\"|\".join(card_ren))), 1).otherwise(0).alias('CARD_REN_FO'),\n",
    "    F.when((F.col(\"ICD_FO_EXPLODED\").rlike(\"|\".join(gen))), 1).otherwise(0).alias('GEN_FO'),\n",
    "    F.when((F.col(\"ICD_FO_EXPLODED\").rlike(\"|\".join(dige))), 1).otherwise(0).alias('DIGE_FO'),\n",
    "    F.when((F.col(\"ICD_FO_EXPLODED\").rlike(\"|\".join(covid))), 1).otherwise(0).alias('COVID_FO')).distinct()"
   ]
  },
  {
   "cell_type": "code",
   "execution_count": 0,
   "metadata": {
    "application/vnd.databricks.v1+cell": {
     "cellMetadata": {
      "byteLimit": 2048000,
      "rowLimit": 10000
     },
     "inputWidgets": {},
     "nuid": "3fff877f-2674-48de-8bac-5eaf19c41eb4",
     "showTitle": false,
     "tableResultSettingsMap": {},
     "title": ""
    }
   },
   "outputs": [],
   "source": [
    "icd_fo.display()"
   ]
  },
  {
   "cell_type": "code",
   "execution_count": 0,
   "metadata": {
    "application/vnd.databricks.v1+cell": {
     "cellMetadata": {
      "byteLimit": 2048000,
      "rowLimit": 10000
     },
     "inputWidgets": {},
     "nuid": "a49c5c33-ec86-4bf2-b89b-2d2659767a94",
     "showTitle": false,
     "tableResultSettingsMap": {},
     "title": ""
    }
   },
   "outputs": [],
   "source": [
    "icd_pr1=icd_pr.groupBy('MEDREC_KEY').agg(\n",
    "F.max('NEURO_PR').alias('NEURO_PR'),\n",
    "F.max('METAB_PR').alias('METAB_PR'),\n",
    "F.max('RESP_PR').alias('RESP_PR'),\n",
    "F.max('CARD_REN_PR').alias('CARD_REN_PR'),\n",
    "F.max('GEN_PR').alias('GEN_PR'),\n",
    "F.max('DIGE_PR').alias('DIGE_PR'),\n",
    "F.max('COVID_PR').alias('COVID_PR'))"
   ]
  },
  {
   "cell_type": "code",
   "execution_count": 0,
   "metadata": {
    "application/vnd.databricks.v1+cell": {
     "cellMetadata": {
      "byteLimit": 2048000,
      "rowLimit": 10000
     },
     "inputWidgets": {},
     "nuid": "1b559520-938e-4331-938d-0cf2a9c8e018",
     "showTitle": false,
     "tableResultSettingsMap": {},
     "title": ""
    }
   },
   "outputs": [],
   "source": [
    "icd_fo1=icd_fo.groupBy('MEDREC_KEY', 'FO_TIME').agg(\n",
    "F.max('NEURO_FO').alias('NEURO_FO'),\n",
    "F.max('METAB_FO').alias('METAB_FO'),\n",
    "F.max('RESP_FO').alias('RESP_FO'),\n",
    "F.max('CARD_REN_FO').alias('CARD_REN_FO'),\n",
    "F.max('GEN_FO').alias('GEN_FO'),\n",
    "F.max('DIGE_FO').alias('DIGE_FO'),\n",
    "F.max('COVID_FO').alias('COVID_FO'))"
   ]
  },
  {
   "cell_type": "code",
   "execution_count": 0,
   "metadata": {
    "application/vnd.databricks.v1+cell": {
     "cellMetadata": {
      "byteLimit": 2048000,
      "rowLimit": 10000
     },
     "inputWidgets": {},
     "nuid": "d62d429b-22ac-468e-a94c-943bb12fef8f",
     "showTitle": false,
     "tableResultSettingsMap": {},
     "title": ""
    }
   },
   "outputs": [],
   "source": [
    "icd_fo1.display()"
   ]
  },
  {
   "cell_type": "code",
   "execution_count": 0,
   "metadata": {
    "application/vnd.databricks.v1+cell": {
     "cellMetadata": {
      "byteLimit": 2048000,
      "rowLimit": 10000
     },
     "inputWidgets": {},
     "nuid": "82648640-aebf-4653-ba15-397b46b6a78d",
     "showTitle": false,
     "tableResultSettingsMap": {},
     "title": ""
    }
   },
   "outputs": [],
   "source": [
    "icd_fin=icd_pr1.join(icd_fo1, on='MEDREC_KEY', how='LEFT').orderBy('MEDREC_KEY')\n",
    "\n",
    "#icd_fin.display()"
   ]
  },
  {
   "cell_type": "code",
   "execution_count": 0,
   "metadata": {
    "application/vnd.databricks.v1+cell": {
     "cellMetadata": {
      "byteLimit": 2048000,
      "rowLimit": 10000
     },
     "inputWidgets": {},
     "nuid": "028b719c-b5d9-47c7-9bca-d7279b3d8986",
     "showTitle": false,
     "tableResultSettingsMap": {},
     "title": ""
    }
   },
   "outputs": [],
   "source": [
    "prior_fo_fin=chg_fin_2.join(icd_fin, on='MEDREC_KEY', how='LEFT')"
   ]
  },
  {
   "cell_type": "code",
   "execution_count": 0,
   "metadata": {
    "application/vnd.databricks.v1+cell": {
     "cellMetadata": {
      "byteLimit": 2048000,
      "rowLimit": 10000
     },
     "inputWidgets": {},
     "nuid": "0b397adc-9615-444a-ab2b-4cfe3ab3f1ec",
     "showTitle": false,
     "tableResultSettingsMap": {},
     "title": ""
    }
   },
   "outputs": [],
   "source": [
    "prior_fo_fin=chg_fin_2.join(icd_fin, on='MEDREC_KEY', how='LEFT')\\\n",
    ".drop('PAT_KEY', 'ADMIT_DATE', 'DISCHARGE_DATE', 'PROV_ID', 'I_O_IND', 'PAT_TYPE', 'INP', 'COV_COUNT', 'PAT_KEY_PR', 'ADMIT_DATE_PR', 'YEAR_PRIOR',\n",
    "'PRIOR_YR',\n",
    "'INPATIENT',\n",
    "'PAT_KEY_FO',\n",
    "'ADMIT_DATE_FO',\n",
    "'YEAR_FO',\n",
    "'FO_YR',\n",
    "'PRO FEE', chg_fin_2.FO_TIME)\\\n",
    ".orderBy('MEDREC_KEY')\\\n",
    ".distinct()\n",
    "\n",
    "\n",
    "prior_fo_fin.display()"
   ]
  },
  {
   "cell_type": "code",
   "execution_count": 0,
   "metadata": {
    "application/vnd.databricks.v1+cell": {
     "cellMetadata": {
      "byteLimit": 2048000,
      "rowLimit": 10000
     },
     "inputWidgets": {},
     "nuid": "0cbe9d5a-bff0-48aa-b34f-d16345423d31",
     "showTitle": false,
     "tableResultSettingsMap": {},
     "title": ""
    }
   },
   "outputs": [],
   "source": [
    "fin_count = prior_fo_fin.select('MEDREC_KEY').distinct().count()\n",
    "\n",
    "print(fin_count)"
   ]
  },
  {
   "cell_type": "code",
   "execution_count": 0,
   "metadata": {
    "application/vnd.databricks.v1+cell": {
     "cellMetadata": {
      "byteLimit": 2048000,
      "rowLimit": 10000
     },
     "inputWidgets": {},
     "nuid": "2a92bffb-380c-4803-8264-c91889c8c173",
     "showTitle": false,
     "tableResultSettingsMap": {},
     "title": ""
    }
   },
   "outputs": [],
   "source": [
    "def clean_column_name(name):\n",
    "    # Keep only alphanumeric characters and underscores\n",
    "    return re.sub(r'[^a-zA-Z0-9_]', '_', name)\n",
    "\n",
    "cleaned_columns = [clean_column_name(col) for col in prior_fo_fin.columns]\n",
    "prior_fo_fin_cleaned = prior_fo_fin.toDF(*cleaned_columns)\n",
    "\n",
    "prior_fo_fin_cleaned=prior_fo_fin_cleaned.fillna(0)"
   ]
  },
  {
   "cell_type": "code",
   "execution_count": 0,
   "metadata": {
    "application/vnd.databricks.v1+cell": {
     "cellMetadata": {
      "byteLimit": 2048000,
      "rowLimit": 10000
     },
     "inputWidgets": {},
     "nuid": "dc6d8d6e-edfd-43bd-9936-defad2e48a29",
     "showTitle": false,
     "tableResultSettingsMap": {},
     "title": ""
    }
   },
   "outputs": [],
   "source": [
    "prior_fo_fin_cleaned.orderBy('MEDREC_KEY').display()"
   ]
  },
  {
   "cell_type": "code",
   "execution_count": 0,
   "metadata": {
    "application/vnd.databricks.v1+cell": {
     "cellMetadata": {
      "byteLimit": 2048000,
      "rowLimit": 10000
     },
     "inputWidgets": {},
     "nuid": "02ec6ce1-6917-4400-a83c-53bec9385a24",
     "showTitle": false,
     "tableResultSettingsMap": {},
     "title": ""
    }
   },
   "outputs": [],
   "source": [
    "(prior_fo_fin_cleaned\n",
    " .coalesce(1)\n",
    " .write\n",
    " .format('delta')\n",
    " .mode('overwrite')\n",
    " .saveAsTable('cdh_premier_ml.Bart_Pcc_2')\n",
    ")"
   ]
  }
 ],
 "metadata": {
  "application/vnd.databricks.v1+notebook": {
   "computePreferences": null,
   "dashboards": [],
   "environmentMetadata": {
    "base_environment": "",
    "environment_version": "2"
   },
   "inputWidgetPreferences": null,
   "language": "python",
   "notebookMetadata": {
    "pythonIndentUnit": 4
   },
   "notebookName": "(Clone) PCC",
   "widgets": {}
  },
  "language_info": {
   "name": "python"
  }
 },
 "nbformat": 4,
 "nbformat_minor": 0
}
